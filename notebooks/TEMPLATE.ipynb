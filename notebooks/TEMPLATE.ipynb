{
 "cells": [
  {
   "cell_type": "code",
   "execution_count": 1,
   "metadata": {},
   "outputs": [
    {
     "name": "stderr",
     "output_type": "stream",
     "text": [
      "2025-02-03 07:49:15,920 - INFO - Loading data catalogue from /orcd/data/omarabu/001/njwfish/omnicell/configs/catalogue/repogle_k562_essential_raw.yaml\n",
      "2025-02-03 07:49:15,923 - INFO - Loading data catalogue from /orcd/data/omarabu/001/njwfish/omnicell/configs/catalogue/satija_IFNB_raw.yaml\n",
      "2025-02-03 07:49:15,925 - INFO - Loading data catalogue from /orcd/data/omarabu/001/njwfish/omnicell/configs/catalogue/adamson_INCOMPLETE.yaml\n",
      "2025-02-03 07:49:15,926 - INFO - Loading data catalogue from /orcd/data/omarabu/001/njwfish/omnicell/configs/catalogue/satija_IFNB_HVG.yaml\n",
      "2025-02-03 07:49:15,927 - INFO - Loading data catalogue from /orcd/data/omarabu/001/njwfish/omnicell/configs/catalogue/kang.yaml\n",
      "2025-02-03 07:49:15,928 - INFO - Loading data catalogue from /orcd/data/omarabu/001/njwfish/omnicell/configs/catalogue/essential_gene_knockouts_raw.yaml\n",
      "2025-02-03 07:49:15,930 - INFO - Loading data catalogue from /orcd/data/omarabu/001/njwfish/omnicell/configs/catalogue/satija_IFNG_raw_INCOMPLETE.yaml\n",
      "2025-02-03 07:49:15,931 - INFO - Loading data catalogue from /orcd/data/omarabu/001/njwfish/omnicell/configs/catalogue/satija_IFNG_raw.yaml\n",
      "2025-02-03 07:49:15,932 - INFO - Loading training data at path: /orcd/data/omarabu/001/Omnicell_datasets/repogle_k562_essential_raw/K562_essential_raw_singlecell_01.h5ad\n"
     ]
    },
    {
     "name": "stdout",
     "output_type": "stream",
     "text": [
      "Using device: cuda\n"
     ]
    },
    {
     "name": "stderr",
     "output_type": "stream",
     "text": [
      "2025-02-03 07:49:19,824 - INFO - Loaded unpreprocessed data, # of data points: 310385, # of genes: 8563.\n",
      "2025-02-03 07:49:19,825 - INFO - Preprocessing training data\n",
      "2025-02-03 07:49:19,826 - INFO - Using identity features for perturbations\n",
      "2025-02-03 07:49:19,947 - INFO - Removing observations with perturbations not in the dataset as a column\n",
      "2025-02-03 07:49:20,132 - INFO - Removed 189 perturbations that were not in the dataset columns and 0 perturbations that did not have an embedding for a total of 189 perturbations removed out of an initial 2058 perturbations\n",
      "/orcd/data/omarabu/001/njwfish/omnicell/notebooks/../omnicell/data/loader.py:175: ImplicitModificationWarning: Setting element `.obsm['embedding']` of view, initializing view as actual.\n",
      "  adata.obsm[\"embedding\"] = adata.X.toarray().astype('float32')\n",
      "2025-02-03 07:49:56,276 - INFO - Doing OOD split\n"
     ]
    },
    {
     "name": "stdout",
     "output_type": "stream",
     "text": [
      "Data loaded:\n",
      "- Number of cells: 279630\n",
      "- Input dimension: 8563\n",
      "- Number of perturbations: 1850\n"
     ]
    }
   ],
   "source": [
    "import sys\n",
    "import yaml\n",
    "import torch\n",
    "import logging\n",
    "from pathlib import Path\n",
    "\n",
    "# Add the path to the directory containing the omnicell package\n",
    "# Assuming the omnicell package is in the parent directory of your notebook\n",
    "sys.path.append('..')  # Adjust this path as needed\n",
    "\n",
    "import yaml\n",
    "import torch\n",
    "import logging\n",
    "from pathlib import Path\n",
    "from omnicell.config.config import Config, ETLConfig, ModelConfig, DatasplitConfig, EvalConfig, EmbeddingConfig\n",
    "from omnicell.data.loader import DataLoader\n",
    "from omnicell.constants import PERT_KEY, GENE_EMBEDDING_KEY, CONTROL_PERT\n",
    "from train import get_model\n",
    "\n",
    "# Set up logging\n",
    "logging.basicConfig(level=logging.INFO, format='%(asctime)s - %(levelname)s - %(message)s')\n",
    "logger = logging.getLogger(__name__)\n",
    "\n",
    "# Configure paths\n",
    "MODEL_CONFIG = ModelConfig.from_yaml(\"/orcd/data/omarabu/001/njwfish/omnicell/configs/models/control_predictor.yaml\")\n",
    "ETL_CONFIG = ETLConfig(name = \"no_preprocessing\", log1p = False, drop_unmatched_perts = True)\n",
    "EMBEDDING_CONFIG = EmbeddingConfig(pert_embedding='GenePT')\n",
    "\n",
    "SPLIT_CONFIG = DatasplitConfig.from_yaml(\"/orcd/data/omarabu/001/njwfish/omnicell/configs/splits/repogle_k562_essential_raw/random_splits/rs_accP_k562_ood_ss:ns_20_2_most_pert_0.1/split_0/split_config.yaml\")\n",
    "EVAL_CONFIG = EvalConfig.from_yaml(\"/orcd/data/omarabu/001/njwfish/omnicell/configs/splits/repogle_k562_essential_raw/random_splits/rs_accP_k562_ood_ss:ns_20_2_most_pert_0.1/split_0/eval_config.yaml\")  # Set this if you want to run evaluations\n",
    "\n",
    "# Load configurations\n",
    "config = Config(model_config=MODEL_CONFIG,\n",
    "                 etl_config=ETL_CONFIG, \n",
    "                 datasplit_config=SPLIT_CONFIG, \n",
    "                 eval_config=EVAL_CONFIG)\n",
    "\n",
    "\n",
    "\n",
    "\n",
    "#Alternatively you can initialize the config objects manually as follows:\n",
    "# etl_config = ETLConfig(name = XXX, log1p = False, drop_unmatched_perts = False, ...)\n",
    "# model_config = ...\n",
    "# embedding_config = ...\n",
    "# datasplit_config = ...\n",
    "# eval_config = ...\n",
    "# config = Config(etl_config, model_config, datasplit_config, eval_config)\n",
    "\n",
    "# Set up device\n",
    "device = torch.device('cuda' if torch.cuda.is_available() else 'cpu')\n",
    "print(f\"Using device: {device}\")\n",
    "\n",
    "# Initialize data loader and load training data\n",
    "loader = DataLoader(config)\n",
    "adata, pert_rep_map = loader.get_training_data()\n",
    "\n",
    "# Get dimensions and perturbation IDs\n",
    "input_dim = adata.obsm['embedding'].shape[1]\n",
    "device = torch.device('cuda' if torch.cuda.is_available() else 'cpu')\n",
    "pert_ids = adata.obs[PERT_KEY].unique()\n",
    "gene_emb_dim = adata.varm[GENE_EMBEDDING_KEY].shape[1] if GENE_EMBEDDING_KEY in adata.varm else None\n",
    "\n",
    "print(f\"Data loaded:\")\n",
    "print(f\"- Number of cells: {adata.shape[0]}\")\n",
    "print(f\"- Input dimension: {input_dim}\")\n",
    "print(f\"- Number of perturbations: {len(pert_ids)}\")\n",
    "\n"
   ]
  },
  {
   "cell_type": "code",
   "execution_count": 2,
   "metadata": {},
   "outputs": [
    {
     "name": "stderr",
     "output_type": "stream",
     "text": [
      "2025-02-03 07:50:03,348 - INFO - Control model selected\n"
     ]
    }
   ],
   "source": [
    "model = get_model(config.model_config.name, config.model_config.parameters, loader, pert_rep_map, input_dim, device, pert_ids)"
   ]
  },
  {
   "cell_type": "code",
   "execution_count": 3,
   "metadata": {},
   "outputs": [],
   "source": [
    "model.train(adata, None)"
   ]
  },
  {
   "cell_type": "code",
   "execution_count": 30,
   "metadata": {},
   "outputs": [
    {
     "data": {
      "text/plain": [
       "(10691,)"
      ]
     },
     "execution_count": 30,
     "metadata": {},
     "output_type": "execute_result"
    }
   ],
   "source": [
    "\n",
    "np.sum(np.expm1(ctrl_data / 10_000), axis=1).shape\n"
   ]
  },
  {
   "cell_type": "code",
   "execution_count": null,
   "metadata": {},
   "outputs": [
    {
     "name": "stderr",
     "output_type": "stream",
     "text": [
      "2025-02-03 07:57:51,739 - INFO - Running evaluation\n",
      "2025-02-03 07:57:51,754 - INFO - Loading data catalogue from /orcd/data/omarabu/001/njwfish/omnicell/configs/catalogue/repogle_k562_essential_raw.yaml\n",
      "2025-02-03 07:57:51,756 - INFO - Loading data catalogue from /orcd/data/omarabu/001/njwfish/omnicell/configs/catalogue/satija_IFNB_raw.yaml\n",
      "2025-02-03 07:57:51,757 - INFO - Loading data catalogue from /orcd/data/omarabu/001/njwfish/omnicell/configs/catalogue/adamson_INCOMPLETE.yaml\n",
      "2025-02-03 07:57:51,759 - INFO - Loading data catalogue from /orcd/data/omarabu/001/njwfish/omnicell/configs/catalogue/satija_IFNB_HVG.yaml\n",
      "2025-02-03 07:57:51,760 - INFO - Loading data catalogue from /orcd/data/omarabu/001/njwfish/omnicell/configs/catalogue/kang.yaml\n",
      "2025-02-03 07:57:51,761 - INFO - Loading data catalogue from /orcd/data/omarabu/001/njwfish/omnicell/configs/catalogue/essential_gene_knockouts_raw.yaml\n",
      "2025-02-03 07:57:51,762 - INFO - Loading data catalogue from /orcd/data/omarabu/001/njwfish/omnicell/configs/catalogue/satija_IFNG_raw_INCOMPLETE.yaml\n",
      "2025-02-03 07:57:51,763 - INFO - Loading data catalogue from /orcd/data/omarabu/001/njwfish/omnicell/configs/catalogue/satija_IFNG_raw.yaml\n"
     ]
    }
   ],
   "source": [
    "import numpy as np\n",
    "\n",
    "logger.info(\"Running evaluation\")\n",
    "\n",
    "# evaluate each pair of cells and perts\n",
    "eval_dict = {}\n",
    "for cell_id, pert_id, ctrl_data, gt_data in loader.get_eval_data():\n",
    "    logger.debug(f\"Making predictions for cell: {cell_id}, pert: {pert_id}\")\n",
    "\n",
    "    preds = model.make_predict(ctrl_data, pert_id, cell_id)\n",
    "    eval_dict[(cell_id, pert_id)] = (ctrl_data.X.toarray(), gt_data.X.toarray(), preds)\n",
    "    break\n",
    "    \n",
    "if not config.etl_config.log1p:\n",
    "    for (cell, pert) in eval_dict:  \n",
    "        ctrl_data, gt_data, pred_pert = eval_dict[(cell, pert)]\n",
    "        # normalize to sum to 1\n",
    "        ctrl_data = ctrl_data / ctrl_data.sum(axis=1).reshape(-1, 1) * 10_000\n",
    "        gt_data = gt_data / gt_data.sum(axis=1).reshape(-1, 1) * 10_000\n",
    "        pred_pert = pred_pert / pred_pert.sum(axis=1).reshape(-1, 1) * 10_000\n",
    "        eval_dict[(cell, pert)] =  (np.log1p(ctrl_data), np.log1p(gt_data), np.log1p(pred_pert))\n"
   ]
  },
  {
   "cell_type": "code",
   "execution_count": 32,
   "metadata": {},
   "outputs": [
    {
     "name": "stderr",
     "output_type": "stream",
     "text": [
      "/home/njwfish/miniconda3/envs/omnicell/lib/python3.9/site-packages/anndata/_core/anndata.py:1754: UserWarning: Observation names are not unique. To make them unique, call `.obs_names_make_unique`.\n",
      "  utils.warn_names_duplicates(\"obs\")\n",
      "/home/njwfish/miniconda3/envs/omnicell/lib/python3.9/site-packages/anndata/_core/anndata.py:1754: UserWarning: Observation names are not unique. To make them unique, call `.obs_names_make_unique`.\n",
      "  utils.warn_names_duplicates(\"obs\")\n"
     ]
    }
   ],
   "source": [
    "import scanpy as sc\n",
    "from omnicell.evaluation.utils import get_DEGs, get_eval, get_DEG_Coverage_Recall, get_DEGs_overlaps\n",
    "pval_threshold = 0.05\n",
    "log_fold_change_threshold = 0.0\n",
    "\n",
    "results_dict = {}\n",
    "for (cell, pert) in eval_dict:  \n",
    "    ctrl_data, gt_data, pred_pert = eval_dict[(cell, pert)]\n",
    "\n",
    "    pred_pert = sc.AnnData(X=pred_pert)\n",
    "    true_pert = sc.AnnData(X=gt_data)\n",
    "    control = sc.AnnData(X=ctrl_data)\n",
    "\n",
    "    logger.debug(f\"Getting ground Truth DEGs for {pert} and {cell}\")\n",
    "    true_DEGs_df = get_DEGs(control, true_pert)\n",
    "    signif_true_DEG = true_DEGs_df[true_DEGs_df['pvals_adj'] < pval_threshold]\n",
    "\n",
    "    logger.debug(f\"Number of significant DEGS from ground truth: {signif_true_DEG.shape[0]}\")\n",
    "\n",
    "    logger.debug(f\"Getting predicted DEGs for {pert} and {cell}\")\n",
    "    pred_DEGs_df = get_DEGs(control, pred_pert)\n",
    "\n",
    "\n",
    "    logger.debug(f\"Getting evaluation metrics for {pert} and {cell}\")\n",
    "    r2_and_mse = get_eval(control, true_pert, pred_pert, true_DEGs_df, [100,50,20], pval_threshold, log_fold_change_threshold)\n",
    "\n",
    "    logger.debug(f\"Getting DEG overlaps for {pert} and {cell}\")\n",
    "    DEGs_overlaps = get_DEGs_overlaps(true_DEGs_df, pred_DEGs_df, [100,50,20], pval_threshold, log_fold_change_threshold)\n",
    "\n",
    "    results_dict[(cell, pert)] = (r2_and_mse, DEGs_overlaps)\n",
    "\n"
   ]
  },
  {
   "cell_type": "code",
   "execution_count": null,
   "metadata": {},
   "outputs": [],
   "source": []
  },
  {
   "cell_type": "code",
   "execution_count": 33,
   "metadata": {},
   "outputs": [
    {
     "name": "stdout",
     "output_type": "stream",
     "text": [
      "Cell: k562, Pert: RPL15\n",
      "DEGs Overlaps: {'Overlap_in_top_2157_DEGs': 0, 'Overlap_in_top_100_DEGs': 0, 'Overlap_in_top_50_DEGs': 0, 'Overlap_in_top_20_DEGs': 0, 'Jaccard': 0.0}\n",
      "----------------------------------------------------------------------------------------------------\n"
     ]
    }
   ],
   "source": [
    "for (cell, pert) in results_dict:\n",
    "    r2_and_mse, DEGs_overlaps = results_dict[(cell, pert)]\n",
    "    print(f\"Cell: {cell}, Pert: {pert}\")\n",
    "    # print(f\"R2 and MSE: {r2_and_mse}\")\n",
    "    print(f\"DEGs Overlaps: {DEGs_overlaps}\")\n",
    "    print(\"-\"*100)\n"
   ]
  },
  {
   "cell_type": "code",
   "execution_count": 34,
   "metadata": {},
   "outputs": [
    {
     "data": {
      "text/plain": [
       "{'all_genes_mean_sub_diff_R': np.float32(0.044360835),\n",
       " 'all_genes_mean_sub_diff_R2': np.float32(0.0019678837),\n",
       " 'all_genes_mean_sub_diff_MSE': np.float32(0.008922958),\n",
       " 'all_genes_mean_fold_diff_R': np.float32(0.31526208),\n",
       " 'all_genes_mean_fold_diff_R2': np.float32(0.09939018),\n",
       " 'all_genes_mean_fold_diff_MSE': np.float32(2.6874669),\n",
       " 'all_genes_mean_R': np.float32(0.9835983),\n",
       " 'all_genes_mean_R2': np.float32(0.9674656),\n",
       " 'all_genes_mean_MSE': np.float32(0.008922958),\n",
       " 'all_genes_var_R': np.float32(0.8794324),\n",
       " 'all_genes_var_R2': np.float32(0.7734013),\n",
       " 'all_genes_var_MSE': np.float32(0.003983705),\n",
       " 'all_genes_corr_mtx_R': np.float64(0.18084320478463037),\n",
       " 'all_genes_corr_mtx_R2': np.float64(0.032704264716775754),\n",
       " 'all_genes_corr_mtx_MSE': np.float64(0.00736184442427846),\n",
       " 'all_genes_cov_mtx_R': np.float64(0.23101150060374195),\n",
       " 'all_genes_cov_mtx_R2': np.float64(0.05336631341119267),\n",
       " 'all_genes_cov_mtx_MSE': np.float64(0.00021786897159175255),\n",
       " 'Top_2157_DEGs_sub_diff_R': np.float32(0.01846323),\n",
       " 'Top_2157_DEGs_sub_diff_R2': np.float32(0.00034089087),\n",
       " 'Top_2157_DEGs_sub_diff_MSE': np.float32(0.030774895),\n",
       " 'Top_2157_DEGs_fold_diff_R': np.float32(-0.03784502),\n",
       " 'Top_2157_DEGs_fold_diff_R2': np.float32(0.0014322455),\n",
       " 'Top_2157_DEGs_fold_diff_MSE': np.float32(10.646144),\n",
       " 'Top_2157_DEGs_mean_R': np.float32(0.97670144),\n",
       " 'Top_2157_DEGs_mean_R2': np.float32(0.9539457),\n",
       " 'Top_2157_DEGs_mean_MSE': np.float32(0.030774895),\n",
       " 'Top_2157_DEGs_var_R': np.float32(0.7182312),\n",
       " 'Top_2157_DEGs_var_R2': np.float32(0.5158561),\n",
       " 'Top_2157_DEGs_var_MSE': np.float32(0.010773618),\n",
       " 'Top_2157_DEGs_corr_mtx_R': np.float64(0.3613835054670755),\n",
       " 'Top_2157_DEGs_corr_mtx_R2': np.float64(0.1305980380236718),\n",
       " 'Top_2157_DEGs_corr_mtx_MSE': np.float64(0.012070054247766056),\n",
       " 'Top_2157_DEGs_cov_mtx_R': np.float64(0.34424923822218023),\n",
       " 'Top_2157_DEGs_cov_mtx_R2': np.float64(0.1185075380165514),\n",
       " 'Top_2157_DEGs_cov_mtx_MSE': np.float64(0.0007969226972532151),\n",
       " 'Top_100_DEGs_sub_diff_R': np.float32(-0.107334964),\n",
       " 'Top_100_DEGs_sub_diff_R2': np.float32(0.011520795),\n",
       " 'Top_100_DEGs_sub_diff_MSE': np.float32(0.21254574),\n",
       " 'Top_100_DEGs_fold_diff_R': np.float32(-0.05058736),\n",
       " 'Top_100_DEGs_fold_diff_R2': np.float32(0.002559081),\n",
       " 'Top_100_DEGs_fold_diff_MSE': np.float32(205.9442),\n",
       " 'Top_100_DEGs_mean_R': np.float32(0.95608526),\n",
       " 'Top_100_DEGs_mean_R2': np.float32(0.91409904),\n",
       " 'Top_100_DEGs_mean_MSE': np.float32(0.21254574),\n",
       " 'Top_100_DEGs_var_R': np.float32(0.29924202),\n",
       " 'Top_100_DEGs_var_R2': np.float32(0.08954579),\n",
       " 'Top_100_DEGs_var_MSE': np.float32(0.08608523),\n",
       " 'Top_100_DEGs_corr_mtx_R': np.float64(0.5573672597254479),\n",
       " 'Top_100_DEGs_corr_mtx_R2': np.float64(0.31065826221385484),\n",
       " 'Top_100_DEGs_corr_mtx_MSE': np.float64(0.11745404732608583),\n",
       " 'Top_100_DEGs_cov_mtx_R': np.float64(0.46144951939282475),\n",
       " 'Top_100_DEGs_cov_mtx_R2': np.float64(0.21293565894786895),\n",
       " 'Top_100_DEGs_cov_mtx_MSE': np.float64(0.022106702348319823),\n",
       " 'Top_50_DEGs_sub_diff_R': np.float32(-0.12652194),\n",
       " 'Top_50_DEGs_sub_diff_R2': np.float32(0.016007803),\n",
       " 'Top_50_DEGs_sub_diff_MSE': np.float32(0.28065467),\n",
       " 'Top_50_DEGs_fold_diff_R': np.float32(-0.06668257),\n",
       " 'Top_50_DEGs_fold_diff_R2': np.float32(0.004446565),\n",
       " 'Top_50_DEGs_fold_diff_MSE': np.float32(339.00894),\n",
       " 'Top_50_DEGs_mean_R': np.float32(0.95431876),\n",
       " 'Top_50_DEGs_mean_R2': np.float32(0.9107243),\n",
       " 'Top_50_DEGs_mean_MSE': np.float32(0.28065467),\n",
       " 'Top_50_DEGs_var_R': np.float32(0.2245868),\n",
       " 'Top_50_DEGs_var_R2': np.float32(0.05043923),\n",
       " 'Top_50_DEGs_var_MSE': np.float32(0.13172536),\n",
       " 'Top_50_DEGs_corr_mtx_R': np.float64(0.6004111553611607),\n",
       " 'Top_50_DEGs_corr_mtx_R2': np.float64(0.3604935554821239),\n",
       " 'Top_50_DEGs_corr_mtx_MSE': np.float64(0.13034985843432292),\n",
       " 'Top_50_DEGs_cov_mtx_R': np.float64(0.4787982432173035),\n",
       " 'Top_50_DEGs_cov_mtx_R2': np.float64(0.22924775770797615),\n",
       " 'Top_50_DEGs_cov_mtx_MSE': np.float64(0.032494257541960746),\n",
       " 'Top_20_DEGs_sub_diff_R': np.float32(-0.19447228),\n",
       " 'Top_20_DEGs_sub_diff_R2': np.float32(0.037819467),\n",
       " 'Top_20_DEGs_sub_diff_MSE': np.float32(0.39595765),\n",
       " 'Top_20_DEGs_fold_diff_R': np.float32(-0.06654819),\n",
       " 'Top_20_DEGs_fold_diff_R2': np.float32(0.004428662),\n",
       " 'Top_20_DEGs_fold_diff_MSE': np.float32(557.76465),\n",
       " 'Top_20_DEGs_mean_R': np.float32(0.9467566),\n",
       " 'Top_20_DEGs_mean_R2': np.float32(0.89634806),\n",
       " 'Top_20_DEGs_mean_MSE': np.float32(0.39595765),\n",
       " 'Top_20_DEGs_var_R': np.float32(0.021058185),\n",
       " 'Top_20_DEGs_var_R2': np.float32(0.00044344715),\n",
       " 'Top_20_DEGs_var_MSE': np.float32(0.20797236),\n",
       " 'Top_20_DEGs_corr_mtx_R': np.float64(0.6374823264307073),\n",
       " 'Top_20_DEGs_corr_mtx_R2': np.float64(0.4063837165115069),\n",
       " 'Top_20_DEGs_corr_mtx_MSE': np.float64(0.13464226802977527),\n",
       " 'Top_20_DEGs_cov_mtx_R': np.float64(0.45960118906069),\n",
       " 'Top_20_DEGs_cov_mtx_R2': np.float64(0.2112332529860001),\n",
       " 'Top_20_DEGs_cov_mtx_MSE': np.float64(0.04811288227003925)}"
      ]
     },
     "execution_count": 34,
     "metadata": {},
     "output_type": "execute_result"
    }
   ],
   "source": [
    "r2_and_mse"
   ]
  },
  {
   "cell_type": "code",
   "execution_count": null,
   "metadata": {},
   "outputs": [],
   "source": []
  }
 ],
 "metadata": {
  "kernelspec": {
   "display_name": "omnicell",
   "language": "python",
   "name": "python3"
  },
  "language_info": {
   "codemirror_mode": {
    "name": "ipython",
    "version": 3
   },
   "file_extension": ".py",
   "mimetype": "text/x-python",
   "name": "python",
   "nbconvert_exporter": "python",
   "pygments_lexer": "ipython3",
   "version": "3.9.21"
  }
 },
 "nbformat": 4,
 "nbformat_minor": 2
}
