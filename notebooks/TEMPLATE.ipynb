{
 "cells": [
  {
   "cell_type": "code",
   "execution_count": 1,
   "metadata": {},
   "outputs": [
    {
     "name": "stderr",
     "output_type": "stream",
     "text": [
      "2025-02-02 15:09:11,101 - INFO - Loading data catalogue from /orcd/data/omarabu/001/njwfish/omnicell/configs/catalogue/repogle_k562_essential_raw.yaml\n",
      "2025-02-02 15:09:11,103 - INFO - Loading data catalogue from /orcd/data/omarabu/001/njwfish/omnicell/configs/catalogue/satija_IFNB_raw.yaml\n",
      "2025-02-02 15:09:11,104 - INFO - Loading data catalogue from /orcd/data/omarabu/001/njwfish/omnicell/configs/catalogue/adamson_INCOMPLETE.yaml\n",
      "2025-02-02 15:09:11,106 - INFO - Loading data catalogue from /orcd/data/omarabu/001/njwfish/omnicell/configs/catalogue/satija_IFNB_HVG.yaml\n",
      "2025-02-02 15:09:11,107 - INFO - Loading data catalogue from /orcd/data/omarabu/001/njwfish/omnicell/configs/catalogue/kang.yaml\n",
      "2025-02-02 15:09:11,108 - INFO - Loading data catalogue from /orcd/data/omarabu/001/njwfish/omnicell/configs/catalogue/essential_gene_knockouts_raw.yaml\n",
      "2025-02-02 15:09:11,110 - INFO - Loading data catalogue from /orcd/data/omarabu/001/njwfish/omnicell/configs/catalogue/satija_IFNG_raw_INCOMPLETE.yaml\n",
      "2025-02-02 15:09:11,111 - INFO - Loading data catalogue from /orcd/data/omarabu/001/njwfish/omnicell/configs/catalogue/satija_IFNG_raw.yaml\n",
      "2025-02-02 15:09:11,112 - INFO - Loading training data at path: /orcd/data/omarabu/001/Omnicell_datasets/repogle_k562_essential_raw/K562_essential_raw_singlecell_01.h5ad\n"
     ]
    },
    {
     "name": "stdout",
     "output_type": "stream",
     "text": [
      "Using device: cuda\n"
     ]
    },
    {
     "name": "stderr",
     "output_type": "stream",
     "text": [
      "2025-02-02 15:09:17,892 - INFO - Loaded unpreprocessed data, # of data points: 310385, # of genes: 8563.\n",
      "2025-02-02 15:09:17,893 - INFO - Preprocessing training data\n",
      "2025-02-02 15:09:17,894 - INFO - Using identity features for perturbations\n",
      "2025-02-02 15:09:18,016 - INFO - Removing observations with perturbations not in the dataset as a column\n",
      "2025-02-02 15:09:18,205 - INFO - Removed 189 perturbations that were not in the dataset columns and 0 perturbations that did not have an embedding for a total of 189 perturbations removed out of an initial 2058 perturbations\n",
      "/orcd/data/omarabu/001/njwfish/omnicell/notebooks/../omnicell/data/loader.py:178: ImplicitModificationWarning: Setting element `.obsm['embedding']` of view, initializing view as actual.\n",
      "  adata.obsm[\"embedding\"] = adata.X.toarray().astype('float32')\n",
      "2025-02-02 15:10:44,354 - INFO - Doing OOD split\n"
     ]
    },
    {
     "name": "stdout",
     "output_type": "stream",
     "text": [
      "Data loaded:\n",
      "- Number of cells: 279630\n",
      "- Input dimension: 8563\n",
      "- Number of perturbations: 1850\n"
     ]
    }
   ],
   "source": [
    "import sys\n",
    "import yaml\n",
    "import torch\n",
    "import logging\n",
    "from pathlib import Path\n",
    "\n",
    "# Add the path to the directory containing the omnicell package\n",
    "# Assuming the omnicell package is in the parent directory of your notebook\n",
    "sys.path.append('..')  # Adjust this path as needed\n",
    "\n",
    "import yaml\n",
    "import torch\n",
    "import logging\n",
    "from pathlib import Path\n",
    "from omnicell.config.config import Config, ETLConfig, ModelConfig, DatasplitConfig, EvalConfig, EmbeddingConfig\n",
    "from omnicell.data.loader import DataLoader\n",
    "from omnicell.constants import PERT_KEY, GENE_EMBEDDING_KEY, CONTROL_PERT\n",
    "from train import get_model\n",
    "\n",
    "# Set up logging\n",
    "logging.basicConfig(level=logging.INFO, format='%(asctime)s - %(levelname)s - %(message)s')\n",
    "logger = logging.getLogger(__name__)\n",
    "\n",
    "# Configure paths\n",
    "MODEL_CONFIG = ModelConfig.from_yaml(\"/orcd/data/omarabu/001/njwfish/omnicell/configs/models/linear_mean_model.yaml\")\n",
    "ETL_CONFIG = ETLConfig(name = \"no_preprocessing\", log1p = False, drop_unmatched_perts = True)\n",
    "EMBEDDING_CONFIG = EmbeddingConfig(pert_embedding='GenePT')\n",
    "\n",
    "SPLIT_CONFIG = DatasplitConfig.from_yaml(\"/orcd/data/omarabu/001/njwfish/omnicell/configs/splits/repogle_k562_essential_raw/random_splits/rs_accP_k562_ood_ss:ns_20_2_most_pert_0.1/split_0/split_config.yaml\")\n",
    "EVAL_CONFIG = EvalConfig.from_yaml(\"/orcd/data/omarabu/001/njwfish/omnicell/configs/splits/repogle_k562_essential_raw/random_splits/rs_accP_k562_ood_ss:ns_20_2_most_pert_0.1/split_0/eval_config.yaml\")  # Set this if you want to run evaluations\n",
    "\n",
    "# Load configurations\n",
    "config = Config(model_config=MODEL_CONFIG,\n",
    "                 etl_config=ETL_CONFIG, \n",
    "                 datasplit_config=SPLIT_CONFIG, \n",
    "                 eval_config=EVAL_CONFIG)\n",
    "\n",
    "\n",
    "\n",
    "\n",
    "#Alternatively you can initialize the config objects manually as follows:\n",
    "# etl_config = ETLConfig(name = XXX, log1p = False, drop_unmatched_perts = False, ...)\n",
    "# model_config = ...\n",
    "# embedding_config = ...\n",
    "# datasplit_config = ...\n",
    "# eval_config = ...\n",
    "# config = Config(etl_config, model_config, datasplit_config, eval_config)\n",
    "\n",
    "# Set up device\n",
    "device = torch.device('cuda' if torch.cuda.is_available() else 'cpu')\n",
    "print(f\"Using device: {device}\")\n",
    "\n",
    "# Initialize data loader and load training data\n",
    "loader = DataLoader(config)\n",
    "adata, pert_rep_map = loader.get_training_data()\n",
    "\n",
    "# Get dimensions and perturbation IDs\n",
    "input_dim = adata.obsm['embedding'].shape[1]\n",
    "device = torch.device('cuda' if torch.cuda.is_available() else 'cpu')\n",
    "pert_ids = adata.obs[PERT_KEY].unique()\n",
    "gene_emb_dim = adata.varm[GENE_EMBEDDING_KEY].shape[1] if GENE_EMBEDDING_KEY in adata.varm else None\n",
    "\n",
    "print(f\"Data loaded:\")\n",
    "print(f\"- Number of cells: {adata.shape[0]}\")\n",
    "print(f\"- Input dimension: {input_dim}\")\n",
    "print(f\"- Number of perturbations: {len(pert_ids)}\")\n",
    "\n"
   ]
  },
  {
   "cell_type": "code",
   "execution_count": 3,
   "metadata": {},
   "outputs": [
    {
     "name": "stderr",
     "output_type": "stream",
     "text": [
      "2025-02-02 15:12:01,714 - INFO - Mean model selected\n"
     ]
    }
   ],
   "source": [
    "model = get_model(config.model_config.name, config.model_config.parameters, loader, pert_rep_map, input_dim, device, pert_ids)"
   ]
  },
  {
   "cell_type": "code",
   "execution_count": 5,
   "metadata": {},
   "outputs": [
    {
     "name": "stderr",
     "output_type": "stream",
     "text": [
      "/orcd/data/omarabu/001/njwfish/omnicell/notebooks/../omnicell/models/mean_models/model.py:72: FutureWarning: The default of observed=False is deprecated and will be changed to True in a future version of pandas. Pass observed=False to retain current behavior or observed=True to adopt the future default and silence this warning.\n",
      "  pert_means = df.groupby('perturbation').mean()\n"
     ]
    }
   ],
   "source": [
    "model.train(adata, None)"
   ]
  },
  {
   "cell_type": "code",
   "execution_count": 9,
   "metadata": {},
   "outputs": [
    {
     "name": "stderr",
     "output_type": "stream",
     "text": [
      "2025-02-02 15:15:01,881 - INFO - Running evaluation\n",
      "2025-02-02 15:15:01,882 - INFO - Loading data catalogue from /orcd/data/omarabu/001/njwfish/omnicell/configs/catalogue/repogle_k562_essential_raw.yaml\n",
      "2025-02-02 15:15:01,884 - INFO - Loading data catalogue from /orcd/data/omarabu/001/njwfish/omnicell/configs/catalogue/satija_IFNB_raw.yaml\n",
      "2025-02-02 15:15:01,885 - INFO - Loading data catalogue from /orcd/data/omarabu/001/njwfish/omnicell/configs/catalogue/adamson_INCOMPLETE.yaml\n",
      "2025-02-02 15:15:01,887 - INFO - Loading data catalogue from /orcd/data/omarabu/001/njwfish/omnicell/configs/catalogue/satija_IFNB_HVG.yaml\n",
      "2025-02-02 15:15:01,888 - INFO - Loading data catalogue from /orcd/data/omarabu/001/njwfish/omnicell/configs/catalogue/kang.yaml\n",
      "2025-02-02 15:15:01,889 - INFO - Loading data catalogue from /orcd/data/omarabu/001/njwfish/omnicell/configs/catalogue/essential_gene_knockouts_raw.yaml\n",
      "2025-02-02 15:15:01,891 - INFO - Loading data catalogue from /orcd/data/omarabu/001/njwfish/omnicell/configs/catalogue/satija_IFNG_raw_INCOMPLETE.yaml\n",
      "2025-02-02 15:15:01,892 - INFO - Loading data catalogue from /orcd/data/omarabu/001/njwfish/omnicell/configs/catalogue/satija_IFNG_raw.yaml\n"
     ]
    }
   ],
   "source": [
    "import numpy as np\n",
    "\n",
    "logger.info(\"Running evaluation\")\n",
    "\n",
    "# evaluate each pair of cells and perts\n",
    "eval_dict = {}\n",
    "for cell_id, pert_id, ctrl_data, gt_data in loader.get_eval_data():\n",
    "    logger.debug(f\"Making predictions for cell: {cell_id}, pert: {pert_id}\")\n",
    "\n",
    "    preds = model.make_predict(ctrl_data, pert_id, cell_id)\n",
    "    eval_dict[(cell_id, pert_id)] = (ctrl_data.X.toarray(), gt_data.X.toarray(), preds)\n",
    "    break\n",
    "    \n",
    "if not config.etl_config.log1p:\n",
    "    for (cell, pert) in eval_dict:  \n",
    "        ctrl_data, gt_data, pred_pert = eval_dict[(cell, pert)]\n",
    "        eval_dict[(cell, pert)] =  (np.log1p(ctrl_data), np.log1p(gt_data), np.log1p(pred_pert))\n"
   ]
  },
  {
   "cell_type": "code",
   "execution_count": 10,
   "metadata": {},
   "outputs": [
    {
     "name": "stderr",
     "output_type": "stream",
     "text": [
      "/home/njwfish/miniconda3/envs/omnicell/lib/python3.9/site-packages/anndata/_core/anndata.py:1754: UserWarning: Observation names are not unique. To make them unique, call `.obs_names_make_unique`.\n",
      "  utils.warn_names_duplicates(\"obs\")\n",
      "/home/njwfish/miniconda3/envs/omnicell/lib/python3.9/site-packages/anndata/_core/anndata.py:1754: UserWarning: Observation names are not unique. To make them unique, call `.obs_names_make_unique`.\n",
      "  utils.warn_names_duplicates(\"obs\")\n"
     ]
    }
   ],
   "source": [
    "import scanpy as sc\n",
    "from omnicell.evaluation.utils import get_DEGs, get_eval, get_DEG_Coverage_Recall, get_DEGs_overlaps\n",
    "pval_threshold = 0.05\n",
    "log_fold_change_threshold = 0.0\n",
    "\n",
    "results_dict = {}\n",
    "for (cell, pert) in eval_dict:  \n",
    "    ctrl_data, gt_data, pred_pert = eval_dict[(cell, pert)]\n",
    "\n",
    "    pred_pert = sc.AnnData(X=pred_pert)\n",
    "    true_pert = sc.AnnData(X=gt_data)\n",
    "    control = sc.AnnData(X=ctrl_data)\n",
    "\n",
    "    logger.debug(f\"Getting ground Truth DEGs for {pert} and {cell}\")\n",
    "    true_DEGs_df = get_DEGs(control, true_pert)\n",
    "    signif_true_DEG = true_DEGs_df[true_DEGs_df['pvals_adj'] < pval_threshold]\n",
    "\n",
    "    logger.debug(f\"Number of significant DEGS from ground truth: {signif_true_DEG.shape[0]}\")\n",
    "\n",
    "    logger.debug(f\"Getting predicted DEGs for {pert} and {cell}\")\n",
    "    pred_DEGs_df = get_DEGs(control, pred_pert)\n",
    "\n",
    "\n",
    "    logger.debug(f\"Getting evaluation metrics for {pert} and {cell}\")\n",
    "    r2_and_mse = get_eval(control, true_pert, pred_pert, true_DEGs_df, [100,50,20], pval_threshold, log_fold_change_threshold)\n",
    "\n",
    "    logger.debug(f\"Getting DEG overlaps for {pert} and {cell}\")\n",
    "    DEGs_overlaps = get_DEGs_overlaps(true_DEGs_df, pred_DEGs_df, [100,50,20], pval_threshold, log_fold_change_threshold)\n",
    "\n",
    "    results_dict[(cell, pert)] = (r2_and_mse, DEGs_overlaps)\n",
    "\n"
   ]
  },
  {
   "cell_type": "code",
   "execution_count": 11,
   "metadata": {},
   "outputs": [
    {
     "name": "stdout",
     "output_type": "stream",
     "text": [
      "Cell: k562, Pert: RPL15\n",
      "DEGs Overlaps: {'Overlap_in_top_2159_DEGs': 1120, 'Overlap_in_top_100_DEGs': 37, 'Overlap_in_top_50_DEGs': 12, 'Overlap_in_top_20_DEGs': 3, 'Jaccard': 0.3852769177846577}\n",
      "----------------------------------------------------------------------------------------------------\n"
     ]
    }
   ],
   "source": [
    "for (cell, pert) in results_dict:\n",
    "    r2_and_mse, DEGs_overlaps = results_dict[(cell, pert)]\n",
    "    print(f\"Cell: {cell}, Pert: {pert}\")\n",
    "    # print(f\"R2 and MSE: {r2_and_mse}\")\n",
    "    print(f\"DEGs Overlaps: {DEGs_overlaps}\")\n",
    "    print(\"-\"*100)\n"
   ]
  },
  {
   "cell_type": "code",
   "execution_count": 12,
   "metadata": {},
   "outputs": [
    {
     "data": {
      "text/plain": [
       "{'all_genes_mean_sub_diff_R': np.float32(0.72377807),\n",
       " 'all_genes_mean_sub_diff_R2': np.float32(0.5238547),\n",
       " 'all_genes_mean_sub_diff_MSE': np.float32(0.010267843),\n",
       " 'all_genes_mean_fold_diff_R': np.float32(0.8098332),\n",
       " 'all_genes_mean_fold_diff_R2': np.float32(0.65582985),\n",
       " 'all_genes_mean_fold_diff_MSE': np.float32(7.6750703),\n",
       " 'all_genes_mean_R': np.float32(0.988036),\n",
       " 'all_genes_mean_R2': np.float32(0.97621506),\n",
       " 'all_genes_mean_MSE': np.float32(0.010267843),\n",
       " 'all_genes_var_R': np.float32(0.8862573),\n",
       " 'all_genes_var_R2': np.float32(0.785452),\n",
       " 'all_genes_var_MSE': np.float32(0.003685364),\n",
       " 'all_genes_corr_mtx_R': np.float64(0.5762449898429742),\n",
       " 'all_genes_corr_mtx_R2': np.float64(0.3320582883191295),\n",
       " 'all_genes_corr_mtx_MSE': np.float64(0.0074436563198923425),\n",
       " 'all_genes_cov_mtx_R': np.float64(0.8002548202073568),\n",
       " 'all_genes_cov_mtx_R2': np.float64(0.640407777265109),\n",
       " 'all_genes_cov_mtx_MSE': np.float64(0.00043529468983114693),\n",
       " 'Top_2159_DEGs_sub_diff_R': np.float32(0.7486695),\n",
       " 'Top_2159_DEGs_sub_diff_R2': np.float32(0.56050605),\n",
       " 'Top_2159_DEGs_sub_diff_MSE': np.float32(0.036509857),\n",
       " 'Top_2159_DEGs_fold_diff_R': np.float32(0.8122817),\n",
       " 'Top_2159_DEGs_fold_diff_R2': np.float32(0.6598016),\n",
       " 'Top_2159_DEGs_fold_diff_MSE': np.float32(30.407238),\n",
       " 'Top_2159_DEGs_mean_R': np.float32(0.98549616),\n",
       " 'Top_2159_DEGs_mean_R2': np.float32(0.9712027),\n",
       " 'Top_2159_DEGs_mean_MSE': np.float32(0.036509857),\n",
       " 'Top_2159_DEGs_var_R': np.float32(0.73428714),\n",
       " 'Top_2159_DEGs_var_R2': np.float32(0.5391776),\n",
       " 'Top_2159_DEGs_var_MSE': np.float32(0.012825463),\n",
       " 'Top_2159_DEGs_corr_mtx_R': np.float64(0.7783956183719453),\n",
       " 'Top_2159_DEGs_corr_mtx_R2': np.float64(0.6058997387006431),\n",
       " 'Top_2159_DEGs_corr_mtx_MSE': np.float64(0.01031842966396158),\n",
       " 'Top_2159_DEGs_cov_mtx_R': np.float64(0.8466599084179192),\n",
       " 'Top_2159_DEGs_cov_mtx_R2': np.float64(0.7168330005222393),\n",
       " 'Top_2159_DEGs_cov_mtx_MSE': np.float64(0.002042900005405298),\n",
       " 'Top_100_DEGs_sub_diff_R': np.float32(0.7013484),\n",
       " 'Top_100_DEGs_sub_diff_R2': np.float32(0.49188963),\n",
       " 'Top_100_DEGs_sub_diff_MSE': np.float32(0.2634382),\n",
       " 'Top_100_DEGs_fold_diff_R': np.float32(0.774095),\n",
       " 'Top_100_DEGs_fold_diff_R2': np.float32(0.5992231),\n",
       " 'Top_100_DEGs_fold_diff_MSE': np.float32(545.0991),\n",
       " 'Top_100_DEGs_mean_R': np.float32(0.97312963),\n",
       " 'Top_100_DEGs_mean_R2': np.float32(0.94698125),\n",
       " 'Top_100_DEGs_mean_MSE': np.float32(0.2634382),\n",
       " 'Top_100_DEGs_var_R': np.float32(0.26133975),\n",
       " 'Top_100_DEGs_var_R2': np.float32(0.06829847),\n",
       " 'Top_100_DEGs_var_MSE': np.float32(0.14280681),\n",
       " 'Top_100_DEGs_corr_mtx_R': np.float64(0.8837506824807826),\n",
       " 'Top_100_DEGs_corr_mtx_R2': np.float64(0.781015268785249),\n",
       " 'Top_100_DEGs_corr_mtx_MSE': np.float64(0.057085908353277794),\n",
       " 'Top_100_DEGs_cov_mtx_R': np.float64(0.8656551509283184),\n",
       " 'Top_100_DEGs_cov_mtx_R2': np.float64(0.7493588403287296),\n",
       " 'Top_100_DEGs_cov_mtx_MSE': np.float64(0.06264817534245791),\n",
       " 'Top_50_DEGs_sub_diff_R': np.float32(0.7003226),\n",
       " 'Top_50_DEGs_sub_diff_R2': np.float32(0.49045178),\n",
       " 'Top_50_DEGs_sub_diff_MSE': np.float32(0.34444615),\n",
       " 'Top_50_DEGs_fold_diff_R': np.float32(0.70538795),\n",
       " 'Top_50_DEGs_fold_diff_R2': np.float32(0.49757215),\n",
       " 'Top_50_DEGs_fold_diff_MSE': np.float32(749.69086),\n",
       " 'Top_50_DEGs_mean_R': np.float32(0.96985525),\n",
       " 'Top_50_DEGs_mean_R2': np.float32(0.94061923),\n",
       " 'Top_50_DEGs_mean_MSE': np.float32(0.34444615),\n",
       " 'Top_50_DEGs_var_R': np.float32(0.29150227),\n",
       " 'Top_50_DEGs_var_R2': np.float32(0.08497357),\n",
       " 'Top_50_DEGs_var_MSE': np.float32(0.19860858),\n",
       " 'Top_50_DEGs_corr_mtx_R': np.float64(0.8784583184574731),\n",
       " 'Top_50_DEGs_corr_mtx_R2': np.float64(0.7716890172671312),\n",
       " 'Top_50_DEGs_corr_mtx_MSE': np.float64(0.07329133370075276),\n",
       " 'Top_50_DEGs_cov_mtx_R': np.float64(0.8692364816178606),\n",
       " 'Top_50_DEGs_cov_mtx_R2': np.float64(0.7555720609753973),\n",
       " 'Top_50_DEGs_cov_mtx_MSE': np.float64(0.08157988147125037),\n",
       " 'Top_20_DEGs_sub_diff_R': np.float32(0.6973209),\n",
       " 'Top_20_DEGs_sub_diff_R2': np.float32(0.48625642),\n",
       " 'Top_20_DEGs_sub_diff_MSE': np.float32(0.46611938),\n",
       " 'Top_20_DEGs_fold_diff_R': np.float32(0.8706025),\n",
       " 'Top_20_DEGs_fold_diff_R2': np.float32(0.7579487),\n",
       " 'Top_20_DEGs_fold_diff_MSE': np.float32(849.30505),\n",
       " 'Top_20_DEGs_mean_R': np.float32(0.96487147),\n",
       " 'Top_20_DEGs_mean_R2': np.float32(0.9309769),\n",
       " 'Top_20_DEGs_mean_MSE': np.float32(0.46611938),\n",
       " 'Top_20_DEGs_var_R': np.float32(0.32895672),\n",
       " 'Top_20_DEGs_var_R2': np.float32(0.10821252),\n",
       " 'Top_20_DEGs_var_MSE': np.float32(0.309115),\n",
       " 'Top_20_DEGs_corr_mtx_R': np.float64(0.8141728284062154),\n",
       " 'Top_20_DEGs_corr_mtx_R2': np.float64(0.6628773945149767),\n",
       " 'Top_20_DEGs_corr_mtx_MSE': np.float64(0.09233310464630709),\n",
       " 'Top_20_DEGs_cov_mtx_R': np.float64(0.7983214664562633),\n",
       " 'Top_20_DEGs_cov_mtx_R2': np.float64(0.6373171638048788),\n",
       " 'Top_20_DEGs_cov_mtx_MSE': np.float64(0.09466978365328453)}"
      ]
     },
     "execution_count": 12,
     "metadata": {},
     "output_type": "execute_result"
    }
   ],
   "source": [
    "r2_and_mse"
   ]
  },
  {
   "cell_type": "code",
   "execution_count": null,
   "metadata": {},
   "outputs": [],
   "source": []
  }
 ],
 "metadata": {
  "kernelspec": {
   "display_name": "omnicell",
   "language": "python",
   "name": "omnicell"
  },
  "language_info": {
   "codemirror_mode": {
    "name": "ipython",
    "version": 3
   },
   "file_extension": ".py",
   "mimetype": "text/x-python",
   "name": "python",
   "nbconvert_exporter": "python",
   "pygments_lexer": "ipython3",
   "version": "3.9.21"
  }
 },
 "nbformat": 4,
 "nbformat_minor": 2
}
