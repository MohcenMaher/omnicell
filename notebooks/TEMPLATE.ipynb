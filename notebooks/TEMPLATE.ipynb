{
 "cells": [
  {
   "cell_type": "code",
   "execution_count": 1,
   "metadata": {},
   "outputs": [
    {
     "name": "stderr",
     "output_type": "stream",
     "text": [
      "2025-01-27 17:05:32,277 - INFO - Loading data catalogue from /orcd/data/omarabu/001/opitcho/omnicell/configs/catalogue/adamson_INCOMPLETE.yaml\n",
      "2025-01-27 17:05:32,278 - INFO - Loading data catalogue from /orcd/data/omarabu/001/opitcho/omnicell/configs/catalogue/satija_IFNG_raw_INCOMPLETE.yaml\n",
      "2025-01-27 17:05:32,280 - INFO - Loading data catalogue from /orcd/data/omarabu/001/opitcho/omnicell/configs/catalogue/satija_IFNB_raw.yaml\n",
      "2025-01-27 17:05:32,281 - INFO - Loading data catalogue from /orcd/data/omarabu/001/opitcho/omnicell/configs/catalogue/satija_IFNB_HVG.yaml\n",
      "2025-01-27 17:05:32,282 - INFO - Loading data catalogue from /orcd/data/omarabu/001/opitcho/omnicell/configs/catalogue/satija_IFNG_raw.yaml\n",
      "2025-01-27 17:05:32,284 - INFO - Loading data catalogue from /orcd/data/omarabu/001/opitcho/omnicell/configs/catalogue/repogle_k562_essential_raw.yaml\n",
      "2025-01-27 17:05:32,285 - INFO - Loading data catalogue from /orcd/data/omarabu/001/opitcho/omnicell/configs/catalogue/essential_gene_knockouts_raw.yaml\n",
      "2025-01-27 17:05:32,287 - INFO - Loading data catalogue from /orcd/data/omarabu/001/opitcho/omnicell/configs/catalogue/kang.yaml\n",
      "2025-01-27 17:05:32,288 - INFO - Loading training data at path: /orcd/data/omarabu/001/Omnicell_datasets/repogle_k562_essential_raw/K562_essential_raw_singlecell_01.h5ad\n"
     ]
    },
    {
     "name": "stdout",
     "output_type": "stream",
     "text": [
      "Using device: cuda\n"
     ]
    },
    {
     "name": "stderr",
     "output_type": "stream",
     "text": [
      "2025-01-27 17:05:35,587 - INFO - Loaded unpreprocessed data, # of data points: 310385, # of genes: 8563.\n",
      "2025-01-27 17:05:35,588 - INFO - Preprocessing training data\n",
      "2025-01-27 17:05:35,590 - INFO - Using identity features for perturbations\n",
      "2025-01-27 17:05:35,700 - INFO - Removing observations with perturbations not in the dataset as a column\n",
      "2025-01-27 17:05:35,890 - INFO - Removed 189 perturbations that were not in the dataset columns and 0 perturbations that did not have an embedding for a total of 189 perturbations removed out of an initial 2058 perturbations\n",
      "/orcd/data/omarabu/001/opitcho/omnicell/notebooks/../omnicell/data/loader.py:178: ImplicitModificationWarning: Setting element `.obsm['embedding']` of view, initializing view as actual.\n",
      "  adata.obsm[\"embedding\"] = adata.X.toarray().astype('float32')\n",
      "2025-01-27 17:06:11,639 - INFO - Doing OOD split\n"
     ]
    },
    {
     "name": "stdout",
     "output_type": "stream",
     "text": [
      "Data loaded:\n",
      "- Number of cells: 279630\n",
      "- Input dimension: 8563\n",
      "- Number of perturbations: 1850\n"
     ]
    }
   ],
   "source": [
    "import sys\n",
    "import yaml\n",
    "import torch\n",
    "import logging\n",
    "from pathlib import Path\n",
    "\n",
    "# Add the path to the directory containing the omnicell package\n",
    "# Assuming the omnicell package is in the parent directory of your notebook\n",
    "sys.path.append('..')  # Adjust this path as needed\n",
    "\n",
    "import yaml\n",
    "import torch\n",
    "import logging\n",
    "from pathlib import Path\n",
    "from omnicell.config.config import Config, ETLConfig, ModelConfig, DatasplitConfig, EvalConfig, EmbeddingConfig\n",
    "from omnicell.data.loader import DataLoader\n",
    "from omnicell.constants import PERT_KEY, GENE_EMBEDDING_KEY, CONTROL_PERT\n",
    "from train import get_model\n",
    "\n",
    "# Set up logging\n",
    "logging.basicConfig(level=logging.INFO, format='%(asctime)s - %(levelname)s - %(message)s')\n",
    "logger = logging.getLogger(__name__)\n",
    "\n",
    "# Configure paths\n",
    "MODEL_CONFIG = ModelConfig.from_yaml(\"/orcd/data/omarabu/001/njwfish/omnicell/configs/models/linear_mean_model.yaml\")\n",
    "ETL_CONFIG = ETLConfig(name = \"no_preprocessing\", log1p = False, drop_unmatched_perts = True)\n",
    "EMBEDDING_CONFIG = EmbeddingConfig(pert_embedding='GenePT')\n",
    "\n",
    "SPLIT_CONFIG = DatasplitConfig.from_yaml(\"/orcd/data/omarabu/001/njwfish/omnicell/configs/splits/repogle_k562_essential_raw/random_splits/rs_accP_k562_ood_ss:ns_20_2_most_pert_0.1/split_0/split_config.yaml\")\n",
    "EVAL_CONFIG = EvalConfig.from_yaml(\"/orcd/data/omarabu/001/njwfish/omnicell/configs/splits/repogle_k562_essential_raw/random_splits/rs_accP_k562_ood_ss:ns_20_2_most_pert_0.1/split_0/eval_config.yaml\")  # Set this if you want to run evaluations\n",
    "\n",
    "# Load configuration from paths \n",
    "config = Config(model_config=ModelConfig,\n",
    "                 etl_config=ETL_CONFIG, \n",
    "                 datasplit_config=SPLIT_CONFIG, \n",
    "                 eval_config=EVAL_CONFIG)\n",
    "\n",
    "#Alternatively you can initialize the config objects manually as follows:\n",
    "# etl_config = ETLConfig(name = XXX, log1p = False, drop_unmatched_perts = False, ...)\n",
    "# model_config = ...\n",
    "# embedding_config = ...\n",
    "# datasplit_config = ...\n",
    "# eval_config = ...\n",
    "# config = Config(etl_config, model_config, datasplit_config, eval_config)\n",
    "\n",
    "\n",
    "config.etl_config.pert_embedding = 'bioBERT'\n",
    "config.etl_config.drop_unmatched_perts = True\n",
    "# Set up device\n",
    "device = torch.device('cuda' if torch.cuda.is_available() else 'cpu')\n",
    "print(f\"Using device: {device}\")\n",
    "\n",
    "# Initialize data loader and load training data\n",
    "loader = DataLoader(config)\n",
    "adata, pert_rep_map = loader.get_training_data()\n",
    "\n",
    "# Get dimensions and perturbation IDs\n",
    "input_dim = adata.obsm['embedding'].shape[1]\n",
    "device = torch.device('cuda' if torch.cuda.is_available() else 'cpu')\n",
    "pert_ids = adata.obs[PERT_KEY].unique()\n",
    "gene_emb_dim = adata.varm[GENE_EMBEDDING_KEY].shape[1] if GENE_EMBEDDING_KEY in adata.varm else None\n",
    "\n",
    "print(f\"Data loaded:\")\n",
    "print(f\"- Number of cells: {adata.shape[0]}\")\n",
    "print(f\"- Input dimension: {input_dim}\")\n",
    "print(f\"- Number of perturbations: {len(pert_ids)}\")\n"
   ]
  },
  {
   "cell_type": "code",
   "execution_count": 6,
   "metadata": {},
   "outputs": [
    {
     "ename": "AttributeError",
     "evalue": "type object 'ModelConfig' has no attribute 'name'",
     "output_type": "error",
     "traceback": [
      "\u001b[0;31m---------------------------------------------------------------------------\u001b[0m",
      "\u001b[0;31mAttributeError\u001b[0m                            Traceback (most recent call last)",
      "Cell \u001b[0;32mIn[6], line 1\u001b[0m\n\u001b[0;32m----> 1\u001b[0m model \u001b[38;5;241m=\u001b[39m get_model(\u001b[43mconfig\u001b[49m\u001b[38;5;241;43m.\u001b[39;49m\u001b[43mmodel_config\u001b[49m\u001b[38;5;241;43m.\u001b[39;49m\u001b[43mname\u001b[49m, config\u001b[38;5;241m.\u001b[39mmodel_config, loader, pert_rep_map, input_dim, device, pert_ids, gene_emb_dim)\n",
      "\u001b[0;31mAttributeError\u001b[0m: type object 'ModelConfig' has no attribute 'name'"
     ]
    }
   ],
   "source": [
    "\n",
    "model = get_model(config.model_config.name, config.model_config, loader, pert_rep_map, input_dim, device, pert_ids, gene_emb_dim)"
   ]
  },
  {
   "cell_type": "code",
   "execution_count": 5,
   "metadata": {},
   "outputs": [
    {
     "ename": "NameError",
     "evalue": "name 'model' is not defined",
     "output_type": "error",
     "traceback": [
      "\u001b[0;31m---------------------------------------------------------------------------\u001b[0m",
      "\u001b[0;31mNameError\u001b[0m                                 Traceback (most recent call last)",
      "Cell \u001b[0;32mIn[5], line 1\u001b[0m\n\u001b[0;32m----> 1\u001b[0m \u001b[43mmodel\u001b[49m\u001b[38;5;241m.\u001b[39mtrain(adata)\n",
      "\u001b[0;31mNameError\u001b[0m: name 'model' is not defined"
     ]
    }
   ],
   "source": [
    "model.train(adata)"
   ]
  },
  {
   "cell_type": "code",
   "execution_count": 4,
   "metadata": {},
   "outputs": [
    {
     "name": "stderr",
     "output_type": "stream",
     "text": [
      "2025-01-16 21:26:16,081 - INFO - Running evaluation\n",
      "2025-01-16 21:26:24,940 - WARNING - No data found for cell: k562, pert: U2AF1 in repogle_k562_essential_raw, will skip evaluation\n"
     ]
    }
   ],
   "source": [
    "import numpy as np\n",
    "\n",
    "logger.info(\"Running evaluation\")\n",
    "\n",
    "# evaluate each pair of cells and perts\n",
    "eval_dict = {}\n",
    "for cell_id, pert_id, ctrl_data, gt_data in loader.get_eval_data():\n",
    "    logger.debug(f\"Making predictions for cell: {cell_id}, pert: {pert_id}\")\n",
    "\n",
    "    preds = model.make_predict(ctrl_data, pert_id, cell_id)\n",
    "    eval_dict[(cell_id, pert_id)] = (ctrl_data.X.toarray(), gt_data.X.toarray(), preds)\n",
    "    \n",
    "if not config.etl_config['log1p']:\n",
    "    for (cell, pert) in eval_dict:  \n",
    "        ctrl_data, gt_data, pred_pert = eval_dict[(cell, pert)]\n",
    "        eval_dict[(cell, pert)] =  (np.log1p(ctrl_data), np.log1p(gt_data), np.log1p(pred_pert))\n"
   ]
  },
  {
   "cell_type": "code",
   "execution_count": 5,
   "metadata": {},
   "outputs": [
    {
     "name": "stderr",
     "output_type": "stream",
     "text": [
      "/home/njwfish/miniconda3/envs/omnicell/lib/python3.9/site-packages/anndata/_core/anndata.py:1754: UserWarning: Observation names are not unique. To make them unique, call `.obs_names_make_unique`.\n",
      "  utils.warn_names_duplicates(\"obs\")\n",
      "/home/njwfish/miniconda3/envs/omnicell/lib/python3.9/site-packages/anndata/_core/anndata.py:1754: UserWarning: Observation names are not unique. To make them unique, call `.obs_names_make_unique`.\n",
      "  utils.warn_names_duplicates(\"obs\")\n",
      "/home/njwfish/miniconda3/envs/omnicell/lib/python3.9/site-packages/anndata/_core/anndata.py:1754: UserWarning: Observation names are not unique. To make them unique, call `.obs_names_make_unique`.\n",
      "  utils.warn_names_duplicates(\"obs\")\n",
      "/home/njwfish/miniconda3/envs/omnicell/lib/python3.9/site-packages/anndata/_core/anndata.py:1754: UserWarning: Observation names are not unique. To make them unique, call `.obs_names_make_unique`.\n",
      "  utils.warn_names_duplicates(\"obs\")\n",
      "/home/njwfish/miniconda3/envs/omnicell/lib/python3.9/site-packages/anndata/_core/anndata.py:1754: UserWarning: Observation names are not unique. To make them unique, call `.obs_names_make_unique`.\n",
      "  utils.warn_names_duplicates(\"obs\")\n",
      "/home/njwfish/miniconda3/envs/omnicell/lib/python3.9/site-packages/anndata/_core/anndata.py:1754: UserWarning: Observation names are not unique. To make them unique, call `.obs_names_make_unique`.\n",
      "  utils.warn_names_duplicates(\"obs\")\n",
      "/home/njwfish/miniconda3/envs/omnicell/lib/python3.9/site-packages/anndata/_core/anndata.py:1754: UserWarning: Observation names are not unique. To make them unique, call `.obs_names_make_unique`.\n",
      "  utils.warn_names_duplicates(\"obs\")\n",
      "/home/njwfish/miniconda3/envs/omnicell/lib/python3.9/site-packages/anndata/_core/anndata.py:1754: UserWarning: Observation names are not unique. To make them unique, call `.obs_names_make_unique`.\n",
      "  utils.warn_names_duplicates(\"obs\")\n",
      "/home/njwfish/miniconda3/envs/omnicell/lib/python3.9/site-packages/anndata/_core/anndata.py:1754: UserWarning: Observation names are not unique. To make them unique, call `.obs_names_make_unique`.\n",
      "  utils.warn_names_duplicates(\"obs\")\n",
      "/home/njwfish/miniconda3/envs/omnicell/lib/python3.9/site-packages/anndata/_core/anndata.py:1754: UserWarning: Observation names are not unique. To make them unique, call `.obs_names_make_unique`.\n",
      "  utils.warn_names_duplicates(\"obs\")\n",
      "/home/njwfish/miniconda3/envs/omnicell/lib/python3.9/site-packages/anndata/_core/anndata.py:1754: UserWarning: Observation names are not unique. To make them unique, call `.obs_names_make_unique`.\n",
      "  utils.warn_names_duplicates(\"obs\")\n",
      "/home/njwfish/miniconda3/envs/omnicell/lib/python3.9/site-packages/anndata/_core/anndata.py:1754: UserWarning: Observation names are not unique. To make them unique, call `.obs_names_make_unique`.\n",
      "  utils.warn_names_duplicates(\"obs\")\n",
      "/home/njwfish/miniconda3/envs/omnicell/lib/python3.9/site-packages/anndata/_core/anndata.py:1754: UserWarning: Observation names are not unique. To make them unique, call `.obs_names_make_unique`.\n",
      "  utils.warn_names_duplicates(\"obs\")\n",
      "/home/njwfish/miniconda3/envs/omnicell/lib/python3.9/site-packages/anndata/_core/anndata.py:1754: UserWarning: Observation names are not unique. To make them unique, call `.obs_names_make_unique`.\n",
      "  utils.warn_names_duplicates(\"obs\")\n",
      "/home/njwfish/miniconda3/envs/omnicell/lib/python3.9/site-packages/anndata/_core/anndata.py:1754: UserWarning: Observation names are not unique. To make them unique, call `.obs_names_make_unique`.\n",
      "  utils.warn_names_duplicates(\"obs\")\n",
      "/home/njwfish/miniconda3/envs/omnicell/lib/python3.9/site-packages/anndata/_core/anndata.py:1754: UserWarning: Observation names are not unique. To make them unique, call `.obs_names_make_unique`.\n",
      "  utils.warn_names_duplicates(\"obs\")\n",
      "/home/njwfish/miniconda3/envs/omnicell/lib/python3.9/site-packages/anndata/_core/anndata.py:1754: UserWarning: Observation names are not unique. To make them unique, call `.obs_names_make_unique`.\n",
      "  utils.warn_names_duplicates(\"obs\")\n",
      "/home/njwfish/miniconda3/envs/omnicell/lib/python3.9/site-packages/anndata/_core/anndata.py:1754: UserWarning: Observation names are not unique. To make them unique, call `.obs_names_make_unique`.\n",
      "  utils.warn_names_duplicates(\"obs\")\n",
      "/home/njwfish/miniconda3/envs/omnicell/lib/python3.9/site-packages/anndata/_core/anndata.py:1754: UserWarning: Observation names are not unique. To make them unique, call `.obs_names_make_unique`.\n",
      "  utils.warn_names_duplicates(\"obs\")\n",
      "/home/njwfish/miniconda3/envs/omnicell/lib/python3.9/site-packages/anndata/_core/anndata.py:1754: UserWarning: Observation names are not unique. To make them unique, call `.obs_names_make_unique`.\n",
      "  utils.warn_names_duplicates(\"obs\")\n",
      "/home/njwfish/miniconda3/envs/omnicell/lib/python3.9/site-packages/anndata/_core/anndata.py:1754: UserWarning: Observation names are not unique. To make them unique, call `.obs_names_make_unique`.\n",
      "  utils.warn_names_duplicates(\"obs\")\n",
      "/home/njwfish/miniconda3/envs/omnicell/lib/python3.9/site-packages/anndata/_core/anndata.py:1754: UserWarning: Observation names are not unique. To make them unique, call `.obs_names_make_unique`.\n",
      "  utils.warn_names_duplicates(\"obs\")\n",
      "/home/njwfish/miniconda3/envs/omnicell/lib/python3.9/site-packages/anndata/_core/anndata.py:1754: UserWarning: Observation names are not unique. To make them unique, call `.obs_names_make_unique`.\n",
      "  utils.warn_names_duplicates(\"obs\")\n",
      "/home/njwfish/miniconda3/envs/omnicell/lib/python3.9/site-packages/anndata/_core/anndata.py:1754: UserWarning: Observation names are not unique. To make them unique, call `.obs_names_make_unique`.\n",
      "  utils.warn_names_duplicates(\"obs\")\n",
      "/home/njwfish/miniconda3/envs/omnicell/lib/python3.9/site-packages/anndata/_core/anndata.py:1754: UserWarning: Observation names are not unique. To make them unique, call `.obs_names_make_unique`.\n",
      "  utils.warn_names_duplicates(\"obs\")\n",
      "/home/njwfish/miniconda3/envs/omnicell/lib/python3.9/site-packages/anndata/_core/anndata.py:1754: UserWarning: Observation names are not unique. To make them unique, call `.obs_names_make_unique`.\n",
      "  utils.warn_names_duplicates(\"obs\")\n",
      "/home/njwfish/miniconda3/envs/omnicell/lib/python3.9/site-packages/anndata/_core/anndata.py:1754: UserWarning: Observation names are not unique. To make them unique, call `.obs_names_make_unique`.\n",
      "  utils.warn_names_duplicates(\"obs\")\n",
      "/home/njwfish/miniconda3/envs/omnicell/lib/python3.9/site-packages/anndata/_core/anndata.py:1754: UserWarning: Observation names are not unique. To make them unique, call `.obs_names_make_unique`.\n",
      "  utils.warn_names_duplicates(\"obs\")\n",
      "/home/njwfish/miniconda3/envs/omnicell/lib/python3.9/site-packages/anndata/_core/anndata.py:1754: UserWarning: Observation names are not unique. To make them unique, call `.obs_names_make_unique`.\n",
      "  utils.warn_names_duplicates(\"obs\")\n",
      "/home/njwfish/miniconda3/envs/omnicell/lib/python3.9/site-packages/anndata/_core/anndata.py:1754: UserWarning: Observation names are not unique. To make them unique, call `.obs_names_make_unique`.\n",
      "  utils.warn_names_duplicates(\"obs\")\n",
      "/home/njwfish/miniconda3/envs/omnicell/lib/python3.9/site-packages/anndata/_core/anndata.py:1754: UserWarning: Observation names are not unique. To make them unique, call `.obs_names_make_unique`.\n",
      "  utils.warn_names_duplicates(\"obs\")\n",
      "/home/njwfish/miniconda3/envs/omnicell/lib/python3.9/site-packages/anndata/_core/anndata.py:1754: UserWarning: Observation names are not unique. To make them unique, call `.obs_names_make_unique`.\n",
      "  utils.warn_names_duplicates(\"obs\")\n",
      "/home/njwfish/miniconda3/envs/omnicell/lib/python3.9/site-packages/anndata/_core/anndata.py:1754: UserWarning: Observation names are not unique. To make them unique, call `.obs_names_make_unique`.\n",
      "  utils.warn_names_duplicates(\"obs\")\n",
      "/home/njwfish/miniconda3/envs/omnicell/lib/python3.9/site-packages/anndata/_core/anndata.py:1754: UserWarning: Observation names are not unique. To make them unique, call `.obs_names_make_unique`.\n",
      "  utils.warn_names_duplicates(\"obs\")\n",
      "/home/njwfish/miniconda3/envs/omnicell/lib/python3.9/site-packages/anndata/_core/anndata.py:1754: UserWarning: Observation names are not unique. To make them unique, call `.obs_names_make_unique`.\n",
      "  utils.warn_names_duplicates(\"obs\")\n",
      "/home/njwfish/miniconda3/envs/omnicell/lib/python3.9/site-packages/anndata/_core/anndata.py:1754: UserWarning: Observation names are not unique. To make them unique, call `.obs_names_make_unique`.\n",
      "  utils.warn_names_duplicates(\"obs\")\n",
      "/home/njwfish/miniconda3/envs/omnicell/lib/python3.9/site-packages/anndata/_core/anndata.py:1754: UserWarning: Observation names are not unique. To make them unique, call `.obs_names_make_unique`.\n",
      "  utils.warn_names_duplicates(\"obs\")\n",
      "/home/njwfish/miniconda3/envs/omnicell/lib/python3.9/site-packages/anndata/_core/anndata.py:1754: UserWarning: Observation names are not unique. To make them unique, call `.obs_names_make_unique`.\n",
      "  utils.warn_names_duplicates(\"obs\")\n"
     ]
    }
   ],
   "source": [
    "import scanpy as sc\n",
    "from omnicell.evaluation.utils import get_DEGs, get_eval, get_DEG_Coverage_Recall, get_DEGs_overlaps\n",
    "pval_threshold = 0.05\n",
    "log_fold_change_threshold = 0.0\n",
    "\n",
    "results_dict = {}\n",
    "for (cell, pert) in eval_dict:  \n",
    "    ctrl_data, gt_data, pred_pert = eval_dict[(cell, pert)]\n",
    "\n",
    "    pred_pert = sc.AnnData(X=pred_pert)\n",
    "    true_pert = sc.AnnData(X=gt_data)\n",
    "    control = sc.AnnData(X=ctrl_data)\n",
    "\n",
    "    logger.debug(f\"Getting ground Truth DEGs for {pert} and {cell}\")\n",
    "    true_DEGs_df = get_DEGs(control, true_pert)\n",
    "    signif_true_DEG = true_DEGs_df[true_DEGs_df['pvals_adj'] < pval_threshold]\n",
    "\n",
    "    logger.debug(f\"Number of significant DEGS from ground truth: {signif_true_DEG.shape[0]}\")\n",
    "\n",
    "    logger.debug(f\"Getting predicted DEGs for {pert} and {cell}\")\n",
    "    pred_DEGs_df = get_DEGs(control, pred_pert)\n",
    "\n",
    "\n",
    "    logger.debug(f\"Getting evaluation metrics for {pert} and {cell}\")\n",
    "    r2_and_mse = get_eval(control, true_pert, pred_pert, true_DEGs_df, [100,50,20], pval_threshold, log_fold_change_threshold)\n",
    "\n",
    "    logger.debug(f\"Getting DEG overlaps for {pert} and {cell}\")\n",
    "    DEGs_overlaps = get_DEGs_overlaps(true_DEGs_df, pred_DEGs_df, [100,50,20], pval_threshold, log_fold_change_threshold)\n",
    "\n",
    "    results_dict[(cell, pert)] = (r2_and_mse, DEGs_overlaps)\n",
    "\n"
   ]
  },
  {
   "cell_type": "code",
   "execution_count": 8,
   "metadata": {},
   "outputs": [
    {
     "name": "stdout",
     "output_type": "stream",
     "text": [
      "Cell: k562, Pert: RPL15\n",
      "DEGs Overlaps: {'Overlap_in_top_2159_DEGs': 935, 'Overlap_in_top_100_DEGs': 33, 'Overlap_in_top_50_DEGs': 11, 'Overlap_in_top_20_DEGs': 2, 'Jaccard': 0.35336356764928195}\n",
      "----------------------------------------------------------------------------------------------------\n",
      "Cell: k562, Pert: RPL4\n",
      "DEGs Overlaps: {'Overlap_in_top_3813_DEGs': 470, 'Overlap_in_top_100_DEGs': 9, 'Overlap_in_top_50_DEGs': 6, 'Overlap_in_top_20_DEGs': 3, 'Jaccard': 0.10266491917868065}\n",
      "----------------------------------------------------------------------------------------------------\n",
      "Cell: k562, Pert: RPL7\n",
      "DEGs Overlaps: {'Overlap_in_top_4226_DEGs': 419, 'Overlap_in_top_100_DEGs': 6, 'Overlap_in_top_50_DEGs': 3, 'Overlap_in_top_20_DEGs': 0, 'Jaccard': 0.07146512024560805}\n",
      "----------------------------------------------------------------------------------------------------\n",
      "Cell: k562, Pert: RNF113A\n",
      "DEGs Overlaps: {'Overlap_in_top_3729_DEGs': 1203, 'Overlap_in_top_100_DEGs': 22, 'Overlap_in_top_50_DEGs': 7, 'Overlap_in_top_20_DEGs': 1, 'Jaccard': 0.28745519713261647}\n",
      "----------------------------------------------------------------------------------------------------\n",
      "Cell: k562, Pert: TRRAP\n",
      "DEGs Overlaps: {'Overlap_in_top_3477_DEGs': 1506, 'Overlap_in_top_100_DEGs': 29, 'Overlap_in_top_50_DEGs': 11, 'Overlap_in_top_20_DEGs': 3, 'Jaccard': 0.3180570221752904}\n",
      "----------------------------------------------------------------------------------------------------\n",
      "Cell: k562, Pert: RPL13\n",
      "DEGs Overlaps: {'Overlap_in_top_3819_DEGs': 319, 'Overlap_in_top_100_DEGs': 8, 'Overlap_in_top_50_DEGs': 2, 'Overlap_in_top_20_DEGs': 0, 'Jaccard': 0.05774800868935554}\n",
      "----------------------------------------------------------------------------------------------------\n",
      "Cell: k562, Pert: RPS3\n",
      "DEGs Overlaps: {'Overlap_in_top_3930_DEGs': 395, 'Overlap_in_top_100_DEGs': 14, 'Overlap_in_top_50_DEGs': 3, 'Overlap_in_top_20_DEGs': 0, 'Jaccard': 0.08667983322361203}\n",
      "----------------------------------------------------------------------------------------------------\n",
      "Cell: k562, Pert: DDX18\n",
      "DEGs Overlaps: {'Overlap_in_top_1828_DEGs': 434, 'Overlap_in_top_100_DEGs': 17, 'Overlap_in_top_50_DEGs': 2, 'Overlap_in_top_20_DEGs': 0, 'Jaccard': 0.13198712320749195}\n",
      "----------------------------------------------------------------------------------------------------\n",
      "Cell: k562, Pert: RPL27A\n",
      "DEGs Overlaps: {'Overlap_in_top_4061_DEGs': 449, 'Overlap_in_top_100_DEGs': 14, 'Overlap_in_top_50_DEGs': 7, 'Overlap_in_top_20_DEGs': 5, 'Jaccard': 0.09563365282215122}\n",
      "----------------------------------------------------------------------------------------------------\n",
      "Cell: k562, Pert: SNRPD3\n",
      "DEGs Overlaps: {'Overlap_in_top_3656_DEGs': 481, 'Overlap_in_top_100_DEGs': 26, 'Overlap_in_top_50_DEGs': 11, 'Overlap_in_top_20_DEGs': 3, 'Jaccard': 0.1256859158609877}\n",
      "----------------------------------------------------------------------------------------------------\n",
      "Cell: k562, Pert: DNTTIP2\n",
      "DEGs Overlaps: {'Overlap_in_top_2896_DEGs': 442, 'Overlap_in_top_100_DEGs': 12, 'Overlap_in_top_50_DEGs': 1, 'Overlap_in_top_20_DEGs': 0, 'Jaccard': 0.10954151177199505}\n",
      "----------------------------------------------------------------------------------------------------\n",
      "Cell: k562, Pert: PHB\n",
      "DEGs Overlaps: {'Overlap_in_top_5826_DEGs': 1425, 'Overlap_in_top_100_DEGs': 54, 'Overlap_in_top_50_DEGs': 25, 'Overlap_in_top_20_DEGs': 5, 'Jaccard': 0.24156636718087812}\n",
      "----------------------------------------------------------------------------------------------------\n",
      "Cell: k562, Pert: WDR36\n",
      "DEGs Overlaps: {'Overlap_in_top_2178_DEGs': 314, 'Overlap_in_top_100_DEGs': 9, 'Overlap_in_top_50_DEGs': 0, 'Overlap_in_top_20_DEGs': 0, 'Jaccard': 0.07857857857857858}\n",
      "----------------------------------------------------------------------------------------------------\n",
      "Cell: k562, Pert: TSR2\n",
      "DEGs Overlaps: {'Overlap_in_top_4956_DEGs': 572, 'Overlap_in_top_100_DEGs': 10, 'Overlap_in_top_50_DEGs': 2, 'Overlap_in_top_20_DEGs': 0, 'Jaccard': 0.0913884007029877}\n",
      "----------------------------------------------------------------------------------------------------\n",
      "Cell: k562, Pert: RPL10\n",
      "DEGs Overlaps: {'Overlap_in_top_3156_DEGs': 311, 'Overlap_in_top_100_DEGs': 4, 'Overlap_in_top_50_DEGs': 1, 'Overlap_in_top_20_DEGs': 1, 'Jaccard': 0.06327568667344863}\n",
      "----------------------------------------------------------------------------------------------------\n",
      "Cell: k562, Pert: XAB2\n",
      "DEGs Overlaps: {'Overlap_in_top_3464_DEGs': 1880, 'Overlap_in_top_100_DEGs': 20, 'Overlap_in_top_50_DEGs': 6, 'Overlap_in_top_20_DEGs': 0, 'Jaccard': 0.411829134720701}\n",
      "----------------------------------------------------------------------------------------------------\n",
      "Cell: k562, Pert: EIF3A\n",
      "DEGs Overlaps: {'Overlap_in_top_3569_DEGs': 604, 'Overlap_in_top_100_DEGs': 24, 'Overlap_in_top_50_DEGs': 10, 'Overlap_in_top_20_DEGs': 4, 'Jaccard': 0.1541996425836099}\n",
      "----------------------------------------------------------------------------------------------------\n",
      "Cell: k562, Pert: LSM2\n",
      "DEGs Overlaps: {'Overlap_in_top_4029_DEGs': 1317, 'Overlap_in_top_100_DEGs': 15, 'Overlap_in_top_50_DEGs': 3, 'Overlap_in_top_20_DEGs': 1, 'Jaccard': 0.2699323631891781}\n",
      "----------------------------------------------------------------------------------------------------\n",
      "Cell: k562, Pert: PCF11\n",
      "DEGs Overlaps: {'Overlap_in_top_5098_DEGs': 1780, 'Overlap_in_top_100_DEGs': 13, 'Overlap_in_top_50_DEGs': 1, 'Overlap_in_top_20_DEGs': 0, 'Jaccard': 0.3292028851488811}\n",
      "----------------------------------------------------------------------------------------------------\n"
     ]
    }
   ],
   "source": [
    "for (cell, pert) in results_dict:\n",
    "    r2_and_mse, DEGs_overlaps = results_dict[(cell, pert)]\n",
    "    print(f\"Cell: {cell}, Pert: {pert}\")\n",
    "    # print(f\"R2 and MSE: {r2_and_mse}\")\n",
    "    print(f\"DEGs Overlaps: {DEGs_overlaps}\")\n",
    "    print(\"-\"*100)\n"
   ]
  },
  {
   "cell_type": "code",
   "execution_count": null,
   "metadata": {},
   "outputs": [],
   "source": []
  }
 ],
 "metadata": {
  "kernelspec": {
   "display_name": "omnicell",
   "language": "python",
   "name": "python3"
  },
  "language_info": {
   "codemirror_mode": {
    "name": "ipython",
    "version": 3
   },
   "file_extension": ".py",
   "mimetype": "text/x-python",
   "name": "python",
   "nbconvert_exporter": "python",
   "pygments_lexer": "ipython3",
   "version": "3.9.21"
  }
 },
 "nbformat": 4,
 "nbformat_minor": 2
}
