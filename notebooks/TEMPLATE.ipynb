{
 "cells": [
  {
   "cell_type": "code",
   "execution_count": 1,
   "metadata": {},
   "outputs": [
    {
     "name": "stderr",
     "output_type": "stream",
     "text": [
      "2025-02-06 20:50:29,200 - INFO - Loading data catalogue from /orcd/data/omarabu/001/njwfish/omnicell/configs/catalogue/repogle_k562_essential_raw.yaml\n",
      "2025-02-06 20:50:29,202 - INFO - Loading data catalogue from /orcd/data/omarabu/001/njwfish/omnicell/configs/catalogue/satija_IFNB_raw.yaml\n",
      "2025-02-06 20:50:29,203 - INFO - Loading data catalogue from /orcd/data/omarabu/001/njwfish/omnicell/configs/catalogue/adamson_INCOMPLETE.yaml\n",
      "2025-02-06 20:50:29,204 - INFO - Loading data catalogue from /orcd/data/omarabu/001/njwfish/omnicell/configs/catalogue/satija_IFNB_HVG.yaml\n",
      "2025-02-06 20:50:29,206 - INFO - Loading data catalogue from /orcd/data/omarabu/001/njwfish/omnicell/configs/catalogue/kang.yaml\n",
      "2025-02-06 20:50:29,208 - INFO - Loading data catalogue from /orcd/data/omarabu/001/njwfish/omnicell/configs/catalogue/essential_gene_knockouts_raw.yaml\n",
      "2025-02-06 20:50:29,209 - INFO - Loading data catalogue from /orcd/data/omarabu/001/njwfish/omnicell/configs/catalogue/satija_IFNG_raw_INCOMPLETE.yaml\n",
      "2025-02-06 20:50:29,211 - INFO - Loading data catalogue from /orcd/data/omarabu/001/njwfish/omnicell/configs/catalogue/satija_IFNG_raw.yaml\n",
      "2025-02-06 20:50:29,212 - INFO - Loading training data at path: /orcd/data/omarabu/001/Omnicell_datasets/repogle_k562_essential_raw/K562_essential_raw_singlecell_01.h5ad\n"
     ]
    },
    {
     "name": "stdout",
     "output_type": "stream",
     "text": [
      "Using device: cuda\n"
     ]
    },
    {
     "name": "stderr",
     "output_type": "stream",
     "text": [
      "2025-02-06 20:50:33,198 - INFO - Loaded unpreprocessed data, # of data points: 310385, # of genes: 8563.\n",
      "2025-02-06 20:50:33,199 - INFO - Preprocessing training data\n",
      "2025-02-06 20:50:33,200 - INFO - Using identity features for perturbations\n",
      "2025-02-06 20:50:33,320 - INFO - Removing observations with perturbations not in the dataset as a column\n",
      "2025-02-06 20:50:33,507 - INFO - Removed 189 perturbations that were not in the dataset columns and 0 perturbations that did not have an embedding for a total of 189 perturbations removed out of an initial 2058 perturbations\n",
      "/orcd/data/omarabu/001/njwfish/omnicell/notebooks/../omnicell/data/loader.py:175: ImplicitModificationWarning: Setting element `.obsm['embedding']` of view, initializing view as actual.\n",
      "  adata.obsm[\"embedding\"] = adata.X.toarray().astype('float32')\n",
      "2025-02-06 20:51:11,313 - INFO - Doing OOD split\n"
     ]
    },
    {
     "name": "stdout",
     "output_type": "stream",
     "text": [
      "Data loaded:\n",
      "- Number of cells: 279630\n",
      "- Input dimension: 8563\n",
      "- Number of perturbations: 1850\n"
     ]
    }
   ],
   "source": [
    "import sys\n",
    "import yaml\n",
    "import torch\n",
    "import logging\n",
    "from pathlib import Path\n",
    "\n",
    "# Add the path to the directory containing the omnicell package\n",
    "# Assuming the omnicell package is in the parent directory of your notebook\n",
    "sys.path.append('..')  # Adjust this path as needed\n",
    "\n",
    "import yaml\n",
    "import torch\n",
    "import logging\n",
    "from pathlib import Path\n",
    "from omnicell.config.config import Config, ETLConfig, ModelConfig, DatasplitConfig, EvalConfig, EmbeddingConfig\n",
    "from omnicell.data.loader import DataLoader\n",
    "from omnicell.constants import PERT_KEY, GENE_EMBEDDING_KEY, CONTROL_PERT\n",
    "from train import get_model\n",
    "\n",
    "# Set up logging\n",
    "logging.basicConfig(level=logging.INFO, format='%(asctime)s - %(levelname)s - %(message)s')\n",
    "logger = logging.getLogger(__name__)\n",
    "\n",
    "# Configure paths\n",
    "MODEL_CONFIG = ModelConfig.from_yaml(\"/orcd/data/omarabu/001/njwfish/omnicell/configs/models/scot/scot.yaml\")\n",
    "ETL_CONFIG = ETLConfig(name = \"no_preprocessing\", log1p = False, drop_unmatched_perts = True)\n",
    "EMBEDDING_CONFIG = EmbeddingConfig(pert_embedding='GenePT')\n",
    "\n",
    "SPLIT_CONFIG = DatasplitConfig.from_yaml(\"/orcd/data/omarabu/001/njwfish/omnicell/configs/splits/repogle_k562_essential_raw/random_splits/rs_accP_k562_ood_ss:ns_20_2_most_pert_0.1/split_0/split_config.yaml\")\n",
    "EVAL_CONFIG = EvalConfig.from_yaml(\"/orcd/data/omarabu/001/njwfish/omnicell/configs/splits/repogle_k562_essential_raw/random_splits/rs_accP_k562_ood_ss:ns_20_2_most_pert_0.1/split_0/eval_config.yaml\")  # Set this if you want to run evaluations\n",
    "\n",
    "# Load configurations\n",
    "config = Config(model_config=MODEL_CONFIG,\n",
    "                 etl_config=ETL_CONFIG, \n",
    "                 datasplit_config=SPLIT_CONFIG, \n",
    "                 eval_config=EVAL_CONFIG)\n",
    "\n",
    "\n",
    "\n",
    "\n",
    "#Alternatively you can initialize the config objects manually as follows:\n",
    "# etl_config = ETLConfig(name = XXX, log1p = False, drop_unmatched_perts = False, ...)\n",
    "# model_config = ...\n",
    "# embedding_config = ...\n",
    "# datasplit_config = ...\n",
    "# eval_config = ...\n",
    "# config = Config(etl_config, model_config, datasplit_config, eval_config)\n",
    "\n",
    "# Set up device\n",
    "device = torch.device('cuda' if torch.cuda.is_available() else 'cpu')\n",
    "print(f\"Using device: {device}\")\n",
    "\n",
    "# Initialize data loader and load training data\n",
    "loader = DataLoader(config)\n",
    "adata, pert_rep_map = loader.get_training_data()\n",
    "\n",
    "# Get dimensions and perturbation IDs\n",
    "input_dim = adata.obsm['embedding'].shape[1]\n",
    "device = torch.device('cuda' if torch.cuda.is_available() else 'cpu')\n",
    "pert_ids = adata.obs[PERT_KEY].unique()\n",
    "gene_emb_dim = adata.varm[GENE_EMBEDDING_KEY].shape[1] if GENE_EMBEDDING_KEY in adata.varm else None\n",
    "\n",
    "print(f\"Data loaded:\")\n",
    "print(f\"- Number of cells: {adata.shape[0]}\")\n",
    "print(f\"- Input dimension: {input_dim}\")\n",
    "print(f\"- Number of perturbations: {len(pert_ids)}\")\n",
    "\n"
   ]
  },
  {
   "cell_type": "code",
   "execution_count": 2,
   "metadata": {},
   "outputs": [
    {
     "name": "stderr",
     "output_type": "stream",
     "text": [
      "2025-02-06 20:51:21,137 - INFO - SCOT model selected\n"
     ]
    }
   ],
   "source": [
    "model = get_model(config.model_config.name, config.model_config.parameters, loader, pert_rep_map, input_dim, device, pert_ids)"
   ]
  },
  {
   "cell_type": "code",
   "execution_count": 3,
   "metadata": {},
   "outputs": [],
   "source": [
    "model.max_epochs = 10"
   ]
  },
  {
   "cell_type": "code",
   "execution_count": null,
   "metadata": {},
   "outputs": [
    {
     "name": "stdout",
     "output_type": "stream",
     "text": [
      "Creating source indices\n",
      "Creating target indices\n",
      "Creating pert indices\n",
      "Creating source and target dicts\n"
     ]
    }
   ],
   "source": [
    "model.train(adata, None)"
   ]
  },
  {
   "cell_type": "code",
   "execution_count": 7,
   "metadata": {},
   "outputs": [
    {
     "name": "stderr",
     "output_type": "stream",
     "text": [
      "2025-02-06 20:59:38,409 - INFO - Running evaluation\n",
      "2025-02-06 20:59:38,411 - INFO - Loading data catalogue from /orcd/data/omarabu/001/njwfish/omnicell/configs/catalogue/repogle_k562_essential_raw.yaml\n",
      "2025-02-06 20:59:38,413 - INFO - Loading data catalogue from /orcd/data/omarabu/001/njwfish/omnicell/configs/catalogue/satija_IFNB_raw.yaml\n",
      "2025-02-06 20:59:38,414 - INFO - Loading data catalogue from /orcd/data/omarabu/001/njwfish/omnicell/configs/catalogue/adamson_INCOMPLETE.yaml\n",
      "2025-02-06 20:59:38,416 - INFO - Loading data catalogue from /orcd/data/omarabu/001/njwfish/omnicell/configs/catalogue/satija_IFNB_HVG.yaml\n",
      "2025-02-06 20:59:38,417 - INFO - Loading data catalogue from /orcd/data/omarabu/001/njwfish/omnicell/configs/catalogue/kang.yaml\n",
      "2025-02-06 20:59:38,418 - INFO - Loading data catalogue from /orcd/data/omarabu/001/njwfish/omnicell/configs/catalogue/essential_gene_knockouts_raw.yaml\n",
      "2025-02-06 20:59:38,420 - INFO - Loading data catalogue from /orcd/data/omarabu/001/njwfish/omnicell/configs/catalogue/satija_IFNG_raw_INCOMPLETE.yaml\n",
      "2025-02-06 20:59:38,421 - INFO - Loading data catalogue from /orcd/data/omarabu/001/njwfish/omnicell/configs/catalogue/satija_IFNG_raw.yaml\n"
     ]
    }
   ],
   "source": [
    "import numpy as np\n",
    "\n",
    "logger.info(\"Running evaluation\")\n",
    "\n",
    "# evaluate each pair of cells and perts\n",
    "eval_dict = {}\n",
    "for cell_id, pert_id, ctrl_data, gt_data in loader.get_eval_data():\n",
    "    logger.debug(f\"Making predictions for cell: {cell_id}, pert: {pert_id}\")\n",
    "\n",
    "    preds = model.make_predict(ctrl_data, pert_id, cell_id)\n",
    "    eval_dict[(cell_id, pert_id)] = (ctrl_data.X.toarray(), gt_data.X.toarray(), preds)\n",
    "    break\n",
    "    \n",
    "if not config.etl_config.log1p:\n",
    "    for (cell, pert) in eval_dict:  \n",
    "        ctrl_data, gt_data, pred_pert = eval_dict[(cell, pert)]\n",
    "        # normalize to sum to 1\n",
    "        ctrl_data = ctrl_data / ctrl_data.sum(axis=1).reshape(-1, 1) * 10_000\n",
    "        gt_data = gt_data / gt_data.sum(axis=1).reshape(-1, 1) * 10_000\n",
    "        pred_pert = pred_pert / pred_pert.sum(axis=1).reshape(-1, 1) * 10_000\n",
    "        eval_dict[(cell, pert)] =  (np.log1p(ctrl_data), np.log1p(gt_data), np.log1p(pred_pert))\n"
   ]
  },
  {
   "cell_type": "code",
   "execution_count": 8,
   "metadata": {},
   "outputs": [
    {
     "name": "stderr",
     "output_type": "stream",
     "text": [
      "/home/njwfish/miniconda3/envs/omnicell/lib/python3.9/site-packages/anndata/_core/anndata.py:1754: UserWarning: Observation names are not unique. To make them unique, call `.obs_names_make_unique`.\n",
      "  utils.warn_names_duplicates(\"obs\")\n",
      "/home/njwfish/miniconda3/envs/omnicell/lib/python3.9/site-packages/anndata/_core/anndata.py:1754: UserWarning: Observation names are not unique. To make them unique, call `.obs_names_make_unique`.\n",
      "  utils.warn_names_duplicates(\"obs\")\n"
     ]
    }
   ],
   "source": [
    "import scanpy as sc\n",
    "from omnicell.evaluation.utils import get_DEGs, get_eval, get_DEG_Coverage_Recall, get_DEGs_overlaps\n",
    "pval_threshold = 0.05\n",
    "log_fold_change_threshold = 0.0\n",
    "\n",
    "results_dict = {}\n",
    "for (cell, pert) in eval_dict:  \n",
    "    ctrl_data, gt_data, pred_pert = eval_dict[(cell, pert)]\n",
    "\n",
    "    pred_pert = sc.AnnData(X=pred_pert)\n",
    "    true_pert = sc.AnnData(X=gt_data)\n",
    "    control = sc.AnnData(X=ctrl_data)\n",
    "\n",
    "    logger.debug(f\"Getting ground Truth DEGs for {pert} and {cell}\")\n",
    "    true_DEGs_df = get_DEGs(control, true_pert)\n",
    "    signif_true_DEG = true_DEGs_df[true_DEGs_df['pvals_adj'] < pval_threshold]\n",
    "\n",
    "    logger.debug(f\"Number of significant DEGS from ground truth: {signif_true_DEG.shape[0]}\")\n",
    "\n",
    "    logger.debug(f\"Getting predicted DEGs for {pert} and {cell}\")\n",
    "    pred_DEGs_df = get_DEGs(control, pred_pert)\n",
    "\n",
    "\n",
    "    logger.debug(f\"Getting evaluation metrics for {pert} and {cell}\")\n",
    "    r2_and_mse = get_eval(control, true_pert, pred_pert, true_DEGs_df, [100,50,20], pval_threshold, log_fold_change_threshold)\n",
    "\n",
    "    logger.debug(f\"Getting DEG overlaps for {pert} and {cell}\")\n",
    "    DEGs_overlaps = get_DEGs_overlaps(true_DEGs_df, pred_DEGs_df, [100,50,20], pval_threshold, log_fold_change_threshold)\n",
    "\n",
    "    results_dict[(cell, pert)] = (r2_and_mse, DEGs_overlaps)\n",
    "\n"
   ]
  },
  {
   "cell_type": "code",
   "execution_count": 9,
   "metadata": {},
   "outputs": [
    {
     "name": "stdout",
     "output_type": "stream",
     "text": [
      "Cell: k562, Pert: RPL15\n",
      "DEGs Overlaps: {'Overlap_in_top_2157_DEGs': 1384, 'Overlap_in_top_100_DEGs': 67, 'Overlap_in_top_50_DEGs': 26, 'Overlap_in_top_20_DEGs': 8, 'Jaccard': 0.3225588085970553}\n",
      "----------------------------------------------------------------------------------------------------\n"
     ]
    }
   ],
   "source": [
    "for (cell, pert) in results_dict:\n",
    "    r2_and_mse, DEGs_overlaps = results_dict[(cell, pert)]\n",
    "    print(f\"Cell: {cell}, Pert: {pert}\")\n",
    "    # print(f\"R2 and MSE: {r2_and_mse}\")\n",
    "    print(f\"DEGs Overlaps: {DEGs_overlaps}\")\n",
    "    print(\"-\"*100)"
   ]
  },
  {
   "cell_type": "code",
   "execution_count": 11,
   "metadata": {},
   "outputs": [
    {
     "data": {
      "text/plain": [
       "{'all_genes_mean_sub_diff_R': np.float32(0.9394147),\n",
       " 'all_genes_mean_sub_diff_R2': np.float32(0.88249993),\n",
       " 'all_genes_mean_sub_diff_MSE': np.float32(0.0017594295),\n",
       " 'all_genes_mean_fold_diff_R': np.float32(0.9819075),\n",
       " 'all_genes_mean_fold_diff_R2': np.float32(0.9641423),\n",
       " 'all_genes_mean_fold_diff_MSE': np.float32(0.10515996),\n",
       " 'all_genes_mean_R': np.float32(0.99663806),\n",
       " 'all_genes_mean_R2': np.float32(0.99328744),\n",
       " 'all_genes_mean_MSE': np.float32(0.0017594295),\n",
       " 'all_genes_var_R': np.float32(0.914543),\n",
       " 'all_genes_var_R2': np.float32(0.8363888),\n",
       " 'all_genes_var_MSE': np.float32(0.0018092245),\n",
       " 'all_genes_corr_mtx_R': np.float64(0.17428146307689132),\n",
       " 'all_genes_corr_mtx_R2': np.float64(0.030374028372221834),\n",
       " 'all_genes_corr_mtx_MSE': np.float64(0.007376010796250857),\n",
       " 'all_genes_cov_mtx_R': np.float64(0.23831284114404422),\n",
       " 'all_genes_cov_mtx_R2': np.float64(0.05679301025414645),\n",
       " 'all_genes_cov_mtx_MSE': np.float64(0.00021684922227372595),\n",
       " 'Top_2157_DEGs_sub_diff_R': np.float32(0.9561247),\n",
       " 'Top_2157_DEGs_sub_diff_R2': np.float32(0.9141745),\n",
       " 'Top_2157_DEGs_sub_diff_MSE': np.float32(0.005609851),\n",
       " 'Top_2157_DEGs_fold_diff_R': np.float32(0.98219043),\n",
       " 'Top_2157_DEGs_fold_diff_R2': np.float32(0.964698),\n",
       " 'Top_2157_DEGs_fold_diff_MSE': np.float32(0.40958938),\n",
       " 'Top_2157_DEGs_mean_R': np.float32(0.9956254),\n",
       " 'Top_2157_DEGs_mean_R2': np.float32(0.9912699),\n",
       " 'Top_2157_DEGs_mean_MSE': np.float32(0.005609851),\n",
       " 'Top_2157_DEGs_var_R': np.float32(0.8179762),\n",
       " 'Top_2157_DEGs_var_R2': np.float32(0.669085),\n",
       " 'Top_2157_DEGs_var_MSE': np.float32(0.004562742),\n",
       " 'Top_2157_DEGs_corr_mtx_R': np.float64(0.355532925749779),\n",
       " 'Top_2157_DEGs_corr_mtx_R2': np.float64(0.12640366129219788),\n",
       " 'Top_2157_DEGs_corr_mtx_MSE': np.float64(0.012166623489734),\n",
       " 'Top_2157_DEGs_cov_mtx_R': np.float64(0.3623368921598949),\n",
       " 'Top_2157_DEGs_cov_mtx_R2': np.float64(0.1312880234200913),\n",
       " 'Top_2157_DEGs_cov_mtx_MSE': np.float64(0.0007767709065749882),\n",
       " 'Top_100_DEGs_sub_diff_R': np.float32(0.9551055),\n",
       " 'Top_100_DEGs_sub_diff_R2': np.float32(0.9122265),\n",
       " 'Top_100_DEGs_sub_diff_MSE': np.float32(0.034154274),\n",
       " 'Top_100_DEGs_fold_diff_R': np.float32(0.98756),\n",
       " 'Top_100_DEGs_fold_diff_R2': np.float32(0.9752747),\n",
       " 'Top_100_DEGs_fold_diff_MSE': np.float32(5.768252),\n",
       " 'Top_100_DEGs_mean_R': np.float32(0.9929947),\n",
       " 'Top_100_DEGs_mean_R2': np.float32(0.9860385),\n",
       " 'Top_100_DEGs_mean_MSE': np.float32(0.034154274),\n",
       " 'Top_100_DEGs_var_R': np.float32(0.48717207),\n",
       " 'Top_100_DEGs_var_R2': np.float32(0.23733662),\n",
       " 'Top_100_DEGs_var_MSE': np.float32(0.045640387),\n",
       " 'Top_100_DEGs_corr_mtx_R': np.float64(0.5174789568061959),\n",
       " 'Top_100_DEGs_corr_mtx_R2': np.float64(0.2677844707372288),\n",
       " 'Top_100_DEGs_corr_mtx_MSE': np.float64(0.12298808843440959),\n",
       " 'Top_100_DEGs_cov_mtx_R': np.float64(0.40501212284176175),\n",
       " 'Top_100_DEGs_cov_mtx_R2': np.float64(0.1640348196487903),\n",
       " 'Top_100_DEGs_cov_mtx_MSE': np.float64(0.020654251971602804),\n",
       " 'Top_50_DEGs_sub_diff_R': np.float32(0.9511224),\n",
       " 'Top_50_DEGs_sub_diff_R2': np.float32(0.9046338),\n",
       " 'Top_50_DEGs_sub_diff_MSE': np.float32(0.047879048),\n",
       " 'Top_50_DEGs_fold_diff_R': np.float32(0.99030906),\n",
       " 'Top_50_DEGs_fold_diff_R2': np.float32(0.98071206),\n",
       " 'Top_50_DEGs_fold_diff_MSE': np.float32(7.325017),\n",
       " 'Top_50_DEGs_mean_R': np.float32(0.9932364),\n",
       " 'Top_50_DEGs_mean_R2': np.float32(0.98651856),\n",
       " 'Top_50_DEGs_mean_MSE': np.float32(0.047879048),\n",
       " 'Top_50_DEGs_var_R': np.float32(0.39941037),\n",
       " 'Top_50_DEGs_var_R2': np.float32(0.15952864),\n",
       " 'Top_50_DEGs_var_MSE': np.float32(0.07678264),\n",
       " 'Top_50_DEGs_corr_mtx_R': np.float64(0.5574576163781888),\n",
       " 'Top_50_DEGs_corr_mtx_R2': np.float64(0.3107589940580519),\n",
       " 'Top_50_DEGs_corr_mtx_MSE': np.float64(0.13758824607917203),\n",
       " 'Top_50_DEGs_cov_mtx_R': np.float64(0.43894475651350784),\n",
       " 'Top_50_DEGs_cov_mtx_R2': np.float64(0.19267249927070268),\n",
       " 'Top_50_DEGs_cov_mtx_MSE': np.float64(0.029532511250498952),\n",
       " 'Top_20_DEGs_sub_diff_R': np.float32(0.9589347),\n",
       " 'Top_20_DEGs_sub_diff_R2': np.float32(0.9195558),\n",
       " 'Top_20_DEGs_sub_diff_MSE': np.float32(0.06571128),\n",
       " 'Top_20_DEGs_fold_diff_R': np.float32(0.99324644),\n",
       " 'Top_20_DEGs_fold_diff_R2': np.float32(0.98653847),\n",
       " 'Top_20_DEGs_fold_diff_MSE': np.float32(9.958248),\n",
       " 'Top_20_DEGs_mean_R': np.float32(0.9931246),\n",
       " 'Top_20_DEGs_mean_R2': np.float32(0.9862965),\n",
       " 'Top_20_DEGs_mean_MSE': np.float32(0.06571128),\n",
       " 'Top_20_DEGs_var_R': np.float32(0.30466166),\n",
       " 'Top_20_DEGs_var_R2': np.float32(0.09281873),\n",
       " 'Top_20_DEGs_var_MSE': np.float32(0.14123973),\n",
       " 'Top_20_DEGs_corr_mtx_R': np.float64(0.673994207278223),\n",
       " 'Top_20_DEGs_corr_mtx_R2': np.float64(0.45426819144460023),\n",
       " 'Top_20_DEGs_corr_mtx_MSE': np.float64(0.1265262141282249),\n",
       " 'Top_20_DEGs_cov_mtx_R': np.float64(0.5418413295986064),\n",
       " 'Top_20_DEGs_cov_mtx_R2': np.float64(0.29359202646118565),\n",
       " 'Top_20_DEGs_cov_mtx_MSE': np.float64(0.03856114709039972)}"
      ]
     },
     "execution_count": 11,
     "metadata": {},
     "output_type": "execute_result"
    }
   ],
   "source": [
    "r2_and_mse\n"
   ]
  },
  {
   "cell_type": "code",
   "execution_count": null,
   "metadata": {},
   "outputs": [],
   "source": []
  }
 ],
 "metadata": {
  "kernelspec": {
   "display_name": "omnicell",
   "language": "python",
   "name": "omnicell"
  },
  "language_info": {
   "codemirror_mode": {
    "name": "ipython",
    "version": 3
   },
   "file_extension": ".py",
   "mimetype": "text/x-python",
   "name": "python",
   "nbconvert_exporter": "python",
   "pygments_lexer": "ipython3",
   "version": "3.9.21"
  }
 },
 "nbformat": 4,
 "nbformat_minor": 2
}
