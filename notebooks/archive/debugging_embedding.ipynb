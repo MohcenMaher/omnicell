{
 "cells": [
  {
   "cell_type": "code",
   "execution_count": 10,
   "metadata": {},
   "outputs": [],
   "source": [
    "import scanpy as sc\n",
    "import torch"
   ]
  },
  {
   "cell_type": "code",
   "execution_count": 13,
   "metadata": {},
   "outputs": [
    {
     "name": "stderr",
     "output_type": "stream",
     "text": [
      "/tmp/ipykernel_2509945/417592424.py:1: FutureWarning: You are using `torch.load` with `weights_only=False` (the current default value), which uses the default pickle module implicitly. It is possible to construct malicious pickle data which will execute arbitrary code during unpickling (See https://github.com/pytorch/pytorch/blob/main/SECURITY.md#untrusted-models for more details). In a future release, the default value for `weights_only` will be flipped to `True`. This limits the functions that could be executed during unpickling. Arbitrary objects will no longer be allowed to be loaded via this mode unless they are explicitly allowlisted by the user via `torch.serialization.add_safe_globals`. We recommend you start setting `weights_only=True` for any use case where you don't have full control of the loaded file. Please open an issue on GitHub for any issues related to this experimental feature.\n",
      "  dic = torch.load(\"/orcd/archive/abugoot/001/Projects/dlesman/datasets/satija_IFNB_raw/UCE_ESM2_Mean_Imputed.pt\")\n"
     ]
    }
   ],
   "source": [
    "dic = torch.load(\"/orcd/archive/abugoot/001/Projects/dlesman/datasets/satija_IFNB_raw/UCE_ESM2_Mean_Imputed.pt\")"
   ]
  },
  {
   "cell_type": "code",
   "execution_count": 14,
   "metadata": {},
   "outputs": [
    {
     "name": "stdout",
     "output_type": "stream",
     "text": [
      "TRAFD1 torch.Size([5120])\n",
      "HES4 torch.Size([5120])\n",
      "STAT5A torch.Size([5120])\n",
      "STAT4 torch.Size([5120])\n",
      "RNF114 torch.Size([5120])\n",
      "UBE2L6 torch.Size([5120])\n",
      "MAPK8 torch.Size([5120])\n",
      "ETS1 torch.Size([5120])\n",
      "PARP12 torch.Size([5120])\n",
      "FOS torch.Size([5120])\n",
      "MAPK14 torch.Size([5120])\n",
      "TRIM22 torch.Size([5120])\n",
      "DRAP1 torch.Size([5120])\n",
      "CRKL torch.Size([5120])\n",
      "DTX3L torch.Size([5120])\n",
      "BATF2 torch.Size([5120])\n",
      "JAK1 torch.Size([5120])\n",
      "HERC5 torch.Size([5120])\n",
      "IFNAR2 torch.Size([5120])\n",
      "VAV1 torch.Size([5120])\n",
      "ID3 torch.Size([5120])\n",
      "MEF2A torch.Size([5120])\n",
      "MYC torch.Size([5120])\n",
      "BRD9 torch.Size([5120])\n",
      "STAT1 torch.Size([5120])\n",
      "IRF1 torch.Size([5120])\n",
      "STAT2 torch.Size([5120])\n",
      "SP100 torch.Size([5120])\n",
      "HERC6 torch.Size([5120])\n",
      "SOCS1 torch.Size([5120])\n",
      "TYK2 torch.Size([5120])\n",
      "STAT6 torch.Size([5120])\n",
      "H1F0 torch.Size([5120])\n",
      "ZNFX1 torch.Size([5120])\n",
      "ZBP1 torch.Size([5120])\n",
      "USP18 torch.Size([5120])\n",
      "SMARCA5 torch.Size([5120])\n",
      "RAP1GAP torch.Size([5120])\n",
      "IRF7 torch.Size([5120])\n",
      "ID2 torch.Size([5120])\n",
      "IFNAR1 torch.Size([5120])\n",
      "NFKB1 torch.Size([5120])\n",
      "IFI16 torch.Size([5120])\n",
      "AKT1 torch.Size([5120])\n",
      "SP110 torch.Size([5120])\n",
      "ETS2 torch.Size([5120])\n",
      "STAT3 torch.Size([5120])\n",
      "IRF9 torch.Size([5120])\n",
      "ADAR torch.Size([5120])\n",
      "RAPGEF1 torch.Size([5120])\n",
      "ELK1 torch.Size([5120])\n",
      "NFE2L3 torch.Size([5120])\n",
      "CEBPG torch.Size([5120])\n",
      "JUN torch.Size([5120])\n",
      "TRIM21 torch.Size([5120])\n",
      "CEBPB torch.Size([5120])\n",
      "MAP3K14 torch.Size([5120])\n",
      "IRF3 torch.Size([5120])\n",
      "ID1 torch.Size([5120])\n",
      "UBA7 torch.Size([5120])\n",
      "POU2F1 torch.Size([5120])\n"
     ]
    }
   ],
   "source": [
    "for i in dic:\n",
    "    print(i, dic[i].shape)"
   ]
  },
  {
   "cell_type": "code",
   "execution_count": null,
   "metadata": {},
   "outputs": [],
   "source": []
  }
 ],
 "metadata": {
  "kernelspec": {
   "display_name": "Python 3 (ipykernel)",
   "language": "python",
   "name": "python3"
  },
  "language_info": {
   "codemirror_mode": {
    "name": "ipython",
    "version": 3
   },
   "file_extension": ".py",
   "mimetype": "text/x-python",
   "name": "python",
   "nbconvert_exporter": "python",
   "pygments_lexer": "ipython3",
   "version": "3.9.19"
  }
 },
 "nbformat": 4,
 "nbformat_minor": 2
}
