{
 "cells": [
  {
   "cell_type": "code",
   "execution_count": 1,
   "metadata": {},
   "outputs": [],
   "source": [
    "import sys\n",
    "import sys\n",
    "sys.path.append('../../')\n",
    "from omnicell.constants import *\n",
    "\n",
    "from omnicell.models.gears.gears import GEARS\n",
    "import omnicell.models.gears.pertdata as pertdata_new\n",
    "import omnicell.models.gears.pertdata_old as pertdata_old\n",
    "from omnicell.data.catalogue import Catalogue\n",
    "from omnicell.models.gears.pertdata import PertData\n",
    "from omnicell.data.catalogue import Catalogue\n",
    "from omnicell.models.gears.gears import GEARS\n",
    "import scanpy as sc\n",
    "import torch\n",
    "import numpy as np\n"
   ]
  },
  {
   "cell_type": "code",
   "execution_count": 2,
   "metadata": {},
   "outputs": [
    {
     "data": {
      "text/html": [
       "<div>\n",
       "<style scoped>\n",
       "    .dataframe tbody tr th:only-of-type {\n",
       "        vertical-align: middle;\n",
       "    }\n",
       "\n",
       "    .dataframe tbody tr th {\n",
       "        vertical-align: top;\n",
       "    }\n",
       "\n",
       "    .dataframe thead th {\n",
       "        text-align: right;\n",
       "    }\n",
       "</style>\n",
       "<table border=\"1\" class=\"dataframe\">\n",
       "  <thead>\n",
       "    <tr style=\"text-align: right;\">\n",
       "      <th></th>\n",
       "      <th>orig.ident</th>\n",
       "      <th>nCount_RNA</th>\n",
       "      <th>nFeature_RNA</th>\n",
       "      <th>sample</th>\n",
       "      <th>bc1_well</th>\n",
       "      <th>bc2_well</th>\n",
       "      <th>bc3_well</th>\n",
       "      <th>percent.mito</th>\n",
       "      <th>cell_type</th>\n",
       "      <th>pathway</th>\n",
       "      <th>RNA_snn_res.0.9</th>\n",
       "      <th>seurat_clusters</th>\n",
       "      <th>sample_ID</th>\n",
       "      <th>Batch_info</th>\n",
       "      <th>guide</th>\n",
       "      <th>gene</th>\n",
       "      <th>mixscale_score</th>\n",
       "    </tr>\n",
       "  </thead>\n",
       "  <tbody>\n",
       "    <tr>\n",
       "      <th>06_28_67_1_1_1_1_1_1_1_1_1</th>\n",
       "      <td>6</td>\n",
       "      <td>8999</td>\n",
       "      <td>3854</td>\n",
       "      <td>A549_IFNB</td>\n",
       "      <td>A6</td>\n",
       "      <td>C4</td>\n",
       "      <td>F7</td>\n",
       "      <td>9.189910</td>\n",
       "      <td>A549</td>\n",
       "      <td>IFNB</td>\n",
       "      <td>15.0</td>\n",
       "      <td>15.0</td>\n",
       "      <td>sample_1</td>\n",
       "      <td>Rep1</td>\n",
       "      <td>NTg8</td>\n",
       "      <td>NT</td>\n",
       "      <td>0.000000</td>\n",
       "    </tr>\n",
       "    <tr>\n",
       "      <th>06_27_93_1_1_1_1_1_1_1_1_1</th>\n",
       "      <td>6</td>\n",
       "      <td>8384</td>\n",
       "      <td>3600</td>\n",
       "      <td>A549_IFNB</td>\n",
       "      <td>A6</td>\n",
       "      <td>C3</td>\n",
       "      <td>H9</td>\n",
       "      <td>3.268130</td>\n",
       "      <td>A549</td>\n",
       "      <td>IFNB</td>\n",
       "      <td>15.0</td>\n",
       "      <td>15.0</td>\n",
       "      <td>sample_1</td>\n",
       "      <td>Rep1</td>\n",
       "      <td>STAT5Ag1</td>\n",
       "      <td>STAT5A</td>\n",
       "      <td>0.377627</td>\n",
       "    </tr>\n",
       "    <tr>\n",
       "      <th>07_79_66_1_1_1_1_1_1_1_1_1</th>\n",
       "      <td>7</td>\n",
       "      <td>7873</td>\n",
       "      <td>3300</td>\n",
       "      <td>A549_IFNB</td>\n",
       "      <td>A7</td>\n",
       "      <td>G7</td>\n",
       "      <td>F6</td>\n",
       "      <td>6.236505</td>\n",
       "      <td>A549</td>\n",
       "      <td>IFNB</td>\n",
       "      <td>15.0</td>\n",
       "      <td>15.0</td>\n",
       "      <td>sample_1</td>\n",
       "      <td>Rep1</td>\n",
       "      <td>RNF114g3</td>\n",
       "      <td>RNF114</td>\n",
       "      <td>-1.004491</td>\n",
       "    </tr>\n",
       "    <tr>\n",
       "      <th>06_24_45_1_1_1_1_1_1_1_1_1</th>\n",
       "      <td>6</td>\n",
       "      <td>7015</td>\n",
       "      <td>3393</td>\n",
       "      <td>A549_IFNB</td>\n",
       "      <td>A6</td>\n",
       "      <td>B12</td>\n",
       "      <td>D9</td>\n",
       "      <td>6.557377</td>\n",
       "      <td>A549</td>\n",
       "      <td>IFNB</td>\n",
       "      <td>15.0</td>\n",
       "      <td>15.0</td>\n",
       "      <td>sample_1</td>\n",
       "      <td>Rep1</td>\n",
       "      <td>TRIM22g1</td>\n",
       "      <td>TRIM22</td>\n",
       "      <td>-0.666294</td>\n",
       "    </tr>\n",
       "    <tr>\n",
       "      <th>06_84_11_1_1_1_1_1_1_1_1_1</th>\n",
       "      <td>6</td>\n",
       "      <td>6593</td>\n",
       "      <td>3475</td>\n",
       "      <td>A549_IFNB</td>\n",
       "      <td>A6</td>\n",
       "      <td>G12</td>\n",
       "      <td>A11</td>\n",
       "      <td>4.641286</td>\n",
       "      <td>A549</td>\n",
       "      <td>IFNB</td>\n",
       "      <td>15.0</td>\n",
       "      <td>15.0</td>\n",
       "      <td>sample_1</td>\n",
       "      <td>Rep1</td>\n",
       "      <td>STAT5Ag2</td>\n",
       "      <td>STAT5A</td>\n",
       "      <td>1.337676</td>\n",
       "    </tr>\n",
       "    <tr>\n",
       "      <th>...</th>\n",
       "      <td>...</td>\n",
       "      <td>...</td>\n",
       "      <td>...</td>\n",
       "      <td>...</td>\n",
       "      <td>...</td>\n",
       "      <td>...</td>\n",
       "      <td>...</td>\n",
       "      <td>...</td>\n",
       "      <td>...</td>\n",
       "      <td>...</td>\n",
       "      <td>...</td>\n",
       "      <td>...</td>\n",
       "      <td>...</td>\n",
       "      <td>...</td>\n",
       "      <td>...</td>\n",
       "      <td>...</td>\n",
       "      <td>...</td>\n",
       "    </tr>\n",
       "    <tr>\n",
       "      <th>07_77_55_2_2</th>\n",
       "      <td>7</td>\n",
       "      <td>2087</td>\n",
       "      <td>1451</td>\n",
       "      <td>A549_IFNB</td>\n",
       "      <td>A7</td>\n",
       "      <td>G5</td>\n",
       "      <td>E7</td>\n",
       "      <td>2.635362</td>\n",
       "      <td>A549</td>\n",
       "      <td>IFNB</td>\n",
       "      <td>NaN</td>\n",
       "      <td>NaN</td>\n",
       "      <td>sample_16</td>\n",
       "      <td>Rep2</td>\n",
       "      <td>MAP3K14g2</td>\n",
       "      <td>MAP3K14</td>\n",
       "      <td>-0.997436</td>\n",
       "    </tr>\n",
       "    <tr>\n",
       "      <th>08_50_26_2_2</th>\n",
       "      <td>8</td>\n",
       "      <td>2064</td>\n",
       "      <td>1223</td>\n",
       "      <td>A549_IFNB</td>\n",
       "      <td>A8</td>\n",
       "      <td>E2</td>\n",
       "      <td>C2</td>\n",
       "      <td>3.536822</td>\n",
       "      <td>A549</td>\n",
       "      <td>IFNB</td>\n",
       "      <td>NaN</td>\n",
       "      <td>NaN</td>\n",
       "      <td>sample_16</td>\n",
       "      <td>Rep2</td>\n",
       "      <td>RNF114g3</td>\n",
       "      <td>RNF114</td>\n",
       "      <td>0.396394</td>\n",
       "    </tr>\n",
       "    <tr>\n",
       "      <th>08_10_10_2_2</th>\n",
       "      <td>8</td>\n",
       "      <td>1961</td>\n",
       "      <td>1384</td>\n",
       "      <td>A549_IFNB</td>\n",
       "      <td>A8</td>\n",
       "      <td>A10</td>\n",
       "      <td>A10</td>\n",
       "      <td>1.529832</td>\n",
       "      <td>A549</td>\n",
       "      <td>IFNB</td>\n",
       "      <td>NaN</td>\n",
       "      <td>NaN</td>\n",
       "      <td>sample_16</td>\n",
       "      <td>Rep2</td>\n",
       "      <td>STAT2g2</td>\n",
       "      <td>STAT2</td>\n",
       "      <td>3.465757</td>\n",
       "    </tr>\n",
       "    <tr>\n",
       "      <th>05_46_58_2_2</th>\n",
       "      <td>5</td>\n",
       "      <td>1555</td>\n",
       "      <td>1024</td>\n",
       "      <td>A549_IFNB</td>\n",
       "      <td>A5</td>\n",
       "      <td>D10</td>\n",
       "      <td>E10</td>\n",
       "      <td>12.347267</td>\n",
       "      <td>A549</td>\n",
       "      <td>IFNB</td>\n",
       "      <td>NaN</td>\n",
       "      <td>NaN</td>\n",
       "      <td>sample_16</td>\n",
       "      <td>Rep2</td>\n",
       "      <td>STAT2g3</td>\n",
       "      <td>STAT2</td>\n",
       "      <td>2.802478</td>\n",
       "    </tr>\n",
       "    <tr>\n",
       "      <th>05_19_25_2_2</th>\n",
       "      <td>5</td>\n",
       "      <td>1461</td>\n",
       "      <td>988</td>\n",
       "      <td>A549_IFNB</td>\n",
       "      <td>A5</td>\n",
       "      <td>B7</td>\n",
       "      <td>C1</td>\n",
       "      <td>4.996578</td>\n",
       "      <td>A549</td>\n",
       "      <td>IFNB</td>\n",
       "      <td>NaN</td>\n",
       "      <td>NaN</td>\n",
       "      <td>sample_16</td>\n",
       "      <td>Rep2</td>\n",
       "      <td>STAT2g2</td>\n",
       "      <td>STAT2</td>\n",
       "      <td>3.216742</td>\n",
       "    </tr>\n",
       "  </tbody>\n",
       "</table>\n",
       "<p>6845 rows × 17 columns</p>\n",
       "</div>"
      ],
      "text/plain": [
       "                            orig.ident  nCount_RNA  nFeature_RNA     sample  \\\n",
       "06_28_67_1_1_1_1_1_1_1_1_1           6        8999          3854  A549_IFNB   \n",
       "06_27_93_1_1_1_1_1_1_1_1_1           6        8384          3600  A549_IFNB   \n",
       "07_79_66_1_1_1_1_1_1_1_1_1           7        7873          3300  A549_IFNB   \n",
       "06_24_45_1_1_1_1_1_1_1_1_1           6        7015          3393  A549_IFNB   \n",
       "06_84_11_1_1_1_1_1_1_1_1_1           6        6593          3475  A549_IFNB   \n",
       "...                                ...         ...           ...        ...   \n",
       "07_77_55_2_2                         7        2087          1451  A549_IFNB   \n",
       "08_50_26_2_2                         8        2064          1223  A549_IFNB   \n",
       "08_10_10_2_2                         8        1961          1384  A549_IFNB   \n",
       "05_46_58_2_2                         5        1555          1024  A549_IFNB   \n",
       "05_19_25_2_2                         5        1461           988  A549_IFNB   \n",
       "\n",
       "                           bc1_well bc2_well bc3_well  percent.mito cell_type  \\\n",
       "06_28_67_1_1_1_1_1_1_1_1_1       A6       C4       F7      9.189910      A549   \n",
       "06_27_93_1_1_1_1_1_1_1_1_1       A6       C3       H9      3.268130      A549   \n",
       "07_79_66_1_1_1_1_1_1_1_1_1       A7       G7       F6      6.236505      A549   \n",
       "06_24_45_1_1_1_1_1_1_1_1_1       A6      B12       D9      6.557377      A549   \n",
       "06_84_11_1_1_1_1_1_1_1_1_1       A6      G12      A11      4.641286      A549   \n",
       "...                             ...      ...      ...           ...       ...   \n",
       "07_77_55_2_2                     A7       G5       E7      2.635362      A549   \n",
       "08_50_26_2_2                     A8       E2       C2      3.536822      A549   \n",
       "08_10_10_2_2                     A8      A10      A10      1.529832      A549   \n",
       "05_46_58_2_2                     A5      D10      E10     12.347267      A549   \n",
       "05_19_25_2_2                     A5       B7       C1      4.996578      A549   \n",
       "\n",
       "                           pathway  RNA_snn_res.0.9  seurat_clusters  \\\n",
       "06_28_67_1_1_1_1_1_1_1_1_1    IFNB             15.0             15.0   \n",
       "06_27_93_1_1_1_1_1_1_1_1_1    IFNB             15.0             15.0   \n",
       "07_79_66_1_1_1_1_1_1_1_1_1    IFNB             15.0             15.0   \n",
       "06_24_45_1_1_1_1_1_1_1_1_1    IFNB             15.0             15.0   \n",
       "06_84_11_1_1_1_1_1_1_1_1_1    IFNB             15.0             15.0   \n",
       "...                            ...              ...              ...   \n",
       "07_77_55_2_2                  IFNB              NaN              NaN   \n",
       "08_50_26_2_2                  IFNB              NaN              NaN   \n",
       "08_10_10_2_2                  IFNB              NaN              NaN   \n",
       "05_46_58_2_2                  IFNB              NaN              NaN   \n",
       "05_19_25_2_2                  IFNB              NaN              NaN   \n",
       "\n",
       "                            sample_ID Batch_info      guide     gene  \\\n",
       "06_28_67_1_1_1_1_1_1_1_1_1   sample_1       Rep1       NTg8       NT   \n",
       "06_27_93_1_1_1_1_1_1_1_1_1   sample_1       Rep1   STAT5Ag1   STAT5A   \n",
       "07_79_66_1_1_1_1_1_1_1_1_1   sample_1       Rep1   RNF114g3   RNF114   \n",
       "06_24_45_1_1_1_1_1_1_1_1_1   sample_1       Rep1   TRIM22g1   TRIM22   \n",
       "06_84_11_1_1_1_1_1_1_1_1_1   sample_1       Rep1   STAT5Ag2   STAT5A   \n",
       "...                               ...        ...        ...      ...   \n",
       "07_77_55_2_2                sample_16       Rep2  MAP3K14g2  MAP3K14   \n",
       "08_50_26_2_2                sample_16       Rep2   RNF114g3   RNF114   \n",
       "08_10_10_2_2                sample_16       Rep2    STAT2g2    STAT2   \n",
       "05_46_58_2_2                sample_16       Rep2    STAT2g3    STAT2   \n",
       "05_19_25_2_2                sample_16       Rep2    STAT2g2    STAT2   \n",
       "\n",
       "                            mixscale_score  \n",
       "06_28_67_1_1_1_1_1_1_1_1_1        0.000000  \n",
       "06_27_93_1_1_1_1_1_1_1_1_1        0.377627  \n",
       "07_79_66_1_1_1_1_1_1_1_1_1       -1.004491  \n",
       "06_24_45_1_1_1_1_1_1_1_1_1       -0.666294  \n",
       "06_84_11_1_1_1_1_1_1_1_1_1        1.337676  \n",
       "...                                    ...  \n",
       "07_77_55_2_2                     -0.997436  \n",
       "08_50_26_2_2                      0.396394  \n",
       "08_10_10_2_2                      3.465757  \n",
       "05_46_58_2_2                      2.802478  \n",
       "05_19_25_2_2                      3.216742  \n",
       "\n",
       "[6845 rows x 17 columns]"
      ]
     },
     "execution_count": 2,
     "metadata": {},
     "output_type": "execute_result"
    }
   ],
   "source": [
    "\n",
    "\n",
    "DATASET_NAME = 'satija_IFNB_raw'\n",
    "dd = Catalogue.get_dataset_details(DATASET_NAME)\n",
    "adata = sc.read(dd.path)\n",
    "\n",
    "adata = adata[adata.obs[dd.cell_key] == 'A549']\n",
    "\n",
    "#random selection of 20 perts + control\n",
    "perts = np.random.choice(adata.obs[dd.pert_key].unique(), 10, replace=False)\n",
    "perts = set(perts).union(set([dd.control]))\n",
    "adata = adata[adata.obs[dd.pert_key].isin(perts)]\n",
    "\n",
    "\n",
    "adata.obs"
   ]
  },
  {
   "cell_type": "code",
   "execution_count": 3,
   "metadata": {},
   "outputs": [],
   "source": [
    "\n",
    "adata.obs[\"condition\"] = adata.obs[dd.pert_key]\n",
    "perts = [p for p in adata.obs[\"condition\"].unique() if p != dd.control]\n",
    "adata.obs[\"condition\"] = adata.obs[\"condition\"].replace({dd.control:\"ctrl\"})\n",
    "adata.obs[\"condition\"] = adata.obs[\"condition\"].replace({p:p+\"+ctrl\" for p in perts})\n",
    "adata.var[\"gene_name\"] = adata.var_names\n",
    "\n",
    "\n"
   ]
  },
  {
   "cell_type": "code",
   "execution_count": 4,
   "metadata": {},
   "outputs": [
    {
     "name": "stdout",
     "output_type": "stream",
     "text": [
      "Data loaded from /orcd/data/omarabu/001/Omnicell_datasets/satija_IFNB_raw/Seurat_IFNB.h5ad\n",
      "Data normalized and log transformed\n"
     ]
    }
   ],
   "source": [
    "\n",
    "\n",
    "\n",
    "print(f\"Data loaded from {dd.path}\")\n",
    "sc.pp.normalize_total(adata)\n",
    "sc.pp.log1p(adata)\n",
    "sc.pp.highly_variable_genes(adata,n_top_genes=5000, subset=True)\n",
    "print(f\"Data normalized and log transformed\")\n",
    "\n",
    "device = 'cuda' if torch.cuda.is_available() else 'cpu'\n",
    "\n"
   ]
  },
  {
   "cell_type": "code",
   "execution_count": null,
   "metadata": {},
   "outputs": [],
   "source": [
    "\n",
    "\n",
    "pert_data = pertdata_old.PertData('./data') # specific saved folder\n",
    "print(f\"Saving data in ./data\")\n",
    "\n",
    "pert_data.new_data_process(dataset_name = DATASET_NAME, adata = adata, skip_calc_de=False) # specific dataset name and adata object\n",
    "print(f\"Data processed and saved in {pert_data.data_path}\")\n",
    "pert_data.prepare_split(split = 'no_test', seed = 1) # get data split with seed\n",
    "print(f\"Data split with seed 1\")\n",
    "pert_data.get_dataloader(batch_size = 32, test_batch_size = 128) # prepare data loader\n",
    "print(f\"Data loader prepared\")\n"
   ]
  },
  {
   "cell_type": "code",
   "execution_count": null,
   "metadata": {},
   "outputs": [],
   "source": [
    "\n",
    "\n",
    "\n",
    "gears_model = GEARS(pert_data, device = device, \n",
    "                        weight_bias_track = False, \n",
    "                        proj_name = 'pertnet', \n",
    "                        exp_name = 'pertnet')\n",
    "\n",
    "gears_model.model_initialize(hidden_size = 64)\n",
    "\n",
    "gears_model.tunable_parameters()\n",
    "\n"
   ]
  },
  {
   "cell_type": "code",
   "execution_count": null,
   "metadata": {},
   "outputs": [],
   "source": [
    "\n",
    "print(f\"Training model\")\n",
    "gears_model.train(epochs = 1, lr = 1e-3)\n",
    "\n",
    "\n",
    "gears_model.save_model('test_model')\n",
    "gears_model.load_pretrained('test_model')\n",
    "\n",
    "\n",
    "res = gears_model.predict([['RPL15']])\n",
    "\n",
    "np.savez('res.npz', res)\n",
    "\n"
   ]
  },
  {
   "cell_type": "code",
   "execution_count": 5,
   "metadata": {},
   "outputs": [
    {
     "name": "stderr",
     "output_type": "stream",
     "text": [
      "Downloading...\n",
      "100%|██████████| 9.46M/9.46M [00:00<00:00, 12.9MiB/s]\n"
     ]
    },
    {
     "name": "stdout",
     "output_type": "stream",
     "text": [
      "Saving data in ./data\n",
      "Starting new data processing for satija_IFNB_raw\n",
      "Getting DE Genes\n",
      "Got DE genes for satija_ifnb_raw: 0.26 seconds\n"
     ]
    },
    {
     "name": "stderr",
     "output_type": "stream",
     "text": [
      "Downloading...\n",
      "100%|██████████| 559k/559k [00:00<00:00, 2.13MiB/s]\n"
     ]
    },
    {
     "name": "stdout",
     "output_type": "stream",
     "text": [
      "Test\n",
      "Creating pyg object for each cell in the data...\n",
      "Creating dataset file...\n"
     ]
    },
    {
     "name": "stderr",
     "output_type": "stream",
     "text": [
      "  9%|▉         | 1/11 [00:00<00:01,  7.35it/s]"
     ]
    },
    {
     "name": "stdout",
     "output_type": "stream",
     "text": [
      "Creating 1379 cell graphs for ctrl: 0.11 seconds\n",
      "Cell graph dataset for ctrl created, first element: Data(x=[5000, 1], y=[1, 5000], pert_idx=[1], de_idx=[20], pert='ctrl')\n",
      "create_cell_graph_dataset call duration: ctrl: 0.13 seconds\n",
      "Ctrl data shape (842, 5000), adata shape (842, 5000)\n",
      "Creating 842 cell graphs for STAT5A+ctrl, Xs[0] shape (5000,), ys[0] shape (5000,)\n"
     ]
    },
    {
     "name": "stderr",
     "output_type": "stream",
     "text": [
      " 18%|█▊        | 2/11 [00:00<00:01,  7.95it/s]"
     ]
    },
    {
     "name": "stdout",
     "output_type": "stream",
     "text": [
      "Creating 842 cell graphs for STAT5A+ctrl: 0.07 seconds\n",
      "Cell graph dataset for STAT5A+ctrl created, first element: Data(x=[5000, 1], y=[1, 5000], pert_idx=[1], de_idx=[20], pert='STAT5A+ctrl')\n",
      "create_cell_graph_dataset call duration: STAT5A+ctrl: 0.12 seconds\n",
      "Ctrl data shape (688, 5000), adata shape (688, 5000)\n",
      "Creating 688 cell graphs for RNF114+ctrl, Xs[0] shape (5000,), ys[0] shape (5000,)\n"
     ]
    },
    {
     "name": "stderr",
     "output_type": "stream",
     "text": [
      " 27%|██▋       | 3/11 [00:00<00:00,  8.71it/s]"
     ]
    },
    {
     "name": "stdout",
     "output_type": "stream",
     "text": [
      "Creating 688 cell graphs for RNF114+ctrl: 0.06 seconds\n",
      "Cell graph dataset for RNF114+ctrl created, first element: Data(x=[5000, 1], y=[1, 5000], pert_idx=[1], de_idx=[20], pert='RNF114+ctrl')\n",
      "create_cell_graph_dataset call duration: RNF114+ctrl: 0.10 seconds\n",
      "TRIM22+ctrl\n",
      "Ctrl data shape (381, 5000), adata shape (381, 5000)\n",
      "Creating 381 cell graphs for TRIM22+ctrl, Xs[0] shape (5000,), ys[0] shape (5000,)\n",
      "Creating 381 cell graphs for TRIM22+ctrl: 0.03 seconds\n",
      "Cell graph dataset for TRIM22+ctrl created, first element: Data(x=[5000, 1], y=[1, 5000], pert_idx=[1], de_idx=[20], pert='TRIM22+ctrl')\n",
      "create_cell_graph_dataset call duration: TRIM22+ctrl: 0.06 seconds\n",
      "HERC5+ctrl\n",
      "Ctrl data shape (468, 5000), adata shape (468, 5000)\n",
      "Creating 468 cell graphs for HERC5+ctrl, Xs[0] shape (5000,), ys[0] shape (5000,)\n"
     ]
    },
    {
     "name": "stderr",
     "output_type": "stream",
     "text": [
      " 45%|████▌     | 5/11 [00:00<00:00, 11.86it/s]"
     ]
    },
    {
     "name": "stdout",
     "output_type": "stream",
     "text": [
      "Creating 468 cell graphs for HERC5+ctrl: 0.04 seconds\n",
      "Cell graph dataset for HERC5+ctrl created, first element: Data(x=[5000, 1], y=[1, 5000], pert_idx=[1], de_idx=[20], pert='HERC5+ctrl')\n",
      "create_cell_graph_dataset call duration: HERC5+ctrl: 0.06 seconds\n",
      "Ctrl data shape (417, 5000), adata shape (417, 5000)\n",
      "Creating 417 cell graphs for STAT2+ctrl, Xs[0] shape (5000,), ys[0] shape (5000,)\n",
      "Creating 417 cell graphs for STAT2+ctrl: 0.03 seconds\n",
      "Cell graph dataset for STAT2+ctrl created, first element: Data(x=[5000, 1], y=[1, 5000], pert_idx=[1], de_idx=[20], pert='STAT2+ctrl')\n",
      "create_cell_graph_dataset call duration: STAT2+ctrl: 0.06 seconds\n"
     ]
    },
    {
     "name": "stderr",
     "output_type": "stream",
     "text": [
      " 64%|██████▎   | 7/11 [00:00<00:00, 12.48it/s]"
     ]
    },
    {
     "name": "stdout",
     "output_type": "stream",
     "text": [
      "Ctrl data shape (737, 5000), adata shape (737, 5000)\n",
      "Creating 737 cell graphs for TYK2+ctrl, Xs[0] shape (5000,), ys[0] shape (5000,)\n",
      "Creating 737 cell graphs for TYK2+ctrl: 0.05 seconds\n",
      "Cell graph dataset for TYK2+ctrl created, first element: Data(x=[5000, 1], y=[1, 5000], pert_idx=[1], de_idx=[20], pert='TYK2+ctrl')\n",
      "create_cell_graph_dataset call duration: TYK2+ctrl: 0.09 seconds\n",
      "Ctrl data shape (675, 5000), adata shape (675, 5000)\n",
      "Creating 675 cell graphs for RAP1GAP+ctrl, Xs[0] shape (5000,), ys[0] shape (5000,)\n",
      "Creating 675 cell graphs for RAP1GAP+ctrl: 0.06 seconds\n",
      "Cell graph dataset for RAP1GAP+ctrl created, first element: Data(x=[5000, 1], y=[1, 5000], pert_idx=[1], de_idx=[20], pert='RAP1GAP+ctrl')\n",
      "create_cell_graph_dataset call duration: RAP1GAP+ctrl: 0.09 seconds\n",
      "Ctrl data shape (436, 5000), adata shape (436, 5000)\n",
      "Creating 436 cell graphs for IRF7+ctrl, Xs[0] shape (5000,), ys[0] shape (5000,)\n"
     ]
    },
    {
     "name": "stderr",
     "output_type": "stream",
     "text": [
      " 82%|████████▏ | 9/11 [00:00<00:00, 12.67it/s]"
     ]
    },
    {
     "name": "stdout",
     "output_type": "stream",
     "text": [
      "Creating 436 cell graphs for IRF7+ctrl: 0.03 seconds\n",
      "Cell graph dataset for IRF7+ctrl created, first element: Data(x=[5000, 1], y=[1, 5000], pert_idx=[1], de_idx=[20], pert='IRF7+ctrl')\n",
      "create_cell_graph_dataset call duration: IRF7+ctrl: 0.06 seconds\n",
      "Ctrl data shape (415, 5000), adata shape (415, 5000)\n",
      "Creating 415 cell graphs for NFE2L3+ctrl, Xs[0] shape (5000,), ys[0] shape (5000,)\n"
     ]
    },
    {
     "name": "stderr",
     "output_type": "stream",
     "text": [
      "100%|██████████| 11/11 [00:01<00:00,  9.96it/s]"
     ]
    },
    {
     "name": "stdout",
     "output_type": "stream",
     "text": [
      "Creating 415 cell graphs for NFE2L3+ctrl: 0.24 seconds\n",
      "Cell graph dataset for NFE2L3+ctrl created, first element: Data(x=[5000, 1], y=[1, 5000], pert_idx=[1], de_idx=[20], pert='NFE2L3+ctrl')\n",
      "create_cell_graph_dataset call duration: NFE2L3+ctrl: 0.26 seconds\n",
      "MAP3K14+ctrl\n",
      "Ctrl data shape (407, 5000), adata shape (407, 5000)\n",
      "Creating 407 cell graphs for MAP3K14+ctrl, Xs[0] shape (5000,), ys[0] shape (5000,)\n",
      "Creating 407 cell graphs for MAP3K14+ctrl: 0.03 seconds\n",
      "Cell graph dataset for MAP3K14+ctrl created, first element: Data(x=[5000, 1], y=[1, 5000], pert_idx=[1], de_idx=[20], pert='MAP3K14+ctrl')\n",
      "create_cell_graph_dataset call duration: MAP3K14+ctrl: 0.06 seconds\n",
      "Done!\n",
      "Saving new dataset pyg object at ./data_new/satija_ifnb_raw/data_pyg/cell_graphs.pkl\n"
     ]
    },
    {
     "name": "stderr",
     "output_type": "stream",
     "text": [
      "\n",
      "Creating new splits....\n",
      "Saving new splits at ./data_new/satija_ifnb_raw/splits/satija_ifnb_raw_no_test_1_0.75.pkl\n",
      "Done!\n",
      "Creating dataloaders....\n",
      "Done!\n"
     ]
    },
    {
     "name": "stdout",
     "output_type": "stream",
     "text": [
      "Done!\n",
      "Data processed and saved in ./data_new\n",
      "Data split with seed 1\n",
      "Data loader prepared\n"
     ]
    }
   ],
   "source": [
    "pert_data_new = pertdata_new.PertData('./data_new') # specific saved folder\n",
    "\n",
    "\n",
    "print(f\"Saving data in ./data\")\n",
    "\n",
    "pert_data_new.new_data_process(dataset_name = DATASET_NAME, adata = adata, skip_calc_de=True) # specific dataset name and adata object\n",
    "print(f\"Data processed and saved in {pert_data_new.data_path}\")\n",
    "pert_data_new.prepare_split(split = 'no_test', seed = 1) # get data split with seed\n",
    "print(f\"Data split with seed 1\")\n",
    "pert_data_new.get_dataloader(batch_size = 32, test_batch_size = 128) # prepare data loader\n",
    "print(f\"Data loader prepared\")\n"
   ]
  },
  {
   "cell_type": "code",
   "execution_count": 6,
   "metadata": {},
   "outputs": [
    {
     "name": "stderr",
     "output_type": "stream",
     "text": [
      "Downloading...\n",
      "100%|██████████| 60.7M/60.7M [00:26<00:00, 2.26MiB/s]\n",
      "Extracting tar file...\n",
      "Done!\n"
     ]
    },
    {
     "data": {
      "text/plain": [
       "{'hidden_size': 'hidden dimension, default 64',\n",
       " 'num_go_gnn_layers': 'number of GNN layers for GO graph, default 1',\n",
       " 'num_gene_gnn_layers': 'number of GNN layers for co-expression gene graph, default 1',\n",
       " 'decoder_hidden_size': 'hidden dimension for gene-specific decoder, default 16',\n",
       " 'num_similar_genes_go_graph': 'number of maximum similar K genes in the GO graph, default 20',\n",
       " 'num_similar_genes_co_express_graph': 'number of maximum similar K genes in the co expression graph, default 20',\n",
       " 'coexpress_threshold': 'pearson correlation threshold when constructing coexpression graph, default 0.4',\n",
       " 'uncertainty': 'whether or not to turn on uncertainty mode, default False',\n",
       " 'uncertainty_reg': 'regularization term to balance uncertainty loss and prediction loss, default 1',\n",
       " 'direction_lambda': 'regularization term to balance direction loss and prediction loss, default 1'}"
      ]
     },
     "execution_count": 6,
     "metadata": {},
     "output_type": "execute_result"
    }
   ],
   "source": [
    "\n",
    "gears_model = GEARS(pert_data_new, device = device, \n",
    "                        weight_bias_track = False, \n",
    "                        proj_name = 'pertnet_new', \n",
    "                        exp_name = 'pertnet_new')\n",
    "\n",
    "gears_model.model_initialize(hidden_size = 64)\n",
    "\n",
    "gears_model.tunable_parameters()\n",
    "\n",
    "\n"
   ]
  },
  {
   "cell_type": "code",
   "execution_count": 7,
   "metadata": {},
   "outputs": [
    {
     "data": {
      "text/plain": [
       "DataBatch(x=[160000, 1], y=[32, 5000], pert_idx=[32], de_idx=[32], pert=[32], batch=[160000], ptr=[33])"
      ]
     },
     "execution_count": 7,
     "metadata": {},
     "output_type": "execute_result"
    }
   ],
   "source": [
    "next(iter(gears_model.dataloader[\"train_loader\"]))"
   ]
  },
  {
   "cell_type": "code",
   "execution_count": 8,
   "metadata": {},
   "outputs": [
    {
     "name": "stderr",
     "output_type": "stream",
     "text": [
      "Start Training...\n"
     ]
    },
    {
     "name": "stdout",
     "output_type": "stream",
     "text": [
      "Training model\n",
      "Dataloader element: DataBatch(x=[160000, 1], y=[32, 5000], pert_idx=[32], de_idx=[32], pert=[32], batch=[160000], ptr=[33])\n"
     ]
    },
    {
     "name": "stderr",
     "output_type": "stream",
     "text": [
      "Epoch 1 Step 1 Train Loss: 0.3383\n",
      "Epoch 1 Step 51 Train Loss: 0.3553\n",
      "Epoch 1 Step 101 Train Loss: 0.3153\n",
      "Epoch 1 Step 151 Train Loss: 0.2760\n",
      "Epoch 1: Train Overall MSE: 0.0014 Validation Overall MSE: 0.0009. \n",
      "Train Top 20 DE MSE: 0.0341 Validation Top 20 DE MSE: 0.0035. \n",
      "Done!\n",
      "Done! No test dataloader detected.\n"
     ]
    }
   ],
   "source": [
    "\n",
    "print(f\"Training model\")\n",
    "gears_model.train(epochs = 1, lr = 1e-3)\n",
    "\n",
    "\n",
    "\n",
    "\n",
    "gears_model.save_model('test_model')\n",
    "gears_model.load_pretrained('test_model')\n",
    "\n",
    "\n",
    "res = gears_model.predict([['RPL15']])\n",
    "\n",
    "np.savez('res.npz', res)\n"
   ]
  },
  {
   "cell_type": "code",
   "execution_count": null,
   "metadata": {},
   "outputs": [],
   "source": []
  },
  {
   "cell_type": "code",
   "execution_count": null,
   "metadata": {},
   "outputs": [],
   "source": []
  },
  {
   "cell_type": "code",
   "execution_count": null,
   "metadata": {},
   "outputs": [],
   "source": []
  }
 ],
 "metadata": {
  "kernelspec": {
   "display_name": "omnicell",
   "language": "python",
   "name": "python3"
  },
  "language_info": {
   "codemirror_mode": {
    "name": "ipython",
    "version": 3
   },
   "file_extension": ".py",
   "mimetype": "text/x-python",
   "name": "python",
   "nbconvert_exporter": "python",
   "pygments_lexer": "ipython3",
   "version": "3.9.21"
  }
 },
 "nbformat": 4,
 "nbformat_minor": 2
}
