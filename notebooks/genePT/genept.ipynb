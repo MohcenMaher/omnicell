{
 "cells": [
  {
   "cell_type": "code",
   "execution_count": 1,
   "metadata": {},
   "outputs": [],
   "source": [
    "import pickle\n",
    "import torch\n",
    "import scanpy as sc"
   ]
  },
  {
   "cell_type": "code",
   "execution_count": 4,
   "metadata": {},
   "outputs": [
    {
     "ename": "UnpicklingError",
     "evalue": "pickle data was truncated",
     "output_type": "error",
     "traceback": [
      "\u001b[0;31m---------------------------------------------------------------------------\u001b[0m",
      "\u001b[0;31mUnpicklingError\u001b[0m                           Traceback (most recent call last)",
      "Cell \u001b[0;32mIn[4], line 12\u001b[0m\n\u001b[1;32m     10\u001b[0m \u001b[38;5;66;03m# Load embeddings\u001b[39;00m\n\u001b[1;32m     11\u001b[0m \u001b[38;5;28;01mwith\u001b[39;00m \u001b[38;5;28mopen\u001b[39m(os\u001b[38;5;241m.\u001b[39mpath\u001b[38;5;241m.\u001b[39mjoin(DATA_DIR, \u001b[38;5;124m'\u001b[39m\u001b[38;5;124mGenePT_gene_embedding_ada_text.pickle\u001b[39m\u001b[38;5;124m'\u001b[39m), \u001b[38;5;124m'\u001b[39m\u001b[38;5;124mrb\u001b[39m\u001b[38;5;124m'\u001b[39m) \u001b[38;5;28;01mas\u001b[39;00m f:\n\u001b[0;32m---> 12\u001b[0m     gene_emb_ada \u001b[38;5;241m=\u001b[39m \u001b[43mpickle\u001b[49m\u001b[38;5;241;43m.\u001b[39;49m\u001b[43mload\u001b[49m\u001b[43m(\u001b[49m\u001b[43mf\u001b[49m\u001b[43m)\u001b[49m\n\u001b[1;32m     14\u001b[0m \u001b[38;5;28;01mwith\u001b[39;00m \u001b[38;5;28mopen\u001b[39m(os\u001b[38;5;241m.\u001b[39mpath\u001b[38;5;241m.\u001b[39mjoin(DATA_DIR, \u001b[38;5;124m'\u001b[39m\u001b[38;5;124mGenePT_gene_protein_embedding_model_3_text.pickle\u001b[39m\u001b[38;5;124m'\u001b[39m), \u001b[38;5;124m'\u001b[39m\u001b[38;5;124mrb\u001b[39m\u001b[38;5;124m'\u001b[39m) \u001b[38;5;28;01mas\u001b[39;00m f:\n\u001b[1;32m     15\u001b[0m     gene_prot_emb \u001b[38;5;241m=\u001b[39m pickle\u001b[38;5;241m.\u001b[39mload(f)\n",
      "\u001b[0;31mUnpicklingError\u001b[0m: pickle data was truncated"
     ]
    }
   ],
   "source": [
    "import pickle\n",
    "import json\n",
    "import os\n",
    "import pandas as pd\n",
    "import numpy as np\n",
    "\n",
    "# Define data directory\n",
    "DATA_DIR = '/orcd/data/omarabu/001/Omnicell_datasets/GenePT_emebdding_v2'\n",
    "\n",
    "# Load embeddings\n",
    "with open(os.path.join(DATA_DIR, 'GenePT_gene_embedding_ada_text.pickle'), 'rb') as f:\n",
    "    gene_emb_ada = pickle.load(f)\n",
    "\n",
    "with open(os.path.join(DATA_DIR, 'GenePT_gene_protein_embedding_model_3_text.pickle'), 'rb') as f:\n",
    "    gene_prot_emb = pickle.load(f)\n",
    "\n",
    "# Load summaries\n",
    "with open(os.path.join(DATA_DIR, 'NCBI_summary_of_genes.json'), 'r') as f:\n",
    "    ncbi_summaries = json.load(f)\n",
    "\n",
    "with open(os.path.join(DATA_DIR, 'NCBI_UniProt_summary_of_genes.json'), 'r') as f:\n",
    "    uniprot_summaries = json.load(f)\n",
    "\n",
    "# Print info about loaded data\n",
    "print(\"Data shapes:\")\n",
    "print(f\"Gene ADA embeddings shape: {np.array(gene_emb_ada).shape}\")\n",
    "print(f\"Gene protein embeddings shape: {np.array(gene_prot_emb).shape}\")\n",
    "print(f\"Number of NCBI summaries: {len(ncbi_summaries)}\")\n",
    "print(f\"Number of UniProt summaries: {len(uniprot_summaries)}\")"
   ]
  },
  {
   "cell_type": "code",
   "execution_count": null,
   "metadata": {},
   "outputs": [],
   "source": []
  }
 ],
 "metadata": {
  "kernelspec": {
   "display_name": "huggingface",
   "language": "python",
   "name": "python3"
  },
  "language_info": {
   "codemirror_mode": {
    "name": "ipython",
    "version": 3
   },
   "file_extension": ".py",
   "mimetype": "text/x-python",
   "name": "python",
   "nbconvert_exporter": "python",
   "pygments_lexer": "ipython3",
   "version": "3.9.21"
  }
 },
 "nbformat": 4,
 "nbformat_minor": 2
}
