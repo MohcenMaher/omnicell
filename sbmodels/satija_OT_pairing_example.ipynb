{
 "cells": [
  {
   "cell_type": "code",
   "execution_count": 1,
   "metadata": {},
   "outputs": [],
   "source": [
    "import matplotlib.pyplot as plt\n",
    "import numpy as np\n",
    "import pandas as pd\n",
    "from sklearn.neighbors import NearestNeighbors\n",
    "from tqdm import tqdm\n",
    "import pandas as pd\n",
    "import pickle\n",
    "import phate\n",
    "import scipy\n",
    "import matplotlib.pyplot as plt\n",
    "import scipy.io as sio\n",
    "from sklearn.decomposition import PCA\n",
    "from numpy import savetxt\n",
    "import plotly.graph_objs as go\n",
    "import scprep\n",
    "import skdim\n",
    "import scanpy as sc"
   ]
  },
  {
   "cell_type": "code",
   "execution_count": 2,
   "metadata": {},
   "outputs": [
    {
     "name": "stderr",
     "output_type": "stream",
     "text": [
      "2024-09-06 11:56:17.681863: W tensorflow/compiler/xla/stream_executor/platform/default/dso_loader.cc:64] Could not load dynamic library 'libnvinfer.so.7'; dlerror: libnvinfer.so.7: cannot open shared object file: No such file or directory; LD_LIBRARY_PATH: /cvmfs/ai.mila.quebec/apps/arch/distro/libreadline/7.0/lib:/cvmfs/ai.mila.quebec/apps/arch/distro/libffi/3.2.1/lib\n",
      "2024-09-06 11:56:17.683258: W tensorflow/compiler/xla/stream_executor/platform/default/dso_loader.cc:64] Could not load dynamic library 'libnvinfer_plugin.so.7'; dlerror: libnvinfer_plugin.so.7: cannot open shared object file: No such file or directory; LD_LIBRARY_PATH: /cvmfs/ai.mila.quebec/apps/arch/distro/libreadline/7.0/lib:/cvmfs/ai.mila.quebec/apps/arch/distro/libffi/3.2.1/lib\n",
      "2024-09-06 11:56:17.683273: W tensorflow/compiler/tf2tensorrt/utils/py_utils.cc:38] TF-TRT Warning: Cannot dlopen some TensorRT libraries. If you would like to use Nvidia GPU with TensorRT, please make sure the missing libraries mentioned above are installed properly.\n"
     ]
    }
   ],
   "source": [
    "import math\n",
    "import time\n",
    "\n",
    "import ot as pot\n",
    "\n",
    "import torch\n",
    "import matplotlib.patches as mpatches"
   ]
  },
  {
   "cell_type": "code",
   "execution_count": null,
   "metadata": {},
   "outputs": [],
   "source": [
    "data_path = \"../input/satija.h5ad\"\n",
    "data = sc.read_h5ad(data_path)"
   ]
  },
  {
   "cell_type": "code",
   "execution_count": 22,
   "metadata": {},
   "outputs": [],
   "source": [
    "file_path = 'satija_OT_pairing.pkl'\n",
    "\n",
    "# Open the file in 'rb' (read binary) mode and load its contents\n",
    "with open(file_path, 'rb') as file:\n",
    "    pairing_index = pickle.load(file)"
   ]
  },
  {
   "cell_type": "code",
   "execution_count": 23,
   "metadata": {},
   "outputs": [
    {
     "data": {
      "text/plain": [
       "dict_keys(['A549', 'BXPC3', 'HAP1', 'HT29', 'K562', 'MCF7'])"
      ]
     },
     "execution_count": 23,
     "metadata": {},
     "output_type": "execute_result"
    }
   ],
   "source": [
    "pairing_index.keys() ## Each key is a cell_type"
   ]
  },
  {
   "cell_type": "code",
   "execution_count": 26,
   "metadata": {},
   "outputs": [
    {
     "data": {
      "text/plain": [
       "dict_keys(['NT-TRAFD1', 'NT-HES4', 'NT-STAT5A', 'NT-STAT4', 'NT-RNF114', 'NT-UBE2L6', 'NT-MAPK8', 'NT-ETS1', 'NT-PARP12', 'NT-FOS', 'NT-MAPK14', 'NT-TRIM22', 'NT-DRAP1', 'NT-CRKL', 'NT-DTX3L', 'NT-BATF2', 'NT-JAK1', 'NT-HERC5', 'NT-IFNAR2', 'NT-VAV1', 'NT-ID3', 'NT-MEF2A', 'NT-MYC', 'NT-BRD9', 'NT-STAT1', 'NT-IRF1', 'NT-STAT2', 'NT-SP100', 'NT-HERC6', 'NT-SOCS1', 'NT-TYK2', 'NT-STAT6', 'NT-H1F0', 'NT-ZNFX1', 'NT-ZBP1', 'NT-USP18', 'NT-SMARCA5', 'NT-RAP1GAP', 'NT-IRF7', 'NT-ID2', 'NT-IFNAR1', 'NT-NFKB1', 'NT-IFI16', 'NT-AKT1', 'NT-SP110', 'NT-ETS2', 'NT-STAT3', 'NT-IRF9', 'NT-ADAR', 'NT-RAPGEF1', 'NT-ELK1', 'NT-NFE2L3', 'NT-CEBPG', 'NT-JUN', 'NT-TRIM21', 'NT-CEBPB', 'NT-MAP3K14', 'NT-IRF3', 'NT-ID1', 'NT-UBA7', 'NT-POU2F1'])"
      ]
     },
     "execution_count": 26,
     "metadata": {},
     "output_type": "execute_result"
    }
   ],
   "source": [
    "pairing_index['A549'].keys() ## In each cell type, there is 61 control-perturb pair "
   ]
  },
  {
   "cell_type": "code",
   "execution_count": 30,
   "metadata": {},
   "outputs": [
    {
     "data": {
      "text/plain": [
       "[array([ 954,  480,  471,  740,   71,  378, 1283,  439,  172,  785,  692,\n",
       "        1033,  193,  996, 1366,   43,  864,  193,  414, 1366, 1333,  236,\n",
       "        1153,   15,  900,  153, 1080, 1333,  698,  190,  681, 1180,  439,\n",
       "          64,  681,  864,  699, 1113, 1112, 1331,  785,  193,  864,  506,\n",
       "         975, 1065,  193, 1005, 1053,  738,  153, 1033,  264,  825,  639,\n",
       "         864,  494, 1005,  494, 1153,   43,  382, 1065,  841,  480,  660,\n",
       "         955, 1193,  304,  573,  656,  656,  193, 1033,  557,  480,  346,\n",
       "         557,  503,  234,  692,  275, 1007,  543,  904,  687,  824,  785,\n",
       "        1095,  304,  346, 1342,   64, 1033,  272,  565, 1342,  471,  681,\n",
       "          17,  975,  954,  824,  681,   37,  825,  895,  338, 1265,  999,\n",
       "         738,   17,  674, 1236,  543,  692,  674,  613,  557,  602,  338,\n",
       "         225,  769]),\n",
       " array([298, 185, 158, 171, 197, 216, 346, 188,  59, 253, 316, 328, 405,\n",
       "        451, 377, 338, 453, 405, 373, 377, 266,  66, 245,  34, 461,  62,\n",
       "        347, 266, 121, 120, 127, 352, 188, 131, 127, 453,  35, 226, 475,\n",
       "        311, 253, 405, 453, 180, 194, 239, 405, 440, 273,  23,  62, 328,\n",
       "        344, 193, 367, 453, 437, 440, 437, 245, 338, 201, 239, 331, 185,\n",
       "        229, 467, 356,  63, 169,  54,  54, 405, 328, 102, 185, 165, 102,\n",
       "        166, 329, 316, 220, 431, 259, 422, 192, 435, 253, 103,  63, 165,\n",
       "        417, 131, 328, 163,  91, 417, 158, 127, 154, 194, 298, 435, 127,\n",
       "         11, 193, 138, 159, 471, 414,  23, 154, 236, 254, 259, 316, 236,\n",
       "         85, 102, 107, 159, 411, 468])]"
      ]
     },
     "execution_count": 30,
     "metadata": {},
     "output_type": "execute_result"
    }
   ],
   "source": [
    "pairing_index['A549']['NT-TRAFD1'] ## In each control-perturb pair, there is two arrays, \n",
    "                                   ## first one is the index for 'cell_type' = 'A549' & 'gene' = 'NT'\n",
    "                                   ## second one is the index for 'cell_type' = 'A549' & 'gene' = 'TRAFD1'\n",
    "        "
   ]
  },
  {
   "cell_type": "code",
   "execution_count": null,
   "metadata": {},
   "outputs": [],
   "source": []
  },
  {
   "cell_type": "code",
   "execution_count": null,
   "metadata": {},
   "outputs": [],
   "source": []
  },
  {
   "cell_type": "code",
   "execution_count": null,
   "metadata": {},
   "outputs": [],
   "source": []
  },
  {
   "cell_type": "code",
   "execution_count": null,
   "metadata": {},
   "outputs": [],
   "source": []
  },
  {
   "cell_type": "code",
   "execution_count": null,
   "metadata": {},
   "outputs": [],
   "source": []
  },
  {
   "cell_type": "code",
   "execution_count": null,
   "metadata": {},
   "outputs": [],
   "source": []
  },
  {
   "cell_type": "code",
   "execution_count": null,
   "metadata": {},
   "outputs": [],
   "source": []
  },
  {
   "cell_type": "code",
   "execution_count": null,
   "metadata": {},
   "outputs": [],
   "source": []
  }
 ],
 "metadata": {
  "kernelspec": {
   "display_name": "sheafnn",
   "language": "python",
   "name": "sheafnn"
  },
  "language_info": {
   "codemirror_mode": {
    "name": "ipython",
    "version": 3
   },
   "file_extension": ".py",
   "mimetype": "text/x-python",
   "name": "python",
   "nbconvert_exporter": "python",
   "pygments_lexer": "ipython3",
   "version": "3.10.4"
  }
 },
 "nbformat": 4,
 "nbformat_minor": 4
}
