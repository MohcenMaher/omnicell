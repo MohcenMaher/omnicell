{
 "cells": [
  {
   "cell_type": "markdown",
   "metadata": {},
   "source": []
  },
  {
   "cell_type": "markdown",
   "metadata": {},
   "source": [
    "import scanpy as sc"
   ]
  },
  {
   "cell_type": "code",
   "execution_count": 1,
   "metadata": {},
   "outputs": [],
   "source": [
    "import scanpy as sc"
   ]
  },
  {
   "cell_type": "code",
   "execution_count": 2,
   "metadata": {},
   "outputs": [],
   "source": [
    "adata = sc.read('/orcd/archive/abugoot/001/Projects/dlesman/datasets/satija_IFNB_HVG_and_perturbed_genes_normed.h5ad')"
   ]
  },
  {
   "cell_type": "code",
   "execution_count": 5,
   "metadata": {},
   "outputs": [
    {
     "name": "stdout",
     "output_type": "stream",
     "text": [
      "TRAFD1\n",
      "HES4\n",
      "NT\n",
      "STAT5A\n",
      "STAT4\n",
      "RNF114\n",
      "UBE2L6\n",
      "MAPK8\n",
      "ETS1\n",
      "PARP12\n",
      "FOS\n",
      "MAPK14\n",
      "TRIM22\n",
      "DRAP1\n",
      "CRKL\n",
      "DTX3L\n",
      "BATF2\n",
      "JAK1\n",
      "HERC5\n",
      "IFNAR2\n",
      "VAV1\n",
      "ID3\n",
      "MEF2A\n",
      "MYC\n",
      "BRD9\n",
      "STAT1\n",
      "IRF1\n",
      "STAT2\n",
      "SP100\n",
      "HERC6\n",
      "SOCS1\n",
      "TYK2\n",
      "STAT6\n",
      "H1F0\n",
      "ZNFX1\n",
      "ZBP1\n",
      "USP18\n",
      "SMARCA5\n",
      "RAP1GAP\n",
      "IRF7\n",
      "ID2\n",
      "IFNAR1\n",
      "NFKB1\n",
      "IFI16\n",
      "AKT1\n",
      "SP110\n",
      "ETS2\n",
      "STAT3\n",
      "IRF9\n",
      "ADAR\n",
      "RAPGEF1\n",
      "ELK1\n",
      "NFE2L3\n",
      "CEBPG\n",
      "JUN\n",
      "TRIM21\n",
      "CEBPB\n",
      "MAP3K14\n",
      "IRF3\n",
      "ID1\n",
      "UBA7\n",
      "POU2F1\n"
     ]
    }
   ],
   "source": [
    "for i in adata.obs['gene'].unique():\n",
    "    print(i)\n",
    "    "
   ]
  },
  {
   "cell_type": "code",
   "execution_count": null,
   "metadata": {},
   "outputs": [],
   "source": []
  }
 ],
 "metadata": {
  "kernelspec": {
   "display_name": "Python 3 (ipykernel)",
   "language": "python",
   "name": "python3"
  },
  "language_info": {
   "codemirror_mode": {
    "name": "ipython",
    "version": 3
   },
   "file_extension": ".py",
   "mimetype": "text/x-python",
   "name": "python",
   "nbconvert_exporter": "python",
   "pygments_lexer": "ipython3",
   "version": "3.9.19"
  }
 },
 "nbformat": 4,
 "nbformat_minor": 2
}
