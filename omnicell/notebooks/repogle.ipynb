{
 "cells": [
  {
   "cell_type": "code",
   "execution_count": 11,
   "metadata": {},
   "outputs": [],
   "source": [
    "\n",
    "import scanpy as sc\n",
    "import sys\n",
    "import os\n",
    "\n",
    "sys.path.append('..')  # Add parent directory to Python path\n",
    "import scanpy as sc\n",
    "from omnicell.evaluation.utils import get_DEGs\n"
   ]
  },
  {
   "cell_type": "code",
   "execution_count": 5,
   "metadata": {},
   "outputs": [
    {
     "name": "stderr",
     "output_type": "stream",
     "text": [
      "/orcd/data/omarabu/001/opitcho/miniforge3/envs/omnicell/lib/python3.9/site-packages/anndata/_core/anndata.py:1756: UserWarning: Variable names are not unique. To make them unique, call `.var_names_make_unique`.\n",
      "  utils.warn_names_duplicates(\"var\")\n"
     ]
    }
   ],
   "source": [
    "adata = sc.read(\"/orcd/data/omarabu/001/Omnicell_datasets/repogle_k562_essential_raw/K562_essential_raw_singlecell_01.h5ad\")"
   ]
  },
  {
   "cell_type": "code",
   "execution_count": 15,
   "metadata": {},
   "outputs": [
    {
     "data": {
      "text/plain": [
       "cell_barcode\n",
       "AAACCCAAGAAATCCA-27    k562\n",
       "AAACCCAAGAACTTCC-31    k562\n",
       "AAACCCAAGAAGCCAC-34    k562\n",
       "AAACCCAAGAATAGTC-43    k562\n",
       "AAACCCAAGACAGCGT-28    k562\n",
       "                       ... \n",
       "TTTGTTGTCTGTCGTC-45    k562\n",
       "TTTGTTGTCTGTCTCG-27    k562\n",
       "TTTGTTGTCTGTGCGG-44    k562\n",
       "TTTGTTGTCTTGCAGA-14    k562\n",
       "TTTGTTGTCTTTACAC-25    k562\n",
       "Name: cell_type, Length: 310385, dtype: category\n",
       "Categories (1, object): ['k562']"
      ]
     },
     "execution_count": 15,
     "metadata": {},
     "output_type": "execute_result"
    }
   ],
   "source": [
    "adata.obs['cell_type']"
   ]
  },
  {
   "cell_type": "code",
   "execution_count": 6,
   "metadata": {},
   "outputs": [
    {
     "data": {
      "text/plain": [
       "['NAF1', 'BUB1', 'UBL5', 'C9orf16', 'TIMM9', ..., 'RPL7A', 'NUP155', 'FDPS', 'RBM22', 'POLR3A']\n",
       "Length: 2058\n",
       "Categories (2058, object): ['AAAS', 'AAMP', 'AARS', 'AARS2', ..., 'ZRSR2', 'ZW10', 'ZWINT', 'non-targeting']"
      ]
     },
     "execution_count": 6,
     "metadata": {},
     "output_type": "execute_result"
    }
   ],
   "source": [
    "adata.obs['gene'].unique()"
   ]
  },
  {
   "cell_type": "code",
   "execution_count": 9,
   "metadata": {},
   "outputs": [
    {
     "data": {
      "text/plain": [
       "pandas.core.series.Series"
      ]
     },
     "execution_count": 9,
     "metadata": {},
     "output_type": "execute_result"
    }
   ],
   "source": [
    "type(adata.obs[\"gene\"])"
   ]
  },
  {
   "cell_type": "code",
   "execution_count": 12,
   "metadata": {},
   "outputs": [],
   "source": [
    "adata_control = adata[adata.obs[\"gene\"] == 'non-targeting']\n",
    "adata_pert = adata[adata.obs[\"gene\"] == 'NAF1']"
   ]
  },
  {
   "cell_type": "code",
   "execution_count": 18,
   "metadata": {},
   "outputs": [
    {
     "data": {
      "text/html": [
       "<div>\n",
       "<style scoped>\n",
       "    .dataframe tbody tr th:only-of-type {\n",
       "        vertical-align: middle;\n",
       "    }\n",
       "\n",
       "    .dataframe tbody tr th {\n",
       "        vertical-align: top;\n",
       "    }\n",
       "\n",
       "    .dataframe thead th {\n",
       "        text-align: right;\n",
       "    }\n",
       "</style>\n",
       "<table border=\"1\" class=\"dataframe\">\n",
       "  <thead>\n",
       "    <tr style=\"text-align: right;\">\n",
       "      <th></th>\n",
       "      <th>gene_name</th>\n",
       "      <th>chr</th>\n",
       "      <th>start</th>\n",
       "      <th>end</th>\n",
       "      <th>class</th>\n",
       "      <th>strand</th>\n",
       "      <th>length</th>\n",
       "      <th>in_matrix</th>\n",
       "      <th>mean</th>\n",
       "      <th>std</th>\n",
       "      <th>cv</th>\n",
       "      <th>fano</th>\n",
       "      <th>gene_id</th>\n",
       "    </tr>\n",
       "    <tr>\n",
       "      <th>gene_name</th>\n",
       "      <th></th>\n",
       "      <th></th>\n",
       "      <th></th>\n",
       "      <th></th>\n",
       "      <th></th>\n",
       "      <th></th>\n",
       "      <th></th>\n",
       "      <th></th>\n",
       "      <th></th>\n",
       "      <th></th>\n",
       "      <th></th>\n",
       "      <th></th>\n",
       "      <th></th>\n",
       "    </tr>\n",
       "  </thead>\n",
       "  <tbody>\n",
       "    <tr>\n",
       "      <th>LINC01409</th>\n",
       "      <td>LINC01409</td>\n",
       "      <td>chr1</td>\n",
       "      <td>778747</td>\n",
       "      <td>810065</td>\n",
       "      <td>gene_version10</td>\n",
       "      <td>+</td>\n",
       "      <td>31318</td>\n",
       "      <td>True</td>\n",
       "      <td>0.137594</td>\n",
       "      <td>0.380048</td>\n",
       "      <td>2.762105</td>\n",
       "      <td>1.049733</td>\n",
       "      <td>ENSG00000237491</td>\n",
       "    </tr>\n",
       "    <tr>\n",
       "      <th>LINC01128</th>\n",
       "      <td>LINC01128</td>\n",
       "      <td>chr1</td>\n",
       "      <td>825138</td>\n",
       "      <td>868202</td>\n",
       "      <td>gene_version9</td>\n",
       "      <td>+</td>\n",
       "      <td>43064</td>\n",
       "      <td>True</td>\n",
       "      <td>0.256720</td>\n",
       "      <td>0.520162</td>\n",
       "      <td>2.026184</td>\n",
       "      <td>1.053944</td>\n",
       "      <td>ENSG00000228794</td>\n",
       "    </tr>\n",
       "    <tr>\n",
       "      <th>NOC2L</th>\n",
       "      <td>NOC2L</td>\n",
       "      <td>chr1</td>\n",
       "      <td>944203</td>\n",
       "      <td>959309</td>\n",
       "      <td>gene_version11</td>\n",
       "      <td>-</td>\n",
       "      <td>15106</td>\n",
       "      <td>True</td>\n",
       "      <td>1.975144</td>\n",
       "      <td>1.707837</td>\n",
       "      <td>0.864665</td>\n",
       "      <td>1.476706</td>\n",
       "      <td>ENSG00000188976</td>\n",
       "    </tr>\n",
       "    <tr>\n",
       "      <th>KLHL17</th>\n",
       "      <td>KLHL17</td>\n",
       "      <td>chr1</td>\n",
       "      <td>960584</td>\n",
       "      <td>965719</td>\n",
       "      <td>gene_version14</td>\n",
       "      <td>+</td>\n",
       "      <td>5135</td>\n",
       "      <td>True</td>\n",
       "      <td>0.119593</td>\n",
       "      <td>0.353702</td>\n",
       "      <td>2.957540</td>\n",
       "      <td>1.046089</td>\n",
       "      <td>ENSG00000187961</td>\n",
       "    </tr>\n",
       "    <tr>\n",
       "      <th>HES4</th>\n",
       "      <td>HES4</td>\n",
       "      <td>chr1</td>\n",
       "      <td>998962</td>\n",
       "      <td>1000172</td>\n",
       "      <td>gene_version10</td>\n",
       "      <td>-</td>\n",
       "      <td>1210</td>\n",
       "      <td>True</td>\n",
       "      <td>0.249577</td>\n",
       "      <td>0.561933</td>\n",
       "      <td>2.251540</td>\n",
       "      <td>1.265214</td>\n",
       "      <td>ENSG00000188290</td>\n",
       "    </tr>\n",
       "    <tr>\n",
       "      <th>...</th>\n",
       "      <td>...</td>\n",
       "      <td>...</td>\n",
       "      <td>...</td>\n",
       "      <td>...</td>\n",
       "      <td>...</td>\n",
       "      <td>...</td>\n",
       "      <td>...</td>\n",
       "      <td>...</td>\n",
       "      <td>...</td>\n",
       "      <td>...</td>\n",
       "      <td>...</td>\n",
       "      <td>...</td>\n",
       "      <td>...</td>\n",
       "    </tr>\n",
       "    <tr>\n",
       "      <th>BX004987.1</th>\n",
       "      <td>BX004987.1</td>\n",
       "      <td>GL000009.2</td>\n",
       "      <td>56140</td>\n",
       "      <td>58376</td>\n",
       "      <td>gene_version1</td>\n",
       "      <td>-</td>\n",
       "      <td>2236</td>\n",
       "      <td>True</td>\n",
       "      <td>0.241213</td>\n",
       "      <td>0.507266</td>\n",
       "      <td>2.102976</td>\n",
       "      <td>1.066768</td>\n",
       "      <td>ENSG00000278704</td>\n",
       "    </tr>\n",
       "    <tr>\n",
       "      <th>MAFIP</th>\n",
       "      <td>MAFIP</td>\n",
       "      <td>GL000194.1</td>\n",
       "      <td>53594</td>\n",
       "      <td>115055</td>\n",
       "      <td>gene_version1</td>\n",
       "      <td>-</td>\n",
       "      <td>61461</td>\n",
       "      <td>True</td>\n",
       "      <td>0.127525</td>\n",
       "      <td>0.361556</td>\n",
       "      <td>2.835168</td>\n",
       "      <td>1.025072</td>\n",
       "      <td>ENSG00000274847</td>\n",
       "    </tr>\n",
       "    <tr>\n",
       "      <th>AL354822.1</th>\n",
       "      <td>AL354822.1</td>\n",
       "      <td>GL000218.1</td>\n",
       "      <td>51867</td>\n",
       "      <td>54893</td>\n",
       "      <td>gene_version1</td>\n",
       "      <td>-</td>\n",
       "      <td>3026</td>\n",
       "      <td>True</td>\n",
       "      <td>0.248814</td>\n",
       "      <td>0.516552</td>\n",
       "      <td>2.076062</td>\n",
       "      <td>1.072394</td>\n",
       "      <td>ENSG00000278384</td>\n",
       "    </tr>\n",
       "    <tr>\n",
       "      <th>AC240274.1</th>\n",
       "      <td>AC240274.1</td>\n",
       "      <td>KI270711.1</td>\n",
       "      <td>4612</td>\n",
       "      <td>29626</td>\n",
       "      <td>gene_version6</td>\n",
       "      <td>-</td>\n",
       "      <td>25014</td>\n",
       "      <td>True</td>\n",
       "      <td>0.224144</td>\n",
       "      <td>0.505202</td>\n",
       "      <td>2.253916</td>\n",
       "      <td>1.138683</td>\n",
       "      <td>ENSG00000271254</td>\n",
       "    </tr>\n",
       "    <tr>\n",
       "      <th>AC004556.3</th>\n",
       "      <td>AC004556.3</td>\n",
       "      <td>KI270721.1</td>\n",
       "      <td>2585</td>\n",
       "      <td>11802</td>\n",
       "      <td>gene_version1</td>\n",
       "      <td>+</td>\n",
       "      <td>9217</td>\n",
       "      <td>True</td>\n",
       "      <td>0.343644</td>\n",
       "      <td>0.623236</td>\n",
       "      <td>1.813608</td>\n",
       "      <td>1.130305</td>\n",
       "      <td>ENSG00000276345</td>\n",
       "    </tr>\n",
       "  </tbody>\n",
       "</table>\n",
       "<p>8563 rows × 13 columns</p>\n",
       "</div>"
      ],
      "text/plain": [
       "             gene_name         chr   start      end           class strand  \\\n",
       "gene_name                                                                    \n",
       "LINC01409    LINC01409        chr1  778747   810065  gene_version10      +   \n",
       "LINC01128    LINC01128        chr1  825138   868202   gene_version9      +   \n",
       "NOC2L            NOC2L        chr1  944203   959309  gene_version11      -   \n",
       "KLHL17          KLHL17        chr1  960584   965719  gene_version14      +   \n",
       "HES4              HES4        chr1  998962  1000172  gene_version10      -   \n",
       "...                ...         ...     ...      ...             ...    ...   \n",
       "BX004987.1  BX004987.1  GL000009.2   56140    58376   gene_version1      -   \n",
       "MAFIP            MAFIP  GL000194.1   53594   115055   gene_version1      -   \n",
       "AL354822.1  AL354822.1  GL000218.1   51867    54893   gene_version1      -   \n",
       "AC240274.1  AC240274.1  KI270711.1    4612    29626   gene_version6      -   \n",
       "AC004556.3  AC004556.3  KI270721.1    2585    11802   gene_version1      +   \n",
       "\n",
       "            length  in_matrix      mean       std        cv      fano  \\\n",
       "gene_name                                                               \n",
       "LINC01409    31318       True  0.137594  0.380048  2.762105  1.049733   \n",
       "LINC01128    43064       True  0.256720  0.520162  2.026184  1.053944   \n",
       "NOC2L        15106       True  1.975144  1.707837  0.864665  1.476706   \n",
       "KLHL17        5135       True  0.119593  0.353702  2.957540  1.046089   \n",
       "HES4          1210       True  0.249577  0.561933  2.251540  1.265214   \n",
       "...            ...        ...       ...       ...       ...       ...   \n",
       "BX004987.1    2236       True  0.241213  0.507266  2.102976  1.066768   \n",
       "MAFIP        61461       True  0.127525  0.361556  2.835168  1.025072   \n",
       "AL354822.1    3026       True  0.248814  0.516552  2.076062  1.072394   \n",
       "AC240274.1   25014       True  0.224144  0.505202  2.253916  1.138683   \n",
       "AC004556.3    9217       True  0.343644  0.623236  1.813608  1.130305   \n",
       "\n",
       "                    gene_id  \n",
       "gene_name                    \n",
       "LINC01409   ENSG00000237491  \n",
       "LINC01128   ENSG00000228794  \n",
       "NOC2L       ENSG00000188976  \n",
       "KLHL17      ENSG00000187961  \n",
       "HES4        ENSG00000188290  \n",
       "...                     ...  \n",
       "BX004987.1  ENSG00000278704  \n",
       "MAFIP       ENSG00000274847  \n",
       "AL354822.1  ENSG00000278384  \n",
       "AC240274.1  ENSG00000271254  \n",
       "AC004556.3  ENSG00000276345  \n",
       "\n",
       "[8563 rows x 13 columns]"
      ]
     },
     "execution_count": 18,
     "metadata": {},
     "output_type": "execute_result"
    }
   ],
   "source": [
    "adata.var"
   ]
  },
  {
   "cell_type": "code",
   "execution_count": 26,
   "metadata": {},
   "outputs": [
    {
     "data": {
      "text/plain": [
       "True"
      ]
     },
     "execution_count": 26,
     "metadata": {},
     "output_type": "execute_result"
    }
   ],
   "source": [
    "adata.var_names.duplicated().any()"
   ]
  },
  {
   "cell_type": "code",
   "execution_count": 27,
   "metadata": {},
   "outputs": [],
   "source": [
    "raw_gene_dups = adata.var_names[adata.var_names.duplicated()]\n"
   ]
  },
  {
   "cell_type": "code",
   "execution_count": 28,
   "metadata": {},
   "outputs": [
    {
     "data": {
      "text/plain": [
       "CategoricalIndex(['TBCE', 'HSPA14'], categories=['A1BG', 'AAAS', 'AACS', 'AAGAB', ..., 'ZYG11A', 'ZYG11B', 'ZYX', 'ZZEF1'], ordered=False, dtype='category', name='gene_name')"
      ]
     },
     "execution_count": 28,
     "metadata": {},
     "output_type": "execute_result"
    }
   ],
   "source": [
    "raw_gene_dups"
   ]
  },
  {
   "cell_type": "code",
   "execution_count": 30,
   "metadata": {},
   "outputs": [],
   "source": [
    "\n",
    "import numpy as np\n",
    "duplicate_mask = adata.var_names.duplicated(keep=False)  # keep=False marks all duplicates\n",
    "duplicate_indices = np.where(duplicate_mask)[0]\n",
    "\n",
    "# Show duplicates with their positions\n",
    "duplicate_series = adata.var_names[duplicate_mask]"
   ]
  },
  {
   "cell_type": "code",
   "execution_count": 39,
   "metadata": {},
   "outputs": [
    {
     "name": "stdout",
     "output_type": "stream",
     "text": [
      "CategoricalIndex(['TBCE', 'TBCE', 'HSPA14', 'HSPA14'], categories=['A1BG', 'AAAS', 'AACS', 'AAGAB', ..., 'ZYG11A', 'ZYG11B', 'ZYX', 'ZZEF1'], ordered=False, dtype='category', name='gene_name')\n",
      "[ 858  859 4168 4169]\n"
     ]
    }
   ],
   "source": [
    "print(duplicate_series)\n",
    "print(duplicate_indices)"
   ]
  },
  {
   "cell_type": "code",
   "execution_count": 34,
   "metadata": {},
   "outputs": [],
   "source": [
    "dup1 = adata[:, 858]\n",
    "dup2 = adata[:, 859]"
   ]
  },
  {
   "cell_type": "code",
   "execution_count": 38,
   "metadata": {},
   "outputs": [
    {
     "data": {
      "text/plain": [
       "237434"
      ]
     },
     "execution_count": 38,
     "metadata": {},
     "output_type": "execute_result"
    }
   ],
   "source": [
    "(dup1.X == dup2.X).sum()"
   ]
  },
  {
   "cell_type": "code",
   "execution_count": null,
   "metadata": {},
   "outputs": [],
   "source": []
  }
 ],
 "metadata": {
  "kernelspec": {
   "display_name": "omnicell",
   "language": "python",
   "name": "python3"
  },
  "language_info": {
   "codemirror_mode": {
    "name": "ipython",
    "version": 3
   },
   "file_extension": ".py",
   "mimetype": "text/x-python",
   "name": "python",
   "nbconvert_exporter": "python",
   "pygments_lexer": "ipython3",
   "version": "3.9.21"
  }
 },
 "nbformat": 4,
 "nbformat_minor": 2
}
