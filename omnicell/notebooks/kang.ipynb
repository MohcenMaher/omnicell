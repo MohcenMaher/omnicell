{
 "cells": [
  {
   "cell_type": "code",
   "execution_count": 2,
   "metadata": {},
   "outputs": [],
   "source": [
    "import scanpy as sc\n"
   ]
  },
  {
   "cell_type": "code",
   "execution_count": 6,
   "metadata": {},
   "outputs": [
    {
     "data": {
      "text/html": [
       "<div>\n",
       "<style scoped>\n",
       "    .dataframe tbody tr th:only-of-type {\n",
       "        vertical-align: middle;\n",
       "    }\n",
       "\n",
       "    .dataframe tbody tr th {\n",
       "        vertical-align: top;\n",
       "    }\n",
       "\n",
       "    .dataframe thead th {\n",
       "        text-align: right;\n",
       "    }\n",
       "</style>\n",
       "<table border=\"1\" class=\"dataframe\">\n",
       "  <thead>\n",
       "    <tr style=\"text-align: right;\">\n",
       "      <th></th>\n",
       "      <th>condition</th>\n",
       "      <th>n_counts</th>\n",
       "      <th>n_genes</th>\n",
       "      <th>mt_frac</th>\n",
       "      <th>cell_type</th>\n",
       "      <th>perturbed</th>\n",
       "      <th>pathway</th>\n",
       "      <th>condition_key</th>\n",
       "    </tr>\n",
       "    <tr>\n",
       "      <th>index</th>\n",
       "      <th></th>\n",
       "      <th></th>\n",
       "      <th></th>\n",
       "      <th></th>\n",
       "      <th></th>\n",
       "      <th></th>\n",
       "      <th></th>\n",
       "      <th></th>\n",
       "    </tr>\n",
       "  </thead>\n",
       "  <tbody>\n",
       "    <tr>\n",
       "      <th>AAACATACCAAGCT-1-stimulated</th>\n",
       "      <td>stimulated</td>\n",
       "      <td>1160.0</td>\n",
       "      <td>589</td>\n",
       "      <td>0.0</td>\n",
       "      <td>NK</td>\n",
       "      <td>True</td>\n",
       "      <td>All</td>\n",
       "      <td>perturbed</td>\n",
       "    </tr>\n",
       "    <tr>\n",
       "      <th>AAACATACCCCTAC-1-stimulated</th>\n",
       "      <td>stimulated</td>\n",
       "      <td>1729.0</td>\n",
       "      <td>795</td>\n",
       "      <td>0.0</td>\n",
       "      <td>Dendritic</td>\n",
       "      <td>True</td>\n",
       "      <td>All</td>\n",
       "      <td>perturbed</td>\n",
       "    </tr>\n",
       "    <tr>\n",
       "      <th>AAACATACCCGTAA-1-stimulated</th>\n",
       "      <td>stimulated</td>\n",
       "      <td>1360.0</td>\n",
       "      <td>585</td>\n",
       "      <td>0.0</td>\n",
       "      <td>CD4T</td>\n",
       "      <td>True</td>\n",
       "      <td>All</td>\n",
       "      <td>perturbed</td>\n",
       "    </tr>\n",
       "    <tr>\n",
       "      <th>AAACATACCCTCGT-1-stimulated</th>\n",
       "      <td>stimulated</td>\n",
       "      <td>1442.0</td>\n",
       "      <td>732</td>\n",
       "      <td>0.0</td>\n",
       "      <td>B</td>\n",
       "      <td>True</td>\n",
       "      <td>All</td>\n",
       "      <td>perturbed</td>\n",
       "    </tr>\n",
       "    <tr>\n",
       "      <th>AAACATACGAGGTG-1-stimulated</th>\n",
       "      <td>stimulated</td>\n",
       "      <td>1237.0</td>\n",
       "      <td>546</td>\n",
       "      <td>0.0</td>\n",
       "      <td>CD4T</td>\n",
       "      <td>True</td>\n",
       "      <td>All</td>\n",
       "      <td>perturbed</td>\n",
       "    </tr>\n",
       "    <tr>\n",
       "      <th>...</th>\n",
       "      <td>...</td>\n",
       "      <td>...</td>\n",
       "      <td>...</td>\n",
       "      <td>...</td>\n",
       "      <td>...</td>\n",
       "      <td>...</td>\n",
       "      <td>...</td>\n",
       "      <td>...</td>\n",
       "    </tr>\n",
       "    <tr>\n",
       "      <th>TTTGACTGGCGGAA-1-control</th>\n",
       "      <td>control</td>\n",
       "      <td>2505.0</td>\n",
       "      <td>821</td>\n",
       "      <td>0.0</td>\n",
       "      <td>CD8T</td>\n",
       "      <td>False</td>\n",
       "      <td>All</td>\n",
       "      <td>control</td>\n",
       "    </tr>\n",
       "    <tr>\n",
       "      <th>TTTGACTGTCGTAG-1-control</th>\n",
       "      <td>control</td>\n",
       "      <td>3704.0</td>\n",
       "      <td>1101</td>\n",
       "      <td>0.0</td>\n",
       "      <td>CD14+Mono</td>\n",
       "      <td>False</td>\n",
       "      <td>All</td>\n",
       "      <td>control</td>\n",
       "    </tr>\n",
       "    <tr>\n",
       "      <th>TTTGACTGTTACCT-1-control</th>\n",
       "      <td>control</td>\n",
       "      <td>2133.0</td>\n",
       "      <td>629</td>\n",
       "      <td>0.0</td>\n",
       "      <td>CD14+Mono</td>\n",
       "      <td>False</td>\n",
       "      <td>All</td>\n",
       "      <td>control</td>\n",
       "    </tr>\n",
       "    <tr>\n",
       "      <th>TTTGCATGCTTCGC-1-control</th>\n",
       "      <td>control</td>\n",
       "      <td>2317.0</td>\n",
       "      <td>875</td>\n",
       "      <td>0.0</td>\n",
       "      <td>B</td>\n",
       "      <td>False</td>\n",
       "      <td>All</td>\n",
       "      <td>control</td>\n",
       "    </tr>\n",
       "    <tr>\n",
       "      <th>TTTGCATGGTCCTC-1-control</th>\n",
       "      <td>control</td>\n",
       "      <td>1250.0</td>\n",
       "      <td>531</td>\n",
       "      <td>0.0</td>\n",
       "      <td>B</td>\n",
       "      <td>False</td>\n",
       "      <td>All</td>\n",
       "      <td>control</td>\n",
       "    </tr>\n",
       "  </tbody>\n",
       "</table>\n",
       "<p>16893 rows × 8 columns</p>\n",
       "</div>"
      ],
      "text/plain": [
       "                              condition  n_counts  n_genes  mt_frac  \\\n",
       "index                                                                 \n",
       "AAACATACCAAGCT-1-stimulated  stimulated    1160.0      589      0.0   \n",
       "AAACATACCCCTAC-1-stimulated  stimulated    1729.0      795      0.0   \n",
       "AAACATACCCGTAA-1-stimulated  stimulated    1360.0      585      0.0   \n",
       "AAACATACCCTCGT-1-stimulated  stimulated    1442.0      732      0.0   \n",
       "AAACATACGAGGTG-1-stimulated  stimulated    1237.0      546      0.0   \n",
       "...                                 ...       ...      ...      ...   \n",
       "TTTGACTGGCGGAA-1-control        control    2505.0      821      0.0   \n",
       "TTTGACTGTCGTAG-1-control        control    3704.0     1101      0.0   \n",
       "TTTGACTGTTACCT-1-control        control    2133.0      629      0.0   \n",
       "TTTGCATGCTTCGC-1-control        control    2317.0      875      0.0   \n",
       "TTTGCATGGTCCTC-1-control        control    1250.0      531      0.0   \n",
       "\n",
       "                             cell_type perturbed pathway condition_key  \n",
       "index                                                                   \n",
       "AAACATACCAAGCT-1-stimulated         NK      True     All     perturbed  \n",
       "AAACATACCCCTAC-1-stimulated  Dendritic      True     All     perturbed  \n",
       "AAACATACCCGTAA-1-stimulated       CD4T      True     All     perturbed  \n",
       "AAACATACCCTCGT-1-stimulated          B      True     All     perturbed  \n",
       "AAACATACGAGGTG-1-stimulated       CD4T      True     All     perturbed  \n",
       "...                                ...       ...     ...           ...  \n",
       "TTTGACTGGCGGAA-1-control          CD8T     False     All       control  \n",
       "TTTGACTGTCGTAG-1-control     CD14+Mono     False     All       control  \n",
       "TTTGACTGTTACCT-1-control     CD14+Mono     False     All       control  \n",
       "TTTGCATGCTTCGC-1-control             B     False     All       control  \n",
       "TTTGCATGGTCCTC-1-control             B     False     All       control  \n",
       "\n",
       "[16893 rows x 8 columns]"
      ]
     },
     "execution_count": 6,
     "metadata": {},
     "output_type": "execute_result"
    }
   ],
   "source": [
    "adata = sc.read('/orcd/archive/abugoot/001/Projects/opitcho/sandbox/omnicell/kang.h5ad')\n",
    "adata.obs\n"
   ]
  },
  {
   "cell_type": "code",
   "execution_count": 7,
   "metadata": {},
   "outputs": [
    {
     "data": {
      "text/plain": [
       "['NK', 'Dendritic', 'CD4T', 'B', 'FCGR3A+Mono', 'CD14+Mono', 'CD8T']\n",
       "Categories (7, object): ['CD4T', 'CD14+Mono', 'B', 'CD8T', 'NK', 'FCGR3A+Mono', 'Dendritic']"
      ]
     },
     "execution_count": 7,
     "metadata": {},
     "output_type": "execute_result"
    }
   ],
   "source": [
    "adata.obs['cell_type'].unique()"
   ]
  },
  {
   "cell_type": "code",
   "execution_count": 8,
   "metadata": {},
   "outputs": [
    {
     "data": {
      "text/plain": [
       "True"
      ]
     },
     "execution_count": 8,
     "metadata": {},
     "output_type": "execute_result"
    }
   ],
   "source": [
    "adata.obs['condition']\n",
    "\n",
    "adata.obs['condition_key']\n",
    "\n",
    "all((adata.obs['condition_key'] == 'perturbed') == (adata.obs['condition'] == 'stimulated'))\n",
    "\n",
    "\n"
   ]
  },
  {
   "cell_type": "code",
   "execution_count": 15,
   "metadata": {},
   "outputs": [
    {
     "data": {
      "text/plain": [
       "Index(['AL627309.1', 'RP11-206L10.9', 'LINC00115', 'NOC2L', 'KLHL17', 'HES4',\n",
       "       'ISG15', 'TNFRSF18', 'TNFRSF4', 'SDF4',\n",
       "       ...\n",
       "       'C21orf67', 'FAM207A', 'ADARB1', 'POFUT2', 'COL18A1', 'SLC19A1',\n",
       "       'COL6A2', 'FTCD', 'DIP2A', 'S100B'],\n",
       "      dtype='object', name='index', length=6998)"
      ]
     },
     "execution_count": 15,
     "metadata": {},
     "output_type": "execute_result"
    }
   ],
   "source": [
    "adata.var_names"
   ]
  },
  {
   "cell_type": "code",
   "execution_count": null,
   "metadata": {},
   "outputs": [],
   "source": []
  },
  {
   "cell_type": "code",
   "execution_count": null,
   "metadata": {},
   "outputs": [],
   "source": []
  }
 ],
 "metadata": {
  "kernelspec": {
   "display_name": "Python 3 (ipykernel)",
   "language": "python",
   "name": "python3"
  },
  "language_info": {
   "codemirror_mode": {
    "name": "ipython",
    "version": 3
   },
   "file_extension": ".py",
   "mimetype": "text/x-python",
   "name": "python",
   "nbconvert_exporter": "python",
   "pygments_lexer": "ipython3",
   "version": "3.9.19"
  }
 },
 "nbformat": 4,
 "nbformat_minor": 2
}
