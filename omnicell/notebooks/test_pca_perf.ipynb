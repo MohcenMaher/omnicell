{
 "cells": [
  {
   "cell_type": "code",
   "execution_count": 7,
   "metadata": {},
   "outputs": [],
   "source": [
    "import scanpy as sc\n",
    "import torch\n",
    "import numpy as np\n"
   ]
  },
  {
   "cell_type": "code",
   "execution_count": 2,
   "metadata": {},
   "outputs": [],
   "source": [
    "from torch import pca_lowrank"
   ]
  },
  {
   "cell_type": "code",
   "execution_count": 3,
   "metadata": {},
   "outputs": [
    {
     "data": {
      "text/plain": [
       "AnnData object with n_obs × n_vars = 966728 × 11907\n",
       "    obs: 'gem_group', 'gene', 'gene_id', 'transcript', 'gene_transcript', 'sgID_AB', 'mitopercent', 'UMI_count', 'z_gemgroup_UMI', 'cell_type', 'core_scale_factor', 'core_adjusted_UMI_count'"
      ]
     },
     "execution_count": 3,
     "metadata": {},
     "output_type": "execute_result"
    }
   ],
   "source": [
    "DATA_PATH = '/om/group/abugoot/Projects/Omnicell_datasets/essential_gene_knockouts_raw/essential_gene_knockouts_raw.h5ad'\n",
    "\n",
    "\n",
    "\n",
    "with open(DATA_PATH, 'rb') as f:\n",
    "    adata = sc.read_h5ad(f)\n",
    "\n",
    "\n",
    "adata\n"
   ]
  },
  {
   "cell_type": "code",
   "execution_count": 9,
   "metadata": {},
   "outputs": [
    {
     "data": {
      "text/plain": [
       "array([[0., 0., 0., ..., 1., 3., 0.],\n",
       "       [0., 0., 0., ..., 0., 0., 0.],\n",
       "       [0., 0., 0., ..., 0., 0., 0.],\n",
       "       ...,\n",
       "       [0., 0., 0., ..., 0., 1., 0.],\n",
       "       [0., 0., 0., ..., 0., 0., 0.],\n",
       "       [0., 0., 0., ..., 1., 2., 0.]], dtype=float32)"
      ]
     },
     "execution_count": 9,
     "metadata": {},
     "output_type": "execute_result"
    }
   ],
   "source": []
  },
  {
   "cell_type": "code",
   "execution_count": 11,
   "metadata": {},
   "outputs": [
    {
     "data": {
      "text/plain": [
       "(tensor([[ 3.7157e-04, -2.0009e-04,  2.7075e-04,  1.0168e-03,  1.5560e-04,\n",
       "          -8.5922e-04],\n",
       "         [ 7.6059e-04,  2.1687e-05, -8.3695e-05,  1.0211e-03,  2.4822e-06,\n",
       "          -3.3941e-04],\n",
       "         [ 6.7349e-04, -4.3709e-05,  9.1500e-05,  7.1605e-04, -1.7292e-04,\n",
       "          -1.0218e-03],\n",
       "         ...,\n",
       "         [ 8.4028e-04, -1.5283e-04, -4.4769e-04, -1.6855e-04, -6.6013e-04,\n",
       "          -2.3413e-05],\n",
       "         [ 7.4332e-04, -4.6964e-04, -5.9111e-04,  3.0463e-05, -7.9281e-04,\n",
       "           3.0992e-04],\n",
       "         [ 1.2229e-04, -1.3748e-03, -4.4331e-04, -1.9899e-04, -9.7574e-04,\n",
       "           8.7259e-05]]),\n",
       " tensor([376021.5312, 169124.7969, 139967.1406,  99020.2656,  87784.3125,\n",
       "          67932.1406]),\n",
       " tensor([[-2.1886e-04, -1.1861e-03, -2.6686e-04, -2.2818e-04, -7.9104e-05,\n",
       "          -9.6608e-04],\n",
       "         [-1.5310e-03,  2.4152e-03, -4.3385e-03,  5.5596e-04, -2.6581e-04,\n",
       "          -1.3833e-03],\n",
       "         [-5.9712e-03,  1.1081e-02, -2.0469e-02, -2.7308e-03,  4.4445e-03,\n",
       "          -5.1295e-03],\n",
       "         ...,\n",
       "         [-4.4920e-04, -3.4482e-04,  4.8949e-04, -4.8092e-04,  4.5663e-04,\n",
       "           7.0029e-04],\n",
       "         [-7.9410e-04, -3.4183e-03, -2.5000e-03, -3.3483e-03, -2.1485e-03,\n",
       "           1.8026e-04],\n",
       "         [-2.0551e-04, -2.3502e-04,  1.5933e-05,  2.9224e-04,  1.1969e-04,\n",
       "          -8.5077e-04]]))"
      ]
     },
     "execution_count": 11,
     "metadata": {},
     "output_type": "execute_result"
    }
   ],
   "source": [
    "pca_lowrank(torch.from_numpy(adata.X.toarray()))"
   ]
  },
  {
   "cell_type": "code",
   "execution_count": null,
   "metadata": {},
   "outputs": [],
   "source": []
  }
 ],
 "metadata": {
  "kernelspec": {
   "display_name": "Python 3 (ipykernel)",
   "language": "python",
   "name": "python3"
  },
  "language_info": {
   "codemirror_mode": {
    "name": "ipython",
    "version": 3
   },
   "file_extension": ".py",
   "mimetype": "text/x-python",
   "name": "python",
   "nbconvert_exporter": "python",
   "pygments_lexer": "ipython3",
   "version": "3.9.19"
  }
 },
 "nbformat": 4,
 "nbformat_minor": 2
}
