{
 "cells": [
  {
   "cell_type": "code",
   "execution_count": 1,
   "metadata": {},
   "outputs": [],
   "source": [
    "import scanpy as sc\n",
    "import torch\n",
    "import torch\n",
    "import torch.nn as nn\n",
    "import torch.nn.functional as F\n",
    "import numpy as np\n",
    "\n",
    "import numpy as np\n",
    "import torch\n",
    "from torch.utils.data import Dataset, DataLoader\n",
    "import pandas as pd\n",
    "from tqdm import tqdm   "
   ]
  },
  {
   "cell_type": "code",
   "execution_count": 2,
   "metadata": {},
   "outputs": [],
   "source": [
    "import torch\n",
    "import torch.nn as nn\n",
    "import torch.nn.functional as F\n",
    "\n",
    "class VAEEverything(nn.Module):\n",
    "    def __init__(self, input_dim,\n",
    "                 alpha,\n",
    "                 enc_hidden_layer_dim,\n",
    "                 enc_nbr_hidden_layers,\n",
    "                 rec_hidden_layer_dim,\n",
    "                 rec_nbr_hidden_layers,\n",
    "                 pert_pred_hidden_layer_dim,\n",
    "                 pert_pred_nbr_hidden_layers,\n",
    "                 latent_dim,\n",
    "                 gene_embedding_dim):\n",
    "        super().__init__()\n",
    "        \n",
    "        self.input_dim = input_dim\n",
    "        self.alpha = alpha\n",
    "        self.fc1_enc = nn.Linear(input_dim, enc_hidden_layer_dim)\n",
    "        self.relu1_enc = nn.LeakyReLU()\n",
    "        self.fc2_enc = nn.Linear(enc_hidden_layer_dim, enc_hidden_layer_dim)\n",
    "        self.relu2_enc = nn.LeakyReLU()\n",
    "        self.fc3_enc = nn.Linear(enc_hidden_layer_dim, enc_hidden_layer_dim)\n",
    "        self.relu3_enc = nn.LeakyReLU()\n",
    "        self.fc4_enc = nn.Linear(enc_hidden_layer_dim, enc_hidden_layer_dim)\n",
    "        self.relu4_enc = nn.LeakyReLU()\n",
    "        #self.fc5_enc = nn.Linear(enc_hidden_layer_dim, enc_hidden_layer_dim)\n",
    "        #self.relu5_enc = nn.LeakyReLU()\n",
    "\n",
    "        self.encoder = nn.Sequential(*[self.fc1_enc, self.relu1_enc, self.fc2_enc, self.relu2_enc, self.fc3_enc, self.relu3_enc, self.fc4_enc, self.relu4_enc]) #, self.fc5_enc, self.relu5_enc])\n",
    "\n",
    "\n",
    "        self.fc_mu = nn.Linear(enc_hidden_layer_dim, latent_dim)\n",
    "        self.fc_var = nn.Linear(enc_hidden_layer_dim, latent_dim)\n",
    "        \n",
    "        # Learnable gene embeddings\n",
    "        self.gene_embeddings = nn.Embedding(input_dim, gene_embedding_dim)\n",
    "        self.gene_embeddings.freeze = False\\\n",
    "\n",
    "        self.fc1_dec_rec = nn.Linear(latent_dim + gene_embedding_dim, rec_hidden_layer_dim)\n",
    "        self.relu1_dec_rec = nn.LeakyReLU()\n",
    "        self.fc2_dec_rec = nn.Linear(rec_hidden_layer_dim, rec_hidden_layer_dim)\n",
    "        self.relu2_dec_rec = nn.LeakyReLU()\n",
    "        self.fc3_dec_rec = nn.Linear(rec_hidden_layer_dim, rec_hidden_layer_dim)\n",
    "        self.relu3_dec_rec = nn.LeakyReLU()\n",
    "        self.fc4_dec_rec = nn.Linear(rec_hidden_layer_dim, rec_hidden_layer_dim)\n",
    "        self.relu4_dec_rec = nn.LeakyReLU()\n",
    "\n",
    "        self.fc_raw_counts = nn.Linear(rec_hidden_layer_dim, 1)\n",
    "\n",
    "        \n",
    "        self.fc_sparsity = nn.Linear(rec_hidden_layer_dim, 1)\n",
    "        self.sigmoid_sparsity = nn.Sigmoid()\n",
    "\n",
    "        self.raw_counts_decoder = nn.Sequential(*[self.fc1_dec_rec, self.relu1_dec_rec, self.fc2_dec_rec, \n",
    "                                                  self.relu2_dec_rec, self.fc3_dec_rec, self.relu3_dec_rec, \n",
    "                                                  self.fc4_dec_rec, self.relu4_dec_rec, self.fc_raw_counts])\n",
    "        \n",
    "\n",
    "        self.sparsity_decoder = nn.Sequential(*[self.fc1_dec_rec, self.relu1_dec_rec, self.fc2_dec_rec,\n",
    "                                                self.relu2_dec_rec, self.fc3_dec_rec, self.relu3_dec_rec,\n",
    "                                                self.fc4_dec_rec, self.relu4_dec_rec, self.fc_sparsity, self.sigmoid_sparsity])\n",
    "        \n",
    "        \n",
    "      \n",
    "\n",
    "        \n",
    "        \n",
    "        # Build Perturbation Decoder layers dynamically\n",
    "\n",
    "        self.fc1_dec_pert = nn.Linear(latent_dim + gene_embedding_dim, pert_pred_hidden_layer_dim)\n",
    "        self.relu1_dec_pert = nn.LeakyReLU()\n",
    "        self.fc2_dec_pert = nn.Linear(pert_pred_hidden_layer_dim, pert_pred_hidden_layer_dim)\n",
    "        self.relu2_dec_pert = nn.LeakyReLU()\n",
    "        self.fc3_dec_pert = nn.Linear(pert_pred_hidden_layer_dim, pert_pred_hidden_layer_dim)\n",
    "        self.relu3_dec_pert = nn.LeakyReLU()\n",
    "        self.fc4_dec_pert = nn.Linear(pert_pred_hidden_layer_dim, pert_pred_hidden_layer_dim)\n",
    "        self.relu4_dec_pert = nn.LeakyReLU()\n",
    "        self.fc5_dec_pert = nn.Linear(pert_pred_hidden_layer_dim, input_dim)\n",
    "\n",
    "\n",
    "        self.perturbation_decoder = nn.Sequential(*[self.fc1_dec_pert, self.relu1_dec_pert, self.fc2_dec_pert,\n",
    "                                                    self.relu2_dec_pert, self.fc3_dec_pert, self.relu3_dec_pert,\n",
    "                                                    self.fc4_dec_pert, self.relu4_dec_pert, self.fc5_dec_pert])\n",
    "\n",
    "\n",
    "    def encode(self, x):\n",
    "        \"\"\"\n",
    "        Forward pass for the encoder\n",
    "        \n",
    "        Args:\n",
    "        x: input tensor of shape (batch_size, input_dim)\n",
    "        \n",
    "        Returns:\n",
    "        mu: mean of the latent variable of shape (batch_size, latent_dim)\n",
    "        \"\"\"\n",
    "        x = self.encoder(x)\n",
    "        mu = self.fc_mu(x)\n",
    "        log_var = self.fc_var(x)\n",
    "        return mu, log_var\n",
    "\n",
    "    def reparameterize(self, mu, log_var):\n",
    "        std = torch.exp(0.5 * log_var)\n",
    "        eps = torch.randn_like(std)\n",
    "        return mu + eps * std\n",
    "\n",
    "\n",
    "    def reconstruction_decode(self, z):\n",
    "        \"\"\"\n",
    "        Forward pass for the reconstruction mode\n",
    "\n",
    "        Args:\n",
    "        z: latent variable of shape (batch_size, latent_dim)\n",
    "        \n",
    "        Returns:\n",
    "        expression_value: predicted expression value of shape (batch_size, num_genes)\n",
    "        sparsity_value: predicted sparsity value of shape (batch_size, num_genes)\n",
    "        \"\"\"\n",
    "\n",
    "        z_replicated = z.unsqueeze(1).expand(-1, self.gene_embeddings.weight.size(0), -1)\n",
    "\n",
    "        reshaped_gene_emb = self.gene_embeddings.weight.unsqueeze(0).expand(z.size(0), -1, -1)\n",
    "\n",
    "\n",
    "\n",
    "        \n",
    "        z_and_gene = torch.cat((z_replicated, reshaped_gene_emb), axis=-1)\n",
    "\n",
    "        expression_value = self.raw_counts_decoder(z_and_gene).squeeze(-1)\n",
    "\n",
    "        sparsity_value = self.sparsity_decoder(z_and_gene).squeeze(-1)\n",
    "\n",
    "        return expression_value, sparsity_value\n",
    "\n",
    "\n",
    "\n",
    "    def perturbation_decode(self, z, gene_idx):\n",
    "\n",
    "        \"\"\"\n",
    "        Args:\n",
    "        z: latent variable of shape (batch_size, latent_dim)\n",
    "        gene_idx: index of the gene to perturb\n",
    "\n",
    "        Returns:\n",
    "\n",
    "        \"\"\"\n",
    "        # Get gene embedding for the specific gene\n",
    "        gene_emb = self.gene_embeddings[gene_idx]\n",
    "\n",
    "\n",
    "        batch_size = z.size(0)\n",
    "        gene_emb = gene_emb.unsqueeze(0).expand(batch_size, -1)\n",
    "\n",
    "\n",
    "        # Concatenate cell embedding with gene embedding\n",
    "        decoder_input = torch.cat([z, gene_emb], dim=-1)\n",
    "        \n",
    "        # Get perturbation output\n",
    "        perturbed_value = self.perturbation_decoder(decoder_input)\n",
    "        return perturbed_value.squeeze()\n",
    "\n",
    "    def forward(self, x, gene_idx = None, mode='reconstruction'):\n",
    "        # Encode\n",
    "        mu, log_var = self.encode(x)\n",
    "        \n",
    "        # Reparameterize\n",
    "        z = self.reparameterize(mu, log_var)\n",
    "        \n",
    "        # Decode based on mode\n",
    "        if mode == 'reconstruction':\n",
    "            expression_value, is_expressed = self.reconstruction_decode(z)\n",
    "            return expression_value, is_expressed, mu, log_var\n",
    "        else:  # perturbation mode\n",
    "\n",
    "            perturbed_value = self.perturbation_decode(z, gene_idx)\n",
    "            return perturbed_value, mu, log_var\n",
    "        \n",
    "    \n",
    "    def forward_reconstruction(self, x):\n",
    "        return self.forward(x, mode='reconstruction')\n",
    "    \n",
    "    def forward_perturbation(self, x, gene_idx):\n",
    "        return self.forward(x, gene_idx, mode='perturbation')\n",
    "\n",
    "\n",
    "        \n",
    "    def rec_loss_function(self, recon_x, x, mu, logvar):\n",
    "\n",
    "\n",
    "        recon_loss = F.mse_loss(recon_x, x.view(-1, self.input_dim), reduction='sum')\n",
    "        KLD = -0.5 * torch.sum(1 + logvar - mu.pow(2) - logvar.exp())\n",
    "        return recon_loss + self.alpha * KLD\n",
    "\n",
    "\n",
    "\n",
    "    def pert_loss_function(self, perturbed_x, x):\n",
    "        pert_loss = F.mse_loss(perturbed_x, x.view(-1, self.input_dim), reduction='sum')\n",
    "        #KLD = -0.5 * torch.sum(1 + logvar - mu.pow(2) - logvar.exp())\n",
    "        return pert_loss\n",
    "\n",
    "\n",
    "\n"
   ]
  },
  {
   "cell_type": "code",
   "execution_count": 3,
   "metadata": {},
   "outputs": [],
   "source": [
    "def get_train_eval_idxs(\n",
    "    adata, control_pert, holdout_cells, holdout_perts, \n",
    "    cell_col='cell_type', pert_col='pert_type', verbose=2\n",
    "):\n",
    "    # here we set up the train/eval and control/pert sets\n",
    "    # set the idx of the controls\n",
    "    control_idx = adata.obs[pert_col] == control_pert\n",
    "    # set the idx of the perts (currently just \"all not control\")\n",
    "    pert_idx = adata.obs[pert_col] != control_pert\n",
    "    # set the hold out cell-type/pert\n",
    "    eval_idx = control_idx & False\n",
    "    for holdout_cell, holdout_pert in zip(holdout_cells, holdout_perts):\n",
    "        eval_idx |= (adata.obs[cell_col] == holdout_cell) & (adata.obs[pert_col] == holdout_pert)\n",
    "    eval_cell_idx = adata.obs[cell_col].isin(holdout_cells)\n",
    "    eval_pert_idx = adata.obs[pert_col].isin(holdout_perts)\n",
    "    eval_idx = eval_cell_idx & eval_pert_idx\n",
    "    if verbose > 0:\n",
    "        print(f\"Controls: {(control_idx & ~eval_idx).sum()}, Perturbations: {(pert_idx & ~eval_idx).sum()},  Eval: {eval_idx.sum()}\")\n",
    "    return control_idx, pert_idx, eval_idx, eval_cell_idx, eval_pert_idx\n",
    "\n",
    "def get_identity_features(adata, cell_col='cell_type', pert_col='perturb', cell_type_features=True):\n",
    "    perts = pd.get_dummies(adata.obs[pert_col]).values.astype(float)\n",
    "    cell_types = pd.get_dummies(adata.obs[cell_col]).values\n",
    "    if cell_type_features:\n",
    "        combo = pd.get_dummies(adata.obs[cell_col].astype(str) + adata.obs[pert_col].astype(str)).values\n",
    "        idx = (combo!=0).argmax(axis=0)\n",
    "        pert_mat = np.hstack([cell_types, perts])[idx, :].astype('float32')\n",
    "    else:\n",
    "        combo = perts\n",
    "        idx = (combo!=0).argmax(axis=0)\n",
    "        pert_mat = perts[idx, :].astype('float32')\n",
    "    \n",
    "    pert_ids = combo.argmax(axis=1)\n",
    "    cell_types = cell_types.argmax(axis=1)\n",
    "    return pert_ids, pert_mat, cell_types\n",
    "\n",
    "def get_train_eval(\n",
    "    X, pert_ids, cell_types, control_idx, pert_idx, eval_idx, eval_cell_idx, eval_pert_idx\n",
    "):\n",
    "    # set train and eval split\n",
    "    control_train = X[control_idx & ~eval_idx]\n",
    "    pert_train = X[pert_idx & ~eval_idx]\n",
    "    pert_ids_train =  pert_ids[pert_idx & ~eval_idx]\n",
    "    control_cell_types = cell_types[control_idx & ~eval_idx]\n",
    "    pert_cell_types = cell_types[pert_idx & ~eval_idx]\n",
    "\n",
    "    control_eval = X[control_idx & eval_cell_idx]\n",
    "    pert_eval = X[eval_idx]\n",
    "    pert_ids_eval = pert_ids[eval_idx]\n",
    "    return control_train, pert_train, pert_ids_train, control_cell_types, pert_cell_types, control_eval, pert_eval, pert_ids_eval\n",
    "\n",
    "\n",
    "class SCFMDataset(torch.utils.data.Dataset):\n",
    "    def __init__(\n",
    "        self, source, target, pert_ids, pert_mat, source_strata, target_strata, \n",
    "        probs=None, size=int(1e4), batch_size=32\n",
    "    ):\n",
    "        source, target = np.array(source), np.array(target)\n",
    "        pert_ids, pert_mat = np.array(pert_ids), np.array(pert_mat)\n",
    "        \n",
    "        assert target.shape[0] == pert_ids.shape[0]\n",
    "        assert source.shape[0] == source_strata.shape[0]\n",
    "        assert target.shape[0] == target_strata.shape[0]\n",
    "        \n",
    "        self.size = size\n",
    "        self.source_strata = source_strata\n",
    "        self.target_strata = target_strata\n",
    "        self.strata = np.unique(source_strata)\n",
    "        self.num_strata = len(self.strata)\n",
    "        \n",
    "        self.pert_ids = np.unique(pert_ids)\n",
    "        \n",
    "        self.source = [source[source_strata == stratum] for stratum in self.strata]\n",
    "        self.target = [\n",
    "            [\n",
    "                target[target_strata == stratum][pert_ids[target_strata == stratum] == pert_id] \n",
    "                for pert_id in self.pert_ids\n",
    "            ] for stratum in self.strata\n",
    "        ]\n",
    "        self.pert_ids = [\n",
    "            [\n",
    "                pert_ids[target_strata == stratum][pert_ids[target_strata == stratum] == pert_id] \n",
    "                for pert_id in self.pert_ids\n",
    "            ] for stratum in self.strata\n",
    "        ]\n",
    "        self.pert_mat = pert_mat\n",
    "        \n",
    "\n",
    "    def __len__(self):\n",
    "        return self.size\n",
    "\n",
    "    def __getitem__(self, strata_idx):\n",
    "        stratum, idx = strata_idx\n",
    "        sidx = np.random.choice(self.source[stratum[0]].shape[0])\n",
    "        return (\n",
    "            self.source[stratum[0]][sidx],\n",
    "            self.target[stratum[0]][stratum[1]][idx],\n",
    "            self.pert_mat[self.pert_ids[stratum[0]][stratum[1]][idx]],\n",
    "        )\n",
    "\n",
    "from torch.utils.data import BatchSampler, SequentialSampler, Sampler\n",
    "from typing import Iterator, Iterable, Optional, Sequence, List, TypeVar, Generic, Sized, Union\n",
    "\n",
    "class StratifiedBatchSampler(Sampler[List[int]]):\n",
    "    def __init__(\n",
    "        self, ns, batch_size: int\n",
    "    ) -> None:\n",
    "        # Since collections.abc.Iterable does not check for `__getitem__`, which\n",
    "        # is one way for an object to be an iterable, we don't do an `isinstance`\n",
    "        # check here.\n",
    "        if not isinstance(batch_size, int) or isinstance(batch_size, bool) or \\\n",
    "                batch_size <= 0:\n",
    "            raise ValueError(f\"batch_size should be a positive integer value, but got batch_size={batch_size}\")\n",
    "        \n",
    "        self.num_strata = np.prod(ns.shape)\n",
    "        self.ns = ns\n",
    "        self.probs = ns.flatten() / np.sum(ns)\n",
    "        print(\"Strata probs\", np.sort(self.probs))\n",
    "        self.batch_size = batch_size\n",
    "        self.batch_sizes = np.minimum(ns, batch_size)\n",
    "    \n",
    "    def get_random_stratum(self):\n",
    "        linear_idx = np.random.choice(self.num_strata, p=self.probs)\n",
    "        stratum = np.unravel_index(linear_idx, self.ns.shape)\n",
    "        return stratum\n",
    "\n",
    "    def __iter__(self) -> Iterator[List[int]]:\n",
    "        # Implemented based on the benchmarking in https://github.com/pytorch/pytorch/pull/76951\n",
    "        while True:\n",
    "            stratum = self.get_random_stratum()\n",
    "            try:\n",
    "                batch_stratum = np.repeat(np.array(stratum)[None, :], self.batch_sizes[stratum], axis=0)\n",
    "                batch = np.random.choice(self.ns[stratum], self.batch_sizes[stratum], replace=False)\n",
    "                yield zip(batch_stratum, batch)\n",
    "            except StopIteration:\n",
    "                break\n",
    "\n",
    "    def __len__(self) -> int:\n",
    "        # Can only be called if self.sampler has __len__ implemented\n",
    "        # We cannot enforce this condition, so we turn off typechecking for the\n",
    "        # implementation below.\n",
    "        # Somewhat related: see NOTE [ Lack of Default `__len__` in Python Abstract Base Classes ]\n",
    "        return np.sum(self.ns) // self.batch_size\n",
    "\n",
    "from torchcfm.conditional_flow_matching import (\n",
    "    ExactOptimalTransportConditionalFlowMatcher,OTPlanSampler\n",
    ")\n",
    "def ot_collate(\n",
    "    batch,\n",
    "    return_noise=False,\n",
    "    ot_sampler = OTPlanSampler(method=\"exact\")\n",
    "):\n",
    "\n",
    "    batch = list(zip(*batch))\n",
    "    batch = [torch.tensor(np.array(x)) for x in batch]\n",
    "    control, target = batch[:2]\n",
    "    \n",
    "    x0, x1 = ot_sampler.sample_plan(control, target)\n",
    "\n",
    "    return x0, x1, *batch[2:]\n"
   ]
  },
  {
   "cell_type": "code",
   "execution_count": null,
   "metadata": {},
   "outputs": [],
   "source": [
    "\n",
    "\n",
    "\n"
   ]
  },
  {
   "cell_type": "code",
   "execution_count": 3,
   "metadata": {},
   "outputs": [],
   "source": [
    "with open(\"/om/group/abugoot/Projects/Omnicell_datasets/satija_IFNB_raw/Seurat_IFNB.h5ad\", \"rb\") as f:\n",
    "    adata = sc.read_h5ad(f)\n",
    "\n",
    "\n"
   ]
  },
  {
   "cell_type": "code",
   "execution_count": 4,
   "metadata": {},
   "outputs": [],
   "source": [
    "sc.pp.normalize_total(adata, target_sum=10000)\n",
    "sc.pp.log1p(adata)\n"
   ]
  },
  {
   "cell_type": "code",
   "execution_count": null,
   "metadata": {},
   "outputs": [],
   "source": [
    "\n"
   ]
  },
  {
   "cell_type": "code",
   "execution_count": 12,
   "metadata": {},
   "outputs": [
    {
     "data": {
      "text/plain": [
       "1            TSPAN6\n",
       "2              TNMD\n",
       "3              DPM1\n",
       "4             SCYL3\n",
       "5          C1orf112\n",
       "            ...    \n",
       "34021    AP006545.2\n",
       "34022    AL359198.1\n",
       "34023    AL360219.1\n",
       "34024    AL138966.2\n",
       "34025    AC092634.8\n",
       "Name: gene, Length: 34025, dtype: object"
      ]
     },
     "execution_count": 12,
     "metadata": {},
     "output_type": "execute_result"
    }
   ],
   "source": [
    "CELL_TYPE_KEY = 'cell_type'\n",
    "PERT_KEY = 'gene'\n",
    "CONTROL_PERT = 'NT'\n",
    "\n",
    "PERT_INDEX_KEY = \"pert_type\"\n",
    "adata.var['gene']\n",
    "\n"
   ]
  },
  {
   "cell_type": "code",
   "execution_count": 13,
   "metadata": {},
   "outputs": [
    {
     "data": {
      "text/html": [
       "<div>\n",
       "<style scoped>\n",
       "    .dataframe tbody tr th:only-of-type {\n",
       "        vertical-align: middle;\n",
       "    }\n",
       "\n",
       "    .dataframe tbody tr th {\n",
       "        vertical-align: top;\n",
       "    }\n",
       "\n",
       "    .dataframe thead th {\n",
       "        text-align: right;\n",
       "    }\n",
       "</style>\n",
       "<table border=\"1\" class=\"dataframe\">\n",
       "  <thead>\n",
       "    <tr style=\"text-align: right;\">\n",
       "      <th></th>\n",
       "      <th>orig.ident</th>\n",
       "      <th>nCount_RNA</th>\n",
       "      <th>nFeature_RNA</th>\n",
       "      <th>sample</th>\n",
       "      <th>bc1_well</th>\n",
       "      <th>bc2_well</th>\n",
       "      <th>bc3_well</th>\n",
       "      <th>percent.mito</th>\n",
       "      <th>cell_type</th>\n",
       "      <th>pathway</th>\n",
       "      <th>RNA_snn_res.0.9</th>\n",
       "      <th>seurat_clusters</th>\n",
       "      <th>sample_ID</th>\n",
       "      <th>Batch_info</th>\n",
       "      <th>guide</th>\n",
       "      <th>gene</th>\n",
       "      <th>mixscale_score</th>\n",
       "      <th>pert_type</th>\n",
       "    </tr>\n",
       "  </thead>\n",
       "  <tbody>\n",
       "    <tr>\n",
       "      <th>07_48_88_1_1_1_1_1_1_1_1_1</th>\n",
       "      <td>7</td>\n",
       "      <td>9816</td>\n",
       "      <td>4122</td>\n",
       "      <td>A549_IFNB</td>\n",
       "      <td>A7</td>\n",
       "      <td>D12</td>\n",
       "      <td>H4</td>\n",
       "      <td>1.161369</td>\n",
       "      <td>A549</td>\n",
       "      <td>IFNB</td>\n",
       "      <td>15.0</td>\n",
       "      <td>15.0</td>\n",
       "      <td>sample_1</td>\n",
       "      <td>Rep1</td>\n",
       "      <td>TRAFD1g3</td>\n",
       "      <td>TRAFD1</td>\n",
       "      <td>-0.290358</td>\n",
       "      <td>6608</td>\n",
       "    </tr>\n",
       "    <tr>\n",
       "      <th>06_04_63_1_1_1_1_1_1_1_1_1</th>\n",
       "      <td>6</td>\n",
       "      <td>9359</td>\n",
       "      <td>4112</td>\n",
       "      <td>A549_IFNB</td>\n",
       "      <td>A6</td>\n",
       "      <td>A4</td>\n",
       "      <td>F3</td>\n",
       "      <td>3.835880</td>\n",
       "      <td>A549</td>\n",
       "      <td>IFNB</td>\n",
       "      <td>15.0</td>\n",
       "      <td>15.0</td>\n",
       "      <td>sample_1</td>\n",
       "      <td>Rep1</td>\n",
       "      <td>HES4g3</td>\n",
       "      <td>HES4</td>\n",
       "      <td>0.121449</td>\n",
       "      <td>14836</td>\n",
       "    </tr>\n",
       "    <tr>\n",
       "      <th>06_28_67_1_1_1_1_1_1_1_1_1</th>\n",
       "      <td>6</td>\n",
       "      <td>8999</td>\n",
       "      <td>3854</td>\n",
       "      <td>A549_IFNB</td>\n",
       "      <td>A6</td>\n",
       "      <td>C4</td>\n",
       "      <td>F7</td>\n",
       "      <td>9.189910</td>\n",
       "      <td>A549</td>\n",
       "      <td>IFNB</td>\n",
       "      <td>15.0</td>\n",
       "      <td>15.0</td>\n",
       "      <td>sample_1</td>\n",
       "      <td>Rep1</td>\n",
       "      <td>NTg8</td>\n",
       "      <td>NT</td>\n",
       "      <td>0.000000</td>\n",
       "      <td>34025</td>\n",
       "    </tr>\n",
       "    <tr>\n",
       "      <th>06_27_93_1_1_1_1_1_1_1_1_1</th>\n",
       "      <td>6</td>\n",
       "      <td>8384</td>\n",
       "      <td>3600</td>\n",
       "      <td>A549_IFNB</td>\n",
       "      <td>A6</td>\n",
       "      <td>C3</td>\n",
       "      <td>H9</td>\n",
       "      <td>3.268130</td>\n",
       "      <td>A549</td>\n",
       "      <td>IFNB</td>\n",
       "      <td>15.0</td>\n",
       "      <td>15.0</td>\n",
       "      <td>sample_1</td>\n",
       "      <td>Rep1</td>\n",
       "      <td>STAT5Ag1</td>\n",
       "      <td>STAT5A</td>\n",
       "      <td>0.377627</td>\n",
       "      <td>5498</td>\n",
       "    </tr>\n",
       "    <tr>\n",
       "      <th>06_81_38_1_1_1_1_1_1_1_1_1</th>\n",
       "      <td>6</td>\n",
       "      <td>7925</td>\n",
       "      <td>3580</td>\n",
       "      <td>A549_IFNB</td>\n",
       "      <td>A6</td>\n",
       "      <td>G9</td>\n",
       "      <td>D2</td>\n",
       "      <td>3.798107</td>\n",
       "      <td>A549</td>\n",
       "      <td>IFNB</td>\n",
       "      <td>15.0</td>\n",
       "      <td>15.0</td>\n",
       "      <td>sample_1</td>\n",
       "      <td>Rep1</td>\n",
       "      <td>STAT4g2</td>\n",
       "      <td>STAT4</td>\n",
       "      <td>1.000000</td>\n",
       "      <td>7199</td>\n",
       "    </tr>\n",
       "    <tr>\n",
       "      <th>...</th>\n",
       "      <td>...</td>\n",
       "      <td>...</td>\n",
       "      <td>...</td>\n",
       "      <td>...</td>\n",
       "      <td>...</td>\n",
       "      <td>...</td>\n",
       "      <td>...</td>\n",
       "      <td>...</td>\n",
       "      <td>...</td>\n",
       "      <td>...</td>\n",
       "      <td>...</td>\n",
       "      <td>...</td>\n",
       "      <td>...</td>\n",
       "      <td>...</td>\n",
       "      <td>...</td>\n",
       "      <td>...</td>\n",
       "      <td>...</td>\n",
       "      <td>...</td>\n",
       "    </tr>\n",
       "    <tr>\n",
       "      <th>09_10_48_2_2</th>\n",
       "      <td>9</td>\n",
       "      <td>2362</td>\n",
       "      <td>1491</td>\n",
       "      <td>MCF7_IFNB</td>\n",
       "      <td>A9</td>\n",
       "      <td>A10</td>\n",
       "      <td>D12</td>\n",
       "      <td>1.820491</td>\n",
       "      <td>MCF7</td>\n",
       "      <td>IFNB</td>\n",
       "      <td>NaN</td>\n",
       "      <td>NaN</td>\n",
       "      <td>sample_16</td>\n",
       "      <td>Rep2</td>\n",
       "      <td>NFE2L3g3</td>\n",
       "      <td>NFE2L3</td>\n",
       "      <td>-0.009685</td>\n",
       "      <td>655</td>\n",
       "    </tr>\n",
       "    <tr>\n",
       "      <th>10_73_27_2_2</th>\n",
       "      <td>10</td>\n",
       "      <td>2143</td>\n",
       "      <td>1483</td>\n",
       "      <td>MCF7_IFNB</td>\n",
       "      <td>A10</td>\n",
       "      <td>G1</td>\n",
       "      <td>C3</td>\n",
       "      <td>0.326645</td>\n",
       "      <td>MCF7</td>\n",
       "      <td>IFNB</td>\n",
       "      <td>NaN</td>\n",
       "      <td>NaN</td>\n",
       "      <td>sample_16</td>\n",
       "      <td>Rep2</td>\n",
       "      <td>IRF3g2</td>\n",
       "      <td>IRF3</td>\n",
       "      <td>-0.402627</td>\n",
       "      <td>5488</td>\n",
       "    </tr>\n",
       "    <tr>\n",
       "      <th>10_24_48_2_2</th>\n",
       "      <td>10</td>\n",
       "      <td>1921</td>\n",
       "      <td>1322</td>\n",
       "      <td>MCF7_IFNB</td>\n",
       "      <td>A10</td>\n",
       "      <td>B12</td>\n",
       "      <td>D12</td>\n",
       "      <td>6.507028</td>\n",
       "      <td>MCF7</td>\n",
       "      <td>IFNB</td>\n",
       "      <td>NaN</td>\n",
       "      <td>NaN</td>\n",
       "      <td>sample_16</td>\n",
       "      <td>Rep2</td>\n",
       "      <td>STAT6g2</td>\n",
       "      <td>STAT6</td>\n",
       "      <td>-0.356580</td>\n",
       "      <td>11158</td>\n",
       "    </tr>\n",
       "    <tr>\n",
       "      <th>10_12_27_2_2</th>\n",
       "      <td>10</td>\n",
       "      <td>1676</td>\n",
       "      <td>1169</td>\n",
       "      <td>MCF7_IFNB</td>\n",
       "      <td>A10</td>\n",
       "      <td>A12</td>\n",
       "      <td>C3</td>\n",
       "      <td>2.923628</td>\n",
       "      <td>MCF7</td>\n",
       "      <td>IFNB</td>\n",
       "      <td>NaN</td>\n",
       "      <td>NaN</td>\n",
       "      <td>sample_16</td>\n",
       "      <td>Rep2</td>\n",
       "      <td>HERC5g3</td>\n",
       "      <td>HERC5</td>\n",
       "      <td>-0.045158</td>\n",
       "      <td>7245</td>\n",
       "    </tr>\n",
       "    <tr>\n",
       "      <th>10_83_89_2_2</th>\n",
       "      <td>10</td>\n",
       "      <td>1538</td>\n",
       "      <td>1168</td>\n",
       "      <td>MCF7_IFNB</td>\n",
       "      <td>A10</td>\n",
       "      <td>G11</td>\n",
       "      <td>H5</td>\n",
       "      <td>1.820546</td>\n",
       "      <td>MCF7</td>\n",
       "      <td>IFNB</td>\n",
       "      <td>NaN</td>\n",
       "      <td>NaN</td>\n",
       "      <td>sample_16</td>\n",
       "      <td>Rep2</td>\n",
       "      <td>MAPK8g2</td>\n",
       "      <td>MAPK8</td>\n",
       "      <td>4.383990</td>\n",
       "      <td>3267</td>\n",
       "    </tr>\n",
       "  </tbody>\n",
       "</table>\n",
       "<p>328542 rows × 18 columns</p>\n",
       "</div>"
      ],
      "text/plain": [
       "                            orig.ident  nCount_RNA  nFeature_RNA     sample  \\\n",
       "07_48_88_1_1_1_1_1_1_1_1_1           7        9816          4122  A549_IFNB   \n",
       "06_04_63_1_1_1_1_1_1_1_1_1           6        9359          4112  A549_IFNB   \n",
       "06_28_67_1_1_1_1_1_1_1_1_1           6        8999          3854  A549_IFNB   \n",
       "06_27_93_1_1_1_1_1_1_1_1_1           6        8384          3600  A549_IFNB   \n",
       "06_81_38_1_1_1_1_1_1_1_1_1           6        7925          3580  A549_IFNB   \n",
       "...                                ...         ...           ...        ...   \n",
       "09_10_48_2_2                         9        2362          1491  MCF7_IFNB   \n",
       "10_73_27_2_2                        10        2143          1483  MCF7_IFNB   \n",
       "10_24_48_2_2                        10        1921          1322  MCF7_IFNB   \n",
       "10_12_27_2_2                        10        1676          1169  MCF7_IFNB   \n",
       "10_83_89_2_2                        10        1538          1168  MCF7_IFNB   \n",
       "\n",
       "                           bc1_well bc2_well bc3_well  percent.mito cell_type  \\\n",
       "07_48_88_1_1_1_1_1_1_1_1_1       A7      D12       H4      1.161369      A549   \n",
       "06_04_63_1_1_1_1_1_1_1_1_1       A6       A4       F3      3.835880      A549   \n",
       "06_28_67_1_1_1_1_1_1_1_1_1       A6       C4       F7      9.189910      A549   \n",
       "06_27_93_1_1_1_1_1_1_1_1_1       A6       C3       H9      3.268130      A549   \n",
       "06_81_38_1_1_1_1_1_1_1_1_1       A6       G9       D2      3.798107      A549   \n",
       "...                             ...      ...      ...           ...       ...   \n",
       "09_10_48_2_2                     A9      A10      D12      1.820491      MCF7   \n",
       "10_73_27_2_2                    A10       G1       C3      0.326645      MCF7   \n",
       "10_24_48_2_2                    A10      B12      D12      6.507028      MCF7   \n",
       "10_12_27_2_2                    A10      A12       C3      2.923628      MCF7   \n",
       "10_83_89_2_2                    A10      G11       H5      1.820546      MCF7   \n",
       "\n",
       "                           pathway  RNA_snn_res.0.9  seurat_clusters  \\\n",
       "07_48_88_1_1_1_1_1_1_1_1_1    IFNB             15.0             15.0   \n",
       "06_04_63_1_1_1_1_1_1_1_1_1    IFNB             15.0             15.0   \n",
       "06_28_67_1_1_1_1_1_1_1_1_1    IFNB             15.0             15.0   \n",
       "06_27_93_1_1_1_1_1_1_1_1_1    IFNB             15.0             15.0   \n",
       "06_81_38_1_1_1_1_1_1_1_1_1    IFNB             15.0             15.0   \n",
       "...                            ...              ...              ...   \n",
       "09_10_48_2_2                  IFNB              NaN              NaN   \n",
       "10_73_27_2_2                  IFNB              NaN              NaN   \n",
       "10_24_48_2_2                  IFNB              NaN              NaN   \n",
       "10_12_27_2_2                  IFNB              NaN              NaN   \n",
       "10_83_89_2_2                  IFNB              NaN              NaN   \n",
       "\n",
       "                            sample_ID Batch_info     guide    gene  \\\n",
       "07_48_88_1_1_1_1_1_1_1_1_1   sample_1       Rep1  TRAFD1g3  TRAFD1   \n",
       "06_04_63_1_1_1_1_1_1_1_1_1   sample_1       Rep1    HES4g3    HES4   \n",
       "06_28_67_1_1_1_1_1_1_1_1_1   sample_1       Rep1      NTg8      NT   \n",
       "06_27_93_1_1_1_1_1_1_1_1_1   sample_1       Rep1  STAT5Ag1  STAT5A   \n",
       "06_81_38_1_1_1_1_1_1_1_1_1   sample_1       Rep1   STAT4g2   STAT4   \n",
       "...                               ...        ...       ...     ...   \n",
       "09_10_48_2_2                sample_16       Rep2  NFE2L3g3  NFE2L3   \n",
       "10_73_27_2_2                sample_16       Rep2    IRF3g2    IRF3   \n",
       "10_24_48_2_2                sample_16       Rep2   STAT6g2   STAT6   \n",
       "10_12_27_2_2                sample_16       Rep2   HERC5g3   HERC5   \n",
       "10_83_89_2_2                sample_16       Rep2   MAPK8g2   MAPK8   \n",
       "\n",
       "                            mixscale_score pert_type  \n",
       "07_48_88_1_1_1_1_1_1_1_1_1       -0.290358      6608  \n",
       "06_04_63_1_1_1_1_1_1_1_1_1        0.121449     14836  \n",
       "06_28_67_1_1_1_1_1_1_1_1_1        0.000000     34025  \n",
       "06_27_93_1_1_1_1_1_1_1_1_1        0.377627      5498  \n",
       "06_81_38_1_1_1_1_1_1_1_1_1        1.000000      7199  \n",
       "...                                    ...       ...  \n",
       "09_10_48_2_2                     -0.009685       655  \n",
       "10_73_27_2_2                     -0.402627      5488  \n",
       "10_24_48_2_2                     -0.356580     11158  \n",
       "10_12_27_2_2                     -0.045158      7245  \n",
       "10_83_89_2_2                      4.383990      3267  \n",
       "\n",
       "[328542 rows x 18 columns]"
      ]
     },
     "execution_count": 13,
     "metadata": {},
     "output_type": "execute_result"
    }
   ],
   "source": [
    "gene_map = {k: i for i, k in enumerate(adata.var['gene'])}\n",
    "gene_map = gene_map | {'NT': max(gene_map.values()) + 1}\n",
    "gene_unmap = {gene_map[k]: k for k in gene_map}\n",
    "perts = adata.obs.gene.unique().map(gene_map)\n",
    "adata.obs['pert_type'] = adata.obs.gene.map(gene_map)\n",
    "\n",
    "adata.obs"
   ]
  },
  {
   "cell_type": "code",
   "execution_count": 9,
   "metadata": {},
   "outputs": [],
   "source": [
    "\n",
    "pert_ids = np.array(adata.obs['pert_type'])\n",
    "pert_mat = np.arange(pert_ids.max() + 1)[:, None]\n",
    "\n",
    "control_pert, holdout_cells, holdout_perts = gene_map['NT'], ['HT29'], [gene_map['USP18']]"
   ]
  },
  {
   "cell_type": "code",
   "execution_count": 10,
   "metadata": {},
   "outputs": [
    {
     "name": "stdout",
     "output_type": "stream",
     "text": [
      "Controls: 14582, Perturbations: 313080,  Eval: 880\n"
     ]
    }
   ],
   "source": [
    "control_idx, pert_idx, eval_idx, eval_cell_idx, eval_pert_idx = get_train_eval_idxs(\n",
    "    adata, control_pert, holdout_cells, holdout_perts, cell_col=CELL_TYPE_KEY, pert_col=PERT_INDEX_KEY\n",
    ")\n",
    "\n",
    "_, _, cell_types = get_identity_features(\n",
    "    adata, cell_col=CELL_TYPE_KEY, pert_col=PERT_INDEX_KEY, cell_type_features=False\n",
    ")\n",
    "\n",
    "X = adata.X.toarray()\n",
    "\n",
    "control_train, pert_train, pert_ids_train, control_cell_types, pert_cell_types, control_eval, pert_eval, pert_ids_eval = get_train_eval(\n",
    "    X, pert_ids, cell_types, control_idx, pert_idx, eval_idx, eval_cell_idx, eval_pert_idx\n",
    ")\n",
    "\n",
    "\n"
   ]
  },
  {
   "cell_type": "code",
   "execution_count": 37,
   "metadata": {},
   "outputs": [],
   "source": [
    "del dataloader_rec"
   ]
  },
  {
   "cell_type": "code",
   "execution_count": 11,
   "metadata": {},
   "outputs": [],
   "source": [
    "batch_size = 32\n"
   ]
  },
  {
   "cell_type": "code",
   "execution_count": null,
   "metadata": {},
   "outputs": [],
   "source": []
  },
  {
   "cell_type": "code",
   "execution_count": 12,
   "metadata": {},
   "outputs": [],
   "source": [
    "\n",
    "\n",
    "\n",
    "train = np.vstack([control_train, pert_train])\n",
    "\n",
    "\n",
    "\n",
    "# Create a custom Dataset class\n",
    "class NumpyDataset(Dataset):\n",
    "    def __init__(self, data):\n",
    "        self.data = data\n",
    "\n",
    "    def __getitem__(self, index):\n",
    "        return torch.from_numpy(self.data[index]).float()\n",
    "\n",
    "    def __len__(self):\n",
    "        return len(self.data)\n",
    "\n",
    "# Create an instance of the dataset\n",
    "dataset_rec = NumpyDataset(train)\n",
    "\n",
    "del train\n"
   ]
  },
  {
   "cell_type": "code",
   "execution_count": 13,
   "metadata": {},
   "outputs": [],
   "source": [
    "\n",
    "dataloader_rec = DataLoader(dataset_rec, batch_size=batch_size, shuffle=True)\n"
   ]
  },
  {
   "cell_type": "code",
   "execution_count": 109,
   "metadata": {},
   "outputs": [
    {
     "ename": "",
     "evalue": "",
     "output_type": "error",
     "traceback": [
      "\u001b[1;31mThe Kernel crashed while executing code in the current cell or a previous cell. \n",
      "\u001b[1;31mPlease review the code in the cell(s) to identify a possible cause of the failure. \n",
      "\u001b[1;31mClick <a href='https://aka.ms/vscodeJupyterKernelCrash'>here</a> for more info. \n",
      "\u001b[1;31mView Jupyter <a href='command:jupyter.viewOutput'>log</a> for further details."
     ]
    },
    {
     "ename": "",
     "evalue": "",
     "output_type": "error",
     "traceback": [
      "\u001b[1;31mCanceled future for execute_request message before replies were done"
     ]
    },
    {
     "ename": "",
     "evalue": "",
     "output_type": "error",
     "traceback": [
      "\u001b[1;31mCanceled future for execute_request message before replies were done. \n",
      "\u001b[1;31mView Jupyter <a href='command:jupyter.viewOutput'>log</a> for further details."
     ]
    }
   ],
   "source": [
    "dset = SCFMDataset(\n",
    "    control_train, pert_train, \n",
    "    pert_ids_train, pert_mat, \n",
    "    control_cell_types, pert_cell_types,\n",
    "    batch_size=batch_size, size=X.shape[0]\n",
    ")\n",
    "ns = np.array([[t.shape[0] for t in ts] for ts in dset.target])\n",
    "dataloader_pert = torch.utils.data.DataLoader(\n",
    "    dset, collate_fn=ot_collate, \n",
    "    batch_sampler=StratifiedBatchSampler(\n",
    "        ns=ns, batch_size=batch_size\n",
    "    )\n",
    ")"
   ]
  },
  {
   "cell_type": "code",
   "execution_count": 14,
   "metadata": {},
   "outputs": [],
   "source": [
    "device = 'cuda'\n",
    "# device = 'cpu'\n",
    "\n",
    "dropout_rate = 0.75\n",
    "learning_rate = 0.1\n",
    "alpha =  0.01\n",
    "epochs =  100\n"
   ]
  },
  {
   "cell_type": "code",
   "execution_count": 15,
   "metadata": {},
   "outputs": [],
   "source": [
    "0.1\n",
    "alpha =  0.01\n",
    "epochs =  100\n"
   ]
  },
  {
   "cell_type": "code",
   "execution_count": 116,
   "metadata": {},
   "outputs": [],
   "source": [
    "\n",
    "INPUT_DIM = adata.shape[1]\n",
    "ENC_HIDDEN_LAYER_DIM = 500\n",
    "ENC_NBR_HIDDEN_LAYERS = 4\n",
    "REC_HIDDEN_LAYER_DIM = 500\n",
    "REC_NBR_HIDDEN_LAYERS = 4\n",
    "PERT_PRED_HIDDEN_LAYER_DIM = 500\n",
    "PERT_PRED_NBR_HIDDEN_LAYERS = 4\n",
    "LATENT_DIM = 64\n",
    "GENE_EMBEDDING_DIM = 8\n",
    "\n",
    "\n",
    "model = VAEEverything(\n",
    "    input_dim=INPUT_DIM,\n",
    "    alpha=alpha,\n",
    "    enc_hidden_layer_dim=ENC_HIDDEN_LAYER_DIM,\n",
    "    enc_nbr_hidden_layers=ENC_NBR_HIDDEN_LAYERS,\n",
    "    rec_hidden_layer_dim=REC_HIDDEN_LAYER_DIM,\n",
    "    rec_nbr_hidden_layers=REC_NBR_HIDDEN_LAYERS,\n",
    "    pert_pred_hidden_layer_dim=PERT_PRED_HIDDEN_LAYER_DIM,\n",
    "    pert_pred_nbr_hidden_layers=PERT_PRED_NBR_HIDDEN_LAYERS,\n",
    "    latent_dim=LATENT_DIM,\n",
    "    gene_embedding_dim=GENE_EMBEDDING_DIM).to(device)"
   ]
  },
  {
   "cell_type": "code",
   "execution_count": 117,
   "metadata": {},
   "outputs": [],
   "source": [
    "import math\n",
    "base_learning_rate = 2e-4\n",
    "weight_decay=0.0\n",
    "total_epoch = 1000\n",
    "warmup_epoch = 5\n",
    "lr_step = 32\n",
    "lr_func = lambda epoch: min((epoch + 1) / (warmup_epoch + 1e-5), 0.5 * (math.cos(epoch / total_epoch * math.pi) + 1))\n",
    "\n",
    "\n",
    "optim = torch.optim.Adam(model.parameters(), lr=base_learning_rate, weight_decay=weight_decay)\n",
    "#lr_scheduler = torch.optim.lr_scheduler.LambdaLR(optim, lr_lambda=lr_func, verbose=True)\n",
    "\n"
   ]
  },
  {
   "cell_type": "code",
   "execution_count": 114,
   "metadata": {},
   "outputs": [
    {
     "ename": "NameError",
     "evalue": "name 'lr_scheduler' is not defined",
     "output_type": "error",
     "traceback": [
      "\u001b[0;31m---------------------------------------------------------------------------\u001b[0m",
      "\u001b[0;31mNameError\u001b[0m                                 Traceback (most recent call last)",
      "Cell \u001b[0;32mIn[114], line 3\u001b[0m\n\u001b[1;32m      1\u001b[0m \u001b[38;5;28;01mdel\u001b[39;00m optim\n\u001b[1;32m      2\u001b[0m \u001b[38;5;28;01mdel\u001b[39;00m model\n\u001b[0;32m----> 3\u001b[0m \u001b[38;5;28;01mdel\u001b[39;00m lr_scheduler\n",
      "\u001b[0;31mNameError\u001b[0m: name 'lr_scheduler' is not defined"
     ]
    }
   ],
   "source": [
    "del optim\n",
    "del model\n",
    "del lr_scheduler"
   ]
  },
  {
   "cell_type": "code",
   "execution_count": 115,
   "metadata": {},
   "outputs": [
    {
     "ename": "NameError",
     "evalue": "name 'idx' is not defined",
     "output_type": "error",
     "traceback": [
      "\u001b[0;31m---------------------------------------------------------------------------\u001b[0m",
      "\u001b[0;31mNameError\u001b[0m                                 Traceback (most recent call last)",
      "Cell \u001b[0;32mIn[115], line 6\u001b[0m\n\u001b[1;32m      4\u001b[0m \u001b[38;5;28;01mdel\u001b[39;00m is_expressed\n\u001b[1;32m      5\u001b[0m \u001b[38;5;28;01mdel\u001b[39;00m batch\n\u001b[0;32m----> 6\u001b[0m \u001b[38;5;28;01mdel\u001b[39;00m idx\n\u001b[1;32m      7\u001b[0m \u001b[38;5;28;01mdel\u001b[39;00m mu\n",
      "\u001b[0;31mNameError\u001b[0m: name 'idx' is not defined"
     ]
    }
   ],
   "source": [
    "del logvar\n",
    "del loss\n",
    "del recon\n",
    "del is_expressed\n",
    "del batch\n",
    "del idx\n",
    "del mu\n",
    "\n"
   ]
  },
  {
   "cell_type": "code",
   "execution_count": 104,
   "metadata": {},
   "outputs": [
    {
     "ename": "NameError",
     "evalue": "name 'optim' is not defined",
     "output_type": "error",
     "traceback": [
      "\u001b[0;31m---------------------------------------------------------------------------\u001b[0m",
      "\u001b[0;31mNameError\u001b[0m                                 Traceback (most recent call last)",
      "Cell \u001b[0;32mIn[104], line 1\u001b[0m\n\u001b[0;32m----> 1\u001b[0m \u001b[43moptim\u001b[49m\u001b[38;5;241m.\u001b[39mzero_grad()\n",
      "\u001b[0;31mNameError\u001b[0m: name 'optim' is not defined"
     ]
    }
   ],
   "source": [
    "optim.zero_grad()\n"
   ]
  },
  {
   "cell_type": "code",
   "execution_count": null,
   "metadata": {},
   "outputs": [
    {
     "data": {
      "text/plain": [
       "1897"
      ]
     },
     "execution_count": 118,
     "metadata": {},
     "output_type": "execute_result"
    }
   ],
   "source": [
    "\n",
    "import gc\n",
    "torch.cuda.empty_cache()\n",
    "gc.collect()\n"
   ]
  },
  {
   "cell_type": "code",
   "execution_count": 97,
   "metadata": {},
   "outputs": [],
   "source": [
    "IFNAR1_idx = torch.Tensor([gene_map['IFNAR1']]).long().to(device) \n",
    "IFNAR2_idx = torch.Tensor([gene_map['IFNAR2']]).long().to(device)\n",
    "number_rand_genes = 30\n",
    "\n"
   ]
  },
  {
   "cell_type": "code",
   "execution_count": 98,
   "metadata": {},
   "outputs": [
    {
     "name": "stdout",
     "output_type": "stream",
     "text": [
      "IFNAR1: tensor([7723], device='cuda:0'), IFNAR2: tensor([9659], device='cuda:0')\n"
     ]
    }
   ],
   "source": [
    "\n",
    "print(f\"IFNAR1: {IFNAR1_idx}, IFNAR2: {IFNAR2_idx}\")"
   ]
  },
  {
   "cell_type": "code",
   "execution_count": null,
   "metadata": {},
   "outputs": [
    {
     "name": "stderr",
     "output_type": "stream",
     "text": [
      "loss: 333787.277, IFNA1_to_random: 3.211, IFNAR1_IFNAR2: 2.309:   0%| | 32/10240 [00:24<2:12:2"
     ]
    },
    {
     "name": "stdout",
     "output_type": "stream",
     "text": [
      "mean_rec: 1.118, mean_batch: 0.109\n"
     ]
    },
    {
     "name": "stderr",
     "output_type": "stream",
     "text": [
      "loss: 153346.600, IFNA1_to_random: 3.201, IFNAR1_IFNAR2: 2.308:   1%| | 64/10240 [00:49<2:12:4"
     ]
    },
    {
     "name": "stdout",
     "output_type": "stream",
     "text": [
      "mean_rec: 1.354, mean_batch: 0.108\n"
     ]
    },
    {
     "name": "stderr",
     "output_type": "stream",
     "text": [
      "loss: 144170.031, IFNA1_to_random: 3.208, IFNAR1_IFNAR2: 2.305:   1%| | 96/10240 [01:15<2:12:1"
     ]
    },
    {
     "name": "stdout",
     "output_type": "stream",
     "text": [
      "mean_rec: 1.433, mean_batch: 0.108\n"
     ]
    },
    {
     "name": "stderr",
     "output_type": "stream",
     "text": [
      "loss: 137621.037, IFNA1_to_random: 3.238, IFNAR1_IFNAR2: 2.302:   1%| | 128/10240 [01:40<2:11:"
     ]
    },
    {
     "name": "stdout",
     "output_type": "stream",
     "text": [
      "mean_rec: 1.449, mean_batch: 0.108\n"
     ]
    },
    {
     "name": "stderr",
     "output_type": "stream",
     "text": [
      "loss: 132648.953, IFNA1_to_random: 3.202, IFNAR1_IFNAR2: 2.298:   2%| | 160/10240 [02:05<2:11:"
     ]
    },
    {
     "name": "stdout",
     "output_type": "stream",
     "text": [
      "mean_rec: 1.482, mean_batch: 0.109\n"
     ]
    },
    {
     "name": "stderr",
     "output_type": "stream",
     "text": [
      "loss: 127856.746, IFNA1_to_random: 3.212, IFNAR1_IFNAR2: 2.294:   2%| | 192/10240 [02:30<2:11:"
     ]
    },
    {
     "name": "stdout",
     "output_type": "stream",
     "text": [
      "mean_rec: 1.524, mean_batch: 0.108\n"
     ]
    },
    {
     "name": "stderr",
     "output_type": "stream",
     "text": [
      "loss: 126808.074, IFNA1_to_random: 3.275, IFNAR1_IFNAR2: 2.289:   2%| | 224/10240 [02:55<2:11:"
     ]
    },
    {
     "name": "stdout",
     "output_type": "stream",
     "text": [
      "mean_rec: 1.548, mean_batch: 0.109\n"
     ]
    },
    {
     "name": "stderr",
     "output_type": "stream",
     "text": [
      "loss: 120433.964, IFNA1_to_random: 3.195, IFNAR1_IFNAR2: 2.285:   2%| | 256/10240 [03:20<2:10:"
     ]
    },
    {
     "name": "stdout",
     "output_type": "stream",
     "text": [
      "mean_rec: 1.571, mean_batch: 0.108\n"
     ]
    },
    {
     "name": "stderr",
     "output_type": "stream",
     "text": [
      "loss: 123391.532, IFNA1_to_random: 3.231, IFNAR1_IFNAR2: 2.282:   3%| | 288/10240 [03:45<2:09:"
     ]
    },
    {
     "name": "stdout",
     "output_type": "stream",
     "text": [
      "mean_rec: 1.551, mean_batch: 0.110\n"
     ]
    },
    {
     "name": "stderr",
     "output_type": "stream",
     "text": [
      "loss: 120970.142, IFNA1_to_random: 3.179, IFNAR1_IFNAR2: 2.278:   3%| | 320/10240 [04:10<2:08:"
     ]
    },
    {
     "name": "stdout",
     "output_type": "stream",
     "text": [
      "mean_rec: 1.559, mean_batch: 0.108\n"
     ]
    },
    {
     "name": "stderr",
     "output_type": "stream",
     "text": [
      "loss: 116643.117, IFNA1_to_random: 3.272, IFNAR1_IFNAR2: 2.275:   3%| | 352/10240 [04:35<2:08:"
     ]
    },
    {
     "name": "stdout",
     "output_type": "stream",
     "text": [
      "mean_rec: 1.580, mean_batch: 0.108\n"
     ]
    },
    {
     "name": "stderr",
     "output_type": "stream",
     "text": [
      "loss: 115329.538, IFNA1_to_random: 3.193, IFNAR1_IFNAR2: 2.272:   4%| | 384/10240 [05:00<2:08:"
     ]
    },
    {
     "name": "stdout",
     "output_type": "stream",
     "text": [
      "mean_rec: 1.570, mean_batch: 0.108\n"
     ]
    },
    {
     "name": "stderr",
     "output_type": "stream",
     "text": [
      "loss: 113363.132, IFNA1_to_random: 3.228, IFNAR1_IFNAR2: 2.269:   4%| | 416/10240 [05:25<2:07:"
     ]
    },
    {
     "name": "stdout",
     "output_type": "stream",
     "text": [
      "mean_rec: 1.570, mean_batch: 0.108\n"
     ]
    },
    {
     "name": "stderr",
     "output_type": "stream",
     "text": [
      "loss: 112383.945, IFNA1_to_random: 3.267, IFNAR1_IFNAR2: 2.266:   4%| | 448/10240 [05:50<2:07:"
     ]
    },
    {
     "name": "stdout",
     "output_type": "stream",
     "text": [
      "mean_rec: 1.574, mean_batch: 0.108\n"
     ]
    },
    {
     "name": "stderr",
     "output_type": "stream",
     "text": [
      "loss: 106945.233, IFNA1_to_random: 3.251, IFNAR1_IFNAR2: 2.262:   5%| | 480/10240 [06:15<2:06:"
     ]
    },
    {
     "name": "stdout",
     "output_type": "stream",
     "text": [
      "mean_rec: 1.585, mean_batch: 0.108\n"
     ]
    },
    {
     "name": "stderr",
     "output_type": "stream",
     "text": [
      "loss: 110580.484, IFNA1_to_random: 3.257, IFNAR1_IFNAR2: 2.256:   5%| | 512/10240 [06:40<2:06:"
     ]
    },
    {
     "name": "stdout",
     "output_type": "stream",
     "text": [
      "mean_rec: 1.557, mean_batch: 0.109\n"
     ]
    },
    {
     "name": "stderr",
     "output_type": "stream",
     "text": [
      "loss: 107069.448, IFNA1_to_random: 3.239, IFNAR1_IFNAR2: 2.250:   5%| | 544/10240 [07:05<2:06:"
     ]
    },
    {
     "name": "stdout",
     "output_type": "stream",
     "text": [
      "mean_rec: 1.564, mean_batch: 0.109\n"
     ]
    },
    {
     "name": "stderr",
     "output_type": "stream",
     "text": [
      "loss: 105646.508, IFNA1_to_random: 3.193, IFNAR1_IFNAR2: 2.243:   6%| | 576/10240 [07:30<2:05:"
     ]
    },
    {
     "name": "stdout",
     "output_type": "stream",
     "text": [
      "mean_rec: 1.574, mean_batch: 0.108\n"
     ]
    },
    {
     "name": "stderr",
     "output_type": "stream",
     "text": [
      "loss: 107417.750, IFNA1_to_random: 3.221, IFNAR1_IFNAR2: 2.236:   6%| | 608/10240 [07:55<2:05:"
     ]
    },
    {
     "name": "stdout",
     "output_type": "stream",
     "text": [
      "mean_rec: 1.562, mean_batch: 0.109\n"
     ]
    },
    {
     "name": "stderr",
     "output_type": "stream",
     "text": [
      "loss: 104835.035, IFNA1_to_random: 3.226, IFNAR1_IFNAR2: 2.228:   6%| | 640/10240 [08:20<2:04:"
     ]
    },
    {
     "name": "stdout",
     "output_type": "stream",
     "text": [
      "mean_rec: 1.567, mean_batch: 0.109\n"
     ]
    },
    {
     "name": "stderr",
     "output_type": "stream",
     "text": [
      "loss: 103117.916, IFNA1_to_random: 3.266, IFNAR1_IFNAR2: 2.220:   7%| | 672/10240 [08:45<2:04:"
     ]
    },
    {
     "name": "stdout",
     "output_type": "stream",
     "text": [
      "mean_rec: 1.575, mean_batch: 0.109\n"
     ]
    },
    {
     "name": "stderr",
     "output_type": "stream",
     "text": [
      "loss: 103209.917, IFNA1_to_random: 3.209, IFNAR1_IFNAR2: 2.212:   7%| | 704/10240 [09:09<2:03:"
     ]
    },
    {
     "name": "stdout",
     "output_type": "stream",
     "text": [
      "mean_rec: 1.580, mean_batch: 0.109\n"
     ]
    },
    {
     "name": "stderr",
     "output_type": "stream",
     "text": [
      "loss: 101647.587, IFNA1_to_random: 3.235, IFNAR1_IFNAR2: 2.204:   7%| | 736/10240 [09:34<2:03:"
     ]
    },
    {
     "name": "stdout",
     "output_type": "stream",
     "text": [
      "mean_rec: 1.592, mean_batch: 0.108\n"
     ]
    },
    {
     "name": "stderr",
     "output_type": "stream",
     "text": [
      "loss: 99587.729, IFNA1_to_random: 3.210, IFNAR1_IFNAR2: 2.196:   8%| | 768/10240 [09:59<2:03:1"
     ]
    },
    {
     "name": "stdout",
     "output_type": "stream",
     "text": [
      "mean_rec: 1.601, mean_batch: 0.108\n"
     ]
    },
    {
     "name": "stderr",
     "output_type": "stream",
     "text": [
      "loss: 100643.903, IFNA1_to_random: 3.171, IFNAR1_IFNAR2: 2.188:   8%| | 800/10240 [10:24<2:02:"
     ]
    },
    {
     "name": "stdout",
     "output_type": "stream",
     "text": [
      "mean_rec: 1.586, mean_batch: 0.108\n"
     ]
    },
    {
     "name": "stderr",
     "output_type": "stream",
     "text": [
      "loss: 99428.521, IFNA1_to_random: 3.207, IFNAR1_IFNAR2: 2.181:   8%| | 832/10240 [10:49<2:02:1"
     ]
    },
    {
     "name": "stdout",
     "output_type": "stream",
     "text": [
      "mean_rec: 1.591, mean_batch: 0.109\n"
     ]
    },
    {
     "name": "stderr",
     "output_type": "stream",
     "text": [
      "loss: 99628.934, IFNA1_to_random: 3.244, IFNAR1_IFNAR2: 2.174:   8%| | 864/10240 [11:14<2:01:5"
     ]
    },
    {
     "name": "stdout",
     "output_type": "stream",
     "text": [
      "mean_rec: 1.592, mean_batch: 0.109\n"
     ]
    },
    {
     "name": "stderr",
     "output_type": "stream",
     "text": [
      "loss: 99699.655, IFNA1_to_random: 3.258, IFNAR1_IFNAR2: 2.167:   9%| | 896/10240 [11:39<2:01:1"
     ]
    },
    {
     "name": "stdout",
     "output_type": "stream",
     "text": [
      "mean_rec: 1.597, mean_batch: 0.108\n"
     ]
    },
    {
     "name": "stderr",
     "output_type": "stream",
     "text": [
      "loss: 100226.053, IFNA1_to_random: 3.298, IFNAR1_IFNAR2: 2.160:   9%| | 928/10240 [12:04<2:00:"
     ]
    },
    {
     "name": "stdout",
     "output_type": "stream",
     "text": [
      "mean_rec: 1.588, mean_batch: 0.108\n"
     ]
    },
    {
     "name": "stderr",
     "output_type": "stream",
     "text": [
      "loss: 97073.221, IFNA1_to_random: 3.243, IFNAR1_IFNAR2: 2.152:   9%| | 960/10240 [12:29<2:00:3"
     ]
    },
    {
     "name": "stdout",
     "output_type": "stream",
     "text": [
      "mean_rec: 1.609, mean_batch: 0.108\n"
     ]
    },
    {
     "name": "stderr",
     "output_type": "stream",
     "text": [
      "loss: 97192.995, IFNA1_to_random: 3.243, IFNAR1_IFNAR2: 2.144:  10%| | 992/10240 [12:54<2:00:1"
     ]
    },
    {
     "name": "stdout",
     "output_type": "stream",
     "text": [
      "mean_rec: 1.608, mean_batch: 0.108\n"
     ]
    },
    {
     "name": "stderr",
     "output_type": "stream",
     "text": [
      "loss: 97069.693, IFNA1_to_random: 3.259, IFNAR1_IFNAR2: 2.134:  10%| | 1024/10240 [13:19<1:59:"
     ]
    },
    {
     "name": "stdout",
     "output_type": "stream",
     "text": [
      "mean_rec: 1.580, mean_batch: 0.109\n"
     ]
    },
    {
     "name": "stderr",
     "output_type": "stream",
     "text": [
      "loss: 94380.532, IFNA1_to_random: 3.253, IFNAR1_IFNAR2: 2.125:  10%| | 1056/10240 [13:44<1:59:"
     ]
    },
    {
     "name": "stdout",
     "output_type": "stream",
     "text": [
      "mean_rec: 1.622, mean_batch: 0.107\n"
     ]
    },
    {
     "name": "stderr",
     "output_type": "stream",
     "text": [
      "loss: 95029.866, IFNA1_to_random: 3.286, IFNAR1_IFNAR2: 2.114:  11%| | 1088/10240 [14:09<1:59:"
     ]
    },
    {
     "name": "stdout",
     "output_type": "stream",
     "text": [
      "mean_rec: 1.603, mean_batch: 0.109\n"
     ]
    },
    {
     "name": "stderr",
     "output_type": "stream",
     "text": [
      "loss: 93805.903, IFNA1_to_random: 3.267, IFNAR1_IFNAR2: 2.102:  11%| | 1120/10240 [14:34<1:58:"
     ]
    },
    {
     "name": "stdout",
     "output_type": "stream",
     "text": [
      "mean_rec: 1.598, mean_batch: 0.109\n"
     ]
    },
    {
     "name": "stderr",
     "output_type": "stream",
     "text": [
      "loss: 92786.913, IFNA1_to_random: 3.267, IFNAR1_IFNAR2: 2.088:  11%| | 1152/10240 [14:59<1:58:"
     ]
    },
    {
     "name": "stdout",
     "output_type": "stream",
     "text": [
      "mean_rec: 1.609, mean_batch: 0.108\n"
     ]
    },
    {
     "name": "stderr",
     "output_type": "stream",
     "text": [
      "loss: 90723.379, IFNA1_to_random: 3.335, IFNAR1_IFNAR2: 2.073:  12%| | 1184/10240 [15:24<1:57:"
     ]
    },
    {
     "name": "stdout",
     "output_type": "stream",
     "text": [
      "mean_rec: 1.609, mean_batch: 0.108\n"
     ]
    },
    {
     "name": "stderr",
     "output_type": "stream",
     "text": [
      "loss: 89001.258, IFNA1_to_random: 3.332, IFNAR1_IFNAR2: 2.059:  12%| | 1216/10240 [15:49<1:57:"
     ]
    },
    {
     "name": "stdout",
     "output_type": "stream",
     "text": [
      "mean_rec: 1.618, mean_batch: 0.108\n"
     ]
    },
    {
     "name": "stderr",
     "output_type": "stream",
     "text": [
      "loss: 87759.687, IFNA1_to_random: 3.365, IFNAR1_IFNAR2: 2.044:  12%| | 1248/10240 [16:14<1:56:"
     ]
    },
    {
     "name": "stdout",
     "output_type": "stream",
     "text": [
      "mean_rec: 1.620, mean_batch: 0.108\n"
     ]
    },
    {
     "name": "stderr",
     "output_type": "stream",
     "text": [
      "loss: 88822.317, IFNA1_to_random: 3.355, IFNAR1_IFNAR2: 2.029:  12%|▏| 1280/10240 [16:39<1:56:"
     ]
    },
    {
     "name": "stdout",
     "output_type": "stream",
     "text": [
      "mean_rec: 1.582, mean_batch: 0.108\n"
     ]
    },
    {
     "name": "stderr",
     "output_type": "stream",
     "text": [
      "loss: 86763.504, IFNA1_to_random: 3.381, IFNAR1_IFNAR2: 2.016:  13%|▏| 1312/10240 [17:04<1:56:"
     ]
    },
    {
     "name": "stdout",
     "output_type": "stream",
     "text": [
      "mean_rec: 1.601, mean_batch: 0.108\n"
     ]
    },
    {
     "name": "stderr",
     "output_type": "stream",
     "text": [
      "loss: 86360.370, IFNA1_to_random: 3.418, IFNAR1_IFNAR2: 2.002:  13%|▏| 1344/10240 [17:29<1:55:"
     ]
    },
    {
     "name": "stdout",
     "output_type": "stream",
     "text": [
      "mean_rec: 1.578, mean_batch: 0.109\n"
     ]
    },
    {
     "name": "stderr",
     "output_type": "stream",
     "text": [
      "loss: 84881.336, IFNA1_to_random: 3.415, IFNAR1_IFNAR2: 1.989:  13%|▏| 1376/10240 [17:54<1:55:"
     ]
    },
    {
     "name": "stdout",
     "output_type": "stream",
     "text": [
      "mean_rec: 1.582, mean_batch: 0.108\n"
     ]
    },
    {
     "name": "stderr",
     "output_type": "stream",
     "text": [
      "loss: 85044.773, IFNA1_to_random: 3.398, IFNAR1_IFNAR2: 1.980:  14%|▏| 1408/10240 [18:19<1:54:"
     ]
    },
    {
     "name": "stdout",
     "output_type": "stream",
     "text": [
      "mean_rec: 1.561, mean_batch: 0.109\n"
     ]
    },
    {
     "name": "stderr",
     "output_type": "stream",
     "text": [
      "loss: 83350.074, IFNA1_to_random: 3.517, IFNAR1_IFNAR2: 1.974:  14%|▏| 1440/10240 [18:44<1:54:"
     ]
    },
    {
     "name": "stdout",
     "output_type": "stream",
     "text": [
      "mean_rec: 1.564, mean_batch: 0.109\n"
     ]
    },
    {
     "name": "stderr",
     "output_type": "stream",
     "text": [
      "loss: 82304.663, IFNA1_to_random: 3.501, IFNAR1_IFNAR2: 1.974:  14%|▏| 1472/10240 [19:09<1:54:"
     ]
    },
    {
     "name": "stdout",
     "output_type": "stream",
     "text": [
      "mean_rec: 1.566, mean_batch: 0.108\n"
     ]
    },
    {
     "name": "stderr",
     "output_type": "stream",
     "text": [
      "loss: 92806.257, IFNA1_to_random: 3.483, IFNAR1_IFNAR2: 1.976:  15%|▏| 1504/10240 [19:34<1:53:"
     ]
    },
    {
     "name": "stdout",
     "output_type": "stream",
     "text": [
      "mean_rec: 1.504, mean_batch: 0.110\n"
     ]
    },
    {
     "name": "stderr",
     "output_type": "stream",
     "text": [
      "loss: 82565.987, IFNA1_to_random: 3.517, IFNAR1_IFNAR2: 1.979:  15%|▏| 1536/10240 [19:59<1:53:"
     ]
    },
    {
     "name": "stdout",
     "output_type": "stream",
     "text": [
      "mean_rec: 1.577, mean_batch: 0.109\n"
     ]
    },
    {
     "name": "stderr",
     "output_type": "stream",
     "text": [
      "loss: 80807.856, IFNA1_to_random: 3.541, IFNAR1_IFNAR2: 1.985:  15%|▏| 1568/10240 [20:24<1:53:"
     ]
    },
    {
     "name": "stdout",
     "output_type": "stream",
     "text": [
      "mean_rec: 1.566, mean_batch: 0.108\n"
     ]
    },
    {
     "name": "stderr",
     "output_type": "stream",
     "text": [
      "loss: 77892.790, IFNA1_to_random: 3.522, IFNAR1_IFNAR2: 1.990:  16%|▏| 1600/10240 [20:49<1:52:"
     ]
    },
    {
     "name": "stdout",
     "output_type": "stream",
     "text": [
      "mean_rec: 1.575, mean_batch: 0.107\n"
     ]
    },
    {
     "name": "stderr",
     "output_type": "stream",
     "text": [
      "loss: 78597.365, IFNA1_to_random: 3.598, IFNAR1_IFNAR2: 1.996:  16%|▏| 1632/10240 [21:14<1:52:"
     ]
    },
    {
     "name": "stdout",
     "output_type": "stream",
     "text": [
      "mean_rec: 1.551, mean_batch: 0.108\n"
     ]
    },
    {
     "name": "stderr",
     "output_type": "stream",
     "text": [
      "loss: 78320.492, IFNA1_to_random: 3.557, IFNAR1_IFNAR2: 2.004:  16%|▏| 1664/10240 [21:39<1:51:"
     ]
    },
    {
     "name": "stdout",
     "output_type": "stream",
     "text": [
      "mean_rec: 1.526, mean_batch: 0.109\n"
     ]
    },
    {
     "name": "stderr",
     "output_type": "stream",
     "text": [
      "loss: 76231.269, IFNA1_to_random: 3.561, IFNAR1_IFNAR2: 2.012:  17%|▏| 1696/10240 [22:04<1:51:"
     ]
    },
    {
     "name": "stdout",
     "output_type": "stream",
     "text": [
      "mean_rec: 1.542, mean_batch: 0.108\n"
     ]
    },
    {
     "name": "stderr",
     "output_type": "stream",
     "text": [
      "loss: 76135.442, IFNA1_to_random: 3.595, IFNAR1_IFNAR2: 2.023:  17%|▏| 1728/10240 [22:29<1:50:"
     ]
    },
    {
     "name": "stdout",
     "output_type": "stream",
     "text": [
      "mean_rec: 1.531, mean_batch: 0.108\n"
     ]
    },
    {
     "name": "stderr",
     "output_type": "stream",
     "text": [
      "loss: 74945.666, IFNA1_to_random: 3.642, IFNAR1_IFNAR2: 2.038:  17%|▏| 1760/10240 [22:54<1:50:"
     ]
    },
    {
     "name": "stdout",
     "output_type": "stream",
     "text": [
      "mean_rec: 1.527, mean_batch: 0.108\n"
     ]
    },
    {
     "name": "stderr",
     "output_type": "stream",
     "text": [
      "loss: 75536.425, IFNA1_to_random: 3.625, IFNAR1_IFNAR2: 2.055:  18%|▏| 1792/10240 [23:19<1:50:"
     ]
    },
    {
     "name": "stdout",
     "output_type": "stream",
     "text": [
      "mean_rec: 1.503, mean_batch: 0.109\n"
     ]
    },
    {
     "name": "stderr",
     "output_type": "stream",
     "text": [
      "loss: 73827.184, IFNA1_to_random: 3.601, IFNAR1_IFNAR2: 2.075:  18%|▏| 1824/10240 [23:44<1:49:"
     ]
    },
    {
     "name": "stdout",
     "output_type": "stream",
     "text": [
      "mean_rec: 1.507, mean_batch: 0.108\n"
     ]
    },
    {
     "name": "stderr",
     "output_type": "stream",
     "text": [
      "loss: 75777.938, IFNA1_to_random: 3.632, IFNAR1_IFNAR2: 2.097:  18%|▏| 1856/10240 [24:09<1:49:"
     ]
    },
    {
     "name": "stdout",
     "output_type": "stream",
     "text": [
      "mean_rec: 1.464, mean_batch: 0.110\n"
     ]
    },
    {
     "name": "stderr",
     "output_type": "stream",
     "text": [
      "loss: 73676.812, IFNA1_to_random: 3.638, IFNAR1_IFNAR2: 2.120:  18%|▏| 1888/10240 [24:34<1:48:"
     ]
    },
    {
     "name": "stdout",
     "output_type": "stream",
     "text": [
      "mean_rec: 1.485, mean_batch: 0.109\n"
     ]
    },
    {
     "name": "stderr",
     "output_type": "stream",
     "text": [
      "loss: 74365.033, IFNA1_to_random: 3.624, IFNAR1_IFNAR2: 2.141:  19%|▏| 1920/10240 [24:59<1:48:"
     ]
    },
    {
     "name": "stdout",
     "output_type": "stream",
     "text": [
      "mean_rec: 1.452, mean_batch: 0.110\n"
     ]
    },
    {
     "name": "stderr",
     "output_type": "stream",
     "text": [
      "loss: 72013.196, IFNA1_to_random: 3.671, IFNAR1_IFNAR2: 2.162:  19%|▏| 1952/10240 [25:24<1:48:"
     ]
    },
    {
     "name": "stdout",
     "output_type": "stream",
     "text": [
      "mean_rec: 1.479, mean_batch: 0.109\n"
     ]
    },
    {
     "name": "stderr",
     "output_type": "stream",
     "text": [
      "loss: 70855.799, IFNA1_to_random: 3.660, IFNAR1_IFNAR2: 2.181:  19%|▏| 1984/10240 [25:49<1:47:"
     ]
    },
    {
     "name": "stdout",
     "output_type": "stream",
     "text": [
      "mean_rec: 1.475, mean_batch: 0.108\n"
     ]
    },
    {
     "name": "stderr",
     "output_type": "stream",
     "text": [
      "loss: 71218.690, IFNA1_to_random: 3.598, IFNAR1_IFNAR2: 2.200:  20%|▏| 2016/10240 [26:14<1:47:"
     ]
    },
    {
     "name": "stdout",
     "output_type": "stream",
     "text": [
      "mean_rec: 1.460, mean_batch: 0.109\n"
     ]
    },
    {
     "name": "stderr",
     "output_type": "stream",
     "text": [
      "loss: 69766.864, IFNA1_to_random: 3.677, IFNAR1_IFNAR2: 2.219:  20%|▏| 2048/10240 [26:39<1:46:"
     ]
    },
    {
     "name": "stdout",
     "output_type": "stream",
     "text": [
      "mean_rec: 1.473, mean_batch: 0.108\n"
     ]
    },
    {
     "name": "stderr",
     "output_type": "stream",
     "text": [
      "loss: 71268.237, IFNA1_to_random: 3.661, IFNAR1_IFNAR2: 2.236:  20%|▏| 2080/10240 [27:04<1:46:"
     ]
    },
    {
     "name": "stdout",
     "output_type": "stream",
     "text": [
      "mean_rec: 1.430, mean_batch: 0.109\n"
     ]
    },
    {
     "name": "stderr",
     "output_type": "stream",
     "text": [
      "loss: 70560.709, IFNA1_to_random: 3.637, IFNAR1_IFNAR2: 2.252:  21%|▏| 2112/10240 [27:29<1:45:"
     ]
    },
    {
     "name": "stdout",
     "output_type": "stream",
     "text": [
      "mean_rec: 1.422, mean_batch: 0.110\n"
     ]
    },
    {
     "name": "stderr",
     "output_type": "stream",
     "text": [
      "loss: 70500.911, IFNA1_to_random: 3.707, IFNAR1_IFNAR2: 2.264:  21%|▏| 2144/10240 [27:54<1:45:"
     ]
    },
    {
     "name": "stdout",
     "output_type": "stream",
     "text": [
      "mean_rec: 1.409, mean_batch: 0.110\n"
     ]
    },
    {
     "name": "stderr",
     "output_type": "stream",
     "text": [
      "loss: 69125.034, IFNA1_to_random: 3.659, IFNAR1_IFNAR2: 2.274:  21%|▏| 2176/10240 [28:19<1:45:"
     ]
    },
    {
     "name": "stdout",
     "output_type": "stream",
     "text": [
      "mean_rec: 1.428, mean_batch: 0.108\n"
     ]
    },
    {
     "name": "stderr",
     "output_type": "stream",
     "text": [
      "loss: 68949.007, IFNA1_to_random: 3.704, IFNAR1_IFNAR2: 2.283:  22%|▏| 2208/10240 [28:44<1:44:"
     ]
    },
    {
     "name": "stdout",
     "output_type": "stream",
     "text": [
      "mean_rec: 1.414, mean_batch: 0.109\n"
     ]
    },
    {
     "name": "stderr",
     "output_type": "stream",
     "text": [
      "loss: 68040.925, IFNA1_to_random: 3.676, IFNAR1_IFNAR2: 2.292:  22%|▏| 2240/10240 [29:10<1:44:"
     ]
    },
    {
     "name": "stdout",
     "output_type": "stream",
     "text": [
      "mean_rec: 1.420, mean_batch: 0.108\n"
     ]
    },
    {
     "name": "stderr",
     "output_type": "stream",
     "text": [
      "loss: 67407.119, IFNA1_to_random: 3.721, IFNAR1_IFNAR2: 2.300:  22%|▏| 2272/10240 [29:35<1:43:"
     ]
    },
    {
     "name": "stdout",
     "output_type": "stream",
     "text": [
      "mean_rec: 1.422, mean_batch: 0.108\n"
     ]
    },
    {
     "name": "stderr",
     "output_type": "stream",
     "text": [
      "loss: 68278.435, IFNA1_to_random: 3.711, IFNAR1_IFNAR2: 2.306:  22%|▏| 2304/10240 [30:00<1:43:"
     ]
    },
    {
     "name": "stdout",
     "output_type": "stream",
     "text": [
      "mean_rec: 1.395, mean_batch: 0.109\n"
     ]
    },
    {
     "name": "stderr",
     "output_type": "stream",
     "text": [
      "loss: 68136.841, IFNA1_to_random: 3.718, IFNAR1_IFNAR2: 2.310:  23%|▏| 2336/10240 [30:25<1:42:"
     ]
    },
    {
     "name": "stdout",
     "output_type": "stream",
     "text": [
      "mean_rec: 1.387, mean_batch: 0.109\n"
     ]
    },
    {
     "name": "stderr",
     "output_type": "stream",
     "text": [
      "loss: 68329.911, IFNA1_to_random: 3.702, IFNAR1_IFNAR2: 2.311:  23%|▏| 2368/10240 [30:50<1:42:"
     ]
    },
    {
     "name": "stdout",
     "output_type": "stream",
     "text": [
      "mean_rec: 1.386, mean_batch: 0.109\n"
     ]
    },
    {
     "name": "stderr",
     "output_type": "stream",
     "text": [
      "loss: 66622.982, IFNA1_to_random: 3.707, IFNAR1_IFNAR2: 2.312:  23%|▏| 2400/10240 [31:15<1:42:"
     ]
    },
    {
     "name": "stdout",
     "output_type": "stream",
     "text": [
      "mean_rec: 1.388, mean_batch: 0.108\n"
     ]
    },
    {
     "name": "stderr",
     "output_type": "stream",
     "text": [
      "loss: 64913.751, IFNA1_to_random: 3.715, IFNAR1_IFNAR2: 2.314:  24%|▏| 2432/10240 [31:40<1:42:"
     ]
    },
    {
     "name": "stdout",
     "output_type": "stream",
     "text": [
      "mean_rec: 1.419, mean_batch: 0.107\n"
     ]
    },
    {
     "name": "stderr",
     "output_type": "stream",
     "text": [
      "loss: 67988.760, IFNA1_to_random: 3.712, IFNAR1_IFNAR2: 2.314:  24%|▏| 2464/10240 [32:05<1:41:"
     ]
    },
    {
     "name": "stdout",
     "output_type": "stream",
     "text": [
      "mean_rec: 1.385, mean_batch: 0.109\n"
     ]
    },
    {
     "name": "stderr",
     "output_type": "stream",
     "text": [
      "loss: 66618.320, IFNA1_to_random: 3.754, IFNAR1_IFNAR2: 2.316:  24%|▏| 2496/10240 [32:30<1:41:"
     ]
    },
    {
     "name": "stdout",
     "output_type": "stream",
     "text": [
      "mean_rec: 1.386, mean_batch: 0.109\n"
     ]
    },
    {
     "name": "stderr",
     "output_type": "stream",
     "text": [
      "loss: 65424.616, IFNA1_to_random: 3.749, IFNAR1_IFNAR2: 2.316:  25%|▏| 2528/10240 [32:55<1:40:"
     ]
    },
    {
     "name": "stdout",
     "output_type": "stream",
     "text": [
      "mean_rec: 1.383, mean_batch: 0.108\n"
     ]
    },
    {
     "name": "stderr",
     "output_type": "stream",
     "text": [
      "loss: 65807.958, IFNA1_to_random: 3.764, IFNAR1_IFNAR2: 2.317:  25%|▎| 2560/10240 [33:20<1:39:"
     ]
    },
    {
     "name": "stdout",
     "output_type": "stream",
     "text": [
      "mean_rec: 1.371, mean_batch: 0.109\n"
     ]
    },
    {
     "name": "stderr",
     "output_type": "stream",
     "text": [
      "loss: 66555.676, IFNA1_to_random: 3.709, IFNAR1_IFNAR2: 2.319:  25%|▎| 2592/10240 [33:45<1:39:"
     ]
    },
    {
     "name": "stdout",
     "output_type": "stream",
     "text": [
      "mean_rec: 1.351, mean_batch: 0.109\n"
     ]
    },
    {
     "name": "stderr",
     "output_type": "stream",
     "text": [
      "loss: 65024.965, IFNA1_to_random: 3.759, IFNAR1_IFNAR2: 2.320:  26%|▎| 2624/10240 [34:10<1:39:"
     ]
    },
    {
     "name": "stdout",
     "output_type": "stream",
     "text": [
      "mean_rec: 1.375, mean_batch: 0.108\n"
     ]
    },
    {
     "name": "stderr",
     "output_type": "stream",
     "text": [
      "loss: 65224.722, IFNA1_to_random: 3.690, IFNAR1_IFNAR2: 2.320:  26%|▎| 2656/10240 [34:35<1:38:"
     ]
    },
    {
     "name": "stdout",
     "output_type": "stream",
     "text": [
      "mean_rec: 1.354, mean_batch: 0.109\n"
     ]
    },
    {
     "name": "stderr",
     "output_type": "stream",
     "text": [
      "loss: 65378.783, IFNA1_to_random: 3.709, IFNAR1_IFNAR2: 2.319:  26%|▎| 2688/10240 [35:00<1:38:"
     ]
    },
    {
     "name": "stdout",
     "output_type": "stream",
     "text": [
      "mean_rec: 1.349, mean_batch: 0.109\n"
     ]
    },
    {
     "name": "stderr",
     "output_type": "stream",
     "text": [
      "loss: 65861.437, IFNA1_to_random: 3.733, IFNAR1_IFNAR2: 2.317:  27%|▎| 2720/10240 [35:25<1:37:"
     ]
    },
    {
     "name": "stdout",
     "output_type": "stream",
     "text": [
      "mean_rec: 1.349, mean_batch: 0.109\n"
     ]
    },
    {
     "name": "stderr",
     "output_type": "stream",
     "text": [
      "loss: 63921.757, IFNA1_to_random: 3.709, IFNAR1_IFNAR2: 2.318:  27%|▎| 2752/10240 [35:50<1:37:"
     ]
    },
    {
     "name": "stdout",
     "output_type": "stream",
     "text": [
      "mean_rec: 1.361, mean_batch: 0.108\n"
     ]
    },
    {
     "name": "stderr",
     "output_type": "stream",
     "text": [
      "loss: 64153.786, IFNA1_to_random: 3.666, IFNAR1_IFNAR2: 2.317:  27%|▎| 2784/10240 [36:15<1:37:"
     ]
    },
    {
     "name": "stdout",
     "output_type": "stream",
     "text": [
      "mean_rec: 1.340, mean_batch: 0.109\n"
     ]
    },
    {
     "name": "stderr",
     "output_type": "stream",
     "text": [
      "loss: 63784.616, IFNA1_to_random: 3.729, IFNAR1_IFNAR2: 2.316:  28%|▎| 2816/10240 [36:40<1:36:"
     ]
    },
    {
     "name": "stdout",
     "output_type": "stream",
     "text": [
      "mean_rec: 1.341, mean_batch: 0.108\n"
     ]
    },
    {
     "name": "stderr",
     "output_type": "stream",
     "text": [
      "loss: 64138.019, IFNA1_to_random: 3.775, IFNAR1_IFNAR2: 2.314:  28%|▎| 2848/10240 [37:05<1:36:"
     ]
    },
    {
     "name": "stdout",
     "output_type": "stream",
     "text": [
      "mean_rec: 1.325, mean_batch: 0.109\n"
     ]
    },
    {
     "name": "stderr",
     "output_type": "stream",
     "text": [
      "loss: 63795.183, IFNA1_to_random: 3.737, IFNAR1_IFNAR2: 2.313:  28%|▎| 2880/10240 [37:30<1:36:"
     ]
    },
    {
     "name": "stdout",
     "output_type": "stream",
     "text": [
      "mean_rec: 1.339, mean_batch: 0.108\n"
     ]
    },
    {
     "name": "stderr",
     "output_type": "stream",
     "text": [
      "loss: 62699.789, IFNA1_to_random: 3.705, IFNAR1_IFNAR2: 2.313:  28%|▎| 2912/10240 [37:55<1:35:"
     ]
    },
    {
     "name": "stdout",
     "output_type": "stream",
     "text": [
      "mean_rec: 1.345, mean_batch: 0.108\n"
     ]
    },
    {
     "name": "stderr",
     "output_type": "stream",
     "text": [
      "loss: 63643.294, IFNA1_to_random: 3.673, IFNAR1_IFNAR2: 2.316:  29%|▎| 2944/10240 [38:20<1:35:"
     ]
    },
    {
     "name": "stdout",
     "output_type": "stream",
     "text": [
      "mean_rec: 1.326, mean_batch: 0.108\n"
     ]
    },
    {
     "name": "stderr",
     "output_type": "stream",
     "text": [
      "loss: 64758.314, IFNA1_to_random: 3.661, IFNAR1_IFNAR2: 2.315:  29%|▎| 2976/10240 [38:45<1:34:"
     ]
    },
    {
     "name": "stdout",
     "output_type": "stream",
     "text": [
      "mean_rec: 1.307, mean_batch: 0.109\n"
     ]
    },
    {
     "name": "stderr",
     "output_type": "stream",
     "text": [
      "loss: 63110.364, IFNA1_to_random: 3.762, IFNAR1_IFNAR2: 2.314:  29%|▎| 3008/10240 [39:10<1:34:"
     ]
    },
    {
     "name": "stdout",
     "output_type": "stream",
     "text": [
      "mean_rec: 1.321, mean_batch: 0.108\n"
     ]
    },
    {
     "name": "stderr",
     "output_type": "stream",
     "text": [
      "loss: 64374.349, IFNA1_to_random: 3.760, IFNAR1_IFNAR2: 2.313:  30%|▎| 3040/10240 [39:35<1:33:"
     ]
    },
    {
     "name": "stdout",
     "output_type": "stream",
     "text": [
      "mean_rec: 1.298, mean_batch: 0.109\n"
     ]
    },
    {
     "name": "stderr",
     "output_type": "stream",
     "text": [
      "loss: 64036.461, IFNA1_to_random: 3.744, IFNAR1_IFNAR2: 2.312:  30%|▎| 3072/10240 [40:00<1:33:"
     ]
    },
    {
     "name": "stdout",
     "output_type": "stream",
     "text": [
      "mean_rec: 1.301, mean_batch: 0.110\n"
     ]
    },
    {
     "name": "stderr",
     "output_type": "stream",
     "text": [
      "loss: 62591.122, IFNA1_to_random: 3.700, IFNAR1_IFNAR2: 2.311:  30%|▎| 3104/10240 [40:25<1:33:"
     ]
    },
    {
     "name": "stdout",
     "output_type": "stream",
     "text": [
      "mean_rec: 1.313, mean_batch: 0.108\n"
     ]
    },
    {
     "name": "stderr",
     "output_type": "stream",
     "text": [
      "loss: 62529.786, IFNA1_to_random: 3.670, IFNAR1_IFNAR2: 2.311:  31%|▎| 3136/10240 [40:50<1:32:"
     ]
    },
    {
     "name": "stdout",
     "output_type": "stream",
     "text": [
      "mean_rec: 1.312, mean_batch: 0.108\n"
     ]
    },
    {
     "name": "stderr",
     "output_type": "stream",
     "text": [
      "loss: 62364.609, IFNA1_to_random: 3.726, IFNAR1_IFNAR2: 2.309:  31%|▎| 3168/10240 [41:15<1:32:"
     ]
    },
    {
     "name": "stdout",
     "output_type": "stream",
     "text": [
      "mean_rec: 1.306, mean_batch: 0.109\n"
     ]
    },
    {
     "name": "stderr",
     "output_type": "stream",
     "text": [
      "loss: 64056.837, IFNA1_to_random: 3.690, IFNAR1_IFNAR2: 2.309:  31%|▎| 3200/10240 [41:40<1:31:"
     ]
    },
    {
     "name": "stdout",
     "output_type": "stream",
     "text": [
      "mean_rec: 1.262, mean_batch: 0.110\n"
     ]
    },
    {
     "name": "stderr",
     "output_type": "stream",
     "text": [
      "loss: 61974.896, IFNA1_to_random: 3.745, IFNAR1_IFNAR2: 2.309:  32%|▎| 3232/10240 [42:05<1:31:"
     ]
    },
    {
     "name": "stdout",
     "output_type": "stream",
     "text": [
      "mean_rec: 1.295, mean_batch: 0.109\n"
     ]
    },
    {
     "name": "stderr",
     "output_type": "stream",
     "text": [
      "loss: 62989.199, IFNA1_to_random: 3.745, IFNAR1_IFNAR2: 2.306:  32%|▎| 3264/10240 [42:30<1:30:"
     ]
    },
    {
     "name": "stdout",
     "output_type": "stream",
     "text": [
      "mean_rec: 1.276, mean_batch: 0.109\n"
     ]
    },
    {
     "name": "stderr",
     "output_type": "stream",
     "text": [
      "loss: 62246.662, IFNA1_to_random: 3.735, IFNAR1_IFNAR2: 2.304:  32%|▎| 3296/10240 [42:55<1:30:"
     ]
    },
    {
     "name": "stdout",
     "output_type": "stream",
     "text": [
      "mean_rec: 1.283, mean_batch: 0.109\n"
     ]
    },
    {
     "name": "stderr",
     "output_type": "stream",
     "text": [
      "loss: 61047.160, IFNA1_to_random: 3.744, IFNAR1_IFNAR2: 2.301:  32%|▎| 3328/10240 [43:20<1:30:"
     ]
    },
    {
     "name": "stdout",
     "output_type": "stream",
     "text": [
      "mean_rec: 1.298, mean_batch: 0.108\n"
     ]
    },
    {
     "name": "stderr",
     "output_type": "stream",
     "text": [
      "loss: 60297.251, IFNA1_to_random: 3.715, IFNAR1_IFNAR2: 2.301:  33%|▎| 3360/10240 [43:46<1:29:"
     ]
    },
    {
     "name": "stdout",
     "output_type": "stream",
     "text": [
      "mean_rec: 1.308, mean_batch: 0.108\n"
     ]
    },
    {
     "name": "stderr",
     "output_type": "stream",
     "text": [
      "loss: 61185.093, IFNA1_to_random: 3.759, IFNAR1_IFNAR2: 2.301:  33%|▎| 3392/10240 [44:11<1:29:"
     ]
    },
    {
     "name": "stdout",
     "output_type": "stream",
     "text": [
      "mean_rec: 1.288, mean_batch: 0.109\n"
     ]
    },
    {
     "name": "stderr",
     "output_type": "stream",
     "text": [
      "loss: 61467.496, IFNA1_to_random: 3.718, IFNAR1_IFNAR2: 2.301:  33%|▎| 3424/10240 [44:36<1:28:"
     ]
    },
    {
     "name": "stdout",
     "output_type": "stream",
     "text": [
      "mean_rec: 1.272, mean_batch: 0.109\n"
     ]
    },
    {
     "name": "stderr",
     "output_type": "stream",
     "text": [
      "loss: 60757.970, IFNA1_to_random: 3.708, IFNAR1_IFNAR2: 2.300:  34%|▎| 3456/10240 [45:01<1:28:"
     ]
    },
    {
     "name": "stdout",
     "output_type": "stream",
     "text": [
      "mean_rec: 1.279, mean_batch: 0.108\n"
     ]
    },
    {
     "name": "stderr",
     "output_type": "stream",
     "text": [
      "loss: 60731.385, IFNA1_to_random: 3.765, IFNAR1_IFNAR2: 2.298:  34%|▎| 3488/10240 [45:26<1:27:"
     ]
    },
    {
     "name": "stdout",
     "output_type": "stream",
     "text": [
      "mean_rec: 1.282, mean_batch: 0.108\n"
     ]
    },
    {
     "name": "stderr",
     "output_type": "stream",
     "text": [
      "loss: 60197.545, IFNA1_to_random: 3.695, IFNAR1_IFNAR2: 2.297:  34%|▎| 3520/10240 [45:51<1:27:"
     ]
    },
    {
     "name": "stdout",
     "output_type": "stream",
     "text": [
      "mean_rec: 1.280, mean_batch: 0.108\n"
     ]
    },
    {
     "name": "stderr",
     "output_type": "stream",
     "text": [
      "loss: 63234.404, IFNA1_to_random: 3.722, IFNAR1_IFNAR2: 2.295:  35%|▎| 3552/10240 [46:16<1:27:"
     ]
    },
    {
     "name": "stdout",
     "output_type": "stream",
     "text": [
      "mean_rec: 1.318, mean_batch: 0.108\n"
     ]
    },
    {
     "name": "stderr",
     "output_type": "stream",
     "text": [
      "loss: 61347.680, IFNA1_to_random: 3.734, IFNAR1_IFNAR2: 2.299:  35%|▎| 3584/10240 [46:41<1:26:"
     ]
    },
    {
     "name": "stdout",
     "output_type": "stream",
     "text": [
      "mean_rec: 1.313, mean_batch: 0.108\n"
     ]
    },
    {
     "name": "stderr",
     "output_type": "stream",
     "text": [
      "loss: 59774.687, IFNA1_to_random: 3.685, IFNAR1_IFNAR2: 2.298:  35%|▎| 3616/10240 [47:06<1:26:"
     ]
    },
    {
     "name": "stdout",
     "output_type": "stream",
     "text": [
      "mean_rec: 1.286, mean_batch: 0.108\n"
     ]
    },
    {
     "name": "stderr",
     "output_type": "stream",
     "text": [
      "loss: 60716.829, IFNA1_to_random: 3.705, IFNAR1_IFNAR2: 2.295:  36%|▎| 3648/10240 [47:31<1:25:"
     ]
    },
    {
     "name": "stdout",
     "output_type": "stream",
     "text": [
      "mean_rec: 1.266, mean_batch: 0.109\n"
     ]
    },
    {
     "name": "stderr",
     "output_type": "stream",
     "text": [
      "loss: 60207.006, IFNA1_to_random: 3.717, IFNAR1_IFNAR2: 2.292:  36%|▎| 3680/10240 [47:56<1:25:"
     ]
    },
    {
     "name": "stdout",
     "output_type": "stream",
     "text": [
      "mean_rec: 1.272, mean_batch: 0.109\n"
     ]
    },
    {
     "name": "stderr",
     "output_type": "stream",
     "text": [
      "loss: 60139.393, IFNA1_to_random: 3.718, IFNAR1_IFNAR2: 2.288:  36%|▎| 3712/10240 [48:21<1:25:"
     ]
    },
    {
     "name": "stdout",
     "output_type": "stream",
     "text": [
      "mean_rec: 1.267, mean_batch: 0.109\n"
     ]
    },
    {
     "name": "stderr",
     "output_type": "stream",
     "text": [
      "loss: 60383.031, IFNA1_to_random: 3.761, IFNAR1_IFNAR2: 2.290:  37%|▎| 3744/10240 [48:46<1:24:"
     ]
    },
    {
     "name": "stdout",
     "output_type": "stream",
     "text": [
      "mean_rec: 1.261, mean_batch: 0.109\n"
     ]
    },
    {
     "name": "stderr",
     "output_type": "stream",
     "text": [
      "loss: 59227.689, IFNA1_to_random: 3.743, IFNAR1_IFNAR2: 2.289:  37%|▎| 3776/10240 [49:11<1:24:"
     ]
    },
    {
     "name": "stdout",
     "output_type": "stream",
     "text": [
      "mean_rec: 1.275, mean_batch: 0.108\n"
     ]
    },
    {
     "name": "stderr",
     "output_type": "stream",
     "text": [
      "loss: 59146.380, IFNA1_to_random: 3.745, IFNAR1_IFNAR2: 2.288:  37%|▎| 3808/10240 [49:36<1:23:"
     ]
    },
    {
     "name": "stdout",
     "output_type": "stream",
     "text": [
      "mean_rec: 1.271, mean_batch: 0.108\n"
     ]
    },
    {
     "name": "stderr",
     "output_type": "stream",
     "text": [
      "loss: 59441.987, IFNA1_to_random: 3.746, IFNAR1_IFNAR2: 2.287:  38%|▍| 3840/10240 [50:01<1:23:"
     ]
    },
    {
     "name": "stdout",
     "output_type": "stream",
     "text": [
      "mean_rec: 1.274, mean_batch: 0.109\n"
     ]
    },
    {
     "name": "stderr",
     "output_type": "stream",
     "text": [
      "loss: 59337.127, IFNA1_to_random: 3.725, IFNAR1_IFNAR2: 2.285:  38%|▍| 3872/10240 [50:26<1:22:"
     ]
    },
    {
     "name": "stdout",
     "output_type": "stream",
     "text": [
      "mean_rec: 1.306, mean_batch: 0.107\n"
     ]
    },
    {
     "name": "stderr",
     "output_type": "stream",
     "text": [
      "loss: 59758.976, IFNA1_to_random: 3.739, IFNAR1_IFNAR2: 2.285:  38%|▍| 3904/10240 [50:51<1:22:"
     ]
    },
    {
     "name": "stdout",
     "output_type": "stream",
     "text": [
      "mean_rec: 1.256, mean_batch: 0.109\n"
     ]
    },
    {
     "name": "stderr",
     "output_type": "stream",
     "text": [
      "loss: 59616.423, IFNA1_to_random: 3.751, IFNAR1_IFNAR2: 2.284:  38%|▍| 3936/10240 [51:16<1:22:"
     ]
    },
    {
     "name": "stdout",
     "output_type": "stream",
     "text": [
      "mean_rec: 1.269, mean_batch: 0.109\n"
     ]
    },
    {
     "name": "stderr",
     "output_type": "stream",
     "text": [
      "loss: 58921.961, IFNA1_to_random: 3.693, IFNAR1_IFNAR2: 2.288:  39%|▍| 3968/10240 [51:41<1:21:"
     ]
    },
    {
     "name": "stdout",
     "output_type": "stream",
     "text": [
      "mean_rec: 1.270, mean_batch: 0.108\n"
     ]
    },
    {
     "name": "stderr",
     "output_type": "stream",
     "text": [
      "loss: 58995.872, IFNA1_to_random: 3.769, IFNAR1_IFNAR2: 2.289:  39%|▍| 4000/10240 [52:06<1:21:"
     ]
    },
    {
     "name": "stdout",
     "output_type": "stream",
     "text": [
      "mean_rec: 1.260, mean_batch: 0.109\n"
     ]
    },
    {
     "name": "stderr",
     "output_type": "stream",
     "text": [
      "loss: 59831.349, IFNA1_to_random: 3.759, IFNAR1_IFNAR2: 2.287:  39%|▍| 4032/10240 [52:31<1:21:"
     ]
    },
    {
     "name": "stdout",
     "output_type": "stream",
     "text": [
      "mean_rec: 1.282, mean_batch: 0.108\n"
     ]
    },
    {
     "name": "stderr",
     "output_type": "stream",
     "text": [
      "loss: 59206.141, IFNA1_to_random: 3.775, IFNAR1_IFNAR2: 2.283:  40%|▍| 4064/10240 [52:56<1:20:"
     ]
    },
    {
     "name": "stdout",
     "output_type": "stream",
     "text": [
      "mean_rec: 1.259, mean_batch: 0.109\n"
     ]
    },
    {
     "name": "stderr",
     "output_type": "stream",
     "text": [
      "loss: 59300.768, IFNA1_to_random: 3.757, IFNAR1_IFNAR2: 2.283:  40%|▍| 4096/10240 [53:21<1:20:"
     ]
    },
    {
     "name": "stdout",
     "output_type": "stream",
     "text": [
      "mean_rec: 1.259, mean_batch: 0.109\n"
     ]
    },
    {
     "name": "stderr",
     "output_type": "stream",
     "text": [
      "loss: 58539.084, IFNA1_to_random: 3.724, IFNAR1_IFNAR2: 2.278:  40%|▍| 4128/10240 [53:46<1:19:"
     ]
    },
    {
     "name": "stdout",
     "output_type": "stream",
     "text": [
      "mean_rec: 1.265, mean_batch: 0.108\n"
     ]
    },
    {
     "name": "stderr",
     "output_type": "stream",
     "text": [
      "loss: 58604.023, IFNA1_to_random: 3.741, IFNAR1_IFNAR2: 2.273:  41%|▍| 4160/10240 [54:11<1:19:"
     ]
    },
    {
     "name": "stdout",
     "output_type": "stream",
     "text": [
      "mean_rec: 1.260, mean_batch: 0.109\n"
     ]
    },
    {
     "name": "stderr",
     "output_type": "stream",
     "text": [
      "loss: 57772.531, IFNA1_to_random: 3.735, IFNAR1_IFNAR2: 2.270:  41%|▍| 4192/10240 [54:36<1:18:"
     ]
    },
    {
     "name": "stdout",
     "output_type": "stream",
     "text": [
      "mean_rec: 1.288, mean_batch: 0.107\n"
     ]
    },
    {
     "name": "stderr",
     "output_type": "stream",
     "text": [
      "loss: 60410.505, IFNA1_to_random: 3.771, IFNAR1_IFNAR2: 2.269:  41%|▍| 4224/10240 [55:01<1:18:"
     ]
    },
    {
     "name": "stdout",
     "output_type": "stream",
     "text": [
      "mean_rec: 1.278, mean_batch: 0.109\n"
     ]
    },
    {
     "name": "stderr",
     "output_type": "stream",
     "text": [
      "loss: 59411.376, IFNA1_to_random: 3.767, IFNAR1_IFNAR2: 2.271:  42%|▍| 4256/10240 [55:26<1:17:"
     ]
    },
    {
     "name": "stdout",
     "output_type": "stream",
     "text": [
      "mean_rec: 1.244, mean_batch: 0.110\n"
     ]
    },
    {
     "name": "stderr",
     "output_type": "stream",
     "text": [
      "loss: 58881.354, IFNA1_to_random: 3.768, IFNAR1_IFNAR2: 2.272:  42%|▍| 4288/10240 [55:51<1:17:"
     ]
    },
    {
     "name": "stdout",
     "output_type": "stream",
     "text": [
      "mean_rec: 1.271, mean_batch: 0.109\n"
     ]
    },
    {
     "name": "stderr",
     "output_type": "stream",
     "text": [
      "loss: 58783.438, IFNA1_to_random: 3.752, IFNAR1_IFNAR2: 2.270:  42%|▍| 4320/10240 [56:16<1:17:"
     ]
    },
    {
     "name": "stdout",
     "output_type": "stream",
     "text": [
      "mean_rec: 1.261, mean_batch: 0.108\n"
     ]
    },
    {
     "name": "stderr",
     "output_type": "stream",
     "text": [
      "loss: 59256.651, IFNA1_to_random: 3.767, IFNAR1_IFNAR2: 2.271:  42%|▍| 4352/10240 [56:41<1:16:"
     ]
    },
    {
     "name": "stdout",
     "output_type": "stream",
     "text": [
      "mean_rec: 1.252, mean_batch: 0.109\n"
     ]
    },
    {
     "name": "stderr",
     "output_type": "stream",
     "text": [
      "loss: 58992.513, IFNA1_to_random: 3.738, IFNAR1_IFNAR2: 2.271:  43%|▍| 4384/10240 [57:06<1:16:"
     ]
    },
    {
     "name": "stdout",
     "output_type": "stream",
     "text": [
      "mean_rec: 1.267, mean_batch: 0.109\n"
     ]
    },
    {
     "name": "stderr",
     "output_type": "stream",
     "text": [
      "loss: 57938.573, IFNA1_to_random: 3.723, IFNAR1_IFNAR2: 2.269:  43%|▍| 4416/10240 [57:31<1:15:"
     ]
    },
    {
     "name": "stdout",
     "output_type": "stream",
     "text": [
      "mean_rec: 1.273, mean_batch: 0.108\n"
     ]
    },
    {
     "name": "stderr",
     "output_type": "stream",
     "text": [
      "loss: 58933.432, IFNA1_to_random: 3.720, IFNAR1_IFNAR2: 2.270:  43%|▍| 4448/10240 [57:56<1:15:"
     ]
    },
    {
     "name": "stdout",
     "output_type": "stream",
     "text": [
      "mean_rec: 1.252, mean_batch: 0.109\n"
     ]
    },
    {
     "name": "stderr",
     "output_type": "stream",
     "text": [
      "loss: 58357.952, IFNA1_to_random: 3.756, IFNAR1_IFNAR2: 2.270:  44%|▍| 4480/10240 [58:21<1:15:"
     ]
    },
    {
     "name": "stdout",
     "output_type": "stream",
     "text": [
      "mean_rec: 1.266, mean_batch: 0.109\n"
     ]
    },
    {
     "name": "stderr",
     "output_type": "stream",
     "text": [
      "loss: 57833.423, IFNA1_to_random: 3.781, IFNAR1_IFNAR2: 2.267:  44%|▍| 4512/10240 [58:46<1:14:"
     ]
    },
    {
     "name": "stdout",
     "output_type": "stream",
     "text": [
      "mean_rec: 1.268, mean_batch: 0.108\n"
     ]
    },
    {
     "name": "stderr",
     "output_type": "stream",
     "text": [
      "loss: 58479.395, IFNA1_to_random: 3.696, IFNAR1_IFNAR2: 2.263:  44%|▍| 4544/10240 [59:11<1:14:"
     ]
    },
    {
     "name": "stdout",
     "output_type": "stream",
     "text": [
      "mean_rec: 1.264, mean_batch: 0.109\n"
     ]
    },
    {
     "name": "stderr",
     "output_type": "stream",
     "text": [
      "loss: 57981.522, IFNA1_to_random: 3.739, IFNAR1_IFNAR2: 2.261:  45%|▍| 4576/10240 [59:37<1:14:"
     ]
    },
    {
     "name": "stdout",
     "output_type": "stream",
     "text": [
      "mean_rec: 1.272, mean_batch: 0.108\n"
     ]
    },
    {
     "name": "stderr",
     "output_type": "stream",
     "text": [
      "loss: 57735.082, IFNA1_to_random: 3.727, IFNAR1_IFNAR2: 2.259:  45%|▍| 4608/10240 [1:00:02<1:1"
     ]
    },
    {
     "name": "stdout",
     "output_type": "stream",
     "text": [
      "mean_rec: 1.275, mean_batch: 0.108\n"
     ]
    },
    {
     "name": "stderr",
     "output_type": "stream",
     "text": [
      "loss: 57120.790, IFNA1_to_random: 3.763, IFNAR1_IFNAR2: 2.257:  45%|▍| 4640/10240 [1:00:27<1:1"
     ]
    },
    {
     "name": "stdout",
     "output_type": "stream",
     "text": [
      "mean_rec: 1.288, mean_batch: 0.108\n"
     ]
    },
    {
     "name": "stderr",
     "output_type": "stream",
     "text": [
      "loss: 58078.782, IFNA1_to_random: 3.646, IFNAR1_IFNAR2: 2.260:  46%|▍| 4672/10240 [1:00:52<1:1"
     ]
    },
    {
     "name": "stdout",
     "output_type": "stream",
     "text": [
      "mean_rec: 1.269, mean_batch: 0.109\n"
     ]
    },
    {
     "name": "stderr",
     "output_type": "stream",
     "text": [
      "loss: 58473.636, IFNA1_to_random: 3.763, IFNAR1_IFNAR2: 2.260:  46%|▍| 4704/10240 [1:01:17<1:1"
     ]
    },
    {
     "name": "stdout",
     "output_type": "stream",
     "text": [
      "mean_rec: 1.259, mean_batch: 0.108\n"
     ]
    },
    {
     "name": "stderr",
     "output_type": "stream",
     "text": [
      "loss: 58522.652, IFNA1_to_random: 3.744, IFNAR1_IFNAR2: 2.258:  46%|▍| 4736/10240 [1:01:42<1:1"
     ]
    },
    {
     "name": "stdout",
     "output_type": "stream",
     "text": [
      "mean_rec: 1.253, mean_batch: 0.109\n"
     ]
    },
    {
     "name": "stderr",
     "output_type": "stream",
     "text": [
      "loss: 58128.363, IFNA1_to_random: 3.761, IFNAR1_IFNAR2: 2.257:  47%|▍| 4768/10240 [1:02:07<1:1"
     ]
    },
    {
     "name": "stdout",
     "output_type": "stream",
     "text": [
      "mean_rec: 1.265, mean_batch: 0.108\n"
     ]
    },
    {
     "name": "stderr",
     "output_type": "stream",
     "text": [
      "loss: 57828.002, IFNA1_to_random: 3.763, IFNAR1_IFNAR2: 2.255:  47%|▍| 4800/10240 [1:02:32<1:1"
     ]
    },
    {
     "name": "stdout",
     "output_type": "stream",
     "text": [
      "mean_rec: 1.283, mean_batch: 0.108\n"
     ]
    },
    {
     "name": "stderr",
     "output_type": "stream",
     "text": [
      "loss: 58281.456, IFNA1_to_random: 3.754, IFNAR1_IFNAR2: 2.252:  47%|▍| 4832/10240 [1:02:57<1:1"
     ]
    },
    {
     "name": "stdout",
     "output_type": "stream",
     "text": [
      "mean_rec: 1.260, mean_batch: 0.109\n"
     ]
    },
    {
     "name": "stderr",
     "output_type": "stream",
     "text": [
      "loss: 57676.938, IFNA1_to_random: 3.736, IFNAR1_IFNAR2: 2.250:  48%|▍| 4864/10240 [1:03:22<1:1"
     ]
    },
    {
     "name": "stdout",
     "output_type": "stream",
     "text": [
      "mean_rec: 1.278, mean_batch: 0.108\n"
     ]
    },
    {
     "name": "stderr",
     "output_type": "stream",
     "text": [
      "loss: 59307.842, IFNA1_to_random: 3.777, IFNAR1_IFNAR2: 2.247:  48%|▍| 4896/10240 [1:03:47<1:0"
     ]
    },
    {
     "name": "stdout",
     "output_type": "stream",
     "text": [
      "mean_rec: 1.270, mean_batch: 0.110\n"
     ]
    },
    {
     "name": "stderr",
     "output_type": "stream",
     "text": [
      "loss: 56598.269, IFNA1_to_random: 3.720, IFNAR1_IFNAR2: 2.243:  48%|▍| 4928/10240 [1:04:13<1:0"
     ]
    },
    {
     "name": "stdout",
     "output_type": "stream",
     "text": [
      "mean_rec: 1.295, mean_batch: 0.107\n"
     ]
    },
    {
     "name": "stderr",
     "output_type": "stream",
     "text": [
      "loss: 58072.940, IFNA1_to_random: 3.714, IFNAR1_IFNAR2: 2.240:  48%|▍| 4960/10240 [1:04:38<1:0"
     ]
    },
    {
     "name": "stdout",
     "output_type": "stream",
     "text": [
      "mean_rec: 1.271, mean_batch: 0.109\n"
     ]
    },
    {
     "name": "stderr",
     "output_type": "stream",
     "text": [
      "loss: 59563.904, IFNA1_to_random: 3.726, IFNAR1_IFNAR2: 2.240:  49%|▍| 4992/10240 [1:05:03<1:0"
     ]
    },
    {
     "name": "stdout",
     "output_type": "stream",
     "text": [
      "mean_rec: 1.285, mean_batch: 0.109\n"
     ]
    },
    {
     "name": "stderr",
     "output_type": "stream",
     "text": [
      "loss: 57844.578, IFNA1_to_random: 3.743, IFNAR1_IFNAR2: 2.241:  49%|▍| 5024/10240 [1:05:28<1:0"
     ]
    },
    {
     "name": "stdout",
     "output_type": "stream",
     "text": [
      "mean_rec: 1.267, mean_batch: 0.109\n"
     ]
    },
    {
     "name": "stderr",
     "output_type": "stream",
     "text": [
      "loss: 58246.699, IFNA1_to_random: 3.764, IFNAR1_IFNAR2: 2.242:  49%|▍| 5056/10240 [1:05:53<1:0"
     ]
    },
    {
     "name": "stdout",
     "output_type": "stream",
     "text": [
      "mean_rec: 1.237, mean_batch: 0.109\n"
     ]
    },
    {
     "name": "stderr",
     "output_type": "stream",
     "text": [
      "loss: 56754.450, IFNA1_to_random: 3.761, IFNAR1_IFNAR2: 2.241:  50%|▍| 5088/10240 [1:06:18<1:0"
     ]
    },
    {
     "name": "stdout",
     "output_type": "stream",
     "text": [
      "mean_rec: 1.285, mean_batch: 0.108\n"
     ]
    },
    {
     "name": "stderr",
     "output_type": "stream",
     "text": [
      "loss: 57432.326, IFNA1_to_random: 3.761, IFNAR1_IFNAR2: 2.241:  50%|▌| 5120/10240 [1:06:43<1:0"
     ]
    },
    {
     "name": "stdout",
     "output_type": "stream",
     "text": [
      "mean_rec: 1.270, mean_batch: 0.109\n"
     ]
    },
    {
     "name": "stderr",
     "output_type": "stream",
     "text": [
      "loss: 57649.678, IFNA1_to_random: 3.739, IFNAR1_IFNAR2: 2.238:  50%|▌| 5152/10240 [1:07:08<1:0"
     ]
    },
    {
     "name": "stdout",
     "output_type": "stream",
     "text": [
      "mean_rec: 1.261, mean_batch: 0.109\n"
     ]
    },
    {
     "name": "stderr",
     "output_type": "stream",
     "text": [
      "loss: 57324.076, IFNA1_to_random: 3.788, IFNAR1_IFNAR2: 2.237:  51%|▌| 5184/10240 [1:07:34<1:0"
     ]
    },
    {
     "name": "stdout",
     "output_type": "stream",
     "text": [
      "mean_rec: 1.259, mean_batch: 0.109\n"
     ]
    },
    {
     "name": "stderr",
     "output_type": "stream",
     "text": [
      "loss: 57315.016, IFNA1_to_random: 3.763, IFNAR1_IFNAR2: 2.235:  51%|▌| 5216/10240 [1:07:59<1:0"
     ]
    },
    {
     "name": "stdout",
     "output_type": "stream",
     "text": [
      "mean_rec: 1.267, mean_batch: 0.109\n"
     ]
    },
    {
     "name": "stderr",
     "output_type": "stream",
     "text": [
      "loss: 57128.739, IFNA1_to_random: 3.709, IFNAR1_IFNAR2: 2.234:  51%|▌| 5248/10240 [1:08:24<1:0"
     ]
    },
    {
     "name": "stdout",
     "output_type": "stream",
     "text": [
      "mean_rec: 1.267, mean_batch: 0.109\n"
     ]
    },
    {
     "name": "stderr",
     "output_type": "stream",
     "text": [
      "loss: 58160.010, IFNA1_to_random: 3.775, IFNAR1_IFNAR2: 2.232:  52%|▌| 5280/10240 [1:08:49<1:0"
     ]
    },
    {
     "name": "stdout",
     "output_type": "stream",
     "text": [
      "mean_rec: 1.250, mean_batch: 0.110\n"
     ]
    },
    {
     "name": "stderr",
     "output_type": "stream",
     "text": [
      "loss: 57079.246, IFNA1_to_random: 3.758, IFNAR1_IFNAR2: 2.231:  52%|▌| 5312/10240 [1:09:14<1:0"
     ]
    },
    {
     "name": "stdout",
     "output_type": "stream",
     "text": [
      "mean_rec: 1.274, mean_batch: 0.108\n"
     ]
    },
    {
     "name": "stderr",
     "output_type": "stream",
     "text": [
      "loss: 56604.516, IFNA1_to_random: 3.752, IFNAR1_IFNAR2: 2.233:  52%|▌| 5344/10240 [1:09:39<1:0"
     ]
    },
    {
     "name": "stdout",
     "output_type": "stream",
     "text": [
      "mean_rec: 1.291, mean_batch: 0.108\n"
     ]
    },
    {
     "name": "stderr",
     "output_type": "stream",
     "text": [
      "loss: 57018.729, IFNA1_to_random: 3.769, IFNAR1_IFNAR2: 2.231:  52%|▌| 5376/10240 [1:10:04<1:0"
     ]
    },
    {
     "name": "stdout",
     "output_type": "stream",
     "text": [
      "mean_rec: 1.278, mean_batch: 0.108\n"
     ]
    },
    {
     "name": "stderr",
     "output_type": "stream",
     "text": [
      "loss: 56802.525, IFNA1_to_random: 3.724, IFNAR1_IFNAR2: 2.228:  53%|▌| 5408/10240 [1:10:29<1:0"
     ]
    },
    {
     "name": "stdout",
     "output_type": "stream",
     "text": [
      "mean_rec: 1.279, mean_batch: 0.108\n"
     ]
    },
    {
     "name": "stderr",
     "output_type": "stream",
     "text": [
      "loss: 57842.314, IFNA1_to_random: 3.757, IFNAR1_IFNAR2: 2.224:  53%|▌| 5440/10240 [1:10:54<1:0"
     ]
    },
    {
     "name": "stdout",
     "output_type": "stream",
     "text": [
      "mean_rec: 1.250, mean_batch: 0.110\n"
     ]
    },
    {
     "name": "stderr",
     "output_type": "stream",
     "text": [
      "loss: 57525.662, IFNA1_to_random: 3.716, IFNAR1_IFNAR2: 2.223:  53%|▌| 5472/10240 [1:11:19<1:0"
     ]
    },
    {
     "name": "stdout",
     "output_type": "stream",
     "text": [
      "mean_rec: 1.269, mean_batch: 0.109\n"
     ]
    },
    {
     "name": "stderr",
     "output_type": "stream",
     "text": [
      "loss: 58285.723, IFNA1_to_random: 3.738, IFNAR1_IFNAR2: 2.220:  54%|▌| 5504/10240 [1:11:44<1:0"
     ]
    },
    {
     "name": "stdout",
     "output_type": "stream",
     "text": [
      "mean_rec: 1.282, mean_batch: 0.109\n"
     ]
    },
    {
     "name": "stderr",
     "output_type": "stream",
     "text": [
      "loss: 56812.714, IFNA1_to_random: 3.791, IFNAR1_IFNAR2: 2.220:  54%|▌| 5536/10240 [1:12:09<1:0"
     ]
    },
    {
     "name": "stdout",
     "output_type": "stream",
     "text": [
      "mean_rec: 1.262, mean_batch: 0.109\n"
     ]
    },
    {
     "name": "stderr",
     "output_type": "stream",
     "text": [
      "loss: 57214.103, IFNA1_to_random: 3.763, IFNAR1_IFNAR2: 2.219:  54%|▌| 5568/10240 [1:12:34<1:0"
     ]
    },
    {
     "name": "stdout",
     "output_type": "stream",
     "text": [
      "mean_rec: 1.257, mean_batch: 0.109\n"
     ]
    },
    {
     "name": "stderr",
     "output_type": "stream",
     "text": [
      "loss: 56154.366, IFNA1_to_random: 3.766, IFNAR1_IFNAR2: 2.220:  55%|▌| 5600/10240 [1:12:59<1:0"
     ]
    },
    {
     "name": "stdout",
     "output_type": "stream",
     "text": [
      "mean_rec: 1.279, mean_batch: 0.108\n"
     ]
    },
    {
     "name": "stderr",
     "output_type": "stream",
     "text": [
      "loss: 56657.987, IFNA1_to_random: 3.766, IFNAR1_IFNAR2: 2.224:  55%|▌| 5632/10240 [1:13:24<1:0"
     ]
    },
    {
     "name": "stdout",
     "output_type": "stream",
     "text": [
      "mean_rec: 1.282, mean_batch: 0.108\n"
     ]
    },
    {
     "name": "stderr",
     "output_type": "stream",
     "text": [
      "loss: 56621.518, IFNA1_to_random: 3.757, IFNAR1_IFNAR2: 2.225:  55%|▌| 5664/10240 [1:13:49<59:"
     ]
    },
    {
     "name": "stdout",
     "output_type": "stream",
     "text": [
      "mean_rec: 1.278, mean_batch: 0.108\n"
     ]
    },
    {
     "name": "stderr",
     "output_type": "stream",
     "text": [
      "loss: 58516.606, IFNA1_to_random: 3.767, IFNAR1_IFNAR2: 2.227:  56%|▌| 5696/10240 [1:14:15<59:"
     ]
    },
    {
     "name": "stdout",
     "output_type": "stream",
     "text": [
      "mean_rec: 1.254, mean_batch: 0.110\n"
     ]
    },
    {
     "name": "stderr",
     "output_type": "stream",
     "text": [
      "loss: 56803.808, IFNA1_to_random: 3.755, IFNAR1_IFNAR2: 2.228:  56%|▌| 5728/10240 [1:14:40<58:"
     ]
    },
    {
     "name": "stdout",
     "output_type": "stream",
     "text": [
      "mean_rec: 1.261, mean_batch: 0.109\n"
     ]
    },
    {
     "name": "stderr",
     "output_type": "stream",
     "text": [
      "loss: 56445.828, IFNA1_to_random: 3.815, IFNAR1_IFNAR2: 2.225:  56%|▌| 5760/10240 [1:15:05<58:"
     ]
    },
    {
     "name": "stdout",
     "output_type": "stream",
     "text": [
      "mean_rec: 1.276, mean_batch: 0.108\n"
     ]
    },
    {
     "name": "stderr",
     "output_type": "stream",
     "text": [
      "loss: 56369.237, IFNA1_to_random: 3.754, IFNAR1_IFNAR2: 2.219:  57%|▌| 5792/10240 [1:15:30<57:"
     ]
    },
    {
     "name": "stdout",
     "output_type": "stream",
     "text": [
      "mean_rec: 1.279, mean_batch: 0.108\n"
     ]
    },
    {
     "name": "stderr",
     "output_type": "stream",
     "text": [
      "loss: 57137.800, IFNA1_to_random: 3.785, IFNAR1_IFNAR2: 2.219:  57%|▌| 5824/10240 [1:15:55<57:"
     ]
    },
    {
     "name": "stdout",
     "output_type": "stream",
     "text": [
      "mean_rec: 1.280, mean_batch: 0.108\n"
     ]
    },
    {
     "name": "stderr",
     "output_type": "stream",
     "text": [
      "loss: 56288.379, IFNA1_to_random: 3.771, IFNAR1_IFNAR2: 2.222:  57%|▌| 5856/10240 [1:16:20<56:"
     ]
    },
    {
     "name": "stdout",
     "output_type": "stream",
     "text": [
      "mean_rec: 1.294, mean_batch: 0.107\n"
     ]
    },
    {
     "name": "stderr",
     "output_type": "stream",
     "text": [
      "loss: 56831.113, IFNA1_to_random: 3.709, IFNAR1_IFNAR2: 2.224:  57%|▌| 5888/10240 [1:16:45<56:"
     ]
    },
    {
     "name": "stdout",
     "output_type": "stream",
     "text": [
      "mean_rec: 1.278, mean_batch: 0.108\n"
     ]
    },
    {
     "name": "stderr",
     "output_type": "stream",
     "text": [
      "loss: 56861.988, IFNA1_to_random: 3.801, IFNAR1_IFNAR2: 2.222:  58%|▌| 5920/10240 [1:17:10<56:"
     ]
    },
    {
     "name": "stdout",
     "output_type": "stream",
     "text": [
      "mean_rec: 1.262, mean_batch: 0.109\n"
     ]
    },
    {
     "name": "stderr",
     "output_type": "stream",
     "text": [
      "loss: 55653.892, IFNA1_to_random: 3.772, IFNAR1_IFNAR2: 2.221:  58%|▌| 5952/10240 [1:17:35<56:"
     ]
    },
    {
     "name": "stdout",
     "output_type": "stream",
     "text": [
      "mean_rec: 1.294, mean_batch: 0.107\n"
     ]
    },
    {
     "name": "stderr",
     "output_type": "stream",
     "text": [
      "loss: 56574.927, IFNA1_to_random: 3.765, IFNAR1_IFNAR2: 2.220:  58%|▌| 5984/10240 [1:18:00<55:"
     ]
    },
    {
     "name": "stdout",
     "output_type": "stream",
     "text": [
      "mean_rec: 1.268, mean_batch: 0.109\n"
     ]
    },
    {
     "name": "stderr",
     "output_type": "stream",
     "text": [
      "loss: 56928.978, IFNA1_to_random: 3.750, IFNAR1_IFNAR2: 2.219:  59%|▌| 6016/10240 [1:18:25<55:"
     ]
    },
    {
     "name": "stdout",
     "output_type": "stream",
     "text": [
      "mean_rec: 1.290, mean_batch: 0.108\n"
     ]
    },
    {
     "name": "stderr",
     "output_type": "stream",
     "text": [
      "loss: 56357.768, IFNA1_to_random: 3.769, IFNAR1_IFNAR2: 2.219:  59%|▌| 6048/10240 [1:18:50<54:"
     ]
    },
    {
     "name": "stdout",
     "output_type": "stream",
     "text": [
      "mean_rec: 1.295, mean_batch: 0.108\n"
     ]
    },
    {
     "name": "stderr",
     "output_type": "stream",
     "text": [
      "loss: 57188.410, IFNA1_to_random: 3.750, IFNAR1_IFNAR2: 2.218:  59%|▌| 6080/10240 [1:19:15<54:"
     ]
    },
    {
     "name": "stdout",
     "output_type": "stream",
     "text": [
      "mean_rec: 1.259, mean_batch: 0.109\n"
     ]
    },
    {
     "name": "stderr",
     "output_type": "stream",
     "text": [
      "loss: 56224.015, IFNA1_to_random: 3.785, IFNAR1_IFNAR2: 2.220:  60%|▌| 6112/10240 [1:19:40<53:"
     ]
    },
    {
     "name": "stdout",
     "output_type": "stream",
     "text": [
      "mean_rec: 1.290, mean_batch: 0.108\n"
     ]
    },
    {
     "name": "stderr",
     "output_type": "stream",
     "text": [
      "loss: 57689.787, IFNA1_to_random: 3.789, IFNAR1_IFNAR2: 2.221:  60%|▌| 6144/10240 [1:20:05<53:"
     ]
    },
    {
     "name": "stdout",
     "output_type": "stream",
     "text": [
      "mean_rec: 1.253, mean_batch: 0.110\n"
     ]
    },
    {
     "name": "stderr",
     "output_type": "stream",
     "text": [
      "loss: 55571.774, IFNA1_to_random: 3.742, IFNAR1_IFNAR2: 2.222:  60%|▌| 6176/10240 [1:20:30<53:"
     ]
    },
    {
     "name": "stdout",
     "output_type": "stream",
     "text": [
      "mean_rec: 1.303, mean_batch: 0.107\n"
     ]
    },
    {
     "name": "stderr",
     "output_type": "stream",
     "text": [
      "loss: 56344.809, IFNA1_to_random: 3.790, IFNAR1_IFNAR2: 2.222:  61%|▌| 6208/10240 [1:20:55<52:"
     ]
    },
    {
     "name": "stdout",
     "output_type": "stream",
     "text": [
      "mean_rec: 1.277, mean_batch: 0.108\n"
     ]
    },
    {
     "name": "stderr",
     "output_type": "stream",
     "text": [
      "loss: 56994.488, IFNA1_to_random: 3.763, IFNAR1_IFNAR2: 2.219:  61%|▌| 6240/10240 [1:21:20<52:"
     ]
    },
    {
     "name": "stdout",
     "output_type": "stream",
     "text": [
      "mean_rec: 1.259, mean_batch: 0.109\n"
     ]
    },
    {
     "name": "stderr",
     "output_type": "stream",
     "text": [
      "loss: 55845.368, IFNA1_to_random: 3.761, IFNAR1_IFNAR2: 2.217:  61%|▌| 6272/10240 [1:21:45<51:"
     ]
    },
    {
     "name": "stdout",
     "output_type": "stream",
     "text": [
      "mean_rec: 1.288, mean_batch: 0.108\n"
     ]
    },
    {
     "name": "stderr",
     "output_type": "stream",
     "text": [
      "loss: 56300.909, IFNA1_to_random: 3.769, IFNAR1_IFNAR2: 2.216:  62%|▌| 6304/10240 [1:22:10<51:"
     ]
    },
    {
     "name": "stdout",
     "output_type": "stream",
     "text": [
      "mean_rec: 1.271, mean_batch: 0.109\n"
     ]
    },
    {
     "name": "stderr",
     "output_type": "stream",
     "text": [
      "loss: 56676.336, IFNA1_to_random: 3.802, IFNAR1_IFNAR2: 2.215:  62%|▌| 6336/10240 [1:22:35<50:"
     ]
    },
    {
     "name": "stdout",
     "output_type": "stream",
     "text": [
      "mean_rec: 1.270, mean_batch: 0.109\n"
     ]
    },
    {
     "name": "stderr",
     "output_type": "stream",
     "text": [
      "loss: 55967.086, IFNA1_to_random: 3.787, IFNAR1_IFNAR2: 2.216:  62%|▌| 6368/10240 [1:23:00<50:"
     ]
    },
    {
     "name": "stdout",
     "output_type": "stream",
     "text": [
      "mean_rec: 1.276, mean_batch: 0.108\n"
     ]
    },
    {
     "name": "stderr",
     "output_type": "stream",
     "text": [
      "loss: 56929.478, IFNA1_to_random: 3.775, IFNAR1_IFNAR2: 2.220:  62%|▋| 6400/10240 [1:23:25<50:"
     ]
    },
    {
     "name": "stdout",
     "output_type": "stream",
     "text": [
      "mean_rec: 1.264, mean_batch: 0.109\n"
     ]
    },
    {
     "name": "stderr",
     "output_type": "stream",
     "text": [
      "loss: 56128.290, IFNA1_to_random: 3.751, IFNAR1_IFNAR2: 2.220:  63%|▋| 6432/10240 [1:23:50<49:"
     ]
    },
    {
     "name": "stdout",
     "output_type": "stream",
     "text": [
      "mean_rec: 1.303, mean_batch: 0.108\n"
     ]
    },
    {
     "name": "stderr",
     "output_type": "stream",
     "text": [
      "loss: 55820.362, IFNA1_to_random: 3.710, IFNAR1_IFNAR2: 2.219:  63%|▋| 6464/10240 [1:24:15<49:"
     ]
    },
    {
     "name": "stdout",
     "output_type": "stream",
     "text": [
      "mean_rec: 1.283, mean_batch: 0.108\n"
     ]
    },
    {
     "name": "stderr",
     "output_type": "stream",
     "text": [
      "loss: 55832.243, IFNA1_to_random: 3.749, IFNAR1_IFNAR2: 2.217:  63%|▋| 6496/10240 [1:24:40<48:"
     ]
    },
    {
     "name": "stdout",
     "output_type": "stream",
     "text": [
      "mean_rec: 1.292, mean_batch: 0.108\n"
     ]
    },
    {
     "name": "stderr",
     "output_type": "stream",
     "text": [
      "loss: 57378.830, IFNA1_to_random: 3.726, IFNAR1_IFNAR2: 2.215:  64%|▋| 6528/10240 [1:25:05<48:"
     ]
    },
    {
     "name": "stdout",
     "output_type": "stream",
     "text": [
      "mean_rec: 1.268, mean_batch: 0.109\n"
     ]
    },
    {
     "name": "stderr",
     "output_type": "stream",
     "text": [
      "loss: 56646.040, IFNA1_to_random: 3.715, IFNAR1_IFNAR2: 2.214:  64%|▋| 6560/10240 [1:25:30<48:"
     ]
    },
    {
     "name": "stdout",
     "output_type": "stream",
     "text": [
      "mean_rec: 1.253, mean_batch: 0.109\n"
     ]
    },
    {
     "name": "stderr",
     "output_type": "stream",
     "text": [
      "loss: 55397.418, IFNA1_to_random: 3.764, IFNAR1_IFNAR2: 2.215:  64%|▋| 6592/10240 [1:25:55<47:"
     ]
    },
    {
     "name": "stdout",
     "output_type": "stream",
     "text": [
      "mean_rec: 1.298, mean_batch: 0.108\n"
     ]
    },
    {
     "name": "stderr",
     "output_type": "stream",
     "text": [
      "loss: 56789.107, IFNA1_to_random: 3.756, IFNAR1_IFNAR2: 2.216:  65%|▋| 6624/10240 [1:26:20<47:"
     ]
    },
    {
     "name": "stdout",
     "output_type": "stream",
     "text": [
      "mean_rec: 1.290, mean_batch: 0.108\n"
     ]
    },
    {
     "name": "stderr",
     "output_type": "stream",
     "text": [
      "loss: 57070.956, IFNA1_to_random: 3.712, IFNAR1_IFNAR2: 2.218:  65%|▋| 6656/10240 [1:26:45<46:"
     ]
    },
    {
     "name": "stdout",
     "output_type": "stream",
     "text": [
      "mean_rec: 1.265, mean_batch: 0.109\n"
     ]
    },
    {
     "name": "stderr",
     "output_type": "stream",
     "text": [
      "loss: 55923.917, IFNA1_to_random: 3.767, IFNAR1_IFNAR2: 2.219:  65%|▋| 6688/10240 [1:27:10<46:"
     ]
    },
    {
     "name": "stdout",
     "output_type": "stream",
     "text": [
      "mean_rec: 1.286, mean_batch: 0.108\n"
     ]
    },
    {
     "name": "stderr",
     "output_type": "stream",
     "text": [
      "loss: 56836.376, IFNA1_to_random: 3.753, IFNAR1_IFNAR2: 2.222:  66%|▋| 6720/10240 [1:27:35<46:"
     ]
    },
    {
     "name": "stdout",
     "output_type": "stream",
     "text": [
      "mean_rec: 1.267, mean_batch: 0.109\n"
     ]
    },
    {
     "name": "stderr",
     "output_type": "stream",
     "text": [
      "loss: 56454.427, IFNA1_to_random: 3.772, IFNAR1_IFNAR2: 2.222:  66%|▋| 6752/10240 [1:28:00<45:"
     ]
    },
    {
     "name": "stdout",
     "output_type": "stream",
     "text": [
      "mean_rec: 1.268, mean_batch: 0.109\n"
     ]
    },
    {
     "name": "stderr",
     "output_type": "stream",
     "text": [
      "loss: 55658.784, IFNA1_to_random: 3.734, IFNAR1_IFNAR2: 2.223:  66%|▋| 6784/10240 [1:28:26<45:"
     ]
    },
    {
     "name": "stdout",
     "output_type": "stream",
     "text": [
      "mean_rec: 1.279, mean_batch: 0.108\n"
     ]
    },
    {
     "name": "stderr",
     "output_type": "stream",
     "text": [
      "loss: 55873.349, IFNA1_to_random: 3.778, IFNAR1_IFNAR2: 2.221:  67%|▋| 6816/10240 [1:28:51<44:"
     ]
    },
    {
     "name": "stdout",
     "output_type": "stream",
     "text": [
      "mean_rec: 1.286, mean_batch: 0.108\n"
     ]
    },
    {
     "name": "stderr",
     "output_type": "stream",
     "text": [
      "loss: 57561.028, IFNA1_to_random: 3.757, IFNAR1_IFNAR2: 2.219:  67%|▋| 6848/10240 [1:29:16<44:"
     ]
    },
    {
     "name": "stdout",
     "output_type": "stream",
     "text": [
      "mean_rec: 1.284, mean_batch: 0.109\n"
     ]
    },
    {
     "name": "stderr",
     "output_type": "stream",
     "text": [
      "loss: 56072.405, IFNA1_to_random: 3.788, IFNAR1_IFNAR2: 2.221:  67%|▋| 6880/10240 [1:29:41<43:"
     ]
    },
    {
     "name": "stdout",
     "output_type": "stream",
     "text": [
      "mean_rec: 1.279, mean_batch: 0.108\n"
     ]
    },
    {
     "name": "stderr",
     "output_type": "stream",
     "text": [
      "loss: 56326.087, IFNA1_to_random: 3.737, IFNAR1_IFNAR2: 2.223:  68%|▋| 6912/10240 [1:30:06<43:"
     ]
    },
    {
     "name": "stdout",
     "output_type": "stream",
     "text": [
      "mean_rec: 1.268, mean_batch: 0.109\n"
     ]
    },
    {
     "name": "stderr",
     "output_type": "stream",
     "text": [
      "loss: 57139.060, IFNA1_to_random: 3.736, IFNAR1_IFNAR2: 2.223:  68%|▋| 6944/10240 [1:30:31<42:"
     ]
    },
    {
     "name": "stdout",
     "output_type": "stream",
     "text": [
      "mean_rec: 1.249, mean_batch: 0.110\n"
     ]
    },
    {
     "name": "stderr",
     "output_type": "stream",
     "text": [
      "loss: 55648.912, IFNA1_to_random: 3.759, IFNAR1_IFNAR2: 2.227:  68%|▋| 6976/10240 [1:30:56<42:"
     ]
    },
    {
     "name": "stdout",
     "output_type": "stream",
     "text": [
      "mean_rec: 1.292, mean_batch: 0.108\n"
     ]
    },
    {
     "name": "stderr",
     "output_type": "stream",
     "text": [
      "loss: 56690.443, IFNA1_to_random: 3.771, IFNAR1_IFNAR2: 2.225:  68%|▋| 7008/10240 [1:31:21<42:"
     ]
    },
    {
     "name": "stdout",
     "output_type": "stream",
     "text": [
      "mean_rec: 1.261, mean_batch: 0.109\n"
     ]
    },
    {
     "name": "stderr",
     "output_type": "stream",
     "text": [
      "loss: 56162.189, IFNA1_to_random: 3.731, IFNAR1_IFNAR2: 2.225:  69%|▋| 7040/10240 [1:31:46<41:"
     ]
    },
    {
     "name": "stdout",
     "output_type": "stream",
     "text": [
      "mean_rec: 1.287, mean_batch: 0.108\n"
     ]
    },
    {
     "name": "stderr",
     "output_type": "stream",
     "text": [
      "loss: 55926.048, IFNA1_to_random: 3.683, IFNAR1_IFNAR2: 2.225:  69%|▋| 7072/10240 [1:32:11<41:"
     ]
    },
    {
     "name": "stdout",
     "output_type": "stream",
     "text": [
      "mean_rec: 1.274, mean_batch: 0.109\n"
     ]
    },
    {
     "name": "stderr",
     "output_type": "stream",
     "text": [
      "loss: 57042.435, IFNA1_to_random: 3.721, IFNAR1_IFNAR2: 2.224:  69%|▋| 7104/10240 [1:32:36<41:"
     ]
    },
    {
     "name": "stdout",
     "output_type": "stream",
     "text": [
      "mean_rec: 1.292, mean_batch: 0.109\n"
     ]
    },
    {
     "name": "stderr",
     "output_type": "stream",
     "text": [
      "loss: 55472.424, IFNA1_to_random: 3.827, IFNAR1_IFNAR2: 2.223:  70%|▋| 7136/10240 [1:33:02<40:"
     ]
    },
    {
     "name": "stdout",
     "output_type": "stream",
     "text": [
      "mean_rec: 1.300, mean_batch: 0.108\n"
     ]
    },
    {
     "name": "stderr",
     "output_type": "stream",
     "text": [
      "loss: 55993.513, IFNA1_to_random: 3.784, IFNAR1_IFNAR2: 2.227:  70%|▋| 7168/10240 [1:33:27<40:"
     ]
    },
    {
     "name": "stdout",
     "output_type": "stream",
     "text": [
      "mean_rec: 1.279, mean_batch: 0.108\n"
     ]
    },
    {
     "name": "stderr",
     "output_type": "stream",
     "text": [
      "loss: 55855.301, IFNA1_to_random: 3.744, IFNAR1_IFNAR2: 2.229:  70%|▋| 7200/10240 [1:33:52<39:"
     ]
    },
    {
     "name": "stdout",
     "output_type": "stream",
     "text": [
      "mean_rec: 1.275, mean_batch: 0.108\n"
     ]
    },
    {
     "name": "stderr",
     "output_type": "stream",
     "text": [
      "loss: 56145.291, IFNA1_to_random: 3.720, IFNAR1_IFNAR2: 2.228:  71%|▋| 7232/10240 [1:34:17<39:"
     ]
    },
    {
     "name": "stdout",
     "output_type": "stream",
     "text": [
      "mean_rec: 1.272, mean_batch: 0.109\n"
     ]
    },
    {
     "name": "stderr",
     "output_type": "stream",
     "text": [
      "loss: 56447.085, IFNA1_to_random: 3.777, IFNAR1_IFNAR2: 2.226:  71%|▋| 7264/10240 [1:34:42<38:"
     ]
    },
    {
     "name": "stdout",
     "output_type": "stream",
     "text": [
      "mean_rec: 1.259, mean_batch: 0.109\n"
     ]
    },
    {
     "name": "stderr",
     "output_type": "stream",
     "text": [
      "loss: 55201.969, IFNA1_to_random: 3.754, IFNAR1_IFNAR2: 2.226:  71%|▋| 7296/10240 [1:35:07<38:"
     ]
    },
    {
     "name": "stdout",
     "output_type": "stream",
     "text": [
      "mean_rec: 1.297, mean_batch: 0.108\n"
     ]
    },
    {
     "name": "stderr",
     "output_type": "stream",
     "text": [
      "loss: 55888.254, IFNA1_to_random: 3.780, IFNAR1_IFNAR2: 2.226:  72%|▋| 7328/10240 [1:35:32<38:"
     ]
    },
    {
     "name": "stdout",
     "output_type": "stream",
     "text": [
      "mean_rec: 1.278, mean_batch: 0.109\n"
     ]
    },
    {
     "name": "stderr",
     "output_type": "stream",
     "text": [
      "loss: 56174.514, IFNA1_to_random: 3.787, IFNAR1_IFNAR2: 2.225:  72%|▋| 7360/10240 [1:35:58<37:"
     ]
    },
    {
     "name": "stdout",
     "output_type": "stream",
     "text": [
      "mean_rec: 1.299, mean_batch: 0.108\n"
     ]
    },
    {
     "name": "stderr",
     "output_type": "stream",
     "text": [
      "loss: 56007.989, IFNA1_to_random: 3.751, IFNAR1_IFNAR2: 2.229:  72%|▋| 7392/10240 [1:36:23<37:"
     ]
    },
    {
     "name": "stdout",
     "output_type": "stream",
     "text": [
      "mean_rec: 1.290, mean_batch: 0.108\n"
     ]
    },
    {
     "name": "stderr",
     "output_type": "stream",
     "text": [
      "loss: 56089.048, IFNA1_to_random: 3.703, IFNAR1_IFNAR2: 2.231:  72%|▋| 7424/10240 [1:36:48<36:"
     ]
    },
    {
     "name": "stdout",
     "output_type": "stream",
     "text": [
      "mean_rec: 1.278, mean_batch: 0.109\n"
     ]
    },
    {
     "name": "stderr",
     "output_type": "stream",
     "text": [
      "loss: 55187.034, IFNA1_to_random: 3.827, IFNAR1_IFNAR2: 2.233:  73%|▋| 7456/10240 [1:37:13<36:"
     ]
    },
    {
     "name": "stdout",
     "output_type": "stream",
     "text": [
      "mean_rec: 1.300, mean_batch: 0.107\n"
     ]
    },
    {
     "name": "stderr",
     "output_type": "stream",
     "text": [
      "loss: 56080.190, IFNA1_to_random: 3.685, IFNAR1_IFNAR2: 2.233:  73%|▋| 7488/10240 [1:37:38<36:"
     ]
    },
    {
     "name": "stdout",
     "output_type": "stream",
     "text": [
      "mean_rec: 1.283, mean_batch: 0.109\n"
     ]
    },
    {
     "name": "stderr",
     "output_type": "stream",
     "text": [
      "loss: 58003.665, IFNA1_to_random: 3.712, IFNAR1_IFNAR2: 2.232:  73%|▋| 7520/10240 [1:38:03<35:"
     ]
    },
    {
     "name": "stdout",
     "output_type": "stream",
     "text": [
      "mean_rec: 1.273, mean_batch: 0.110\n"
     ]
    },
    {
     "name": "stderr",
     "output_type": "stream",
     "text": [
      "loss: 56141.079, IFNA1_to_random: 3.713, IFNAR1_IFNAR2: 2.231:  74%|▋| 7552/10240 [1:38:29<35:"
     ]
    },
    {
     "name": "stdout",
     "output_type": "stream",
     "text": [
      "mean_rec: 1.275, mean_batch: 0.109\n"
     ]
    },
    {
     "name": "stderr",
     "output_type": "stream",
     "text": [
      "loss: 56602.416, IFNA1_to_random: 3.694, IFNAR1_IFNAR2: 2.228:  74%|▋| 7584/10240 [1:38:54<34:"
     ]
    },
    {
     "name": "stdout",
     "output_type": "stream",
     "text": [
      "mean_rec: 1.262, mean_batch: 0.109\n"
     ]
    },
    {
     "name": "stderr",
     "output_type": "stream",
     "text": [
      "loss: 55822.305, IFNA1_to_random: 3.783, IFNAR1_IFNAR2: 2.229:  74%|▋| 7616/10240 [1:39:19<34:"
     ]
    },
    {
     "name": "stdout",
     "output_type": "stream",
     "text": [
      "mean_rec: 1.287, mean_batch: 0.108\n"
     ]
    },
    {
     "name": "stderr",
     "output_type": "stream",
     "text": [
      "loss: 56869.558, IFNA1_to_random: 3.775, IFNAR1_IFNAR2: 2.231:  75%|▋| 7648/10240 [1:39:44<33:"
     ]
    },
    {
     "name": "stdout",
     "output_type": "stream",
     "text": [
      "mean_rec: 1.268, mean_batch: 0.109\n"
     ]
    },
    {
     "name": "stderr",
     "output_type": "stream",
     "text": [
      "loss: 55620.559, IFNA1_to_random: 3.713, IFNAR1_IFNAR2: 2.231:  75%|▊| 7680/10240 [1:40:09<33:"
     ]
    },
    {
     "name": "stdout",
     "output_type": "stream",
     "text": [
      "mean_rec: 1.294, mean_batch: 0.108\n"
     ]
    },
    {
     "name": "stderr",
     "output_type": "stream",
     "text": [
      "loss: 55923.989, IFNA1_to_random: 3.773, IFNAR1_IFNAR2: 2.233:  75%|▊| 7712/10240 [1:40:34<33:"
     ]
    },
    {
     "name": "stdout",
     "output_type": "stream",
     "text": [
      "mean_rec: 1.279, mean_batch: 0.109\n"
     ]
    },
    {
     "name": "stderr",
     "output_type": "stream",
     "text": [
      "loss: 55433.285, IFNA1_to_random: 3.743, IFNAR1_IFNAR2: 2.234:  76%|▊| 7744/10240 [1:41:00<32:"
     ]
    },
    {
     "name": "stdout",
     "output_type": "stream",
     "text": [
      "mean_rec: 1.301, mean_batch: 0.108\n"
     ]
    },
    {
     "name": "stderr",
     "output_type": "stream",
     "text": [
      "loss: 55180.682, IFNA1_to_random: 3.777, IFNAR1_IFNAR2: 2.233:  76%|▊| 7776/10240 [1:41:25<32:"
     ]
    },
    {
     "name": "stdout",
     "output_type": "stream",
     "text": [
      "mean_rec: 1.297, mean_batch: 0.108\n"
     ]
    },
    {
     "name": "stderr",
     "output_type": "stream",
     "text": [
      "loss: 55851.364, IFNA1_to_random: 3.735, IFNAR1_IFNAR2: 2.233:  76%|▊| 7808/10240 [1:41:50<31:"
     ]
    },
    {
     "name": "stdout",
     "output_type": "stream",
     "text": [
      "mean_rec: 1.273, mean_batch: 0.109\n"
     ]
    },
    {
     "name": "stderr",
     "output_type": "stream",
     "text": [
      "loss: 54849.562, IFNA1_to_random: 3.793, IFNAR1_IFNAR2: 2.231:  77%|▊| 7840/10240 [1:42:15<31:"
     ]
    },
    {
     "name": "stdout",
     "output_type": "stream",
     "text": [
      "mean_rec: 1.311, mean_batch: 0.107\n"
     ]
    },
    {
     "name": "stderr",
     "output_type": "stream",
     "text": [
      "loss: 55571.528, IFNA1_to_random: 3.775, IFNAR1_IFNAR2: 2.230:  77%|▊| 7872/10240 [1:42:40<31:"
     ]
    },
    {
     "name": "stdout",
     "output_type": "stream",
     "text": [
      "mean_rec: 1.275, mean_batch: 0.109\n"
     ]
    },
    {
     "name": "stderr",
     "output_type": "stream",
     "text": [
      "loss: 55991.040, IFNA1_to_random: 3.758, IFNAR1_IFNAR2: 2.231:  77%|▊| 7904/10240 [1:43:05<30:"
     ]
    },
    {
     "name": "stdout",
     "output_type": "stream",
     "text": [
      "mean_rec: 1.276, mean_batch: 0.109\n"
     ]
    },
    {
     "name": "stderr",
     "output_type": "stream",
     "text": [
      "loss: 54893.649, IFNA1_to_random: 3.783, IFNAR1_IFNAR2: 2.233:  78%|▊| 7936/10240 [1:43:30<30:"
     ]
    },
    {
     "name": "stdout",
     "output_type": "stream",
     "text": [
      "mean_rec: 1.310, mean_batch: 0.107\n"
     ]
    },
    {
     "name": "stderr",
     "output_type": "stream",
     "text": [
      "loss: 56077.010, IFNA1_to_random: 3.775, IFNAR1_IFNAR2: 2.230:  78%|▊| 7968/10240 [1:43:55<29:"
     ]
    },
    {
     "name": "stdout",
     "output_type": "stream",
     "text": [
      "mean_rec: 1.262, mean_batch: 0.109\n"
     ]
    },
    {
     "name": "stderr",
     "output_type": "stream",
     "text": [
      "loss: 55261.092, IFNA1_to_random: 3.753, IFNAR1_IFNAR2: 2.229:  78%|▊| 8000/10240 [1:44:21<29:"
     ]
    },
    {
     "name": "stdout",
     "output_type": "stream",
     "text": [
      "mean_rec: 1.309, mean_batch: 0.108\n"
     ]
    },
    {
     "name": "stderr",
     "output_type": "stream",
     "text": [
      "loss: 56416.503, IFNA1_to_random: 3.778, IFNAR1_IFNAR2: 2.229:  78%|▊| 8032/10240 [1:44:46<28:"
     ]
    },
    {
     "name": "stdout",
     "output_type": "stream",
     "text": [
      "mean_rec: 1.284, mean_batch: 0.109\n"
     ]
    },
    {
     "name": "stderr",
     "output_type": "stream",
     "text": [
      "loss: 55775.450, IFNA1_to_random: 3.769, IFNAR1_IFNAR2: 2.228:  79%|▊| 8064/10240 [1:45:11<28:"
     ]
    },
    {
     "name": "stdout",
     "output_type": "stream",
     "text": [
      "mean_rec: 1.281, mean_batch: 0.108\n"
     ]
    },
    {
     "name": "stderr",
     "output_type": "stream",
     "text": [
      "loss: 54924.400, IFNA1_to_random: 3.750, IFNAR1_IFNAR2: 2.229:  79%|▊| 8096/10240 [1:45:36<27:"
     ]
    },
    {
     "name": "stdout",
     "output_type": "stream",
     "text": [
      "mean_rec: 1.298, mean_batch: 0.108\n"
     ]
    },
    {
     "name": "stderr",
     "output_type": "stream",
     "text": [
      "loss: 55380.159, IFNA1_to_random: 3.771, IFNAR1_IFNAR2: 2.227:  79%|▊| 8128/10240 [1:46:01<27:"
     ]
    },
    {
     "name": "stdout",
     "output_type": "stream",
     "text": [
      "mean_rec: 1.285, mean_batch: 0.108\n"
     ]
    },
    {
     "name": "stderr",
     "output_type": "stream",
     "text": [
      "loss: 55943.269, IFNA1_to_random: 3.737, IFNAR1_IFNAR2: 2.226:  80%|▊| 8160/10240 [1:46:26<27:"
     ]
    },
    {
     "name": "stdout",
     "output_type": "stream",
     "text": [
      "mean_rec: 1.273, mean_batch: 0.109\n"
     ]
    },
    {
     "name": "stderr",
     "output_type": "stream",
     "text": [
      "loss: 56349.259, IFNA1_to_random: 3.685, IFNAR1_IFNAR2: 2.226:  80%|▊| 8192/10240 [1:46:51<26:"
     ]
    },
    {
     "name": "stdout",
     "output_type": "stream",
     "text": [
      "mean_rec: 1.257, mean_batch: 0.110\n"
     ]
    },
    {
     "name": "stderr",
     "output_type": "stream",
     "text": [
      "loss: 55843.212, IFNA1_to_random: 3.783, IFNAR1_IFNAR2: 2.226:  80%|▊| 8224/10240 [1:47:16<26:"
     ]
    },
    {
     "name": "stdout",
     "output_type": "stream",
     "text": [
      "mean_rec: 1.284, mean_batch: 0.109\n"
     ]
    },
    {
     "name": "stderr",
     "output_type": "stream",
     "text": [
      "loss: 55042.372, IFNA1_to_random: 3.694, IFNAR1_IFNAR2: 2.229:  81%|▊| 8256/10240 [1:47:41<25:"
     ]
    },
    {
     "name": "stdout",
     "output_type": "stream",
     "text": [
      "mean_rec: 1.323, mean_batch: 0.107\n"
     ]
    },
    {
     "name": "stderr",
     "output_type": "stream",
     "text": [
      "loss: 54659.129, IFNA1_to_random: 3.730, IFNAR1_IFNAR2: 2.228:  81%|▊| 8288/10240 [1:48:06<25:"
     ]
    },
    {
     "name": "stdout",
     "output_type": "stream",
     "text": [
      "mean_rec: 1.314, mean_batch: 0.107\n"
     ]
    },
    {
     "name": "stderr",
     "output_type": "stream",
     "text": [
      "loss: 55586.512, IFNA1_to_random: 3.757, IFNAR1_IFNAR2: 2.228:  81%|▊| 8320/10240 [1:48:31<25:"
     ]
    },
    {
     "name": "stdout",
     "output_type": "stream",
     "text": [
      "mean_rec: 1.288, mean_batch: 0.109\n"
     ]
    },
    {
     "name": "stderr",
     "output_type": "stream",
     "text": [
      "loss: 55218.816, IFNA1_to_random: 3.757, IFNAR1_IFNAR2: 2.229:  82%|▊| 8352/10240 [1:48:56<24:"
     ]
    },
    {
     "name": "stdout",
     "output_type": "stream",
     "text": [
      "mean_rec: 1.293, mean_batch: 0.108\n"
     ]
    },
    {
     "name": "stderr",
     "output_type": "stream",
     "text": [
      "loss: 55898.986, IFNA1_to_random: 3.752, IFNAR1_IFNAR2: 2.229:  82%|▊| 8384/10240 [1:49:21<24:"
     ]
    },
    {
     "name": "stdout",
     "output_type": "stream",
     "text": [
      "mean_rec: 1.268, mean_batch: 0.109\n"
     ]
    },
    {
     "name": "stderr",
     "output_type": "stream",
     "text": [
      "loss: 55161.128, IFNA1_to_random: 3.783, IFNAR1_IFNAR2: 2.231:  82%|▊| 8416/10240 [1:49:46<23:"
     ]
    },
    {
     "name": "stdout",
     "output_type": "stream",
     "text": [
      "mean_rec: 1.281, mean_batch: 0.109\n"
     ]
    },
    {
     "name": "stderr",
     "output_type": "stream",
     "text": [
      "loss: 55190.511, IFNA1_to_random: 3.754, IFNAR1_IFNAR2: 2.233:  82%|▊| 8448/10240 [1:50:11<23:"
     ]
    },
    {
     "name": "stdout",
     "output_type": "stream",
     "text": [
      "mean_rec: 1.286, mean_batch: 0.108\n"
     ]
    },
    {
     "name": "stderr",
     "output_type": "stream",
     "text": [
      "loss: 56214.162, IFNA1_to_random: 3.727, IFNAR1_IFNAR2: 2.232:  83%|▊| 8480/10240 [1:50:36<23:"
     ]
    },
    {
     "name": "stdout",
     "output_type": "stream",
     "text": [
      "mean_rec: 1.296, mean_batch: 0.108\n"
     ]
    },
    {
     "name": "stderr",
     "output_type": "stream",
     "text": [
      "loss: 54944.139, IFNA1_to_random: 3.776, IFNAR1_IFNAR2: 2.233:  83%|▊| 8512/10240 [1:51:01<22:"
     ]
    },
    {
     "name": "stdout",
     "output_type": "stream",
     "text": [
      "mean_rec: 1.289, mean_batch: 0.108\n"
     ]
    },
    {
     "name": "stderr",
     "output_type": "stream",
     "text": [
      "loss: 55742.697, IFNA1_to_random: 3.761, IFNAR1_IFNAR2: 2.232:  83%|▊| 8544/10240 [1:51:26<22:"
     ]
    },
    {
     "name": "stdout",
     "output_type": "stream",
     "text": [
      "mean_rec: 1.283, mean_batch: 0.109\n"
     ]
    },
    {
     "name": "stderr",
     "output_type": "stream",
     "text": [
      "loss: 57355.267, IFNA1_to_random: 3.804, IFNAR1_IFNAR2: 2.233:  84%|▊| 8576/10240 [1:51:51<21:"
     ]
    },
    {
     "name": "stdout",
     "output_type": "stream",
     "text": [
      "mean_rec: 1.270, mean_batch: 0.110\n"
     ]
    },
    {
     "name": "stderr",
     "output_type": "stream",
     "text": [
      "loss: 55210.581, IFNA1_to_random: 3.711, IFNAR1_IFNAR2: 2.234:  84%|▊| 8608/10240 [1:52:16<21:"
     ]
    },
    {
     "name": "stdout",
     "output_type": "stream",
     "text": [
      "mean_rec: 1.297, mean_batch: 0.108\n"
     ]
    },
    {
     "name": "stderr",
     "output_type": "stream",
     "text": [
      "loss: 54994.922, IFNA1_to_random: 3.755, IFNAR1_IFNAR2: 2.236:  84%|▊| 8640/10240 [1:52:41<20:"
     ]
    },
    {
     "name": "stdout",
     "output_type": "stream",
     "text": [
      "mean_rec: 1.293, mean_batch: 0.108\n"
     ]
    },
    {
     "name": "stderr",
     "output_type": "stream",
     "text": [
      "loss: 55772.348, IFNA1_to_random: 3.742, IFNAR1_IFNAR2: 2.233:  85%|▊| 8672/10240 [1:53:06<20:"
     ]
    },
    {
     "name": "stdout",
     "output_type": "stream",
     "text": [
      "mean_rec: 1.272, mean_batch: 0.109\n"
     ]
    },
    {
     "name": "stderr",
     "output_type": "stream",
     "text": [
      "loss: 55030.237, IFNA1_to_random: 3.779, IFNAR1_IFNAR2: 2.232:  85%|▊| 8704/10240 [1:53:32<20:"
     ]
    },
    {
     "name": "stdout",
     "output_type": "stream",
     "text": [
      "mean_rec: 1.297, mean_batch: 0.108\n"
     ]
    },
    {
     "name": "stderr",
     "output_type": "stream",
     "text": [
      "loss: 54969.920, IFNA1_to_random: 3.753, IFNAR1_IFNAR2: 2.232:  85%|▊| 8736/10240 [1:53:57<19:"
     ]
    },
    {
     "name": "stdout",
     "output_type": "stream",
     "text": [
      "mean_rec: 1.296, mean_batch: 0.108\n"
     ]
    },
    {
     "name": "stderr",
     "output_type": "stream",
     "text": [
      "loss: 55855.703, IFNA1_to_random: 3.733, IFNAR1_IFNAR2: 2.234:  86%|▊| 8768/10240 [1:54:22<19:"
     ]
    },
    {
     "name": "stdout",
     "output_type": "stream",
     "text": [
      "mean_rec: 1.264, mean_batch: 0.109\n"
     ]
    },
    {
     "name": "stderr",
     "output_type": "stream",
     "text": [
      "loss: 55540.237, IFNA1_to_random: 3.754, IFNAR1_IFNAR2: 2.234:  86%|▊| 8800/10240 [1:54:47<18:"
     ]
    },
    {
     "name": "stdout",
     "output_type": "stream",
     "text": [
      "mean_rec: 1.277, mean_batch: 0.109\n"
     ]
    },
    {
     "name": "stderr",
     "output_type": "stream",
     "text": [
      "loss: 56251.884, IFNA1_to_random: 3.783, IFNAR1_IFNAR2: 2.233:  86%|▊| 8832/10240 [1:55:12<18:"
     ]
    },
    {
     "name": "stdout",
     "output_type": "stream",
     "text": [
      "mean_rec: 1.284, mean_batch: 0.109\n"
     ]
    },
    {
     "name": "stderr",
     "output_type": "stream",
     "text": [
      "loss: 56122.047, IFNA1_to_random: 3.720, IFNAR1_IFNAR2: 2.230:  87%|▊| 8864/10240 [1:55:37<17:"
     ]
    },
    {
     "name": "stdout",
     "output_type": "stream",
     "text": [
      "mean_rec: 1.270, mean_batch: 0.109\n"
     ]
    },
    {
     "name": "stderr",
     "output_type": "stream",
     "text": [
      "loss: 55681.349, IFNA1_to_random: 3.778, IFNAR1_IFNAR2: 2.230:  87%|▊| 8896/10240 [1:56:02<17:"
     ]
    },
    {
     "name": "stdout",
     "output_type": "stream",
     "text": [
      "mean_rec: 1.282, mean_batch: 0.109\n"
     ]
    },
    {
     "name": "stderr",
     "output_type": "stream",
     "text": [
      "loss: 55497.441, IFNA1_to_random: 3.777, IFNAR1_IFNAR2: 2.228:  87%|▊| 8928/10240 [1:56:27<17:"
     ]
    },
    {
     "name": "stdout",
     "output_type": "stream",
     "text": [
      "mean_rec: 1.276, mean_batch: 0.109\n"
     ]
    },
    {
     "name": "stderr",
     "output_type": "stream",
     "text": [
      "loss: 55761.025, IFNA1_to_random: 3.770, IFNAR1_IFNAR2: 2.228:  88%|▉| 8960/10240 [1:56:52<16:"
     ]
    },
    {
     "name": "stdout",
     "output_type": "stream",
     "text": [
      "mean_rec: 1.273, mean_batch: 0.109\n"
     ]
    },
    {
     "name": "stderr",
     "output_type": "stream",
     "text": [
      "loss: 55541.711, IFNA1_to_random: 3.780, IFNAR1_IFNAR2: 2.229:  88%|▉| 8992/10240 [1:57:17<16:"
     ]
    },
    {
     "name": "stdout",
     "output_type": "stream",
     "text": [
      "mean_rec: 1.290, mean_batch: 0.108\n"
     ]
    },
    {
     "name": "stderr",
     "output_type": "stream",
     "text": [
      "loss: 55152.749, IFNA1_to_random: 3.717, IFNAR1_IFNAR2: 2.228:  88%|▉| 9024/10240 [1:57:42<15:"
     ]
    },
    {
     "name": "stdout",
     "output_type": "stream",
     "text": [
      "mean_rec: 1.284, mean_batch: 0.108\n"
     ]
    },
    {
     "name": "stderr",
     "output_type": "stream",
     "text": [
      "loss: 55812.915, IFNA1_to_random: 3.775, IFNAR1_IFNAR2: 2.226:  88%|▉| 9056/10240 [1:58:07<15:"
     ]
    },
    {
     "name": "stdout",
     "output_type": "stream",
     "text": [
      "mean_rec: 1.290, mean_batch: 0.109\n"
     ]
    },
    {
     "name": "stderr",
     "output_type": "stream",
     "text": [
      "loss: 55914.453, IFNA1_to_random: 3.755, IFNAR1_IFNAR2: 2.228:  89%|▉| 9088/10240 [1:58:32<15:"
     ]
    },
    {
     "name": "stdout",
     "output_type": "stream",
     "text": [
      "mean_rec: 1.279, mean_batch: 0.109\n"
     ]
    },
    {
     "name": "stderr",
     "output_type": "stream",
     "text": [
      "loss: 56207.850, IFNA1_to_random: 3.756, IFNAR1_IFNAR2: 2.232:  89%|▉| 9120/10240 [1:58:57<14:"
     ]
    },
    {
     "name": "stdout",
     "output_type": "stream",
     "text": [
      "mean_rec: 1.272, mean_batch: 0.109\n"
     ]
    },
    {
     "name": "stderr",
     "output_type": "stream",
     "text": [
      "loss: 55480.356, IFNA1_to_random: 3.759, IFNAR1_IFNAR2: 2.232:  89%|▉| 9152/10240 [1:59:22<14:"
     ]
    },
    {
     "name": "stdout",
     "output_type": "stream",
     "text": [
      "mean_rec: 1.289, mean_batch: 0.108\n"
     ]
    },
    {
     "name": "stderr",
     "output_type": "stream",
     "text": [
      "loss: 56174.609, IFNA1_to_random: 3.736, IFNAR1_IFNAR2: 2.234:  90%|▉| 9184/10240 [1:59:48<13:"
     ]
    },
    {
     "name": "stdout",
     "output_type": "stream",
     "text": [
      "mean_rec: 1.282, mean_batch: 0.109\n"
     ]
    },
    {
     "name": "stderr",
     "output_type": "stream",
     "text": [
      "loss: 54869.588, IFNA1_to_random: 3.744, IFNAR1_IFNAR2: 2.235:  90%|▉| 9216/10240 [2:00:13<13:"
     ]
    },
    {
     "name": "stdout",
     "output_type": "stream",
     "text": [
      "mean_rec: 1.300, mean_batch: 0.108\n"
     ]
    },
    {
     "name": "stderr",
     "output_type": "stream",
     "text": [
      "loss: 55662.433, IFNA1_to_random: 3.773, IFNAR1_IFNAR2: 2.233:  90%|▉| 9248/10240 [2:00:38<12:"
     ]
    },
    {
     "name": "stdout",
     "output_type": "stream",
     "text": [
      "mean_rec: 1.278, mean_batch: 0.109\n"
     ]
    },
    {
     "name": "stderr",
     "output_type": "stream",
     "text": [
      "loss: 54587.918, IFNA1_to_random: 3.730, IFNAR1_IFNAR2: 2.234:  91%|▉| 9280/10240 [2:01:03<12:"
     ]
    },
    {
     "name": "stdout",
     "output_type": "stream",
     "text": [
      "mean_rec: 1.296, mean_batch: 0.108\n"
     ]
    },
    {
     "name": "stderr",
     "output_type": "stream",
     "text": [
      "loss: 55618.932, IFNA1_to_random: 3.782, IFNAR1_IFNAR2: 2.234:  91%|▉| 9312/10240 [2:01:28<12:"
     ]
    },
    {
     "name": "stdout",
     "output_type": "stream",
     "text": [
      "mean_rec: 1.271, mean_batch: 0.109\n"
     ]
    },
    {
     "name": "stderr",
     "output_type": "stream",
     "text": [
      "loss: 55098.930, IFNA1_to_random: 3.745, IFNAR1_IFNAR2: 2.234:  91%|▉| 9344/10240 [2:01:53<11:"
     ]
    },
    {
     "name": "stdout",
     "output_type": "stream",
     "text": [
      "mean_rec: 1.293, mean_batch: 0.108\n"
     ]
    },
    {
     "name": "stderr",
     "output_type": "stream",
     "text": [
      "loss: 55523.720, IFNA1_to_random: 3.773, IFNAR1_IFNAR2: 2.232:  92%|▉| 9376/10240 [2:02:18<11:"
     ]
    },
    {
     "name": "stdout",
     "output_type": "stream",
     "text": [
      "mean_rec: 1.293, mean_batch: 0.109\n"
     ]
    },
    {
     "name": "stderr",
     "output_type": "stream",
     "text": [
      "loss: 55534.277, IFNA1_to_random: 3.737, IFNAR1_IFNAR2: 2.230:  92%|▉| 9408/10240 [2:02:43<10:"
     ]
    },
    {
     "name": "stdout",
     "output_type": "stream",
     "text": [
      "mean_rec: 1.276, mean_batch: 0.109\n"
     ]
    },
    {
     "name": "stderr",
     "output_type": "stream",
     "text": [
      "loss: 55241.664, IFNA1_to_random: 3.763, IFNAR1_IFNAR2: 2.226:  92%|▉| 9440/10240 [2:03:09<10:"
     ]
    },
    {
     "name": "stdout",
     "output_type": "stream",
     "text": [
      "mean_rec: 1.289, mean_batch: 0.109\n"
     ]
    },
    {
     "name": "stderr",
     "output_type": "stream",
     "text": [
      "loss: 55357.376, IFNA1_to_random: 3.714, IFNAR1_IFNAR2: 2.223:  92%|▉| 9472/10240 [2:03:34<10:"
     ]
    },
    {
     "name": "stdout",
     "output_type": "stream",
     "text": [
      "mean_rec: 1.287, mean_batch: 0.108\n"
     ]
    },
    {
     "name": "stderr",
     "output_type": "stream",
     "text": [
      "loss: 54837.872, IFNA1_to_random: 3.777, IFNAR1_IFNAR2: 2.226:  93%|▉| 9504/10240 [2:03:59<09:"
     ]
    },
    {
     "name": "stdout",
     "output_type": "stream",
     "text": [
      "mean_rec: 1.289, mean_batch: 0.108\n"
     ]
    },
    {
     "name": "stderr",
     "output_type": "stream",
     "text": [
      "loss: 56114.858, IFNA1_to_random: 3.760, IFNAR1_IFNAR2: 2.227:  93%|▉| 9536/10240 [2:04:24<09:"
     ]
    },
    {
     "name": "stdout",
     "output_type": "stream",
     "text": [
      "mean_rec: 1.251, mean_batch: 0.110\n"
     ]
    },
    {
     "name": "stderr",
     "output_type": "stream",
     "text": [
      "loss: 54789.263, IFNA1_to_random: 3.762, IFNAR1_IFNAR2: 2.225:  93%|▉| 9568/10240 [2:04:49<08:"
     ]
    },
    {
     "name": "stdout",
     "output_type": "stream",
     "text": [
      "mean_rec: 1.312, mean_batch: 0.108\n"
     ]
    },
    {
     "name": "stderr",
     "output_type": "stream",
     "text": [
      "loss: 56490.379, IFNA1_to_random: 3.758, IFNAR1_IFNAR2: 2.226:  94%|▉| 9600/10240 [2:05:14<08:"
     ]
    },
    {
     "name": "stdout",
     "output_type": "stream",
     "text": [
      "mean_rec: 1.275, mean_batch: 0.109\n"
     ]
    },
    {
     "name": "stderr",
     "output_type": "stream",
     "text": [
      "loss: 56291.613, IFNA1_to_random: 3.721, IFNAR1_IFNAR2: 2.226:  94%|▉| 9632/10240 [2:05:40<07:"
     ]
    },
    {
     "name": "stdout",
     "output_type": "stream",
     "text": [
      "mean_rec: 1.316, mean_batch: 0.108\n"
     ]
    },
    {
     "name": "stderr",
     "output_type": "stream",
     "text": [
      "loss: 56402.921, IFNA1_to_random: 3.779, IFNAR1_IFNAR2: 2.229:  94%|▉| 9664/10240 [2:06:05<07:"
     ]
    },
    {
     "name": "stdout",
     "output_type": "stream",
     "text": [
      "mean_rec: 1.259, mean_batch: 0.109\n"
     ]
    },
    {
     "name": "stderr",
     "output_type": "stream",
     "text": [
      "loss: 55026.076, IFNA1_to_random: 3.801, IFNAR1_IFNAR2: 2.230:  95%|▉| 9696/10240 [2:06:30<07:"
     ]
    },
    {
     "name": "stdout",
     "output_type": "stream",
     "text": [
      "mean_rec: 1.296, mean_batch: 0.108\n"
     ]
    },
    {
     "name": "stderr",
     "output_type": "stream",
     "text": [
      "loss: 55124.766, IFNA1_to_random: 3.776, IFNAR1_IFNAR2: 2.234:  95%|▉| 9728/10240 [2:06:55<06:"
     ]
    },
    {
     "name": "stdout",
     "output_type": "stream",
     "text": [
      "mean_rec: 1.278, mean_batch: 0.109\n"
     ]
    },
    {
     "name": "stderr",
     "output_type": "stream",
     "text": [
      "loss: 55421.917, IFNA1_to_random: 3.762, IFNAR1_IFNAR2: 2.233:  95%|▉| 9760/10240 [2:07:20<06:"
     ]
    },
    {
     "name": "stdout",
     "output_type": "stream",
     "text": [
      "mean_rec: 1.277, mean_batch: 0.109\n"
     ]
    },
    {
     "name": "stderr",
     "output_type": "stream",
     "text": [
      "loss: 54774.704, IFNA1_to_random: 3.791, IFNAR1_IFNAR2: 2.232:  96%|▉| 9792/10240 [2:07:45<05:"
     ]
    },
    {
     "name": "stdout",
     "output_type": "stream",
     "text": [
      "mean_rec: 1.289, mean_batch: 0.108\n"
     ]
    },
    {
     "name": "stderr",
     "output_type": "stream",
     "text": [
      "loss: 55677.913, IFNA1_to_random: 3.737, IFNAR1_IFNAR2: 2.233:  96%|▉| 9824/10240 [2:08:11<05:"
     ]
    },
    {
     "name": "stdout",
     "output_type": "stream",
     "text": [
      "mean_rec: 1.286, mean_batch: 0.109\n"
     ]
    },
    {
     "name": "stderr",
     "output_type": "stream",
     "text": [
      "loss: 55151.116, IFNA1_to_random: 3.755, IFNAR1_IFNAR2: 2.234:  96%|▉| 9856/10240 [2:08:36<05:"
     ]
    },
    {
     "name": "stdout",
     "output_type": "stream",
     "text": [
      "mean_rec: 1.290, mean_batch: 0.109\n"
     ]
    },
    {
     "name": "stderr",
     "output_type": "stream",
     "text": [
      "loss: 54716.201, IFNA1_to_random: 3.770, IFNAR1_IFNAR2: 2.234:  97%|▉| 9888/10240 [2:09:01<04:"
     ]
    },
    {
     "name": "stdout",
     "output_type": "stream",
     "text": [
      "mean_rec: 1.294, mean_batch: 0.108\n"
     ]
    },
    {
     "name": "stderr",
     "output_type": "stream",
     "text": [
      "loss: 55085.356, IFNA1_to_random: 3.779, IFNAR1_IFNAR2: 2.229:  97%|▉| 9920/10240 [2:09:26<04:"
     ]
    },
    {
     "name": "stdout",
     "output_type": "stream",
     "text": [
      "mean_rec: 1.289, mean_batch: 0.108\n"
     ]
    },
    {
     "name": "stderr",
     "output_type": "stream",
     "text": [
      "loss: 55835.567, IFNA1_to_random: 3.811, IFNAR1_IFNAR2: 2.227:  97%|▉| 9952/10240 [2:09:51<03:"
     ]
    },
    {
     "name": "stdout",
     "output_type": "stream",
     "text": [
      "mean_rec: 1.266, mean_batch: 0.109\n"
     ]
    },
    {
     "name": "stderr",
     "output_type": "stream",
     "text": [
      "loss: 55047.898, IFNA1_to_random: 3.744, IFNAR1_IFNAR2: 2.226:  98%|▉| 9984/10240 [2:10:16<03:"
     ]
    },
    {
     "name": "stdout",
     "output_type": "stream",
     "text": [
      "mean_rec: 1.291, mean_batch: 0.108\n"
     ]
    },
    {
     "name": "stderr",
     "output_type": "stream",
     "text": [
      "loss: 54276.202, IFNA1_to_random: 3.768, IFNAR1_IFNAR2: 2.226:  98%|▉| 10016/10240 [2:10:41<02"
     ]
    },
    {
     "name": "stdout",
     "output_type": "stream",
     "text": [
      "mean_rec: 1.309, mean_batch: 0.108\n"
     ]
    },
    {
     "name": "stderr",
     "output_type": "stream",
     "text": [
      "loss: 55712.528, IFNA1_to_random: 3.739, IFNAR1_IFNAR2: 2.225:  98%|▉| 10048/10240 [2:11:06<02"
     ]
    },
    {
     "name": "stdout",
     "output_type": "stream",
     "text": [
      "mean_rec: 1.280, mean_batch: 0.109\n"
     ]
    },
    {
     "name": "stderr",
     "output_type": "stream",
     "text": [
      "loss: 55374.318, IFNA1_to_random: 3.749, IFNAR1_IFNAR2: 2.223:  98%|▉| 10080/10240 [2:11:31<02"
     ]
    },
    {
     "name": "stdout",
     "output_type": "stream",
     "text": [
      "mean_rec: 1.301, mean_batch: 0.108\n"
     ]
    },
    {
     "name": "stderr",
     "output_type": "stream",
     "text": [
      "loss: 55200.885, IFNA1_to_random: 3.764, IFNAR1_IFNAR2: 2.221:  99%|▉| 10112/10240 [2:11:56<01"
     ]
    },
    {
     "name": "stdout",
     "output_type": "stream",
     "text": [
      "mean_rec: 1.268, mean_batch: 0.109\n"
     ]
    },
    {
     "name": "stderr",
     "output_type": "stream",
     "text": [
      "loss: 56251.235, IFNA1_to_random: 3.752, IFNAR1_IFNAR2: 2.222:  99%|▉| 10144/10240 [2:12:21<01"
     ]
    },
    {
     "name": "stdout",
     "output_type": "stream",
     "text": [
      "mean_rec: 1.256, mean_batch: 0.110\n"
     ]
    },
    {
     "name": "stderr",
     "output_type": "stream",
     "text": [
      "loss: 55600.126, IFNA1_to_random: 3.770, IFNAR1_IFNAR2: 2.223:  99%|▉| 10176/10240 [2:12:46<00"
     ]
    },
    {
     "name": "stdout",
     "output_type": "stream",
     "text": [
      "mean_rec: 1.278, mean_batch: 0.109\n"
     ]
    },
    {
     "name": "stderr",
     "output_type": "stream",
     "text": [
      "loss: 55337.657, IFNA1_to_random: 3.789, IFNAR1_IFNAR2: 2.224: 100%|▉| 10208/10240 [2:13:11<00"
     ]
    },
    {
     "name": "stdout",
     "output_type": "stream",
     "text": [
      "mean_rec: 1.289, mean_batch: 0.109\n"
     ]
    },
    {
     "name": "stderr",
     "output_type": "stream",
     "text": [
      "loss: 54157.071, IFNA1_to_random: 3.759, IFNAR1_IFNAR2: 2.226: 100%|█| 10240/10240 [2:13:36<00\n"
     ]
    },
    {
     "name": "stdout",
     "output_type": "stream",
     "text": [
      "mean_rec: 1.288, mean_batch: 0.108\n"
     ]
    },
    {
     "name": "stderr",
     "output_type": "stream",
     "text": [
      "loss: 55054.591, IFNA1_to_random: 3.759, IFNAR1_IFNAR2: 2.225:   0%| | 32/10240 [00:25<2:12:51"
     ]
    },
    {
     "name": "stdout",
     "output_type": "stream",
     "text": [
      "mean_rec: 1.285, mean_batch: 0.109\n"
     ]
    },
    {
     "name": "stderr",
     "output_type": "stream",
     "text": [
      "loss: 54781.141, IFNA1_to_random: 3.747, IFNAR1_IFNAR2: 2.228:   1%| | 64/10240 [00:50<2:12:47"
     ]
    },
    {
     "name": "stdout",
     "output_type": "stream",
     "text": [
      "mean_rec: 1.302, mean_batch: 0.108\n"
     ]
    },
    {
     "name": "stderr",
     "output_type": "stream",
     "text": [
      "loss: 55243.960, IFNA1_to_random: 3.767, IFNAR1_IFNAR2: 2.228:   1%| | 96/10240 [01:15<2:12:08"
     ]
    },
    {
     "name": "stdout",
     "output_type": "stream",
     "text": [
      "mean_rec: 1.281, mean_batch: 0.109\n"
     ]
    },
    {
     "name": "stderr",
     "output_type": "stream",
     "text": [
      "loss: 54778.849, IFNA1_to_random: 3.837, IFNAR1_IFNAR2: 2.224:   1%| | 128/10240 [01:40<2:11:3"
     ]
    },
    {
     "name": "stdout",
     "output_type": "stream",
     "text": [
      "mean_rec: 1.289, mean_batch: 0.108\n"
     ]
    },
    {
     "name": "stderr",
     "output_type": "stream",
     "text": [
      "loss: 54825.243, IFNA1_to_random: 3.776, IFNAR1_IFNAR2: 2.225:   2%| | 160/10240 [02:05<2:11:3"
     ]
    },
    {
     "name": "stdout",
     "output_type": "stream",
     "text": [
      "mean_rec: 1.289, mean_batch: 0.109\n"
     ]
    },
    {
     "name": "stderr",
     "output_type": "stream",
     "text": [
      "loss: 54362.979, IFNA1_to_random: 3.799, IFNAR1_IFNAR2: 2.228:   2%| | 192/10240 [02:30<2:10:5"
     ]
    },
    {
     "name": "stdout",
     "output_type": "stream",
     "text": [
      "mean_rec: 1.312, mean_batch: 0.108\n"
     ]
    },
    {
     "name": "stderr",
     "output_type": "stream",
     "text": [
      "loss: 54505.229, IFNA1_to_random: 3.782, IFNAR1_IFNAR2: 2.228:   2%| | 224/10240 [02:55<2:10:2"
     ]
    },
    {
     "name": "stdout",
     "output_type": "stream",
     "text": [
      "mean_rec: 1.315, mean_batch: 0.108\n"
     ]
    },
    {
     "name": "stderr",
     "output_type": "stream",
     "text": [
      "loss: 54564.849, IFNA1_to_random: 3.734, IFNAR1_IFNAR2: 2.228:   2%| | 256/10240 [03:20<2:09:4"
     ]
    },
    {
     "name": "stdout",
     "output_type": "stream",
     "text": [
      "mean_rec: 1.301, mean_batch: 0.108\n"
     ]
    },
    {
     "name": "stderr",
     "output_type": "stream",
     "text": [
      "loss: 55731.394, IFNA1_to_random: 3.771, IFNAR1_IFNAR2: 2.228:   3%| | 288/10240 [03:45<2:09:1"
     ]
    },
    {
     "name": "stdout",
     "output_type": "stream",
     "text": [
      "mean_rec: 1.283, mean_batch: 0.109\n"
     ]
    },
    {
     "name": "stderr",
     "output_type": "stream",
     "text": [
      "loss: 55721.298, IFNA1_to_random: 3.767, IFNAR1_IFNAR2: 2.226:   3%| | 320/10240 [04:10<2:09:1"
     ]
    },
    {
     "name": "stdout",
     "output_type": "stream",
     "text": [
      "mean_rec: 1.297, mean_batch: 0.109\n"
     ]
    },
    {
     "name": "stderr",
     "output_type": "stream",
     "text": [
      "loss: 54413.015, IFNA1_to_random: 3.756, IFNAR1_IFNAR2: 2.225:   3%| | 352/10240 [04:35<2:08:5"
     ]
    },
    {
     "name": "stdout",
     "output_type": "stream",
     "text": [
      "mean_rec: 1.302, mean_batch: 0.108\n"
     ]
    },
    {
     "name": "stderr",
     "output_type": "stream",
     "text": [
      "loss: 54474.101, IFNA1_to_random: 3.795, IFNAR1_IFNAR2: 2.222:   4%| | 384/10240 [05:00<2:08:0"
     ]
    },
    {
     "name": "stdout",
     "output_type": "stream",
     "text": [
      "mean_rec: 1.304, mean_batch: 0.108\n"
     ]
    },
    {
     "name": "stderr",
     "output_type": "stream",
     "text": [
      "loss: 55193.244, IFNA1_to_random: 3.723, IFNAR1_IFNAR2: 2.223:   4%| | 416/10240 [05:25<2:07:5"
     ]
    },
    {
     "name": "stdout",
     "output_type": "stream",
     "text": [
      "mean_rec: 1.266, mean_batch: 0.109\n"
     ]
    },
    {
     "name": "stderr",
     "output_type": "stream",
     "text": [
      "loss: 54735.716, IFNA1_to_random: 3.778, IFNAR1_IFNAR2: 2.222:   4%| | 448/10240 [05:50<2:07:3"
     ]
    },
    {
     "name": "stdout",
     "output_type": "stream",
     "text": [
      "mean_rec: 1.290, mean_batch: 0.108\n"
     ]
    },
    {
     "name": "stderr",
     "output_type": "stream",
     "text": [
      "loss: 55414.354, IFNA1_to_random: 3.761, IFNAR1_IFNAR2: 2.220:   5%| | 480/10240 [06:15<2:07:0"
     ]
    },
    {
     "name": "stdout",
     "output_type": "stream",
     "text": [
      "mean_rec: 1.272, mean_batch: 0.109\n"
     ]
    },
    {
     "name": "stderr",
     "output_type": "stream",
     "text": [
      "loss: 53883.967, IFNA1_to_random: 3.807, IFNAR1_IFNAR2: 2.220:   5%| | 512/10240 [06:40<2:06:5"
     ]
    },
    {
     "name": "stdout",
     "output_type": "stream",
     "text": [
      "mean_rec: 1.313, mean_batch: 0.107\n"
     ]
    },
    {
     "name": "stderr",
     "output_type": "stream",
     "text": [
      "loss: 55237.906, IFNA1_to_random: 3.760, IFNAR1_IFNAR2: 2.220:   5%| | 544/10240 [07:05<2:06:2"
     ]
    },
    {
     "name": "stdout",
     "output_type": "stream",
     "text": [
      "mean_rec: 1.281, mean_batch: 0.109\n"
     ]
    },
    {
     "name": "stderr",
     "output_type": "stream",
     "text": [
      "loss: 55029.618, IFNA1_to_random: 3.730, IFNAR1_IFNAR2: 2.219:   6%| | 576/10240 [07:30<2:05:4"
     ]
    },
    {
     "name": "stdout",
     "output_type": "stream",
     "text": [
      "mean_rec: 1.297, mean_batch: 0.108\n"
     ]
    },
    {
     "name": "stderr",
     "output_type": "stream",
     "text": [
      "loss: 55261.337, IFNA1_to_random: 3.752, IFNAR1_IFNAR2: 2.222:   6%| | 608/10240 [07:55<2:05:2"
     ]
    },
    {
     "name": "stdout",
     "output_type": "stream",
     "text": [
      "mean_rec: 1.270, mean_batch: 0.109\n"
     ]
    },
    {
     "name": "stderr",
     "output_type": "stream",
     "text": [
      "loss: 55068.787, IFNA1_to_random: 3.796, IFNAR1_IFNAR2: 2.222:   6%| | 640/10240 [08:20<2:05:0"
     ]
    },
    {
     "name": "stdout",
     "output_type": "stream",
     "text": [
      "mean_rec: 1.289, mean_batch: 0.109\n"
     ]
    },
    {
     "name": "stderr",
     "output_type": "stream",
     "text": [
      "loss: 54640.900, IFNA1_to_random: 3.754, IFNAR1_IFNAR2: 2.221:   7%| | 672/10240 [08:45<2:04:4"
     ]
    },
    {
     "name": "stdout",
     "output_type": "stream",
     "text": [
      "mean_rec: 1.284, mean_batch: 0.109\n"
     ]
    },
    {
     "name": "stderr",
     "output_type": "stream",
     "text": [
      "loss: 55485.337, IFNA1_to_random: 3.754, IFNAR1_IFNAR2: 2.222:   7%| | 704/10240 [09:10<2:04:3"
     ]
    },
    {
     "name": "stdout",
     "output_type": "stream",
     "text": [
      "mean_rec: 1.271, mean_batch: 0.109\n"
     ]
    },
    {
     "name": "stderr",
     "output_type": "stream",
     "text": [
      "loss: 54383.309, IFNA1_to_random: 3.777, IFNAR1_IFNAR2: 2.226:   7%| | 736/10240 [09:35<2:03:4"
     ]
    },
    {
     "name": "stdout",
     "output_type": "stream",
     "text": [
      "mean_rec: 1.297, mean_batch: 0.108\n"
     ]
    },
    {
     "name": "stderr",
     "output_type": "stream",
     "text": [
      "loss: 54595.816, IFNA1_to_random: 3.705, IFNAR1_IFNAR2: 2.228:   8%| | 768/10240 [10:00<2:03:2"
     ]
    },
    {
     "name": "stdout",
     "output_type": "stream",
     "text": [
      "mean_rec: 1.292, mean_batch: 0.108\n"
     ]
    },
    {
     "name": "stderr",
     "output_type": "stream",
     "text": [
      "loss: 54986.530, IFNA1_to_random: 3.763, IFNAR1_IFNAR2: 2.230:   8%| | 800/10240 [10:25<2:03:3"
     ]
    },
    {
     "name": "stdout",
     "output_type": "stream",
     "text": [
      "mean_rec: 1.291, mean_batch: 0.109\n"
     ]
    },
    {
     "name": "stderr",
     "output_type": "stream",
     "text": [
      "loss: 55449.613, IFNA1_to_random: 3.805, IFNAR1_IFNAR2: 2.228:   8%| | 832/10240 [10:50<2:02:4"
     ]
    },
    {
     "name": "stdout",
     "output_type": "stream",
     "text": [
      "mean_rec: 1.265, mean_batch: 0.109\n"
     ]
    },
    {
     "name": "stderr",
     "output_type": "stream",
     "text": [
      "loss: 55481.643, IFNA1_to_random: 3.756, IFNAR1_IFNAR2: 2.229:   8%| | 864/10240 [11:15<2:02:3"
     ]
    },
    {
     "name": "stdout",
     "output_type": "stream",
     "text": [
      "mean_rec: 1.268, mean_batch: 0.109\n"
     ]
    },
    {
     "name": "stderr",
     "output_type": "stream",
     "text": [
      "loss: 54145.966, IFNA1_to_random: 3.795, IFNAR1_IFNAR2: 2.229:   9%| | 896/10240 [11:40<2:01:4"
     ]
    },
    {
     "name": "stdout",
     "output_type": "stream",
     "text": [
      "mean_rec: 1.309, mean_batch: 0.108\n"
     ]
    },
    {
     "name": "stderr",
     "output_type": "stream",
     "text": [
      "loss: 54818.927, IFNA1_to_random: 3.751, IFNAR1_IFNAR2: 2.225:   9%| | 928/10240 [12:05<2:01:4"
     ]
    },
    {
     "name": "stdout",
     "output_type": "stream",
     "text": [
      "mean_rec: 1.281, mean_batch: 0.109\n"
     ]
    },
    {
     "name": "stderr",
     "output_type": "stream",
     "text": [
      "loss: 54711.714, IFNA1_to_random: 3.747, IFNAR1_IFNAR2: 2.224:   9%| | 960/10240 [12:30<2:01:1"
     ]
    },
    {
     "name": "stdout",
     "output_type": "stream",
     "text": [
      "mean_rec: 1.288, mean_batch: 0.109\n"
     ]
    },
    {
     "name": "stderr",
     "output_type": "stream",
     "text": [
      "loss: 55861.830, IFNA1_to_random: 3.742, IFNAR1_IFNAR2: 2.223:  10%| | 992/10240 [12:55<2:00:3"
     ]
    },
    {
     "name": "stdout",
     "output_type": "stream",
     "text": [
      "mean_rec: 1.288, mean_batch: 0.108\n"
     ]
    },
    {
     "name": "stderr",
     "output_type": "stream",
     "text": [
      "loss: 56349.750, IFNA1_to_random: 3.774, IFNAR1_IFNAR2: 2.225:  10%| | 1024/10240 [13:20<2:00:"
     ]
    },
    {
     "name": "stdout",
     "output_type": "stream",
     "text": [
      "mean_rec: 1.294, mean_batch: 0.109\n"
     ]
    },
    {
     "name": "stderr",
     "output_type": "stream",
     "text": [
      "loss: 55400.679, IFNA1_to_random: 3.754, IFNAR1_IFNAR2: 2.225:  10%| | 1056/10240 [13:46<2:00:"
     ]
    },
    {
     "name": "stdout",
     "output_type": "stream",
     "text": [
      "mean_rec: 1.274, mean_batch: 0.109\n"
     ]
    },
    {
     "name": "stderr",
     "output_type": "stream",
     "text": [
      "loss: 55007.090, IFNA1_to_random: 3.774, IFNAR1_IFNAR2: 2.223:  11%| | 1088/10240 [14:11<1:59:"
     ]
    },
    {
     "name": "stdout",
     "output_type": "stream",
     "text": [
      "mean_rec: 1.275, mean_batch: 0.109\n"
     ]
    },
    {
     "name": "stderr",
     "output_type": "stream",
     "text": [
      "loss: 54470.879, IFNA1_to_random: 3.798, IFNAR1_IFNAR2: 2.223:  11%| | 1120/10240 [14:36<1:59:"
     ]
    },
    {
     "name": "stdout",
     "output_type": "stream",
     "text": [
      "mean_rec: 1.290, mean_batch: 0.108\n"
     ]
    },
    {
     "name": "stderr",
     "output_type": "stream",
     "text": [
      "loss: 55121.958, IFNA1_to_random: 3.755, IFNAR1_IFNAR2: 2.223:  11%| | 1152/10240 [15:01<1:58:"
     ]
    },
    {
     "name": "stdout",
     "output_type": "stream",
     "text": [
      "mean_rec: 1.274, mean_batch: 0.109\n"
     ]
    },
    {
     "name": "stderr",
     "output_type": "stream",
     "text": [
      "loss: 54534.817, IFNA1_to_random: 3.830, IFNAR1_IFNAR2: 2.222:  12%| | 1184/10240 [15:26<1:58:"
     ]
    },
    {
     "name": "stdout",
     "output_type": "stream",
     "text": [
      "mean_rec: 1.297, mean_batch: 0.108\n"
     ]
    },
    {
     "name": "stderr",
     "output_type": "stream",
     "text": [
      "loss: 54272.808, IFNA1_to_random: 3.764, IFNAR1_IFNAR2: 2.222:  12%| | 1216/10240 [15:51<1:58:"
     ]
    },
    {
     "name": "stdout",
     "output_type": "stream",
     "text": [
      "mean_rec: 1.297, mean_batch: 0.108\n"
     ]
    },
    {
     "name": "stderr",
     "output_type": "stream",
     "text": [
      "loss: 54602.787, IFNA1_to_random: 3.799, IFNAR1_IFNAR2: 2.221:  12%| | 1248/10240 [16:16<1:57:"
     ]
    },
    {
     "name": "stdout",
     "output_type": "stream",
     "text": [
      "mean_rec: 1.294, mean_batch: 0.108\n"
     ]
    },
    {
     "name": "stderr",
     "output_type": "stream",
     "text": [
      "loss: 54702.570, IFNA1_to_random: 3.780, IFNAR1_IFNAR2: 2.222:  12%|▏| 1280/10240 [16:41<1:57:"
     ]
    },
    {
     "name": "stdout",
     "output_type": "stream",
     "text": [
      "mean_rec: 1.300, mean_batch: 0.108\n"
     ]
    },
    {
     "name": "stderr",
     "output_type": "stream",
     "text": [
      "loss: 55027.844, IFNA1_to_random: 3.752, IFNAR1_IFNAR2: 2.223:  13%|▏| 1312/10240 [17:06<1:56:"
     ]
    },
    {
     "name": "stdout",
     "output_type": "stream",
     "text": [
      "mean_rec: 1.293, mean_batch: 0.108\n"
     ]
    },
    {
     "name": "stderr",
     "output_type": "stream",
     "text": [
      "loss: 55411.925, IFNA1_to_random: 3.779, IFNAR1_IFNAR2: 2.223:  13%|▏| 1344/10240 [17:32<1:56:"
     ]
    },
    {
     "name": "stdout",
     "output_type": "stream",
     "text": [
      "mean_rec: 1.291, mean_batch: 0.109\n"
     ]
    },
    {
     "name": "stderr",
     "output_type": "stream",
     "text": [
      "loss: 56002.141, IFNA1_to_random: 3.756, IFNAR1_IFNAR2: 2.223:  13%|▏| 1376/10240 [17:57<1:56:"
     ]
    },
    {
     "name": "stdout",
     "output_type": "stream",
     "text": [
      "mean_rec: 1.267, mean_batch: 0.110\n"
     ]
    },
    {
     "name": "stderr",
     "output_type": "stream",
     "text": [
      "loss: 54782.176, IFNA1_to_random: 3.836, IFNAR1_IFNAR2: 2.226:  14%|▏| 1408/10240 [18:22<1:55:"
     ]
    },
    {
     "name": "stdout",
     "output_type": "stream",
     "text": [
      "mean_rec: 1.287, mean_batch: 0.109\n"
     ]
    },
    {
     "name": "stderr",
     "output_type": "stream",
     "text": [
      "loss: 54782.972, IFNA1_to_random: 3.759, IFNAR1_IFNAR2: 2.226:  14%|▏| 1440/10240 [18:47<1:54:"
     ]
    },
    {
     "name": "stdout",
     "output_type": "stream",
     "text": [
      "mean_rec: 1.286, mean_batch: 0.108\n"
     ]
    },
    {
     "name": "stderr",
     "output_type": "stream",
     "text": [
      "loss: 54121.520, IFNA1_to_random: 3.780, IFNAR1_IFNAR2: 2.227:  14%|▏| 1472/10240 [19:12<1:54:"
     ]
    },
    {
     "name": "stdout",
     "output_type": "stream",
     "text": [
      "mean_rec: 1.304, mean_batch: 0.108\n"
     ]
    },
    {
     "name": "stderr",
     "output_type": "stream",
     "text": [
      "loss: 54412.472, IFNA1_to_random: 3.772, IFNAR1_IFNAR2: 2.223:  15%|▏| 1504/10240 [19:37<1:54:"
     ]
    },
    {
     "name": "stdout",
     "output_type": "stream",
     "text": [
      "mean_rec: 1.291, mean_batch: 0.108\n"
     ]
    },
    {
     "name": "stderr",
     "output_type": "stream",
     "text": [
      "loss: 55058.390, IFNA1_to_random: 3.805, IFNAR1_IFNAR2: 2.221:  15%|▏| 1536/10240 [20:02<1:53:"
     ]
    },
    {
     "name": "stdout",
     "output_type": "stream",
     "text": [
      "mean_rec: 1.283, mean_batch: 0.109\n"
     ]
    },
    {
     "name": "stderr",
     "output_type": "stream",
     "text": [
      "loss: 54502.701, IFNA1_to_random: 3.791, IFNAR1_IFNAR2: 2.225:  15%|▏| 1568/10240 [20:27<1:53:"
     ]
    },
    {
     "name": "stdout",
     "output_type": "stream",
     "text": [
      "mean_rec: 1.291, mean_batch: 0.108\n"
     ]
    },
    {
     "name": "stderr",
     "output_type": "stream",
     "text": [
      "loss: 54737.421, IFNA1_to_random: 3.752, IFNAR1_IFNAR2: 2.224:  16%|▏| 1600/10240 [20:52<1:52:"
     ]
    },
    {
     "name": "stdout",
     "output_type": "stream",
     "text": [
      "mean_rec: 1.294, mean_batch: 0.108\n"
     ]
    },
    {
     "name": "stderr",
     "output_type": "stream",
     "text": [
      "loss: 54039.497, IFNA1_to_random: 3.722, IFNAR1_IFNAR2: 2.224:  16%|▏| 1632/10240 [21:18<1:52:"
     ]
    },
    {
     "name": "stdout",
     "output_type": "stream",
     "text": [
      "mean_rec: 1.303, mean_batch: 0.108\n"
     ]
    },
    {
     "name": "stderr",
     "output_type": "stream",
     "text": [
      "loss: 55594.242, IFNA1_to_random: 3.781, IFNAR1_IFNAR2: 2.227:  16%|▏| 1664/10240 [21:43<1:52:"
     ]
    },
    {
     "name": "stdout",
     "output_type": "stream",
     "text": [
      "mean_rec: 1.260, mean_batch: 0.110\n"
     ]
    },
    {
     "name": "stderr",
     "output_type": "stream",
     "text": [
      "loss: 54471.765, IFNA1_to_random: 3.823, IFNAR1_IFNAR2: 2.230:  17%|▏| 1696/10240 [22:08<1:51:"
     ]
    },
    {
     "name": "stdout",
     "output_type": "stream",
     "text": [
      "mean_rec: 1.309, mean_batch: 0.108\n"
     ]
    },
    {
     "name": "stderr",
     "output_type": "stream",
     "text": [
      "loss: 55046.134, IFNA1_to_random: 3.787, IFNAR1_IFNAR2: 2.229:  17%|▏| 1728/10240 [22:33<1:51:"
     ]
    },
    {
     "name": "stdout",
     "output_type": "stream",
     "text": [
      "mean_rec: 1.286, mean_batch: 0.109\n"
     ]
    },
    {
     "name": "stderr",
     "output_type": "stream",
     "text": [
      "loss: 54855.098, IFNA1_to_random: 3.828, IFNAR1_IFNAR2: 2.231:  17%|▏| 1760/10240 [22:58<1:50:"
     ]
    },
    {
     "name": "stdout",
     "output_type": "stream",
     "text": [
      "mean_rec: 1.285, mean_batch: 0.108\n"
     ]
    },
    {
     "name": "stderr",
     "output_type": "stream",
     "text": [
      "loss: 54829.375, IFNA1_to_random: 3.794, IFNAR1_IFNAR2: 2.236:  18%|▏| 1792/10240 [23:23<1:50:"
     ]
    },
    {
     "name": "stdout",
     "output_type": "stream",
     "text": [
      "mean_rec: 1.286, mean_batch: 0.109\n"
     ]
    },
    {
     "name": "stderr",
     "output_type": "stream",
     "text": [
      "loss: 55283.774, IFNA1_to_random: 3.786, IFNAR1_IFNAR2: 2.234:  18%|▏| 1824/10240 [23:48<1:49:"
     ]
    },
    {
     "name": "stdout",
     "output_type": "stream",
     "text": [
      "mean_rec: 1.269, mean_batch: 0.109\n"
     ]
    },
    {
     "name": "stderr",
     "output_type": "stream",
     "text": [
      "loss: 55811.617, IFNA1_to_random: 3.780, IFNAR1_IFNAR2: 2.236:  18%|▏| 1856/10240 [24:13<1:49:"
     ]
    },
    {
     "name": "stdout",
     "output_type": "stream",
     "text": [
      "mean_rec: 1.297, mean_batch: 0.109\n"
     ]
    },
    {
     "name": "stderr",
     "output_type": "stream",
     "text": [
      "loss: 55386.084, IFNA1_to_random: 3.764, IFNAR1_IFNAR2: 2.238:  18%|▏| 1888/10240 [24:38<1:49:"
     ]
    },
    {
     "name": "stdout",
     "output_type": "stream",
     "text": [
      "mean_rec: 1.324, mean_batch: 0.108\n"
     ]
    },
    {
     "name": "stderr",
     "output_type": "stream",
     "text": [
      "loss: 54978.075, IFNA1_to_random: 3.859, IFNAR1_IFNAR2: 2.239:  19%|▏| 1920/10240 [25:03<1:48:"
     ]
    },
    {
     "name": "stdout",
     "output_type": "stream",
     "text": [
      "mean_rec: 1.269, mean_batch: 0.109\n"
     ]
    },
    {
     "name": "stderr",
     "output_type": "stream",
     "text": [
      "loss: 55521.338, IFNA1_to_random: 3.783, IFNAR1_IFNAR2: 2.240:  19%|▏| 1952/10240 [25:28<1:48:"
     ]
    },
    {
     "name": "stdout",
     "output_type": "stream",
     "text": [
      "mean_rec: 1.260, mean_batch: 0.109\n"
     ]
    },
    {
     "name": "stderr",
     "output_type": "stream",
     "text": [
      "loss: 55416.640, IFNA1_to_random: 3.774, IFNAR1_IFNAR2: 2.238:  19%|▏| 1984/10240 [25:53<1:47:"
     ]
    },
    {
     "name": "stdout",
     "output_type": "stream",
     "text": [
      "mean_rec: 1.268, mean_batch: 0.109\n"
     ]
    },
    {
     "name": "stderr",
     "output_type": "stream",
     "text": [
      "loss: 54414.336, IFNA1_to_random: 3.799, IFNAR1_IFNAR2: 2.238:  20%|▏| 2016/10240 [26:18<1:46:"
     ]
    },
    {
     "name": "stdout",
     "output_type": "stream",
     "text": [
      "mean_rec: 1.300, mean_batch: 0.108\n"
     ]
    },
    {
     "name": "stderr",
     "output_type": "stream",
     "text": [
      "loss: 53698.967, IFNA1_to_random: 3.795, IFNAR1_IFNAR2: 2.235:  20%|▏| 2048/10240 [26:43<1:47:"
     ]
    },
    {
     "name": "stdout",
     "output_type": "stream",
     "text": [
      "mean_rec: 1.308, mean_batch: 0.107\n"
     ]
    },
    {
     "name": "stderr",
     "output_type": "stream",
     "text": [
      "loss: 54915.910, IFNA1_to_random: 3.755, IFNAR1_IFNAR2: 2.234:  20%|▏| 2080/10240 [27:09<1:46:"
     ]
    },
    {
     "name": "stdout",
     "output_type": "stream",
     "text": [
      "mean_rec: 1.278, mean_batch: 0.109\n"
     ]
    },
    {
     "name": "stderr",
     "output_type": "stream",
     "text": [
      "loss: 54625.057, IFNA1_to_random: 3.842, IFNAR1_IFNAR2: 2.235:  21%|▏| 2112/10240 [27:34<1:46:"
     ]
    },
    {
     "name": "stdout",
     "output_type": "stream",
     "text": [
      "mean_rec: 1.284, mean_batch: 0.109\n"
     ]
    },
    {
     "name": "stderr",
     "output_type": "stream",
     "text": [
      "loss: 54496.716, IFNA1_to_random: 3.756, IFNAR1_IFNAR2: 2.234:  21%|▏| 2144/10240 [27:59<1:45:"
     ]
    },
    {
     "name": "stdout",
     "output_type": "stream",
     "text": [
      "mean_rec: 1.285, mean_batch: 0.108\n"
     ]
    },
    {
     "name": "stderr",
     "output_type": "stream",
     "text": [
      "loss: 54698.981, IFNA1_to_random: 3.770, IFNAR1_IFNAR2: 2.235:  21%|▏| 2176/10240 [28:24<1:45:"
     ]
    },
    {
     "name": "stdout",
     "output_type": "stream",
     "text": [
      "mean_rec: 1.281, mean_batch: 0.109\n"
     ]
    },
    {
     "name": "stderr",
     "output_type": "stream",
     "text": [
      "loss: 54489.094, IFNA1_to_random: 3.822, IFNAR1_IFNAR2: 2.235:  22%|▏| 2208/10240 [28:49<1:44:"
     ]
    },
    {
     "name": "stdout",
     "output_type": "stream",
     "text": [
      "mean_rec: 1.292, mean_batch: 0.109\n"
     ]
    },
    {
     "name": "stderr",
     "output_type": "stream",
     "text": [
      "loss: 56672.464, IFNA1_to_random: 3.786, IFNAR1_IFNAR2: 2.232:  22%|▏| 2240/10240 [29:14<1:44:"
     ]
    },
    {
     "name": "stdout",
     "output_type": "stream",
     "text": [
      "mean_rec: 1.295, mean_batch: 0.109\n"
     ]
    },
    {
     "name": "stderr",
     "output_type": "stream",
     "text": [
      "loss: 57557.905, IFNA1_to_random: 3.762, IFNAR1_IFNAR2: 2.234:  22%|▏| 2272/10240 [29:39<1:43:"
     ]
    },
    {
     "name": "stdout",
     "output_type": "stream",
     "text": [
      "mean_rec: 1.311, mean_batch: 0.109\n"
     ]
    },
    {
     "name": "stderr",
     "output_type": "stream",
     "text": [
      "loss: 54999.389, IFNA1_to_random: 3.781, IFNAR1_IFNAR2: 2.238:  22%|▏| 2304/10240 [30:04<1:43:"
     ]
    },
    {
     "name": "stdout",
     "output_type": "stream",
     "text": [
      "mean_rec: 1.273, mean_batch: 0.108\n"
     ]
    },
    {
     "name": "stderr",
     "output_type": "stream",
     "text": [
      "loss: 54969.685, IFNA1_to_random: 3.794, IFNAR1_IFNAR2: 2.241:  23%|▏| 2336/10240 [30:29<1:42:"
     ]
    },
    {
     "name": "stdout",
     "output_type": "stream",
     "text": [
      "mean_rec: 1.262, mean_batch: 0.109\n"
     ]
    },
    {
     "name": "stderr",
     "output_type": "stream",
     "text": [
      "loss: 55277.182, IFNA1_to_random: 3.793, IFNAR1_IFNAR2: 2.244:  23%|▏| 2368/10240 [30:54<1:42:"
     ]
    },
    {
     "name": "stdout",
     "output_type": "stream",
     "text": [
      "mean_rec: 1.253, mean_batch: 0.109\n"
     ]
    },
    {
     "name": "stderr",
     "output_type": "stream",
     "text": [
      "loss: 54803.644, IFNA1_to_random: 3.787, IFNAR1_IFNAR2: 2.243:  23%|▏| 2400/10240 [31:19<1:42:"
     ]
    },
    {
     "name": "stdout",
     "output_type": "stream",
     "text": [
      "mean_rec: 1.289, mean_batch: 0.108\n"
     ]
    },
    {
     "name": "stderr",
     "output_type": "stream",
     "text": [
      "loss: 54182.186, IFNA1_to_random: 3.763, IFNAR1_IFNAR2: 2.243:  24%|▏| 2432/10240 [31:44<1:41:"
     ]
    },
    {
     "name": "stdout",
     "output_type": "stream",
     "text": [
      "mean_rec: 1.292, mean_batch: 0.108\n"
     ]
    },
    {
     "name": "stderr",
     "output_type": "stream",
     "text": [
      "loss: 54702.500, IFNA1_to_random: 3.810, IFNAR1_IFNAR2: 2.241:  24%|▏| 2464/10240 [32:09<1:41:"
     ]
    },
    {
     "name": "stdout",
     "output_type": "stream",
     "text": [
      "mean_rec: 1.271, mean_batch: 0.109\n"
     ]
    },
    {
     "name": "stderr",
     "output_type": "stream",
     "text": [
      "loss: 54291.775, IFNA1_to_random: 3.790, IFNAR1_IFNAR2: 2.241:  24%|▏| 2496/10240 [32:34<1:40:"
     ]
    },
    {
     "name": "stdout",
     "output_type": "stream",
     "text": [
      "mean_rec: 1.294, mean_batch: 0.108\n"
     ]
    },
    {
     "name": "stderr",
     "output_type": "stream",
     "text": [
      "loss: 54965.804, IFNA1_to_random: 3.749, IFNAR1_IFNAR2: 2.239:  25%|▏| 2528/10240 [32:59<1:40:"
     ]
    },
    {
     "name": "stdout",
     "output_type": "stream",
     "text": [
      "mean_rec: 1.261, mean_batch: 0.109\n"
     ]
    },
    {
     "name": "stderr",
     "output_type": "stream",
     "text": [
      "loss: 54053.206, IFNA1_to_random: 3.792, IFNAR1_IFNAR2: 2.239:  25%|▎| 2560/10240 [33:24<1:40:"
     ]
    },
    {
     "name": "stdout",
     "output_type": "stream",
     "text": [
      "mean_rec: 1.291, mean_batch: 0.108\n"
     ]
    },
    {
     "name": "stderr",
     "output_type": "stream",
     "text": [
      "loss: 55063.033, IFNA1_to_random: 3.771, IFNAR1_IFNAR2: 2.241:  25%|▎| 2592/10240 [33:49<1:39:"
     ]
    },
    {
     "name": "stdout",
     "output_type": "stream",
     "text": [
      "mean_rec: 1.285, mean_batch: 0.109\n"
     ]
    },
    {
     "name": "stderr",
     "output_type": "stream",
     "text": [
      "loss: 54471.795, IFNA1_to_random: 3.808, IFNAR1_IFNAR2: 2.240:  26%|▎| 2624/10240 [34:14<1:39:"
     ]
    },
    {
     "name": "stdout",
     "output_type": "stream",
     "text": [
      "mean_rec: 1.292, mean_batch: 0.108\n"
     ]
    },
    {
     "name": "stderr",
     "output_type": "stream",
     "text": [
      "loss: 54711.050, IFNA1_to_random: 3.855, IFNAR1_IFNAR2: 2.239:  26%|▎| 2656/10240 [34:39<1:38:"
     ]
    },
    {
     "name": "stdout",
     "output_type": "stream",
     "text": [
      "mean_rec: 1.282, mean_batch: 0.109\n"
     ]
    },
    {
     "name": "stderr",
     "output_type": "stream",
     "text": [
      "loss: 54749.510, IFNA1_to_random: 3.819, IFNAR1_IFNAR2: 2.240:  26%|▎| 2688/10240 [35:04<1:38:"
     ]
    },
    {
     "name": "stdout",
     "output_type": "stream",
     "text": [
      "mean_rec: 1.282, mean_batch: 0.109\n"
     ]
    },
    {
     "name": "stderr",
     "output_type": "stream",
     "text": [
      "loss: 53949.363, IFNA1_to_random: 3.749, IFNAR1_IFNAR2: 2.241:  27%|▎| 2720/10240 [35:29<1:38:"
     ]
    },
    {
     "name": "stdout",
     "output_type": "stream",
     "text": [
      "mean_rec: 1.298, mean_batch: 0.108\n"
     ]
    },
    {
     "name": "stderr",
     "output_type": "stream",
     "text": [
      "loss: 54390.107, IFNA1_to_random: 3.789, IFNAR1_IFNAR2: 2.242:  27%|▎| 2752/10240 [35:54<1:37:"
     ]
    },
    {
     "name": "stdout",
     "output_type": "stream",
     "text": [
      "mean_rec: 1.287, mean_batch: 0.108\n"
     ]
    },
    {
     "name": "stderr",
     "output_type": "stream",
     "text": [
      "loss: 55027.166, IFNA1_to_random: 3.785, IFNAR1_IFNAR2: 2.245:  27%|▎| 2784/10240 [36:19<1:37:"
     ]
    },
    {
     "name": "stdout",
     "output_type": "stream",
     "text": [
      "mean_rec: 1.272, mean_batch: 0.109\n"
     ]
    },
    {
     "name": "stderr",
     "output_type": "stream",
     "text": [
      "loss: 53443.283, IFNA1_to_random: 3.804, IFNAR1_IFNAR2: 2.248:  28%|▎| 2816/10240 [36:44<1:36:"
     ]
    },
    {
     "name": "stdout",
     "output_type": "stream",
     "text": [
      "mean_rec: 1.306, mean_batch: 0.107\n"
     ]
    },
    {
     "name": "stderr",
     "output_type": "stream",
     "text": [
      "loss: 55081.498, IFNA1_to_random: 3.778, IFNAR1_IFNAR2: 2.250:  28%|▎| 2848/10240 [37:09<1:36:"
     ]
    },
    {
     "name": "stdout",
     "output_type": "stream",
     "text": [
      "mean_rec: 1.292, mean_batch: 0.109\n"
     ]
    },
    {
     "name": "stderr",
     "output_type": "stream",
     "text": [
      "loss: 55174.985, IFNA1_to_random: 3.766, IFNAR1_IFNAR2: 2.249:  28%|▎| 2880/10240 [37:34<1:35:"
     ]
    },
    {
     "name": "stdout",
     "output_type": "stream",
     "text": [
      "mean_rec: 1.269, mean_batch: 0.109\n"
     ]
    },
    {
     "name": "stderr",
     "output_type": "stream",
     "text": [
      "loss: 55162.602, IFNA1_to_random: 3.816, IFNAR1_IFNAR2: 2.248:  28%|▎| 2912/10240 [37:59<1:35:"
     ]
    },
    {
     "name": "stdout",
     "output_type": "stream",
     "text": [
      "mean_rec: 1.298, mean_batch: 0.108\n"
     ]
    },
    {
     "name": "stderr",
     "output_type": "stream",
     "text": [
      "loss: 54818.570, IFNA1_to_random: 3.791, IFNAR1_IFNAR2: 2.248:  29%|▎| 2944/10240 [38:24<1:34:"
     ]
    },
    {
     "name": "stdout",
     "output_type": "stream",
     "text": [
      "mean_rec: 1.289, mean_batch: 0.108\n"
     ]
    },
    {
     "name": "stderr",
     "output_type": "stream",
     "text": [
      "loss: 55050.896, IFNA1_to_random: 3.837, IFNAR1_IFNAR2: 2.245:  29%|▎| 2976/10240 [38:49<1:34:"
     ]
    },
    {
     "name": "stdout",
     "output_type": "stream",
     "text": [
      "mean_rec: 1.277, mean_batch: 0.109\n"
     ]
    },
    {
     "name": "stderr",
     "output_type": "stream",
     "text": [
      "loss: 54711.701, IFNA1_to_random: 3.792, IFNAR1_IFNAR2: 2.243:  29%|▎| 3008/10240 [39:14<1:34:"
     ]
    },
    {
     "name": "stdout",
     "output_type": "stream",
     "text": [
      "mean_rec: 1.285, mean_batch: 0.109\n"
     ]
    },
    {
     "name": "stderr",
     "output_type": "stream",
     "text": [
      "loss: 54762.028, IFNA1_to_random: 3.797, IFNAR1_IFNAR2: 2.244:  30%|▎| 3040/10240 [39:39<1:33:"
     ]
    },
    {
     "name": "stdout",
     "output_type": "stream",
     "text": [
      "mean_rec: 1.269, mean_batch: 0.109\n"
     ]
    },
    {
     "name": "stderr",
     "output_type": "stream",
     "text": [
      "loss: 54239.732, IFNA1_to_random: 3.762, IFNAR1_IFNAR2: 2.245:  30%|▎| 3072/10240 [40:04<1:33:"
     ]
    },
    {
     "name": "stdout",
     "output_type": "stream",
     "text": [
      "mean_rec: 1.282, mean_batch: 0.108\n"
     ]
    },
    {
     "name": "stderr",
     "output_type": "stream",
     "text": [
      "loss: 54436.347, IFNA1_to_random: 3.797, IFNAR1_IFNAR2: 2.244:  30%|▎| 3104/10240 [40:29<1:33:"
     ]
    },
    {
     "name": "stdout",
     "output_type": "stream",
     "text": [
      "mean_rec: 1.293, mean_batch: 0.108\n"
     ]
    },
    {
     "name": "stderr",
     "output_type": "stream",
     "text": [
      "loss: 55130.610, IFNA1_to_random: 3.800, IFNAR1_IFNAR2: 2.246:  31%|▎| 3136/10240 [40:54<1:32:"
     ]
    },
    {
     "name": "stdout",
     "output_type": "stream",
     "text": [
      "mean_rec: 1.279, mean_batch: 0.109\n"
     ]
    },
    {
     "name": "stderr",
     "output_type": "stream",
     "text": [
      "loss: 54474.632, IFNA1_to_random: 3.827, IFNAR1_IFNAR2: 2.247:  31%|▎| 3168/10240 [41:19<1:32:"
     ]
    },
    {
     "name": "stdout",
     "output_type": "stream",
     "text": [
      "mean_rec: 1.299, mean_batch: 0.108\n"
     ]
    },
    {
     "name": "stderr",
     "output_type": "stream",
     "text": [
      "loss: 54029.521, IFNA1_to_random: 3.797, IFNAR1_IFNAR2: 2.245:  31%|▎| 3200/10240 [41:44<1:31:"
     ]
    },
    {
     "name": "stdout",
     "output_type": "stream",
     "text": [
      "mean_rec: 1.296, mean_batch: 0.108\n"
     ]
    },
    {
     "name": "stderr",
     "output_type": "stream",
     "text": [
      "loss: 55334.985, IFNA1_to_random: 3.814, IFNAR1_IFNAR2: 2.246:  32%|▎| 3232/10240 [42:09<1:31:"
     ]
    },
    {
     "name": "stdout",
     "output_type": "stream",
     "text": [
      "mean_rec: 1.265, mean_batch: 0.110\n"
     ]
    },
    {
     "name": "stderr",
     "output_type": "stream",
     "text": [
      "loss: 55310.269, IFNA1_to_random: 3.810, IFNAR1_IFNAR2: 2.248:  32%|▎| 3264/10240 [42:34<1:30:"
     ]
    },
    {
     "name": "stdout",
     "output_type": "stream",
     "text": [
      "mean_rec: 1.281, mean_batch: 0.109\n"
     ]
    },
    {
     "name": "stderr",
     "output_type": "stream",
     "text": [
      "loss: 54456.438, IFNA1_to_random: 3.802, IFNAR1_IFNAR2: 2.250:  32%|▎| 3296/10240 [42:59<1:30:"
     ]
    },
    {
     "name": "stdout",
     "output_type": "stream",
     "text": [
      "mean_rec: 1.283, mean_batch: 0.108\n"
     ]
    },
    {
     "name": "stderr",
     "output_type": "stream",
     "text": [
      "loss: 54085.598, IFNA1_to_random: 3.749, IFNAR1_IFNAR2: 2.252:  32%|▎| 3328/10240 [43:24<1:30:"
     ]
    },
    {
     "name": "stdout",
     "output_type": "stream",
     "text": [
      "mean_rec: 1.293, mean_batch: 0.108\n"
     ]
    },
    {
     "name": "stderr",
     "output_type": "stream",
     "text": [
      "loss: 54909.861, IFNA1_to_random: 3.795, IFNAR1_IFNAR2: 2.255:  33%|▎| 3360/10240 [43:49<1:29:"
     ]
    },
    {
     "name": "stdout",
     "output_type": "stream",
     "text": [
      "mean_rec: 1.265, mean_batch: 0.109\n"
     ]
    },
    {
     "name": "stderr",
     "output_type": "stream",
     "text": [
      "loss: 54738.576, IFNA1_to_random: 3.775, IFNAR1_IFNAR2: 2.253:  33%|▎| 3392/10240 [44:14<1:29:"
     ]
    },
    {
     "name": "stdout",
     "output_type": "stream",
     "text": [
      "mean_rec: 1.275, mean_batch: 0.109\n"
     ]
    },
    {
     "name": "stderr",
     "output_type": "stream",
     "text": [
      "loss: 54539.830, IFNA1_to_random: 3.776, IFNAR1_IFNAR2: 2.250:  33%|▎| 3424/10240 [44:39<1:29:"
     ]
    },
    {
     "name": "stdout",
     "output_type": "stream",
     "text": [
      "mean_rec: 1.286, mean_batch: 0.108\n"
     ]
    },
    {
     "name": "stderr",
     "output_type": "stream",
     "text": [
      "loss: 56730.977, IFNA1_to_random: 3.805, IFNAR1_IFNAR2: 2.250:  34%|▎| 3456/10240 [45:05<1:28:"
     ]
    },
    {
     "name": "stdout",
     "output_type": "stream",
     "text": [
      "mean_rec: 1.272, mean_batch: 0.110\n"
     ]
    },
    {
     "name": "stderr",
     "output_type": "stream",
     "text": [
      "loss: 54533.117, IFNA1_to_random: 3.768, IFNAR1_IFNAR2: 2.251:  34%|▎| 3488/10240 [45:30<1:28:"
     ]
    },
    {
     "name": "stdout",
     "output_type": "stream",
     "text": [
      "mean_rec: 1.301, mean_batch: 0.107\n"
     ]
    },
    {
     "name": "stderr",
     "output_type": "stream",
     "text": [
      "loss: 53893.971, IFNA1_to_random: 3.758, IFNAR1_IFNAR2: 2.252:  34%|▎| 3520/10240 [45:55<1:27:"
     ]
    },
    {
     "name": "stdout",
     "output_type": "stream",
     "text": [
      "mean_rec: 1.299, mean_batch: 0.108\n"
     ]
    },
    {
     "name": "stderr",
     "output_type": "stream",
     "text": [
      "loss: 54064.531, IFNA1_to_random: 3.826, IFNAR1_IFNAR2: 2.251:  35%|▎| 3552/10240 [46:20<1:27:"
     ]
    },
    {
     "name": "stdout",
     "output_type": "stream",
     "text": [
      "mean_rec: 1.290, mean_batch: 0.108\n"
     ]
    },
    {
     "name": "stderr",
     "output_type": "stream",
     "text": [
      "loss: 54534.931, IFNA1_to_random: 3.761, IFNAR1_IFNAR2: 2.251:  35%|▎| 3584/10240 [46:45<1:26:"
     ]
    },
    {
     "name": "stdout",
     "output_type": "stream",
     "text": [
      "mean_rec: 1.276, mean_batch: 0.109\n"
     ]
    },
    {
     "name": "stderr",
     "output_type": "stream",
     "text": [
      "loss: 54452.372, IFNA1_to_random: 3.761, IFNAR1_IFNAR2: 2.249:  35%|▎| 3616/10240 [47:10<1:26:"
     ]
    },
    {
     "name": "stdout",
     "output_type": "stream",
     "text": [
      "mean_rec: 1.280, mean_batch: 0.108\n"
     ]
    },
    {
     "name": "stderr",
     "output_type": "stream",
     "text": [
      "loss: 53287.777, IFNA1_to_random: 3.826, IFNAR1_IFNAR2: 2.251:  36%|▎| 3648/10240 [47:35<1:25:"
     ]
    },
    {
     "name": "stdout",
     "output_type": "stream",
     "text": [
      "mean_rec: 1.323, mean_batch: 0.107\n"
     ]
    },
    {
     "name": "stderr",
     "output_type": "stream",
     "text": [
      "loss: 53916.413, IFNA1_to_random: 3.773, IFNAR1_IFNAR2: 2.249:  36%|▎| 3680/10240 [48:00<1:25:"
     ]
    },
    {
     "name": "stdout",
     "output_type": "stream",
     "text": [
      "mean_rec: 1.295, mean_batch: 0.108\n"
     ]
    },
    {
     "name": "stderr",
     "output_type": "stream",
     "text": [
      "loss: 54715.641, IFNA1_to_random: 3.767, IFNAR1_IFNAR2: 2.248:  36%|▎| 3712/10240 [48:25<1:25:"
     ]
    },
    {
     "name": "stdout",
     "output_type": "stream",
     "text": [
      "mean_rec: 1.279, mean_batch: 0.109\n"
     ]
    },
    {
     "name": "stderr",
     "output_type": "stream",
     "text": [
      "loss: 54812.560, IFNA1_to_random: 3.739, IFNAR1_IFNAR2: 2.248:  37%|▎| 3744/10240 [48:50<1:24:"
     ]
    },
    {
     "name": "stdout",
     "output_type": "stream",
     "text": [
      "mean_rec: 1.299, mean_batch: 0.108\n"
     ]
    },
    {
     "name": "stderr",
     "output_type": "stream",
     "text": [
      "loss: 55120.795, IFNA1_to_random: 3.801, IFNAR1_IFNAR2: 2.250:  37%|▎| 3776/10240 [49:15<1:24:"
     ]
    },
    {
     "name": "stdout",
     "output_type": "stream",
     "text": [
      "mean_rec: 1.279, mean_batch: 0.109\n"
     ]
    },
    {
     "name": "stderr",
     "output_type": "stream",
     "text": [
      "loss: 54473.852, IFNA1_to_random: 3.799, IFNAR1_IFNAR2: 2.252:  37%|▎| 3808/10240 [49:40<1:23:"
     ]
    },
    {
     "name": "stdout",
     "output_type": "stream",
     "text": [
      "mean_rec: 1.283, mean_batch: 0.108\n"
     ]
    },
    {
     "name": "stderr",
     "output_type": "stream",
     "text": [
      "loss: 55106.491, IFNA1_to_random: 3.797, IFNAR1_IFNAR2: 2.251:  38%|▍| 3840/10240 [50:05<1:23:"
     ]
    },
    {
     "name": "stdout",
     "output_type": "stream",
     "text": [
      "mean_rec: 1.265, mean_batch: 0.109\n"
     ]
    },
    {
     "name": "stderr",
     "output_type": "stream",
     "text": [
      "loss: 53998.741, IFNA1_to_random: 3.792, IFNAR1_IFNAR2: 2.248:  38%|▍| 3872/10240 [50:30<1:22:"
     ]
    },
    {
     "name": "stdout",
     "output_type": "stream",
     "text": [
      "mean_rec: 1.297, mean_batch: 0.108\n"
     ]
    },
    {
     "name": "stderr",
     "output_type": "stream",
     "text": [
      "loss: 54497.699, IFNA1_to_random: 3.789, IFNAR1_IFNAR2: 2.248:  38%|▍| 3904/10240 [50:55<1:22:"
     ]
    },
    {
     "name": "stdout",
     "output_type": "stream",
     "text": [
      "mean_rec: 1.284, mean_batch: 0.109\n"
     ]
    },
    {
     "name": "stderr",
     "output_type": "stream",
     "text": [
      "loss: 53978.512, IFNA1_to_random: 3.789, IFNAR1_IFNAR2: 2.250:  38%|▍| 3936/10240 [51:20<1:22:"
     ]
    },
    {
     "name": "stdout",
     "output_type": "stream",
     "text": [
      "mean_rec: 1.298, mean_batch: 0.108\n"
     ]
    },
    {
     "name": "stderr",
     "output_type": "stream",
     "text": [
      "loss: 54371.025, IFNA1_to_random: 3.816, IFNAR1_IFNAR2: 2.251:  39%|▍| 3968/10240 [51:45<1:21:"
     ]
    },
    {
     "name": "stdout",
     "output_type": "stream",
     "text": [
      "mean_rec: 1.286, mean_batch: 0.108\n"
     ]
    },
    {
     "name": "stderr",
     "output_type": "stream",
     "text": [
      "loss: 54869.764, IFNA1_to_random: 3.753, IFNAR1_IFNAR2: 2.254:  39%|▍| 4000/10240 [52:10<1:21:"
     ]
    },
    {
     "name": "stdout",
     "output_type": "stream",
     "text": [
      "mean_rec: 1.285, mean_batch: 0.109\n"
     ]
    },
    {
     "name": "stderr",
     "output_type": "stream",
     "text": [
      "loss: 53901.424, IFNA1_to_random: 3.785, IFNAR1_IFNAR2: 2.258:  39%|▍| 4032/10240 [52:35<1:20:"
     ]
    },
    {
     "name": "stdout",
     "output_type": "stream",
     "text": [
      "mean_rec: 1.306, mean_batch: 0.108\n"
     ]
    },
    {
     "name": "stderr",
     "output_type": "stream",
     "text": [
      "loss: 54710.180, IFNA1_to_random: 3.789, IFNAR1_IFNAR2: 2.260:  40%|▍| 4064/10240 [53:00<1:20:"
     ]
    },
    {
     "name": "stdout",
     "output_type": "stream",
     "text": [
      "mean_rec: 1.290, mean_batch: 0.108\n"
     ]
    },
    {
     "name": "stderr",
     "output_type": "stream",
     "text": [
      "loss: 54365.762, IFNA1_to_random: 3.777, IFNAR1_IFNAR2: 2.261:  40%|▍| 4096/10240 [53:26<1:20:"
     ]
    },
    {
     "name": "stdout",
     "output_type": "stream",
     "text": [
      "mean_rec: 1.292, mean_batch: 0.108\n"
     ]
    },
    {
     "name": "stderr",
     "output_type": "stream",
     "text": [
      "loss: 54583.818, IFNA1_to_random: 3.829, IFNAR1_IFNAR2: 2.259:  40%|▍| 4128/10240 [53:51<1:19:"
     ]
    },
    {
     "name": "stdout",
     "output_type": "stream",
     "text": [
      "mean_rec: 1.279, mean_batch: 0.109\n"
     ]
    },
    {
     "name": "stderr",
     "output_type": "stream",
     "text": [
      "loss: 54907.841, IFNA1_to_random: 3.803, IFNAR1_IFNAR2: 2.255:  41%|▍| 4160/10240 [54:16<1:19:"
     ]
    },
    {
     "name": "stdout",
     "output_type": "stream",
     "text": [
      "mean_rec: 1.280, mean_batch: 0.109\n"
     ]
    },
    {
     "name": "stderr",
     "output_type": "stream",
     "text": [
      "loss: 54502.559, IFNA1_to_random: 3.815, IFNAR1_IFNAR2: 2.256:  41%|▍| 4192/10240 [54:41<1:18:"
     ]
    },
    {
     "name": "stdout",
     "output_type": "stream",
     "text": [
      "mean_rec: 1.283, mean_batch: 0.109\n"
     ]
    },
    {
     "name": "stderr",
     "output_type": "stream",
     "text": [
      "loss: 54278.479, IFNA1_to_random: 3.794, IFNAR1_IFNAR2: 2.257:  41%|▍| 4224/10240 [55:06<1:18:"
     ]
    },
    {
     "name": "stdout",
     "output_type": "stream",
     "text": [
      "mean_rec: 1.293, mean_batch: 0.108\n"
     ]
    },
    {
     "name": "stderr",
     "output_type": "stream",
     "text": [
      "loss: 54070.595, IFNA1_to_random: 3.806, IFNAR1_IFNAR2: 2.255:  42%|▍| 4256/10240 [55:31<1:18:"
     ]
    },
    {
     "name": "stdout",
     "output_type": "stream",
     "text": [
      "mean_rec: 1.289, mean_batch: 0.108\n"
     ]
    },
    {
     "name": "stderr",
     "output_type": "stream",
     "text": [
      "loss: 54481.210, IFNA1_to_random: 3.824, IFNAR1_IFNAR2: 2.255:  42%|▍| 4288/10240 [55:56<1:17:"
     ]
    },
    {
     "name": "stdout",
     "output_type": "stream",
     "text": [
      "mean_rec: 1.282, mean_batch: 0.109\n"
     ]
    },
    {
     "name": "stderr",
     "output_type": "stream",
     "text": [
      "loss: 55565.174, IFNA1_to_random: 3.788, IFNAR1_IFNAR2: 2.255:  42%|▍| 4320/10240 [56:21<1:17:"
     ]
    },
    {
     "name": "stdout",
     "output_type": "stream",
     "text": [
      "mean_rec: 1.279, mean_batch: 0.109\n"
     ]
    },
    {
     "name": "stderr",
     "output_type": "stream",
     "text": [
      "loss: 56278.611, IFNA1_to_random: 3.800, IFNAR1_IFNAR2: 2.256:  42%|▍| 4352/10240 [56:46<1:16:"
     ]
    },
    {
     "name": "stdout",
     "output_type": "stream",
     "text": [
      "mean_rec: 1.284, mean_batch: 0.109\n"
     ]
    },
    {
     "name": "stderr",
     "output_type": "stream",
     "text": [
      "loss: 54790.918, IFNA1_to_random: 3.762, IFNAR1_IFNAR2: 2.257:  43%|▍| 4384/10240 [57:11<1:16:"
     ]
    },
    {
     "name": "stdout",
     "output_type": "stream",
     "text": [
      "mean_rec: 1.273, mean_batch: 0.109\n"
     ]
    },
    {
     "name": "stderr",
     "output_type": "stream",
     "text": [
      "loss: 54168.682, IFNA1_to_random: 3.822, IFNAR1_IFNAR2: 2.257:  43%|▍| 4416/10240 [57:36<1:16:"
     ]
    },
    {
     "name": "stdout",
     "output_type": "stream",
     "text": [
      "mean_rec: 1.296, mean_batch: 0.108\n"
     ]
    },
    {
     "name": "stderr",
     "output_type": "stream",
     "text": [
      "loss: 53782.159, IFNA1_to_random: 3.783, IFNAR1_IFNAR2: 2.255:  43%|▍| 4448/10240 [58:01<1:15:"
     ]
    },
    {
     "name": "stdout",
     "output_type": "stream",
     "text": [
      "mean_rec: 1.297, mean_batch: 0.108\n"
     ]
    },
    {
     "name": "stderr",
     "output_type": "stream",
     "text": [
      "loss: 54068.015, IFNA1_to_random: 3.844, IFNAR1_IFNAR2: 2.256:  44%|▍| 4480/10240 [58:26<1:15:"
     ]
    },
    {
     "name": "stdout",
     "output_type": "stream",
     "text": [
      "mean_rec: 1.287, mean_batch: 0.108\n"
     ]
    },
    {
     "name": "stderr",
     "output_type": "stream",
     "text": [
      "loss: 54606.576, IFNA1_to_random: 3.821, IFNAR1_IFNAR2: 2.258:  44%|▍| 4512/10240 [58:51<1:14:"
     ]
    },
    {
     "name": "stdout",
     "output_type": "stream",
     "text": [
      "mean_rec: 1.278, mean_batch: 0.109\n"
     ]
    },
    {
     "name": "stderr",
     "output_type": "stream",
     "text": [
      "loss: 54511.285, IFNA1_to_random: 3.792, IFNAR1_IFNAR2: 2.259:  44%|▍| 4544/10240 [59:16<1:14:"
     ]
    },
    {
     "name": "stdout",
     "output_type": "stream",
     "text": [
      "mean_rec: 1.296, mean_batch: 0.108\n"
     ]
    },
    {
     "name": "stderr",
     "output_type": "stream",
     "text": [
      "loss: 54793.187, IFNA1_to_random: 3.813, IFNAR1_IFNAR2: 2.258:  45%|▍| 4576/10240 [59:41<1:13:"
     ]
    },
    {
     "name": "stdout",
     "output_type": "stream",
     "text": [
      "mean_rec: 1.286, mean_batch: 0.109\n"
     ]
    },
    {
     "name": "stderr",
     "output_type": "stream",
     "text": [
      "loss: 54139.134, IFNA1_to_random: 3.803, IFNAR1_IFNAR2: 2.256:  45%|▍| 4608/10240 [1:00:06<1:1"
     ]
    },
    {
     "name": "stdout",
     "output_type": "stream",
     "text": [
      "mean_rec: 1.287, mean_batch: 0.108\n"
     ]
    },
    {
     "name": "stderr",
     "output_type": "stream",
     "text": [
      "loss: 54951.888, IFNA1_to_random: 3.784, IFNAR1_IFNAR2: 2.256:  45%|▍| 4640/10240 [1:00:31<1:1"
     ]
    },
    {
     "name": "stdout",
     "output_type": "stream",
     "text": [
      "mean_rec: 1.281, mean_batch: 0.108\n"
     ]
    },
    {
     "name": "stderr",
     "output_type": "stream",
     "text": [
      "loss: 55878.748, IFNA1_to_random: 3.843, IFNAR1_IFNAR2: 2.253:  46%|▍| 4672/10240 [1:00:56<1:1"
     ]
    },
    {
     "name": "stdout",
     "output_type": "stream",
     "text": [
      "mean_rec: 1.280, mean_batch: 0.109\n"
     ]
    },
    {
     "name": "stderr",
     "output_type": "stream",
     "text": [
      "loss: 55742.067, IFNA1_to_random: 3.775, IFNAR1_IFNAR2: 2.254:  46%|▍| 4704/10240 [1:01:21<1:1"
     ]
    },
    {
     "name": "stdout",
     "output_type": "stream",
     "text": [
      "mean_rec: 1.260, mean_batch: 0.110\n"
     ]
    },
    {
     "name": "stderr",
     "output_type": "stream",
     "text": [
      "loss: 55010.042, IFNA1_to_random: 3.806, IFNAR1_IFNAR2: 2.256:  46%|▍| 4736/10240 [1:01:46<1:1"
     ]
    },
    {
     "name": "stdout",
     "output_type": "stream",
     "text": [
      "mean_rec: 1.259, mean_batch: 0.110\n"
     ]
    },
    {
     "name": "stderr",
     "output_type": "stream",
     "text": [
      "loss: 54144.107, IFNA1_to_random: 3.831, IFNAR1_IFNAR2: 2.258:  47%|▍| 4768/10240 [1:02:11<1:1"
     ]
    },
    {
     "name": "stdout",
     "output_type": "stream",
     "text": [
      "mean_rec: 1.279, mean_batch: 0.109\n"
     ]
    },
    {
     "name": "stderr",
     "output_type": "stream",
     "text": [
      "loss: 54469.564, IFNA1_to_random: 3.793, IFNAR1_IFNAR2: 2.258:  47%|▍| 4800/10240 [1:02:36<1:1"
     ]
    },
    {
     "name": "stdout",
     "output_type": "stream",
     "text": [
      "mean_rec: 1.282, mean_batch: 0.109\n"
     ]
    },
    {
     "name": "stderr",
     "output_type": "stream",
     "text": [
      "loss: 54845.295, IFNA1_to_random: 3.792, IFNAR1_IFNAR2: 2.256:  47%|▍| 4832/10240 [1:03:01<1:1"
     ]
    },
    {
     "name": "stdout",
     "output_type": "stream",
     "text": [
      "mean_rec: 1.259, mean_batch: 0.110\n"
     ]
    },
    {
     "name": "stderr",
     "output_type": "stream",
     "text": [
      "loss: 53900.802, IFNA1_to_random: 3.827, IFNAR1_IFNAR2: 2.255:  48%|▍| 4864/10240 [1:03:27<1:1"
     ]
    },
    {
     "name": "stdout",
     "output_type": "stream",
     "text": [
      "mean_rec: 1.298, mean_batch: 0.108\n"
     ]
    },
    {
     "name": "stderr",
     "output_type": "stream",
     "text": [
      "loss: 54795.364, IFNA1_to_random: 3.834, IFNAR1_IFNAR2: 2.258:  48%|▍| 4896/10240 [1:03:52<1:0"
     ]
    },
    {
     "name": "stdout",
     "output_type": "stream",
     "text": [
      "mean_rec: 1.305, mean_batch: 0.108\n"
     ]
    },
    {
     "name": "stderr",
     "output_type": "stream",
     "text": [
      "loss: 53988.583, IFNA1_to_random: 3.826, IFNAR1_IFNAR2: 2.259:  48%|▍| 4928/10240 [1:04:17<1:0"
     ]
    },
    {
     "name": "stdout",
     "output_type": "stream",
     "text": [
      "mean_rec: 1.300, mean_batch: 0.108\n"
     ]
    },
    {
     "name": "stderr",
     "output_type": "stream",
     "text": [
      "loss: 54565.570, IFNA1_to_random: 3.792, IFNAR1_IFNAR2: 2.259:  48%|▍| 4960/10240 [1:04:42<1:0"
     ]
    },
    {
     "name": "stdout",
     "output_type": "stream",
     "text": [
      "mean_rec: 1.272, mean_batch: 0.109\n"
     ]
    },
    {
     "name": "stderr",
     "output_type": "stream",
     "text": [
      "loss: 55196.222, IFNA1_to_random: 3.790, IFNAR1_IFNAR2: 2.256:  49%|▍| 4992/10240 [1:05:07<1:0"
     ]
    },
    {
     "name": "stdout",
     "output_type": "stream",
     "text": [
      "mean_rec: 1.258, mean_batch: 0.110\n"
     ]
    },
    {
     "name": "stderr",
     "output_type": "stream",
     "text": [
      "loss: 54269.320, IFNA1_to_random: 3.819, IFNAR1_IFNAR2: 2.254:  49%|▍| 5024/10240 [1:05:32<1:0"
     ]
    },
    {
     "name": "stdout",
     "output_type": "stream",
     "text": [
      "mean_rec: 1.286, mean_batch: 0.108\n"
     ]
    },
    {
     "name": "stderr",
     "output_type": "stream",
     "text": [
      "loss: 54267.707, IFNA1_to_random: 3.790, IFNAR1_IFNAR2: 2.254:  49%|▍| 5056/10240 [1:05:57<1:0"
     ]
    },
    {
     "name": "stdout",
     "output_type": "stream",
     "text": [
      "mean_rec: 1.287, mean_batch: 0.108\n"
     ]
    },
    {
     "name": "stderr",
     "output_type": "stream",
     "text": [
      "loss: 54453.678, IFNA1_to_random: 3.816, IFNAR1_IFNAR2: 2.254:  50%|▍| 5088/10240 [1:06:22<1:0"
     ]
    },
    {
     "name": "stdout",
     "output_type": "stream",
     "text": [
      "mean_rec: 1.282, mean_batch: 0.109\n"
     ]
    },
    {
     "name": "stderr",
     "output_type": "stream",
     "text": [
      "loss: 53799.953, IFNA1_to_random: 3.831, IFNAR1_IFNAR2: 2.252:  50%|▌| 5120/10240 [1:06:47<1:0"
     ]
    },
    {
     "name": "stdout",
     "output_type": "stream",
     "text": [
      "mean_rec: 1.300, mean_batch: 0.108\n"
     ]
    },
    {
     "name": "stderr",
     "output_type": "stream",
     "text": [
      "loss: 53865.957, IFNA1_to_random: 3.806, IFNAR1_IFNAR2: 2.250:  50%|▌| 5152/10240 [1:07:12<1:0"
     ]
    },
    {
     "name": "stdout",
     "output_type": "stream",
     "text": [
      "mean_rec: 1.294, mean_batch: 0.108\n"
     ]
    },
    {
     "name": "stderr",
     "output_type": "stream",
     "text": [
      "loss: 54873.869, IFNA1_to_random: 3.788, IFNAR1_IFNAR2: 2.254:  51%|▌| 5184/10240 [1:07:37<1:0"
     ]
    },
    {
     "name": "stdout",
     "output_type": "stream",
     "text": [
      "mean_rec: 1.268, mean_batch: 0.109\n"
     ]
    },
    {
     "name": "stderr",
     "output_type": "stream",
     "text": [
      "loss: 55111.477, IFNA1_to_random: 3.834, IFNAR1_IFNAR2: 2.259:  51%|▌| 5216/10240 [1:08:02<1:0"
     ]
    },
    {
     "name": "stdout",
     "output_type": "stream",
     "text": [
      "mean_rec: 1.271, mean_batch: 0.109\n"
     ]
    },
    {
     "name": "stderr",
     "output_type": "stream",
     "text": [
      "loss: 54274.424, IFNA1_to_random: 3.781, IFNAR1_IFNAR2: 2.256:  51%|▌| 5248/10240 [1:08:27<1:0"
     ]
    },
    {
     "name": "stdout",
     "output_type": "stream",
     "text": [
      "mean_rec: 1.284, mean_batch: 0.108\n"
     ]
    },
    {
     "name": "stderr",
     "output_type": "stream",
     "text": [
      "loss: 54511.403, IFNA1_to_random: 3.821, IFNAR1_IFNAR2: 2.256:  52%|▌| 5280/10240 [1:08:52<1:0"
     ]
    },
    {
     "name": "stdout",
     "output_type": "stream",
     "text": [
      "mean_rec: 1.280, mean_batch: 0.109\n"
     ]
    },
    {
     "name": "stderr",
     "output_type": "stream",
     "text": [
      "loss: 53792.188, IFNA1_to_random: 3.746, IFNAR1_IFNAR2: 2.257:  52%|▌| 5312/10240 [1:09:17<1:0"
     ]
    },
    {
     "name": "stdout",
     "output_type": "stream",
     "text": [
      "mean_rec: 1.297, mean_batch: 0.108\n"
     ]
    },
    {
     "name": "stderr",
     "output_type": "stream",
     "text": [
      "loss: 54795.923, IFNA1_to_random: 3.833, IFNAR1_IFNAR2: 2.259:  52%|▌| 5344/10240 [1:09:42<1:0"
     ]
    },
    {
     "name": "stdout",
     "output_type": "stream",
     "text": [
      "mean_rec: 1.269, mean_batch: 0.109\n"
     ]
    },
    {
     "name": "stderr",
     "output_type": "stream",
     "text": [
      "loss: 54681.887, IFNA1_to_random: 3.773, IFNAR1_IFNAR2: 2.258:  52%|▌| 5376/10240 [1:10:07<1:0"
     ]
    },
    {
     "name": "stdout",
     "output_type": "stream",
     "text": [
      "mean_rec: 1.275, mean_batch: 0.109\n"
     ]
    },
    {
     "name": "stderr",
     "output_type": "stream",
     "text": [
      "loss: 54499.097, IFNA1_to_random: 3.741, IFNAR1_IFNAR2: 2.259:  53%|▌| 5408/10240 [1:10:32<1:0"
     ]
    },
    {
     "name": "stdout",
     "output_type": "stream",
     "text": [
      "mean_rec: 1.277, mean_batch: 0.109\n"
     ]
    },
    {
     "name": "stderr",
     "output_type": "stream",
     "text": [
      "loss: 53137.619, IFNA1_to_random: 3.747, IFNAR1_IFNAR2: 2.259:  53%|▌| 5440/10240 [1:10:58<1:0"
     ]
    },
    {
     "name": "stdout",
     "output_type": "stream",
     "text": [
      "mean_rec: 1.321, mean_batch: 0.107\n"
     ]
    },
    {
     "name": "stderr",
     "output_type": "stream",
     "text": [
      "loss: 54276.740, IFNA1_to_random: 3.808, IFNAR1_IFNAR2: 2.261:  53%|▌| 5472/10240 [1:11:23<1:0"
     ]
    },
    {
     "name": "stdout",
     "output_type": "stream",
     "text": [
      "mean_rec: 1.294, mean_batch: 0.108\n"
     ]
    },
    {
     "name": "stderr",
     "output_type": "stream",
     "text": [
      "loss: 56377.128, IFNA1_to_random: 3.810, IFNAR1_IFNAR2: 2.261:  54%|▌| 5504/10240 [1:11:48<1:0"
     ]
    },
    {
     "name": "stdout",
     "output_type": "stream",
     "text": [
      "mean_rec: 1.258, mean_batch: 0.110\n"
     ]
    },
    {
     "name": "stderr",
     "output_type": "stream",
     "text": [
      "loss: 55510.277, IFNA1_to_random: 3.837, IFNAR1_IFNAR2: 2.260:  54%|▌| 5536/10240 [1:12:13<1:0"
     ]
    },
    {
     "name": "stdout",
     "output_type": "stream",
     "text": [
      "mean_rec: 1.287, mean_batch: 0.109\n"
     ]
    },
    {
     "name": "stderr",
     "output_type": "stream",
     "text": [
      "loss: 54067.978, IFNA1_to_random: 3.840, IFNAR1_IFNAR2: 2.260:  54%|▌| 5568/10240 [1:12:38<1:0"
     ]
    },
    {
     "name": "stdout",
     "output_type": "stream",
     "text": [
      "mean_rec: 1.287, mean_batch: 0.108\n"
     ]
    },
    {
     "name": "stderr",
     "output_type": "stream",
     "text": [
      "loss: 53958.091, IFNA1_to_random: 3.800, IFNAR1_IFNAR2: 2.258:  55%|▌| 5600/10240 [1:13:03<1:0"
     ]
    },
    {
     "name": "stdout",
     "output_type": "stream",
     "text": [
      "mean_rec: 1.291, mean_batch: 0.108\n"
     ]
    },
    {
     "name": "stderr",
     "output_type": "stream",
     "text": [
      "loss: 54934.174, IFNA1_to_random: 3.818, IFNAR1_IFNAR2: 2.257:  55%|▌| 5632/10240 [1:13:28<1:0"
     ]
    },
    {
     "name": "stdout",
     "output_type": "stream",
     "text": [
      "mean_rec: 1.270, mean_batch: 0.110\n"
     ]
    },
    {
     "name": "stderr",
     "output_type": "stream",
     "text": [
      "loss: 53384.472, IFNA1_to_random: 3.856, IFNAR1_IFNAR2: 2.255:  55%|▌| 5664/10240 [1:13:53<1:0"
     ]
    },
    {
     "name": "stdout",
     "output_type": "stream",
     "text": [
      "mean_rec: 1.322, mean_batch: 0.107\n"
     ]
    },
    {
     "name": "stderr",
     "output_type": "stream",
     "text": [
      "loss: 53804.747, IFNA1_to_random: 3.821, IFNAR1_IFNAR2: 2.255:  56%|▌| 5696/10240 [1:14:19<59:"
     ]
    },
    {
     "name": "stdout",
     "output_type": "stream",
     "text": [
      "mean_rec: 1.296, mean_batch: 0.108\n"
     ]
    },
    {
     "name": "stderr",
     "output_type": "stream",
     "text": [
      "loss: 54152.787, IFNA1_to_random: 3.770, IFNAR1_IFNAR2: 2.254:  56%|▌| 5728/10240 [1:14:44<59:"
     ]
    },
    {
     "name": "stdout",
     "output_type": "stream",
     "text": [
      "mean_rec: 1.285, mean_batch: 0.109\n"
     ]
    },
    {
     "name": "stderr",
     "output_type": "stream",
     "text": [
      "loss: 54862.301, IFNA1_to_random: 3.839, IFNAR1_IFNAR2: 2.257:  56%|▌| 5760/10240 [1:15:09<58:"
     ]
    },
    {
     "name": "stdout",
     "output_type": "stream",
     "text": [
      "mean_rec: 1.273, mean_batch: 0.109\n"
     ]
    },
    {
     "name": "stderr",
     "output_type": "stream",
     "text": [
      "loss: 54778.099, IFNA1_to_random: 3.788, IFNAR1_IFNAR2: 2.259:  57%|▌| 5792/10240 [1:15:34<58:"
     ]
    },
    {
     "name": "stdout",
     "output_type": "stream",
     "text": [
      "mean_rec: 1.274, mean_batch: 0.109\n"
     ]
    },
    {
     "name": "stderr",
     "output_type": "stream",
     "text": [
      "loss: 56506.514, IFNA1_to_random: 3.888, IFNAR1_IFNAR2: 2.259:  57%|▌| 5824/10240 [1:15:59<57:"
     ]
    },
    {
     "name": "stdout",
     "output_type": "stream",
     "text": [
      "mean_rec: 1.282, mean_batch: 0.110\n"
     ]
    },
    {
     "name": "stderr",
     "output_type": "stream",
     "text": [
      "loss: 54069.547, IFNA1_to_random: 3.771, IFNAR1_IFNAR2: 2.258:  57%|▌| 5856/10240 [1:16:24<57:"
     ]
    },
    {
     "name": "stdout",
     "output_type": "stream",
     "text": [
      "mean_rec: 1.306, mean_batch: 0.107\n"
     ]
    },
    {
     "name": "stderr",
     "output_type": "stream",
     "text": [
      "loss: 54883.320, IFNA1_to_random: 3.783, IFNAR1_IFNAR2: 2.261:  57%|▌| 5888/10240 [1:16:50<57:"
     ]
    },
    {
     "name": "stdout",
     "output_type": "stream",
     "text": [
      "mean_rec: 1.258, mean_batch: 0.109\n"
     ]
    },
    {
     "name": "stderr",
     "output_type": "stream",
     "text": [
      "loss: 53982.132, IFNA1_to_random: 3.871, IFNAR1_IFNAR2: 2.263:  58%|▌| 5920/10240 [1:17:15<56:"
     ]
    },
    {
     "name": "stdout",
     "output_type": "stream",
     "text": [
      "mean_rec: 1.291, mean_batch: 0.108\n"
     ]
    },
    {
     "name": "stderr",
     "output_type": "stream",
     "text": [
      "loss: 54661.888, IFNA1_to_random: 3.838, IFNAR1_IFNAR2: 2.266:  58%|▌| 5952/10240 [1:17:40<56:"
     ]
    },
    {
     "name": "stdout",
     "output_type": "stream",
     "text": [
      "mean_rec: 1.272, mean_batch: 0.109\n"
     ]
    },
    {
     "name": "stderr",
     "output_type": "stream",
     "text": [
      "loss: 55590.907, IFNA1_to_random: 3.791, IFNAR1_IFNAR2: 2.266:  58%|▌| 5984/10240 [1:18:05<55:"
     ]
    },
    {
     "name": "stdout",
     "output_type": "stream",
     "text": [
      "mean_rec: 1.269, mean_batch: 0.109\n"
     ]
    },
    {
     "name": "stderr",
     "output_type": "stream",
     "text": [
      "loss: 53876.992, IFNA1_to_random: 3.825, IFNAR1_IFNAR2: 2.270:  59%|▌| 6016/10240 [1:18:30<55:"
     ]
    },
    {
     "name": "stdout",
     "output_type": "stream",
     "text": [
      "mean_rec: 1.286, mean_batch: 0.108\n"
     ]
    },
    {
     "name": "stderr",
     "output_type": "stream",
     "text": [
      "loss: 54684.132, IFNA1_to_random: 3.832, IFNAR1_IFNAR2: 2.269:  59%|▌| 6048/10240 [1:18:55<54:"
     ]
    },
    {
     "name": "stdout",
     "output_type": "stream",
     "text": [
      "mean_rec: 1.273, mean_batch: 0.109\n"
     ]
    },
    {
     "name": "stderr",
     "output_type": "stream",
     "text": [
      "loss: 54294.013, IFNA1_to_random: 3.822, IFNAR1_IFNAR2: 2.264:  59%|▌| 6080/10240 [1:19:21<54:"
     ]
    },
    {
     "name": "stdout",
     "output_type": "stream",
     "text": [
      "mean_rec: 1.284, mean_batch: 0.108\n"
     ]
    },
    {
     "name": "stderr",
     "output_type": "stream",
     "text": [
      "loss: 53986.086, IFNA1_to_random: 3.753, IFNAR1_IFNAR2: 2.262:  60%|▌| 6112/10240 [1:19:46<54:"
     ]
    },
    {
     "name": "stdout",
     "output_type": "stream",
     "text": [
      "mean_rec: 1.292, mean_batch: 0.108\n"
     ]
    },
    {
     "name": "stderr",
     "output_type": "stream",
     "text": [
      "loss: 54212.782, IFNA1_to_random: 3.883, IFNAR1_IFNAR2: 2.265:  60%|▌| 6144/10240 [1:20:11<53:"
     ]
    },
    {
     "name": "stdout",
     "output_type": "stream",
     "text": [
      "mean_rec: 1.275, mean_batch: 0.109\n"
     ]
    },
    {
     "name": "stderr",
     "output_type": "stream",
     "text": [
      "loss: 53986.076, IFNA1_to_random: 3.824, IFNAR1_IFNAR2: 2.262:  60%|▌| 6176/10240 [1:20:36<53:"
     ]
    },
    {
     "name": "stdout",
     "output_type": "stream",
     "text": [
      "mean_rec: 1.283, mean_batch: 0.108\n"
     ]
    },
    {
     "name": "stderr",
     "output_type": "stream",
     "text": [
      "loss: 54825.024, IFNA1_to_random: 3.785, IFNAR1_IFNAR2: 2.261:  61%|▌| 6208/10240 [1:21:01<52:"
     ]
    },
    {
     "name": "stdout",
     "output_type": "stream",
     "text": [
      "mean_rec: 1.261, mean_batch: 0.109\n"
     ]
    },
    {
     "name": "stderr",
     "output_type": "stream",
     "text": [
      "loss: 54497.006, IFNA1_to_random: 3.841, IFNAR1_IFNAR2: 2.262:  61%|▌| 6240/10240 [1:21:26<52:"
     ]
    },
    {
     "name": "stdout",
     "output_type": "stream",
     "text": [
      "mean_rec: 1.285, mean_batch: 0.109\n"
     ]
    },
    {
     "name": "stderr",
     "output_type": "stream",
     "text": [
      "loss: 54576.856, IFNA1_to_random: 3.764, IFNAR1_IFNAR2: 2.261:  61%|▌| 6272/10240 [1:21:52<51:"
     ]
    },
    {
     "name": "stdout",
     "output_type": "stream",
     "text": [
      "mean_rec: 1.282, mean_batch: 0.109\n"
     ]
    },
    {
     "name": "stderr",
     "output_type": "stream",
     "text": [
      "loss: 55643.345, IFNA1_to_random: 3.842, IFNAR1_IFNAR2: 2.258:  62%|▌| 6304/10240 [1:22:17<51:"
     ]
    },
    {
     "name": "stdout",
     "output_type": "stream",
     "text": [
      "mean_rec: 1.266, mean_batch: 0.110\n"
     ]
    },
    {
     "name": "stderr",
     "output_type": "stream",
     "text": [
      "loss: 54480.079, IFNA1_to_random: 3.818, IFNAR1_IFNAR2: 2.259:  62%|▌| 6336/10240 [1:22:42<51:"
     ]
    },
    {
     "name": "stdout",
     "output_type": "stream",
     "text": [
      "mean_rec: 1.268, mean_batch: 0.108\n"
     ]
    },
    {
     "name": "stderr",
     "output_type": "stream",
     "text": [
      "loss: 53260.562, IFNA1_to_random: 3.832, IFNAR1_IFNAR2: 2.258:  62%|▌| 6368/10240 [1:23:07<50:"
     ]
    },
    {
     "name": "stdout",
     "output_type": "stream",
     "text": [
      "mean_rec: 1.309, mean_batch: 0.107\n"
     ]
    },
    {
     "name": "stderr",
     "output_type": "stream",
     "text": [
      "loss: 54121.460, IFNA1_to_random: 3.825, IFNAR1_IFNAR2: 2.256:  62%|▋| 6400/10240 [1:23:32<50:"
     ]
    },
    {
     "name": "stdout",
     "output_type": "stream",
     "text": [
      "mean_rec: 1.293, mean_batch: 0.108\n"
     ]
    },
    {
     "name": "stderr",
     "output_type": "stream",
     "text": [
      "loss: 54328.061, IFNA1_to_random: 3.778, IFNAR1_IFNAR2: 2.257:  63%|▋| 6432/10240 [1:23:57<49:"
     ]
    },
    {
     "name": "stdout",
     "output_type": "stream",
     "text": [
      "mean_rec: 1.284, mean_batch: 0.108\n"
     ]
    },
    {
     "name": "stderr",
     "output_type": "stream",
     "text": [
      "loss: 54799.524, IFNA1_to_random: 3.810, IFNAR1_IFNAR2: 2.260:  63%|▋| 6464/10240 [1:24:22<49:"
     ]
    },
    {
     "name": "stdout",
     "output_type": "stream",
     "text": [
      "mean_rec: 1.276, mean_batch: 0.109\n"
     ]
    },
    {
     "name": "stderr",
     "output_type": "stream",
     "text": [
      "loss: 54953.419, IFNA1_to_random: 3.832, IFNAR1_IFNAR2: 2.259:  63%|▋| 6496/10240 [1:24:47<49:"
     ]
    },
    {
     "name": "stdout",
     "output_type": "stream",
     "text": [
      "mean_rec: 1.267, mean_batch: 0.109\n"
     ]
    },
    {
     "name": "stderr",
     "output_type": "stream",
     "text": [
      "loss: 54085.453, IFNA1_to_random: 3.816, IFNAR1_IFNAR2: 2.259:  64%|▋| 6528/10240 [1:25:12<48:"
     ]
    },
    {
     "name": "stdout",
     "output_type": "stream",
     "text": [
      "mean_rec: 1.285, mean_batch: 0.108\n"
     ]
    },
    {
     "name": "stderr",
     "output_type": "stream",
     "text": [
      "loss: 54402.224, IFNA1_to_random: 3.810, IFNAR1_IFNAR2: 2.259:  64%|▋| 6560/10240 [1:25:37<48:"
     ]
    },
    {
     "name": "stdout",
     "output_type": "stream",
     "text": [
      "mean_rec: 1.284, mean_batch: 0.109\n"
     ]
    },
    {
     "name": "stderr",
     "output_type": "stream",
     "text": [
      "loss: 54173.523, IFNA1_to_random: 3.764, IFNAR1_IFNAR2: 2.257:  64%|▋| 6592/10240 [1:26:03<47:"
     ]
    },
    {
     "name": "stdout",
     "output_type": "stream",
     "text": [
      "mean_rec: 1.285, mean_batch: 0.108\n"
     ]
    },
    {
     "name": "stderr",
     "output_type": "stream",
     "text": [
      "loss: 55202.848, IFNA1_to_random: 3.799, IFNAR1_IFNAR2: 2.256:  65%|▋| 6624/10240 [1:26:28<47:"
     ]
    },
    {
     "name": "stdout",
     "output_type": "stream",
     "text": [
      "mean_rec: 1.260, mean_batch: 0.110\n"
     ]
    },
    {
     "name": "stderr",
     "output_type": "stream",
     "text": [
      "loss: 54624.619, IFNA1_to_random: 3.790, IFNAR1_IFNAR2: 2.256:  65%|▋| 6656/10240 [1:26:53<46:"
     ]
    },
    {
     "name": "stdout",
     "output_type": "stream",
     "text": [
      "mean_rec: 1.270, mean_batch: 0.109\n"
     ]
    },
    {
     "name": "stderr",
     "output_type": "stream",
     "text": [
      "loss: 53799.141, IFNA1_to_random: 3.855, IFNAR1_IFNAR2: 2.256:  65%|▋| 6688/10240 [1:27:18<46:"
     ]
    },
    {
     "name": "stdout",
     "output_type": "stream",
     "text": [
      "mean_rec: 1.295, mean_batch: 0.108\n"
     ]
    },
    {
     "name": "stderr",
     "output_type": "stream",
     "text": [
      "loss: 54632.226, IFNA1_to_random: 3.876, IFNAR1_IFNAR2: 2.255:  66%|▋| 6720/10240 [1:27:43<46:"
     ]
    },
    {
     "name": "stdout",
     "output_type": "stream",
     "text": [
      "mean_rec: 1.272, mean_batch: 0.109\n"
     ]
    },
    {
     "name": "stderr",
     "output_type": "stream",
     "text": [
      "loss: 54566.643, IFNA1_to_random: 3.801, IFNAR1_IFNAR2: 2.256:  66%|▋| 6752/10240 [1:28:08<45:"
     ]
    },
    {
     "name": "stdout",
     "output_type": "stream",
     "text": [
      "mean_rec: 1.290, mean_batch: 0.108\n"
     ]
    },
    {
     "name": "stderr",
     "output_type": "stream",
     "text": [
      "loss: 54711.337, IFNA1_to_random: 3.777, IFNAR1_IFNAR2: 2.258:  66%|▋| 6784/10240 [1:28:33<45:"
     ]
    },
    {
     "name": "stdout",
     "output_type": "stream",
     "text": [
      "mean_rec: 1.269, mean_batch: 0.109\n"
     ]
    },
    {
     "name": "stderr",
     "output_type": "stream",
     "text": [
      "loss: 54103.408, IFNA1_to_random: 3.821, IFNAR1_IFNAR2: 2.261:  67%|▋| 6816/10240 [1:28:58<44:"
     ]
    },
    {
     "name": "stdout",
     "output_type": "stream",
     "text": [
      "mean_rec: 1.290, mean_batch: 0.108\n"
     ]
    },
    {
     "name": "stderr",
     "output_type": "stream",
     "text": [
      "loss: 53613.763, IFNA1_to_random: 3.824, IFNAR1_IFNAR2: 2.260:  67%|▋| 6848/10240 [1:29:23<44:"
     ]
    },
    {
     "name": "stdout",
     "output_type": "stream",
     "text": [
      "mean_rec: 1.300, mean_batch: 0.108\n"
     ]
    },
    {
     "name": "stderr",
     "output_type": "stream",
     "text": [
      "loss: 54878.734, IFNA1_to_random: 3.818, IFNAR1_IFNAR2: 2.261:  67%|▋| 6880/10240 [1:29:48<44:"
     ]
    },
    {
     "name": "stdout",
     "output_type": "stream",
     "text": [
      "mean_rec: 1.279, mean_batch: 0.109\n"
     ]
    },
    {
     "name": "stderr",
     "output_type": "stream",
     "text": [
      "loss: 54203.741, IFNA1_to_random: 3.854, IFNAR1_IFNAR2: 2.262:  68%|▋| 6912/10240 [1:30:13<43:"
     ]
    },
    {
     "name": "stdout",
     "output_type": "stream",
     "text": [
      "mean_rec: 1.290, mean_batch: 0.109\n"
     ]
    },
    {
     "name": "stderr",
     "output_type": "stream",
     "text": [
      "loss: 55246.728, IFNA1_to_random: 3.847, IFNAR1_IFNAR2: 2.260:  68%|▋| 6944/10240 [1:30:38<43:"
     ]
    },
    {
     "name": "stdout",
     "output_type": "stream",
     "text": [
      "mean_rec: 1.251, mean_batch: 0.110\n"
     ]
    },
    {
     "name": "stderr",
     "output_type": "stream",
     "text": [
      "loss: 54584.033, IFNA1_to_random: 3.817, IFNAR1_IFNAR2: 2.260:  68%|▋| 6976/10240 [1:31:04<42:"
     ]
    },
    {
     "name": "stdout",
     "output_type": "stream",
     "text": [
      "mean_rec: 1.269, mean_batch: 0.109\n"
     ]
    },
    {
     "name": "stderr",
     "output_type": "stream",
     "text": [
      "loss: 54644.343, IFNA1_to_random: 3.854, IFNAR1_IFNAR2: 2.259:  68%|▋| 7008/10240 [1:31:29<42:"
     ]
    },
    {
     "name": "stdout",
     "output_type": "stream",
     "text": [
      "mean_rec: 1.275, mean_batch: 0.109\n"
     ]
    },
    {
     "name": "stderr",
     "output_type": "stream",
     "text": [
      "loss: 54528.498, IFNA1_to_random: 3.832, IFNAR1_IFNAR2: 2.258:  69%|▋| 7040/10240 [1:31:54<41:"
     ]
    },
    {
     "name": "stdout",
     "output_type": "stream",
     "text": [
      "mean_rec: 1.302, mean_batch: 0.108\n"
     ]
    },
    {
     "name": "stderr",
     "output_type": "stream",
     "text": [
      "loss: 54323.399, IFNA1_to_random: 3.788, IFNAR1_IFNAR2: 2.257:  69%|▋| 7072/10240 [1:32:19<41:"
     ]
    },
    {
     "name": "stdout",
     "output_type": "stream",
     "text": [
      "mean_rec: 1.281, mean_batch: 0.108\n"
     ]
    },
    {
     "name": "stderr",
     "output_type": "stream",
     "text": [
      "loss: 54574.938, IFNA1_to_random: 3.821, IFNAR1_IFNAR2: 2.255:  69%|▋| 7104/10240 [1:32:44<41:"
     ]
    },
    {
     "name": "stdout",
     "output_type": "stream",
     "text": [
      "mean_rec: 1.276, mean_batch: 0.109\n"
     ]
    },
    {
     "name": "stderr",
     "output_type": "stream",
     "text": [
      "loss: 54271.132, IFNA1_to_random: 3.796, IFNAR1_IFNAR2: 2.254:  70%|▋| 7136/10240 [1:33:09<40:"
     ]
    },
    {
     "name": "stdout",
     "output_type": "stream",
     "text": [
      "mean_rec: 1.279, mean_batch: 0.109\n"
     ]
    },
    {
     "name": "stderr",
     "output_type": "stream",
     "text": [
      "loss: 54453.905, IFNA1_to_random: 3.837, IFNAR1_IFNAR2: 2.253:  70%|▋| 7168/10240 [1:33:34<40:"
     ]
    },
    {
     "name": "stdout",
     "output_type": "stream",
     "text": [
      "mean_rec: 1.275, mean_batch: 0.109\n"
     ]
    },
    {
     "name": "stderr",
     "output_type": "stream",
     "text": [
      "loss: 54286.722, IFNA1_to_random: 3.808, IFNAR1_IFNAR2: 2.252:  70%|▋| 7200/10240 [1:34:00<39:"
     ]
    },
    {
     "name": "stdout",
     "output_type": "stream",
     "text": [
      "mean_rec: 1.281, mean_batch: 0.109\n"
     ]
    },
    {
     "name": "stderr",
     "output_type": "stream",
     "text": [
      "loss: 53696.924, IFNA1_to_random: 3.774, IFNAR1_IFNAR2: 2.252:  71%|▋| 7232/10240 [1:34:25<39:"
     ]
    },
    {
     "name": "stdout",
     "output_type": "stream",
     "text": [
      "mean_rec: 1.292, mean_batch: 0.108\n"
     ]
    },
    {
     "name": "stderr",
     "output_type": "stream",
     "text": [
      "loss: 54297.785, IFNA1_to_random: 3.816, IFNAR1_IFNAR2: 2.254:  71%|▋| 7264/10240 [1:34:50<38:"
     ]
    },
    {
     "name": "stdout",
     "output_type": "stream",
     "text": [
      "mean_rec: 1.286, mean_batch: 0.109\n"
     ]
    },
    {
     "name": "stderr",
     "output_type": "stream",
     "text": [
      "loss: 54373.454, IFNA1_to_random: 3.874, IFNAR1_IFNAR2: 2.254:  71%|▋| 7296/10240 [1:35:15<38:"
     ]
    },
    {
     "name": "stdout",
     "output_type": "stream",
     "text": [
      "mean_rec: 1.283, mean_batch: 0.109\n"
     ]
    },
    {
     "name": "stderr",
     "output_type": "stream",
     "text": [
      "loss: 54998.575, IFNA1_to_random: 3.812, IFNAR1_IFNAR2: 2.256:  72%|▋| 7328/10240 [1:35:40<38:"
     ]
    },
    {
     "name": "stdout",
     "output_type": "stream",
     "text": [
      "mean_rec: 1.260, mean_batch: 0.110\n"
     ]
    },
    {
     "name": "stderr",
     "output_type": "stream",
     "text": [
      "loss: 54182.913, IFNA1_to_random: 3.762, IFNAR1_IFNAR2: 2.259:  72%|▋| 7360/10240 [1:36:05<37:"
     ]
    },
    {
     "name": "stdout",
     "output_type": "stream",
     "text": [
      "mean_rec: 1.284, mean_batch: 0.109\n"
     ]
    },
    {
     "name": "stderr",
     "output_type": "stream",
     "text": [
      "loss: 55005.866, IFNA1_to_random: 3.805, IFNAR1_IFNAR2: 2.257:  72%|▋| 7392/10240 [1:36:31<37:"
     ]
    },
    {
     "name": "stdout",
     "output_type": "stream",
     "text": [
      "mean_rec: 1.258, mean_batch: 0.110\n"
     ]
    },
    {
     "name": "stderr",
     "output_type": "stream",
     "text": [
      "loss: 54804.397, IFNA1_to_random: 3.841, IFNAR1_IFNAR2: 2.255:  72%|▋| 7424/10240 [1:36:56<36:"
     ]
    },
    {
     "name": "stdout",
     "output_type": "stream",
     "text": [
      "mean_rec: 1.291, mean_batch: 0.108\n"
     ]
    },
    {
     "name": "stderr",
     "output_type": "stream",
     "text": [
      "loss: 54898.442, IFNA1_to_random: 3.840, IFNAR1_IFNAR2: 2.256:  73%|▋| 7456/10240 [1:37:21<36:"
     ]
    },
    {
     "name": "stdout",
     "output_type": "stream",
     "text": [
      "mean_rec: 1.274, mean_batch: 0.109\n"
     ]
    },
    {
     "name": "stderr",
     "output_type": "stream",
     "text": [
      "loss: 54312.042, IFNA1_to_random: 3.828, IFNAR1_IFNAR2: 2.256:  73%|▋| 7488/10240 [1:37:46<36:"
     ]
    },
    {
     "name": "stdout",
     "output_type": "stream",
     "text": [
      "mean_rec: 1.277, mean_batch: 0.109\n"
     ]
    },
    {
     "name": "stderr",
     "output_type": "stream",
     "text": [
      "loss: 53480.540, IFNA1_to_random: 3.839, IFNAR1_IFNAR2: 2.258:  73%|▋| 7520/10240 [1:38:11<35:"
     ]
    },
    {
     "name": "stdout",
     "output_type": "stream",
     "text": [
      "mean_rec: 1.303, mean_batch: 0.108\n"
     ]
    },
    {
     "name": "stderr",
     "output_type": "stream",
     "text": [
      "loss: 54018.254, IFNA1_to_random: 3.779, IFNAR1_IFNAR2: 2.257:  74%|▋| 7552/10240 [1:38:36<35:"
     ]
    },
    {
     "name": "stdout",
     "output_type": "stream",
     "text": [
      "mean_rec: 1.284, mean_batch: 0.108\n"
     ]
    },
    {
     "name": "stderr",
     "output_type": "stream",
     "text": [
      "loss: 54357.801, IFNA1_to_random: 3.762, IFNAR1_IFNAR2: 2.256:  74%|▋| 7584/10240 [1:39:02<34:"
     ]
    },
    {
     "name": "stdout",
     "output_type": "stream",
     "text": [
      "mean_rec: 1.289, mean_batch: 0.108\n"
     ]
    },
    {
     "name": "stderr",
     "output_type": "stream",
     "text": [
      "loss: 54252.032, IFNA1_to_random: 3.817, IFNAR1_IFNAR2: 2.257:  74%|▋| 7616/10240 [1:39:27<34:"
     ]
    },
    {
     "name": "stdout",
     "output_type": "stream",
     "text": [
      "mean_rec: 1.273, mean_batch: 0.109\n"
     ]
    },
    {
     "name": "stderr",
     "output_type": "stream",
     "text": [
      "loss: 53890.216, IFNA1_to_random: 3.813, IFNAR1_IFNAR2: 2.259:  75%|▋| 7648/10240 [1:39:52<34:"
     ]
    },
    {
     "name": "stdout",
     "output_type": "stream",
     "text": [
      "mean_rec: 1.289, mean_batch: 0.108\n"
     ]
    },
    {
     "name": "stderr",
     "output_type": "stream",
     "text": [
      "loss: 53933.157, IFNA1_to_random: 3.828, IFNAR1_IFNAR2: 2.260:  75%|▊| 7680/10240 [1:40:17<33:"
     ]
    },
    {
     "name": "stdout",
     "output_type": "stream",
     "text": [
      "mean_rec: 1.290, mean_batch: 0.108\n"
     ]
    },
    {
     "name": "stderr",
     "output_type": "stream",
     "text": [
      "loss: 54150.303, IFNA1_to_random: 3.809, IFNAR1_IFNAR2: 2.262:  75%|▊| 7712/10240 [1:40:42<33:"
     ]
    },
    {
     "name": "stdout",
     "output_type": "stream",
     "text": [
      "mean_rec: 1.285, mean_batch: 0.108\n"
     ]
    },
    {
     "name": "stderr",
     "output_type": "stream",
     "text": [
      "loss: 54272.960, IFNA1_to_random: 3.792, IFNAR1_IFNAR2: 2.260:  76%|▊| 7744/10240 [1:41:07<32:"
     ]
    },
    {
     "name": "stdout",
     "output_type": "stream",
     "text": [
      "mean_rec: 1.289, mean_batch: 0.108\n"
     ]
    },
    {
     "name": "stderr",
     "output_type": "stream",
     "text": [
      "loss: 53930.767, IFNA1_to_random: 3.840, IFNAR1_IFNAR2: 2.259:  76%|▊| 7776/10240 [1:41:33<32:"
     ]
    },
    {
     "name": "stdout",
     "output_type": "stream",
     "text": [
      "mean_rec: 1.294, mean_batch: 0.108\n"
     ]
    },
    {
     "name": "stderr",
     "output_type": "stream",
     "text": [
      "loss: 54479.336, IFNA1_to_random: 3.835, IFNAR1_IFNAR2: 2.258:  76%|▊| 7808/10240 [1:41:58<31:"
     ]
    },
    {
     "name": "stdout",
     "output_type": "stream",
     "text": [
      "mean_rec: 1.282, mean_batch: 0.109\n"
     ]
    },
    {
     "name": "stderr",
     "output_type": "stream",
     "text": [
      "loss: 54678.227, IFNA1_to_random: 3.827, IFNAR1_IFNAR2: 2.257:  77%|▊| 7840/10240 [1:42:23<31:"
     ]
    },
    {
     "name": "stdout",
     "output_type": "stream",
     "text": [
      "mean_rec: 1.273, mean_batch: 0.109\n"
     ]
    },
    {
     "name": "stderr",
     "output_type": "stream",
     "text": [
      "loss: 54786.244, IFNA1_to_random: 3.871, IFNAR1_IFNAR2: 2.258:  77%|▊| 7872/10240 [1:42:48<31:"
     ]
    },
    {
     "name": "stdout",
     "output_type": "stream",
     "text": [
      "mean_rec: 1.262, mean_batch: 0.109\n"
     ]
    },
    {
     "name": "stderr",
     "output_type": "stream",
     "text": [
      "loss: 54023.109, IFNA1_to_random: 3.835, IFNAR1_IFNAR2: 2.254:  77%|▊| 7904/10240 [1:43:13<30:"
     ]
    },
    {
     "name": "stdout",
     "output_type": "stream",
     "text": [
      "mean_rec: 1.284, mean_batch: 0.109\n"
     ]
    },
    {
     "name": "stderr",
     "output_type": "stream",
     "text": [
      "loss: 53956.287, IFNA1_to_random: 3.822, IFNAR1_IFNAR2: 2.251:  78%|▊| 7936/10240 [1:43:39<30:"
     ]
    },
    {
     "name": "stdout",
     "output_type": "stream",
     "text": [
      "mean_rec: 1.299, mean_batch: 0.108\n"
     ]
    },
    {
     "name": "stderr",
     "output_type": "stream",
     "text": [
      "loss: 54116.263, IFNA1_to_random: 3.878, IFNAR1_IFNAR2: 2.249:  78%|▊| 7968/10240 [1:44:04<29:"
     ]
    },
    {
     "name": "stdout",
     "output_type": "stream",
     "text": [
      "mean_rec: 1.281, mean_batch: 0.108\n"
     ]
    },
    {
     "name": "stderr",
     "output_type": "stream",
     "text": [
      "loss: 55830.942, IFNA1_to_random: 3.840, IFNAR1_IFNAR2: 2.250:  78%|▊| 8000/10240 [1:44:29<29:"
     ]
    },
    {
     "name": "stdout",
     "output_type": "stream",
     "text": [
      "mean_rec: 1.288, mean_batch: 0.109\n"
     ]
    },
    {
     "name": "stderr",
     "output_type": "stream",
     "text": [
      "loss: 54608.398, IFNA1_to_random: 3.820, IFNAR1_IFNAR2: 2.252:  78%|▊| 8032/10240 [1:44:54<28:"
     ]
    },
    {
     "name": "stdout",
     "output_type": "stream",
     "text": [
      "mean_rec: 1.260, mean_batch: 0.109\n"
     ]
    },
    {
     "name": "stderr",
     "output_type": "stream",
     "text": [
      "loss: 54436.406, IFNA1_to_random: 3.774, IFNAR1_IFNAR2: 2.254:  79%|▊| 8064/10240 [1:45:19<28:"
     ]
    },
    {
     "name": "stdout",
     "output_type": "stream",
     "text": [
      "mean_rec: 1.269, mean_batch: 0.109\n"
     ]
    },
    {
     "name": "stderr",
     "output_type": "stream",
     "text": [
      "loss: 54208.983, IFNA1_to_random: 3.840, IFNAR1_IFNAR2: 2.255:  79%|▊| 8096/10240 [1:45:45<28:"
     ]
    },
    {
     "name": "stdout",
     "output_type": "stream",
     "text": [
      "mean_rec: 1.286, mean_batch: 0.108\n"
     ]
    },
    {
     "name": "stderr",
     "output_type": "stream",
     "text": [
      "loss: 54107.979, IFNA1_to_random: 3.819, IFNAR1_IFNAR2: 2.254:  79%|▊| 8128/10240 [1:46:10<27:"
     ]
    },
    {
     "name": "stdout",
     "output_type": "stream",
     "text": [
      "mean_rec: 1.287, mean_batch: 0.108\n"
     ]
    },
    {
     "name": "stderr",
     "output_type": "stream",
     "text": [
      "loss: 54231.188, IFNA1_to_random: 3.816, IFNAR1_IFNAR2: 2.255:  80%|▊| 8160/10240 [1:46:35<27:"
     ]
    },
    {
     "name": "stdout",
     "output_type": "stream",
     "text": [
      "mean_rec: 1.272, mean_batch: 0.109\n"
     ]
    },
    {
     "name": "stderr",
     "output_type": "stream",
     "text": [
      "loss: 54359.104, IFNA1_to_random: 3.829, IFNAR1_IFNAR2: 2.253:  80%|▊| 8192/10240 [1:47:00<26:"
     ]
    },
    {
     "name": "stdout",
     "output_type": "stream",
     "text": [
      "mean_rec: 1.266, mean_batch: 0.109\n"
     ]
    },
    {
     "name": "stderr",
     "output_type": "stream",
     "text": [
      "loss: 53492.247, IFNA1_to_random: 3.811, IFNAR1_IFNAR2: 2.253:  80%|▊| 8224/10240 [1:47:25<26:"
     ]
    },
    {
     "name": "stdout",
     "output_type": "stream",
     "text": [
      "mean_rec: 1.294, mean_batch: 0.108\n"
     ]
    },
    {
     "name": "stderr",
     "output_type": "stream",
     "text": [
      "loss: 54862.137, IFNA1_to_random: 3.785, IFNAR1_IFNAR2: 2.255:  81%|▊| 8256/10240 [1:47:51<26:"
     ]
    },
    {
     "name": "stdout",
     "output_type": "stream",
     "text": [
      "mean_rec: 1.294, mean_batch: 0.108\n"
     ]
    },
    {
     "name": "stderr",
     "output_type": "stream",
     "text": [
      "loss: 53919.021, IFNA1_to_random: 3.823, IFNAR1_IFNAR2: 2.252:  81%|▊| 8288/10240 [1:48:16<25:"
     ]
    },
    {
     "name": "stdout",
     "output_type": "stream",
     "text": [
      "mean_rec: 1.299, mean_batch: 0.108\n"
     ]
    },
    {
     "name": "stderr",
     "output_type": "stream",
     "text": [
      "loss: 53983.926, IFNA1_to_random: 3.833, IFNAR1_IFNAR2: 2.251:  81%|▊| 8320/10240 [1:48:41<25:"
     ]
    },
    {
     "name": "stdout",
     "output_type": "stream",
     "text": [
      "mean_rec: 1.284, mean_batch: 0.108\n"
     ]
    },
    {
     "name": "stderr",
     "output_type": "stream",
     "text": [
      "loss: 53496.423, IFNA1_to_random: 3.814, IFNAR1_IFNAR2: 2.250:  82%|▊| 8352/10240 [1:49:06<24:"
     ]
    },
    {
     "name": "stdout",
     "output_type": "stream",
     "text": [
      "mean_rec: 1.297, mean_batch: 0.107\n"
     ]
    },
    {
     "name": "stderr",
     "output_type": "stream",
     "text": [
      "loss: 53597.312, IFNA1_to_random: 3.804, IFNAR1_IFNAR2: 2.248:  82%|▊| 8384/10240 [1:49:31<24:"
     ]
    },
    {
     "name": "stdout",
     "output_type": "stream",
     "text": [
      "mean_rec: 1.293, mean_batch: 0.108\n"
     ]
    },
    {
     "name": "stderr",
     "output_type": "stream",
     "text": [
      "loss: 54536.167, IFNA1_to_random: 3.737, IFNAR1_IFNAR2: 2.245:  82%|▊| 8416/10240 [1:49:56<23:"
     ]
    },
    {
     "name": "stdout",
     "output_type": "stream",
     "text": [
      "mean_rec: 1.273, mean_batch: 0.109\n"
     ]
    },
    {
     "name": "stderr",
     "output_type": "stream",
     "text": [
      "loss: 54872.474, IFNA1_to_random: 3.844, IFNAR1_IFNAR2: 2.246:  82%|▊| 8448/10240 [1:50:22<23:"
     ]
    },
    {
     "name": "stdout",
     "output_type": "stream",
     "text": [
      "mean_rec: 1.272, mean_batch: 0.109\n"
     ]
    },
    {
     "name": "stderr",
     "output_type": "stream",
     "text": [
      "loss: 54916.910, IFNA1_to_random: 3.827, IFNAR1_IFNAR2: 2.247:  83%|▊| 8480/10240 [1:50:47<23:"
     ]
    },
    {
     "name": "stdout",
     "output_type": "stream",
     "text": [
      "mean_rec: 1.255, mean_batch: 0.109\n"
     ]
    },
    {
     "name": "stderr",
     "output_type": "stream",
     "text": [
      "loss: 54340.981, IFNA1_to_random: 3.815, IFNAR1_IFNAR2: 2.250:  83%|▊| 8512/10240 [1:51:12<22:"
     ]
    },
    {
     "name": "stdout",
     "output_type": "stream",
     "text": [
      "mean_rec: 1.269, mean_batch: 0.109\n"
     ]
    },
    {
     "name": "stderr",
     "output_type": "stream",
     "text": [
      "loss: 54569.174, IFNA1_to_random: 3.782, IFNAR1_IFNAR2: 2.251:  83%|▊| 8544/10240 [1:51:37<22:"
     ]
    },
    {
     "name": "stdout",
     "output_type": "stream",
     "text": [
      "mean_rec: 1.273, mean_batch: 0.109\n"
     ]
    },
    {
     "name": "stderr",
     "output_type": "stream",
     "text": [
      "loss: 53900.557, IFNA1_to_random: 3.888, IFNAR1_IFNAR2: 2.251:  84%|▊| 8576/10240 [1:52:02<21:"
     ]
    },
    {
     "name": "stdout",
     "output_type": "stream",
     "text": [
      "mean_rec: 1.286, mean_batch: 0.108\n"
     ]
    },
    {
     "name": "stderr",
     "output_type": "stream",
     "text": [
      "loss: 55052.799, IFNA1_to_random: 3.818, IFNAR1_IFNAR2: 2.250:  84%|▊| 8608/10240 [1:52:28<21:"
     ]
    },
    {
     "name": "stdout",
     "output_type": "stream",
     "text": [
      "mean_rec: 1.262, mean_batch: 0.109\n"
     ]
    },
    {
     "name": "stderr",
     "output_type": "stream",
     "text": [
      "loss: 54263.062, IFNA1_to_random: 3.788, IFNAR1_IFNAR2: 2.252:  84%|▊| 8640/10240 [1:52:53<21:"
     ]
    },
    {
     "name": "stdout",
     "output_type": "stream",
     "text": [
      "mean_rec: 1.274, mean_batch: 0.109\n"
     ]
    },
    {
     "name": "stderr",
     "output_type": "stream",
     "text": [
      "loss: 53992.393, IFNA1_to_random: 3.827, IFNAR1_IFNAR2: 2.251:  85%|▊| 8672/10240 [1:53:18<20:"
     ]
    },
    {
     "name": "stdout",
     "output_type": "stream",
     "text": [
      "mean_rec: 1.298, mean_batch: 0.108\n"
     ]
    },
    {
     "name": "stderr",
     "output_type": "stream",
     "text": [
      "loss: 53769.342, IFNA1_to_random: 3.817, IFNAR1_IFNAR2: 2.249:  85%|▊| 8704/10240 [1:53:43<20:"
     ]
    },
    {
     "name": "stdout",
     "output_type": "stream",
     "text": [
      "mean_rec: 1.292, mean_batch: 0.108\n"
     ]
    },
    {
     "name": "stderr",
     "output_type": "stream",
     "text": [
      "loss: 53860.779, IFNA1_to_random: 3.825, IFNAR1_IFNAR2: 2.247:  85%|▊| 8736/10240 [1:54:08<19:"
     ]
    },
    {
     "name": "stdout",
     "output_type": "stream",
     "text": [
      "mean_rec: 1.296, mean_batch: 0.108\n"
     ]
    },
    {
     "name": "stderr",
     "output_type": "stream",
     "text": [
      "loss: 53348.763, IFNA1_to_random: 3.783, IFNAR1_IFNAR2: 2.247:  86%|▊| 8768/10240 [1:54:34<19:"
     ]
    },
    {
     "name": "stdout",
     "output_type": "stream",
     "text": [
      "mean_rec: 1.304, mean_batch: 0.107\n"
     ]
    },
    {
     "name": "stderr",
     "output_type": "stream",
     "text": [
      "loss: 55427.910, IFNA1_to_random: 3.852, IFNAR1_IFNAR2: 2.245:  86%|▊| 8800/10240 [1:54:59<18:"
     ]
    },
    {
     "name": "stdout",
     "output_type": "stream",
     "text": [
      "mean_rec: 1.260, mean_batch: 0.110\n"
     ]
    },
    {
     "name": "stderr",
     "output_type": "stream",
     "text": [
      "loss: 54008.019, IFNA1_to_random: 3.793, IFNAR1_IFNAR2: 2.245:  86%|▊| 8832/10240 [1:55:24<18:"
     ]
    },
    {
     "name": "stdout",
     "output_type": "stream",
     "text": [
      "mean_rec: 1.280, mean_batch: 0.108\n"
     ]
    },
    {
     "name": "stderr",
     "output_type": "stream",
     "text": [
      "loss: 54892.862, IFNA1_to_random: 3.832, IFNAR1_IFNAR2: 2.246:  87%|▊| 8864/10240 [1:55:49<18:"
     ]
    },
    {
     "name": "stdout",
     "output_type": "stream",
     "text": [
      "mean_rec: 1.253, mean_batch: 0.110\n"
     ]
    },
    {
     "name": "stderr",
     "output_type": "stream",
     "text": [
      "loss: 55039.999, IFNA1_to_random: 3.869, IFNAR1_IFNAR2: 2.248:  87%|▊| 8896/10240 [1:56:14<17:"
     ]
    },
    {
     "name": "stdout",
     "output_type": "stream",
     "text": [
      "mean_rec: 1.252, mean_batch: 0.110\n"
     ]
    },
    {
     "name": "stderr",
     "output_type": "stream",
     "text": [
      "loss: 54201.549, IFNA1_to_random: 3.875, IFNAR1_IFNAR2: 2.248:  87%|▊| 8928/10240 [1:56:40<17:"
     ]
    },
    {
     "name": "stdout",
     "output_type": "stream",
     "text": [
      "mean_rec: 1.287, mean_batch: 0.108\n"
     ]
    },
    {
     "name": "stderr",
     "output_type": "stream",
     "text": [
      "loss: 53556.840, IFNA1_to_random: 3.795, IFNAR1_IFNAR2: 2.248:  88%|▉| 8960/10240 [1:57:05<16:"
     ]
    },
    {
     "name": "stdout",
     "output_type": "stream",
     "text": [
      "mean_rec: 1.298, mean_batch: 0.108\n"
     ]
    },
    {
     "name": "stderr",
     "output_type": "stream",
     "text": [
      "loss: 55158.609, IFNA1_to_random: 3.785, IFNAR1_IFNAR2: 2.247:  88%|▉| 8992/10240 [1:57:30<16:"
     ]
    },
    {
     "name": "stdout",
     "output_type": "stream",
     "text": [
      "mean_rec: 1.263, mean_batch: 0.110\n"
     ]
    },
    {
     "name": "stderr",
     "output_type": "stream",
     "text": [
      "loss: 54855.489, IFNA1_to_random: 3.823, IFNAR1_IFNAR2: 2.248:  88%|▉| 9024/10240 [1:57:55<15:"
     ]
    },
    {
     "name": "stdout",
     "output_type": "stream",
     "text": [
      "mean_rec: 1.290, mean_batch: 0.108\n"
     ]
    },
    {
     "name": "stderr",
     "output_type": "stream",
     "text": [
      "loss: 54814.212, IFNA1_to_random: 3.850, IFNAR1_IFNAR2: 2.248:  88%|▉| 9056/10240 [1:58:20<15:"
     ]
    },
    {
     "name": "stdout",
     "output_type": "stream",
     "text": [
      "mean_rec: 1.279, mean_batch: 0.108\n"
     ]
    },
    {
     "name": "stderr",
     "output_type": "stream",
     "text": [
      "loss: 54474.981, IFNA1_to_random: 3.795, IFNAR1_IFNAR2: 2.250:  89%|▉| 9088/10240 [1:58:45<15:"
     ]
    },
    {
     "name": "stdout",
     "output_type": "stream",
     "text": [
      "mean_rec: 1.279, mean_batch: 0.108\n"
     ]
    },
    {
     "name": "stderr",
     "output_type": "stream",
     "text": [
      "loss: 54567.220, IFNA1_to_random: 3.806, IFNAR1_IFNAR2: 2.248:  89%|▉| 9120/10240 [1:59:11<14:"
     ]
    },
    {
     "name": "stdout",
     "output_type": "stream",
     "text": [
      "mean_rec: 1.269, mean_batch: 0.109\n"
     ]
    },
    {
     "name": "stderr",
     "output_type": "stream",
     "text": [
      "loss: 53891.972, IFNA1_to_random: 3.837, IFNAR1_IFNAR2: 2.248:  89%|▉| 9152/10240 [1:59:36<14:"
     ]
    },
    {
     "name": "stdout",
     "output_type": "stream",
     "text": [
      "mean_rec: 1.284, mean_batch: 0.108\n"
     ]
    },
    {
     "name": "stderr",
     "output_type": "stream",
     "text": [
      "loss: 54235.956, IFNA1_to_random: 3.772, IFNAR1_IFNAR2: 2.248:  90%|▉| 9184/10240 [2:00:01<13:"
     ]
    },
    {
     "name": "stdout",
     "output_type": "stream",
     "text": [
      "mean_rec: 1.279, mean_batch: 0.109\n"
     ]
    },
    {
     "name": "stderr",
     "output_type": "stream",
     "text": [
      "loss: 54246.151, IFNA1_to_random: 3.792, IFNAR1_IFNAR2: 2.250:  90%|▉| 9216/10240 [2:00:26<13:"
     ]
    },
    {
     "name": "stdout",
     "output_type": "stream",
     "text": [
      "mean_rec: 1.280, mean_batch: 0.109\n"
     ]
    },
    {
     "name": "stderr",
     "output_type": "stream",
     "text": [
      "loss: 54429.923, IFNA1_to_random: 3.797, IFNAR1_IFNAR2: 2.252:  90%|▉| 9248/10240 [2:00:51<12:"
     ]
    },
    {
     "name": "stdout",
     "output_type": "stream",
     "text": [
      "mean_rec: 1.270, mean_batch: 0.109\n"
     ]
    },
    {
     "name": "stderr",
     "output_type": "stream",
     "text": [
      "loss: 55108.991, IFNA1_to_random: 3.830, IFNAR1_IFNAR2: 2.253:  91%|▉| 9280/10240 [2:01:16<12:"
     ]
    },
    {
     "name": "stdout",
     "output_type": "stream",
     "text": [
      "mean_rec: 1.266, mean_batch: 0.109\n"
     ]
    },
    {
     "name": "stderr",
     "output_type": "stream",
     "text": [
      "loss: 54867.497, IFNA1_to_random: 3.823, IFNAR1_IFNAR2: 2.253:  91%|▉| 9312/10240 [2:01:41<12:"
     ]
    },
    {
     "name": "stdout",
     "output_type": "stream",
     "text": [
      "mean_rec: 1.258, mean_batch: 0.109\n"
     ]
    },
    {
     "name": "stderr",
     "output_type": "stream",
     "text": [
      "loss: 54158.801, IFNA1_to_random: 3.841, IFNAR1_IFNAR2: 2.251:  91%|▉| 9344/10240 [2:02:07<11:"
     ]
    },
    {
     "name": "stdout",
     "output_type": "stream",
     "text": [
      "mean_rec: 1.280, mean_batch: 0.108\n"
     ]
    },
    {
     "name": "stderr",
     "output_type": "stream",
     "text": [
      "loss: 54313.504, IFNA1_to_random: 3.862, IFNAR1_IFNAR2: 2.250:  92%|▉| 9376/10240 [2:02:32<11:"
     ]
    },
    {
     "name": "stdout",
     "output_type": "stream",
     "text": [
      "mean_rec: 1.262, mean_batch: 0.109\n"
     ]
    },
    {
     "name": "stderr",
     "output_type": "stream",
     "text": [
      "loss: 53977.126, IFNA1_to_random: 3.808, IFNAR1_IFNAR2: 2.251:  92%|▉| 9408/10240 [2:02:57<10:"
     ]
    },
    {
     "name": "stdout",
     "output_type": "stream",
     "text": [
      "mean_rec: 1.283, mean_batch: 0.108\n"
     ]
    },
    {
     "name": "stderr",
     "output_type": "stream",
     "text": [
      "loss: 53821.329, IFNA1_to_random: 3.805, IFNAR1_IFNAR2: 2.251:  92%|▉| 9440/10240 [2:03:22<10:"
     ]
    },
    {
     "name": "stdout",
     "output_type": "stream",
     "text": [
      "mean_rec: 1.288, mean_batch: 0.108\n"
     ]
    },
    {
     "name": "stderr",
     "output_type": "stream",
     "text": [
      "loss: 53914.336, IFNA1_to_random: 3.844, IFNAR1_IFNAR2: 2.249:  92%|▉| 9472/10240 [2:03:47<10:"
     ]
    },
    {
     "name": "stdout",
     "output_type": "stream",
     "text": [
      "mean_rec: 1.286, mean_batch: 0.108\n"
     ]
    },
    {
     "name": "stderr",
     "output_type": "stream",
     "text": [
      "loss: 53607.803, IFNA1_to_random: 3.855, IFNAR1_IFNAR2: 2.248:  93%|▉| 9504/10240 [2:04:12<09:"
     ]
    },
    {
     "name": "stdout",
     "output_type": "stream",
     "text": [
      "mean_rec: 1.297, mean_batch: 0.108\n"
     ]
    },
    {
     "name": "stderr",
     "output_type": "stream",
     "text": [
      "loss: 53408.896, IFNA1_to_random: 3.805, IFNAR1_IFNAR2: 2.246:  93%|▉| 9536/10240 [2:04:38<09:"
     ]
    },
    {
     "name": "stdout",
     "output_type": "stream",
     "text": [
      "mean_rec: 1.298, mean_batch: 0.108\n"
     ]
    },
    {
     "name": "stderr",
     "output_type": "stream",
     "text": [
      "loss: 54613.277, IFNA1_to_random: 3.801, IFNAR1_IFNAR2: 2.244:  93%|▉| 9568/10240 [2:05:03<08:"
     ]
    },
    {
     "name": "stdout",
     "output_type": "stream",
     "text": [
      "mean_rec: 1.272, mean_batch: 0.109\n"
     ]
    },
    {
     "name": "stderr",
     "output_type": "stream",
     "text": [
      "loss: 53457.727, IFNA1_to_random: 3.820, IFNAR1_IFNAR2: 2.245:  94%|▉| 9600/10240 [2:05:28<08:"
     ]
    },
    {
     "name": "stdout",
     "output_type": "stream",
     "text": [
      "mean_rec: 1.307, mean_batch: 0.108\n"
     ]
    },
    {
     "name": "stderr",
     "output_type": "stream",
     "text": [
      "loss: 54461.979, IFNA1_to_random: 3.837, IFNAR1_IFNAR2: 2.245:  94%|▉| 9632/10240 [2:05:53<07:"
     ]
    },
    {
     "name": "stdout",
     "output_type": "stream",
     "text": [
      "mean_rec: 1.279, mean_batch: 0.109\n"
     ]
    },
    {
     "name": "stderr",
     "output_type": "stream",
     "text": [
      "loss: 54166.197, IFNA1_to_random: 3.769, IFNAR1_IFNAR2: 2.243:  94%|▉| 9664/10240 [2:06:18<07:"
     ]
    },
    {
     "name": "stdout",
     "output_type": "stream",
     "text": [
      "mean_rec: 1.266, mean_batch: 0.109\n"
     ]
    },
    {
     "name": "stderr",
     "output_type": "stream",
     "text": [
      "loss: 54544.969, IFNA1_to_random: 3.816, IFNAR1_IFNAR2: 2.243:  95%|▉| 9696/10240 [2:06:43<07:"
     ]
    },
    {
     "name": "stdout",
     "output_type": "stream",
     "text": [
      "mean_rec: 1.261, mean_batch: 0.109\n"
     ]
    },
    {
     "name": "stderr",
     "output_type": "stream",
     "text": [
      "loss: 54864.449, IFNA1_to_random: 3.855, IFNAR1_IFNAR2: 2.245:  95%|▉| 9728/10240 [2:07:09<06:"
     ]
    },
    {
     "name": "stdout",
     "output_type": "stream",
     "text": [
      "mean_rec: 1.272, mean_batch: 0.109\n"
     ]
    },
    {
     "name": "stderr",
     "output_type": "stream",
     "text": [
      "loss: 54266.319, IFNA1_to_random: 3.845, IFNAR1_IFNAR2: 2.244:  95%|▉| 9760/10240 [2:07:34<06:"
     ]
    },
    {
     "name": "stdout",
     "output_type": "stream",
     "text": [
      "mean_rec: 1.285, mean_batch: 0.108\n"
     ]
    },
    {
     "name": "stderr",
     "output_type": "stream",
     "text": [
      "loss: 53898.991, IFNA1_to_random: 3.812, IFNAR1_IFNAR2: 2.247:  96%|▉| 9792/10240 [2:07:59<05:"
     ]
    },
    {
     "name": "stdout",
     "output_type": "stream",
     "text": [
      "mean_rec: 1.279, mean_batch: 0.108\n"
     ]
    },
    {
     "name": "stderr",
     "output_type": "stream",
     "text": [
      "loss: 52944.882, IFNA1_to_random: 3.792, IFNAR1_IFNAR2: 2.246:  96%|▉| 9824/10240 [2:08:24<05:"
     ]
    },
    {
     "name": "stdout",
     "output_type": "stream",
     "text": [
      "mean_rec: 1.302, mean_batch: 0.107\n"
     ]
    },
    {
     "name": "stderr",
     "output_type": "stream",
     "text": [
      "loss: 54346.321, IFNA1_to_random: 3.792, IFNAR1_IFNAR2: 2.248:  96%|▉| 9856/10240 [2:08:49<05:"
     ]
    },
    {
     "name": "stdout",
     "output_type": "stream",
     "text": [
      "mean_rec: 1.273, mean_batch: 0.109\n"
     ]
    },
    {
     "name": "stderr",
     "output_type": "stream",
     "text": [
      "loss: 54259.876, IFNA1_to_random: 3.813, IFNAR1_IFNAR2: 2.248:  97%|▉| 9888/10240 [2:09:15<04:"
     ]
    },
    {
     "name": "stdout",
     "output_type": "stream",
     "text": [
      "mean_rec: 1.279, mean_batch: 0.109\n"
     ]
    },
    {
     "name": "stderr",
     "output_type": "stream",
     "text": [
      "loss: 54861.803, IFNA1_to_random: 3.765, IFNAR1_IFNAR2: 2.245:  97%|▉| 9920/10240 [2:09:40<04:"
     ]
    },
    {
     "name": "stdout",
     "output_type": "stream",
     "text": [
      "mean_rec: 1.269, mean_batch: 0.109\n"
     ]
    },
    {
     "name": "stderr",
     "output_type": "stream",
     "text": [
      "loss: 54253.774, IFNA1_to_random: 3.872, IFNAR1_IFNAR2: 2.244:  97%|▉| 9952/10240 [2:10:05<03:"
     ]
    },
    {
     "name": "stdout",
     "output_type": "stream",
     "text": [
      "mean_rec: 1.275, mean_batch: 0.109\n"
     ]
    },
    {
     "name": "stderr",
     "output_type": "stream",
     "text": [
      "loss: 53870.967, IFNA1_to_random: 3.825, IFNAR1_IFNAR2: 2.246:  98%|▉| 9984/10240 [2:10:30<03:"
     ]
    },
    {
     "name": "stdout",
     "output_type": "stream",
     "text": [
      "mean_rec: 1.279, mean_batch: 0.108\n"
     ]
    },
    {
     "name": "stderr",
     "output_type": "stream",
     "text": [
      "loss: 53525.088, IFNA1_to_random: 3.862, IFNAR1_IFNAR2: 2.247:  98%|▉| 10016/10240 [2:10:55<02"
     ]
    },
    {
     "name": "stdout",
     "output_type": "stream",
     "text": [
      "mean_rec: 1.294, mean_batch: 0.108\n"
     ]
    },
    {
     "name": "stderr",
     "output_type": "stream",
     "text": [
      "loss: 54037.428, IFNA1_to_random: 3.846, IFNAR1_IFNAR2: 2.247:  98%|▉| 10048/10240 [2:11:20<02"
     ]
    },
    {
     "name": "stdout",
     "output_type": "stream",
     "text": [
      "mean_rec: 1.276, mean_batch: 0.109\n"
     ]
    },
    {
     "name": "stderr",
     "output_type": "stream",
     "text": [
      "loss: 54327.003, IFNA1_to_random: 3.806, IFNAR1_IFNAR2: 2.246:  98%|▉| 10080/10240 [2:11:46<02"
     ]
    },
    {
     "name": "stdout",
     "output_type": "stream",
     "text": [
      "mean_rec: 1.258, mean_batch: 0.109\n"
     ]
    },
    {
     "name": "stderr",
     "output_type": "stream",
     "text": [
      "loss: 54229.671, IFNA1_to_random: 3.818, IFNAR1_IFNAR2: 2.245:  99%|▉| 10112/10240 [2:12:11<01"
     ]
    },
    {
     "name": "stdout",
     "output_type": "stream",
     "text": [
      "mean_rec: 1.281, mean_batch: 0.108\n"
     ]
    },
    {
     "name": "stderr",
     "output_type": "stream",
     "text": [
      "loss: 55107.731, IFNA1_to_random: 3.838, IFNAR1_IFNAR2: 2.248:  99%|▉| 10144/10240 [2:12:36<01"
     ]
    },
    {
     "name": "stdout",
     "output_type": "stream",
     "text": [
      "mean_rec: 1.298, mean_batch: 0.108\n"
     ]
    },
    {
     "name": "stderr",
     "output_type": "stream",
     "text": [
      "loss: 54461.580, IFNA1_to_random: 3.799, IFNAR1_IFNAR2: 2.249:  99%|▉| 10176/10240 [2:13:01<00"
     ]
    },
    {
     "name": "stdout",
     "output_type": "stream",
     "text": [
      "mean_rec: 1.263, mean_batch: 0.109\n"
     ]
    },
    {
     "name": "stderr",
     "output_type": "stream",
     "text": [
      "loss: 54473.476, IFNA1_to_random: 3.823, IFNAR1_IFNAR2: 2.250: 100%|▉| 10208/10240 [2:13:26<00"
     ]
    },
    {
     "name": "stdout",
     "output_type": "stream",
     "text": [
      "mean_rec: 1.260, mean_batch: 0.109\n"
     ]
    },
    {
     "name": "stderr",
     "output_type": "stream",
     "text": [
      "loss: 53376.650, IFNA1_to_random: 3.808, IFNAR1_IFNAR2: 2.249: 100%|█| 10240/10240 [2:13:51<00\n"
     ]
    },
    {
     "name": "stdout",
     "output_type": "stream",
     "text": [
      "mean_rec: 1.268, mean_batch: 0.109\n"
     ]
    },
    {
     "name": "stderr",
     "output_type": "stream",
     "text": [
      "loss: 53359.417, IFNA1_to_random: 3.830, IFNAR1_IFNAR2: 2.251:   0%| | 32/10240 [00:25<2:13:56"
     ]
    },
    {
     "name": "stdout",
     "output_type": "stream",
     "text": [
      "mean_rec: 1.296, mean_batch: 0.108\n"
     ]
    },
    {
     "name": "stderr",
     "output_type": "stream",
     "text": [
      "loss: 54550.976, IFNA1_to_random: 3.836, IFNAR1_IFNAR2: 2.248:   1%| | 64/10240 [00:50<2:13:19"
     ]
    },
    {
     "name": "stdout",
     "output_type": "stream",
     "text": [
      "mean_rec: 1.270, mean_batch: 0.109\n"
     ]
    },
    {
     "name": "stderr",
     "output_type": "stream",
     "text": [
      "loss: 53935.513, IFNA1_to_random: 3.809, IFNAR1_IFNAR2: 2.248:   1%| | 96/10240 [01:15<2:13:10"
     ]
    },
    {
     "name": "stdout",
     "output_type": "stream",
     "text": [
      "mean_rec: 1.288, mean_batch: 0.109\n"
     ]
    },
    {
     "name": "stderr",
     "output_type": "stream",
     "text": [
      "loss: 53652.060, IFNA1_to_random: 3.800, IFNAR1_IFNAR2: 2.250:   1%| | 128/10240 [01:40<2:12:1"
     ]
    },
    {
     "name": "stdout",
     "output_type": "stream",
     "text": [
      "mean_rec: 1.294, mean_batch: 0.108\n"
     ]
    },
    {
     "name": "stderr",
     "output_type": "stream",
     "text": [
      "loss: 53846.269, IFNA1_to_random: 3.853, IFNAR1_IFNAR2: 2.248:   2%| | 160/10240 [02:05<2:12:1"
     ]
    },
    {
     "name": "stdout",
     "output_type": "stream",
     "text": [
      "mean_rec: 1.290, mean_batch: 0.108\n"
     ]
    },
    {
     "name": "stderr",
     "output_type": "stream",
     "text": [
      "loss: 53946.297, IFNA1_to_random: 3.831, IFNAR1_IFNAR2: 2.248:   2%| | 192/10240 [02:31<2:11:5"
     ]
    },
    {
     "name": "stdout",
     "output_type": "stream",
     "text": [
      "mean_rec: 1.279, mean_batch: 0.109\n"
     ]
    },
    {
     "name": "stderr",
     "output_type": "stream",
     "text": [
      "loss: 53735.642, IFNA1_to_random: 3.799, IFNAR1_IFNAR2: 2.249:   2%| | 224/10240 [02:56<2:11:0"
     ]
    },
    {
     "name": "stdout",
     "output_type": "stream",
     "text": [
      "mean_rec: 1.293, mean_batch: 0.108\n"
     ]
    },
    {
     "name": "stderr",
     "output_type": "stream",
     "text": [
      "loss: 53867.284, IFNA1_to_random: 3.829, IFNAR1_IFNAR2: 2.250:   2%| | 256/10240 [03:21<2:10:4"
     ]
    },
    {
     "name": "stdout",
     "output_type": "stream",
     "text": [
      "mean_rec: 1.282, mean_batch: 0.108\n"
     ]
    },
    {
     "name": "stderr",
     "output_type": "stream",
     "text": [
      "loss: 54758.364, IFNA1_to_random: 3.865, IFNAR1_IFNAR2: 2.253:   3%| | 288/10240 [03:46<2:10:4"
     ]
    },
    {
     "name": "stdout",
     "output_type": "stream",
     "text": [
      "mean_rec: 1.277, mean_batch: 0.109\n"
     ]
    },
    {
     "name": "stderr",
     "output_type": "stream",
     "text": [
      "loss: 54311.180, IFNA1_to_random: 3.837, IFNAR1_IFNAR2: 2.257:   3%| | 320/10240 [04:11<2:10:0"
     ]
    },
    {
     "name": "stdout",
     "output_type": "stream",
     "text": [
      "mean_rec: 1.268, mean_batch: 0.109\n"
     ]
    },
    {
     "name": "stderr",
     "output_type": "stream",
     "text": [
      "loss: 55157.507, IFNA1_to_random: 3.846, IFNAR1_IFNAR2: 2.257:   3%| | 352/10240 [04:37<2:09:5"
     ]
    },
    {
     "name": "stdout",
     "output_type": "stream",
     "text": [
      "mean_rec: 1.252, mean_batch: 0.110\n"
     ]
    },
    {
     "name": "stderr",
     "output_type": "stream",
     "text": [
      "loss: 53903.493, IFNA1_to_random: 3.746, IFNAR1_IFNAR2: 2.259:   4%| | 384/10240 [05:02<2:09:3"
     ]
    },
    {
     "name": "stdout",
     "output_type": "stream",
     "text": [
      "mean_rec: 1.291, mean_batch: 0.108\n"
     ]
    },
    {
     "name": "stderr",
     "output_type": "stream",
     "text": [
      "loss: 54915.533, IFNA1_to_random: 3.781, IFNAR1_IFNAR2: 2.255:   4%| | 416/10240 [05:27<2:08:4"
     ]
    },
    {
     "name": "stdout",
     "output_type": "stream",
     "text": [
      "mean_rec: 1.245, mean_batch: 0.110\n"
     ]
    },
    {
     "name": "stderr",
     "output_type": "stream",
     "text": [
      "loss: 53515.936, IFNA1_to_random: 3.764, IFNAR1_IFNAR2: 2.252:   4%| | 448/10240 [05:52<2:08:3"
     ]
    },
    {
     "name": "stdout",
     "output_type": "stream",
     "text": [
      "mean_rec: 1.299, mean_batch: 0.108\n"
     ]
    },
    {
     "name": "stderr",
     "output_type": "stream",
     "text": [
      "loss: 54089.073, IFNA1_to_random: 3.824, IFNAR1_IFNAR2: 2.250:   5%| | 480/10240 [06:17<2:08:2"
     ]
    },
    {
     "name": "stdout",
     "output_type": "stream",
     "text": [
      "mean_rec: 1.278, mean_batch: 0.109\n"
     ]
    },
    {
     "name": "stderr",
     "output_type": "stream",
     "text": [
      "loss: 53742.376, IFNA1_to_random: 3.785, IFNAR1_IFNAR2: 2.247:   5%| | 512/10240 [06:43<2:07:5"
     ]
    },
    {
     "name": "stdout",
     "output_type": "stream",
     "text": [
      "mean_rec: 1.286, mean_batch: 0.108\n"
     ]
    },
    {
     "name": "stderr",
     "output_type": "stream",
     "text": [
      "loss: 54245.644, IFNA1_to_random: 3.818, IFNAR1_IFNAR2: 2.246:   5%| | 544/10240 [07:08<2:07:2"
     ]
    },
    {
     "name": "stdout",
     "output_type": "stream",
     "text": [
      "mean_rec: 1.290, mean_batch: 0.108\n"
     ]
    },
    {
     "name": "stderr",
     "output_type": "stream",
     "text": [
      "loss: 54100.492, IFNA1_to_random: 3.836, IFNAR1_IFNAR2: 2.245:   6%| | 576/10240 [07:33<2:07:0"
     ]
    },
    {
     "name": "stdout",
     "output_type": "stream",
     "text": [
      "mean_rec: 1.275, mean_batch: 0.109\n"
     ]
    },
    {
     "name": "stderr",
     "output_type": "stream",
     "text": [
      "loss: 53480.042, IFNA1_to_random: 3.795, IFNAR1_IFNAR2: 2.241:   6%| | 608/10240 [07:58<2:06:3"
     ]
    },
    {
     "name": "stdout",
     "output_type": "stream",
     "text": [
      "mean_rec: 1.290, mean_batch: 0.108\n"
     ]
    },
    {
     "name": "stderr",
     "output_type": "stream",
     "text": [
      "loss: 54277.484, IFNA1_to_random: 3.860, IFNAR1_IFNAR2: 2.241:   6%| | 640/10240 [08:24<2:06:0"
     ]
    },
    {
     "name": "stdout",
     "output_type": "stream",
     "text": [
      "mean_rec: 1.268, mean_batch: 0.109\n"
     ]
    },
    {
     "name": "stderr",
     "output_type": "stream",
     "text": [
      "loss: 53858.483, IFNA1_to_random: 3.792, IFNAR1_IFNAR2: 2.242:   7%| | 672/10240 [08:49<2:05:3"
     ]
    },
    {
     "name": "stdout",
     "output_type": "stream",
     "text": [
      "mean_rec: 1.288, mean_batch: 0.109\n"
     ]
    },
    {
     "name": "stderr",
     "output_type": "stream",
     "text": [
      "loss: 54193.992, IFNA1_to_random: 3.806, IFNAR1_IFNAR2: 2.242:   7%| | 704/10240 [09:14<2:05:1"
     ]
    },
    {
     "name": "stdout",
     "output_type": "stream",
     "text": [
      "mean_rec: 1.293, mean_batch: 0.108\n"
     ]
    },
    {
     "name": "stderr",
     "output_type": "stream",
     "text": [
      "loss: 54613.743, IFNA1_to_random: 3.794, IFNAR1_IFNAR2: 2.239:   7%| | 736/10240 [09:39<2:05:0"
     ]
    },
    {
     "name": "stdout",
     "output_type": "stream",
     "text": [
      "mean_rec: 1.276, mean_batch: 0.109\n"
     ]
    },
    {
     "name": "stderr",
     "output_type": "stream",
     "text": [
      "loss: 57536.323, IFNA1_to_random: 3.823, IFNAR1_IFNAR2: 2.238:   8%| | 768/10240 [10:04<2:04:1"
     ]
    },
    {
     "name": "stdout",
     "output_type": "stream",
     "text": [
      "mean_rec: 1.288, mean_batch: 0.109\n"
     ]
    },
    {
     "name": "stderr",
     "output_type": "stream",
     "text": [
      "loss: 53946.729, IFNA1_to_random: 3.842, IFNAR1_IFNAR2: 2.240:   8%| | 800/10240 [10:30<2:04:0"
     ]
    },
    {
     "name": "stdout",
     "output_type": "stream",
     "text": [
      "mean_rec: 1.290, mean_batch: 0.108\n"
     ]
    },
    {
     "name": "stderr",
     "output_type": "stream",
     "text": [
      "loss: 53616.650, IFNA1_to_random: 3.836, IFNAR1_IFNAR2: 2.239:   8%| | 832/10240 [10:55<2:03:2"
     ]
    },
    {
     "name": "stdout",
     "output_type": "stream",
     "text": [
      "mean_rec: 1.279, mean_batch: 0.108\n"
     ]
    },
    {
     "name": "stderr",
     "output_type": "stream",
     "text": [
      "loss: 54125.955, IFNA1_to_random: 3.761, IFNAR1_IFNAR2: 2.240:   8%| | 864/10240 [11:20<2:03:0"
     ]
    },
    {
     "name": "stdout",
     "output_type": "stream",
     "text": [
      "mean_rec: 1.269, mean_batch: 0.109\n"
     ]
    },
    {
     "name": "stderr",
     "output_type": "stream",
     "text": [
      "loss: 53706.470, IFNA1_to_random: 3.813, IFNAR1_IFNAR2: 2.243:   9%| | 896/10240 [11:45<2:02:4"
     ]
    },
    {
     "name": "stdout",
     "output_type": "stream",
     "text": [
      "mean_rec: 1.280, mean_batch: 0.108\n"
     ]
    },
    {
     "name": "stderr",
     "output_type": "stream",
     "text": [
      "loss: 53811.388, IFNA1_to_random: 3.781, IFNAR1_IFNAR2: 2.243:   9%| | 928/10240 [12:10<2:02:1"
     ]
    },
    {
     "name": "stdout",
     "output_type": "stream",
     "text": [
      "mean_rec: 1.280, mean_batch: 0.108\n"
     ]
    },
    {
     "name": "stderr",
     "output_type": "stream",
     "text": [
      "loss: 54161.417, IFNA1_to_random: 3.848, IFNAR1_IFNAR2: 2.243:   9%| | 960/10240 [12:36<2:02:0"
     ]
    },
    {
     "name": "stdout",
     "output_type": "stream",
     "text": [
      "mean_rec: 1.282, mean_batch: 0.108\n"
     ]
    },
    {
     "name": "stderr",
     "output_type": "stream",
     "text": [
      "loss: 53788.140, IFNA1_to_random: 3.832, IFNAR1_IFNAR2: 2.241:  10%| | 992/10240 [13:01<2:01:4"
     ]
    },
    {
     "name": "stdout",
     "output_type": "stream",
     "text": [
      "mean_rec: 1.276, mean_batch: 0.108\n"
     ]
    },
    {
     "name": "stderr",
     "output_type": "stream",
     "text": [
      "loss: 54062.617, IFNA1_to_random: 3.852, IFNAR1_IFNAR2: 2.241:  10%| | 1024/10240 [13:26<2:00:"
     ]
    },
    {
     "name": "stdout",
     "output_type": "stream",
     "text": [
      "mean_rec: 1.273, mean_batch: 0.109\n"
     ]
    },
    {
     "name": "stderr",
     "output_type": "stream",
     "text": [
      "loss: 54246.944, IFNA1_to_random: 3.860, IFNAR1_IFNAR2: 2.240:  10%| | 1056/10240 [13:51<2:00:"
     ]
    },
    {
     "name": "stdout",
     "output_type": "stream",
     "text": [
      "mean_rec: 1.266, mean_batch: 0.109\n"
     ]
    },
    {
     "name": "stderr",
     "output_type": "stream",
     "text": [
      "loss: 53414.592, IFNA1_to_random: 3.824, IFNAR1_IFNAR2: 2.239:  11%| | 1088/10240 [14:16<1:59:"
     ]
    },
    {
     "name": "stdout",
     "output_type": "stream",
     "text": [
      "mean_rec: 1.297, mean_batch: 0.108\n"
     ]
    },
    {
     "name": "stderr",
     "output_type": "stream",
     "text": [
      "loss: 53698.851, IFNA1_to_random: 3.871, IFNAR1_IFNAR2: 2.238:  11%| | 1120/10240 [14:42<1:59:"
     ]
    },
    {
     "name": "stdout",
     "output_type": "stream",
     "text": [
      "mean_rec: 1.290, mean_batch: 0.108\n"
     ]
    },
    {
     "name": "stderr",
     "output_type": "stream",
     "text": [
      "loss: 54391.769, IFNA1_to_random: 3.862, IFNAR1_IFNAR2: 2.236:  11%| | 1152/10240 [15:07<1:59:"
     ]
    },
    {
     "name": "stdout",
     "output_type": "stream",
     "text": [
      "mean_rec: 1.269, mean_batch: 0.109\n"
     ]
    },
    {
     "name": "stderr",
     "output_type": "stream",
     "text": [
      "loss: 54333.465, IFNA1_to_random: 3.826, IFNAR1_IFNAR2: 2.235:  12%| | 1184/10240 [15:32<1:58:"
     ]
    },
    {
     "name": "stdout",
     "output_type": "stream",
     "text": [
      "mean_rec: 1.274, mean_batch: 0.109\n"
     ]
    },
    {
     "name": "stderr",
     "output_type": "stream",
     "text": [
      "loss: 54810.292, IFNA1_to_random: 3.744, IFNAR1_IFNAR2: 2.234:  12%| | 1216/10240 [15:57<1:58:"
     ]
    },
    {
     "name": "stdout",
     "output_type": "stream",
     "text": [
      "mean_rec: 1.250, mean_batch: 0.110\n"
     ]
    },
    {
     "name": "stderr",
     "output_type": "stream",
     "text": [
      "loss: 53373.969, IFNA1_to_random: 3.787, IFNAR1_IFNAR2: 2.237:  12%| | 1248/10240 [16:22<1:58:"
     ]
    },
    {
     "name": "stdout",
     "output_type": "stream",
     "text": [
      "mean_rec: 1.294, mean_batch: 0.108\n"
     ]
    },
    {
     "name": "stderr",
     "output_type": "stream",
     "text": [
      "loss: 53858.224, IFNA1_to_random: 3.801, IFNAR1_IFNAR2: 2.236:  12%|▏| 1280/10240 [16:47<1:57:"
     ]
    },
    {
     "name": "stdout",
     "output_type": "stream",
     "text": [
      "mean_rec: 1.283, mean_batch: 0.108\n"
     ]
    },
    {
     "name": "stderr",
     "output_type": "stream",
     "text": [
      "loss: 54366.120, IFNA1_to_random: 3.838, IFNAR1_IFNAR2: 2.234:  13%|▏| 1312/10240 [17:13<1:56:"
     ]
    },
    {
     "name": "stdout",
     "output_type": "stream",
     "text": [
      "mean_rec: 1.270, mean_batch: 0.109\n"
     ]
    },
    {
     "name": "stderr",
     "output_type": "stream",
     "text": [
      "loss: 53873.804, IFNA1_to_random: 3.790, IFNAR1_IFNAR2: 2.235:  13%|▏| 1344/10240 [17:38<1:56:"
     ]
    },
    {
     "name": "stdout",
     "output_type": "stream",
     "text": [
      "mean_rec: 1.276, mean_batch: 0.109\n"
     ]
    },
    {
     "name": "stderr",
     "output_type": "stream",
     "text": [
      "loss: 53676.217, IFNA1_to_random: 3.847, IFNAR1_IFNAR2: 2.235:  13%|▏| 1376/10240 [18:03<1:56:"
     ]
    },
    {
     "name": "stdout",
     "output_type": "stream",
     "text": [
      "mean_rec: 1.286, mean_batch: 0.108\n"
     ]
    },
    {
     "name": "stderr",
     "output_type": "stream",
     "text": [
      "loss: 52813.093, IFNA1_to_random: 3.815, IFNAR1_IFNAR2: 2.235:  14%|▏| 1408/10240 [18:28<1:55:"
     ]
    },
    {
     "name": "stdout",
     "output_type": "stream",
     "text": [
      "mean_rec: 1.312, mean_batch: 0.107\n"
     ]
    },
    {
     "name": "stderr",
     "output_type": "stream",
     "text": [
      "loss: 54345.147, IFNA1_to_random: 3.818, IFNAR1_IFNAR2: 2.234:  14%|▏| 1440/10240 [18:53<1:55:"
     ]
    },
    {
     "name": "stdout",
     "output_type": "stream",
     "text": [
      "mean_rec: 1.278, mean_batch: 0.109\n"
     ]
    },
    {
     "name": "stderr",
     "output_type": "stream",
     "text": [
      "loss: 52957.931, IFNA1_to_random: 3.797, IFNAR1_IFNAR2: 2.235:  14%|▏| 1472/10240 [19:18<1:54:"
     ]
    },
    {
     "name": "stdout",
     "output_type": "stream",
     "text": [
      "mean_rec: 1.308, mean_batch: 0.107\n"
     ]
    },
    {
     "name": "stderr",
     "output_type": "stream",
     "text": [
      "loss: 53966.256, IFNA1_to_random: 3.826, IFNAR1_IFNAR2: 2.236:  15%|▏| 1504/10240 [19:43<1:54:"
     ]
    },
    {
     "name": "stdout",
     "output_type": "stream",
     "text": [
      "mean_rec: 1.280, mean_batch: 0.109\n"
     ]
    },
    {
     "name": "stderr",
     "output_type": "stream",
     "text": [
      "loss: 54041.880, IFNA1_to_random: 3.922, IFNAR1_IFNAR2: 2.235:  15%|▏| 1536/10240 [20:09<1:53:"
     ]
    },
    {
     "name": "stdout",
     "output_type": "stream",
     "text": [
      "mean_rec: 1.290, mean_batch: 0.108\n"
     ]
    },
    {
     "name": "stderr",
     "output_type": "stream",
     "text": [
      "loss: 54611.582, IFNA1_to_random: 3.866, IFNAR1_IFNAR2: 2.234:  15%|▏| 1568/10240 [20:34<1:53:"
     ]
    },
    {
     "name": "stdout",
     "output_type": "stream",
     "text": [
      "mean_rec: 1.275, mean_batch: 0.109\n"
     ]
    },
    {
     "name": "stderr",
     "output_type": "stream",
     "text": [
      "loss: 53922.154, IFNA1_to_random: 3.845, IFNAR1_IFNAR2: 2.231:  16%|▏| 1600/10240 [20:59<1:53:"
     ]
    },
    {
     "name": "stdout",
     "output_type": "stream",
     "text": [
      "mean_rec: 1.293, mean_batch: 0.108\n"
     ]
    },
    {
     "name": "stderr",
     "output_type": "stream",
     "text": [
      "loss: 53401.562, IFNA1_to_random: 3.864, IFNAR1_IFNAR2: 2.232:  16%|▏| 1632/10240 [21:24<1:52:"
     ]
    },
    {
     "name": "stdout",
     "output_type": "stream",
     "text": [
      "mean_rec: 1.298, mean_batch: 0.108\n"
     ]
    },
    {
     "name": "stderr",
     "output_type": "stream",
     "text": [
      "loss: 53608.145, IFNA1_to_random: 3.826, IFNAR1_IFNAR2: 2.232:  16%|▏| 1664/10240 [21:49<1:52:"
     ]
    },
    {
     "name": "stdout",
     "output_type": "stream",
     "text": [
      "mean_rec: 1.294, mean_batch: 0.108\n"
     ]
    },
    {
     "name": "stderr",
     "output_type": "stream",
     "text": [
      "loss: 54183.274, IFNA1_to_random: 3.758, IFNAR1_IFNAR2: 2.232:  17%|▏| 1696/10240 [22:14<1:52:"
     ]
    },
    {
     "name": "stdout",
     "output_type": "stream",
     "text": [
      "mean_rec: 1.280, mean_batch: 0.109\n"
     ]
    },
    {
     "name": "stderr",
     "output_type": "stream",
     "text": [
      "loss: 54284.022, IFNA1_to_random: 3.853, IFNAR1_IFNAR2: 2.230:  17%|▏| 1728/10240 [22:39<1:51:"
     ]
    },
    {
     "name": "stdout",
     "output_type": "stream",
     "text": [
      "mean_rec: 1.275, mean_batch: 0.109\n"
     ]
    },
    {
     "name": "stderr",
     "output_type": "stream",
     "text": [
      "loss: 54004.972, IFNA1_to_random: 3.809, IFNAR1_IFNAR2: 2.227:  17%|▏| 1760/10240 [23:05<1:51:"
     ]
    },
    {
     "name": "stdout",
     "output_type": "stream",
     "text": [
      "mean_rec: 1.276, mean_batch: 0.109\n"
     ]
    },
    {
     "name": "stderr",
     "output_type": "stream",
     "text": [
      "loss: 53940.190, IFNA1_to_random: 3.800, IFNAR1_IFNAR2: 2.228:  18%|▏| 1792/10240 [23:30<1:50:"
     ]
    },
    {
     "name": "stdout",
     "output_type": "stream",
     "text": [
      "mean_rec: 1.288, mean_batch: 0.109\n"
     ]
    },
    {
     "name": "stderr",
     "output_type": "stream",
     "text": [
      "loss: 54398.603, IFNA1_to_random: 3.787, IFNAR1_IFNAR2: 2.227:  18%|▏| 1824/10240 [23:55<1:50:"
     ]
    },
    {
     "name": "stdout",
     "output_type": "stream",
     "text": [
      "mean_rec: 1.263, mean_batch: 0.109\n"
     ]
    },
    {
     "name": "stderr",
     "output_type": "stream",
     "text": [
      "loss: 54281.593, IFNA1_to_random: 3.824, IFNAR1_IFNAR2: 2.229:  18%|▏| 1856/10240 [24:20<1:50:"
     ]
    },
    {
     "name": "stdout",
     "output_type": "stream",
     "text": [
      "mean_rec: 1.271, mean_batch: 0.109\n"
     ]
    },
    {
     "name": "stderr",
     "output_type": "stream",
     "text": [
      "loss: 53856.071, IFNA1_to_random: 3.867, IFNAR1_IFNAR2: 2.230:  18%|▏| 1888/10240 [24:45<1:49:"
     ]
    },
    {
     "name": "stdout",
     "output_type": "stream",
     "text": [
      "mean_rec: 1.288, mean_batch: 0.108\n"
     ]
    },
    {
     "name": "stderr",
     "output_type": "stream",
     "text": [
      "loss: 54001.858, IFNA1_to_random: 3.857, IFNAR1_IFNAR2: 2.231:  19%|▏| 1920/10240 [25:10<1:49:"
     ]
    },
    {
     "name": "stdout",
     "output_type": "stream",
     "text": [
      "mean_rec: 1.279, mean_batch: 0.109\n"
     ]
    },
    {
     "name": "stderr",
     "output_type": "stream",
     "text": [
      "loss: 53713.464, IFNA1_to_random: 3.817, IFNAR1_IFNAR2: 2.228:  19%|▏| 1952/10240 [25:36<1:48:"
     ]
    },
    {
     "name": "stdout",
     "output_type": "stream",
     "text": [
      "mean_rec: 1.296, mean_batch: 0.108\n"
     ]
    },
    {
     "name": "stderr",
     "output_type": "stream",
     "text": [
      "loss: 54341.791, IFNA1_to_random: 3.798, IFNAR1_IFNAR2: 2.230:  19%|▏| 1984/10240 [26:01<1:47:"
     ]
    },
    {
     "name": "stdout",
     "output_type": "stream",
     "text": [
      "mean_rec: 1.275, mean_batch: 0.109\n"
     ]
    },
    {
     "name": "stderr",
     "output_type": "stream",
     "text": [
      "loss: 53633.049, IFNA1_to_random: 3.807, IFNAR1_IFNAR2: 2.231:  20%|▏| 2016/10240 [26:26<1:47:"
     ]
    },
    {
     "name": "stdout",
     "output_type": "stream",
     "text": [
      "mean_rec: 1.299, mean_batch: 0.108\n"
     ]
    },
    {
     "name": "stderr",
     "output_type": "stream",
     "text": [
      "loss: 53491.244, IFNA1_to_random: 3.837, IFNAR1_IFNAR2: 2.230:  20%|▏| 2048/10240 [26:51<1:47:"
     ]
    },
    {
     "name": "stdout",
     "output_type": "stream",
     "text": [
      "mean_rec: 1.297, mean_batch: 0.108\n"
     ]
    },
    {
     "name": "stderr",
     "output_type": "stream",
     "text": [
      "loss: 55472.902, IFNA1_to_random: 3.852, IFNAR1_IFNAR2: 2.230:  20%|▏| 2080/10240 [27:16<1:46:"
     ]
    },
    {
     "name": "stdout",
     "output_type": "stream",
     "text": [
      "mean_rec: 1.272, mean_batch: 0.109\n"
     ]
    },
    {
     "name": "stderr",
     "output_type": "stream",
     "text": [
      "loss: 53817.011, IFNA1_to_random: 3.819, IFNAR1_IFNAR2: 2.232:  21%|▏| 2112/10240 [27:41<1:46:"
     ]
    },
    {
     "name": "stdout",
     "output_type": "stream",
     "text": [
      "mean_rec: 1.283, mean_batch: 0.108\n"
     ]
    },
    {
     "name": "stderr",
     "output_type": "stream",
     "text": [
      "loss: 53508.153, IFNA1_to_random: 3.808, IFNAR1_IFNAR2: 2.232:  21%|▏| 2144/10240 [28:06<1:45:"
     ]
    },
    {
     "name": "stdout",
     "output_type": "stream",
     "text": [
      "mean_rec: 1.289, mean_batch: 0.108\n"
     ]
    },
    {
     "name": "stderr",
     "output_type": "stream",
     "text": [
      "loss: 54715.339, IFNA1_to_random: 3.859, IFNAR1_IFNAR2: 2.233:  21%|▏| 2176/10240 [28:31<1:45:"
     ]
    },
    {
     "name": "stdout",
     "output_type": "stream",
     "text": [
      "mean_rec: 1.270, mean_batch: 0.109\n"
     ]
    },
    {
     "name": "stderr",
     "output_type": "stream",
     "text": [
      "loss: 53904.284, IFNA1_to_random: 3.829, IFNAR1_IFNAR2: 2.233:  22%|▏| 2208/10240 [28:57<1:45:"
     ]
    },
    {
     "name": "stdout",
     "output_type": "stream",
     "text": [
      "mean_rec: 1.273, mean_batch: 0.108\n"
     ]
    },
    {
     "name": "stderr",
     "output_type": "stream",
     "text": [
      "loss: 53864.311, IFNA1_to_random: 3.827, IFNAR1_IFNAR2: 2.231:  22%|▏| 2240/10240 [29:22<1:44:"
     ]
    },
    {
     "name": "stdout",
     "output_type": "stream",
     "text": [
      "mean_rec: 1.272, mean_batch: 0.109\n"
     ]
    },
    {
     "name": "stderr",
     "output_type": "stream",
     "text": [
      "loss: 52973.951, IFNA1_to_random: 3.832, IFNAR1_IFNAR2: 2.229:  22%|▏| 2272/10240 [29:47<1:44:"
     ]
    },
    {
     "name": "stdout",
     "output_type": "stream",
     "text": [
      "mean_rec: 1.304, mean_batch: 0.107\n"
     ]
    },
    {
     "name": "stderr",
     "output_type": "stream",
     "text": [
      "loss: 53910.041, IFNA1_to_random: 3.830, IFNAR1_IFNAR2: 2.229:  22%|▏| 2304/10240 [30:12<1:43:"
     ]
    },
    {
     "name": "stdout",
     "output_type": "stream",
     "text": [
      "mean_rec: 1.279, mean_batch: 0.109\n"
     ]
    },
    {
     "name": "stderr",
     "output_type": "stream",
     "text": [
      "loss: 54278.196, IFNA1_to_random: 3.846, IFNAR1_IFNAR2: 2.233:  23%|▏| 2336/10240 [30:37<1:43:"
     ]
    },
    {
     "name": "stdout",
     "output_type": "stream",
     "text": [
      "mean_rec: 1.268, mean_batch: 0.109\n"
     ]
    },
    {
     "name": "stderr",
     "output_type": "stream",
     "text": [
      "loss: 54048.430, IFNA1_to_random: 3.818, IFNAR1_IFNAR2: 2.234:  23%|▏| 2368/10240 [31:02<1:43:"
     ]
    },
    {
     "name": "stdout",
     "output_type": "stream",
     "text": [
      "mean_rec: 1.277, mean_batch: 0.109\n"
     ]
    },
    {
     "name": "stderr",
     "output_type": "stream",
     "text": [
      "loss: 53692.399, IFNA1_to_random: 3.805, IFNAR1_IFNAR2: 2.234:  23%|▏| 2400/10240 [31:28<1:42:"
     ]
    },
    {
     "name": "stdout",
     "output_type": "stream",
     "text": [
      "mean_rec: 1.294, mean_batch: 0.108\n"
     ]
    },
    {
     "name": "stderr",
     "output_type": "stream",
     "text": [
      "loss: 53996.169, IFNA1_to_random: 3.836, IFNAR1_IFNAR2: 2.233:  24%|▏| 2432/10240 [31:53<1:42:"
     ]
    },
    {
     "name": "stdout",
     "output_type": "stream",
     "text": [
      "mean_rec: 1.275, mean_batch: 0.109\n"
     ]
    },
    {
     "name": "stderr",
     "output_type": "stream",
     "text": [
      "loss: 53062.748, IFNA1_to_random: 3.860, IFNAR1_IFNAR2: 2.231:  24%|▏| 2464/10240 [32:18<1:42:"
     ]
    },
    {
     "name": "stdout",
     "output_type": "stream",
     "text": [
      "mean_rec: 1.309, mean_batch: 0.108\n"
     ]
    },
    {
     "name": "stderr",
     "output_type": "stream",
     "text": [
      "loss: 54122.222, IFNA1_to_random: 3.805, IFNAR1_IFNAR2: 2.233:  24%|▏| 2496/10240 [32:43<1:41:"
     ]
    },
    {
     "name": "stdout",
     "output_type": "stream",
     "text": [
      "mean_rec: 1.285, mean_batch: 0.108\n"
     ]
    },
    {
     "name": "stderr",
     "output_type": "stream",
     "text": [
      "loss: 54073.647, IFNA1_to_random: 3.790, IFNAR1_IFNAR2: 2.231:  25%|▏| 2528/10240 [33:08<1:41:"
     ]
    },
    {
     "name": "stdout",
     "output_type": "stream",
     "text": [
      "mean_rec: 1.276, mean_batch: 0.109\n"
     ]
    },
    {
     "name": "stderr",
     "output_type": "stream",
     "text": [
      "loss: 54324.965, IFNA1_to_random: 3.861, IFNAR1_IFNAR2: 2.228:  25%|▎| 2560/10240 [33:33<1:40:"
     ]
    },
    {
     "name": "stdout",
     "output_type": "stream",
     "text": [
      "mean_rec: 1.285, mean_batch: 0.109\n"
     ]
    },
    {
     "name": "stderr",
     "output_type": "stream",
     "text": [
      "loss: 55086.110, IFNA1_to_random: 3.830, IFNAR1_IFNAR2: 2.228:  25%|▎| 2592/10240 [33:59<1:40:"
     ]
    },
    {
     "name": "stdout",
     "output_type": "stream",
     "text": [
      "mean_rec: 1.308, mean_batch: 0.108\n"
     ]
    },
    {
     "name": "stderr",
     "output_type": "stream",
     "text": [
      "loss: 54356.359, IFNA1_to_random: 3.786, IFNAR1_IFNAR2: 2.229:  26%|▎| 2624/10240 [34:24<1:40:"
     ]
    },
    {
     "name": "stdout",
     "output_type": "stream",
     "text": [
      "mean_rec: 1.259, mean_batch: 0.109\n"
     ]
    },
    {
     "name": "stderr",
     "output_type": "stream",
     "text": [
      "loss: 53924.634, IFNA1_to_random: 3.770, IFNAR1_IFNAR2: 2.228:  26%|▎| 2656/10240 [34:49<1:39:"
     ]
    },
    {
     "name": "stdout",
     "output_type": "stream",
     "text": [
      "mean_rec: 1.282, mean_batch: 0.108\n"
     ]
    },
    {
     "name": "stderr",
     "output_type": "stream",
     "text": [
      "loss: 54394.191, IFNA1_to_random: 3.858, IFNAR1_IFNAR2: 2.227:  26%|▎| 2688/10240 [35:14<1:39:"
     ]
    },
    {
     "name": "stdout",
     "output_type": "stream",
     "text": [
      "mean_rec: 1.270, mean_batch: 0.109\n"
     ]
    },
    {
     "name": "stderr",
     "output_type": "stream",
     "text": [
      "loss: 53795.603, IFNA1_to_random: 3.814, IFNAR1_IFNAR2: 2.227:  27%|▎| 2720/10240 [35:40<1:38:"
     ]
    },
    {
     "name": "stdout",
     "output_type": "stream",
     "text": [
      "mean_rec: 1.274, mean_batch: 0.108\n"
     ]
    },
    {
     "name": "stderr",
     "output_type": "stream",
     "text": [
      "loss: 54055.600, IFNA1_to_random: 3.837, IFNAR1_IFNAR2: 2.226:  27%|▎| 2752/10240 [36:05<1:38:"
     ]
    },
    {
     "name": "stdout",
     "output_type": "stream",
     "text": [
      "mean_rec: 1.288, mean_batch: 0.108\n"
     ]
    },
    {
     "name": "stderr",
     "output_type": "stream",
     "text": [
      "loss: 54486.637, IFNA1_to_random: 3.897, IFNAR1_IFNAR2: 2.223:  27%|▎| 2784/10240 [36:30<1:37:"
     ]
    },
    {
     "name": "stdout",
     "output_type": "stream",
     "text": [
      "mean_rec: 1.275, mean_batch: 0.109\n"
     ]
    },
    {
     "name": "stderr",
     "output_type": "stream",
     "text": [
      "loss: 54620.139, IFNA1_to_random: 3.873, IFNAR1_IFNAR2: 2.223:  28%|▎| 2816/10240 [36:55<1:37:"
     ]
    },
    {
     "name": "stdout",
     "output_type": "stream",
     "text": [
      "mean_rec: 1.267, mean_batch: 0.109\n"
     ]
    },
    {
     "name": "stderr",
     "output_type": "stream",
     "text": [
      "loss: 54003.692, IFNA1_to_random: 3.841, IFNAR1_IFNAR2: 2.224:  28%|▎| 2848/10240 [37:20<1:37:"
     ]
    },
    {
     "name": "stdout",
     "output_type": "stream",
     "text": [
      "mean_rec: 1.277, mean_batch: 0.109\n"
     ]
    },
    {
     "name": "stderr",
     "output_type": "stream",
     "text": [
      "loss: 54276.480, IFNA1_to_random: 3.816, IFNAR1_IFNAR2: 2.227:  28%|▎| 2880/10240 [37:46<1:36:"
     ]
    },
    {
     "name": "stdout",
     "output_type": "stream",
     "text": [
      "mean_rec: 1.262, mean_batch: 0.109\n"
     ]
    },
    {
     "name": "stderr",
     "output_type": "stream",
     "text": [
      "loss: 54562.065, IFNA1_to_random: 3.795, IFNAR1_IFNAR2: 2.229:  28%|▎| 2912/10240 [38:11<1:36:"
     ]
    },
    {
     "name": "stdout",
     "output_type": "stream",
     "text": [
      "mean_rec: 1.284, mean_batch: 0.109\n"
     ]
    },
    {
     "name": "stderr",
     "output_type": "stream",
     "text": [
      "loss: 54020.009, IFNA1_to_random: 3.873, IFNAR1_IFNAR2: 2.232:  29%|▎| 2944/10240 [38:36<1:35:"
     ]
    },
    {
     "name": "stdout",
     "output_type": "stream",
     "text": [
      "mean_rec: 1.280, mean_batch: 0.108\n"
     ]
    },
    {
     "name": "stderr",
     "output_type": "stream",
     "text": [
      "loss: 53938.722, IFNA1_to_random: 3.853, IFNAR1_IFNAR2: 2.236:  29%|▎| 2976/10240 [39:01<1:35:"
     ]
    },
    {
     "name": "stdout",
     "output_type": "stream",
     "text": [
      "mean_rec: 1.282, mean_batch: 0.109\n"
     ]
    },
    {
     "name": "stderr",
     "output_type": "stream",
     "text": [
      "loss: 53818.410, IFNA1_to_random: 3.831, IFNAR1_IFNAR2: 2.235:  29%|▎| 3008/10240 [39:26<1:35:"
     ]
    },
    {
     "name": "stdout",
     "output_type": "stream",
     "text": [
      "mean_rec: 1.278, mean_batch: 0.108\n"
     ]
    },
    {
     "name": "stderr",
     "output_type": "stream",
     "text": [
      "loss: 54146.787, IFNA1_to_random: 3.812, IFNAR1_IFNAR2: 2.234:  30%|▎| 3040/10240 [39:52<1:34:"
     ]
    },
    {
     "name": "stdout",
     "output_type": "stream",
     "text": [
      "mean_rec: 1.268, mean_batch: 0.109\n"
     ]
    },
    {
     "name": "stderr",
     "output_type": "stream",
     "text": [
      "loss: 54083.480, IFNA1_to_random: 3.836, IFNAR1_IFNAR2: 2.233:  30%|▎| 3072/10240 [40:17<1:34:"
     ]
    },
    {
     "name": "stdout",
     "output_type": "stream",
     "text": [
      "mean_rec: 1.265, mean_batch: 0.109\n"
     ]
    },
    {
     "name": "stderr",
     "output_type": "stream",
     "text": [
      "loss: 53814.821, IFNA1_to_random: 3.859, IFNAR1_IFNAR2: 2.231:  30%|▎| 3104/10240 [40:42<1:33:"
     ]
    },
    {
     "name": "stdout",
     "output_type": "stream",
     "text": [
      "mean_rec: 1.294, mean_batch: 0.108\n"
     ]
    },
    {
     "name": "stderr",
     "output_type": "stream",
     "text": [
      "loss: 53929.962, IFNA1_to_random: 3.890, IFNAR1_IFNAR2: 2.231:  31%|▎| 3136/10240 [41:07<1:33:"
     ]
    },
    {
     "name": "stdout",
     "output_type": "stream",
     "text": [
      "mean_rec: 1.281, mean_batch: 0.109\n"
     ]
    },
    {
     "name": "stderr",
     "output_type": "stream",
     "text": [
      "loss: 54100.852, IFNA1_to_random: 3.806, IFNAR1_IFNAR2: 2.230:  31%|▎| 3168/10240 [41:32<1:32:"
     ]
    },
    {
     "name": "stdout",
     "output_type": "stream",
     "text": [
      "mean_rec: 1.270, mean_batch: 0.109\n"
     ]
    },
    {
     "name": "stderr",
     "output_type": "stream",
     "text": [
      "loss: 53376.909, IFNA1_to_random: 3.838, IFNAR1_IFNAR2: 2.228:  31%|▎| 3200/10240 [41:58<1:32:"
     ]
    },
    {
     "name": "stdout",
     "output_type": "stream",
     "text": [
      "mean_rec: 1.293, mean_batch: 0.108\n"
     ]
    },
    {
     "name": "stderr",
     "output_type": "stream",
     "text": [
      "loss: 53865.668, IFNA1_to_random: 3.830, IFNAR1_IFNAR2: 2.226:  32%|▎| 3232/10240 [42:23<1:31:"
     ]
    },
    {
     "name": "stdout",
     "output_type": "stream",
     "text": [
      "mean_rec: 1.285, mean_batch: 0.108\n"
     ]
    },
    {
     "name": "stderr",
     "output_type": "stream",
     "text": [
      "loss: 53484.437, IFNA1_to_random: 3.848, IFNAR1_IFNAR2: 2.227:  32%|▎| 3264/10240 [42:48<1:31:"
     ]
    },
    {
     "name": "stdout",
     "output_type": "stream",
     "text": [
      "mean_rec: 1.290, mean_batch: 0.108\n"
     ]
    },
    {
     "name": "stderr",
     "output_type": "stream",
     "text": [
      "loss: 52990.499, IFNA1_to_random: 3.866, IFNAR1_IFNAR2: 2.226:  32%|▎| 3296/10240 [43:13<1:31:"
     ]
    },
    {
     "name": "stdout",
     "output_type": "stream",
     "text": [
      "mean_rec: 1.300, mean_batch: 0.107\n"
     ]
    },
    {
     "name": "stderr",
     "output_type": "stream",
     "text": [
      "loss: 55187.074, IFNA1_to_random: 3.810, IFNAR1_IFNAR2: 2.225:  32%|▎| 3328/10240 [43:39<1:30:"
     ]
    },
    {
     "name": "stdout",
     "output_type": "stream",
     "text": [
      "mean_rec: 1.247, mean_batch: 0.110\n"
     ]
    },
    {
     "name": "stderr",
     "output_type": "stream",
     "text": [
      "loss: 53939.137, IFNA1_to_random: 3.859, IFNAR1_IFNAR2: 2.228:  33%|▎| 3360/10240 [44:04<1:30:"
     ]
    },
    {
     "name": "stdout",
     "output_type": "stream",
     "text": [
      "mean_rec: 1.277, mean_batch: 0.109\n"
     ]
    },
    {
     "name": "stderr",
     "output_type": "stream",
     "text": [
      "loss: 53268.473, IFNA1_to_random: 3.789, IFNAR1_IFNAR2: 2.225:  33%|▎| 3392/10240 [44:29<1:29:"
     ]
    },
    {
     "name": "stdout",
     "output_type": "stream",
     "text": [
      "mean_rec: 1.295, mean_batch: 0.108\n"
     ]
    },
    {
     "name": "stderr",
     "output_type": "stream",
     "text": [
      "loss: 53716.925, IFNA1_to_random: 3.867, IFNAR1_IFNAR2: 2.223:  33%|▎| 3424/10240 [44:54<1:29:"
     ]
    },
    {
     "name": "stdout",
     "output_type": "stream",
     "text": [
      "mean_rec: 1.290, mean_batch: 0.108\n"
     ]
    },
    {
     "name": "stderr",
     "output_type": "stream",
     "text": [
      "loss: 53037.883, IFNA1_to_random: 3.852, IFNAR1_IFNAR2: 2.222:  34%|▎| 3456/10240 [45:19<1:29:"
     ]
    },
    {
     "name": "stdout",
     "output_type": "stream",
     "text": [
      "mean_rec: 1.308, mean_batch: 0.107\n"
     ]
    },
    {
     "name": "stderr",
     "output_type": "stream",
     "text": [
      "loss: 53997.861, IFNA1_to_random: 3.842, IFNAR1_IFNAR2: 2.222:  34%|▎| 3488/10240 [45:45<1:28:"
     ]
    },
    {
     "name": "stdout",
     "output_type": "stream",
     "text": [
      "mean_rec: 1.281, mean_batch: 0.109\n"
     ]
    },
    {
     "name": "stderr",
     "output_type": "stream",
     "text": [
      "loss: 53185.106, IFNA1_to_random: 3.798, IFNAR1_IFNAR2: 2.223:  34%|▎| 3520/10240 [46:10<1:28:"
     ]
    },
    {
     "name": "stdout",
     "output_type": "stream",
     "text": [
      "mean_rec: 1.315, mean_batch: 0.107\n"
     ]
    },
    {
     "name": "stderr",
     "output_type": "stream",
     "text": [
      "loss: 53311.490, IFNA1_to_random: 3.837, IFNAR1_IFNAR2: 2.222:  35%|▎| 3552/10240 [46:35<1:27:"
     ]
    },
    {
     "name": "stdout",
     "output_type": "stream",
     "text": [
      "mean_rec: 1.289, mean_batch: 0.108\n"
     ]
    },
    {
     "name": "stderr",
     "output_type": "stream",
     "text": [
      "loss: 53153.346, IFNA1_to_random: 3.873, IFNAR1_IFNAR2: 2.222:  35%|▎| 3584/10240 [47:00<1:27:"
     ]
    },
    {
     "name": "stdout",
     "output_type": "stream",
     "text": [
      "mean_rec: 1.301, mean_batch: 0.108\n"
     ]
    },
    {
     "name": "stderr",
     "output_type": "stream",
     "text": [
      "loss: 53625.486, IFNA1_to_random: 3.807, IFNAR1_IFNAR2: 2.221:  35%|▎| 3616/10240 [47:25<1:26:"
     ]
    },
    {
     "name": "stdout",
     "output_type": "stream",
     "text": [
      "mean_rec: 1.286, mean_batch: 0.108\n"
     ]
    },
    {
     "name": "stderr",
     "output_type": "stream",
     "text": [
      "loss: 53437.582, IFNA1_to_random: 3.831, IFNAR1_IFNAR2: 2.219:  36%|▎| 3648/10240 [47:50<1:26:"
     ]
    },
    {
     "name": "stdout",
     "output_type": "stream",
     "text": [
      "mean_rec: 1.286, mean_batch: 0.108\n"
     ]
    },
    {
     "name": "stderr",
     "output_type": "stream",
     "text": [
      "loss: 53303.321, IFNA1_to_random: 3.816, IFNAR1_IFNAR2: 2.220:  36%|▎| 3680/10240 [48:16<1:25:"
     ]
    },
    {
     "name": "stdout",
     "output_type": "stream",
     "text": [
      "mean_rec: 1.290, mean_batch: 0.108\n"
     ]
    },
    {
     "name": "stderr",
     "output_type": "stream",
     "text": [
      "loss: 54289.972, IFNA1_to_random: 3.838, IFNAR1_IFNAR2: 2.222:  36%|▎| 3712/10240 [48:41<1:25:"
     ]
    },
    {
     "name": "stdout",
     "output_type": "stream",
     "text": [
      "mean_rec: 1.269, mean_batch: 0.109\n"
     ]
    },
    {
     "name": "stderr",
     "output_type": "stream",
     "text": [
      "loss: 54430.787, IFNA1_to_random: 3.835, IFNAR1_IFNAR2: 2.222:  37%|▎| 3744/10240 [49:06<1:25:"
     ]
    },
    {
     "name": "stdout",
     "output_type": "stream",
     "text": [
      "mean_rec: 1.262, mean_batch: 0.109\n"
     ]
    },
    {
     "name": "stderr",
     "output_type": "stream",
     "text": [
      "loss: 53736.329, IFNA1_to_random: 3.849, IFNAR1_IFNAR2: 2.223:  37%|▎| 3776/10240 [49:31<1:24:"
     ]
    },
    {
     "name": "stdout",
     "output_type": "stream",
     "text": [
      "mean_rec: 1.282, mean_batch: 0.109\n"
     ]
    },
    {
     "name": "stderr",
     "output_type": "stream",
     "text": [
      "loss: 55071.831, IFNA1_to_random: 3.846, IFNAR1_IFNAR2: 2.225:  37%|▎| 3808/10240 [49:56<1:24:"
     ]
    },
    {
     "name": "stdout",
     "output_type": "stream",
     "text": [
      "mean_rec: 1.264, mean_batch: 0.109\n"
     ]
    },
    {
     "name": "stderr",
     "output_type": "stream",
     "text": [
      "loss: 53902.026, IFNA1_to_random: 3.845, IFNAR1_IFNAR2: 2.224:  38%|▍| 3840/10240 [50:21<1:23:"
     ]
    },
    {
     "name": "stdout",
     "output_type": "stream",
     "text": [
      "mean_rec: 1.279, mean_batch: 0.109\n"
     ]
    },
    {
     "name": "stderr",
     "output_type": "stream",
     "text": [
      "loss: 54427.172, IFNA1_to_random: 3.796, IFNAR1_IFNAR2: 2.223:  38%|▍| 3872/10240 [50:46<1:23:"
     ]
    },
    {
     "name": "stdout",
     "output_type": "stream",
     "text": [
      "mean_rec: 1.261, mean_batch: 0.109\n"
     ]
    },
    {
     "name": "stderr",
     "output_type": "stream",
     "text": [
      "loss: 53971.344, IFNA1_to_random: 3.824, IFNAR1_IFNAR2: 2.224:  38%|▍| 3904/10240 [51:12<1:22:"
     ]
    },
    {
     "name": "stdout",
     "output_type": "stream",
     "text": [
      "mean_rec: 1.283, mean_batch: 0.108\n"
     ]
    },
    {
     "name": "stderr",
     "output_type": "stream",
     "text": [
      "loss: 54516.600, IFNA1_to_random: 3.836, IFNAR1_IFNAR2: 2.223:  38%|▍| 3936/10240 [51:37<1:22:"
     ]
    },
    {
     "name": "stdout",
     "output_type": "stream",
     "text": [
      "mean_rec: 1.266, mean_batch: 0.109\n"
     ]
    },
    {
     "name": "stderr",
     "output_type": "stream",
     "text": [
      "loss: 55350.849, IFNA1_to_random: 3.812, IFNAR1_IFNAR2: 2.222:  39%|▍| 3968/10240 [52:02<1:22:"
     ]
    },
    {
     "name": "stdout",
     "output_type": "stream",
     "text": [
      "mean_rec: 1.290, mean_batch: 0.108\n"
     ]
    },
    {
     "name": "stderr",
     "output_type": "stream",
     "text": [
      "loss: 54507.107, IFNA1_to_random: 3.887, IFNAR1_IFNAR2: 2.222:  39%|▍| 4000/10240 [52:27<1:21:"
     ]
    },
    {
     "name": "stdout",
     "output_type": "stream",
     "text": [
      "mean_rec: 1.258, mean_batch: 0.109\n"
     ]
    },
    {
     "name": "stderr",
     "output_type": "stream",
     "text": [
      "loss: 53681.122, IFNA1_to_random: 3.843, IFNAR1_IFNAR2: 2.224:  39%|▍| 4032/10240 [52:52<1:21:"
     ]
    },
    {
     "name": "stdout",
     "output_type": "stream",
     "text": [
      "mean_rec: 1.289, mean_batch: 0.108\n"
     ]
    },
    {
     "name": "stderr",
     "output_type": "stream",
     "text": [
      "loss: 54818.262, IFNA1_to_random: 3.849, IFNAR1_IFNAR2: 2.226:  40%|▍| 4064/10240 [53:17<1:20:"
     ]
    },
    {
     "name": "stdout",
     "output_type": "stream",
     "text": [
      "mean_rec: 1.276, mean_batch: 0.109\n"
     ]
    },
    {
     "name": "stderr",
     "output_type": "stream",
     "text": [
      "loss: 54923.593, IFNA1_to_random: 3.802, IFNAR1_IFNAR2: 2.225:  40%|▍| 4096/10240 [53:42<1:20:"
     ]
    },
    {
     "name": "stdout",
     "output_type": "stream",
     "text": [
      "mean_rec: 1.260, mean_batch: 0.109\n"
     ]
    },
    {
     "name": "stderr",
     "output_type": "stream",
     "text": [
      "loss: 54335.526, IFNA1_to_random: 3.813, IFNAR1_IFNAR2: 2.221:  40%|▍| 4128/10240 [54:08<1:20:"
     ]
    },
    {
     "name": "stdout",
     "output_type": "stream",
     "text": [
      "mean_rec: 1.266, mean_batch: 0.109\n"
     ]
    },
    {
     "name": "stderr",
     "output_type": "stream",
     "text": [
      "loss: 54217.849, IFNA1_to_random: 3.818, IFNAR1_IFNAR2: 2.220:  41%|▍| 4160/10240 [54:33<1:19:"
     ]
    },
    {
     "name": "stdout",
     "output_type": "stream",
     "text": [
      "mean_rec: 1.265, mean_batch: 0.109\n"
     ]
    },
    {
     "name": "stderr",
     "output_type": "stream",
     "text": [
      "loss: 54223.447, IFNA1_to_random: 3.788, IFNAR1_IFNAR2: 2.222:  41%|▍| 4192/10240 [54:58<1:19:"
     ]
    },
    {
     "name": "stdout",
     "output_type": "stream",
     "text": [
      "mean_rec: 1.270, mean_batch: 0.109\n"
     ]
    },
    {
     "name": "stderr",
     "output_type": "stream",
     "text": [
      "loss: 53675.164, IFNA1_to_random: 3.826, IFNAR1_IFNAR2: 2.223:  41%|▍| 4224/10240 [55:23<1:18:"
     ]
    },
    {
     "name": "stdout",
     "output_type": "stream",
     "text": [
      "mean_rec: 1.279, mean_batch: 0.108\n"
     ]
    },
    {
     "name": "stderr",
     "output_type": "stream",
     "text": [
      "loss: 53698.565, IFNA1_to_random: 3.851, IFNAR1_IFNAR2: 2.222:  42%|▍| 4256/10240 [55:48<1:18:"
     ]
    },
    {
     "name": "stdout",
     "output_type": "stream",
     "text": [
      "mean_rec: 1.287, mean_batch: 0.108\n"
     ]
    },
    {
     "name": "stderr",
     "output_type": "stream",
     "text": [
      "loss: 53511.622, IFNA1_to_random: 3.841, IFNAR1_IFNAR2: 2.224:  42%|▍| 4288/10240 [56:13<1:18:"
     ]
    },
    {
     "name": "stdout",
     "output_type": "stream",
     "text": [
      "mean_rec: 1.287, mean_batch: 0.108\n"
     ]
    },
    {
     "name": "stderr",
     "output_type": "stream",
     "text": [
      "loss: 54484.334, IFNA1_to_random: 3.853, IFNAR1_IFNAR2: 2.224:  42%|▍| 4320/10240 [56:38<1:17:"
     ]
    },
    {
     "name": "stdout",
     "output_type": "stream",
     "text": [
      "mean_rec: 1.269, mean_batch: 0.109\n"
     ]
    },
    {
     "name": "stderr",
     "output_type": "stream",
     "text": [
      "loss: 54336.154, IFNA1_to_random: 3.799, IFNAR1_IFNAR2: 2.221:  42%|▍| 4352/10240 [57:04<1:17:"
     ]
    },
    {
     "name": "stdout",
     "output_type": "stream",
     "text": [
      "mean_rec: 1.281, mean_batch: 0.109\n"
     ]
    },
    {
     "name": "stderr",
     "output_type": "stream",
     "text": [
      "loss: 54165.538, IFNA1_to_random: 3.818, IFNAR1_IFNAR2: 2.220:  43%|▍| 4384/10240 [57:29<1:16:"
     ]
    },
    {
     "name": "stdout",
     "output_type": "stream",
     "text": [
      "mean_rec: 1.263, mean_batch: 0.109\n"
     ]
    },
    {
     "name": "stderr",
     "output_type": "stream",
     "text": [
      "loss: 54687.385, IFNA1_to_random: 3.822, IFNAR1_IFNAR2: 2.223:  43%|▍| 4416/10240 [57:54<1:16:"
     ]
    },
    {
     "name": "stdout",
     "output_type": "stream",
     "text": [
      "mean_rec: 1.254, mean_batch: 0.110\n"
     ]
    },
    {
     "name": "stderr",
     "output_type": "stream",
     "text": [
      "loss: 54440.197, IFNA1_to_random: 3.843, IFNAR1_IFNAR2: 2.225:  43%|▍| 4448/10240 [58:19<1:15:"
     ]
    },
    {
     "name": "stdout",
     "output_type": "stream",
     "text": [
      "mean_rec: 1.257, mean_batch: 0.109\n"
     ]
    },
    {
     "name": "stderr",
     "output_type": "stream",
     "text": [
      "loss: 54445.151, IFNA1_to_random: 3.852, IFNAR1_IFNAR2: 2.225:  44%|▍| 4480/10240 [58:44<1:15:"
     ]
    },
    {
     "name": "stdout",
     "output_type": "stream",
     "text": [
      "mean_rec: 1.271, mean_batch: 0.109\n"
     ]
    },
    {
     "name": "stderr",
     "output_type": "stream",
     "text": [
      "loss: 54838.552, IFNA1_to_random: 3.787, IFNAR1_IFNAR2: 2.225:  44%|▍| 4512/10240 [59:09<1:14:"
     ]
    },
    {
     "name": "stdout",
     "output_type": "stream",
     "text": [
      "mean_rec: 1.264, mean_batch: 0.109\n"
     ]
    },
    {
     "name": "stderr",
     "output_type": "stream",
     "text": [
      "loss: 53475.548, IFNA1_to_random: 3.787, IFNAR1_IFNAR2: 2.225:  44%|▍| 4544/10240 [59:35<1:14:"
     ]
    },
    {
     "name": "stdout",
     "output_type": "stream",
     "text": [
      "mean_rec: 1.296, mean_batch: 0.108\n"
     ]
    },
    {
     "name": "stderr",
     "output_type": "stream",
     "text": [
      "loss: 53681.928, IFNA1_to_random: 3.803, IFNAR1_IFNAR2: 2.223:  45%|▍| 4576/10240 [1:00:00<1:1"
     ]
    },
    {
     "name": "stdout",
     "output_type": "stream",
     "text": [
      "mean_rec: 1.277, mean_batch: 0.108\n"
     ]
    },
    {
     "name": "stderr",
     "output_type": "stream",
     "text": [
      "loss: 53371.699, IFNA1_to_random: 3.849, IFNAR1_IFNAR2: 2.224:  45%|▍| 4608/10240 [1:00:25<1:1"
     ]
    },
    {
     "name": "stdout",
     "output_type": "stream",
     "text": [
      "mean_rec: 1.298, mean_batch: 0.108\n"
     ]
    },
    {
     "name": "stderr",
     "output_type": "stream",
     "text": [
      "loss: 54313.353, IFNA1_to_random: 3.812, IFNAR1_IFNAR2: 2.223:  45%|▍| 4640/10240 [1:00:50<1:1"
     ]
    },
    {
     "name": "stdout",
     "output_type": "stream",
     "text": [
      "mean_rec: 1.272, mean_batch: 0.109\n"
     ]
    },
    {
     "name": "stderr",
     "output_type": "stream",
     "text": [
      "loss: 53943.945, IFNA1_to_random: 3.812, IFNAR1_IFNAR2: 2.222:  46%|▍| 4672/10240 [1:01:15<1:1"
     ]
    },
    {
     "name": "stdout",
     "output_type": "stream",
     "text": [
      "mean_rec: 1.282, mean_batch: 0.109\n"
     ]
    },
    {
     "name": "stderr",
     "output_type": "stream",
     "text": [
      "loss: 53661.797, IFNA1_to_random: 3.859, IFNAR1_IFNAR2: 2.219:  46%|▍| 4704/10240 [1:01:41<1:1"
     ]
    },
    {
     "name": "stdout",
     "output_type": "stream",
     "text": [
      "mean_rec: 1.275, mean_batch: 0.108\n"
     ]
    },
    {
     "name": "stderr",
     "output_type": "stream",
     "text": [
      "loss: 52831.301, IFNA1_to_random: 3.869, IFNAR1_IFNAR2: 2.216:  46%|▍| 4736/10240 [1:02:06<1:1"
     ]
    },
    {
     "name": "stdout",
     "output_type": "stream",
     "text": [
      "mean_rec: 1.321, mean_batch: 0.107\n"
     ]
    },
    {
     "name": "stderr",
     "output_type": "stream",
     "text": [
      "loss: 53436.379, IFNA1_to_random: 3.802, IFNAR1_IFNAR2: 2.218:  47%|▍| 4768/10240 [1:02:31<1:1"
     ]
    },
    {
     "name": "stdout",
     "output_type": "stream",
     "text": [
      "mean_rec: 1.303, mean_batch: 0.108\n"
     ]
    },
    {
     "name": "stderr",
     "output_type": "stream",
     "text": [
      "loss: 53511.595, IFNA1_to_random: 3.782, IFNAR1_IFNAR2: 2.218:  47%|▍| 4800/10240 [1:02:56<1:1"
     ]
    },
    {
     "name": "stdout",
     "output_type": "stream",
     "text": [
      "mean_rec: 1.292, mean_batch: 0.108\n"
     ]
    },
    {
     "name": "stderr",
     "output_type": "stream",
     "text": [
      "loss: 53897.121, IFNA1_to_random: 3.834, IFNAR1_IFNAR2: 2.218:  47%|▍| 4832/10240 [1:03:21<1:1"
     ]
    },
    {
     "name": "stdout",
     "output_type": "stream",
     "text": [
      "mean_rec: 1.277, mean_batch: 0.109\n"
     ]
    },
    {
     "name": "stderr",
     "output_type": "stream",
     "text": [
      "loss: 54526.524, IFNA1_to_random: 3.830, IFNAR1_IFNAR2: 2.218:  48%|▍| 4864/10240 [1:03:47<1:1"
     ]
    },
    {
     "name": "stdout",
     "output_type": "stream",
     "text": [
      "mean_rec: 1.266, mean_batch: 0.109\n"
     ]
    },
    {
     "name": "stderr",
     "output_type": "stream",
     "text": [
      "loss: 53363.934, IFNA1_to_random: 3.851, IFNAR1_IFNAR2: 2.220:  48%|▍| 4896/10240 [1:04:12<1:1"
     ]
    },
    {
     "name": "stdout",
     "output_type": "stream",
     "text": [
      "mean_rec: 1.299, mean_batch: 0.108\n"
     ]
    },
    {
     "name": "stderr",
     "output_type": "stream",
     "text": [
      "loss: 53493.439, IFNA1_to_random: 3.819, IFNAR1_IFNAR2: 2.221:  48%|▍| 4928/10240 [1:04:37<1:0"
     ]
    },
    {
     "name": "stdout",
     "output_type": "stream",
     "text": [
      "mean_rec: 1.283, mean_batch: 0.108\n"
     ]
    },
    {
     "name": "stderr",
     "output_type": "stream",
     "text": [
      "loss: 53686.813, IFNA1_to_random: 3.810, IFNAR1_IFNAR2: 2.222:  48%|▍| 4960/10240 [1:05:02<1:0"
     ]
    },
    {
     "name": "stdout",
     "output_type": "stream",
     "text": [
      "mean_rec: 1.281, mean_batch: 0.108\n"
     ]
    },
    {
     "name": "stderr",
     "output_type": "stream",
     "text": [
      "loss: 53893.144, IFNA1_to_random: 3.836, IFNAR1_IFNAR2: 2.219:  49%|▍| 4992/10240 [1:05:27<1:0"
     ]
    },
    {
     "name": "stdout",
     "output_type": "stream",
     "text": [
      "mean_rec: 1.272, mean_batch: 0.109\n"
     ]
    },
    {
     "name": "stderr",
     "output_type": "stream",
     "text": [
      "loss: 53228.036, IFNA1_to_random: 3.809, IFNAR1_IFNAR2: 2.219:  49%|▍| 5024/10240 [1:05:53<1:0"
     ]
    },
    {
     "name": "stdout",
     "output_type": "stream",
     "text": [
      "mean_rec: 1.287, mean_batch: 0.108\n"
     ]
    },
    {
     "name": "stderr",
     "output_type": "stream",
     "text": [
      "loss: 54294.013, IFNA1_to_random: 3.822, IFNAR1_IFNAR2: 2.218:  49%|▍| 5056/10240 [1:06:18<1:0"
     ]
    },
    {
     "name": "stdout",
     "output_type": "stream",
     "text": [
      "mean_rec: 1.284, mean_batch: 0.109\n"
     ]
    },
    {
     "name": "stderr",
     "output_type": "stream",
     "text": [
      "loss: 53887.009, IFNA1_to_random: 3.821, IFNAR1_IFNAR2: 2.217:  50%|▍| 5088/10240 [1:06:43<1:0"
     ]
    },
    {
     "name": "stdout",
     "output_type": "stream",
     "text": [
      "mean_rec: 1.272, mean_batch: 0.109\n"
     ]
    },
    {
     "name": "stderr",
     "output_type": "stream",
     "text": [
      "loss: 53835.786, IFNA1_to_random: 3.845, IFNAR1_IFNAR2: 2.212:  50%|▌| 5120/10240 [1:07:08<1:0"
     ]
    },
    {
     "name": "stdout",
     "output_type": "stream",
     "text": [
      "mean_rec: 1.278, mean_batch: 0.109\n"
     ]
    },
    {
     "name": "stderr",
     "output_type": "stream",
     "text": [
      "loss: 53801.624, IFNA1_to_random: 3.847, IFNAR1_IFNAR2: 2.210:  50%|▌| 5152/10240 [1:07:33<1:0"
     ]
    },
    {
     "name": "stdout",
     "output_type": "stream",
     "text": [
      "mean_rec: 1.271, mean_batch: 0.109\n"
     ]
    },
    {
     "name": "stderr",
     "output_type": "stream",
     "text": [
      "loss: 54066.774, IFNA1_to_random: 3.841, IFNAR1_IFNAR2: 2.211:  51%|▌| 5184/10240 [1:07:59<1:0"
     ]
    },
    {
     "name": "stdout",
     "output_type": "stream",
     "text": [
      "mean_rec: 1.268, mean_batch: 0.109\n"
     ]
    },
    {
     "name": "stderr",
     "output_type": "stream",
     "text": [
      "loss: 55288.600, IFNA1_to_random: 3.794, IFNAR1_IFNAR2: 2.211:  51%|▌| 5216/10240 [1:08:24<1:0"
     ]
    },
    {
     "name": "stdout",
     "output_type": "stream",
     "text": [
      "mean_rec: 1.247, mean_batch: 0.110\n"
     ]
    },
    {
     "name": "stderr",
     "output_type": "stream",
     "text": [
      "loss: 54123.032, IFNA1_to_random: 3.810, IFNAR1_IFNAR2: 2.211:  51%|▌| 5248/10240 [1:08:49<1:0"
     ]
    },
    {
     "name": "stdout",
     "output_type": "stream",
     "text": [
      "mean_rec: 1.271, mean_batch: 0.109\n"
     ]
    },
    {
     "name": "stderr",
     "output_type": "stream",
     "text": [
      "loss: 53523.712, IFNA1_to_random: 3.829, IFNAR1_IFNAR2: 2.211:  52%|▌| 5280/10240 [1:09:14<1:0"
     ]
    },
    {
     "name": "stdout",
     "output_type": "stream",
     "text": [
      "mean_rec: 1.288, mean_batch: 0.108\n"
     ]
    },
    {
     "name": "stderr",
     "output_type": "stream",
     "text": [
      "loss: 53712.191, IFNA1_to_random: 3.804, IFNAR1_IFNAR2: 2.211:  52%|▌| 5312/10240 [1:09:40<1:0"
     ]
    },
    {
     "name": "stdout",
     "output_type": "stream",
     "text": [
      "mean_rec: 1.279, mean_batch: 0.108\n"
     ]
    },
    {
     "name": "stderr",
     "output_type": "stream",
     "text": [
      "loss: 53926.369, IFNA1_to_random: 3.829, IFNAR1_IFNAR2: 2.213:  52%|▌| 5344/10240 [1:10:05<1:0"
     ]
    },
    {
     "name": "stdout",
     "output_type": "stream",
     "text": [
      "mean_rec: 1.274, mean_batch: 0.109\n"
     ]
    },
    {
     "name": "stderr",
     "output_type": "stream",
     "text": [
      "loss: 53225.922, IFNA1_to_random: 3.827, IFNAR1_IFNAR2: 2.215:  52%|▌| 5376/10240 [1:10:30<1:0"
     ]
    },
    {
     "name": "stdout",
     "output_type": "stream",
     "text": [
      "mean_rec: 1.296, mean_batch: 0.108\n"
     ]
    },
    {
     "name": "stderr",
     "output_type": "stream",
     "text": [
      "loss: 53752.209, IFNA1_to_random: 3.820, IFNAR1_IFNAR2: 2.214:  53%|▌| 5408/10240 [1:10:55<1:0"
     ]
    },
    {
     "name": "stdout",
     "output_type": "stream",
     "text": [
      "mean_rec: 1.289, mean_batch: 0.108\n"
     ]
    },
    {
     "name": "stderr",
     "output_type": "stream",
     "text": [
      "loss: 54385.830, IFNA1_to_random: 3.785, IFNAR1_IFNAR2: 2.214:  53%|▌| 5440/10240 [1:11:20<1:0"
     ]
    },
    {
     "name": "stdout",
     "output_type": "stream",
     "text": [
      "mean_rec: 1.289, mean_batch: 0.108\n"
     ]
    },
    {
     "name": "stderr",
     "output_type": "stream",
     "text": [
      "loss: 54349.905, IFNA1_to_random: 3.861, IFNAR1_IFNAR2: 2.214:  53%|▌| 5472/10240 [1:11:46<1:0"
     ]
    },
    {
     "name": "stdout",
     "output_type": "stream",
     "text": [
      "mean_rec: 1.298, mean_batch: 0.108\n"
     ]
    },
    {
     "name": "stderr",
     "output_type": "stream",
     "text": [
      "loss: 53391.214, IFNA1_to_random: 3.824, IFNAR1_IFNAR2: 2.215:  54%|▌| 5504/10240 [1:12:11<1:0"
     ]
    },
    {
     "name": "stdout",
     "output_type": "stream",
     "text": [
      "mean_rec: 1.286, mean_batch: 0.108\n"
     ]
    },
    {
     "name": "stderr",
     "output_type": "stream",
     "text": [
      "loss: 53656.109, IFNA1_to_random: 3.821, IFNAR1_IFNAR2: 2.215:  54%|▌| 5536/10240 [1:12:36<1:0"
     ]
    },
    {
     "name": "stdout",
     "output_type": "stream",
     "text": [
      "mean_rec: 1.285, mean_batch: 0.108\n"
     ]
    },
    {
     "name": "stderr",
     "output_type": "stream",
     "text": [
      "loss: 54039.621, IFNA1_to_random: 3.815, IFNAR1_IFNAR2: 2.218:  54%|▌| 5568/10240 [1:13:01<1:0"
     ]
    },
    {
     "name": "stdout",
     "output_type": "stream",
     "text": [
      "mean_rec: 1.270, mean_batch: 0.109\n"
     ]
    },
    {
     "name": "stderr",
     "output_type": "stream",
     "text": [
      "loss: 54233.038, IFNA1_to_random: 3.868, IFNAR1_IFNAR2: 2.218:  55%|▌| 5600/10240 [1:13:26<1:0"
     ]
    },
    {
     "name": "stdout",
     "output_type": "stream",
     "text": [
      "mean_rec: 1.270, mean_batch: 0.109\n"
     ]
    },
    {
     "name": "stderr",
     "output_type": "stream",
     "text": [
      "loss: 54050.725, IFNA1_to_random: 3.821, IFNAR1_IFNAR2: 2.217:  55%|▌| 5632/10240 [1:13:51<1:0"
     ]
    },
    {
     "name": "stdout",
     "output_type": "stream",
     "text": [
      "mean_rec: 1.272, mean_batch: 0.109\n"
     ]
    },
    {
     "name": "stderr",
     "output_type": "stream",
     "text": [
      "loss: 53233.956, IFNA1_to_random: 3.815, IFNAR1_IFNAR2: 2.217:  55%|▌| 5664/10240 [1:14:17<59:"
     ]
    },
    {
     "name": "stdout",
     "output_type": "stream",
     "text": [
      "mean_rec: 1.303, mean_batch: 0.108\n"
     ]
    },
    {
     "name": "stderr",
     "output_type": "stream",
     "text": [
      "loss: 54008.324, IFNA1_to_random: 3.830, IFNAR1_IFNAR2: 2.214:  56%|▌| 5696/10240 [1:14:42<59:"
     ]
    },
    {
     "name": "stdout",
     "output_type": "stream",
     "text": [
      "mean_rec: 1.278, mean_batch: 0.109\n"
     ]
    },
    {
     "name": "stderr",
     "output_type": "stream",
     "text": [
      "loss: 53631.482, IFNA1_to_random: 3.815, IFNAR1_IFNAR2: 2.213:  56%|▌| 5728/10240 [1:15:07<59:"
     ]
    },
    {
     "name": "stdout",
     "output_type": "stream",
     "text": [
      "mean_rec: 1.293, mean_batch: 0.108\n"
     ]
    },
    {
     "name": "stderr",
     "output_type": "stream",
     "text": [
      "loss: 53597.566, IFNA1_to_random: 3.837, IFNAR1_IFNAR2: 2.212:  56%|▌| 5760/10240 [1:15:32<58:"
     ]
    },
    {
     "name": "stdout",
     "output_type": "stream",
     "text": [
      "mean_rec: 1.287, mean_batch: 0.108\n"
     ]
    },
    {
     "name": "stderr",
     "output_type": "stream",
     "text": [
      "loss: 54128.754, IFNA1_to_random: 3.812, IFNAR1_IFNAR2: 2.213:  57%|▌| 5792/10240 [1:15:57<58:"
     ]
    },
    {
     "name": "stdout",
     "output_type": "stream",
     "text": [
      "mean_rec: 1.271, mean_batch: 0.109\n"
     ]
    },
    {
     "name": "stderr",
     "output_type": "stream",
     "text": [
      "loss: 53629.883, IFNA1_to_random: 3.886, IFNAR1_IFNAR2: 2.212:  57%|▌| 5824/10240 [1:16:22<57:"
     ]
    },
    {
     "name": "stdout",
     "output_type": "stream",
     "text": [
      "mean_rec: 1.290, mean_batch: 0.109\n"
     ]
    },
    {
     "name": "stderr",
     "output_type": "stream",
     "text": [
      "loss: 53670.574, IFNA1_to_random: 3.865, IFNAR1_IFNAR2: 2.214:  57%|▌| 5856/10240 [1:16:48<57:"
     ]
    },
    {
     "name": "stdout",
     "output_type": "stream",
     "text": [
      "mean_rec: 1.294, mean_batch: 0.108\n"
     ]
    },
    {
     "name": "stderr",
     "output_type": "stream",
     "text": [
      "loss: 53766.519, IFNA1_to_random: 3.799, IFNAR1_IFNAR2: 2.215:  57%|▌| 5888/10240 [1:17:13<56:"
     ]
    },
    {
     "name": "stdout",
     "output_type": "stream",
     "text": [
      "mean_rec: 1.275, mean_batch: 0.108\n"
     ]
    },
    {
     "name": "stderr",
     "output_type": "stream",
     "text": [
      "loss: 53747.342, IFNA1_to_random: 3.834, IFNAR1_IFNAR2: 2.216:  58%|▌| 5920/10240 [1:17:38<56:"
     ]
    },
    {
     "name": "stdout",
     "output_type": "stream",
     "text": [
      "mean_rec: 1.283, mean_batch: 0.109\n"
     ]
    },
    {
     "name": "stderr",
     "output_type": "stream",
     "text": [
      "loss: 53197.914, IFNA1_to_random: 3.826, IFNAR1_IFNAR2: 2.217:  58%|▌| 5952/10240 [1:18:03<56:"
     ]
    },
    {
     "name": "stdout",
     "output_type": "stream",
     "text": [
      "mean_rec: 1.297, mean_batch: 0.108\n"
     ]
    },
    {
     "name": "stderr",
     "output_type": "stream",
     "text": [
      "loss: 54061.675, IFNA1_to_random: 3.837, IFNAR1_IFNAR2: 2.218:  58%|▌| 5984/10240 [1:18:28<55:"
     ]
    },
    {
     "name": "stdout",
     "output_type": "stream",
     "text": [
      "mean_rec: 1.272, mean_batch: 0.109\n"
     ]
    },
    {
     "name": "stderr",
     "output_type": "stream",
     "text": [
      "loss: 54467.203, IFNA1_to_random: 3.822, IFNAR1_IFNAR2: 2.218:  59%|▌| 6016/10240 [1:18:53<55:"
     ]
    },
    {
     "name": "stdout",
     "output_type": "stream",
     "text": [
      "mean_rec: 1.268, mean_batch: 0.109\n"
     ]
    },
    {
     "name": "stderr",
     "output_type": "stream",
     "text": [
      "loss: 53773.917, IFNA1_to_random: 3.865, IFNAR1_IFNAR2: 2.218:  59%|▌| 6048/10240 [1:19:19<54:"
     ]
    },
    {
     "name": "stdout",
     "output_type": "stream",
     "text": [
      "mean_rec: 1.281, mean_batch: 0.108\n"
     ]
    },
    {
     "name": "stderr",
     "output_type": "stream",
     "text": [
      "loss: 54243.549, IFNA1_to_random: 3.889, IFNAR1_IFNAR2: 2.218:  59%|▌| 6080/10240 [1:19:44<54:"
     ]
    },
    {
     "name": "stdout",
     "output_type": "stream",
     "text": [
      "mean_rec: 1.268, mean_batch: 0.109\n"
     ]
    },
    {
     "name": "stderr",
     "output_type": "stream",
     "text": [
      "loss: 53596.178, IFNA1_to_random: 3.823, IFNAR1_IFNAR2: 2.217:  60%|▌| 6112/10240 [1:20:09<54:"
     ]
    },
    {
     "name": "stdout",
     "output_type": "stream",
     "text": [
      "mean_rec: 1.292, mean_batch: 0.108\n"
     ]
    },
    {
     "name": "stderr",
     "output_type": "stream",
     "text": [
      "loss: 52909.003, IFNA1_to_random: 3.842, IFNAR1_IFNAR2: 2.214:  60%|▌| 6144/10240 [1:20:34<53:"
     ]
    },
    {
     "name": "stdout",
     "output_type": "stream",
     "text": [
      "mean_rec: 1.314, mean_batch: 0.107\n"
     ]
    },
    {
     "name": "stderr",
     "output_type": "stream",
     "text": [
      "loss: 53588.238, IFNA1_to_random: 3.905, IFNAR1_IFNAR2: 2.213:  60%|▌| 6176/10240 [1:20:59<53:"
     ]
    },
    {
     "name": "stdout",
     "output_type": "stream",
     "text": [
      "mean_rec: 1.293, mean_batch: 0.108\n"
     ]
    },
    {
     "name": "stderr",
     "output_type": "stream",
     "text": [
      "loss: 53573.040, IFNA1_to_random: 3.827, IFNAR1_IFNAR2: 2.211:  61%|▌| 6208/10240 [1:21:24<52:"
     ]
    },
    {
     "name": "stdout",
     "output_type": "stream",
     "text": [
      "mean_rec: 1.300, mean_batch: 0.108\n"
     ]
    },
    {
     "name": "stderr",
     "output_type": "stream",
     "text": [
      "loss: 54664.063, IFNA1_to_random: 3.815, IFNAR1_IFNAR2: 2.209:  61%|▌| 6240/10240 [1:21:49<52:"
     ]
    },
    {
     "name": "stdout",
     "output_type": "stream",
     "text": [
      "mean_rec: 1.277, mean_batch: 0.109\n"
     ]
    },
    {
     "name": "stderr",
     "output_type": "stream",
     "text": [
      "loss: 53630.078, IFNA1_to_random: 3.849, IFNAR1_IFNAR2: 2.206:  61%|▌| 6272/10240 [1:22:15<51:"
     ]
    },
    {
     "name": "stdout",
     "output_type": "stream",
     "text": [
      "mean_rec: 1.290, mean_batch: 0.108\n"
     ]
    },
    {
     "name": "stderr",
     "output_type": "stream",
     "text": [
      "loss: 53843.391, IFNA1_to_random: 3.786, IFNAR1_IFNAR2: 2.205:  62%|▌| 6304/10240 [1:22:40<51:"
     ]
    },
    {
     "name": "stdout",
     "output_type": "stream",
     "text": [
      "mean_rec: 1.281, mean_batch: 0.108\n"
     ]
    },
    {
     "name": "stderr",
     "output_type": "stream",
     "text": [
      "loss: 53633.316, IFNA1_to_random: 3.781, IFNAR1_IFNAR2: 2.206:  62%|▌| 6336/10240 [1:23:05<51:"
     ]
    },
    {
     "name": "stdout",
     "output_type": "stream",
     "text": [
      "mean_rec: 1.278, mean_batch: 0.108\n"
     ]
    },
    {
     "name": "stderr",
     "output_type": "stream",
     "text": [
      "loss: 53937.743, IFNA1_to_random: 3.849, IFNAR1_IFNAR2: 2.206:  62%|▌| 6368/10240 [1:23:30<50:"
     ]
    },
    {
     "name": "stdout",
     "output_type": "stream",
     "text": [
      "mean_rec: 1.288, mean_batch: 0.108\n"
     ]
    },
    {
     "name": "stderr",
     "output_type": "stream",
     "text": [
      "loss: 53950.523, IFNA1_to_random: 3.789, IFNAR1_IFNAR2: 2.207:  62%|▋| 6400/10240 [1:23:55<50:"
     ]
    },
    {
     "name": "stdout",
     "output_type": "stream",
     "text": [
      "mean_rec: 1.273, mean_batch: 0.109\n"
     ]
    },
    {
     "name": "stderr",
     "output_type": "stream",
     "text": [
      "loss: 56380.636, IFNA1_to_random: 3.880, IFNAR1_IFNAR2: 2.210:  63%|▋| 6432/10240 [1:24:20<49:"
     ]
    },
    {
     "name": "stdout",
     "output_type": "stream",
     "text": [
      "mean_rec: 1.294, mean_batch: 0.109\n"
     ]
    },
    {
     "name": "stderr",
     "output_type": "stream",
     "text": [
      "loss: 54674.279, IFNA1_to_random: 3.802, IFNAR1_IFNAR2: 2.214:  63%|▋| 6464/10240 [1:24:45<49:"
     ]
    },
    {
     "name": "stdout",
     "output_type": "stream",
     "text": [
      "mean_rec: 1.238, mean_batch: 0.109\n"
     ]
    },
    {
     "name": "stderr",
     "output_type": "stream",
     "text": [
      "loss: 53471.178, IFNA1_to_random: 3.842, IFNAR1_IFNAR2: 2.213:  63%|▋| 6496/10240 [1:25:11<49:"
     ]
    },
    {
     "name": "stdout",
     "output_type": "stream",
     "text": [
      "mean_rec: 1.277, mean_batch: 0.108\n"
     ]
    },
    {
     "name": "stderr",
     "output_type": "stream",
     "text": [
      "loss: 53912.335, IFNA1_to_random: 3.838, IFNAR1_IFNAR2: 2.213:  64%|▋| 6528/10240 [1:25:36<48:"
     ]
    },
    {
     "name": "stdout",
     "output_type": "stream",
     "text": [
      "mean_rec: 1.266, mean_batch: 0.109\n"
     ]
    },
    {
     "name": "stderr",
     "output_type": "stream",
     "text": [
      "loss: 53932.090, IFNA1_to_random: 3.799, IFNAR1_IFNAR2: 2.216:  64%|▋| 6560/10240 [1:26:01<48:"
     ]
    },
    {
     "name": "stdout",
     "output_type": "stream",
     "text": [
      "mean_rec: 1.278, mean_batch: 0.109\n"
     ]
    },
    {
     "name": "stderr",
     "output_type": "stream",
     "text": [
      "loss: 53284.449, IFNA1_to_random: 3.866, IFNAR1_IFNAR2: 2.216:  64%|▋| 6592/10240 [1:26:26<47:"
     ]
    },
    {
     "name": "stdout",
     "output_type": "stream",
     "text": [
      "mean_rec: 1.291, mean_batch: 0.108\n"
     ]
    },
    {
     "name": "stderr",
     "output_type": "stream",
     "text": [
      "loss: 53872.440, IFNA1_to_random: 3.855, IFNAR1_IFNAR2: 2.218:  65%|▋| 6624/10240 [1:26:51<47:"
     ]
    },
    {
     "name": "stdout",
     "output_type": "stream",
     "text": [
      "mean_rec: 1.273, mean_batch: 0.109\n"
     ]
    },
    {
     "name": "stderr",
     "output_type": "stream",
     "text": [
      "loss: 53590.958, IFNA1_to_random: 3.826, IFNAR1_IFNAR2: 2.219:  65%|▋| 6656/10240 [1:27:16<47:"
     ]
    },
    {
     "name": "stdout",
     "output_type": "stream",
     "text": [
      "mean_rec: 1.286, mean_batch: 0.108\n"
     ]
    },
    {
     "name": "stderr",
     "output_type": "stream",
     "text": [
      "loss: 54304.439, IFNA1_to_random: 3.838, IFNAR1_IFNAR2: 2.219:  65%|▋| 6688/10240 [1:27:42<46:"
     ]
    },
    {
     "name": "stdout",
     "output_type": "stream",
     "text": [
      "mean_rec: 1.266, mean_batch: 0.109\n"
     ]
    },
    {
     "name": "stderr",
     "output_type": "stream",
     "text": [
      "loss: 54131.950, IFNA1_to_random: 3.813, IFNAR1_IFNAR2: 2.217:  66%|▋| 6720/10240 [1:28:07<46:"
     ]
    },
    {
     "name": "stdout",
     "output_type": "stream",
     "text": [
      "mean_rec: 1.263, mean_batch: 0.109\n"
     ]
    },
    {
     "name": "stderr",
     "output_type": "stream",
     "text": [
      "loss: 53974.203, IFNA1_to_random: 3.883, IFNAR1_IFNAR2: 2.212:  66%|▋| 6752/10240 [1:28:32<45:"
     ]
    },
    {
     "name": "stdout",
     "output_type": "stream",
     "text": [
      "mean_rec: 1.274, mean_batch: 0.109\n"
     ]
    },
    {
     "name": "stderr",
     "output_type": "stream",
     "text": [
      "loss: 53951.992, IFNA1_to_random: 3.788, IFNAR1_IFNAR2: 2.212:  66%|▋| 6784/10240 [1:28:57<45:"
     ]
    },
    {
     "name": "stdout",
     "output_type": "stream",
     "text": [
      "mean_rec: 1.264, mean_batch: 0.109\n"
     ]
    },
    {
     "name": "stderr",
     "output_type": "stream",
     "text": [
      "loss: 53666.381, IFNA1_to_random: 3.849, IFNAR1_IFNAR2: 2.215:  67%|▋| 6816/10240 [1:29:22<44:"
     ]
    },
    {
     "name": "stdout",
     "output_type": "stream",
     "text": [
      "mean_rec: 1.282, mean_batch: 0.108\n"
     ]
    },
    {
     "name": "stderr",
     "output_type": "stream",
     "text": [
      "loss: 54413.610, IFNA1_to_random: 3.858, IFNAR1_IFNAR2: 2.212:  67%|▋| 6848/10240 [1:29:47<44:"
     ]
    },
    {
     "name": "stdout",
     "output_type": "stream",
     "text": [
      "mean_rec: 1.255, mean_batch: 0.109\n"
     ]
    },
    {
     "name": "stderr",
     "output_type": "stream",
     "text": [
      "loss: 54006.636, IFNA1_to_random: 3.846, IFNAR1_IFNAR2: 2.210:  67%|▋| 6880/10240 [1:30:13<44:"
     ]
    },
    {
     "name": "stdout",
     "output_type": "stream",
     "text": [
      "mean_rec: 1.272, mean_batch: 0.109\n"
     ]
    },
    {
     "name": "stderr",
     "output_type": "stream",
     "text": [
      "loss: 53338.950, IFNA1_to_random: 3.824, IFNAR1_IFNAR2: 2.207:  68%|▋| 6912/10240 [1:30:38<43:"
     ]
    },
    {
     "name": "stdout",
     "output_type": "stream",
     "text": [
      "mean_rec: 1.297, mean_batch: 0.108\n"
     ]
    },
    {
     "name": "stderr",
     "output_type": "stream",
     "text": [
      "loss: 53615.348, IFNA1_to_random: 3.868, IFNAR1_IFNAR2: 2.206:  68%|▋| 6944/10240 [1:31:03<43:"
     ]
    },
    {
     "name": "stdout",
     "output_type": "stream",
     "text": [
      "mean_rec: 1.292, mean_batch: 0.108\n"
     ]
    },
    {
     "name": "stderr",
     "output_type": "stream",
     "text": [
      "loss: 53445.786, IFNA1_to_random: 3.816, IFNAR1_IFNAR2: 2.209:  68%|▋| 6976/10240 [1:31:28<42:"
     ]
    },
    {
     "name": "stdout",
     "output_type": "stream",
     "text": [
      "mean_rec: 1.286, mean_batch: 0.108\n"
     ]
    },
    {
     "name": "stderr",
     "output_type": "stream",
     "text": [
      "loss: 53813.154, IFNA1_to_random: 3.818, IFNAR1_IFNAR2: 2.209:  68%|▋| 7008/10240 [1:31:53<42:"
     ]
    },
    {
     "name": "stdout",
     "output_type": "stream",
     "text": [
      "mean_rec: 1.285, mean_batch: 0.108\n"
     ]
    },
    {
     "name": "stderr",
     "output_type": "stream",
     "text": [
      "loss: 53923.658, IFNA1_to_random: 3.808, IFNAR1_IFNAR2: 2.207:  69%|▋| 7040/10240 [1:32:18<41:"
     ]
    },
    {
     "name": "stdout",
     "output_type": "stream",
     "text": [
      "mean_rec: 1.284, mean_batch: 0.108\n"
     ]
    },
    {
     "name": "stderr",
     "output_type": "stream",
     "text": [
      "loss: 54254.570, IFNA1_to_random: 3.840, IFNAR1_IFNAR2: 2.207:  69%|▋| 7072/10240 [1:32:44<41:"
     ]
    },
    {
     "name": "stdout",
     "output_type": "stream",
     "text": [
      "mean_rec: 1.270, mean_batch: 0.109\n"
     ]
    },
    {
     "name": "stderr",
     "output_type": "stream",
     "text": [
      "loss: 53722.810, IFNA1_to_random: 3.827, IFNAR1_IFNAR2: 2.208:  69%|▋| 7104/10240 [1:33:09<41:"
     ]
    },
    {
     "name": "stdout",
     "output_type": "stream",
     "text": [
      "mean_rec: 1.274, mean_batch: 0.109\n"
     ]
    },
    {
     "name": "stderr",
     "output_type": "stream",
     "text": [
      "loss: 54788.572, IFNA1_to_random: 3.838, IFNAR1_IFNAR2: 2.208:  70%|▋| 7136/10240 [1:33:34<40:"
     ]
    },
    {
     "name": "stdout",
     "output_type": "stream",
     "text": [
      "mean_rec: 1.246, mean_batch: 0.110\n"
     ]
    },
    {
     "name": "stderr",
     "output_type": "stream",
     "text": [
      "loss: 54190.557, IFNA1_to_random: 3.793, IFNAR1_IFNAR2: 2.206:  70%|▋| 7168/10240 [1:33:59<40:"
     ]
    },
    {
     "name": "stdout",
     "output_type": "stream",
     "text": [
      "mean_rec: 1.268, mean_batch: 0.109\n"
     ]
    },
    {
     "name": "stderr",
     "output_type": "stream",
     "text": [
      "loss: 54182.760, IFNA1_to_random: 3.839, IFNAR1_IFNAR2: 2.205:  70%|▋| 7200/10240 [1:34:24<39:"
     ]
    },
    {
     "name": "stdout",
     "output_type": "stream",
     "text": [
      "mean_rec: 1.266, mean_batch: 0.109\n"
     ]
    },
    {
     "name": "stderr",
     "output_type": "stream",
     "text": [
      "loss: 53566.270, IFNA1_to_random: 3.826, IFNAR1_IFNAR2: 2.204:  71%|▋| 7232/10240 [1:34:49<39:"
     ]
    },
    {
     "name": "stdout",
     "output_type": "stream",
     "text": [
      "mean_rec: 1.286, mean_batch: 0.108\n"
     ]
    },
    {
     "name": "stderr",
     "output_type": "stream",
     "text": [
      "loss: 54554.566, IFNA1_to_random: 3.857, IFNAR1_IFNAR2: 2.205:  71%|▋| 7264/10240 [1:35:15<39:"
     ]
    },
    {
     "name": "stdout",
     "output_type": "stream",
     "text": [
      "mean_rec: 1.246, mean_batch: 0.110\n"
     ]
    },
    {
     "name": "stderr",
     "output_type": "stream",
     "text": [
      "loss: 53878.047, IFNA1_to_random: 3.872, IFNAR1_IFNAR2: 2.209:  71%|▋| 7296/10240 [1:35:40<38:"
     ]
    },
    {
     "name": "stdout",
     "output_type": "stream",
     "text": [
      "mean_rec: 1.285, mean_batch: 0.109\n"
     ]
    },
    {
     "name": "stderr",
     "output_type": "stream",
     "text": [
      "loss: 53922.057, IFNA1_to_random: 3.840, IFNAR1_IFNAR2: 2.209:  72%|▋| 7328/10240 [1:36:05<38:"
     ]
    },
    {
     "name": "stdout",
     "output_type": "stream",
     "text": [
      "mean_rec: 1.286, mean_batch: 0.108\n"
     ]
    },
    {
     "name": "stderr",
     "output_type": "stream",
     "text": [
      "loss: 54411.421, IFNA1_to_random: 3.756, IFNAR1_IFNAR2: 2.208:  72%|▋| 7360/10240 [1:36:30<37:"
     ]
    },
    {
     "name": "stdout",
     "output_type": "stream",
     "text": [
      "mean_rec: 1.267, mean_batch: 0.109\n"
     ]
    },
    {
     "name": "stderr",
     "output_type": "stream",
     "text": [
      "loss: 53575.587, IFNA1_to_random: 3.876, IFNAR1_IFNAR2: 2.208:  72%|▋| 7392/10240 [1:36:55<37:"
     ]
    },
    {
     "name": "stdout",
     "output_type": "stream",
     "text": [
      "mean_rec: 1.284, mean_batch: 0.108\n"
     ]
    },
    {
     "name": "stderr",
     "output_type": "stream",
     "text": [
      "loss: 54279.838, IFNA1_to_random: 3.776, IFNAR1_IFNAR2: 2.206:  72%|▋| 7424/10240 [1:37:20<36:"
     ]
    },
    {
     "name": "stdout",
     "output_type": "stream",
     "text": [
      "mean_rec: 1.265, mean_batch: 0.109\n"
     ]
    },
    {
     "name": "stderr",
     "output_type": "stream",
     "text": [
      "loss: 53398.315, IFNA1_to_random: 3.815, IFNAR1_IFNAR2: 2.205:  73%|▋| 7456/10240 [1:37:46<36:"
     ]
    },
    {
     "name": "stdout",
     "output_type": "stream",
     "text": [
      "mean_rec: 1.292, mean_batch: 0.108\n"
     ]
    },
    {
     "name": "stderr",
     "output_type": "stream",
     "text": [
      "loss: 53493.440, IFNA1_to_random: 3.874, IFNAR1_IFNAR2: 2.203:  73%|▋| 7488/10240 [1:38:11<35:"
     ]
    },
    {
     "name": "stdout",
     "output_type": "stream",
     "text": [
      "mean_rec: 1.295, mean_batch: 0.108\n"
     ]
    },
    {
     "name": "stderr",
     "output_type": "stream",
     "text": [
      "loss: 54064.136, IFNA1_to_random: 3.835, IFNAR1_IFNAR2: 2.201:  73%|▋| 7520/10240 [1:38:36<35:"
     ]
    },
    {
     "name": "stdout",
     "output_type": "stream",
     "text": [
      "mean_rec: 1.271, mean_batch: 0.109\n"
     ]
    },
    {
     "name": "stderr",
     "output_type": "stream",
     "text": [
      "loss: 53343.308, IFNA1_to_random: 3.812, IFNAR1_IFNAR2: 2.203:  74%|▋| 7552/10240 [1:39:01<35:"
     ]
    },
    {
     "name": "stdout",
     "output_type": "stream",
     "text": [
      "mean_rec: 1.286, mean_batch: 0.108\n"
     ]
    },
    {
     "name": "stderr",
     "output_type": "stream",
     "text": [
      "loss: 54058.971, IFNA1_to_random: 3.852, IFNAR1_IFNAR2: 2.208:  74%|▋| 7584/10240 [1:39:26<34:"
     ]
    },
    {
     "name": "stdout",
     "output_type": "stream",
     "text": [
      "mean_rec: 1.273, mean_batch: 0.109\n"
     ]
    },
    {
     "name": "stderr",
     "output_type": "stream",
     "text": [
      "loss: 53242.012, IFNA1_to_random: 3.826, IFNAR1_IFNAR2: 2.211:  74%|▋| 7616/10240 [1:39:52<34:"
     ]
    },
    {
     "name": "stdout",
     "output_type": "stream",
     "text": [
      "mean_rec: 1.299, mean_batch: 0.108\n"
     ]
    },
    {
     "name": "stderr",
     "output_type": "stream",
     "text": [
      "loss: 53890.942, IFNA1_to_random: 3.873, IFNAR1_IFNAR2: 2.209:  75%|▋| 7648/10240 [1:40:17<34:"
     ]
    },
    {
     "name": "stdout",
     "output_type": "stream",
     "text": [
      "mean_rec: 1.272, mean_batch: 0.109\n"
     ]
    },
    {
     "name": "stderr",
     "output_type": "stream",
     "text": [
      "loss: 54162.856, IFNA1_to_random: 3.873, IFNAR1_IFNAR2: 2.206:  75%|▊| 7680/10240 [1:40:42<33:"
     ]
    },
    {
     "name": "stdout",
     "output_type": "stream",
     "text": [
      "mean_rec: 1.269, mean_batch: 0.109\n"
     ]
    },
    {
     "name": "stderr",
     "output_type": "stream",
     "text": [
      "loss: 53379.783, IFNA1_to_random: 3.831, IFNAR1_IFNAR2: 2.207:  75%|▊| 7712/10240 [1:41:07<33:"
     ]
    },
    {
     "name": "stdout",
     "output_type": "stream",
     "text": [
      "mean_rec: 1.296, mean_batch: 0.108\n"
     ]
    },
    {
     "name": "stderr",
     "output_type": "stream",
     "text": [
      "loss: 54167.701, IFNA1_to_random: 3.779, IFNAR1_IFNAR2: 2.207:  76%|▊| 7744/10240 [1:41:32<32:"
     ]
    },
    {
     "name": "stdout",
     "output_type": "stream",
     "text": [
      "mean_rec: 1.264, mean_batch: 0.109\n"
     ]
    },
    {
     "name": "stderr",
     "output_type": "stream",
     "text": [
      "loss: 54348.004, IFNA1_to_random: 3.812, IFNAR1_IFNAR2: 2.205:  76%|▊| 7776/10240 [1:41:57<32:"
     ]
    },
    {
     "name": "stdout",
     "output_type": "stream",
     "text": [
      "mean_rec: 1.253, mean_batch: 0.109\n"
     ]
    },
    {
     "name": "stderr",
     "output_type": "stream",
     "text": [
      "loss: 53739.115, IFNA1_to_random: 3.850, IFNAR1_IFNAR2: 2.206:  76%|▊| 7808/10240 [1:42:22<31:"
     ]
    },
    {
     "name": "stdout",
     "output_type": "stream",
     "text": [
      "mean_rec: 1.292, mean_batch: 0.108\n"
     ]
    },
    {
     "name": "stderr",
     "output_type": "stream",
     "text": [
      "loss: 53839.146, IFNA1_to_random: 3.837, IFNAR1_IFNAR2: 2.207:  77%|▊| 7840/10240 [1:42:48<31:"
     ]
    },
    {
     "name": "stdout",
     "output_type": "stream",
     "text": [
      "mean_rec: 1.271, mean_batch: 0.109\n"
     ]
    },
    {
     "name": "stderr",
     "output_type": "stream",
     "text": [
      "loss: 54152.451, IFNA1_to_random: 3.865, IFNAR1_IFNAR2: 2.204:  77%|▊| 7872/10240 [1:43:13<31:"
     ]
    },
    {
     "name": "stdout",
     "output_type": "stream",
     "text": [
      "mean_rec: 1.258, mean_batch: 0.109\n"
     ]
    },
    {
     "name": "stderr",
     "output_type": "stream",
     "text": [
      "loss: 53640.764, IFNA1_to_random: 3.794, IFNAR1_IFNAR2: 2.205:  77%|▊| 7904/10240 [1:43:38<30:"
     ]
    },
    {
     "name": "stdout",
     "output_type": "stream",
     "text": [
      "mean_rec: 1.281, mean_batch: 0.108\n"
     ]
    },
    {
     "name": "stderr",
     "output_type": "stream",
     "text": [
      "loss: 53216.622, IFNA1_to_random: 3.872, IFNAR1_IFNAR2: 2.207:  78%|▊| 7936/10240 [1:44:03<30:"
     ]
    },
    {
     "name": "stdout",
     "output_type": "stream",
     "text": [
      "mean_rec: 1.298, mean_batch: 0.108\n"
     ]
    },
    {
     "name": "stderr",
     "output_type": "stream",
     "text": [
      "loss: 53036.965, IFNA1_to_random: 3.812, IFNAR1_IFNAR2: 2.208:  78%|▊| 7968/10240 [1:44:28<29:"
     ]
    },
    {
     "name": "stdout",
     "output_type": "stream",
     "text": [
      "mean_rec: 1.297, mean_batch: 0.108\n"
     ]
    },
    {
     "name": "stderr",
     "output_type": "stream",
     "text": [
      "loss: 53888.651, IFNA1_to_random: 3.846, IFNAR1_IFNAR2: 2.206:  78%|▊| 8000/10240 [1:44:53<29:"
     ]
    },
    {
     "name": "stdout",
     "output_type": "stream",
     "text": [
      "mean_rec: 1.274, mean_batch: 0.109\n"
     ]
    },
    {
     "name": "stderr",
     "output_type": "stream",
     "text": [
      "loss: 55387.286, IFNA1_to_random: 3.811, IFNAR1_IFNAR2: 2.204:  78%|▊| 8032/10240 [1:45:19<28:"
     ]
    },
    {
     "name": "stdout",
     "output_type": "stream",
     "text": [
      "mean_rec: 1.233, mean_batch: 0.110\n"
     ]
    },
    {
     "name": "stderr",
     "output_type": "stream",
     "text": [
      "loss: 54280.130, IFNA1_to_random: 3.816, IFNAR1_IFNAR2: 2.206:  79%|▊| 8064/10240 [1:45:44<28:"
     ]
    },
    {
     "name": "stdout",
     "output_type": "stream",
     "text": [
      "mean_rec: 1.274, mean_batch: 0.109\n"
     ]
    },
    {
     "name": "stderr",
     "output_type": "stream",
     "text": [
      "loss: 54081.989, IFNA1_to_random: 3.833, IFNAR1_IFNAR2: 2.207:  79%|▊| 8096/10240 [1:46:09<28:"
     ]
    },
    {
     "name": "stdout",
     "output_type": "stream",
     "text": [
      "mean_rec: 1.275, mean_batch: 0.108\n"
     ]
    },
    {
     "name": "stderr",
     "output_type": "stream",
     "text": [
      "loss: 54000.348, IFNA1_to_random: 3.843, IFNAR1_IFNAR2: 2.207:  79%|▊| 8128/10240 [1:46:34<27:"
     ]
    },
    {
     "name": "stdout",
     "output_type": "stream",
     "text": [
      "mean_rec: 1.281, mean_batch: 0.108\n"
     ]
    },
    {
     "name": "stderr",
     "output_type": "stream",
     "text": [
      "loss: 52696.650, IFNA1_to_random: 3.826, IFNAR1_IFNAR2: 2.206:  80%|▊| 8160/10240 [1:46:59<27:"
     ]
    },
    {
     "name": "stdout",
     "output_type": "stream",
     "text": [
      "mean_rec: 1.305, mean_batch: 0.107\n"
     ]
    },
    {
     "name": "stderr",
     "output_type": "stream",
     "text": [
      "loss: 53925.382, IFNA1_to_random: 3.809, IFNAR1_IFNAR2: 2.206:  80%|▊| 8192/10240 [1:47:24<26:"
     ]
    },
    {
     "name": "stdout",
     "output_type": "stream",
     "text": [
      "mean_rec: 1.272, mean_batch: 0.109\n"
     ]
    },
    {
     "name": "stderr",
     "output_type": "stream",
     "text": [
      "loss: 54087.410, IFNA1_to_random: 3.899, IFNAR1_IFNAR2: 2.210:  80%|▊| 8224/10240 [1:47:49<26:"
     ]
    },
    {
     "name": "stdout",
     "output_type": "stream",
     "text": [
      "mean_rec: 1.265, mean_batch: 0.109\n"
     ]
    },
    {
     "name": "stderr",
     "output_type": "stream",
     "text": [
      "loss: 53799.945, IFNA1_to_random: 3.826, IFNAR1_IFNAR2: 2.213:  81%|▊| 8256/10240 [1:48:14<25:"
     ]
    },
    {
     "name": "stdout",
     "output_type": "stream",
     "text": [
      "mean_rec: 1.273, mean_batch: 0.109\n"
     ]
    },
    {
     "name": "stderr",
     "output_type": "stream",
     "text": [
      "loss: 53732.068, IFNA1_to_random: 3.819, IFNAR1_IFNAR2: 2.214:  81%|▊| 8288/10240 [1:48:40<25:"
     ]
    },
    {
     "name": "stdout",
     "output_type": "stream",
     "text": [
      "mean_rec: 1.284, mean_batch: 0.108\n"
     ]
    },
    {
     "name": "stderr",
     "output_type": "stream",
     "text": [
      "loss: 53706.327, IFNA1_to_random: 3.820, IFNAR1_IFNAR2: 2.209:  81%|▊| 8320/10240 [1:49:05<25:"
     ]
    },
    {
     "name": "stdout",
     "output_type": "stream",
     "text": [
      "mean_rec: 1.276, mean_batch: 0.109\n"
     ]
    },
    {
     "name": "stderr",
     "output_type": "stream",
     "text": [
      "loss: 53942.349, IFNA1_to_random: 3.819, IFNAR1_IFNAR2: 2.206:  82%|▊| 8352/10240 [1:49:30<24:"
     ]
    },
    {
     "name": "stdout",
     "output_type": "stream",
     "text": [
      "mean_rec: 1.268, mean_batch: 0.109\n"
     ]
    },
    {
     "name": "stderr",
     "output_type": "stream",
     "text": [
      "loss: 53453.688, IFNA1_to_random: 3.865, IFNAR1_IFNAR2: 2.207:  82%|▊| 8384/10240 [1:49:55<24:"
     ]
    },
    {
     "name": "stdout",
     "output_type": "stream",
     "text": [
      "mean_rec: 1.288, mean_batch: 0.108\n"
     ]
    },
    {
     "name": "stderr",
     "output_type": "stream",
     "text": [
      "loss: 53831.882, IFNA1_to_random: 3.827, IFNAR1_IFNAR2: 2.208:  82%|▊| 8416/10240 [1:50:20<23:"
     ]
    },
    {
     "name": "stdout",
     "output_type": "stream",
     "text": [
      "mean_rec: 1.274, mean_batch: 0.109\n"
     ]
    },
    {
     "name": "stderr",
     "output_type": "stream",
     "text": [
      "loss: 53680.648, IFNA1_to_random: 3.773, IFNAR1_IFNAR2: 2.208:  82%|▊| 8448/10240 [1:50:45<23:"
     ]
    },
    {
     "name": "stdout",
     "output_type": "stream",
     "text": [
      "mean_rec: 1.280, mean_batch: 0.109\n"
     ]
    },
    {
     "name": "stderr",
     "output_type": "stream",
     "text": [
      "loss: 54224.535, IFNA1_to_random: 3.841, IFNAR1_IFNAR2: 2.207:  83%|▊| 8480/10240 [1:51:10<23:"
     ]
    },
    {
     "name": "stdout",
     "output_type": "stream",
     "text": [
      "mean_rec: 1.258, mean_batch: 0.109\n"
     ]
    },
    {
     "name": "stderr",
     "output_type": "stream",
     "text": [
      "loss: 54734.944, IFNA1_to_random: 3.810, IFNAR1_IFNAR2: 2.206:  83%|▊| 8512/10240 [1:51:35<22:"
     ]
    },
    {
     "name": "stdout",
     "output_type": "stream",
     "text": [
      "mean_rec: 1.246, mean_batch: 0.110\n"
     ]
    },
    {
     "name": "stderr",
     "output_type": "stream",
     "text": [
      "loss: 53924.400, IFNA1_to_random: 3.846, IFNAR1_IFNAR2: 2.202:  83%|▊| 8544/10240 [1:52:01<22:"
     ]
    },
    {
     "name": "stdout",
     "output_type": "stream",
     "text": [
      "mean_rec: 1.272, mean_batch: 0.108\n"
     ]
    },
    {
     "name": "stderr",
     "output_type": "stream",
     "text": [
      "loss: 53749.581, IFNA1_to_random: 3.792, IFNAR1_IFNAR2: 2.199:  84%|▊| 8576/10240 [1:52:26<21:"
     ]
    },
    {
     "name": "stdout",
     "output_type": "stream",
     "text": [
      "mean_rec: 1.274, mean_batch: 0.108\n"
     ]
    },
    {
     "name": "stderr",
     "output_type": "stream",
     "text": [
      "loss: 52936.862, IFNA1_to_random: 3.835, IFNAR1_IFNAR2: 2.198:  84%|▊| 8608/10240 [1:52:51<21:"
     ]
    },
    {
     "name": "stdout",
     "output_type": "stream",
     "text": [
      "mean_rec: 1.304, mean_batch: 0.108\n"
     ]
    },
    {
     "name": "stderr",
     "output_type": "stream",
     "text": [
      "loss: 53867.065, IFNA1_to_random: 3.901, IFNAR1_IFNAR2: 2.196:  84%|▊| 8640/10240 [1:53:16<20:"
     ]
    },
    {
     "name": "stdout",
     "output_type": "stream",
     "text": [
      "mean_rec: 1.276, mean_batch: 0.109\n"
     ]
    },
    {
     "name": "stderr",
     "output_type": "stream",
     "text": [
      "loss: 53652.728, IFNA1_to_random: 3.808, IFNAR1_IFNAR2: 2.199:  85%|▊| 8672/10240 [1:53:41<20:"
     ]
    },
    {
     "name": "stdout",
     "output_type": "stream",
     "text": [
      "mean_rec: 1.291, mean_batch: 0.108\n"
     ]
    },
    {
     "name": "stderr",
     "output_type": "stream",
     "text": [
      "loss: 53951.242, IFNA1_to_random: 3.834, IFNAR1_IFNAR2: 2.199:  85%|▊| 8704/10240 [1:54:06<20:"
     ]
    },
    {
     "name": "stdout",
     "output_type": "stream",
     "text": [
      "mean_rec: 1.283, mean_batch: 0.108\n"
     ]
    },
    {
     "name": "stderr",
     "output_type": "stream",
     "text": [
      "loss: 53811.377, IFNA1_to_random: 3.851, IFNAR1_IFNAR2: 2.199:  85%|▊| 8736/10240 [1:54:31<19:"
     ]
    },
    {
     "name": "stdout",
     "output_type": "stream",
     "text": [
      "mean_rec: 1.274, mean_batch: 0.109\n"
     ]
    },
    {
     "name": "stderr",
     "output_type": "stream",
     "text": [
      "loss: 54012.092, IFNA1_to_random: 3.801, IFNAR1_IFNAR2: 2.199:  86%|▊| 8768/10240 [1:54:57<19:"
     ]
    },
    {
     "name": "stdout",
     "output_type": "stream",
     "text": [
      "mean_rec: 1.274, mean_batch: 0.109\n"
     ]
    },
    {
     "name": "stderr",
     "output_type": "stream",
     "text": [
      "loss: 53804.934, IFNA1_to_random: 3.810, IFNAR1_IFNAR2: 2.199:  86%|▊| 8800/10240 [1:55:22<18:"
     ]
    },
    {
     "name": "stdout",
     "output_type": "stream",
     "text": [
      "mean_rec: 1.285, mean_batch: 0.108\n"
     ]
    },
    {
     "name": "stderr",
     "output_type": "stream",
     "text": [
      "loss: 52989.781, IFNA1_to_random: 3.850, IFNAR1_IFNAR2: 2.198:  86%|▊| 8832/10240 [1:55:47<18:"
     ]
    },
    {
     "name": "stdout",
     "output_type": "stream",
     "text": [
      "mean_rec: 1.303, mean_batch: 0.107\n"
     ]
    },
    {
     "name": "stderr",
     "output_type": "stream",
     "text": [
      "loss: 53602.353, IFNA1_to_random: 3.816, IFNAR1_IFNAR2: 2.197:  87%|▊| 8864/10240 [1:56:12<18:"
     ]
    },
    {
     "name": "stdout",
     "output_type": "stream",
     "text": [
      "mean_rec: 1.281, mean_batch: 0.109\n"
     ]
    },
    {
     "name": "stderr",
     "output_type": "stream",
     "text": [
      "loss: 53365.023, IFNA1_to_random: 3.825, IFNAR1_IFNAR2: 2.196:  87%|▊| 8896/10240 [1:56:37<17:"
     ]
    },
    {
     "name": "stdout",
     "output_type": "stream",
     "text": [
      "mean_rec: 1.292, mean_batch: 0.108\n"
     ]
    },
    {
     "name": "stderr",
     "output_type": "stream",
     "text": [
      "loss: 54193.052, IFNA1_to_random: 3.773, IFNAR1_IFNAR2: 2.200:  87%|▊| 8928/10240 [1:57:02<17:"
     ]
    },
    {
     "name": "stdout",
     "output_type": "stream",
     "text": [
      "mean_rec: 1.264, mean_batch: 0.109\n"
     ]
    },
    {
     "name": "stderr",
     "output_type": "stream",
     "text": [
      "loss: 53489.441, IFNA1_to_random: 3.781, IFNAR1_IFNAR2: 2.203:  88%|▉| 8960/10240 [1:57:28<16:"
     ]
    },
    {
     "name": "stdout",
     "output_type": "stream",
     "text": [
      "mean_rec: 1.281, mean_batch: 0.109\n"
     ]
    },
    {
     "name": "stderr",
     "output_type": "stream",
     "text": [
      "loss: 54093.028, IFNA1_to_random: 3.843, IFNAR1_IFNAR2: 2.205:  88%|▉| 8992/10240 [1:57:53<16:"
     ]
    },
    {
     "name": "stdout",
     "output_type": "stream",
     "text": [
      "mean_rec: 1.272, mean_batch: 0.109\n"
     ]
    },
    {
     "name": "stderr",
     "output_type": "stream",
     "text": [
      "loss: 52695.319, IFNA1_to_random: 3.865, IFNAR1_IFNAR2: 2.204:  88%|▉| 9024/10240 [1:58:18<15:"
     ]
    },
    {
     "name": "stdout",
     "output_type": "stream",
     "text": [
      "mean_rec: 1.305, mean_batch: 0.107\n"
     ]
    },
    {
     "name": "stderr",
     "output_type": "stream",
     "text": [
      "loss: 53936.787, IFNA1_to_random: 3.881, IFNAR1_IFNAR2: 2.200:  88%|▉| 9056/10240 [1:58:43<15:"
     ]
    },
    {
     "name": "stdout",
     "output_type": "stream",
     "text": [
      "mean_rec: 1.272, mean_batch: 0.109\n"
     ]
    },
    {
     "name": "stderr",
     "output_type": "stream",
     "text": [
      "loss: 53427.443, IFNA1_to_random: 3.851, IFNAR1_IFNAR2: 2.199:  89%|▉| 9088/10240 [1:59:08<15:"
     ]
    },
    {
     "name": "stdout",
     "output_type": "stream",
     "text": [
      "mean_rec: 1.286, mean_batch: 0.108\n"
     ]
    },
    {
     "name": "stderr",
     "output_type": "stream",
     "text": [
      "loss: 53828.968, IFNA1_to_random: 3.832, IFNAR1_IFNAR2: 2.199:  89%|▉| 9120/10240 [1:59:33<14:"
     ]
    },
    {
     "name": "stdout",
     "output_type": "stream",
     "text": [
      "mean_rec: 1.284, mean_batch: 0.108\n"
     ]
    },
    {
     "name": "stderr",
     "output_type": "stream",
     "text": [
      "loss: 53111.896, IFNA1_to_random: 3.861, IFNAR1_IFNAR2: 2.197:  89%|▉| 9152/10240 [1:59:59<14:"
     ]
    },
    {
     "name": "stdout",
     "output_type": "stream",
     "text": [
      "mean_rec: 1.307, mean_batch: 0.107\n"
     ]
    },
    {
     "name": "stderr",
     "output_type": "stream",
     "text": [
      "loss: 53723.360, IFNA1_to_random: 3.797, IFNAR1_IFNAR2: 2.196:  90%|▉| 9184/10240 [2:00:24<13:"
     ]
    },
    {
     "name": "stdout",
     "output_type": "stream",
     "text": [
      "mean_rec: 1.286, mean_batch: 0.108\n"
     ]
    },
    {
     "name": "stderr",
     "output_type": "stream",
     "text": [
      "loss: 53756.637, IFNA1_to_random: 3.763, IFNAR1_IFNAR2: 2.196:  90%|▉| 9216/10240 [2:00:49<13:"
     ]
    },
    {
     "name": "stdout",
     "output_type": "stream",
     "text": [
      "mean_rec: 1.285, mean_batch: 0.109\n"
     ]
    },
    {
     "name": "stderr",
     "output_type": "stream",
     "text": [
      "loss: 53922.152, IFNA1_to_random: 3.840, IFNAR1_IFNAR2: 2.197:  90%|▉| 9248/10240 [2:01:14<13:"
     ]
    },
    {
     "name": "stdout",
     "output_type": "stream",
     "text": [
      "mean_rec: 1.261, mean_batch: 0.109\n"
     ]
    },
    {
     "name": "stderr",
     "output_type": "stream",
     "text": [
      "loss: 53414.365, IFNA1_to_random: 3.796, IFNAR1_IFNAR2: 2.197:  91%|▉| 9280/10240 [2:01:39<12:"
     ]
    },
    {
     "name": "stdout",
     "output_type": "stream",
     "text": [
      "mean_rec: 1.291, mean_batch: 0.108\n"
     ]
    },
    {
     "name": "stderr",
     "output_type": "stream",
     "text": [
      "loss: 53659.379, IFNA1_to_random: 3.792, IFNAR1_IFNAR2: 2.198:  91%|▉| 9312/10240 [2:02:05<12:"
     ]
    },
    {
     "name": "stdout",
     "output_type": "stream",
     "text": [
      "mean_rec: 1.280, mean_batch: 0.109\n"
     ]
    },
    {
     "name": "stderr",
     "output_type": "stream",
     "text": [
      "loss: 54190.883, IFNA1_to_random: 3.799, IFNAR1_IFNAR2: 2.199:  91%|▉| 9344/10240 [2:02:30<11:"
     ]
    },
    {
     "name": "stdout",
     "output_type": "stream",
     "text": [
      "mean_rec: 1.268, mean_batch: 0.109\n"
     ]
    },
    {
     "name": "stderr",
     "output_type": "stream",
     "text": [
      "loss: 53802.697, IFNA1_to_random: 3.844, IFNAR1_IFNAR2: 2.200:  92%|▉| 9376/10240 [2:02:55<11:"
     ]
    },
    {
     "name": "stdout",
     "output_type": "stream",
     "text": [
      "mean_rec: 1.278, mean_batch: 0.108\n"
     ]
    },
    {
     "name": "stderr",
     "output_type": "stream",
     "text": [
      "loss: 53894.619, IFNA1_to_random: 3.809, IFNAR1_IFNAR2: 2.202:  92%|▉| 9408/10240 [2:03:20<10:"
     ]
    },
    {
     "name": "stdout",
     "output_type": "stream",
     "text": [
      "mean_rec: 1.275, mean_batch: 0.109\n"
     ]
    },
    {
     "name": "stderr",
     "output_type": "stream",
     "text": [
      "loss: 54195.399, IFNA1_to_random: 3.819, IFNAR1_IFNAR2: 2.202:  92%|▉| 9440/10240 [2:03:46<10:"
     ]
    },
    {
     "name": "stdout",
     "output_type": "stream",
     "text": [
      "mean_rec: 1.259, mean_batch: 0.109\n"
     ]
    },
    {
     "name": "stderr",
     "output_type": "stream",
     "text": [
      "loss: 53333.696, IFNA1_to_random: 3.814, IFNAR1_IFNAR2: 2.202:  92%|▉| 9472/10240 [2:04:11<10:"
     ]
    },
    {
     "name": "stdout",
     "output_type": "stream",
     "text": [
      "mean_rec: 1.285, mean_batch: 0.108\n"
     ]
    },
    {
     "name": "stderr",
     "output_type": "stream",
     "text": [
      "loss: 54475.474, IFNA1_to_random: 3.865, IFNAR1_IFNAR2: 2.199:  93%|▉| 9504/10240 [2:04:36<09:"
     ]
    },
    {
     "name": "stdout",
     "output_type": "stream",
     "text": [
      "mean_rec: 1.258, mean_batch: 0.110\n"
     ]
    },
    {
     "name": "stderr",
     "output_type": "stream",
     "text": [
      "loss: 53834.740, IFNA1_to_random: 3.855, IFNAR1_IFNAR2: 2.200:  93%|▉| 9536/10240 [2:05:01<09:"
     ]
    },
    {
     "name": "stdout",
     "output_type": "stream",
     "text": [
      "mean_rec: 1.272, mean_batch: 0.109\n"
     ]
    },
    {
     "name": "stderr",
     "output_type": "stream",
     "text": [
      "loss: 53821.463, IFNA1_to_random: 3.881, IFNAR1_IFNAR2: 2.200:  93%|▉| 9568/10240 [2:05:26<08:"
     ]
    },
    {
     "name": "stdout",
     "output_type": "stream",
     "text": [
      "mean_rec: 1.274, mean_batch: 0.109\n"
     ]
    },
    {
     "name": "stderr",
     "output_type": "stream",
     "text": [
      "loss: 53965.476, IFNA1_to_random: 3.820, IFNAR1_IFNAR2: 2.198:  94%|▉| 9600/10240 [2:05:52<08:"
     ]
    },
    {
     "name": "stdout",
     "output_type": "stream",
     "text": [
      "mean_rec: 1.276, mean_batch: 0.109\n"
     ]
    },
    {
     "name": "stderr",
     "output_type": "stream",
     "text": [
      "loss: 54223.082, IFNA1_to_random: 3.832, IFNAR1_IFNAR2: 2.197:  94%|▉| 9632/10240 [2:06:17<08:"
     ]
    },
    {
     "name": "stdout",
     "output_type": "stream",
     "text": [
      "mean_rec: 1.256, mean_batch: 0.109\n"
     ]
    },
    {
     "name": "stderr",
     "output_type": "stream",
     "text": [
      "loss: 53629.830, IFNA1_to_random: 3.792, IFNAR1_IFNAR2: 2.195:  94%|▉| 9664/10240 [2:06:42<07:"
     ]
    },
    {
     "name": "stdout",
     "output_type": "stream",
     "text": [
      "mean_rec: 1.279, mean_batch: 0.109\n"
     ]
    },
    {
     "name": "stderr",
     "output_type": "stream",
     "text": [
      "loss: 53376.459, IFNA1_to_random: 3.830, IFNAR1_IFNAR2: 2.196:  95%|▉| 9696/10240 [2:07:07<07:"
     ]
    },
    {
     "name": "stdout",
     "output_type": "stream",
     "text": [
      "mean_rec: 1.294, mean_batch: 0.108\n"
     ]
    },
    {
     "name": "stderr",
     "output_type": "stream",
     "text": [
      "loss: 53461.012, IFNA1_to_random: 3.817, IFNAR1_IFNAR2: 2.198:  95%|▉| 9728/10240 [2:07:33<06:"
     ]
    },
    {
     "name": "stdout",
     "output_type": "stream",
     "text": [
      "mean_rec: 1.301, mean_batch: 0.108\n"
     ]
    },
    {
     "name": "stderr",
     "output_type": "stream",
     "text": [
      "loss: 52564.034, IFNA1_to_random: 3.806, IFNAR1_IFNAR2: 2.198:  95%|▉| 9760/10240 [2:07:58<06:"
     ]
    },
    {
     "name": "stdout",
     "output_type": "stream",
     "text": [
      "mean_rec: 1.319, mean_batch: 0.107\n"
     ]
    },
    {
     "name": "stderr",
     "output_type": "stream",
     "text": [
      "loss: 53619.273, IFNA1_to_random: 3.819, IFNAR1_IFNAR2: 2.196:  96%|▉| 9792/10240 [2:08:23<05:"
     ]
    },
    {
     "name": "stdout",
     "output_type": "stream",
     "text": [
      "mean_rec: 1.284, mean_batch: 0.108\n"
     ]
    },
    {
     "name": "stderr",
     "output_type": "stream",
     "text": [
      "loss: 54070.559, IFNA1_to_random: 3.882, IFNAR1_IFNAR2: 2.198:  96%|▉| 9824/10240 [2:08:48<05:"
     ]
    },
    {
     "name": "stdout",
     "output_type": "stream",
     "text": [
      "mean_rec: 1.277, mean_batch: 0.109\n"
     ]
    },
    {
     "name": "stderr",
     "output_type": "stream",
     "text": [
      "loss: 54255.729, IFNA1_to_random: 3.833, IFNAR1_IFNAR2: 2.197:  96%|▉| 9856/10240 [2:09:14<05:"
     ]
    },
    {
     "name": "stdout",
     "output_type": "stream",
     "text": [
      "mean_rec: 1.269, mean_batch: 0.109\n"
     ]
    },
    {
     "name": "stderr",
     "output_type": "stream",
     "text": [
      "loss: 54461.201, IFNA1_to_random: 3.838, IFNAR1_IFNAR2: 2.197:  97%|▉| 9888/10240 [2:09:39<04:"
     ]
    },
    {
     "name": "stdout",
     "output_type": "stream",
     "text": [
      "mean_rec: 1.259, mean_batch: 0.110\n"
     ]
    },
    {
     "name": "stderr",
     "output_type": "stream",
     "text": [
      "loss: 53681.989, IFNA1_to_random: 3.858, IFNAR1_IFNAR2: 2.201:  97%|▉| 9920/10240 [2:10:04<04:"
     ]
    },
    {
     "name": "stdout",
     "output_type": "stream",
     "text": [
      "mean_rec: 1.277, mean_batch: 0.109\n"
     ]
    },
    {
     "name": "stderr",
     "output_type": "stream",
     "text": [
      "loss: 53420.934, IFNA1_to_random: 3.813, IFNAR1_IFNAR2: 2.201:  97%|▉| 9952/10240 [2:10:29<03:"
     ]
    },
    {
     "name": "stdout",
     "output_type": "stream",
     "text": [
      "mean_rec: 1.295, mean_batch: 0.108\n"
     ]
    },
    {
     "name": "stderr",
     "output_type": "stream",
     "text": [
      "loss: 53870.200, IFNA1_to_random: 3.767, IFNAR1_IFNAR2: 2.203:  98%|▉| 9984/10240 [2:10:54<03:"
     ]
    },
    {
     "name": "stdout",
     "output_type": "stream",
     "text": [
      "mean_rec: 1.272, mean_batch: 0.109\n"
     ]
    },
    {
     "name": "stderr",
     "output_type": "stream",
     "text": [
      "loss: 52921.785, IFNA1_to_random: 3.817, IFNAR1_IFNAR2: 2.203:  98%|▉| 10016/10240 [2:11:20<02"
     ]
    },
    {
     "name": "stdout",
     "output_type": "stream",
     "text": [
      "mean_rec: 1.301, mean_batch: 0.108\n"
     ]
    },
    {
     "name": "stderr",
     "output_type": "stream",
     "text": [
      "loss: 53696.394, IFNA1_to_random: 3.802, IFNAR1_IFNAR2: 2.203:  98%|▉| 10048/10240 [2:11:45<02"
     ]
    },
    {
     "name": "stdout",
     "output_type": "stream",
     "text": [
      "mean_rec: 1.293, mean_batch: 0.108\n"
     ]
    },
    {
     "name": "stderr",
     "output_type": "stream",
     "text": [
      "loss: 53715.087, IFNA1_to_random: 3.841, IFNAR1_IFNAR2: 2.204:  98%|▉| 10080/10240 [2:12:10<02"
     ]
    },
    {
     "name": "stdout",
     "output_type": "stream",
     "text": [
      "mean_rec: 1.275, mean_batch: 0.109\n"
     ]
    },
    {
     "name": "stderr",
     "output_type": "stream",
     "text": [
      "loss: 54263.615, IFNA1_to_random: 3.842, IFNAR1_IFNAR2: 2.204:  99%|▉| 10112/10240 [2:12:35<01"
     ]
    },
    {
     "name": "stdout",
     "output_type": "stream",
     "text": [
      "mean_rec: 1.263, mean_batch: 0.109\n"
     ]
    },
    {
     "name": "stderr",
     "output_type": "stream",
     "text": [
      "loss: 53863.916, IFNA1_to_random: 3.864, IFNAR1_IFNAR2: 2.202:  99%|▉| 10144/10240 [2:13:01<01"
     ]
    },
    {
     "name": "stdout",
     "output_type": "stream",
     "text": [
      "mean_rec: 1.279, mean_batch: 0.109\n"
     ]
    },
    {
     "name": "stderr",
     "output_type": "stream",
     "text": [
      "loss: 53511.258, IFNA1_to_random: 3.788, IFNAR1_IFNAR2: 2.203:  99%|▉| 10176/10240 [2:13:26<00"
     ]
    },
    {
     "name": "stdout",
     "output_type": "stream",
     "text": [
      "mean_rec: 1.301, mean_batch: 0.108\n"
     ]
    },
    {
     "name": "stderr",
     "output_type": "stream",
     "text": [
      "loss: 54562.825, IFNA1_to_random: 3.826, IFNAR1_IFNAR2: 2.203: 100%|▉| 10208/10240 [2:13:51<00"
     ]
    },
    {
     "name": "stdout",
     "output_type": "stream",
     "text": [
      "mean_rec: 1.248, mean_batch: 0.110\n"
     ]
    },
    {
     "name": "stderr",
     "output_type": "stream",
     "text": [
      "loss: 52760.288, IFNA1_to_random: 3.805, IFNAR1_IFNAR2: 2.205: 100%|█| 10240/10240 [2:14:16<00\n"
     ]
    },
    {
     "name": "stdout",
     "output_type": "stream",
     "text": [
      "mean_rec: 1.285, mean_batch: 0.108\n"
     ]
    },
    {
     "name": "stderr",
     "output_type": "stream",
     "text": [
      "loss: 53492.908, IFNA1_to_random: 3.827, IFNAR1_IFNAR2: 2.206:   0%| | 32/10240 [00:25<2:13:37"
     ]
    },
    {
     "name": "stdout",
     "output_type": "stream",
     "text": [
      "mean_rec: 1.295, mean_batch: 0.108\n"
     ]
    },
    {
     "name": "stderr",
     "output_type": "stream",
     "text": [
      "loss: 53382.534, IFNA1_to_random: 3.802, IFNAR1_IFNAR2: 2.205:   1%| | 64/10240 [00:50<2:13:20"
     ]
    },
    {
     "name": "stdout",
     "output_type": "stream",
     "text": [
      "mean_rec: 1.300, mean_batch: 0.108\n"
     ]
    },
    {
     "name": "stderr",
     "output_type": "stream",
     "text": [
      "loss: 53871.539, IFNA1_to_random: 3.780, IFNAR1_IFNAR2: 2.207:   1%| | 96/10240 [01:15<2:12:48"
     ]
    },
    {
     "name": "stdout",
     "output_type": "stream",
     "text": [
      "mean_rec: 1.279, mean_batch: 0.109\n"
     ]
    },
    {
     "name": "stderr",
     "output_type": "stream",
     "text": [
      "loss: 53767.184, IFNA1_to_random: 3.856, IFNAR1_IFNAR2: 2.207:   1%| | 128/10240 [01:40<2:12:0"
     ]
    },
    {
     "name": "stdout",
     "output_type": "stream",
     "text": [
      "mean_rec: 1.282, mean_batch: 0.108\n"
     ]
    },
    {
     "name": "stderr",
     "output_type": "stream",
     "text": [
      "loss: 52859.148, IFNA1_to_random: 3.770, IFNAR1_IFNAR2: 2.206:   2%| | 160/10240 [02:05<2:12:0"
     ]
    },
    {
     "name": "stdout",
     "output_type": "stream",
     "text": [
      "mean_rec: 1.315, mean_batch: 0.107\n"
     ]
    },
    {
     "name": "stderr",
     "output_type": "stream",
     "text": [
      "loss: 53426.890, IFNA1_to_random: 3.838, IFNAR1_IFNAR2: 2.206:   2%| | 192/10240 [02:30<2:11:5"
     ]
    },
    {
     "name": "stdout",
     "output_type": "stream",
     "text": [
      "mean_rec: 1.291, mean_batch: 0.108\n"
     ]
    },
    {
     "name": "stderr",
     "output_type": "stream",
     "text": [
      "loss: 53151.208, IFNA1_to_random: 3.809, IFNAR1_IFNAR2: 2.204:   2%| | 224/10240 [02:56<2:11:0"
     ]
    },
    {
     "name": "stdout",
     "output_type": "stream",
     "text": [
      "mean_rec: 1.293, mean_batch: 0.108\n"
     ]
    },
    {
     "name": "stderr",
     "output_type": "stream",
     "text": [
      "loss: 53309.270, IFNA1_to_random: 3.873, IFNAR1_IFNAR2: 2.203:   2%| | 256/10240 [03:21<2:10:4"
     ]
    },
    {
     "name": "stdout",
     "output_type": "stream",
     "text": [
      "mean_rec: 1.283, mean_batch: 0.109\n"
     ]
    },
    {
     "name": "stderr",
     "output_type": "stream",
     "text": [
      "loss: 54104.292, IFNA1_to_random: 3.866, IFNAR1_IFNAR2: 2.206:   3%| | 288/10240 [03:46<2:10:1"
     ]
    },
    {
     "name": "stdout",
     "output_type": "stream",
     "text": [
      "mean_rec: 1.266, mean_batch: 0.109\n"
     ]
    },
    {
     "name": "stderr",
     "output_type": "stream",
     "text": [
      "loss: 53567.859, IFNA1_to_random: 3.818, IFNAR1_IFNAR2: 2.206:   3%| | 320/10240 [04:11<2:09:5"
     ]
    },
    {
     "name": "stdout",
     "output_type": "stream",
     "text": [
      "mean_rec: 1.286, mean_batch: 0.108\n"
     ]
    },
    {
     "name": "stderr",
     "output_type": "stream",
     "text": [
      "loss: 54193.109, IFNA1_to_random: 3.836, IFNAR1_IFNAR2: 2.206:   3%| | 352/10240 [04:36<2:09:2"
     ]
    },
    {
     "name": "stdout",
     "output_type": "stream",
     "text": [
      "mean_rec: 1.263, mean_batch: 0.109\n"
     ]
    },
    {
     "name": "stderr",
     "output_type": "stream",
     "text": [
      "loss: 53120.193, IFNA1_to_random: 3.815, IFNAR1_IFNAR2: 2.205:   4%| | 384/10240 [05:01<2:08:4"
     ]
    },
    {
     "name": "stdout",
     "output_type": "stream",
     "text": [
      "mean_rec: 1.300, mean_batch: 0.108\n"
     ]
    },
    {
     "name": "stderr",
     "output_type": "stream",
     "text": [
      "loss: 54046.340, IFNA1_to_random: 3.795, IFNAR1_IFNAR2: 2.206:   4%| | 416/10240 [05:26<2:08:1"
     ]
    },
    {
     "name": "stdout",
     "output_type": "stream",
     "text": [
      "mean_rec: 1.264, mean_batch: 0.109\n"
     ]
    },
    {
     "name": "stderr",
     "output_type": "stream",
     "text": [
      "loss: 53825.696, IFNA1_to_random: 3.852, IFNAR1_IFNAR2: 2.205:   4%| | 448/10240 [05:51<2:07:5"
     ]
    },
    {
     "name": "stdout",
     "output_type": "stream",
     "text": [
      "mean_rec: 1.279, mean_batch: 0.109\n"
     ]
    },
    {
     "name": "stderr",
     "output_type": "stream",
     "text": [
      "loss: 53573.717, IFNA1_to_random: 3.812, IFNAR1_IFNAR2: 2.209:   5%| | 480/10240 [06:16<2:07:3"
     ]
    },
    {
     "name": "stdout",
     "output_type": "stream",
     "text": [
      "mean_rec: 1.287, mean_batch: 0.109\n"
     ]
    },
    {
     "name": "stderr",
     "output_type": "stream",
     "text": [
      "loss: 53635.938, IFNA1_to_random: 3.868, IFNAR1_IFNAR2: 2.208:   5%| | 512/10240 [06:42<2:07:1"
     ]
    },
    {
     "name": "stdout",
     "output_type": "stream",
     "text": [
      "mean_rec: 1.275, mean_batch: 0.109\n"
     ]
    },
    {
     "name": "stderr",
     "output_type": "stream",
     "text": [
      "loss: 55450.257, IFNA1_to_random: 3.812, IFNAR1_IFNAR2: 2.203:   5%| | 544/10240 [07:07<2:06:5"
     ]
    },
    {
     "name": "stdout",
     "output_type": "stream",
     "text": [
      "mean_rec: 1.280, mean_batch: 0.109\n"
     ]
    },
    {
     "name": "stderr",
     "output_type": "stream",
     "text": [
      "loss: 54514.997, IFNA1_to_random: 3.821, IFNAR1_IFNAR2: 2.202:   6%| | 576/10240 [07:32<2:06:4"
     ]
    },
    {
     "name": "stdout",
     "output_type": "stream",
     "text": [
      "mean_rec: 1.279, mean_batch: 0.109\n"
     ]
    },
    {
     "name": "stderr",
     "output_type": "stream",
     "text": [
      "loss: 53322.738, IFNA1_to_random: 3.833, IFNAR1_IFNAR2: 2.201:   6%| | 608/10240 [07:57<2:05:5"
     ]
    },
    {
     "name": "stdout",
     "output_type": "stream",
     "text": [
      "mean_rec: 1.295, mean_batch: 0.108\n"
     ]
    },
    {
     "name": "stderr",
     "output_type": "stream",
     "text": [
      "loss: 54155.307, IFNA1_to_random: 3.787, IFNAR1_IFNAR2: 2.203:   6%| | 640/10240 [08:22<2:05:4"
     ]
    },
    {
     "name": "stdout",
     "output_type": "stream",
     "text": [
      "mean_rec: 1.265, mean_batch: 0.109\n"
     ]
    },
    {
     "name": "stderr",
     "output_type": "stream",
     "text": [
      "loss: 54146.021, IFNA1_to_random: 3.811, IFNAR1_IFNAR2: 2.202:   7%| | 672/10240 [08:47<2:05:1"
     ]
    },
    {
     "name": "stdout",
     "output_type": "stream",
     "text": [
      "mean_rec: 1.269, mean_batch: 0.109\n"
     ]
    },
    {
     "name": "stderr",
     "output_type": "stream",
     "text": [
      "loss: 53657.955, IFNA1_to_random: 3.834, IFNAR1_IFNAR2: 2.201:   7%| | 704/10240 [09:12<2:04:4"
     ]
    },
    {
     "name": "stdout",
     "output_type": "stream",
     "text": [
      "mean_rec: 1.293, mean_batch: 0.108\n"
     ]
    },
    {
     "name": "stderr",
     "output_type": "stream",
     "text": [
      "loss: 53819.452, IFNA1_to_random: 3.835, IFNAR1_IFNAR2: 2.203:   7%| | 736/10240 [09:37<2:04:0"
     ]
    },
    {
     "name": "stdout",
     "output_type": "stream",
     "text": [
      "mean_rec: 1.286, mean_batch: 0.108\n"
     ]
    },
    {
     "name": "stderr",
     "output_type": "stream",
     "text": [
      "loss: 53085.241, IFNA1_to_random: 3.783, IFNAR1_IFNAR2: 2.204:   8%| | 768/10240 [10:02<2:03:5"
     ]
    },
    {
     "name": "stdout",
     "output_type": "stream",
     "text": [
      "mean_rec: 1.299, mean_batch: 0.108\n"
     ]
    },
    {
     "name": "stderr",
     "output_type": "stream",
     "text": [
      "loss: 53083.815, IFNA1_to_random: 3.859, IFNAR1_IFNAR2: 2.203:   8%| | 800/10240 [10:27<2:03:2"
     ]
    },
    {
     "name": "stdout",
     "output_type": "stream",
     "text": [
      "mean_rec: 1.296, mean_batch: 0.108\n"
     ]
    },
    {
     "name": "stderr",
     "output_type": "stream",
     "text": [
      "loss: 53841.289, IFNA1_to_random: 3.835, IFNAR1_IFNAR2: 2.202:   8%| | 832/10240 [10:53<2:03:1"
     ]
    },
    {
     "name": "stdout",
     "output_type": "stream",
     "text": [
      "mean_rec: 1.270, mean_batch: 0.109\n"
     ]
    },
    {
     "name": "stderr",
     "output_type": "stream",
     "text": [
      "loss: 53735.143, IFNA1_to_random: 3.808, IFNAR1_IFNAR2: 2.201:   8%| | 864/10240 [11:18<2:02:2"
     ]
    },
    {
     "name": "stdout",
     "output_type": "stream",
     "text": [
      "mean_rec: 1.278, mean_batch: 0.109\n"
     ]
    },
    {
     "name": "stderr",
     "output_type": "stream",
     "text": [
      "loss: 53374.324, IFNA1_to_random: 3.830, IFNAR1_IFNAR2: 2.202:   9%| | 896/10240 [11:43<2:01:5"
     ]
    },
    {
     "name": "stdout",
     "output_type": "stream",
     "text": [
      "mean_rec: 1.293, mean_batch: 0.108\n"
     ]
    },
    {
     "name": "stderr",
     "output_type": "stream",
     "text": [
      "loss: 53863.392, IFNA1_to_random: 3.812, IFNAR1_IFNAR2: 2.202:   9%| | 928/10240 [12:08<2:01:4"
     ]
    },
    {
     "name": "stdout",
     "output_type": "stream",
     "text": [
      "mean_rec: 1.279, mean_batch: 0.109\n"
     ]
    },
    {
     "name": "stderr",
     "output_type": "stream",
     "text": [
      "loss: 54577.575, IFNA1_to_random: 3.855, IFNAR1_IFNAR2: 2.200:   9%| | 960/10240 [12:33<2:01:3"
     ]
    },
    {
     "name": "stdout",
     "output_type": "stream",
     "text": [
      "mean_rec: 1.255, mean_batch: 0.110\n"
     ]
    },
    {
     "name": "stderr",
     "output_type": "stream",
     "text": [
      "loss: 53664.221, IFNA1_to_random: 3.797, IFNAR1_IFNAR2: 2.199:  10%| | 992/10240 [12:58<2:01:1"
     ]
    },
    {
     "name": "stdout",
     "output_type": "stream",
     "text": [
      "mean_rec: 1.282, mean_batch: 0.108\n"
     ]
    },
    {
     "name": "stderr",
     "output_type": "stream",
     "text": [
      "loss: 53784.448, IFNA1_to_random: 3.805, IFNAR1_IFNAR2: 2.198:  10%| | 1024/10240 [13:23<2:00:"
     ]
    },
    {
     "name": "stdout",
     "output_type": "stream",
     "text": [
      "mean_rec: 1.279, mean_batch: 0.109\n"
     ]
    },
    {
     "name": "stderr",
     "output_type": "stream",
     "text": [
      "loss: 53574.197, IFNA1_to_random: 3.808, IFNAR1_IFNAR2: 2.199:  10%| | 1056/10240 [13:49<2:00:"
     ]
    },
    {
     "name": "stdout",
     "output_type": "stream",
     "text": [
      "mean_rec: 1.275, mean_batch: 0.109\n"
     ]
    },
    {
     "name": "stderr",
     "output_type": "stream",
     "text": [
      "loss: 53266.243, IFNA1_to_random: 3.880, IFNAR1_IFNAR2: 2.197:  11%| | 1088/10240 [14:14<2:00:"
     ]
    },
    {
     "name": "stdout",
     "output_type": "stream",
     "text": [
      "mean_rec: 1.288, mean_batch: 0.108\n"
     ]
    },
    {
     "name": "stderr",
     "output_type": "stream",
     "text": [
      "loss: 53113.113, IFNA1_to_random: 3.819, IFNAR1_IFNAR2: 2.198:  11%| | 1120/10240 [14:39<1:59:"
     ]
    },
    {
     "name": "stdout",
     "output_type": "stream",
     "text": [
      "mean_rec: 1.302, mean_batch: 0.108\n"
     ]
    },
    {
     "name": "stderr",
     "output_type": "stream",
     "text": [
      "loss: 53731.589, IFNA1_to_random: 3.802, IFNAR1_IFNAR2: 2.197:  11%| | 1152/10240 [15:04<1:59:"
     ]
    },
    {
     "name": "stdout",
     "output_type": "stream",
     "text": [
      "mean_rec: 1.278, mean_batch: 0.109\n"
     ]
    },
    {
     "name": "stderr",
     "output_type": "stream",
     "text": [
      "loss: 54078.749, IFNA1_to_random: 3.826, IFNAR1_IFNAR2: 2.198:  12%| | 1184/10240 [15:29<1:59:"
     ]
    },
    {
     "name": "stdout",
     "output_type": "stream",
     "text": [
      "mean_rec: 1.273, mean_batch: 0.109\n"
     ]
    },
    {
     "name": "stderr",
     "output_type": "stream",
     "text": [
      "loss: 53205.487, IFNA1_to_random: 3.836, IFNAR1_IFNAR2: 2.203:  12%| | 1216/10240 [15:54<1:58:"
     ]
    },
    {
     "name": "stdout",
     "output_type": "stream",
     "text": [
      "mean_rec: 1.292, mean_batch: 0.108\n"
     ]
    },
    {
     "name": "stderr",
     "output_type": "stream",
     "text": [
      "loss: 53150.047, IFNA1_to_random: 3.807, IFNAR1_IFNAR2: 2.204:  12%| | 1248/10240 [16:20<1:58:"
     ]
    },
    {
     "name": "stdout",
     "output_type": "stream",
     "text": [
      "mean_rec: 1.297, mean_batch: 0.108\n"
     ]
    },
    {
     "name": "stderr",
     "output_type": "stream",
     "text": [
      "loss: 52955.418, IFNA1_to_random: 3.844, IFNAR1_IFNAR2: 2.203:  12%|▏| 1280/10240 [16:45<1:57:"
     ]
    },
    {
     "name": "stdout",
     "output_type": "stream",
     "text": [
      "mean_rec: 1.303, mean_batch: 0.107\n"
     ]
    },
    {
     "name": "stderr",
     "output_type": "stream",
     "text": [
      "loss: 54780.513, IFNA1_to_random: 3.854, IFNAR1_IFNAR2: 2.202:  13%|▏| 1312/10240 [17:10<1:57:"
     ]
    },
    {
     "name": "stdout",
     "output_type": "stream",
     "text": [
      "mean_rec: 1.267, mean_batch: 0.109\n"
     ]
    },
    {
     "name": "stderr",
     "output_type": "stream",
     "text": [
      "loss: 53950.908, IFNA1_to_random: 3.802, IFNAR1_IFNAR2: 2.201:  13%|▏| 1344/10240 [17:35<1:56:"
     ]
    },
    {
     "name": "stdout",
     "output_type": "stream",
     "text": [
      "mean_rec: 1.255, mean_batch: 0.109\n"
     ]
    },
    {
     "name": "stderr",
     "output_type": "stream",
     "text": [
      "loss: 53269.547, IFNA1_to_random: 3.820, IFNAR1_IFNAR2: 2.200:  13%|▏| 1376/10240 [18:01<1:56:"
     ]
    },
    {
     "name": "stdout",
     "output_type": "stream",
     "text": [
      "mean_rec: 1.284, mean_batch: 0.108\n"
     ]
    },
    {
     "name": "stderr",
     "output_type": "stream",
     "text": [
      "loss: 52373.987, IFNA1_to_random: 3.804, IFNAR1_IFNAR2: 2.200:  14%|▏| 1408/10240 [18:26<1:56:"
     ]
    },
    {
     "name": "stdout",
     "output_type": "stream",
     "text": [
      "mean_rec: 1.312, mean_batch: 0.107\n"
     ]
    },
    {
     "name": "stderr",
     "output_type": "stream",
     "text": [
      "loss: 53163.766, IFNA1_to_random: 3.821, IFNAR1_IFNAR2: 2.198:  14%|▏| 1440/10240 [18:51<1:55:"
     ]
    },
    {
     "name": "stdout",
     "output_type": "stream",
     "text": [
      "mean_rec: 1.292, mean_batch: 0.108\n"
     ]
    },
    {
     "name": "stderr",
     "output_type": "stream",
     "text": [
      "loss: 54147.071, IFNA1_to_random: 3.852, IFNAR1_IFNAR2: 2.197:  14%|▏| 1472/10240 [19:16<1:55:"
     ]
    },
    {
     "name": "stdout",
     "output_type": "stream",
     "text": [
      "mean_rec: 1.265, mean_batch: 0.109\n"
     ]
    },
    {
     "name": "stderr",
     "output_type": "stream",
     "text": [
      "loss: 53317.286, IFNA1_to_random: 3.844, IFNAR1_IFNAR2: 2.199:  15%|▏| 1504/10240 [19:41<1:54:"
     ]
    },
    {
     "name": "stdout",
     "output_type": "stream",
     "text": [
      "mean_rec: 1.293, mean_batch: 0.108\n"
     ]
    },
    {
     "name": "stderr",
     "output_type": "stream",
     "text": [
      "loss: 53723.239, IFNA1_to_random: 3.833, IFNAR1_IFNAR2: 2.200:  15%|▏| 1536/10240 [20:07<1:54:"
     ]
    },
    {
     "name": "stdout",
     "output_type": "stream",
     "text": [
      "mean_rec: 1.273, mean_batch: 0.109\n"
     ]
    },
    {
     "name": "stderr",
     "output_type": "stream",
     "text": [
      "loss: 53841.075, IFNA1_to_random: 3.781, IFNAR1_IFNAR2: 2.199:  15%|▏| 1568/10240 [20:32<1:53:"
     ]
    },
    {
     "name": "stdout",
     "output_type": "stream",
     "text": [
      "mean_rec: 1.271, mean_batch: 0.109\n"
     ]
    },
    {
     "name": "stderr",
     "output_type": "stream",
     "text": [
      "loss: 53854.652, IFNA1_to_random: 3.804, IFNAR1_IFNAR2: 2.203:  16%|▏| 1600/10240 [20:57<1:53:"
     ]
    },
    {
     "name": "stdout",
     "output_type": "stream",
     "text": [
      "mean_rec: 1.268, mean_batch: 0.109\n"
     ]
    },
    {
     "name": "stderr",
     "output_type": "stream",
     "text": [
      "loss: 53876.236, IFNA1_to_random: 3.810, IFNAR1_IFNAR2: 2.203:  16%|▏| 1632/10240 [21:22<1:53:"
     ]
    },
    {
     "name": "stdout",
     "output_type": "stream",
     "text": [
      "mean_rec: 1.274, mean_batch: 0.109\n"
     ]
    },
    {
     "name": "stderr",
     "output_type": "stream",
     "text": [
      "loss: 53397.537, IFNA1_to_random: 3.841, IFNAR1_IFNAR2: 2.204:  16%|▏| 1664/10240 [21:47<1:52:"
     ]
    },
    {
     "name": "stdout",
     "output_type": "stream",
     "text": [
      "mean_rec: 1.281, mean_batch: 0.108\n"
     ]
    },
    {
     "name": "stderr",
     "output_type": "stream",
     "text": [
      "loss: 54137.611, IFNA1_to_random: 3.873, IFNAR1_IFNAR2: 2.206:  17%|▏| 1696/10240 [22:13<1:52:"
     ]
    },
    {
     "name": "stdout",
     "output_type": "stream",
     "text": [
      "mean_rec: 1.274, mean_batch: 0.109\n"
     ]
    },
    {
     "name": "stderr",
     "output_type": "stream",
     "text": [
      "loss: 54521.369, IFNA1_to_random: 3.792, IFNAR1_IFNAR2: 2.207:  17%|▏| 1728/10240 [22:38<1:51:"
     ]
    },
    {
     "name": "stdout",
     "output_type": "stream",
     "text": [
      "mean_rec: 1.253, mean_batch: 0.110\n"
     ]
    },
    {
     "name": "stderr",
     "output_type": "stream",
     "text": [
      "loss: 53961.854, IFNA1_to_random: 3.808, IFNAR1_IFNAR2: 2.207:  17%|▏| 1760/10240 [23:03<1:51:"
     ]
    },
    {
     "name": "stdout",
     "output_type": "stream",
     "text": [
      "mean_rec: 1.272, mean_batch: 0.109\n"
     ]
    },
    {
     "name": "stderr",
     "output_type": "stream",
     "text": [
      "loss: 53235.825, IFNA1_to_random: 3.853, IFNAR1_IFNAR2: 2.202:  18%|▏| 1792/10240 [23:28<1:51:"
     ]
    },
    {
     "name": "stdout",
     "output_type": "stream",
     "text": [
      "mean_rec: 1.286, mean_batch: 0.108\n"
     ]
    },
    {
     "name": "stderr",
     "output_type": "stream",
     "text": [
      "loss: 53203.681, IFNA1_to_random: 3.829, IFNAR1_IFNAR2: 2.199:  18%|▏| 1824/10240 [23:53<1:50:"
     ]
    },
    {
     "name": "stdout",
     "output_type": "stream",
     "text": [
      "mean_rec: 1.286, mean_batch: 0.108\n"
     ]
    },
    {
     "name": "stderr",
     "output_type": "stream",
     "text": [
      "loss: 53508.560, IFNA1_to_random: 3.837, IFNAR1_IFNAR2: 2.198:  18%|▏| 1856/10240 [24:19<1:49:"
     ]
    },
    {
     "name": "stdout",
     "output_type": "stream",
     "text": [
      "mean_rec: 1.283, mean_batch: 0.108\n"
     ]
    },
    {
     "name": "stderr",
     "output_type": "stream",
     "text": [
      "loss: 53191.215, IFNA1_to_random: 3.821, IFNAR1_IFNAR2: 2.200:  18%|▏| 1888/10240 [24:44<1:49:"
     ]
    },
    {
     "name": "stdout",
     "output_type": "stream",
     "text": [
      "mean_rec: 1.289, mean_batch: 0.108\n"
     ]
    },
    {
     "name": "stderr",
     "output_type": "stream",
     "text": [
      "loss: 53714.722, IFNA1_to_random: 3.813, IFNAR1_IFNAR2: 2.202:  19%|▏| 1920/10240 [25:09<1:49:"
     ]
    },
    {
     "name": "stdout",
     "output_type": "stream",
     "text": [
      "mean_rec: 1.284, mean_batch: 0.109\n"
     ]
    },
    {
     "name": "stderr",
     "output_type": "stream",
     "text": [
      "loss: 54153.648, IFNA1_to_random: 3.861, IFNAR1_IFNAR2: 2.205:  19%|▏| 1952/10240 [25:34<1:48:"
     ]
    },
    {
     "name": "stdout",
     "output_type": "stream",
     "text": [
      "mean_rec: 1.260, mean_batch: 0.109\n"
     ]
    },
    {
     "name": "stderr",
     "output_type": "stream",
     "text": [
      "loss: 54325.185, IFNA1_to_random: 3.820, IFNAR1_IFNAR2: 2.204:  19%|▏| 1984/10240 [26:00<1:48:"
     ]
    },
    {
     "name": "stdout",
     "output_type": "stream",
     "text": [
      "mean_rec: 1.252, mean_batch: 0.110\n"
     ]
    },
    {
     "name": "stderr",
     "output_type": "stream",
     "text": [
      "loss: 53618.719, IFNA1_to_random: 3.871, IFNAR1_IFNAR2: 2.204:  20%|▏| 2016/10240 [26:25<1:48:"
     ]
    },
    {
     "name": "stdout",
     "output_type": "stream",
     "text": [
      "mean_rec: 1.280, mean_batch: 0.109\n"
     ]
    },
    {
     "name": "stderr",
     "output_type": "stream",
     "text": [
      "loss: 54239.216, IFNA1_to_random: 3.821, IFNAR1_IFNAR2: 2.201:  20%|▏| 2048/10240 [26:50<1:47:"
     ]
    },
    {
     "name": "stdout",
     "output_type": "stream",
     "text": [
      "mean_rec: 1.260, mean_batch: 0.109\n"
     ]
    },
    {
     "name": "stderr",
     "output_type": "stream",
     "text": [
      "loss: 53534.155, IFNA1_to_random: 3.842, IFNAR1_IFNAR2: 2.201:  20%|▏| 2080/10240 [27:15<1:46:"
     ]
    },
    {
     "name": "stdout",
     "output_type": "stream",
     "text": [
      "mean_rec: 1.282, mean_batch: 0.109\n"
     ]
    },
    {
     "name": "stderr",
     "output_type": "stream",
     "text": [
      "loss: 54170.116, IFNA1_to_random: 3.843, IFNAR1_IFNAR2: 2.202:  21%|▏| 2112/10240 [27:40<1:46:"
     ]
    },
    {
     "name": "stdout",
     "output_type": "stream",
     "text": [
      "mean_rec: 1.272, mean_batch: 0.109\n"
     ]
    },
    {
     "name": "stderr",
     "output_type": "stream",
     "text": [
      "loss: 54031.837, IFNA1_to_random: 3.812, IFNAR1_IFNAR2: 2.199:  21%|▏| 2144/10240 [28:06<1:46:"
     ]
    },
    {
     "name": "stdout",
     "output_type": "stream",
     "text": [
      "mean_rec: 1.268, mean_batch: 0.109\n"
     ]
    },
    {
     "name": "stderr",
     "output_type": "stream",
     "text": [
      "loss: 53929.572, IFNA1_to_random: 3.791, IFNAR1_IFNAR2: 2.197:  21%|▏| 2176/10240 [28:31<1:45:"
     ]
    },
    {
     "name": "stdout",
     "output_type": "stream",
     "text": [
      "mean_rec: 1.267, mean_batch: 0.109\n"
     ]
    },
    {
     "name": "stderr",
     "output_type": "stream",
     "text": [
      "loss: 52869.735, IFNA1_to_random: 3.819, IFNAR1_IFNAR2: 2.195:  22%|▏| 2208/10240 [28:56<1:45:"
     ]
    },
    {
     "name": "stdout",
     "output_type": "stream",
     "text": [
      "mean_rec: 1.307, mean_batch: 0.108\n"
     ]
    },
    {
     "name": "stderr",
     "output_type": "stream",
     "text": [
      "loss: 54102.669, IFNA1_to_random: 3.840, IFNAR1_IFNAR2: 2.196:  22%|▏| 2240/10240 [29:21<1:44:"
     ]
    },
    {
     "name": "stdout",
     "output_type": "stream",
     "text": [
      "mean_rec: 1.266, mean_batch: 0.109\n"
     ]
    },
    {
     "name": "stderr",
     "output_type": "stream",
     "text": [
      "loss: 53746.734, IFNA1_to_random: 3.824, IFNAR1_IFNAR2: 2.200:  22%|▏| 2272/10240 [29:46<1:44:"
     ]
    },
    {
     "name": "stdout",
     "output_type": "stream",
     "text": [
      "mean_rec: 1.282, mean_batch: 0.109\n"
     ]
    },
    {
     "name": "stderr",
     "output_type": "stream",
     "text": [
      "loss: 53061.304, IFNA1_to_random: 3.826, IFNAR1_IFNAR2: 2.200:  22%|▏| 2304/10240 [30:12<1:44:"
     ]
    },
    {
     "name": "stdout",
     "output_type": "stream",
     "text": [
      "mean_rec: 1.285, mean_batch: 0.108\n"
     ]
    },
    {
     "name": "stderr",
     "output_type": "stream",
     "text": [
      "loss: 53472.355, IFNA1_to_random: 3.825, IFNAR1_IFNAR2: 2.201:  23%|▏| 2336/10240 [30:37<1:43:"
     ]
    },
    {
     "name": "stdout",
     "output_type": "stream",
     "text": [
      "mean_rec: 1.292, mean_batch: 0.108\n"
     ]
    },
    {
     "name": "stderr",
     "output_type": "stream",
     "text": [
      "loss: 53313.182, IFNA1_to_random: 3.830, IFNAR1_IFNAR2: 2.199:  23%|▏| 2368/10240 [31:02<1:42:"
     ]
    },
    {
     "name": "stdout",
     "output_type": "stream",
     "text": [
      "mean_rec: 1.289, mean_batch: 0.108\n"
     ]
    },
    {
     "name": "stderr",
     "output_type": "stream",
     "text": [
      "loss: 54182.921, IFNA1_to_random: 3.832, IFNAR1_IFNAR2: 2.197:  23%|▏| 2400/10240 [31:27<1:42:"
     ]
    },
    {
     "name": "stdout",
     "output_type": "stream",
     "text": [
      "mean_rec: 1.250, mean_batch: 0.110\n"
     ]
    },
    {
     "name": "stderr",
     "output_type": "stream",
     "text": [
      "loss: 54235.856, IFNA1_to_random: 3.842, IFNAR1_IFNAR2: 2.195:  24%|▏| 2432/10240 [31:52<1:42:"
     ]
    },
    {
     "name": "stdout",
     "output_type": "stream",
     "text": [
      "mean_rec: 1.260, mean_batch: 0.110\n"
     ]
    },
    {
     "name": "stderr",
     "output_type": "stream",
     "text": [
      "loss: 53459.100, IFNA1_to_random: 3.833, IFNAR1_IFNAR2: 2.194:  24%|▏| 2464/10240 [32:17<1:42:"
     ]
    },
    {
     "name": "stdout",
     "output_type": "stream",
     "text": [
      "mean_rec: 1.288, mean_batch: 0.108\n"
     ]
    },
    {
     "name": "stderr",
     "output_type": "stream",
     "text": [
      "loss: 54038.617, IFNA1_to_random: 3.851, IFNAR1_IFNAR2: 2.197:  24%|▏| 2496/10240 [32:43<1:41:"
     ]
    },
    {
     "name": "stdout",
     "output_type": "stream",
     "text": [
      "mean_rec: 1.274, mean_batch: 0.109\n"
     ]
    },
    {
     "name": "stderr",
     "output_type": "stream",
     "text": [
      "loss: 53729.391, IFNA1_to_random: 3.791, IFNAR1_IFNAR2: 2.202:  25%|▏| 2528/10240 [33:08<1:41:"
     ]
    },
    {
     "name": "stdout",
     "output_type": "stream",
     "text": [
      "mean_rec: 1.270, mean_batch: 0.109\n"
     ]
    },
    {
     "name": "stderr",
     "output_type": "stream",
     "text": [
      "loss: 52102.974, IFNA1_to_random: 3.801, IFNAR1_IFNAR2: 2.204:  25%|▎| 2560/10240 [33:33<1:40:"
     ]
    },
    {
     "name": "stdout",
     "output_type": "stream",
     "text": [
      "mean_rec: 1.324, mean_batch: 0.107\n"
     ]
    },
    {
     "name": "stderr",
     "output_type": "stream",
     "text": [
      "loss: 53808.936, IFNA1_to_random: 3.816, IFNAR1_IFNAR2: 2.203:  25%|▎| 2592/10240 [33:58<1:39:"
     ]
    },
    {
     "name": "stdout",
     "output_type": "stream",
     "text": [
      "mean_rec: 1.271, mean_batch: 0.109\n"
     ]
    },
    {
     "name": "stderr",
     "output_type": "stream",
     "text": [
      "loss: 53129.119, IFNA1_to_random: 3.841, IFNAR1_IFNAR2: 2.201:  26%|▎| 2624/10240 [34:23<1:39:"
     ]
    },
    {
     "name": "stdout",
     "output_type": "stream",
     "text": [
      "mean_rec: 1.291, mean_batch: 0.108\n"
     ]
    },
    {
     "name": "stderr",
     "output_type": "stream",
     "text": [
      "loss: 54350.079, IFNA1_to_random: 3.777, IFNAR1_IFNAR2: 2.200:  26%|▎| 2656/10240 [34:48<1:39:"
     ]
    },
    {
     "name": "stdout",
     "output_type": "stream",
     "text": [
      "mean_rec: 1.262, mean_batch: 0.109\n"
     ]
    },
    {
     "name": "stderr",
     "output_type": "stream",
     "text": [
      "loss: 53389.156, IFNA1_to_random: 3.866, IFNAR1_IFNAR2: 2.196:  26%|▎| 2688/10240 [35:13<1:38:"
     ]
    },
    {
     "name": "stdout",
     "output_type": "stream",
     "text": [
      "mean_rec: 1.297, mean_batch: 0.108\n"
     ]
    },
    {
     "name": "stderr",
     "output_type": "stream",
     "text": [
      "loss: 53280.487, IFNA1_to_random: 3.830, IFNAR1_IFNAR2: 2.191:  27%|▎| 2720/10240 [35:38<1:38:"
     ]
    },
    {
     "name": "stdout",
     "output_type": "stream",
     "text": [
      "mean_rec: 1.299, mean_batch: 0.108\n"
     ]
    },
    {
     "name": "stderr",
     "output_type": "stream",
     "text": [
      "loss: 53419.223, IFNA1_to_random: 3.826, IFNAR1_IFNAR2: 2.191:  27%|▎| 2752/10240 [36:03<1:38:"
     ]
    },
    {
     "name": "stdout",
     "output_type": "stream",
     "text": [
      "mean_rec: 1.294, mean_batch: 0.108\n"
     ]
    },
    {
     "name": "stderr",
     "output_type": "stream",
     "text": [
      "loss: 53693.184, IFNA1_to_random: 3.856, IFNAR1_IFNAR2: 2.194:  27%|▎| 2784/10240 [36:29<1:37:"
     ]
    },
    {
     "name": "stdout",
     "output_type": "stream",
     "text": [
      "mean_rec: 1.278, mean_batch: 0.109\n"
     ]
    },
    {
     "name": "stderr",
     "output_type": "stream",
     "text": [
      "loss: 54017.782, IFNA1_to_random: 3.852, IFNAR1_IFNAR2: 2.191:  28%|▎| 2816/10240 [36:54<1:37:"
     ]
    },
    {
     "name": "stdout",
     "output_type": "stream",
     "text": [
      "mean_rec: 1.275, mean_batch: 0.109\n"
     ]
    },
    {
     "name": "stderr",
     "output_type": "stream",
     "text": [
      "loss: 54428.251, IFNA1_to_random: 3.865, IFNAR1_IFNAR2: 2.188:  28%|▎| 2848/10240 [37:19<1:37:"
     ]
    },
    {
     "name": "stdout",
     "output_type": "stream",
     "text": [
      "mean_rec: 1.243, mean_batch: 0.110\n"
     ]
    },
    {
     "name": "stderr",
     "output_type": "stream",
     "text": [
      "loss: 53621.679, IFNA1_to_random: 3.875, IFNAR1_IFNAR2: 2.188:  28%|▎| 2880/10240 [37:44<1:36:"
     ]
    },
    {
     "name": "stdout",
     "output_type": "stream",
     "text": [
      "mean_rec: 1.281, mean_batch: 0.109\n"
     ]
    },
    {
     "name": "stderr",
     "output_type": "stream",
     "text": [
      "loss: 54076.499, IFNA1_to_random: 3.888, IFNAR1_IFNAR2: 2.188:  28%|▎| 2912/10240 [38:09<1:35:"
     ]
    },
    {
     "name": "stdout",
     "output_type": "stream",
     "text": [
      "mean_rec: 1.265, mean_batch: 0.109\n"
     ]
    },
    {
     "name": "stderr",
     "output_type": "stream",
     "text": [
      "loss: 53764.886, IFNA1_to_random: 3.831, IFNAR1_IFNAR2: 2.190:  29%|▎| 2944/10240 [38:34<1:35:"
     ]
    },
    {
     "name": "stdout",
     "output_type": "stream",
     "text": [
      "mean_rec: 1.277, mean_batch: 0.109\n"
     ]
    },
    {
     "name": "stderr",
     "output_type": "stream",
     "text": [
      "loss: 53428.769, IFNA1_to_random: 3.787, IFNAR1_IFNAR2: 2.189:  29%|▎| 2976/10240 [38:59<1:35:"
     ]
    },
    {
     "name": "stdout",
     "output_type": "stream",
     "text": [
      "mean_rec: 1.285, mean_batch: 0.108\n"
     ]
    },
    {
     "name": "stderr",
     "output_type": "stream",
     "text": [
      "loss: 53648.253, IFNA1_to_random: 3.854, IFNAR1_IFNAR2: 2.190:  29%|▎| 3008/10240 [39:24<1:34:"
     ]
    },
    {
     "name": "stdout",
     "output_type": "stream",
     "text": [
      "mean_rec: 1.273, mean_batch: 0.109\n"
     ]
    },
    {
     "name": "stderr",
     "output_type": "stream",
     "text": [
      "loss: 52997.766, IFNA1_to_random: 3.824, IFNAR1_IFNAR2: 2.190:  30%|▎| 3040/10240 [39:50<1:34:"
     ]
    },
    {
     "name": "stdout",
     "output_type": "stream",
     "text": [
      "mean_rec: 1.295, mean_batch: 0.108\n"
     ]
    },
    {
     "name": "stderr",
     "output_type": "stream",
     "text": [
      "loss: 53507.641, IFNA1_to_random: 3.844, IFNAR1_IFNAR2: 2.188:  30%|▎| 3072/10240 [40:15<1:33:"
     ]
    },
    {
     "name": "stdout",
     "output_type": "stream",
     "text": [
      "mean_rec: 1.281, mean_batch: 0.108\n"
     ]
    },
    {
     "name": "stderr",
     "output_type": "stream",
     "text": [
      "loss: 53025.451, IFNA1_to_random: 3.798, IFNAR1_IFNAR2: 2.190:  30%|▎| 3104/10240 [40:40<1:33:"
     ]
    },
    {
     "name": "stdout",
     "output_type": "stream",
     "text": [
      "mean_rec: 1.302, mean_batch: 0.108\n"
     ]
    },
    {
     "name": "stderr",
     "output_type": "stream",
     "text": [
      "loss: 53609.241, IFNA1_to_random: 3.874, IFNAR1_IFNAR2: 2.191:  31%|▎| 3136/10240 [41:05<1:32:"
     ]
    },
    {
     "name": "stdout",
     "output_type": "stream",
     "text": [
      "mean_rec: 1.273, mean_batch: 0.109\n"
     ]
    },
    {
     "name": "stderr",
     "output_type": "stream",
     "text": [
      "loss: 53349.209, IFNA1_to_random: 3.897, IFNAR1_IFNAR2: 2.191:  31%|▎| 3168/10240 [41:30<1:32:"
     ]
    },
    {
     "name": "stdout",
     "output_type": "stream",
     "text": [
      "mean_rec: 1.300, mean_batch: 0.108\n"
     ]
    },
    {
     "name": "stderr",
     "output_type": "stream",
     "text": [
      "loss: 54296.023, IFNA1_to_random: 3.850, IFNAR1_IFNAR2: 2.194:  31%|▎| 3200/10240 [41:55<1:32:"
     ]
    },
    {
     "name": "stdout",
     "output_type": "stream",
     "text": [
      "mean_rec: 1.261, mean_batch: 0.110\n"
     ]
    },
    {
     "name": "stderr",
     "output_type": "stream",
     "text": [
      "loss: 54370.287, IFNA1_to_random: 3.814, IFNAR1_IFNAR2: 2.195:  32%|▎| 3232/10240 [42:20<1:31:"
     ]
    },
    {
     "name": "stdout",
     "output_type": "stream",
     "text": [
      "mean_rec: 1.269, mean_batch: 0.109\n"
     ]
    },
    {
     "name": "stderr",
     "output_type": "stream",
     "text": [
      "loss: 53300.447, IFNA1_to_random: 3.801, IFNAR1_IFNAR2: 2.193:  32%|▎| 3264/10240 [42:45<1:31:"
     ]
    },
    {
     "name": "stdout",
     "output_type": "stream",
     "text": [
      "mean_rec: 1.286, mean_batch: 0.108\n"
     ]
    },
    {
     "name": "stderr",
     "output_type": "stream",
     "text": [
      "loss: 53676.831, IFNA1_to_random: 3.847, IFNAR1_IFNAR2: 2.196:  32%|▎| 3296/10240 [43:11<1:30:"
     ]
    },
    {
     "name": "stdout",
     "output_type": "stream",
     "text": [
      "mean_rec: 1.275, mean_batch: 0.109\n"
     ]
    },
    {
     "name": "stderr",
     "output_type": "stream",
     "text": [
      "loss: 54706.453, IFNA1_to_random: 3.798, IFNAR1_IFNAR2: 2.197:  32%|▎| 3328/10240 [43:36<1:30:"
     ]
    },
    {
     "name": "stdout",
     "output_type": "stream",
     "text": [
      "mean_rec: 1.291, mean_batch: 0.109\n"
     ]
    },
    {
     "name": "stderr",
     "output_type": "stream",
     "text": [
      "loss: 53848.130, IFNA1_to_random: 3.857, IFNAR1_IFNAR2: 2.197:  33%|▎| 3360/10240 [44:01<1:30:"
     ]
    },
    {
     "name": "stdout",
     "output_type": "stream",
     "text": [
      "mean_rec: 1.284, mean_batch: 0.108\n"
     ]
    },
    {
     "name": "stderr",
     "output_type": "stream",
     "text": [
      "loss: 53992.021, IFNA1_to_random: 3.903, IFNAR1_IFNAR2: 2.194:  33%|▎| 3392/10240 [44:26<1:29:"
     ]
    },
    {
     "name": "stdout",
     "output_type": "stream",
     "text": [
      "mean_rec: 1.271, mean_batch: 0.109\n"
     ]
    },
    {
     "name": "stderr",
     "output_type": "stream",
     "text": [
      "loss: 53469.549, IFNA1_to_random: 3.886, IFNAR1_IFNAR2: 2.195:  33%|▎| 3424/10240 [44:51<1:29:"
     ]
    },
    {
     "name": "stdout",
     "output_type": "stream",
     "text": [
      "mean_rec: 1.276, mean_batch: 0.109\n"
     ]
    },
    {
     "name": "stderr",
     "output_type": "stream",
     "text": [
      "loss: 53460.845, IFNA1_to_random: 3.839, IFNAR1_IFNAR2: 2.194:  34%|▎| 3456/10240 [45:16<1:28:"
     ]
    },
    {
     "name": "stdout",
     "output_type": "stream",
     "text": [
      "mean_rec: 1.279, mean_batch: 0.109\n"
     ]
    },
    {
     "name": "stderr",
     "output_type": "stream",
     "text": [
      "loss: 53171.234, IFNA1_to_random: 3.766, IFNAR1_IFNAR2: 2.193:  34%|▎| 3488/10240 [45:41<1:28:"
     ]
    },
    {
     "name": "stdout",
     "output_type": "stream",
     "text": [
      "mean_rec: 1.291, mean_batch: 0.108\n"
     ]
    },
    {
     "name": "stderr",
     "output_type": "stream",
     "text": [
      "loss: 53483.466, IFNA1_to_random: 3.810, IFNAR1_IFNAR2: 2.193:  34%|▎| 3520/10240 [46:07<1:28:"
     ]
    },
    {
     "name": "stdout",
     "output_type": "stream",
     "text": [
      "mean_rec: 1.285, mean_batch: 0.109\n"
     ]
    },
    {
     "name": "stderr",
     "output_type": "stream",
     "text": [
      "loss: 54283.896, IFNA1_to_random: 3.846, IFNAR1_IFNAR2: 2.193:  35%|▎| 3552/10240 [46:32<1:27:"
     ]
    },
    {
     "name": "stdout",
     "output_type": "stream",
     "text": [
      "mean_rec: 1.257, mean_batch: 0.109\n"
     ]
    },
    {
     "name": "stderr",
     "output_type": "stream",
     "text": [
      "loss: 54130.538, IFNA1_to_random: 3.871, IFNAR1_IFNAR2: 2.194:  35%|▎| 3584/10240 [46:57<1:27:"
     ]
    },
    {
     "name": "stdout",
     "output_type": "stream",
     "text": [
      "mean_rec: 1.267, mean_batch: 0.109\n"
     ]
    },
    {
     "name": "stderr",
     "output_type": "stream",
     "text": [
      "loss: 53807.977, IFNA1_to_random: 3.825, IFNAR1_IFNAR2: 2.194:  35%|▎| 3616/10240 [47:22<1:26:"
     ]
    },
    {
     "name": "stdout",
     "output_type": "stream",
     "text": [
      "mean_rec: 1.264, mean_batch: 0.109\n"
     ]
    },
    {
     "name": "stderr",
     "output_type": "stream",
     "text": [
      "loss: 53659.899, IFNA1_to_random: 3.834, IFNAR1_IFNAR2: 2.196:  36%|▎| 3648/10240 [47:47<1:26:"
     ]
    },
    {
     "name": "stdout",
     "output_type": "stream",
     "text": [
      "mean_rec: 1.271, mean_batch: 0.109\n"
     ]
    },
    {
     "name": "stderr",
     "output_type": "stream",
     "text": [
      "loss: 53295.293, IFNA1_to_random: 3.812, IFNAR1_IFNAR2: 2.196:  36%|▎| 3680/10240 [48:13<1:26:"
     ]
    },
    {
     "name": "stdout",
     "output_type": "stream",
     "text": [
      "mean_rec: 1.279, mean_batch: 0.108\n"
     ]
    },
    {
     "name": "stderr",
     "output_type": "stream",
     "text": [
      "loss: 53037.995, IFNA1_to_random: 3.857, IFNAR1_IFNAR2: 2.196:  36%|▎| 3712/10240 [48:38<1:25:"
     ]
    },
    {
     "name": "stdout",
     "output_type": "stream",
     "text": [
      "mean_rec: 1.298, mean_batch: 0.108\n"
     ]
    },
    {
     "name": "stderr",
     "output_type": "stream",
     "text": [
      "loss: 53066.362, IFNA1_to_random: 3.880, IFNAR1_IFNAR2: 2.198:  37%|▎| 3744/10240 [49:03<1:25:"
     ]
    },
    {
     "name": "stdout",
     "output_type": "stream",
     "text": [
      "mean_rec: 1.297, mean_batch: 0.108\n"
     ]
    },
    {
     "name": "stderr",
     "output_type": "stream",
     "text": [
      "loss: 52944.064, IFNA1_to_random: 3.870, IFNAR1_IFNAR2: 2.197:  37%|▎| 3776/10240 [49:28<1:24:"
     ]
    },
    {
     "name": "stdout",
     "output_type": "stream",
     "text": [
      "mean_rec: 1.298, mean_batch: 0.108\n"
     ]
    },
    {
     "name": "stderr",
     "output_type": "stream",
     "text": [
      "loss: 53041.211, IFNA1_to_random: 3.853, IFNAR1_IFNAR2: 2.194:  37%|▎| 3808/10240 [49:53<1:24:"
     ]
    },
    {
     "name": "stdout",
     "output_type": "stream",
     "text": [
      "mean_rec: 1.299, mean_batch: 0.108\n"
     ]
    },
    {
     "name": "stderr",
     "output_type": "stream",
     "text": [
      "loss: 53688.919, IFNA1_to_random: 3.827, IFNAR1_IFNAR2: 2.194:  38%|▍| 3840/10240 [50:19<1:23:"
     ]
    },
    {
     "name": "stdout",
     "output_type": "stream",
     "text": [
      "mean_rec: 1.283, mean_batch: 0.109\n"
     ]
    },
    {
     "name": "stderr",
     "output_type": "stream",
     "text": [
      "loss: 53788.234, IFNA1_to_random: 3.835, IFNAR1_IFNAR2: 2.197:  38%|▍| 3872/10240 [50:44<1:23:"
     ]
    },
    {
     "name": "stdout",
     "output_type": "stream",
     "text": [
      "mean_rec: 1.280, mean_batch: 0.109\n"
     ]
    },
    {
     "name": "stderr",
     "output_type": "stream",
     "text": [
      "loss: 53996.375, IFNA1_to_random: 3.826, IFNAR1_IFNAR2: 2.197:  38%|▍| 3874/10240 [50:45<1:23:"
     ]
    }
   ],
   "source": [
    "\n",
    "step_count = 0\n",
    "for e in range(10):\n",
    "\n",
    "    model.train()\n",
    "    losses = {'loss': [], 'control': [], \"IFNAR1_to_random\": [], \"IFNAR1_IFNAR2\": [], \"mean_rec\": [], \"mean_batch\": []}\n",
    "    for batch in (pbar := tqdm(iter(dataloader_rec))):\n",
    "        step_count += 1\n",
    "\n",
    "\n",
    "        optim.zero_grad()\n",
    "        batch = batch.to(device)\n",
    "\n",
    "\n",
    "\n",
    "        sparsity_mask = (batch > 0).float()\n",
    "\n",
    "        recon, is_expressed, mu, logvar = model.forward(batch, mode='reconstruction')\n",
    "\n",
    "        diff = (batch - recon) ** 4\n",
    "\n",
    "\n",
    "        sparsity_loss = torch.sum((is_expressed - sparsity_mask)**2)\n",
    "\n",
    "        raw_counts_loss_sparsified = torch.sum(diff * sparsity_mask)\n",
    "        raw_counts_loss = torch.sum(diff)\n",
    "        KLD = -0.5 * torch.sum(1 + logvar - mu.pow(2) - logvar.exp())\n",
    "\n",
    "        loss = raw_counts_loss_sparsified + alpha * KLD + sparsity_loss\n",
    "        #loss = raw_counts_loss + alpha * KLD + sparsity_loss\n",
    "        loss.backward()\n",
    "        optim.step()\n",
    "\n",
    " \n",
    "\n",
    "        with torch.no_grad():\n",
    "            random_indices = torch.randint(0, INPUT_DIM, (number_rand_genes,)).to(device)\n",
    "\n",
    "            IFNAR1_emb = model.gene_embeddings(IFNAR1_idx)\n",
    "            IFNAR2_emb = model.gene_embeddings(IFNAR2_idx)\n",
    "\n",
    "            random_genes = model.gene_embeddings(random_indices)\n",
    "\n",
    "            dist_IFNAR1_to_random = torch.norm(IFNAR1_emb - random_genes, p=2, dim=-1)\n",
    "\n",
    "            avg_dist_IFNAR1_to_random = torch.mean(dist_IFNAR1_to_random)\n",
    "\n",
    "\n",
    "\n",
    "            embedding_dist = torch.norm(IFNAR1_emb - IFNAR2_emb, p=2)\n",
    "\n",
    "      \n",
    "        mean_rec = torch.mean(recon)\n",
    "        mean_batch = torch.mean(batch)\n",
    "\n",
    "        losses[\"mean_rec\"].append(mean_rec.item())\n",
    "        losses[\"mean_batch\"].append(mean_batch.item())\n",
    "        losses['loss'].append(loss.item())\n",
    "        losses['IFNAR1_to_random'].append(avg_dist_IFNAR1_to_random.item())\n",
    "        losses['IFNAR1_IFNAR2'].append(embedding_dist.item())\n",
    "        \n",
    "        pbar.set_description(\n",
    "            f\"\"\"loss: {np.array(losses['loss'])[-lr_step:].mean():.3f}, IFNA1_to_random: {np.array(losses['IFNAR1_to_random'])[-lr_step:].mean():.3f}, IFNAR1_IFNAR2: {np.array(losses['IFNAR1_IFNAR2'])[-lr_step:].mean():.3f}\"\"\"\n",
    "        )\n",
    "        if(step_count % lr_step == 0):\n",
    "             print(f\"mean_rec: {np.array(losses['mean_rec'])[-lr_step:].mean():.3f}, mean_batch: {np.array(losses['mean_batch'])[-lr_step:].mean():.3f}\")\n",
    "\n",
    "\n",
    "    torch.save(model, \"model.pt\")\n"
   ]
  },
  {
   "cell_type": "code",
   "execution_count": 5,
   "metadata": {},
   "outputs": [
    {
     "name": "stderr",
     "output_type": "stream",
     "text": [
      "/tmp/ipykernel_3730038/37884352.py:1: FutureWarning: You are using `torch.load` with `weights_only=False` (the current default value), which uses the default pickle module implicitly. It is possible to construct malicious pickle data which will execute arbitrary code during unpickling (See https://github.com/pytorch/pytorch/blob/main/SECURITY.md#untrusted-models for more details). In a future release, the default value for `weights_only` will be flipped to `True`. This limits the functions that could be executed during unpickling. Arbitrary objects will no longer be allowed to be loaded via this mode unless they are explicitly allowlisted by the user via `torch.serialization.add_safe_globals`. We recommend you start setting `weights_only=True` for any use case where you don't have full control of the loaded file. Please open an issue on GitHub for any issues related to this experimental feature.\n",
      "  model = torch.load(\"notebooks/model.pt\")\n"
     ]
    }
   ],
   "source": [
    "model = torch.load(\"notebooks/model.pt\")"
   ]
  },
  {
   "cell_type": "code",
   "execution_count": 8,
   "metadata": {},
   "outputs": [],
   "source": [
    "model\n",
    "device = 'cuda'"
   ]
  },
  {
   "cell_type": "code",
   "execution_count": 9,
   "metadata": {},
   "outputs": [
    {
     "data": {
      "text/plain": [
       "VAEEverything(\n",
       "  (fc1_enc): Linear(in_features=34025, out_features=500, bias=True)\n",
       "  (relu1_enc): LeakyReLU(negative_slope=0.01)\n",
       "  (fc2_enc): Linear(in_features=500, out_features=500, bias=True)\n",
       "  (relu2_enc): LeakyReLU(negative_slope=0.01)\n",
       "  (fc3_enc): Linear(in_features=500, out_features=500, bias=True)\n",
       "  (relu3_enc): LeakyReLU(negative_slope=0.01)\n",
       "  (fc4_enc): Linear(in_features=500, out_features=500, bias=True)\n",
       "  (relu4_enc): LeakyReLU(negative_slope=0.01)\n",
       "  (encoder): Sequential(\n",
       "    (0): Linear(in_features=34025, out_features=500, bias=True)\n",
       "    (1): LeakyReLU(negative_slope=0.01)\n",
       "    (2): Linear(in_features=500, out_features=500, bias=True)\n",
       "    (3): LeakyReLU(negative_slope=0.01)\n",
       "    (4): Linear(in_features=500, out_features=500, bias=True)\n",
       "    (5): LeakyReLU(negative_slope=0.01)\n",
       "    (6): Linear(in_features=500, out_features=500, bias=True)\n",
       "    (7): LeakyReLU(negative_slope=0.01)\n",
       "  )\n",
       "  (fc_mu): Linear(in_features=500, out_features=64, bias=True)\n",
       "  (fc_var): Linear(in_features=500, out_features=64, bias=True)\n",
       "  (gene_embeddings): Embedding(34025, 8)\n",
       "  (fc1_dec_rec): Linear(in_features=72, out_features=500, bias=True)\n",
       "  (relu1_dec_rec): LeakyReLU(negative_slope=0.01)\n",
       "  (fc2_dec_rec): Linear(in_features=500, out_features=500, bias=True)\n",
       "  (relu2_dec_rec): LeakyReLU(negative_slope=0.01)\n",
       "  (fc3_dec_rec): Linear(in_features=500, out_features=500, bias=True)\n",
       "  (relu3_dec_rec): LeakyReLU(negative_slope=0.01)\n",
       "  (fc4_dec_rec): Linear(in_features=500, out_features=500, bias=True)\n",
       "  (relu4_dec_rec): LeakyReLU(negative_slope=0.01)\n",
       "  (fc_raw_counts): Linear(in_features=500, out_features=1, bias=True)\n",
       "  (fc_sparsity): Linear(in_features=500, out_features=1, bias=True)\n",
       "  (sigmoid_sparsity): Sigmoid()\n",
       "  (raw_counts_decoder): Sequential(\n",
       "    (0): Linear(in_features=72, out_features=500, bias=True)\n",
       "    (1): LeakyReLU(negative_slope=0.01)\n",
       "    (2): Linear(in_features=500, out_features=500, bias=True)\n",
       "    (3): LeakyReLU(negative_slope=0.01)\n",
       "    (4): Linear(in_features=500, out_features=500, bias=True)\n",
       "    (5): LeakyReLU(negative_slope=0.01)\n",
       "    (6): Linear(in_features=500, out_features=500, bias=True)\n",
       "    (7): LeakyReLU(negative_slope=0.01)\n",
       "    (8): Linear(in_features=500, out_features=1, bias=True)\n",
       "  )\n",
       "  (sparsity_decoder): Sequential(\n",
       "    (0): Linear(in_features=72, out_features=500, bias=True)\n",
       "    (1): LeakyReLU(negative_slope=0.01)\n",
       "    (2): Linear(in_features=500, out_features=500, bias=True)\n",
       "    (3): LeakyReLU(negative_slope=0.01)\n",
       "    (4): Linear(in_features=500, out_features=500, bias=True)\n",
       "    (5): LeakyReLU(negative_slope=0.01)\n",
       "    (6): Linear(in_features=500, out_features=500, bias=True)\n",
       "    (7): LeakyReLU(negative_slope=0.01)\n",
       "    (8): Linear(in_features=500, out_features=1, bias=True)\n",
       "    (9): Sigmoid()\n",
       "  )\n",
       "  (fc1_dec_pert): Linear(in_features=72, out_features=500, bias=True)\n",
       "  (relu1_dec_pert): LeakyReLU(negative_slope=0.01)\n",
       "  (fc2_dec_pert): Linear(in_features=500, out_features=500, bias=True)\n",
       "  (relu2_dec_pert): LeakyReLU(negative_slope=0.01)\n",
       "  (fc3_dec_pert): Linear(in_features=500, out_features=500, bias=True)\n",
       "  (relu3_dec_pert): LeakyReLU(negative_slope=0.01)\n",
       "  (fc4_dec_pert): Linear(in_features=500, out_features=500, bias=True)\n",
       "  (relu4_dec_pert): LeakyReLU(negative_slope=0.01)\n",
       "  (fc5_dec_pert): Linear(in_features=500, out_features=34025, bias=True)\n",
       "  (perturbation_decoder): Sequential(\n",
       "    (0): Linear(in_features=72, out_features=500, bias=True)\n",
       "    (1): LeakyReLU(negative_slope=0.01)\n",
       "    (2): Linear(in_features=500, out_features=500, bias=True)\n",
       "    (3): LeakyReLU(negative_slope=0.01)\n",
       "    (4): Linear(in_features=500, out_features=500, bias=True)\n",
       "    (5): LeakyReLU(negative_slope=0.01)\n",
       "    (6): Linear(in_features=500, out_features=500, bias=True)\n",
       "    (7): LeakyReLU(negative_slope=0.01)\n",
       "    (8): Linear(in_features=500, out_features=34025, bias=True)\n",
       "  )\n",
       ")"
      ]
     },
     "execution_count": 9,
     "metadata": {},
     "output_type": "execute_result"
    }
   ],
   "source": [
    "model.to(device)\n",
    "model.eval()"
   ]
  },
  {
   "cell_type": "code",
   "execution_count": 10,
   "metadata": {},
   "outputs": [],
   "source": [
    "data_np = adata.X.toarray()"
   ]
  },
  {
   "cell_type": "code",
   "execution_count": null,
   "metadata": {},
   "outputs": [],
   "source": [
    "adata.X = data_np\n"
   ]
  },
  {
   "cell_type": "code",
   "execution_count": 16,
   "metadata": {},
   "outputs": [
    {
     "data": {
      "text/plain": [
       "['A549', 'BXPC3', 'HAP1', 'HT29', 'K562', 'MCF7']\n",
       "Categories (6, object): ['A549', 'BXPC3', 'HAP1', 'HT29', 'K562', 'MCF7']"
      ]
     },
     "execution_count": 16,
     "metadata": {},
     "output_type": "execute_result"
    }
   ],
   "source": [
    "adata.obs[CELL_TYPE_KEY].unique()\n"
   ]
  },
  {
   "cell_type": "code",
   "execution_count": null,
   "metadata": {},
   "outputs": [],
   "source": []
  },
  {
   "cell_type": "code",
   "execution_count": null,
   "metadata": {},
   "outputs": [],
   "source": [
    "control_adata = adata[(adata.obs[PERT_KEY] == CONTROL_PERT) & (adata.obs[CELL_TYPE_KEY] == 'A549')]\n",
    "pert_adata = adata[(adata.obs[PERT_KEY] == \"IFNAR1\") & (adata.obs[CELL_TYPE_KEY] == 'A549')]\n",
    "\n"
   ]
  },
  {
   "cell_type": "code",
   "execution_count": null,
   "metadata": {},
   "outputs": [],
   "source": [
    "del batch\n"
   ]
  },
  {
   "cell_type": "code",
   "execution_count": 27,
   "metadata": {},
   "outputs": [],
   "source": [
    "import gc\n",
    "torch.cuda.empty_cache()\n",
    "gc.collect()\n",
    "batch_size = 10\n"
   ]
  },
  {
   "cell_type": "code",
   "execution_count": 32,
   "metadata": {},
   "outputs": [],
   "source": [
    "#Random sample of 10000 cells\n",
    "\n",
    "np_reconstructed_pert = np.zeros(pert_adata.X.shape)\n",
    "for i in range(0, pert_adata.X.shape[0], batch_size):\n",
    "    batch = pert_adata.X[i:i+batch_size]\n",
    "    batch = torch.from_numpy(batch).float().to(device)\n",
    "    recon, is_expressed, mu, logvar = model.forward(batch, mode='reconstruction')\n",
    "    np_reconstructed_pert[i:i+batch_size] = recon.cpu().detach().numpy()\n",
    "\n",
    "np_reconstructed_control = np.zeros(control_adata.X.shape)\n",
    "for i in range(0, control_adata.X.shape[0], batch_size):\n",
    "    batch = control_adata.X[i:i+batch_size]\n",
    "    batch = torch.from_numpy(batch).float().to(device)\n",
    "    recon, is_expressed, mu, logvar = model.forward(batch, mode='reconstruction')\n",
    "    np_reconstructed_control[i:i+batch_size] = recon.cpu().detach().numpy()\n",
    "\n",
    "\n",
    "adata_reconstructed_pert = sc.AnnData(X=np_reconstructed_pert,var=pert_adata.var)\n",
    "adata_reconstructed_control = sc.AnnData(X=np_reconstructed_control,var=control_adata.var)\n"
   ]
  },
  {
   "cell_type": "code",
   "execution_count": 29,
   "metadata": {},
   "outputs": [],
   "source": [
    "from os import listdir\n",
    "from scipy.sparse import issparse\n",
    "import anndata\n",
    "import scanpy as sc\n",
    "import numpy as np\n",
    "import pandas as pd\n",
    "\n",
    "from scipy.stats import pearsonr\n",
    "\n",
    "import logging\n",
    "\n",
    "logger = logging.getLogger(__name__)\n",
    "\n",
    "def r2_mse_filename(pert, cell):\n",
    "    return f'r2_and_mse_{pert}_{cell}.json'\n",
    "\n",
    "def c_r_filename(pert, cell):\n",
    "    return f'c_r_results_{pert}_{cell}.json'\n",
    "\n",
    "def DEGs_overlap_filename(pert, cell):   \n",
    "    return f'DEGs_overlaps_{pert}_{cell}.json'\n",
    "\n",
    "\n",
    "def get_DEG_with_direction(gene, score):\n",
    "    if score > 0:\n",
    "        return(f'{gene}+')\n",
    "    else:\n",
    "        return(f'{gene}-')\n",
    "        \n",
    "def to_dense(X):\n",
    "    if issparse(X):\n",
    "        return X.toarray()\n",
    "    else:\n",
    "        return np.asarray(X)\n",
    "\n",
    "def get_DEGs(control_adata, target_adata):\n",
    "    temp_concat = anndata.concat([control_adata, target_adata], label = 'batch')\n",
    "    sc.tl.rank_genes_groups(\n",
    "        temp_concat, 'batch', method='wilcoxon', \n",
    "        groups = ['1'], ref = '0', rankby_abs = True, tie_correct=True\n",
    "    )\n",
    "\n",
    "    rankings = temp_concat.uns['rank_genes_groups']\n",
    "    result_df = pd.DataFrame({'scores': rankings['scores']['1'],\n",
    "                     'pvals_adj': rankings['pvals_adj']['1'],\n",
    "                     'lfc': rankings['logfoldchanges']['1']},\n",
    "                    index = rankings['names']['1'])\n",
    "    return result_df\n",
    "\n",
    "def get_eval(ctrl_adata, true_adata, pred_adata, DEGs, DEG_vals, pval_threshold, lfc_threshold):\n",
    "        \n",
    "    results_dict =  {}\n",
    "    \n",
    "    logger.debug(f\"Computing R, R2, and MSE metrics\")\n",
    "\n",
    "    ctrl_mean = to_dense(ctrl_adata.X).mean(axis = 0)\n",
    "\n",
    "    true_mean = to_dense(true_adata.X).mean(axis = 0)\n",
    "    true_var = to_dense(true_adata.X).var(axis = 0)\n",
    "    \n",
    "    pred_mean = to_dense(pred_adata.X).mean(axis = 0)\n",
    "    pred_var = to_dense(pred_adata.X).var(axis = 0)\n",
    "    \n",
    "    true_corr_mtx = np.corrcoef(to_dense(true_adata.X), rowvar=False).flatten()\n",
    "    true_cov_mtx = np.cov(to_dense(true_adata.X), rowvar=False).flatten()\n",
    "        \n",
    "    pred_corr_mtx = np.corrcoef(to_dense(pred_adata.X), rowvar=False).flatten()\n",
    "    pred_cov_mtx = np.cov(to_dense(pred_adata.X), rowvar=False).flatten()\n",
    "\n",
    "    true_sub_diff = true_mean - ctrl_mean\n",
    "    pred_sub_diff = pred_mean - ctrl_mean\n",
    "\n",
    "    true_diff = true_mean/ctrl_mean\n",
    "    pred_diff = pred_mean/ctrl_mean\n",
    "\n",
    "    true_diff_mask = (np.isnan(true_diff) | np.isinf(true_diff))\n",
    "    pred_diff_mask = (np.isnan(pred_diff) | np.isinf(pred_diff))\n",
    "    \n",
    "    common_mask = true_diff_mask | pred_diff_mask\n",
    "    true_fold_diff = np.ma.array(true_diff, mask=common_mask).compressed()\n",
    "    pred_fold_diff = np.ma.array(pred_diff, mask=common_mask).compressed()\n",
    "\n",
    "    results_dict['all_genes_mean_sub_diff_R'] = pearsonr(true_sub_diff, pred_sub_diff)[0]\n",
    "    results_dict['all_genes_mean_sub_diff_R2'] = pearsonr(true_sub_diff, pred_sub_diff)[0]**2\n",
    "    results_dict['all_genes_mean_sub_diff_MSE'] = (np.square(true_sub_diff - pred_sub_diff)).mean(axis=0)\n",
    "\n",
    "    results_dict['all_genes_mean_fold_diff_R'] = pearsonr(true_fold_diff, pred_fold_diff)[0]\n",
    "    results_dict['all_genes_mean_fold_diff_R2'] = pearsonr(true_fold_diff, pred_fold_diff)[0]**2\n",
    "    results_dict['all_genes_mean_fold_diff_MSE'] = (np.square(true_fold_diff - pred_fold_diff)).mean(axis=0)\n",
    "    \n",
    "    results_dict['all_genes_mean_R'] = pearsonr(true_mean, pred_mean)[0]\n",
    "    results_dict['all_genes_mean_R2'] = pearsonr(true_mean, pred_mean)[0]**2\n",
    "    results_dict['all_genes_mean_MSE'] = (np.square(true_mean - pred_mean)).mean(axis=0)\n",
    "\n",
    "    results_dict['all_genes_var_R'] = pearsonr(true_var, pred_var)[0]\n",
    "    results_dict['all_genes_var_R2'] = pearsonr(true_var, pred_var)[0]**2\n",
    "    results_dict['all_genes_var_MSE'] = (np.square(true_var - pred_var)).mean(axis=0)\n",
    "   \n",
    "    corr_nas = np.logical_or(np.isnan(true_corr_mtx), np.isnan(pred_corr_mtx))\n",
    "    cov_nas = np.logical_or(np.isnan(true_cov_mtx), np.isnan(pred_cov_mtx))\n",
    "\n",
    "    results_dict['all_genes_corr_mtx_R'] = pearsonr(true_corr_mtx[~corr_nas], pred_corr_mtx[~corr_nas])[0]\n",
    "    results_dict['all_genes_corr_mtx_R2'] = pearsonr(true_corr_mtx[~corr_nas], pred_corr_mtx[~corr_nas])[0]**2\n",
    "    results_dict['all_genes_corr_mtx_MSE'] = (np.square(true_corr_mtx[~corr_nas] - pred_corr_mtx[~corr_nas])).mean(axis=0)\n",
    "\n",
    "    results_dict['all_genes_cov_mtx_R'] = pearsonr(true_cov_mtx[~cov_nas], pred_cov_mtx[~cov_nas])[0]\n",
    "    results_dict['all_genes_cov_mtx_R2'] = pearsonr(true_cov_mtx[~cov_nas], pred_cov_mtx[~cov_nas])[0]**2\n",
    "    results_dict['all_genes_cov_mtx_MSE'] = (np.square(true_cov_mtx[~cov_nas] - pred_cov_mtx[~cov_nas])).mean(axis=0)\n",
    "\n",
    "    if lfc_threshold:   \n",
    "        significant_DEGs = DEGs[(DEGs['pvals_adj'] < pval_threshold) & (abs(DEGs) > lfc_threshold)]\n",
    "    else:\n",
    "        significant_DEGs = DEGs[DEGs['pvals_adj'] < pval_threshold]\n",
    "    num_DEGs = len(significant_DEGs)\n",
    "    DEG_vals.insert(0, num_DEGs)\n",
    "\n",
    "\n",
    "    logger.debug(f\"Significant DEGs {significant_DEGs}\")\n",
    "    \n",
    "    for val in DEG_vals:\n",
    "\n",
    "        logger.debug(f\"Computing R, R2, and MSE metrics for top {val} DEGs\")\n",
    "\n",
    "        #If val == 1 we can't\n",
    "        if ((val > num_DEGs) or (val == 0) or (val == 1)):\n",
    "            results_dict[f'Top_{val}_DEGs_sub_diff_mean_R'] = None\n",
    "            results_dict[f'Top_{val}_DEGs_sub_diff_mean_R2'] = None\n",
    "            results_dict[f'Top_{val}_DEGs_sub_diff_mean_MSE'] = None\n",
    "            \n",
    "            results_dict[f'Top_{val}_DEGs_fold_diff_mean_R'] = None\n",
    "            results_dict[f'Top_{val}_DEGs_fold_diff_mean_R2'] = None\n",
    "            results_dict[f'Top_{val}_DEGs_fold_diff_mean_MSE'] = None\n",
    "            \n",
    "            results_dict[f'Top_{val}_DEGs_mean_R'] = None\n",
    "            results_dict[f'Top_{val}_DEGs_mean_R2'] = None\n",
    "            results_dict[f'Top_{val}_DEGs_mean_MSE'] = None\n",
    "\n",
    "            results_dict[f'Top_{val}_DEGs_var_R'] = None\n",
    "            results_dict[f'Top_{val}_DEGs_var_R2'] = None\n",
    "            results_dict[f'Top_{val}_DEGs_var_MSE'] = None\n",
    "            \n",
    "            results_dict[f'Top_{val}_DEGs_corr_mtx_R'] = None\n",
    "            results_dict[f'Top_{val}_DEGs_corr_mtx_R2'] = None\n",
    "            results_dict[f'Top_{val}_DEGs_corr_mtx_MSE'] = None\n",
    "            \n",
    "            results_dict[f'Top_{val}_DEGs_cov_mtx_R'] = None\n",
    "            results_dict[f'Top_{val}_DEGs_cov_mtx_R2'] = None\n",
    "            results_dict[f'Top_{val}_DEGs_cov_mtx_MSE'] = None\n",
    "        \n",
    "        else:\n",
    "            top_DEGs = significant_DEGs.iloc[0:val].index\n",
    "\n",
    "            logger.debug(f\"Top DEGs: {top_DEGs}\")\n",
    "\n",
    "\n",
    "            #Reshape --> If there is a single gene, the shape is (1,) and we need to reshape it to (1,1)\n",
    "\n",
    "            ctrl_mean = to_dense(ctrl_adata[:,top_DEGs].X).mean(axis = 0)\n",
    "            \n",
    "            true_mean = to_dense(true_adata[:,top_DEGs].X).mean(axis = 0)\n",
    "\n",
    "            logger.debug(f\"Shape ctrl_adata with top DEGs: {ctrl_adata[:,top_DEGs].X.shape}, shape true_adata with top DEGs: {true_adata[:,top_DEGs].X.shape}\")\n",
    "\n",
    "\n",
    "            true_var = to_dense(true_adata[:,top_DEGs].X).var(axis = 0)\n",
    "            true_corr_mtx = np.corrcoef(to_dense(true_adata[:,top_DEGs].X), rowvar=False).flatten()\n",
    "            true_cov_mtx = np.cov(to_dense(true_adata[:,top_DEGs].X), rowvar=False).flatten()\n",
    "\n",
    "            pred_mean = to_dense(pred_adata[:,top_DEGs].X).mean(axis = 0)\n",
    "            logger.debug(f\"Shape of true_mean shape: {true_mean.shape}, ctrl_mean shape: {ctrl_mean.shape}, pred_mean shape: {pred_mean.shape}\")\n",
    "\n",
    "            pred_var = to_dense(pred_adata[:,top_DEGs].X).var(axis = 0)\n",
    "            pred_corr_mtx = np.corrcoef(to_dense(pred_adata[:,top_DEGs].X), rowvar=False).flatten()\n",
    "            pred_cov_mtx = np.cov(to_dense(pred_adata[:,top_DEGs].X), rowvar=False).flatten()\n",
    "\n",
    "            logger.debug(f\"Shape of true_var shape: {true_var.shape}, pred_var shape: {pred_var.shape}\")\n",
    "\n",
    "            true_sub_diff = true_mean - ctrl_mean\n",
    "            pred_sub_diff = pred_mean - ctrl_mean\n",
    "        \n",
    "            true_diff = true_mean/ctrl_mean\n",
    "            pred_diff = pred_mean/ctrl_mean\n",
    "        \n",
    "            true_diff_mask = (np.isnan(true_diff) | np.isinf(true_diff))\n",
    "            pred_diff_mask = (np.isnan(pred_diff) | np.isinf(pred_diff))\n",
    "            \n",
    "            common_mask = true_diff_mask | pred_diff_mask\n",
    "            true_fold_diff = np.ma.array(true_diff, mask=common_mask).compressed()\n",
    "            pred_fold_diff = np.ma.array(pred_diff, mask=common_mask).compressed()\n",
    "\n",
    "            results_dict[f'Top_{val}_DEGs_sub_diff_R'] = pearsonr(true_sub_diff, pred_sub_diff)[0]\n",
    "            results_dict[f'Top_{val}_DEGs_sub_diff_R2'] = pearsonr(true_sub_diff, pred_sub_diff)[0]**2\n",
    "            results_dict[f'Top_{val}_DEGs_sub_diff_MSE'] = (np.square(true_sub_diff - pred_sub_diff)).mean(axis=0)\n",
    "        \n",
    "            results_dict[f'Top_{val}_DEGs_fold_diff_R'] = pearsonr(true_fold_diff, pred_fold_diff)[0]\n",
    "            results_dict[f'Top_{val}_DEGs_fold_diff_R2'] = pearsonr(true_fold_diff, pred_fold_diff)[0]**2\n",
    "            results_dict[f'Top_{val}_DEGs_fold_diff_MSE'] = (np.square(true_fold_diff - pred_fold_diff)).mean(axis=0)\n",
    "    \n",
    "            results_dict[f'Top_{val}_DEGs_mean_R'] = pearsonr(true_mean, pred_mean)[0]\n",
    "            results_dict[f'Top_{val}_DEGs_mean_R2'] = pearsonr(true_mean, pred_mean)[0]**2\n",
    "            results_dict[f'Top_{val}_DEGs_mean_MSE'] = (np.square(true_mean - pred_mean)).mean(axis=0)\n",
    "\n",
    "            results_dict[f'Top_{val}_DEGs_var_R'] = pearsonr(true_var, pred_var)[0]\n",
    "            results_dict[f'Top_{val}_DEGs_var_R2'] = pearsonr(true_var, pred_var)[0]**2\n",
    "            results_dict[f'Top_{val}_DEGs_var_MSE'] = (np.square(true_var - pred_var)).mean(axis=0)\n",
    "            \n",
    "            corr_nas = np.logical_or(np.isnan(true_corr_mtx), np.isnan(pred_corr_mtx))\n",
    "            cov_nas = np.logical_or(np.isnan(true_cov_mtx), np.isnan(pred_cov_mtx))\n",
    "\n",
    "            results_dict[f'Top_{val}_DEGs_corr_mtx_R'] = pearsonr(true_corr_mtx[~corr_nas], pred_corr_mtx[~corr_nas])[0]\n",
    "            results_dict[f'Top_{val}_DEGs_corr_mtx_R2'] = pearsonr(true_corr_mtx[~corr_nas], pred_corr_mtx[~corr_nas])[0]**2\n",
    "            results_dict[f'Top_{val}_DEGs_corr_mtx_MSE'] = (np.square(true_corr_mtx[~corr_nas] - pred_corr_mtx[~corr_nas])).mean(axis=0)\n",
    "\n",
    "            results_dict[f'Top_{val}_DEGs_cov_mtx_R'] = pearsonr(true_cov_mtx[~cov_nas], pred_cov_mtx[~cov_nas])[0]\n",
    "            results_dict[f'Top_{val}_DEGs_cov_mtx_R2'] = pearsonr(true_cov_mtx[~cov_nas], pred_cov_mtx[~cov_nas])[0]**2\n",
    "            results_dict[f'Top_{val}_DEGs_cov_mtx_MSE'] = (np.square(true_cov_mtx[~cov_nas] - pred_cov_mtx[~cov_nas])).mean(axis=0)\n",
    "\n",
    "    return results_dict\n",
    "\n",
    "def get_DEG_Coverage_Recall(true_DEGs, pred_DEGs, p_cutoff):\n",
    "    sig_true_DEGs = true_DEGs[true_DEGs['pvals_adj'] < p_cutoff]\n",
    "    true_DEGs_with_direction = [get_DEG_with_direction(gene,score) for gene, score in zip(sig_true_DEGs.index, sig_true_DEGs['scores'])]\n",
    "    sig_pred_DEGs = pred_DEGs[pred_DEGs['pvals_adj'] < p_cutoff]\n",
    "    pred_DEGs_with_direction = [get_DEG_with_direction(gene,score) for gene, score in zip(sig_pred_DEGs.index, sig_pred_DEGs['scores'])]\n",
    "    num_true_DEGs = len(true_DEGs_with_direction)\n",
    "    num_pred_DEGs = len(pred_DEGs_with_direction)\n",
    "    num_overlapping_DEGs = len(set(true_DEGs_with_direction).intersection(set(pred_DEGs_with_direction)))\n",
    "    if num_true_DEGs > 0: \n",
    "        COVERAGE = num_overlapping_DEGs/num_true_DEGs\n",
    "    else:\n",
    "        COVERAGE = None\n",
    "    if num_pred_DEGs > 0:\n",
    "        RECALL = num_overlapping_DEGs/num_pred_DEGs\n",
    "    else:\n",
    "        RECALL = None\n",
    "    return COVERAGE, RECALL\n",
    "\n",
    "def get_DEGs_overlaps(true_DEGs, pred_DEGs, DEG_vals, pval_threshold, lfc_threshold):\n",
    "    if lfc_threshold:\n",
    "        significant_true_DEGs = true_DEGs[(true_DEGs['pvals_adj'] < pval_threshold) & (abs(true_DEGs['lfc']) > lfc_threshold)]\n",
    "        significant_pred_DEGs = pred_DEGs[(pred_DEGs['pvals_adj'] < pval_threshold) & (abs(pred_DEGs['lfc']) > lfc_threshold)]\n",
    "    else:\n",
    "        significant_true_DEGs = true_DEGs[true_DEGs['pvals_adj'] < pval_threshold]\n",
    "        significant_pred_DEGs = pred_DEGs[pred_DEGs['pvals_adj'] < pval_threshold]\n",
    "\n",
    "    true_DEGs_for_comparison = [get_DEG_with_direction(gene,score) for gene, score in zip(significant_true_DEGs.index, significant_true_DEGs['scores'])]   \n",
    "    pred_DEGs_for_comparison = [get_DEG_with_direction(gene,score) for gene, score in zip(significant_pred_DEGs.index, significant_pred_DEGs['scores'])]\n",
    "    \n",
    "    logger.debug(f\"Computing DEG overlaps, # of significant DEGs in true data: {len(true_DEGs_for_comparison)}, # of significant DEGs in pred data: {len(pred_DEGs_for_comparison)}\")\n",
    "    num_DEGs = len(significant_true_DEGs)\n",
    "    DEG_vals.insert(0, num_DEGs)\n",
    "    \n",
    "    results = {}\n",
    "    for val in DEG_vals:\n",
    "        if val > num_DEGs:\n",
    "            results[f'Overlap_in_top_{val}_DEGs'] = None\n",
    "        else:\n",
    "            results[f'Overlap_in_top_{val}_DEGs'] = len(set(true_DEGs_for_comparison[0:val]).intersection(set(pred_DEGs_for_comparison[0:val])))\n",
    "\n",
    "    intersection = len(set(true_DEGs_for_comparison).intersection(set(pred_DEGs_for_comparison)))\n",
    "    union = len(set(true_DEGs_for_comparison).union(set(pred_DEGs_for_comparison)))\n",
    "    if union > 0:\n",
    "        results['Jaccard'] = intersection/union\n",
    "    else:\n",
    "        results['Jaccard'] = None\n",
    "    \n",
    "    return results"
   ]
  },
  {
   "cell_type": "code",
   "execution_count": 34,
   "metadata": {},
   "outputs": [
    {
     "name": "stderr",
     "output_type": "stream",
     "text": [
      "/orcd/archive/abugoot/001/Projects/opitcho/miniforge3/envs/sandbox/lib/python3.9/site-packages/scanpy/tools/_rank_genes_groups.py:358: RuntimeWarning: invalid value encountered in divide\n",
      "  scores[group_index, :] = (\n",
      "/orcd/archive/abugoot/001/Projects/opitcho/miniforge3/envs/sandbox/lib/python3.9/site-packages/anndata/_core/anndata.py:1818: UserWarning: Observation names are not unique. To make them unique, call `.obs_names_make_unique`.\n",
      "  utils.warn_names_duplicates(\"obs\")\n"
     ]
    }
   ],
   "source": [
    "\n",
    "\n",
    "degs_gt = get_DEGs(control_adata, pert_adata)\n",
    "\n",
    "degs_gt_rec = get_DEGs(control_adata, adata_reconstructed_pert)\n",
    "\n",
    "degs_rec_rec = get_DEGs(adata_reconstructed_control, adata_reconstructed_pert)\n"
   ]
  },
  {
   "cell_type": "code",
   "execution_count": 38,
   "metadata": {},
   "outputs": [],
   "source": [
    "\n",
    "pdefault=0.05\n",
    "\n",
    "significant_degs = degs_gt[degs_gt['pvals_adj'] < pdefault]\n",
    "significant_degs_pred = degs_gt_rec[degs_gt_rec['pvals_adj'] < pdefault]"
   ]
  },
  {
   "cell_type": "code",
   "execution_count": 39,
   "metadata": {},
   "outputs": [
    {
     "data": {
      "text/plain": [
       "(0, 0, 0, 0, 508)"
      ]
     },
     "execution_count": 39,
     "metadata": {},
     "output_type": "execute_result"
    }
   ],
   "source": [
    "len(significant_degs.index[:10].intersection(significant_degs_pred.index[:10])), \\\n",
    "len(significant_degs.index[:25].intersection(significant_degs_pred.index[:25])), \\\n",
    "len(significant_degs.index[:50].intersection(significant_degs_pred.index[:50])), \\\n",
    "len(significant_degs.index[:100].intersection(significant_degs_pred.index[:100])), \\\n",
    "len(significant_degs.index.intersection(significant_degs_pred.index))"
   ]
  },
  {
   "cell_type": "code",
   "execution_count": null,
   "metadata": {},
   "outputs": [],
   "source": []
  }
 ],
 "metadata": {
  "kernelspec": {
   "display_name": "Python 3 (ipykernel)",
   "language": "python",
   "name": "python3"
  },
  "language_info": {
   "codemirror_mode": {
    "name": "ipython",
    "version": 3
   },
   "file_extension": ".py",
   "mimetype": "text/x-python",
   "name": "python",
   "nbconvert_exporter": "python",
   "pygments_lexer": "ipython3",
   "version": "3.9.19"
  }
 },
 "nbformat": 4,
 "nbformat_minor": 2
}
