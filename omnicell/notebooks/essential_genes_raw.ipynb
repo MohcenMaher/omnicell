{
 "cells": [
  {
   "cell_type": "code",
   "execution_count": 2,
   "metadata": {},
   "outputs": [],
   "source": [
    "import scanpy as sc"
   ]
  },
  {
   "cell_type": "code",
   "execution_count": 3,
   "metadata": {},
   "outputs": [],
   "source": [
    "adata = sc.read('/orcd/archive/abugoot/001/Projects/dlesman/datasets/essential_gene_knockouts_raw.h5ad')"
   ]
  },
  {
   "cell_type": "code",
   "execution_count": 4,
   "metadata": {},
   "outputs": [
    {
     "data": {
      "text/plain": [
       "AnnData object with n_obs × n_vars = 966728 × 11907\n",
       "    obs: 'gem_group', 'gene', 'gene_id', 'transcript', 'gene_transcript', 'sgID_AB', 'mitopercent', 'UMI_count', 'z_gemgroup_UMI', 'cell_type', 'core_scale_factor', 'core_adjusted_UMI_count'"
      ]
     },
     "execution_count": 4,
     "metadata": {},
     "output_type": "execute_result"
    }
   ],
   "source": [
    "adata"
   ]
  },
  {
   "cell_type": "code",
   "execution_count": 5,
   "metadata": {},
   "outputs": [
    {
     "data": {
      "text/html": [
       "<div>\n",
       "<style scoped>\n",
       "    .dataframe tbody tr th:only-of-type {\n",
       "        vertical-align: middle;\n",
       "    }\n",
       "\n",
       "    .dataframe tbody tr th {\n",
       "        vertical-align: top;\n",
       "    }\n",
       "\n",
       "    .dataframe thead th {\n",
       "        text-align: right;\n",
       "    }\n",
       "</style>\n",
       "<table border=\"1\" class=\"dataframe\">\n",
       "  <thead>\n",
       "    <tr style=\"text-align: right;\">\n",
       "      <th></th>\n",
       "      <th>gem_group</th>\n",
       "      <th>gene</th>\n",
       "      <th>gene_id</th>\n",
       "      <th>transcript</th>\n",
       "      <th>gene_transcript</th>\n",
       "      <th>sgID_AB</th>\n",
       "      <th>mitopercent</th>\n",
       "      <th>UMI_count</th>\n",
       "      <th>z_gemgroup_UMI</th>\n",
       "      <th>cell_type</th>\n",
       "      <th>core_scale_factor</th>\n",
       "      <th>core_adjusted_UMI_count</th>\n",
       "    </tr>\n",
       "    <tr>\n",
       "      <th>cell_barcode</th>\n",
       "      <th></th>\n",
       "      <th></th>\n",
       "      <th></th>\n",
       "      <th></th>\n",
       "      <th></th>\n",
       "      <th></th>\n",
       "      <th></th>\n",
       "      <th></th>\n",
       "      <th></th>\n",
       "      <th></th>\n",
       "      <th></th>\n",
       "      <th></th>\n",
       "    </tr>\n",
       "  </thead>\n",
       "  <tbody>\n",
       "    <tr>\n",
       "      <th>AAACCCAAGAAACTGT-27</th>\n",
       "      <td>27</td>\n",
       "      <td>NELFE</td>\n",
       "      <td>ENSG00000204356</td>\n",
       "      <td>P1P2</td>\n",
       "      <td>5601_NELFE_P1P2_ENSG00000204356</td>\n",
       "      <td>NELFE_+_31926720.23-P1P2|NELFE_-_31926676.23-P1P2</td>\n",
       "      <td>0.063665</td>\n",
       "      <td>13194.0</td>\n",
       "      <td>0.106271</td>\n",
       "      <td>jurkat</td>\n",
       "      <td>NaN</td>\n",
       "      <td>NaN</td>\n",
       "    </tr>\n",
       "    <tr>\n",
       "      <th>AAACCCAAGAAATCCA-12</th>\n",
       "      <td>12</td>\n",
       "      <td>EMC7</td>\n",
       "      <td>ENSG00000134153</td>\n",
       "      <td>P1P2</td>\n",
       "      <td>2616_EMC7_P1P2_ENSG00000134153</td>\n",
       "      <td>EMC7_+_34394068.23-P1P2|EMC7_-_34393868.23-P1P2</td>\n",
       "      <td>0.049182</td>\n",
       "      <td>9719.0</td>\n",
       "      <td>-0.054858</td>\n",
       "      <td>jurkat</td>\n",
       "      <td>NaN</td>\n",
       "      <td>NaN</td>\n",
       "    </tr>\n",
       "    <tr>\n",
       "      <th>AAACCCAAGAAATTCG-56</th>\n",
       "      <td>56</td>\n",
       "      <td>TAF1D</td>\n",
       "      <td>ENSG00000166012</td>\n",
       "      <td>P2</td>\n",
       "      <td>8659_TAF1D_P2_ENSG00000166012</td>\n",
       "      <td>TAF1D_-_93471390.23-P2|TAF1D_+_93471338.23-P2</td>\n",
       "      <td>0.055632</td>\n",
       "      <td>11576.0</td>\n",
       "      <td>-0.138458</td>\n",
       "      <td>jurkat</td>\n",
       "      <td>NaN</td>\n",
       "      <td>NaN</td>\n",
       "    </tr>\n",
       "    <tr>\n",
       "      <th>AAACCCAAGAAGCCAC-26</th>\n",
       "      <td>26</td>\n",
       "      <td>EIF2B2</td>\n",
       "      <td>ENSG00000119718</td>\n",
       "      <td>P1P2</td>\n",
       "      <td>2536_EIF2B2_P1P2_ENSG00000119718</td>\n",
       "      <td>EIF2B2_-_75469671.23-P1P2|EIF2B2_-_75469856.23...</td>\n",
       "      <td>0.044284</td>\n",
       "      <td>12849.0</td>\n",
       "      <td>-0.422243</td>\n",
       "      <td>jurkat</td>\n",
       "      <td>NaN</td>\n",
       "      <td>NaN</td>\n",
       "    </tr>\n",
       "    <tr>\n",
       "      <th>AAACCCAAGACAACTA-5</th>\n",
       "      <td>5</td>\n",
       "      <td>RPP30</td>\n",
       "      <td>ENSG00000148688</td>\n",
       "      <td>P1P2</td>\n",
       "      <td>7491_RPP30_P1P2_ENSG00000148688</td>\n",
       "      <td>RPP30_+_92631924.23-P1P2|RPP30_-_92631746.23-P1P2</td>\n",
       "      <td>0.072090</td>\n",
       "      <td>11555.0</td>\n",
       "      <td>-1.806991</td>\n",
       "      <td>jurkat</td>\n",
       "      <td>NaN</td>\n",
       "      <td>NaN</td>\n",
       "    </tr>\n",
       "    <tr>\n",
       "      <th>...</th>\n",
       "      <td>...</td>\n",
       "      <td>...</td>\n",
       "      <td>...</td>\n",
       "      <td>...</td>\n",
       "      <td>...</td>\n",
       "      <td>...</td>\n",
       "      <td>...</td>\n",
       "      <td>...</td>\n",
       "      <td>...</td>\n",
       "      <td>...</td>\n",
       "      <td>...</td>\n",
       "      <td>...</td>\n",
       "    </tr>\n",
       "    <tr>\n",
       "      <th>TTTGTTGTCTGCACCT-44</th>\n",
       "      <td>44</td>\n",
       "      <td>MAX</td>\n",
       "      <td>ENSG00000125952</td>\n",
       "      <td>P1P2</td>\n",
       "      <td>4871_MAX_P1P2_ENSG00000125952</td>\n",
       "      <td>MAX_+_65569008.23-P1P2|MAX_-_65568906.23-P1P2</td>\n",
       "      <td>0.079629</td>\n",
       "      <td>22228.0</td>\n",
       "      <td>0.767826</td>\n",
       "      <td>rpe1</td>\n",
       "      <td>1.321505</td>\n",
       "      <td>16820.220703</td>\n",
       "    </tr>\n",
       "    <tr>\n",
       "      <th>TTTGTTGTCTGGGCAC-32</th>\n",
       "      <td>32</td>\n",
       "      <td>ATP6V0C</td>\n",
       "      <td>ENSG00000185883</td>\n",
       "      <td>P1P2</td>\n",
       "      <td>675_ATP6V0C_P1P2_ENSG00000185883</td>\n",
       "      <td>ATP6V0C_+_2564168.23-P1P2|ATP6V0C_-_2563995.23...</td>\n",
       "      <td>0.049527</td>\n",
       "      <td>12377.0</td>\n",
       "      <td>-0.004215</td>\n",
       "      <td>rpe1</td>\n",
       "      <td>0.989524</td>\n",
       "      <td>12508.036133</td>\n",
       "    </tr>\n",
       "    <tr>\n",
       "      <th>TTTGTTGTCTGTCCCA-37</th>\n",
       "      <td>37</td>\n",
       "      <td>MLST8</td>\n",
       "      <td>ENSG00000167965</td>\n",
       "      <td>P1P2</td>\n",
       "      <td>5115_MLST8_P1P2_ENSG00000167965</td>\n",
       "      <td>MLST8_+_2255502.23-P1P2|MLST8_-_2255521.23-P1P2</td>\n",
       "      <td>0.061164</td>\n",
       "      <td>8093.0</td>\n",
       "      <td>-0.616659</td>\n",
       "      <td>rpe1</td>\n",
       "      <td>0.908722</td>\n",
       "      <td>8905.912109</td>\n",
       "    </tr>\n",
       "    <tr>\n",
       "      <th>TTTGTTGTCTTGGTCC-17</th>\n",
       "      <td>17</td>\n",
       "      <td>CDK6</td>\n",
       "      <td>ENSG00000105810</td>\n",
       "      <td>P1</td>\n",
       "      <td>1440_CDK6_P1_ENSG00000105810</td>\n",
       "      <td>CDK6_-_92465893.23-P1|CDK6_+_92465903.23-P1</td>\n",
       "      <td>0.048416</td>\n",
       "      <td>9625.0</td>\n",
       "      <td>-0.493887</td>\n",
       "      <td>rpe1</td>\n",
       "      <td>0.954016</td>\n",
       "      <td>10088.931641</td>\n",
       "    </tr>\n",
       "    <tr>\n",
       "      <th>TTTGTTGTCTTTCCGG-22</th>\n",
       "      <td>22</td>\n",
       "      <td>non-targeting</td>\n",
       "      <td>non-targeting</td>\n",
       "      <td>non-targeting</td>\n",
       "      <td>11270_non-targeting_non-targeting_non-targeting</td>\n",
       "      <td>non-targeting_03462|non-targeting_00434</td>\n",
       "      <td>0.048590</td>\n",
       "      <td>18296.0</td>\n",
       "      <td>1.378922</td>\n",
       "      <td>rpe1</td>\n",
       "      <td>1.007874</td>\n",
       "      <td>18153.058594</td>\n",
       "    </tr>\n",
       "  </tbody>\n",
       "</table>\n",
       "<p>966728 rows × 12 columns</p>\n",
       "</div>"
      ],
      "text/plain": [
       "                     gem_group           gene          gene_id     transcript  \\\n",
       "cell_barcode                                                                    \n",
       "AAACCCAAGAAACTGT-27         27          NELFE  ENSG00000204356           P1P2   \n",
       "AAACCCAAGAAATCCA-12         12           EMC7  ENSG00000134153           P1P2   \n",
       "AAACCCAAGAAATTCG-56         56          TAF1D  ENSG00000166012             P2   \n",
       "AAACCCAAGAAGCCAC-26         26         EIF2B2  ENSG00000119718           P1P2   \n",
       "AAACCCAAGACAACTA-5           5          RPP30  ENSG00000148688           P1P2   \n",
       "...                        ...            ...              ...            ...   \n",
       "TTTGTTGTCTGCACCT-44         44            MAX  ENSG00000125952           P1P2   \n",
       "TTTGTTGTCTGGGCAC-32         32        ATP6V0C  ENSG00000185883           P1P2   \n",
       "TTTGTTGTCTGTCCCA-37         37          MLST8  ENSG00000167965           P1P2   \n",
       "TTTGTTGTCTTGGTCC-17         17           CDK6  ENSG00000105810             P1   \n",
       "TTTGTTGTCTTTCCGG-22         22  non-targeting    non-targeting  non-targeting   \n",
       "\n",
       "                                                     gene_transcript  \\\n",
       "cell_barcode                                                           \n",
       "AAACCCAAGAAACTGT-27                  5601_NELFE_P1P2_ENSG00000204356   \n",
       "AAACCCAAGAAATCCA-12                   2616_EMC7_P1P2_ENSG00000134153   \n",
       "AAACCCAAGAAATTCG-56                    8659_TAF1D_P2_ENSG00000166012   \n",
       "AAACCCAAGAAGCCAC-26                 2536_EIF2B2_P1P2_ENSG00000119718   \n",
       "AAACCCAAGACAACTA-5                   7491_RPP30_P1P2_ENSG00000148688   \n",
       "...                                                              ...   \n",
       "TTTGTTGTCTGCACCT-44                    4871_MAX_P1P2_ENSG00000125952   \n",
       "TTTGTTGTCTGGGCAC-32                 675_ATP6V0C_P1P2_ENSG00000185883   \n",
       "TTTGTTGTCTGTCCCA-37                  5115_MLST8_P1P2_ENSG00000167965   \n",
       "TTTGTTGTCTTGGTCC-17                     1440_CDK6_P1_ENSG00000105810   \n",
       "TTTGTTGTCTTTCCGG-22  11270_non-targeting_non-targeting_non-targeting   \n",
       "\n",
       "                                                               sgID_AB  \\\n",
       "cell_barcode                                                             \n",
       "AAACCCAAGAAACTGT-27  NELFE_+_31926720.23-P1P2|NELFE_-_31926676.23-P1P2   \n",
       "AAACCCAAGAAATCCA-12    EMC7_+_34394068.23-P1P2|EMC7_-_34393868.23-P1P2   \n",
       "AAACCCAAGAAATTCG-56      TAF1D_-_93471390.23-P2|TAF1D_+_93471338.23-P2   \n",
       "AAACCCAAGAAGCCAC-26  EIF2B2_-_75469671.23-P1P2|EIF2B2_-_75469856.23...   \n",
       "AAACCCAAGACAACTA-5   RPP30_+_92631924.23-P1P2|RPP30_-_92631746.23-P1P2   \n",
       "...                                                                ...   \n",
       "TTTGTTGTCTGCACCT-44      MAX_+_65569008.23-P1P2|MAX_-_65568906.23-P1P2   \n",
       "TTTGTTGTCTGGGCAC-32  ATP6V0C_+_2564168.23-P1P2|ATP6V0C_-_2563995.23...   \n",
       "TTTGTTGTCTGTCCCA-37    MLST8_+_2255502.23-P1P2|MLST8_-_2255521.23-P1P2   \n",
       "TTTGTTGTCTTGGTCC-17        CDK6_-_92465893.23-P1|CDK6_+_92465903.23-P1   \n",
       "TTTGTTGTCTTTCCGG-22            non-targeting_03462|non-targeting_00434   \n",
       "\n",
       "                     mitopercent  UMI_count  z_gemgroup_UMI cell_type  \\\n",
       "cell_barcode                                                            \n",
       "AAACCCAAGAAACTGT-27     0.063665    13194.0        0.106271    jurkat   \n",
       "AAACCCAAGAAATCCA-12     0.049182     9719.0       -0.054858    jurkat   \n",
       "AAACCCAAGAAATTCG-56     0.055632    11576.0       -0.138458    jurkat   \n",
       "AAACCCAAGAAGCCAC-26     0.044284    12849.0       -0.422243    jurkat   \n",
       "AAACCCAAGACAACTA-5      0.072090    11555.0       -1.806991    jurkat   \n",
       "...                          ...        ...             ...       ...   \n",
       "TTTGTTGTCTGCACCT-44     0.079629    22228.0        0.767826      rpe1   \n",
       "TTTGTTGTCTGGGCAC-32     0.049527    12377.0       -0.004215      rpe1   \n",
       "TTTGTTGTCTGTCCCA-37     0.061164     8093.0       -0.616659      rpe1   \n",
       "TTTGTTGTCTTGGTCC-17     0.048416     9625.0       -0.493887      rpe1   \n",
       "TTTGTTGTCTTTCCGG-22     0.048590    18296.0        1.378922      rpe1   \n",
       "\n",
       "                     core_scale_factor  core_adjusted_UMI_count  \n",
       "cell_barcode                                                     \n",
       "AAACCCAAGAAACTGT-27                NaN                      NaN  \n",
       "AAACCCAAGAAATCCA-12                NaN                      NaN  \n",
       "AAACCCAAGAAATTCG-56                NaN                      NaN  \n",
       "AAACCCAAGAAGCCAC-26                NaN                      NaN  \n",
       "AAACCCAAGACAACTA-5                 NaN                      NaN  \n",
       "...                                ...                      ...  \n",
       "TTTGTTGTCTGCACCT-44           1.321505             16820.220703  \n",
       "TTTGTTGTCTGGGCAC-32           0.989524             12508.036133  \n",
       "TTTGTTGTCTGTCCCA-37           0.908722              8905.912109  \n",
       "TTTGTTGTCTTGGTCC-17           0.954016             10088.931641  \n",
       "TTTGTTGTCTTTCCGG-22           1.007874             18153.058594  \n",
       "\n",
       "[966728 rows x 12 columns]"
      ]
     },
     "execution_count": 5,
     "metadata": {},
     "output_type": "execute_result"
    }
   ],
   "source": [
    "adata.obs"
   ]
  },
  {
   "cell_type": "code",
   "execution_count": 6,
   "metadata": {},
   "outputs": [
    {
     "data": {
      "text/plain": [
       "cell_type\n",
       "k562      310385\n",
       "jurkat    262956\n",
       "rpe1      247914\n",
       "hepg2     145473\n",
       "Name: count, dtype: int64"
      ]
     },
     "execution_count": 6,
     "metadata": {},
     "output_type": "execute_result"
    }
   ],
   "source": [
    "adata.obs['cell_type'].value_counts()"
   ]
  },
  {
   "cell_type": "code",
   "execution_count": 8,
   "metadata": {},
   "outputs": [
    {
     "data": {
      "text/plain": [
       "['NELFE', 'EMC7', 'TAF1D', 'EIF2B2', 'RPP30', ..., 'IMP3', 'OGT', 'NUP155', 'CDCA8', 'RBM14']\n",
       "Length: 2396\n",
       "Categories (2396, object): ['AAAS', 'AAMP', 'AAR2', 'AARS', ..., 'ZRSR2', 'ZW10', 'ZWINT', 'non-targeting']"
      ]
     },
     "execution_count": 8,
     "metadata": {},
     "output_type": "execute_result"
    }
   ],
   "source": [
    "adata.obs['gene'].unique()"
   ]
  },
  {
   "cell_type": "code",
   "execution_count": 12,
   "metadata": {},
   "outputs": [],
   "source": [
    "adata.obs['gene'].unique()\n",
    "\n"
   ]
  },
  {
   "cell_type": "code",
   "execution_count": null,
   "metadata": {},
   "outputs": [],
   "source": [
    "\n",
    "\n",
    "#We select a random set of 10 perturbations to hold_out\n",
    "import numpy as np\n",
    "np.random.seed(0)\n",
    "genes = np.random.choice(adata.obs['gene'].unique(), 10, replace=False)\n",
    "\n"
   ]
  },
  {
   "cell_type": "code",
   "execution_count": 13,
   "metadata": {},
   "outputs": [
    {
     "data": {
      "text/plain": [
       "array(['EIF6', 'PDCD11', 'SF3B1', 'LRRC37B', 'CHMP6', 'YEATS2', 'MRPS23',\n",
       "       'RPL37A', 'ZMAT2', 'CLNS1A'], dtype=object)"
      ]
     },
     "execution_count": 13,
     "metadata": {},
     "output_type": "execute_result"
    }
   ],
   "source": [
    "genes"
   ]
  },
  {
   "cell_type": "code",
   "execution_count": 10,
   "metadata": {},
   "outputs": [
    {
     "data": {
      "text/plain": [
       "Index(['A1BG', 'A1CF', 'A2M', 'AAAS', 'AACS', 'AAGAB', 'AAK1', 'AAMDC', 'AAMP',\n",
       "       'AAR2',\n",
       "       ...\n",
       "       'ZSWIM8', 'ZUP1', 'ZW10', 'ZWILCH', 'ZWINT', 'ZXDC', 'ZYG11A', 'ZYG11B',\n",
       "       'ZYX', 'ZZEF1'],\n",
       "      dtype='object', name='gene_name', length=11907)"
      ]
     },
     "execution_count": 10,
     "metadata": {},
     "output_type": "execute_result"
    }
   ],
   "source": [
    "adata.var_names"
   ]
  },
  {
   "cell_type": "code",
   "execution_count": null,
   "metadata": {},
   "outputs": [],
   "source": []
  }
 ],
 "metadata": {
  "kernelspec": {
   "display_name": "Python 3 (ipykernel)",
   "language": "python",
   "name": "python3"
  },
  "language_info": {
   "codemirror_mode": {
    "name": "ipython",
    "version": 3
   },
   "file_extension": ".py",
   "mimetype": "text/x-python",
   "name": "python",
   "nbconvert_exporter": "python",
   "pygments_lexer": "ipython3",
   "version": "3.9.19"
  }
 },
 "nbformat": 4,
 "nbformat_minor": 2
}
