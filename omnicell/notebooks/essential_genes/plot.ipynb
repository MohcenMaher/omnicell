{
 "cells": [
  {
   "cell_type": "code",
   "execution_count": 1,
   "metadata": {},
   "outputs": [],
   "source": [
    "import scanpy as sc\n",
    "import json\n",
    "import seaborn as sns\n",
    "import matplotlib.pyplot as plt\n",
    "import numpy as np\n",
    "import pandas as pd\n"
   ]
  },
  {
   "cell_type": "code",
   "execution_count": 2,
   "metadata": {},
   "outputs": [],
   "source": [
    "\n",
    "# Create sample data\n",
    "np.random.seed(42)  # for reproducibility\n",
    "\n",
    "\n",
    "DATA_PATH = '/om/group/abugoot/Projects/Omnicell_datasets/DEGs_Essential_Genes.json' \n",
    "\n",
    "\n",
    "with open(DATA_PATH, 'r') as f:\n",
    "    data = json.load(f)\n",
    "\n"
   ]
  },
  {
   "cell_type": "code",
   "execution_count": 3,
   "metadata": {},
   "outputs": [
    {
     "data": {
      "text/plain": [
       "dict_keys(['jurkat', 'hepg2', 'k562', 'rpe1'])"
      ]
     },
     "execution_count": 3,
     "metadata": {},
     "output_type": "execute_result"
    }
   ],
   "source": [
    "data.keys()\n",
    "\n"
   ]
  },
  {
   "cell_type": "code",
   "execution_count": 5,
   "metadata": {},
   "outputs": [
    {
     "name": "stdout",
     "output_type": "stream",
     "text": [
      "Total RAM: 503.61 GB\n",
      "Available RAM: 434.96 GB\n",
      "Used RAM: 45.65 GB\n",
      "RAM Usage Percentage: 13.6%\n",
      "Swap used: 4.00 GB\n",
      "Swap total: 4.00 GB\n",
      "Memory usage: 40.45 GB\n"
     ]
    }
   ],
   "source": [
    "# 1. First, check your memory usage\n",
    "import psutil\n",
    "import os\n",
    "\n",
    "def print_memory_usage():\n",
    "    process = psutil.Process(os.getpid())\n",
    "    print(f\"Memory usage: {process.memory_info().rss / 1024 / 1024 / 1024:.2f} GB\")\n",
    "\n",
    "def check_swap_usage():\n",
    "    swap = psutil.swap_memory()\n",
    "    print(f\"Swap used: {swap.used / 1024 / 1024 / 1024:.2f} GB\")\n",
    "    print(f\"Swap total: {swap.total / 1024 / 1024 / 1024:.2f} GB\")\n",
    "    \n",
    "def print_system_memory():\n",
    "    vm = psutil.virtual_memory()\n",
    "    print(f\"Total RAM: {vm.total / 1024 / 1024 / 1024:.2f} GB\")\n",
    "    print(f\"Available RAM: {vm.available / 1024 / 1024 / 1024:.2f} GB\")\n",
    "    print(f\"Used RAM: {vm.used / 1024 / 1024 / 1024:.2f} GB\")\n",
    "    print(f\"RAM Usage Percentage: {vm.percent}%\")\n",
    "    \n",
    "print_system_memory()\n",
    "check_swap_usage()\n",
    "\n",
    "print_memory_usage()"
   ]
  },
  {
   "cell_type": "code",
   "execution_count": 10,
   "metadata": {},
   "outputs": [
    {
     "data": {
      "text/html": [
       "<div>\n",
       "<style scoped>\n",
       "    .dataframe tbody tr th:only-of-type {\n",
       "        vertical-align: middle;\n",
       "    }\n",
       "\n",
       "    .dataframe tbody tr th {\n",
       "        vertical-align: top;\n",
       "    }\n",
       "\n",
       "    .dataframe thead th {\n",
       "        text-align: right;\n",
       "    }\n",
       "</style>\n",
       "<table border=\"1\" class=\"dataframe\">\n",
       "  <thead>\n",
       "    <tr style=\"text-align: right;\">\n",
       "      <th></th>\n",
       "      <th>scores</th>\n",
       "      <th>pvals_adj</th>\n",
       "      <th>lfc</th>\n",
       "    </tr>\n",
       "  </thead>\n",
       "  <tbody>\n",
       "    <tr>\n",
       "      <th>NAF1</th>\n",
       "      <td>-6.132826</td>\n",
       "      <td>0.000010</td>\n",
       "      <td>-2.420829</td>\n",
       "    </tr>\n",
       "    <tr>\n",
       "      <th>RPL3</th>\n",
       "      <td>-5.004738</td>\n",
       "      <td>0.003330</td>\n",
       "      <td>-0.252607</td>\n",
       "    </tr>\n",
       "    <tr>\n",
       "      <th>MT-ND1</th>\n",
       "      <td>4.609026</td>\n",
       "      <td>0.016057</td>\n",
       "      <td>0.202007</td>\n",
       "    </tr>\n",
       "    <tr>\n",
       "      <th>RPL10A</th>\n",
       "      <td>-4.010252</td>\n",
       "      <td>0.180552</td>\n",
       "      <td>-0.196712</td>\n",
       "    </tr>\n",
       "    <tr>\n",
       "      <th>DEF6</th>\n",
       "      <td>3.804987</td>\n",
       "      <td>0.337710</td>\n",
       "      <td>1.069095</td>\n",
       "    </tr>\n",
       "    <tr>\n",
       "      <th>...</th>\n",
       "      <td>...</td>\n",
       "      <td>...</td>\n",
       "      <td>...</td>\n",
       "    </tr>\n",
       "    <tr>\n",
       "      <th>DLX1</th>\n",
       "      <td>0.000000</td>\n",
       "      <td>1.000000</td>\n",
       "      <td>0.000000</td>\n",
       "    </tr>\n",
       "    <tr>\n",
       "      <th>PHF21B</th>\n",
       "      <td>0.000000</td>\n",
       "      <td>1.000000</td>\n",
       "      <td>0.000000</td>\n",
       "    </tr>\n",
       "    <tr>\n",
       "      <th>DLK1</th>\n",
       "      <td>0.000000</td>\n",
       "      <td>1.000000</td>\n",
       "      <td>0.000000</td>\n",
       "    </tr>\n",
       "    <tr>\n",
       "      <th>PHKA2</th>\n",
       "      <td>0.000000</td>\n",
       "      <td>1.000000</td>\n",
       "      <td>0.000000</td>\n",
       "    </tr>\n",
       "    <tr>\n",
       "      <th>A1CF</th>\n",
       "      <td>0.000000</td>\n",
       "      <td>1.000000</td>\n",
       "      <td>0.000000</td>\n",
       "    </tr>\n",
       "  </tbody>\n",
       "</table>\n",
       "<p>11907 rows × 3 columns</p>\n",
       "</div>"
      ],
      "text/plain": [
       "          scores  pvals_adj       lfc\n",
       "NAF1   -6.132826   0.000010 -2.420829\n",
       "RPL3   -5.004738   0.003330 -0.252607\n",
       "MT-ND1  4.609026   0.016057  0.202007\n",
       "RPL10A -4.010252   0.180552 -0.196712\n",
       "DEF6    3.804987   0.337710  1.069095\n",
       "...          ...        ...       ...\n",
       "DLX1    0.000000   1.000000  0.000000\n",
       "PHF21B  0.000000   1.000000  0.000000\n",
       "DLK1    0.000000   1.000000  0.000000\n",
       "PHKA2   0.000000   1.000000  0.000000\n",
       "A1CF    0.000000   1.000000  0.000000\n",
       "\n",
       "[11907 rows x 3 columns]"
      ]
     },
     "execution_count": 10,
     "metadata": {},
     "output_type": "execute_result"
    }
   ],
   "source": [
    "\n",
    "data['k562']['NAF1']\n",
    "\n",
    "pd.DataFrame.from_dict(data['k562']['NAF1'], orient='index')"
   ]
  },
  {
   "cell_type": "code",
   "execution_count": null,
   "metadata": {},
   "outputs": [],
   "source": []
  },
  {
   "cell_type": "code",
   "execution_count": 29,
   "metadata": {},
   "outputs": [
    {
     "name": "stdout",
     "output_type": "stream",
     "text": [
      "jurkat\n",
      "Cell line: jurkat, Pert: NUP155 has no DEGs\n",
      "hepg2\n",
      "k562\n",
      "rpe1\n"
     ]
    }
   ],
   "source": [
    "\n",
    "data_significant_degs = {}\n",
    "for cell_line, perts in data.items():\n",
    "\n",
    "    number_DEGS = []\n",
    "    print(cell_line)\n",
    "    for pert, DEGs in perts.items():\n",
    "        if DEGs is None:\n",
    "            print(f\"Cell line: {cell_line}, Pert: {pert} has no DEGs\")\n",
    "            number_DEGS.append(0)\n",
    "\n",
    "        else:\n",
    "            try:\n",
    "                df = pd.DataFrame.from_dict(DEGs, orient='index')\n",
    "            except:\n",
    "                print(f\"Cell line: {cell_line}, Pert: {pert} threw an error, DEGs: {DEGs}\")\n",
    "                raise ValueError('Error')\n",
    "                \n",
    "\n",
    "            df_significant = df[df['pvals_adj'] < 0.05]\n",
    "            number_DEGS.append(len(df_significant))\n",
    "    data_significant_degs[cell_line] = number_DEGS\n",
    "            \n"
   ]
  },
  {
   "cell_type": "code",
   "execution_count": 32,
   "metadata": {},
   "outputs": [],
   "source": [
    "\n",
    "\n",
    "test_data = {\n",
    "    'K562\\nGenomeWide': np.random.lognormal(2, 1, 1000),\n",
    "    'K562\\nEssential': np.random.lognormal(2, 0.5, 1000),\n",
    "    'RPE1\\nEssential': np.random.lognormal(2, 0.6, 1000),\n",
    "    'Jurkat\\nEssential': np.random.lognormal(2, 0.4, 1000),\n",
    "    'HepG2\\nEssential': np.random.lognormal(2, 0.7, 1000)\n",
    "}\n"
   ]
  },
  {
   "cell_type": "code",
   "execution_count": 35,
   "metadata": {},
   "outputs": [
    {
     "data": {
      "image/png": "[encoded data removed]",
      "text/plain": [
       "<Figure size 1000x600 with 1 Axes>"
      ]
     },
     "metadata": {},
     "output_type": "display_data"
    }
   ],
   "source": [
    "\n",
    "\n",
    "# Convert to long format DataFrame\n",
    "df = pd.DataFrame({\n",
    "    'Cell Type': np.repeat(list(data_significant_degs.keys()), [len(v) for v in data_significant_degs.values()]),\n",
    "    'Expression': np.concatenate(list(data_significant_degs.values()))\n",
    "})\n",
    "\n",
    "# Create the plot\n",
    "plt.figure(figsize=(10, 6))\n",
    "sns.violinplot(data=df, x='Cell Type', y='Expression', cut=0)\n",
    "\n",
    "# Set y-axis to log scale\n",
    "plt.yscale('linear')\n",
    "plt.ylabel('Effective Number of\\nDifferentially Expressed Genes')\n",
    "plt.xticks(rotation=0)\n",
    "\n",
    "# Remove top and right spines\n",
    "sns.despine()\n",
    "\n",
    "plt.tight_layout()\n",
    "plt.show()"
   ]
  },
  {
   "cell_type": "code",
   "execution_count": null,
   "metadata": {},
   "outputs": [],
   "source": []
  }
 ],
 "metadata": {
  "kernelspec": {
   "display_name": "Python 3 (ipykernel)",
   "language": "python",
   "name": "python3"
  },
  "language_info": {
   "codemirror_mode": {
    "name": "ipython",
    "version": 3
   },
   "file_extension": ".py",
   "mimetype": "text/x-python",
   "name": "python",
   "nbconvert_exporter": "python",
   "pygments_lexer": "ipython3",
   "version": "3.9.19"
  }
 },
 "nbformat": 4,
 "nbformat_minor": 2
}
