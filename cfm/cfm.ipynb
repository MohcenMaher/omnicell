{
 "cells": [
  {
   "cell_type": "code",
   "execution_count": 1,
   "metadata": {},
   "outputs": [],
   "source": [
    "%load_ext autoreload\n",
    "%autoreload 2\n",
    "from datamodules import FMDataset, fm_collate, CFMDataset, SCFMDataset, cfm_collate\n",
    "from arch import *\n",
    "from flow_utils import compute_conditional_flow\n",
    "\n",
    "import scvi\n",
    "import torch\n",
    "import numpy as np\n",
    "import pytorch_lightning as pl\n",
    "import os\n",
    "\n",
    "import scanpy as sc\n",
    "\n",
    "from torchcfm.conditional_flow_matching import *\n",
    "import scanpy as sc\n",
    "from sklearn.decomposition import PCA\n",
    "\n",
    "import matplotlib.pyplot as plt"
   ]
  },
  {
   "cell_type": "code",
   "execution_count": null,
   "metadata": {},
   "outputs": [],
   "source": []
  },
  {
   "cell_type": "code",
   "execution_count": 2,
   "metadata": {},
   "outputs": [],
   "source": [
    "# load some data\n",
    "adata = sc.read_h5ad('../../../dlesman/datasets/cellot/kaggle_HVG_cellot.h5ad')\n",
    "\n",
    "# here we set up the train/eval and control/pert sets\n",
    "# set the idx of the controls\n",
    "control_idx = adata.obs['sm_name'] == 'Dimethyl Sulfoxide'\n",
    "# set the idx of the perts (currently just \"all not control\")\n",
    "pert_idx = adata.obs['sm_name'] != 'Dimethyl Sulfoxide'\n",
    "# set the hold out cell-type/pert\n",
    "eval_cell_idx = adata.obs.cell_type == 'B cells'\n",
    "eval_pert_idx = adata.obs['sm_name'] == 'Belinostat'\n",
    "eval_idx = eval_cell_idx & eval_pert_idx"
   ]
  },
  {
   "cell_type": "code",
   "execution_count": null,
   "metadata": {},
   "outputs": [],
   "source": []
  },
  {
   "cell_type": "code",
   "execution_count": 3,
   "metadata": {},
   "outputs": [],
   "source": [
    "# here we set up our embeddings for cfm\n",
    "# this is just so everything lives in obsm for the for loop below\n",
    "adata.obsm[\"X\"] = adata.X\n",
    "\n",
    "# this is an example of how we can embed something using just the train idxs\n",
    "# and then run fm on that embedding\n",
    "# embedder = PCA(n_components=30).fit(adata.X[(control_idx | pert_idx) & ~eval_idx])\n",
    "# adata.obsm[\"X_pca\"] = embedder.transform(adata.X)"
   ]
  },
  {
   "cell_type": "code",
   "execution_count": 4,
   "metadata": {},
   "outputs": [],
   "source": [
    "# here we set up the perts\n",
    "import pandas as pd\n",
    "perts = pd.get_dummies(adata.obs['sm_name']).values.astype(float)\n",
    "pert_ids = perts.argmax(axis=1)\n",
    "# this is the \"identity featurization\"; we can swap this matrix for\n",
    "# any latent representation of perturbations we want but this is \n",
    "# a non-parametric featurization for right now\n",
    "pert_mat = np.eye(pert_ids.max() + 1).astype('float32')"
   ]
  },
  {
   "cell_type": "code",
   "execution_count": 5,
   "metadata": {},
   "outputs": [],
   "source": [
    "cell_types = pd.get_dummies(adata.obs.cell_type).values.argmax(axis=1)"
   ]
  },
  {
   "cell_type": "code",
   "execution_count": null,
   "metadata": {},
   "outputs": [
    {
     "name": "stdout",
     "output_type": "stream",
     "text": [
      "X\n"
     ]
    },
    {
     "name": "stderr",
     "output_type": "stream",
     "text": [
      "GPU available: True (cuda), used: True\n",
      "TPU available: False, using: 0 TPU cores\n",
      "IPU available: False, using: 0 IPUs\n",
      "HPU available: False, using: 0 HPUs\n",
      "LOCAL_RANK: 0 - CUDA_VISIBLE_DEVICES: [0,1]\n",
      "\n",
      "  | Name      | Type       | Params\n",
      "-----------------------------------------\n",
      "0 | combo_net | Sequential | 266 K \n",
      "1 | cond_net  | Sequential | 17.9 K\n",
      "-----------------------------------------\n",
      "284 K     Trainable params\n",
      "0         Non-trainable params\n",
      "284 K     Total params\n",
      "1.137     Total estimated model params size (MB)\n"
     ]
    },
    {
     "name": "stdout",
     "output_type": "stream",
     "text": [
      "[0.15455695 0.18955098 0.20314806 0.37868035 0.0455344  0.02852927]\n"
     ]
    },
    {
     "data": {
      "application/vnd.jupyter.widget-view+json": {
       "model_id": "8e3f6c237d4b48e1a7f4db930c87d512",
       "version_major": 2,
       "version_minor": 0
      },
      "text/plain": [
       "Training: 0it [00:00, ?it/s]"
      ]
     },
     "metadata": {},
     "output_type": "display_data"
    }
   ],
   "source": [
    "for embedding in [\"X\"]: # if we wanted to run in the PCA \"latent\" as well we would use [\"X\", \"X_pca\"]\n",
    "    print(embedding)\n",
    "    # set X to the (latent) counts\n",
    "    X = adata.obsm[embedding]\n",
    "    \n",
    "    # set train and eval split\n",
    "    control_train = X[control_idx & ~eval_idx]\n",
    "    pert_train = X[pert_idx & ~eval_idx]\n",
    "    pert_ids_train =  pert_ids[pert_idx & ~eval_idx]\n",
    "    control_cell_types = cell_types[control_idx & ~eval_idx]\n",
    "    pert_cell_types = cell_types[pert_idx & ~eval_idx]\n",
    "    \n",
    "    control_eval = X[control_idx & eval_cell_idx]\n",
    "    pert_eval = X[eval_idx]\n",
    "    pert_ids_eval = pert_ids[eval_idx]\n",
    "\n",
    "    # set up data processing for cfm\n",
    "    dset = SCFMDataset(control_train, pert_train, pert_ids_train, pert_mat, control_cell_types, pert_cell_types)\n",
    "    dl = torch.utils.data.DataLoader(dset, batch_size=32, collate_fn=cfm_collate)\n",
    "    \n",
    "    # Train the model\n",
    "    trainer = pl.Trainer(\n",
    "        gpus=1,  # Specify the number of GPUs to use\n",
    "        max_epochs=5_000,  # Specify the maximum number of training epochs\n",
    "    )\n",
    "    model = CMLP(feat_dim=X.shape[1], cond_dim=pert_mat.shape[1], time_varying=True)\n",
    "    trainer.fit(model, dl)\n",
    "\n",
    "    # Save the predicted perturbation\n",
    "    torch.cuda.empty_cache()\n",
    "    traj = compute_conditional_flow(model, control_eval, pert_ids_eval, pert_mat)\n",
    "\n",
    "    np.savez(\n",
    "        f\"kaggle.{embedding}.cmlp.identity.npz\", \n",
    "        pred_pert=traj[-1, :, :], true_pert=pert_eval, control=control_eval, traj=traj\n",
    "    )\n",
    "    np.savez(\n",
    "        f\"kaggle.{embedding}.cmlp.identity.strat.npz\", \n",
    "        pred_pert=traj[-1, :, :], true_pert=pert_eval, control=control_eval\n",
    "    )"
   ]
  },
  {
   "cell_type": "code",
   "execution_count": null,
   "metadata": {},
   "outputs": [],
   "source": [
    "embedder = PCA(n_components=2).fit(adata.X[((control_idx & eval_cell_idx) | eval_idx)])\n",
    "\n",
    "source_embed = embedder.transform(X[control_idx & eval_cell_idx])\n",
    "target_embed = embedder.transform(X[eval_idx])\n",
    "traj_embed = np.stack([embedder.transform(traj_i) for traj_i in traj])\n",
    "\n",
    "\n",
    "fig = plt.figure(figsize=(10, 4))\n",
    "axs = fig.subplots(1, 2, sharey=True, sharex=True)\n",
    "k = 10_000\n",
    "axs[0].scatter(source_embed[:k, 0], source_embed[:k, 1], alpha=0.3, s=1, label=\"source\", color='blue')\n",
    "axs[0].scatter(target_embed[:k, 0], target_embed[:k, 1], alpha=0.3, s=1, label=\"target\", color='green')\n",
    "axs[0].scatter(traj_embed[-1, :k, 0], traj_embed[-1, :k, 1], alpha=0.3, s=1, label=\"predicted\", color='red')\n",
    "axs[0].legend()\n",
    "\n",
    "k = 300\n",
    "axs[1].scatter(source_embed[:k, 0], source_embed[:k, 1], alpha=0.7, s=2, label=\"source\", color='blue')\n",
    "axs[1].scatter(traj_embed[-1, :k, 0], traj_embed[-1, :k, 1], alpha=0.7, s=2, label=\"predicted\", color='red')\n",
    "\n",
    "for i in range(k):\n",
    "    axs[1].plot(traj_embed[:, i, 0].T, traj_embed[:, i, 1].T, color=\"purple\", alpha=0.1)\n",
    "plt.show()"
   ]
  },
  {
   "cell_type": "code",
   "execution_count": null,
   "metadata": {},
   "outputs": [],
   "source": [
    "for embedding in [\"X\"]: # if we wanted to run in the PCA \"latent\" as well we would use [\"X\", \"X_pca\"]\n",
    "    print(embedding)\n",
    "    # set X to the (latent) counts\n",
    "    X = adata.obsm[embedding]\n",
    "    \n",
    "    # set train and eval split\n",
    "    control_train = X[control_idx & ~eval_idx]\n",
    "    pert_train = X[pert_idx & ~eval_idx]\n",
    "    pert_ids_train =  pert_ids[pert_idx & ~eval_idx]\n",
    "    control_cell_types = cell_types[control_idx & ~eval_idx]\n",
    "    pert_cell_types = cell_types[pert_idx & ~eval_idx]\n",
    "    \n",
    "    control_eval = X[control_idx & eval_cell_idx]\n",
    "    pert_eval = X[eval_idx]\n",
    "    pert_ids_eval = pert_ids[eval_idx]\n",
    "\n",
    "    # set up data processing for cfm\n",
    "    dset = SCFMDataset(control_train, pert_train, pert_ids_train, pert_mat, control_cell_types, pert_cell_types)\n",
    "    dl = torch.utils.data.DataLoader(dset, batch_size=32, collate_fn=cfm_collate)\n",
    "    \n",
    "    # Train the model\n",
    "    trainer = pl.Trainer(\n",
    "        gpus=1,  # Specify the number of GPUs to use\n",
    "        max_epochs=5_000,  # Specify the maximum number of training epochs\n",
    "    )\n",
    "    model = CMHA(feat_dim=X.shape[1], cond_dim=pert_mat.shape[1], time_varying=True)\n",
    "    trainer.fit(model, dl)\n",
    "\n",
    "    # Save the predicted perturbation\n",
    "    torch.cuda.empty_cache()\n",
    "    traj = compute_conditional_flow(model, control_eval, pert_ids_eval, pert_mat)\n",
    "\n",
    "    np.savez(\n",
    "        f\"kaggle.{embedding}.cmha.identity.npz\", \n",
    "        pred_pert=traj[-1, :, :], true_pert=pert_eval, control=control_eval, traj=traj\n",
    "    )\n",
    "    \n",
    "    np.savez(\n",
    "        f\"kaggle.{embedding}.cmha.identity.strat.npz\", \n",
    "        pred_pert=traj[-1, :, :], true_pert=pert_eval, control=control_eval\n",
    "    )"
   ]
  },
  {
   "cell_type": "code",
   "execution_count": null,
   "metadata": {},
   "outputs": [],
   "source": [
    "embedder = PCA(n_components=2).fit(adata.X[((control_idx & eval_cell_idx) | eval_idx)])\n",
    "\n",
    "source_embed = embedder.transform(X[control_idx & eval_cell_idx])\n",
    "target_embed = embedder.transform(X[eval_idx])\n",
    "traj_embed = np.stack([embedder.transform(traj_i) for traj_i in traj])\n",
    "\n",
    "\n",
    "fig = plt.figure(figsize=(10, 4))\n",
    "axs = fig.subplots(1, 2, sharey=True, sharex=True)\n",
    "k = 10_000\n",
    "axs[0].scatter(source_embed[:k, 0], source_embed[:k, 1], alpha=0.3, s=1, label=\"source\", color='blue')\n",
    "axs[0].scatter(target_embed[:k, 0], target_embed[:k, 1], alpha=0.3, s=1, label=\"target\", color='green')\n",
    "axs[0].scatter(traj_embed[-1, :k, 0], traj_embed[-1, :k, 1], alpha=0.3, s=1, label=\"predicted\", color='red')\n",
    "axs[0].legend()\n",
    "\n",
    "k = 300\n",
    "axs[1].scatter(source_embed[:k, 0], source_embed[:k, 1], alpha=0.7, s=2, label=\"source\", color='blue')\n",
    "axs[1].scatter(traj_embed[-1, :k, 0], traj_embed[-1, :k, 1], alpha=0.7, s=2, label=\"predicted\", color='red')\n",
    "\n",
    "for i in range(k):\n",
    "    axs[1].plot(traj_embed[:, i, 0].T, traj_embed[:, i, 1].T, color=\"purple\", alpha=0.1)\n",
    "plt.show()"
   ]
  },
  {
   "cell_type": "code",
   "execution_count": null,
   "metadata": {},
   "outputs": [],
   "source": []
  }
 ],
 "metadata": {
  "kernelspec": {
   "display_name": "dsbm",
   "language": "python",
   "name": "dsbm"
  },
  "language_info": {
   "codemirror_mode": {
    "name": "ipython",
    "version": 3
   },
   "file_extension": ".py",
   "mimetype": "text/x-python",
   "name": "python",
   "nbconvert_exporter": "python",
   "pygments_lexer": "ipython3",
   "version": "3.10.13"
  }
 },
 "nbformat": 4,
 "nbformat_minor": 4
}
