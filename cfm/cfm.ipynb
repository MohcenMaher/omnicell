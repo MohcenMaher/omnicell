{
 "cells": [
  {
   "cell_type": "code",
   "execution_count": 1,
   "metadata": {},
   "outputs": [],
   "source": [
    "from datamodules import FMDataset, fm_collate, CFMDataset, cfm_collate, torch_wrapper\n",
    "from arch import *\n",
    "from flow_utils import compute_conditional_flow\n",
    "\n",
    "import scvi\n",
    "import torch\n",
    "import numpy as np\n",
    "import pytorch_lightning as pl\n",
    "import os\n",
    "\n",
    "import scanpy as sc\n",
    "\n",
    "from torchcfm.conditional_flow_matching import *\n",
    "import scanpy as sc\n",
    "from sklearn.decomposition import PCA"
   ]
  },
  {
   "cell_type": "code",
   "execution_count": null,
   "metadata": {},
   "outputs": [],
   "source": []
  },
  {
   "cell_type": "code",
   "execution_count": 2,
   "metadata": {},
   "outputs": [],
   "source": [
    "# load some data\n",
    "adata = sc.read_h5ad('../../../dlesman/datasets/cellot/kaggle_HVG_cellot.h5ad')\n",
    "\n",
    "# here we set up the train/eval and control/pert sets\n",
    "# set the idx of the controls\n",
    "control_idx = adata.obs['sm_name'] == 'Dimethyl Sulfoxide'\n",
    "# set the idx of the perts (currently just \"all not control\")\n",
    "pert_idx = adata.obs['sm_name'] != 'Dimethyl Sulfoxide'\n",
    "# set the hold out cell-type/pert\n",
    "eval_cell_idx = adata.obs.cell_type == 'B cells'\n",
    "eval_pert_idx = adata.obs['sm_name'] == 'Belinostat'\n",
    "eval_idx = eval_cell_idx & eval_pert_idx"
   ]
  },
  {
   "cell_type": "code",
   "execution_count": 3,
   "metadata": {},
   "outputs": [],
   "source": [
    "# here we set up our embeddings for cfm\n",
    "# this is just so everything lives in obsm for the for loop below\n",
    "adata.obsm[\"X\"] = adata.X\n",
    "\n",
    "# this is an example of how we can embed something using just the train idxs\n",
    "# and then run fm on that embedding\n",
    "embedder = PCA(n_components=30).fit(adata.X[(control_idx | pert_idx) & ~eval_idx])\n",
    "adata.obsm[\"X_pca\"] = embedder.transform(adata.X)"
   ]
  },
  {
   "cell_type": "code",
   "execution_count": 4,
   "metadata": {},
   "outputs": [],
   "source": [
    "# here we set up the perts\n",
    "import pandas as pd\n",
    "perts = pd.get_dummies(adata.obs['sm_name']).values.astype(float)\n",
    "pert_ids = perts.argmax(axis=1)\n",
    "# this is the \"identity featurization\"; we can swap this matrix for\n",
    "# any latent representation of perturbations we want but this is \n",
    "# a non-parametric featurization for right now\n",
    "pert_mat = np.eye(pert_ids.max() + 1).astype('float32')"
   ]
  },
  {
   "cell_type": "code",
   "execution_count": null,
   "metadata": {},
   "outputs": [
    {
     "name": "stdout",
     "output_type": "stream",
     "text": [
      "X\n"
     ]
    },
    {
     "name": "stderr",
     "output_type": "stream",
     "text": [
      "GPU available: True (cuda), used: True\n",
      "TPU available: False, using: 0 TPU cores\n",
      "IPU available: False, using: 0 IPUs\n",
      "HPU available: False, using: 0 HPUs\n",
      "You are using a CUDA device ('NVIDIA RTX A6000') that has Tensor Cores. To properly utilize them, you should set `torch.set_float32_matmul_precision('medium' | 'high')` which will trade-off precision for performance. For more details, read https://pytorch.org/docs/stable/generated/torch.set_float32_matmul_precision.html#torch.set_float32_matmul_precision\n",
      "LOCAL_RANK: 0 - CUDA_VISIBLE_DEVICES: [0]\n",
      "\n",
      "  | Name      | Type               | Params\n",
      "-------------------------------------------------\n",
      "0 | feat_net  | Sequential         | 148 K \n",
      "1 | cond_net  | Sequential         | 9.5 K \n",
      "2 | mha1      | MultiheadAttention | 148 K \n",
      "3 | mha2      | MultiheadAttention | 148 K \n",
      "4 | combo_net | Sequential         | 146 K \n",
      "-------------------------------------------------\n",
      "601 K     Trainable params\n",
      "0         Non-trainable params\n",
      "601 K     Total params\n",
      "2.405     Total estimated model params size (MB)\n"
     ]
    },
    {
     "data": {
      "application/vnd.jupyter.widget-view+json": {
       "model_id": "c816188cbd254b3cb45420d87c12bce8",
       "version_major": 2,
       "version_minor": 0
      },
      "text/plain": [
       "Training: 0it [00:00, ?it/s]"
      ]
     },
     "metadata": {},
     "output_type": "display_data"
    }
   ],
   "source": [
    "# if we add another embedding we can just add it to the list here\n",
    "for embedding in [\"X\", \"X_pca\"]:\n",
    "    print(embedding)\n",
    "    # set X to the (latent) counts\n",
    "    X = adata.obsm[embedding]\n",
    "    \n",
    "    # set train and eval split\n",
    "    control_train = X[control_idx & ~eval_idx]\n",
    "    pert_train = X[pert_idx & ~eval_idx]\n",
    "    pert_ids_train =  pert_ids[pert_idx & ~eval_idx]\n",
    "    \n",
    "    control_eval = X[control_idx & eval_cell_idx]\n",
    "    pert_eval = X[eval_idx]\n",
    "    pert_ids_eval = pert_ids[eval_idx]\n",
    "\n",
    "    # set up data processing for cfm\n",
    "    dset = CFMDataset(control_train, pert_train, pert_ids_train, pert_mat)\n",
    "    dl = torch.utils.data.DataLoader(dset, batch_size=32, collate_fn=cfm_collate)\n",
    "    \n",
    "    # Train the model\n",
    "    trainer = pl.Trainer(\n",
    "        gpus=1,  # Specify the number of GPUs to use\n",
    "        max_epochs=10,  # Specify the maximum number of training epochs\n",
    "    )\n",
    "    model = CMHA(feat_dim=X.shape[1], cond_dim=pert_mat.shape[1], time_varying=True)\n",
    "    trainer.fit(model, dl)\n",
    "\n",
    "    # Save the predicted perturbation\n",
    "    torch.cuda.empty_cache()\n",
    "    traj = compute_conditional_flow(model, control_eval, pert_ids[pert_idx & eval_idx], pert_mat)\n",
    "\n",
    "    np.savez(\n",
    "        f\"kaggle.{embedding}.identity.npz\", \n",
    "        pred_pert=traj[-1, :, :], true_pert=pert_eval, control=control_eval\n",
    "    )"
   ]
  },
  {
   "cell_type": "code",
   "execution_count": null,
   "metadata": {},
   "outputs": [],
   "source": []
  }
 ],
 "metadata": {
  "kernelspec": {
   "display_name": "dsbm",
   "language": "python",
   "name": "dsbm"
  },
  "language_info": {
   "codemirror_mode": {
    "name": "ipython",
    "version": 3
   },
   "file_extension": ".py",
   "mimetype": "text/x-python",
   "name": "python",
   "nbconvert_exporter": "python",
   "pygments_lexer": "ipython3",
   "version": "3.10.13"
  }
 },
 "nbformat": 4,
 "nbformat_minor": 4
}
