{
 "cells": [
  {
   "cell_type": "code",
   "execution_count": 1,
   "metadata": {},
   "outputs": [],
   "source": [
    "%load_ext autoreload\n",
    "%autoreload 2\n",
    "from datamodules import FMDataset, fm_collate, CFMDataset, SCFMDataset, cfm_collate\n",
    "from arch import *\n",
    "from flow_utils import compute_conditional_flow\n",
    "\n",
    "import scvi\n",
    "import torch\n",
    "import numpy as np\n",
    "import pytorch_lightning as pl\n",
    "import os\n",
    "\n",
    "import scanpy as sc\n",
    "\n",
    "from torchcfm.conditional_flow_matching import *\n",
    "import scanpy as sc\n",
    "from sklearn.decomposition import PCA\n",
    "\n",
    "import matplotlib.pyplot as plt"
   ]
  },
  {
   "cell_type": "code",
   "execution_count": 2,
   "metadata": {},
   "outputs": [],
   "source": [
    "# load some data\n",
    "adata = sc.read_h5ad('../../../dlesman/datasets/cellot/kaggle_HVG_cellot.h5ad')\n",
    "\n",
    "# here we set up the train/eval and control/pert sets\n",
    "# set the idx of the controls\n",
    "control_idx = adata.obs['sm_name'] == 'Dimethyl Sulfoxide'\n",
    "# set the idx of the perts (currently just \"all not control\")\n",
    "pert_idx = adata.obs['sm_name'] != 'Dimethyl Sulfoxide'\n",
    "# set the hold out cell-type/pert\n",
    "eval_cell_idx = adata.obs.cell_type == 'B cells'\n",
    "eval_pert_idx = adata.obs['sm_name'] == 'Belinostat'\n",
    "eval_idx = eval_cell_idx & eval_pert_idx"
   ]
  },
  {
   "cell_type": "code",
   "execution_count": 3,
   "metadata": {},
   "outputs": [],
   "source": [
    "# here we set up our embeddings for cfm\n",
    "# this is just so everything lives in obsm for the for loop below\n",
    "adata.obsm[\"X\"] = adata.X\n",
    "\n",
    "# this is an example of how we can embed something using just the train idxs\n",
    "# and then run fm on that embedding\n",
    "# embedder = PCA(n_components=30).fit(adata.X[(control_idx | pert_idx) & ~eval_idx])\n",
    "# adata.obsm[\"X_pca\"] = embedder.transform(adata.X)"
   ]
  },
  {
   "cell_type": "code",
   "execution_count": 4,
   "metadata": {},
   "outputs": [],
   "source": [
    "# here we set up the perts\n",
    "import pandas as pd\n",
    "perts = pd.get_dummies(adata.obs['sm_name']).values.astype(float)\n",
    "pert_ids = perts.argmax(axis=1)\n",
    "# this is the \"identity featurization\"; we can swap this matrix for\n",
    "# any latent representation of perturbations we want but this is \n",
    "# a non-parametric featurization for right now\n",
    "pert_mat = np.eye(pert_ids.max() + 1).astype('float32')"
   ]
  },
  {
   "cell_type": "code",
   "execution_count": 5,
   "metadata": {},
   "outputs": [],
   "source": [
    "cell_types = pd.get_dummies(adata.obs.cell_type).values.argmax(axis=1)"
   ]
  },
  {
   "cell_type": "code",
   "execution_count": 11,
   "metadata": {},
   "outputs": [],
   "source": [
    "X = adata.obsm['X']\n",
    "\n",
    "# set train and eval split\n",
    "control_train = X[control_idx & ~eval_idx]\n",
    "pert_train = X[pert_idx & ~eval_idx]\n",
    "pert_ids_train =  pert_ids[pert_idx & ~eval_idx]\n",
    "control_cell_types = cell_types[control_idx & ~eval_idx]\n",
    "pert_cell_types = cell_types[pert_idx & ~eval_idx]\n",
    "\n",
    "control_eval = X[control_idx & eval_cell_idx]\n",
    "pert_eval = X[eval_idx]\n",
    "pert_ids_eval = pert_ids[eval_idx]\n",
    "\n",
    "batch_size = 32"
   ]
  },
  {
   "cell_type": "code",
   "execution_count": 12,
   "metadata": {},
   "outputs": [],
   "source": [
    "dset = CFMDataset(\n",
    "    control_train, pert_train, \n",
    "    pert_ids_train, pert_mat, \n",
    ")\n",
    "dl = torch.utils.data.DataLoader(dset, batch_size=batch_size, collate_fn=cfm_collate)"
   ]
  },
  {
   "cell_type": "code",
   "execution_count": 15,
   "metadata": {},
   "outputs": [
    {
     "data": {
      "text/plain": [
       "(tensor([0.7672, 0.8924, 0.2026, 0.6702, 0.2146, 0.8444, 0.9188, 0.4461, 0.7909,\n",
       "         0.2075, 0.9298, 0.1816, 0.9812, 0.1775, 0.9585, 0.3044, 0.9039, 0.4690,\n",
       "         0.0286, 0.3877, 0.5945, 0.5882, 0.2413, 0.8968, 0.6402, 0.0442, 0.9173,\n",
       "         0.8214, 0.6086, 0.5795, 0.2541, 0.6718]),\n",
       " tensor([[-1.3740e-01, -1.1277e-01, -7.7703e-02,  ...,  1.0712e-01,\n",
       "           2.0328e-01, -1.0614e-03],\n",
       "         [-1.9844e-01,  1.0360e-02, -8.4946e-02,  ...,  8.0624e-01,\n",
       "           4.6086e-02,  4.5000e-02],\n",
       "         [-8.2162e-02, -7.2899e-02, -1.3968e-01,  ...,  7.4736e-02,\n",
       "           2.4865e-02,  4.9716e-02],\n",
       "         ...,\n",
       "         [-4.9889e-02, -1.4776e-01,  1.4923e-02,  ..., -2.3738e-02,\n",
       "           4.6483e-02,  5.3594e-02],\n",
       "         [-1.6304e-01,  1.0963e+00,  2.8482e-01,  ...,  1.2157e-02,\n",
       "          -9.0748e-03, -1.9810e-01],\n",
       "         [ 3.0687e-02,  1.5075e+00, -2.5238e-03,  ..., -7.1484e-02,\n",
       "          -8.4791e-02, -7.8402e-03]]),\n",
       " tensor([[ 0.0000,  0.0000,  0.0000,  ...,  0.0000,  0.0000,  0.0000],\n",
       "         [ 0.0000,  0.0000,  0.0000,  ...,  1.0499,  0.0000,  0.0000],\n",
       "         [ 0.0000,  0.0000,  0.0000,  ...,  0.0000,  0.0000,  0.0000],\n",
       "         ...,\n",
       "         [ 0.0000,  0.0000,  0.0000,  ...,  0.0000,  0.0000,  0.0000],\n",
       "         [ 0.0000, -1.3126,  1.2093,  ...,  0.0000,  0.0000,  0.0000],\n",
       "         [ 0.0000,  2.4585,  0.0000,  ...,  0.0000,  0.0000,  0.0000]]),\n",
       " tensor([[0., 0., 0., 0., 0., 0., 0., 0., 0., 0., 0., 1., 0., 0., 0., 0., 0., 0.],\n",
       "         [0., 1., 0., 0., 0., 0., 0., 0., 0., 0., 0., 0., 0., 0., 0., 0., 0., 0.],\n",
       "         [0., 1., 0., 0., 0., 0., 0., 0., 0., 0., 0., 0., 0., 0., 0., 0., 0., 0.],\n",
       "         [0., 0., 0., 0., 0., 0., 0., 0., 0., 0., 0., 1., 0., 0., 0., 0., 0., 0.],\n",
       "         [0., 0., 0., 0., 0., 0., 0., 0., 0., 0., 0., 0., 0., 0., 0., 1., 0., 0.],\n",
       "         [0., 1., 0., 0., 0., 0., 0., 0., 0., 0., 0., 0., 0., 0., 0., 0., 0., 0.],\n",
       "         [0., 0., 0., 0., 1., 0., 0., 0., 0., 0., 0., 0., 0., 0., 0., 0., 0., 0.],\n",
       "         [0., 0., 0., 0., 1., 0., 0., 0., 0., 0., 0., 0., 0., 0., 0., 0., 0., 0.],\n",
       "         [0., 0., 0., 0., 0., 0., 0., 0., 0., 0., 0., 1., 0., 0., 0., 0., 0., 0.],\n",
       "         [0., 0., 0., 0., 1., 0., 0., 0., 0., 0., 0., 0., 0., 0., 0., 0., 0., 0.],\n",
       "         [0., 0., 0., 0., 0., 0., 0., 1., 0., 0., 0., 0., 0., 0., 0., 0., 0., 0.],\n",
       "         [0., 1., 0., 0., 0., 0., 0., 0., 0., 0., 0., 0., 0., 0., 0., 0., 0., 0.],\n",
       "         [0., 0., 0., 0., 1., 0., 0., 0., 0., 0., 0., 0., 0., 0., 0., 0., 0., 0.],\n",
       "         [0., 0., 0., 0., 1., 0., 0., 0., 0., 0., 0., 0., 0., 0., 0., 0., 0., 0.],\n",
       "         [0., 0., 0., 0., 0., 0., 0., 0., 0., 0., 0., 0., 0., 0., 1., 0., 0., 0.],\n",
       "         [0., 1., 0., 0., 0., 0., 0., 0., 0., 0., 0., 0., 0., 0., 0., 0., 0., 0.],\n",
       "         [0., 0., 0., 0., 0., 0., 0., 0., 0., 1., 0., 0., 0., 0., 0., 0., 0., 0.],\n",
       "         [0., 0., 0., 0., 1., 0., 0., 0., 0., 0., 0., 0., 0., 0., 0., 0., 0., 0.],\n",
       "         [0., 0., 0., 0., 1., 0., 0., 0., 0., 0., 0., 0., 0., 0., 0., 0., 0., 0.],\n",
       "         [0., 1., 0., 0., 0., 0., 0., 0., 0., 0., 0., 0., 0., 0., 0., 0., 0., 0.],\n",
       "         [0., 1., 0., 0., 0., 0., 0., 0., 0., 0., 0., 0., 0., 0., 0., 0., 0., 0.],\n",
       "         [0., 0., 0., 0., 0., 0., 0., 0., 0., 0., 1., 0., 0., 0., 0., 0., 0., 0.],\n",
       "         [0., 0., 1., 0., 0., 0., 0., 0., 0., 0., 0., 0., 0., 0., 0., 0., 0., 0.],\n",
       "         [0., 1., 0., 0., 0., 0., 0., 0., 0., 0., 0., 0., 0., 0., 0., 0., 0., 0.],\n",
       "         [0., 0., 1., 0., 0., 0., 0., 0., 0., 0., 0., 0., 0., 0., 0., 0., 0., 0.],\n",
       "         [0., 1., 0., 0., 0., 0., 0., 0., 0., 0., 0., 0., 0., 0., 0., 0., 0., 0.],\n",
       "         [0., 1., 0., 0., 0., 0., 0., 0., 0., 0., 0., 0., 0., 0., 0., 0., 0., 0.],\n",
       "         [0., 0., 0., 0., 0., 0., 0., 0., 0., 0., 1., 0., 0., 0., 0., 0., 0., 0.],\n",
       "         [0., 1., 0., 0., 0., 0., 0., 0., 0., 0., 0., 0., 0., 0., 0., 0., 0., 0.],\n",
       "         [0., 1., 0., 0., 0., 0., 0., 0., 0., 0., 0., 0., 0., 0., 0., 0., 0., 0.],\n",
       "         [0., 0., 0., 0., 1., 0., 0., 0., 0., 0., 0., 0., 0., 0., 0., 0., 0., 0.],\n",
       "         [0., 0., 0., 0., 1., 0., 0., 0., 0., 0., 0., 0., 0., 0., 0., 0., 0., 0.]]))"
      ]
     },
     "execution_count": 15,
     "metadata": {},
     "output_type": "execute_result"
    }
   ],
   "source": [
    "next(iter(dl))"
   ]
  },
  {
   "cell_type": "code",
   "execution_count": null,
   "metadata": {},
   "outputs": [],
   "source": [
    "dset = SCFMDataset(\n",
    "    control_train, pert_train, \n",
    "    pert_ids_train, pert_mat, \n",
    "    control_cell_types, pert_cell_types,\n",
    "    batch_size=batch_size\n",
    ")\n",
    "dl = torch.utils.data.DataLoader(dset, batch_size=batch_size, collate_fn=cfm_collate)"
   ]
  },
  {
   "cell_type": "code",
   "execution_count": null,
   "metadata": {},
   "outputs": [],
   "source": []
  },
  {
   "cell_type": "code",
   "execution_count": 6,
   "metadata": {},
   "outputs": [
    {
     "name": "stdout",
     "output_type": "stream",
     "text": [
      "X\n"
     ]
    },
    {
     "name": "stderr",
     "output_type": "stream",
     "text": [
      "/om2/user/njwfish/anaconda/envs/dsbm/lib/python3.10/site-packages/pytorch_lightning/trainer/connectors/accelerator_connector.py:478: Setting `Trainer(gpus=1)` is deprecated in v1.7 and will be removed in v2.0. Please use `Trainer(accelerator='gpu', devices=1)` instead.\n",
      "/om2/user/njwfish/anaconda/envs/dsbm/lib/python3.10/site-packages/lightning_fabric/plugins/environments/slurm.py:165: The `srun` command is available on your system but is not used. HINT: If your intention is to run Lightning on SLURM, prepend your python command with `srun` like so: srun python /om2/user/njwfish/anaconda/envs/dsbm/lib/python3.10/ ...\n",
      "GPU available: True (cuda), used: True\n",
      "TPU available: False, using: 0 TPU cores\n",
      "IPU available: False, using: 0 IPUs\n",
      "HPU available: False, using: 0 HPUs\n"
     ]
    },
    {
     "name": "stdout",
     "output_type": "stream",
     "text": [
      "[0.11802492 0.17374211 0.19115699 0.43906356 0.053642   0.02437041]\n"
     ]
    },
    {
     "name": "stderr",
     "output_type": "stream",
     "text": [
      "/om2/user/njwfish/anaconda/envs/dsbm/lib/python3.10/site-packages/pytorch_lightning/trainer/configuration_validator.py:108: You defined a `validation_step` but have no `val_dataloader`. Skipping val loop.\n",
      "LOCAL_RANK: 0 - CUDA_VISIBLE_DEVICES: [0]\n",
      "\n",
      "  | Name      | Type       | Params\n",
      "-----------------------------------------\n",
      "0 | combo_net | Sequential | 266 K \n",
      "1 | cond_net  | Sequential | 17.9 K\n",
      "-----------------------------------------\n",
      "284 K     Trainable params\n",
      "0         Non-trainable params\n",
      "284 K     Total params\n",
      "1.137     Total estimated model params size (MB)\n",
      "/om2/user/njwfish/anaconda/envs/dsbm/lib/python3.10/site-packages/pytorch_lightning/trainer/connectors/data_connector.py:224: The dataloader, train_dataloader, does not have many workers which may be a bottleneck. Consider increasing the value of the `num_workers` argument` (try 80 which is the number of cpus on this machine) in the `DataLoader` init to improve performance.\n"
     ]
    },
    {
     "data": {
      "application/vnd.jupyter.widget-view+json": {
       "model_id": "49903829e8dd4ae588950dc6d4314839",
       "version_major": 2,
       "version_minor": 0
      },
      "text/plain": [
       "Training: 0it [00:00, ?it/s]"
      ]
     },
     "metadata": {},
     "output_type": "display_data"
    },
    {
     "name": "stderr",
     "output_type": "stream",
     "text": [
      "/om2/user/njwfish/anaconda/envs/dsbm/lib/python3.10/site-packages/pytorch_lightning/trainer/call.py:48: Detected KeyboardInterrupt, attempting graceful shutdown...\n"
     ]
    },
    {
     "ename": "KeyboardInterrupt",
     "evalue": "",
     "output_type": "error",
     "traceback": [
      "\u001b[0;31m---------------------------------------------------------------------------\u001b[0m",
      "\u001b[0;31mKeyboardInterrupt\u001b[0m                         Traceback (most recent call last)",
      "Cell \u001b[0;32mIn[6], line 37\u001b[0m\n\u001b[1;32m     35\u001b[0m \u001b[38;5;66;03m# Save the predicted perturbation\u001b[39;00m\n\u001b[1;32m     36\u001b[0m torch\u001b[38;5;241m.\u001b[39mcuda\u001b[38;5;241m.\u001b[39mempty_cache()\n\u001b[0;32m---> 37\u001b[0m traj \u001b[38;5;241m=\u001b[39m \u001b[43mcompute_conditional_flow\u001b[49m\u001b[43m(\u001b[49m\u001b[43mmodel\u001b[49m\u001b[43m,\u001b[49m\u001b[43m \u001b[49m\u001b[43mcontrol_eval\u001b[49m\u001b[43m,\u001b[49m\u001b[43m \u001b[49m\u001b[43mpert_ids_eval\u001b[49m\u001b[43m,\u001b[49m\u001b[43m \u001b[49m\u001b[43mpert_mat\u001b[49m\u001b[43m)\u001b[49m\n\u001b[1;32m     39\u001b[0m np\u001b[38;5;241m.\u001b[39msavez(\n\u001b[1;32m     40\u001b[0m     \u001b[38;5;124mf\u001b[39m\u001b[38;5;124m\"\u001b[39m\u001b[38;5;124mkaggle.\u001b[39m\u001b[38;5;132;01m{\u001b[39;00membedding\u001b[38;5;132;01m}\u001b[39;00m\u001b[38;5;124m.cmlp.identity.npz\u001b[39m\u001b[38;5;124m\"\u001b[39m, \n\u001b[1;32m     41\u001b[0m     pred_pert\u001b[38;5;241m=\u001b[39mtraj[\u001b[38;5;241m-\u001b[39m\u001b[38;5;241m1\u001b[39m, :, :], true_pert\u001b[38;5;241m=\u001b[39mpert_eval, control\u001b[38;5;241m=\u001b[39mcontrol_eval, traj\u001b[38;5;241m=\u001b[39mtraj\n\u001b[1;32m     42\u001b[0m )\n\u001b[1;32m     43\u001b[0m np\u001b[38;5;241m.\u001b[39msavez(\n\u001b[1;32m     44\u001b[0m     \u001b[38;5;124mf\u001b[39m\u001b[38;5;124m\"\u001b[39m\u001b[38;5;124mkaggle.\u001b[39m\u001b[38;5;132;01m{\u001b[39;00membedding\u001b[38;5;132;01m}\u001b[39;00m\u001b[38;5;124m.cmlp.identity.strat.npz\u001b[39m\u001b[38;5;124m\"\u001b[39m, \n\u001b[1;32m     45\u001b[0m     pred_pert\u001b[38;5;241m=\u001b[39mtraj[\u001b[38;5;241m-\u001b[39m\u001b[38;5;241m1\u001b[39m, :, :], true_pert\u001b[38;5;241m=\u001b[39mpert_eval, control\u001b[38;5;241m=\u001b[39mcontrol_eval\n\u001b[1;32m     46\u001b[0m )\n",
      "File \u001b[0;32m/orcd/archive/abugoot/001/Projects/njwfish/sandbox/cfm/flow_utils.py:19\u001b[0m, in \u001b[0;36mcompute_conditional_flow\u001b[0;34m(model, control, pert_ids, pert_mat, batch_size, num_steps, n_batches)\u001b[0m\n\u001b[1;32m     17\u001b[0m         pert_batch \u001b[38;5;241m=\u001b[39m pert_mat[pert_ids][:control_batch\u001b[38;5;241m.\u001b[39mshape[\u001b[38;5;241m0\u001b[39m]]\n\u001b[1;32m     18\u001b[0m         model\u001b[38;5;241m.\u001b[39mcond \u001b[38;5;241m=\u001b[39m torch\u001b[38;5;241m.\u001b[39mfrom_numpy(pert_batch)\u001b[38;5;241m.\u001b[39mto(device)\n\u001b[0;32m---> 19\u001b[0m         traj[:, batch_size\u001b[38;5;241m*\u001b[39mi:batch_size\u001b[38;5;241m*\u001b[39m(i\u001b[38;5;241m+\u001b[39m\u001b[38;5;241m1\u001b[39m), :] \u001b[38;5;241m=\u001b[39m \u001b[43mnode\u001b[49m\u001b[38;5;241;43m.\u001b[39;49m\u001b[43mtrajectory\u001b[49m\u001b[43m(\u001b[49m\n\u001b[1;32m     20\u001b[0m \u001b[43m            \u001b[49m\u001b[43mtorch\u001b[49m\u001b[38;5;241;43m.\u001b[39;49m\u001b[43mfrom_numpy\u001b[49m\u001b[43m(\u001b[49m\u001b[43mcontrol_batch\u001b[49m\u001b[43m)\u001b[49m\u001b[38;5;241;43m.\u001b[39;49m\u001b[43mfloat\u001b[49m\u001b[43m(\u001b[49m\u001b[43m)\u001b[49m\u001b[38;5;241;43m.\u001b[39;49m\u001b[43mto\u001b[49m\u001b[43m(\u001b[49m\u001b[43mdevice\u001b[49m\u001b[43m)\u001b[49m\u001b[43m,\u001b[49m\n\u001b[1;32m     21\u001b[0m \u001b[43m            \u001b[49m\u001b[43mt_span\u001b[49m\u001b[38;5;241;43m=\u001b[39;49m\u001b[43mtorch\u001b[49m\u001b[38;5;241;43m.\u001b[39;49m\u001b[43mlinspace\u001b[49m\u001b[43m(\u001b[49m\u001b[38;5;241;43m0\u001b[39;49m\u001b[43m,\u001b[49m\u001b[43m \u001b[49m\u001b[38;5;241;43m1\u001b[39;49m\u001b[43m,\u001b[49m\u001b[43m \u001b[49m\u001b[43mnum_steps\u001b[49m\u001b[43m)\u001b[49m\n\u001b[1;32m     22\u001b[0m \u001b[43m        \u001b[49m\u001b[43m)\u001b[49m\u001b[38;5;241m.\u001b[39mcpu()\n\u001b[1;32m     24\u001b[0m \u001b[38;5;28;01mreturn\u001b[39;00m traj\n",
      "File \u001b[0;32m/om2/user/njwfish/anaconda/envs/dsbm/lib/python3.10/site-packages/torchdyn/core/neuralde.py:100\u001b[0m, in \u001b[0;36mNeuralODE.trajectory\u001b[0;34m(self, x, t_span)\u001b[0m\n\u001b[1;32m     98\u001b[0m \u001b[38;5;28;01mdef\u001b[39;00m \u001b[38;5;21mtrajectory\u001b[39m(\u001b[38;5;28mself\u001b[39m, x:torch\u001b[38;5;241m.\u001b[39mTensor, t_span:Tensor):\n\u001b[1;32m     99\u001b[0m     x, t_span \u001b[38;5;241m=\u001b[39m \u001b[38;5;28mself\u001b[39m\u001b[38;5;241m.\u001b[39m_prep_integration(x, t_span)\n\u001b[0;32m--> 100\u001b[0m     _, sol \u001b[38;5;241m=\u001b[39m \u001b[43modeint\u001b[49m\u001b[43m(\u001b[49m\u001b[38;5;28;43mself\u001b[39;49m\u001b[38;5;241;43m.\u001b[39;49m\u001b[43mvf\u001b[49m\u001b[43m,\u001b[49m\u001b[43m \u001b[49m\u001b[43mx\u001b[49m\u001b[43m,\u001b[49m\u001b[43m \u001b[49m\u001b[43mt_span\u001b[49m\u001b[43m,\u001b[49m\u001b[43m \u001b[49m\u001b[43msolver\u001b[49m\u001b[38;5;241;43m=\u001b[39;49m\u001b[38;5;28;43mself\u001b[39;49m\u001b[38;5;241;43m.\u001b[39;49m\u001b[43msolver\u001b[49m\u001b[43m,\u001b[49m\u001b[43m \u001b[49m\u001b[43matol\u001b[49m\u001b[38;5;241;43m=\u001b[39;49m\u001b[38;5;28;43mself\u001b[39;49m\u001b[38;5;241;43m.\u001b[39;49m\u001b[43matol\u001b[49m\u001b[43m,\u001b[49m\u001b[43m \u001b[49m\u001b[43mrtol\u001b[49m\u001b[38;5;241;43m=\u001b[39;49m\u001b[38;5;28;43mself\u001b[39;49m\u001b[38;5;241;43m.\u001b[39;49m\u001b[43mrtol\u001b[49m\u001b[43m)\u001b[49m\n\u001b[1;32m    101\u001b[0m     \u001b[38;5;28;01mreturn\u001b[39;00m sol\n",
      "File \u001b[0;32m/om2/user/njwfish/anaconda/envs/dsbm/lib/python3.10/site-packages/torchdyn/numerics/odeint.py:89\u001b[0m, in \u001b[0;36modeint\u001b[0;34m(f, x, t_span, solver, atol, rtol, t_stops, verbose, interpolator, return_all_eval, save_at, args, seminorm)\u001b[0m\n\u001b[1;32m     87\u001b[0m t \u001b[38;5;241m=\u001b[39m t_span[\u001b[38;5;241m0\u001b[39m]\n\u001b[1;32m     88\u001b[0m k1 \u001b[38;5;241m=\u001b[39m f_(t, x)\n\u001b[0;32m---> 89\u001b[0m dt \u001b[38;5;241m=\u001b[39m \u001b[43minit_step\u001b[49m\u001b[43m(\u001b[49m\u001b[43mf\u001b[49m\u001b[43m,\u001b[49m\u001b[43m \u001b[49m\u001b[43mk1\u001b[49m\u001b[43m,\u001b[49m\u001b[43m \u001b[49m\u001b[43mx\u001b[49m\u001b[43m,\u001b[49m\u001b[43m \u001b[49m\u001b[43mt\u001b[49m\u001b[43m,\u001b[49m\u001b[43m \u001b[49m\u001b[43msolver\u001b[49m\u001b[38;5;241;43m.\u001b[39;49m\u001b[43morder\u001b[49m\u001b[43m,\u001b[49m\u001b[43m \u001b[49m\u001b[43matol\u001b[49m\u001b[43m,\u001b[49m\u001b[43m \u001b[49m\u001b[43mrtol\u001b[49m\u001b[43m)\u001b[49m\n\u001b[1;32m     90\u001b[0m \u001b[38;5;28;01mif\u001b[39;00m \u001b[38;5;28mlen\u001b[39m(save_at) \u001b[38;5;241m>\u001b[39m \u001b[38;5;241m0\u001b[39m: warn(\u001b[38;5;124m\"\u001b[39m\u001b[38;5;124mSetting save_at has no effect on adaptive-step methods\u001b[39m\u001b[38;5;124m\"\u001b[39m)\n\u001b[1;32m     91\u001b[0m \u001b[38;5;28;01mreturn\u001b[39;00m _adaptive_odeint(f_, k1, x, dt, t_span, solver, atol, rtol, args, interpolator, return_all_eval, seminorm)\n",
      "File \u001b[0;32m/om2/user/njwfish/anaconda/envs/dsbm/lib/python3.10/site-packages/torchdyn/numerics/utils.py:53\u001b[0m, in \u001b[0;36minit_step\u001b[0;34m(f, f0, x0, t0, order, atol, rtol)\u001b[0m\n\u001b[1;32m     51\u001b[0m \u001b[38;5;28;01melse\u001b[39;00m:\n\u001b[1;32m     52\u001b[0m     h1 \u001b[38;5;241m=\u001b[39m (\u001b[38;5;241m0.01\u001b[39m \u001b[38;5;241m/\u001b[39m \u001b[38;5;28mmax\u001b[39m(d1, d2)) \u001b[38;5;241m*\u001b[39m\u001b[38;5;241m*\u001b[39m (\u001b[38;5;241m1.\u001b[39m \u001b[38;5;241m/\u001b[39m \u001b[38;5;28mfloat\u001b[39m(order \u001b[38;5;241m+\u001b[39m \u001b[38;5;241m1\u001b[39m))\n\u001b[0;32m---> 53\u001b[0m dt \u001b[38;5;241m=\u001b[39m \u001b[43mtorch\u001b[49m\u001b[38;5;241;43m.\u001b[39;49m\u001b[43mmin\u001b[49m\u001b[43m(\u001b[49m\u001b[38;5;241;43m100\u001b[39;49m\u001b[43m \u001b[49m\u001b[38;5;241;43m*\u001b[39;49m\u001b[43m \u001b[49m\u001b[43mh0\u001b[49m\u001b[43m,\u001b[49m\u001b[43m \u001b[49m\u001b[43mh1\u001b[49m\u001b[43m)\u001b[49m\u001b[38;5;241m.\u001b[39mto(t0)\n\u001b[1;32m     54\u001b[0m \u001b[38;5;28;01mreturn\u001b[39;00m dt\n",
      "\u001b[0;31mKeyboardInterrupt\u001b[0m: "
     ]
    }
   ],
   "source": [
    "for embedding in [\"X\"]: # if we wanted to run in the PCA \"latent\" as well we would use [\"X\", \"X_pca\"]\n",
    "    print(embedding)\n",
    "    # set X to the (latent) counts\n",
    "    X = adata.obsm[embedding]\n",
    "    \n",
    "    # set train and eval split\n",
    "    control_train = X[control_idx & ~eval_idx]\n",
    "    pert_train = X[pert_idx & ~eval_idx]\n",
    "    pert_ids_train =  pert_ids[pert_idx & ~eval_idx]\n",
    "    control_cell_types = cell_types[control_idx & ~eval_idx]\n",
    "    pert_cell_types = cell_types[pert_idx & ~eval_idx]\n",
    "    \n",
    "    control_eval = X[control_idx & eval_cell_idx]\n",
    "    pert_eval = X[eval_idx]\n",
    "    pert_ids_eval = pert_ids[eval_idx]\n",
    "\n",
    "    # set up data processing for cfm\n",
    "    batch_size = 32\n",
    "    dset = CFMDataset(\n",
    "        control_train, pert_train, \n",
    "        pert_ids_train, pert_mat, \n",
    "        control_cell_types, pert_cell_types,\n",
    "        batch_size=batch_size\n",
    "    )\n",
    "    dl = torch.utils.data.DataLoader(dset, batch_size=batch_size, collate_fn=cfm_collate)\n",
    "    \n",
    "    # Train the model\n",
    "    trainer = pl.Trainer(\n",
    "        gpus=1,  # Specify the number of GPUs to use\n",
    "        max_epochs=1_000,  # Specify the maximum number of training epochs\n",
    "    )\n",
    "    model = CMLP(feat_dim=X.shape[1], cond_dim=pert_mat.shape[1], time_varying=True)\n",
    "    trainer.fit(model, dl)\n",
    "\n",
    "    # Save the predicted perturbation\n",
    "    torch.cuda.empty_cache()\n",
    "    traj = compute_conditional_flow(model, control_eval, pert_ids_eval, pert_mat)\n",
    "\n",
    "    np.savez(\n",
    "        f\"kaggle.{embedding}.cmlp.identity.npz\", \n",
    "        pred_pert=traj[-1, :, :], true_pert=pert_eval, control=control_eval, traj=traj\n",
    "    )\n",
    "    np.savez(\n",
    "        f\"kaggle.{embedding}.cmlp.identity.strat.npz\", \n",
    "        pred_pert=traj[-1, :, :], true_pert=pert_eval, control=control_eval\n",
    "    )"
   ]
  },
  {
   "cell_type": "code",
   "execution_count": null,
   "metadata": {},
   "outputs": [],
   "source": [
    "embedder = PCA(n_components=2).fit(adata.X[((control_idx & eval_cell_idx) | eval_idx)])\n",
    "\n",
    "source_embed = embedder.transform(X[control_idx & eval_cell_idx])\n",
    "target_embed = embedder.transform(X[eval_idx])\n",
    "traj_embed = np.stack([embedder.transform(traj_i) for traj_i in traj])\n",
    "\n",
    "\n",
    "fig = plt.figure(figsize=(10, 4))\n",
    "axs = fig.subplots(1, 2, sharey=True, sharex=True)\n",
    "k = 10_000\n",
    "axs[0].scatter(source_embed[:k, 0], source_embed[:k, 1], alpha=0.3, s=1, label=\"source\", color='blue')\n",
    "axs[0].scatter(target_embed[:k, 0], target_embed[:k, 1], alpha=0.3, s=1, label=\"target\", color='green')\n",
    "axs[0].scatter(traj_embed[-1, :k, 0], traj_embed[-1, :k, 1], alpha=0.3, s=1, label=\"predicted\", color='red')\n",
    "axs[0].legend()\n",
    "\n",
    "k = 300\n",
    "axs[1].scatter(source_embed[:k, 0], source_embed[:k, 1], alpha=0.7, s=2, label=\"source\", color='blue')\n",
    "axs[1].scatter(traj_embed[-1, :k, 0], traj_embed[-1, :k, 1], alpha=0.7, s=2, label=\"predicted\", color='red')\n",
    "\n",
    "for i in range(k):\n",
    "    axs[1].plot(traj_embed[:, i, 0].T, traj_embed[:, i, 1].T, color=\"purple\", alpha=0.1)\n",
    "plt.show()"
   ]
  },
  {
   "cell_type": "code",
   "execution_count": null,
   "metadata": {},
   "outputs": [],
   "source": [
    "for embedding in [\"X\"]: # if we wanted to run in the PCA \"latent\" as well we would use [\"X\", \"X_pca\"]\n",
    "    print(embedding)\n",
    "    # set X to the (latent) counts\n",
    "    X = adata.obsm[embedding]\n",
    "    \n",
    "    # set train and eval split\n",
    "    control_train = X[control_idx & ~eval_idx]\n",
    "    pert_train = X[pert_idx & ~eval_idx]\n",
    "    pert_ids_train =  pert_ids[pert_idx & ~eval_idx]\n",
    "    control_cell_types = cell_types[control_idx & ~eval_idx]\n",
    "    pert_cell_types = cell_types[pert_idx & ~eval_idx]\n",
    "    \n",
    "    control_eval = X[control_idx & eval_cell_idx]\n",
    "    pert_eval = X[eval_idx]\n",
    "    pert_ids_eval = pert_ids[eval_idx]\n",
    "\n",
    "    # set up data processing for cfm\n",
    "    batch_size = 32\n",
    "    dset = SCFMDataset(\n",
    "        control_train, pert_train, \n",
    "        pert_ids_train, pert_mat, \n",
    "        control_cell_types, pert_cell_types,\n",
    "        batch_size=batch_size\n",
    "    )\n",
    "    dl = torch.utils.data.DataLoader(dset, batch_size=32, collate_fn=cfm_collate)\n",
    "    \n",
    "    # Train the model\n",
    "    trainer = pl.Trainer(\n",
    "        gpus=1,  # Specify the number of GPUs to use\n",
    "        max_epochs=1_000,  # Specify the maximum number of training epochs\n",
    "    )\n",
    "    model = CMHA(feat_dim=X.shape[1], cond_dim=pert_mat.shape[1], time_varying=True)\n",
    "    trainer.fit(model, dl)\n",
    "\n",
    "    # Save the predicted perturbation\n",
    "    torch.cuda.empty_cache()\n",
    "    traj = compute_conditional_flow(model, control_eval, pert_ids_eval, pert_mat)\n",
    "\n",
    "    np.savez(\n",
    "        f\"kaggle.{embedding}.cmha.identity.npz\", \n",
    "        pred_pert=traj[-1, :, :], true_pert=pert_eval, control=control_eval, traj=traj\n",
    "    )\n",
    "    \n",
    "    np.savez(\n",
    "        f\"kaggle.{embedding}.cmha.identity.strat.npz\", \n",
    "        pred_pert=traj[-1, :, :], true_pert=pert_eval, control=control_eval\n",
    "    )"
   ]
  },
  {
   "cell_type": "code",
   "execution_count": null,
   "metadata": {},
   "outputs": [],
   "source": [
    "embedder = PCA(n_components=2).fit(adata.X[((control_idx & eval_cell_idx) | eval_idx)])\n",
    "\n",
    "source_embed = embedder.transform(X[control_idx & eval_cell_idx])\n",
    "target_embed = embedder.transform(X[eval_idx])\n",
    "traj_embed = np.stack([embedder.transform(traj_i) for traj_i in traj])\n",
    "\n",
    "\n",
    "fig = plt.figure(figsize=(10, 4))\n",
    "axs = fig.subplots(1, 2, sharey=True, sharex=True)\n",
    "k = 10_000\n",
    "axs[0].scatter(source_embed[:k, 0], source_embed[:k, 1], alpha=0.3, s=1, label=\"source\", color='blue')\n",
    "axs[0].scatter(target_embed[:k, 0], target_embed[:k, 1], alpha=0.3, s=1, label=\"target\", color='green')\n",
    "axs[0].scatter(traj_embed[-1, :k, 0], traj_embed[-1, :k, 1], alpha=0.3, s=1, label=\"predicted\", color='red')\n",
    "axs[0].legend()\n",
    "\n",
    "k = 300\n",
    "axs[1].scatter(source_embed[:k, 0], source_embed[:k, 1], alpha=0.7, s=2, label=\"source\", color='blue')\n",
    "axs[1].scatter(traj_embed[-1, :k, 0], traj_embed[-1, :k, 1], alpha=0.7, s=2, label=\"predicted\", color='red')\n",
    "\n",
    "for i in range(k):\n",
    "    axs[1].plot(traj_embed[:, i, 0].T, traj_embed[:, i, 1].T, color=\"purple\", alpha=0.1)\n",
    "plt.show()"
   ]
  },
  {
   "cell_type": "code",
   "execution_count": 24,
   "metadata": {},
   "outputs": [
    {
     "name": "stdout",
     "output_type": "stream",
     "text": [
      "test\n"
     ]
    }
   ],
   "source": [
    "print(\"test\")"
   ]
  },
  {
   "cell_type": "code",
   "execution_count": null,
   "metadata": {},
   "outputs": [],
   "source": []
  }
 ],
 "metadata": {
  "kernelspec": {
   "display_name": "dsbm",
   "language": "python",
   "name": "dsbm"
  },
  "language_info": {
   "codemirror_mode": {
    "name": "ipython",
    "version": 3
   },
   "file_extension": ".py",
   "mimetype": "text/x-python",
   "name": "python",
   "nbconvert_exporter": "python",
   "pygments_lexer": "ipython3",
   "version": "3.10.13"
  }
 },
 "nbformat": 4,
 "nbformat_minor": 4
}
