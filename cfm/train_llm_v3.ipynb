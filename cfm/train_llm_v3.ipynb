{
 "cells": [
  {
   "cell_type": "code",
   "execution_count": 1,
   "metadata": {
    "scrolled": true
   },
   "outputs": [
    {
     "name": "stdout",
     "output_type": "stream",
     "text": [
      "test\n"
     ]
    }
   ],
   "source": [
    "print(\"test\")"
   ]
  },
  {
   "cell_type": "code",
   "execution_count": 2,
   "metadata": {},
   "outputs": [],
   "source": [
    "import math\n",
    "from tqdm import tqdm\n",
    "import scvi\n",
    "import torch\n",
    "import numpy as np\n",
    "import pytorch_lightning as pl\n",
    "import os\n",
    "\n",
    "import scanpy as sc\n",
    "\n",
    "from pytorch_lightning.callbacks import TQDMProgressBar\n",
    "from torchcfm.conditional_flow_matching import *\n",
    "import scanpy as sc\n",
    "from datamodules import  SCFMDataset, cfm_collate, StratifiedBatchSampler, ot_collate\n",
    "from torch.utils.data import RandomSampler\n",
    "from sc_etl_utils import *\n",
    "from arch import *\n",
    "from flow_utils import compute_conditional_flow\n",
    "import json\n",
    "\n",
    "import scvi\n",
    "import torch\n",
    "import numpy as np\n",
    "import pytorch_lightning as pl\n",
    "import os\n",
    "\n",
    "import scanpy as sc\n",
    "\n",
    "from torchcfm.conditional_flow_matching import *\n",
    "import scanpy as sc\n",
    "import hashlib\n",
    "from llm import MAE"
   ]
  },
  {
   "cell_type": "code",
   "execution_count": 3,
   "metadata": {},
   "outputs": [],
   "source": [
    "# load some data\n",
    "adata = sc.read_h5ad('/orcd/archive/abugoot/001/Projects/dlesman/datasets/satija_IFNB_HVG_and_perturbed_genes_raw.h5ad')"
   ]
  },
  {
   "cell_type": "code",
   "execution_count": 4,
   "metadata": {},
   "outputs": [],
   "source": [
    "gene_map = {k: i for i, k in enumerate(adata.var.index)}\n",
    "gene_map = gene_map | {'NT': max(gene_map.values()) + 1}\n",
    "gene_unmap = {gene_map[k]: k for k in gene_map}\n",
    "perts = adata.obs.gene.unique().map(gene_map)\n",
    "adata.obs['pert_type'] = adata.obs.gene.map(gene_map)\n",
    "pert_ids = np.array(adata.obs['pert_type'])\n",
    "pert_mat = np.arange(pert_ids.max() + 1)[:, None]"
   ]
  },
  {
   "cell_type": "code",
   "execution_count": 5,
   "metadata": {},
   "outputs": [],
   "source": [
    "cell_col = 'cell_type'\n",
    "pert_col = 'pert_type'\n",
    "control_pert, holdout_cells, holdout_perts = gene_map['NT'], ['HT29'], [gene_map['USP18']]"
   ]
  },
  {
   "cell_type": "code",
   "execution_count": 6,
   "metadata": {
    "scrolled": true
   },
   "outputs": [
    {
     "name": "stdout",
     "output_type": "stream",
     "text": [
      "Controls: 14582, Perturbations: 313080,  Eval: 880\n"
     ]
    }
   ],
   "source": [
    "from sc_etl_utils import *\n",
    "control_idx, pert_idx, eval_idx, eval_cell_idx, eval_pert_idx = get_train_eval_idxs(\n",
    "    adata, control_pert, holdout_cells, holdout_perts, cell_col=cell_col, pert_col=pert_col\n",
    ")\n",
    "\n",
    "_, _, cell_types = get_identity_features(\n",
    "    adata, cell_col=cell_col, pert_col=pert_col, cell_type_features=False\n",
    ")\n",
    "\n",
    "adata.obsm[\"standard\"] = adata.X\n",
    "X = adata.obsm[\"standard\"]\n",
    "X = X.toarray()\n",
    "X = X / X.sum(axis=1)[:, None]\n",
    "\n",
    "control_train, pert_train, pert_ids_train, control_cell_types, pert_cell_types, control_eval, pert_eval, pert_ids_eval = get_train_eval(\n",
    "    X, pert_ids, cell_types, control_idx, pert_idx, eval_idx, eval_cell_idx, eval_pert_idx\n",
    ")\n"
   ]
  },
  {
   "cell_type": "code",
   "execution_count": 7,
   "metadata": {},
   "outputs": [],
   "source": [
    "from OTmap import *"
   ]
  },
  {
   "cell_type": "code",
   "execution_count": 8,
   "metadata": {},
   "outputs": [],
   "source": [
    "import math\n",
    "from tqdm import tqdm\n",
    "import torch\n",
    "import numpy as np\n",
    "import os\n",
    "from typing import Optional, Union, Iterator, Iterable, Optional, Sequence, List, TypeVar, Generic, Sized, Union\n",
    "import scanpy as sc\n",
    "from torch.utils.data import RandomSampler\n",
    "import json\n",
    "import sys\n",
    "import hashlib\n",
    "from sc_etl_utils import *\n",
    "from functools import partial\n",
    "import ot as pot\n",
    "from torch.utils.data import BatchSampler, SequentialSampler, Sampler\n",
    "from torch import nn\n",
    "import anndata as ad\n",
    "import scipy\n",
    "from scipy.sparse import issparse\n",
    "import anndata\n",
    "import pandas as pd  \n",
    "import pickle\n",
    "from matplotlib import pyplot as plt\n",
    "from scipy.optimize import linear_sum_assignment\n",
    "from torch.utils.data import Dataset, DataLoader\n",
    "import random\n",
    "import scipy.stats as stats\n",
    "\n",
    "\n",
    "def compute_ot_mapping(adata, cost_threshold=0.01):\n",
    "    mappings = {}\n",
    "    valid_perturbed_indices = []\n",
    "\n",
    "    for cell_type in adata.obs['cell_type'].unique():\n",
    "        for gene in adata.obs['gene'].unique():\n",
    "            if gene == 'NT':\n",
    "                continue\n",
    "            \n",
    "            # Filter data for the specific cell type and gene\n",
    "            perturbed_cells = adata[(adata.obs['cell_type'] == cell_type) & (adata.obs['gene'] == gene)]\n",
    "            control_cells = adata[(adata.obs['cell_type'] == cell_type) & (adata.obs['gene'] == 'NT')]\n",
    "            \n",
    "            # Extract total counts for both sets of cells\n",
    "            perturbed_counts = perturbed_cells.obs['nCount_RNA'].values\n",
    "            control_counts = control_cells.obs['nCount_RNA'].values\n",
    "            \n",
    "            # Compute the cost matrix based on the absolute difference in total counts\n",
    "            cost_matrix = np.abs(perturbed_counts[:, None] - control_counts[None, :])\n",
    "            \n",
    "            # Solve the linear sum assignment problem\n",
    "            row_ind, col_ind = linear_sum_assignment(cost_matrix)\n",
    "            \n",
    "            # Discard mappings that differ by more than 1 percent in their counts (or whatever you set cost_threshold to)\n",
    "            valid_mapping = cost_matrix[row_ind, col_ind] / perturbed_counts[row_ind] <= cost_threshold\n",
    "            \n",
    "            # Save the valid perturbed indices\n",
    "            valid_perturbed_indices.extend(perturbed_cells.obs.index[row_ind[valid_mapping]].tolist())\n",
    "            \n",
    "            # Save the mappings\n",
    "            mappings[(cell_type, gene)] = {\n",
    "                \"perturbed_indices\": perturbed_cells.obs.index[row_ind[valid_mapping]].tolist(),\n",
    "                \"control_indices\": control_cells.obs.index[col_ind[valid_mapping]].tolist()\n",
    "            }\n",
    "    \n",
    "    return mappings, valid_perturbed_indices"
   ]
  },
  {
   "cell_type": "code",
   "execution_count": 9,
   "metadata": {},
   "outputs": [
    {
     "name": "stderr",
     "output_type": "stream",
     "text": [
      "/tmp/ipykernel_3253088/521056526.py:19: ImplicitModificationWarning: Trying to modify attribute `.obs` of view, initializing view as actual.\n",
      "  inp.obs['nCount_RNA'] = inp.obs['nCount_RNA'].values\n"
     ]
    },
    {
     "name": "stdout",
     "output_type": "stream",
     "text": [
      "First five control indices for cell_type=BXPC3, perturbation=IFNAR1 are: ['24_41_31_1_1_1_1_1_1_1_1_1', '23_15_51_1_1_1_1_1_1_1_1_1', '22_46_83_1_1_1_1_1_1_1_1_1', '24_61_01_1_1_1_1_1_1_1_1_1', '24_81_15_1_1_1_1_1_1_1_1_1']\n",
      "First five pert indices for cell_type=BXPC3, perturbation=IFNAR1 are: ['24_05_46_2_1_1_1_1_2', '23_49_88_2_1_1', '24_08_85_1_1_1_1_1_1_1_1_2', '24_20_29_2_1_1_1_1_2', '21_92_57_2_1_1_1']\n"
     ]
    }
   ],
   "source": [
    "device = torch.device(\"cuda:0\" if torch.cuda.is_available() else \"cpu\")\n",
    "datasetso = 'satija_IFN'\n",
    "\n",
    "inp = adata # sc.read(f'input/{datasetso}.h5ad')\n",
    "\n",
    "#inp = inp[inp.obs['cell_type']=='A549']\n",
    "\n",
    "inp.var_names = inp.var['gene']\n",
    "\n",
    "hold = 'IFNAR2'\n",
    "\n",
    "inp = inp[inp.obs['gene']!=hold]\n",
    "\n",
    "\n",
    "# Convert sparse matrix to dense\n",
    "inp.X = np.array(inp.X.todense())\n",
    "\n",
    "# Convert the relevant obs and var columns to numpy arrays\n",
    "inp.obs['nCount_RNA'] = inp.obs['nCount_RNA'].values\n",
    "inp.obs['gene'] = inp.obs['gene'].values\n",
    "inp.obs['cell_type'] = inp.obs['cell_type'].values\n",
    "inp.var['gene'] = inp.var['gene'].values\n",
    "\n",
    "ot_mappings, valid_perturbed_indices = compute_ot_mapping(inp, cost_threshold=0.01)\n",
    "\n",
    "#exdample usage of ot_mapping\n",
    "print(f\"First five control indices for cell_type=BXPC3, perturbation=IFNAR1 are: {ot_mappings[('BXPC3','IFNAR1')]['perturbed_indices'][:5]}\")\n",
    "print(f\"First five pert indices for cell_type=BXPC3, perturbation=IFNAR1 are: {ot_mappings[('BXPC3','IFNAR1')]['control_indices'][:5]}\")\n",
    "\n",
    "#example usage of dataloader: \n",
    "\n",
    "#for control, pert, pert_index, pert_expr in (pbar := tqdm(dataloader, desc=\"Loading Batches\")): \n",
    "    #... etc"
   ]
  },
  {
   "cell_type": "code",
   "execution_count": 10,
   "metadata": {},
   "outputs": [],
   "source": [
    "inp.X = inp.X.toarray()\n",
    "inp.X = inp.X / inp.X.sum(axis=1)[:, None]"
   ]
  },
  {
   "cell_type": "code",
   "execution_count": 11,
   "metadata": {},
   "outputs": [],
   "source": [
    "class OTMappingDataset(Dataset):\n",
    "    def __init__(self, adata, mappings, valpertind):\n",
    "        self.adata = adata\n",
    "        self.mappings = mappings\n",
    "        self.valpertind = valpertind\n",
    "        self.gene_map = {\n",
    "            gene: np.where(self.adata.var['gene'] == gene)[0][0] for gene in self.adata.var['gene']\n",
    "        }\n",
    "\n",
    "    def __len__(self):\n",
    "        return len(self.valpertind)\n",
    "\n",
    "    def __getitem__(self, idx, mixup=False):\n",
    "        # print(0)\n",
    "        \n",
    "        curpert = self.adata[self.valpertind[idx]]\n",
    "\n",
    "        gene = curpert.obs['gene'].item()\n",
    "        cell_type = curpert.obs['cell_type'].item()\n",
    "\n",
    "        \n",
    "        pert_mapping = self.mappings[(cell_type, gene)]\n",
    "        ridex = pert_mapping['perturbed_indices'].index(curpert.obs_names[0])\n",
    "        # print(pert_mapping['perturbed_indices'].index)\n",
    "        perturbed_index = pert_mapping['perturbed_indices'][ridex]\n",
    "        control_index = pert_mapping['control_indices'][ridex]\n",
    "        \n",
    "        # idx = np.random.choice(minibatch_size, minibatch_size, replace=False)\n",
    "        # control = (1 - t) * control + t * control[idx]\n",
    "        # pert = (1 - t) * control + t * control[idx]\n",
    "        \n",
    "\n",
    "        # Get the perturbed cell and the corresponding NT cell\n",
    "        perturbed_cell = self.adata[perturbed_index].X\n",
    "        nt_cell = self.adata[control_index].X\n",
    "        \n",
    "        # Convert everything to torch tensors and return\n",
    "        # nt_cell_tensor = torch.tensor(nt_cell.X, dtype=torch.float32)# .cuda()\n",
    "        # perturbed_cell_tensor = torch.tensor(perturbed_cell.X, dtype=torch.float32)# .cuda()\n",
    "        # gene_index_tensor = torch.tensor(gene_index, dtype=torch.long)# .cuda()\n",
    "        # expression_value_tensor = torch.tensor(expression_value, dtype=torch.float32)# .cuda()\n",
    "        \n",
    "        if mixup:\n",
    "            t = np.random.beta(1, 1)\n",
    "            r2 = np.random.choice(len(pert_mapping['perturbed_indices']))\n",
    "            perturbed_index2 = pert_mapping['perturbed_indices'][r2]\n",
    "            control_index2 = pert_mapping['control_indices'][r2]\n",
    "            perturbed_cell2 = self.adata[perturbed_index2].X\n",
    "            nt_cell2 = self.adata[control_index2].X\n",
    "            perturbed_cell = t * perturbed_cell + (1 - t) * perturbed_cell2\n",
    "            nt_cell = t * nt_cell + (1 - t) * nt_cell2\n",
    "        \n",
    "        # Find the index of the perturbed gene in var['gene']\n",
    "        # gene_index = np.where(self.adata.var['gene'] == gene)[0][0]\n",
    "        gene_index = self.gene_map[gene]\n",
    "        \n",
    "        # Get the expression value for the perturbed cell at that gene\n",
    "        # expression_value = perturbed_cell.X[0, gene_index]\n",
    "\n",
    "        # print(2)\n",
    "\n",
    "        return nt_cell, perturbed_cell, gene_index\n",
    "\n",
    "dataset = OTMappingDataset(inp, ot_mappings, valid_perturbed_indices)\n",
    "dl = DataLoader(dataset, batch_size=32, shuffle=True)"
   ]
  },
  {
   "cell_type": "code",
   "execution_count": 12,
   "metadata": {},
   "outputs": [],
   "source": [
    "dl = dataloader = DataLoader(dataset, batch_size=32, shuffle=True)"
   ]
  },
  {
   "cell_type": "code",
   "execution_count": 29,
   "metadata": {},
   "outputs": [],
   "source": [
    "def ot_collate(\n",
    "    batch,\n",
    "    return_noise=False,\n",
    "    ot_sampler = OTPlanSampler(method=\"exact\")\n",
    "):\n",
    "\n",
    "    batch = list(zip(*batch))\n",
    "    batch = [torch.tensor(np.array(x)) for x in batch]\n",
    "    control, target = batch[:2]\n",
    "    \n",
    "    x0, x1 = ot_sampler.sample_plan(10000 * control, 10000 * target)\n",
    "\n",
    "    return x0 / 10000, x1 / 10000, *batch[2:]"
   ]
  },
  {
   "cell_type": "code",
   "execution_count": 30,
   "metadata": {},
   "outputs": [
    {
     "name": "stdout",
     "output_type": "stream",
     "text": [
      "Strata probs [0.         0.0001086  0.00030344 0.00039606 0.00040565 0.00041523\n",
      " 0.00042162 0.00043439 0.00045356 0.00045995 0.00049189 0.00052063\n",
      " 0.00054938 0.00056535 0.00061007 0.00062284 0.00062604 0.00062604\n",
      " 0.00063562 0.00068673 0.00075061 0.00076977 0.00077297 0.00077935\n",
      " 0.00079852 0.0008081  0.00084323 0.0008624  0.00087837 0.00088156\n",
      " 0.00088795 0.00088795 0.00089753 0.00089753 0.0009167  0.00092628\n",
      " 0.00093906 0.00094864 0.00099016 0.00099016 0.00100294 0.00104127\n",
      " 0.00104446 0.00105085 0.00109237 0.00110834 0.00110834 0.00111154\n",
      " 0.00111473 0.00111473 0.0011307  0.0011339  0.00113709 0.00116584\n",
      " 0.00117222 0.00117222 0.00121375 0.00121694 0.00122333 0.00122652\n",
      " 0.00124569 0.00124888 0.00124888 0.00126485 0.00128082 0.00129999\n",
      " 0.00130318 0.00130318 0.00131596 0.00131596 0.00132554 0.00133193\n",
      " 0.00133512 0.0013447  0.00135109 0.00137026 0.00137984 0.00137984\n",
      " 0.00139262 0.0014022  0.00140539 0.00140539 0.00141178 0.00141497\n",
      " 0.00141817 0.00143733 0.00146288 0.00146608 0.00146927 0.00147566\n",
      " 0.00148205 0.00148844 0.00149483 0.00152357 0.00152677 0.00152677\n",
      " 0.00153635 0.00153954 0.00153954 0.00154274 0.00154274 0.00154912\n",
      " 0.00155232 0.0015619  0.0015651  0.00157468 0.00158426 0.00158745\n",
      " 0.00160023 0.00160662 0.00161301 0.00162578 0.00162578 0.00162898\n",
      " 0.00164175 0.00164495 0.0016705  0.00167689 0.00167689 0.00168328\n",
      " 0.00168647 0.00169605 0.00169925 0.00173119 0.00173438 0.00173758\n",
      " 0.00175993 0.00176632 0.0017791  0.00180465 0.00180784 0.00181104\n",
      " 0.00181423 0.00181743 0.00183979 0.00183979 0.00184937 0.00185576\n",
      " 0.00185895 0.00186214 0.00187492 0.00188131 0.00188131 0.00190047\n",
      " 0.00190686 0.00192283 0.00193561 0.00193561 0.00197074 0.00198032\n",
      " 0.00198352 0.00198671 0.00199629 0.00200907 0.00201227 0.00202504\n",
      " 0.0020474  0.00205698 0.00206656 0.00208253 0.00209212 0.00209851\n",
      " 0.00213045 0.00214322 0.002156   0.00217836 0.00217836 0.00217836\n",
      " 0.00219752 0.0022103  0.0022103  0.00221349 0.00221349 0.00221988\n",
      " 0.00223266 0.00223585 0.00223904 0.00227418 0.00228057 0.00228376\n",
      " 0.00228696 0.00228696 0.00230293 0.00230931 0.00231251 0.00235084\n",
      " 0.00235084 0.00235403 0.00237639 0.00241791 0.00242749 0.00242749\n",
      " 0.00243069 0.00244027 0.00245305 0.00248179 0.00249138 0.00249776\n",
      " 0.00250415 0.00251373 0.00254248 0.00254248 0.00254248 0.00255526\n",
      " 0.00257762 0.0025872  0.00262553 0.0026383  0.0026415  0.00267344\n",
      " 0.00267344 0.00268941 0.0026958  0.00271177 0.00271496 0.00273093\n",
      " 0.00273093 0.00273413 0.00275648 0.00277565 0.00278842 0.00280759\n",
      " 0.00287466 0.00288744 0.00292896 0.00294493 0.00298007 0.0030184\n",
      " 0.00303437 0.00306631 0.0030695  0.00308867 0.00309186 0.00310144\n",
      " 0.00311422 0.00311422 0.00313019 0.00313658 0.00313658 0.00314297\n",
      " 0.00314297 0.00314297 0.00314616 0.0031781  0.0031813  0.00318768\n",
      " 0.00319088 0.00320046 0.00321643 0.00323879 0.00324198 0.00324518\n",
      " 0.0032867  0.00332183 0.00332503 0.00332822 0.00333461 0.00333781\n",
      " 0.00333781 0.0033921  0.00340488 0.00345918 0.00346876 0.0035007\n",
      " 0.00352626 0.00353903 0.00354542 0.00356778 0.00357097 0.00357417\n",
      " 0.00359652 0.00360291 0.00363166 0.00363166 0.00364444 0.00365082\n",
      " 0.00366679 0.00367957 0.00372109 0.00372109 0.00373387 0.00373706\n",
      " 0.00374984 0.00376262 0.0037722  0.00379456 0.00381692 0.00384247\n",
      " 0.00384247 0.00389038 0.00392871 0.0039319  0.00394148 0.00394787\n",
      " 0.00397023 0.00402453 0.00402772 0.00403411 0.00407883 0.00408202\n",
      " 0.00409161 0.00409161 0.00411077 0.00411716 0.00414271 0.00420659\n",
      " 0.00421617 0.00421937 0.00423534 0.00424173 0.0042545  0.00428964\n",
      " 0.00431519 0.00432477 0.00436949 0.00437268 0.00438227 0.00439504\n",
      " 0.00442379 0.00445254 0.00459627 0.00462182 0.00469848 0.00470167\n",
      " 0.00470806 0.00473042 0.0047432  0.00485499 0.00487415 0.00489971\n",
      " 0.00506899 0.00510413 0.00512329 0.00512329 0.00523828 0.00535326\n",
      " 0.00539479 0.00540437 0.00542353 0.00543631 0.00545867 0.00553533\n",
      " 0.00553852 0.0055513  0.00558004 0.00570461 0.00572697 0.00575891\n",
      " 0.00579405 0.00590584 0.00609109 0.006468   0.00648716 0.00654465\n",
      " 0.00657021 0.00693752 0.00694391 0.00706529 0.00720263 0.00798199\n",
      " 0.00804267 0.00858247 0.00904561 0.009266   0.00959499 0.01232912]\n"
     ]
    }
   ],
   "source": [
    "batch_size = 512\n",
    "dset = SCFMDataset(\n",
    "    control_train, pert_train, \n",
    "    pert_ids_train, pert_mat, \n",
    "    control_cell_types, pert_cell_types,\n",
    "    batch_size=batch_size, size=X.shape[0]\n",
    ")\n",
    "ns = np.array([[t.shape[0] for t in ts] for ts in dset.target])\n",
    "dl_ = torch.utils.data.DataLoader(\n",
    "    dset, collate_fn=ot_collate, \n",
    "    batch_sampler=StratifiedBatchSampler(\n",
    "        ns=ns, batch_size=512\n",
    "    )\n",
    ")"
   ]
  },
  {
   "cell_type": "code",
   "execution_count": 13,
   "metadata": {},
   "outputs": [],
   "source": [
    "from llm import *\n",
    "\n",
    "\n",
    "class MAE_Decoder(torch.nn.Module):\n",
    "    def __init__(self,\n",
    "                 pos_embedding,\n",
    "                 num_layer=6,\n",
    "                 num_head=3,\n",
    "                 ff_dim=128,\n",
    "                 true_sparsity=True,\n",
    "                 expr_activation='sigmoid'\n",
    "                 ) -> None:\n",
    "        super().__init__()\n",
    "        \n",
    "        _, input_dim, emb_dim = pos_embedding.pos.shape\n",
    "        self.pos_embedding = pos_embedding\n",
    "\n",
    "        self.mask_token = torch.nn.Parameter(torch.zeros(1, emb_dim))\n",
    "\n",
    "        self.transformer = torch.nn.Sequential(\n",
    "            *[\n",
    "                nn.TransformerEncoderLayer(\n",
    "                    emb_dim, num_head, dim_feedforward=ff_dim, batch_first=True, dropout=0.\n",
    "                ) \n",
    "                for _ in range(num_layer)\n",
    "            ]\n",
    "        )\n",
    "\n",
    "        self.head = torch.nn.Linear(emb_dim, 2)\n",
    "        self.sigmoid = torch.nn.Sigmoid()\n",
    "        self.sparsity = BernoulliSampleLayer()\n",
    "        self.true_sparsity = true_sparsity\n",
    "        if expr_activation == 'sigmoid':\n",
    "            self.expr_activation = torch.nn.Sigmoid()\n",
    "        elif expr_activation == 'identity':\n",
    "            self.expr_activation = lambda x: x\n",
    "        else:\n",
    "            print(\"Error: expr_activation must be sigmoid or identity\")\n",
    "        \n",
    "        nn.init.normal_(self.mask_token, std=.02)\n",
    "\n",
    "\n",
    "    def forward(self, features, backward_indexes, pert_features=None):\n",
    "        T = features.shape[1]\n",
    "        features = torch.cat(\n",
    "            [features, self.mask_token.expand(features.shape[0], backward_indexes.shape[1] - features.shape[1], -1)], dim=1\n",
    "        )\n",
    "        # we have to add this or the masked objective will not work!\n",
    "        features = take_indexes(features, backward_indexes)\n",
    "        features = features + self.pos_embedding.pos\n",
    "        features_ = features\n",
    "        \n",
    "        if pert_features is not None:\n",
    "            _, N, _ = pert_features.shape\n",
    "            features = torch.cat([features, pert_features], dim=1)\n",
    "\n",
    "        features = self.transformer(features)\n",
    "        \n",
    "        if pert_features is not None:\n",
    "            features = features[:, :-N, :]\n",
    "        expr_logits, sparsity_logits = self.head(features).unbind(-1)\n",
    "        \n",
    "        mask = torch.zeros_like(expr_logits)\n",
    "        mask[:, T:] = 1\n",
    "        mask = take_indexes(mask, backward_indexes)\n",
    "        \n",
    "        expr = self.sigmoid(expr_logits)\n",
    "        \n",
    "        if self.true_sparsity:\n",
    "            sparsity_probs = self.sigmoid(sparsity_logits)\n",
    "            sparsity = self.sparsity(sparsity_probs)\n",
    "            expr = expr * sparsity\n",
    "            return expr, sparsity_probs, mask\n",
    "\n",
    "        return expr, mask\n",
    "\n",
    "\n",
    "class MAE(torch.nn.Module):\n",
    "    def __init__(self,\n",
    "                 input_dim,\n",
    "                 ff_dim=128,\n",
    "                 emb_dim=48,\n",
    "                 encoder_layer=6,\n",
    "                 encoder_head=4,\n",
    "                 decoder_layer=6,\n",
    "                 decoder_head=4,\n",
    "                 mask_ratio=0.75,\n",
    "                 true_sparsity=True,\n",
    "                 expr_activation='sigmoid'\n",
    "                 ) -> None:\n",
    "        super().__init__()\n",
    "        \n",
    "        self.pos_embedding = PosEmbedding(input_dim=input_dim, emb_dim=emb_dim)\n",
    "        self.encoder = MAE_Encoder(\n",
    "            self.pos_embedding, encoder_layer, encoder_head, mask_ratio, ff_dim=ff_dim)\n",
    "        self.pert_embedding = PertEmbedder(self.encoder)\n",
    "        self.decoder = MAE_Decoder(\n",
    "            self.pos_embedding, decoder_layer, decoder_head, ff_dim=ff_dim,\n",
    "            true_sparsity=true_sparsity, expr_activation=expr_activation\n",
    "        )\n",
    "        self.pert_decoder = MAE_Decoder(self.pos_embedding, decoder_layer, decoder_head, ff_dim=ff_dim,true_sparsity=true_sparsity, expr_activation=expr_activation)\n",
    "        # self.pert_decoder = self.decoder\n",
    "\n",
    "    def forward(self, batch, mask=True, pert_index=None, pert_expr=None, recon_and_pert=False):\n",
    "        features, backward_indexes = self.encoder(batch, mask=mask)\n",
    "        if pert_index is not None and pert_expr is not None:\n",
    "            pert_features = self.pert_embedding(pert_index, pert_expr)\n",
    "            if recon_and_pert:\n",
    "                recon_out = self.decoder(features, backward_indexes)\n",
    "                pert_out = self.pert_decoder(\n",
    "                    features, backward_indexes, pert_features=pert_features\n",
    "                )\n",
    "                return recon_out, pert_out\n",
    "            else:\n",
    "                return self.pert_decoder(\n",
    "                    features, backward_indexes, pert_features=pert_features\n",
    "                )\n",
    "        else:\n",
    "            return self.decoder(features, backward_indexes)"
   ]
  },
  {
   "cell_type": "code",
   "execution_count": 62,
   "metadata": {},
   "outputs": [],
   "source": [
    "model = MAE(\n",
    "    X.shape[1], emb_dim=96, decoder_layer=4, encoder_layer=4, encoder_head=3, decoder_head=3, ff_dim=128,\n",
    "    true_sparsity=True, expr_activation=\"sigmoid\"\n",
    ")\n",
    "model = torch.load(f\"llm/v6\")\n",
    "device = 'cuda'\n",
    "# device = 'cpu'\n",
    "model = model.to(device)"
   ]
  },
  {
   "cell_type": "code",
   "execution_count": 63,
   "metadata": {},
   "outputs": [],
   "source": [
    "import copy\n",
    "model.pert_decoder = copy.deepcopy(model.decoder)"
   ]
  },
  {
   "cell_type": "code",
   "execution_count": 90,
   "metadata": {},
   "outputs": [],
   "source": [
    "base_learning_rate = 5e-5\n",
    "weight_decay=0.0\n",
    "total_epoch = 500\n",
    "warmup_epoch = 10\n",
    "minibatch_size = 128\n",
    "save_dir = \"llm/v\""
   ]
  },
  {
   "cell_type": "markdown",
   "metadata": {},
   "source": [
    "Below are two training loops, first is just the autoencoder and second is the autoencoder and pert task. I usually run the autoencoder for a couple iterations then the joint task."
   ]
  },
  {
   "cell_type": "code",
   "execution_count": 91,
   "metadata": {},
   "outputs": [
    {
     "name": "stdout",
     "output_type": "stream",
     "text": [
      "Adjusting learning rate of group 0 to 5.0000e-06.\n"
     ]
    }
   ],
   "source": [
    "base_learning_rate = 5e-5\n",
    "optim = torch.optim.AdamW(model.parameters(), lr=base_learning_rate, betas=(0.9, 0.999), weight_decay=weight_decay)\n",
    "lr_func = lambda epoch: min((epoch + 1) / (warmup_epoch + 1e-5), 0.5 * (math.cos(epoch / total_epoch * math.pi) + 1))\n",
    "lr_scheduler = torch.optim.lr_scheduler.LambdaLR(optim, lr_lambda=lr_func, verbose=True)"
   ]
  },
  {
   "cell_type": "code",
   "execution_count": 96,
   "metadata": {},
   "outputs": [
    {
     "data": {
      "text/plain": [
       "OrderedDict([('pos_embedding.pos',\n",
       "              tensor([[[ 0.1280,  0.2470, -1.1113,  ...,  0.1775,  0.7051, -0.1277],\n",
       "                       [ 2.7049, -0.4807,  0.3927,  ...,  1.1225,  0.0638, -0.5066],\n",
       "                       [ 1.2915, -0.3232,  0.7227,  ..., -1.1896,  0.5530, -0.7407],\n",
       "                       ...,\n",
       "                       [ 1.2119, -0.3661, -0.2215,  ...,  0.5652,  0.3100, -0.1641],\n",
       "                       [ 0.5269, -0.9177, -0.2874,  ..., -1.9569, -1.0188,  0.1251],\n",
       "                       [-0.2233, -0.7706,  0.6919,  ...,  0.0769,  0.5840, -0.3722]]],\n",
       "                     device='cuda:0')),\n",
       "             ('encoder.pos_embedding.pos',\n",
       "              tensor([[[ 0.1280,  0.2470, -1.1113,  ...,  0.1775,  0.7051, -0.1277],\n",
       "                       [ 2.7049, -0.4807,  0.3927,  ...,  1.1225,  0.0638, -0.5066],\n",
       "                       [ 1.2915, -0.3232,  0.7227,  ..., -1.1896,  0.5530, -0.7407],\n",
       "                       ...,\n",
       "                       [ 1.2119, -0.3661, -0.2215,  ...,  0.5652,  0.3100, -0.1641],\n",
       "                       [ 0.5269, -0.9177, -0.2874,  ..., -1.9569, -1.0188,  0.1251],\n",
       "                       [-0.2233, -0.7706,  0.6919,  ...,  0.0769,  0.5840, -0.3722]]],\n",
       "                     device='cuda:0')),\n",
       "             ('encoder.expression_embed.weight',\n",
       "              tensor([[ 2.0004],\n",
       "                      [ 2.5782],\n",
       "                      [ 2.6381],\n",
       "                      [-2.3269],\n",
       "                      [-1.8593],\n",
       "                      [ 2.0857],\n",
       "                      [ 3.5792],\n",
       "                      [ 2.1690],\n",
       "                      [-3.0058],\n",
       "                      [ 0.2007],\n",
       "                      [ 3.4979],\n",
       "                      [-1.6949],\n",
       "                      [-2.4735],\n",
       "                      [ 2.9760],\n",
       "                      [-2.0476],\n",
       "                      [-0.4056],\n",
       "                      [ 1.1774],\n",
       "                      [-2.3880],\n",
       "                      [ 3.0805],\n",
       "                      [-1.9915],\n",
       "                      [-2.4952],\n",
       "                      [-2.1600],\n",
       "                      [ 3.1107],\n",
       "                      [-2.9044],\n",
       "                      [-2.0763],\n",
       "                      [ 2.6879],\n",
       "                      [ 3.0933],\n",
       "                      [-2.9887],\n",
       "                      [-3.4799],\n",
       "                      [-2.9444],\n",
       "                      [ 2.2952],\n",
       "                      [-2.6582],\n",
       "                      [-2.9760],\n",
       "                      [-3.1295],\n",
       "                      [-2.9742],\n",
       "                      [-2.6512],\n",
       "                      [ 3.5255],\n",
       "                      [ 2.8289],\n",
       "                      [-2.8711],\n",
       "                      [-2.4298],\n",
       "                      [ 2.9299],\n",
       "                      [ 2.5769],\n",
       "                      [-1.9400],\n",
       "                      [ 0.0382],\n",
       "                      [ 2.1245],\n",
       "                      [-3.1683],\n",
       "                      [ 2.4530],\n",
       "                      [ 4.1557],\n",
       "                      [-0.8208],\n",
       "                      [ 4.4775],\n",
       "                      [-2.6566],\n",
       "                      [ 0.8035],\n",
       "                      [-3.2654],\n",
       "                      [-3.0428],\n",
       "                      [ 2.7286],\n",
       "                      [ 3.0157],\n",
       "                      [ 2.3022],\n",
       "                      [ 0.0654],\n",
       "                      [-3.1045],\n",
       "                      [-3.1730],\n",
       "                      [ 2.6454],\n",
       "                      [ 2.6933],\n",
       "                      [-3.2204],\n",
       "                      [-2.9162],\n",
       "                      [ 3.2899],\n",
       "                      [ 3.3631],\n",
       "                      [ 2.6780],\n",
       "                      [ 2.4483],\n",
       "                      [-2.8105],\n",
       "                      [ 2.5521],\n",
       "                      [ 1.0523],\n",
       "                      [ 3.1961],\n",
       "                      [-1.8583],\n",
       "                      [-0.9530],\n",
       "                      [-3.2610],\n",
       "                      [-1.6654],\n",
       "                      [ 3.3143],\n",
       "                      [ 2.7628],\n",
       "                      [ 4.1116],\n",
       "                      [-2.8933],\n",
       "                      [-2.4910],\n",
       "                      [ 2.2174],\n",
       "                      [ 2.3953],\n",
       "                      [ 2.1823],\n",
       "                      [ 2.2842],\n",
       "                      [ 2.0793],\n",
       "                      [ 2.0240],\n",
       "                      [-2.5448],\n",
       "                      [-2.3748],\n",
       "                      [-2.7675],\n",
       "                      [ 1.5620],\n",
       "                      [ 2.5513],\n",
       "                      [-4.1443],\n",
       "                      [-3.5298],\n",
       "                      [ 2.9183],\n",
       "                      [-3.0957]], device='cuda:0')),\n",
       "             ('encoder.expression_embed.bias',\n",
       "              tensor([ 0.6129,  0.2010, -0.1054,  0.6517, -0.0139,  0.1739,  0.6772, -0.8124,\n",
       "                      -0.5467,  0.8460,  0.1992,  0.8890, -0.9814, -0.0025, -0.5413,  0.8625,\n",
       "                      -0.9780,  0.3048,  0.0633,  0.7645, -0.3978, -0.7723, -0.0272,  0.5474,\n",
       "                       0.4339,  0.3713,  0.4932,  0.3576, -0.9444, -0.9090,  0.7684, -0.1669,\n",
       "                       0.4746,  0.7638, -0.4608,  0.3055, -0.7194,  0.2501, -0.1438, -0.7063,\n",
       "                       0.2847,  0.7438, -0.2550, -0.3550, -0.4695, -0.5903, -0.1687,  0.2886,\n",
       "                       0.0405, -0.7642, -0.6847, -0.0288,  0.3938,  0.0406, -0.3788,  0.1739,\n",
       "                      -0.4368,  0.9205,  0.9341, -0.3528, -0.5908, -0.7329, -0.2607, -0.4188,\n",
       "                      -0.4096, -0.1694,  0.8631, -0.7344,  0.4987, -0.8626,  0.1960, -0.3703,\n",
       "                      -0.9900,  0.6255, -0.4767,  0.6589,  0.2674,  0.0681, -0.7031, -0.2994,\n",
       "                       0.5159, -0.4143, -0.8147,  0.4081,  0.0641,  0.9737, -0.5945,  0.4756,\n",
       "                       0.3869,  0.0320, -0.5485, -0.1606,  0.5901,  0.7284, -0.0415,  0.5440],\n",
       "                     device='cuda:0')),\n",
       "             ('encoder.transformer.0.self_attn.in_proj_weight',\n",
       "              tensor([[-0.0039, -0.0606,  0.0693,  ..., -0.0430, -0.0474, -0.1108],\n",
       "                      [-0.0904,  0.0421,  0.0221,  ...,  0.1444, -0.0507,  0.1346],\n",
       "                      [-0.0587, -0.0148, -0.0389,  ...,  0.0085,  0.0467, -0.1411],\n",
       "                      ...,\n",
       "                      [ 0.0508, -0.0739,  0.0556,  ..., -0.0134,  0.0126,  0.0903],\n",
       "                      [-0.0289,  0.0928, -0.1121,  ..., -0.0340,  0.0360, -0.0873],\n",
       "                      [-0.0577, -0.0608, -0.0776,  ..., -0.0162,  0.0900, -0.0521]],\n",
       "                     device='cuda:0')),\n",
       "             ('encoder.transformer.0.self_attn.in_proj_bias',\n",
       "              tensor([ 3.8473e-02, -1.9163e-02,  5.1327e-03, -1.2883e-02, -2.5158e-02,\n",
       "                       3.6174e-02, -4.2872e-03, -1.8725e-02, -1.2405e-02, -1.4862e-03,\n",
       "                       9.3199e-03,  2.2066e-02,  2.4137e-02, -5.1493e-03, -2.5002e-02,\n",
       "                       6.2978e-03,  6.4407e-03, -3.8447e-02,  3.4448e-02,  2.3299e-02,\n",
       "                       5.9246e-03, -3.5712e-02,  1.2027e-03,  2.9360e-02,  7.6677e-03,\n",
       "                      -2.1185e-02,  1.9411e-02, -4.7990e-03,  3.5456e-02,  4.2571e-03,\n",
       "                      -2.4291e-04,  2.4472e-02, -7.0147e-03,  6.8664e-03,  1.5751e-02,\n",
       "                       1.0746e-02, -4.1186e-02, -5.5738e-03,  6.9425e-03,  1.0385e-02,\n",
       "                       1.2266e-02, -1.6353e-02, -3.3261e-03, -1.7869e-02,  2.3683e-02,\n",
       "                      -1.3464e-02, -3.6597e-03,  5.2499e-04, -1.4877e-02, -2.2406e-02,\n",
       "                       2.0038e-02, -3.0222e-02, -1.8866e-02,  5.4931e-03, -1.3258e-02,\n",
       "                       1.4150e-02, -1.1763e-02, -3.7513e-03, -1.4928e-02,  1.1970e-02,\n",
       "                      -5.7298e-03,  4.1511e-02,  1.7811e-02,  1.8957e-02,  2.8896e-02,\n",
       "                       2.2626e-02,  9.7291e-03,  1.1002e-02,  3.6026e-02, -2.7761e-02,\n",
       "                      -5.8305e-03, -3.3036e-02, -2.2403e-04, -2.0185e-02,  2.6832e-02,\n",
       "                      -9.6450e-03,  1.6205e-02, -5.6045e-02, -6.0820e-02, -9.3201e-03,\n",
       "                       1.6972e-02, -2.8330e-02, -3.6538e-02,  1.4311e-02, -6.9948e-03,\n",
       "                      -9.9786e-03,  5.7699e-03, -1.3037e-02, -2.0852e-02,  5.2314e-03,\n",
       "                       1.1346e-02, -5.0941e-03, -1.5310e-03, -1.2345e-02, -2.3258e-02,\n",
       "                       2.0280e-02,  6.4659e-03,  3.6815e-02,  2.9300e-02,  5.8094e-02,\n",
       "                      -2.5738e-02,  4.9125e-02,  9.8995e-02, -3.1929e-02, -1.6176e-02,\n",
       "                       2.6266e-02, -2.4602e-02,  6.0131e-02, -1.4449e-01,  5.7565e-02,\n",
       "                       4.9205e-02,  3.5288e-02,  2.7834e-02,  1.8252e-02, -7.7738e-02,\n",
       "                      -5.8171e-02, -4.8100e-02, -2.4013e-03, -8.5588e-02, -1.0750e-01,\n",
       "                      -4.5182e-04, -1.6982e-01,  5.4268e-02,  2.7146e-02, -3.5717e-02,\n",
       "                      -1.3439e-01, -8.1559e-02,  1.8581e-02, -2.8132e-02, -7.5539e-03,\n",
       "                       2.5318e-02, -1.5372e-01,  2.7919e-02, -3.2108e-02,  9.2200e-02,\n",
       "                       1.3627e-01, -1.0545e-01,  1.0880e-01,  3.5715e-02, -4.3900e-02,\n",
       "                       9.0093e-02, -1.4747e-02, -6.5722e-02, -8.4527e-03,  1.0270e-01,\n",
       "                      -3.1875e-02, -2.2053e-04, -6.7133e-02,  4.8185e-02, -7.4499e-03,\n",
       "                      -5.9554e-02,  2.5916e-02, -1.5522e-03,  5.0879e-02,  7.1215e-02,\n",
       "                      -1.1516e-01,  1.1035e-01,  6.0197e-02, -1.4386e-02, -7.6941e-02,\n",
       "                       4.9395e-02, -2.7096e-02,  5.8441e-02, -6.0021e-02,  1.4024e-02,\n",
       "                       7.0538e-02,  3.0813e-02,  6.2222e-02,  5.1951e-02,  4.0537e-02,\n",
       "                      -1.6251e-02,  2.2077e-02,  2.9148e-02,  8.0158e-02,  5.5583e-02,\n",
       "                       8.3496e-02, -7.2345e-02,  1.6487e-04,  2.2790e-02,  1.2699e-01,\n",
       "                      -2.0987e-02, -1.6927e-02, -2.9801e-02,  1.2992e-02, -4.6599e-02,\n",
       "                      -2.7557e-03, -1.0897e-01,  8.8247e-04,  3.2295e-02,  6.0626e-02,\n",
       "                       5.1866e-02, -2.9215e-02, -2.7251e-02,  6.9417e-03, -1.1647e-02,\n",
       "                      -1.8236e-02, -9.4546e-03, -7.6248e-03, -1.3198e-02, -1.4805e-02,\n",
       "                      -2.6498e-03, -7.2501e-03,  6.6008e-03, -5.1207e-03,  1.0386e-04,\n",
       "                       9.2020e-03,  1.5189e-03, -3.9840e-03,  2.1679e-03,  6.6501e-03,\n",
       "                      -3.6146e-03,  4.0469e-03, -2.1630e-03,  9.0795e-03, -5.7295e-03,\n",
       "                       1.6985e-03, -8.0442e-04, -8.1525e-04, -1.2392e-02, -5.4639e-03,\n",
       "                      -7.1190e-03, -8.5231e-03, -3.4615e-03, -1.0304e-03,  5.0859e-03,\n",
       "                       3.9394e-03, -3.4561e-03, -8.2654e-03, -9.7499e-03,  8.0560e-03,\n",
       "                       3.1324e-03, -1.8372e-03,  1.8257e-03, -1.3210e-02, -8.9910e-03,\n",
       "                       7.5054e-04,  1.0516e-02, -1.1388e-02,  1.7805e-02, -6.2209e-03,\n",
       "                      -1.3538e-02, -4.8640e-03, -3.3126e-03,  3.0397e-03, -2.9512e-03,\n",
       "                      -1.3048e-02, -7.1112e-04,  7.6526e-03,  1.0179e-02,  2.0707e-03,\n",
       "                      -1.2776e-02, -1.0497e-02,  3.6934e-03, -1.1240e-02, -1.8910e-03,\n",
       "                      -3.9566e-03, -1.5395e-03,  4.2273e-03, -1.0697e-02,  1.4569e-02,\n",
       "                       7.1058e-03,  6.1038e-03, -1.2224e-02,  8.9035e-04,  4.6397e-03,\n",
       "                       1.0330e-03,  6.9127e-03,  6.0995e-03, -8.2326e-03, -1.1103e-02,\n",
       "                      -1.4840e-02,  3.0422e-03, -2.7960e-03,  3.3641e-03,  3.6565e-03,\n",
       "                      -6.0627e-03, -1.5751e-02, -3.9490e-03,  5.2276e-03,  5.7809e-03,\n",
       "                       4.5116e-03,  1.0413e-03,  1.0210e-02,  4.2156e-04, -1.8239e-02,\n",
       "                       2.1652e-03,  9.5026e-03, -7.4099e-03], device='cuda:0')),\n",
       "             ('encoder.transformer.0.self_attn.out_proj.weight',\n",
       "              tensor([[-0.0084, -0.0217,  0.0084,  ..., -0.0889,  0.0441,  0.0488],\n",
       "                      [ 0.0740,  0.0150, -0.0629,  ..., -0.0139,  0.0359,  0.0305],\n",
       "                      [ 0.0400,  0.0524,  0.0349,  ..., -0.0242,  0.0801, -0.0078],\n",
       "                      ...,\n",
       "                      [-0.0990,  0.0606,  0.0353,  ..., -0.0306,  0.0922, -0.0268],\n",
       "                      [-0.0727, -0.0079,  0.0584,  ..., -0.0117, -0.0980, -0.0353],\n",
       "                      [-0.0342, -0.0014, -0.0543,  ..., -0.0616,  0.0807, -0.0239]],\n",
       "                     device='cuda:0')),\n",
       "             ('encoder.transformer.0.self_attn.out_proj.bias',\n",
       "              tensor([-3.3615e-05,  9.8415e-03,  1.0834e-02,  1.2695e-02,  9.9988e-03,\n",
       "                       7.6377e-03, -5.7227e-03,  2.3761e-02,  4.3410e-02, -2.4237e-02,\n",
       "                      -5.9822e-03, -1.9741e-02,  4.6911e-03,  2.6125e-03, -2.8742e-04,\n",
       "                       4.3126e-03,  2.0921e-03, -1.3542e-02,  8.8468e-03, -1.3923e-02,\n",
       "                       1.1871e-02, -7.9834e-05,  8.2697e-03, -1.5239e-02, -6.1237e-03,\n",
       "                       1.0932e-02, -2.6603e-03, -1.7474e-02,  8.0152e-03,  3.2060e-03,\n",
       "                       5.2625e-03, -1.4904e-02, -1.3852e-02,  8.7860e-04, -2.1928e-04,\n",
       "                      -8.8809e-03, -1.3774e-02, -1.0332e-02,  4.3020e-03,  1.0439e-02,\n",
       "                      -2.6273e-03, -6.2359e-03, -7.7533e-03,  5.8326e-03,  5.1958e-03,\n",
       "                       1.8536e-02,  1.2225e-02,  3.1111e-03,  1.6474e-03, -2.7920e-03,\n",
       "                       1.4556e-02, -6.7742e-03, -6.4663e-03, -1.1476e-02,  8.7730e-03,\n",
       "                      -2.0216e-02,  1.5030e-02,  3.1088e-03, -1.6829e-02,  3.7802e-03,\n",
       "                       1.8064e-02, -7.1944e-03,  7.5696e-03,  3.1068e-03,  2.4409e-02,\n",
       "                       1.2708e-02, -1.4653e-02, -8.3632e-03, -1.9030e-02,  3.0481e-03,\n",
       "                      -2.8771e-02, -3.6173e-03, -6.4801e-03, -2.0101e-02, -1.5150e-02,\n",
       "                      -2.2056e-02, -4.6353e-03, -1.5929e-02, -1.6192e-04,  1.1154e-03,\n",
       "                      -4.9951e-03,  2.4628e-02,  9.7810e-04, -8.9694e-03, -4.4513e-04,\n",
       "                      -1.1174e-02,  2.4410e-02, -3.5138e-02, -7.7340e-03,  9.6889e-04,\n",
       "                       1.6460e-02,  1.4048e-03, -4.9809e-03, -2.1690e-02,  5.2324e-03,\n",
       "                      -1.7365e-02], device='cuda:0')),\n",
       "             ('encoder.transformer.0.linear1.weight',\n",
       "              tensor([[-0.0878, -0.0648, -0.0813,  ...,  0.0235, -0.0179, -0.0623],\n",
       "                      [-0.0763, -0.0209,  0.0027,  ..., -0.0215, -0.0091, -0.0705],\n",
       "                      [-0.0887, -0.0698, -0.0810,  ..., -0.0477, -0.0443,  0.0257],\n",
       "                      ...,\n",
       "                      [-0.0007, -0.0044, -0.0650,  ..., -0.0338, -0.0759, -0.0373],\n",
       "                      [-0.0258,  0.0475,  0.0211,  ..., -0.0036, -0.0527,  0.0112],\n",
       "                      [-0.0938, -0.1289, -0.0223,  ..., -0.0365,  0.0497,  0.0279]],\n",
       "                     device='cuda:0')),\n",
       "             ('encoder.transformer.0.linear1.bias',\n",
       "              tensor([-0.1254, -0.0322, -0.0010,  0.0448, -0.0489, -0.0946,  0.0133, -0.0133,\n",
       "                       0.0389, -0.0224, -0.1188, -0.0790, -0.0251, -0.1086, -0.1099, -0.0707,\n",
       "                      -0.0855, -0.1531, -0.0902,  0.0021, -0.0480, -0.0764,  0.0070, -0.1372,\n",
       "                      -0.0475, -0.1636,  0.0103, -0.0445, -0.1371, -0.0155, -0.0535,  0.0427,\n",
       "                       0.0571, -0.0654, -0.0739,  0.0464,  0.0620,  0.0318, -0.0166, -0.0843,\n",
       "                      -0.0066, -0.0692, -0.0205, -0.0613, -0.1394, -0.0583, -0.1000, -0.1261,\n",
       "                       0.0393,  0.0108, -0.0081,  0.0096,  0.0950,  0.0508, -0.0292, -0.0929,\n",
       "                       0.0428, -0.0201, -0.1797, -0.1511,  0.0321,  0.0199, -0.0240, -0.0815,\n",
       "                       0.0359, -0.0420,  0.0100, -0.0289, -0.0967, -0.0265,  0.0767,  0.0344,\n",
       "                      -0.0447, -0.0651,  0.0715, -0.0142, -0.0335, -0.0274, -0.0683, -0.0464,\n",
       "                      -0.0970, -0.0358, -0.1389,  0.0444, -0.0518, -0.1297, -0.1237,  0.1029,\n",
       "                      -0.0391, -0.0286,  0.0753,  0.0131,  0.0197, -0.1290,  0.0091, -0.0554,\n",
       "                       0.0457, -0.0176, -0.1533, -0.1587, -0.0290, -0.0340,  0.0309,  0.0486,\n",
       "                      -0.0321, -0.0068, -0.0370, -0.1381, -0.0486, -0.0262, -0.0957,  0.0842,\n",
       "                      -0.1434, -0.0765, -0.0035,  0.0677, -0.0309, -0.0341, -0.0578, -0.1137,\n",
       "                      -0.0904, -0.0836, -0.0658,  0.0708,  0.0860,  0.0015, -0.1036, -0.0739],\n",
       "                     device='cuda:0')),\n",
       "             ('encoder.transformer.0.linear2.weight',\n",
       "              tensor([[-0.1144, -0.0551,  0.0054,  ...,  0.0340, -0.0585,  0.0475],\n",
       "                      [-0.0909, -0.0149,  0.0637,  ..., -0.0097,  0.0080, -0.0688],\n",
       "                      [-0.0221, -0.0922,  0.0778,  ...,  0.0662, -0.1049, -0.0601],\n",
       "                      ...,\n",
       "                      [-0.0965,  0.0329,  0.0364,  ..., -0.0844, -0.0272, -0.0467],\n",
       "                      [-0.0671,  0.0474, -0.0974,  ..., -0.0675, -0.0528, -0.0323],\n",
       "                      [-0.0524,  0.0215,  0.0730,  ...,  0.0438, -0.0794,  0.0470]],\n",
       "                     device='cuda:0')),\n",
       "             ('encoder.transformer.0.linear2.bias',\n",
       "              tensor([-0.0155,  0.0850,  0.0527,  0.0717,  0.0029,  0.0234,  0.0961,  0.0170,\n",
       "                      -0.0420,  0.0048, -0.0101,  0.0282, -0.0613, -0.0419, -0.0556, -0.0809,\n",
       "                       0.0434,  0.0984,  0.0572, -0.0671,  0.0272,  0.0519, -0.0509, -0.0354,\n",
       "                      -0.0305,  0.0779,  0.0093, -0.0987, -0.0654,  0.0008,  0.0474, -0.0988,\n",
       "                       0.0072,  0.0271,  0.0138,  0.0140, -0.0979, -0.0493,  0.0449,  0.0806,\n",
       "                      -0.0304,  0.0704,  0.0579,  0.0321,  0.0523,  0.0673, -0.0461,  0.0867,\n",
       "                      -0.0378,  0.0423, -0.0139,  0.0299, -0.0136,  0.0406,  0.0126, -0.0501,\n",
       "                      -0.0521,  0.0267,  0.0740,  0.0524, -0.0452, -0.0088, -0.0449,  0.0283,\n",
       "                      -0.0566, -0.0543,  0.0156, -0.0842,  0.0585, -0.0247,  0.0103,  0.0526,\n",
       "                       0.0159,  0.0629,  0.0189,  0.0383, -0.0332,  0.0143,  0.0467, -0.0845,\n",
       "                       0.0612,  0.0588,  0.0907,  0.0173, -0.0569, -0.0237,  0.0040, -0.0490,\n",
       "                       0.0380, -0.0944,  0.0296, -0.0120, -0.0860, -0.0801, -0.0645, -0.0879],\n",
       "                     device='cuda:0')),\n",
       "             ('encoder.transformer.0.norm1.weight',\n",
       "              tensor([0.9851, 1.0011, 1.0112, 0.9919, 0.9481, 0.9906, 1.0270, 0.9799, 0.9733,\n",
       "                      0.9466, 1.0049, 0.9704, 1.0036, 0.9910, 0.9662, 0.9734, 0.9752, 0.9684,\n",
       "                      1.0055, 0.9919, 0.9949, 0.9912, 1.0125, 1.0029, 0.9520, 0.9866, 1.0088,\n",
       "                      1.0137, 1.0041, 0.9939, 0.9648, 0.9917, 1.0069, 1.0029, 1.0114, 0.9923,\n",
       "                      1.0391, 1.0018, 1.0203, 0.9833, 0.9928, 0.9643, 0.9958, 0.9375, 0.9653,\n",
       "                      1.0038, 1.0058, 1.0508, 0.9580, 1.0533, 0.9757, 0.9637, 1.0005, 0.9867,\n",
       "                      0.9852, 0.9964, 0.9868, 0.9883, 1.0118, 1.0239, 1.0115, 0.9964, 1.0132,\n",
       "                      1.0114, 0.9899, 1.0212, 0.9920, 0.9907, 0.9856, 0.9729, 0.8977, 1.0180,\n",
       "                      0.9858, 0.9263, 0.9737, 0.9678, 1.0230, 0.9701, 1.0549, 0.9534, 1.0047,\n",
       "                      0.9917, 0.9742, 0.9396, 0.9845, 0.9554, 0.9846, 0.9896, 0.9695, 0.9977,\n",
       "                      0.9516, 0.9965, 1.0531, 1.0240, 0.9911, 0.9953], device='cuda:0')),\n",
       "             ('encoder.transformer.0.norm1.bias',\n",
       "              tensor([ 7.0938e-04,  1.1212e-02,  1.0939e-02,  6.7832e-03,  9.3212e-03,\n",
       "                       7.6989e-03,  2.7182e-04,  2.3930e-02,  3.4569e-02, -2.5020e-02,\n",
       "                      -1.4191e-03, -1.9020e-02,  9.6016e-03,  6.1254e-03,  2.6698e-03,\n",
       "                       2.6420e-03,  5.9407e-03, -1.2340e-02,  1.1166e-02, -1.5348e-02,\n",
       "                       1.0796e-02,  3.8521e-03,  7.8210e-03, -1.7743e-02, -9.3083e-03,\n",
       "                       1.0001e-02,  1.0338e-03, -1.6833e-02,  1.0426e-02,  5.4754e-03,\n",
       "                       3.0875e-03, -1.3490e-02, -1.4162e-02, -1.4409e-03,  4.1477e-04,\n",
       "                      -9.0030e-03, -6.0652e-03, -2.9335e-03,  2.7201e-03,  1.4826e-02,\n",
       "                      -1.0260e-03, -5.9586e-03, -6.7150e-03,  5.6718e-03,  9.2552e-03,\n",
       "                       1.6300e-02,  1.3431e-02,  5.9826e-03,  3.0942e-03,  2.8013e-03,\n",
       "                       1.4604e-02, -5.4518e-03, -6.1906e-03, -9.8692e-03,  1.1032e-02,\n",
       "                      -1.3061e-02,  1.4147e-02,  2.1123e-03, -1.7516e-02,  3.7762e-03,\n",
       "                       2.0128e-02,  8.5901e-04,  4.8232e-03,  3.0453e-03,  2.2178e-02,\n",
       "                       1.2243e-02, -9.8817e-03, -5.4110e-03, -1.7925e-02,  8.2351e-03,\n",
       "                      -2.1857e-02, -2.4905e-06, -4.2442e-03, -1.9528e-02, -9.8976e-03,\n",
       "                      -1.7952e-02,  2.0698e-04, -1.1605e-02,  6.0133e-03,  3.0818e-03,\n",
       "                      -5.5765e-03,  2.6193e-02,  5.9898e-03, -8.2116e-03,  1.0644e-03,\n",
       "                      -8.2957e-03,  2.4125e-02, -2.9211e-02, -1.0126e-02, -8.1246e-04,\n",
       "                       1.5364e-02,  8.0890e-03, -7.2627e-03, -2.1031e-02,  9.7034e-03,\n",
       "                      -1.8098e-02], device='cuda:0')),\n",
       "             ('encoder.transformer.0.norm2.weight',\n",
       "              tensor([0.9766, 0.9640, 0.9559, 0.9726, 0.9785, 0.9778, 1.0268, 0.9632, 0.9967,\n",
       "                      0.9702, 0.9855, 0.9897, 0.9947, 0.9908, 0.9600, 0.9770, 0.9593, 0.9733,\n",
       "                      0.9984, 1.0080, 0.9943, 0.9865, 1.0029, 0.9987, 0.9493, 1.0026, 1.0202,\n",
       "                      0.9940, 0.9965, 0.9960, 0.9627, 0.9931, 0.9935, 1.0016, 0.9828, 0.9555,\n",
       "                      1.0166, 0.9946, 1.0398, 0.9865, 1.0006, 0.9801, 0.9685, 0.9650, 0.9752,\n",
       "                      1.0153, 0.9960, 1.0312, 0.9702, 1.0546, 0.9944, 0.9796, 0.9959, 0.9959,\n",
       "                      1.0064, 1.0009, 0.9819, 0.9859, 1.0199, 0.9923, 1.0180, 1.0025, 1.0163,\n",
       "                      1.0156, 0.9505, 1.0097, 0.9964, 0.9767, 0.9696, 0.9578, 0.9530, 1.0159,\n",
       "                      0.9638, 0.9435, 0.9773, 0.9731, 1.0229, 0.9882, 1.0603, 0.9758, 0.9913,\n",
       "                      0.9944, 0.9817, 0.9441, 0.9751, 0.9429, 0.9666, 0.9969, 0.9600, 0.9876,\n",
       "                      0.9876, 1.0084, 1.0416, 1.0113, 0.9804, 0.9842], device='cuda:0')),\n",
       "             ('encoder.transformer.0.norm2.bias',\n",
       "              tensor([-7.3564e-03,  1.1086e-02, -1.4183e-02,  9.0269e-03, -1.4472e-02,\n",
       "                      -6.8390e-03,  1.0517e-02,  1.8122e-02,  2.3478e-02, -1.5224e-02,\n",
       "                       5.2141e-03, -5.8771e-03, -8.1449e-03,  7.3163e-03,  2.2716e-02,\n",
       "                      -2.5556e-02,  9.6130e-03,  1.2312e-02,  7.8347e-03, -9.5987e-03,\n",
       "                       6.3020e-03,  6.7803e-03, -6.2089e-04, -1.5492e-02, -7.3646e-03,\n",
       "                       2.3768e-03, -2.1156e-05, -1.8633e-02,  1.5461e-02,  9.2568e-03,\n",
       "                      -1.0730e-02, -1.6249e-02, -3.6689e-04, -2.0805e-02,  1.9508e-02,\n",
       "                       5.3133e-03, -1.1332e-02, -1.1361e-02, -2.7360e-02,  7.5387e-03,\n",
       "                       2.5084e-03,  1.1099e-02,  2.4130e-02, -1.8594e-02,  1.5951e-02,\n",
       "                      -2.9353e-03,  1.4653e-02, -4.6532e-04,  4.3080e-03,  1.2506e-02,\n",
       "                       6.4429e-03,  3.6206e-02, -5.2899e-03, -3.4538e-02,  3.4313e-02,\n",
       "                      -1.7231e-02,  1.2341e-02, -2.2355e-02, -9.9948e-03,  3.1084e-02,\n",
       "                       3.9608e-02, -2.1862e-02, -1.9137e-02, -7.6551e-03,  2.0779e-02,\n",
       "                       1.1269e-02, -7.1351e-03,  8.4111e-03, -2.1904e-02,  1.2445e-02,\n",
       "                      -1.8482e-03,  2.0691e-02,  1.1021e-02, -8.3765e-03, -1.1979e-03,\n",
       "                      -1.2853e-02,  8.1840e-03,  2.0281e-03,  1.7290e-02, -2.4797e-02,\n",
       "                      -3.2412e-03,  3.1281e-02,  3.4266e-02,  6.3520e-03,  3.6568e-03,\n",
       "                      -3.2748e-02,  3.7735e-02, -3.3400e-02,  1.1665e-02, -1.2444e-02,\n",
       "                       1.5656e-02,  2.2675e-02, -1.3184e-02, -4.5073e-02,  5.7967e-03,\n",
       "                      -1.7066e-02], device='cuda:0')),\n",
       "             ('encoder.transformer.1.self_attn.in_proj_weight',\n",
       "              tensor([[ 0.0359, -0.0303,  0.0543,  ...,  0.0192,  0.0050, -0.0038],\n",
       "                      [ 0.0332,  0.0057,  0.0820,  ..., -0.0082,  0.0485, -0.0889],\n",
       "                      [ 0.0126, -0.0800,  0.0065,  ..., -0.0508,  0.0426,  0.0062],\n",
       "                      ...,\n",
       "                      [ 0.0429, -0.0672,  0.0232,  ...,  0.0042,  0.0552, -0.0504],\n",
       "                      [-0.1058,  0.0605,  0.0560,  ...,  0.0822, -0.0444,  0.1189],\n",
       "                      [ 0.1030, -0.0461, -0.0126,  ...,  0.0928,  0.0538,  0.0619]],\n",
       "                     device='cuda:0')),\n",
       "             ('encoder.transformer.1.self_attn.in_proj_bias',\n",
       "              tensor([-8.5036e-03, -8.7594e-04, -1.2590e-02, -1.4641e-02,  1.3568e-02,\n",
       "                      -3.0895e-02, -4.0509e-03, -4.5662e-03, -5.7750e-04,  1.7404e-02,\n",
       "                       3.5393e-02, -8.7135e-03, -1.0916e-02, -1.4981e-02,  2.5572e-02,\n",
       "                      -7.3094e-03, -2.2725e-02, -2.5863e-03,  8.6820e-03,  4.2134e-03,\n",
       "                       6.9989e-04,  1.9521e-02,  7.3813e-03, -1.7828e-02, -1.2553e-02,\n",
       "                       1.4815e-02,  2.9663e-02, -1.3679e-02, -1.6856e-02,  1.5989e-02,\n",
       "                      -2.6139e-03, -3.0542e-02,  1.2537e-02,  1.5163e-02, -2.5391e-02,\n",
       "                      -9.9672e-03,  2.0596e-03,  2.2818e-02,  8.1961e-04,  4.9432e-02,\n",
       "                       1.4449e-02,  1.4327e-03, -2.0115e-02, -9.5213e-03, -6.7231e-03,\n",
       "                      -2.0424e-04, -3.6547e-02, -1.5355e-02, -2.2035e-02,  1.1858e-02,\n",
       "                      -1.9959e-02, -6.5401e-03,  1.7892e-03,  8.2995e-03, -7.5142e-03,\n",
       "                      -2.3353e-02,  8.6089e-03,  1.5688e-02,  3.9356e-03, -2.3693e-02,\n",
       "                       1.3058e-02,  1.5693e-02,  4.4674e-02,  3.1460e-02, -2.8276e-02,\n",
       "                       9.7257e-03, -7.1826e-03,  9.6512e-03, -2.8395e-02,  1.0711e-02,\n",
       "                      -1.6135e-02, -2.5559e-02, -1.3904e-02,  1.9552e-02, -1.7778e-02,\n",
       "                       1.8687e-02, -2.1628e-02,  1.1627e-02,  1.0013e-02,  3.1235e-04,\n",
       "                      -9.1884e-03, -2.0288e-02,  2.0567e-02, -6.5378e-04, -2.5761e-02,\n",
       "                      -1.6852e-02, -1.2079e-02,  9.3685e-03,  3.1144e-02, -1.4399e-02,\n",
       "                       2.7720e-02,  2.2451e-02, -3.3601e-02, -3.3051e-03, -2.4316e-02,\n",
       "                       3.5994e-02,  1.0234e-03,  2.4938e-02, -4.4925e-02, -7.5439e-03,\n",
       "                      -1.9346e-02, -2.8642e-02,  8.5858e-03, -1.8671e-03, -4.9192e-02,\n",
       "                      -1.1581e-02, -3.9912e-02,  3.0948e-02, -2.7418e-02,  9.0281e-03,\n",
       "                       1.3900e-02,  4.6583e-03, -1.1973e-02,  1.8731e-03, -7.6772e-03,\n",
       "                       1.0946e-02,  3.4231e-02, -2.7329e-03,  3.1019e-02, -1.5877e-03,\n",
       "                      -2.3504e-02, -1.8764e-02,  2.1877e-02,  1.4051e-02,  2.9437e-02,\n",
       "                      -4.2635e-02, -5.1069e-02,  1.9879e-02,  1.8869e-02,  1.4547e-01,\n",
       "                      -7.6674e-02, -7.8536e-02, -8.8624e-03,  1.2356e-01, -3.5718e-02,\n",
       "                       1.0424e-01, -6.0998e-03,  6.6030e-02, -5.8524e-02, -9.2782e-02,\n",
       "                       7.0100e-02,  3.0119e-02,  1.2026e-01,  1.8475e-02, -1.1570e-01,\n",
       "                      -6.0860e-02,  1.0430e-01, -1.7720e-01, -2.8719e-03, -2.3218e-02,\n",
       "                       7.2219e-02, -3.8494e-02, -1.1803e-02,  6.4470e-02,  1.3179e-01,\n",
       "                      -1.1808e-01,  8.4708e-02, -2.2710e-02, -7.9221e-02, -1.7287e-03,\n",
       "                       2.1039e-03, -1.8704e-02,  5.8385e-02, -2.6881e-02,  8.3494e-03,\n",
       "                       2.8767e-02, -2.1729e-03,  4.8176e-02,  3.6084e-02, -2.0892e-02,\n",
       "                      -2.4155e-04,  2.3234e-02,  2.9812e-02,  1.9465e-03,  1.9924e-03,\n",
       "                      -1.5067e-02, -2.5259e-02,  3.2480e-02,  2.3503e-02,  3.9334e-02,\n",
       "                      -5.7840e-03,  4.3319e-02,  3.2750e-02,  3.2810e-02, -1.6821e-02,\n",
       "                       5.8245e-02, -3.4263e-02, -4.9786e-03,  4.3601e-02, -5.9459e-03,\n",
       "                      -1.2399e-02, -5.7095e-03,  5.4787e-03, -1.3304e-02, -4.2934e-03,\n",
       "                      -8.8840e-03, -5.6292e-03, -1.7826e-02, -2.4210e-03,  1.5640e-03,\n",
       "                      -5.8139e-03,  1.2063e-02, -2.2452e-02, -5.8995e-03, -5.0228e-04,\n",
       "                      -1.0929e-02,  4.8291e-03,  1.5209e-03, -8.7038e-03,  6.5380e-03,\n",
       "                       5.6457e-04,  5.5124e-03,  5.8033e-03,  3.7989e-03, -7.5852e-03,\n",
       "                       2.1118e-03,  1.0981e-02, -1.7602e-02, -1.0683e-03, -8.2550e-03,\n",
       "                       1.0909e-02, -2.8864e-04, -8.5093e-03,  1.3354e-02,  1.1709e-02,\n",
       "                      -1.6595e-02,  2.2146e-03,  9.7520e-04,  2.4452e-04, -1.3574e-02,\n",
       "                       1.9569e-03,  1.4077e-04, -6.8872e-04, -6.5712e-04,  9.3798e-03,\n",
       "                       1.1593e-02,  1.0619e-03,  6.0854e-04, -1.4606e-03, -9.4289e-04,\n",
       "                       2.7114e-03, -1.3257e-02,  1.4679e-03, -2.1550e-03,  5.7345e-03,\n",
       "                       1.5424e-02,  3.7847e-03, -1.2683e-03,  2.0111e-03,  4.6746e-03,\n",
       "                      -1.2271e-03,  6.6546e-04,  1.4182e-02, -1.0445e-02,  1.4025e-04,\n",
       "                      -1.3828e-02, -8.1984e-03,  1.0580e-02,  3.4188e-03,  8.5707e-03,\n",
       "                       5.3152e-03, -6.1870e-03,  9.3492e-03, -3.4911e-03,  5.3339e-03,\n",
       "                      -8.7419e-04,  1.0321e-03, -1.3317e-02, -5.2266e-03,  1.8991e-02,\n",
       "                      -2.2100e-04,  1.6402e-03,  4.1407e-03,  1.6398e-03,  1.3571e-02,\n",
       "                       7.6301e-03,  4.8401e-03, -8.6006e-03,  6.7758e-03,  4.7672e-03,\n",
       "                      -1.2317e-02,  1.5975e-04,  7.0326e-03, -6.2904e-03,  6.0594e-04,\n",
       "                       2.8198e-03, -2.4499e-03,  3.3663e-03], device='cuda:0')),\n",
       "             ('encoder.transformer.1.self_attn.out_proj.weight',\n",
       "              tensor([[ 0.0950,  0.0026, -0.0634,  ...,  0.0088,  0.0576,  0.0375],\n",
       "                      [ 0.0806, -0.0508,  0.0116,  ...,  0.0013, -0.0128,  0.0497],\n",
       "                      [-0.0865, -0.0091, -0.0453,  ...,  0.0455,  0.0020, -0.0120],\n",
       "                      ...,\n",
       "                      [ 0.0970, -0.1044, -0.0531,  ..., -0.0515,  0.0959, -0.0583],\n",
       "                      [ 0.0121,  0.0056, -0.0318,  ...,  0.0944, -0.0497, -0.0618],\n",
       "                      [ 0.0384, -0.0467, -0.0073,  ..., -0.0436, -0.0928, -0.0734]],\n",
       "                     device='cuda:0')),\n",
       "             ('encoder.transformer.1.self_attn.out_proj.bias',\n",
       "              tensor([-7.5155e-04,  2.1183e-02, -1.0996e-02,  1.6330e-02, -1.0091e-02,\n",
       "                      -1.2079e-03,  2.0962e-02, -4.0136e-04,  1.1616e-02, -3.3063e-03,\n",
       "                       1.2123e-02,  6.5316e-03, -2.0154e-02, -3.2714e-03,  1.0554e-02,\n",
       "                      -8.6896e-03, -1.2031e-03,  1.0505e-02,  1.1412e-03,  2.1051e-03,\n",
       "                      -4.8203e-03, -3.5833e-04, -4.1786e-03, -9.7761e-03,  9.0129e-03,\n",
       "                       1.2269e-02, -2.2865e-03, -4.0503e-03,  6.0573e-03,  3.4203e-03,\n",
       "                       2.7468e-03, -2.2931e-02,  1.4089e-02, -8.4143e-03,  5.6115e-03,\n",
       "                       1.6970e-02, -2.2710e-02, -1.6734e-02, -2.3126e-02, -2.9896e-03,\n",
       "                       4.3232e-05,  2.1004e-02,  1.1809e-02, -2.4532e-02,  2.7446e-03,\n",
       "                      -8.3615e-03,  2.5310e-03,  4.2631e-03,  1.6475e-02, -5.2310e-03,\n",
       "                      -4.0432e-03,  2.4079e-02,  8.7213e-03, -3.5545e-02,  2.3738e-02,\n",
       "                      -1.7964e-02,  1.5056e-03, -1.0890e-02,  1.5590e-03,  2.6562e-02,\n",
       "                       2.4437e-02, -3.0200e-02, -1.5792e-02, -1.7647e-02,  7.7979e-03,\n",
       "                       6.5885e-04,  3.5422e-03, -2.2336e-03, -7.9083e-03,  1.0150e-03,\n",
       "                      -3.7653e-03,  1.1570e-02, -7.0673e-03,  4.9200e-03, -1.1143e-02,\n",
       "                      -5.9362e-03,  6.6307e-03,  5.2448e-03,  9.5771e-03, -2.8516e-02,\n",
       "                       8.5020e-03,  2.5054e-02,  2.1927e-02,  1.7802e-02,  1.1752e-02,\n",
       "                      -2.8327e-02,  2.4779e-02, -2.2560e-02,  2.8106e-02, -1.8519e-02,\n",
       "                       1.8740e-02,  1.1213e-02, -5.7768e-03, -3.8432e-02,  5.4396e-03,\n",
       "                      -5.0180e-03], device='cuda:0')),\n",
       "             ('encoder.transformer.1.linear1.weight',\n",
       "              tensor([[-0.0627, -0.0739,  0.0799,  ...,  0.0801, -0.0293, -0.0583],\n",
       "                      [-0.0315,  0.0424, -0.0969,  ...,  0.0567,  0.0977,  0.0597],\n",
       "                      [-0.0186, -0.0164,  0.0103,  ..., -0.0683, -0.0276,  0.0461],\n",
       "                      ...,\n",
       "                      [ 0.0201, -0.0229,  0.0500,  ...,  0.1112,  0.0531, -0.0824],\n",
       "                      [-0.0542,  0.0427,  0.0604,  ...,  0.0094, -0.0312, -0.0572],\n",
       "                      [-0.0361,  0.0327,  0.1005,  ...,  0.0068, -0.0802, -0.0198]],\n",
       "                     device='cuda:0')),\n",
       "             ('encoder.transformer.1.linear1.bias',\n",
       "              tensor([ 3.5102e-02, -1.2070e-01, -1.9482e-02, -5.6474e-02,  3.8225e-02,\n",
       "                       7.4867e-02,  6.5105e-02, -1.0019e-01, -8.1839e-02, -4.0623e-03,\n",
       "                       2.1335e-02,  6.8803e-02, -1.3962e-02, -6.9778e-03, -1.0745e-02,\n",
       "                       2.4815e-02, -7.2726e-03,  3.2659e-02, -3.1561e-02, -7.1019e-02,\n",
       "                      -4.2539e-02,  3.8449e-03, -2.8158e-02,  3.5449e-02, -8.7600e-03,\n",
       "                       1.1275e-01, -2.5665e-02,  6.1014e-02, -1.2639e-01,  7.4036e-02,\n",
       "                      -9.3527e-02, -7.5984e-02,  1.2628e-02, -1.2639e-01, -4.3945e-02,\n",
       "                      -1.1763e-01, -4.0723e-02,  2.1154e-02, -6.7650e-02,  1.0115e-02,\n",
       "                      -8.3742e-02,  8.1018e-02, -8.2334e-02, -6.5679e-03, -5.1311e-05,\n",
       "                       8.0265e-02,  5.4990e-02, -1.2434e-02, -3.0931e-02, -1.0618e-01,\n",
       "                       6.4214e-02,  1.5290e-02, -7.3703e-02, -3.8327e-02, -1.3281e-02,\n",
       "                       2.8839e-03, -7.8887e-02, -1.9982e-02,  3.3927e-02, -5.3295e-02,\n",
       "                       6.8806e-02,  2.9960e-02,  7.9721e-02, -3.6410e-02, -9.9288e-02,\n",
       "                      -7.9470e-02, -1.9165e-02, -7.9113e-02,  1.5783e-02, -9.6570e-02,\n",
       "                       1.0074e-01, -1.9275e-02, -7.6221e-02, -1.2420e-01, -1.3026e-01,\n",
       "                      -8.1474e-03,  8.0372e-02, -6.2608e-02, -4.6163e-02, -2.1619e-02,\n",
       "                      -6.3314e-02, -6.9663e-02,  5.5643e-03,  2.6301e-02, -4.4715e-03,\n",
       "                      -8.1000e-02, -9.8361e-02, -6.2109e-02, -4.1197e-02,  7.5597e-02,\n",
       "                      -1.1957e-01, -1.1122e-02, -1.3090e-01,  6.1751e-02, -2.5069e-02,\n",
       "                       4.5237e-02,  8.4543e-02, -1.0392e-01,  3.3348e-02, -1.1257e-02,\n",
       "                       5.4492e-02, -8.1146e-02,  8.7010e-02,  2.7863e-02, -7.6501e-02,\n",
       "                      -1.2399e-01,  1.5266e-02, -1.1521e-01, -1.1338e-01,  5.6571e-02,\n",
       "                       9.5709e-02,  3.0759e-02,  9.3323e-02, -1.0858e-01, -4.5471e-02,\n",
       "                       3.5804e-02, -6.3192e-03, -8.1744e-02, -1.4465e-01,  3.0474e-02,\n",
       "                      -9.8352e-02, -7.2205e-03, -7.3646e-02, -7.2028e-02,  6.2744e-02,\n",
       "                      -1.5370e-01,  1.0570e-01,  2.3701e-02], device='cuda:0')),\n",
       "             ('encoder.transformer.1.linear2.weight',\n",
       "              tensor([[ 0.0381, -0.0271,  0.0677,  ...,  0.0102, -0.1006,  0.0034],\n",
       "                      [ 0.0966,  0.0026,  0.0947,  ..., -0.0169, -0.0605, -0.0957],\n",
       "                      [ 0.0231, -0.0348, -0.0146,  ..., -0.0882, -0.1014, -0.1031],\n",
       "                      ...,\n",
       "                      [-0.0589,  0.0834, -0.0148,  ...,  0.0558, -0.0391,  0.0452],\n",
       "                      [-0.0759, -0.0336,  0.0653,  ..., -0.0525, -0.0068, -0.0245],\n",
       "                      [ 0.0340, -0.0726,  0.0228,  ..., -0.0787,  0.0111,  0.0383]],\n",
       "                     device='cuda:0')),\n",
       "             ('encoder.transformer.1.linear2.bias',\n",
       "              tensor([-0.0626, -0.0061, -0.0899,  0.0082, -0.0612, -0.0254, -0.0424, -0.0588,\n",
       "                       0.0615, -0.0439, -0.0390,  0.0414, -0.1076,  0.0600, -0.0324,  0.0622,\n",
       "                       0.0507,  0.0043,  0.0462, -0.0705, -0.0051, -0.0619,  0.0589,  0.0388,\n",
       "                       0.0284, -0.0322, -0.0740,  0.0816, -0.0545,  0.0733,  0.0654, -0.0487,\n",
       "                       0.0992, -0.0701,  0.0057, -0.0188, -0.0406,  0.0115, -0.0025,  0.0632,\n",
       "                      -0.0645,  0.1075, -0.0202, -0.0951, -0.0581,  0.0395, -0.0045,  0.0254,\n",
       "                       0.0563, -0.0587, -0.0171,  0.0501, -0.0169, -0.0516,  0.0521, -0.0982,\n",
       "                      -0.0864, -0.0430, -0.0294, -0.0060,  0.1092, -0.0234, -0.0371,  0.0369,\n",
       "                       0.0329,  0.0159, -0.0611,  0.0159, -0.0387, -0.0249, -0.0263,  0.0400,\n",
       "                       0.0255,  0.0938,  0.0339,  0.0019, -0.0712, -0.0228,  0.0888, -0.0065,\n",
       "                      -0.0018,  0.0152,  0.0139,  0.1021, -0.0519, -0.0953,  0.0391,  0.0207,\n",
       "                       0.1299, -0.0517,  0.0623,  0.0701,  0.0670,  0.0382,  0.0313,  0.0452],\n",
       "                     device='cuda:0')),\n",
       "             ('encoder.transformer.1.norm1.weight',\n",
       "              tensor([0.9811, 0.9872, 0.9649, 0.9722, 0.9772, 0.9759, 1.0244, 0.9614, 0.9958,\n",
       "                      0.9812, 0.9874, 0.9968, 1.0018, 0.9922, 0.9661, 0.9779, 0.9611, 0.9647,\n",
       "                      0.9967, 1.0092, 0.9966, 0.9892, 1.0014, 0.9972, 0.9581, 1.0059, 1.0221,\n",
       "                      0.9894, 0.9980, 0.9956, 0.9700, 0.9935, 0.9987, 1.0072, 0.9853, 0.9816,\n",
       "                      1.0256, 0.9922, 1.0331, 0.9889, 0.9941, 0.9890, 0.9698, 0.9708, 0.9764,\n",
       "                      1.0149, 0.9954, 1.0036, 0.9721, 1.0706, 0.9953, 0.9814, 0.9926, 0.9976,\n",
       "                      1.0061, 1.0007, 0.9867, 0.9904, 1.0214, 0.9929, 1.0134, 1.0071, 1.0206,\n",
       "                      1.0184, 0.9601, 0.9999, 1.0018, 0.9807, 0.9714, 0.9670, 0.9525, 1.0108,\n",
       "                      0.9792, 0.9485, 0.9754, 0.9768, 1.0068, 0.9878, 1.0503, 0.9979, 0.9923,\n",
       "                      0.9940, 0.9860, 0.9514, 0.9784, 0.9479, 0.9695, 0.9956, 0.9719, 0.9838,\n",
       "                      0.9895, 1.0072, 1.0445, 1.0145, 0.9847, 0.9903], device='cuda:0')),\n",
       "             ('encoder.transformer.1.norm1.bias',\n",
       "              tensor([-1.6462e-03,  1.9492e-02, -1.1699e-02,  1.4920e-02, -8.2371e-03,\n",
       "                      -2.9145e-03,  1.8062e-02,  5.9157e-04,  1.2452e-02, -4.1519e-03,\n",
       "                       9.3108e-03,  5.6727e-03, -1.7745e-02, -4.6522e-03,  1.3321e-02,\n",
       "                      -7.3342e-03, -9.9554e-05,  1.2129e-02,  4.7919e-04,  2.9021e-03,\n",
       "                      -1.2061e-03,  5.6037e-04, -6.6253e-03, -7.6263e-03,  1.0271e-02,\n",
       "                       1.0670e-02, -3.9061e-03, -1.0410e-03,  8.6295e-03,  6.1566e-03,\n",
       "                       5.5988e-04, -1.9603e-02,  1.3812e-02, -7.2827e-03,  7.2163e-03,\n",
       "                       1.7282e-02, -2.2138e-02, -1.5360e-02, -2.0314e-02, -1.7722e-04,\n",
       "                      -2.5121e-03,  1.8379e-02,  1.0114e-02, -2.2975e-02,  2.2817e-03,\n",
       "                      -4.5137e-03,  1.2528e-03,  2.6358e-03,  1.7233e-02, -9.9361e-03,\n",
       "                      -1.4641e-03,  2.1886e-02,  1.0626e-02, -3.1844e-02,  2.0844e-02,\n",
       "                      -1.9427e-02,  5.2722e-04, -1.0970e-02,  2.9793e-03,  2.7704e-02,\n",
       "                       2.1571e-02, -2.9129e-02, -1.2738e-02, -1.5246e-02,  6.4251e-03,\n",
       "                      -1.7686e-04,  2.0728e-03, -1.8347e-03, -6.3956e-03,  1.9222e-04,\n",
       "                      -2.6261e-03,  9.4951e-03, -6.6061e-03,  5.6667e-03, -7.0321e-03,\n",
       "                      -4.3316e-03,  4.6021e-03,  4.0086e-03,  7.1919e-03, -2.5011e-02,\n",
       "                       8.5573e-03,  2.4141e-02,  1.9291e-02,  1.5987e-02,  1.1099e-02,\n",
       "                      -2.7230e-02,  2.3074e-02, -1.9401e-02,  2.6176e-02, -1.6138e-02,\n",
       "                       1.9352e-02,  8.7391e-03, -3.1573e-03, -3.4796e-02,  4.2374e-03,\n",
       "                      -3.0487e-03], device='cuda:0')),\n",
       "             ('encoder.transformer.1.norm2.weight',\n",
       "              tensor([0.9950, 0.9818, 0.9787, 0.9742, 0.9823, 0.9079, 1.0272, 0.9515, 0.9905,\n",
       "                      0.9868, 0.9670, 1.0113, 1.0111, 0.9494, 0.9952, 0.9856, 0.9774, 0.9969,\n",
       "                      0.9961, 0.9896, 0.9868, 0.9708, 0.9783, 0.9781, 0.9570, 1.0002, 1.0136,\n",
       "                      0.9747, 0.9778, 0.9937, 0.9566, 0.9821, 0.9946, 1.0059, 0.9822, 0.9890,\n",
       "                      1.0116, 1.0008, 1.0361, 0.9816, 0.9732, 0.9971, 0.9609, 0.9839, 0.9612,\n",
       "                      1.0067, 0.9665, 1.0028, 0.9821, 1.0693, 1.0036, 0.9838, 0.9640, 0.9917,\n",
       "                      1.0032, 0.9847, 0.9933, 1.0016, 1.0170, 0.9863, 1.0132, 1.0037, 1.0355,\n",
       "                      1.0229, 0.9477, 0.9886, 1.0000, 0.9882, 0.9754, 0.9562, 0.9780, 0.9932,\n",
       "                      0.9868, 0.9693, 0.9577, 0.9858, 1.0138, 1.0011, 1.0163, 1.0009, 0.9997,\n",
       "                      0.9905, 0.9770, 0.9672, 0.9837, 0.9855, 0.9756, 0.9954, 0.9855, 0.9798,\n",
       "                      0.9922, 1.0027, 1.0344, 1.0129, 0.9821, 0.9801], device='cuda:0')),\n",
       "             ('encoder.transformer.1.norm2.bias',\n",
       "              tensor([ 0.0012,  0.0176, -0.0132,  0.0140, -0.0102, -0.0071,  0.0057,  0.0065,\n",
       "                      -0.0016, -0.0164,  0.0161,  0.0023, -0.0193, -0.0018,  0.0083, -0.0173,\n",
       "                       0.0140,  0.0077, -0.0003, -0.0004, -0.0064,  0.0072, -0.0133, -0.0158,\n",
       "                       0.0097,  0.0129,  0.0002, -0.0060,  0.0035,  0.0012, -0.0191, -0.0091,\n",
       "                       0.0143, -0.0070,  0.0153,  0.0166, -0.0195, -0.0158, -0.0175, -0.0013,\n",
       "                      -0.0021,  0.0201,  0.0263, -0.0138,  0.0059, -0.0105,  0.0034, -0.0056,\n",
       "                       0.0097,  0.0068,  0.0104,  0.0269,  0.0085, -0.0352,  0.0186, -0.0374,\n",
       "                      -0.0104, -0.0235,  0.0036,  0.0153,  0.0312, -0.0289, -0.0126, -0.0140,\n",
       "                       0.0013,  0.0017, -0.0026, -0.0054, -0.0182,  0.0090,  0.0010,  0.0139,\n",
       "                      -0.0028,  0.0033, -0.0125, -0.0036,  0.0045,  0.0093,  0.0187, -0.0289,\n",
       "                       0.0030,  0.0411,  0.0241,  0.0162, -0.0004, -0.0251,  0.0126, -0.0197,\n",
       "                       0.0255, -0.0101,  0.0091,  0.0075, -0.0122, -0.0334,  0.0135, -0.0176],\n",
       "                     device='cuda:0')),\n",
       "             ('encoder.transformer.2.self_attn.in_proj_weight',\n",
       "              tensor([[-0.1185,  0.0479, -0.1223,  ...,  0.0645, -0.0255,  0.0218],\n",
       "                      [-0.0463,  0.0712, -0.0907,  ..., -0.0917,  0.0655, -0.0769],\n",
       "                      [ 0.0390,  0.0915, -0.0692,  ..., -0.1033, -0.1028, -0.0130],\n",
       "                      ...,\n",
       "                      [-0.0108,  0.0941, -0.0266,  ..., -0.0253,  0.0538, -0.0344],\n",
       "                      [-0.0627,  0.0025,  0.1289,  ...,  0.0965, -0.0923, -0.0456],\n",
       "                      [-0.1273, -0.0545, -0.1005,  ...,  0.0130,  0.0342,  0.0130]],\n",
       "                     device='cuda:0')),\n",
       "             ('encoder.transformer.2.self_attn.in_proj_bias',\n",
       "              tensor([ 1.2072e-02, -1.7442e-03,  6.3206e-03, -2.7359e-02, -2.5112e-02,\n",
       "                      -2.1921e-02, -1.6456e-02, -1.0548e-02,  3.9965e-02,  1.9336e-02,\n",
       "                      -7.7593e-03, -7.6989e-03, -3.8231e-02, -3.4450e-02, -1.6100e-02,\n",
       "                       2.2257e-03, -1.3407e-02, -3.1474e-02,  6.7903e-03, -6.8419e-04,\n",
       "                       1.9198e-02, -1.1129e-02,  3.6018e-02, -4.5180e-03, -1.4258e-02,\n",
       "                      -7.1133e-03, -3.0245e-02,  1.2225e-02,  1.4275e-03, -1.3281e-02,\n",
       "                      -2.8411e-02, -8.0549e-03,  2.6548e-02,  8.6941e-03,  1.4940e-02,\n",
       "                      -2.3342e-02, -1.2639e-02,  3.8425e-02, -4.2241e-03,  5.1019e-02,\n",
       "                      -3.1874e-02, -2.8012e-02,  2.8254e-02,  2.4539e-02,  7.4516e-03,\n",
       "                      -8.5852e-03, -3.7305e-02, -1.4915e-02, -1.6786e-02, -3.4656e-02,\n",
       "                       4.0665e-03,  3.0657e-02, -4.2959e-02,  8.2434e-03,  3.1949e-02,\n",
       "                       6.2775e-03, -4.0005e-02,  1.3318e-02,  2.6092e-02, -3.4683e-03,\n",
       "                      -3.8018e-02, -3.8582e-02, -1.0673e-03, -1.9440e-02,  1.1261e-02,\n",
       "                      -1.2830e-02,  2.5174e-02, -6.1446e-03,  1.5333e-02, -1.0494e-03,\n",
       "                       3.6656e-03, -2.0997e-02, -2.3515e-02, -4.1325e-03,  2.7837e-02,\n",
       "                      -6.4669e-03,  2.5702e-02, -1.0653e-02,  8.0868e-03, -7.6420e-03,\n",
       "                       1.0543e-02, -2.6936e-02,  1.2462e-02,  3.2538e-02, -5.7427e-03,\n",
       "                       5.5242e-03, -1.0816e-03, -5.3036e-04, -7.8440e-03,  5.4580e-02,\n",
       "                      -7.2928e-03,  7.0106e-03, -2.2736e-02,  1.7482e-02,  3.3209e-02,\n",
       "                      -1.0219e-02,  2.6102e-02,  1.5609e-02,  9.8901e-03,  3.6004e-02,\n",
       "                      -4.2109e-02,  2.6469e-02,  5.6784e-02,  4.5056e-02, -1.7965e-02,\n",
       "                       2.6009e-03,  2.7304e-02, -1.9350e-02, -1.7096e-02,  1.2197e-02,\n",
       "                      -1.1111e-02, -3.3799e-02, -3.2093e-02,  5.1063e-02,  9.7210e-02,\n",
       "                      -6.2277e-03,  1.0874e-02, -5.2432e-02, -1.3601e-02,  2.6840e-02,\n",
       "                      -1.5694e-02, -1.7981e-02, -2.7616e-02,  4.7337e-03, -2.9682e-02,\n",
       "                      -8.4457e-02,  2.9319e-02,  4.3169e-02,  2.7772e-01, -1.1129e-01,\n",
       "                       5.6918e-02, -4.3360e-01, -3.4467e-01,  1.6034e-01, -6.9085e-02,\n",
       "                       2.7829e-01, -3.6860e-01, -1.3165e-01,  1.5845e-01,  2.2037e-01,\n",
       "                      -1.9641e-01, -1.5120e-02, -1.9246e-01, -3.2116e-01, -3.4986e-01,\n",
       "                      -3.2804e-01,  2.9149e-01,  3.2843e-01, -2.0177e-01,  2.5697e-01,\n",
       "                       1.2138e-01,  2.8312e-01, -3.3904e-01,  5.2973e-02,  2.0843e-01,\n",
       "                      -1.3349e-01, -2.8511e-01, -1.5215e-01,  5.1216e-02, -3.3118e-01,\n",
       "                      -1.1141e-02, -5.1701e-02, -4.9031e-02, -4.9267e-03,  1.6861e-03,\n",
       "                       8.5911e-02, -3.4343e-03,  7.9718e-02,  7.2994e-02, -5.5108e-02,\n",
       "                      -7.9227e-03,  5.3465e-02,  4.7257e-02,  3.3084e-02, -6.2527e-02,\n",
       "                       1.2399e-01,  7.6577e-02,  1.9666e-02, -8.4154e-02,  5.0239e-02,\n",
       "                       3.3455e-02, -3.3813e-02, -5.4818e-02, -1.9693e-03, -2.2766e-02,\n",
       "                      -3.1552e-02,  3.8823e-02, -3.2551e-02, -2.1232e-02,  3.9034e-02,\n",
       "                      -4.1760e-02, -1.5901e-02,  3.5675e-03, -1.0086e-02,  1.8451e-03,\n",
       "                      -4.6716e-04,  2.0601e-02,  8.8820e-03,  9.2038e-03, -4.8055e-03,\n",
       "                       5.4952e-04, -1.2735e-02,  3.5327e-04, -6.6320e-03, -1.2332e-02,\n",
       "                       1.5497e-02,  1.5510e-02, -6.5112e-03,  2.8596e-03, -1.1257e-02,\n",
       "                       9.1257e-03,  1.4138e-03, -9.9545e-03,  3.3822e-03, -6.2031e-03,\n",
       "                      -4.6684e-03, -8.9723e-03, -8.2474e-05,  3.1287e-03, -1.2174e-02,\n",
       "                      -2.6333e-03, -1.5544e-03,  1.2873e-02, -4.1643e-03,  6.6251e-03,\n",
       "                       1.5651e-02,  1.8767e-03,  8.8440e-04,  1.0147e-02,  6.6377e-03,\n",
       "                       1.0059e-02,  1.5985e-02,  1.9583e-02,  8.3470e-03,  8.3368e-03,\n",
       "                       8.4496e-03,  8.7461e-03, -7.5613e-03, -3.8123e-03,  3.5502e-03,\n",
       "                      -6.0702e-03,  6.5695e-03,  4.8860e-03,  4.3246e-03, -8.8511e-03,\n",
       "                      -1.9017e-02,  2.0171e-03, -4.1071e-03,  5.8108e-03, -1.0396e-02,\n",
       "                       7.6689e-03,  4.4024e-03, -1.3218e-02, -8.7345e-03, -3.4903e-03,\n",
       "                       5.8993e-03, -7.1066e-03,  6.4725e-03,  6.6266e-04,  8.0028e-03,\n",
       "                       1.5886e-02,  5.1554e-03,  2.2943e-03, -6.3962e-03,  8.1505e-03,\n",
       "                      -1.7343e-03,  7.9541e-05,  4.8558e-03, -1.0831e-03,  5.7859e-03,\n",
       "                       1.4040e-02,  4.7243e-03,  1.8036e-04, -2.6805e-03,  1.1813e-02,\n",
       "                      -1.1431e-02,  2.5325e-03, -2.2321e-02, -8.5455e-03, -7.2967e-03,\n",
       "                       7.7855e-03, -5.1181e-03, -1.4662e-02,  5.6268e-03,  6.9586e-03,\n",
       "                      -1.2464e-02,  1.7928e-03,  7.7465e-04], device='cuda:0')),\n",
       "             ('encoder.transformer.2.self_attn.out_proj.weight',\n",
       "              tensor([[ 0.0324, -0.1123,  0.0312,  ...,  0.0005,  0.0836,  0.0195],\n",
       "                      [-0.0106, -0.0202,  0.0356,  ...,  0.0070,  0.0189, -0.0205],\n",
       "                      [ 0.0036,  0.0009,  0.0399,  ...,  0.0028,  0.0280, -0.0567],\n",
       "                      ...,\n",
       "                      [-0.0285,  0.0073, -0.0626,  ...,  0.0477, -0.0433,  0.0372],\n",
       "                      [ 0.0265, -0.0452, -0.0500,  ..., -0.0205,  0.1039, -0.0221],\n",
       "                      [ 0.0451, -0.0834, -0.0513,  ...,  0.0605,  0.0162,  0.0014]],\n",
       "                     device='cuda:0')),\n",
       "             ('encoder.transformer.2.self_attn.out_proj.bias',\n",
       "              tensor([ 0.0082,  0.0226, -0.0177,  0.0279,  0.0043, -0.0029, -0.0010, -0.0033,\n",
       "                       0.0184, -0.0079,  0.0266,  0.0062, -0.0217, -0.0297, -0.0041,  0.0038,\n",
       "                       0.0089,  0.0030, -0.0090,  0.0102, -0.0059, -0.0011, -0.0080,  0.0052,\n",
       "                       0.0124,  0.0217, -0.0123,  0.0180,  0.0042,  0.0024, -0.0010, -0.0065,\n",
       "                       0.0310,  0.0140,  0.0063,  0.0146, -0.0404, -0.0397, -0.0066,  0.0046,\n",
       "                      -0.0149,  0.0253,  0.0311, -0.0171,  0.0146,  0.0059, -0.0152, -0.0084,\n",
       "                       0.0226, -0.0043,  0.0162,  0.0223,  0.0329, -0.0371,  0.0040, -0.0385,\n",
       "                      -0.0093, -0.0137,  0.0210,  0.0171,  0.0153, -0.0412,  0.0017, -0.0110,\n",
       "                       0.0144, -0.0169, -0.0030, -0.0177, -0.0039, -0.0113,  0.0057, -0.0003,\n",
       "                      -0.0025,  0.0243, -0.0248, -0.0121, -0.0088, -0.0033,  0.0004, -0.0320,\n",
       "                       0.0118,  0.0354,  0.0085,  0.0249, -0.0031, -0.0082,  0.0152, -0.0021,\n",
       "                       0.0418, -0.0141,  0.0317, -0.0108,  0.0031, -0.0165,  0.0021, -0.0080],\n",
       "                     device='cuda:0')),\n",
       "             ('encoder.transformer.2.linear1.weight',\n",
       "              tensor([[ 0.0808,  0.0595, -0.0789,  ...,  0.0694, -0.0779,  0.0207],\n",
       "                      [ 0.0777, -0.0300, -0.0552,  ...,  0.0191, -0.0045,  0.1351],\n",
       "                      [-0.1141, -0.1155, -0.1200,  ...,  0.0777, -0.0297,  0.0863],\n",
       "                      ...,\n",
       "                      [ 0.1069, -0.0068,  0.0885,  ..., -0.0394, -0.0914,  0.0782],\n",
       "                      [-0.0484,  0.0276,  0.0872,  ..., -0.0295,  0.0682, -0.0695],\n",
       "                      [-0.0645, -0.0113,  0.1175,  ...,  0.0013,  0.0765,  0.0305]],\n",
       "                     device='cuda:0')),\n",
       "             ('encoder.transformer.2.linear1.bias',\n",
       "              tensor([ 0.0661,  0.0217,  0.0191,  0.0281, -0.0340,  0.0046, -0.1059,  0.0526,\n",
       "                      -0.1010,  0.0003, -0.0582,  0.0092,  0.0017,  0.0578,  0.0884, -0.0591,\n",
       "                       0.0278, -0.0267,  0.0330, -0.1113, -0.0759, -0.0266, -0.0075, -0.0249,\n",
       "                      -0.0742, -0.0945, -0.0452,  0.0321, -0.0283,  0.0738, -0.0730,  0.0837,\n",
       "                      -0.1176, -0.1012, -0.0022,  0.0550,  0.0306,  0.0196,  0.1099,  0.0607,\n",
       "                       0.0159,  0.0887, -0.0609, -0.0044,  0.0436, -0.1143, -0.0696,  0.0255,\n",
       "                       0.0549, -0.1235,  0.0934, -0.0311, -0.0166, -0.0958,  0.0158,  0.0791,\n",
       "                      -0.0058, -0.0614, -0.0163, -0.0511,  0.0151,  0.0091, -0.0751,  0.0538,\n",
       "                       0.0914, -0.0372, -0.0949, -0.0366,  0.0396, -0.0630, -0.0962,  0.0773,\n",
       "                       0.0704,  0.0481, -0.0904,  0.0133,  0.0530,  0.0695,  0.0945,  0.0684,\n",
       "                      -0.0569, -0.0875, -0.0676, -0.0029,  0.0969, -0.0684,  0.0271, -0.0898,\n",
       "                       0.0337, -0.0919,  0.0314,  0.0687, -0.0650, -0.0190,  0.0458,  0.0973,\n",
       "                       0.0244, -0.0432, -0.0816, -0.0417,  0.0411,  0.0009, -0.0693, -0.0133,\n",
       "                       0.0560,  0.0395, -0.0907,  0.0742, -0.0283, -0.1002,  0.0876, -0.1239,\n",
       "                      -0.0576, -0.0851, -0.0503,  0.0070, -0.0257, -0.0628,  0.0627, -0.0861,\n",
       "                       0.1005,  0.0287, -0.0202,  0.1055,  0.0852, -0.0030,  0.0492, -0.0895],\n",
       "                     device='cuda:0')),\n",
       "             ('encoder.transformer.2.linear2.weight',\n",
       "              tensor([[ 0.0908,  0.0340,  0.0552,  ..., -0.0425,  0.0656,  0.0750],\n",
       "                      [-0.0868,  0.1497, -0.0252,  ...,  0.1096,  0.0539, -0.0752],\n",
       "                      [ 0.0284, -0.0401,  0.0213,  ..., -0.0540,  0.0749,  0.0517],\n",
       "                      ...,\n",
       "                      [-0.0567,  0.0838,  0.0837,  ...,  0.0463,  0.0122, -0.0331],\n",
       "                      [-0.0348, -0.0863,  0.0783,  ..., -0.0652, -0.0665,  0.0257],\n",
       "                      [-0.0537,  0.1271,  0.0193,  ..., -0.0005,  0.0390,  0.1282]],\n",
       "                     device='cuda:0')),\n",
       "             ('encoder.transformer.2.linear2.bias',\n",
       "              tensor([ 0.0139, -0.0169, -0.0671, -0.0118, -0.0307, -0.0361,  0.0057, -0.0425,\n",
       "                      -0.0101, -0.0789, -0.0157,  0.0806, -0.0706, -0.0850, -0.0628,  0.0064,\n",
       "                       0.0469, -0.0227, -0.1033,  0.0632,  0.0264, -0.0326, -0.0803, -0.0380,\n",
       "                       0.1103,  0.0262,  0.0066, -0.0200, -0.0317,  0.0380,  0.0776,  0.0618,\n",
       "                      -0.0291,  0.0634,  0.0266, -0.0358, -0.1074, -0.0433, -0.0546,  0.0061,\n",
       "                       0.0423,  0.0644,  0.0529,  0.0215, -0.0095, -0.0617,  0.0100, -0.0370,\n",
       "                      -0.0358, -0.0276,  0.0856,  0.1022,  0.0940, -0.1389, -0.0267, -0.0873,\n",
       "                       0.0214, -0.1089, -0.0068, -0.0703,  0.0052, -0.0568,  0.0711, -0.0927,\n",
       "                      -0.0307, -0.0847, -0.0574,  0.0058, -0.0634, -0.0660,  0.0766, -0.0710,\n",
       "                       0.0083,  0.0046, -0.0496,  0.0411,  0.0259, -0.0313,  0.0549,  0.0224,\n",
       "                      -0.0199,  0.0200,  0.0379,  0.0303, -0.0475, -0.0847,  0.0229,  0.0468,\n",
       "                      -0.0266,  0.0445,  0.0259,  0.0769,  0.0885, -0.1050, -0.0443, -0.0654],\n",
       "                     device='cuda:0')),\n",
       "             ('encoder.transformer.2.norm1.weight',\n",
       "              tensor([0.9997, 0.9797, 1.0006, 0.9742, 0.9773, 0.9358, 1.0264, 0.9675, 0.9999,\n",
       "                      0.9879, 0.9813, 1.0064, 1.0138, 0.9634, 0.9933, 0.9844, 0.9713, 0.9974,\n",
       "                      0.9969, 0.9914, 0.9880, 0.9799, 0.9829, 0.9878, 0.9722, 1.0065, 1.0135,\n",
       "                      0.9738, 0.9606, 0.9929, 0.9753, 0.9818, 1.0069, 1.0042, 0.9807, 0.9675,\n",
       "                      1.0207, 1.0202, 1.0357, 0.9770, 0.9829, 0.9996, 0.9613, 0.9717, 0.9614,\n",
       "                      1.0065, 0.9776, 0.9999, 0.9908, 1.0757, 0.9930, 0.9727, 0.9862, 0.9917,\n",
       "                      1.0029, 0.9922, 0.9883, 0.9934, 1.0245, 0.9926, 1.0153, 1.0162, 1.0312,\n",
       "                      1.0224, 0.9541, 0.9934, 1.0010, 0.9898, 0.9686, 0.9614, 0.9729, 1.0005,\n",
       "                      0.9808, 0.9876, 0.9727, 0.9918, 1.0127, 1.0086, 1.0137, 1.0014, 0.9889,\n",
       "                      0.9912, 0.9791, 0.9786, 0.9868, 1.0044, 0.9710, 0.9903, 0.9923, 0.9783,\n",
       "                      0.9984, 1.0028, 1.0362, 1.0106, 0.9825, 0.9707], device='cuda:0')),\n",
       "             ('encoder.transformer.2.norm1.bias',\n",
       "              tensor([ 0.0054,  0.0171, -0.0183,  0.0240,  0.0047, -0.0041, -0.0067, -0.0023,\n",
       "                       0.0210, -0.0114,  0.0206,  0.0023, -0.0175, -0.0291, -0.0022,  0.0035,\n",
       "                       0.0099,  0.0005, -0.0087,  0.0093, -0.0024, -0.0001, -0.0114,  0.0055,\n",
       "                       0.0093,  0.0163, -0.0134,  0.0157,  0.0057,  0.0043, -0.0051, -0.0027,\n",
       "                       0.0299,  0.0132,  0.0069,  0.0126, -0.0364, -0.0381, -0.0028,  0.0071,\n",
       "                      -0.0173,  0.0211,  0.0283, -0.0144,  0.0141,  0.0093, -0.0162, -0.0106,\n",
       "                       0.0167, -0.0067,  0.0190,  0.0176,  0.0304, -0.0344, -0.0004, -0.0358,\n",
       "                      -0.0079, -0.0164,  0.0205,  0.0157,  0.0108, -0.0375,  0.0054, -0.0076,\n",
       "                       0.0123, -0.0170, -0.0067, -0.0150, -0.0037, -0.0096,  0.0044, -0.0038,\n",
       "                      -0.0004,  0.0212, -0.0205, -0.0147, -0.0160, -0.0044, -0.0008, -0.0288,\n",
       "                       0.0088,  0.0275,  0.0053,  0.0182, -0.0064, -0.0099,  0.0111, -0.0005,\n",
       "                       0.0378, -0.0111,  0.0283, -0.0121,  0.0052, -0.0138, -0.0004, -0.0094],\n",
       "                     device='cuda:0')),\n",
       "             ('encoder.transformer.2.norm2.weight',\n",
       "              tensor([1.0044, 1.0085, 0.9967, 0.9943, 0.9984, 0.9552, 0.9934, 0.9911, 0.9791,\n",
       "                      0.9871, 0.9704, 1.0157, 1.0169, 0.9494, 0.9897, 0.9950, 0.9652, 1.0094,\n",
       "                      0.9862, 0.9911, 0.9975, 0.9726, 0.9829, 0.9721, 1.0094, 0.9991, 0.9970,\n",
       "                      0.9735, 0.9925, 0.9879, 0.9958, 0.9808, 0.9929, 0.9928, 0.9514, 1.0152,\n",
       "                      1.0126, 0.9991, 1.0243, 1.0014, 0.9558, 1.0132, 0.9875, 1.0044, 0.9748,\n",
       "                      0.9799, 0.9907, 0.9925, 0.9884, 1.0535, 1.0105, 0.9995, 1.0078, 1.0159,\n",
       "                      1.0054, 0.9967, 0.9993, 1.0069, 1.0149, 0.9852, 1.0190, 1.0148, 1.0500,\n",
       "                      1.0339, 0.9688, 0.9915, 1.0009, 0.9699, 0.9629, 0.9835, 1.0140, 1.0137,\n",
       "                      0.9734, 0.9986, 0.9844, 0.9760, 1.0266, 0.9988, 1.0030, 1.0185, 0.9826,\n",
       "                      0.9703, 0.9766, 1.0068, 0.9566, 0.9928, 0.9745, 0.9861, 1.0022, 0.9339,\n",
       "                      1.0056, 0.9919, 1.0306, 1.0013, 0.9971, 0.9778], device='cuda:0')),\n",
       "             ('encoder.transformer.2.norm2.bias',\n",
       "              tensor([-2.8906e-03,  6.8972e-03, -9.9345e-03,  4.7135e-03,  1.4241e-02,\n",
       "                      -8.8035e-03, -2.1031e-02, -2.9992e-04,  1.1541e-02, -1.1942e-02,\n",
       "                       4.2098e-03, -2.1547e-03,  1.3966e-03,  1.4742e-03,  6.8985e-03,\n",
       "                       3.1707e-03,  8.7897e-03, -8.2494e-03,  1.7358e-03,  4.6254e-03,\n",
       "                      -7.0667e-03,  6.6402e-03, -3.0138e-02,  9.3609e-03,  7.1692e-03,\n",
       "                       1.7730e-03, -8.8091e-03,  1.4919e-02,  4.1984e-03,  2.0966e-02,\n",
       "                      -1.2943e-02,  5.1759e-03,  1.3377e-02,  1.5256e-02,  3.3201e-03,\n",
       "                       7.7240e-03, -1.2254e-02, -1.7023e-02,  1.0245e-02,  5.4101e-03,\n",
       "                      -2.3046e-02,  1.1074e-02,  6.9967e-03, -3.1589e-03, -2.6601e-03,\n",
       "                       1.5370e-02, -1.3188e-02, -9.5328e-03,  5.1059e-03, -7.4056e-03,\n",
       "                       1.6019e-02,  1.7029e-02,  1.9122e-02, -2.8098e-02, -7.9536e-03,\n",
       "                      -2.0159e-02, -3.4394e-03, -2.0658e-02,  1.4105e-02,  7.4978e-03,\n",
       "                       6.8375e-03, -1.2919e-02,  2.3242e-02,  6.5507e-04, -1.4871e-03,\n",
       "                      -1.5750e-02, -4.1268e-04, -3.1708e-03,  2.1353e-03,  8.3079e-05,\n",
       "                      -3.9143e-03, -3.6284e-04,  5.9724e-03, -2.5400e-03, -2.3264e-03,\n",
       "                       2.0290e-03, -1.3119e-02,  5.8631e-03,  2.0013e-03, -1.4132e-02,\n",
       "                       6.5049e-04,  1.0291e-02,  4.6158e-03,  1.5971e-02, -1.2819e-02,\n",
       "                      -1.0611e-02, -1.1453e-02, -5.5749e-03,  1.1059e-02,  8.4196e-03,\n",
       "                       1.9986e-02, -4.6759e-03,  1.1052e-02, -2.6422e-03, -1.2156e-03,\n",
       "                      -5.1901e-03], device='cuda:0')),\n",
       "             ('encoder.transformer.3.self_attn.in_proj_weight',\n",
       "              tensor([[-0.0866,  0.0126,  0.0426,  ..., -0.0887,  0.1138,  0.0143],\n",
       "                      [ 0.0400,  0.0812,  0.0660,  ...,  0.0764,  0.0755, -0.0558],\n",
       "                      [ 0.0804,  0.0873, -0.0178,  ...,  0.0586,  0.1042,  0.1382],\n",
       "                      ...,\n",
       "                      [ 0.1221,  0.1020, -0.1163,  ...,  0.0092,  0.1225, -0.0055],\n",
       "                      [ 0.0126, -0.0735,  0.0133,  ..., -0.1098,  0.0894,  0.0627],\n",
       "                      [-0.0571,  0.0087, -0.0046,  ...,  0.0003, -0.0608, -0.0028]],\n",
       "                     device='cuda:0')),\n",
       "             ('encoder.transformer.3.self_attn.in_proj_bias',\n",
       "              tensor([-6.5684e-02,  1.2302e-02,  7.1167e-02, -1.7503e-02,  7.4545e-02,\n",
       "                       4.7534e-02, -2.2154e-03, -7.1618e-02,  3.4248e-02, -2.0769e-02,\n",
       "                      -6.2139e-02,  8.4387e-02,  2.6853e-02,  5.8681e-02, -4.1447e-02,\n",
       "                       1.8057e-02,  1.1219e-02, -8.9546e-02, -2.9847e-04,  8.5789e-03,\n",
       "                       3.3909e-02, -7.5320e-02, -5.4900e-02, -6.5743e-02,  2.6003e-02,\n",
       "                       4.6536e-02, -6.6691e-02,  4.9975e-02, -1.1178e-02, -8.2308e-02,\n",
       "                      -1.0287e-02,  8.6952e-02, -1.6572e-02, -7.8581e-04,  1.5582e-02,\n",
       "                       4.2675e-02,  4.8737e-02, -2.7703e-02,  4.5170e-03, -3.4528e-02,\n",
       "                      -2.5703e-02, -3.5075e-02,  6.2275e-02, -5.3935e-02,  9.6271e-03,\n",
       "                      -3.7413e-02, -3.6826e-02,  6.6456e-03, -1.1715e-03, -3.9697e-02,\n",
       "                      -5.3482e-02,  1.5050e-02, -4.3203e-02, -4.1763e-02,  4.9949e-02,\n",
       "                       7.9813e-03,  2.4401e-02,  1.9579e-02,  9.9571e-02, -1.5410e-02,\n",
       "                      -6.4435e-03,  2.5154e-02, -7.0557e-03, -1.4863e-02, -4.7293e-02,\n",
       "                      -4.5388e-02,  4.7414e-02,  1.3679e-02, -1.2183e-02,  2.2656e-02,\n",
       "                       4.2163e-02,  4.9919e-03,  2.6291e-02,  4.5322e-02, -2.2981e-02,\n",
       "                       2.5796e-02,  2.9127e-02,  1.4830e-02,  1.0615e-02, -3.7724e-02,\n",
       "                      -4.7685e-02,  2.9970e-02,  2.8842e-02,  1.5534e-02,  2.3727e-02,\n",
       "                       7.6375e-03, -3.6995e-02, -2.8524e-02, -1.6030e-02, -1.5448e-02,\n",
       "                       2.3009e-02,  4.3910e-02,  3.5756e-02,  3.6176e-02,  2.4382e-02,\n",
       "                      -3.0325e-02,  3.2643e-02, -1.7530e-02, -3.0889e-02, -3.6438e-02,\n",
       "                       8.8448e-03,  2.4547e-02,  6.5251e-02,  6.1066e-02,  3.4390e-02,\n",
       "                       5.1890e-02, -3.9457e-03,  2.6660e-02, -6.2390e-02,  1.3184e-02,\n",
       "                       1.3336e-02,  1.2768e-01,  3.3436e-02,  3.0888e-03, -4.5942e-03,\n",
       "                      -1.6483e-02, -6.1572e-02,  6.6552e-02,  4.2144e-02,  6.1110e-02,\n",
       "                      -5.9248e-03, -3.9045e-02, -1.0449e-02, -4.7272e-02,  5.4439e-03,\n",
       "                       3.3856e-02,  2.3807e-02, -1.2296e-01, -8.8352e-02,  6.9865e-02,\n",
       "                      -3.8816e-03, -1.0432e-03,  9.1001e-02, -1.2560e-02,  4.4056e-02,\n",
       "                      -1.3891e-01, -1.5238e-02, -2.1397e-02, -1.9651e-02, -7.4944e-02,\n",
       "                       7.3799e-03,  4.0193e-02, -2.5492e-03,  9.1947e-02,  3.5511e-03,\n",
       "                      -3.5742e-02, -5.2950e-02,  2.7764e-02, -8.7708e-02,  2.7257e-02,\n",
       "                       2.2050e-02,  4.5308e-02,  8.3495e-02,  5.6330e-02,  6.7279e-02,\n",
       "                      -2.9834e-02,  3.2883e-03, -3.0127e-02, -1.1782e-01, -1.1202e-01,\n",
       "                       1.9864e-01,  2.2622e-01, -1.6663e-01,  2.2284e-01,  1.9806e-01,\n",
       "                       1.5864e-02, -1.6549e-01,  1.4581e-01, -1.8815e-01, -1.5220e-01,\n",
       "                       1.9467e-01, -1.9998e-01, -2.0783e-01, -1.8960e-01,  9.5427e-02,\n",
       "                       2.3857e-01, -1.2935e-01, -1.3768e-01, -1.2502e-01, -1.4808e-01,\n",
       "                      -1.7986e-01, -1.4680e-01, -1.3847e-01,  1.5847e-01,  2.1397e-01,\n",
       "                       1.8800e-01, -1.7558e-01, -2.0345e-01, -2.1298e-01,  5.0680e-02,\n",
       "                       1.6876e-01,  1.8695e-01, -1.0823e-02, -3.3470e-03,  2.1633e-03,\n",
       "                      -3.2028e-03,  1.5989e-02, -9.8590e-03, -3.5385e-03,  1.9278e-02,\n",
       "                       3.8736e-03, -2.2163e-03, -3.4925e-03,  2.8973e-02,  3.2483e-03,\n",
       "                      -1.3883e-02,  6.6067e-03,  2.7493e-03, -5.1546e-03, -1.5951e-02,\n",
       "                      -1.6103e-03,  5.6897e-03,  7.1257e-03,  7.6519e-03,  1.5498e-02,\n",
       "                       1.6347e-02, -6.2553e-03, -3.5714e-03,  3.2356e-03, -2.4322e-02,\n",
       "                       1.1022e-02,  9.8238e-03, -1.2768e-02,  1.0599e-02,  1.2178e-03,\n",
       "                       3.0760e-03,  1.4224e-02,  2.3318e-04,  1.0416e-03, -2.9770e-03,\n",
       "                      -1.9068e-02,  8.4441e-03,  2.3155e-03, -1.9976e-02, -7.3727e-03,\n",
       "                      -1.8867e-03,  8.4907e-03, -7.9548e-03, -8.0766e-03, -9.5400e-03,\n",
       "                      -5.2276e-04, -1.3140e-02,  2.3965e-02,  6.4639e-04,  3.6373e-03,\n",
       "                      -1.5088e-04, -1.6539e-03,  8.1539e-03, -5.8338e-04,  1.4729e-04,\n",
       "                       4.1213e-03, -5.1070e-03,  1.5526e-02,  1.2075e-02, -5.7597e-03,\n",
       "                      -1.0485e-02,  1.6059e-02,  1.8738e-04, -6.1855e-04,  6.7745e-03,\n",
       "                      -5.6413e-03,  2.3806e-03,  8.0067e-03, -2.4275e-03, -9.0379e-03,\n",
       "                      -1.0180e-02, -9.2311e-04,  2.8068e-03, -1.4430e-02,  2.0504e-02,\n",
       "                      -4.6526e-05, -1.6668e-02, -9.5317e-03, -8.0973e-03, -6.1315e-03,\n",
       "                      -7.1386e-04, -1.2378e-02,  7.1420e-03, -6.5705e-03,  3.7574e-03,\n",
       "                       6.7350e-03, -6.2024e-03,  1.3964e-02, -9.8561e-04,  4.6702e-03,\n",
       "                      -1.4434e-03, -7.5744e-03,  1.2983e-02], device='cuda:0')),\n",
       "             ('encoder.transformer.3.self_attn.out_proj.weight',\n",
       "              tensor([[ 0.0007,  0.0192,  0.0827,  ..., -0.1019, -0.0299, -0.0395],\n",
       "                      [ 0.0259,  0.0618, -0.0503,  ..., -0.0149,  0.0803, -0.1071],\n",
       "                      [-0.0566, -0.0215, -0.0510,  ...,  0.0693, -0.0527, -0.0966],\n",
       "                      ...,\n",
       "                      [ 0.0294, -0.0590,  0.0106,  ...,  0.0470, -0.0285, -0.0131],\n",
       "                      [ 0.0362, -0.0690,  0.0321,  ..., -0.0245,  0.0299, -0.0185],\n",
       "                      [ 0.1270, -0.1287,  0.0171,  ...,  0.0250, -0.0390,  0.0463]],\n",
       "                     device='cuda:0')),\n",
       "             ('encoder.transformer.3.self_attn.out_proj.bias',\n",
       "              tensor([ 6.7612e-03,  1.7776e-02, -1.0763e-02,  8.0834e-03,  1.7106e-02,\n",
       "                      -2.6827e-03, -1.4052e-02, -1.9469e-02,  7.8733e-03, -2.2315e-02,\n",
       "                       1.9526e-02,  7.4916e-03, -1.1055e-02, -8.4095e-03, -6.6345e-03,\n",
       "                      -6.3599e-03,  1.0019e-02, -8.7165e-03, -3.9289e-03,  1.3502e-02,\n",
       "                      -1.4403e-02,  1.6284e-03, -3.2056e-02,  1.1804e-02,  1.1345e-02,\n",
       "                       1.2228e-02, -6.3169e-05,  6.8827e-03, -1.7801e-03,  1.7281e-02,\n",
       "                      -1.2573e-02, -1.1443e-02,  2.8301e-02,  2.0892e-02,  5.8548e-03,\n",
       "                       1.2890e-02, -3.0068e-02, -2.5501e-02,  6.8114e-03,  1.9911e-02,\n",
       "                      -3.3696e-02,  1.6125e-02,  1.3165e-02, -1.1019e-02,  2.2145e-03,\n",
       "                       2.1457e-02,  4.7023e-03, -1.0330e-02,  1.7567e-02, -1.1060e-02,\n",
       "                       2.4752e-02,  1.9992e-02,  3.0486e-02, -3.0514e-02, -9.3351e-04,\n",
       "                      -3.1602e-02, -9.5325e-03, -3.1971e-02,  1.5004e-02,  1.1735e-02,\n",
       "                      -1.4270e-03, -2.2327e-02,  2.1950e-02, -6.5780e-03,  5.9315e-03,\n",
       "                      -3.0607e-02,  1.2441e-02, -1.7867e-02, -4.7643e-03, -3.7100e-03,\n",
       "                       6.3070e-03,  6.3873e-03, -1.0868e-03,  2.6487e-02, -5.4387e-03,\n",
       "                      -3.5253e-03, -1.2664e-02, -1.4708e-03, -3.9189e-03, -1.9748e-02,\n",
       "                       1.2102e-02,  1.5069e-02, -2.6597e-03,  2.5234e-02, -4.2482e-03,\n",
       "                      -7.6667e-03, -4.8579e-04, -1.7222e-02,  1.5643e-02, -8.5497e-03,\n",
       "                       2.3493e-02, -1.0920e-02,  1.4607e-02, -3.6899e-03, -5.9118e-03,\n",
       "                      -1.4062e-02], device='cuda:0')),\n",
       "             ('encoder.transformer.3.linear1.weight',\n",
       "              tensor([[ 0.0397, -0.0371,  0.0114,  ..., -0.1163,  0.2174,  0.0414],\n",
       "                      [ 0.1297, -0.0824,  0.0800,  ...,  0.0613, -0.1095, -0.0882],\n",
       "                      [ 0.0339,  0.0174,  0.0259,  ..., -0.0764,  0.0587, -0.0909],\n",
       "                      ...,\n",
       "                      [ 0.0652, -0.0198, -0.0955,  ..., -0.0057, -0.0116, -0.0245],\n",
       "                      [ 0.0519, -0.0584,  0.0563,  ...,  0.0862, -0.0734,  0.0444],\n",
       "                      [ 0.0207, -0.0017,  0.0601,  ...,  0.1029,  0.0517,  0.1080]],\n",
       "                     device='cuda:0')),\n",
       "             ('encoder.transformer.3.linear1.bias',\n",
       "              tensor([ 0.0022, -0.0150, -0.0624, -0.0587,  0.0736,  0.0629, -0.0632,  0.0629,\n",
       "                      -0.0001, -0.0896,  0.0435, -0.0121,  0.0045,  0.0840,  0.0045,  0.1048,\n",
       "                      -0.1189,  0.0748,  0.0830, -0.0210, -0.0922, -0.0282, -0.1037, -0.0873,\n",
       "                      -0.0426,  0.0524,  0.0948, -0.0255, -0.0823,  0.0435,  0.0788,  0.0009,\n",
       "                       0.0358, -0.0341,  0.0933, -0.0214, -0.0624, -0.0068,  0.0409,  0.0212,\n",
       "                       0.0415, -0.0146, -0.1056, -0.0240, -0.0349, -0.0436,  0.0535, -0.0131,\n",
       "                      -0.0334,  0.0392, -0.0241, -0.0044, -0.0784, -0.0533, -0.0430,  0.0516,\n",
       "                      -0.0437,  0.0410, -0.0315, -0.1012,  0.0253, -0.0277,  0.0483,  0.0788,\n",
       "                       0.0549,  0.0101,  0.0912, -0.0368, -0.0064, -0.0846,  0.0728,  0.0164,\n",
       "                      -0.0444,  0.0655,  0.0939,  0.0034,  0.0415, -0.0114,  0.0777,  0.0737,\n",
       "                       0.0283,  0.0611, -0.0482, -0.0205,  0.0357, -0.0503,  0.0612, -0.0428,\n",
       "                       0.0493, -0.0526,  0.0265, -0.0142,  0.0120,  0.0585,  0.0604, -0.0239,\n",
       "                      -0.0369, -0.1084,  0.0564, -0.0312,  0.1069,  0.0092, -0.0548,  0.0134,\n",
       "                      -0.0832,  0.0637,  0.0790, -0.0793, -0.0463, -0.0687,  0.0947, -0.0815,\n",
       "                      -0.0925,  0.0872, -0.0317, -0.0143,  0.0298,  0.0070,  0.0581, -0.0470,\n",
       "                      -0.0607, -0.0388,  0.0336,  0.0739,  0.0678, -0.0675,  0.0938,  0.0598],\n",
       "                     device='cuda:0')),\n",
       "             ('encoder.transformer.3.linear2.weight',\n",
       "              tensor([[-0.1204,  0.0660,  0.0563,  ...,  0.0093, -0.0030, -0.0141],\n",
       "                      [-0.1673, -0.1142,  0.0357,  ...,  0.0828,  0.0677,  0.0158],\n",
       "                      [ 0.0473,  0.0397, -0.0780,  ..., -0.0961, -0.0608, -0.0863],\n",
       "                      ...,\n",
       "                      [ 0.0128,  0.0580, -0.0367,  ...,  0.0261,  0.0771, -0.0075],\n",
       "                      [-0.0042,  0.0545,  0.0442,  ...,  0.0341, -0.0856,  0.0423],\n",
       "                      [-0.0890,  0.0059, -0.0042,  ..., -0.0474,  0.0161, -0.0238]],\n",
       "                     device='cuda:0')),\n",
       "             ('encoder.transformer.3.linear2.bias',\n",
       "              tensor([ 9.2590e-02,  6.5454e-02,  6.6254e-02, -7.2495e-02, -5.5078e-02,\n",
       "                       6.1513e-02, -5.8813e-02, -4.7266e-02, -1.3664e-02, -8.1639e-02,\n",
       "                       1.8749e-02,  6.4522e-02,  9.7245e-03,  7.4123e-02, -9.9427e-03,\n",
       "                       6.7767e-02, -3.0238e-02, -8.9552e-02,  4.9775e-02,  5.1650e-02,\n",
       "                      -9.0875e-02, -6.5791e-02,  4.9637e-02,  8.7044e-02, -4.4356e-02,\n",
       "                       9.8319e-02,  5.1053e-02, -1.4836e-02,  2.0147e-03,  2.1945e-02,\n",
       "                      -6.1243e-02, -7.5624e-02, -1.7773e-02,  4.6389e-02, -5.7237e-02,\n",
       "                       1.6411e-02, -5.0644e-02, -7.5057e-02,  6.8002e-02, -2.3438e-02,\n",
       "                      -8.7511e-02, -4.3127e-03, -4.5403e-02, -9.8930e-02,  4.0416e-02,\n",
       "                       1.1031e-01, -4.4403e-02, -7.6220e-02,  7.9731e-02,  1.9980e-02,\n",
       "                       9.2342e-02,  1.0270e-01, -4.4911e-02,  1.3339e-02, -9.1019e-02,\n",
       "                      -7.0194e-02, -9.3978e-02, -9.5369e-02, -7.1617e-05,  9.1965e-02,\n",
       "                       5.1209e-02, -1.1691e-01,  2.8409e-02, -9.4684e-02,  6.2631e-03,\n",
       "                       1.1449e-02, -4.0877e-02,  5.0631e-02, -6.2835e-03,  2.8330e-02,\n",
       "                       2.5738e-02, -2.4932e-03,  8.3019e-02,  2.7350e-02, -4.5958e-02,\n",
       "                      -8.1761e-02, -5.5270e-02, -8.0251e-03, -1.8707e-02,  6.5749e-03,\n",
       "                       4.7558e-02,  1.3378e-02,  8.3331e-02,  6.2119e-02, -4.9802e-02,\n",
       "                      -7.3077e-02, -6.6279e-02,  2.4133e-02, -1.4528e-02, -3.5176e-02,\n",
       "                       3.8822e-02,  2.9947e-02,  2.3130e-02,  7.5743e-03,  6.0242e-02,\n",
       "                       4.9231e-02], device='cuda:0')),\n",
       "             ('encoder.transformer.3.norm1.weight',\n",
       "              tensor([1.0084, 1.0064, 0.9922, 0.9893, 0.9968, 0.9491, 0.9983, 0.9988, 0.9777,\n",
       "                      0.9917, 0.9765, 1.0111, 1.0251, 0.9426, 0.9952, 0.9923, 0.9583, 1.0077,\n",
       "                      0.9811, 0.9938, 0.9988, 0.9713, 0.9912, 0.9655, 1.0082, 0.9994, 0.9961,\n",
       "                      0.9796, 0.9929, 0.9845, 0.9961, 0.9853, 1.0013, 0.9943, 0.9483, 1.0127,\n",
       "                      1.0210, 0.9993, 1.0315, 0.9967, 0.9695, 1.0150, 0.9951, 0.9966, 0.9824,\n",
       "                      0.9777, 0.9868, 0.9926, 0.9961, 1.0566, 1.0123, 1.0053, 1.0147, 1.0143,\n",
       "                      0.9960, 1.0030, 0.9963, 1.0119, 1.0155, 0.9816, 1.0205, 1.0193, 1.0436,\n",
       "                      1.0241, 0.9726, 0.9975, 1.0072, 0.9697, 0.9603, 0.9874, 1.0111, 0.9999,\n",
       "                      0.9749, 0.9950, 0.9815, 0.9767, 1.0284, 0.9877, 1.0067, 1.0168, 0.9875,\n",
       "                      0.9787, 0.9779, 1.0093, 0.9644, 0.9869, 0.9671, 0.9920, 1.0044, 0.9470,\n",
       "                      1.0057, 0.9957, 1.0285, 1.0036, 0.9967, 1.0009], device='cuda:0')),\n",
       "             ('encoder.transformer.3.norm1.bias',\n",
       "              tensor([ 0.0077,  0.0142, -0.0082,  0.0036,  0.0162, -0.0030, -0.0173, -0.0201,\n",
       "                       0.0073, -0.0217,  0.0158,  0.0043, -0.0078, -0.0083, -0.0061, -0.0049,\n",
       "                       0.0097, -0.0107, -0.0021,  0.0138, -0.0126,  0.0015, -0.0324,  0.0110,\n",
       "                       0.0084,  0.0089, -0.0010,  0.0057,  0.0009,  0.0165, -0.0145, -0.0094,\n",
       "                       0.0262,  0.0205,  0.0029,  0.0106, -0.0270, -0.0228,  0.0085,  0.0196,\n",
       "                      -0.0327,  0.0132,  0.0091, -0.0093,  0.0048,  0.0229,  0.0059, -0.0127,\n",
       "                       0.0150, -0.0121,  0.0268,  0.0168,  0.0279, -0.0281, -0.0028, -0.0292,\n",
       "                      -0.0077, -0.0297,  0.0141,  0.0108, -0.0038, -0.0196,  0.0230, -0.0039,\n",
       "                       0.0065, -0.0291,  0.0099, -0.0155, -0.0073, -0.0015,  0.0056,  0.0034,\n",
       "                      -0.0005,  0.0243, -0.0031, -0.0053, -0.0151, -0.0029, -0.0034, -0.0161,\n",
       "                       0.0090,  0.0133, -0.0052,  0.0211, -0.0047, -0.0066, -0.0015, -0.0156,\n",
       "                       0.0115, -0.0084,  0.0229, -0.0113,  0.0137, -0.0016, -0.0058, -0.0143],\n",
       "                     device='cuda:0')),\n",
       "             ('encoder.transformer.3.norm2.weight',\n",
       "              tensor([1.0171, 1.0124, 1.0236, 1.0089, 1.0072, 0.9684, 0.9330, 1.0141, 0.9566,\n",
       "                      1.0031, 0.9839, 1.0023, 1.0256, 0.9540, 0.9753, 0.9937, 0.9660, 1.0277,\n",
       "                      0.9898, 1.0098, 1.0010, 0.9826, 0.9991, 0.9450, 1.0018, 0.9977, 0.9827,\n",
       "                      0.9877, 0.9597, 0.9970, 0.9924, 0.9789, 1.0027, 0.9896, 0.9303, 1.0055,\n",
       "                      1.0307, 1.0178, 1.0140, 0.9967, 1.0064, 1.0245, 0.9990, 1.0112, 0.9718,\n",
       "                      0.9991, 0.9784, 0.9670, 1.0104, 1.0053, 1.0372, 1.0072, 1.0089, 1.0182,\n",
       "                      0.9865, 1.0099, 0.9991, 1.0408, 1.0138, 0.9877, 1.0305, 1.0249, 1.0974,\n",
       "                      1.0077, 1.0029, 1.0193, 1.0236, 0.9786, 0.9611, 0.9856, 0.9921, 1.0026,\n",
       "                      0.9388, 1.0115, 0.9980, 0.9919, 1.0271, 0.9675, 0.9892, 1.0316, 0.9924,\n",
       "                      0.9804, 0.9822, 1.0216, 0.9775, 0.9807, 0.9884, 0.9755, 1.0000, 1.0014,\n",
       "                      1.0251, 0.9416, 1.0124, 0.9630, 0.9774, 1.0037], device='cuda:0')),\n",
       "             ('encoder.transformer.3.norm2.bias',\n",
       "              tensor([ 0.0281,  0.0174,  0.0107, -0.0247,  0.0109, -0.0003, -0.0005, -0.0148,\n",
       "                      -0.0124, -0.0157,  0.0177, -0.0092, -0.0171,  0.0017, -0.0148,  0.0063,\n",
       "                       0.0123, -0.0245,  0.0146,  0.0129, -0.0105, -0.0237, -0.0127, -0.0093,\n",
       "                      -0.0046,  0.0300,  0.0127, -0.0027, -0.0021,  0.0141, -0.0008, -0.0049,\n",
       "                      -0.0057, -0.0041, -0.0142,  0.0018, -0.0013, -0.0034,  0.0120,  0.0051,\n",
       "                      -0.0156,  0.0107, -0.0157,  0.0027,  0.0142,  0.0106,  0.0140,  0.0050,\n",
       "                       0.0103,  0.0064,  0.0181,  0.0059, -0.0026, -0.0138,  0.0039, -0.0023,\n",
       "                       0.0042, -0.0232,  0.0022, -0.0017, -0.0068, -0.0056,  0.0240, -0.0098,\n",
       "                       0.0299, -0.0123,  0.0230,  0.0096, -0.0102,  0.0083,  0.0085,  0.0195,\n",
       "                       0.0021,  0.0163, -0.0142, -0.0062, -0.0147,  0.0193,  0.0016, -0.0105,\n",
       "                      -0.0087,  0.0116, -0.0050,  0.0138, -0.0067,  0.0066,  0.0056, -0.0163,\n",
       "                      -0.0002, -0.0243,  0.0260, -0.0066, -0.0040, -0.0045,  0.0009, -0.0231],\n",
       "                     device='cuda:0')),\n",
       "             ('encoder.layer_norm.weight',\n",
       "              tensor([0.9591, 0.9948, 1.0315, 1.0324, 0.9961, 0.9612, 0.9385, 0.9684, 0.9562,\n",
       "                      0.9632, 0.9712, 0.9947, 1.0115, 0.9415, 0.9720, 1.0002, 0.9492, 1.0479,\n",
       "                      0.9836, 0.9923, 0.9872, 0.9623, 0.9617, 0.9416, 1.0065, 0.9575, 1.0223,\n",
       "                      0.9733, 0.9473, 0.9608, 0.9848, 0.9764, 0.9963, 0.9813, 0.9371, 0.9887,\n",
       "                      1.0145, 1.0243, 1.0271, 0.9787, 0.9823, 0.9894, 1.0029, 1.0025, 0.9663,\n",
       "                      1.0028, 0.9713, 0.9385, 1.0078, 1.0413, 1.0256, 1.0029, 1.0243, 1.0033,\n",
       "                      0.9889, 1.0272, 0.9771, 0.9680, 1.0190, 0.9837, 1.0332, 0.9949, 1.1335,\n",
       "                      0.9964, 1.0180, 0.9765, 0.9737, 0.9807, 0.9520, 0.9845, 0.9951, 0.9728,\n",
       "                      0.9550, 1.0238, 0.9686, 0.9692, 1.0561, 0.9673, 0.9848, 1.0178, 0.9867,\n",
       "                      0.9797, 0.9718, 1.0166, 0.9766, 0.9777, 0.9851, 0.9566, 0.9950, 0.9668,\n",
       "                      0.9822, 0.9729, 0.9968, 0.9767, 0.9654, 0.9957], device='cuda:0')),\n",
       "             ('encoder.layer_norm.bias',\n",
       "              tensor([-1.0862e-02,  3.5267e-03,  7.1178e-03,  9.2703e-03, -1.2591e-03,\n",
       "                       5.1766e-03,  1.9795e-02,  1.0243e-02, -2.3517e-02, -1.5715e-03,\n",
       "                      -1.4634e-03, -8.6678e-03,  3.5320e-02,  6.7156e-03, -7.8004e-03,\n",
       "                      -6.2573e-03,  7.9420e-03, -9.4434e-03,  1.6457e-02, -6.4846e-03,\n",
       "                       3.8181e-03,  1.4516e-03,  4.0222e-03, -1.3334e-02, -3.2756e-04,\n",
       "                      -6.9353e-03,  1.8745e-02, -1.0550e-02,  3.1212e-03, -1.3308e-02,\n",
       "                      -7.7717e-03,  4.7731e-03, -1.6201e-02, -1.5874e-02, -1.4827e-02,\n",
       "                      -5.6441e-03,  1.8855e-02,  4.7741e-03, -2.0643e-03,  3.1820e-03,\n",
       "                      -3.9723e-06, -1.4907e-02,  1.0299e-02,  7.4446e-03,  9.8783e-03,\n",
       "                      -8.6967e-03,  1.6086e-02,  3.6376e-03,  6.5160e-03,  2.5086e-02,\n",
       "                      -3.3287e-04, -1.1651e-03, -1.0874e-02, -2.5627e-03,  7.9605e-03,\n",
       "                      -9.1197e-04,  5.8154e-03,  1.0432e-02, -1.0246e-02,  1.4107e-04,\n",
       "                       9.2373e-03,  1.8250e-02, -2.1752e-03, -6.0561e-03, -5.3960e-03,\n",
       "                       5.9876e-03, -6.4098e-03,  1.0044e-02, -7.9850e-03,  9.4664e-03,\n",
       "                      -5.2783e-03, -2.8319e-03, -4.0359e-03, -8.3831e-03,  1.1911e-02,\n",
       "                       1.6064e-03,  4.5803e-03,  1.7944e-02,  3.8000e-04,  8.2333e-03,\n",
       "                      -1.3548e-02,  5.1653e-03,  2.0375e-03, -3.0756e-04,  7.3986e-03,\n",
       "                       9.2945e-03,  7.1200e-03, -4.5140e-03, -5.4740e-03,  1.5697e-03,\n",
       "                      -4.1043e-03, -4.5540e-04, -1.5383e-02, -6.5919e-03, -1.6074e-04,\n",
       "                      -7.8046e-03], device='cuda:0')),\n",
       "             ('pert_embedding.pert_token',\n",
       "              tensor([[ 1.2727, -0.5484, -2.3568,  0.5433, -0.3844,  1.3440,  0.4636,  0.5461,\n",
       "                        0.4647, -0.6493, -0.3741,  2.1010,  1.6420, -0.4699,  0.8692, -1.7449,\n",
       "                       -4.5761,  0.2310, -0.7381,  1.7614, -0.2181,  1.9831,  0.6182, -1.3674,\n",
       "                       -1.5553, -2.0225, -0.6795,  1.2821, -0.5090, -1.6277,  0.8144,  0.0598,\n",
       "                       -2.0277, -1.8761,  1.4634, -2.2093, -0.0226,  1.6862, -1.5966, -0.6703,\n",
       "                        1.3186,  0.1606,  1.4986,  2.5441, -1.1028, -2.2113, -2.3668,  0.2466,\n",
       "                        0.5119, -1.0274, -1.2579, -1.6369, -0.4143,  1.3511, -0.2812,  1.3431,\n",
       "                        0.6200,  0.1471,  0.1508, -0.2496,  1.0044,  1.2954, -1.4156, -1.5071,\n",
       "                       -1.0254, -0.2093, -1.5587, -0.5967,  1.2951, -0.6942,  0.8106,  0.8026,\n",
       "                       -1.5959,  0.8540, -1.0768, -0.4797,  1.4123,  1.1110, -0.0071,  0.5347,\n",
       "                        1.0563,  0.3990, -1.7456, -1.2877,  2.4678, -1.0650, -0.5213, -0.2218,\n",
       "                        0.1106,  0.0556, -1.8054, -0.6013, -2.4526, -0.1325,  0.9303, -0.2115]],\n",
       "                     device='cuda:0')),\n",
       "             ('pert_embedding.encoder.pos_embedding.pos',\n",
       "              tensor([[[ 0.1280,  0.2470, -1.1113,  ...,  0.1775,  0.7051, -0.1277],\n",
       "                       [ 2.7049, -0.4807,  0.3927,  ...,  1.1225,  0.0638, -0.5066],\n",
       "                       [ 1.2915, -0.3232,  0.7227,  ..., -1.1896,  0.5530, -0.7407],\n",
       "                       ...,\n",
       "                       [ 1.2119, -0.3661, -0.2215,  ...,  0.5652,  0.3100, -0.1641],\n",
       "                       [ 0.5269, -0.9177, -0.2874,  ..., -1.9569, -1.0188,  0.1251],\n",
       "                       [-0.2233, -0.7706,  0.6919,  ...,  0.0769,  0.5840, -0.3722]]],\n",
       "                     device='cuda:0')),\n",
       "             ('pert_embedding.encoder.expression_embed.weight',\n",
       "              tensor([[ 2.0004],\n",
       "                      [ 2.5782],\n",
       "                      [ 2.6381],\n",
       "                      [-2.3269],\n",
       "                      [-1.8593],\n",
       "                      [ 2.0857],\n",
       "                      [ 3.5792],\n",
       "                      [ 2.1690],\n",
       "                      [-3.0058],\n",
       "                      [ 0.2007],\n",
       "                      [ 3.4979],\n",
       "                      [-1.6949],\n",
       "                      [-2.4735],\n",
       "                      [ 2.9760],\n",
       "                      [-2.0476],\n",
       "                      [-0.4056],\n",
       "                      [ 1.1774],\n",
       "                      [-2.3880],\n",
       "                      [ 3.0805],\n",
       "                      [-1.9915],\n",
       "                      [-2.4952],\n",
       "                      [-2.1600],\n",
       "                      [ 3.1107],\n",
       "                      [-2.9044],\n",
       "                      [-2.0763],\n",
       "                      [ 2.6879],\n",
       "                      [ 3.0933],\n",
       "                      [-2.9887],\n",
       "                      [-3.4799],\n",
       "                      [-2.9444],\n",
       "                      [ 2.2952],\n",
       "                      [-2.6582],\n",
       "                      [-2.9760],\n",
       "                      [-3.1295],\n",
       "                      [-2.9742],\n",
       "                      [-2.6512],\n",
       "                      [ 3.5255],\n",
       "                      [ 2.8289],\n",
       "                      [-2.8711],\n",
       "                      [-2.4298],\n",
       "                      [ 2.9299],\n",
       "                      [ 2.5769],\n",
       "                      [-1.9400],\n",
       "                      [ 0.0382],\n",
       "                      [ 2.1245],\n",
       "                      [-3.1683],\n",
       "                      [ 2.4530],\n",
       "                      [ 4.1557],\n",
       "                      [-0.8208],\n",
       "                      [ 4.4775],\n",
       "                      [-2.6566],\n",
       "                      [ 0.8035],\n",
       "                      [-3.2654],\n",
       "                      [-3.0428],\n",
       "                      [ 2.7286],\n",
       "                      [ 3.0157],\n",
       "                      [ 2.3022],\n",
       "                      [ 0.0654],\n",
       "                      [-3.1045],\n",
       "                      [-3.1730],\n",
       "                      [ 2.6454],\n",
       "                      [ 2.6933],\n",
       "                      [-3.2204],\n",
       "                      [-2.9162],\n",
       "                      [ 3.2899],\n",
       "                      [ 3.3631],\n",
       "                      [ 2.6780],\n",
       "                      [ 2.4483],\n",
       "                      [-2.8105],\n",
       "                      [ 2.5521],\n",
       "                      [ 1.0523],\n",
       "                      [ 3.1961],\n",
       "                      [-1.8583],\n",
       "                      [-0.9530],\n",
       "                      [-3.2610],\n",
       "                      [-1.6654],\n",
       "                      [ 3.3143],\n",
       "                      [ 2.7628],\n",
       "                      [ 4.1116],\n",
       "                      [-2.8933],\n",
       "                      [-2.4910],\n",
       "                      [ 2.2174],\n",
       "                      [ 2.3953],\n",
       "                      [ 2.1823],\n",
       "                      [ 2.2842],\n",
       "                      [ 2.0793],\n",
       "                      [ 2.0240],\n",
       "                      [-2.5448],\n",
       "                      [-2.3748],\n",
       "                      [-2.7675],\n",
       "                      [ 1.5620],\n",
       "                      [ 2.5513],\n",
       "                      [-4.1443],\n",
       "                      [-3.5298],\n",
       "                      [ 2.9183],\n",
       "                      [-3.0957]], device='cuda:0')),\n",
       "             ('pert_embedding.encoder.expression_embed.bias',\n",
       "              tensor([ 0.6129,  0.2010, -0.1054,  0.6517, -0.0139,  0.1739,  0.6772, -0.8124,\n",
       "                      -0.5467,  0.8460,  0.1992,  0.8890, -0.9814, -0.0025, -0.5413,  0.8625,\n",
       "                      -0.9780,  0.3048,  0.0633,  0.7645, -0.3978, -0.7723, -0.0272,  0.5474,\n",
       "                       0.4339,  0.3713,  0.4932,  0.3576, -0.9444, -0.9090,  0.7684, -0.1669,\n",
       "                       0.4746,  0.7638, -0.4608,  0.3055, -0.7194,  0.2501, -0.1438, -0.7063,\n",
       "                       0.2847,  0.7438, -0.2550, -0.3550, -0.4695, -0.5903, -0.1687,  0.2886,\n",
       "                       0.0405, -0.7642, -0.6847, -0.0288,  0.3938,  0.0406, -0.3788,  0.1739,\n",
       "                      -0.4368,  0.9205,  0.9341, -0.3528, -0.5908, -0.7329, -0.2607, -0.4188,\n",
       "                      -0.4096, -0.1694,  0.8631, -0.7344,  0.4987, -0.8626,  0.1960, -0.3703,\n",
       "                      -0.9900,  0.6255, -0.4767,  0.6589,  0.2674,  0.0681, -0.7031, -0.2994,\n",
       "                       0.5159, -0.4143, -0.8147,  0.4081,  0.0641,  0.9737, -0.5945,  0.4756,\n",
       "                       0.3869,  0.0320, -0.5485, -0.1606,  0.5901,  0.7284, -0.0415,  0.5440],\n",
       "                     device='cuda:0')),\n",
       "             ('pert_embedding.encoder.transformer.0.self_attn.in_proj_weight',\n",
       "              tensor([[-0.0039, -0.0606,  0.0693,  ..., -0.0430, -0.0474, -0.1108],\n",
       "                      [-0.0904,  0.0421,  0.0221,  ...,  0.1444, -0.0507,  0.1346],\n",
       "                      [-0.0587, -0.0148, -0.0389,  ...,  0.0085,  0.0467, -0.1411],\n",
       "                      ...,\n",
       "                      [ 0.0508, -0.0739,  0.0556,  ..., -0.0134,  0.0126,  0.0903],\n",
       "                      [-0.0289,  0.0928, -0.1121,  ..., -0.0340,  0.0360, -0.0873],\n",
       "                      [-0.0577, -0.0608, -0.0776,  ..., -0.0162,  0.0900, -0.0521]],\n",
       "                     device='cuda:0')),\n",
       "             ('pert_embedding.encoder.transformer.0.self_attn.in_proj_bias',\n",
       "              tensor([ 3.8473e-02, -1.9163e-02,  5.1327e-03, -1.2883e-02, -2.5158e-02,\n",
       "                       3.6174e-02, -4.2872e-03, -1.8725e-02, -1.2405e-02, -1.4862e-03,\n",
       "                       9.3199e-03,  2.2066e-02,  2.4137e-02, -5.1493e-03, -2.5002e-02,\n",
       "                       6.2978e-03,  6.4407e-03, -3.8447e-02,  3.4448e-02,  2.3299e-02,\n",
       "                       5.9246e-03, -3.5712e-02,  1.2027e-03,  2.9360e-02,  7.6677e-03,\n",
       "                      -2.1185e-02,  1.9411e-02, -4.7990e-03,  3.5456e-02,  4.2571e-03,\n",
       "                      -2.4291e-04,  2.4472e-02, -7.0147e-03,  6.8664e-03,  1.5751e-02,\n",
       "                       1.0746e-02, -4.1186e-02, -5.5738e-03,  6.9425e-03,  1.0385e-02,\n",
       "                       1.2266e-02, -1.6353e-02, -3.3261e-03, -1.7869e-02,  2.3683e-02,\n",
       "                      -1.3464e-02, -3.6597e-03,  5.2499e-04, -1.4877e-02, -2.2406e-02,\n",
       "                       2.0038e-02, -3.0222e-02, -1.8866e-02,  5.4931e-03, -1.3258e-02,\n",
       "                       1.4150e-02, -1.1763e-02, -3.7513e-03, -1.4928e-02,  1.1970e-02,\n",
       "                      -5.7298e-03,  4.1511e-02,  1.7811e-02,  1.8957e-02,  2.8896e-02,\n",
       "                       2.2626e-02,  9.7291e-03,  1.1002e-02,  3.6026e-02, -2.7761e-02,\n",
       "                      -5.8305e-03, -3.3036e-02, -2.2403e-04, -2.0185e-02,  2.6832e-02,\n",
       "                      -9.6450e-03,  1.6205e-02, -5.6045e-02, -6.0820e-02, -9.3201e-03,\n",
       "                       1.6972e-02, -2.8330e-02, -3.6538e-02,  1.4311e-02, -6.9948e-03,\n",
       "                      -9.9786e-03,  5.7699e-03, -1.3037e-02, -2.0852e-02,  5.2314e-03,\n",
       "                       1.1346e-02, -5.0941e-03, -1.5310e-03, -1.2345e-02, -2.3258e-02,\n",
       "                       2.0280e-02,  6.4659e-03,  3.6815e-02,  2.9300e-02,  5.8094e-02,\n",
       "                      -2.5738e-02,  4.9125e-02,  9.8995e-02, -3.1929e-02, -1.6176e-02,\n",
       "                       2.6266e-02, -2.4602e-02,  6.0131e-02, -1.4449e-01,  5.7565e-02,\n",
       "                       4.9205e-02,  3.5288e-02,  2.7834e-02,  1.8252e-02, -7.7738e-02,\n",
       "                      -5.8171e-02, -4.8100e-02, -2.4013e-03, -8.5588e-02, -1.0750e-01,\n",
       "                      -4.5182e-04, -1.6982e-01,  5.4268e-02,  2.7146e-02, -3.5717e-02,\n",
       "                      -1.3439e-01, -8.1559e-02,  1.8581e-02, -2.8132e-02, -7.5539e-03,\n",
       "                       2.5318e-02, -1.5372e-01,  2.7919e-02, -3.2108e-02,  9.2200e-02,\n",
       "                       1.3627e-01, -1.0545e-01,  1.0880e-01,  3.5715e-02, -4.3900e-02,\n",
       "                       9.0093e-02, -1.4747e-02, -6.5722e-02, -8.4527e-03,  1.0270e-01,\n",
       "                      -3.1875e-02, -2.2053e-04, -6.7133e-02,  4.8185e-02, -7.4499e-03,\n",
       "                      -5.9554e-02,  2.5916e-02, -1.5522e-03,  5.0879e-02,  7.1215e-02,\n",
       "                      -1.1516e-01,  1.1035e-01,  6.0197e-02, -1.4386e-02, -7.6941e-02,\n",
       "                       4.9395e-02, -2.7096e-02,  5.8441e-02, -6.0021e-02,  1.4024e-02,\n",
       "                       7.0538e-02,  3.0813e-02,  6.2222e-02,  5.1951e-02,  4.0537e-02,\n",
       "                      -1.6251e-02,  2.2077e-02,  2.9148e-02,  8.0158e-02,  5.5583e-02,\n",
       "                       8.3496e-02, -7.2345e-02,  1.6487e-04,  2.2790e-02,  1.2699e-01,\n",
       "                      -2.0987e-02, -1.6927e-02, -2.9801e-02,  1.2992e-02, -4.6599e-02,\n",
       "                      -2.7557e-03, -1.0897e-01,  8.8247e-04,  3.2295e-02,  6.0626e-02,\n",
       "                       5.1866e-02, -2.9215e-02, -2.7251e-02,  6.9417e-03, -1.1647e-02,\n",
       "                      -1.8236e-02, -9.4546e-03, -7.6248e-03, -1.3198e-02, -1.4805e-02,\n",
       "                      -2.6498e-03, -7.2501e-03,  6.6008e-03, -5.1207e-03,  1.0386e-04,\n",
       "                       9.2020e-03,  1.5189e-03, -3.9840e-03,  2.1679e-03,  6.6501e-03,\n",
       "                      -3.6146e-03,  4.0469e-03, -2.1630e-03,  9.0795e-03, -5.7295e-03,\n",
       "                       1.6985e-03, -8.0442e-04, -8.1525e-04, -1.2392e-02, -5.4639e-03,\n",
       "                      -7.1190e-03, -8.5231e-03, -3.4615e-03, -1.0304e-03,  5.0859e-03,\n",
       "                       3.9394e-03, -3.4561e-03, -8.2654e-03, -9.7499e-03,  8.0560e-03,\n",
       "                       3.1324e-03, -1.8372e-03,  1.8257e-03, -1.3210e-02, -8.9910e-03,\n",
       "                       7.5054e-04,  1.0516e-02, -1.1388e-02,  1.7805e-02, -6.2209e-03,\n",
       "                      -1.3538e-02, -4.8640e-03, -3.3126e-03,  3.0397e-03, -2.9512e-03,\n",
       "                      -1.3048e-02, -7.1112e-04,  7.6526e-03,  1.0179e-02,  2.0707e-03,\n",
       "                      -1.2776e-02, -1.0497e-02,  3.6934e-03, -1.1240e-02, -1.8910e-03,\n",
       "                      -3.9566e-03, -1.5395e-03,  4.2273e-03, -1.0697e-02,  1.4569e-02,\n",
       "                       7.1058e-03,  6.1038e-03, -1.2224e-02,  8.9035e-04,  4.6397e-03,\n",
       "                       1.0330e-03,  6.9127e-03,  6.0995e-03, -8.2326e-03, -1.1103e-02,\n",
       "                      -1.4840e-02,  3.0422e-03, -2.7960e-03,  3.3641e-03,  3.6565e-03,\n",
       "                      -6.0627e-03, -1.5751e-02, -3.9490e-03,  5.2276e-03,  5.7809e-03,\n",
       "                       4.5116e-03,  1.0413e-03,  1.0210e-02,  4.2156e-04, -1.8239e-02,\n",
       "                       2.1652e-03,  9.5026e-03, -7.4099e-03], device='cuda:0')),\n",
       "             ('pert_embedding.encoder.transformer.0.self_attn.out_proj.weight',\n",
       "              tensor([[-0.0084, -0.0217,  0.0084,  ..., -0.0889,  0.0441,  0.0488],\n",
       "                      [ 0.0740,  0.0150, -0.0629,  ..., -0.0139,  0.0359,  0.0305],\n",
       "                      [ 0.0400,  0.0524,  0.0349,  ..., -0.0242,  0.0801, -0.0078],\n",
       "                      ...,\n",
       "                      [-0.0990,  0.0606,  0.0353,  ..., -0.0306,  0.0922, -0.0268],\n",
       "                      [-0.0727, -0.0079,  0.0584,  ..., -0.0117, -0.0980, -0.0353],\n",
       "                      [-0.0342, -0.0014, -0.0543,  ..., -0.0616,  0.0807, -0.0239]],\n",
       "                     device='cuda:0')),\n",
       "             ('pert_embedding.encoder.transformer.0.self_attn.out_proj.bias',\n",
       "              tensor([-3.3615e-05,  9.8415e-03,  1.0834e-02,  1.2695e-02,  9.9988e-03,\n",
       "                       7.6377e-03, -5.7227e-03,  2.3761e-02,  4.3410e-02, -2.4237e-02,\n",
       "                      -5.9822e-03, -1.9741e-02,  4.6911e-03,  2.6125e-03, -2.8742e-04,\n",
       "                       4.3126e-03,  2.0921e-03, -1.3542e-02,  8.8468e-03, -1.3923e-02,\n",
       "                       1.1871e-02, -7.9834e-05,  8.2697e-03, -1.5239e-02, -6.1237e-03,\n",
       "                       1.0932e-02, -2.6603e-03, -1.7474e-02,  8.0152e-03,  3.2060e-03,\n",
       "                       5.2625e-03, -1.4904e-02, -1.3852e-02,  8.7860e-04, -2.1928e-04,\n",
       "                      -8.8809e-03, -1.3774e-02, -1.0332e-02,  4.3020e-03,  1.0439e-02,\n",
       "                      -2.6273e-03, -6.2359e-03, -7.7533e-03,  5.8326e-03,  5.1958e-03,\n",
       "                       1.8536e-02,  1.2225e-02,  3.1111e-03,  1.6474e-03, -2.7920e-03,\n",
       "                       1.4556e-02, -6.7742e-03, -6.4663e-03, -1.1476e-02,  8.7730e-03,\n",
       "                      -2.0216e-02,  1.5030e-02,  3.1088e-03, -1.6829e-02,  3.7802e-03,\n",
       "                       1.8064e-02, -7.1944e-03,  7.5696e-03,  3.1068e-03,  2.4409e-02,\n",
       "                       1.2708e-02, -1.4653e-02, -8.3632e-03, -1.9030e-02,  3.0481e-03,\n",
       "                      -2.8771e-02, -3.6173e-03, -6.4801e-03, -2.0101e-02, -1.5150e-02,\n",
       "                      -2.2056e-02, -4.6353e-03, -1.5929e-02, -1.6192e-04,  1.1154e-03,\n",
       "                      -4.9951e-03,  2.4628e-02,  9.7810e-04, -8.9694e-03, -4.4513e-04,\n",
       "                      -1.1174e-02,  2.4410e-02, -3.5138e-02, -7.7340e-03,  9.6889e-04,\n",
       "                       1.6460e-02,  1.4048e-03, -4.9809e-03, -2.1690e-02,  5.2324e-03,\n",
       "                      -1.7365e-02], device='cuda:0')),\n",
       "             ('pert_embedding.encoder.transformer.0.linear1.weight',\n",
       "              tensor([[-0.0878, -0.0648, -0.0813,  ...,  0.0235, -0.0179, -0.0623],\n",
       "                      [-0.0763, -0.0209,  0.0027,  ..., -0.0215, -0.0091, -0.0705],\n",
       "                      [-0.0887, -0.0698, -0.0810,  ..., -0.0477, -0.0443,  0.0257],\n",
       "                      ...,\n",
       "                      [-0.0007, -0.0044, -0.0650,  ..., -0.0338, -0.0759, -0.0373],\n",
       "                      [-0.0258,  0.0475,  0.0211,  ..., -0.0036, -0.0527,  0.0112],\n",
       "                      [-0.0938, -0.1289, -0.0223,  ..., -0.0365,  0.0497,  0.0279]],\n",
       "                     device='cuda:0')),\n",
       "             ('pert_embedding.encoder.transformer.0.linear1.bias',\n",
       "              tensor([-0.1254, -0.0322, -0.0010,  0.0448, -0.0489, -0.0946,  0.0133, -0.0133,\n",
       "                       0.0389, -0.0224, -0.1188, -0.0790, -0.0251, -0.1086, -0.1099, -0.0707,\n",
       "                      -0.0855, -0.1531, -0.0902,  0.0021, -0.0480, -0.0764,  0.0070, -0.1372,\n",
       "                      -0.0475, -0.1636,  0.0103, -0.0445, -0.1371, -0.0155, -0.0535,  0.0427,\n",
       "                       0.0571, -0.0654, -0.0739,  0.0464,  0.0620,  0.0318, -0.0166, -0.0843,\n",
       "                      -0.0066, -0.0692, -0.0205, -0.0613, -0.1394, -0.0583, -0.1000, -0.1261,\n",
       "                       0.0393,  0.0108, -0.0081,  0.0096,  0.0950,  0.0508, -0.0292, -0.0929,\n",
       "                       0.0428, -0.0201, -0.1797, -0.1511,  0.0321,  0.0199, -0.0240, -0.0815,\n",
       "                       0.0359, -0.0420,  0.0100, -0.0289, -0.0967, -0.0265,  0.0767,  0.0344,\n",
       "                      -0.0447, -0.0651,  0.0715, -0.0142, -0.0335, -0.0274, -0.0683, -0.0464,\n",
       "                      -0.0970, -0.0358, -0.1389,  0.0444, -0.0518, -0.1297, -0.1237,  0.1029,\n",
       "                      -0.0391, -0.0286,  0.0753,  0.0131,  0.0197, -0.1290,  0.0091, -0.0554,\n",
       "                       0.0457, -0.0176, -0.1533, -0.1587, -0.0290, -0.0340,  0.0309,  0.0486,\n",
       "                      -0.0321, -0.0068, -0.0370, -0.1381, -0.0486, -0.0262, -0.0957,  0.0842,\n",
       "                      -0.1434, -0.0765, -0.0035,  0.0677, -0.0309, -0.0341, -0.0578, -0.1137,\n",
       "                      -0.0904, -0.0836, -0.0658,  0.0708,  0.0860,  0.0015, -0.1036, -0.0739],\n",
       "                     device='cuda:0')),\n",
       "             ('pert_embedding.encoder.transformer.0.linear2.weight',\n",
       "              tensor([[-0.1144, -0.0551,  0.0054,  ...,  0.0340, -0.0585,  0.0475],\n",
       "                      [-0.0909, -0.0149,  0.0637,  ..., -0.0097,  0.0080, -0.0688],\n",
       "                      [-0.0221, -0.0922,  0.0778,  ...,  0.0662, -0.1049, -0.0601],\n",
       "                      ...,\n",
       "                      [-0.0965,  0.0329,  0.0364,  ..., -0.0844, -0.0272, -0.0467],\n",
       "                      [-0.0671,  0.0474, -0.0974,  ..., -0.0675, -0.0528, -0.0323],\n",
       "                      [-0.0524,  0.0215,  0.0730,  ...,  0.0438, -0.0794,  0.0470]],\n",
       "                     device='cuda:0')),\n",
       "             ('pert_embedding.encoder.transformer.0.linear2.bias',\n",
       "              tensor([-0.0155,  0.0850,  0.0527,  0.0717,  0.0029,  0.0234,  0.0961,  0.0170,\n",
       "                      -0.0420,  0.0048, -0.0101,  0.0282, -0.0613, -0.0419, -0.0556, -0.0809,\n",
       "                       0.0434,  0.0984,  0.0572, -0.0671,  0.0272,  0.0519, -0.0509, -0.0354,\n",
       "                      -0.0305,  0.0779,  0.0093, -0.0987, -0.0654,  0.0008,  0.0474, -0.0988,\n",
       "                       0.0072,  0.0271,  0.0138,  0.0140, -0.0979, -0.0493,  0.0449,  0.0806,\n",
       "                      -0.0304,  0.0704,  0.0579,  0.0321,  0.0523,  0.0673, -0.0461,  0.0867,\n",
       "                      -0.0378,  0.0423, -0.0139,  0.0299, -0.0136,  0.0406,  0.0126, -0.0501,\n",
       "                      -0.0521,  0.0267,  0.0740,  0.0524, -0.0452, -0.0088, -0.0449,  0.0283,\n",
       "                      -0.0566, -0.0543,  0.0156, -0.0842,  0.0585, -0.0247,  0.0103,  0.0526,\n",
       "                       0.0159,  0.0629,  0.0189,  0.0383, -0.0332,  0.0143,  0.0467, -0.0845,\n",
       "                       0.0612,  0.0588,  0.0907,  0.0173, -0.0569, -0.0237,  0.0040, -0.0490,\n",
       "                       0.0380, -0.0944,  0.0296, -0.0120, -0.0860, -0.0801, -0.0645, -0.0879],\n",
       "                     device='cuda:0')),\n",
       "             ('pert_embedding.encoder.transformer.0.norm1.weight',\n",
       "              tensor([0.9851, 1.0011, 1.0112, 0.9919, 0.9481, 0.9906, 1.0270, 0.9799, 0.9733,\n",
       "                      0.9466, 1.0049, 0.9704, 1.0036, 0.9910, 0.9662, 0.9734, 0.9752, 0.9684,\n",
       "                      1.0055, 0.9919, 0.9949, 0.9912, 1.0125, 1.0029, 0.9520, 0.9866, 1.0088,\n",
       "                      1.0137, 1.0041, 0.9939, 0.9648, 0.9917, 1.0069, 1.0029, 1.0114, 0.9923,\n",
       "                      1.0391, 1.0018, 1.0203, 0.9833, 0.9928, 0.9643, 0.9958, 0.9375, 0.9653,\n",
       "                      1.0038, 1.0058, 1.0508, 0.9580, 1.0533, 0.9757, 0.9637, 1.0005, 0.9867,\n",
       "                      0.9852, 0.9964, 0.9868, 0.9883, 1.0118, 1.0239, 1.0115, 0.9964, 1.0132,\n",
       "                      1.0114, 0.9899, 1.0212, 0.9920, 0.9907, 0.9856, 0.9729, 0.8977, 1.0180,\n",
       "                      0.9858, 0.9263, 0.9737, 0.9678, 1.0230, 0.9701, 1.0549, 0.9534, 1.0047,\n",
       "                      0.9917, 0.9742, 0.9396, 0.9845, 0.9554, 0.9846, 0.9896, 0.9695, 0.9977,\n",
       "                      0.9516, 0.9965, 1.0531, 1.0240, 0.9911, 0.9953], device='cuda:0')),\n",
       "             ('pert_embedding.encoder.transformer.0.norm1.bias',\n",
       "              tensor([ 7.0938e-04,  1.1212e-02,  1.0939e-02,  6.7832e-03,  9.3212e-03,\n",
       "                       7.6989e-03,  2.7182e-04,  2.3930e-02,  3.4569e-02, -2.5020e-02,\n",
       "                      -1.4191e-03, -1.9020e-02,  9.6016e-03,  6.1254e-03,  2.6698e-03,\n",
       "                       2.6420e-03,  5.9407e-03, -1.2340e-02,  1.1166e-02, -1.5348e-02,\n",
       "                       1.0796e-02,  3.8521e-03,  7.8210e-03, -1.7743e-02, -9.3083e-03,\n",
       "                       1.0001e-02,  1.0338e-03, -1.6833e-02,  1.0426e-02,  5.4754e-03,\n",
       "                       3.0875e-03, -1.3490e-02, -1.4162e-02, -1.4409e-03,  4.1477e-04,\n",
       "                      -9.0030e-03, -6.0652e-03, -2.9335e-03,  2.7201e-03,  1.4826e-02,\n",
       "                      -1.0260e-03, -5.9586e-03, -6.7150e-03,  5.6718e-03,  9.2552e-03,\n",
       "                       1.6300e-02,  1.3431e-02,  5.9826e-03,  3.0942e-03,  2.8013e-03,\n",
       "                       1.4604e-02, -5.4518e-03, -6.1906e-03, -9.8692e-03,  1.1032e-02,\n",
       "                      -1.3061e-02,  1.4147e-02,  2.1123e-03, -1.7516e-02,  3.7762e-03,\n",
       "                       2.0128e-02,  8.5901e-04,  4.8232e-03,  3.0453e-03,  2.2178e-02,\n",
       "                       1.2243e-02, -9.8817e-03, -5.4110e-03, -1.7925e-02,  8.2351e-03,\n",
       "                      -2.1857e-02, -2.4905e-06, -4.2442e-03, -1.9528e-02, -9.8976e-03,\n",
       "                      -1.7952e-02,  2.0698e-04, -1.1605e-02,  6.0133e-03,  3.0818e-03,\n",
       "                      -5.5765e-03,  2.6193e-02,  5.9898e-03, -8.2116e-03,  1.0644e-03,\n",
       "                      -8.2957e-03,  2.4125e-02, -2.9211e-02, -1.0126e-02, -8.1246e-04,\n",
       "                       1.5364e-02,  8.0890e-03, -7.2627e-03, -2.1031e-02,  9.7034e-03,\n",
       "                      -1.8098e-02], device='cuda:0')),\n",
       "             ('pert_embedding.encoder.transformer.0.norm2.weight',\n",
       "              tensor([0.9766, 0.9640, 0.9559, 0.9726, 0.9785, 0.9778, 1.0268, 0.9632, 0.9967,\n",
       "                      0.9702, 0.9855, 0.9897, 0.9947, 0.9908, 0.9600, 0.9770, 0.9593, 0.9733,\n",
       "                      0.9984, 1.0080, 0.9943, 0.9865, 1.0029, 0.9987, 0.9493, 1.0026, 1.0202,\n",
       "                      0.9940, 0.9965, 0.9960, 0.9627, 0.9931, 0.9935, 1.0016, 0.9828, 0.9555,\n",
       "                      1.0166, 0.9946, 1.0398, 0.9865, 1.0006, 0.9801, 0.9685, 0.9650, 0.9752,\n",
       "                      1.0153, 0.9960, 1.0312, 0.9702, 1.0546, 0.9944, 0.9796, 0.9959, 0.9959,\n",
       "                      1.0064, 1.0009, 0.9819, 0.9859, 1.0199, 0.9923, 1.0180, 1.0025, 1.0163,\n",
       "                      1.0156, 0.9505, 1.0097, 0.9964, 0.9767, 0.9696, 0.9578, 0.9530, 1.0159,\n",
       "                      0.9638, 0.9435, 0.9773, 0.9731, 1.0229, 0.9882, 1.0603, 0.9758, 0.9913,\n",
       "                      0.9944, 0.9817, 0.9441, 0.9751, 0.9429, 0.9666, 0.9969, 0.9600, 0.9876,\n",
       "                      0.9876, 1.0084, 1.0416, 1.0113, 0.9804, 0.9842], device='cuda:0')),\n",
       "             ('pert_embedding.encoder.transformer.0.norm2.bias',\n",
       "              tensor([-7.3564e-03,  1.1086e-02, -1.4183e-02,  9.0269e-03, -1.4472e-02,\n",
       "                      -6.8390e-03,  1.0517e-02,  1.8122e-02,  2.3478e-02, -1.5224e-02,\n",
       "                       5.2141e-03, -5.8771e-03, -8.1449e-03,  7.3163e-03,  2.2716e-02,\n",
       "                      -2.5556e-02,  9.6130e-03,  1.2312e-02,  7.8347e-03, -9.5987e-03,\n",
       "                       6.3020e-03,  6.7803e-03, -6.2089e-04, -1.5492e-02, -7.3646e-03,\n",
       "                       2.3768e-03, -2.1156e-05, -1.8633e-02,  1.5461e-02,  9.2568e-03,\n",
       "                      -1.0730e-02, -1.6249e-02, -3.6689e-04, -2.0805e-02,  1.9508e-02,\n",
       "                       5.3133e-03, -1.1332e-02, -1.1361e-02, -2.7360e-02,  7.5387e-03,\n",
       "                       2.5084e-03,  1.1099e-02,  2.4130e-02, -1.8594e-02,  1.5951e-02,\n",
       "                      -2.9353e-03,  1.4653e-02, -4.6532e-04,  4.3080e-03,  1.2506e-02,\n",
       "                       6.4429e-03,  3.6206e-02, -5.2899e-03, -3.4538e-02,  3.4313e-02,\n",
       "                      -1.7231e-02,  1.2341e-02, -2.2355e-02, -9.9948e-03,  3.1084e-02,\n",
       "                       3.9608e-02, -2.1862e-02, -1.9137e-02, -7.6551e-03,  2.0779e-02,\n",
       "                       1.1269e-02, -7.1351e-03,  8.4111e-03, -2.1904e-02,  1.2445e-02,\n",
       "                      -1.8482e-03,  2.0691e-02,  1.1021e-02, -8.3765e-03, -1.1979e-03,\n",
       "                      -1.2853e-02,  8.1840e-03,  2.0281e-03,  1.7290e-02, -2.4797e-02,\n",
       "                      -3.2412e-03,  3.1281e-02,  3.4266e-02,  6.3520e-03,  3.6568e-03,\n",
       "                      -3.2748e-02,  3.7735e-02, -3.3400e-02,  1.1665e-02, -1.2444e-02,\n",
       "                       1.5656e-02,  2.2675e-02, -1.3184e-02, -4.5073e-02,  5.7967e-03,\n",
       "                      -1.7066e-02], device='cuda:0')),\n",
       "             ('pert_embedding.encoder.transformer.1.self_attn.in_proj_weight',\n",
       "              tensor([[ 0.0359, -0.0303,  0.0543,  ...,  0.0192,  0.0050, -0.0038],\n",
       "                      [ 0.0332,  0.0057,  0.0820,  ..., -0.0082,  0.0485, -0.0889],\n",
       "                      [ 0.0126, -0.0800,  0.0065,  ..., -0.0508,  0.0426,  0.0062],\n",
       "                      ...,\n",
       "                      [ 0.0429, -0.0672,  0.0232,  ...,  0.0042,  0.0552, -0.0504],\n",
       "                      [-0.1058,  0.0605,  0.0560,  ...,  0.0822, -0.0444,  0.1189],\n",
       "                      [ 0.1030, -0.0461, -0.0126,  ...,  0.0928,  0.0538,  0.0619]],\n",
       "                     device='cuda:0')),\n",
       "             ('pert_embedding.encoder.transformer.1.self_attn.in_proj_bias',\n",
       "              tensor([-8.5036e-03, -8.7594e-04, -1.2590e-02, -1.4641e-02,  1.3568e-02,\n",
       "                      -3.0895e-02, -4.0509e-03, -4.5662e-03, -5.7750e-04,  1.7404e-02,\n",
       "                       3.5393e-02, -8.7135e-03, -1.0916e-02, -1.4981e-02,  2.5572e-02,\n",
       "                      -7.3094e-03, -2.2725e-02, -2.5863e-03,  8.6820e-03,  4.2134e-03,\n",
       "                       6.9989e-04,  1.9521e-02,  7.3813e-03, -1.7828e-02, -1.2553e-02,\n",
       "                       1.4815e-02,  2.9663e-02, -1.3679e-02, -1.6856e-02,  1.5989e-02,\n",
       "                      -2.6139e-03, -3.0542e-02,  1.2537e-02,  1.5163e-02, -2.5391e-02,\n",
       "                      -9.9672e-03,  2.0596e-03,  2.2818e-02,  8.1961e-04,  4.9432e-02,\n",
       "                       1.4449e-02,  1.4327e-03, -2.0115e-02, -9.5213e-03, -6.7231e-03,\n",
       "                      -2.0424e-04, -3.6547e-02, -1.5355e-02, -2.2035e-02,  1.1858e-02,\n",
       "                      -1.9959e-02, -6.5401e-03,  1.7892e-03,  8.2995e-03, -7.5142e-03,\n",
       "                      -2.3353e-02,  8.6089e-03,  1.5688e-02,  3.9356e-03, -2.3693e-02,\n",
       "                       1.3058e-02,  1.5693e-02,  4.4674e-02,  3.1460e-02, -2.8276e-02,\n",
       "                       9.7257e-03, -7.1826e-03,  9.6512e-03, -2.8395e-02,  1.0711e-02,\n",
       "                      -1.6135e-02, -2.5559e-02, -1.3904e-02,  1.9552e-02, -1.7778e-02,\n",
       "                       1.8687e-02, -2.1628e-02,  1.1627e-02,  1.0013e-02,  3.1235e-04,\n",
       "                      -9.1884e-03, -2.0288e-02,  2.0567e-02, -6.5378e-04, -2.5761e-02,\n",
       "                      -1.6852e-02, -1.2079e-02,  9.3685e-03,  3.1144e-02, -1.4399e-02,\n",
       "                       2.7720e-02,  2.2451e-02, -3.3601e-02, -3.3051e-03, -2.4316e-02,\n",
       "                       3.5994e-02,  1.0234e-03,  2.4938e-02, -4.4925e-02, -7.5439e-03,\n",
       "                      -1.9346e-02, -2.8642e-02,  8.5858e-03, -1.8671e-03, -4.9192e-02,\n",
       "                      -1.1581e-02, -3.9912e-02,  3.0948e-02, -2.7418e-02,  9.0281e-03,\n",
       "                       1.3900e-02,  4.6583e-03, -1.1973e-02,  1.8731e-03, -7.6772e-03,\n",
       "                       1.0946e-02,  3.4231e-02, -2.7329e-03,  3.1019e-02, -1.5877e-03,\n",
       "                      -2.3504e-02, -1.8764e-02,  2.1877e-02,  1.4051e-02,  2.9437e-02,\n",
       "                      -4.2635e-02, -5.1069e-02,  1.9879e-02,  1.8869e-02,  1.4547e-01,\n",
       "                      -7.6674e-02, -7.8536e-02, -8.8624e-03,  1.2356e-01, -3.5718e-02,\n",
       "                       1.0424e-01, -6.0998e-03,  6.6030e-02, -5.8524e-02, -9.2782e-02,\n",
       "                       7.0100e-02,  3.0119e-02,  1.2026e-01,  1.8475e-02, -1.1570e-01,\n",
       "                      -6.0860e-02,  1.0430e-01, -1.7720e-01, -2.8719e-03, -2.3218e-02,\n",
       "                       7.2219e-02, -3.8494e-02, -1.1803e-02,  6.4470e-02,  1.3179e-01,\n",
       "                      -1.1808e-01,  8.4708e-02, -2.2710e-02, -7.9221e-02, -1.7287e-03,\n",
       "                       2.1039e-03, -1.8704e-02,  5.8385e-02, -2.6881e-02,  8.3494e-03,\n",
       "                       2.8767e-02, -2.1729e-03,  4.8176e-02,  3.6084e-02, -2.0892e-02,\n",
       "                      -2.4155e-04,  2.3234e-02,  2.9812e-02,  1.9465e-03,  1.9924e-03,\n",
       "                      -1.5067e-02, -2.5259e-02,  3.2480e-02,  2.3503e-02,  3.9334e-02,\n",
       "                      -5.7840e-03,  4.3319e-02,  3.2750e-02,  3.2810e-02, -1.6821e-02,\n",
       "                       5.8245e-02, -3.4263e-02, -4.9786e-03,  4.3601e-02, -5.9459e-03,\n",
       "                      -1.2399e-02, -5.7095e-03,  5.4787e-03, -1.3304e-02, -4.2934e-03,\n",
       "                      -8.8840e-03, -5.6292e-03, -1.7826e-02, -2.4210e-03,  1.5640e-03,\n",
       "                      -5.8139e-03,  1.2063e-02, -2.2452e-02, -5.8995e-03, -5.0228e-04,\n",
       "                      -1.0929e-02,  4.8291e-03,  1.5209e-03, -8.7038e-03,  6.5380e-03,\n",
       "                       5.6457e-04,  5.5124e-03,  5.8033e-03,  3.7989e-03, -7.5852e-03,\n",
       "                       2.1118e-03,  1.0981e-02, -1.7602e-02, -1.0683e-03, -8.2550e-03,\n",
       "                       1.0909e-02, -2.8864e-04, -8.5093e-03,  1.3354e-02,  1.1709e-02,\n",
       "                      -1.6595e-02,  2.2146e-03,  9.7520e-04,  2.4452e-04, -1.3574e-02,\n",
       "                       1.9569e-03,  1.4077e-04, -6.8872e-04, -6.5712e-04,  9.3798e-03,\n",
       "                       1.1593e-02,  1.0619e-03,  6.0854e-04, -1.4606e-03, -9.4289e-04,\n",
       "                       2.7114e-03, -1.3257e-02,  1.4679e-03, -2.1550e-03,  5.7345e-03,\n",
       "                       1.5424e-02,  3.7847e-03, -1.2683e-03,  2.0111e-03,  4.6746e-03,\n",
       "                      -1.2271e-03,  6.6546e-04,  1.4182e-02, -1.0445e-02,  1.4025e-04,\n",
       "                      -1.3828e-02, -8.1984e-03,  1.0580e-02,  3.4188e-03,  8.5707e-03,\n",
       "                       5.3152e-03, -6.1870e-03,  9.3492e-03, -3.4911e-03,  5.3339e-03,\n",
       "                      -8.7419e-04,  1.0321e-03, -1.3317e-02, -5.2266e-03,  1.8991e-02,\n",
       "                      -2.2100e-04,  1.6402e-03,  4.1407e-03,  1.6398e-03,  1.3571e-02,\n",
       "                       7.6301e-03,  4.8401e-03, -8.6006e-03,  6.7758e-03,  4.7672e-03,\n",
       "                      -1.2317e-02,  1.5975e-04,  7.0326e-03, -6.2904e-03,  6.0594e-04,\n",
       "                       2.8198e-03, -2.4499e-03,  3.3663e-03], device='cuda:0')),\n",
       "             ('pert_embedding.encoder.transformer.1.self_attn.out_proj.weight',\n",
       "              tensor([[ 0.0950,  0.0026, -0.0634,  ...,  0.0088,  0.0576,  0.0375],\n",
       "                      [ 0.0806, -0.0508,  0.0116,  ...,  0.0013, -0.0128,  0.0497],\n",
       "                      [-0.0865, -0.0091, -0.0453,  ...,  0.0455,  0.0020, -0.0120],\n",
       "                      ...,\n",
       "                      [ 0.0970, -0.1044, -0.0531,  ..., -0.0515,  0.0959, -0.0583],\n",
       "                      [ 0.0121,  0.0056, -0.0318,  ...,  0.0944, -0.0497, -0.0618],\n",
       "                      [ 0.0384, -0.0467, -0.0073,  ..., -0.0436, -0.0928, -0.0734]],\n",
       "                     device='cuda:0')),\n",
       "             ('pert_embedding.encoder.transformer.1.self_attn.out_proj.bias',\n",
       "              tensor([-7.5155e-04,  2.1183e-02, -1.0996e-02,  1.6330e-02, -1.0091e-02,\n",
       "                      -1.2079e-03,  2.0962e-02, -4.0136e-04,  1.1616e-02, -3.3063e-03,\n",
       "                       1.2123e-02,  6.5316e-03, -2.0154e-02, -3.2714e-03,  1.0554e-02,\n",
       "                      -8.6896e-03, -1.2031e-03,  1.0505e-02,  1.1412e-03,  2.1051e-03,\n",
       "                      -4.8203e-03, -3.5833e-04, -4.1786e-03, -9.7761e-03,  9.0129e-03,\n",
       "                       1.2269e-02, -2.2865e-03, -4.0503e-03,  6.0573e-03,  3.4203e-03,\n",
       "                       2.7468e-03, -2.2931e-02,  1.4089e-02, -8.4143e-03,  5.6115e-03,\n",
       "                       1.6970e-02, -2.2710e-02, -1.6734e-02, -2.3126e-02, -2.9896e-03,\n",
       "                       4.3232e-05,  2.1004e-02,  1.1809e-02, -2.4532e-02,  2.7446e-03,\n",
       "                      -8.3615e-03,  2.5310e-03,  4.2631e-03,  1.6475e-02, -5.2310e-03,\n",
       "                      -4.0432e-03,  2.4079e-02,  8.7213e-03, -3.5545e-02,  2.3738e-02,\n",
       "                      -1.7964e-02,  1.5056e-03, -1.0890e-02,  1.5590e-03,  2.6562e-02,\n",
       "                       2.4437e-02, -3.0200e-02, -1.5792e-02, -1.7647e-02,  7.7979e-03,\n",
       "                       6.5885e-04,  3.5422e-03, -2.2336e-03, -7.9083e-03,  1.0150e-03,\n",
       "                      -3.7653e-03,  1.1570e-02, -7.0673e-03,  4.9200e-03, -1.1143e-02,\n",
       "                      -5.9362e-03,  6.6307e-03,  5.2448e-03,  9.5771e-03, -2.8516e-02,\n",
       "                       8.5020e-03,  2.5054e-02,  2.1927e-02,  1.7802e-02,  1.1752e-02,\n",
       "                      -2.8327e-02,  2.4779e-02, -2.2560e-02,  2.8106e-02, -1.8519e-02,\n",
       "                       1.8740e-02,  1.1213e-02, -5.7768e-03, -3.8432e-02,  5.4396e-03,\n",
       "                      -5.0180e-03], device='cuda:0')),\n",
       "             ('pert_embedding.encoder.transformer.1.linear1.weight',\n",
       "              tensor([[-0.0627, -0.0739,  0.0799,  ...,  0.0801, -0.0293, -0.0583],\n",
       "                      [-0.0315,  0.0424, -0.0969,  ...,  0.0567,  0.0977,  0.0597],\n",
       "                      [-0.0186, -0.0164,  0.0103,  ..., -0.0683, -0.0276,  0.0461],\n",
       "                      ...,\n",
       "                      [ 0.0201, -0.0229,  0.0500,  ...,  0.1112,  0.0531, -0.0824],\n",
       "                      [-0.0542,  0.0427,  0.0604,  ...,  0.0094, -0.0312, -0.0572],\n",
       "                      [-0.0361,  0.0327,  0.1005,  ...,  0.0068, -0.0802, -0.0198]],\n",
       "                     device='cuda:0')),\n",
       "             ('pert_embedding.encoder.transformer.1.linear1.bias',\n",
       "              tensor([ 3.5102e-02, -1.2070e-01, -1.9482e-02, -5.6474e-02,  3.8225e-02,\n",
       "                       7.4867e-02,  6.5105e-02, -1.0019e-01, -8.1839e-02, -4.0623e-03,\n",
       "                       2.1335e-02,  6.8803e-02, -1.3962e-02, -6.9778e-03, -1.0745e-02,\n",
       "                       2.4815e-02, -7.2726e-03,  3.2659e-02, -3.1561e-02, -7.1019e-02,\n",
       "                      -4.2539e-02,  3.8449e-03, -2.8158e-02,  3.5449e-02, -8.7600e-03,\n",
       "                       1.1275e-01, -2.5665e-02,  6.1014e-02, -1.2639e-01,  7.4036e-02,\n",
       "                      -9.3527e-02, -7.5984e-02,  1.2628e-02, -1.2639e-01, -4.3945e-02,\n",
       "                      -1.1763e-01, -4.0723e-02,  2.1154e-02, -6.7650e-02,  1.0115e-02,\n",
       "                      -8.3742e-02,  8.1018e-02, -8.2334e-02, -6.5679e-03, -5.1311e-05,\n",
       "                       8.0265e-02,  5.4990e-02, -1.2434e-02, -3.0931e-02, -1.0618e-01,\n",
       "                       6.4214e-02,  1.5290e-02, -7.3703e-02, -3.8327e-02, -1.3281e-02,\n",
       "                       2.8839e-03, -7.8887e-02, -1.9982e-02,  3.3927e-02, -5.3295e-02,\n",
       "                       6.8806e-02,  2.9960e-02,  7.9721e-02, -3.6410e-02, -9.9288e-02,\n",
       "                      -7.9470e-02, -1.9165e-02, -7.9113e-02,  1.5783e-02, -9.6570e-02,\n",
       "                       1.0074e-01, -1.9275e-02, -7.6221e-02, -1.2420e-01, -1.3026e-01,\n",
       "                      -8.1474e-03,  8.0372e-02, -6.2608e-02, -4.6163e-02, -2.1619e-02,\n",
       "                      -6.3314e-02, -6.9663e-02,  5.5643e-03,  2.6301e-02, -4.4715e-03,\n",
       "                      -8.1000e-02, -9.8361e-02, -6.2109e-02, -4.1197e-02,  7.5597e-02,\n",
       "                      -1.1957e-01, -1.1122e-02, -1.3090e-01,  6.1751e-02, -2.5069e-02,\n",
       "                       4.5237e-02,  8.4543e-02, -1.0392e-01,  3.3348e-02, -1.1257e-02,\n",
       "                       5.4492e-02, -8.1146e-02,  8.7010e-02,  2.7863e-02, -7.6501e-02,\n",
       "                      -1.2399e-01,  1.5266e-02, -1.1521e-01, -1.1338e-01,  5.6571e-02,\n",
       "                       9.5709e-02,  3.0759e-02,  9.3323e-02, -1.0858e-01, -4.5471e-02,\n",
       "                       3.5804e-02, -6.3192e-03, -8.1744e-02, -1.4465e-01,  3.0474e-02,\n",
       "                      -9.8352e-02, -7.2205e-03, -7.3646e-02, -7.2028e-02,  6.2744e-02,\n",
       "                      -1.5370e-01,  1.0570e-01,  2.3701e-02], device='cuda:0')),\n",
       "             ('pert_embedding.encoder.transformer.1.linear2.weight',\n",
       "              tensor([[ 0.0381, -0.0271,  0.0677,  ...,  0.0102, -0.1006,  0.0034],\n",
       "                      [ 0.0966,  0.0026,  0.0947,  ..., -0.0169, -0.0605, -0.0957],\n",
       "                      [ 0.0231, -0.0348, -0.0146,  ..., -0.0882, -0.1014, -0.1031],\n",
       "                      ...,\n",
       "                      [-0.0589,  0.0834, -0.0148,  ...,  0.0558, -0.0391,  0.0452],\n",
       "                      [-0.0759, -0.0336,  0.0653,  ..., -0.0525, -0.0068, -0.0245],\n",
       "                      [ 0.0340, -0.0726,  0.0228,  ..., -0.0787,  0.0111,  0.0383]],\n",
       "                     device='cuda:0')),\n",
       "             ('pert_embedding.encoder.transformer.1.linear2.bias',\n",
       "              tensor([-0.0626, -0.0061, -0.0899,  0.0082, -0.0612, -0.0254, -0.0424, -0.0588,\n",
       "                       0.0615, -0.0439, -0.0390,  0.0414, -0.1076,  0.0600, -0.0324,  0.0622,\n",
       "                       0.0507,  0.0043,  0.0462, -0.0705, -0.0051, -0.0619,  0.0589,  0.0388,\n",
       "                       0.0284, -0.0322, -0.0740,  0.0816, -0.0545,  0.0733,  0.0654, -0.0487,\n",
       "                       0.0992, -0.0701,  0.0057, -0.0188, -0.0406,  0.0115, -0.0025,  0.0632,\n",
       "                      -0.0645,  0.1075, -0.0202, -0.0951, -0.0581,  0.0395, -0.0045,  0.0254,\n",
       "                       0.0563, -0.0587, -0.0171,  0.0501, -0.0169, -0.0516,  0.0521, -0.0982,\n",
       "                      -0.0864, -0.0430, -0.0294, -0.0060,  0.1092, -0.0234, -0.0371,  0.0369,\n",
       "                       0.0329,  0.0159, -0.0611,  0.0159, -0.0387, -0.0249, -0.0263,  0.0400,\n",
       "                       0.0255,  0.0938,  0.0339,  0.0019, -0.0712, -0.0228,  0.0888, -0.0065,\n",
       "                      -0.0018,  0.0152,  0.0139,  0.1021, -0.0519, -0.0953,  0.0391,  0.0207,\n",
       "                       0.1299, -0.0517,  0.0623,  0.0701,  0.0670,  0.0382,  0.0313,  0.0452],\n",
       "                     device='cuda:0')),\n",
       "             ('pert_embedding.encoder.transformer.1.norm1.weight',\n",
       "              tensor([0.9811, 0.9872, 0.9649, 0.9722, 0.9772, 0.9759, 1.0244, 0.9614, 0.9958,\n",
       "                      0.9812, 0.9874, 0.9968, 1.0018, 0.9922, 0.9661, 0.9779, 0.9611, 0.9647,\n",
       "                      0.9967, 1.0092, 0.9966, 0.9892, 1.0014, 0.9972, 0.9581, 1.0059, 1.0221,\n",
       "                      0.9894, 0.9980, 0.9956, 0.9700, 0.9935, 0.9987, 1.0072, 0.9853, 0.9816,\n",
       "                      1.0256, 0.9922, 1.0331, 0.9889, 0.9941, 0.9890, 0.9698, 0.9708, 0.9764,\n",
       "                      1.0149, 0.9954, 1.0036, 0.9721, 1.0706, 0.9953, 0.9814, 0.9926, 0.9976,\n",
       "                      1.0061, 1.0007, 0.9867, 0.9904, 1.0214, 0.9929, 1.0134, 1.0071, 1.0206,\n",
       "                      1.0184, 0.9601, 0.9999, 1.0018, 0.9807, 0.9714, 0.9670, 0.9525, 1.0108,\n",
       "                      0.9792, 0.9485, 0.9754, 0.9768, 1.0068, 0.9878, 1.0503, 0.9979, 0.9923,\n",
       "                      0.9940, 0.9860, 0.9514, 0.9784, 0.9479, 0.9695, 0.9956, 0.9719, 0.9838,\n",
       "                      0.9895, 1.0072, 1.0445, 1.0145, 0.9847, 0.9903], device='cuda:0')),\n",
       "             ('pert_embedding.encoder.transformer.1.norm1.bias',\n",
       "              tensor([-1.6462e-03,  1.9492e-02, -1.1699e-02,  1.4920e-02, -8.2371e-03,\n",
       "                      -2.9145e-03,  1.8062e-02,  5.9157e-04,  1.2452e-02, -4.1519e-03,\n",
       "                       9.3108e-03,  5.6727e-03, -1.7745e-02, -4.6522e-03,  1.3321e-02,\n",
       "                      -7.3342e-03, -9.9554e-05,  1.2129e-02,  4.7919e-04,  2.9021e-03,\n",
       "                      -1.2061e-03,  5.6037e-04, -6.6253e-03, -7.6263e-03,  1.0271e-02,\n",
       "                       1.0670e-02, -3.9061e-03, -1.0410e-03,  8.6295e-03,  6.1566e-03,\n",
       "                       5.5988e-04, -1.9603e-02,  1.3812e-02, -7.2827e-03,  7.2163e-03,\n",
       "                       1.7282e-02, -2.2138e-02, -1.5360e-02, -2.0314e-02, -1.7722e-04,\n",
       "                      -2.5121e-03,  1.8379e-02,  1.0114e-02, -2.2975e-02,  2.2817e-03,\n",
       "                      -4.5137e-03,  1.2528e-03,  2.6358e-03,  1.7233e-02, -9.9361e-03,\n",
       "                      -1.4641e-03,  2.1886e-02,  1.0626e-02, -3.1844e-02,  2.0844e-02,\n",
       "                      -1.9427e-02,  5.2722e-04, -1.0970e-02,  2.9793e-03,  2.7704e-02,\n",
       "                       2.1571e-02, -2.9129e-02, -1.2738e-02, -1.5246e-02,  6.4251e-03,\n",
       "                      -1.7686e-04,  2.0728e-03, -1.8347e-03, -6.3956e-03,  1.9222e-04,\n",
       "                      -2.6261e-03,  9.4951e-03, -6.6061e-03,  5.6667e-03, -7.0321e-03,\n",
       "                      -4.3316e-03,  4.6021e-03,  4.0086e-03,  7.1919e-03, -2.5011e-02,\n",
       "                       8.5573e-03,  2.4141e-02,  1.9291e-02,  1.5987e-02,  1.1099e-02,\n",
       "                      -2.7230e-02,  2.3074e-02, -1.9401e-02,  2.6176e-02, -1.6138e-02,\n",
       "                       1.9352e-02,  8.7391e-03, -3.1573e-03, -3.4796e-02,  4.2374e-03,\n",
       "                      -3.0487e-03], device='cuda:0')),\n",
       "             ('pert_embedding.encoder.transformer.1.norm2.weight',\n",
       "              tensor([0.9950, 0.9818, 0.9787, 0.9742, 0.9823, 0.9079, 1.0272, 0.9515, 0.9905,\n",
       "                      0.9868, 0.9670, 1.0113, 1.0111, 0.9494, 0.9952, 0.9856, 0.9774, 0.9969,\n",
       "                      0.9961, 0.9896, 0.9868, 0.9708, 0.9783, 0.9781, 0.9570, 1.0002, 1.0136,\n",
       "                      0.9747, 0.9778, 0.9937, 0.9566, 0.9821, 0.9946, 1.0059, 0.9822, 0.9890,\n",
       "                      1.0116, 1.0008, 1.0361, 0.9816, 0.9732, 0.9971, 0.9609, 0.9839, 0.9612,\n",
       "                      1.0067, 0.9665, 1.0028, 0.9821, 1.0693, 1.0036, 0.9838, 0.9640, 0.9917,\n",
       "                      1.0032, 0.9847, 0.9933, 1.0016, 1.0170, 0.9863, 1.0132, 1.0037, 1.0355,\n",
       "                      1.0229, 0.9477, 0.9886, 1.0000, 0.9882, 0.9754, 0.9562, 0.9780, 0.9932,\n",
       "                      0.9868, 0.9693, 0.9577, 0.9858, 1.0138, 1.0011, 1.0163, 1.0009, 0.9997,\n",
       "                      0.9905, 0.9770, 0.9672, 0.9837, 0.9855, 0.9756, 0.9954, 0.9855, 0.9798,\n",
       "                      0.9922, 1.0027, 1.0344, 1.0129, 0.9821, 0.9801], device='cuda:0')),\n",
       "             ('pert_embedding.encoder.transformer.1.norm2.bias',\n",
       "              tensor([ 0.0012,  0.0176, -0.0132,  0.0140, -0.0102, -0.0071,  0.0057,  0.0065,\n",
       "                      -0.0016, -0.0164,  0.0161,  0.0023, -0.0193, -0.0018,  0.0083, -0.0173,\n",
       "                       0.0140,  0.0077, -0.0003, -0.0004, -0.0064,  0.0072, -0.0133, -0.0158,\n",
       "                       0.0097,  0.0129,  0.0002, -0.0060,  0.0035,  0.0012, -0.0191, -0.0091,\n",
       "                       0.0143, -0.0070,  0.0153,  0.0166, -0.0195, -0.0158, -0.0175, -0.0013,\n",
       "                      -0.0021,  0.0201,  0.0263, -0.0138,  0.0059, -0.0105,  0.0034, -0.0056,\n",
       "                       0.0097,  0.0068,  0.0104,  0.0269,  0.0085, -0.0352,  0.0186, -0.0374,\n",
       "                      -0.0104, -0.0235,  0.0036,  0.0153,  0.0312, -0.0289, -0.0126, -0.0140,\n",
       "                       0.0013,  0.0017, -0.0026, -0.0054, -0.0182,  0.0090,  0.0010,  0.0139,\n",
       "                      -0.0028,  0.0033, -0.0125, -0.0036,  0.0045,  0.0093,  0.0187, -0.0289,\n",
       "                       0.0030,  0.0411,  0.0241,  0.0162, -0.0004, -0.0251,  0.0126, -0.0197,\n",
       "                       0.0255, -0.0101,  0.0091,  0.0075, -0.0122, -0.0334,  0.0135, -0.0176],\n",
       "                     device='cuda:0')),\n",
       "             ('pert_embedding.encoder.transformer.2.self_attn.in_proj_weight',\n",
       "              tensor([[-0.1185,  0.0479, -0.1223,  ...,  0.0645, -0.0255,  0.0218],\n",
       "                      [-0.0463,  0.0712, -0.0907,  ..., -0.0917,  0.0655, -0.0769],\n",
       "                      [ 0.0390,  0.0915, -0.0692,  ..., -0.1033, -0.1028, -0.0130],\n",
       "                      ...,\n",
       "                      [-0.0108,  0.0941, -0.0266,  ..., -0.0253,  0.0538, -0.0344],\n",
       "                      [-0.0627,  0.0025,  0.1289,  ...,  0.0965, -0.0923, -0.0456],\n",
       "                      [-0.1273, -0.0545, -0.1005,  ...,  0.0130,  0.0342,  0.0130]],\n",
       "                     device='cuda:0')),\n",
       "             ('pert_embedding.encoder.transformer.2.self_attn.in_proj_bias',\n",
       "              tensor([ 1.2072e-02, -1.7442e-03,  6.3206e-03, -2.7359e-02, -2.5112e-02,\n",
       "                      -2.1921e-02, -1.6456e-02, -1.0548e-02,  3.9965e-02,  1.9336e-02,\n",
       "                      -7.7593e-03, -7.6989e-03, -3.8231e-02, -3.4450e-02, -1.6100e-02,\n",
       "                       2.2257e-03, -1.3407e-02, -3.1474e-02,  6.7903e-03, -6.8419e-04,\n",
       "                       1.9198e-02, -1.1129e-02,  3.6018e-02, -4.5180e-03, -1.4258e-02,\n",
       "                      -7.1133e-03, -3.0245e-02,  1.2225e-02,  1.4275e-03, -1.3281e-02,\n",
       "                      -2.8411e-02, -8.0549e-03,  2.6548e-02,  8.6941e-03,  1.4940e-02,\n",
       "                      -2.3342e-02, -1.2639e-02,  3.8425e-02, -4.2241e-03,  5.1019e-02,\n",
       "                      -3.1874e-02, -2.8012e-02,  2.8254e-02,  2.4539e-02,  7.4516e-03,\n",
       "                      -8.5852e-03, -3.7305e-02, -1.4915e-02, -1.6786e-02, -3.4656e-02,\n",
       "                       4.0665e-03,  3.0657e-02, -4.2959e-02,  8.2434e-03,  3.1949e-02,\n",
       "                       6.2775e-03, -4.0005e-02,  1.3318e-02,  2.6092e-02, -3.4683e-03,\n",
       "                      -3.8018e-02, -3.8582e-02, -1.0673e-03, -1.9440e-02,  1.1261e-02,\n",
       "                      -1.2830e-02,  2.5174e-02, -6.1446e-03,  1.5333e-02, -1.0494e-03,\n",
       "                       3.6656e-03, -2.0997e-02, -2.3515e-02, -4.1325e-03,  2.7837e-02,\n",
       "                      -6.4669e-03,  2.5702e-02, -1.0653e-02,  8.0868e-03, -7.6420e-03,\n",
       "                       1.0543e-02, -2.6936e-02,  1.2462e-02,  3.2538e-02, -5.7427e-03,\n",
       "                       5.5242e-03, -1.0816e-03, -5.3036e-04, -7.8440e-03,  5.4580e-02,\n",
       "                      -7.2928e-03,  7.0106e-03, -2.2736e-02,  1.7482e-02,  3.3209e-02,\n",
       "                      -1.0219e-02,  2.6102e-02,  1.5609e-02,  9.8901e-03,  3.6004e-02,\n",
       "                      -4.2109e-02,  2.6469e-02,  5.6784e-02,  4.5056e-02, -1.7965e-02,\n",
       "                       2.6009e-03,  2.7304e-02, -1.9350e-02, -1.7096e-02,  1.2197e-02,\n",
       "                      -1.1111e-02, -3.3799e-02, -3.2093e-02,  5.1063e-02,  9.7210e-02,\n",
       "                      -6.2277e-03,  1.0874e-02, -5.2432e-02, -1.3601e-02,  2.6840e-02,\n",
       "                      -1.5694e-02, -1.7981e-02, -2.7616e-02,  4.7337e-03, -2.9682e-02,\n",
       "                      -8.4457e-02,  2.9319e-02,  4.3169e-02,  2.7772e-01, -1.1129e-01,\n",
       "                       5.6918e-02, -4.3360e-01, -3.4467e-01,  1.6034e-01, -6.9085e-02,\n",
       "                       2.7829e-01, -3.6860e-01, -1.3165e-01,  1.5845e-01,  2.2037e-01,\n",
       "                      -1.9641e-01, -1.5120e-02, -1.9246e-01, -3.2116e-01, -3.4986e-01,\n",
       "                      -3.2804e-01,  2.9149e-01,  3.2843e-01, -2.0177e-01,  2.5697e-01,\n",
       "                       1.2138e-01,  2.8312e-01, -3.3904e-01,  5.2973e-02,  2.0843e-01,\n",
       "                      -1.3349e-01, -2.8511e-01, -1.5215e-01,  5.1216e-02, -3.3118e-01,\n",
       "                      -1.1141e-02, -5.1701e-02, -4.9031e-02, -4.9267e-03,  1.6861e-03,\n",
       "                       8.5911e-02, -3.4343e-03,  7.9718e-02,  7.2994e-02, -5.5108e-02,\n",
       "                      -7.9227e-03,  5.3465e-02,  4.7257e-02,  3.3084e-02, -6.2527e-02,\n",
       "                       1.2399e-01,  7.6577e-02,  1.9666e-02, -8.4154e-02,  5.0239e-02,\n",
       "                       3.3455e-02, -3.3813e-02, -5.4818e-02, -1.9693e-03, -2.2766e-02,\n",
       "                      -3.1552e-02,  3.8823e-02, -3.2551e-02, -2.1232e-02,  3.9034e-02,\n",
       "                      -4.1760e-02, -1.5901e-02,  3.5675e-03, -1.0086e-02,  1.8451e-03,\n",
       "                      -4.6716e-04,  2.0601e-02,  8.8820e-03,  9.2038e-03, -4.8055e-03,\n",
       "                       5.4952e-04, -1.2735e-02,  3.5327e-04, -6.6320e-03, -1.2332e-02,\n",
       "                       1.5497e-02,  1.5510e-02, -6.5112e-03,  2.8596e-03, -1.1257e-02,\n",
       "                       9.1257e-03,  1.4138e-03, -9.9545e-03,  3.3822e-03, -6.2031e-03,\n",
       "                      -4.6684e-03, -8.9723e-03, -8.2474e-05,  3.1287e-03, -1.2174e-02,\n",
       "                      -2.6333e-03, -1.5544e-03,  1.2873e-02, -4.1643e-03,  6.6251e-03,\n",
       "                       1.5651e-02,  1.8767e-03,  8.8440e-04,  1.0147e-02,  6.6377e-03,\n",
       "                       1.0059e-02,  1.5985e-02,  1.9583e-02,  8.3470e-03,  8.3368e-03,\n",
       "                       8.4496e-03,  8.7461e-03, -7.5613e-03, -3.8123e-03,  3.5502e-03,\n",
       "                      -6.0702e-03,  6.5695e-03,  4.8860e-03,  4.3246e-03, -8.8511e-03,\n",
       "                      -1.9017e-02,  2.0171e-03, -4.1071e-03,  5.8108e-03, -1.0396e-02,\n",
       "                       7.6689e-03,  4.4024e-03, -1.3218e-02, -8.7345e-03, -3.4903e-03,\n",
       "                       5.8993e-03, -7.1066e-03,  6.4725e-03,  6.6266e-04,  8.0028e-03,\n",
       "                       1.5886e-02,  5.1554e-03,  2.2943e-03, -6.3962e-03,  8.1505e-03,\n",
       "                      -1.7343e-03,  7.9541e-05,  4.8558e-03, -1.0831e-03,  5.7859e-03,\n",
       "                       1.4040e-02,  4.7243e-03,  1.8036e-04, -2.6805e-03,  1.1813e-02,\n",
       "                      -1.1431e-02,  2.5325e-03, -2.2321e-02, -8.5455e-03, -7.2967e-03,\n",
       "                       7.7855e-03, -5.1181e-03, -1.4662e-02,  5.6268e-03,  6.9586e-03,\n",
       "                      -1.2464e-02,  1.7928e-03,  7.7465e-04], device='cuda:0')),\n",
       "             ('pert_embedding.encoder.transformer.2.self_attn.out_proj.weight',\n",
       "              tensor([[ 0.0324, -0.1123,  0.0312,  ...,  0.0005,  0.0836,  0.0195],\n",
       "                      [-0.0106, -0.0202,  0.0356,  ...,  0.0070,  0.0189, -0.0205],\n",
       "                      [ 0.0036,  0.0009,  0.0399,  ...,  0.0028,  0.0280, -0.0567],\n",
       "                      ...,\n",
       "                      [-0.0285,  0.0073, -0.0626,  ...,  0.0477, -0.0433,  0.0372],\n",
       "                      [ 0.0265, -0.0452, -0.0500,  ..., -0.0205,  0.1039, -0.0221],\n",
       "                      [ 0.0451, -0.0834, -0.0513,  ...,  0.0605,  0.0162,  0.0014]],\n",
       "                     device='cuda:0')),\n",
       "             ('pert_embedding.encoder.transformer.2.self_attn.out_proj.bias',\n",
       "              tensor([ 0.0082,  0.0226, -0.0177,  0.0279,  0.0043, -0.0029, -0.0010, -0.0033,\n",
       "                       0.0184, -0.0079,  0.0266,  0.0062, -0.0217, -0.0297, -0.0041,  0.0038,\n",
       "                       0.0089,  0.0030, -0.0090,  0.0102, -0.0059, -0.0011, -0.0080,  0.0052,\n",
       "                       0.0124,  0.0217, -0.0123,  0.0180,  0.0042,  0.0024, -0.0010, -0.0065,\n",
       "                       0.0310,  0.0140,  0.0063,  0.0146, -0.0404, -0.0397, -0.0066,  0.0046,\n",
       "                      -0.0149,  0.0253,  0.0311, -0.0171,  0.0146,  0.0059, -0.0152, -0.0084,\n",
       "                       0.0226, -0.0043,  0.0162,  0.0223,  0.0329, -0.0371,  0.0040, -0.0385,\n",
       "                      -0.0093, -0.0137,  0.0210,  0.0171,  0.0153, -0.0412,  0.0017, -0.0110,\n",
       "                       0.0144, -0.0169, -0.0030, -0.0177, -0.0039, -0.0113,  0.0057, -0.0003,\n",
       "                      -0.0025,  0.0243, -0.0248, -0.0121, -0.0088, -0.0033,  0.0004, -0.0320,\n",
       "                       0.0118,  0.0354,  0.0085,  0.0249, -0.0031, -0.0082,  0.0152, -0.0021,\n",
       "                       0.0418, -0.0141,  0.0317, -0.0108,  0.0031, -0.0165,  0.0021, -0.0080],\n",
       "                     device='cuda:0')),\n",
       "             ('pert_embedding.encoder.transformer.2.linear1.weight',\n",
       "              tensor([[ 0.0808,  0.0595, -0.0789,  ...,  0.0694, -0.0779,  0.0207],\n",
       "                      [ 0.0777, -0.0300, -0.0552,  ...,  0.0191, -0.0045,  0.1351],\n",
       "                      [-0.1141, -0.1155, -0.1200,  ...,  0.0777, -0.0297,  0.0863],\n",
       "                      ...,\n",
       "                      [ 0.1069, -0.0068,  0.0885,  ..., -0.0394, -0.0914,  0.0782],\n",
       "                      [-0.0484,  0.0276,  0.0872,  ..., -0.0295,  0.0682, -0.0695],\n",
       "                      [-0.0645, -0.0113,  0.1175,  ...,  0.0013,  0.0765,  0.0305]],\n",
       "                     device='cuda:0')),\n",
       "             ('pert_embedding.encoder.transformer.2.linear1.bias',\n",
       "              tensor([ 0.0661,  0.0217,  0.0191,  0.0281, -0.0340,  0.0046, -0.1059,  0.0526,\n",
       "                      -0.1010,  0.0003, -0.0582,  0.0092,  0.0017,  0.0578,  0.0884, -0.0591,\n",
       "                       0.0278, -0.0267,  0.0330, -0.1113, -0.0759, -0.0266, -0.0075, -0.0249,\n",
       "                      -0.0742, -0.0945, -0.0452,  0.0321, -0.0283,  0.0738, -0.0730,  0.0837,\n",
       "                      -0.1176, -0.1012, -0.0022,  0.0550,  0.0306,  0.0196,  0.1099,  0.0607,\n",
       "                       0.0159,  0.0887, -0.0609, -0.0044,  0.0436, -0.1143, -0.0696,  0.0255,\n",
       "                       0.0549, -0.1235,  0.0934, -0.0311, -0.0166, -0.0958,  0.0158,  0.0791,\n",
       "                      -0.0058, -0.0614, -0.0163, -0.0511,  0.0151,  0.0091, -0.0751,  0.0538,\n",
       "                       0.0914, -0.0372, -0.0949, -0.0366,  0.0396, -0.0630, -0.0962,  0.0773,\n",
       "                       0.0704,  0.0481, -0.0904,  0.0133,  0.0530,  0.0695,  0.0945,  0.0684,\n",
       "                      -0.0569, -0.0875, -0.0676, -0.0029,  0.0969, -0.0684,  0.0271, -0.0898,\n",
       "                       0.0337, -0.0919,  0.0314,  0.0687, -0.0650, -0.0190,  0.0458,  0.0973,\n",
       "                       0.0244, -0.0432, -0.0816, -0.0417,  0.0411,  0.0009, -0.0693, -0.0133,\n",
       "                       0.0560,  0.0395, -0.0907,  0.0742, -0.0283, -0.1002,  0.0876, -0.1239,\n",
       "                      -0.0576, -0.0851, -0.0503,  0.0070, -0.0257, -0.0628,  0.0627, -0.0861,\n",
       "                       0.1005,  0.0287, -0.0202,  0.1055,  0.0852, -0.0030,  0.0492, -0.0895],\n",
       "                     device='cuda:0')),\n",
       "             ('pert_embedding.encoder.transformer.2.linear2.weight',\n",
       "              tensor([[ 0.0908,  0.0340,  0.0552,  ..., -0.0425,  0.0656,  0.0750],\n",
       "                      [-0.0868,  0.1497, -0.0252,  ...,  0.1096,  0.0539, -0.0752],\n",
       "                      [ 0.0284, -0.0401,  0.0213,  ..., -0.0540,  0.0749,  0.0517],\n",
       "                      ...,\n",
       "                      [-0.0567,  0.0838,  0.0837,  ...,  0.0463,  0.0122, -0.0331],\n",
       "                      [-0.0348, -0.0863,  0.0783,  ..., -0.0652, -0.0665,  0.0257],\n",
       "                      [-0.0537,  0.1271,  0.0193,  ..., -0.0005,  0.0390,  0.1282]],\n",
       "                     device='cuda:0')),\n",
       "             ('pert_embedding.encoder.transformer.2.linear2.bias',\n",
       "              tensor([ 0.0139, -0.0169, -0.0671, -0.0118, -0.0307, -0.0361,  0.0057, -0.0425,\n",
       "                      -0.0101, -0.0789, -0.0157,  0.0806, -0.0706, -0.0850, -0.0628,  0.0064,\n",
       "                       0.0469, -0.0227, -0.1033,  0.0632,  0.0264, -0.0326, -0.0803, -0.0380,\n",
       "                       0.1103,  0.0262,  0.0066, -0.0200, -0.0317,  0.0380,  0.0776,  0.0618,\n",
       "                      -0.0291,  0.0634,  0.0266, -0.0358, -0.1074, -0.0433, -0.0546,  0.0061,\n",
       "                       0.0423,  0.0644,  0.0529,  0.0215, -0.0095, -0.0617,  0.0100, -0.0370,\n",
       "                      -0.0358, -0.0276,  0.0856,  0.1022,  0.0940, -0.1389, -0.0267, -0.0873,\n",
       "                       0.0214, -0.1089, -0.0068, -0.0703,  0.0052, -0.0568,  0.0711, -0.0927,\n",
       "                      -0.0307, -0.0847, -0.0574,  0.0058, -0.0634, -0.0660,  0.0766, -0.0710,\n",
       "                       0.0083,  0.0046, -0.0496,  0.0411,  0.0259, -0.0313,  0.0549,  0.0224,\n",
       "                      -0.0199,  0.0200,  0.0379,  0.0303, -0.0475, -0.0847,  0.0229,  0.0468,\n",
       "                      -0.0266,  0.0445,  0.0259,  0.0769,  0.0885, -0.1050, -0.0443, -0.0654],\n",
       "                     device='cuda:0')),\n",
       "             ('pert_embedding.encoder.transformer.2.norm1.weight',\n",
       "              tensor([0.9997, 0.9797, 1.0006, 0.9742, 0.9773, 0.9358, 1.0264, 0.9675, 0.9999,\n",
       "                      0.9879, 0.9813, 1.0064, 1.0138, 0.9634, 0.9933, 0.9844, 0.9713, 0.9974,\n",
       "                      0.9969, 0.9914, 0.9880, 0.9799, 0.9829, 0.9878, 0.9722, 1.0065, 1.0135,\n",
       "                      0.9738, 0.9606, 0.9929, 0.9753, 0.9818, 1.0069, 1.0042, 0.9807, 0.9675,\n",
       "                      1.0207, 1.0202, 1.0357, 0.9770, 0.9829, 0.9996, 0.9613, 0.9717, 0.9614,\n",
       "                      1.0065, 0.9776, 0.9999, 0.9908, 1.0757, 0.9930, 0.9727, 0.9862, 0.9917,\n",
       "                      1.0029, 0.9922, 0.9883, 0.9934, 1.0245, 0.9926, 1.0153, 1.0162, 1.0312,\n",
       "                      1.0224, 0.9541, 0.9934, 1.0010, 0.9898, 0.9686, 0.9614, 0.9729, 1.0005,\n",
       "                      0.9808, 0.9876, 0.9727, 0.9918, 1.0127, 1.0086, 1.0137, 1.0014, 0.9889,\n",
       "                      0.9912, 0.9791, 0.9786, 0.9868, 1.0044, 0.9710, 0.9903, 0.9923, 0.9783,\n",
       "                      0.9984, 1.0028, 1.0362, 1.0106, 0.9825, 0.9707], device='cuda:0')),\n",
       "             ('pert_embedding.encoder.transformer.2.norm1.bias',\n",
       "              tensor([ 0.0054,  0.0171, -0.0183,  0.0240,  0.0047, -0.0041, -0.0067, -0.0023,\n",
       "                       0.0210, -0.0114,  0.0206,  0.0023, -0.0175, -0.0291, -0.0022,  0.0035,\n",
       "                       0.0099,  0.0005, -0.0087,  0.0093, -0.0024, -0.0001, -0.0114,  0.0055,\n",
       "                       0.0093,  0.0163, -0.0134,  0.0157,  0.0057,  0.0043, -0.0051, -0.0027,\n",
       "                       0.0299,  0.0132,  0.0069,  0.0126, -0.0364, -0.0381, -0.0028,  0.0071,\n",
       "                      -0.0173,  0.0211,  0.0283, -0.0144,  0.0141,  0.0093, -0.0162, -0.0106,\n",
       "                       0.0167, -0.0067,  0.0190,  0.0176,  0.0304, -0.0344, -0.0004, -0.0358,\n",
       "                      -0.0079, -0.0164,  0.0205,  0.0157,  0.0108, -0.0375,  0.0054, -0.0076,\n",
       "                       0.0123, -0.0170, -0.0067, -0.0150, -0.0037, -0.0096,  0.0044, -0.0038,\n",
       "                      -0.0004,  0.0212, -0.0205, -0.0147, -0.0160, -0.0044, -0.0008, -0.0288,\n",
       "                       0.0088,  0.0275,  0.0053,  0.0182, -0.0064, -0.0099,  0.0111, -0.0005,\n",
       "                       0.0378, -0.0111,  0.0283, -0.0121,  0.0052, -0.0138, -0.0004, -0.0094],\n",
       "                     device='cuda:0')),\n",
       "             ('pert_embedding.encoder.transformer.2.norm2.weight',\n",
       "              tensor([1.0044, 1.0085, 0.9967, 0.9943, 0.9984, 0.9552, 0.9934, 0.9911, 0.9791,\n",
       "                      0.9871, 0.9704, 1.0157, 1.0169, 0.9494, 0.9897, 0.9950, 0.9652, 1.0094,\n",
       "                      0.9862, 0.9911, 0.9975, 0.9726, 0.9829, 0.9721, 1.0094, 0.9991, 0.9970,\n",
       "                      0.9735, 0.9925, 0.9879, 0.9958, 0.9808, 0.9929, 0.9928, 0.9514, 1.0152,\n",
       "                      1.0126, 0.9991, 1.0243, 1.0014, 0.9558, 1.0132, 0.9875, 1.0044, 0.9748,\n",
       "                      0.9799, 0.9907, 0.9925, 0.9884, 1.0535, 1.0105, 0.9995, 1.0078, 1.0159,\n",
       "                      1.0054, 0.9967, 0.9993, 1.0069, 1.0149, 0.9852, 1.0190, 1.0148, 1.0500,\n",
       "                      1.0339, 0.9688, 0.9915, 1.0009, 0.9699, 0.9629, 0.9835, 1.0140, 1.0137,\n",
       "                      0.9734, 0.9986, 0.9844, 0.9760, 1.0266, 0.9988, 1.0030, 1.0185, 0.9826,\n",
       "                      0.9703, 0.9766, 1.0068, 0.9566, 0.9928, 0.9745, 0.9861, 1.0022, 0.9339,\n",
       "                      1.0056, 0.9919, 1.0306, 1.0013, 0.9971, 0.9778], device='cuda:0')),\n",
       "             ('pert_embedding.encoder.transformer.2.norm2.bias',\n",
       "              tensor([-2.8906e-03,  6.8972e-03, -9.9345e-03,  4.7135e-03,  1.4241e-02,\n",
       "                      -8.8035e-03, -2.1031e-02, -2.9992e-04,  1.1541e-02, -1.1942e-02,\n",
       "                       4.2098e-03, -2.1547e-03,  1.3966e-03,  1.4742e-03,  6.8985e-03,\n",
       "                       3.1707e-03,  8.7897e-03, -8.2494e-03,  1.7358e-03,  4.6254e-03,\n",
       "                      -7.0667e-03,  6.6402e-03, -3.0138e-02,  9.3609e-03,  7.1692e-03,\n",
       "                       1.7730e-03, -8.8091e-03,  1.4919e-02,  4.1984e-03,  2.0966e-02,\n",
       "                      -1.2943e-02,  5.1759e-03,  1.3377e-02,  1.5256e-02,  3.3201e-03,\n",
       "                       7.7240e-03, -1.2254e-02, -1.7023e-02,  1.0245e-02,  5.4101e-03,\n",
       "                      -2.3046e-02,  1.1074e-02,  6.9967e-03, -3.1589e-03, -2.6601e-03,\n",
       "                       1.5370e-02, -1.3188e-02, -9.5328e-03,  5.1059e-03, -7.4056e-03,\n",
       "                       1.6019e-02,  1.7029e-02,  1.9122e-02, -2.8098e-02, -7.9536e-03,\n",
       "                      -2.0159e-02, -3.4394e-03, -2.0658e-02,  1.4105e-02,  7.4978e-03,\n",
       "                       6.8375e-03, -1.2919e-02,  2.3242e-02,  6.5507e-04, -1.4871e-03,\n",
       "                      -1.5750e-02, -4.1268e-04, -3.1708e-03,  2.1353e-03,  8.3079e-05,\n",
       "                      -3.9143e-03, -3.6284e-04,  5.9724e-03, -2.5400e-03, -2.3264e-03,\n",
       "                       2.0290e-03, -1.3119e-02,  5.8631e-03,  2.0013e-03, -1.4132e-02,\n",
       "                       6.5049e-04,  1.0291e-02,  4.6158e-03,  1.5971e-02, -1.2819e-02,\n",
       "                      -1.0611e-02, -1.1453e-02, -5.5749e-03,  1.1059e-02,  8.4196e-03,\n",
       "                       1.9986e-02, -4.6759e-03,  1.1052e-02, -2.6422e-03, -1.2156e-03,\n",
       "                      -5.1901e-03], device='cuda:0')),\n",
       "             ('pert_embedding.encoder.transformer.3.self_attn.in_proj_weight',\n",
       "              tensor([[-0.0866,  0.0126,  0.0426,  ..., -0.0887,  0.1138,  0.0143],\n",
       "                      [ 0.0400,  0.0812,  0.0660,  ...,  0.0764,  0.0755, -0.0558],\n",
       "                      [ 0.0804,  0.0873, -0.0178,  ...,  0.0586,  0.1042,  0.1382],\n",
       "                      ...,\n",
       "                      [ 0.1221,  0.1020, -0.1163,  ...,  0.0092,  0.1225, -0.0055],\n",
       "                      [ 0.0126, -0.0735,  0.0133,  ..., -0.1098,  0.0894,  0.0627],\n",
       "                      [-0.0571,  0.0087, -0.0046,  ...,  0.0003, -0.0608, -0.0028]],\n",
       "                     device='cuda:0')),\n",
       "             ('pert_embedding.encoder.transformer.3.self_attn.in_proj_bias',\n",
       "              tensor([-6.5684e-02,  1.2302e-02,  7.1167e-02, -1.7503e-02,  7.4545e-02,\n",
       "                       4.7534e-02, -2.2154e-03, -7.1618e-02,  3.4248e-02, -2.0769e-02,\n",
       "                      -6.2139e-02,  8.4387e-02,  2.6853e-02,  5.8681e-02, -4.1447e-02,\n",
       "                       1.8057e-02,  1.1219e-02, -8.9546e-02, -2.9847e-04,  8.5789e-03,\n",
       "                       3.3909e-02, -7.5320e-02, -5.4900e-02, -6.5743e-02,  2.6003e-02,\n",
       "                       4.6536e-02, -6.6691e-02,  4.9975e-02, -1.1178e-02, -8.2308e-02,\n",
       "                      -1.0287e-02,  8.6952e-02, -1.6572e-02, -7.8581e-04,  1.5582e-02,\n",
       "                       4.2675e-02,  4.8737e-02, -2.7703e-02,  4.5170e-03, -3.4528e-02,\n",
       "                      -2.5703e-02, -3.5075e-02,  6.2275e-02, -5.3935e-02,  9.6271e-03,\n",
       "                      -3.7413e-02, -3.6826e-02,  6.6456e-03, -1.1715e-03, -3.9697e-02,\n",
       "                      -5.3482e-02,  1.5050e-02, -4.3203e-02, -4.1763e-02,  4.9949e-02,\n",
       "                       7.9813e-03,  2.4401e-02,  1.9579e-02,  9.9571e-02, -1.5410e-02,\n",
       "                      -6.4435e-03,  2.5154e-02, -7.0557e-03, -1.4863e-02, -4.7293e-02,\n",
       "                      -4.5388e-02,  4.7414e-02,  1.3679e-02, -1.2183e-02,  2.2656e-02,\n",
       "                       4.2163e-02,  4.9919e-03,  2.6291e-02,  4.5322e-02, -2.2981e-02,\n",
       "                       2.5796e-02,  2.9127e-02,  1.4830e-02,  1.0615e-02, -3.7724e-02,\n",
       "                      -4.7685e-02,  2.9970e-02,  2.8842e-02,  1.5534e-02,  2.3727e-02,\n",
       "                       7.6375e-03, -3.6995e-02, -2.8524e-02, -1.6030e-02, -1.5448e-02,\n",
       "                       2.3009e-02,  4.3910e-02,  3.5756e-02,  3.6176e-02,  2.4382e-02,\n",
       "                      -3.0325e-02,  3.2643e-02, -1.7530e-02, -3.0889e-02, -3.6438e-02,\n",
       "                       8.8448e-03,  2.4547e-02,  6.5251e-02,  6.1066e-02,  3.4390e-02,\n",
       "                       5.1890e-02, -3.9457e-03,  2.6660e-02, -6.2390e-02,  1.3184e-02,\n",
       "                       1.3336e-02,  1.2768e-01,  3.3436e-02,  3.0888e-03, -4.5942e-03,\n",
       "                      -1.6483e-02, -6.1572e-02,  6.6552e-02,  4.2144e-02,  6.1110e-02,\n",
       "                      -5.9248e-03, -3.9045e-02, -1.0449e-02, -4.7272e-02,  5.4439e-03,\n",
       "                       3.3856e-02,  2.3807e-02, -1.2296e-01, -8.8352e-02,  6.9865e-02,\n",
       "                      -3.8816e-03, -1.0432e-03,  9.1001e-02, -1.2560e-02,  4.4056e-02,\n",
       "                      -1.3891e-01, -1.5238e-02, -2.1397e-02, -1.9651e-02, -7.4944e-02,\n",
       "                       7.3799e-03,  4.0193e-02, -2.5492e-03,  9.1947e-02,  3.5511e-03,\n",
       "                      -3.5742e-02, -5.2950e-02,  2.7764e-02, -8.7708e-02,  2.7257e-02,\n",
       "                       2.2050e-02,  4.5308e-02,  8.3495e-02,  5.6330e-02,  6.7279e-02,\n",
       "                      -2.9834e-02,  3.2883e-03, -3.0127e-02, -1.1782e-01, -1.1202e-01,\n",
       "                       1.9864e-01,  2.2622e-01, -1.6663e-01,  2.2284e-01,  1.9806e-01,\n",
       "                       1.5864e-02, -1.6549e-01,  1.4581e-01, -1.8815e-01, -1.5220e-01,\n",
       "                       1.9467e-01, -1.9998e-01, -2.0783e-01, -1.8960e-01,  9.5427e-02,\n",
       "                       2.3857e-01, -1.2935e-01, -1.3768e-01, -1.2502e-01, -1.4808e-01,\n",
       "                      -1.7986e-01, -1.4680e-01, -1.3847e-01,  1.5847e-01,  2.1397e-01,\n",
       "                       1.8800e-01, -1.7558e-01, -2.0345e-01, -2.1298e-01,  5.0680e-02,\n",
       "                       1.6876e-01,  1.8695e-01, -1.0823e-02, -3.3470e-03,  2.1633e-03,\n",
       "                      -3.2028e-03,  1.5989e-02, -9.8590e-03, -3.5385e-03,  1.9278e-02,\n",
       "                       3.8736e-03, -2.2163e-03, -3.4925e-03,  2.8973e-02,  3.2483e-03,\n",
       "                      -1.3883e-02,  6.6067e-03,  2.7493e-03, -5.1546e-03, -1.5951e-02,\n",
       "                      -1.6103e-03,  5.6897e-03,  7.1257e-03,  7.6519e-03,  1.5498e-02,\n",
       "                       1.6347e-02, -6.2553e-03, -3.5714e-03,  3.2356e-03, -2.4322e-02,\n",
       "                       1.1022e-02,  9.8238e-03, -1.2768e-02,  1.0599e-02,  1.2178e-03,\n",
       "                       3.0760e-03,  1.4224e-02,  2.3318e-04,  1.0416e-03, -2.9770e-03,\n",
       "                      -1.9068e-02,  8.4441e-03,  2.3155e-03, -1.9976e-02, -7.3727e-03,\n",
       "                      -1.8867e-03,  8.4907e-03, -7.9548e-03, -8.0766e-03, -9.5400e-03,\n",
       "                      -5.2276e-04, -1.3140e-02,  2.3965e-02,  6.4639e-04,  3.6373e-03,\n",
       "                      -1.5088e-04, -1.6539e-03,  8.1539e-03, -5.8338e-04,  1.4729e-04,\n",
       "                       4.1213e-03, -5.1070e-03,  1.5526e-02,  1.2075e-02, -5.7597e-03,\n",
       "                      -1.0485e-02,  1.6059e-02,  1.8738e-04, -6.1855e-04,  6.7745e-03,\n",
       "                      -5.6413e-03,  2.3806e-03,  8.0067e-03, -2.4275e-03, -9.0379e-03,\n",
       "                      -1.0180e-02, -9.2311e-04,  2.8068e-03, -1.4430e-02,  2.0504e-02,\n",
       "                      -4.6526e-05, -1.6668e-02, -9.5317e-03, -8.0973e-03, -6.1315e-03,\n",
       "                      -7.1386e-04, -1.2378e-02,  7.1420e-03, -6.5705e-03,  3.7574e-03,\n",
       "                       6.7350e-03, -6.2024e-03,  1.3964e-02, -9.8561e-04,  4.6702e-03,\n",
       "                      -1.4434e-03, -7.5744e-03,  1.2983e-02], device='cuda:0')),\n",
       "             ('pert_embedding.encoder.transformer.3.self_attn.out_proj.weight',\n",
       "              tensor([[ 0.0007,  0.0192,  0.0827,  ..., -0.1019, -0.0299, -0.0395],\n",
       "                      [ 0.0259,  0.0618, -0.0503,  ..., -0.0149,  0.0803, -0.1071],\n",
       "                      [-0.0566, -0.0215, -0.0510,  ...,  0.0693, -0.0527, -0.0966],\n",
       "                      ...,\n",
       "                      [ 0.0294, -0.0590,  0.0106,  ...,  0.0470, -0.0285, -0.0131],\n",
       "                      [ 0.0362, -0.0690,  0.0321,  ..., -0.0245,  0.0299, -0.0185],\n",
       "                      [ 0.1270, -0.1287,  0.0171,  ...,  0.0250, -0.0390,  0.0463]],\n",
       "                     device='cuda:0')),\n",
       "             ('pert_embedding.encoder.transformer.3.self_attn.out_proj.bias',\n",
       "              tensor([ 6.7612e-03,  1.7776e-02, -1.0763e-02,  8.0834e-03,  1.7106e-02,\n",
       "                      -2.6827e-03, -1.4052e-02, -1.9469e-02,  7.8733e-03, -2.2315e-02,\n",
       "                       1.9526e-02,  7.4916e-03, -1.1055e-02, -8.4095e-03, -6.6345e-03,\n",
       "                      -6.3599e-03,  1.0019e-02, -8.7165e-03, -3.9289e-03,  1.3502e-02,\n",
       "                      -1.4403e-02,  1.6284e-03, -3.2056e-02,  1.1804e-02,  1.1345e-02,\n",
       "                       1.2228e-02, -6.3169e-05,  6.8827e-03, -1.7801e-03,  1.7281e-02,\n",
       "                      -1.2573e-02, -1.1443e-02,  2.8301e-02,  2.0892e-02,  5.8548e-03,\n",
       "                       1.2890e-02, -3.0068e-02, -2.5501e-02,  6.8114e-03,  1.9911e-02,\n",
       "                      -3.3696e-02,  1.6125e-02,  1.3165e-02, -1.1019e-02,  2.2145e-03,\n",
       "                       2.1457e-02,  4.7023e-03, -1.0330e-02,  1.7567e-02, -1.1060e-02,\n",
       "                       2.4752e-02,  1.9992e-02,  3.0486e-02, -3.0514e-02, -9.3351e-04,\n",
       "                      -3.1602e-02, -9.5325e-03, -3.1971e-02,  1.5004e-02,  1.1735e-02,\n",
       "                      -1.4270e-03, -2.2327e-02,  2.1950e-02, -6.5780e-03,  5.9315e-03,\n",
       "                      -3.0607e-02,  1.2441e-02, -1.7867e-02, -4.7643e-03, -3.7100e-03,\n",
       "                       6.3070e-03,  6.3873e-03, -1.0868e-03,  2.6487e-02, -5.4387e-03,\n",
       "                      -3.5253e-03, -1.2664e-02, -1.4708e-03, -3.9189e-03, -1.9748e-02,\n",
       "                       1.2102e-02,  1.5069e-02, -2.6597e-03,  2.5234e-02, -4.2482e-03,\n",
       "                      -7.6667e-03, -4.8579e-04, -1.7222e-02,  1.5643e-02, -8.5497e-03,\n",
       "                       2.3493e-02, -1.0920e-02,  1.4607e-02, -3.6899e-03, -5.9118e-03,\n",
       "                      -1.4062e-02], device='cuda:0')),\n",
       "             ('pert_embedding.encoder.transformer.3.linear1.weight',\n",
       "              tensor([[ 0.0397, -0.0371,  0.0114,  ..., -0.1163,  0.2174,  0.0414],\n",
       "                      [ 0.1297, -0.0824,  0.0800,  ...,  0.0613, -0.1095, -0.0882],\n",
       "                      [ 0.0339,  0.0174,  0.0259,  ..., -0.0764,  0.0587, -0.0909],\n",
       "                      ...,\n",
       "                      [ 0.0652, -0.0198, -0.0955,  ..., -0.0057, -0.0116, -0.0245],\n",
       "                      [ 0.0519, -0.0584,  0.0563,  ...,  0.0862, -0.0734,  0.0444],\n",
       "                      [ 0.0207, -0.0017,  0.0601,  ...,  0.1029,  0.0517,  0.1080]],\n",
       "                     device='cuda:0')),\n",
       "             ('pert_embedding.encoder.transformer.3.linear1.bias',\n",
       "              tensor([ 0.0022, -0.0150, -0.0624, -0.0587,  0.0736,  0.0629, -0.0632,  0.0629,\n",
       "                      -0.0001, -0.0896,  0.0435, -0.0121,  0.0045,  0.0840,  0.0045,  0.1048,\n",
       "                      -0.1189,  0.0748,  0.0830, -0.0210, -0.0922, -0.0282, -0.1037, -0.0873,\n",
       "                      -0.0426,  0.0524,  0.0948, -0.0255, -0.0823,  0.0435,  0.0788,  0.0009,\n",
       "                       0.0358, -0.0341,  0.0933, -0.0214, -0.0624, -0.0068,  0.0409,  0.0212,\n",
       "                       0.0415, -0.0146, -0.1056, -0.0240, -0.0349, -0.0436,  0.0535, -0.0131,\n",
       "                      -0.0334,  0.0392, -0.0241, -0.0044, -0.0784, -0.0533, -0.0430,  0.0516,\n",
       "                      -0.0437,  0.0410, -0.0315, -0.1012,  0.0253, -0.0277,  0.0483,  0.0788,\n",
       "                       0.0549,  0.0101,  0.0912, -0.0368, -0.0064, -0.0846,  0.0728,  0.0164,\n",
       "                      -0.0444,  0.0655,  0.0939,  0.0034,  0.0415, -0.0114,  0.0777,  0.0737,\n",
       "                       0.0283,  0.0611, -0.0482, -0.0205,  0.0357, -0.0503,  0.0612, -0.0428,\n",
       "                       0.0493, -0.0526,  0.0265, -0.0142,  0.0120,  0.0585,  0.0604, -0.0239,\n",
       "                      -0.0369, -0.1084,  0.0564, -0.0312,  0.1069,  0.0092, -0.0548,  0.0134,\n",
       "                      -0.0832,  0.0637,  0.0790, -0.0793, -0.0463, -0.0687,  0.0947, -0.0815,\n",
       "                      -0.0925,  0.0872, -0.0317, -0.0143,  0.0298,  0.0070,  0.0581, -0.0470,\n",
       "                      -0.0607, -0.0388,  0.0336,  0.0739,  0.0678, -0.0675,  0.0938,  0.0598],\n",
       "                     device='cuda:0')),\n",
       "             ('pert_embedding.encoder.transformer.3.linear2.weight',\n",
       "              tensor([[-0.1204,  0.0660,  0.0563,  ...,  0.0093, -0.0030, -0.0141],\n",
       "                      [-0.1673, -0.1142,  0.0357,  ...,  0.0828,  0.0677,  0.0158],\n",
       "                      [ 0.0473,  0.0397, -0.0780,  ..., -0.0961, -0.0608, -0.0863],\n",
       "                      ...,\n",
       "                      [ 0.0128,  0.0580, -0.0367,  ...,  0.0261,  0.0771, -0.0075],\n",
       "                      [-0.0042,  0.0545,  0.0442,  ...,  0.0341, -0.0856,  0.0423],\n",
       "                      [-0.0890,  0.0059, -0.0042,  ..., -0.0474,  0.0161, -0.0238]],\n",
       "                     device='cuda:0')),\n",
       "             ('pert_embedding.encoder.transformer.3.linear2.bias',\n",
       "              tensor([ 9.2590e-02,  6.5454e-02,  6.6254e-02, -7.2495e-02, -5.5078e-02,\n",
       "                       6.1513e-02, -5.8813e-02, -4.7266e-02, -1.3664e-02, -8.1639e-02,\n",
       "                       1.8749e-02,  6.4522e-02,  9.7245e-03,  7.4123e-02, -9.9427e-03,\n",
       "                       6.7767e-02, -3.0238e-02, -8.9552e-02,  4.9775e-02,  5.1650e-02,\n",
       "                      -9.0875e-02, -6.5791e-02,  4.9637e-02,  8.7044e-02, -4.4356e-02,\n",
       "                       9.8319e-02,  5.1053e-02, -1.4836e-02,  2.0147e-03,  2.1945e-02,\n",
       "                      -6.1243e-02, -7.5624e-02, -1.7773e-02,  4.6389e-02, -5.7237e-02,\n",
       "                       1.6411e-02, -5.0644e-02, -7.5057e-02,  6.8002e-02, -2.3438e-02,\n",
       "                      -8.7511e-02, -4.3127e-03, -4.5403e-02, -9.8930e-02,  4.0416e-02,\n",
       "                       1.1031e-01, -4.4403e-02, -7.6220e-02,  7.9731e-02,  1.9980e-02,\n",
       "                       9.2342e-02,  1.0270e-01, -4.4911e-02,  1.3339e-02, -9.1019e-02,\n",
       "                      -7.0194e-02, -9.3978e-02, -9.5369e-02, -7.1617e-05,  9.1965e-02,\n",
       "                       5.1209e-02, -1.1691e-01,  2.8409e-02, -9.4684e-02,  6.2631e-03,\n",
       "                       1.1449e-02, -4.0877e-02,  5.0631e-02, -6.2835e-03,  2.8330e-02,\n",
       "                       2.5738e-02, -2.4932e-03,  8.3019e-02,  2.7350e-02, -4.5958e-02,\n",
       "                      -8.1761e-02, -5.5270e-02, -8.0251e-03, -1.8707e-02,  6.5749e-03,\n",
       "                       4.7558e-02,  1.3378e-02,  8.3331e-02,  6.2119e-02, -4.9802e-02,\n",
       "                      -7.3077e-02, -6.6279e-02,  2.4133e-02, -1.4528e-02, -3.5176e-02,\n",
       "                       3.8822e-02,  2.9947e-02,  2.3130e-02,  7.5743e-03,  6.0242e-02,\n",
       "                       4.9231e-02], device='cuda:0')),\n",
       "             ('pert_embedding.encoder.transformer.3.norm1.weight',\n",
       "              tensor([1.0084, 1.0064, 0.9922, 0.9893, 0.9968, 0.9491, 0.9983, 0.9988, 0.9777,\n",
       "                      0.9917, 0.9765, 1.0111, 1.0251, 0.9426, 0.9952, 0.9923, 0.9583, 1.0077,\n",
       "                      0.9811, 0.9938, 0.9988, 0.9713, 0.9912, 0.9655, 1.0082, 0.9994, 0.9961,\n",
       "                      0.9796, 0.9929, 0.9845, 0.9961, 0.9853, 1.0013, 0.9943, 0.9483, 1.0127,\n",
       "                      1.0210, 0.9993, 1.0315, 0.9967, 0.9695, 1.0150, 0.9951, 0.9966, 0.9824,\n",
       "                      0.9777, 0.9868, 0.9926, 0.9961, 1.0566, 1.0123, 1.0053, 1.0147, 1.0143,\n",
       "                      0.9960, 1.0030, 0.9963, 1.0119, 1.0155, 0.9816, 1.0205, 1.0193, 1.0436,\n",
       "                      1.0241, 0.9726, 0.9975, 1.0072, 0.9697, 0.9603, 0.9874, 1.0111, 0.9999,\n",
       "                      0.9749, 0.9950, 0.9815, 0.9767, 1.0284, 0.9877, 1.0067, 1.0168, 0.9875,\n",
       "                      0.9787, 0.9779, 1.0093, 0.9644, 0.9869, 0.9671, 0.9920, 1.0044, 0.9470,\n",
       "                      1.0057, 0.9957, 1.0285, 1.0036, 0.9967, 1.0009], device='cuda:0')),\n",
       "             ('pert_embedding.encoder.transformer.3.norm1.bias',\n",
       "              tensor([ 0.0077,  0.0142, -0.0082,  0.0036,  0.0162, -0.0030, -0.0173, -0.0201,\n",
       "                       0.0073, -0.0217,  0.0158,  0.0043, -0.0078, -0.0083, -0.0061, -0.0049,\n",
       "                       0.0097, -0.0107, -0.0021,  0.0138, -0.0126,  0.0015, -0.0324,  0.0110,\n",
       "                       0.0084,  0.0089, -0.0010,  0.0057,  0.0009,  0.0165, -0.0145, -0.0094,\n",
       "                       0.0262,  0.0205,  0.0029,  0.0106, -0.0270, -0.0228,  0.0085,  0.0196,\n",
       "                      -0.0327,  0.0132,  0.0091, -0.0093,  0.0048,  0.0229,  0.0059, -0.0127,\n",
       "                       0.0150, -0.0121,  0.0268,  0.0168,  0.0279, -0.0281, -0.0028, -0.0292,\n",
       "                      -0.0077, -0.0297,  0.0141,  0.0108, -0.0038, -0.0196,  0.0230, -0.0039,\n",
       "                       0.0065, -0.0291,  0.0099, -0.0155, -0.0073, -0.0015,  0.0056,  0.0034,\n",
       "                      -0.0005,  0.0243, -0.0031, -0.0053, -0.0151, -0.0029, -0.0034, -0.0161,\n",
       "                       0.0090,  0.0133, -0.0052,  0.0211, -0.0047, -0.0066, -0.0015, -0.0156,\n",
       "                       0.0115, -0.0084,  0.0229, -0.0113,  0.0137, -0.0016, -0.0058, -0.0143],\n",
       "                     device='cuda:0')),\n",
       "             ('pert_embedding.encoder.transformer.3.norm2.weight',\n",
       "              tensor([1.0171, 1.0124, 1.0236, 1.0089, 1.0072, 0.9684, 0.9330, 1.0141, 0.9566,\n",
       "                      1.0031, 0.9839, 1.0023, 1.0256, 0.9540, 0.9753, 0.9937, 0.9660, 1.0277,\n",
       "                      0.9898, 1.0098, 1.0010, 0.9826, 0.9991, 0.9450, 1.0018, 0.9977, 0.9827,\n",
       "                      0.9877, 0.9597, 0.9970, 0.9924, 0.9789, 1.0027, 0.9896, 0.9303, 1.0055,\n",
       "                      1.0307, 1.0178, 1.0140, 0.9967, 1.0064, 1.0245, 0.9990, 1.0112, 0.9718,\n",
       "                      0.9991, 0.9784, 0.9670, 1.0104, 1.0053, 1.0372, 1.0072, 1.0089, 1.0182,\n",
       "                      0.9865, 1.0099, 0.9991, 1.0408, 1.0138, 0.9877, 1.0305, 1.0249, 1.0974,\n",
       "                      1.0077, 1.0029, 1.0193, 1.0236, 0.9786, 0.9611, 0.9856, 0.9921, 1.0026,\n",
       "                      0.9388, 1.0115, 0.9980, 0.9919, 1.0271, 0.9675, 0.9892, 1.0316, 0.9924,\n",
       "                      0.9804, 0.9822, 1.0216, 0.9775, 0.9807, 0.9884, 0.9755, 1.0000, 1.0014,\n",
       "                      1.0251, 0.9416, 1.0124, 0.9630, 0.9774, 1.0037], device='cuda:0')),\n",
       "             ('pert_embedding.encoder.transformer.3.norm2.bias',\n",
       "              tensor([ 0.0281,  0.0174,  0.0107, -0.0247,  0.0109, -0.0003, -0.0005, -0.0148,\n",
       "                      -0.0124, -0.0157,  0.0177, -0.0092, -0.0171,  0.0017, -0.0148,  0.0063,\n",
       "                       0.0123, -0.0245,  0.0146,  0.0129, -0.0105, -0.0237, -0.0127, -0.0093,\n",
       "                      -0.0046,  0.0300,  0.0127, -0.0027, -0.0021,  0.0141, -0.0008, -0.0049,\n",
       "                      -0.0057, -0.0041, -0.0142,  0.0018, -0.0013, -0.0034,  0.0120,  0.0051,\n",
       "                      -0.0156,  0.0107, -0.0157,  0.0027,  0.0142,  0.0106,  0.0140,  0.0050,\n",
       "                       0.0103,  0.0064,  0.0181,  0.0059, -0.0026, -0.0138,  0.0039, -0.0023,\n",
       "                       0.0042, -0.0232,  0.0022, -0.0017, -0.0068, -0.0056,  0.0240, -0.0098,\n",
       "                       0.0299, -0.0123,  0.0230,  0.0096, -0.0102,  0.0083,  0.0085,  0.0195,\n",
       "                       0.0021,  0.0163, -0.0142, -0.0062, -0.0147,  0.0193,  0.0016, -0.0105,\n",
       "                      -0.0087,  0.0116, -0.0050,  0.0138, -0.0067,  0.0066,  0.0056, -0.0163,\n",
       "                      -0.0002, -0.0243,  0.0260, -0.0066, -0.0040, -0.0045,  0.0009, -0.0231],\n",
       "                     device='cuda:0')),\n",
       "             ('pert_embedding.encoder.layer_norm.weight',\n",
       "              tensor([0.9591, 0.9948, 1.0315, 1.0324, 0.9961, 0.9612, 0.9385, 0.9684, 0.9562,\n",
       "                      0.9632, 0.9712, 0.9947, 1.0115, 0.9415, 0.9720, 1.0002, 0.9492, 1.0479,\n",
       "                      0.9836, 0.9923, 0.9872, 0.9623, 0.9617, 0.9416, 1.0065, 0.9575, 1.0223,\n",
       "                      0.9733, 0.9473, 0.9608, 0.9848, 0.9764, 0.9963, 0.9813, 0.9371, 0.9887,\n",
       "                      1.0145, 1.0243, 1.0271, 0.9787, 0.9823, 0.9894, 1.0029, 1.0025, 0.9663,\n",
       "                      1.0028, 0.9713, 0.9385, 1.0078, 1.0413, 1.0256, 1.0029, 1.0243, 1.0033,\n",
       "                      0.9889, 1.0272, 0.9771, 0.9680, 1.0190, 0.9837, 1.0332, 0.9949, 1.1335,\n",
       "                      0.9964, 1.0180, 0.9765, 0.9737, 0.9807, 0.9520, 0.9845, 0.9951, 0.9728,\n",
       "                      0.9550, 1.0238, 0.9686, 0.9692, 1.0561, 0.9673, 0.9848, 1.0178, 0.9867,\n",
       "                      0.9797, 0.9718, 1.0166, 0.9766, 0.9777, 0.9851, 0.9566, 0.9950, 0.9668,\n",
       "                      0.9822, 0.9729, 0.9968, 0.9767, 0.9654, 0.9957], device='cuda:0')),\n",
       "             ('pert_embedding.encoder.layer_norm.bias',\n",
       "              tensor([-1.0862e-02,  3.5267e-03,  7.1178e-03,  9.2703e-03, -1.2591e-03,\n",
       "                       5.1766e-03,  1.9795e-02,  1.0243e-02, -2.3517e-02, -1.5715e-03,\n",
       "                      -1.4634e-03, -8.6678e-03,  3.5320e-02,  6.7156e-03, -7.8004e-03,\n",
       "                      -6.2573e-03,  7.9420e-03, -9.4434e-03,  1.6457e-02, -6.4846e-03,\n",
       "                       3.8181e-03,  1.4516e-03,  4.0222e-03, -1.3334e-02, -3.2756e-04,\n",
       "                      -6.9353e-03,  1.8745e-02, -1.0550e-02,  3.1212e-03, -1.3308e-02,\n",
       "                      -7.7717e-03,  4.7731e-03, -1.6201e-02, -1.5874e-02, -1.4827e-02,\n",
       "                      -5.6441e-03,  1.8855e-02,  4.7741e-03, -2.0643e-03,  3.1820e-03,\n",
       "                      -3.9723e-06, -1.4907e-02,  1.0299e-02,  7.4446e-03,  9.8783e-03,\n",
       "                      -8.6967e-03,  1.6086e-02,  3.6376e-03,  6.5160e-03,  2.5086e-02,\n",
       "                      -3.3287e-04, -1.1651e-03, -1.0874e-02, -2.5627e-03,  7.9605e-03,\n",
       "                      -9.1197e-04,  5.8154e-03,  1.0432e-02, -1.0246e-02,  1.4107e-04,\n",
       "                       9.2373e-03,  1.8250e-02, -2.1752e-03, -6.0561e-03, -5.3960e-03,\n",
       "                       5.9876e-03, -6.4098e-03,  1.0044e-02, -7.9850e-03,  9.4664e-03,\n",
       "                      -5.2783e-03, -2.8319e-03, -4.0359e-03, -8.3831e-03,  1.1911e-02,\n",
       "                       1.6064e-03,  4.5803e-03,  1.7944e-02,  3.8000e-04,  8.2333e-03,\n",
       "                      -1.3548e-02,  5.1653e-03,  2.0375e-03, -3.0756e-04,  7.3986e-03,\n",
       "                       9.2945e-03,  7.1200e-03, -4.5140e-03, -5.4740e-03,  1.5697e-03,\n",
       "                      -4.1043e-03, -4.5540e-04, -1.5383e-02, -6.5919e-03, -1.6074e-04,\n",
       "                      -7.8046e-03], device='cuda:0')),\n",
       "             ('decoder.mask_token',\n",
       "              tensor([[-0.0240,  0.0246, -0.0115, -0.0155, -0.0364,  0.0133, -0.0029, -0.0154,\n",
       "                        0.0123,  0.0122, -0.0179, -0.0037,  0.0360,  0.0055,  0.0135, -0.0451,\n",
       "                        0.0031, -0.0186,  0.0075, -0.0078, -0.0032, -0.0028,  0.0328, -0.0273,\n",
       "                        0.0039,  0.0075, -0.0524, -0.0252,  0.0376,  0.0047,  0.0039,  0.0026,\n",
       "                        0.0159,  0.0075, -0.0061,  0.0059,  0.0296,  0.0047,  0.0058, -0.0214,\n",
       "                        0.0067, -0.0009,  0.0066,  0.0050, -0.0048,  0.0108, -0.0308, -0.0213,\n",
       "                        0.0111, -0.0387,  0.0463,  0.0051,  0.0064, -0.0163,  0.0313,  0.0040,\n",
       "                        0.0358,  0.0047, -0.0207,  0.0171, -0.0080,  0.0103, -0.0182, -0.0259,\n",
       "                       -0.0092, -0.0319, -0.0387, -0.0207, -0.0295,  0.0399, -0.0249,  0.0301,\n",
       "                       -0.0539,  0.0177,  0.0066,  0.0009,  0.0210, -0.0014,  0.0083,  0.0068,\n",
       "                        0.0030,  0.0292,  0.0100,  0.0248,  0.0187,  0.0015, -0.0035, -0.0103,\n",
       "                        0.0206,  0.0435,  0.0204, -0.0265, -0.0018,  0.0068,  0.0026,  0.0421]],\n",
       "                     device='cuda:0')),\n",
       "             ('decoder.pos_embedding.pos',\n",
       "              tensor([[[ 0.1280,  0.2470, -1.1113,  ...,  0.1775,  0.7051, -0.1277],\n",
       "                       [ 2.7049, -0.4807,  0.3927,  ...,  1.1225,  0.0638, -0.5066],\n",
       "                       [ 1.2915, -0.3232,  0.7227,  ..., -1.1896,  0.5530, -0.7407],\n",
       "                       ...,\n",
       "                       [ 1.2119, -0.3661, -0.2215,  ...,  0.5652,  0.3100, -0.1641],\n",
       "                       [ 0.5269, -0.9177, -0.2874,  ..., -1.9569, -1.0188,  0.1251],\n",
       "                       [-0.2233, -0.7706,  0.6919,  ...,  0.0769,  0.5840, -0.3722]]],\n",
       "                     device='cuda:0')),\n",
       "             ('decoder.transformer.0.self_attn.in_proj_weight',\n",
       "              tensor([[ 0.0494,  0.1293,  0.1225,  ..., -0.0113, -0.1094, -0.1472],\n",
       "                      [ 0.0190,  0.0829,  0.1165,  ..., -0.0469, -0.0738, -0.1151],\n",
       "                      [-0.1342, -0.0264, -0.1236,  ..., -0.0367, -0.0949,  0.0284],\n",
       "                      ...,\n",
       "                      [-0.0838, -0.0175, -0.0857,  ...,  0.0071,  0.0088,  0.0935],\n",
       "                      [ 0.0185,  0.0466, -0.0597,  ..., -0.0993, -0.0027,  0.0888],\n",
       "                      [-0.1010, -0.0925,  0.0558,  ..., -0.0437,  0.1207,  0.0692]],\n",
       "                     device='cuda:0')),\n",
       "             ('decoder.transformer.0.self_attn.in_proj_bias',\n",
       "              tensor([ 1.9242e-02,  1.6888e-02, -2.4431e-02,  3.7906e-02, -1.9320e-02,\n",
       "                       6.3268e-03,  2.8791e-02, -5.0694e-03, -7.8243e-04,  2.3981e-02,\n",
       "                      -3.1729e-02, -2.7286e-02,  2.4815e-03, -1.1739e-02,  2.5909e-03,\n",
       "                      -9.9161e-03,  5.6968e-03, -7.6708e-03, -1.8154e-02,  1.2217e-02,\n",
       "                      -1.2249e-02,  1.5026e-03,  2.5844e-02, -9.6551e-03,  1.0162e-02,\n",
       "                      -4.3772e-03, -1.7954e-02,  1.3902e-02, -1.7884e-02, -6.9806e-03,\n",
       "                       2.1572e-02,  2.2382e-02, -3.7348e-02,  6.8852e-04,  1.7938e-02,\n",
       "                       2.2022e-02,  1.1297e-02, -1.5030e-02,  2.0417e-02, -1.1310e-03,\n",
       "                      -1.8268e-02, -8.0297e-04,  8.9948e-03, -1.6619e-03,  2.3577e-02,\n",
       "                      -1.5912e-02, -2.1025e-06,  1.0419e-02, -8.2262e-03,  5.7584e-03,\n",
       "                      -1.5971e-02,  2.3084e-03,  2.0748e-02, -7.3450e-03,  6.0206e-03,\n",
       "                       1.4394e-02,  1.2747e-02, -2.3289e-02,  4.5721e-03, -1.0745e-03,\n",
       "                       5.3074e-03,  1.3616e-02, -3.5442e-03,  1.3294e-02,  1.3668e-02,\n",
       "                       5.1830e-03, -3.9941e-03, -1.8282e-02, -1.4785e-02,  3.0145e-03,\n",
       "                       3.7801e-04, -9.4168e-03, -5.5843e-03, -2.2542e-02,  1.4034e-03,\n",
       "                      -6.6787e-03, -5.0476e-03,  1.6152e-02,  5.7037e-03, -8.5498e-03,\n",
       "                       2.5640e-03, -1.3114e-02,  3.3470e-02,  3.1189e-03,  1.0674e-02,\n",
       "                       1.0007e-02,  1.4729e-02,  4.9005e-03,  2.3144e-03, -5.5707e-03,\n",
       "                       9.1875e-03, -1.5082e-02,  1.4325e-02, -1.2630e-02, -1.7708e-02,\n",
       "                      -6.1841e-03, -1.2265e+00, -6.7108e-01,  9.4254e-01,  7.2489e-01,\n",
       "                      -1.0133e+00, -9.8439e-01, -6.6938e-01,  9.9735e-01,  1.6040e-01,\n",
       "                      -1.2276e+00,  9.9791e-01,  1.1209e+00, -1.0503e+00,  1.1389e+00,\n",
       "                      -1.2307e+00, -7.3507e-01, -1.3831e+00,  8.1929e-01, -9.3400e-01,\n",
       "                      -1.5227e+00,  1.4673e+00,  5.7306e-02, -1.4918e+00,  1.0612e+00,\n",
       "                      -7.6421e-01, -9.7624e-01,  1.1329e+00, -9.6990e-01,  1.2087e-01,\n",
       "                       1.3428e+00,  1.2988e+00, -6.6497e-01,  7.8175e-02, -7.3901e-02,\n",
       "                      -1.2901e-01, -3.2959e-02, -2.2279e-01, -6.6226e-02, -1.5706e-01,\n",
       "                      -2.3403e-01,  1.0765e-01, -8.3364e-02,  3.6542e-02,  1.6528e-01,\n",
       "                      -3.3892e-03, -2.5341e-01, -1.2187e-02, -1.5173e-01, -4.4984e-02,\n",
       "                      -3.1792e-01, -4.9024e-02, -4.9715e-02,  9.4841e-02,  2.7376e-01,\n",
       "                      -2.6659e-02,  3.1400e-02, -1.0166e-01, -6.2191e-02, -1.0968e-01,\n",
       "                       1.0582e-01,  2.8103e-01,  7.3647e-03, -3.7369e-02, -9.6963e-02,\n",
       "                       3.0149e-01,  3.5230e-01, -1.6282e-01, -1.2176e-01, -3.1052e-01,\n",
       "                       4.0080e-01,  4.3827e-01,  3.8439e-01, -2.0431e-01,  5.0841e-01,\n",
       "                       3.3186e-01,  4.2207e-01,  2.1998e-01, -5.3450e-01, -3.5560e-01,\n",
       "                       7.4574e-04,  4.6238e-01, -3.6597e-01, -3.7054e-01, -2.6147e-01,\n",
       "                       4.0104e-02, -3.3722e-01, -2.4721e-01, -6.2763e-02, -3.7115e-01,\n",
       "                      -4.6968e-02,  4.1053e-03,  3.0513e-01, -1.4036e-01,  3.9066e-01,\n",
       "                       3.3446e-01, -5.4254e-01,  5.9993e-03,  1.7674e-02, -1.4756e-02,\n",
       "                      -6.2708e-03,  1.8452e-02, -7.3869e-03, -2.0242e-02,  9.8324e-03,\n",
       "                      -8.3229e-03,  2.2737e-03,  1.0786e-02, -1.3073e-02,  1.2965e-02,\n",
       "                      -9.3141e-03, -3.5261e-04, -1.4935e-02,  7.4535e-03, -6.1075e-03,\n",
       "                       6.3070e-03,  1.7715e-02,  5.2960e-03,  1.0393e-02, -1.7105e-02,\n",
       "                      -7.3238e-03,  2.5948e-03, -2.3413e-02, -1.2246e-02, -2.1498e-03,\n",
       "                       2.2268e-02,  3.4394e-02,  1.1561e-02,  2.2399e-02, -6.4018e-03,\n",
       "                      -2.1335e-02, -1.8510e-02,  1.4901e-02, -3.0604e-03,  3.5564e-02,\n",
       "                       2.3115e-03, -3.4870e-03,  2.8102e-02,  5.3362e-03, -3.3802e-03,\n",
       "                       7.3289e-03,  7.3333e-03,  8.3956e-03, -1.2816e-02,  7.7345e-03,\n",
       "                      -2.0483e-02,  5.2513e-03,  1.1385e-02, -1.1129e-02, -1.8308e-02,\n",
       "                       8.4286e-03,  1.2228e-02,  1.6357e-02,  5.9855e-03,  1.7858e-03,\n",
       "                       4.1357e-03,  1.0671e-02,  3.9936e-03,  1.3300e-03,  6.0305e-03,\n",
       "                       2.3926e-02,  1.0069e-02, -1.8984e-02,  1.6954e-02,  3.3311e-03,\n",
       "                       2.0158e-02, -2.0102e-02,  6.5941e-03, -5.8073e-03, -9.4075e-03,\n",
       "                       3.3674e-03,  8.6011e-03, -4.1343e-03, -2.0208e-02, -4.2451e-02,\n",
       "                       2.1671e-02, -9.1196e-03, -3.8063e-03,  5.8387e-03,  2.2117e-03,\n",
       "                      -1.9568e-02, -5.4949e-03,  1.8745e-03,  4.0925e-03,  1.6665e-02,\n",
       "                      -4.1725e-03,  7.0749e-03, -1.7428e-02,  2.4770e-03,  3.0580e-03,\n",
       "                       1.1779e-02,  5.0997e-03, -1.2262e-02], device='cuda:0')),\n",
       "             ('decoder.transformer.0.self_attn.out_proj.weight',\n",
       "              tensor([[ 0.0854,  0.0495,  0.0245,  ..., -0.0126, -0.0577,  0.0300],\n",
       "                      [ 0.0001, -0.0090,  0.0238,  ...,  0.1054,  0.0651,  0.0871],\n",
       "                      [-0.0559, -0.0363,  0.0776,  ...,  0.0096, -0.0973,  0.0342],\n",
       "                      ...,\n",
       "                      [-0.0914, -0.0339, -0.0702,  ..., -0.0268,  0.0784,  0.0240],\n",
       "                      [ 0.0319,  0.0069,  0.0817,  ...,  0.0728,  0.0555,  0.0013],\n",
       "                      [-0.0746, -0.0559,  0.0231,  ...,  0.0394,  0.1009, -0.0579]],\n",
       "                     device='cuda:0')),\n",
       "             ('decoder.transformer.0.self_attn.out_proj.bias',\n",
       "              tensor([ 0.0325, -0.0030,  0.0165, -0.0090,  0.0109, -0.0029, -0.0159,  0.0136,\n",
       "                      -0.0194, -0.0096,  0.0165, -0.0235,  0.0275, -0.0046,  0.0132,  0.0079,\n",
       "                      -0.0035, -0.0164,  0.0240,  0.0051, -0.0219, -0.0150,  0.0040, -0.0343,\n",
       "                      -0.0063, -0.0007, -0.0175,  0.0109, -0.0077, -0.0034, -0.0040, -0.0152,\n",
       "                      -0.0070, -0.0119, -0.0274, -0.0245,  0.0190,  0.0426,  0.0234,  0.0072,\n",
       "                      -0.0068, -0.0098, -0.0212,  0.0593,  0.0203,  0.0056,  0.0148,  0.0019,\n",
       "                       0.0049, -0.0040,  0.0221, -0.0474, -0.0435, -0.0077, -0.0020,  0.0056,\n",
       "                       0.0408, -0.0064,  0.0091, -0.0243, -0.0221,  0.0030,  0.0166,  0.0059,\n",
       "                       0.0192,  0.0082,  0.0080,  0.0120,  0.0199,  0.0119,  0.0247,  0.0247,\n",
       "                      -0.0198,  0.0247, -0.0147,  0.0052, -0.0180,  0.0084,  0.0056,  0.0257,\n",
       "                      -0.0271,  0.0124, -0.0158, -0.0215, -0.0031,  0.0483,  0.0110, -0.0228,\n",
       "                      -0.0432, -0.0169,  0.0132, -0.0171, -0.0028,  0.0211, -0.0046, -0.0166],\n",
       "                     device='cuda:0')),\n",
       "             ('decoder.transformer.0.linear1.weight',\n",
       "              tensor([[-0.1168, -0.0855,  0.0713,  ..., -0.0855,  0.0076,  0.0911],\n",
       "                      [ 0.1404, -0.1359,  0.0287,  ..., -0.0256, -0.0348, -0.0452],\n",
       "                      [-0.1166,  0.0560,  0.0322,  ..., -0.0073, -0.0225,  0.0138],\n",
       "                      ...,\n",
       "                      [ 0.0748,  0.0232, -0.0122,  ..., -0.0551,  0.0628, -0.0970],\n",
       "                      [ 0.0726,  0.0937, -0.0203,  ..., -0.0748,  0.0319,  0.0215],\n",
       "                      [-0.1392,  0.0906,  0.0109,  ..., -0.0739,  0.0113,  0.0379]],\n",
       "                     device='cuda:0')),\n",
       "             ('decoder.transformer.0.linear1.bias',\n",
       "              tensor([ 0.0426,  0.0461,  0.0298, -0.0972, -0.1030, -0.1369,  0.0516, -0.0870,\n",
       "                      -0.1302,  0.0337,  0.1125,  0.0262,  0.0696, -0.1042, -0.0552,  0.0395,\n",
       "                       0.0311,  0.0336, -0.0241, -0.0394, -0.1006, -0.0189,  0.0526, -0.1137,\n",
       "                      -0.0782, -0.0684, -0.0985, -0.0930,  0.0329, -0.0594,  0.0916,  0.0985,\n",
       "                      -0.0661, -0.0904, -0.0240, -0.0737,  0.0072, -0.1272,  0.0247,  0.0044,\n",
       "                      -0.0414,  0.1026, -0.0496,  0.0346, -0.0579, -0.1268,  0.0425,  0.0186,\n",
       "                       0.0144,  0.0905, -0.0388, -0.0261,  0.0574, -0.0265, -0.0233, -0.0753,\n",
       "                       0.0576,  0.0576,  0.0555, -0.0037,  0.0431, -0.0481, -0.0835,  0.0827,\n",
       "                      -0.0257, -0.1369,  0.0144,  0.0461, -0.1505,  0.0425, -0.0127,  0.0630,\n",
       "                       0.0475, -0.0514, -0.0134, -0.0543,  0.0377, -0.0934,  0.0525,  0.1082,\n",
       "                      -0.0815, -0.0597, -0.0739, -0.0958, -0.1046,  0.0198,  0.0048, -0.1134,\n",
       "                      -0.0670,  0.0668, -0.1253, -0.0052,  0.0403, -0.0060, -0.0494, -0.0105,\n",
       "                       0.0027,  0.0402, -0.0383,  0.0115, -0.0957,  0.0357,  0.0825, -0.0712,\n",
       "                      -0.0619, -0.0501, -0.0514,  0.0568, -0.0135,  0.0248,  0.0756,  0.0063,\n",
       "                       0.0403,  0.0414, -0.0794, -0.0452, -0.0845,  0.0915, -0.0379, -0.0704,\n",
       "                       0.0027, -0.0102,  0.0096,  0.0463, -0.0180, -0.0156,  0.0538, -0.0992],\n",
       "                     device='cuda:0')),\n",
       "             ('decoder.transformer.0.linear2.weight',\n",
       "              tensor([[ 0.1413,  0.0990,  0.0498,  ...,  0.0983,  0.0078,  0.0465],\n",
       "                      [ 0.1352,  0.1040,  0.0240,  ..., -0.0110, -0.0249, -0.0219],\n",
       "                      [ 0.0591,  0.0119,  0.0239,  ...,  0.0416, -0.0370,  0.0468],\n",
       "                      ...,\n",
       "                      [-0.0620,  0.0480,  0.0687,  ..., -0.0345, -0.0115,  0.1138],\n",
       "                      [-0.0560, -0.0851,  0.0652,  ...,  0.0285,  0.0425, -0.1157],\n",
       "                      [-0.0753,  0.0085, -0.0211,  ...,  0.0432, -0.0296,  0.0333]],\n",
       "                     device='cuda:0')),\n",
       "             ('decoder.transformer.0.linear2.bias',\n",
       "              tensor([-0.0671,  0.0316, -0.0049,  0.0667, -0.0473,  0.0017,  0.0065,  0.0437,\n",
       "                      -0.0787, -0.0774,  0.0082,  0.0440, -0.0239,  0.0420, -0.0146, -0.0100,\n",
       "                       0.0762, -0.0523, -0.0118,  0.0543, -0.0696,  0.0296, -0.0639, -0.0353,\n",
       "                       0.0867,  0.0552, -0.0461, -0.0625, -0.0761, -0.0257,  0.0457,  0.0696,\n",
       "                      -0.0320, -0.0733,  0.0077,  0.0498, -0.0500, -0.0151, -0.0375,  0.0755,\n",
       "                       0.0549,  0.0425,  0.0119,  0.0619, -0.0810, -0.0165,  0.0123, -0.1090,\n",
       "                       0.0176,  0.0144,  0.1012,  0.0572,  0.0248, -0.0083,  0.0388, -0.0602,\n",
       "                       0.0813, -0.0626, -0.0366,  0.0355, -0.0549, -0.0778,  0.0878,  0.0788,\n",
       "                       0.0104,  0.0743, -0.0690, -0.0349, -0.0012,  0.0154,  0.0073,  0.0248,\n",
       "                      -0.0150, -0.0377, -0.0180, -0.0763, -0.0818, -0.0449, -0.0872,  0.0758,\n",
       "                      -0.0533, -0.0644,  0.0108,  0.0779,  0.0065,  0.0221, -0.0526,  0.0364,\n",
       "                       0.0612,  0.0180,  0.0340, -0.0354, -0.0616, -0.0748,  0.0103,  0.0133],\n",
       "                     device='cuda:0')),\n",
       "             ('decoder.transformer.0.norm1.weight',\n",
       "              tensor([0.9810, 1.0263, 1.0467, 1.0228, 0.9915, 1.0153, 0.9937, 0.9588, 0.9719,\n",
       "                      0.9954, 0.9989, 1.0183, 0.9982, 0.9949, 0.9999, 1.0057, 1.0241, 1.0329,\n",
       "                      0.9973, 1.0248, 1.0195, 1.0021, 1.0139, 0.9684, 0.9908, 0.9786, 0.9975,\n",
       "                      0.9923, 1.0296, 0.9688, 0.9719, 0.9973, 1.0086, 0.9665, 1.0175, 0.9800,\n",
       "                      1.0077, 1.0676, 1.0019, 1.0331, 1.0021, 0.9675, 1.0085, 0.9977, 0.9979,\n",
       "                      0.9974, 1.0129, 1.0007, 0.9892, 1.0048, 0.9944, 0.9794, 1.0337, 0.9952,\n",
       "                      1.0263, 0.9945, 0.9896, 0.9167, 1.0159, 1.0147, 1.0039, 0.9612, 1.0253,\n",
       "                      0.9750, 1.0284, 0.9854, 0.9701, 1.0253, 0.9603, 1.0049, 1.0107, 0.9604,\n",
       "                      0.9871, 1.0183, 0.9913, 0.9797, 1.0263, 1.0052, 1.0092, 0.9960, 0.9989,\n",
       "                      0.9586, 0.9535, 1.0180, 1.0146, 1.0512, 0.9651, 0.9958, 0.9870, 0.9850,\n",
       "                      1.0275, 0.9209, 1.0221, 0.9713, 0.9587, 0.9885], device='cuda:0')),\n",
       "             ('decoder.transformer.0.norm1.bias',\n",
       "              tensor([ 1.9493e-02, -1.7990e-02,  6.1003e-03,  4.8013e-03,  8.1287e-03,\n",
       "                      -7.8719e-03, -3.4410e-02,  3.8021e-03, -9.2625e-04, -1.4818e-03,\n",
       "                       7.2243e-03, -1.0091e-02,  3.4689e-02, -1.7443e-02,  1.2324e-02,\n",
       "                      -4.2853e-03, -7.8588e-03, -6.4676e-03, -2.0707e-03,  9.8295e-03,\n",
       "                      -7.8632e-03, -2.9439e-03, -3.3945e-03,  5.6960e-03, -2.9969e-03,\n",
       "                      -5.0952e-03, -1.9335e-02,  1.4062e-02, -1.1529e-03, -8.8511e-03,\n",
       "                       1.5651e-05, -6.1832e-03,  4.1981e-03, -7.6554e-03, -7.2471e-03,\n",
       "                      -1.7497e-02,  1.9339e-03,  1.6520e-02,  2.6696e-02,  9.1529e-03,\n",
       "                      -9.2785e-03, -3.3496e-02,  4.7149e-03,  4.1108e-02, -6.4663e-04,\n",
       "                       4.8528e-03,  7.9834e-03, -2.0332e-02,  2.6567e-03, -1.5819e-02,\n",
       "                       1.7428e-02, -3.6590e-02, -2.5454e-02, -3.0790e-03, -9.6875e-03,\n",
       "                      -2.8267e-03,  2.2979e-02,  1.4697e-03,  1.9078e-02,  3.2120e-03,\n",
       "                      -1.7819e-02,  8.9814e-04,  9.3865e-03,  1.9459e-02,  5.8600e-03,\n",
       "                       1.3961e-03, -7.8647e-03, -1.2996e-02,  2.6580e-03, -7.3785e-04,\n",
       "                       2.1126e-02,  8.2759e-03, -2.4607e-02,  8.5584e-03,  1.2489e-02,\n",
       "                      -8.8106e-03, -1.5749e-02, -2.4306e-03, -1.3452e-02,  2.8417e-02,\n",
       "                       2.8128e-03,  3.1123e-03,  1.1190e-02, -1.6068e-02, -4.0068e-03,\n",
       "                       5.1870e-02, -1.3288e-02, -1.7401e-02, -3.0085e-02,  2.3469e-03,\n",
       "                       9.7969e-03, -1.6101e-02,  7.8489e-03,  3.2906e-02, -5.3686e-03,\n",
       "                      -1.1780e-02], device='cuda:0')),\n",
       "             ('decoder.transformer.0.norm2.weight',\n",
       "              tensor([0.9765, 1.0250, 1.0134, 1.0131, 0.9970, 1.0524, 0.9646, 0.9724, 0.9990,\n",
       "                      0.9869, 0.9642, 0.9969, 0.9686, 0.9858, 1.0048, 0.9762, 1.0360, 1.0184,\n",
       "                      1.0224, 1.0299, 1.0136, 1.0060, 1.0118, 0.9810, 0.9947, 0.9698, 0.9939,\n",
       "                      0.9994, 0.9973, 0.9703, 0.9694, 0.9908, 1.0105, 0.9772, 1.0112, 0.9785,\n",
       "                      1.0108, 0.9899, 0.9848, 1.0266, 0.9586, 0.9942, 1.0167, 0.9978, 1.0094,\n",
       "                      1.0066, 0.9984, 0.9735, 0.9697, 1.0214, 1.0056, 0.9826, 1.0232, 1.0052,\n",
       "                      1.0091, 0.9826, 0.9941, 0.9733, 0.9904, 1.0264, 1.0004, 0.9578, 1.0598,\n",
       "                      0.9562, 1.0166, 0.9901, 0.9764, 1.0307, 0.9533, 1.0225, 0.9613, 0.9747,\n",
       "                      1.0158, 0.9964, 0.9822, 0.9985, 1.0212, 1.0168, 1.0174, 1.0003, 1.0056,\n",
       "                      1.0017, 0.9884, 1.0342, 0.9921, 1.0008, 1.0227, 0.9976, 0.9977, 1.0131,\n",
       "                      0.9845, 0.9850, 0.9799, 0.9929, 0.9826, 0.9803], device='cuda:0')),\n",
       "             ('decoder.transformer.0.norm2.bias',\n",
       "              tensor([-0.0047, -0.0125, -0.0114,  0.0084,  0.0028, -0.0130,  0.0057,  0.0092,\n",
       "                       0.0053,  0.0018,  0.0013,  0.0028,  0.0038,  0.0033, -0.0240, -0.0194,\n",
       "                       0.0072,  0.0057, -0.0163, -0.0127,  0.0060,  0.0064,  0.0190,  0.0092,\n",
       "                       0.0008, -0.0004,  0.0025,  0.0151,  0.0031, -0.0074, -0.0086,  0.0069,\n",
       "                       0.0177, -0.0045,  0.0050,  0.0025,  0.0110, -0.0146,  0.0266,  0.0100,\n",
       "                       0.0013, -0.0085,  0.0171,  0.0083,  0.0019, -0.0126,  0.0087, -0.0145,\n",
       "                       0.0089,  0.0067,  0.0090,  0.0056, -0.0027,  0.0034,  0.0054,  0.0011,\n",
       "                       0.0059, -0.0011,  0.0034,  0.0037, -0.0012,  0.0052, -0.0107,  0.0023,\n",
       "                      -0.0227,  0.0133, -0.0083, -0.0188, -0.0059, -0.0149,  0.0037, -0.0031,\n",
       "                      -0.0018, -0.0186,  0.0367, -0.0046, -0.0081,  0.0032,  0.0001,  0.0068,\n",
       "                       0.0090,  0.0069,  0.0265, -0.0095, -0.0054,  0.0197,  0.0031, -0.0123,\n",
       "                       0.0051,  0.0062,  0.0039,  0.0264,  0.0045,  0.0007,  0.0003, -0.0091],\n",
       "                     device='cuda:0')),\n",
       "             ('decoder.transformer.1.self_attn.in_proj_weight',\n",
       "              tensor([[-0.0886,  0.0538, -0.1035,  ...,  0.0623,  0.0691,  0.1156],\n",
       "                      [ 0.0008, -0.0542, -0.0578,  ..., -0.0838,  0.0205, -0.0068],\n",
       "                      [-0.0024, -0.0949,  0.0823,  ...,  0.1129,  0.0150,  0.1715],\n",
       "                      ...,\n",
       "                      [-0.0170,  0.0457, -0.1073,  ..., -0.0653, -0.1095, -0.0315],\n",
       "                      [ 0.1197,  0.0171,  0.1135,  ...,  0.1401,  0.0760, -0.0468],\n",
       "                      [ 0.0301,  0.1211, -0.0115,  ..., -0.0407, -0.1034,  0.0753]],\n",
       "                     device='cuda:0')),\n",
       "             ('decoder.transformer.1.self_attn.in_proj_bias',\n",
       "              tensor([-1.5308e-02,  4.2922e-02,  1.3354e-02, -2.5403e-02, -1.8090e-02,\n",
       "                       2.1675e-02, -6.2980e-02, -3.3406e-02,  3.3912e-02,  6.5016e-02,\n",
       "                      -3.4178e-02,  6.7645e-02, -4.3230e-02,  6.7591e-02, -3.7191e-02,\n",
       "                       6.5988e-02, -4.8252e-02, -1.1666e-02,  1.5464e-02, -4.6735e-02,\n",
       "                       4.4689e-02,  5.2680e-02,  5.8962e-02,  2.0577e-02,  3.0488e-02,\n",
       "                      -2.7679e-03,  3.8150e-02,  7.4766e-02, -6.4184e-02, -4.0991e-02,\n",
       "                       5.7547e-02, -2.1604e-02, -1.5060e-01, -9.8292e-02,  8.9575e-02,\n",
       "                       3.8619e-02,  3.9651e-02, -1.1771e-01,  6.4593e-02,  2.2280e-02,\n",
       "                      -1.6501e-02,  9.2878e-02,  8.6382e-02, -4.2950e-02, -6.5395e-02,\n",
       "                       1.3032e-01, -4.8662e-02, -3.0993e-02, -3.1114e-02,  1.5558e-01,\n",
       "                       2.9839e-02, -4.3801e-03,  1.4464e-02,  5.8938e-02, -1.8366e-01,\n",
       "                      -1.3821e-01, -3.0041e-02, -8.5241e-02, -7.5845e-02,  5.6776e-03,\n",
       "                      -1.0079e-01,  9.8735e-02, -7.3201e-02,  1.4110e-02, -4.0655e-03,\n",
       "                       2.3000e-02, -1.2389e-02, -1.5453e-02,  2.9441e-03,  2.9779e-02,\n",
       "                      -2.5901e-02,  6.3319e-02, -2.7794e-03,  9.8429e-03, -1.2420e-02,\n",
       "                       2.7423e-02, -3.3893e-02, -5.5263e-03, -1.4468e-02,  5.6476e-02,\n",
       "                      -6.7570e-03, -6.1873e-02, -2.6857e-02, -2.5143e-03,  1.3034e-02,\n",
       "                      -3.2703e-02, -2.9617e-02, -2.9928e-02,  2.0132e-02, -2.2680e-02,\n",
       "                      -1.8682e-02,  1.0622e-02, -1.5373e-02, -4.0587e-02, -2.1302e-02,\n",
       "                       9.9439e-03,  1.3103e-02,  3.9963e-02,  1.3951e-02,  2.2850e-02,\n",
       "                      -2.2149e-02, -1.4688e-02, -3.1903e-02,  2.9447e-02, -1.3328e-02,\n",
       "                      -4.5319e-03,  1.0891e-02,  6.9775e-02,  9.5856e-03,  2.5028e-03,\n",
       "                      -2.3142e-02,  2.6779e-02, -3.5705e-02,  1.8137e-03,  1.4066e-02,\n",
       "                      -7.1299e-03,  2.4444e-02,  4.9378e-03, -3.1976e-02,  1.9946e-02,\n",
       "                       7.0020e-02,  6.9328e-02, -1.0137e-02, -2.5695e-04,  3.7283e-03,\n",
       "                      -4.5501e-02, -2.8017e-02,  4.5779e-03, -4.8136e-01, -3.8817e-01,\n",
       "                       3.7189e-01, -6.6456e-02,  3.8776e-01, -2.8802e-01,  3.8210e-01,\n",
       "                      -6.5900e-01,  3.4024e-01,  5.3495e-01,  6.5508e-01, -4.0065e-01,\n",
       "                      -2.7945e-01,  4.9231e-01, -4.5146e-01, -2.1706e-01, -4.2361e-01,\n",
       "                       5.1219e-01, -1.7172e-01, -4.8396e-01, -2.1478e-01,  4.9915e-01,\n",
       "                      -4.6051e-01, -4.4562e-01, -4.5233e-01, -4.1551e-01, -2.9916e-01,\n",
       "                      -8.3045e-02, -4.3931e-01,  4.9938e-01, -9.5863e-02,  3.6623e-01,\n",
       "                      -6.0960e-02,  2.4298e-02,  1.0074e-02, -2.9307e-02, -1.9077e-02,\n",
       "                       2.2087e-02,  8.0141e-02,  4.2092e-02, -1.2423e-02,  5.4483e-02,\n",
       "                      -3.3407e-03,  2.8288e-02, -7.9769e-02, -1.3349e-02, -6.8468e-02,\n",
       "                       1.3393e-02, -6.1542e-02,  2.9483e-02, -9.1973e-02,  3.0250e-03,\n",
       "                      -3.7228e-02, -6.3673e-02, -2.6006e-02, -1.4325e-02,  6.6863e-02,\n",
       "                      -4.4141e-02, -9.7074e-03, -7.1182e-02,  1.7227e-02,  3.1732e-02,\n",
       "                       3.9889e-03,  4.1496e-02, -2.1635e-02,  5.0890e-04,  1.0160e-02,\n",
       "                      -6.1333e-03,  4.0322e-03, -1.0855e-03, -1.1560e-02, -2.3454e-03,\n",
       "                      -7.4298e-03,  1.0859e-02, -9.5245e-04,  6.4067e-03,  2.0364e-02,\n",
       "                       1.9777e-02, -1.6384e-03, -7.6604e-04,  1.4016e-02,  5.9215e-03,\n",
       "                      -2.0265e-02,  1.9503e-03, -3.1944e-03,  2.4319e-02, -1.4159e-02,\n",
       "                      -1.2057e-03,  3.0220e-03,  1.7321e-02,  1.4062e-02,  3.2411e-02,\n",
       "                      -1.5072e-02,  1.4958e-03,  6.9091e-03,  4.8251e-03, -7.1385e-04,\n",
       "                       7.3897e-03,  2.9401e-03,  8.8401e-03, -1.1853e-02, -1.5633e-03,\n",
       "                       4.5250e-05, -2.0857e-02, -1.5011e-02,  1.4468e-02, -3.9634e-03,\n",
       "                      -3.3967e-03,  7.2002e-03, -9.9426e-03,  1.6942e-02, -1.2386e-02,\n",
       "                      -6.0578e-03,  1.6626e-02, -4.7003e-03,  1.1916e-02,  1.0241e-02,\n",
       "                       1.6046e-02,  3.2228e-03, -6.5627e-03, -6.8214e-03, -9.9291e-03,\n",
       "                       6.4558e-03,  6.8109e-03, -9.5972e-03, -1.0629e-02, -6.9422e-03,\n",
       "                       1.1139e-02,  1.0775e-03,  9.2516e-03, -1.4117e-02, -8.1630e-03,\n",
       "                       1.2413e-03,  1.0940e-02, -4.7394e-03,  9.8279e-03, -2.1823e-02,\n",
       "                      -9.4198e-03,  5.4275e-03,  1.2432e-02,  3.2292e-03, -7.6620e-03,\n",
       "                      -4.0940e-03, -1.0236e-02, -1.4641e-02, -1.7748e-02, -8.3961e-03,\n",
       "                      -2.4148e-02, -1.9898e-02, -9.6611e-03, -1.9039e-03,  1.9990e-02,\n",
       "                       3.1893e-03, -9.2427e-03, -3.5434e-03, -4.6029e-03, -6.7222e-03,\n",
       "                       6.1614e-03, -1.6843e-02,  5.6114e-03], device='cuda:0')),\n",
       "             ('decoder.transformer.1.self_attn.out_proj.weight',\n",
       "              tensor([[-0.0504,  0.0209, -0.0477,  ...,  0.0350,  0.0990,  0.0654],\n",
       "                      [-0.0752, -0.0062, -0.0586,  ...,  0.0547, -0.0766,  0.0159],\n",
       "                      [ 0.0302, -0.0101, -0.0098,  ...,  0.0494, -0.0198,  0.1095],\n",
       "                      ...,\n",
       "                      [-0.0225,  0.0099, -0.0984,  ..., -0.0065, -0.0491, -0.0597],\n",
       "                      [-0.0955, -0.1014, -0.0739,  ..., -0.0835, -0.0167, -0.0463],\n",
       "                      [ 0.0224, -0.0059,  0.0804,  ..., -0.0072,  0.0274,  0.0428]],\n",
       "                     device='cuda:0')),\n",
       "             ('decoder.transformer.1.self_attn.out_proj.bias',\n",
       "              tensor([ 1.3911e-02, -2.8681e-02, -1.5543e-02,  2.8992e-02,  4.2854e-03,\n",
       "                      -1.3640e-02,  9.8543e-03, -7.0294e-03,  6.5023e-03,  2.5277e-05,\n",
       "                      -6.5490e-03,  5.5098e-03, -3.4214e-03,  5.6070e-03,  2.9217e-03,\n",
       "                      -1.8343e-02, -8.4142e-03,  2.8052e-03,  1.2661e-02,  7.1872e-03,\n",
       "                       4.9891e-03, -9.2584e-04,  1.1233e-02, -8.1662e-03, -7.1105e-03,\n",
       "                      -4.8767e-03, -4.5730e-03,  1.1529e-02,  7.9718e-03, -2.5732e-02,\n",
       "                      -1.2786e-02, -2.5868e-03,  1.0681e-02, -2.5013e-02, -1.0487e-02,\n",
       "                      -1.6330e-02,  1.5943e-04,  1.0048e-02,  1.0111e-02,  2.8803e-03,\n",
       "                       5.3741e-04, -7.0573e-03,  1.7608e-02,  2.8587e-02, -7.4339e-03,\n",
       "                      -7.4907e-03,  1.2683e-02, -1.0821e-02,  9.8276e-03, -2.7573e-03,\n",
       "                       6.0425e-03,  4.1585e-03,  9.0816e-04,  5.5179e-03,  1.3163e-02,\n",
       "                       4.9540e-03,  5.2595e-03, -1.4116e-03,  1.5741e-02,  6.9247e-04,\n",
       "                       1.9268e-03,  8.3574e-04, -1.5195e-02,  5.9514e-03, -2.9069e-02,\n",
       "                      -1.3345e-03,  9.8678e-03, -1.6494e-02,  5.5541e-03, -1.8992e-02,\n",
       "                       6.1585e-03, -2.0140e-02,  3.1583e-03,  7.2868e-03,  2.4833e-02,\n",
       "                       5.6735e-03, -6.6453e-03,  1.3214e-02, -3.6832e-04,  2.3074e-03,\n",
       "                      -1.8736e-02,  1.1785e-02, -6.7366e-03,  7.3808e-04,  2.7246e-03,\n",
       "                       7.4693e-03, -5.6917e-03, -1.1085e-02, -8.5625e-03, -3.9443e-04,\n",
       "                      -2.5589e-03, -1.4532e-02,  1.5613e-03,  1.3290e-02, -1.0786e-02,\n",
       "                      -1.2342e-02], device='cuda:0')),\n",
       "             ('decoder.transformer.1.linear1.weight',\n",
       "              tensor([[-0.0050, -0.0515, -0.0284,  ..., -0.0534, -0.0956,  0.0587],\n",
       "                      [-0.0592,  0.0031, -0.0092,  ..., -0.0123,  0.0255, -0.0211],\n",
       "                      [-0.0274, -0.0027, -0.0166,  ...,  0.0200, -0.0087,  0.1275],\n",
       "                      ...,\n",
       "                      [-0.0699, -0.0467,  0.0910,  ...,  0.0031, -0.1218, -0.0362],\n",
       "                      [ 0.0539,  0.0599,  0.0249,  ...,  0.0040,  0.0931, -0.0380],\n",
       "                      [ 0.0867, -0.0571,  0.2269,  ...,  0.0449,  0.0058, -0.0280]],\n",
       "                     device='cuda:0')),\n",
       "             ('decoder.transformer.1.linear1.bias',\n",
       "              tensor([-0.1173,  0.0801, -0.0183,  0.0559, -0.1380,  0.0142, -0.0704,  0.0355,\n",
       "                       0.0617, -0.0016, -0.0693,  0.0764,  0.0228,  0.0400, -0.0446, -0.0149,\n",
       "                      -0.0062,  0.1101, -0.0145, -0.0298,  0.0694, -0.0330, -0.0803,  0.0771,\n",
       "                      -0.0669,  0.0526, -0.1072, -0.0549, -0.0227, -0.0991,  0.0307,  0.0593,\n",
       "                      -0.1022,  0.1037,  0.0205, -0.0324, -0.0777,  0.0381,  0.0520, -0.0612,\n",
       "                      -0.0171, -0.0254, -0.0908, -0.0156,  0.0334, -0.0126, -0.0015,  0.0645,\n",
       "                       0.0676, -0.0268, -0.0447,  0.0390, -0.1134,  0.0332,  0.0832, -0.0366,\n",
       "                       0.0171, -0.0275, -0.0982,  0.0352,  0.0122, -0.0513,  0.0020, -0.0365,\n",
       "                       0.0271,  0.0085, -0.0677,  0.0445,  0.0834, -0.0936,  0.0780,  0.0470,\n",
       "                      -0.0337, -0.0730, -0.0229,  0.1057, -0.0680,  0.0237,  0.0358, -0.1166,\n",
       "                      -0.0159,  0.0654,  0.0095, -0.0925, -0.0341, -0.0372,  0.0563, -0.1265,\n",
       "                      -0.0252,  0.0090, -0.0658, -0.0021,  0.0354,  0.0637, -0.0728, -0.1003,\n",
       "                       0.0421, -0.0659,  0.0289,  0.0644, -0.0271, -0.1317, -0.0632, -0.0605,\n",
       "                      -0.0136, -0.0608, -0.0833, -0.0049,  0.0052, -0.0115, -0.0070,  0.0661,\n",
       "                       0.0403, -0.0221, -0.0823,  0.0277, -0.0645, -0.0704, -0.1203, -0.0631,\n",
       "                       0.0172, -0.0328, -0.0048, -0.0456, -0.0978, -0.0322, -0.1159,  0.0343],\n",
       "                     device='cuda:0')),\n",
       "             ('decoder.transformer.1.linear2.weight',\n",
       "              tensor([[ 0.0037,  0.0378, -0.1419,  ..., -0.0581, -0.0693,  0.0366],\n",
       "                      [ 0.0348, -0.0057, -0.0347,  ..., -0.0301,  0.0263, -0.1174],\n",
       "                      [ 0.0645,  0.0669,  0.1105,  ...,  0.0659,  0.0944,  0.0306],\n",
       "                      ...,\n",
       "                      [-0.0135, -0.0480,  0.1020,  ..., -0.0015, -0.1154, -0.0317],\n",
       "                      [-0.0616,  0.0579,  0.1273,  ...,  0.0497, -0.1063,  0.0489],\n",
       "                      [ 0.0127, -0.0012,  0.0507,  ..., -0.0379, -0.0381, -0.0752]],\n",
       "                     device='cuda:0')),\n",
       "             ('decoder.transformer.1.linear2.bias',\n",
       "              tensor([ 0.0480, -0.0651, -0.0633,  0.1045,  0.0085, -0.0666, -0.0070, -0.0803,\n",
       "                       0.0563,  0.0175,  0.0029,  0.0765, -0.0543, -0.0394, -0.0156, -0.0735,\n",
       "                      -0.0174, -0.0775,  0.0229,  0.0381, -0.0452, -0.0029, -0.0673,  0.0080,\n",
       "                      -0.1063, -0.0129, -0.0770, -0.0439,  0.0156,  0.0465,  0.0746, -0.0049,\n",
       "                       0.0868,  0.0093,  0.0170, -0.0731,  0.0329,  0.0937, -0.0109, -0.0395,\n",
       "                       0.0801, -0.0908,  0.0899, -0.0493,  0.0163, -0.0192, -0.0675, -0.0387,\n",
       "                      -0.0494, -0.0823,  0.0631,  0.0024,  0.0091, -0.0776,  0.0914,  0.0088,\n",
       "                       0.0386,  0.0638, -0.0289,  0.0806, -0.0396, -0.0007, -0.0443,  0.0522,\n",
       "                      -0.0191,  0.0586,  0.0031,  0.0722,  0.0040,  0.0137, -0.0004,  0.0726,\n",
       "                      -0.0506, -0.0373,  0.0048, -0.0894, -0.0566, -0.0266, -0.0635, -0.0008,\n",
       "                      -0.0496, -0.0570, -0.0021, -0.0246, -0.0675,  0.0254, -0.0342,  0.0008,\n",
       "                      -0.0166, -0.0320,  0.0387, -0.0043,  0.0727,  0.0656, -0.0703,  0.0508],\n",
       "                     device='cuda:0')),\n",
       "             ('decoder.transformer.1.norm1.weight',\n",
       "              tensor([1.0121, 1.0014, 1.0119, 1.0144, 1.0114, 1.0220, 0.9576, 0.9932, 0.9741,\n",
       "                      0.9987, 0.9597, 0.9869, 0.9807, 0.9919, 1.0174, 0.9937, 1.0247, 1.0124,\n",
       "                      1.0117, 1.0162, 1.0131, 0.9968, 1.0153, 0.9691, 0.9799, 0.9820, 0.9958,\n",
       "                      1.0091, 1.0250, 0.9841, 0.9802, 1.0065, 1.0444, 0.9794, 0.9916, 0.9893,\n",
       "                      1.0058, 0.9946, 0.9809, 1.0306, 0.9688, 1.0000, 1.0204, 1.0098, 1.0249,\n",
       "                      1.0071, 0.9875, 0.9853, 0.9826, 1.0278, 1.0120, 0.9951, 1.0122, 0.9992,\n",
       "                      1.0134, 0.9891, 1.0025, 0.9669, 0.9742, 1.0111, 1.0076, 0.9677, 1.0557,\n",
       "                      0.9980, 1.0264, 1.0189, 0.9834, 1.0304, 0.9826, 1.0203, 0.9753, 0.9676,\n",
       "                      1.0085, 1.0007, 1.0099, 0.9786, 1.0184, 1.0047, 1.0072, 1.0090, 1.0120,\n",
       "                      1.0141, 0.9762, 1.0114, 1.0035, 1.0019, 1.0128, 0.9996, 0.9966, 1.0103,\n",
       "                      0.9894, 0.9929, 0.9991, 0.9617, 1.0046, 0.9815], device='cuda:0')),\n",
       "             ('decoder.transformer.1.norm1.bias',\n",
       "              tensor([ 0.0174, -0.0272,  0.0043,  0.0087,  0.0059, -0.0045, -0.0120, -0.0081,\n",
       "                       0.0053,  0.0040, -0.0081, -0.0149,  0.0051, -0.0008,  0.0021, -0.0046,\n",
       "                      -0.0103, -0.0100,  0.0223,  0.0061,  0.0038, -0.0034,  0.0088, -0.0039,\n",
       "                      -0.0258, -0.0114, -0.0057,  0.0097,  0.0073, -0.0241, -0.0019, -0.0087,\n",
       "                       0.0062, -0.0173, -0.0089, -0.0231,  0.0025,  0.0170,  0.0212, -0.0058,\n",
       "                      -0.0054, -0.0120,  0.0079,  0.0293, -0.0143,  0.0042,  0.0139, -0.0137,\n",
       "                       0.0066, -0.0118,  0.0061, -0.0054,  0.0016,  0.0041, -0.0089,  0.0025,\n",
       "                       0.0128,  0.0050,  0.0125, -0.0222, -0.0016,  0.0028, -0.0068,  0.0188,\n",
       "                      -0.0053, -0.0049,  0.0064, -0.0091, -0.0022, -0.0050,  0.0084, -0.0201,\n",
       "                       0.0016,  0.0109,  0.0119, -0.0198, -0.0095, -0.0143, -0.0002,  0.0021,\n",
       "                      -0.0075,  0.0075, -0.0048, -0.0022,  0.0041,  0.0163,  0.0022, -0.0098,\n",
       "                      -0.0203, -0.0048,  0.0030, -0.0352,  0.0095,  0.0239, -0.0129, -0.0145],\n",
       "                     device='cuda:0')),\n",
       "             ('decoder.transformer.1.norm2.weight',\n",
       "              tensor([1.0308, 1.0297, 0.9991, 1.0006, 1.0004, 1.0485, 1.0083, 1.0147, 0.9861,\n",
       "                      0.9904, 0.9729, 0.9640, 0.9667, 1.0788, 1.0481, 0.9901, 1.0444, 1.0204,\n",
       "                      1.0768, 1.0034, 0.9787, 1.0031, 0.9901, 1.0257, 1.0393, 0.9766, 0.9964,\n",
       "                      1.0599, 0.9940, 1.0389, 1.0142, 1.0191, 1.0364, 1.0194, 1.0058, 0.9990,\n",
       "                      1.0243, 0.9807, 0.9900, 1.0402, 0.9954, 0.9816, 0.9998, 1.0394, 1.0090,\n",
       "                      1.0081, 0.9876, 1.0130, 0.9833, 1.0447, 1.0122, 0.9985, 1.0032, 0.9892,\n",
       "                      1.0262, 0.9898, 0.9826, 0.9633, 0.9599, 0.9854, 0.9713, 0.9841, 1.0903,\n",
       "                      1.0529, 0.9946, 1.0059, 0.9740, 1.0271, 0.9937, 1.0448, 0.9998, 0.9759,\n",
       "                      1.0043, 1.0082, 1.0089, 0.9985, 1.0452, 1.0248, 0.9940, 1.0471, 1.0280,\n",
       "                      1.0087, 1.0252, 0.9987, 0.9983, 1.0234, 1.0383, 1.0043, 0.9926, 0.9914,\n",
       "                      0.9996, 0.9894, 0.9999, 0.9970, 1.0637, 1.0033], device='cuda:0')),\n",
       "             ('decoder.transformer.1.norm2.bias',\n",
       "              tensor([ 3.3939e-03,  1.0979e-02, -4.7886e-03,  2.9959e-02,  4.4753e-03,\n",
       "                      -4.5748e-03,  8.4183e-03,  1.8828e-03, -2.0909e-02,  1.0995e-03,\n",
       "                      -5.6126e-05,  1.5902e-02,  1.9835e-03,  1.9001e-02,  3.2259e-03,\n",
       "                      -1.5378e-02,  3.6128e-03,  2.3480e-02,  1.7559e-03,  5.8844e-03,\n",
       "                       1.0767e-02,  1.5632e-02,  6.3360e-04,  2.5890e-02, -2.6622e-02,\n",
       "                       1.6066e-03,  6.7677e-03,  6.8494e-03,  9.6554e-04, -4.4800e-03,\n",
       "                      -1.3060e-02, -9.7069e-03,  4.6862e-03, -1.2756e-02, -2.5533e-03,\n",
       "                       1.1276e-02,  4.6683e-04, -4.0048e-03,  2.9342e-05, -4.9967e-03,\n",
       "                       4.2150e-03, -1.2121e-02,  1.2841e-02,  1.6455e-02, -1.0872e-02,\n",
       "                      -4.3712e-03,  1.3533e-02, -4.5038e-03, -2.7068e-04, -1.4596e-02,\n",
       "                       6.5696e-03,  8.5875e-03, -4.5191e-04,  1.0080e-03,  2.1773e-02,\n",
       "                      -4.5066e-03, -8.0092e-03,  7.4141e-03,  9.9944e-03,  4.8936e-03,\n",
       "                       1.7359e-02, -8.5016e-03, -1.6589e-02, -6.2758e-03, -2.0587e-02,\n",
       "                      -4.9671e-03, -1.4683e-03,  7.1752e-03,  3.1964e-03, -2.6074e-02,\n",
       "                      -6.0022e-03, -7.6994e-03,  1.8303e-03, -5.5955e-03,  9.2726e-04,\n",
       "                       2.3831e-04,  5.3995e-03,  2.3736e-02,  7.4129e-03, -9.2601e-03,\n",
       "                      -4.2500e-03,  3.7952e-03, -4.3287e-03, -1.8510e-02,  1.6518e-02,\n",
       "                       4.3679e-03,  1.3645e-02, -1.1634e-02, -6.1578e-03,  1.8182e-03,\n",
       "                       1.8005e-03, -2.7106e-02,  1.0008e-02, -1.3839e-02,  1.8007e-02,\n",
       "                      -1.6366e-02], device='cuda:0')),\n",
       "             ('decoder.transformer.2.self_attn.in_proj_weight',\n",
       "              tensor([[-0.0669, -0.0399,  0.0921,  ..., -0.1518,  0.0070,  0.0172],\n",
       "                      [ 0.1809,  0.0767,  0.0308,  ..., -0.0040,  0.1313,  0.1351],\n",
       "                      [-0.0879, -0.1307,  0.0247,  ..., -0.0152,  0.0393,  0.0697],\n",
       "                      ...,\n",
       "                      [-0.0195,  0.1556, -0.0013,  ..., -0.1121,  0.0800, -0.0862],\n",
       "                      [-0.0776, -0.0363, -0.1055,  ..., -0.0512, -0.0115,  0.1113],\n",
       "                      [ 0.0749, -0.0257,  0.0602,  ...,  0.1199,  0.1162,  0.0535]],\n",
       "                     device='cuda:0')),\n",
       "             ('decoder.transformer.2.self_attn.in_proj_bias',\n",
       "              tensor([-8.6928e-03, -2.3910e-02, -5.0743e-04,  4.7902e-02,  9.4438e-03,\n",
       "                      -2.3986e-02,  1.3725e-02, -2.3120e-02,  4.8518e-02,  3.9054e-02,\n",
       "                      -2.0166e-02, -3.9288e-02,  4.6525e-03,  2.6660e-02, -3.4021e-02,\n",
       "                       6.7101e-02,  1.3317e-02, -2.2428e-02,  1.9926e-03, -3.9422e-02,\n",
       "                       5.6512e-02, -1.1729e-03,  4.3135e-02, -3.8797e-02,  1.4656e-02,\n",
       "                      -6.3802e-02,  2.1396e-02, -4.0595e-03,  6.0399e-02, -1.5586e-02,\n",
       "                      -1.7403e-02,  1.1120e-02,  7.5977e-03, -8.0384e-03,  7.8528e-03,\n",
       "                      -2.9696e-02, -1.2416e-02, -1.3903e-02, -3.8428e-02,  1.1184e-02,\n",
       "                       1.7422e-02,  3.9064e-03, -1.7351e-02,  2.9864e-03, -4.7172e-02,\n",
       "                       7.5115e-03, -8.9096e-04,  2.6636e-02, -1.5687e-02,  8.5484e-03,\n",
       "                       9.0419e-03, -6.8894e-03,  2.3691e-02,  1.0945e-02, -2.0144e-02,\n",
       "                      -9.3194e-03,  5.7170e-03,  3.5556e-02,  3.3015e-02, -1.1523e-02,\n",
       "                      -1.2546e-02, -6.2436e-03, -7.7409e-02,  3.5754e-02, -5.9273e-03,\n",
       "                      -2.1898e-04, -1.5869e-02,  3.5788e-04, -3.8340e-02,  1.9618e-02,\n",
       "                      -7.2158e-03, -3.2708e-02, -5.1104e-02,  2.0182e-03, -8.6790e-03,\n",
       "                       6.8520e-03, -8.5381e-04, -2.4495e-02, -8.7704e-03,  5.8207e-03,\n",
       "                      -8.9675e-03,  1.5734e-02, -1.3003e-02, -2.5282e-02,  2.8280e-02,\n",
       "                       1.2927e-02,  1.1039e-02,  3.9418e-02, -9.8188e-03,  1.4350e-02,\n",
       "                       1.6715e-02,  6.8822e-03, -4.8106e-03, -1.4424e-03,  7.0657e-03,\n",
       "                       4.9929e-02, -4.2804e-02, -3.2283e-02,  1.3450e-03, -1.6384e-01,\n",
       "                      -7.1090e-02,  9.9060e-02,  4.2700e-02,  6.0990e-03, -4.2616e-02,\n",
       "                       9.4898e-03, -4.9842e-02,  1.0005e-01, -2.8728e-02, -2.2001e-02,\n",
       "                      -5.4022e-03, -7.0229e-02,  6.3474e-02,  5.3678e-02,  1.0710e-01,\n",
       "                      -3.3901e-02, -1.0407e-01,  8.0285e-02, -3.1858e-02,  3.9259e-02,\n",
       "                       5.0125e-02,  1.1646e-01,  6.5903e-02, -3.8943e-02, -7.4377e-02,\n",
       "                      -1.0069e-02,  9.2223e-02, -7.7045e-02,  3.4049e-01, -2.8606e-01,\n",
       "                       2.5968e-01,  2.7862e-01, -4.2193e-01,  5.6930e-02,  2.9395e-01,\n",
       "                       2.3152e-01,  2.3713e-01,  2.5403e-01, -3.5796e-01, -2.4494e-01,\n",
       "                       3.2544e-01,  3.1086e-01, -3.1236e-01,  3.5088e-01, -1.6646e-01,\n",
       "                       2.8273e-01, -1.5848e-01, -2.3814e-01,  2.8490e-01, -1.8172e-01,\n",
       "                      -1.9260e-01,  2.2990e-01,  2.9282e-01, -4.9998e-01,  3.5747e-01,\n",
       "                      -3.8601e-01, -3.7978e-01, -4.6704e-01,  2.2449e-01,  3.9371e-02,\n",
       "                       1.9132e-02, -1.9991e-01, -1.3665e-01,  9.5263e-02, -6.5074e-02,\n",
       "                      -1.5733e-01, -5.4428e-02,  1.6031e-03, -1.0350e-01, -2.1195e-01,\n",
       "                       7.6830e-02, -8.6889e-02,  8.3167e-02, -8.2772e-02, -5.3928e-02,\n",
       "                       1.2331e-02, -1.7545e-01,  2.1055e-01, -6.7165e-02,  7.6084e-02,\n",
       "                       5.3215e-02,  9.6351e-02, -1.3773e-02,  1.0161e-01, -1.4120e-01,\n",
       "                       1.3093e-01,  1.1165e-01,  8.0182e-02, -2.0421e-02, -4.9597e-02,\n",
       "                       1.3324e-01,  1.2734e-01,  2.0288e-02, -1.3813e-02, -3.2455e-02,\n",
       "                      -1.6051e-02,  3.6239e-02, -3.8806e-03,  7.4364e-03,  1.5980e-03,\n",
       "                       2.0984e-02, -2.7491e-03,  1.6068e-02,  1.2034e-02, -4.9574e-03,\n",
       "                      -9.0210e-03, -2.3557e-03, -1.8574e-02,  1.8134e-03,  2.7600e-03,\n",
       "                      -6.4999e-02,  3.2234e-02,  1.0118e-02,  2.0747e-02, -2.6069e-03,\n",
       "                      -6.6574e-03, -1.2716e-02,  4.9253e-03, -1.4902e-02,  1.0451e-03,\n",
       "                       7.8296e-03,  1.7550e-02,  1.0956e-02, -1.5967e-02, -2.9201e-02,\n",
       "                      -7.0739e-03,  9.3655e-03, -1.9627e-02, -2.9242e-03,  1.5098e-02,\n",
       "                      -1.0488e-02, -2.1588e-03, -5.1028e-03,  8.9064e-05, -1.5741e-02,\n",
       "                      -1.4659e-04,  3.1340e-03, -1.0892e-02, -1.9001e-02, -1.9566e-02,\n",
       "                      -1.6596e-02, -4.2737e-03, -1.2183e-03,  2.4775e-02, -6.7023e-04,\n",
       "                       1.2616e-02,  1.5541e-02,  1.1613e-02, -8.4509e-03, -2.7965e-02,\n",
       "                      -1.4916e-02,  5.6547e-03,  4.5460e-03, -1.9807e-02,  1.4085e-03,\n",
       "                      -9.9203e-04,  4.3181e-03,  1.4819e-03,  1.4582e-03, -9.7357e-04,\n",
       "                       5.9422e-03,  1.9948e-02, -1.9022e-02,  1.8698e-02, -1.3774e-02,\n",
       "                       1.7514e-02,  2.0128e-02, -6.2678e-03, -5.9526e-03,  9.4349e-04,\n",
       "                      -8.6221e-03,  1.3040e-02,  1.4756e-02, -2.1540e-02,  3.2045e-03,\n",
       "                      -1.2999e-02, -8.8223e-03, -9.1083e-03,  4.3965e-03, -4.4284e-03,\n",
       "                       2.1372e-03,  4.9798e-03, -6.6391e-03, -3.4498e-02, -2.1443e-03,\n",
       "                      -1.6737e-02, -1.0033e-03,  2.1411e-02], device='cuda:0')),\n",
       "             ('decoder.transformer.2.self_attn.out_proj.weight',\n",
       "              tensor([[ 0.1463, -0.0702,  0.0358,  ..., -0.0531, -0.0936,  0.1403],\n",
       "                      [-0.0612,  0.0904,  0.0155,  ..., -0.0537,  0.0007, -0.0750],\n",
       "                      [ 0.1046,  0.0893,  0.0749,  ..., -0.0481,  0.0137,  0.0221],\n",
       "                      ...,\n",
       "                      [-0.0655,  0.0852, -0.0196,  ..., -0.0541, -0.0626, -0.0464],\n",
       "                      [-0.1060, -0.0109, -0.0711,  ..., -0.0284, -0.0627, -0.0335],\n",
       "                      [-0.0767, -0.0247, -0.0583,  ..., -0.0726, -0.0630, -0.0464]],\n",
       "                     device='cuda:0')),\n",
       "             ('decoder.transformer.2.self_attn.out_proj.bias',\n",
       "              tensor([ 0.0100,  0.0037,  0.0015,  0.0215,  0.0089,  0.0199, -0.0015,  0.0016,\n",
       "                      -0.0069, -0.0083,  0.0133,  0.0008,  0.0021,  0.0271,  0.0070,  0.0159,\n",
       "                      -0.0145,  0.0131,  0.0067,  0.0028, -0.0087, -0.0009, -0.0119, -0.0103,\n",
       "                       0.0054,  0.0175, -0.0013, -0.0093,  0.0072,  0.0044,  0.0055, -0.0086,\n",
       "                      -0.0013, -0.0254, -0.0122,  0.0125, -0.0018,  0.0080, -0.0058,  0.0029,\n",
       "                      -0.0218,  0.0071, -0.0028, -0.0149,  0.0080,  0.0085,  0.0211, -0.0014,\n",
       "                       0.0116,  0.0068,  0.0138, -0.0025,  0.0112, -0.0059,  0.0195, -0.0146,\n",
       "                       0.0007, -0.0189,  0.0154, -0.0029,  0.0098, -0.0184, -0.0102, -0.0140,\n",
       "                       0.0061, -0.0129,  0.0109,  0.0235,  0.0085, -0.0073, -0.0152, -0.0044,\n",
       "                      -0.0015,  0.0032, -0.0115, -0.0158, -0.0074,  0.0044, -0.0040, -0.0168,\n",
       "                      -0.0039,  0.0140, -0.0171, -0.0060,  0.0211, -0.0170,  0.0151, -0.0265,\n",
       "                      -0.0116, -0.0112,  0.0171, -0.0180,  0.0075, -0.0054,  0.0033, -0.0145],\n",
       "                     device='cuda:0')),\n",
       "             ('decoder.transformer.2.linear1.weight',\n",
       "              tensor([[ 0.0582,  0.1156,  0.0333,  ...,  0.0588, -0.0485,  0.1357],\n",
       "                      [-0.0881,  0.0815, -0.1594,  ...,  0.0436, -0.0312,  0.1301],\n",
       "                      [-0.1171, -0.0809,  0.0112,  ..., -0.0030,  0.1771,  0.0594],\n",
       "                      ...,\n",
       "                      [-0.1065,  0.1300, -0.0110,  ...,  0.0050,  0.0110,  0.0567],\n",
       "                      [ 0.0668, -0.0739, -0.0646,  ..., -0.0671, -0.1078,  0.0227],\n",
       "                      [-0.0461, -0.0630,  0.0889,  ...,  0.0276,  0.0273,  0.0521]],\n",
       "                     device='cuda:0')),\n",
       "             ('decoder.transformer.2.linear1.bias',\n",
       "              tensor([-0.0049,  0.0193, -0.0437,  0.0287, -0.0825, -0.0340, -0.1010, -0.0877,\n",
       "                       0.0067, -0.1067,  0.0003, -0.0754, -0.0509,  0.0808, -0.1025, -0.0833,\n",
       "                       0.0328, -0.0287,  0.0374,  0.0370, -0.0572,  0.0226, -0.1163, -0.0397,\n",
       "                      -0.0878, -0.0252, -0.1444, -0.0709,  0.0274,  0.0315,  0.0157,  0.0780,\n",
       "                       0.0305, -0.0903,  0.0362,  0.0034, -0.0659, -0.1530, -0.0689,  0.0536,\n",
       "                      -0.0754, -0.0560, -0.0333,  0.0289, -0.1076, -0.0526, -0.0664,  0.0710,\n",
       "                      -0.0272, -0.0235, -0.0262,  0.0037, -0.0955, -0.0245, -0.0332,  0.0934,\n",
       "                      -0.0290, -0.0410,  0.1011, -0.0629,  0.0277,  0.0659,  0.0397, -0.0734,\n",
       "                       0.0495, -0.1000, -0.0197, -0.1017,  0.1002,  0.0712,  0.0658,  0.0686,\n",
       "                      -0.0387, -0.0498, -0.0299, -0.0800,  0.0483, -0.0210, -0.1024, -0.0062,\n",
       "                      -0.0040, -0.0600, -0.0499,  0.0426, -0.0500,  0.0528,  0.0690,  0.1052,\n",
       "                       0.0186,  0.0899,  0.0792, -0.0175, -0.0703,  0.0623,  0.0003, -0.1094,\n",
       "                       0.0174,  0.0081,  0.0098, -0.0365,  0.0825,  0.0641,  0.0306,  0.0289,\n",
       "                      -0.0009, -0.0150, -0.0957, -0.0352, -0.0199, -0.0939,  0.0587,  0.0558,\n",
       "                       0.0129, -0.0197, -0.0606, -0.1007, -0.0498, -0.0167, -0.0689,  0.0149,\n",
       "                       0.0694,  0.0491,  0.0073,  0.0983, -0.0268, -0.0695, -0.0370,  0.0775],\n",
       "                     device='cuda:0')),\n",
       "             ('decoder.transformer.2.linear2.weight',\n",
       "              tensor([[ 0.0831,  0.0461,  0.0060,  ..., -0.0882,  0.0458,  0.0573],\n",
       "                      [ 0.0603,  0.0237,  0.0629,  ..., -0.1626,  0.0412,  0.0671],\n",
       "                      [ 0.0635,  0.0484,  0.0108,  ...,  0.0235, -0.0465, -0.0478],\n",
       "                      ...,\n",
       "                      [-0.0538, -0.0129,  0.0834,  ...,  0.1468, -0.0504,  0.0775],\n",
       "                      [-0.0161, -0.2290,  0.1467,  ...,  0.0644, -0.0551, -0.0235],\n",
       "                      [ 0.0144,  0.0571, -0.0925,  ...,  0.0717, -0.0359,  0.0748]],\n",
       "                     device='cuda:0')),\n",
       "             ('decoder.transformer.2.linear2.bias',\n",
       "              tensor([-0.0351, -0.0132, -0.0329,  0.0078,  0.0765, -0.0368, -0.0229, -0.0482,\n",
       "                      -0.0318,  0.0309, -0.0284, -0.0600,  0.0090,  0.0323,  0.0393,  0.0274,\n",
       "                       0.0618, -0.0093,  0.0192,  0.0734, -0.0600, -0.0484, -0.0100,  0.0064,\n",
       "                      -0.0655, -0.0623, -0.0211,  0.0732, -0.0084, -0.0456, -0.0711, -0.0771,\n",
       "                       0.0710, -0.0230, -0.0274,  0.0049,  0.0416,  0.0915,  0.0659,  0.0110,\n",
       "                      -0.0124,  0.0536,  0.0681,  0.0623, -0.0236,  0.0845, -0.0121, -0.0112,\n",
       "                      -0.0135,  0.0199,  0.0911, -0.0023, -0.0363,  0.0511,  0.0444, -0.0934,\n",
       "                       0.0647,  0.0109, -0.0726,  0.0477, -0.0646,  0.0518, -0.0941,  0.0159,\n",
       "                       0.0268, -0.0356, -0.0252, -0.0543, -0.0750, -0.0042, -0.0889,  0.0726,\n",
       "                       0.0337,  0.0484, -0.0242, -0.0848,  0.0791, -0.0640, -0.0325,  0.0734,\n",
       "                       0.0080, -0.0604, -0.0780,  0.0698,  0.0318, -0.0067, -0.0705,  0.0424,\n",
       "                      -0.0668,  0.0536, -0.0723,  0.0379, -0.0131, -0.0349,  0.0141, -0.0236],\n",
       "                     device='cuda:0')),\n",
       "             ('decoder.transformer.2.norm1.weight',\n",
       "              tensor([0.9867, 1.0075, 0.9666, 0.9969, 1.0052, 1.0101, 0.9869, 1.0002, 0.9779,\n",
       "                      0.9914, 0.9792, 0.9536, 1.0173, 0.9953, 0.9775, 0.9975, 1.0119, 1.0174,\n",
       "                      1.0047, 1.0283, 0.9719, 0.9968, 0.9765, 0.9721, 1.0226, 0.9704, 0.9962,\n",
       "                      1.0071, 0.9858, 0.9900, 0.9944, 1.0007, 1.0409, 0.9932, 0.9896, 0.9927,\n",
       "                      0.9702, 0.9380, 0.9623, 0.9927, 0.9714, 0.9648, 1.0107, 1.0032, 0.9709,\n",
       "                      1.0017, 0.9901, 0.9679, 0.9797, 1.0205, 0.9998, 1.0018, 0.9839, 0.9925,\n",
       "                      1.0146, 0.9697, 1.0170, 0.9837, 0.9747, 0.9605, 0.9519, 1.0327, 1.0902,\n",
       "                      1.0114, 0.9805, 0.9295, 0.9875, 0.9810, 0.9911, 1.0035, 0.9763, 0.9741,\n",
       "                      0.9938, 1.0087, 1.0061, 0.9807, 1.0243, 1.0186, 0.9844, 0.9992, 1.0135,\n",
       "                      1.0080, 1.0000, 0.9413, 0.9948, 0.9876, 1.0159, 1.0073, 0.9946, 0.9918,\n",
       "                      0.9997, 1.0037, 0.9695, 0.9895, 1.0450, 1.0370], device='cuda:0')),\n",
       "             ('decoder.transformer.2.norm1.bias',\n",
       "              tensor([ 0.0066,  0.0001, -0.0012,  0.0297,  0.0046,  0.0172, -0.0002,  0.0039,\n",
       "                       0.0006, -0.0039,  0.0074, -0.0019,  0.0008,  0.0248,  0.0039,  0.0144,\n",
       "                      -0.0192,  0.0154,  0.0010,  0.0027, -0.0061,  0.0054, -0.0092, -0.0074,\n",
       "                       0.0046,  0.0150,  0.0014, -0.0099,  0.0036, -0.0015,  0.0043, -0.0026,\n",
       "                      -0.0036, -0.0256, -0.0099,  0.0073, -0.0043,  0.0072, -0.0035, -0.0022,\n",
       "                      -0.0160,  0.0041, -0.0015, -0.0127,  0.0040,  0.0052,  0.0169,  0.0011,\n",
       "                       0.0060,  0.0068,  0.0095,  0.0002,  0.0053, -0.0018,  0.0177, -0.0095,\n",
       "                      -0.0015, -0.0132,  0.0103, -0.0060,  0.0092, -0.0110, -0.0165, -0.0130,\n",
       "                       0.0052, -0.0090,  0.0087,  0.0246,  0.0044, -0.0077, -0.0151, -0.0065,\n",
       "                       0.0027, -0.0001, -0.0067, -0.0130, -0.0050,  0.0038, -0.0011, -0.0127,\n",
       "                      -0.0072,  0.0112, -0.0119, -0.0099,  0.0156, -0.0133,  0.0104, -0.0208,\n",
       "                      -0.0078, -0.0067,  0.0139, -0.0159,  0.0075, -0.0056,  0.0044, -0.0101],\n",
       "                     device='cuda:0')),\n",
       "             ('decoder.transformer.2.norm2.weight',\n",
       "              tensor([1.0089, 1.0277, 0.9617, 1.0301, 1.0088, 0.9579, 0.9966, 0.9840, 0.9959,\n",
       "                      0.9963, 1.0229, 0.9579, 1.0070, 0.9977, 1.0167, 0.9936, 0.9856, 1.0231,\n",
       "                      0.9749, 1.0308, 0.9710, 1.0144, 0.9935, 1.0009, 1.0281, 1.0060, 1.0032,\n",
       "                      1.0227, 0.9848, 0.9847, 0.9801, 1.0088, 1.0728, 1.0292, 0.9990, 0.9913,\n",
       "                      0.9954, 0.9821, 0.9446, 0.9786, 0.9966, 1.0030, 1.0390, 1.0170, 0.9733,\n",
       "                      1.0084, 0.9941, 1.0559, 1.0099, 1.0094, 1.0039, 1.0205, 0.9784, 0.9986,\n",
       "                      1.0099, 0.9891, 0.9930, 0.9866, 0.9887, 0.9895, 1.0105, 1.1418, 1.0617,\n",
       "                      0.9814, 0.9706, 0.9831, 0.9843, 1.0170, 0.9954, 1.0924, 1.0039, 1.0373,\n",
       "                      1.0294, 1.0071, 1.0188, 1.0330, 1.0370, 1.0092, 1.0630, 0.9929, 1.0083,\n",
       "                      0.9984, 0.9990, 0.9743, 0.9849, 1.0219, 1.0283, 0.9925, 1.0037, 1.0000,\n",
       "                      1.0293, 1.0414, 1.0105, 0.9957, 1.0314, 1.0666], device='cuda:0')),\n",
       "             ('decoder.transformer.2.norm2.bias',\n",
       "              tensor([-0.0016,  0.0133,  0.0004,  0.0308, -0.0002,  0.0030, -0.0033,  0.0067,\n",
       "                      -0.0051, -0.0059,  0.0005, -0.0201,  0.0032,  0.0011, -0.0023,  0.0049,\n",
       "                       0.0125,  0.0235, -0.0081, -0.0123, -0.0027,  0.0152, -0.0126,  0.0057,\n",
       "                      -0.0067,  0.0129, -0.0071, -0.0099,  0.0060, -0.0072,  0.0019,  0.0008,\n",
       "                      -0.0143, -0.0101, -0.0018,  0.0041,  0.0189,  0.0088, -0.0036,  0.0048,\n",
       "                      -0.0029,  0.0052, -0.0002,  0.0032, -0.0102, -0.0020,  0.0069,  0.0041,\n",
       "                       0.0125,  0.0049,  0.0062, -0.0012, -0.0026,  0.0006, -0.0048, -0.0020,\n",
       "                       0.0020, -0.0001,  0.0064,  0.0007, -0.0043, -0.0051, -0.0308, -0.0042,\n",
       "                      -0.0119, -0.0071, -0.0016,  0.0124,  0.0034, -0.0214,  0.0048,  0.0007,\n",
       "                       0.0074, -0.0009, -0.0037, -0.0321,  0.0010,  0.0002,  0.0072, -0.0054,\n",
       "                      -0.0123,  0.0040, -0.0064, -0.0197, -0.0115, -0.0079,  0.0062, -0.0042,\n",
       "                      -0.0063, -0.0044, -0.0030,  0.0164, -0.0054, -0.0036,  0.0075, -0.0082],\n",
       "                     device='cuda:0')),\n",
       "             ('decoder.transformer.3.self_attn.in_proj_weight',\n",
       "              tensor([[-0.2052,  0.0697, -0.2652,  ..., -0.0317, -0.0367, -0.0236],\n",
       "                      [-0.0821, -0.0204, -0.0500,  ...,  0.0889,  0.0568, -0.0925],\n",
       "                      [ 0.0461, -0.0823,  0.0109,  ...,  0.1251, -0.0015,  0.1244],\n",
       "                      ...,\n",
       "                      [-0.0301,  0.0220, -0.0460,  ...,  0.0946, -0.0369,  0.0294],\n",
       "                      [ 0.0928, -0.0198,  0.1682,  ..., -0.0207,  0.0360,  0.0761],\n",
       "                      [-0.0927, -0.0974,  0.0717,  ...,  0.0155, -0.0763, -0.1267]],\n",
       "                     device='cuda:0')),\n",
       "             ('decoder.transformer.3.self_attn.in_proj_bias',\n",
       "              tensor([-5.5175e-03, -1.0827e-02,  1.2584e-02,  3.6009e-02,  1.8758e-02,\n",
       "                      -3.5105e-02,  4.2195e-02, -1.8854e-02, -6.5074e-03,  3.9009e-02,\n",
       "                      -1.6939e-02,  3.3796e-02,  2.5348e-02, -8.5077e-03,  9.1774e-03,\n",
       "                       3.1924e-02, -2.7637e-02,  1.7934e-03,  3.0407e-02,  2.0008e-02,\n",
       "                      -1.3243e-02,  2.0988e-02,  1.6857e-02,  2.1291e-02,  2.6191e-02,\n",
       "                      -1.4492e-02,  1.2961e-02,  4.4129e-03,  1.4068e-03,  2.7369e-02,\n",
       "                      -1.5423e-02,  3.6320e-02, -1.2094e-02,  1.5501e-02, -6.6382e-03,\n",
       "                       1.4493e-02, -1.9486e-02, -2.8474e-02, -1.3650e-02,  3.4867e-02,\n",
       "                       1.1090e-02,  1.6789e-02, -7.4432e-03,  1.3464e-02,  3.2604e-02,\n",
       "                       4.2317e-02, -4.0784e-02,  2.3887e-02, -1.3379e-03,  8.2365e-03,\n",
       "                      -1.5023e-02,  1.8353e-02,  2.5163e-02, -2.3623e-02, -1.1677e-02,\n",
       "                       1.0408e-02, -2.1147e-02,  3.8055e-02,  3.3846e-02,  4.2588e-02,\n",
       "                       5.5331e-03, -1.7941e-02, -3.2828e-02,  1.4545e-02, -1.7125e-02,\n",
       "                      -1.0465e-02, -1.3914e-02,  1.7732e-02, -3.9392e-03, -1.4910e-02,\n",
       "                       2.0209e-02, -8.5295e-03, -5.1883e-03, -2.1776e-02,  1.1245e-02,\n",
       "                       8.5954e-03,  2.0979e-02, -2.1825e-02,  1.6303e-02,  1.0448e-02,\n",
       "                      -5.4675e-03, -7.6940e-03, -2.8023e-02, -2.9896e-03,  1.4806e-02,\n",
       "                       1.3299e-02, -1.1048e-02,  2.2424e-02, -7.5968e-03, -1.6396e-02,\n",
       "                      -8.7763e-03,  1.3208e-02,  2.7526e-02,  5.2103e-03,  4.8075e-03,\n",
       "                      -3.2213e-02,  2.9353e-01,  2.0985e-01, -2.1674e-01, -2.2993e-01,\n",
       "                      -2.5656e-01,  8.9226e-02,  4.0994e-01,  2.2929e-01,  3.6206e-01,\n",
       "                      -2.9976e-02,  5.0754e-01,  3.3580e-01,  2.3163e-01, -2.9432e-01,\n",
       "                      -2.3084e-01,  4.4687e-01,  1.5311e-01, -2.6860e-01, -2.7375e-01,\n",
       "                       2.2278e-01,  1.4506e-01, -2.0569e-01,  3.1122e-01,  4.4614e-01,\n",
       "                      -1.7935e-01,  1.3016e-01, -1.1493e-01,  2.2932e-01, -1.2827e-01,\n",
       "                      -1.4355e-01, -2.8989e-01, -2.2910e-01, -1.7561e-01, -1.9756e+00,\n",
       "                      -2.1424e+00, -3.4847e+00,  2.1323e+00, -4.9700e-01,  3.3909e+00,\n",
       "                      -2.0824e+00,  1.7496e+00, -4.1186e+00, -1.3632e+00,  1.2363e+00,\n",
       "                      -1.7109e+00, -2.4704e+00, -2.8435e+00,  9.1221e-01,  1.9868e+00,\n",
       "                      -1.8451e+00, -3.0805e+00, -2.5722e+00,  1.6657e+00,  1.4588e+00,\n",
       "                       2.0018e+00, -1.1083e+00,  2.3776e+00, -2.3397e+00, -2.6015e+00,\n",
       "                      -2.7161e+00, -1.8038e+00,  2.6682e+00,  7.9656e-01, -1.4536e+00,\n",
       "                      -2.1087e-01, -2.8039e-01, -2.0737e-01,  1.5685e-01, -2.9775e-01,\n",
       "                      -3.6687e-01,  2.0943e-01, -2.4397e-01, -2.6930e-01, -2.5991e-01,\n",
       "                       5.5338e-02,  1.9173e-01, -2.4970e-01,  5.4355e-01,  1.7498e-01,\n",
       "                       1.9064e-01, -4.2408e-01, -1.9937e-01, -2.2844e-01, -1.9565e-01,\n",
       "                       1.1667e-01,  2.9998e-02, -2.1481e-01, -2.1375e-01,  1.8967e-01,\n",
       "                      -2.3382e-01, -2.3347e-01,  6.8499e-01,  2.2390e-01,  2.0504e-01,\n",
       "                      -3.0236e-01, -9.0872e-01,  1.4572e-02,  1.7758e-03,  3.2958e-03,\n",
       "                       2.1598e-03,  2.8936e-03, -1.0436e-02, -3.8146e-03,  8.5314e-03,\n",
       "                      -3.8713e-03,  4.8258e-03,  1.4842e-02, -1.7425e-02,  6.2948e-03,\n",
       "                       5.2551e-03,  8.2625e-03, -3.2199e-02,  1.1414e-02, -2.5870e-02,\n",
       "                       1.5938e-02, -6.9338e-03, -9.1729e-03,  3.9855e-03,  1.4214e-02,\n",
       "                       1.4095e-04,  1.4557e-02, -2.1168e-02,  1.8062e-02,  3.0496e-03,\n",
       "                      -1.1646e-02, -1.5628e-02,  1.5950e-02,  1.3622e-02, -3.3871e-02,\n",
       "                       1.4578e-02, -2.7026e-02, -4.9763e-03, -1.6076e-02,  2.4651e-02,\n",
       "                      -1.1475e-02,  1.9459e-02,  1.0900e-02,  1.4508e-02,  7.7229e-03,\n",
       "                      -1.3838e-02,  8.5580e-04,  7.5972e-03,  8.5200e-03,  2.3727e-02,\n",
       "                       1.1650e-03,  1.3757e-02,  1.1614e-02,  1.0104e-02,  7.6274e-03,\n",
       "                      -5.8164e-03, -2.7207e-02, -9.0548e-03, -8.6363e-04, -1.7194e-03,\n",
       "                      -3.9829e-03, -6.9388e-03, -7.0862e-03, -1.1056e-02,  2.0488e-02,\n",
       "                      -4.7677e-03,  2.3090e-02,  8.8281e-03,  5.9176e-03, -3.9934e-03,\n",
       "                      -8.5090e-03,  9.8495e-03, -1.2899e-02, -2.0102e-02,  1.0487e-02,\n",
       "                       5.1068e-02,  2.3376e-03, -1.0463e-02,  1.1744e-02, -2.3616e-03,\n",
       "                      -1.5798e-02, -2.0853e-02, -1.1501e-02, -5.9064e-03, -9.2391e-04,\n",
       "                      -3.3777e-03,  3.4466e-02, -2.7162e-02, -1.2113e-02,  1.3618e-02,\n",
       "                      -1.5390e-02, -8.0235e-03,  1.6514e-02, -1.2908e-02, -3.3229e-02,\n",
       "                       8.1601e-03, -2.4157e-02,  1.3828e-02], device='cuda:0')),\n",
       "             ('decoder.transformer.3.self_attn.out_proj.weight',\n",
       "              tensor([[ 3.5282e-02,  1.6444e-01, -1.0563e-01,  ..., -3.7924e-02,\n",
       "                        8.1595e-02,  5.9443e-02],\n",
       "                      [-1.1630e-01,  1.5648e-01, -2.8533e-02,  ..., -6.2863e-02,\n",
       "                       -8.3053e-02,  3.4920e-02],\n",
       "                      [-9.0498e-02,  2.8083e-03,  3.9892e-02,  ...,  2.0863e-03,\n",
       "                       -1.0655e-01, -6.9001e-03],\n",
       "                      ...,\n",
       "                      [-1.5435e-01,  3.9764e-02, -3.3548e-02,  ...,  1.6131e-02,\n",
       "                        2.3193e-02,  7.2527e-02],\n",
       "                      [-1.5896e-02, -5.1327e-03,  4.3109e-02,  ..., -1.2162e-02,\n",
       "                       -1.1070e-01,  7.5069e-02],\n",
       "                      [-4.8705e-02,  4.3007e-02,  7.6968e-02,  ..., -6.3582e-02,\n",
       "                        2.5555e-02, -4.5406e-05]], device='cuda:0')),\n",
       "             ('decoder.transformer.3.self_attn.out_proj.bias',\n",
       "              tensor([ 0.0094,  0.0065,  0.0139,  0.0147,  0.0058,  0.0152, -0.0101,  0.0310,\n",
       "                      -0.0088, -0.0127,  0.0011, -0.0348,  0.0092,  0.0127,  0.0057,  0.0158,\n",
       "                       0.0203,  0.0054,  0.0006, -0.0296, -0.0097, -0.0029, -0.0227, -0.0234,\n",
       "                       0.0083,  0.0555, -0.0195,  0.0002,  0.0120,  0.0122,  0.0040, -0.0110,\n",
       "                       0.0197,  0.0115, -0.0040,  0.0043,  0.0243,  0.0191,  0.0225,  0.0208,\n",
       "                      -0.0168,  0.0251, -0.0167, -0.0088,  0.0150,  0.0086,  0.0134,  0.0031,\n",
       "                       0.0311,  0.0126,  0.0114, -0.0106,  0.0078, -0.0065,  0.0018, -0.0068,\n",
       "                       0.0085, -0.0085,  0.0050,  0.0131, -0.0145, -0.0012, -0.0069, -0.0098,\n",
       "                      -0.0048, -0.0154, -0.0109,  0.0214,  0.0137, -0.0076,  0.0161, -0.0098,\n",
       "                      -0.0099,  0.0107, -0.0141, -0.0256, -0.0057, -0.0021,  0.0218, -0.0198,\n",
       "                      -0.0056,  0.0087, -0.0212, -0.0136,  0.0039, -0.0154,  0.0152, -0.0116,\n",
       "                      -0.0115, -0.0149,  0.0114,  0.0179,  0.0006,  0.0065, -0.0067, -0.0140],\n",
       "                     device='cuda:0')),\n",
       "             ('decoder.transformer.3.linear1.weight',\n",
       "              tensor([[ 0.1032, -0.0816,  0.0509,  ..., -0.0696, -0.0150, -0.0161],\n",
       "                      [-0.0044,  0.0868, -0.1043,  ..., -0.1083, -0.0124, -0.0388],\n",
       "                      [-0.0173, -0.1019, -0.0219,  ..., -0.0621,  0.0666, -0.0706],\n",
       "                      ...,\n",
       "                      [ 0.1925,  0.0946,  0.0910,  ...,  0.0511,  0.0448, -0.0128],\n",
       "                      [ 0.1003,  0.0009,  0.1150,  ..., -0.0935,  0.1868,  0.0592],\n",
       "                      [-0.1334, -0.0157,  0.0186,  ...,  0.0499, -0.0755,  0.1425]],\n",
       "                     device='cuda:0')),\n",
       "             ('decoder.transformer.3.linear1.bias',\n",
       "              tensor([ 0.0976,  0.0647,  0.0433,  0.0753, -0.1036,  0.0041, -0.0150, -0.0508,\n",
       "                      -0.0830,  0.0180,  0.0033,  0.0024, -0.0590,  0.1022,  0.0523, -0.0227,\n",
       "                       0.0918, -0.0002,  0.0090,  0.0074, -0.0110,  0.0178,  0.0977, -0.0791,\n",
       "                      -0.0136, -0.1127,  0.0286,  0.0503,  0.0197,  0.1053,  0.0819, -0.0891,\n",
       "                      -0.0152, -0.0848,  0.0575, -0.0421,  0.0422, -0.0049, -0.1009,  0.0822,\n",
       "                      -0.0310, -0.0162,  0.0484, -0.0601, -0.0890,  0.0202, -0.0897, -0.0272,\n",
       "                       0.0606,  0.0482, -0.0425,  0.0462,  0.0123, -0.1309,  0.1008, -0.0730,\n",
       "                       0.0051,  0.0166, -0.0247, -0.0975, -0.0139, -0.0871,  0.0190, -0.0730,\n",
       "                      -0.0094, -0.0677, -0.0687, -0.0965,  0.1002, -0.1128, -0.0420, -0.0150,\n",
       "                      -0.0701, -0.0730,  0.0101, -0.0308,  0.0157,  0.1015, -0.0989, -0.0244,\n",
       "                       0.0936, -0.0433, -0.0197, -0.0049,  0.0309,  0.0525, -0.0115,  0.0070,\n",
       "                      -0.1237, -0.0928, -0.0688,  0.1032, -0.0628,  0.0610, -0.0853, -0.0481,\n",
       "                       0.0366, -0.0036,  0.0134, -0.0932, -0.1220, -0.0631, -0.0922,  0.0440,\n",
       "                      -0.0765, -0.0744,  0.1112,  0.0330,  0.1063,  0.0059, -0.1123,  0.0171,\n",
       "                       0.0123, -0.1294, -0.0540, -0.1080,  0.0269,  0.0510,  0.0438, -0.0478,\n",
       "                      -0.0489,  0.0009, -0.0184,  0.0290, -0.0970, -0.0951, -0.1259, -0.0804],\n",
       "                     device='cuda:0')),\n",
       "             ('decoder.transformer.3.linear2.weight',\n",
       "              tensor([[-0.0414,  0.0776, -0.0418,  ...,  0.0294,  0.0708,  0.0293],\n",
       "                      [ 0.0110,  0.0708, -0.0264,  ...,  0.0617, -0.2999,  0.0748],\n",
       "                      [-0.0293,  0.0035,  0.1221,  ...,  0.0305, -0.0339, -0.0803],\n",
       "                      ...,\n",
       "                      [-0.0699,  0.1037,  0.0424,  ..., -0.1575, -0.0930, -0.0005],\n",
       "                      [ 0.0178,  0.0040,  0.1163,  ...,  0.0496,  0.2894,  0.0281],\n",
       "                      [ 0.0226, -0.0219, -0.0962,  ...,  0.0889,  0.0862,  0.0419]],\n",
       "                     device='cuda:0')),\n",
       "             ('decoder.transformer.3.linear2.bias',\n",
       "              tensor([-2.9357e-02, -8.8310e-04, -7.7992e-02,  3.3761e-02,  9.0104e-02,\n",
       "                       2.6081e-02, -8.4552e-02, -7.0211e-03, -5.7863e-02,  7.6836e-02,\n",
       "                      -7.6953e-02,  2.1769e-02, -4.7393e-02, -2.3767e-02,  6.9844e-02,\n",
       "                      -3.3235e-02,  6.4004e-02,  4.7837e-02, -4.5774e-02, -6.3489e-02,\n",
       "                      -3.5087e-02, -1.6341e-02, -1.1646e-02, -9.6138e-02, -7.9743e-02,\n",
       "                       1.1044e-02, -1.5533e-02,  7.8361e-02, -2.2679e-02, -5.7904e-02,\n",
       "                       5.0842e-02,  6.3169e-02, -2.2675e-02,  3.9203e-02,  7.9228e-02,\n",
       "                      -7.2487e-02,  7.1882e-02, -3.8757e-02,  3.0744e-02,  2.0289e-02,\n",
       "                      -7.1876e-03,  6.0354e-02,  4.3867e-02, -7.0374e-02,  8.7209e-02,\n",
       "                      -8.3250e-02, -4.2064e-02, -3.3619e-02,  1.0757e-01,  2.0744e-02,\n",
       "                       7.4653e-02, -8.0577e-02,  5.3871e-02, -8.3865e-02,  1.3654e-01,\n",
       "                      -6.2184e-02,  2.0280e-02, -7.2652e-02, -3.8463e-02, -5.0158e-02,\n",
       "                      -4.4074e-02, -2.3177e-02, -4.3000e-02, -1.1772e-02, -1.3187e-01,\n",
       "                       2.6008e-02,  4.5608e-02,  6.8061e-03,  2.5865e-02, -2.4214e-06,\n",
       "                       1.9442e-02, -1.9296e-02, -2.0433e-02,  1.1971e-02,  2.5502e-02,\n",
       "                       8.8085e-03,  4.9652e-02,  4.9297e-02, -4.7161e-02, -8.0910e-02,\n",
       "                      -1.1606e-02,  4.8619e-02,  3.0712e-04,  9.7933e-03,  2.2840e-02,\n",
       "                       6.2734e-02,  4.6354e-02,  3.8176e-02,  8.0310e-02, -7.1941e-02,\n",
       "                       3.7228e-02,  6.4072e-02,  3.6467e-03, -4.1186e-02, -5.6810e-02,\n",
       "                      -6.5333e-02], device='cuda:0')),\n",
       "             ('decoder.transformer.3.norm1.weight',\n",
       "              tensor([0.9693, 1.0058, 0.9195, 1.0256, 0.9901, 0.9456, 0.9867, 0.9952, 1.0304,\n",
       "                      0.9951, 1.0103, 0.9892, 1.0256, 0.9774, 1.0074, 1.0404, 0.9569, 1.0309,\n",
       "                      0.9442, 1.0742, 0.9879, 1.0078, 1.0010, 0.9986, 1.0044, 1.0255, 0.9886,\n",
       "                      0.9958, 0.9758, 0.9814, 1.0411, 0.9307, 1.0220, 1.0384, 0.9969, 0.9047,\n",
       "                      1.0317, 0.9631, 1.0072, 0.9506, 0.9854, 1.0084, 1.0000, 0.9946, 0.9599,\n",
       "                      0.9933, 0.9513, 1.0171, 1.0121, 0.9929, 1.0118, 1.0029, 0.9685, 0.9721,\n",
       "                      1.0371, 0.9822, 0.9727, 0.9866, 0.9882, 0.9673, 0.9873, 0.9975, 1.0594,\n",
       "                      0.9902, 0.9757, 0.9915, 0.9809, 0.9676, 0.9927, 1.0381, 0.9966, 1.0244,\n",
       "                      1.0172, 1.0027, 0.9946, 0.9809, 0.9867, 1.0139, 0.9862, 0.9964, 1.0122,\n",
       "                      0.9892, 0.9891, 0.9630, 0.9720, 0.9961, 1.0115, 0.9935, 1.0057, 0.9920,\n",
       "                      0.9067, 1.0340, 0.9894, 1.0195, 0.9550, 1.0260], device='cuda:0')),\n",
       "             ('decoder.transformer.3.norm1.bias',\n",
       "              tensor([ 0.0033,  0.0044,  0.0111,  0.0186,  0.0019,  0.0119, -0.0056,  0.0197,\n",
       "                      -0.0299, -0.0102,  0.0010, -0.0276, -0.0114,  0.0160,  0.0065,  0.0114,\n",
       "                       0.0228,  0.0080, -0.0055, -0.0258, -0.0056,  0.0023, -0.0133, -0.0173,\n",
       "                      -0.0017,  0.0327, -0.0160, -0.0022,  0.0096,  0.0114, -0.0022, -0.0098,\n",
       "                       0.0161, -0.0004, -0.0021,  0.0049,  0.0004,  0.0150,  0.0169,  0.0172,\n",
       "                      -0.0105,  0.0227, -0.0144, -0.0033,  0.0093,  0.0069,  0.0075,  0.0005,\n",
       "                       0.0216,  0.0022,  0.0068, -0.0067,  0.0024, -0.0037,  0.0071, -0.0047,\n",
       "                       0.0052, -0.0045,  0.0033,  0.0095, -0.0109, -0.0140, -0.0115, -0.0116,\n",
       "                      -0.0217, -0.0136, -0.0076,  0.0327,  0.0129, -0.0037,  0.0144, -0.0054,\n",
       "                      -0.0055,  0.0048, -0.0120, -0.0286, -0.0047, -0.0009,  0.0303, -0.0138,\n",
       "                      -0.0068,  0.0044, -0.0184, -0.0137,  0.0005, -0.0118,  0.0065, -0.0081,\n",
       "                      -0.0082, -0.0103,  0.0069,  0.0137,  0.0010,  0.0188, -0.0146, -0.0108],\n",
       "                     device='cuda:0')),\n",
       "             ('decoder.transformer.3.norm2.weight',\n",
       "              tensor([1.0756, 1.0180, 1.1060, 1.1180, 1.0587, 1.0639, 1.0342, 1.0127, 1.0821,\n",
       "                      1.0846, 0.9827, 1.0052, 0.9986, 1.0182, 1.0395, 1.0352, 1.0431, 1.0053,\n",
       "                      1.0257, 1.0146, 1.0554, 0.9796, 1.0030, 1.0240, 1.0151, 1.0272, 1.1232,\n",
       "                      1.0054, 1.0396, 1.0351, 1.0065, 1.0962, 0.9267, 1.0163, 1.0540, 1.0195,\n",
       "                      1.0039, 1.0509, 1.0227, 1.0412, 1.1002, 1.0174, 1.0338, 1.0171, 1.1117,\n",
       "                      1.0212, 1.1693, 1.0669, 1.0458, 1.0283, 1.2721, 1.0918, 1.0536, 1.0716,\n",
       "                      1.0308, 1.0959, 1.0988, 1.0279, 1.0235, 1.0797, 1.0195, 1.0202, 0.9940,\n",
       "                      1.0280, 1.0288, 1.0320, 0.9831, 1.0093, 1.0295, 1.0244, 1.0607, 1.0759,\n",
       "                      1.0574, 1.0502, 1.0426, 1.0282, 0.9970, 1.0136, 1.0193, 1.0370, 1.0028,\n",
       "                      1.1004, 1.0802, 1.0116, 0.9817, 1.0411, 1.0872, 1.0351, 1.1518, 1.0687,\n",
       "                      1.0751, 1.0321, 1.0203, 0.9075, 1.0164, 1.2895], device='cuda:0')),\n",
       "             ('decoder.transformer.3.norm2.bias',\n",
       "              tensor([ 0.0286,  0.0284,  0.0300,  0.0472,  0.0254,  0.0268, -0.0321,  0.0257,\n",
       "                      -0.0339, -0.0286, -0.0206, -0.0242,  0.0145,  0.0285,  0.0273,  0.0291,\n",
       "                       0.0277, -0.0219,  0.0223, -0.0269, -0.0280, -0.0090, -0.0214, -0.0256,\n",
       "                       0.0237,  0.0282, -0.0298, -0.0202,  0.0286,  0.0264,  0.0279, -0.0297,\n",
       "                      -0.0520, -0.0295, -0.0247,  0.0240, -0.0574,  0.0271,  0.0246,  0.0278,\n",
       "                      -0.0355,  0.0246, -0.0267, -0.0261,  0.0280,  0.0312,  0.0320, -0.0423,\n",
       "                       0.0315,  0.0277,  0.0353, -0.0291,  0.0282, -0.0283,  0.0296, -0.0270,\n",
       "                       0.0300, -0.0249,  0.0259,  0.0304, -0.0288, -0.0271,  0.0203, -0.0255,\n",
       "                      -0.0299, -0.0260, -0.0263,  0.0262,  0.0256, -0.0326,  0.0298, -0.0366,\n",
       "                      -0.0293,  0.0270, -0.0269, -0.0295, -0.0647, -0.0408,  0.0291, -0.0265,\n",
       "                      -0.0207,  0.0290, -0.0290, -0.0248,  0.0236, -0.0268,  0.0314, -0.0284,\n",
       "                      -0.0301, -0.0268,  0.0283,  0.0287,  0.0258,  0.0409, -0.0281, -0.0378],\n",
       "                     device='cuda:0')),\n",
       "             ('decoder.head.weight',\n",
       "              tensor([[-1.6626e-01, -5.6192e-02, -1.2704e-01, -4.0518e-02, -1.5953e-01,\n",
       "                       -1.4210e-01,  7.8260e-02, -8.5894e-02,  8.8630e-02,  1.6088e-01,\n",
       "                        7.4908e-03,  7.8889e-02, -2.8802e-02, -5.2842e-02, -8.8999e-02,\n",
       "                       -7.8415e-02, -1.4041e-01,  1.0382e-02, -6.7591e-02,  5.4611e-02,\n",
       "                        1.2319e-01,  3.7513e-03,  4.2756e-02,  1.0361e-01, -9.2439e-02,\n",
       "                       -1.0157e-01,  1.8489e-01,  3.3546e-02, -1.1788e-01, -1.3437e-01,\n",
       "                       -5.7288e-02,  1.5405e-01,  1.3978e-04,  3.4356e-02,  1.2698e-01,\n",
       "                       -6.8342e-02,  4.8297e-03, -1.2585e-01, -8.8726e-02, -1.3977e-01,\n",
       "                        9.6676e-02, -7.5386e-02,  8.0778e-02,  7.8977e-02, -1.7364e-01,\n",
       "                       -6.6233e-02, -2.0437e-01,  5.5956e-02, -7.1479e-02, -8.5176e-02,\n",
       "                       -2.9288e-01,  1.7278e-01, -8.1159e-02,  1.4669e-01, -6.5340e-02,\n",
       "                        1.6304e-01, -1.8058e-01,  1.1320e-01, -9.4472e-02, -1.2476e-01,\n",
       "                        3.5950e-02,  8.2098e-02, -1.8392e-02,  1.2242e-01,  5.9577e-02,\n",
       "                        1.3078e-01,  3.1178e-02, -5.3550e-02, -1.0547e-01,  3.2698e-02,\n",
       "                       -1.1547e-01,  6.7063e-02,  9.5930e-02, -1.2508e-01,  1.1171e-01,\n",
       "                        4.1208e-02,  1.1645e-02,  2.5925e-02, -5.1209e-02,  1.3056e-01,\n",
       "                        3.1849e-02, -1.7305e-01,  1.6956e-01,  7.3029e-02, -3.6664e-02,\n",
       "                        9.6850e-02, -1.2304e-01,  1.0432e-01,  2.2614e-01,  1.6044e-01,\n",
       "                       -1.7037e-01, -7.6572e-02, -8.0241e-02, -1.8887e-03,  4.0500e-02,\n",
       "                        2.7886e-01],\n",
       "                      [ 0.0000e+00,  0.0000e+00,  0.0000e+00,  0.0000e+00,  0.0000e+00,\n",
       "                        0.0000e+00,  0.0000e+00,  0.0000e+00,  0.0000e+00,  0.0000e+00,\n",
       "                        0.0000e+00,  0.0000e+00,  0.0000e+00,  0.0000e+00,  0.0000e+00,\n",
       "                        0.0000e+00,  0.0000e+00,  0.0000e+00,  0.0000e+00,  0.0000e+00,\n",
       "                        0.0000e+00,  0.0000e+00,  0.0000e+00,  0.0000e+00,  0.0000e+00,\n",
       "                        0.0000e+00,  0.0000e+00,  0.0000e+00,  0.0000e+00,  0.0000e+00,\n",
       "                        0.0000e+00,  0.0000e+00,  0.0000e+00,  0.0000e+00,  0.0000e+00,\n",
       "                        0.0000e+00,  0.0000e+00,  0.0000e+00,  0.0000e+00,  0.0000e+00,\n",
       "                        0.0000e+00,  0.0000e+00,  0.0000e+00,  0.0000e+00,  0.0000e+00,\n",
       "                        0.0000e+00,  0.0000e+00,  0.0000e+00,  0.0000e+00,  0.0000e+00,\n",
       "                        0.0000e+00,  0.0000e+00,  0.0000e+00,  0.0000e+00,  0.0000e+00,\n",
       "                        0.0000e+00,  0.0000e+00,  0.0000e+00,  0.0000e+00,  0.0000e+00,\n",
       "                        0.0000e+00,  0.0000e+00,  0.0000e+00,  0.0000e+00,  0.0000e+00,\n",
       "                        0.0000e+00,  0.0000e+00,  0.0000e+00,  0.0000e+00,  0.0000e+00,\n",
       "                        0.0000e+00,  0.0000e+00,  0.0000e+00,  0.0000e+00,  0.0000e+00,\n",
       "                        0.0000e+00,  0.0000e+00,  0.0000e+00,  0.0000e+00,  0.0000e+00,\n",
       "                        0.0000e+00,  0.0000e+00,  0.0000e+00,  0.0000e+00,  0.0000e+00,\n",
       "                        0.0000e+00,  0.0000e+00,  0.0000e+00,  0.0000e+00,  0.0000e+00,\n",
       "                        0.0000e+00,  0.0000e+00,  0.0000e+00,  0.0000e+00,  0.0000e+00,\n",
       "                        0.0000e+00]], device='cuda:0')),\n",
       "             ('decoder.head.bias',\n",
       "              tensor([-0.0750,  0.1025], device='cuda:0')),\n",
       "             ('pert_decoder.mask_token',\n",
       "              tensor([[-0.0240,  0.0246, -0.0115, -0.0155, -0.0364,  0.0133, -0.0029, -0.0154,\n",
       "                        0.0123,  0.0122, -0.0179, -0.0037,  0.0360,  0.0055,  0.0135, -0.0451,\n",
       "                        0.0031, -0.0186,  0.0075, -0.0078, -0.0032, -0.0028,  0.0328, -0.0273,\n",
       "                        0.0039,  0.0075, -0.0524, -0.0252,  0.0376,  0.0047,  0.0039,  0.0026,\n",
       "                        0.0159,  0.0075, -0.0061,  0.0059,  0.0296,  0.0047,  0.0058, -0.0214,\n",
       "                        0.0067, -0.0009,  0.0066,  0.0050, -0.0048,  0.0108, -0.0308, -0.0213,\n",
       "                        0.0111, -0.0387,  0.0463,  0.0051,  0.0064, -0.0163,  0.0313,  0.0040,\n",
       "                        0.0358,  0.0047, -0.0207,  0.0171, -0.0080,  0.0103, -0.0182, -0.0259,\n",
       "                       -0.0092, -0.0319, -0.0387, -0.0207, -0.0295,  0.0399, -0.0249,  0.0301,\n",
       "                       -0.0539,  0.0177,  0.0066,  0.0009,  0.0210, -0.0014,  0.0083,  0.0068,\n",
       "                        0.0030,  0.0292,  0.0100,  0.0248,  0.0187,  0.0015, -0.0035, -0.0103,\n",
       "                        0.0206,  0.0435,  0.0204, -0.0265, -0.0018,  0.0068,  0.0026,  0.0421]],\n",
       "                     device='cuda:0')),\n",
       "             ('pert_decoder.pos_embedding.pos',\n",
       "              tensor([[[ 0.1280,  0.2469, -1.1113,  ...,  0.1776,  0.7049, -0.1277],\n",
       "                       [ 2.7047, -0.4810,  0.3925,  ...,  1.1227,  0.0637, -0.5063],\n",
       "                       [ 1.2912, -0.3234,  0.7225,  ..., -1.1893,  0.5530, -0.7405],\n",
       "                       ...,\n",
       "                       [ 1.2117, -0.3664, -0.2215,  ...,  0.5655,  0.3098, -0.1641],\n",
       "                       [ 0.5271, -0.9177, -0.2871,  ..., -1.9568, -1.0186,  0.1248],\n",
       "                       [-0.2234, -0.7706,  0.6920,  ...,  0.0769,  0.5840, -0.3721]]],\n",
       "                     device='cuda:0')),\n",
       "             ('pert_decoder.transformer.0.self_attn.in_proj_weight',\n",
       "              tensor([[ 0.0493,  0.1293,  0.1224,  ..., -0.0112, -0.1093, -0.1473],\n",
       "                      [ 0.0191,  0.0830,  0.1164,  ..., -0.0470, -0.0737, -0.1150],\n",
       "                      [-0.1341, -0.0264, -0.1237,  ..., -0.0369, -0.0948,  0.0285],\n",
       "                      ...,\n",
       "                      [-0.0836, -0.0176, -0.0854,  ...,  0.0073,  0.0087,  0.0933],\n",
       "                      [ 0.0184,  0.0466, -0.0595,  ..., -0.0992, -0.0027,  0.0888],\n",
       "                      [-0.1009, -0.0923,  0.0560,  ..., -0.0436,  0.1208,  0.0690]],\n",
       "                     device='cuda:0')),\n",
       "             ('pert_decoder.transformer.0.self_attn.in_proj_bias',\n",
       "              tensor([ 1.9184e-02,  1.6942e-02, -2.4392e-02,  3.8031e-02, -1.9346e-02,\n",
       "                       6.2260e-03,  2.8932e-02, -4.9228e-03, -8.5178e-04,  2.3956e-02,\n",
       "                      -3.1687e-02, -2.7138e-02,  2.4474e-03, -1.1610e-02,  2.6625e-03,\n",
       "                      -1.0031e-02,  5.7468e-03, -7.4828e-03, -1.8378e-02,  1.2328e-02,\n",
       "                      -1.2099e-02,  1.4063e-03,  2.5816e-02, -9.8557e-03,  1.0007e-02,\n",
       "                      -4.2428e-03, -1.7861e-02,  1.4031e-02, -1.7710e-02, -6.9662e-03,\n",
       "                       2.1514e-02,  2.2262e-02, -3.7446e-02,  4.6685e-04,  1.7747e-02,\n",
       "                       2.1919e-02,  1.1095e-02, -1.5260e-02,  2.0622e-02, -1.2454e-03,\n",
       "                      -1.8073e-02, -1.0845e-03,  9.1032e-03, -1.5274e-03,  2.3487e-02,\n",
       "                      -1.6160e-02, -1.8458e-04,  1.0183e-02, -8.3851e-03,  5.6035e-03,\n",
       "                      -1.5920e-02,  2.3836e-03,  2.0520e-02, -7.1558e-03,  6.2349e-03,\n",
       "                       1.4348e-02,  1.2669e-02, -2.3375e-02,  4.3608e-03, -8.5828e-04,\n",
       "                       5.5456e-03,  1.3591e-02, -3.6775e-03,  1.3237e-02,  1.3694e-02,\n",
       "                       5.3664e-03, -4.1272e-03, -1.8420e-02, -1.4923e-02,  3.1736e-03,\n",
       "                       5.2090e-04, -9.2967e-03, -5.6615e-03, -2.2437e-02,  1.5385e-03,\n",
       "                      -6.5895e-03, -5.1992e-03,  1.6052e-02,  5.5570e-03, -8.4039e-03,\n",
       "                       2.7088e-03, -1.3268e-02,  3.3352e-02,  2.9530e-03,  1.0800e-02,\n",
       "                       9.8849e-03,  1.4906e-02,  5.0943e-03,  2.1472e-03, -5.6717e-03,\n",
       "                       9.1322e-03, -1.5066e-02,  1.4395e-02, -1.2498e-02, -1.7627e-02,\n",
       "                      -6.1865e-03, -1.2266e+00, -6.7111e-01,  9.4256e-01,  7.2488e-01,\n",
       "                      -1.0133e+00, -9.8443e-01, -6.6934e-01,  9.9734e-01,  1.6034e-01,\n",
       "                      -1.2275e+00,  9.9793e-01,  1.1209e+00, -1.0503e+00,  1.1390e+00,\n",
       "                      -1.2307e+00, -7.3510e-01, -1.3831e+00,  8.1920e-01, -9.3411e-01,\n",
       "                      -1.5228e+00,  1.4673e+00,  5.7226e-02, -1.4918e+00,  1.0613e+00,\n",
       "                      -7.6417e-01, -9.7628e-01,  1.1328e+00, -9.6999e-01,  1.2074e-01,\n",
       "                       1.3429e+00,  1.2989e+00, -6.6506e-01,  7.8256e-02, -7.3854e-02,\n",
       "                      -1.2906e-01, -3.2977e-02, -2.2292e-01, -6.6182e-02, -1.5711e-01,\n",
       "                      -2.3402e-01,  1.0762e-01, -8.3338e-02,  3.6458e-02,  1.6527e-01,\n",
       "                      -3.5144e-03, -2.5334e-01, -1.2144e-02, -1.5177e-01, -4.4959e-02,\n",
       "                      -3.1795e-01, -4.9055e-02, -4.9548e-02,  9.5002e-02,  2.7382e-01,\n",
       "                      -2.6725e-02,  3.1545e-02, -1.0167e-01, -6.2163e-02, -1.0970e-01,\n",
       "                       1.0590e-01,  2.8105e-01,  7.3966e-03, -3.7444e-02, -9.6889e-02,\n",
       "                       3.0151e-01,  3.5220e-01, -1.6271e-01, -1.2172e-01, -3.1050e-01,\n",
       "                       4.0074e-01,  4.3813e-01,  3.8422e-01, -2.0423e-01,  5.0833e-01,\n",
       "                       3.3176e-01,  4.2201e-01,  2.1999e-01, -5.3443e-01, -3.5550e-01,\n",
       "                       6.1819e-04,  4.6221e-01, -3.6590e-01, -3.7049e-01, -2.6139e-01,\n",
       "                       4.0026e-02, -3.3710e-01, -2.4717e-01, -6.2772e-02, -3.7105e-01,\n",
       "                      -4.6778e-02,  4.1699e-03,  3.0510e-01, -1.4055e-01,  3.9054e-01,\n",
       "                       3.3440e-01, -5.4244e-01,  6.1056e-03,  1.7768e-02, -1.4627e-02,\n",
       "                      -6.4563e-03,  1.8639e-02, -7.2963e-03, -2.0309e-02,  9.8208e-03,\n",
       "                      -8.1476e-03,  2.1409e-03,  1.0622e-02, -1.3258e-02,  1.3137e-02,\n",
       "                      -9.5139e-03, -5.3363e-04, -1.5098e-02,  7.2834e-03, -6.2526e-03,\n",
       "                       6.0817e-03,  1.7595e-02,  5.1340e-03,  1.0265e-02, -1.7198e-02,\n",
       "                      -7.3119e-03,  2.5129e-03, -2.3681e-02, -1.2107e-02, -2.3787e-03,\n",
       "                       2.2140e-02,  3.4427e-02,  1.1422e-02,  2.2672e-02, -6.4877e-03,\n",
       "                      -2.1168e-02, -1.8551e-02,  1.4870e-02, -3.2644e-03,  3.5516e-02,\n",
       "                       2.4321e-03, -3.3278e-03,  2.8144e-02,  5.1891e-03, -3.5511e-03,\n",
       "                       7.2901e-03,  7.5147e-03,  8.6212e-03, -1.2785e-02,  7.6479e-03,\n",
       "                      -2.0527e-02,  5.2894e-03,  1.1547e-02, -1.1062e-02, -1.8316e-02,\n",
       "                       8.3009e-03,  1.2407e-02,  1.6577e-02,  6.1327e-03,  1.8773e-03,\n",
       "                       4.0277e-03,  1.0703e-02,  4.1815e-03,  1.1138e-03,  6.0493e-03,\n",
       "                       2.3694e-02,  1.0171e-02, -1.8916e-02,  1.6843e-02,  3.3687e-03,\n",
       "                       2.0329e-02, -2.0278e-02,  6.4749e-03, -5.9340e-03, -9.5306e-03,\n",
       "                       3.3919e-03,  8.8431e-03, -3.9301e-03, -2.0316e-02, -4.2295e-02,\n",
       "                       2.1467e-02, -9.0136e-03, -3.6748e-03,  5.9760e-03,  2.1024e-03,\n",
       "                      -1.9683e-02, -5.3964e-03,  1.7172e-03,  4.0671e-03,  1.6735e-02,\n",
       "                      -4.3006e-03,  7.1417e-03, -1.7717e-02,  2.3117e-03,  2.9438e-03,\n",
       "                       1.1907e-02,  5.1992e-03, -1.2089e-02], device='cuda:0')),\n",
       "             ('pert_decoder.transformer.0.self_attn.out_proj.weight',\n",
       "              tensor([[ 8.5290e-02,  4.9578e-02,  2.4525e-02,  ..., -1.2683e-02,\n",
       "                       -5.7811e-02,  2.9962e-02],\n",
       "                      [ 7.2771e-05, -9.0463e-03,  2.3921e-02,  ...,  1.0551e-01,\n",
       "                        6.5195e-02,  8.7163e-02],\n",
       "                      [-5.6032e-02, -3.6386e-02,  7.7675e-02,  ...,  9.6585e-03,\n",
       "                       -9.7262e-02,  3.4305e-02],\n",
       "                      ...,\n",
       "                      [-9.1525e-02, -3.3786e-02, -7.0345e-02,  ..., -2.6920e-02,\n",
       "                        7.8178e-02,  2.3879e-02],\n",
       "                      [ 3.1851e-02,  6.8111e-03,  8.1536e-02,  ...,  7.2939e-02,\n",
       "                        5.5545e-02,  1.3531e-03],\n",
       "                      [-7.4596e-02, -5.5908e-02,  2.2932e-02,  ...,  3.9409e-02,\n",
       "                        1.0090e-01, -5.7943e-02]], device='cuda:0')),\n",
       "             ('pert_decoder.transformer.0.self_attn.out_proj.bias',\n",
       "              tensor([ 0.0325, -0.0028,  0.0165, -0.0089,  0.0108, -0.0028, -0.0158,  0.0137,\n",
       "                      -0.0195, -0.0098,  0.0168, -0.0236,  0.0274, -0.0044,  0.0130,  0.0080,\n",
       "                      -0.0034, -0.0164,  0.0240,  0.0049, -0.0220, -0.0151,  0.0042, -0.0342,\n",
       "                      -0.0063, -0.0006, -0.0176,  0.0109, -0.0078, -0.0034, -0.0039, -0.0153,\n",
       "                      -0.0072, -0.0117, -0.0275, -0.0247,  0.0191,  0.0423,  0.0233,  0.0070,\n",
       "                      -0.0068, -0.0098, -0.0212,  0.0590,  0.0204,  0.0056,  0.0147,  0.0020,\n",
       "                       0.0048, -0.0039,  0.0220, -0.0474, -0.0436, -0.0078, -0.0019,  0.0057,\n",
       "                       0.0409, -0.0061,  0.0091, -0.0244, -0.0221,  0.0031,  0.0164,  0.0059,\n",
       "                       0.0192,  0.0083,  0.0082,  0.0120,  0.0196,  0.0119,  0.0248,  0.0245,\n",
       "                      -0.0199,  0.0248, -0.0145,  0.0052, -0.0180,  0.0084,  0.0056,  0.0256,\n",
       "                      -0.0272,  0.0125, -0.0159, -0.0214, -0.0029,  0.0483,  0.0112, -0.0230,\n",
       "                      -0.0433, -0.0168,  0.0132, -0.0170, -0.0030,  0.0208, -0.0046, -0.0165],\n",
       "                     device='cuda:0')),\n",
       "             ('pert_decoder.transformer.0.linear1.weight',\n",
       "              tensor([[-0.1167, -0.0855,  0.0713,  ..., -0.0856,  0.0076,  0.0911],\n",
       "                      [ 0.1404, -0.1359,  0.0287,  ..., -0.0256, -0.0348, -0.0453],\n",
       "                      [-0.1165,  0.0558,  0.0321,  ..., -0.0074, -0.0225,  0.0140],\n",
       "                      ...,\n",
       "                      [ 0.0750,  0.0231, -0.0122,  ..., -0.0552,  0.0628, -0.0969],\n",
       "                      [ 0.0726,  0.0936, -0.0205,  ..., -0.0748,  0.0319,  0.0217],\n",
       "                      [-0.1392,  0.0904,  0.0108,  ..., -0.0737,  0.0112,  0.0379]],\n",
       "                     device='cuda:0')),\n",
       "             ('pert_decoder.transformer.0.linear1.bias',\n",
       "              tensor([ 0.0426,  0.0461,  0.0296, -0.0972, -0.1032, -0.1369,  0.0515, -0.0868,\n",
       "                      -0.1303,  0.0337,  0.1125,  0.0262,  0.0695, -0.1041, -0.0552,  0.0395,\n",
       "                       0.0310,  0.0338, -0.0240, -0.0395, -0.1008, -0.0190,  0.0525, -0.1136,\n",
       "                      -0.0783, -0.0684, -0.0986, -0.0931,  0.0330, -0.0593,  0.0915,  0.0983,\n",
       "                      -0.0658, -0.0904, -0.0239, -0.0739,  0.0073, -0.1273,  0.0245,  0.0044,\n",
       "                      -0.0413,  0.1025, -0.0498,  0.0347, -0.0579, -0.1266,  0.0423,  0.0187,\n",
       "                       0.0143,  0.0902, -0.0387, -0.0261,  0.0575, -0.0264, -0.0232, -0.0751,\n",
       "                       0.0576,  0.0576,  0.0556, -0.0038,  0.0430, -0.0482, -0.0834,  0.0828,\n",
       "                      -0.0257, -0.1370,  0.0146,  0.0460, -0.1507,  0.0423, -0.0127,  0.0630,\n",
       "                       0.0476, -0.0512, -0.0134, -0.0543,  0.0376, -0.0933,  0.0525,  0.1080,\n",
       "                      -0.0817, -0.0595, -0.0740, -0.0957, -0.1045,  0.0198,  0.0049, -0.1133,\n",
       "                      -0.0669,  0.0669, -0.1253, -0.0051,  0.0404, -0.0060, -0.0494, -0.0104,\n",
       "                       0.0027,  0.0402, -0.0384,  0.0114, -0.0955,  0.0359,  0.0825, -0.0713,\n",
       "                      -0.0620, -0.0501, -0.0512,  0.0569, -0.0133,  0.0249,  0.0757,  0.0061,\n",
       "                       0.0402,  0.0415, -0.0795, -0.0451, -0.0845,  0.0914, -0.0378, -0.0701,\n",
       "                       0.0028, -0.0102,  0.0096,  0.0463, -0.0180, -0.0156,  0.0538, -0.0992],\n",
       "                     device='cuda:0')),\n",
       "             ('pert_decoder.transformer.0.linear2.weight',\n",
       "              tensor([[ 0.1412,  0.0989,  0.0497,  ...,  0.0982,  0.0077,  0.0464],\n",
       "                      [ 0.1353,  0.1041,  0.0242,  ..., -0.0109, -0.0248, -0.0217],\n",
       "                      [ 0.0592,  0.0120,  0.0239,  ...,  0.0417, -0.0369,  0.0468],\n",
       "                      ...,\n",
       "                      [-0.0618,  0.0480,  0.0686,  ..., -0.0346, -0.0116,  0.1137],\n",
       "                      [-0.0560, -0.0852,  0.0651,  ...,  0.0285,  0.0427, -0.1155],\n",
       "                      [-0.0752,  0.0086, -0.0210,  ...,  0.0432, -0.0295,  0.0334]],\n",
       "                     device='cuda:0')),\n",
       "             ('pert_decoder.transformer.0.linear2.bias',\n",
       "              tensor([-0.0672,  0.0317, -0.0049,  0.0670, -0.0475,  0.0018,  0.0066,  0.0436,\n",
       "                      -0.0788, -0.0774,  0.0084,  0.0440, -0.0241,  0.0422, -0.0147, -0.0098,\n",
       "                       0.0763, -0.0523, -0.0119,  0.0541, -0.0697,  0.0297, -0.0637, -0.0351,\n",
       "                       0.0866,  0.0553, -0.0462, -0.0626, -0.0762, -0.0257,  0.0459,  0.0694,\n",
       "                      -0.0321, -0.0731,  0.0077,  0.0496, -0.0500, -0.0153, -0.0374,  0.0753,\n",
       "                       0.0549,  0.0424,  0.0118,  0.0616, -0.0808, -0.0165,  0.0122, -0.1088,\n",
       "                       0.0175,  0.0145,  0.1011,  0.0572,  0.0247, -0.0084,  0.0388, -0.0602,\n",
       "                       0.0814, -0.0624, -0.0366,  0.0353, -0.0548, -0.0776,  0.0876,  0.0789,\n",
       "                       0.0102,  0.0745, -0.0688, -0.0348, -0.0014,  0.0151,  0.0073,  0.0247,\n",
       "                      -0.0150, -0.0376, -0.0178, -0.0763, -0.0820, -0.0449, -0.0872,  0.0758,\n",
       "                      -0.0534, -0.0643,  0.0106,  0.0779,  0.0068,  0.0221, -0.0524,  0.0364,\n",
       "                       0.0611,  0.0181,  0.0341, -0.0354, -0.0617, -0.0749,  0.0102,  0.0134],\n",
       "                     device='cuda:0')),\n",
       "             ('pert_decoder.transformer.0.norm1.weight',\n",
       "              tensor([0.9810, 1.0265, 1.0467, 1.0229, 0.9914, 1.0152, 0.9939, 0.9588, 0.9720,\n",
       "                      0.9954, 0.9990, 1.0184, 0.9983, 0.9950, 0.9999, 1.0059, 1.0243, 1.0329,\n",
       "                      0.9974, 1.0247, 1.0197, 1.0022, 1.0137, 0.9685, 0.9910, 0.9787, 0.9974,\n",
       "                      0.9923, 1.0296, 0.9687, 0.9718, 0.9972, 1.0087, 0.9664, 1.0175, 0.9799,\n",
       "                      1.0078, 1.0677, 1.0020, 1.0332, 1.0021, 0.9676, 1.0086, 0.9977, 0.9979,\n",
       "                      0.9975, 1.0128, 1.0008, 0.9891, 1.0046, 0.9944, 0.9793, 1.0337, 0.9951,\n",
       "                      1.0262, 0.9944, 0.9896, 0.9166, 1.0158, 1.0148, 1.0040, 0.9612, 1.0251,\n",
       "                      0.9752, 1.0284, 0.9854, 0.9703, 1.0253, 0.9601, 1.0048, 1.0109, 0.9603,\n",
       "                      0.9870, 1.0184, 0.9911, 0.9797, 1.0263, 1.0053, 1.0091, 0.9959, 0.9990,\n",
       "                      0.9588, 0.9537, 1.0180, 1.0145, 1.0513, 0.9649, 0.9959, 0.9870, 0.9850,\n",
       "                      1.0274, 0.9211, 1.0221, 0.9712, 0.9588, 0.9885], device='cuda:0')),\n",
       "             ('pert_decoder.transformer.0.norm1.bias',\n",
       "              tensor([ 0.0196, -0.0178,  0.0062,  0.0049,  0.0080, -0.0078, -0.0343,  0.0038,\n",
       "                      -0.0010, -0.0017,  0.0075, -0.0102,  0.0346, -0.0173,  0.0121, -0.0042,\n",
       "                      -0.0077, -0.0065, -0.0020,  0.0096, -0.0079, -0.0030, -0.0032,  0.0058,\n",
       "                      -0.0030, -0.0050, -0.0195,  0.0141, -0.0013, -0.0089,  0.0001, -0.0063,\n",
       "                       0.0040, -0.0075, -0.0073, -0.0177,  0.0020,  0.0163,  0.0266,  0.0090,\n",
       "                      -0.0092, -0.0335,  0.0046,  0.0408, -0.0005,  0.0049,  0.0079, -0.0202,\n",
       "                       0.0026, -0.0157,  0.0173, -0.0366, -0.0256, -0.0032, -0.0096, -0.0028,\n",
       "                       0.0231,  0.0017,  0.0190,  0.0032, -0.0177,  0.0010,  0.0092,  0.0194,\n",
       "                       0.0058,  0.0015, -0.0076, -0.0130,  0.0024, -0.0008,  0.0212,  0.0082,\n",
       "                      -0.0247,  0.0087,  0.0127, -0.0088, -0.0158, -0.0024, -0.0134,  0.0283,\n",
       "                       0.0027,  0.0032,  0.0111, -0.0160, -0.0038,  0.0519, -0.0131, -0.0175,\n",
       "                      -0.0302,  0.0025,  0.0098, -0.0160,  0.0077,  0.0327, -0.0054, -0.0117],\n",
       "                     device='cuda:0')),\n",
       "             ('pert_decoder.transformer.0.norm2.weight',\n",
       "              tensor([0.9764, 1.0252, 1.0133, 1.0132, 0.9968, 1.0523, 0.9646, 0.9723, 0.9992,\n",
       "                      0.9868, 0.9644, 0.9969, 0.9688, 0.9858, 1.0048, 0.9764, 1.0362, 1.0185,\n",
       "                      1.0225, 1.0298, 1.0138, 1.0062, 1.0117, 0.9812, 0.9948, 0.9700, 0.9938,\n",
       "                      0.9993, 0.9974, 0.9703, 0.9694, 0.9908, 1.0105, 0.9772, 1.0112, 0.9784,\n",
       "                      1.0110, 0.9899, 0.9850, 1.0266, 0.9586, 0.9943, 1.0167, 0.9977, 1.0095,\n",
       "                      1.0067, 0.9985, 0.9735, 0.9696, 1.0213, 1.0056, 0.9826, 1.0230, 1.0051,\n",
       "                      1.0089, 0.9826, 0.9941, 0.9731, 0.9903, 1.0264, 1.0005, 0.9577, 1.0598,\n",
       "                      0.9563, 1.0165, 0.9903, 0.9766, 1.0307, 0.9531, 1.0225, 0.9615, 0.9746,\n",
       "                      1.0156, 0.9964, 0.9820, 0.9986, 1.0212, 1.0169, 1.0173, 1.0002, 1.0057,\n",
       "                      1.0018, 0.9884, 1.0343, 0.9920, 1.0009, 1.0227, 0.9977, 0.9978, 1.0131,\n",
       "                      0.9845, 0.9851, 0.9798, 0.9930, 0.9827, 0.9804], device='cuda:0')),\n",
       "             ('pert_decoder.transformer.0.norm2.bias',\n",
       "              tensor([-0.0047, -0.0123, -0.0114,  0.0086,  0.0027, -0.0129,  0.0057,  0.0092,\n",
       "                       0.0052,  0.0018,  0.0015,  0.0028,  0.0037,  0.0035, -0.0241, -0.0191,\n",
       "                       0.0073,  0.0057, -0.0164, -0.0130,  0.0059,  0.0064,  0.0192,  0.0094,\n",
       "                       0.0007, -0.0003,  0.0024,  0.0151,  0.0030, -0.0073, -0.0085,  0.0067,\n",
       "                       0.0176, -0.0043,  0.0050,  0.0024,  0.0111, -0.0148,  0.0266,  0.0098,\n",
       "                       0.0013, -0.0085,  0.0170,  0.0081,  0.0020, -0.0125,  0.0086, -0.0142,\n",
       "                       0.0089,  0.0068,  0.0089,  0.0055, -0.0028,  0.0033,  0.0056,  0.0009,\n",
       "                       0.0060, -0.0009,  0.0034,  0.0035, -0.0011,  0.0053, -0.0109,  0.0023,\n",
       "                      -0.0229,  0.0135, -0.0081, -0.0187, -0.0061, -0.0152,  0.0037, -0.0032,\n",
       "                      -0.0018, -0.0185,  0.0368, -0.0046, -0.0082,  0.0032,  0.0001,  0.0068,\n",
       "                       0.0089,  0.0070,  0.0264, -0.0094, -0.0052,  0.0196,  0.0033, -0.0124,\n",
       "                       0.0050,  0.0064,  0.0041,  0.0264,  0.0045,  0.0006,  0.0002, -0.0091],\n",
       "                     device='cuda:0')),\n",
       "             ('pert_decoder.transformer.1.self_attn.in_proj_weight',\n",
       "              tensor([[-0.0885,  0.0538, -0.1036,  ...,  0.0624,  0.0689,  0.1157],\n",
       "                      [ 0.0009, -0.0542, -0.0578,  ..., -0.0838,  0.0205, -0.0069],\n",
       "                      [-0.0023, -0.0949,  0.0822,  ...,  0.1130,  0.0151,  0.1716],\n",
       "                      ...,\n",
       "                      [-0.0168,  0.0458, -0.1071,  ..., -0.0655, -0.1097, -0.0317],\n",
       "                      [ 0.1196,  0.0169,  0.1134,  ...,  0.1403,  0.0761, -0.0467],\n",
       "                      [ 0.0303,  0.1213, -0.0113,  ..., -0.0409, -0.1036,  0.0751]],\n",
       "                     device='cuda:0')),\n",
       "             ('pert_decoder.transformer.1.self_attn.in_proj_bias',\n",
       "              tensor([-1.5424e-02,  4.2931e-02,  1.3308e-02, -2.5392e-02, -1.8181e-02,\n",
       "                       2.1786e-02, -6.3049e-02, -3.3486e-02,  3.3988e-02,  6.5109e-02,\n",
       "                      -3.4255e-02,  6.7741e-02, -4.3328e-02,  6.7684e-02, -3.7273e-02,\n",
       "                       6.6083e-02, -4.8200e-02, -1.1770e-02,  1.5534e-02, -4.6802e-02,\n",
       "                       4.4715e-02,  5.2747e-02,  5.9020e-02,  2.0635e-02,  3.0541e-02,\n",
       "                      -2.9198e-03,  3.8220e-02,  7.4794e-02, -6.4314e-02, -4.0892e-02,\n",
       "                       5.7624e-02, -2.1679e-02, -1.5059e-01, -9.8263e-02,  8.9689e-02,\n",
       "                       3.8503e-02,  3.9741e-02, -1.1769e-01,  6.4580e-02,  2.2227e-02,\n",
       "                      -1.6610e-02,  9.2872e-02,  8.6324e-02, -4.2817e-02, -6.5470e-02,\n",
       "                       1.3030e-01, -4.8785e-02, -3.1075e-02, -3.1253e-02,  1.5559e-01,\n",
       "                       2.9685e-02, -4.5303e-03,  1.4247e-02,  5.8999e-02, -1.8365e-01,\n",
       "                      -1.3819e-01, -2.9940e-02, -8.5349e-02, -7.5880e-02,  5.5550e-03,\n",
       "                      -1.0087e-01,  9.8695e-02, -7.3250e-02,  1.3985e-02, -3.9132e-03,\n",
       "                       2.3107e-02, -1.2560e-02, -1.5613e-02,  3.1243e-03,  2.9979e-02,\n",
       "                      -2.5883e-02,  6.3497e-02, -2.9250e-03,  1.0003e-02, -1.2244e-02,\n",
       "                       2.7664e-02, -3.4067e-02, -5.6922e-03, -1.4618e-02,  5.6509e-02,\n",
       "                      -6.6146e-03, -6.1740e-02, -2.7076e-02, -2.3121e-03,  1.2881e-02,\n",
       "                      -3.2904e-02, -2.9680e-02, -3.0112e-02,  2.0384e-02, -2.2923e-02,\n",
       "                      -1.8911e-02,  1.0773e-02, -1.5604e-02, -4.0740e-02, -2.1440e-02,\n",
       "                       1.0113e-02,  1.3090e-02,  3.9961e-02,  1.3935e-02,  2.2863e-02,\n",
       "                      -2.2139e-02, -1.4691e-02, -3.1890e-02,  2.9460e-02, -1.3349e-02,\n",
       "                      -4.5280e-03,  1.0905e-02,  6.9784e-02,  9.5896e-03,  2.4866e-03,\n",
       "                      -2.3121e-02,  2.6764e-02, -3.5706e-02,  1.8176e-03,  1.4077e-02,\n",
       "                      -7.1230e-03,  2.4423e-02,  4.9246e-03, -3.2008e-02,  1.9943e-02,\n",
       "                       7.0020e-02,  6.9338e-02, -1.0166e-02, -2.9144e-04,  3.7254e-03,\n",
       "                      -4.5501e-02, -2.8011e-02,  4.5804e-03, -4.8131e-01, -3.8815e-01,\n",
       "                       3.7187e-01, -6.6487e-02,  3.8776e-01, -2.8800e-01,  3.8208e-01,\n",
       "                      -6.5898e-01,  3.4017e-01,  5.3494e-01,  6.5504e-01, -4.0064e-01,\n",
       "                      -2.7941e-01,  4.9226e-01, -4.5141e-01, -2.1706e-01, -4.2356e-01,\n",
       "                       5.1213e-01, -1.7171e-01, -4.8393e-01, -2.1480e-01,  4.9915e-01,\n",
       "                      -4.6044e-01, -4.4558e-01, -4.5235e-01, -4.1548e-01, -2.9916e-01,\n",
       "                      -8.3019e-02, -4.3925e-01,  4.9933e-01, -9.5832e-02,  3.6622e-01,\n",
       "                      -6.1008e-02,  2.4239e-02,  1.0096e-02, -2.9257e-02, -1.9089e-02,\n",
       "                       2.2052e-02,  8.0163e-02,  4.2090e-02, -1.2357e-02,  5.4457e-02,\n",
       "                      -3.3930e-03,  2.8295e-02, -7.9699e-02, -1.3336e-02, -6.8428e-02,\n",
       "                       1.3408e-02, -6.1601e-02,  2.9502e-02, -9.1930e-02,  3.0072e-03,\n",
       "                      -3.7172e-02, -6.3684e-02, -2.5957e-02, -1.4307e-02,  6.6822e-02,\n",
       "                      -4.4175e-02, -9.6491e-03, -7.1200e-02,  1.7263e-02,  3.1777e-02,\n",
       "                       4.0647e-03,  4.1451e-02, -2.1363e-02,  4.8138e-04,  1.0104e-02,\n",
       "                      -6.2398e-03,  4.0529e-03, -1.0392e-03, -1.1601e-02, -2.1500e-03,\n",
       "                      -7.5151e-03,  1.0786e-02, -7.8013e-04,  6.4300e-03,  2.0462e-02,\n",
       "                       1.9722e-02, -1.7034e-03, -5.1794e-04,  1.3871e-02,  5.7463e-03,\n",
       "                      -2.0342e-02,  1.9718e-03, -3.3373e-03,  2.4481e-02, -1.3932e-02,\n",
       "                      -1.1419e-03,  3.2361e-03,  1.7301e-02,  1.3886e-02,  3.2635e-02,\n",
       "                      -1.5279e-02,  1.2186e-03,  6.9941e-03,  4.9166e-03, -5.4515e-04,\n",
       "                       7.6737e-03,  3.1398e-03,  8.8889e-03, -1.1871e-02, -1.4674e-03,\n",
       "                       2.3453e-04, -2.0915e-02, -1.5084e-02,  1.4525e-02, -4.0856e-03,\n",
       "                      -3.2343e-03,  7.0663e-03, -9.9312e-03,  1.6782e-02, -1.2405e-02,\n",
       "                      -5.9336e-03,  1.6567e-02, -4.8129e-03,  1.1923e-02,  9.9910e-03,\n",
       "                       1.5920e-02,  3.0815e-03, -6.8215e-03, -6.9836e-03, -9.8393e-03,\n",
       "                       6.3906e-03,  6.7220e-03, -9.5915e-03, -1.0549e-02, -7.0895e-03,\n",
       "                       1.1171e-02,  9.7263e-04,  9.2499e-03, -1.4110e-02, -7.9917e-03,\n",
       "                       1.4401e-03,  1.1150e-02, -4.7116e-03,  9.9247e-03, -2.1738e-02,\n",
       "                      -9.5021e-03,  5.4926e-03,  1.2649e-02,  3.2606e-03, -7.4941e-03,\n",
       "                      -4.1972e-03, -1.0327e-02, -1.4783e-02, -1.7897e-02, -8.5412e-03,\n",
       "                      -2.4247e-02, -1.9777e-02, -9.5517e-03, -2.1233e-03,  1.9964e-02,\n",
       "                       3.0541e-03, -9.3311e-03, -3.7045e-03, -4.8103e-03, -6.5769e-03,\n",
       "                       6.3301e-03, -1.6969e-02,  5.7844e-03], device='cuda:0')),\n",
       "             ('pert_decoder.transformer.1.self_attn.out_proj.weight',\n",
       "              tensor([[-0.0504,  0.0208, -0.0479,  ...,  0.0350,  0.0990,  0.0655],\n",
       "                      [-0.0752, -0.0061, -0.0585,  ...,  0.0547, -0.0766,  0.0159],\n",
       "                      [ 0.0303, -0.0100, -0.0097,  ...,  0.0495, -0.0197,  0.1094],\n",
       "                      ...,\n",
       "                      [-0.0224,  0.0098, -0.0984,  ..., -0.0066, -0.0490, -0.0598],\n",
       "                      [-0.0956, -0.1014, -0.0738,  ..., -0.0835, -0.0168, -0.0462],\n",
       "                      [ 0.0226, -0.0057,  0.0806,  ..., -0.0074,  0.0276,  0.0427]],\n",
       "                     device='cuda:0')),\n",
       "             ('pert_decoder.transformer.1.self_attn.out_proj.bias',\n",
       "              tensor([ 1.3904e-02, -2.8550e-02, -1.5447e-02,  2.9232e-02,  4.1285e-03,\n",
       "                      -1.3523e-02,  9.6839e-03, -7.1181e-03,  6.3745e-03, -1.6911e-05,\n",
       "                      -6.6318e-03,  5.4422e-03, -3.5956e-03,  5.7793e-03,  2.7903e-03,\n",
       "                      -1.8055e-02, -8.4495e-03,  2.7340e-03,  1.2603e-02,  7.0182e-03,\n",
       "                       4.9301e-03, -8.1912e-04,  1.1418e-02, -7.9854e-03, -7.2084e-03,\n",
       "                      -4.7684e-03, -4.6985e-03,  1.1578e-02,  7.8358e-03, -2.5542e-02,\n",
       "                      -1.2663e-02, -2.6723e-03,  1.0553e-02, -2.4830e-02, -1.0437e-02,\n",
       "                      -1.6500e-02,  1.4634e-04,  9.8510e-03,  1.0224e-02,  2.7326e-03,\n",
       "                       4.2516e-04, -7.1323e-03,  1.7504e-02,  2.8368e-02, -7.2455e-03,\n",
       "                      -7.4044e-03,  1.2573e-02, -1.0586e-02,  9.7613e-03, -2.6817e-03,\n",
       "                       5.9252e-03,  3.9839e-03,  7.8855e-04,  5.4001e-03,  1.3050e-02,\n",
       "                       4.9203e-03,  5.4170e-03, -1.1513e-03,  1.5653e-02,  5.0440e-04,\n",
       "                       1.8285e-03,  9.3547e-04, -1.5280e-02,  6.0100e-03, -2.9162e-02,\n",
       "                      -1.1846e-03,  1.0039e-02, -1.6335e-02,  5.3530e-03, -1.9042e-02,\n",
       "                       6.1054e-03, -2.0279e-02,  3.1329e-03,  7.4416e-03,  2.5009e-02,\n",
       "                       5.5939e-03, -6.7934e-03,  1.3026e-02, -3.2385e-04,  2.2358e-03,\n",
       "                      -1.8852e-02,  1.1927e-02, -6.8825e-03,  7.9397e-04,  2.9415e-03,\n",
       "                       7.3430e-03, -5.5038e-03, -1.0964e-02, -8.7105e-03, -2.3516e-04,\n",
       "                      -2.6569e-03, -1.4488e-02,  1.6744e-03,  1.3330e-02, -1.0931e-02,\n",
       "                      -1.2224e-02], device='cuda:0')),\n",
       "             ('pert_decoder.transformer.1.linear1.weight',\n",
       "              tensor([[-0.0049, -0.0514, -0.0285,  ..., -0.0533, -0.0958,  0.0587],\n",
       "                      [-0.0590,  0.0030, -0.0092,  ..., -0.0122,  0.0254, -0.0209],\n",
       "                      [-0.0275, -0.0028, -0.0165,  ...,  0.0201, -0.0087,  0.1276],\n",
       "                      ...,\n",
       "                      [-0.0697, -0.0468,  0.0910,  ...,  0.0032, -0.1219, -0.0360],\n",
       "                      [ 0.0540,  0.0599,  0.0247,  ...,  0.0038,  0.0932, -0.0380],\n",
       "                      [ 0.0865, -0.0570,  0.2268,  ...,  0.0448,  0.0058, -0.0281]],\n",
       "                     device='cuda:0')),\n",
       "             ('pert_decoder.transformer.1.linear1.bias',\n",
       "              tensor([-0.1172,  0.0800, -0.0184,  0.0560, -0.1380,  0.0142, -0.0704,  0.0353,\n",
       "                       0.0617, -0.0017, -0.0694,  0.0763,  0.0230,  0.0401, -0.0446, -0.0150,\n",
       "                      -0.0061,  0.1100, -0.0144, -0.0299,  0.0695, -0.0328, -0.0802,  0.0773,\n",
       "                      -0.0670,  0.0526, -0.1071, -0.0548, -0.0225, -0.0991,  0.0307,  0.0594,\n",
       "                      -0.1019,  0.1037,  0.0207, -0.0324, -0.0778,  0.0382,  0.0518, -0.0611,\n",
       "                      -0.0173, -0.0255, -0.0908, -0.0156,  0.0335, -0.0126, -0.0014,  0.0646,\n",
       "                       0.0676, -0.0268, -0.0448,  0.0389, -0.1132,  0.0331,  0.0833, -0.0365,\n",
       "                       0.0170, -0.0275, -0.0983,  0.0350,  0.0122, -0.0514,  0.0020, -0.0367,\n",
       "                       0.0269,  0.0086, -0.0678,  0.0444,  0.0833, -0.0936,  0.0779,  0.0471,\n",
       "                      -0.0338, -0.0730, -0.0229,  0.1058, -0.0681,  0.0239,  0.0359, -0.1168,\n",
       "                      -0.0160,  0.0653,  0.0097, -0.0927, -0.0341, -0.0374,  0.0562, -0.1266,\n",
       "                      -0.0250,  0.0091, -0.0656, -0.0021,  0.0353,  0.0636, -0.0727, -0.1004,\n",
       "                       0.0419, -0.0659,  0.0289,  0.0644, -0.0271, -0.1317, -0.0634, -0.0605,\n",
       "                      -0.0137, -0.0610, -0.0831, -0.0050,  0.0051, -0.0115, -0.0071,  0.0662,\n",
       "                       0.0404, -0.0222, -0.0823,  0.0276, -0.0644, -0.0703, -0.1203, -0.0631,\n",
       "                       0.0172, -0.0327, -0.0049, -0.0454, -0.0980, -0.0324, -0.1158,  0.0344],\n",
       "                     device='cuda:0')),\n",
       "             ('pert_decoder.transformer.1.linear2.weight',\n",
       "              tensor([[ 0.0038,  0.0376, -0.1419,  ..., -0.0583, -0.0694,  0.0366],\n",
       "                      [ 0.0350, -0.0055, -0.0348,  ..., -0.0301,  0.0264, -0.1171],\n",
       "                      [ 0.0645,  0.0668,  0.1106,  ...,  0.0659,  0.0945,  0.0306],\n",
       "                      ...,\n",
       "                      [-0.0135, -0.0480,  0.1022,  ..., -0.0014, -0.1152, -0.0318],\n",
       "                      [-0.0617,  0.0579,  0.1272,  ...,  0.0497, -0.1064,  0.0488],\n",
       "                      [ 0.0128, -0.0011,  0.0508,  ..., -0.0378, -0.0381, -0.0751]],\n",
       "                     device='cuda:0')),\n",
       "             ('pert_decoder.transformer.1.linear2.bias',\n",
       "              tensor([ 0.0479, -0.0649, -0.0633,  0.1048,  0.0083, -0.0665, -0.0071, -0.0803,\n",
       "                       0.0563,  0.0176,  0.0030,  0.0767, -0.0544, -0.0392, -0.0157, -0.0732,\n",
       "                      -0.0175, -0.0775,  0.0230,  0.0379, -0.0452, -0.0028, -0.0670,  0.0082,\n",
       "                      -0.1063, -0.0127, -0.0771, -0.0437,  0.0155,  0.0465,  0.0748, -0.0050,\n",
       "                       0.0866,  0.0095,  0.0170, -0.0733,  0.0328,  0.0934, -0.0108, -0.0395,\n",
       "                       0.0800, -0.0908,  0.0898, -0.0496,  0.0164, -0.0191, -0.0676, -0.0385,\n",
       "                      -0.0495, -0.0823,  0.0630,  0.0022,  0.0089, -0.0777,  0.0913,  0.0087,\n",
       "                       0.0387,  0.0641, -0.0290,  0.0804, -0.0397, -0.0006, -0.0444,  0.0522,\n",
       "                      -0.0193,  0.0589,  0.0033,  0.0724,  0.0038,  0.0135, -0.0005,  0.0725,\n",
       "                      -0.0507, -0.0372,  0.0050, -0.0894, -0.0568, -0.0268, -0.0635, -0.0008,\n",
       "                      -0.0496, -0.0571, -0.0022, -0.0246, -0.0673,  0.0252, -0.0340,  0.0009,\n",
       "                      -0.0167, -0.0318,  0.0388, -0.0043,  0.0727,  0.0656, -0.0704,  0.0509],\n",
       "                     device='cuda:0')),\n",
       "             ('pert_decoder.transformer.1.norm1.weight',\n",
       "              tensor([1.0122, 1.0014, 1.0118, 1.0146, 1.0115, 1.0222, 0.9576, 0.9932, 0.9741,\n",
       "                      0.9986, 0.9597, 0.9870, 0.9808, 0.9918, 1.0173, 0.9938, 1.0249, 1.0125,\n",
       "                      1.0119, 1.0161, 1.0132, 0.9970, 1.0153, 0.9692, 0.9799, 0.9821, 0.9956,\n",
       "                      1.0090, 1.0250, 0.9843, 0.9801, 1.0065, 1.0444, 0.9793, 0.9917, 0.9893,\n",
       "                      1.0057, 0.9947, 0.9810, 1.0306, 0.9689, 1.0002, 1.0205, 1.0097, 1.0250,\n",
       "                      1.0072, 0.9874, 0.9853, 0.9826, 1.0277, 1.0119, 0.9950, 1.0121, 0.9990,\n",
       "                      1.0133, 0.9890, 1.0024, 0.9667, 0.9743, 1.0112, 1.0076, 0.9677, 1.0556,\n",
       "                      0.9981, 1.0264, 1.0188, 0.9836, 1.0304, 0.9824, 1.0201, 0.9755, 0.9674,\n",
       "                      1.0083, 1.0009, 1.0099, 0.9786, 1.0183, 1.0048, 1.0071, 1.0089, 1.0118,\n",
       "                      1.0140, 0.9763, 1.0115, 1.0034, 1.0018, 1.0128, 0.9995, 0.9967, 1.0104,\n",
       "                      0.9893, 0.9931, 0.9991, 0.9616, 1.0048, 0.9814], device='cuda:0')),\n",
       "             ('pert_decoder.transformer.1.norm1.bias',\n",
       "              tensor([ 0.0174, -0.0271,  0.0044,  0.0089,  0.0057, -0.0044, -0.0122, -0.0081,\n",
       "                       0.0051,  0.0040, -0.0082, -0.0149,  0.0050, -0.0006,  0.0020, -0.0044,\n",
       "                      -0.0103, -0.0100,  0.0223,  0.0059,  0.0037, -0.0033,  0.0090, -0.0037,\n",
       "                      -0.0259, -0.0113, -0.0058,  0.0098,  0.0071, -0.0239, -0.0017, -0.0088,\n",
       "                       0.0060, -0.0171, -0.0089, -0.0233,  0.0024,  0.0168,  0.0213, -0.0059,\n",
       "                      -0.0055, -0.0121,  0.0078,  0.0291, -0.0141,  0.0043,  0.0138, -0.0135,\n",
       "                       0.0065, -0.0117,  0.0059, -0.0056,  0.0015,  0.0040, -0.0090,  0.0025,\n",
       "                       0.0130,  0.0052,  0.0124, -0.0224, -0.0017,  0.0029, -0.0069,  0.0188,\n",
       "                      -0.0054, -0.0048,  0.0066, -0.0090, -0.0024, -0.0051,  0.0084, -0.0203,\n",
       "                       0.0016,  0.0111,  0.0121, -0.0199, -0.0096, -0.0145, -0.0001,  0.0020,\n",
       "                      -0.0076,  0.0076, -0.0050, -0.0022,  0.0043,  0.0162,  0.0024, -0.0097,\n",
       "                      -0.0205, -0.0047,  0.0029, -0.0352,  0.0096,  0.0239, -0.0130, -0.0143],\n",
       "                     device='cuda:0')),\n",
       "             ('pert_decoder.transformer.1.norm2.weight',\n",
       "              tensor([1.0309, 1.0295, 0.9990, 1.0007, 1.0004, 1.0485, 1.0083, 1.0147, 0.9862,\n",
       "                      0.9905, 0.9731, 0.9639, 0.9667, 1.0789, 1.0480, 0.9900, 1.0446, 1.0205,\n",
       "                      1.0769, 1.0035, 0.9787, 1.0032, 0.9902, 1.0258, 1.0395, 0.9764, 0.9962,\n",
       "                      1.0599, 0.9940, 1.0388, 1.0143, 1.0191, 1.0364, 1.0194, 1.0058, 0.9992,\n",
       "                      1.0241, 0.9805, 0.9902, 1.0402, 0.9955, 0.9817, 0.9997, 1.0394, 1.0091,\n",
       "                      1.0082, 0.9874, 1.0129, 0.9832, 1.0445, 1.0121, 0.9985, 1.0031, 0.9891,\n",
       "                      1.0261, 0.9900, 0.9826, 0.9631, 0.9601, 0.9855, 0.9714, 0.9842, 1.0902,\n",
       "                      1.0530, 0.9947, 1.0058, 0.9742, 1.0271, 0.9936, 1.0448, 1.0000, 0.9757,\n",
       "                      1.0042, 1.0082, 1.0089, 0.9986, 1.0453, 1.0246, 0.9939, 1.0471, 1.0280,\n",
       "                      1.0087, 1.0254, 0.9987, 0.9985, 1.0234, 1.0383, 1.0044, 0.9927, 0.9915,\n",
       "                      0.9998, 0.9895, 1.0001, 0.9971, 1.0637, 1.0033], device='cuda:0')),\n",
       "             ('pert_decoder.transformer.1.norm2.bias',\n",
       "              tensor([ 3.2257e-03,  1.1221e-02, -4.7545e-03,  3.0184e-02,  4.3003e-03,\n",
       "                      -4.5149e-03,  8.2871e-03,  1.7367e-03, -2.0936e-02,  1.1342e-03,\n",
       "                       9.8637e-05,  1.6071e-02,  1.8609e-03,  1.9200e-02,  3.1294e-03,\n",
       "                      -1.5109e-02,  3.5028e-03,  2.3550e-02,  1.8178e-03,  5.7112e-03,\n",
       "                       1.0708e-02,  1.5666e-02,  8.6597e-04,  2.6071e-02, -2.6698e-02,\n",
       "                       1.7389e-03,  6.6373e-03,  7.0836e-03,  8.5225e-04, -4.5474e-03,\n",
       "                      -1.2940e-02, -9.8498e-03,  4.5347e-03, -1.2593e-02, -2.5060e-03,\n",
       "                       1.1053e-02,  4.4030e-04, -4.2594e-03,  6.9691e-05, -4.9893e-03,\n",
       "                       4.0588e-03, -1.2255e-02,  1.2744e-02,  1.6178e-02, -1.0767e-02,\n",
       "                      -4.2996e-03,  1.3394e-02, -4.2759e-03, -3.7401e-04, -1.4533e-02,\n",
       "                       6.4517e-03,  8.4018e-03, -6.0061e-04,  9.2972e-04,  2.1655e-02,\n",
       "                      -4.6738e-03, -7.8799e-03,  7.6882e-03,  9.8633e-03,  4.6382e-03,\n",
       "                       1.7295e-02, -8.4211e-03, -1.6746e-02, -6.2810e-03, -2.0810e-02,\n",
       "                      -4.7534e-03, -1.2389e-03,  7.3320e-03,  2.9756e-03, -2.6283e-02,\n",
       "                      -6.1490e-03, -7.8388e-03,  1.7514e-03, -5.4707e-03,  1.1293e-03,\n",
       "                       1.7806e-04,  5.2381e-03,  2.3535e-02,  7.4532e-03, -9.2709e-03,\n",
       "                      -4.1732e-03,  3.6731e-03, -4.4833e-03, -1.8474e-02,  1.6738e-02,\n",
       "                       4.2326e-03,  1.3837e-02, -1.1645e-02, -6.2814e-03,  1.9683e-03,\n",
       "                       1.9344e-03, -2.7118e-02,  1.0080e-02, -1.3843e-02,  1.7879e-02,\n",
       "                      -1.6267e-02], device='cuda:0')),\n",
       "             ('pert_decoder.transformer.2.self_attn.in_proj_weight',\n",
       "              tensor([[-0.0671, -0.0399,  0.0922,  ..., -0.1517,  0.0071,  0.0174],\n",
       "                      [ 0.1808,  0.0768,  0.0308,  ..., -0.0039,  0.1314,  0.1352],\n",
       "                      [-0.0879, -0.1308,  0.0248,  ..., -0.0151,  0.0394,  0.0697],\n",
       "                      ...,\n",
       "                      [-0.0196,  0.1556, -0.0014,  ..., -0.1120,  0.0801, -0.0864],\n",
       "                      [-0.0778, -0.0363, -0.1055,  ..., -0.0513, -0.0113,  0.1112],\n",
       "                      [ 0.0749, -0.0257,  0.0600,  ...,  0.1200,  0.1161,  0.0535]],\n",
       "                     device='cuda:0')),\n",
       "             ('pert_decoder.transformer.2.self_attn.in_proj_bias',\n",
       "              tensor([-8.8981e-03, -2.4002e-02, -5.7312e-04,  4.7722e-02,  9.5262e-03,\n",
       "                      -2.3900e-02,  1.3862e-02, -2.3127e-02,  4.8295e-02,  3.9212e-02,\n",
       "                      -2.0349e-02, -3.9348e-02,  4.7804e-03,  2.6896e-02, -3.4091e-02,\n",
       "                       6.7083e-02,  1.3375e-02, -2.2563e-02,  2.0477e-03, -3.9521e-02,\n",
       "                       5.6564e-02, -1.0772e-03,  4.3219e-02, -3.8805e-02,  1.4624e-02,\n",
       "                      -6.3823e-02,  2.1558e-02, -3.9516e-03,  6.0441e-02, -1.5825e-02,\n",
       "                      -1.7275e-02,  1.1197e-02,  7.4686e-03, -7.9071e-03,  7.7655e-03,\n",
       "                      -2.9792e-02, -1.2341e-02, -1.3849e-02, -3.8358e-02,  1.1035e-02,\n",
       "                       1.7515e-02,  3.7760e-03, -1.7541e-02,  3.1452e-03, -4.7107e-02,\n",
       "                       7.3848e-03, -7.8290e-04,  2.6509e-02, -1.5604e-02,  8.3745e-03,\n",
       "                       8.8872e-03, -6.8456e-03,  2.3562e-02,  1.1098e-02, -2.0104e-02,\n",
       "                      -9.4786e-03,  5.5632e-03,  3.5550e-02,  3.2889e-02, -1.1379e-02,\n",
       "                      -1.2468e-02, -6.1939e-03, -7.7600e-02,  3.5611e-02, -5.7433e-03,\n",
       "                      -5.9683e-05, -1.5743e-02,  2.3484e-04, -3.8308e-02,  1.9712e-02,\n",
       "                      -7.3188e-03, -3.2617e-02, -5.0972e-02,  2.1301e-03, -8.5673e-03,\n",
       "                       6.9678e-03, -9.4140e-04, -2.4366e-02, -8.6808e-03,  5.9100e-03,\n",
       "                      -8.9922e-03,  1.5621e-02, -1.2967e-02, -2.5406e-02,  2.8172e-02,\n",
       "                       1.2833e-02,  1.0939e-02,  3.9327e-02, -9.7958e-03,  1.4228e-02,\n",
       "                       1.6570e-02,  6.7371e-03, -4.8872e-03, -1.5642e-03,  6.9404e-03,\n",
       "                       4.9933e-02, -4.2803e-02, -3.2294e-02,  1.3444e-03, -1.6387e-01,\n",
       "                      -7.1106e-02,  9.9092e-02,  4.2733e-02,  6.1335e-03, -4.2605e-02,\n",
       "                       9.5047e-03, -4.9846e-02,  1.0007e-01, -2.8686e-02, -2.2033e-02,\n",
       "                      -5.4388e-03, -7.0256e-02,  6.3531e-02,  5.3712e-02,  1.0716e-01,\n",
       "                      -3.3920e-02, -1.0411e-01,  8.0307e-02, -3.1868e-02,  3.9280e-02,\n",
       "                       5.0126e-02,  1.1650e-01,  6.5952e-02, -3.9003e-02, -7.4390e-02,\n",
       "                      -1.0054e-02,  9.2221e-02, -7.7084e-02,  3.4035e-01, -2.8591e-01,\n",
       "                       2.5952e-01,  2.7845e-01, -4.2177e-01,  5.6959e-02,  2.9379e-01,\n",
       "                       2.3136e-01,  2.3705e-01,  2.5386e-01, -3.5780e-01, -2.4478e-01,\n",
       "                       3.2533e-01,  3.1069e-01, -3.1220e-01,  3.5071e-01, -1.6654e-01,\n",
       "                       2.8255e-01, -1.5833e-01, -2.3798e-01,  2.8473e-01, -1.8154e-01,\n",
       "                      -1.9245e-01,  2.2970e-01,  2.9268e-01, -4.9987e-01,  3.5731e-01,\n",
       "                      -3.8584e-01, -3.7962e-01, -4.6698e-01,  2.2442e-01,  3.9502e-02,\n",
       "                       1.9129e-02, -1.9992e-01, -1.3668e-01,  9.5239e-02, -6.5081e-02,\n",
       "                      -1.5735e-01, -5.4418e-02,  1.6229e-03, -1.0350e-01, -2.1196e-01,\n",
       "                       7.6850e-02, -8.6890e-02,  8.3123e-02, -8.2754e-02, -5.3879e-02,\n",
       "                       1.2319e-02, -1.7543e-01,  2.1054e-01, -6.7164e-02,  7.6072e-02,\n",
       "                       5.3215e-02,  9.6344e-02, -1.3775e-02,  1.0160e-01, -1.4120e-01,\n",
       "                       1.3091e-01,  1.1162e-01,  8.0176e-02, -2.0400e-02, -4.9618e-02,\n",
       "                       1.3323e-01,  1.2735e-01,  1.9999e-02, -1.3784e-02, -3.2324e-02,\n",
       "                      -1.5879e-02,  3.6232e-02, -3.8367e-03,  7.4485e-03,  1.5771e-03,\n",
       "                       2.0988e-02, -2.7357e-03,  1.5991e-02,  1.1865e-02, -4.8297e-03,\n",
       "                      -9.0100e-03, -2.4479e-03, -1.8366e-02,  1.6796e-03,  2.5923e-03,\n",
       "                      -6.4963e-02,  3.2081e-02,  1.0051e-02,  2.0568e-02, -2.6101e-03,\n",
       "                      -6.5309e-03, -1.2662e-02,  5.1556e-03, -1.4773e-02,  9.8631e-04,\n",
       "                       7.6708e-03,  1.7375e-02,  1.1129e-02, -1.5899e-02, -2.9037e-02,\n",
       "                      -7.1126e-03,  9.2230e-03, -1.9415e-02, -2.9249e-03,  1.5053e-02,\n",
       "                      -1.0429e-02, -2.2401e-03, -4.9018e-03,  1.0702e-04, -1.5725e-02,\n",
       "                      -2.7367e-05,  3.2200e-03, -1.0994e-02, -1.8724e-02, -1.9546e-02,\n",
       "                      -1.6517e-02, -4.2540e-03, -1.3708e-03,  2.4985e-02, -5.8814e-04,\n",
       "                       1.2674e-02,  1.5535e-02,  1.1818e-02, -8.6107e-03, -2.8171e-02,\n",
       "                      -1.4799e-02,  5.8367e-03,  4.4892e-03, -1.9900e-02,  1.5948e-03,\n",
       "                      -9.3761e-04,  4.3052e-03,  1.7059e-03,  1.4017e-03, -9.2982e-04,\n",
       "                       5.6943e-03,  1.9686e-02, -1.9084e-02,  1.8625e-02, -1.3895e-02,\n",
       "                       1.7603e-02,  1.9908e-02, -6.2219e-03, -5.8823e-03,  9.6975e-04,\n",
       "                      -8.4908e-03,  1.3114e-02,  1.4847e-02, -2.1311e-02,  3.2130e-03,\n",
       "                      -1.2811e-02, -8.9741e-03, -8.9794e-03,  4.4319e-03, -4.4995e-03,\n",
       "                       2.0569e-03,  5.0852e-03, -6.8227e-03, -3.4362e-02, -2.2751e-03,\n",
       "                      -1.6614e-02, -9.0737e-04,  2.1261e-02], device='cuda:0')),\n",
       "             ('pert_decoder.transformer.2.self_attn.out_proj.weight',\n",
       "              tensor([[ 0.1462, -0.0702,  0.0360,  ..., -0.0530, -0.0937,  0.1404],\n",
       "                      [-0.0612,  0.0907,  0.0157,  ..., -0.0538,  0.0006, -0.0751],\n",
       "                      [ 0.1045,  0.0892,  0.0749,  ..., -0.0481,  0.0137,  0.0223],\n",
       "                      ...,\n",
       "                      [-0.0657,  0.0851, -0.0197,  ..., -0.0539, -0.0625, -0.0463],\n",
       "                      [-0.1061, -0.0110, -0.0713,  ..., -0.0285, -0.0627, -0.0335],\n",
       "                      [-0.0769, -0.0247, -0.0582,  ..., -0.0725, -0.0630, -0.0464]],\n",
       "                     device='cuda:0')),\n",
       "             ('pert_decoder.transformer.2.self_attn.out_proj.bias',\n",
       "              tensor([ 0.0101,  0.0039,  0.0016,  0.0216,  0.0087,  0.0200, -0.0017,  0.0017,\n",
       "                      -0.0068, -0.0082,  0.0132,  0.0010,  0.0019,  0.0273,  0.0068,  0.0162,\n",
       "                      -0.0145,  0.0132,  0.0066,  0.0027, -0.0088, -0.0010, -0.0117, -0.0100,\n",
       "                       0.0056,  0.0177, -0.0014, -0.0091,  0.0071,  0.0046,  0.0056, -0.0086,\n",
       "                      -0.0015, -0.0253, -0.0121,  0.0123, -0.0016,  0.0079, -0.0057,  0.0030,\n",
       "                      -0.0219,  0.0069, -0.0029, -0.0150,  0.0081,  0.0086,  0.0209, -0.0012,\n",
       "                       0.0115,  0.0069,  0.0137, -0.0027,  0.0110, -0.0059,  0.0194, -0.0147,\n",
       "                       0.0008, -0.0186,  0.0152, -0.0029,  0.0098, -0.0185, -0.0103, -0.0138,\n",
       "                       0.0061, -0.0128,  0.0111,  0.0234,  0.0086, -0.0073, -0.0153, -0.0045,\n",
       "                      -0.0016,  0.0033, -0.0113, -0.0156, -0.0075,  0.0043, -0.0039, -0.0169,\n",
       "                      -0.0038,  0.0138, -0.0172, -0.0060,  0.0213, -0.0171,  0.0150, -0.0263,\n",
       "                      -0.0117, -0.0111,  0.0172, -0.0180,  0.0076, -0.0054,  0.0033, -0.0144],\n",
       "                     device='cuda:0')),\n",
       "             ('pert_decoder.transformer.2.linear1.weight',\n",
       "              tensor([[ 0.0584,  0.1156,  0.0330,  ...,  0.0587, -0.0483,  0.1355],\n",
       "                      [-0.0882,  0.0816, -0.1596,  ...,  0.0435, -0.0313,  0.1302],\n",
       "                      [-0.1171, -0.0809,  0.0113,  ..., -0.0029,  0.1773,  0.0594],\n",
       "                      ...,\n",
       "                      [-0.1067,  0.1299, -0.0108,  ...,  0.0052,  0.0110,  0.0566],\n",
       "                      [ 0.0667, -0.0738, -0.0647,  ..., -0.0672, -0.1079,  0.0228],\n",
       "                      [-0.0462, -0.0629,  0.0889,  ...,  0.0275,  0.0274,  0.0520]],\n",
       "                     device='cuda:0')),\n",
       "             ('pert_decoder.transformer.2.linear1.bias',\n",
       "              tensor([-0.0048,  0.0192, -0.0436,  0.0287, -0.0826, -0.0341, -0.1012, -0.0876,\n",
       "                       0.0066, -0.1066,  0.0002, -0.0752, -0.0510,  0.0810, -0.1026, -0.0833,\n",
       "                       0.0328, -0.0288,  0.0372,  0.0371, -0.0571,  0.0224, -0.1165, -0.0397,\n",
       "                      -0.0878, -0.0253, -0.1443, -0.0710,  0.0273,  0.0316,  0.0155,  0.0779,\n",
       "                       0.0305, -0.0904,  0.0364,  0.0033, -0.0659, -0.1532, -0.0690,  0.0537,\n",
       "                      -0.0756, -0.0560, -0.0334,  0.0290, -0.1077, -0.0525, -0.0666,  0.0711,\n",
       "                      -0.0271, -0.0236, -0.0262,  0.0035, -0.0954, -0.0247, -0.0331,  0.0935,\n",
       "                      -0.0290, -0.0410,  0.1012, -0.0631,  0.0275,  0.0658,  0.0396, -0.0733,\n",
       "                       0.0494, -0.1001, -0.0196, -0.1018,  0.1000,  0.0713,  0.0660,  0.0686,\n",
       "                      -0.0387, -0.0497, -0.0298, -0.0799,  0.0485, -0.0211, -0.1022, -0.0062,\n",
       "                      -0.0041, -0.0601, -0.0501,  0.0427, -0.0503,  0.0529,  0.0689,  0.1052,\n",
       "                       0.0185,  0.0898,  0.0791, -0.0175, -0.0704,  0.0622,  0.0002, -0.1095,\n",
       "                       0.0173,  0.0082,  0.0098, -0.0367,  0.0827,  0.0642,  0.0307,  0.0289,\n",
       "                      -0.0007, -0.0152, -0.0958, -0.0353, -0.0197, -0.0937,  0.0589,  0.0556,\n",
       "                       0.0130, -0.0195, -0.0605, -0.1008, -0.0498, -0.0168, -0.0688,  0.0150,\n",
       "                       0.0693,  0.0491,  0.0072,  0.0983, -0.0269, -0.0696, -0.0370,  0.0776],\n",
       "                     device='cuda:0')),\n",
       "             ('pert_decoder.transformer.2.linear2.weight',\n",
       "              tensor([[ 0.0833,  0.0460,  0.0060,  ..., -0.0883,  0.0459,  0.0572],\n",
       "                      [ 0.0603,  0.0238,  0.0630,  ..., -0.1625,  0.0412,  0.0672],\n",
       "                      [ 0.0637,  0.0485,  0.0110,  ...,  0.0236, -0.0465, -0.0478],\n",
       "                      ...,\n",
       "                      [-0.0537, -0.0128,  0.0836,  ...,  0.1469, -0.0503,  0.0774],\n",
       "                      [-0.0163, -0.2291,  0.1466,  ...,  0.0643, -0.0552, -0.0236],\n",
       "                      [ 0.0144,  0.0573, -0.0923,  ...,  0.0719, -0.0359,  0.0749]],\n",
       "                     device='cuda:0')),\n",
       "             ('pert_decoder.transformer.2.linear2.bias',\n",
       "              tensor([-0.0350, -0.0131, -0.0329,  0.0081,  0.0764, -0.0369, -0.0230, -0.0481,\n",
       "                      -0.0317,  0.0311, -0.0282, -0.0598,  0.0089,  0.0325,  0.0392,  0.0277,\n",
       "                       0.0617, -0.0092,  0.0190,  0.0732, -0.0600, -0.0485, -0.0098,  0.0067,\n",
       "                      -0.0656, -0.0621, -0.0213,  0.0732, -0.0086, -0.0455, -0.0709, -0.0772,\n",
       "                       0.0709, -0.0228, -0.0273,  0.0047,  0.0418,  0.0913,  0.0659,  0.0111,\n",
       "                      -0.0126,  0.0536,  0.0680,  0.0623, -0.0236,  0.0846, -0.0122, -0.0110,\n",
       "                      -0.0136,  0.0200,  0.0909, -0.0024, -0.0364,  0.0513,  0.0445, -0.0934,\n",
       "                       0.0648,  0.0111, -0.0728,  0.0475, -0.0646,  0.0518, -0.0943,  0.0161,\n",
       "                       0.0270, -0.0355, -0.0251, -0.0544, -0.0750, -0.0042, -0.0889,  0.0724,\n",
       "                       0.0338,  0.0485, -0.0240, -0.0846,  0.0790, -0.0642, -0.0325,  0.0733,\n",
       "                       0.0079, -0.0605, -0.0782,  0.0700,  0.0321, -0.0067, -0.0706,  0.0425,\n",
       "                      -0.0669,  0.0538, -0.0722,  0.0379, -0.0131, -0.0348,  0.0140, -0.0234],\n",
       "                     device='cuda:0')),\n",
       "             ('pert_decoder.transformer.2.norm1.weight',\n",
       "              tensor([0.9868, 1.0075, 0.9666, 0.9970, 1.0052, 1.0103, 0.9869, 1.0001, 0.9781,\n",
       "                      0.9915, 0.9792, 0.9536, 1.0175, 0.9954, 0.9773, 0.9973, 1.0121, 1.0175,\n",
       "                      1.0048, 1.0284, 0.9719, 0.9969, 0.9763, 0.9722, 1.0227, 0.9702, 0.9960,\n",
       "                      1.0073, 0.9859, 0.9898, 0.9945, 1.0008, 1.0410, 0.9931, 0.9898, 0.9929,\n",
       "                      0.9703, 0.9378, 0.9622, 0.9928, 0.9713, 0.9648, 1.0108, 1.0032, 0.9710,\n",
       "                      1.0017, 0.9899, 0.9680, 0.9796, 1.0206, 0.9997, 1.0017, 0.9840, 0.9924,\n",
       "                      1.0145, 0.9696, 1.0171, 0.9834, 0.9748, 0.9606, 0.9521, 1.0327, 1.0901,\n",
       "                      1.0115, 0.9805, 0.9294, 0.9876, 0.9811, 0.9910, 1.0035, 0.9766, 0.9740,\n",
       "                      0.9937, 1.0087, 1.0061, 0.9806, 1.0242, 1.0184, 0.9846, 0.9990, 1.0137,\n",
       "                      1.0081, 1.0002, 0.9412, 0.9948, 0.9874, 1.0158, 1.0072, 0.9948, 0.9919,\n",
       "                      0.9999, 1.0038, 0.9694, 0.9893, 1.0449, 1.0369], device='cuda:0')),\n",
       "             ('pert_decoder.transformer.2.norm1.bias',\n",
       "              tensor([ 6.6853e-03,  2.5389e-04, -1.1908e-03,  2.9831e-02,  4.4348e-03,\n",
       "                       1.7245e-02, -3.5893e-04,  3.9661e-03,  6.5962e-04, -3.8035e-03,\n",
       "                       7.3914e-03, -1.7223e-03,  6.0859e-04,  2.4977e-02,  3.7099e-03,\n",
       "                       1.4603e-02, -1.9185e-02,  1.5494e-02,  9.0962e-04,  2.5762e-03,\n",
       "                      -6.2172e-03,  5.3076e-03, -8.9715e-03, -7.1295e-03,  4.7219e-03,\n",
       "                       1.5137e-02,  1.3202e-03, -9.6786e-03,  3.5190e-03, -1.2701e-03,\n",
       "                       4.3883e-03, -2.6658e-03, -3.7155e-03, -2.5446e-02, -9.8256e-03,\n",
       "                       7.1153e-03, -4.1418e-03,  7.0530e-03, -3.4195e-03, -2.1130e-03,\n",
       "                      -1.6136e-02,  3.9105e-03, -1.5429e-03, -1.2862e-02,  4.0510e-03,\n",
       "                       5.2835e-03,  1.6756e-02,  1.2870e-03,  5.9328e-03,  6.8097e-03,\n",
       "                       9.3667e-03,  2.1494e-06,  5.1306e-03, -1.8773e-03,  1.7602e-02,\n",
       "                      -9.5993e-03, -1.3697e-03, -1.2905e-02,  1.0141e-02, -5.9929e-03,\n",
       "                       9.2324e-03, -1.1053e-02, -1.6624e-02, -1.2757e-02,  5.1957e-03,\n",
       "                      -8.8630e-03,  8.9184e-03,  2.4468e-02,  4.4090e-03, -7.7007e-03,\n",
       "                      -1.5148e-02, -6.6045e-03,  2.6209e-03,  2.8868e-05, -6.5019e-03,\n",
       "                      -1.2886e-02, -5.1407e-03,  3.6939e-03, -1.0286e-03, -1.2794e-02,\n",
       "                      -7.0364e-03,  1.1080e-02, -1.2010e-02, -9.7927e-03,  1.5840e-02,\n",
       "                      -1.3458e-02,  1.0253e-02, -2.0600e-02, -7.9733e-03, -6.5810e-03,\n",
       "                       1.4085e-02, -1.5841e-02,  7.5799e-03, -5.5917e-03,  4.3448e-03,\n",
       "                      -9.9685e-03], device='cuda:0')),\n",
       "             ('pert_decoder.transformer.2.norm2.weight',\n",
       "              tensor([1.0088, 1.0276, 0.9615, 1.0301, 1.0086, 0.9577, 0.9965, 0.9839, 0.9959,\n",
       "                      0.9962, 1.0230, 0.9578, 1.0072, 0.9978, 1.0166, 0.9936, 0.9856, 1.0231,\n",
       "                      0.9747, 1.0307, 0.9710, 1.0145, 0.9932, 1.0010, 1.0280, 1.0057, 1.0032,\n",
       "                      1.0228, 0.9846, 0.9845, 0.9801, 1.0087, 1.0728, 1.0292, 0.9989, 0.9911,\n",
       "                      0.9955, 0.9818, 0.9446, 0.9786, 0.9967, 1.0029, 1.0389, 1.0168, 0.9734,\n",
       "                      1.0083, 0.9939, 1.0559, 1.0098, 1.0093, 1.0038, 1.0205, 0.9783, 0.9984,\n",
       "                      1.0098, 0.9890, 0.9930, 0.9863, 0.9885, 0.9893, 1.0105, 1.1418, 1.0616,\n",
       "                      0.9813, 0.9705, 0.9830, 0.9843, 1.0169, 0.9953, 1.0926, 1.0040, 1.0375,\n",
       "                      1.0291, 1.0071, 1.0187, 1.0329, 1.0369, 1.0090, 1.0630, 0.9929, 1.0084,\n",
       "                      0.9985, 0.9992, 0.9744, 0.9849, 1.0218, 1.0281, 0.9923, 1.0039, 1.0000,\n",
       "                      1.0294, 1.0414, 1.0104, 0.9956, 1.0312, 1.0665], device='cuda:0')),\n",
       "             ('pert_decoder.transformer.2.norm2.bias',\n",
       "              tensor([-1.5683e-03,  1.3387e-02,  4.8723e-04,  3.0739e-02, -3.3178e-04,\n",
       "                       2.9027e-03, -3.6053e-03,  6.8503e-03, -5.0140e-03, -5.7716e-03,\n",
       "                       6.5353e-04, -2.0026e-02,  3.0957e-03,  1.3473e-03, -2.5105e-03,\n",
       "                       5.1861e-03,  1.2465e-02,  2.3583e-02, -8.2807e-03, -1.2457e-02,\n",
       "                      -2.5521e-03,  1.5116e-02, -1.2412e-02,  5.9730e-03, -6.8011e-03,\n",
       "                       1.3135e-02, -7.2349e-03, -9.8319e-03,  5.8687e-03, -7.0481e-03,\n",
       "                       2.1691e-03,  6.9165e-04, -1.4503e-02, -9.9542e-03, -1.6482e-03,\n",
       "                       3.9069e-03,  1.9116e-02,  8.6189e-03, -3.5917e-03,  4.8876e-03,\n",
       "                      -3.0375e-03,  5.1044e-03, -2.6565e-04,  2.9234e-03, -1.0147e-02,\n",
       "                      -1.8503e-03,  6.7882e-03,  4.2805e-03,  1.2366e-02,  5.0385e-03,\n",
       "                       6.0289e-03, -1.3569e-03, -2.7202e-03,  7.9230e-04, -4.7045e-03,\n",
       "                      -2.0053e-03,  2.1729e-03,  4.8364e-05,  6.2627e-03,  5.2316e-04,\n",
       "                      -4.2114e-03, -5.0374e-03, -3.0662e-02, -3.9951e-03, -1.1773e-02,\n",
       "                      -6.9689e-03, -1.6354e-03,  1.2163e-02,  3.4157e-03, -2.1408e-02,\n",
       "                       4.7667e-03,  5.3445e-04,  7.4386e-03, -7.4914e-04, -3.4962e-03,\n",
       "                      -3.1958e-02,  8.4892e-04,  1.7757e-05,  7.2114e-03, -5.5639e-03,\n",
       "                      -1.2259e-02,  3.8738e-03, -6.5152e-03, -1.9482e-02, -1.1360e-02,\n",
       "                      -7.9490e-03,  6.1370e-03, -4.0520e-03, -6.4424e-03, -4.2521e-03,\n",
       "                      -2.8494e-03,  1.6327e-02, -5.4133e-03, -3.5186e-03,  7.5091e-03,\n",
       "                      -8.1374e-03], device='cuda:0')),\n",
       "             ('pert_decoder.transformer.3.self_attn.in_proj_weight',\n",
       "              tensor([[-0.2050,  0.0696, -0.2654,  ..., -0.0315, -0.0367, -0.0237],\n",
       "                      [-0.0822, -0.0204, -0.0500,  ...,  0.0890,  0.0567, -0.0923],\n",
       "                      [ 0.0461, -0.0823,  0.0108,  ...,  0.1251, -0.0012,  0.1243],\n",
       "                      ...,\n",
       "                      [-0.0300,  0.0219, -0.0463,  ...,  0.0945, -0.0367,  0.0294],\n",
       "                      [ 0.0928, -0.0198,  0.1684,  ..., -0.0206,  0.0359,  0.0760],\n",
       "                      [-0.0928, -0.0977,  0.0717,  ...,  0.0155, -0.0763, -0.1264]],\n",
       "                     device='cuda:0')),\n",
       "             ('pert_decoder.transformer.3.self_attn.in_proj_bias',\n",
       "              tensor([-5.4732e-03, -1.1001e-02,  1.2792e-02,  3.5941e-02,  1.8629e-02,\n",
       "                      -3.5029e-02,  4.2272e-02, -1.8826e-02, -6.5391e-03,  3.8951e-02,\n",
       "                      -1.6890e-02,  3.3767e-02,  2.5251e-02, -8.6504e-03,  9.2265e-03,\n",
       "                       3.1713e-02, -2.7554e-02,  1.7445e-03,  3.0354e-02,  1.9883e-02,\n",
       "                      -1.3156e-02,  2.0967e-02,  1.6824e-02,  2.1231e-02,  2.6134e-02,\n",
       "                      -1.4431e-02,  1.2922e-02,  4.2130e-03,  1.6800e-03,  2.7336e-02,\n",
       "                      -1.5577e-02,  3.6257e-02, -1.2066e-02,  1.5550e-02, -6.4849e-03,\n",
       "                       1.4309e-02, -1.9612e-02, -2.8315e-02, -1.3767e-02,  3.5083e-02,\n",
       "                       1.0977e-02,  1.6819e-02, -7.3827e-03,  1.3470e-02,  3.2678e-02,\n",
       "                       4.2171e-02, -4.0718e-02,  2.3774e-02, -1.4037e-03,  8.5184e-03,\n",
       "                      -1.4919e-02,  1.8178e-02,  2.4997e-02, -2.3858e-02, -1.1728e-02,\n",
       "                       1.0341e-02, -2.1167e-02,  3.7909e-02,  3.3735e-02,  4.2477e-02,\n",
       "                       5.6396e-03, -1.8020e-02, -3.3013e-02,  1.4734e-02, -1.6923e-02,\n",
       "                      -1.0300e-02, -1.3736e-02,  1.7610e-02, -3.8066e-03, -1.4783e-02,\n",
       "                       2.0027e-02, -8.3392e-03, -4.9986e-03, -2.1572e-02,  1.1214e-02,\n",
       "                       8.5854e-03,  2.1113e-02, -2.1816e-02,  1.6113e-02,  1.0203e-02,\n",
       "                      -5.4891e-03, -7.5425e-03, -2.7837e-02, -2.7950e-03,  1.4627e-02,\n",
       "                       1.3325e-02, -1.0877e-02,  2.2423e-02, -7.7439e-03, -1.6192e-02,\n",
       "                      -8.6200e-03,  1.3092e-02,  2.7316e-02,  4.9871e-03,  4.9171e-03,\n",
       "                      -3.2056e-02,  2.9355e-01,  2.0984e-01, -2.1673e-01, -2.2995e-01,\n",
       "                      -2.5655e-01,  8.9248e-02,  4.0994e-01,  2.2931e-01,  3.6208e-01,\n",
       "                      -2.9997e-02,  5.0756e-01,  3.3581e-01,  2.3163e-01, -2.9432e-01,\n",
       "                      -2.3085e-01,  4.4688e-01,  1.5312e-01, -2.6862e-01, -2.7376e-01,\n",
       "                       2.2277e-01,  1.4508e-01, -2.0570e-01,  3.1122e-01,  4.4616e-01,\n",
       "                      -1.7936e-01,  1.3020e-01, -1.1495e-01,  2.2936e-01, -1.2828e-01,\n",
       "                      -1.4359e-01, -2.8994e-01, -2.2914e-01, -1.7566e-01, -1.9755e+00,\n",
       "                      -2.1424e+00, -3.4846e+00,  2.1323e+00, -4.9707e-01,  3.3908e+00,\n",
       "                      -2.0824e+00,  1.7495e+00, -4.1185e+00, -1.3631e+00,  1.2363e+00,\n",
       "                      -1.7109e+00, -2.4703e+00, -2.8436e+00,  9.1231e-01,  1.9868e+00,\n",
       "                      -1.8452e+00, -3.0804e+00, -2.5721e+00,  1.6658e+00,  1.4588e+00,\n",
       "                       2.0018e+00, -1.1082e+00,  2.3775e+00, -2.3397e+00, -2.6014e+00,\n",
       "                      -2.7161e+00, -1.8038e+00,  2.6681e+00,  7.9653e-01, -1.4536e+00,\n",
       "                      -2.1079e-01, -2.8030e-01, -2.0729e-01,  1.5679e-01, -2.9772e-01,\n",
       "                      -3.6680e-01,  2.0935e-01, -2.4389e-01, -2.6922e-01, -2.5984e-01,\n",
       "                       5.5426e-02,  1.9165e-01, -2.4966e-01,  5.4344e-01,  1.7491e-01,\n",
       "                       1.9055e-01, -4.2417e-01, -1.9929e-01, -2.2840e-01, -1.9558e-01,\n",
       "                       1.1657e-01,  3.0030e-02, -2.1473e-01, -2.1371e-01,  1.8960e-01,\n",
       "                      -2.3377e-01, -2.3339e-01,  6.8494e-01,  2.2382e-01,  2.0495e-01,\n",
       "                      -3.0236e-01, -9.0865e-01,  1.4577e-02,  1.8790e-03,  3.2222e-03,\n",
       "                       1.9938e-03,  2.7609e-03, -1.0260e-02, -3.6952e-03,  8.5118e-03,\n",
       "                      -4.1508e-03,  5.0339e-03,  1.5033e-02, -1.7628e-02,  6.2600e-03,\n",
       "                       5.1181e-03,  8.3373e-03, -3.2128e-02,  1.1653e-02, -2.5810e-02,\n",
       "                       1.5889e-02, -6.7110e-03, -8.9794e-03,  3.7806e-03,  1.4063e-02,\n",
       "                       1.3969e-04,  1.4582e-02, -2.1060e-02,  1.8012e-02,  2.9164e-03,\n",
       "                      -1.1505e-02, -1.5551e-02,  1.5703e-02,  1.3610e-02, -3.3585e-02,\n",
       "                       1.4613e-02, -2.6885e-02, -4.9329e-03, -1.5918e-02,  2.4903e-02,\n",
       "                      -1.1598e-02,  1.9492e-02,  1.1128e-02,  1.4351e-02,  7.7510e-03,\n",
       "                      -1.3609e-02,  7.8718e-04,  7.4261e-03,  8.5058e-03,  2.3594e-02,\n",
       "                       1.0674e-03,  1.3880e-02,  1.1587e-02,  1.0029e-02,  7.5742e-03,\n",
       "                      -6.0363e-03, -2.7177e-02, -8.8718e-03, -9.1138e-04, -1.4519e-03,\n",
       "                      -3.8057e-03, -6.7564e-03, -7.2360e-03, -1.0875e-02,  2.0367e-02,\n",
       "                      -4.7557e-03,  2.2972e-02,  8.8606e-03,  5.8319e-03, -3.9353e-03,\n",
       "                      -8.2094e-03,  9.7688e-03, -1.3081e-02, -2.0044e-02,  1.0361e-02,\n",
       "                       5.0845e-02,  2.1155e-03, -1.0395e-02,  1.2030e-02, -2.3766e-03,\n",
       "                      -1.5745e-02, -2.0863e-02, -1.1451e-02, -5.6000e-03, -6.4896e-04,\n",
       "                      -3.4696e-03,  3.4288e-02, -2.7100e-02, -1.2186e-02,  1.3548e-02,\n",
       "                      -1.5643e-02, -7.8897e-03,  1.6330e-02, -1.2810e-02, -3.2978e-02,\n",
       "                       8.1841e-03, -2.4065e-02,  1.3573e-02], device='cuda:0')),\n",
       "             ('pert_decoder.transformer.3.self_attn.out_proj.weight',\n",
       "              tensor([[ 3.5199e-02,  1.6465e-01, -1.0555e-01,  ..., -3.7969e-02,\n",
       "                        8.1730e-02,  5.9362e-02],\n",
       "                      [-1.1611e-01,  1.5629e-01, -2.8679e-02,  ..., -6.2684e-02,\n",
       "                       -8.3215e-02,  3.4907e-02],\n",
       "                      [-9.0517e-02,  2.9460e-03,  3.9754e-02,  ...,  2.2398e-03,\n",
       "                       -1.0656e-01, -7.0957e-03],\n",
       "                      ...,\n",
       "                      [-1.5439e-01,  3.9898e-02, -3.3284e-02,  ...,  1.6221e-02,\n",
       "                        2.3295e-02,  7.2430e-02],\n",
       "                      [-1.6093e-02, -5.0360e-03,  4.3160e-02,  ..., -1.2264e-02,\n",
       "                       -1.1042e-01,  7.4944e-02],\n",
       "                      [-4.8588e-02,  4.2930e-02,  7.7002e-02,  ..., -6.3561e-02,\n",
       "                        2.5418e-02, -8.1195e-06]], device='cuda:0')),\n",
       "             ('pert_decoder.transformer.3.self_attn.out_proj.bias',\n",
       "              tensor([ 9.2838e-03,  6.7200e-03,  1.4060e-02,  1.4811e-02,  5.6305e-03,\n",
       "                       1.5326e-02, -1.0042e-02,  3.1228e-02, -8.9242e-03, -1.2618e-02,\n",
       "                       1.2469e-03, -3.4826e-02,  9.0474e-03,  1.2791e-02,  5.6728e-03,\n",
       "                       1.6025e-02,  2.0136e-02,  5.4595e-03,  6.5472e-04, -2.9764e-02,\n",
       "                      -9.5393e-03, -2.7860e-03, -2.2573e-02, -2.3216e-02,  8.4576e-03,\n",
       "                       5.5542e-02, -1.9485e-02,  4.7428e-05,  1.1866e-02,  1.2076e-02,\n",
       "                       3.9393e-03, -1.1063e-02,  1.9379e-02,  1.1609e-02, -3.8591e-03,\n",
       "                       4.3262e-03,  2.4468e-02,  1.8956e-02,  2.2449e-02,  2.0761e-02,\n",
       "                      -1.6712e-02,  2.5177e-02, -1.6860e-02, -8.7691e-03,  1.4868e-02,\n",
       "                       8.4729e-03,  1.3255e-02,  3.3474e-03,  3.1172e-02,  1.2501e-02,\n",
       "                       1.1309e-02, -1.0782e-02,  7.7357e-03, -6.4103e-03,  1.9990e-03,\n",
       "                      -6.9688e-03,  8.3315e-03, -8.3511e-03,  4.7862e-03,  1.3208e-02,\n",
       "                      -1.4389e-02, -1.2892e-03, -6.9871e-03, -9.5925e-03, -4.8929e-03,\n",
       "                      -1.5290e-02, -1.0636e-02,  2.1491e-02,  1.3509e-02, -7.5329e-03,\n",
       "                       1.5927e-02, -9.9856e-03, -9.7294e-03,  1.0625e-02, -1.3911e-02,\n",
       "                      -2.5404e-02, -5.5048e-03, -2.0361e-03,  2.1917e-02, -1.9715e-02,\n",
       "                      -5.6956e-03,  8.5551e-03, -2.1322e-02, -1.3575e-02,  4.1816e-03,\n",
       "                      -1.5277e-02,  1.5070e-02, -1.1485e-02, -1.1421e-02, -1.4797e-02,\n",
       "                       1.1246e-02,  1.8028e-02,  6.3513e-04,  6.4475e-03, -6.9384e-03,\n",
       "                      -1.3878e-02], device='cuda:0')),\n",
       "             ('pert_decoder.transformer.3.linear1.weight',\n",
       "              tensor([[ 0.1033, -0.0816,  0.0509,  ..., -0.0697, -0.0150, -0.0160],\n",
       "                      [-0.0044,  0.0866, -0.1044,  ..., -0.1082, -0.0124, -0.0388],\n",
       "                      [-0.0172, -0.1021, -0.0220,  ..., -0.0619,  0.0665, -0.0704],\n",
       "                      ...,\n",
       "                      [ 0.1924,  0.0946,  0.0909,  ...,  0.0511,  0.0446, -0.0127],\n",
       "                      [ 0.1002,  0.0010,  0.1150,  ..., -0.0936,  0.1870,  0.0590],\n",
       "                      [-0.1335, -0.0155,  0.0185,  ...,  0.0498, -0.0755,  0.1424]],\n",
       "                     device='cuda:0')),\n",
       "             ('pert_decoder.transformer.3.linear1.bias',\n",
       "              tensor([ 0.0976,  0.0647,  0.0431,  0.0752, -0.1034,  0.0040, -0.0150, -0.0508,\n",
       "                      -0.0831,  0.0178,  0.0030,  0.0024, -0.0590,  0.1021,  0.0520, -0.0229,\n",
       "                       0.0916, -0.0003,  0.0090,  0.0073, -0.0111,  0.0176,  0.0978, -0.0791,\n",
       "                      -0.0133, -0.1127,  0.0284,  0.0502,  0.0198,  0.1054,  0.0817, -0.0891,\n",
       "                      -0.0153, -0.0850,  0.0576, -0.0420,  0.0422, -0.0050, -0.1010,  0.0825,\n",
       "                      -0.0309, -0.0162,  0.0482, -0.0602, -0.0889,  0.0203, -0.0896, -0.0273,\n",
       "                       0.0605,  0.0483, -0.0426,  0.0464,  0.0121, -0.1310,  0.1006, -0.0729,\n",
       "                       0.0052,  0.0165, -0.0246, -0.0972, -0.0141, -0.0870,  0.0191, -0.0731,\n",
       "                      -0.0093, -0.0676, -0.0687, -0.0964,  0.1000, -0.1128, -0.0419, -0.0147,\n",
       "                      -0.0703, -0.0730,  0.0100, -0.0307,  0.0156,  0.1016, -0.0991, -0.0246,\n",
       "                       0.0938, -0.0432, -0.0195, -0.0051,  0.0310,  0.0526, -0.0116,  0.0070,\n",
       "                      -0.1237, -0.0929, -0.0688,  0.1032, -0.0630,  0.0609, -0.0854, -0.0480,\n",
       "                       0.0366, -0.0038,  0.0134, -0.0931, -0.1220, -0.0632, -0.0922,  0.0442,\n",
       "                      -0.0766, -0.0743,  0.1114,  0.0329,  0.1064,  0.0059, -0.1123,  0.0170,\n",
       "                       0.0124, -0.1297, -0.0540, -0.1080,  0.0271,  0.0511,  0.0437, -0.0480,\n",
       "                      -0.0490,  0.0009, -0.0184,  0.0288, -0.0969, -0.0952, -0.1258, -0.0803],\n",
       "                     device='cuda:0')),\n",
       "             ('pert_decoder.transformer.3.linear2.weight',\n",
       "              tensor([[-0.0414,  0.0774, -0.0417,  ...,  0.0295,  0.0707,  0.0292],\n",
       "                      [ 0.0110,  0.0709, -0.0263,  ...,  0.0618, -0.2998,  0.0749],\n",
       "                      [-0.0292,  0.0033,  0.1221,  ...,  0.0306, -0.0340, -0.0804],\n",
       "                      ...,\n",
       "                      [-0.0698,  0.1036,  0.0425,  ..., -0.1577, -0.0930, -0.0006],\n",
       "                      [ 0.0176,  0.0038,  0.1162,  ...,  0.0495,  0.2893,  0.0279],\n",
       "                      [ 0.0225, -0.0217, -0.0963,  ...,  0.0888,  0.0862,  0.0420]],\n",
       "                     device='cuda:0')),\n",
       "             ('pert_decoder.transformer.3.linear2.bias',\n",
       "              tensor([-2.9482e-02, -7.5166e-04, -7.8128e-02,  3.3899e-02,  8.9959e-02,\n",
       "                       2.5935e-02, -8.4471e-02, -7.0045e-03, -5.7777e-02,  7.6972e-02,\n",
       "                      -7.7053e-02,  2.1922e-02, -4.7593e-02, -2.3747e-02,  6.9680e-02,\n",
       "                      -3.3257e-02,  6.3864e-02,  4.7936e-02, -4.5958e-02, -6.3585e-02,\n",
       "                      -3.4949e-02, -1.6260e-02, -1.1445e-02, -9.5993e-02, -7.9838e-02,\n",
       "                       1.1005e-02, -1.5400e-02,  7.8533e-02, -2.2835e-02, -5.8051e-02,\n",
       "                       5.0755e-02,  6.3284e-02, -2.2923e-02,  3.9169e-02,  7.9371e-02,\n",
       "                      -7.2666e-02,  7.1907e-02, -3.8907e-02,  3.0574e-02,  2.0150e-02,\n",
       "                      -7.1655e-03,  6.0176e-02,  4.3994e-02, -7.0302e-02,  8.7076e-02,\n",
       "                      -8.3435e-02, -4.2194e-02, -3.3430e-02,  1.0772e-01,  2.0589e-02,\n",
       "                       7.4532e-02, -8.0454e-02,  5.3788e-02, -8.3730e-02,  1.3666e-01,\n",
       "                      -6.2059e-02,  2.0144e-02, -7.2502e-02, -3.8629e-02, -5.0287e-02,\n",
       "                      -4.4141e-02, -2.2995e-02, -4.3130e-02, -1.1622e-02, -1.3190e-01,\n",
       "                       2.6146e-02,  4.5825e-02,  6.8910e-03,  2.5691e-02, -5.8515e-05,\n",
       "                       1.9294e-02, -1.9467e-02, -2.0349e-02,  1.1826e-02,  2.5658e-02,\n",
       "                       8.7315e-03,  4.9929e-02,  4.9369e-02, -4.7081e-02, -8.0770e-02,\n",
       "                      -1.1448e-02,  4.8487e-02,  4.3606e-04,  9.9662e-03,  2.2821e-02,\n",
       "                       6.2888e-02,  4.6215e-02,  3.8325e-02,  8.0439e-02, -7.1802e-02,\n",
       "                       3.7091e-02,  6.4233e-02,  3.4764e-03, -4.1135e-02, -5.6906e-02,\n",
       "                      -6.5232e-02], device='cuda:0')),\n",
       "             ('pert_decoder.transformer.3.norm1.weight',\n",
       "              tensor([0.9691, 1.0059, 0.9195, 1.0257, 0.9900, 0.9455, 0.9866, 0.9953, 1.0305,\n",
       "                      0.9950, 1.0102, 0.9894, 1.0258, 0.9775, 1.0074, 1.0406, 0.9568, 1.0307,\n",
       "                      0.9443, 1.0741, 0.9878, 1.0079, 1.0008, 0.9987, 1.0045, 1.0253, 0.9884,\n",
       "                      0.9959, 0.9756, 0.9813, 1.0412, 0.9308, 1.0219, 1.0383, 0.9968, 0.9046,\n",
       "                      1.0318, 0.9628, 1.0073, 0.9505, 0.9854, 1.0085, 1.0001, 0.9947, 0.9597,\n",
       "                      0.9934, 0.9511, 1.0171, 1.0120, 0.9929, 1.0117, 1.0028, 0.9684, 0.9720,\n",
       "                      1.0370, 0.9821, 0.9725, 0.9865, 0.9882, 0.9673, 0.9873, 0.9977, 1.0596,\n",
       "                      0.9901, 0.9758, 0.9913, 0.9810, 0.9676, 0.9925, 1.0381, 0.9964, 1.0245,\n",
       "                      1.0171, 1.0027, 0.9944, 0.9811, 0.9868, 1.0140, 0.9864, 0.9962, 1.0123,\n",
       "                      0.9893, 0.9892, 0.9629, 0.9722, 0.9959, 1.0113, 0.9934, 1.0058, 0.9920,\n",
       "                      0.9068, 1.0342, 0.9893, 1.0194, 0.9550, 1.0260], device='cuda:0')),\n",
       "             ('pert_decoder.transformer.3.norm1.bias',\n",
       "              tensor([ 0.0032,  0.0046,  0.0112,  0.0187,  0.0018,  0.0120, -0.0055,  0.0199,\n",
       "                      -0.0300, -0.0101,  0.0012, -0.0276, -0.0115,  0.0162,  0.0065,  0.0116,\n",
       "                       0.0226,  0.0081, -0.0054, -0.0260, -0.0055,  0.0024, -0.0131, -0.0171,\n",
       "                      -0.0016,  0.0328, -0.0159, -0.0023,  0.0095,  0.0113, -0.0022, -0.0098,\n",
       "                       0.0158, -0.0003, -0.0019,  0.0049,  0.0006,  0.0148,  0.0169,  0.0172,\n",
       "                      -0.0103,  0.0228, -0.0146, -0.0033,  0.0091,  0.0068,  0.0073,  0.0007,\n",
       "                       0.0217,  0.0021,  0.0067, -0.0068,  0.0023, -0.0036,  0.0073, -0.0048,\n",
       "                       0.0051, -0.0043,  0.0032,  0.0095, -0.0108, -0.0141, -0.0116, -0.0114,\n",
       "                      -0.0218, -0.0134, -0.0074,  0.0327,  0.0127, -0.0037,  0.0143, -0.0056,\n",
       "                      -0.0054,  0.0047, -0.0119, -0.0284, -0.0045, -0.0008,  0.0304, -0.0137,\n",
       "                      -0.0069,  0.0043, -0.0186, -0.0136,  0.0008, -0.0117,  0.0064, -0.0079,\n",
       "                      -0.0081, -0.0102,  0.0067,  0.0138,  0.0010,  0.0187, -0.0149, -0.0107],\n",
       "                     device='cuda:0')),\n",
       "             ('pert_decoder.transformer.3.norm2.weight',\n",
       "              tensor([1.0755, 1.0178, 1.1060, 1.1181, 1.0586, 1.0640, 1.0343, 1.0125, 1.0819,\n",
       "                      1.0846, 0.9827, 1.0051, 0.9985, 1.0181, 1.0393, 1.0353, 1.0429, 1.0054,\n",
       "                      1.0256, 1.0145, 1.0553, 0.9796, 1.0028, 1.0238, 1.0149, 1.0271, 1.1232,\n",
       "                      1.0052, 1.0395, 1.0350, 1.0066, 1.0963, 0.9263, 1.0161, 1.0539, 1.0193,\n",
       "                      1.0039, 1.0510, 1.0226, 1.0411, 1.1001, 1.0173, 1.0336, 1.0172, 1.1116,\n",
       "                      1.0213, 1.1692, 1.0670, 1.0456, 1.0281, 1.2721, 1.0919, 1.0534, 1.0714,\n",
       "                      1.0307, 1.0959, 1.0989, 1.0278, 1.0233, 1.0796, 1.0193, 1.0201, 0.9940,\n",
       "                      1.0279, 1.0287, 1.0318, 0.9832, 1.0092, 1.0294, 1.0242, 1.0608, 1.0757,\n",
       "                      1.0576, 1.0501, 1.0425, 1.0280, 0.9968, 1.0137, 1.0191, 1.0368, 1.0026,\n",
       "                      1.1005, 1.0801, 1.0118, 0.9818, 1.0410, 1.0871, 1.0350, 1.1520, 1.0686,\n",
       "                      1.0750, 1.0320, 1.0202, 0.9072, 1.0162, 1.2895], device='cuda:0')),\n",
       "             ('pert_decoder.transformer.3.norm2.bias',\n",
       "              tensor([ 0.0285,  0.0283,  0.0299,  0.0473,  0.0253,  0.0267, -0.0320,  0.0255,\n",
       "                      -0.0337, -0.0285, -0.0207, -0.0241,  0.0142,  0.0283,  0.0271,  0.0291,\n",
       "                       0.0276, -0.0219,  0.0221, -0.0267, -0.0279, -0.0091, -0.0212, -0.0255,\n",
       "                       0.0236,  0.0280, -0.0296, -0.0200,  0.0284,  0.0262,  0.0278, -0.0296,\n",
       "                      -0.0523, -0.0294, -0.0245,  0.0239, -0.0574,  0.0270,  0.0244,  0.0277,\n",
       "                      -0.0353,  0.0244, -0.0266, -0.0260,  0.0279,  0.0310,  0.0319, -0.0421,\n",
       "                       0.0314,  0.0275,  0.0351, -0.0290,  0.0281, -0.0282,  0.0295, -0.0269,\n",
       "                       0.0298, -0.0247,  0.0258,  0.0303, -0.0287, -0.0269,  0.0202, -0.0253,\n",
       "                      -0.0299, -0.0258, -0.0261,  0.0260,  0.0254, -0.0325,  0.0297, -0.0367,\n",
       "                      -0.0292,  0.0269, -0.0268, -0.0294, -0.0645, -0.0409,  0.0291, -0.0263,\n",
       "                      -0.0205,  0.0288, -0.0289, -0.0246,  0.0235, -0.0266,  0.0312, -0.0282,\n",
       "                      -0.0300, -0.0267,  0.0282,  0.0286,  0.0256,  0.0409, -0.0280, -0.0377],\n",
       "                     device='cuda:0')),\n",
       "             ('pert_decoder.head.weight',\n",
       "              tensor([[-1.6616e-01, -5.6054e-02, -1.2689e-01, -4.0389e-02, -1.5944e-01,\n",
       "                       -1.4223e-01,  7.8396e-02, -8.5762e-02,  8.8517e-02,  1.6078e-01,\n",
       "                        7.3493e-03,  7.8761e-02, -2.8678e-02, -5.2729e-02, -8.8877e-02,\n",
       "                       -7.8534e-02, -1.4030e-01,  1.0506e-02, -6.7499e-02,  5.4489e-02,\n",
       "                        1.2309e-01,  3.8678e-03,  4.2629e-02,  1.0348e-01, -9.2269e-02,\n",
       "                       -1.0145e-01,  1.8475e-01,  3.3407e-02, -1.1778e-01, -1.3427e-01,\n",
       "                       -5.7425e-02,  1.5394e-01,  2.3916e-04,  3.4236e-02,  1.2689e-01,\n",
       "                       -6.8223e-02,  4.9671e-03, -1.2583e-01, -8.8609e-02, -1.3966e-01,\n",
       "                        9.6558e-02, -7.5261e-02,  8.0644e-02,  7.9109e-02, -1.7354e-01,\n",
       "                       -6.6159e-02, -2.0428e-01,  5.5903e-02, -7.1352e-02, -8.4999e-02,\n",
       "                       -2.9279e-01,  1.7275e-01, -8.0997e-02,  1.4659e-01, -6.5222e-02,\n",
       "                        1.6293e-01, -1.8044e-01,  1.1309e-01, -9.4359e-02, -1.2464e-01,\n",
       "                        3.5835e-02,  8.2006e-02, -1.8524e-02,  1.2231e-01,  5.9460e-02,\n",
       "                        1.3066e-01,  3.1342e-02, -5.3431e-02, -1.0537e-01,  3.2583e-02,\n",
       "                       -1.1538e-01,  6.6938e-02,  9.5870e-02, -1.2492e-01,  1.1169e-01,\n",
       "                        4.1090e-02,  1.1547e-02,  2.6065e-02, -5.1084e-02,  1.3043e-01,\n",
       "                        3.1707e-02, -1.7321e-01,  1.6945e-01,  7.3214e-02, -3.6765e-02,\n",
       "                        9.6703e-02, -1.2291e-01,  1.0421e-01,  2.2631e-01,  1.6033e-01,\n",
       "                       -1.7027e-01, -7.6444e-02, -8.0131e-02, -2.0648e-03,  4.0377e-02,\n",
       "                        2.7876e-01],\n",
       "                      [ 2.6396e-01,  1.2011e-01,  2.1767e-01,  2.2435e-01,  6.5403e-03,\n",
       "                        1.1902e-01, -1.3680e-01,  5.3716e-02, -1.6411e-01, -1.7634e-01,\n",
       "                       -8.0884e-02, -4.5912e-02, -7.3456e-02,  1.1369e-01,  8.2406e-02,\n",
       "                        2.0504e-01,  1.6677e-01,  5.7130e-02,  9.2741e-02, -8.1025e-02,\n",
       "                       -1.8608e-01,  6.9210e-02, -2.0610e-02, -4.3256e-02, -1.0410e-02,\n",
       "                        1.9336e-01, -2.4543e-01,  2.5030e-02,  8.1599e-02,  1.1236e-01,\n",
       "                       -1.2868e-02, -3.3188e-01, -1.0719e-01, -9.0985e-02, -1.3018e-01,\n",
       "                        7.9552e-02, -5.0219e-02,  4.5867e-02, -1.9788e-03,  2.0775e-01,\n",
       "                       -1.8487e-01, -1.0634e-02, -1.6527e-01, -1.2238e-01,  2.5100e-01,\n",
       "                        7.6830e-02,  2.4611e-01, -8.0628e-02,  1.6383e-01,  8.7471e-02,\n",
       "                        3.9410e-01, -3.1284e-01,  1.6187e-02, -2.1728e-01,  1.3027e-01,\n",
       "                       -2.9765e-01,  2.5407e-01,  2.9064e-03,  4.8342e-02,  2.0802e-01,\n",
       "                       -9.2054e-02, -9.3784e-03, -9.1796e-02, -2.6273e-02, -1.6560e-01,\n",
       "                       -5.7248e-02,  5.7194e-04,  1.0103e-01,  4.0822e-02, -8.1737e-02,\n",
       "                        2.0757e-01, -2.1944e-01, -2.5011e-01,  1.2030e-01,  9.7696e-02,\n",
       "                       -8.3903e-02,  3.6384e-02, -7.2439e-02,  1.3984e-01, -3.1549e-02,\n",
       "                        1.3501e-02,  1.9691e-01, -2.3918e-01, -5.9944e-02,  5.3845e-02,\n",
       "                       -5.6191e-04,  1.0759e-01, -1.5264e-01, -2.9016e-01, -1.4643e-02,\n",
       "                        1.7869e-01,  1.5016e-01,  1.3861e-02,  1.4234e-01, -1.0973e-01,\n",
       "                       -5.6560e-01]], device='cuda:0')),\n",
       "             ('pert_decoder.head.bias',\n",
       "              tensor([-0.0749,  0.1025], device='cuda:0')),\n",
       "             ('pret_decoder.head.weight',\n",
       "              tensor([[-1.6626e-01, -5.6192e-02, -1.2704e-01, -4.0518e-02, -1.5953e-01,\n",
       "                       -1.4210e-01,  7.8260e-02, -8.5894e-02,  8.8630e-02,  1.6088e-01,\n",
       "                        7.4908e-03,  7.8889e-02, -2.8802e-02, -5.2842e-02, -8.8999e-02,\n",
       "                       -7.8415e-02, -1.4041e-01,  1.0382e-02, -6.7591e-02,  5.4611e-02,\n",
       "                        1.2319e-01,  3.7513e-03,  4.2756e-02,  1.0361e-01, -9.2439e-02,\n",
       "                       -1.0157e-01,  1.8489e-01,  3.3546e-02, -1.1788e-01, -1.3437e-01,\n",
       "                       -5.7288e-02,  1.5405e-01,  1.3978e-04,  3.4356e-02,  1.2698e-01,\n",
       "                       -6.8342e-02,  4.8297e-03, -1.2585e-01, -8.8726e-02, -1.3977e-01,\n",
       "                        9.6676e-02, -7.5386e-02,  8.0778e-02,  7.8977e-02, -1.7364e-01,\n",
       "                       -6.6233e-02, -2.0437e-01,  5.5956e-02, -7.1479e-02, -8.5176e-02,\n",
       "                       -2.9288e-01,  1.7278e-01, -8.1159e-02,  1.4669e-01, -6.5340e-02,\n",
       "                        1.6304e-01, -1.8058e-01,  1.1320e-01, -9.4472e-02, -1.2476e-01,\n",
       "                        3.5950e-02,  8.2098e-02, -1.8392e-02,  1.2242e-01,  5.9577e-02,\n",
       "                        1.3078e-01,  3.1178e-02, -5.3550e-02, -1.0547e-01,  3.2698e-02,\n",
       "                       -1.1547e-01,  6.7063e-02,  9.5930e-02, -1.2508e-01,  1.1171e-01,\n",
       "                        4.1208e-02,  1.1645e-02,  2.5925e-02, -5.1209e-02,  1.3056e-01,\n",
       "                        3.1849e-02, -1.7305e-01,  1.6956e-01,  7.3029e-02, -3.6664e-02,\n",
       "                        9.6850e-02, -1.2304e-01,  1.0432e-01,  2.2614e-01,  1.6044e-01,\n",
       "                       -1.7037e-01, -7.6572e-02, -8.0241e-02, -1.8887e-03,  4.0500e-02,\n",
       "                        2.7886e-01],\n",
       "                      [ 0.0000e+00,  0.0000e+00,  0.0000e+00,  0.0000e+00,  0.0000e+00,\n",
       "                        0.0000e+00,  0.0000e+00,  0.0000e+00,  0.0000e+00,  0.0000e+00,\n",
       "                        0.0000e+00,  0.0000e+00,  0.0000e+00,  0.0000e+00,  0.0000e+00,\n",
       "                        0.0000e+00,  0.0000e+00,  0.0000e+00,  0.0000e+00,  0.0000e+00,\n",
       "                        0.0000e+00,  0.0000e+00,  0.0000e+00,  0.0000e+00,  0.0000e+00,\n",
       "                        0.0000e+00,  0.0000e+00,  0.0000e+00,  0.0000e+00,  0.0000e+00,\n",
       "                        0.0000e+00,  0.0000e+00,  0.0000e+00,  0.0000e+00,  0.0000e+00,\n",
       "                        0.0000e+00,  0.0000e+00,  0.0000e+00,  0.0000e+00,  0.0000e+00,\n",
       "                        0.0000e+00,  0.0000e+00,  0.0000e+00,  0.0000e+00,  0.0000e+00,\n",
       "                        0.0000e+00,  0.0000e+00,  0.0000e+00,  0.0000e+00,  0.0000e+00,\n",
       "                        0.0000e+00,  0.0000e+00,  0.0000e+00,  0.0000e+00,  0.0000e+00,\n",
       "                        0.0000e+00,  0.0000e+00,  0.0000e+00,  0.0000e+00,  0.0000e+00,\n",
       "                        0.0000e+00,  0.0000e+00,  0.0000e+00,  0.0000e+00,  0.0000e+00,\n",
       "                        0.0000e+00,  0.0000e+00,  0.0000e+00,  0.0000e+00,  0.0000e+00,\n",
       "                        0.0000e+00,  0.0000e+00,  0.0000e+00,  0.0000e+00,  0.0000e+00,\n",
       "                        0.0000e+00,  0.0000e+00,  0.0000e+00,  0.0000e+00,  0.0000e+00,\n",
       "                        0.0000e+00,  0.0000e+00,  0.0000e+00,  0.0000e+00,  0.0000e+00,\n",
       "                        0.0000e+00,  0.0000e+00,  0.0000e+00,  0.0000e+00,  0.0000e+00,\n",
       "                        0.0000e+00,  0.0000e+00,  0.0000e+00,  0.0000e+00,  0.0000e+00,\n",
       "                        0.0000e+00]], device='cuda:0'))])"
      ]
     },
     "execution_count": 96,
     "metadata": {},
     "output_type": "execute_result"
    }
   ],
   "source": [
    "state_dict"
   ]
  },
  {
   "cell_type": "code",
   "execution_count": 97,
   "metadata": {},
   "outputs": [
    {
     "data": {
      "text/plain": [
       "<All keys matched successfully>"
      ]
     },
     "execution_count": 97,
     "metadata": {},
     "output_type": "execute_result"
    }
   ],
   "source": [
    "state_dict = model.state_dict()\n",
    "z = state_dict['decoder.head.weight']\n",
    "z[1] = torch.zeros_like(z[1])\n",
    "state_dict['decoder.head.weight'] = z\n",
    "state_dict['pert_decoder.head.weight'] = z\n",
    "model.load_state_dict(state_dict)"
   ]
  },
  {
   "cell_type": "code",
   "execution_count": 98,
   "metadata": {},
   "outputs": [],
   "source": [
    "use_sparsity_loss = True\n",
    "use_mask_task = False\n",
    "use_active_weights = True\n",
    "lr_step = 32\n",
    "minibatch_size = 32"
   ]
  },
  {
   "cell_type": "code",
   "execution_count": null,
   "metadata": {},
   "outputs": [
    {
     "name": "stderr",
     "output_type": "stream",
     "text": [
      "loss: 22705.689, tv: 11060.818, ptv: 10993.777:   0%|▎                                                                         | 32/9380 [00:32<2:39:38,  1.02s/it]"
     ]
    },
    {
     "name": "stdout",
     "output_type": "stream",
     "text": [
      "Adjusting learning rate of group 0 to 1.0000e-05.\n"
     ]
    },
    {
     "name": "stderr",
     "output_type": "stream",
     "text": [
      "loss: 20476.381, tv: 10967.484, ptv: 10949.576:   1%|▍                                                                        | 64/9380 [01:38<20:43:20,  8.01s/it]"
     ]
    },
    {
     "name": "stdout",
     "output_type": "stream",
     "text": [
      "Adjusting learning rate of group 0 to 1.5000e-05.\n"
     ]
    },
    {
     "name": "stderr",
     "output_type": "stream",
     "text": [
      "loss: 23596.961, tv: 10605.375, ptv: 10451.895:   1%|▊                                                                         | 96/9380 [02:11<2:39:15,  1.03s/it]"
     ]
    },
    {
     "name": "stdout",
     "output_type": "stream",
     "text": [
      "Adjusting learning rate of group 0 to 2.0000e-05.\n"
     ]
    },
    {
     "name": "stderr",
     "output_type": "stream",
     "text": [
      "loss: 22446.344, tv: 10567.285, ptv: 10372.250:   1%|▉                                                                        | 128/9380 [02:44<2:39:48,  1.04s/it]"
     ]
    },
    {
     "name": "stdout",
     "output_type": "stream",
     "text": [
      "Adjusting learning rate of group 0 to 2.5000e-05.\n"
     ]
    },
    {
     "name": "stderr",
     "output_type": "stream",
     "text": [
      "loss: 21059.869, tv: 10092.801, ptv: 9860.523:   2%|█▎                                                                        | 160/9380 [03:17<2:39:18,  1.04s/it]"
     ]
    },
    {
     "name": "stdout",
     "output_type": "stream",
     "text": [
      "Adjusting learning rate of group 0 to 3.0000e-05.\n"
     ]
    },
    {
     "name": "stderr",
     "output_type": "stream",
     "text": [
      "loss: 19831.254, tv: 9253.679, ptv: 8946.359:   2%|█▌                                                                         | 192/9380 [03:51<2:38:16,  1.03s/it]"
     ]
    },
    {
     "name": "stdout",
     "output_type": "stream",
     "text": [
      "Adjusting learning rate of group 0 to 3.5000e-05.\n"
     ]
    },
    {
     "name": "stderr",
     "output_type": "stream",
     "text": [
      "loss: 16316.276, tv: 8722.711, ptv: 8503.801:   2%|█▊                                                                         | 224/9380 [04:24<2:44:03,  1.08s/it]"
     ]
    },
    {
     "name": "stdout",
     "output_type": "stream",
     "text": [
      "Adjusting learning rate of group 0 to 4.0000e-05.\n"
     ]
    },
    {
     "name": "stderr",
     "output_type": "stream",
     "text": [
      "loss: 13868.331, tv: 7961.674, ptv: 7775.448:   3%|██                                                                         | 256/9380 [04:57<2:38:03,  1.04s/it]"
     ]
    },
    {
     "name": "stdout",
     "output_type": "stream",
     "text": [
      "Adjusting learning rate of group 0 to 4.5000e-05.\n"
     ]
    },
    {
     "name": "stderr",
     "output_type": "stream",
     "text": [
      "loss: 13444.033, tv: 7375.988, ptv: 7181.141:   3%|██▎                                                                        | 288/9380 [05:31<2:37:40,  1.04s/it]"
     ]
    },
    {
     "name": "stdout",
     "output_type": "stream",
     "text": [
      "Adjusting learning rate of group 0 to 4.9960e-05.\n"
     ]
    },
    {
     "name": "stderr",
     "output_type": "stream",
     "text": [
      "loss: 12373.127, tv: 6726.644, ptv: 6564.671:   3%|██▌                                                                        | 320/9380 [06:04<2:37:21,  1.04s/it]"
     ]
    },
    {
     "name": "stdout",
     "output_type": "stream",
     "text": [
      "Adjusting learning rate of group 0 to 4.9951e-05.\n"
     ]
    },
    {
     "name": "stderr",
     "output_type": "stream",
     "text": [
      "loss: 11861.279, tv: 6110.103, ptv: 5961.191:   4%|██▊                                                                        | 352/9380 [06:38<2:37:36,  1.05s/it]"
     ]
    },
    {
     "name": "stdout",
     "output_type": "stream",
     "text": [
      "Adjusting learning rate of group 0 to 4.9940e-05.\n"
     ]
    },
    {
     "name": "stderr",
     "output_type": "stream",
     "text": [
      "loss: 10123.598, tv: 5497.016, ptv: 5386.720:   4%|███                                                                        | 384/9380 [07:11<2:36:08,  1.04s/it]"
     ]
    },
    {
     "name": "stdout",
     "output_type": "stream",
     "text": [
      "Adjusting learning rate of group 0 to 4.9929e-05.\n"
     ]
    },
    {
     "name": "stderr",
     "output_type": "stream",
     "text": [
      "loss: 9804.343, tv: 5186.291, ptv: 5077.881:   4%|███▎                                                                        | 416/9380 [07:44<2:35:13,  1.04s/it]"
     ]
    },
    {
     "name": "stdout",
     "output_type": "stream",
     "text": [
      "Adjusting learning rate of group 0 to 4.9917e-05.\n"
     ]
    },
    {
     "name": "stderr",
     "output_type": "stream",
     "text": [
      "loss: 9115.322, tv: 4807.597, ptv: 4724.462:   5%|███▋                                                                        | 448/9380 [08:18<2:34:43,  1.04s/it]"
     ]
    },
    {
     "name": "stdout",
     "output_type": "stream",
     "text": [
      "Adjusting learning rate of group 0 to 4.9903e-05.\n"
     ]
    },
    {
     "name": "stderr",
     "output_type": "stream",
     "text": [
      "loss: 8767.579, tv: 4481.486, ptv: 4399.934:   5%|███▉                                                                        | 480/9380 [08:51<2:34:21,  1.04s/it]"
     ]
    },
    {
     "name": "stdout",
     "output_type": "stream",
     "text": [
      "Adjusting learning rate of group 0 to 4.9889e-05.\n"
     ]
    },
    {
     "name": "stderr",
     "output_type": "stream",
     "text": [
      "loss: 8292.189, tv: 4256.419, ptv: 4195.623:   5%|████▏                                                                       | 512/9380 [09:25<2:33:48,  1.04s/it]"
     ]
    },
    {
     "name": "stdout",
     "output_type": "stream",
     "text": [
      "Adjusting learning rate of group 0 to 4.9874e-05.\n"
     ]
    },
    {
     "name": "stderr",
     "output_type": "stream",
     "text": [
      "loss: 7979.786, tv: 4054.902, ptv: 3971.074:   6%|████▍                                                                       | 544/9380 [09:58<2:33:07,  1.04s/it]"
     ]
    },
    {
     "name": "stdout",
     "output_type": "stream",
     "text": [
      "Adjusting learning rate of group 0 to 4.9858e-05.\n"
     ]
    },
    {
     "name": "stderr",
     "output_type": "stream",
     "text": [
      "loss: 7048.618, tv: 3850.745, ptv: 3800.843:   6%|████▋                                                                       | 576/9380 [10:31<2:33:55,  1.05s/it]"
     ]
    },
    {
     "name": "stdout",
     "output_type": "stream",
     "text": [
      "Adjusting learning rate of group 0 to 4.9840e-05.\n"
     ]
    },
    {
     "name": "stderr",
     "output_type": "stream",
     "text": [
      "loss: 7313.271, tv: 3683.905, ptv: 3630.049:   6%|████▉                                                                       | 608/9380 [11:05<2:32:10,  1.04s/it]"
     ]
    },
    {
     "name": "stdout",
     "output_type": "stream",
     "text": [
      "Adjusting learning rate of group 0 to 4.9822e-05.\n"
     ]
    },
    {
     "name": "stderr",
     "output_type": "stream",
     "text": [
      "loss: 6923.569, tv: 3525.821, ptv: 3464.713:   7%|█████▏                                                                      | 640/9380 [11:38<2:34:02,  1.06s/it]"
     ]
    },
    {
     "name": "stdout",
     "output_type": "stream",
     "text": [
      "Adjusting learning rate of group 0 to 4.9803e-05.\n"
     ]
    },
    {
     "name": "stderr",
     "output_type": "stream",
     "text": [
      "loss: 6653.969, tv: 3395.484, ptv: 3326.065:   7%|█████▍                                                                      | 672/9380 [12:11<2:31:17,  1.04s/it]"
     ]
    },
    {
     "name": "stdout",
     "output_type": "stream",
     "text": [
      "Adjusting learning rate of group 0 to 4.9783e-05.\n"
     ]
    },
    {
     "name": "stderr",
     "output_type": "stream",
     "text": [
      "loss: 6294.415, tv: 3241.630, ptv: 3193.601:   8%|█████▋                                                                      | 704/9380 [12:45<2:32:30,  1.05s/it]"
     ]
    },
    {
     "name": "stdout",
     "output_type": "stream",
     "text": [
      "Adjusting learning rate of group 0 to 4.9762e-05.\n"
     ]
    },
    {
     "name": "stderr",
     "output_type": "stream",
     "text": [
      "loss: 6155.196, tv: 3170.320, ptv: 3121.007:   8%|█████▉                                                                      | 736/9380 [13:18<2:29:45,  1.04s/it]"
     ]
    },
    {
     "name": "stdout",
     "output_type": "stream",
     "text": [
      "Adjusting learning rate of group 0 to 4.9739e-05.\n"
     ]
    },
    {
     "name": "stderr",
     "output_type": "stream",
     "text": [
      "loss: 6260.606, tv: 3075.350, ptv: 3038.904:   8%|██████▏                                                                     | 768/9380 [13:52<2:29:09,  1.04s/it]"
     ]
    },
    {
     "name": "stdout",
     "output_type": "stream",
     "text": [
      "Adjusting learning rate of group 0 to 4.9716e-05.\n"
     ]
    },
    {
     "name": "stderr",
     "output_type": "stream",
     "text": [
      "loss: 5748.123, tv: 2986.985, ptv: 2953.904:   9%|██████▍                                                                     | 800/9380 [14:25<2:28:35,  1.04s/it]"
     ]
    },
    {
     "name": "stdout",
     "output_type": "stream",
     "text": [
      "Adjusting learning rate of group 0 to 4.9692e-05.\n"
     ]
    },
    {
     "name": "stderr",
     "output_type": "stream",
     "text": [
      "loss: 5814.025, tv: 2914.897, ptv: 2881.678:   9%|██████▋                                                                     | 832/9380 [14:58<2:28:20,  1.04s/it]"
     ]
    },
    {
     "name": "stdout",
     "output_type": "stream",
     "text": [
      "Adjusting learning rate of group 0 to 4.9667e-05.\n"
     ]
    },
    {
     "name": "stderr",
     "output_type": "stream",
     "text": [
      "loss: 5533.040, tv: 2831.702, ptv: 2788.825:   9%|███████                                                                     | 864/9380 [15:32<2:29:51,  1.06s/it]"
     ]
    },
    {
     "name": "stdout",
     "output_type": "stream",
     "text": [
      "Adjusting learning rate of group 0 to 4.9641e-05.\n"
     ]
    },
    {
     "name": "stderr",
     "output_type": "stream",
     "text": [
      "loss: 5220.838, tv: 2767.930, ptv: 2594.782:  10%|███████▎                                                                    | 896/9380 [16:05<2:27:15,  1.04s/it]"
     ]
    },
    {
     "name": "stdout",
     "output_type": "stream",
     "text": [
      "Adjusting learning rate of group 0 to 4.9614e-05.\n"
     ]
    },
    {
     "name": "stderr",
     "output_type": "stream",
     "text": [
      "loss: 5118.818, tv: 2724.621, ptv: 2421.692:  10%|███████▌                                                                    | 928/9380 [16:39<2:26:54,  1.04s/it]"
     ]
    },
    {
     "name": "stdout",
     "output_type": "stream",
     "text": [
      "Adjusting learning rate of group 0 to 4.9586e-05.\n"
     ]
    },
    {
     "name": "stderr",
     "output_type": "stream",
     "text": [
      "loss: 5015.217, tv: 2676.874, ptv: 2309.306:  10%|███████▊                                                                    | 960/9380 [17:12<2:26:08,  1.04s/it]"
     ]
    },
    {
     "name": "stdout",
     "output_type": "stream",
     "text": [
      "Adjusting learning rate of group 0 to 4.9557e-05.\n"
     ]
    },
    {
     "name": "stderr",
     "output_type": "stream",
     "text": [
      "loss: 4834.468, tv: 2629.972, ptv: 2212.042:  11%|████████                                                                    | 992/9380 [17:46<2:30:23,  1.08s/it]"
     ]
    },
    {
     "name": "stdout",
     "output_type": "stream",
     "text": [
      "Adjusting learning rate of group 0 to 4.9527e-05.\n"
     ]
    },
    {
     "name": "stderr",
     "output_type": "stream",
     "text": [
      "loss: 4632.503, tv: 2569.385, ptv: 2133.388:  11%|████████▏                                                                  | 1024/9380 [18:54<2:24:15,  1.04s/it]"
     ]
    },
    {
     "name": "stdout",
     "output_type": "stream",
     "text": [
      "Adjusting learning rate of group 0 to 4.9496e-05.\n"
     ]
    },
    {
     "name": "stderr",
     "output_type": "stream",
     "text": [
      "loss: 4698.324, tv: 2529.458, ptv: 2092.815:  11%|████████▍                                                                  | 1056/9380 [19:27<2:23:39,  1.04s/it]"
     ]
    },
    {
     "name": "stdout",
     "output_type": "stream",
     "text": [
      "Adjusting learning rate of group 0 to 4.9465e-05.\n"
     ]
    },
    {
     "name": "stderr",
     "output_type": "stream",
     "text": [
      "loss: 4538.778, tv: 2490.121, ptv: 2040.302:  12%|████████▋                                                                  | 1088/9380 [20:01<2:23:09,  1.04s/it]"
     ]
    },
    {
     "name": "stdout",
     "output_type": "stream",
     "text": [
      "Adjusting learning rate of group 0 to 4.9432e-05.\n"
     ]
    },
    {
     "name": "stderr",
     "output_type": "stream",
     "text": [
      "loss: 4543.192, tv: 2456.030, ptv: 1987.278:  12%|████████▉                                                                  | 1120/9380 [20:34<2:21:57,  1.03s/it]"
     ]
    },
    {
     "name": "stdout",
     "output_type": "stream",
     "text": [
      "Adjusting learning rate of group 0 to 4.9398e-05.\n"
     ]
    },
    {
     "name": "stderr",
     "output_type": "stream",
     "text": [
      "loss: 4516.061, tv: 2422.986, ptv: 1956.426:  12%|█████████▏                                                                 | 1152/9380 [21:07<2:21:06,  1.03s/it]"
     ]
    },
    {
     "name": "stdout",
     "output_type": "stream",
     "text": [
      "Adjusting learning rate of group 0 to 4.9363e-05.\n"
     ]
    },
    {
     "name": "stderr",
     "output_type": "stream",
     "text": [
      "loss: 4286.167, tv: 2386.980, ptv: 1909.511:  13%|█████████▍                                                                 | 1184/9380 [21:40<2:21:17,  1.03s/it]"
     ]
    },
    {
     "name": "stdout",
     "output_type": "stream",
     "text": [
      "Adjusting learning rate of group 0 to 4.9327e-05.\n"
     ]
    },
    {
     "name": "stderr",
     "output_type": "stream",
     "text": [
      "loss: 4313.421, tv: 2368.235, ptv: 1895.638:  13%|█████████▋                                                                 | 1216/9380 [22:13<2:21:51,  1.04s/it]"
     ]
    },
    {
     "name": "stdout",
     "output_type": "stream",
     "text": [
      "Adjusting learning rate of group 0 to 4.9291e-05.\n"
     ]
    },
    {
     "name": "stderr",
     "output_type": "stream",
     "text": [
      "loss: 4209.105, tv: 2335.957, ptv: 1848.204:  13%|█████████▉                                                                 | 1248/9380 [22:47<2:21:03,  1.04s/it]"
     ]
    },
    {
     "name": "stdout",
     "output_type": "stream",
     "text": [
      "Adjusting learning rate of group 0 to 4.9253e-05.\n"
     ]
    },
    {
     "name": "stderr",
     "output_type": "stream",
     "text": [
      "loss: 4152.893, tv: 2310.217, ptv: 1833.324:  14%|██████████▏                                                                | 1280/9380 [23:20<2:21:41,  1.05s/it]"
     ]
    },
    {
     "name": "stdout",
     "output_type": "stream",
     "text": [
      "Adjusting learning rate of group 0 to 4.9215e-05.\n"
     ]
    },
    {
     "name": "stderr",
     "output_type": "stream",
     "text": [
      "loss: 4111.863, tv: 2294.224, ptv: 1810.205:  14%|██████████▍                                                                | 1312/9380 [23:54<2:21:39,  1.05s/it]"
     ]
    },
    {
     "name": "stdout",
     "output_type": "stream",
     "text": [
      "Adjusting learning rate of group 0 to 4.9175e-05.\n"
     ]
    },
    {
     "name": "stderr",
     "output_type": "stream",
     "text": [
      "loss: 4069.242, tv: 2270.948, ptv: 1769.994:  14%|██████████▋                                                                | 1344/9380 [24:27<2:19:49,  1.04s/it]"
     ]
    },
    {
     "name": "stdout",
     "output_type": "stream",
     "text": [
      "Adjusting learning rate of group 0 to 4.9135e-05.\n"
     ]
    },
    {
     "name": "stderr",
     "output_type": "stream",
     "text": [
      "loss: 3981.601, tv: 2252.803, ptv: 1749.565:  15%|███████████                                                                | 1376/9380 [25:01<2:19:17,  1.04s/it]"
     ]
    },
    {
     "name": "stdout",
     "output_type": "stream",
     "text": [
      "Adjusting learning rate of group 0 to 4.9093e-05.\n"
     ]
    },
    {
     "name": "stderr",
     "output_type": "stream",
     "text": [
      "loss: 4033.484, tv: 2238.212, ptv: 1748.025:  15%|███████████▎                                                               | 1408/9380 [25:34<2:18:55,  1.05s/it]"
     ]
    },
    {
     "name": "stdout",
     "output_type": "stream",
     "text": [
      "Adjusting learning rate of group 0 to 4.9051e-05.\n"
     ]
    },
    {
     "name": "stderr",
     "output_type": "stream",
     "text": [
      "loss: 3960.473, tv: 2215.237, ptv: 1711.099:  15%|███████████▌                                                               | 1440/9380 [26:07<2:17:51,  1.04s/it]"
     ]
    },
    {
     "name": "stdout",
     "output_type": "stream",
     "text": [
      "Adjusting learning rate of group 0 to 4.9007e-05.\n"
     ]
    },
    {
     "name": "stderr",
     "output_type": "stream",
     "text": [
      "loss: 3849.581, tv: 2199.224, ptv: 1687.740:  16%|███████████▊                                                               | 1472/9380 [26:41<2:17:17,  1.04s/it]"
     ]
    },
    {
     "name": "stdout",
     "output_type": "stream",
     "text": [
      "Adjusting learning rate of group 0 to 4.8963e-05.\n"
     ]
    },
    {
     "name": "stderr",
     "output_type": "stream",
     "text": [
      "loss: 3807.416, tv: 2186.444, ptv: 1664.362:  16%|████████████                                                               | 1504/9380 [27:14<2:16:43,  1.04s/it]"
     ]
    },
    {
     "name": "stdout",
     "output_type": "stream",
     "text": [
      "Adjusting learning rate of group 0 to 4.8918e-05.\n"
     ]
    },
    {
     "name": "stderr",
     "output_type": "stream",
     "text": [
      "loss: 3846.844, tv: 2171.716, ptv: 1649.228:  16%|████████████▎                                                              | 1536/9380 [27:48<2:16:29,  1.04s/it]"
     ]
    },
    {
     "name": "stdout",
     "output_type": "stream",
     "text": [
      "Adjusting learning rate of group 0 to 4.8872e-05.\n"
     ]
    },
    {
     "name": "stderr",
     "output_type": "stream",
     "text": [
      "loss: 3761.541, tv: 2157.858, ptv: 1639.476:  17%|████████████▌                                                              | 1568/9380 [28:21<2:15:28,  1.04s/it]"
     ]
    },
    {
     "name": "stdout",
     "output_type": "stream",
     "text": [
      "Adjusting learning rate of group 0 to 4.8824e-05.\n"
     ]
    },
    {
     "name": "stderr",
     "output_type": "stream",
     "text": [
      "loss: 3837.556, tv: 2139.611, ptv: 1626.164:  17%|████████████▊                                                              | 1600/9380 [28:55<2:16:34,  1.05s/it]"
     ]
    },
    {
     "name": "stdout",
     "output_type": "stream",
     "text": [
      "Adjusting learning rate of group 0 to 4.8776e-05.\n"
     ]
    },
    {
     "name": "stderr",
     "output_type": "stream",
     "text": [
      "loss: 3203.339, tv: 1927.664, ptv: 1616.842:  17%|█████████████                                                              | 1632/9380 [29:28<2:14:24,  1.04s/it]"
     ]
    },
    {
     "name": "stdout",
     "output_type": "stream",
     "text": [
      "Adjusting learning rate of group 0 to 4.8727e-05.\n"
     ]
    },
    {
     "name": "stderr",
     "output_type": "stream",
     "text": [
      "loss: 3234.128, tv: 1664.902, ptv: 1590.650:  18%|█████████████▎                                                             | 1664/9380 [30:01<2:14:22,  1.04s/it]"
     ]
    },
    {
     "name": "stdout",
     "output_type": "stream",
     "text": [
      "Adjusting learning rate of group 0 to 4.8677e-05.\n"
     ]
    },
    {
     "name": "stderr",
     "output_type": "stream",
     "text": [
      "loss: 3187.893, tv: 1581.301, ptv: 1580.427:  18%|█████████████▌                                                             | 1696/9380 [30:35<2:13:10,  1.04s/it]"
     ]
    },
    {
     "name": "stdout",
     "output_type": "stream",
     "text": [
      "Adjusting learning rate of group 0 to 4.8627e-05.\n"
     ]
    },
    {
     "name": "stderr",
     "output_type": "stream",
     "text": [
      "loss: 3074.076, tv: 1516.106, ptv: 1558.726:  18%|█████████████▊                                                             | 1728/9380 [31:08<2:12:53,  1.04s/it]"
     ]
    },
    {
     "name": "stdout",
     "output_type": "stream",
     "text": [
      "Adjusting learning rate of group 0 to 4.8575e-05.\n"
     ]
    },
    {
     "name": "stderr",
     "output_type": "stream",
     "text": [
      "loss: 3192.162, tv: 1486.931, ptv: 1547.529:  19%|██████████████                                                             | 1760/9380 [31:42<2:12:26,  1.04s/it]"
     ]
    },
    {
     "name": "stdout",
     "output_type": "stream",
     "text": [
      "Adjusting learning rate of group 0 to 4.8522e-05.\n"
     ]
    },
    {
     "name": "stderr",
     "output_type": "stream",
     "text": [
      "loss: 3003.351, tv: 1432.491, ptv: 1552.766:  19%|██████████████▎                                                            | 1792/9380 [32:15<2:12:02,  1.04s/it]"
     ]
    },
    {
     "name": "stdout",
     "output_type": "stream",
     "text": [
      "Adjusting learning rate of group 0 to 4.8468e-05.\n"
     ]
    },
    {
     "name": "stderr",
     "output_type": "stream",
     "text": [
      "loss: 3049.503, tv: 1453.997, ptv: 1543.518:  19%|██████████████▌                                                            | 1824/9380 [32:49<2:11:09,  1.04s/it]"
     ]
    },
    {
     "name": "stdout",
     "output_type": "stream",
     "text": [
      "Adjusting learning rate of group 0 to 4.8414e-05.\n"
     ]
    },
    {
     "name": "stderr",
     "output_type": "stream",
     "text": [
      "loss: 2919.664, tv: 1399.899, ptv: 1520.214:  20%|██████████████▊                                                            | 1856/9380 [33:22<2:10:56,  1.04s/it]"
     ]
    },
    {
     "name": "stdout",
     "output_type": "stream",
     "text": [
      "Adjusting learning rate of group 0 to 4.8358e-05.\n"
     ]
    },
    {
     "name": "stderr",
     "output_type": "stream",
     "text": [
      "loss: 2874.114, tv: 1403.535, ptv: 1505.948:  20%|███████████████                                                            | 1888/9380 [33:56<2:12:57,  1.06s/it]"
     ]
    },
    {
     "name": "stdout",
     "output_type": "stream",
     "text": [
      "Adjusting learning rate of group 0 to 4.8302e-05.\n"
     ]
    },
    {
     "name": "stderr",
     "output_type": "stream",
     "text": [
      "loss: 3058.116, tv: 1351.114, ptv: 1506.030:  20%|███████████████▎                                                           | 1920/9380 [34:29<2:09:42,  1.04s/it]"
     ]
    },
    {
     "name": "stdout",
     "output_type": "stream",
     "text": [
      "Adjusting learning rate of group 0 to 4.8244e-05.\n"
     ]
    },
    {
     "name": "stderr",
     "output_type": "stream",
     "text": [
      "loss: 2820.987, tv: 1364.542, ptv: 1477.756:  21%|███████████████▌                                                           | 1952/9380 [35:03<2:09:21,  1.04s/it]"
     ]
    },
    {
     "name": "stdout",
     "output_type": "stream",
     "text": [
      "Adjusting learning rate of group 0 to 4.8186e-05.\n"
     ]
    },
    {
     "name": "stderr",
     "output_type": "stream",
     "text": [
      "loss: 2844.965, tv: 1334.215, ptv: 1493.152:  21%|███████████████▊                                                           | 1984/9380 [36:14<2:07:06,  1.03s/it]"
     ]
    },
    {
     "name": "stdout",
     "output_type": "stream",
     "text": [
      "Adjusting learning rate of group 0 to 4.8127e-05.\n"
     ]
    },
    {
     "name": "stderr",
     "output_type": "stream",
     "text": [
      "loss: 2936.215, tv: 1330.321, ptv: 1474.836:  21%|████████████████                                                           | 2016/9380 [36:47<2:11:35,  1.07s/it]"
     ]
    },
    {
     "name": "stdout",
     "output_type": "stream",
     "text": [
      "Adjusting learning rate of group 0 to 4.8067e-05.\n"
     ]
    },
    {
     "name": "stderr",
     "output_type": "stream",
     "text": [
      "loss: 2731.561, tv: 1295.950, ptv: 1458.133:  22%|████████████████▍                                                          | 2048/9380 [37:21<2:07:12,  1.04s/it]"
     ]
    },
    {
     "name": "stdout",
     "output_type": "stream",
     "text": [
      "Adjusting learning rate of group 0 to 4.8006e-05.\n"
     ]
    },
    {
     "name": "stderr",
     "output_type": "stream",
     "text": [
      "loss: 2685.253, tv: 1294.874, ptv: 1455.650:  22%|████████████████▋                                                          | 2080/9380 [37:54<2:06:26,  1.04s/it]"
     ]
    },
    {
     "name": "stdout",
     "output_type": "stream",
     "text": [
      "Adjusting learning rate of group 0 to 4.7944e-05.\n"
     ]
    },
    {
     "name": "stderr",
     "output_type": "stream",
     "text": [
      "loss: 2579.543, tv: 1256.395, ptv: 1443.248:  23%|████████████████▉                                                          | 2112/9380 [38:27<2:05:43,  1.04s/it]"
     ]
    },
    {
     "name": "stdout",
     "output_type": "stream",
     "text": [
      "Adjusting learning rate of group 0 to 4.7881e-05.\n"
     ]
    },
    {
     "name": "stderr",
     "output_type": "stream",
     "text": [
      "loss: 2870.333, tv: 1250.425, ptv: 1440.798:  23%|█████████████████▏                                                         | 2144/9380 [39:01<2:06:22,  1.05s/it]"
     ]
    },
    {
     "name": "stdout",
     "output_type": "stream",
     "text": [
      "Adjusting learning rate of group 0 to 4.7817e-05.\n"
     ]
    },
    {
     "name": "stderr",
     "output_type": "stream",
     "text": [
      "loss: 2590.623, tv: 1237.567, ptv: 1437.304:  23%|█████████████████▍                                                         | 2176/9380 [39:34<2:05:16,  1.04s/it]"
     ]
    },
    {
     "name": "stdout",
     "output_type": "stream",
     "text": [
      "Adjusting learning rate of group 0 to 4.7753e-05.\n"
     ]
    },
    {
     "name": "stderr",
     "output_type": "stream",
     "text": [
      "loss: 2681.281, tv: 1226.657, ptv: 1445.251:  24%|█████████████████▋                                                         | 2208/9380 [40:07<2:03:49,  1.04s/it]"
     ]
    },
    {
     "name": "stdout",
     "output_type": "stream",
     "text": [
      "Adjusting learning rate of group 0 to 4.7687e-05.\n"
     ]
    },
    {
     "name": "stderr",
     "output_type": "stream",
     "text": [
      "loss: 2645.455, tv: 1207.783, ptv: 1427.540:  24%|█████████████████▉                                                         | 2240/9380 [40:41<2:03:41,  1.04s/it]"
     ]
    },
    {
     "name": "stdout",
     "output_type": "stream",
     "text": [
      "Adjusting learning rate of group 0 to 4.7621e-05.\n"
     ]
    },
    {
     "name": "stderr",
     "output_type": "stream",
     "text": [
      "loss: 2732.358, tv: 1176.940, ptv: 1418.882:  24%|██████████████████▏                                                        | 2272/9380 [41:14<2:03:55,  1.05s/it]"
     ]
    },
    {
     "name": "stdout",
     "output_type": "stream",
     "text": [
      "Adjusting learning rate of group 0 to 4.7553e-05.\n"
     ]
    },
    {
     "name": "stderr",
     "output_type": "stream",
     "text": [
      "loss: 2606.286, tv: 1214.789, ptv: 1427.885:  25%|██████████████████▍                                                        | 2304/9380 [41:48<2:03:14,  1.04s/it]"
     ]
    },
    {
     "name": "stdout",
     "output_type": "stream",
     "text": [
      "Adjusting learning rate of group 0 to 4.7485e-05.\n"
     ]
    },
    {
     "name": "stderr",
     "output_type": "stream",
     "text": [
      "loss: 2611.058, tv: 1192.182, ptv: 1407.466:  25%|██████████████████▋                                                        | 2336/9380 [42:21<2:02:31,  1.04s/it]"
     ]
    },
    {
     "name": "stdout",
     "output_type": "stream",
     "text": [
      "Adjusting learning rate of group 0 to 4.7416e-05.\n"
     ]
    },
    {
     "name": "stderr",
     "output_type": "stream",
     "text": [
      "loss: 2597.645, tv: 1196.011, ptv: 1410.740:  25%|██████████████████▉                                                        | 2368/9380 [42:55<2:02:30,  1.05s/it]"
     ]
    },
    {
     "name": "stdout",
     "output_type": "stream",
     "text": [
      "Adjusting learning rate of group 0 to 4.7346e-05.\n"
     ]
    },
    {
     "name": "stderr",
     "output_type": "stream",
     "text": [
      "loss: 2540.556, tv: 1172.584, ptv: 1398.556:  26%|███████████████████▏                                                       | 2400/9380 [43:28<2:00:59,  1.04s/it]"
     ]
    },
    {
     "name": "stdout",
     "output_type": "stream",
     "text": [
      "Adjusting learning rate of group 0 to 4.7275e-05.\n"
     ]
    },
    {
     "name": "stderr",
     "output_type": "stream",
     "text": [
      "loss: 2563.648, tv: 1173.806, ptv: 1384.636:  26%|███████████████████▍                                                       | 2432/9380 [44:01<2:00:39,  1.04s/it]"
     ]
    },
    {
     "name": "stdout",
     "output_type": "stream",
     "text": [
      "Adjusting learning rate of group 0 to 4.7203e-05.\n"
     ]
    },
    {
     "name": "stderr",
     "output_type": "stream",
     "text": [
      "loss: 2641.846, tv: 1174.261, ptv: 1379.863:  26%|███████████████████▋                                                       | 2464/9380 [44:35<2:00:08,  1.04s/it]"
     ]
    },
    {
     "name": "stdout",
     "output_type": "stream",
     "text": [
      "Adjusting learning rate of group 0 to 4.7131e-05.\n"
     ]
    },
    {
     "name": "stderr",
     "output_type": "stream",
     "text": [
      "loss: 2455.824, tv: 1183.082, ptv: 1402.029:  27%|███████████████████▉                                                       | 2496/9380 [45:08<2:00:07,  1.05s/it]"
     ]
    },
    {
     "name": "stdout",
     "output_type": "stream",
     "text": [
      "Adjusting learning rate of group 0 to 4.7057e-05.\n"
     ]
    },
    {
     "name": "stderr",
     "output_type": "stream",
     "text": [
      "loss: 2701.766, tv: 1171.859, ptv: 1384.916:  27%|████████████████████▏                                                      | 2528/9380 [45:41<1:59:33,  1.05s/it]"
     ]
    },
    {
     "name": "stdout",
     "output_type": "stream",
     "text": [
      "Adjusting learning rate of group 0 to 4.6983e-05.\n"
     ]
    },
    {
     "name": "stderr",
     "output_type": "stream",
     "text": [
      "loss: 2511.027, tv: 1150.012, ptv: 1382.519:  27%|████████████████████▍                                                      | 2560/9380 [46:15<1:58:08,  1.04s/it]"
     ]
    },
    {
     "name": "stdout",
     "output_type": "stream",
     "text": [
      "Adjusting learning rate of group 0 to 4.6908e-05.\n"
     ]
    },
    {
     "name": "stderr",
     "output_type": "stream",
     "text": [
      "loss: 2492.691, tv: 1138.417, ptv: 1374.207:  28%|████████████████████▋                                                      | 2592/9380 [46:48<1:57:28,  1.04s/it]"
     ]
    },
    {
     "name": "stdout",
     "output_type": "stream",
     "text": [
      "Adjusting learning rate of group 0 to 4.6832e-05.\n"
     ]
    },
    {
     "name": "stderr",
     "output_type": "stream",
     "text": [
      "loss: 2485.782, tv: 1143.683, ptv: 1363.416:  28%|████████████████████▉                                                      | 2624/9380 [47:22<1:56:53,  1.04s/it]"
     ]
    },
    {
     "name": "stdout",
     "output_type": "stream",
     "text": [
      "Adjusting learning rate of group 0 to 4.6755e-05.\n"
     ]
    },
    {
     "name": "stderr",
     "output_type": "stream",
     "text": [
      "loss: 2412.227, tv: 1135.642, ptv: 1372.656:  28%|█████████████████████▏                                                     | 2656/9380 [47:55<1:58:09,  1.05s/it]"
     ]
    },
    {
     "name": "stdout",
     "output_type": "stream",
     "text": [
      "Adjusting learning rate of group 0 to 4.6677e-05.\n"
     ]
    },
    {
     "name": "stderr",
     "output_type": "stream",
     "text": [
      "loss: 2553.988, tv: 1115.388, ptv: 1360.413:  29%|█████████████████████▍                                                     | 2688/9380 [48:28<1:55:53,  1.04s/it]"
     ]
    },
    {
     "name": "stdout",
     "output_type": "stream",
     "text": [
      "Adjusting learning rate of group 0 to 4.6598e-05.\n"
     ]
    },
    {
     "name": "stderr",
     "output_type": "stream",
     "text": [
      "loss: 2649.469, tv: 1093.002, ptv: 1355.358:  29%|█████████████████████▋                                                     | 2720/9380 [49:02<1:57:19,  1.06s/it]"
     ]
    },
    {
     "name": "stdout",
     "output_type": "stream",
     "text": [
      "Adjusting learning rate of group 0 to 4.6519e-05.\n"
     ]
    },
    {
     "name": "stderr",
     "output_type": "stream",
     "text": [
      "loss: 2526.888, tv: 1105.720, ptv: 1361.459:  29%|██████████████████████                                                     | 2752/9380 [49:35<1:54:53,  1.04s/it]"
     ]
    },
    {
     "name": "stdout",
     "output_type": "stream",
     "text": [
      "Adjusting learning rate of group 0 to 4.6438e-05.\n"
     ]
    },
    {
     "name": "stderr",
     "output_type": "stream",
     "text": [
      "loss: 2483.656, tv: 1089.732, ptv: 1361.558:  30%|██████████████████████▎                                                    | 2784/9380 [50:09<1:54:29,  1.04s/it]"
     ]
    },
    {
     "name": "stdout",
     "output_type": "stream",
     "text": [
      "Adjusting learning rate of group 0 to 4.6357e-05.\n"
     ]
    },
    {
     "name": "stderr",
     "output_type": "stream",
     "text": [
      "loss: 2520.689, tv: 1093.352, ptv: 1344.934:  30%|██████████████████████▌                                                    | 2816/9380 [50:42<1:54:07,  1.04s/it]"
     ]
    },
    {
     "name": "stdout",
     "output_type": "stream",
     "text": [
      "Adjusting learning rate of group 0 to 4.6275e-05.\n"
     ]
    },
    {
     "name": "stderr",
     "output_type": "stream",
     "text": [
      "loss: 2365.051, tv: 1086.883, ptv: 1336.114:  30%|██████████████████████▊                                                    | 2848/9380 [51:15<1:53:31,  1.04s/it]"
     ]
    },
    {
     "name": "stdout",
     "output_type": "stream",
     "text": [
      "Adjusting learning rate of group 0 to 4.6192e-05.\n"
     ]
    },
    {
     "name": "stderr",
     "output_type": "stream",
     "text": [
      "loss: 2582.031, tv: 1096.680, ptv: 1354.341:  31%|███████████████████████                                                    | 2880/9380 [51:49<1:52:48,  1.04s/it]"
     ]
    },
    {
     "name": "stdout",
     "output_type": "stream",
     "text": [
      "Adjusting learning rate of group 0 to 4.6108e-05.\n"
     ]
    },
    {
     "name": "stderr",
     "output_type": "stream",
     "text": [
      "loss: 2471.113, tv: 1090.704, ptv: 1349.376:  31%|███████████████████████▎                                                   | 2912/9380 [52:22<1:52:23,  1.04s/it]"
     ]
    },
    {
     "name": "stdout",
     "output_type": "stream",
     "text": [
      "Adjusting learning rate of group 0 to 4.6024e-05.\n"
     ]
    },
    {
     "name": "stderr",
     "output_type": "stream",
     "text": [
      "loss: 2387.123, tv: 1086.121, ptv: 1345.022:  31%|███████████████████████▌                                                   | 2944/9380 [52:55<1:55:08,  1.07s/it]"
     ]
    },
    {
     "name": "stdout",
     "output_type": "stream",
     "text": [
      "Adjusting learning rate of group 0 to 4.5938e-05.\n"
     ]
    },
    {
     "name": "stderr",
     "output_type": "stream",
     "text": [
      "loss: 2438.386, tv: 1057.876, ptv: 1329.190:  32%|███████████████████████▊                                                   | 2976/9380 [53:29<1:50:32,  1.04s/it]"
     ]
    },
    {
     "name": "stdout",
     "output_type": "stream",
     "text": [
      "Adjusting learning rate of group 0 to 4.5852e-05.\n"
     ]
    },
    {
     "name": "stderr",
     "output_type": "stream",
     "text": [
      "loss: 2494.073, tv: 1063.094, ptv: 1339.859:  32%|████████████████████████                                                   | 3008/9380 [54:42<2:24:49,  1.36s/it]"
     ]
    },
    {
     "name": "stdout",
     "output_type": "stream",
     "text": [
      "Adjusting learning rate of group 0 to 4.5765e-05.\n"
     ]
    },
    {
     "name": "stderr",
     "output_type": "stream",
     "text": [
      "loss: 2419.581, tv: 1092.130, ptv: 1333.613:  32%|████████████████████████▎                                                  | 3040/9380 [55:15<1:49:42,  1.04s/it]"
     ]
    },
    {
     "name": "stdout",
     "output_type": "stream",
     "text": [
      "Adjusting learning rate of group 0 to 4.5677e-05.\n"
     ]
    },
    {
     "name": "stderr",
     "output_type": "stream",
     "text": [
      "loss: 2462.479, tv: 1057.204, ptv: 1335.640:  33%|████████████████████████▌                                                  | 3072/9380 [55:48<1:49:05,  1.04s/it]"
     ]
    },
    {
     "name": "stdout",
     "output_type": "stream",
     "text": [
      "Adjusting learning rate of group 0 to 4.5588e-05.\n"
     ]
    },
    {
     "name": "stderr",
     "output_type": "stream",
     "text": [
      "loss: 2329.583, tv: 1043.423, ptv: 1334.166:  33%|████████████████████████▊                                                  | 3104/9380 [56:22<1:48:41,  1.04s/it]"
     ]
    },
    {
     "name": "stdout",
     "output_type": "stream",
     "text": [
      "Adjusting learning rate of group 0 to 4.5499e-05.\n"
     ]
    },
    {
     "name": "stderr",
     "output_type": "stream",
     "text": [
      "loss: 2365.856, tv: 1053.377, ptv: 1321.474:  33%|█████████████████████████                                                  | 3136/9380 [56:55<1:48:29,  1.04s/it]"
     ]
    },
    {
     "name": "stdout",
     "output_type": "stream",
     "text": [
      "Adjusting learning rate of group 0 to 4.5408e-05.\n"
     ]
    },
    {
     "name": "stderr",
     "output_type": "stream",
     "text": [
      "loss: 2467.903, tv: 1051.786, ptv: 1315.387:  34%|█████████████████████████▎                                                 | 3168/9380 [57:28<1:47:53,  1.04s/it]"
     ]
    },
    {
     "name": "stdout",
     "output_type": "stream",
     "text": [
      "Adjusting learning rate of group 0 to 4.5317e-05.\n"
     ]
    },
    {
     "name": "stderr",
     "output_type": "stream",
     "text": [
      "loss: 2367.088, tv: 1049.381, ptv: 1320.815:  34%|█████████████████████████▌                                                 | 3200/9380 [58:02<1:47:21,  1.04s/it]"
     ]
    },
    {
     "name": "stdout",
     "output_type": "stream",
     "text": [
      "Adjusting learning rate of group 0 to 4.5225e-05.\n"
     ]
    },
    {
     "name": "stderr",
     "output_type": "stream",
     "text": [
      "loss: 2457.869, tv: 1018.637, ptv: 1329.281:  34%|█████████████████████████▊                                                 | 3232/9380 [58:35<1:48:50,  1.06s/it]"
     ]
    },
    {
     "name": "stdout",
     "output_type": "stream",
     "text": [
      "Adjusting learning rate of group 0 to 4.5133e-05.\n"
     ]
    },
    {
     "name": "stderr",
     "output_type": "stream",
     "text": [
      "loss: 2270.557, tv: 1013.348, ptv: 1315.634:  35%|██████████████████████████                                                 | 3264/9380 [59:09<1:46:01,  1.04s/it]"
     ]
    },
    {
     "name": "stdout",
     "output_type": "stream",
     "text": [
      "Adjusting learning rate of group 0 to 4.5039e-05.\n"
     ]
    },
    {
     "name": "stderr",
     "output_type": "stream",
     "text": [
      "loss: 2408.117, tv: 1011.842, ptv: 1304.428:  35%|██████████████████████████▎                                                | 3296/9380 [59:42<1:46:24,  1.05s/it]"
     ]
    },
    {
     "name": "stdout",
     "output_type": "stream",
     "text": [
      "Adjusting learning rate of group 0 to 4.4945e-05.\n"
     ]
    },
    {
     "name": "stderr",
     "output_type": "stream",
     "text": [
      "loss: 2438.939, tv: 1039.656, ptv: 1334.001:  35%|█████████████████████████▉                                               | 3328/9380 [1:00:16<1:46:32,  1.06s/it]"
     ]
    },
    {
     "name": "stdout",
     "output_type": "stream",
     "text": [
      "Adjusting learning rate of group 0 to 4.4850e-05.\n"
     ]
    },
    {
     "name": "stderr",
     "output_type": "stream",
     "text": [
      "loss: 2350.690, tv: 1058.367, ptv: 1323.762:  36%|██████████████████████████▏                                              | 3360/9380 [1:00:49<1:44:41,  1.04s/it]"
     ]
    },
    {
     "name": "stdout",
     "output_type": "stream",
     "text": [
      "Adjusting learning rate of group 0 to 4.4754e-05.\n"
     ]
    },
    {
     "name": "stderr",
     "output_type": "stream",
     "text": [
      "loss: 2276.041, tv: 1012.935, ptv: 1301.867:  36%|██████████████████████████▍                                              | 3392/9380 [1:01:23<1:43:52,  1.04s/it]"
     ]
    },
    {
     "name": "stdout",
     "output_type": "stream",
     "text": [
      "Adjusting learning rate of group 0 to 4.4657e-05.\n"
     ]
    },
    {
     "name": "stderr",
     "output_type": "stream",
     "text": [
      "loss: 2323.983, tv: 995.437, ptv: 1307.254:  37%|███████████████████████████                                               | 3424/9380 [1:01:56<1:43:28,  1.04s/it]"
     ]
    },
    {
     "name": "stdout",
     "output_type": "stream",
     "text": [
      "Adjusting learning rate of group 0 to 4.4560e-05.\n"
     ]
    },
    {
     "name": "stderr",
     "output_type": "stream",
     "text": [
      "loss: 2360.055, tv: 1042.382, ptv: 1327.386:  37%|██████████████████████████▉                                              | 3456/9380 [1:02:30<1:43:17,  1.05s/it]"
     ]
    },
    {
     "name": "stdout",
     "output_type": "stream",
     "text": [
      "Adjusting learning rate of group 0 to 4.4462e-05.\n"
     ]
    },
    {
     "name": "stderr",
     "output_type": "stream",
     "text": [
      "loss: 2304.643, tv: 1038.137, ptv: 1306.571:  37%|███████████████████████████▏                                             | 3488/9380 [1:03:03<1:42:22,  1.04s/it]"
     ]
    },
    {
     "name": "stdout",
     "output_type": "stream",
     "text": [
      "Adjusting learning rate of group 0 to 4.4363e-05.\n"
     ]
    },
    {
     "name": "stderr",
     "output_type": "stream",
     "text": [
      "loss: 2262.832, tv: 1008.476, ptv: 1310.452:  38%|███████████████████████████▍                                             | 3520/9380 [1:03:36<1:42:18,  1.05s/it]"
     ]
    },
    {
     "name": "stdout",
     "output_type": "stream",
     "text": [
      "Adjusting learning rate of group 0 to 4.4263e-05.\n"
     ]
    },
    {
     "name": "stderr",
     "output_type": "stream",
     "text": [
      "loss: 2291.354, tv: 990.582, ptv: 1294.343:  38%|████████████████████████████                                              | 3552/9380 [1:04:10<1:41:22,  1.04s/it]"
     ]
    },
    {
     "name": "stdout",
     "output_type": "stream",
     "text": [
      "Adjusting learning rate of group 0 to 4.4162e-05.\n"
     ]
    },
    {
     "name": "stderr",
     "output_type": "stream",
     "text": [
      "loss: 2440.636, tv: 1005.641, ptv: 1295.998:  38%|███████████████████████████▉                                             | 3584/9380 [1:04:43<1:40:42,  1.04s/it]"
     ]
    },
    {
     "name": "stdout",
     "output_type": "stream",
     "text": [
      "Adjusting learning rate of group 0 to 4.4061e-05.\n"
     ]
    },
    {
     "name": "stderr",
     "output_type": "stream",
     "text": [
      "loss: 2299.499, tv: 1009.055, ptv: 1294.703:  39%|████████████████████████████▏                                            | 3616/9380 [1:05:17<1:40:48,  1.05s/it]"
     ]
    },
    {
     "name": "stdout",
     "output_type": "stream",
     "text": [
      "Adjusting learning rate of group 0 to 4.3959e-05.\n"
     ]
    },
    {
     "name": "stderr",
     "output_type": "stream",
     "text": [
      "loss: 2348.241, tv: 1006.134, ptv: 1298.578:  39%|████████████████████████████▍                                            | 3648/9380 [1:05:50<1:39:20,  1.04s/it]"
     ]
    },
    {
     "name": "stdout",
     "output_type": "stream",
     "text": [
      "Adjusting learning rate of group 0 to 4.3856e-05.\n"
     ]
    },
    {
     "name": "stderr",
     "output_type": "stream",
     "text": [
      "loss: 2315.938, tv: 976.384, ptv: 1300.772:  39%|█████████████████████████████                                             | 3680/9380 [1:06:23<1:38:58,  1.04s/it]"
     ]
    },
    {
     "name": "stdout",
     "output_type": "stream",
     "text": [
      "Adjusting learning rate of group 0 to 4.3753e-05.\n"
     ]
    },
    {
     "name": "stderr",
     "output_type": "stream",
     "text": [
      "loss: 2220.719, tv: 978.272, ptv: 1304.709:  40%|█████████████████████████████▎                                            | 3712/9380 [1:06:57<1:38:10,  1.04s/it]"
     ]
    },
    {
     "name": "stdout",
     "output_type": "stream",
     "text": [
      "Adjusting learning rate of group 0 to 4.3649e-05.\n"
     ]
    },
    {
     "name": "stderr",
     "output_type": "stream",
     "text": [
      "loss: 2279.546, tv: 998.476, ptv: 1283.273:  40%|█████████████████████████████▌                                            | 3744/9380 [1:07:30<1:37:33,  1.04s/it]"
     ]
    },
    {
     "name": "stdout",
     "output_type": "stream",
     "text": [
      "Adjusting learning rate of group 0 to 4.3544e-05.\n"
     ]
    },
    {
     "name": "stderr",
     "output_type": "stream",
     "text": [
      "loss: 2306.583, tv: 986.220, ptv: 1290.739:  40%|█████████████████████████████▊                                            | 3776/9380 [1:08:03<1:37:07,  1.04s/it]"
     ]
    },
    {
     "name": "stdout",
     "output_type": "stream",
     "text": [
      "Adjusting learning rate of group 0 to 4.3438e-05.\n"
     ]
    },
    {
     "name": "stderr",
     "output_type": "stream",
     "text": [
      "loss: 2296.088, tv: 987.770, ptv: 1302.551:  41%|██████████████████████████████                                            | 3808/9380 [1:08:37<1:36:43,  1.04s/it]"
     ]
    },
    {
     "name": "stdout",
     "output_type": "stream",
     "text": [
      "Adjusting learning rate of group 0 to 4.3331e-05.\n"
     ]
    },
    {
     "name": "stderr",
     "output_type": "stream",
     "text": [
      "loss: 2268.510, tv: 978.414, ptv: 1299.203:  41%|██████████████████████████████▎                                           | 3840/9380 [1:09:10<1:36:23,  1.04s/it]"
     ]
    },
    {
     "name": "stdout",
     "output_type": "stream",
     "text": [
      "Adjusting learning rate of group 0 to 4.3224e-05.\n"
     ]
    },
    {
     "name": "stderr",
     "output_type": "stream",
     "text": [
      "loss: 2362.541, tv: 976.920, ptv: 1288.442:  41%|██████████████████████████████▌                                           | 3872/9380 [1:09:44<1:35:19,  1.04s/it]"
     ]
    },
    {
     "name": "stdout",
     "output_type": "stream",
     "text": [
      "Adjusting learning rate of group 0 to 4.3116e-05.\n"
     ]
    },
    {
     "name": "stderr",
     "output_type": "stream",
     "text": [
      "loss: 2304.069, tv: 973.592, ptv: 1289.095:  42%|██████████████████████████████▊                                           | 3904/9380 [1:10:17<1:36:38,  1.06s/it]"
     ]
    },
    {
     "name": "stdout",
     "output_type": "stream",
     "text": [
      "Adjusting learning rate of group 0 to 4.3008e-05.\n"
     ]
    },
    {
     "name": "stderr",
     "output_type": "stream",
     "text": [
      "loss: 2198.546, tv: 961.193, ptv: 1293.112:  42%|███████████████████████████████                                           | 3936/9380 [1:10:50<1:34:24,  1.04s/it]"
     ]
    },
    {
     "name": "stdout",
     "output_type": "stream",
     "text": [
      "Adjusting learning rate of group 0 to 4.2898e-05.\n"
     ]
    },
    {
     "name": "stderr",
     "output_type": "stream",
     "text": [
      "loss: 2348.867, tv: 966.399, ptv: 1289.311:  42%|███████████████████████████████▎                                          | 3968/9380 [1:11:24<1:33:55,  1.04s/it]"
     ]
    },
    {
     "name": "stdout",
     "output_type": "stream",
     "text": [
      "Adjusting learning rate of group 0 to 4.2788e-05.\n"
     ]
    },
    {
     "name": "stderr",
     "output_type": "stream",
     "text": [
      "loss: 2211.473, tv: 972.283, ptv: 1284.225:  43%|███████████████████████████████▌                                          | 4000/9380 [1:11:57<1:33:24,  1.04s/it]"
     ]
    },
    {
     "name": "stdout",
     "output_type": "stream",
     "text": [
      "Adjusting learning rate of group 0 to 4.2678e-05.\n"
     ]
    },
    {
     "name": "stderr",
     "output_type": "stream",
     "text": [
      "loss: 2351.386, tv: 973.934, ptv: 1289.948:  43%|███████████████████████████████▊                                          | 4032/9380 [1:12:30<1:32:44,  1.04s/it]"
     ]
    },
    {
     "name": "stdout",
     "output_type": "stream",
     "text": [
      "Adjusting learning rate of group 0 to 4.2566e-05.\n"
     ]
    },
    {
     "name": "stderr",
     "output_type": "stream",
     "text": [
      "loss: 2402.041, tv: 981.169, ptv: 1287.883:  43%|████████████████████████████████                                          | 4064/9380 [1:13:04<1:32:19,  1.04s/it]"
     ]
    },
    {
     "name": "stdout",
     "output_type": "stream",
     "text": [
      "Adjusting learning rate of group 0 to 4.2454e-05.\n"
     ]
    },
    {
     "name": "stderr",
     "output_type": "stream",
     "text": [
      "loss: 2294.797, tv: 1004.433, ptv: 1288.421:  44%|███████████████████████████████▉                                         | 4096/9380 [1:14:20<1:30:48,  1.03s/it]"
     ]
    },
    {
     "name": "stdout",
     "output_type": "stream",
     "text": [
      "Adjusting learning rate of group 0 to 4.2341e-05.\n"
     ]
    },
    {
     "name": "stderr",
     "output_type": "stream",
     "text": [
      "loss: 2169.887, tv: 975.254, ptv: 1287.320:  44%|████████████████████████████████▌                                         | 4128/9380 [1:14:53<1:30:44,  1.04s/it]"
     ]
    },
    {
     "name": "stdout",
     "output_type": "stream",
     "text": [
      "Adjusting learning rate of group 0 to 4.2228e-05.\n"
     ]
    },
    {
     "name": "stderr",
     "output_type": "stream",
     "text": [
      "loss: 2192.943, tv: 979.304, ptv: 1278.057:  44%|████████████████████████████████▊                                         | 4160/9380 [1:15:26<1:30:18,  1.04s/it]"
     ]
    },
    {
     "name": "stdout",
     "output_type": "stream",
     "text": [
      "Adjusting learning rate of group 0 to 4.2114e-05.\n"
     ]
    },
    {
     "name": "stderr",
     "output_type": "stream",
     "text": [
      "loss: 2220.251, tv: 961.032, ptv: 1294.432:  45%|█████████████████████████████████                                         | 4192/9380 [1:15:59<1:30:00,  1.04s/it]"
     ]
    },
    {
     "name": "stdout",
     "output_type": "stream",
     "text": [
      "Adjusting learning rate of group 0 to 4.1999e-05.\n"
     ]
    },
    {
     "name": "stderr",
     "output_type": "stream",
     "text": [
      "loss: 2248.339, tv: 948.433, ptv: 1281.232:  45%|█████████████████████████████████▎                                        | 4224/9380 [1:16:33<1:30:03,  1.05s/it]"
     ]
    },
    {
     "name": "stdout",
     "output_type": "stream",
     "text": [
      "Adjusting learning rate of group 0 to 4.1883e-05.\n"
     ]
    },
    {
     "name": "stderr",
     "output_type": "stream",
     "text": [
      "loss: 2155.121, tv: 925.452, ptv: 1281.372:  45%|█████████████████████████████████▌                                        | 4256/9380 [1:17:06<1:29:02,  1.04s/it]"
     ]
    },
    {
     "name": "stdout",
     "output_type": "stream",
     "text": [
      "Adjusting learning rate of group 0 to 4.1767e-05.\n"
     ]
    },
    {
     "name": "stderr",
     "output_type": "stream",
     "text": [
      "loss: 2258.903, tv: 922.685, ptv: 1282.826:  46%|█████████████████████████████████▊                                        | 4288/9380 [1:17:39<1:28:35,  1.04s/it]"
     ]
    },
    {
     "name": "stdout",
     "output_type": "stream",
     "text": [
      "Adjusting learning rate of group 0 to 4.1650e-05.\n"
     ]
    },
    {
     "name": "stderr",
     "output_type": "stream",
     "text": [
      "loss: 2119.621, tv: 922.394, ptv: 1277.608:  46%|██████████████████████████████████                                        | 4320/9380 [1:18:13<1:28:06,  1.04s/it]"
     ]
    },
    {
     "name": "stdout",
     "output_type": "stream",
     "text": [
      "Adjusting learning rate of group 0 to 4.1533e-05.\n"
     ]
    },
    {
     "name": "stderr",
     "output_type": "stream",
     "text": [
      "loss: 2341.589, tv: 928.205, ptv: 1288.549:  46%|██████████████████████████████████▎                                       | 4352/9380 [1:18:46<1:26:44,  1.04s/it]"
     ]
    },
    {
     "name": "stdout",
     "output_type": "stream",
     "text": [
      "Adjusting learning rate of group 0 to 4.1415e-05.\n"
     ]
    },
    {
     "name": "stderr",
     "output_type": "stream",
     "text": [
      "loss: 2206.738, tv: 944.253, ptv: 1283.373:  47%|██████████████████████████████████▌                                       | 4384/9380 [1:19:19<1:26:53,  1.04s/it]"
     ]
    },
    {
     "name": "stdout",
     "output_type": "stream",
     "text": [
      "Adjusting learning rate of group 0 to 4.1296e-05.\n"
     ]
    },
    {
     "name": "stderr",
     "output_type": "stream",
     "text": [
      "loss: 2225.786, tv: 928.467, ptv: 1307.870:  47%|██████████████████████████████████▊                                       | 4416/9380 [1:19:53<1:26:29,  1.05s/it]"
     ]
    },
    {
     "name": "stdout",
     "output_type": "stream",
     "text": [
      "Adjusting learning rate of group 0 to 4.1176e-05.\n"
     ]
    },
    {
     "name": "stderr",
     "output_type": "stream",
     "text": [
      "loss: 2247.537, tv: 923.589, ptv: 1269.338:  47%|███████████████████████████████████                                       | 4448/9380 [1:20:27<1:26:07,  1.05s/it]"
     ]
    },
    {
     "name": "stdout",
     "output_type": "stream",
     "text": [
      "Adjusting learning rate of group 0 to 4.1056e-05.\n"
     ]
    },
    {
     "name": "stderr",
     "output_type": "stream",
     "text": [
      "loss: 2263.084, tv: 940.563, ptv: 1291.355:  48%|███████████████████████████████████▎                                      | 4480/9380 [1:21:00<1:27:30,  1.07s/it]"
     ]
    },
    {
     "name": "stdout",
     "output_type": "stream",
     "text": [
      "Adjusting learning rate of group 0 to 4.0936e-05.\n"
     ]
    },
    {
     "name": "stderr",
     "output_type": "stream",
     "text": [
      "loss: 2231.053, tv: 923.125, ptv: 1264.221:  48%|███████████████████████████████████▌                                      | 4512/9380 [1:21:33<1:25:35,  1.06s/it]"
     ]
    },
    {
     "name": "stdout",
     "output_type": "stream",
     "text": [
      "Adjusting learning rate of group 0 to 4.0814e-05.\n"
     ]
    },
    {
     "name": "stderr",
     "output_type": "stream",
     "text": [
      "loss: 2198.744, tv: 912.776, ptv: 1271.706:  48%|███████████████████████████████████▊                                      | 4544/9380 [1:22:07<1:24:00,  1.04s/it]"
     ]
    },
    {
     "name": "stdout",
     "output_type": "stream",
     "text": [
      "Adjusting learning rate of group 0 to 4.0692e-05.\n"
     ]
    },
    {
     "name": "stderr",
     "output_type": "stream",
     "text": [
      "loss: 2223.696, tv: 893.961, ptv: 1269.718:  49%|████████████████████████████████████                                      | 4576/9380 [1:22:40<1:23:32,  1.04s/it]"
     ]
    },
    {
     "name": "stdout",
     "output_type": "stream",
     "text": [
      "Adjusting learning rate of group 0 to 4.0570e-05.\n"
     ]
    },
    {
     "name": "stderr",
     "output_type": "stream",
     "text": [
      "loss: 2189.576, tv: 895.670, ptv: 1272.497:  49%|████████████████████████████████████▎                                     | 4608/9380 [1:23:13<1:22:52,  1.04s/it]"
     ]
    },
    {
     "name": "stdout",
     "output_type": "stream",
     "text": [
      "Adjusting learning rate of group 0 to 4.0446e-05.\n"
     ]
    },
    {
     "name": "stderr",
     "output_type": "stream",
     "text": [
      "loss: 2213.415, tv: 910.112, ptv: 1268.466:  49%|████████████████████████████████████▌                                     | 4640/9380 [1:23:47<1:22:20,  1.04s/it]"
     ]
    },
    {
     "name": "stdout",
     "output_type": "stream",
     "text": [
      "Adjusting learning rate of group 0 to 4.0323e-05.\n"
     ]
    },
    {
     "name": "stderr",
     "output_type": "stream",
     "text": [
      "loss: 2173.835, tv: 904.643, ptv: 1272.618:  50%|████████████████████████████████████▊                                     | 4672/9380 [1:24:20<1:21:41,  1.04s/it]"
     ]
    },
    {
     "name": "stdout",
     "output_type": "stream",
     "text": [
      "Adjusting learning rate of group 0 to 4.0198e-05.\n"
     ]
    },
    {
     "name": "stderr",
     "output_type": "stream",
     "text": [
      "loss: 2158.780, tv: 910.708, ptv: 1270.020:  50%|█████████████████████████████████████                                     | 4704/9380 [1:24:54<1:20:35,  1.03s/it]"
     ]
    },
    {
     "name": "stdout",
     "output_type": "stream",
     "text": [
      "Adjusting learning rate of group 0 to 4.0073e-05.\n"
     ]
    },
    {
     "name": "stderr",
     "output_type": "stream",
     "text": [
      "loss: 2190.794, tv: 919.607, ptv: 1270.363:  50%|█████████████████████████████████████▎                                    | 4736/9380 [1:25:27<1:20:28,  1.04s/it]"
     ]
    },
    {
     "name": "stdout",
     "output_type": "stream",
     "text": [
      "Adjusting learning rate of group 0 to 3.9948e-05.\n"
     ]
    },
    {
     "name": "stderr",
     "output_type": "stream",
     "text": [
      "loss: 2193.973, tv: 899.479, ptv: 1259.417:  51%|█████████████████████████████████████▌                                    | 4768/9380 [1:26:00<1:19:47,  1.04s/it]"
     ]
    },
    {
     "name": "stdout",
     "output_type": "stream",
     "text": [
      "Adjusting learning rate of group 0 to 3.9821e-05.\n"
     ]
    },
    {
     "name": "stderr",
     "output_type": "stream",
     "text": [
      "loss: 2303.059, tv: 897.735, ptv: 1277.161:  51%|█████████████████████████████████████▊                                    | 4800/9380 [1:26:33<1:19:09,  1.04s/it]"
     ]
    },
    {
     "name": "stdout",
     "output_type": "stream",
     "text": [
      "Adjusting learning rate of group 0 to 3.9695e-05.\n"
     ]
    },
    {
     "name": "stderr",
     "output_type": "stream",
     "text": [
      "loss: 2186.606, tv: 889.697, ptv: 1271.961:  52%|██████████████████████████████████████                                    | 4832/9380 [1:27:07<1:19:43,  1.05s/it]"
     ]
    },
    {
     "name": "stdout",
     "output_type": "stream",
     "text": [
      "Adjusting learning rate of group 0 to 3.9567e-05.\n"
     ]
    },
    {
     "name": "stderr",
     "output_type": "stream",
     "text": [
      "loss: 2195.732, tv: 894.158, ptv: 1272.111:  52%|██████████████████████████████████████▎                                   | 4864/9380 [1:27:40<1:18:38,  1.04s/it]"
     ]
    },
    {
     "name": "stdout",
     "output_type": "stream",
     "text": [
      "Adjusting learning rate of group 0 to 3.9439e-05.\n"
     ]
    },
    {
     "name": "stderr",
     "output_type": "stream",
     "text": [
      "loss: 2207.182, tv: 887.745, ptv: 1273.871:  52%|██████████████████████████████████████▋                                   | 4896/9380 [1:28:14<1:17:48,  1.04s/it]"
     ]
    },
    {
     "name": "stdout",
     "output_type": "stream",
     "text": [
      "Adjusting learning rate of group 0 to 3.9311e-05.\n"
     ]
    },
    {
     "name": "stderr",
     "output_type": "stream",
     "text": [
      "loss: 2168.573, tv: 919.023, ptv: 1271.680:  53%|██████████████████████████████████████▉                                   | 4928/9380 [1:28:47<1:17:27,  1.04s/it]"
     ]
    },
    {
     "name": "stdout",
     "output_type": "stream",
     "text": [
      "Adjusting learning rate of group 0 to 3.9182e-05.\n"
     ]
    },
    {
     "name": "stderr",
     "output_type": "stream",
     "text": [
      "loss: 2127.146, tv: 889.911, ptv: 1277.401:  53%|███████████████████████████████████████▏                                  | 4960/9380 [1:29:21<1:16:47,  1.04s/it]"
     ]
    },
    {
     "name": "stdout",
     "output_type": "stream",
     "text": [
      "Adjusting learning rate of group 0 to 3.9052e-05.\n"
     ]
    },
    {
     "name": "stderr",
     "output_type": "stream",
     "text": [
      "loss: 2223.352, tv: 879.214, ptv: 1257.341:  53%|███████████████████████████████████████▍                                  | 4992/9380 [1:29:54<1:16:32,  1.05s/it]"
     ]
    },
    {
     "name": "stdout",
     "output_type": "stream",
     "text": [
      "Adjusting learning rate of group 0 to 3.8922e-05.\n"
     ]
    },
    {
     "name": "stderr",
     "output_type": "stream",
     "text": [
      "loss: 2154.434, tv: 877.351, ptv: 1260.351:  54%|███████████████████████████████████████▋                                  | 5024/9380 [1:30:28<1:15:40,  1.04s/it]"
     ]
    },
    {
     "name": "stdout",
     "output_type": "stream",
     "text": [
      "Adjusting learning rate of group 0 to 3.8791e-05.\n"
     ]
    },
    {
     "name": "stderr",
     "output_type": "stream",
     "text": [
      "loss: 2212.136, tv: 882.199, ptv: 1258.114:  54%|███████████████████████████████████████▉                                  | 5056/9380 [1:31:01<1:15:23,  1.05s/it]"
     ]
    },
    {
     "name": "stdout",
     "output_type": "stream",
     "text": [
      "Adjusting learning rate of group 0 to 3.8660e-05.\n"
     ]
    },
    {
     "name": "stderr",
     "output_type": "stream",
     "text": [
      "loss: 2167.413, tv: 874.444, ptv: 1264.489:  54%|████████████████████████████████████████▏                                 | 5088/9380 [1:31:35<1:14:27,  1.04s/it]"
     ]
    },
    {
     "name": "stdout",
     "output_type": "stream",
     "text": [
      "Adjusting learning rate of group 0 to 3.8528e-05.\n"
     ]
    },
    {
     "name": "stderr",
     "output_type": "stream",
     "text": [
      "loss: 2090.764, tv: 896.127, ptv: 1267.530:  55%|████████████████████████████████████████▍                                 | 5120/9380 [1:32:08<1:15:20,  1.06s/it]"
     ]
    },
    {
     "name": "stdout",
     "output_type": "stream",
     "text": [
      "Adjusting learning rate of group 0 to 3.8396e-05.\n"
     ]
    },
    {
     "name": "stderr",
     "output_type": "stream",
     "text": [
      "loss: 1999.417, tv: 858.003, ptv: 1261.897:  55%|████████████████████████████████████████▋                                 | 5152/9380 [1:32:42<1:13:43,  1.05s/it]"
     ]
    },
    {
     "name": "stdout",
     "output_type": "stream",
     "text": [
      "Adjusting learning rate of group 0 to 3.8263e-05.\n"
     ]
    },
    {
     "name": "stderr",
     "output_type": "stream",
     "text": [
      "loss: 2105.654, tv: 832.583, ptv: 1260.798:  55%|████████████████████████████████████████▉                                 | 5184/9380 [1:33:15<1:13:08,  1.05s/it]"
     ]
    },
    {
     "name": "stdout",
     "output_type": "stream",
     "text": [
      "Adjusting learning rate of group 0 to 3.8129e-05.\n"
     ]
    },
    {
     "name": "stderr",
     "output_type": "stream",
     "text": [
      "loss: 2143.619, tv: 879.764, ptv: 1267.477:  56%|█████████████████████████████████████████▏                                | 5216/9380 [1:33:48<1:12:29,  1.04s/it]"
     ]
    },
    {
     "name": "stdout",
     "output_type": "stream",
     "text": [
      "Adjusting learning rate of group 0 to 3.7995e-05.\n"
     ]
    },
    {
     "name": "stderr",
     "output_type": "stream",
     "text": [
      "loss: 2237.727, tv: 860.445, ptv: 1263.437:  56%|█████████████████████████████████████████▍                                | 5248/9380 [1:35:08<1:26:12,  1.25s/it]"
     ]
    },
    {
     "name": "stdout",
     "output_type": "stream",
     "text": [
      "Adjusting learning rate of group 0 to 3.7861e-05.\n"
     ]
    },
    {
     "name": "stderr",
     "output_type": "stream",
     "text": [
      "loss: 2218.888, tv: 835.440, ptv: 1262.272:  56%|█████████████████████████████████████████▋                                | 5280/9380 [1:35:41<1:10:49,  1.04s/it]"
     ]
    },
    {
     "name": "stdout",
     "output_type": "stream",
     "text": [
      "Adjusting learning rate of group 0 to 3.7726e-05.\n"
     ]
    },
    {
     "name": "stderr",
     "output_type": "stream",
     "text": [
      "loss: 2220.250, tv: 869.242, ptv: 1264.505:  57%|█████████████████████████████████████████▉                                | 5312/9380 [1:36:14<1:10:35,  1.04s/it]"
     ]
    },
    {
     "name": "stdout",
     "output_type": "stream",
     "text": [
      "Adjusting learning rate of group 0 to 3.7591e-05.\n"
     ]
    },
    {
     "name": "stderr",
     "output_type": "stream",
     "text": [
      "loss: 2085.356, tv: 901.410, ptv: 1269.065:  57%|██████████████████████████████████████████▏                               | 5344/9380 [1:36:48<1:10:05,  1.04s/it]"
     ]
    },
    {
     "name": "stdout",
     "output_type": "stream",
     "text": [
      "Adjusting learning rate of group 0 to 3.7455e-05.\n"
     ]
    },
    {
     "name": "stderr",
     "output_type": "stream",
     "text": [
      "loss: 2000.752, tv: 840.894, ptv: 1264.454:  57%|██████████████████████████████████████████▍                               | 5376/9380 [1:37:21<1:09:26,  1.04s/it]"
     ]
    },
    {
     "name": "stdout",
     "output_type": "stream",
     "text": [
      "Adjusting learning rate of group 0 to 3.7318e-05.\n"
     ]
    },
    {
     "name": "stderr",
     "output_type": "stream",
     "text": [
      "loss: 2148.596, tv: 867.913, ptv: 1255.233:  58%|██████████████████████████████████████████▋                               | 5408/9380 [1:37:54<1:09:00,  1.04s/it]"
     ]
    },
    {
     "name": "stdout",
     "output_type": "stream",
     "text": [
      "Adjusting learning rate of group 0 to 3.7181e-05.\n"
     ]
    },
    {
     "name": "stderr",
     "output_type": "stream",
     "text": [
      "loss: 2136.187, tv: 847.695, ptv: 1265.509:  58%|██████████████████████████████████████████▉                               | 5440/9380 [1:38:28<1:08:41,  1.05s/it]"
     ]
    },
    {
     "name": "stdout",
     "output_type": "stream",
     "text": [
      "Adjusting learning rate of group 0 to 3.7044e-05.\n"
     ]
    },
    {
     "name": "stderr",
     "output_type": "stream",
     "text": [
      "loss: 2053.995, tv: 839.359, ptv: 1262.438:  58%|███████████████████████████████████████████▏                              | 5472/9380 [1:39:01<1:07:58,  1.04s/it]"
     ]
    },
    {
     "name": "stdout",
     "output_type": "stream",
     "text": [
      "Adjusting learning rate of group 0 to 3.6906e-05.\n"
     ]
    },
    {
     "name": "stderr",
     "output_type": "stream",
     "text": [
      "loss: 2079.344, tv: 824.412, ptv: 1259.034:  59%|███████████████████████████████████████████▍                              | 5504/9380 [1:39:35<1:07:22,  1.04s/it]"
     ]
    },
    {
     "name": "stdout",
     "output_type": "stream",
     "text": [
      "Adjusting learning rate of group 0 to 3.6768e-05.\n"
     ]
    },
    {
     "name": "stderr",
     "output_type": "stream",
     "text": [
      "loss: 2259.396, tv: 847.588, ptv: 1264.161:  59%|███████████████████████████████████████████▋                              | 5536/9380 [1:40:08<1:07:02,  1.05s/it]"
     ]
    },
    {
     "name": "stdout",
     "output_type": "stream",
     "text": [
      "Adjusting learning rate of group 0 to 3.6629e-05.\n"
     ]
    },
    {
     "name": "stderr",
     "output_type": "stream",
     "text": [
      "loss: 2126.737, tv: 834.291, ptv: 1260.062:  59%|███████████████████████████████████████████▉                              | 5568/9380 [1:40:42<1:06:13,  1.04s/it]"
     ]
    },
    {
     "name": "stdout",
     "output_type": "stream",
     "text": [
      "Adjusting learning rate of group 0 to 3.6489e-05.\n"
     ]
    },
    {
     "name": "stderr",
     "output_type": "stream",
     "text": [
      "loss: 2232.754, tv: 845.978, ptv: 1256.489:  60%|████████████████████████████████████████████▏                             | 5600/9380 [1:41:15<1:06:57,  1.06s/it]"
     ]
    },
    {
     "name": "stdout",
     "output_type": "stream",
     "text": [
      "Adjusting learning rate of group 0 to 3.6350e-05.\n"
     ]
    },
    {
     "name": "stderr",
     "output_type": "stream",
     "text": [
      "loss: 2142.293, tv: 829.062, ptv: 1260.408:  60%|████████████████████████████████████████████▍                             | 5632/9380 [1:41:49<1:05:23,  1.05s/it]"
     ]
    },
    {
     "name": "stdout",
     "output_type": "stream",
     "text": [
      "Adjusting learning rate of group 0 to 3.6210e-05.\n"
     ]
    },
    {
     "name": "stderr",
     "output_type": "stream",
     "text": [
      "loss: 2193.105, tv: 856.388, ptv: 1258.119:  60%|████████████████████████████████████████████▋                             | 5664/9380 [1:42:22<1:04:31,  1.04s/it]"
     ]
    },
    {
     "name": "stdout",
     "output_type": "stream",
     "text": [
      "Adjusting learning rate of group 0 to 3.6069e-05.\n"
     ]
    },
    {
     "name": "stderr",
     "output_type": "stream",
     "text": [
      "loss: 2043.988, tv: 834.788, ptv: 1257.806:  61%|████████████████████████████████████████████▉                             | 5696/9380 [1:42:55<1:03:52,  1.04s/it]"
     ]
    },
    {
     "name": "stdout",
     "output_type": "stream",
     "text": [
      "Adjusting learning rate of group 0 to 3.5928e-05.\n"
     ]
    },
    {
     "name": "stderr",
     "output_type": "stream",
     "text": [
      "loss: 2183.813, tv: 805.818, ptv: 1253.056:  61%|█████████████████████████████████████████████▏                            | 5728/9380 [1:43:29<1:03:26,  1.04s/it]"
     ]
    },
    {
     "name": "stdout",
     "output_type": "stream",
     "text": [
      "Adjusting learning rate of group 0 to 3.5786e-05.\n"
     ]
    },
    {
     "name": "stderr",
     "output_type": "stream",
     "text": [
      "loss: 1941.676, tv: 798.626, ptv: 1245.098:  61%|█████████████████████████████████████████████▍                            | 5760/9380 [1:44:02<1:03:23,  1.05s/it]"
     ]
    },
    {
     "name": "stdout",
     "output_type": "stream",
     "text": [
      "Adjusting learning rate of group 0 to 3.5644e-05.\n"
     ]
    },
    {
     "name": "stderr",
     "output_type": "stream",
     "text": [
      "loss: 2131.765, tv: 806.704, ptv: 1268.337:  62%|█████████████████████████████████████████████▋                            | 5792/9380 [1:44:36<1:02:11,  1.04s/it]"
     ]
    },
    {
     "name": "stdout",
     "output_type": "stream",
     "text": [
      "Adjusting learning rate of group 0 to 3.5502e-05.\n"
     ]
    },
    {
     "name": "stderr",
     "output_type": "stream",
     "text": [
      "loss: 2104.979, tv: 814.481, ptv: 1250.958:  62%|█████████████████████████████████████████████▉                            | 5824/9380 [1:45:09<1:01:56,  1.05s/it]"
     ]
    },
    {
     "name": "stdout",
     "output_type": "stream",
     "text": [
      "Adjusting learning rate of group 0 to 3.5359e-05.\n"
     ]
    },
    {
     "name": "stderr",
     "output_type": "stream",
     "text": [
      "loss: 2125.227, tv: 792.115, ptv: 1261.645:  62%|██████████████████████████████████████████████▏                           | 5856/9380 [1:45:43<1:01:17,  1.04s/it]"
     ]
    },
    {
     "name": "stdout",
     "output_type": "stream",
     "text": [
      "Adjusting learning rate of group 0 to 3.5216e-05.\n"
     ]
    },
    {
     "name": "stderr",
     "output_type": "stream",
     "text": [
      "loss: 2016.546, tv: 773.979, ptv: 1250.742:  63%|██████████████████████████████████████████████▍                           | 5888/9380 [1:46:16<1:01:50,  1.06s/it]"
     ]
    },
    {
     "name": "stdout",
     "output_type": "stream",
     "text": [
      "Adjusting learning rate of group 0 to 3.5073e-05.\n"
     ]
    },
    {
     "name": "stderr",
     "output_type": "stream",
     "text": [
      "loss: 2151.324, tv: 788.492, ptv: 1255.084:  63%|██████████████████████████████████████████████▋                           | 5920/9380 [1:46:49<1:00:06,  1.04s/it]"
     ]
    },
    {
     "name": "stdout",
     "output_type": "stream",
     "text": [
      "Adjusting learning rate of group 0 to 3.4929e-05.\n"
     ]
    },
    {
     "name": "stderr",
     "output_type": "stream",
     "text": [
      "loss: 2184.323, tv: 791.256, ptv: 1256.518:  63%|████████████████████████████████████████████████▏                           | 5952/9380 [1:47:23<59:41,  1.04s/it]"
     ]
    },
    {
     "name": "stdout",
     "output_type": "stream",
     "text": [
      "Adjusting learning rate of group 0 to 3.4784e-05.\n"
     ]
    },
    {
     "name": "stderr",
     "output_type": "stream",
     "text": [
      "loss: 2051.789, tv: 775.716, ptv: 1248.481:  64%|████████████████████████████████████████████████▍                           | 5984/9380 [1:47:56<58:49,  1.04s/it]"
     ]
    },
    {
     "name": "stdout",
     "output_type": "stream",
     "text": [
      "Adjusting learning rate of group 0 to 3.4640e-05.\n"
     ]
    },
    {
     "name": "stderr",
     "output_type": "stream",
     "text": [
      "loss: 2013.462, tv: 790.425, ptv: 1253.716:  64%|████████████████████████████████████████████████▋                           | 6016/9380 [1:48:30<58:13,  1.04s/it]"
     ]
    },
    {
     "name": "stdout",
     "output_type": "stream",
     "text": [
      "Adjusting learning rate of group 0 to 3.4494e-05.\n"
     ]
    },
    {
     "name": "stderr",
     "output_type": "stream",
     "text": [
      "loss: 2048.561, tv: 798.468, ptv: 1248.742:  64%|█████████████████████████████████████████████████                           | 6048/9380 [1:49:03<57:37,  1.04s/it]"
     ]
    },
    {
     "name": "stdout",
     "output_type": "stream",
     "text": [
      "Adjusting learning rate of group 0 to 3.4349e-05.\n"
     ]
    },
    {
     "name": "stderr",
     "output_type": "stream",
     "text": [
      "loss: 1963.493, tv: 801.460, ptv: 1250.553:  65%|█████████████████████████████████████████████████▎                          | 6080/9380 [1:49:36<57:23,  1.04s/it]"
     ]
    },
    {
     "name": "stdout",
     "output_type": "stream",
     "text": [
      "Adjusting learning rate of group 0 to 3.4203e-05.\n"
     ]
    },
    {
     "name": "stderr",
     "output_type": "stream",
     "text": [
      "loss: 2000.577, tv: 786.321, ptv: 1257.610:  65%|█████████████████████████████████████████████████▌                          | 6112/9380 [1:50:10<56:59,  1.05s/it]"
     ]
    },
    {
     "name": "stdout",
     "output_type": "stream",
     "text": [
      "Adjusting learning rate of group 0 to 3.4057e-05.\n"
     ]
    },
    {
     "name": "stderr",
     "output_type": "stream",
     "text": [
      "loss: 2044.743, tv: 767.663, ptv: 1251.161:  66%|█████████████████████████████████████████████████▊                          | 6144/9380 [1:50:43<56:13,  1.04s/it]"
     ]
    },
    {
     "name": "stdout",
     "output_type": "stream",
     "text": [
      "Adjusting learning rate of group 0 to 3.3910e-05.\n"
     ]
    },
    {
     "name": "stderr",
     "output_type": "stream",
     "text": [
      "loss: 2026.828, tv: 766.089, ptv: 1251.868:  66%|██████████████████████████████████████████████████                          | 6176/9380 [1:51:17<55:27,  1.04s/it]"
     ]
    },
    {
     "name": "stdout",
     "output_type": "stream",
     "text": [
      "Adjusting learning rate of group 0 to 3.3763e-05.\n"
     ]
    },
    {
     "name": "stderr",
     "output_type": "stream",
     "text": [
      "loss: 2020.594, tv: 783.980, ptv: 1251.112:  66%|██████████████████████████████████████████████████▎                         | 6208/9380 [1:51:50<55:17,  1.05s/it]"
     ]
    },
    {
     "name": "stdout",
     "output_type": "stream",
     "text": [
      "Adjusting learning rate of group 0 to 3.3616e-05.\n"
     ]
    },
    {
     "name": "stderr",
     "output_type": "stream",
     "text": [
      "loss: 2097.247, tv: 839.633, ptv: 1264.946:  67%|██████████████████████████████████████████████████▌                         | 6240/9380 [1:52:24<54:47,  1.05s/it]"
     ]
    },
    {
     "name": "stdout",
     "output_type": "stream",
     "text": [
      "Adjusting learning rate of group 0 to 3.3468e-05.\n"
     ]
    },
    {
     "name": "stderr",
     "output_type": "stream",
     "text": [
      "loss: 2110.498, tv: 808.254, ptv: 1245.252:  67%|██████████████████████████████████████████████████▊                         | 6272/9380 [1:52:57<54:03,  1.04s/it]"
     ]
    },
    {
     "name": "stdout",
     "output_type": "stream",
     "text": [
      "Adjusting learning rate of group 0 to 3.3320e-05.\n"
     ]
    },
    {
     "name": "stderr",
     "output_type": "stream",
     "text": [
      "loss: 2095.094, tv: 815.985, ptv: 1250.387:  67%|███████████████████████████████████████████████████                         | 6304/9380 [1:53:30<53:27,  1.04s/it]"
     ]
    },
    {
     "name": "stdout",
     "output_type": "stream",
     "text": [
      "Adjusting learning rate of group 0 to 3.3172e-05.\n"
     ]
    },
    {
     "name": "stderr",
     "output_type": "stream",
     "text": [
      "loss: 1990.194, tv: 789.531, ptv: 1258.796:  68%|███████████████████████████████████████████████████▎                        | 6336/9380 [1:54:04<52:55,  1.04s/it]"
     ]
    },
    {
     "name": "stdout",
     "output_type": "stream",
     "text": [
      "Adjusting learning rate of group 0 to 3.3024e-05.\n"
     ]
    },
    {
     "name": "stderr",
     "output_type": "stream",
     "text": [
      "loss: 2041.924, tv: 778.846, ptv: 1256.439:  68%|███████████████████████████████████████████████████▌                        | 6368/9380 [1:54:37<52:11,  1.04s/it]"
     ]
    },
    {
     "name": "stdout",
     "output_type": "stream",
     "text": [
      "Adjusting learning rate of group 0 to 3.2875e-05.\n"
     ]
    },
    {
     "name": "stderr",
     "output_type": "stream",
     "text": [
      "loss: 2166.871, tv: 761.159, ptv: 1256.386:  68%|███████████████████████████████████████████████████▊                        | 6400/9380 [1:55:11<52:06,  1.05s/it]"
     ]
    },
    {
     "name": "stdout",
     "output_type": "stream",
     "text": [
      "Adjusting learning rate of group 0 to 3.2725e-05.\n"
     ]
    },
    {
     "name": "stderr",
     "output_type": "stream",
     "text": [
      "loss: 2024.140, tv: 762.491, ptv: 1249.012:  69%|████████████████████████████████████████████████████                        | 6432/9380 [1:55:44<51:13,  1.04s/it]"
     ]
    },
    {
     "name": "stdout",
     "output_type": "stream",
     "text": [
      "Adjusting learning rate of group 0 to 3.2576e-05.\n"
     ]
    },
    {
     "name": "stderr",
     "output_type": "stream",
     "text": [
      "loss: 1995.186, tv: 758.638, ptv: 1255.993:  69%|████████████████████████████████████████████████████▎                       | 6464/9380 [1:57:06<49:46,  1.02s/it]"
     ]
    },
    {
     "name": "stdout",
     "output_type": "stream",
     "text": [
      "Adjusting learning rate of group 0 to 3.2426e-05.\n"
     ]
    },
    {
     "name": "stderr",
     "output_type": "stream",
     "text": [
      "loss: 2056.577, tv: 742.689, ptv: 1247.681:  69%|████████████████████████████████████████████████████▋                       | 6496/9380 [1:57:39<49:29,  1.03s/it]"
     ]
    },
    {
     "name": "stdout",
     "output_type": "stream",
     "text": [
      "Adjusting learning rate of group 0 to 3.2276e-05.\n"
     ]
    },
    {
     "name": "stderr",
     "output_type": "stream",
     "text": [
      "loss: 2112.400, tv: 806.114, ptv: 1248.159:  70%|████████████████████████████████████████████████████▉                       | 6528/9380 [1:58:12<49:11,  1.03s/it]"
     ]
    },
    {
     "name": "stdout",
     "output_type": "stream",
     "text": [
      "Adjusting learning rate of group 0 to 3.2125e-05.\n"
     ]
    },
    {
     "name": "stderr",
     "output_type": "stream",
     "text": [
      "loss: 1924.829, tv: 758.784, ptv: 1251.369:  70%|█████████████████████████████████████████████████████▏                      | 6560/9380 [1:58:45<48:46,  1.04s/it]"
     ]
    },
    {
     "name": "stdout",
     "output_type": "stream",
     "text": [
      "Adjusting learning rate of group 0 to 3.1975e-05.\n"
     ]
    },
    {
     "name": "stderr",
     "output_type": "stream",
     "text": [
      "loss: 1874.282, tv: 749.630, ptv: 1255.098:  70%|█████████████████████████████████████████████████████▍                      | 6592/9380 [1:59:18<48:23,  1.04s/it]"
     ]
    },
    {
     "name": "stdout",
     "output_type": "stream",
     "text": [
      "Adjusting learning rate of group 0 to 3.1824e-05.\n"
     ]
    },
    {
     "name": "stderr",
     "output_type": "stream",
     "text": [
      "loss: 2003.167, tv: 729.620, ptv: 1237.441:  71%|█████████████████████████████████████████████████████▋                      | 6624/9380 [1:59:52<47:50,  1.04s/it]"
     ]
    },
    {
     "name": "stdout",
     "output_type": "stream",
     "text": [
      "Adjusting learning rate of group 0 to 3.1673e-05.\n"
     ]
    },
    {
     "name": "stderr",
     "output_type": "stream",
     "text": [
      "loss: 1925.681, tv: 732.954, ptv: 1245.705:  71%|█████████████████████████████████████████████████████▉                      | 6656/9380 [2:00:25<47:23,  1.04s/it]"
     ]
    },
    {
     "name": "stdout",
     "output_type": "stream",
     "text": [
      "Adjusting learning rate of group 0 to 3.1521e-05.\n"
     ]
    },
    {
     "name": "stderr",
     "output_type": "stream",
     "text": [
      "loss: 1930.331, tv: 735.556, ptv: 1249.443:  71%|██████████████████████████████████████████████████████▏                     | 6688/9380 [2:00:58<46:50,  1.04s/it]"
     ]
    },
    {
     "name": "stdout",
     "output_type": "stream",
     "text": [
      "Adjusting learning rate of group 0 to 3.1369e-05.\n"
     ]
    },
    {
     "name": "stderr",
     "output_type": "stream",
     "text": [
      "loss: 2008.987, tv: 732.371, ptv: 1261.626:  72%|██████████████████████████████████████████████████████▍                     | 6720/9380 [2:01:32<46:06,  1.04s/it]"
     ]
    },
    {
     "name": "stdout",
     "output_type": "stream",
     "text": [
      "Adjusting learning rate of group 0 to 3.1217e-05.\n"
     ]
    },
    {
     "name": "stderr",
     "output_type": "stream",
     "text": [
      "loss: 1936.622, tv: 733.937, ptv: 1244.345:  72%|██████████████████████████████████████████████████████▋                     | 6752/9380 [2:02:05<45:42,  1.04s/it]"
     ]
    },
    {
     "name": "stdout",
     "output_type": "stream",
     "text": [
      "Adjusting learning rate of group 0 to 3.1065e-05.\n"
     ]
    },
    {
     "name": "stderr",
     "output_type": "stream",
     "text": [
      "loss: 2013.444, tv: 718.182, ptv: 1240.680:  72%|██████████████████████████████████████████████████████▉                     | 6784/9380 [2:02:39<45:14,  1.05s/it]"
     ]
    },
    {
     "name": "stdout",
     "output_type": "stream",
     "text": [
      "Adjusting learning rate of group 0 to 3.0912e-05.\n"
     ]
    },
    {
     "name": "stderr",
     "output_type": "stream",
     "text": [
      "loss: 1961.388, tv: 746.473, ptv: 1261.537:  73%|███████████████████████████████████████████████████████▏                    | 6816/9380 [2:03:12<44:31,  1.04s/it]"
     ]
    },
    {
     "name": "stdout",
     "output_type": "stream",
     "text": [
      "Adjusting learning rate of group 0 to 3.0760e-05.\n"
     ]
    },
    {
     "name": "stderr",
     "output_type": "stream",
     "text": [
      "loss: 2043.414, tv: 735.268, ptv: 1246.035:  73%|███████████████████████████████████████████████████████▍                    | 6848/9380 [2:03:46<44:02,  1.04s/it]"
     ]
    },
    {
     "name": "stdout",
     "output_type": "stream",
     "text": [
      "Adjusting learning rate of group 0 to 3.0607e-05.\n"
     ]
    },
    {
     "name": "stderr",
     "output_type": "stream",
     "text": [
      "loss: 2082.840, tv: 712.950, ptv: 1248.530:  73%|███████████████████████████████████████████████████████▋                    | 6880/9380 [2:04:19<43:34,  1.05s/it]"
     ]
    },
    {
     "name": "stdout",
     "output_type": "stream",
     "text": [
      "Adjusting learning rate of group 0 to 3.0454e-05.\n"
     ]
    },
    {
     "name": "stderr",
     "output_type": "stream",
     "text": [
      "loss: 2000.588, tv: 730.620, ptv: 1251.822:  74%|████████████████████████████████████████████████████████                    | 6912/9380 [2:04:52<43:05,  1.05s/it]"
     ]
    },
    {
     "name": "stdout",
     "output_type": "stream",
     "text": [
      "Adjusting learning rate of group 0 to 3.0300e-05.\n"
     ]
    },
    {
     "name": "stderr",
     "output_type": "stream",
     "text": [
      "loss: 2124.550, tv: 706.315, ptv: 1254.978:  74%|████████████████████████████████████████████████████████▎                   | 6944/9380 [2:05:26<42:24,  1.04s/it]"
     ]
    },
    {
     "name": "stdout",
     "output_type": "stream",
     "text": [
      "Adjusting learning rate of group 0 to 3.0147e-05.\n"
     ]
    },
    {
     "name": "stderr",
     "output_type": "stream",
     "text": [
      "loss: 2127.104, tv: 725.446, ptv: 1252.054:  74%|████████████████████████████████████████████████████████▌                   | 6976/9380 [2:05:59<41:56,  1.05s/it]"
     ]
    },
    {
     "name": "stdout",
     "output_type": "stream",
     "text": [
      "Adjusting learning rate of group 0 to 2.9993e-05.\n"
     ]
    },
    {
     "name": "stderr",
     "output_type": "stream",
     "text": [
      "loss: 1992.905, tv: 712.545, ptv: 1238.646:  75%|████████████████████████████████████████████████████████▊                   | 7008/9380 [2:06:33<41:08,  1.04s/it]"
     ]
    },
    {
     "name": "stdout",
     "output_type": "stream",
     "text": [
      "Adjusting learning rate of group 0 to 2.9839e-05.\n"
     ]
    },
    {
     "name": "stderr",
     "output_type": "stream",
     "text": [
      "loss: 2014.024, tv: 736.600, ptv: 1242.893:  75%|█████████████████████████████████████████████████████████                   | 7040/9380 [2:07:06<40:41,  1.04s/it]"
     ]
    },
    {
     "name": "stdout",
     "output_type": "stream",
     "text": [
      "Adjusting learning rate of group 0 to 2.9685e-05.\n"
     ]
    },
    {
     "name": "stderr",
     "output_type": "stream",
     "text": [
      "loss: 2043.490, tv: 708.113, ptv: 1245.676:  75%|█████████████████████████████████████████████████████████▎                  | 7072/9380 [2:07:40<40:03,  1.04s/it]"
     ]
    },
    {
     "name": "stdout",
     "output_type": "stream",
     "text": [
      "Adjusting learning rate of group 0 to 2.9530e-05.\n"
     ]
    },
    {
     "name": "stderr",
     "output_type": "stream",
     "text": [
      "loss: 1948.918, tv: 692.409, ptv: 1237.885:  76%|█████████████████████████████████████████████████████████▌                  | 7104/9380 [2:08:13<39:31,  1.04s/it]"
     ]
    },
    {
     "name": "stdout",
     "output_type": "stream",
     "text": [
      "Adjusting learning rate of group 0 to 2.9376e-05.\n"
     ]
    },
    {
     "name": "stderr",
     "output_type": "stream",
     "text": [
      "loss: 1985.286, tv: 691.409, ptv: 1248.666:  76%|█████████████████████████████████████████████████████████▊                  | 7136/9380 [2:08:46<38:59,  1.04s/it]"
     ]
    },
    {
     "name": "stdout",
     "output_type": "stream",
     "text": [
      "Adjusting learning rate of group 0 to 2.9221e-05.\n"
     ]
    },
    {
     "name": "stderr",
     "output_type": "stream",
     "text": [
      "loss: 1952.679, tv: 687.475, ptv: 1237.251:  76%|██████████████████████████████████████████████████████████                  | 7168/9380 [2:09:20<38:24,  1.04s/it]"
     ]
    },
    {
     "name": "stdout",
     "output_type": "stream",
     "text": [
      "Adjusting learning rate of group 0 to 2.9066e-05.\n"
     ]
    },
    {
     "name": "stderr",
     "output_type": "stream",
     "text": [
      "loss: 1976.302, tv: 692.830, ptv: 1235.656:  77%|██████████████████████████████████████████████████████████▎                 | 7200/9380 [2:09:53<37:44,  1.04s/it]"
     ]
    },
    {
     "name": "stdout",
     "output_type": "stream",
     "text": [
      "Adjusting learning rate of group 0 to 2.8911e-05.\n"
     ]
    },
    {
     "name": "stderr",
     "output_type": "stream",
     "text": [
      "loss: 1930.876, tv: 697.607, ptv: 1247.171:  77%|██████████████████████████████████████████████████████████▌                 | 7232/9380 [2:10:26<37:19,  1.04s/it]"
     ]
    },
    {
     "name": "stdout",
     "output_type": "stream",
     "text": [
      "Adjusting learning rate of group 0 to 2.8756e-05.\n"
     ]
    },
    {
     "name": "stderr",
     "output_type": "stream",
     "text": [
      "loss: 1872.836, tv: 695.186, ptv: 1244.594:  77%|██████████████████████████████████████████████████████████▊                 | 7264/9380 [2:10:59<36:26,  1.03s/it]"
     ]
    },
    {
     "name": "stdout",
     "output_type": "stream",
     "text": [
      "Adjusting learning rate of group 0 to 2.8600e-05.\n"
     ]
    },
    {
     "name": "stderr",
     "output_type": "stream",
     "text": [
      "loss: 1930.778, tv: 696.007, ptv: 1246.205:  78%|███████████████████████████████████████████████████████████                 | 7296/9380 [2:11:33<35:58,  1.04s/it]"
     ]
    },
    {
     "name": "stdout",
     "output_type": "stream",
     "text": [
      "Adjusting learning rate of group 0 to 2.8445e-05.\n"
     ]
    },
    {
     "name": "stderr",
     "output_type": "stream",
     "text": [
      "loss: 2039.461, tv: 691.459, ptv: 1239.465:  78%|███████████████████████████████████████████████████████████▎                | 7328/9380 [2:12:06<35:32,  1.04s/it]"
     ]
    },
    {
     "name": "stdout",
     "output_type": "stream",
     "text": [
      "Adjusting learning rate of group 0 to 2.8289e-05.\n"
     ]
    },
    {
     "name": "stderr",
     "output_type": "stream",
     "text": [
      "loss: 1913.768, tv: 691.598, ptv: 1253.878:  78%|███████████████████████████████████████████████████████████▋                | 7360/9380 [2:12:39<34:52,  1.04s/it]"
     ]
    },
    {
     "name": "stdout",
     "output_type": "stream",
     "text": [
      "Adjusting learning rate of group 0 to 2.8133e-05.\n"
     ]
    },
    {
     "name": "stderr",
     "output_type": "stream",
     "text": [
      "loss: 1928.906, tv: 694.572, ptv: 1256.133:  79%|███████████████████████████████████████████████████████████▉                | 7392/9380 [2:13:12<34:15,  1.03s/it]"
     ]
    },
    {
     "name": "stdout",
     "output_type": "stream",
     "text": [
      "Adjusting learning rate of group 0 to 2.7977e-05.\n"
     ]
    },
    {
     "name": "stderr",
     "output_type": "stream",
     "text": [
      "loss: 1963.754, tv: 693.591, ptv: 1239.120:  79%|████████████████████████████████████████████████████████████▏               | 7424/9380 [2:13:45<33:44,  1.03s/it]"
     ]
    },
    {
     "name": "stdout",
     "output_type": "stream",
     "text": [
      "Adjusting learning rate of group 0 to 2.7821e-05.\n"
     ]
    },
    {
     "name": "stderr",
     "output_type": "stream",
     "text": [
      "loss: 2031.838, tv: 678.139, ptv: 1241.674:  79%|████████████████████████████████████████████████████████████▍               | 7456/9380 [2:14:19<33:16,  1.04s/it]"
     ]
    },
    {
     "name": "stdout",
     "output_type": "stream",
     "text": [
      "Adjusting learning rate of group 0 to 2.7665e-05.\n"
     ]
    },
    {
     "name": "stderr",
     "output_type": "stream",
     "text": [
      "loss: 1908.594, tv: 663.088, ptv: 1234.065:  80%|████████████████████████████████████████████████████████████▋               | 7488/9380 [2:14:52<33:02,  1.05s/it]"
     ]
    },
    {
     "name": "stdout",
     "output_type": "stream",
     "text": [
      "Adjusting learning rate of group 0 to 2.7509e-05.\n"
     ]
    },
    {
     "name": "stderr",
     "output_type": "stream",
     "text": [
      "loss: 1845.103, tv: 656.370, ptv: 1240.287:  80%|████████████████████████████████████████████████████████████▉               | 7520/9380 [2:15:25<32:17,  1.04s/it]"
     ]
    },
    {
     "name": "stdout",
     "output_type": "stream",
     "text": [
      "Adjusting learning rate of group 0 to 2.7353e-05.\n"
     ]
    },
    {
     "name": "stderr",
     "output_type": "stream",
     "text": [
      "loss: 2007.859, tv: 677.647, ptv: 1244.571:  81%|█████████████████████████████████████████████████████████████▏              | 7552/9380 [2:15:59<31:38,  1.04s/it]"
     ]
    },
    {
     "name": "stdout",
     "output_type": "stream",
     "text": [
      "Adjusting learning rate of group 0 to 2.7196e-05.\n"
     ]
    },
    {
     "name": "stderr",
     "output_type": "stream",
     "text": [
      "loss: 2067.733, tv: 648.263, ptv: 1251.062:  81%|█████████████████████████████████████████████████████████████▍              | 7584/9380 [2:16:32<31:18,  1.05s/it]"
     ]
    },
    {
     "name": "stdout",
     "output_type": "stream",
     "text": [
      "Adjusting learning rate of group 0 to 2.7040e-05.\n"
     ]
    },
    {
     "name": "stderr",
     "output_type": "stream",
     "text": [
      "loss: 1778.889, tv: 653.455, ptv: 1252.572:  81%|█████████████████████████████████████████████████████████████▋              | 7616/9380 [2:17:06<30:40,  1.04s/it]"
     ]
    },
    {
     "name": "stdout",
     "output_type": "stream",
     "text": [
      "Adjusting learning rate of group 0 to 2.6883e-05.\n"
     ]
    },
    {
     "name": "stderr",
     "output_type": "stream",
     "text": [
      "loss: 1846.453, tv: 648.815, ptv: 1241.760:  82%|█████████████████████████████████████████████████████████████▉              | 7648/9380 [2:17:39<30:04,  1.04s/it]"
     ]
    },
    {
     "name": "stdout",
     "output_type": "stream",
     "text": [
      "Adjusting learning rate of group 0 to 2.6727e-05.\n"
     ]
    },
    {
     "name": "stderr",
     "output_type": "stream",
     "text": [
      "loss: 2034.794, tv: 659.469, ptv: 1246.148:  82%|██████████████████████████████████████████████████████████████▏             | 7680/9380 [2:18:12<29:27,  1.04s/it]"
     ]
    },
    {
     "name": "stdout",
     "output_type": "stream",
     "text": [
      "Adjusting learning rate of group 0 to 2.6570e-05.\n"
     ]
    },
    {
     "name": "stderr",
     "output_type": "stream",
     "text": [
      "loss: 1872.552, tv: 664.390, ptv: 1245.719:  82%|██████████████████████████████████████████████████████████████▍             | 7712/9380 [2:18:46<29:00,  1.04s/it]"
     ]
    },
    {
     "name": "stdout",
     "output_type": "stream",
     "text": [
      "Adjusting learning rate of group 0 to 2.6413e-05.\n"
     ]
    },
    {
     "name": "stderr",
     "output_type": "stream",
     "text": [
      "loss: 1941.501, tv: 671.479, ptv: 1236.798:  83%|█████████████████████████████████████████████████████████████             | 7744/9380 [2:20:09<1:01:34,  2.26s/it]"
     ]
    },
    {
     "name": "stdout",
     "output_type": "stream",
     "text": [
      "Adjusting learning rate of group 0 to 2.6256e-05.\n"
     ]
    },
    {
     "name": "stderr",
     "output_type": "stream",
     "text": [
      "loss: 1940.978, tv: 644.416, ptv: 1248.408:  83%|███████████████████████████████████████████████████████████████             | 7776/9380 [2:20:42<27:28,  1.03s/it]"
     ]
    },
    {
     "name": "stdout",
     "output_type": "stream",
     "text": [
      "Adjusting learning rate of group 0 to 2.6099e-05.\n"
     ]
    },
    {
     "name": "stderr",
     "output_type": "stream",
     "text": [
      "loss: 2006.299, tv: 686.031, ptv: 1244.455:  83%|███████████████████████████████████████████████████████████████▎            | 7808/9380 [2:21:15<27:16,  1.04s/it]"
     ]
    },
    {
     "name": "stdout",
     "output_type": "stream",
     "text": [
      "Adjusting learning rate of group 0 to 2.5942e-05.\n"
     ]
    },
    {
     "name": "stderr",
     "output_type": "stream",
     "text": [
      "loss: 1907.771, tv: 657.182, ptv: 1229.712:  84%|███████████████████████████████████████████████████████████████▌            | 7840/9380 [2:21:48<26:45,  1.04s/it]"
     ]
    },
    {
     "name": "stdout",
     "output_type": "stream",
     "text": [
      "Adjusting learning rate of group 0 to 2.5785e-05.\n"
     ]
    },
    {
     "name": "stderr",
     "output_type": "stream",
     "text": [
      "loss: 1915.264, tv: 639.996, ptv: 1236.606:  84%|███████████████████████████████████████████████████████████████▊            | 7872/9380 [2:22:22<26:11,  1.04s/it]"
     ]
    },
    {
     "name": "stdout",
     "output_type": "stream",
     "text": [
      "Adjusting learning rate of group 0 to 2.5628e-05.\n"
     ]
    },
    {
     "name": "stderr",
     "output_type": "stream",
     "text": [
      "loss: 1907.031, tv: 640.726, ptv: 1235.285:  84%|████████████████████████████████████████████████████████████████            | 7904/9380 [2:22:55<25:33,  1.04s/it]"
     ]
    },
    {
     "name": "stdout",
     "output_type": "stream",
     "text": [
      "Adjusting learning rate of group 0 to 2.5471e-05.\n"
     ]
    },
    {
     "name": "stderr",
     "output_type": "stream",
     "text": [
      "loss: 1898.575, tv: 631.245, ptv: 1242.450:  85%|████████████████████████████████████████████████████████████████▎           | 7936/9380 [2:23:28<25:02,  1.04s/it]"
     ]
    },
    {
     "name": "stdout",
     "output_type": "stream",
     "text": [
      "Adjusting learning rate of group 0 to 2.5314e-05.\n"
     ]
    },
    {
     "name": "stderr",
     "output_type": "stream",
     "text": [
      "loss: 1773.238, tv: 643.460, ptv: 1239.893:  85%|████████████████████████████████████████████████████████████████▌           | 7968/9380 [2:24:02<24:33,  1.04s/it]"
     ]
    },
    {
     "name": "stdout",
     "output_type": "stream",
     "text": [
      "Adjusting learning rate of group 0 to 2.5157e-05.\n"
     ]
    },
    {
     "name": "stderr",
     "output_type": "stream",
     "text": [
      "loss: 1907.693, tv: 694.282, ptv: 1243.685:  85%|████████████████████████████████████████████████████████████████▊           | 8000/9380 [2:24:35<23:53,  1.04s/it]"
     ]
    },
    {
     "name": "stdout",
     "output_type": "stream",
     "text": [
      "Adjusting learning rate of group 0 to 2.5000e-05.\n"
     ]
    },
    {
     "name": "stderr",
     "output_type": "stream",
     "text": [
      "loss: 2019.805, tv: 664.076, ptv: 1235.323:  86%|█████████████████████████████████████████████████████████████████           | 8032/9380 [2:25:08<23:22,  1.04s/it]"
     ]
    },
    {
     "name": "stdout",
     "output_type": "stream",
     "text": [
      "Adjusting learning rate of group 0 to 2.4843e-05.\n"
     ]
    },
    {
     "name": "stderr",
     "output_type": "stream",
     "text": [
      "loss: 1844.089, tv: 673.349, ptv: 1247.109:  86%|█████████████████████████████████████████████████████████████████▎          | 8064/9380 [2:25:42<22:43,  1.04s/it]"
     ]
    },
    {
     "name": "stdout",
     "output_type": "stream",
     "text": [
      "Adjusting learning rate of group 0 to 2.4686e-05.\n"
     ]
    },
    {
     "name": "stderr",
     "output_type": "stream",
     "text": [
      "loss: 1834.559, tv: 651.660, ptv: 1238.421:  86%|█████████████████████████████████████████████████████████████████▌          | 8096/9380 [2:26:15<22:32,  1.05s/it]"
     ]
    },
    {
     "name": "stdout",
     "output_type": "stream",
     "text": [
      "Adjusting learning rate of group 0 to 2.4529e-05.\n"
     ]
    },
    {
     "name": "stderr",
     "output_type": "stream",
     "text": [
      "loss: 1935.214, tv: 634.456, ptv: 1230.782:  87%|█████████████████████████████████████████████████████████████████▊          | 8128/9380 [2:26:48<21:46,  1.04s/it]"
     ]
    },
    {
     "name": "stdout",
     "output_type": "stream",
     "text": [
      "Adjusting learning rate of group 0 to 2.4372e-05.\n"
     ]
    },
    {
     "name": "stderr",
     "output_type": "stream",
     "text": [
      "loss: 1984.895, tv: 648.047, ptv: 1245.174:  87%|██████████████████████████████████████████████████████████████████          | 8160/9380 [2:27:22<21:11,  1.04s/it]"
     ]
    },
    {
     "name": "stdout",
     "output_type": "stream",
     "text": [
      "Adjusting learning rate of group 0 to 2.4215e-05.\n"
     ]
    },
    {
     "name": "stderr",
     "output_type": "stream",
     "text": [
      "loss: 2049.166, tv: 689.282, ptv: 1240.357:  87%|██████████████████████████████████████████████████████████████████▎         | 8192/9380 [2:27:55<20:46,  1.05s/it]"
     ]
    },
    {
     "name": "stdout",
     "output_type": "stream",
     "text": [
      "Adjusting learning rate of group 0 to 2.4058e-05.\n"
     ]
    },
    {
     "name": "stderr",
     "output_type": "stream",
     "text": [
      "loss: 1870.122, tv: 661.479, ptv: 1234.539:  88%|██████████████████████████████████████████████████████████████████▋         | 8224/9380 [2:28:29<20:07,  1.04s/it]"
     ]
    },
    {
     "name": "stdout",
     "output_type": "stream",
     "text": [
      "Adjusting learning rate of group 0 to 2.3901e-05.\n"
     ]
    },
    {
     "name": "stderr",
     "output_type": "stream",
     "text": [
      "loss: 1931.622, tv: 649.200, ptv: 1238.696:  88%|██████████████████████████████████████████████████████████████████▉         | 8256/9380 [2:29:02<19:33,  1.04s/it]"
     ]
    },
    {
     "name": "stdout",
     "output_type": "stream",
     "text": [
      "Adjusting learning rate of group 0 to 2.3744e-05.\n"
     ]
    },
    {
     "name": "stderr",
     "output_type": "stream",
     "text": [
      "loss: 2096.042, tv: 637.862, ptv: 1233.683:  88%|███████████████████████████████████████████████████████████████████▏        | 8288/9380 [2:29:36<18:59,  1.04s/it]"
     ]
    },
    {
     "name": "stdout",
     "output_type": "stream",
     "text": [
      "Adjusting learning rate of group 0 to 2.3587e-05.\n"
     ]
    },
    {
     "name": "stderr",
     "output_type": "stream",
     "text": [
      "loss: 1848.332, tv: 651.212, ptv: 1245.436:  89%|███████████████████████████████████████████████████████████████████▍        | 8320/9380 [2:30:09<18:40,  1.06s/it]"
     ]
    },
    {
     "name": "stdout",
     "output_type": "stream",
     "text": [
      "Adjusting learning rate of group 0 to 2.3430e-05.\n"
     ]
    },
    {
     "name": "stderr",
     "output_type": "stream",
     "text": [
      "loss: 1975.493, tv: 638.300, ptv: 1251.878:  89%|███████████████████████████████████████████████████████████████████▋        | 8352/9380 [2:30:42<17:44,  1.04s/it]"
     ]
    },
    {
     "name": "stdout",
     "output_type": "stream",
     "text": [
      "Adjusting learning rate of group 0 to 2.3273e-05.\n"
     ]
    },
    {
     "name": "stderr",
     "output_type": "stream",
     "text": [
      "loss: 1894.443, tv: 631.827, ptv: 1235.743:  89%|███████████████████████████████████████████████████████████████████▉        | 8384/9380 [2:31:16<17:13,  1.04s/it]"
     ]
    },
    {
     "name": "stdout",
     "output_type": "stream",
     "text": [
      "Adjusting learning rate of group 0 to 2.3117e-05.\n"
     ]
    },
    {
     "name": "stderr",
     "output_type": "stream",
     "text": [
      "loss: 1818.677, tv: 629.642, ptv: 1229.685:  90%|████████████████████████████████████████████████████████████████████▏       | 8416/9380 [2:31:49<16:40,  1.04s/it]"
     ]
    },
    {
     "name": "stdout",
     "output_type": "stream",
     "text": [
      "Adjusting learning rate of group 0 to 2.2960e-05.\n"
     ]
    },
    {
     "name": "stderr",
     "output_type": "stream",
     "text": [
      "loss: 1930.099, tv: 612.710, ptv: 1231.376:  90%|████████████████████████████████████████████████████████████████████▍       | 8448/9380 [2:32:22<16:10,  1.04s/it]"
     ]
    },
    {
     "name": "stdout",
     "output_type": "stream",
     "text": [
      "Adjusting learning rate of group 0 to 2.2804e-05.\n"
     ]
    },
    {
     "name": "stderr",
     "output_type": "stream",
     "text": [
      "loss: 1857.273, tv: 612.496, ptv: 1244.432:  90%|████████████████████████████████████████████████████████████████████▋       | 8480/9380 [2:32:55<15:32,  1.04s/it]"
     ]
    },
    {
     "name": "stdout",
     "output_type": "stream",
     "text": [
      "Adjusting learning rate of group 0 to 2.2647e-05.\n"
     ]
    },
    {
     "name": "stderr",
     "output_type": "stream",
     "text": [
      "loss: 1809.317, tv: 611.729, ptv: 1240.565:  91%|████████████████████████████████████████████████████████████████████▉       | 8512/9380 [2:33:29<15:00,  1.04s/it]"
     ]
    },
    {
     "name": "stdout",
     "output_type": "stream",
     "text": [
      "Adjusting learning rate of group 0 to 2.2491e-05.\n"
     ]
    },
    {
     "name": "stderr",
     "output_type": "stream",
     "text": [
      "loss: 1870.127, tv: 598.461, ptv: 1239.522:  91%|█████████████████████████████████████████████████████████████████████▏      | 8544/9380 [2:34:02<14:30,  1.04s/it]"
     ]
    },
    {
     "name": "stdout",
     "output_type": "stream",
     "text": [
      "Adjusting learning rate of group 0 to 2.2335e-05.\n"
     ]
    },
    {
     "name": "stderr",
     "output_type": "stream",
     "text": [
      "loss: 1880.176, tv: 620.280, ptv: 1231.500:  91%|█████████████████████████████████████████████████████████████████████▍      | 8576/9380 [2:34:35<13:57,  1.04s/it]"
     ]
    },
    {
     "name": "stdout",
     "output_type": "stream",
     "text": [
      "Adjusting learning rate of group 0 to 2.2179e-05.\n"
     ]
    },
    {
     "name": "stderr",
     "output_type": "stream",
     "text": [
      "loss: 1918.198, tv: 630.045, ptv: 1247.219:  92%|█████████████████████████████████████████████████████████████████████▋      | 8608/9380 [2:35:09<13:52,  1.08s/it]"
     ]
    },
    {
     "name": "stdout",
     "output_type": "stream",
     "text": [
      "Adjusting learning rate of group 0 to 2.2023e-05.\n"
     ]
    },
    {
     "name": "stderr",
     "output_type": "stream",
     "text": [
      "loss: 1882.621, tv: 627.307, ptv: 1244.005:  92%|██████████████████████████████████████████████████████████████████████      | 8640/9380 [2:35:42<12:54,  1.05s/it]"
     ]
    },
    {
     "name": "stdout",
     "output_type": "stream",
     "text": [
      "Adjusting learning rate of group 0 to 2.1867e-05.\n"
     ]
    },
    {
     "name": "stderr",
     "output_type": "stream",
     "text": [
      "loss: 1798.268, tv: 621.301, ptv: 1229.305:  92%|██████████████████████████████████████████████████████████████████████▎     | 8672/9380 [2:36:15<12:19,  1.05s/it]"
     ]
    },
    {
     "name": "stdout",
     "output_type": "stream",
     "text": [
      "Adjusting learning rate of group 0 to 2.1711e-05.\n"
     ]
    },
    {
     "name": "stderr",
     "output_type": "stream",
     "text": [
      "loss: 1829.691, tv: 606.969, ptv: 1238.316:  93%|██████████████████████████████████████████████████████████████████████▌     | 8704/9380 [2:36:49<11:44,  1.04s/it]"
     ]
    },
    {
     "name": "stdout",
     "output_type": "stream",
     "text": [
      "Adjusting learning rate of group 0 to 2.1555e-05.\n"
     ]
    },
    {
     "name": "stderr",
     "output_type": "stream",
     "text": [
      "loss: 1825.741, tv: 611.786, ptv: 1246.349:  93%|██████████████████████████████████████████████████████████████████████▊     | 8736/9380 [2:37:22<11:12,  1.04s/it]"
     ]
    },
    {
     "name": "stdout",
     "output_type": "stream",
     "text": [
      "Adjusting learning rate of group 0 to 2.1400e-05.\n"
     ]
    },
    {
     "name": "stderr",
     "output_type": "stream",
     "text": [
      "loss: 1896.798, tv: 648.719, ptv: 1237.867:  93%|███████████████████████████████████████████████████████████████████████     | 8768/9380 [2:37:56<10:39,  1.05s/it]"
     ]
    },
    {
     "name": "stdout",
     "output_type": "stream",
     "text": [
      "Adjusting learning rate of group 0 to 2.1244e-05.\n"
     ]
    },
    {
     "name": "stderr",
     "output_type": "stream",
     "text": [
      "loss: 1814.835, tv: 620.725, ptv: 1235.299:  94%|███████████████████████████████████████████████████████████████████████▎    | 8800/9380 [2:38:29<10:06,  1.05s/it]"
     ]
    },
    {
     "name": "stdout",
     "output_type": "stream",
     "text": [
      "Adjusting learning rate of group 0 to 2.1089e-05.\n"
     ]
    },
    {
     "name": "stderr",
     "output_type": "stream",
     "text": [
      "loss: 1848.651, tv: 619.468, ptv: 1242.895:  94%|███████████████████████████████████████████████████████████████████████▌    | 8832/9380 [2:39:02<09:32,  1.05s/it]"
     ]
    },
    {
     "name": "stdout",
     "output_type": "stream",
     "text": [
      "Adjusting learning rate of group 0 to 2.0934e-05.\n"
     ]
    },
    {
     "name": "stderr",
     "output_type": "stream",
     "text": [
      "loss: 1840.999, tv: 614.519, ptv: 1237.044:  94%|███████████████████████████████████████████████████████████████████████▊    | 8864/9380 [2:39:36<08:57,  1.04s/it]"
     ]
    },
    {
     "name": "stdout",
     "output_type": "stream",
     "text": [
      "Adjusting learning rate of group 0 to 2.0779e-05.\n"
     ]
    },
    {
     "name": "stderr",
     "output_type": "stream",
     "text": [
      "loss: 1921.539, tv: 588.644, ptv: 1240.841:  95%|████████████████████████████████████████████████████████████████████████    | 8896/9380 [2:40:09<08:26,  1.05s/it]"
     ]
    },
    {
     "name": "stdout",
     "output_type": "stream",
     "text": [
      "Adjusting learning rate of group 0 to 2.0624e-05.\n"
     ]
    },
    {
     "name": "stderr",
     "output_type": "stream",
     "text": [
      "loss: 1977.212, tv: 605.129, ptv: 1224.997:  95%|████████████████████████████████████████████████████████████████████████▎   | 8928/9380 [2:40:43<07:50,  1.04s/it]"
     ]
    },
    {
     "name": "stdout",
     "output_type": "stream",
     "text": [
      "Adjusting learning rate of group 0 to 2.0470e-05.\n"
     ]
    },
    {
     "name": "stderr",
     "output_type": "stream",
     "text": [
      "loss: 1826.844, tv: 603.160, ptv: 1227.145:  96%|████████████████████████████████████████████████████████████████████████▌   | 8960/9380 [2:41:16<07:18,  1.04s/it]"
     ]
    },
    {
     "name": "stdout",
     "output_type": "stream",
     "text": [
      "Adjusting learning rate of group 0 to 2.0315e-05.\n"
     ]
    },
    {
     "name": "stderr",
     "output_type": "stream",
     "text": [
      "loss: 1937.953, tv: 603.760, ptv: 1246.568:  96%|████████████████████████████████████████████████████████████████████████▊   | 8992/9380 [2:41:49<06:43,  1.04s/it]"
     ]
    },
    {
     "name": "stdout",
     "output_type": "stream",
     "text": [
      "Adjusting learning rate of group 0 to 2.0161e-05.\n"
     ]
    },
    {
     "name": "stderr",
     "output_type": "stream",
     "text": [
      "loss: 1829.888, tv: 609.248, ptv: 1232.382:  96%|█████████████████████████████████████████████████████████████████████████   | 9024/9380 [2:42:23<06:10,  1.04s/it]"
     ]
    },
    {
     "name": "stdout",
     "output_type": "stream",
     "text": [
      "Adjusting learning rate of group 0 to 2.0007e-05.\n"
     ]
    },
    {
     "name": "stderr",
     "output_type": "stream",
     "text": [
      "loss: 1858.450, tv: 596.967, ptv: 1219.981:  97%|█████████████████████████████████████████████████████████████████████████▎  | 9056/9380 [2:42:56<05:38,  1.04s/it]"
     ]
    },
    {
     "name": "stdout",
     "output_type": "stream",
     "text": [
      "Adjusting learning rate of group 0 to 1.9853e-05.\n"
     ]
    },
    {
     "name": "stderr",
     "output_type": "stream",
     "text": [
      "loss: 1866.602, tv: 596.042, ptv: 1218.028:  97%|█████████████████████████████████████████████████████████████████████████▋  | 9088/9380 [2:44:20<09:14,  1.90s/it]"
     ]
    },
    {
     "name": "stdout",
     "output_type": "stream",
     "text": [
      "Adjusting learning rate of group 0 to 1.9700e-05.\n"
     ]
    },
    {
     "name": "stderr",
     "output_type": "stream",
     "text": [
      "loss: 1770.783, tv: 595.066, ptv: 1233.575:  97%|█████████████████████████████████████████████████████████████████████████▉  | 9120/9380 [2:44:53<04:27,  1.03s/it]"
     ]
    },
    {
     "name": "stdout",
     "output_type": "stream",
     "text": [
      "Adjusting learning rate of group 0 to 1.9546e-05.\n"
     ]
    },
    {
     "name": "stderr",
     "output_type": "stream",
     "text": [
      "loss: 1876.354, tv: 602.555, ptv: 1235.351:  98%|██████████████████████████████████████████████████████████████████████████▏ | 9152/9380 [2:45:26<03:56,  1.04s/it]"
     ]
    },
    {
     "name": "stdout",
     "output_type": "stream",
     "text": [
      "Adjusting learning rate of group 0 to 1.9393e-05.\n"
     ]
    },
    {
     "name": "stderr",
     "output_type": "stream",
     "text": [
      "loss: 1946.827, tv: 621.546, ptv: 1231.568:  98%|██████████████████████████████████████████████████████████████████████████▍ | 9184/9380 [2:45:59<03:22,  1.03s/it]"
     ]
    },
    {
     "name": "stdout",
     "output_type": "stream",
     "text": [
      "Adjusting learning rate of group 0 to 1.9240e-05.\n"
     ]
    },
    {
     "name": "stderr",
     "output_type": "stream",
     "text": [
      "loss: 1817.715, tv: 596.451, ptv: 1234.675:  98%|██████████████████████████████████████████████████████████████████████████▋ | 9216/9380 [2:46:32<02:49,  1.04s/it]"
     ]
    },
    {
     "name": "stdout",
     "output_type": "stream",
     "text": [
      "Adjusting learning rate of group 0 to 1.9088e-05.\n"
     ]
    },
    {
     "name": "stderr",
     "output_type": "stream",
     "text": [
      "loss: 1889.586, tv: 613.444, ptv: 1238.132:  99%|██████████████████████████████████████████████████████████████████████████▉ | 9248/9380 [2:47:05<02:16,  1.04s/it]"
     ]
    },
    {
     "name": "stdout",
     "output_type": "stream",
     "text": [
      "Adjusting learning rate of group 0 to 1.8935e-05.\n"
     ]
    },
    {
     "name": "stderr",
     "output_type": "stream",
     "text": [
      "loss: 1805.584, tv: 594.938, ptv: 1218.757:  99%|███████████████████████████████████████████████████████████████████████████▏| 9280/9380 [2:47:39<01:43,  1.04s/it]"
     ]
    },
    {
     "name": "stdout",
     "output_type": "stream",
     "text": [
      "Adjusting learning rate of group 0 to 1.8783e-05.\n"
     ]
    },
    {
     "name": "stderr",
     "output_type": "stream",
     "text": [
      "loss: 1769.547, tv: 608.520, ptv: 1235.576:  99%|███████████████████████████████████████████████████████████████████████████▍| 9312/9380 [2:48:12<01:10,  1.04s/it]"
     ]
    },
    {
     "name": "stdout",
     "output_type": "stream",
     "text": [
      "Adjusting learning rate of group 0 to 1.8631e-05.\n"
     ]
    },
    {
     "name": "stderr",
     "output_type": "stream",
     "text": [
      "loss: 1813.625, tv: 584.255, ptv: 1234.597: 100%|███████████████████████████████████████████████████████████████████████████▋| 9344/9380 [2:48:45<00:37,  1.03s/it]"
     ]
    },
    {
     "name": "stdout",
     "output_type": "stream",
     "text": [
      "Adjusting learning rate of group 0 to 1.8479e-05.\n"
     ]
    },
    {
     "name": "stderr",
     "output_type": "stream",
     "text": [
      "loss: 1817.595, tv: 581.461, ptv: 1225.477: 100%|███████████████████████████████████████████████████████████████████████████▉| 9376/9380 [2:49:18<00:04,  1.04s/it]"
     ]
    },
    {
     "name": "stdout",
     "output_type": "stream",
     "text": [
      "Adjusting learning rate of group 0 to 1.8327e-05.\n"
     ]
    },
    {
     "name": "stderr",
     "output_type": "stream",
     "text": [
      "loss: 1775.324, tv: 580.977, ptv: 1223.471: 100%|████████████████████████████████████████████████████████████████████████████| 9380/9380 [2:49:21<00:00,  1.08s/it]\n"
     ]
    },
    {
     "name": "stdout",
     "output_type": "stream",
     "text": [
      "In epoch 0, average traning loss is 1461.8472618870117.\n"
     ]
    },
    {
     "name": "stderr",
     "output_type": "stream",
     "text": [
      "loss: 1881.809, tv: 597.616, ptv: 1243.057:   0%|▏                                                                             | 29/9380 [00:30<2:41:39,  1.04s/it]"
     ]
    },
    {
     "name": "stdout",
     "output_type": "stream",
     "text": [
      "Adjusting learning rate of group 0 to 1.8176e-05.\n"
     ]
    },
    {
     "name": "stderr",
     "output_type": "stream",
     "text": [
      "loss: 1799.489, tv: 592.793, ptv: 1231.386:   1%|▌                                                                             | 61/9380 [01:03<2:41:54,  1.04s/it]"
     ]
    },
    {
     "name": "stdout",
     "output_type": "stream",
     "text": [
      "Adjusting learning rate of group 0 to 1.8025e-05.\n"
     ]
    },
    {
     "name": "stderr",
     "output_type": "stream",
     "text": [
      "loss: 1924.225, tv: 597.832, ptv: 1233.420:   1%|▊                                                                             | 93/9380 [01:36<2:40:39,  1.04s/it]"
     ]
    },
    {
     "name": "stdout",
     "output_type": "stream",
     "text": [
      "Adjusting learning rate of group 0 to 1.7875e-05.\n"
     ]
    },
    {
     "name": "stderr",
     "output_type": "stream",
     "text": [
      "loss: 1867.017, tv: 599.664, ptv: 1235.806:   1%|█                                                                            | 125/9380 [02:09<2:40:20,  1.04s/it]"
     ]
    },
    {
     "name": "stdout",
     "output_type": "stream",
     "text": [
      "Adjusting learning rate of group 0 to 1.7724e-05.\n"
     ]
    },
    {
     "name": "stderr",
     "output_type": "stream",
     "text": [
      "loss: 1938.210, tv: 607.155, ptv: 1223.513:   2%|█▎                                                                           | 157/9380 [02:43<2:41:32,  1.05s/it]"
     ]
    },
    {
     "name": "stdout",
     "output_type": "stream",
     "text": [
      "Adjusting learning rate of group 0 to 1.7574e-05.\n"
     ]
    },
    {
     "name": "stderr",
     "output_type": "stream",
     "text": [
      "loss: 1786.277, tv: 591.611, ptv: 1227.241:   2%|█▌                                                                           | 189/9380 [03:16<2:39:05,  1.04s/it]"
     ]
    },
    {
     "name": "stdout",
     "output_type": "stream",
     "text": [
      "Adjusting learning rate of group 0 to 1.7424e-05.\n"
     ]
    },
    {
     "name": "stderr",
     "output_type": "stream",
     "text": [
      "loss: 1835.830, tv: 593.503, ptv: 1218.123:   2%|█▊                                                                           | 221/9380 [03:49<2:39:00,  1.04s/it]"
     ]
    },
    {
     "name": "stdout",
     "output_type": "stream",
     "text": [
      "Adjusting learning rate of group 0 to 1.7275e-05.\n"
     ]
    },
    {
     "name": "stderr",
     "output_type": "stream",
     "text": [
      "loss: 1878.606, tv: 613.183, ptv: 1224.548:   3%|██                                                                           | 253/9380 [04:22<2:38:11,  1.04s/it]"
     ]
    },
    {
     "name": "stdout",
     "output_type": "stream",
     "text": [
      "Adjusting learning rate of group 0 to 1.7125e-05.\n"
     ]
    },
    {
     "name": "stderr",
     "output_type": "stream",
     "text": [
      "loss: 1886.378, tv: 583.170, ptv: 1224.369:   3%|██▎                                                                          | 285/9380 [04:56<2:38:20,  1.04s/it]"
     ]
    },
    {
     "name": "stdout",
     "output_type": "stream",
     "text": [
      "Adjusting learning rate of group 0 to 1.6976e-05.\n"
     ]
    },
    {
     "name": "stderr",
     "output_type": "stream",
     "text": [
      "loss: 1887.413, tv: 586.948, ptv: 1232.020:   3%|██▌                                                                          | 317/9380 [05:29<2:36:58,  1.04s/it]"
     ]
    },
    {
     "name": "stdout",
     "output_type": "stream",
     "text": [
      "Adjusting learning rate of group 0 to 1.6828e-05.\n"
     ]
    },
    {
     "name": "stderr",
     "output_type": "stream",
     "text": [
      "loss: 1856.345, tv: 594.457, ptv: 1240.377:   4%|██▊                                                                          | 349/9380 [06:02<2:36:05,  1.04s/it]"
     ]
    },
    {
     "name": "stdout",
     "output_type": "stream",
     "text": [
      "Adjusting learning rate of group 0 to 1.6680e-05.\n"
     ]
    },
    {
     "name": "stderr",
     "output_type": "stream",
     "text": [
      "loss: 1737.192, tv: 576.799, ptv: 1218.922:   4%|███▏                                                                         | 381/9380 [06:36<2:35:12,  1.03s/it]"
     ]
    },
    {
     "name": "stdout",
     "output_type": "stream",
     "text": [
      "Adjusting learning rate of group 0 to 1.6532e-05.\n"
     ]
    },
    {
     "name": "stderr",
     "output_type": "stream",
     "text": [
      "loss: 1841.243, tv: 581.890, ptv: 1228.460:   4%|███▍                                                                         | 413/9380 [07:09<2:34:52,  1.04s/it]"
     ]
    },
    {
     "name": "stdout",
     "output_type": "stream",
     "text": [
      "Adjusting learning rate of group 0 to 1.6384e-05.\n"
     ]
    },
    {
     "name": "stderr",
     "output_type": "stream",
     "text": [
      "loss: 1933.668, tv: 600.968, ptv: 1232.483:   5%|███▋                                                                         | 445/9380 [07:42<2:34:14,  1.04s/it]"
     ]
    },
    {
     "name": "stdout",
     "output_type": "stream",
     "text": [
      "Adjusting learning rate of group 0 to 1.6237e-05.\n"
     ]
    },
    {
     "name": "stderr",
     "output_type": "stream",
     "text": [
      "loss: 1809.499, tv: 571.695, ptv: 1219.455:   5%|███▉                                                                         | 477/9380 [08:15<2:33:45,  1.04s/it]"
     ]
    },
    {
     "name": "stdout",
     "output_type": "stream",
     "text": [
      "Adjusting learning rate of group 0 to 1.6090e-05.\n"
     ]
    },
    {
     "name": "stderr",
     "output_type": "stream",
     "text": [
      "loss: 1842.773, tv: 567.017, ptv: 1226.693:   5%|████▏                                                                        | 509/9380 [08:48<2:33:44,  1.04s/it]"
     ]
    },
    {
     "name": "stdout",
     "output_type": "stream",
     "text": [
      "Adjusting learning rate of group 0 to 1.5943e-05.\n"
     ]
    },
    {
     "name": "stderr",
     "output_type": "stream",
     "text": [
      "loss: 1853.603, tv: 569.557, ptv: 1228.846:   6%|████▍                                                                        | 541/9380 [09:22<2:33:34,  1.04s/it]"
     ]
    },
    {
     "name": "stdout",
     "output_type": "stream",
     "text": [
      "Adjusting learning rate of group 0 to 1.5797e-05.\n"
     ]
    },
    {
     "name": "stderr",
     "output_type": "stream",
     "text": [
      "loss: 1802.151, tv: 571.046, ptv: 1233.421:   6%|████▋                                                                        | 573/9380 [09:55<2:32:41,  1.04s/it]"
     ]
    },
    {
     "name": "stdout",
     "output_type": "stream",
     "text": [
      "Adjusting learning rate of group 0 to 1.5651e-05.\n"
     ]
    },
    {
     "name": "stderr",
     "output_type": "stream",
     "text": [
      "loss: 1789.649, tv: 575.527, ptv: 1225.884:   6%|████▉                                                                        | 605/9380 [10:28<2:32:27,  1.04s/it]"
     ]
    },
    {
     "name": "stdout",
     "output_type": "stream",
     "text": [
      "Adjusting learning rate of group 0 to 1.5506e-05.\n"
     ]
    },
    {
     "name": "stderr",
     "output_type": "stream",
     "text": [
      "loss: 1704.595, tv: 574.154, ptv: 1228.893:   7%|█████▏                                                                       | 637/9380 [11:02<2:32:00,  1.04s/it]"
     ]
    },
    {
     "name": "stdout",
     "output_type": "stream",
     "text": [
      "Adjusting learning rate of group 0 to 1.5360e-05.\n"
     ]
    },
    {
     "name": "stderr",
     "output_type": "stream",
     "text": [
      "loss: 1766.570, tv: 572.006, ptv: 1223.953:   7%|█████▍                                                                       | 669/9380 [11:35<2:30:50,  1.04s/it]"
     ]
    },
    {
     "name": "stdout",
     "output_type": "stream",
     "text": [
      "Adjusting learning rate of group 0 to 1.5216e-05.\n"
     ]
    },
    {
     "name": "stderr",
     "output_type": "stream",
     "text": [
      "loss: 1738.155, tv: 561.423, ptv: 1218.638:   7%|█████▊                                                                       | 701/9380 [12:08<2:30:58,  1.04s/it]"
     ]
    },
    {
     "name": "stdout",
     "output_type": "stream",
     "text": [
      "Adjusting learning rate of group 0 to 1.5071e-05.\n"
     ]
    },
    {
     "name": "stderr",
     "output_type": "stream",
     "text": [
      "loss: 1789.720, tv: 555.356, ptv: 1227.810:   8%|██████                                                                       | 733/9380 [12:42<2:29:36,  1.04s/it]"
     ]
    },
    {
     "name": "stdout",
     "output_type": "stream",
     "text": [
      "Adjusting learning rate of group 0 to 1.4927e-05.\n"
     ]
    },
    {
     "name": "stderr",
     "output_type": "stream",
     "text": [
      "loss: 1782.869, tv: 559.966, ptv: 1221.482:   8%|██████▎                                                                      | 765/9380 [13:15<2:29:43,  1.04s/it]"
     ]
    },
    {
     "name": "stdout",
     "output_type": "stream",
     "text": [
      "Adjusting learning rate of group 0 to 1.4784e-05.\n"
     ]
    },
    {
     "name": "stderr",
     "output_type": "stream",
     "text": [
      "loss: 1845.849, tv: 588.887, ptv: 1224.895:   8%|██████▌                                                                      | 797/9380 [13:49<2:28:47,  1.04s/it]"
     ]
    },
    {
     "name": "stdout",
     "output_type": "stream",
     "text": [
      "Adjusting learning rate of group 0 to 1.4641e-05.\n"
     ]
    },
    {
     "name": "stderr",
     "output_type": "stream",
     "text": [
      "loss: 1798.725, tv: 582.462, ptv: 1216.469:   9%|██████▊                                                                      | 829/9380 [14:22<2:28:55,  1.04s/it]"
     ]
    },
    {
     "name": "stdout",
     "output_type": "stream",
     "text": [
      "Adjusting learning rate of group 0 to 1.4498e-05.\n"
     ]
    },
    {
     "name": "stderr",
     "output_type": "stream",
     "text": [
      "loss: 1900.934, tv: 574.493, ptv: 1223.228:   9%|███████                                                                      | 861/9380 [14:55<2:27:36,  1.04s/it]"
     ]
    },
    {
     "name": "stdout",
     "output_type": "stream",
     "text": [
      "Adjusting learning rate of group 0 to 1.4356e-05.\n"
     ]
    },
    {
     "name": "stderr",
     "output_type": "stream",
     "text": [
      "loss: 1888.984, tv: 582.162, ptv: 1226.856:  10%|███████▎                                                                     | 893/9380 [15:28<2:27:17,  1.04s/it]"
     ]
    },
    {
     "name": "stdout",
     "output_type": "stream",
     "text": [
      "Adjusting learning rate of group 0 to 1.4214e-05.\n"
     ]
    },
    {
     "name": "stderr",
     "output_type": "stream",
     "text": [
      "loss: 1818.308, tv: 576.168, ptv: 1217.450:  10%|███████▌                                                                     | 925/9380 [16:02<2:26:23,  1.04s/it]"
     ]
    },
    {
     "name": "stdout",
     "output_type": "stream",
     "text": [
      "Adjusting learning rate of group 0 to 1.4072e-05.\n"
     ]
    },
    {
     "name": "stderr",
     "output_type": "stream",
     "text": [
      "loss: 1872.388, tv: 566.153, ptv: 1221.029:  10%|███████▊                                                                     | 957/9380 [16:35<2:25:28,  1.04s/it]"
     ]
    },
    {
     "name": "stdout",
     "output_type": "stream",
     "text": [
      "Adjusting learning rate of group 0 to 1.3931e-05.\n"
     ]
    },
    {
     "name": "stderr",
     "output_type": "stream",
     "text": [
      "loss: 1845.579, tv: 570.098, ptv: 1218.222:  11%|████████                                                                     | 989/9380 [17:08<2:25:31,  1.04s/it]"
     ]
    },
    {
     "name": "stdout",
     "output_type": "stream",
     "text": [
      "Adjusting learning rate of group 0 to 1.3790e-05.\n"
     ]
    },
    {
     "name": "stderr",
     "output_type": "stream",
     "text": [
      "loss: 1895.727, tv: 568.817, ptv: 1227.449:  11%|████████▎                                                                   | 1021/9380 [17:42<2:25:22,  1.04s/it]"
     ]
    },
    {
     "name": "stdout",
     "output_type": "stream",
     "text": [
      "Adjusting learning rate of group 0 to 1.3650e-05.\n"
     ]
    },
    {
     "name": "stderr",
     "output_type": "stream",
     "text": [
      "loss: 1789.894, tv: 569.760, ptv: 1235.692:  11%|████████▌                                                                   | 1053/9380 [18:15<2:25:34,  1.05s/it]"
     ]
    },
    {
     "name": "stdout",
     "output_type": "stream",
     "text": [
      "Adjusting learning rate of group 0 to 1.3511e-05.\n"
     ]
    },
    {
     "name": "stderr",
     "output_type": "stream",
     "text": [
      "loss: 1855.440, tv: 575.169, ptv: 1233.627:  12%|████████▊                                                                   | 1085/9380 [18:48<2:23:35,  1.04s/it]"
     ]
    },
    {
     "name": "stdout",
     "output_type": "stream",
     "text": [
      "Adjusting learning rate of group 0 to 1.3371e-05.\n"
     ]
    },
    {
     "name": "stderr",
     "output_type": "stream",
     "text": [
      "loss: 1782.808, tv: 558.174, ptv: 1223.831:  12%|█████████                                                                   | 1117/9380 [19:22<2:22:59,  1.04s/it]"
     ]
    },
    {
     "name": "stdout",
     "output_type": "stream",
     "text": [
      "Adjusting learning rate of group 0 to 1.3232e-05.\n"
     ]
    },
    {
     "name": "stderr",
     "output_type": "stream",
     "text": [
      "loss: 1847.234, tv: 554.923, ptv: 1239.716:  12%|█████████▎                                                                  | 1149/9380 [19:55<2:22:45,  1.04s/it]"
     ]
    },
    {
     "name": "stdout",
     "output_type": "stream",
     "text": [
      "Adjusting learning rate of group 0 to 1.3094e-05.\n"
     ]
    },
    {
     "name": "stderr",
     "output_type": "stream",
     "text": [
      "loss: 1742.738, tv: 565.397, ptv: 1220.938:  13%|█████████▌                                                                  | 1181/9380 [21:21<2:20:11,  1.03s/it]"
     ]
    },
    {
     "name": "stdout",
     "output_type": "stream",
     "text": [
      "Adjusting learning rate of group 0 to 1.2956e-05.\n"
     ]
    },
    {
     "name": "stderr",
     "output_type": "stream",
     "text": [
      "loss: 1854.659, tv: 581.967, ptv: 1228.209:  13%|█████████▊                                                                  | 1213/9380 [21:54<2:20:31,  1.03s/it]"
     ]
    },
    {
     "name": "stdout",
     "output_type": "stream",
     "text": [
      "Adjusting learning rate of group 0 to 1.2819e-05.\n"
     ]
    },
    {
     "name": "stderr",
     "output_type": "stream",
     "text": [
      "loss: 1822.024, tv: 572.230, ptv: 1219.968:  13%|██████████                                                                  | 1245/9380 [22:27<2:19:55,  1.03s/it]"
     ]
    },
    {
     "name": "stdout",
     "output_type": "stream",
     "text": [
      "Adjusting learning rate of group 0 to 1.2682e-05.\n"
     ]
    },
    {
     "name": "stderr",
     "output_type": "stream",
     "text": [
      "loss: 1741.794, tv: 563.981, ptv: 1215.446:  14%|██████████▎                                                                 | 1277/9380 [23:00<2:20:11,  1.04s/it]"
     ]
    },
    {
     "name": "stdout",
     "output_type": "stream",
     "text": [
      "Adjusting learning rate of group 0 to 1.2545e-05.\n"
     ]
    },
    {
     "name": "stderr",
     "output_type": "stream",
     "text": [
      "loss: 1855.953, tv: 569.714, ptv: 1224.019:  14%|██████████▌                                                                 | 1309/9380 [23:33<2:19:36,  1.04s/it]"
     ]
    },
    {
     "name": "stdout",
     "output_type": "stream",
     "text": [
      "Adjusting learning rate of group 0 to 1.2409e-05.\n"
     ]
    },
    {
     "name": "stderr",
     "output_type": "stream",
     "text": [
      "loss: 1784.583, tv: 569.341, ptv: 1216.249:  14%|██████████▊                                                                 | 1341/9380 [24:06<2:19:13,  1.04s/it]"
     ]
    },
    {
     "name": "stdout",
     "output_type": "stream",
     "text": [
      "Adjusting learning rate of group 0 to 1.2274e-05.\n"
     ]
    },
    {
     "name": "stderr",
     "output_type": "stream",
     "text": [
      "loss: 1791.252, tv: 563.912, ptv: 1224.498:  15%|███████████                                                                 | 1373/9380 [24:40<2:18:05,  1.03s/it]"
     ]
    },
    {
     "name": "stdout",
     "output_type": "stream",
     "text": [
      "Adjusting learning rate of group 0 to 1.2139e-05.\n"
     ]
    },
    {
     "name": "stderr",
     "output_type": "stream",
     "text": [
      "loss: 1808.404, tv: 568.110, ptv: 1213.642:  15%|███████████▍                                                                | 1405/9380 [25:13<2:17:32,  1.03s/it]"
     ]
    },
    {
     "name": "stdout",
     "output_type": "stream",
     "text": [
      "Adjusting learning rate of group 0 to 1.2005e-05.\n"
     ]
    },
    {
     "name": "stderr",
     "output_type": "stream",
     "text": [
      "loss: 1763.886, tv: 553.792, ptv: 1211.893:  15%|███████████▋                                                                | 1437/9380 [25:46<2:16:43,  1.03s/it]"
     ]
    },
    {
     "name": "stdout",
     "output_type": "stream",
     "text": [
      "Adjusting learning rate of group 0 to 1.1871e-05.\n"
     ]
    },
    {
     "name": "stderr",
     "output_type": "stream",
     "text": [
      "loss: 1937.725, tv: 550.518, ptv: 1224.898:  16%|███████████▉                                                                | 1469/9380 [26:19<2:16:39,  1.04s/it]"
     ]
    },
    {
     "name": "stdout",
     "output_type": "stream",
     "text": [
      "Adjusting learning rate of group 0 to 1.1737e-05.\n"
     ]
    },
    {
     "name": "stderr",
     "output_type": "stream",
     "text": [
      "loss: 1756.729, tv: 557.623, ptv: 1215.092:  16%|████████████▏                                                               | 1501/9380 [26:52<2:16:16,  1.04s/it]"
     ]
    },
    {
     "name": "stdout",
     "output_type": "stream",
     "text": [
      "Adjusting learning rate of group 0 to 1.1604e-05.\n"
     ]
    },
    {
     "name": "stderr",
     "output_type": "stream",
     "text": [
      "loss: 1890.130, tv: 564.466, ptv: 1229.620:  16%|████████████▍                                                               | 1533/9380 [27:25<2:15:52,  1.04s/it]"
     ]
    },
    {
     "name": "stdout",
     "output_type": "stream",
     "text": [
      "Adjusting learning rate of group 0 to 1.1472e-05.\n"
     ]
    },
    {
     "name": "stderr",
     "output_type": "stream",
     "text": [
      "loss: 1779.363, tv: 583.858, ptv: 1230.605:  17%|████████████▋                                                               | 1565/9380 [27:59<2:15:13,  1.04s/it]"
     ]
    },
    {
     "name": "stdout",
     "output_type": "stream",
     "text": [
      "Adjusting learning rate of group 0 to 1.1340e-05.\n"
     ]
    },
    {
     "name": "stderr",
     "output_type": "stream",
     "text": [
      "loss: 1812.957, tv: 567.502, ptv: 1221.341:  17%|████████████▉                                                               | 1597/9380 [28:32<2:14:20,  1.04s/it]"
     ]
    },
    {
     "name": "stdout",
     "output_type": "stream",
     "text": [
      "Adjusting learning rate of group 0 to 1.1209e-05.\n"
     ]
    },
    {
     "name": "stderr",
     "output_type": "stream",
     "text": [
      "loss: 1720.864, tv: 557.016, ptv: 1220.888:  17%|█████████████▏                                                              | 1629/9380 [29:05<2:14:09,  1.04s/it]"
     ]
    },
    {
     "name": "stdout",
     "output_type": "stream",
     "text": [
      "Adjusting learning rate of group 0 to 1.1078e-05.\n"
     ]
    },
    {
     "name": "stderr",
     "output_type": "stream",
     "text": [
      "loss: 1845.426, tv: 567.396, ptv: 1226.350:  18%|█████████████▍                                                              | 1661/9380 [29:38<2:12:33,  1.03s/it]"
     ]
    },
    {
     "name": "stdout",
     "output_type": "stream",
     "text": [
      "Adjusting learning rate of group 0 to 1.0948e-05.\n"
     ]
    },
    {
     "name": "stderr",
     "output_type": "stream",
     "text": [
      "loss: 1742.065, tv: 561.011, ptv: 1216.185:  18%|█████████████▋                                                              | 1693/9380 [30:11<2:12:08,  1.03s/it]"
     ]
    },
    {
     "name": "stdout",
     "output_type": "stream",
     "text": [
      "Adjusting learning rate of group 0 to 1.0818e-05.\n"
     ]
    },
    {
     "name": "stderr",
     "output_type": "stream",
     "text": [
      "loss: 1889.641, tv: 558.250, ptv: 1227.834:  18%|█████████████▉                                                              | 1725/9380 [30:44<2:12:09,  1.04s/it]"
     ]
    },
    {
     "name": "stdout",
     "output_type": "stream",
     "text": [
      "Adjusting learning rate of group 0 to 1.0689e-05.\n"
     ]
    },
    {
     "name": "stderr",
     "output_type": "stream",
     "text": [
      "loss: 1767.942, tv: 562.427, ptv: 1226.421:  19%|██████████████▏                                                             | 1757/9380 [31:18<2:11:56,  1.04s/it]"
     ]
    },
    {
     "name": "stdout",
     "output_type": "stream",
     "text": [
      "Adjusting learning rate of group 0 to 1.0561e-05.\n"
     ]
    },
    {
     "name": "stderr",
     "output_type": "stream",
     "text": [
      "loss: 1811.872, tv: 561.537, ptv: 1237.626:  19%|██████████████▍                                                             | 1789/9380 [31:51<2:11:26,  1.04s/it]"
     ]
    },
    {
     "name": "stdout",
     "output_type": "stream",
     "text": [
      "Adjusting learning rate of group 0 to 1.0433e-05.\n"
     ]
    },
    {
     "name": "stderr",
     "output_type": "stream",
     "text": [
      "loss: 1757.721, tv: 561.562, ptv: 1216.288:  19%|██████████████▊                                                             | 1821/9380 [32:24<2:11:11,  1.04s/it]"
     ]
    },
    {
     "name": "stdout",
     "output_type": "stream",
     "text": [
      "Adjusting learning rate of group 0 to 1.0305e-05.\n"
     ]
    },
    {
     "name": "stderr",
     "output_type": "stream",
     "text": [
      "loss: 1687.711, tv: 549.932, ptv: 1221.840:  20%|███████████████                                                             | 1853/9380 [32:57<2:10:22,  1.04s/it]"
     ]
    },
    {
     "name": "stdout",
     "output_type": "stream",
     "text": [
      "Adjusting learning rate of group 0 to 1.0179e-05.\n"
     ]
    },
    {
     "name": "stderr",
     "output_type": "stream",
     "text": [
      "loss: 1796.681, tv: 557.156, ptv: 1219.662:  20%|███████████████▎                                                            | 1885/9380 [33:31<2:09:40,  1.04s/it]"
     ]
    },
    {
     "name": "stdout",
     "output_type": "stream",
     "text": [
      "Adjusting learning rate of group 0 to 1.0052e-05.\n"
     ]
    },
    {
     "name": "stderr",
     "output_type": "stream",
     "text": [
      "loss: 1772.344, tv: 551.221, ptv: 1224.398:  20%|███████████████▌                                                            | 1917/9380 [34:04<2:09:37,  1.04s/it]"
     ]
    },
    {
     "name": "stdout",
     "output_type": "stream",
     "text": [
      "Adjusting learning rate of group 0 to 9.9268e-06.\n"
     ]
    },
    {
     "name": "stderr",
     "output_type": "stream",
     "text": [
      "loss: 1789.479, tv: 570.035, ptv: 1226.970:  21%|███████████████▊                                                            | 1949/9380 [34:37<2:08:44,  1.04s/it]"
     ]
    },
    {
     "name": "stdout",
     "output_type": "stream",
     "text": [
      "Adjusting learning rate of group 0 to 9.8017e-06.\n"
     ]
    },
    {
     "name": "stderr",
     "output_type": "stream",
     "text": [
      "loss: 1784.103, tv: 551.358, ptv: 1218.267:  21%|████████████████                                                            | 1981/9380 [35:11<2:12:17,  1.07s/it]"
     ]
    },
    {
     "name": "stdout",
     "output_type": "stream",
     "text": [
      "Adjusting learning rate of group 0 to 9.6773e-06.\n"
     ]
    },
    {
     "name": "stderr",
     "output_type": "stream",
     "text": [
      "loss: 1753.260, tv: 543.749, ptv: 1219.869:  21%|████████████████▎                                                           | 2013/9380 [35:44<2:07:37,  1.04s/it]"
     ]
    },
    {
     "name": "stdout",
     "output_type": "stream",
     "text": [
      "Adjusting learning rate of group 0 to 9.5535e-06.\n"
     ]
    },
    {
     "name": "stderr",
     "output_type": "stream",
     "text": [
      "loss: 1749.432, tv: 559.109, ptv: 1222.623:  22%|████████████████▌                                                           | 2045/9380 [36:18<2:07:20,  1.04s/it]"
     ]
    },
    {
     "name": "stdout",
     "output_type": "stream",
     "text": [
      "Adjusting learning rate of group 0 to 9.4303e-06.\n"
     ]
    },
    {
     "name": "stderr",
     "output_type": "stream",
     "text": [
      "loss: 1739.473, tv: 555.983, ptv: 1231.301:  22%|████████████████▊                                                           | 2077/9380 [36:51<2:06:47,  1.04s/it]"
     ]
    },
    {
     "name": "stdout",
     "output_type": "stream",
     "text": [
      "Adjusting learning rate of group 0 to 9.3077e-06.\n"
     ]
    },
    {
     "name": "stderr",
     "output_type": "stream",
     "text": [
      "loss: 1807.038, tv: 541.559, ptv: 1210.616:  22%|█████████████████                                                           | 2109/9380 [37:24<2:06:20,  1.04s/it]"
     ]
    },
    {
     "name": "stdout",
     "output_type": "stream",
     "text": [
      "Adjusting learning rate of group 0 to 9.1857e-06.\n"
     ]
    },
    {
     "name": "stderr",
     "output_type": "stream",
     "text": [
      "loss: 1842.617, tv: 544.385, ptv: 1217.483:  23%|█████████████████▎                                                          | 2141/9380 [37:58<2:05:18,  1.04s/it]"
     ]
    },
    {
     "name": "stdout",
     "output_type": "stream",
     "text": [
      "Adjusting learning rate of group 0 to 9.0644e-06.\n"
     ]
    },
    {
     "name": "stderr",
     "output_type": "stream",
     "text": [
      "loss: 1755.764, tv: 540.069, ptv: 1222.558:  23%|█████████████████▌                                                          | 2173/9380 [38:31<2:05:00,  1.04s/it]"
     ]
    },
    {
     "name": "stdout",
     "output_type": "stream",
     "text": [
      "Adjusting learning rate of group 0 to 8.9437e-06.\n"
     ]
    },
    {
     "name": "stderr",
     "output_type": "stream",
     "text": [
      "loss: 1746.630, tv: 550.201, ptv: 1221.515:  24%|█████████████████▊                                                          | 2205/9380 [39:05<2:05:05,  1.05s/it]"
     ]
    },
    {
     "name": "stdout",
     "output_type": "stream",
     "text": [
      "Adjusting learning rate of group 0 to 8.8236e-06.\n"
     ]
    },
    {
     "name": "stderr",
     "output_type": "stream",
     "text": [
      "loss: 1806.480, tv: 542.674, ptv: 1224.462:  24%|██████████████████                                                          | 2237/9380 [39:38<2:03:44,  1.04s/it]"
     ]
    },
    {
     "name": "stdout",
     "output_type": "stream",
     "text": [
      "Adjusting learning rate of group 0 to 8.7042e-06.\n"
     ]
    },
    {
     "name": "stderr",
     "output_type": "stream",
     "text": [
      "loss: 1774.972, tv: 537.138, ptv: 1215.369:  24%|██████████████████▍                                                         | 2269/9380 [40:11<2:03:09,  1.04s/it]"
     ]
    },
    {
     "name": "stdout",
     "output_type": "stream",
     "text": [
      "Adjusting learning rate of group 0 to 8.5854e-06.\n"
     ]
    },
    {
     "name": "stderr",
     "output_type": "stream",
     "text": [
      "loss: 1754.280, tv: 544.827, ptv: 1222.700:  25%|██████████████████▋                                                         | 2301/9380 [40:45<2:01:46,  1.03s/it]"
     ]
    },
    {
     "name": "stdout",
     "output_type": "stream",
     "text": [
      "Adjusting learning rate of group 0 to 8.4672e-06.\n"
     ]
    },
    {
     "name": "stderr",
     "output_type": "stream",
     "text": [
      "loss: 1717.059, tv: 547.062, ptv: 1227.973:  25%|██████████████████▉                                                         | 2333/9380 [41:18<2:03:08,  1.05s/it]"
     ]
    },
    {
     "name": "stdout",
     "output_type": "stream",
     "text": [
      "Adjusting learning rate of group 0 to 8.3497e-06.\n"
     ]
    },
    {
     "name": "stderr",
     "output_type": "stream",
     "text": [
      "loss: 1796.271, tv: 541.381, ptv: 1224.596:  25%|███████████████████▏                                                        | 2365/9380 [41:51<2:01:39,  1.04s/it]"
     ]
    },
    {
     "name": "stdout",
     "output_type": "stream",
     "text": [
      "Adjusting learning rate of group 0 to 8.2329e-06.\n"
     ]
    },
    {
     "name": "stderr",
     "output_type": "stream",
     "text": [
      "loss: 1801.999, tv: 551.125, ptv: 1224.158:  26%|███████████████████▍                                                        | 2397/9380 [42:25<2:01:18,  1.04s/it]"
     ]
    },
    {
     "name": "stdout",
     "output_type": "stream",
     "text": [
      "Adjusting learning rate of group 0 to 8.1167e-06.\n"
     ]
    },
    {
     "name": "stderr",
     "output_type": "stream",
     "text": [
      "loss: 1876.025, tv: 550.927, ptv: 1221.997:  26%|███████████████████▋                                                        | 2429/9380 [42:58<2:00:48,  1.04s/it]"
     ]
    },
    {
     "name": "stdout",
     "output_type": "stream",
     "text": [
      "Adjusting learning rate of group 0 to 8.0012e-06.\n"
     ]
    },
    {
     "name": "stderr",
     "output_type": "stream",
     "text": [
      "loss: 1772.437, tv: 548.919, ptv: 1206.391:  26%|███████████████████▉                                                        | 2461/9380 [43:32<2:00:09,  1.04s/it]"
     ]
    },
    {
     "name": "stdout",
     "output_type": "stream",
     "text": [
      "Adjusting learning rate of group 0 to 7.8863e-06.\n"
     ]
    },
    {
     "name": "stderr",
     "output_type": "stream",
     "text": [
      "loss: 1839.603, tv: 545.818, ptv: 1232.304:  27%|████████████████████▏                                                       | 2493/9380 [44:05<2:00:27,  1.05s/it]"
     ]
    },
    {
     "name": "stdout",
     "output_type": "stream",
     "text": [
      "Adjusting learning rate of group 0 to 7.7722e-06.\n"
     ]
    },
    {
     "name": "stderr",
     "output_type": "stream",
     "text": [
      "loss: 1783.178, tv: 552.251, ptv: 1216.640:  27%|████████████████████▍                                                       | 2525/9380 [44:38<1:59:12,  1.04s/it]"
     ]
    },
    {
     "name": "stdout",
     "output_type": "stream",
     "text": [
      "Adjusting learning rate of group 0 to 7.6587e-06.\n"
     ]
    },
    {
     "name": "stderr",
     "output_type": "stream",
     "text": [
      "loss: 1752.013, tv: 557.843, ptv: 1233.730:  27%|████████████████████▋                                                       | 2557/9380 [45:12<1:58:23,  1.04s/it]"
     ]
    },
    {
     "name": "stdout",
     "output_type": "stream",
     "text": [
      "Adjusting learning rate of group 0 to 7.5459e-06.\n"
     ]
    },
    {
     "name": "stderr",
     "output_type": "stream",
     "text": [
      "loss: 1723.030, tv: 552.474, ptv: 1227.068:  28%|████████████████████▉                                                       | 2589/9380 [45:45<1:57:54,  1.04s/it]"
     ]
    },
    {
     "name": "stdout",
     "output_type": "stream",
     "text": [
      "Adjusting learning rate of group 0 to 7.4338e-06.\n"
     ]
    },
    {
     "name": "stderr",
     "output_type": "stream",
     "text": [
      "loss: 1894.489, tv: 547.389, ptv: 1211.754:  28%|█████████████████████▏                                                      | 2621/9380 [46:18<1:58:42,  1.05s/it]"
     ]
    },
    {
     "name": "stdout",
     "output_type": "stream",
     "text": [
      "Adjusting learning rate of group 0 to 7.3223e-06.\n"
     ]
    },
    {
     "name": "stderr",
     "output_type": "stream",
     "text": [
      "loss: 1777.081, tv: 555.839, ptv: 1229.106:  28%|█████████████████████▍                                                      | 2653/9380 [46:52<1:56:43,  1.04s/it]"
     ]
    },
    {
     "name": "stdout",
     "output_type": "stream",
     "text": [
      "Adjusting learning rate of group 0 to 7.2116e-06.\n"
     ]
    },
    {
     "name": "stderr",
     "output_type": "stream",
     "text": [
      "loss: 1810.690, tv: 550.942, ptv: 1229.023:  29%|█████████████████████▊                                                      | 2685/9380 [48:21<1:55:02,  1.03s/it]"
     ]
    },
    {
     "name": "stdout",
     "output_type": "stream",
     "text": [
      "Adjusting learning rate of group 0 to 7.1016e-06.\n"
     ]
    },
    {
     "name": "stderr",
     "output_type": "stream",
     "text": [
      "loss: 1791.265, tv: 537.460, ptv: 1223.544:  29%|██████████████████████                                                      | 2717/9380 [48:54<1:54:29,  1.03s/it]"
     ]
    },
    {
     "name": "stdout",
     "output_type": "stream",
     "text": [
      "Adjusting learning rate of group 0 to 6.9923e-06.\n"
     ]
    },
    {
     "name": "stderr",
     "output_type": "stream",
     "text": [
      "loss: 1693.962, tv: 542.192, ptv: 1214.699:  29%|██████████████████████▎                                                     | 2749/9380 [49:27<1:53:44,  1.03s/it]"
     ]
    },
    {
     "name": "stdout",
     "output_type": "stream",
     "text": [
      "Adjusting learning rate of group 0 to 6.8837e-06.\n"
     ]
    },
    {
     "name": "stderr",
     "output_type": "stream",
     "text": [
      "loss: 1764.428, tv: 542.974, ptv: 1233.288:  30%|██████████████████████▌                                                     | 2781/9380 [50:00<1:53:21,  1.03s/it]"
     ]
    },
    {
     "name": "stdout",
     "output_type": "stream",
     "text": [
      "Adjusting learning rate of group 0 to 6.7758e-06.\n"
     ]
    },
    {
     "name": "stderr",
     "output_type": "stream",
     "text": [
      "loss: 1766.339, tv: 544.075, ptv: 1217.813:  30%|██████████████████████▊                                                     | 2813/9380 [50:33<1:53:06,  1.03s/it]"
     ]
    },
    {
     "name": "stdout",
     "output_type": "stream",
     "text": [
      "Adjusting learning rate of group 0 to 6.6686e-06.\n"
     ]
    },
    {
     "name": "stderr",
     "output_type": "stream",
     "text": [
      "loss: 1719.619, tv: 542.251, ptv: 1211.972:  30%|███████████████████████                                                     | 2845/9380 [51:06<1:52:36,  1.03s/it]"
     ]
    },
    {
     "name": "stdout",
     "output_type": "stream",
     "text": [
      "Adjusting learning rate of group 0 to 6.5622e-06.\n"
     ]
    },
    {
     "name": "stderr",
     "output_type": "stream",
     "text": [
      "loss: 1718.631, tv: 546.326, ptv: 1219.135:  31%|███████████████████████▎                                                    | 2877/9380 [51:39<1:52:11,  1.04s/it]"
     ]
    },
    {
     "name": "stdout",
     "output_type": "stream",
     "text": [
      "Adjusting learning rate of group 0 to 6.4565e-06.\n"
     ]
    },
    {
     "name": "stderr",
     "output_type": "stream",
     "text": [
      "loss: 1785.491, tv: 545.953, ptv: 1216.318:  31%|███████████████████████▌                                                    | 2909/9380 [52:12<1:52:05,  1.04s/it]"
     ]
    },
    {
     "name": "stdout",
     "output_type": "stream",
     "text": [
      "Adjusting learning rate of group 0 to 6.3515e-06.\n"
     ]
    },
    {
     "name": "stderr",
     "output_type": "stream",
     "text": [
      "loss: 1695.748, tv: 539.449, ptv: 1225.254:  31%|███████████████████████▊                                                    | 2941/9380 [52:45<1:51:22,  1.04s/it]"
     ]
    },
    {
     "name": "stdout",
     "output_type": "stream",
     "text": [
      "Adjusting learning rate of group 0 to 6.2472e-06.\n"
     ]
    },
    {
     "name": "stderr",
     "output_type": "stream",
     "text": [
      "loss: 1840.631, tv: 532.435, ptv: 1217.720:  32%|████████████████████████                                                    | 2973/9380 [53:19<1:50:21,  1.03s/it]"
     ]
    },
    {
     "name": "stdout",
     "output_type": "stream",
     "text": [
      "Adjusting learning rate of group 0 to 6.1437e-06.\n"
     ]
    },
    {
     "name": "stderr",
     "output_type": "stream",
     "text": [
      "loss: 1774.162, tv: 532.516, ptv: 1218.583:  32%|████████████████████████▎                                                   | 3005/9380 [53:52<1:50:47,  1.04s/it]"
     ]
    },
    {
     "name": "stdout",
     "output_type": "stream",
     "text": [
      "Adjusting learning rate of group 0 to 6.0410e-06.\n"
     ]
    },
    {
     "name": "stderr",
     "output_type": "stream",
     "text": [
      "loss: 1740.481, tv: 540.872, ptv: 1225.433:  32%|████████████████████████▌                                                   | 3037/9380 [54:25<1:49:19,  1.03s/it]"
     ]
    },
    {
     "name": "stdout",
     "output_type": "stream",
     "text": [
      "Adjusting learning rate of group 0 to 5.9389e-06.\n"
     ]
    },
    {
     "name": "stderr",
     "output_type": "stream",
     "text": [
      "loss: 1751.323, tv: 545.558, ptv: 1230.061:  33%|████████████████████████▊                                                   | 3069/9380 [54:58<1:50:13,  1.05s/it]"
     ]
    },
    {
     "name": "stdout",
     "output_type": "stream",
     "text": [
      "Adjusting learning rate of group 0 to 5.8377e-06.\n"
     ]
    },
    {
     "name": "stderr",
     "output_type": "stream",
     "text": [
      "loss: 1747.083, tv: 530.818, ptv: 1222.638:  33%|█████████████████████████▏                                                  | 3101/9380 [55:32<1:48:56,  1.04s/it]"
     ]
    },
    {
     "name": "stdout",
     "output_type": "stream",
     "text": [
      "Adjusting learning rate of group 0 to 5.7372e-06.\n"
     ]
    },
    {
     "name": "stderr",
     "output_type": "stream",
     "text": [
      "loss: 1793.813, tv: 540.845, ptv: 1212.108:  33%|█████████████████████████▍                                                  | 3133/9380 [56:05<1:47:49,  1.04s/it]"
     ]
    },
    {
     "name": "stdout",
     "output_type": "stream",
     "text": [
      "Adjusting learning rate of group 0 to 5.6374e-06.\n"
     ]
    },
    {
     "name": "stderr",
     "output_type": "stream",
     "text": [
      "loss: 1760.052, tv: 529.505, ptv: 1222.949:  34%|█████████████████████████▋                                                  | 3165/9380 [56:38<1:47:22,  1.04s/it]"
     ]
    },
    {
     "name": "stdout",
     "output_type": "stream",
     "text": [
      "Adjusting learning rate of group 0 to 5.5384e-06.\n"
     ]
    },
    {
     "name": "stderr",
     "output_type": "stream",
     "text": [
      "loss: 1799.715, tv: 536.314, ptv: 1219.327:  34%|█████████████████████████▉                                                  | 3197/9380 [57:11<1:46:57,  1.04s/it]"
     ]
    },
    {
     "name": "stdout",
     "output_type": "stream",
     "text": [
      "Adjusting learning rate of group 0 to 5.4402e-06.\n"
     ]
    },
    {
     "name": "stderr",
     "output_type": "stream",
     "text": [
      "loss: 1786.810, tv: 533.278, ptv: 1221.532:  34%|██████████████████████████▏                                                 | 3229/9380 [57:45<1:46:05,  1.03s/it]"
     ]
    },
    {
     "name": "stdout",
     "output_type": "stream",
     "text": [
      "Adjusting learning rate of group 0 to 5.3428e-06.\n"
     ]
    },
    {
     "name": "stderr",
     "output_type": "stream",
     "text": [
      "loss: 1768.535, tv: 537.900, ptv: 1225.933:  35%|██████████████████████████▍                                                 | 3261/9380 [58:18<1:45:45,  1.04s/it]"
     ]
    },
    {
     "name": "stdout",
     "output_type": "stream",
     "text": [
      "Adjusting learning rate of group 0 to 5.2461e-06.\n"
     ]
    },
    {
     "name": "stderr",
     "output_type": "stream",
     "text": [
      "loss: 1733.491, tv: 543.783, ptv: 1221.071:  35%|██████████████████████████▋                                                 | 3293/9380 [58:51<1:45:45,  1.04s/it]"
     ]
    },
    {
     "name": "stdout",
     "output_type": "stream",
     "text": [
      "Adjusting learning rate of group 0 to 5.1502e-06.\n"
     ]
    },
    {
     "name": "stderr",
     "output_type": "stream",
     "text": [
      "loss: 1784.069, tv: 533.332, ptv: 1223.752:  35%|██████████████████████████▉                                                 | 3325/9380 [59:25<1:45:14,  1.04s/it]"
     ]
    },
    {
     "name": "stdout",
     "output_type": "stream",
     "text": [
      "Adjusting learning rate of group 0 to 5.0551e-06.\n"
     ]
    },
    {
     "name": "stderr",
     "output_type": "stream",
     "text": [
      "loss: 1885.910, tv: 538.293, ptv: 1223.114:  36%|███████████████████████████▏                                                | 3357/9380 [59:58<1:44:15,  1.04s/it]"
     ]
    },
    {
     "name": "stdout",
     "output_type": "stream",
     "text": [
      "Adjusting learning rate of group 0 to 4.9608e-06.\n"
     ]
    },
    {
     "name": "stderr",
     "output_type": "stream",
     "text": [
      "loss: 1705.743, tv: 534.789, ptv: 1223.971:  36%|██████████████████████████▋                                               | 3389/9380 [1:00:31<1:43:55,  1.04s/it]"
     ]
    },
    {
     "name": "stdout",
     "output_type": "stream",
     "text": [
      "Adjusting learning rate of group 0 to 4.8673e-06.\n"
     ]
    },
    {
     "name": "stderr",
     "output_type": "stream",
     "text": [
      "loss: 1808.161, tv: 544.359, ptv: 1223.675:  36%|██████████████████████████▉                                               | 3421/9380 [1:01:04<1:43:15,  1.04s/it]"
     ]
    },
    {
     "name": "stdout",
     "output_type": "stream",
     "text": [
      "Adjusting learning rate of group 0 to 4.7746e-06.\n"
     ]
    },
    {
     "name": "stderr",
     "output_type": "stream",
     "text": [
      "loss: 1752.367, tv: 527.403, ptv: 1214.830:  37%|███████████████████████████▏                                              | 3453/9380 [1:01:38<1:47:00,  1.08s/it]"
     ]
    },
    {
     "name": "stdout",
     "output_type": "stream",
     "text": [
      "Adjusting learning rate of group 0 to 4.6826e-06.\n"
     ]
    },
    {
     "name": "stderr",
     "output_type": "stream",
     "text": [
      "loss: 1768.340, tv: 535.297, ptv: 1225.110:  37%|███████████████████████████▍                                              | 3485/9380 [1:02:11<1:42:17,  1.04s/it]"
     ]
    },
    {
     "name": "stdout",
     "output_type": "stream",
     "text": [
      "Adjusting learning rate of group 0 to 4.5915e-06.\n"
     ]
    },
    {
     "name": "stderr",
     "output_type": "stream",
     "text": [
      "loss: 1731.829, tv: 539.195, ptv: 1218.339:  37%|███████████████████████████▋                                              | 3517/9380 [1:02:44<1:41:38,  1.04s/it]"
     ]
    },
    {
     "name": "stdout",
     "output_type": "stream",
     "text": [
      "Adjusting learning rate of group 0 to 4.5012e-06.\n"
     ]
    },
    {
     "name": "stderr",
     "output_type": "stream",
     "text": [
      "loss: 1730.068, tv: 535.867, ptv: 1215.536:  38%|███████████████████████████▉                                              | 3549/9380 [1:03:18<1:40:40,  1.04s/it]"
     ]
    },
    {
     "name": "stdout",
     "output_type": "stream",
     "text": [
      "Adjusting learning rate of group 0 to 4.4117e-06.\n"
     ]
    },
    {
     "name": "stderr",
     "output_type": "stream",
     "text": [
      "loss: 1773.825, tv: 528.861, ptv: 1224.224:  38%|████████████████████████████▎                                             | 3581/9380 [1:03:51<1:40:19,  1.04s/it]"
     ]
    },
    {
     "name": "stdout",
     "output_type": "stream",
     "text": [
      "Adjusting learning rate of group 0 to 4.3230e-06.\n"
     ]
    },
    {
     "name": "stderr",
     "output_type": "stream",
     "text": [
      "loss: 1700.473, tv: 535.803, ptv: 1219.321:  39%|████████████████████████████▌                                             | 3613/9380 [1:04:24<1:39:48,  1.04s/it]"
     ]
    },
    {
     "name": "stdout",
     "output_type": "stream",
     "text": [
      "Adjusting learning rate of group 0 to 4.2351e-06.\n"
     ]
    },
    {
     "name": "stderr",
     "output_type": "stream",
     "text": [
      "loss: 1738.358, tv: 531.960, ptv: 1210.395:  39%|████████████████████████████▊                                             | 3645/9380 [1:04:57<1:39:46,  1.04s/it]"
     ]
    },
    {
     "name": "stdout",
     "output_type": "stream",
     "text": [
      "Adjusting learning rate of group 0 to 4.1480e-06.\n"
     ]
    },
    {
     "name": "stderr",
     "output_type": "stream",
     "text": [
      "loss: 1822.531, tv: 532.367, ptv: 1211.293:  39%|█████████████████████████████                                             | 3677/9380 [1:05:31<1:38:59,  1.04s/it]"
     ]
    },
    {
     "name": "stdout",
     "output_type": "stream",
     "text": [
      "Adjusting learning rate of group 0 to 4.0618e-06.\n"
     ]
    },
    {
     "name": "stderr",
     "output_type": "stream",
     "text": [
      "loss: 1713.718, tv: 532.118, ptv: 1219.762:  40%|█████████████████████████████▎                                            | 3709/9380 [1:06:04<1:38:43,  1.04s/it]"
     ]
    },
    {
     "name": "stdout",
     "output_type": "stream",
     "text": [
      "Adjusting learning rate of group 0 to 3.9764e-06.\n"
     ]
    },
    {
     "name": "stderr",
     "output_type": "stream",
     "text": [
      "loss: 1786.251, tv: 530.952, ptv: 1225.015:  40%|█████████████████████████████▌                                            | 3741/9380 [1:06:38<1:37:36,  1.04s/it]"
     ]
    },
    {
     "name": "stdout",
     "output_type": "stream",
     "text": [
      "Adjusting learning rate of group 0 to 3.8918e-06.\n"
     ]
    },
    {
     "name": "stderr",
     "output_type": "stream",
     "text": [
      "loss: 1773.806, tv: 524.552, ptv: 1210.901:  40%|█████████████████████████████▊                                            | 3773/9380 [1:07:11<1:37:28,  1.04s/it]"
     ]
    },
    {
     "name": "stdout",
     "output_type": "stream",
     "text": [
      "Adjusting learning rate of group 0 to 3.8081e-06.\n"
     ]
    },
    {
     "name": "stderr",
     "output_type": "stream",
     "text": [
      "loss: 1719.949, tv: 528.242, ptv: 1216.916:  41%|██████████████████████████████                                            | 3805/9380 [1:07:44<1:36:56,  1.04s/it]"
     ]
    },
    {
     "name": "stdout",
     "output_type": "stream",
     "text": [
      "Adjusting learning rate of group 0 to 3.7251e-06.\n"
     ]
    },
    {
     "name": "stderr",
     "output_type": "stream",
     "text": [
      "loss: 1746.558, tv: 535.354, ptv: 1223.343:  41%|██████████████████████████████▎                                           | 3837/9380 [1:08:18<1:36:07,  1.04s/it]"
     ]
    },
    {
     "name": "stdout",
     "output_type": "stream",
     "text": [
      "Adjusting learning rate of group 0 to 3.6431e-06.\n"
     ]
    },
    {
     "name": "stderr",
     "output_type": "stream",
     "text": [
      "loss: 1719.507, tv: 538.090, ptv: 1212.765:  41%|██████████████████████████████▌                                           | 3869/9380 [1:08:51<1:35:53,  1.04s/it]"
     ]
    },
    {
     "name": "stdout",
     "output_type": "stream",
     "text": [
      "Adjusting learning rate of group 0 to 3.5618e-06.\n"
     ]
    },
    {
     "name": "stderr",
     "output_type": "stream",
     "text": [
      "loss: 1830.131, tv: 538.798, ptv: 1217.575:  42%|██████████████████████████████▊                                           | 3901/9380 [1:09:25<1:35:07,  1.04s/it]"
     ]
    },
    {
     "name": "stdout",
     "output_type": "stream",
     "text": [
      "Adjusting learning rate of group 0 to 3.4814e-06.\n"
     ]
    },
    {
     "name": "stderr",
     "output_type": "stream",
     "text": [
      "loss: 1718.397, tv: 534.848, ptv: 1219.860:  42%|███████████████████████████████                                           | 3933/9380 [1:09:58<1:35:06,  1.05s/it]"
     ]
    },
    {
     "name": "stdout",
     "output_type": "stream",
     "text": [
      "Adjusting learning rate of group 0 to 3.4019e-06.\n"
     ]
    },
    {
     "name": "stderr",
     "output_type": "stream",
     "text": [
      "loss: 1735.520, tv: 532.954, ptv: 1205.875:  42%|███████████████████████████████▎                                          | 3965/9380 [1:10:31<1:34:12,  1.04s/it]"
     ]
    },
    {
     "name": "stdout",
     "output_type": "stream",
     "text": [
      "Adjusting learning rate of group 0 to 3.3232e-06.\n"
     ]
    },
    {
     "name": "stderr",
     "output_type": "stream",
     "text": [
      "loss: 1797.578, tv: 536.733, ptv: 1213.805:  43%|███████████████████████████████▌                                          | 3997/9380 [1:11:05<1:33:24,  1.04s/it]"
     ]
    },
    {
     "name": "stdout",
     "output_type": "stream",
     "text": [
      "Adjusting learning rate of group 0 to 3.2454e-06.\n"
     ]
    },
    {
     "name": "stderr",
     "output_type": "stream",
     "text": [
      "loss: 1723.386, tv: 527.798, ptv: 1214.285:  43%|███████████████████████████████▊                                          | 4029/9380 [1:11:38<1:33:09,  1.04s/it]"
     ]
    },
    {
     "name": "stdout",
     "output_type": "stream",
     "text": [
      "Adjusting learning rate of group 0 to 3.1684e-06.\n"
     ]
    },
    {
     "name": "stderr",
     "output_type": "stream",
     "text": [
      "loss: 1811.114, tv: 524.528, ptv: 1213.852:  43%|████████████████████████████████                                          | 4061/9380 [1:12:12<1:32:27,  1.04s/it]"
     ]
    },
    {
     "name": "stdout",
     "output_type": "stream",
     "text": [
      "Adjusting learning rate of group 0 to 3.0923e-06.\n"
     ]
    },
    {
     "name": "stderr",
     "output_type": "stream",
     "text": [
      "loss: 1882.083, tv: 533.138, ptv: 1223.095:  44%|████████████████████████████████▎                                         | 4093/9380 [1:12:45<1:31:49,  1.04s/it]"
     ]
    },
    {
     "name": "stdout",
     "output_type": "stream",
     "text": [
      "Adjusting learning rate of group 0 to 3.0171e-06.\n"
     ]
    },
    {
     "name": "stderr",
     "output_type": "stream",
     "text": [
      "loss: 1781.707, tv: 537.575, ptv: 1221.845:  44%|████████████████████████████████▌                                         | 4125/9380 [1:13:18<1:31:21,  1.04s/it]"
     ]
    },
    {
     "name": "stdout",
     "output_type": "stream",
     "text": [
      "Adjusting learning rate of group 0 to 2.9427e-06.\n"
     ]
    },
    {
     "name": "stderr",
     "output_type": "stream",
     "text": [
      "loss: 1699.634, tv: 531.462, ptv: 1217.066:  44%|████████████████████████████████▊                                         | 4157/9380 [1:13:52<1:30:50,  1.04s/it]"
     ]
    },
    {
     "name": "stdout",
     "output_type": "stream",
     "text": [
      "Adjusting learning rate of group 0 to 2.8692e-06.\n"
     ]
    },
    {
     "name": "stderr",
     "output_type": "stream",
     "text": [
      "loss: 1743.829, tv: 528.759, ptv: 1213.057:  45%|█████████████████████████████████                                         | 4189/9380 [1:14:25<1:30:24,  1.05s/it]"
     ]
    },
    {
     "name": "stdout",
     "output_type": "stream",
     "text": [
      "Adjusting learning rate of group 0 to 2.7966e-06.\n"
     ]
    },
    {
     "name": "stderr",
     "output_type": "stream",
     "text": [
      "loss: 1852.275, tv: 535.557, ptv: 1230.710:  45%|█████████████████████████████████▎                                        | 4221/9380 [1:14:58<1:29:36,  1.04s/it]"
     ]
    },
    {
     "name": "stdout",
     "output_type": "stream",
     "text": [
      "Adjusting learning rate of group 0 to 2.7248e-06.\n"
     ]
    },
    {
     "name": "stderr",
     "output_type": "stream",
     "text": [
      "loss: 1777.084, tv: 536.069, ptv: 1213.173:  45%|█████████████████████████████████▌                                        | 4253/9380 [1:15:32<1:29:02,  1.04s/it]"
     ]
    },
    {
     "name": "stdout",
     "output_type": "stream",
     "text": [
      "Adjusting learning rate of group 0 to 2.6540e-06.\n"
     ]
    },
    {
     "name": "stderr",
     "output_type": "stream",
     "text": [
      "loss: 1870.896, tv: 530.529, ptv: 1221.385:  46%|█████████████████████████████████▊                                        | 4285/9380 [1:17:05<2:08:49,  1.52s/it]"
     ]
    },
    {
     "name": "stdout",
     "output_type": "stream",
     "text": [
      "Adjusting learning rate of group 0 to 2.5840e-06.\n"
     ]
    },
    {
     "name": "stderr",
     "output_type": "stream",
     "text": [
      "loss: 1745.994, tv: 538.967, ptv: 1218.021:  46%|██████████████████████████████████                                        | 4317/9380 [1:17:37<1:26:51,  1.03s/it]"
     ]
    },
    {
     "name": "stdout",
     "output_type": "stream",
     "text": [
      "Adjusting learning rate of group 0 to 2.5149e-06.\n"
     ]
    },
    {
     "name": "stderr",
     "output_type": "stream",
     "text": [
      "loss: 1834.204, tv: 534.282, ptv: 1215.779:  46%|██████████████████████████████████▎                                       | 4349/9380 [1:18:11<1:26:53,  1.04s/it]"
     ]
    },
    {
     "name": "stdout",
     "output_type": "stream",
     "text": [
      "Adjusting learning rate of group 0 to 2.4467e-06.\n"
     ]
    },
    {
     "name": "stderr",
     "output_type": "stream",
     "text": [
      "loss: 1721.516, tv: 529.152, ptv: 1215.668:  47%|██████████████████████████████████▌                                       | 4381/9380 [1:18:44<1:26:12,  1.03s/it]"
     ]
    },
    {
     "name": "stdout",
     "output_type": "stream",
     "text": [
      "Adjusting learning rate of group 0 to 2.3793e-06.\n"
     ]
    },
    {
     "name": "stderr",
     "output_type": "stream",
     "text": [
      "loss: 1712.596, tv: 528.943, ptv: 1218.968:  47%|██████████████████████████████████▊                                       | 4413/9380 [1:19:17<1:25:46,  1.04s/it]"
     ]
    },
    {
     "name": "stdout",
     "output_type": "stream",
     "text": [
      "Adjusting learning rate of group 0 to 2.3129e-06.\n"
     ]
    },
    {
     "name": "stderr",
     "output_type": "stream",
     "text": [
      "loss: 1792.506, tv: 523.088, ptv: 1208.861:  47%|███████████████████████████████████                                       | 4445/9380 [1:19:50<1:25:29,  1.04s/it]"
     ]
    },
    {
     "name": "stdout",
     "output_type": "stream",
     "text": [
      "Adjusting learning rate of group 0 to 2.2474e-06.\n"
     ]
    },
    {
     "name": "stderr",
     "output_type": "stream",
     "text": [
      "loss: 1788.548, tv: 529.002, ptv: 1230.962:  48%|███████████████████████████████████▎                                      | 4477/9380 [1:20:23<1:24:39,  1.04s/it]"
     ]
    },
    {
     "name": "stdout",
     "output_type": "stream",
     "text": [
      "Adjusting learning rate of group 0 to 2.1827e-06.\n"
     ]
    },
    {
     "name": "stderr",
     "output_type": "stream",
     "text": [
      "loss: 1766.448, tv: 537.236, ptv: 1215.996:  48%|███████████████████████████████████▌                                      | 4509/9380 [1:20:57<1:24:46,  1.04s/it]"
     ]
    },
    {
     "name": "stdout",
     "output_type": "stream",
     "text": [
      "Adjusting learning rate of group 0 to 2.1190e-06.\n"
     ]
    },
    {
     "name": "stderr",
     "output_type": "stream",
     "text": [
      "loss: 1772.743, tv: 525.686, ptv: 1223.407:  48%|███████████████████████████████████▊                                      | 4541/9380 [1:21:30<1:23:39,  1.04s/it]"
     ]
    },
    {
     "name": "stdout",
     "output_type": "stream",
     "text": [
      "Adjusting learning rate of group 0 to 2.0561e-06.\n"
     ]
    },
    {
     "name": "stderr",
     "output_type": "stream",
     "text": [
      "loss: 1768.922, tv: 524.754, ptv: 1209.984:  49%|████████████████████████████████████                                      | 4573/9380 [1:22:03<1:23:05,  1.04s/it]"
     ]
    },
    {
     "name": "stdout",
     "output_type": "stream",
     "text": [
      "Adjusting learning rate of group 0 to 1.9942e-06.\n"
     ]
    },
    {
     "name": "stderr",
     "output_type": "stream",
     "text": [
      "loss: 1777.059, tv: 527.954, ptv: 1223.076:  49%|████████████████████████████████████▎                                     | 4605/9380 [1:22:36<1:22:14,  1.03s/it]"
     ]
    },
    {
     "name": "stdout",
     "output_type": "stream",
     "text": [
      "Adjusting learning rate of group 0 to 1.9332e-06.\n"
     ]
    },
    {
     "name": "stderr",
     "output_type": "stream",
     "text": [
      "loss: 1722.940, tv: 529.311, ptv: 1220.201:  49%|████████████████████████████████████▌                                     | 4637/9380 [1:23:09<1:21:59,  1.04s/it]"
     ]
    },
    {
     "name": "stdout",
     "output_type": "stream",
     "text": [
      "Adjusting learning rate of group 0 to 1.8731e-06.\n"
     ]
    },
    {
     "name": "stderr",
     "output_type": "stream",
     "text": [
      "loss: 1777.314, tv: 530.268, ptv: 1216.086:  50%|████████████████████████████████████▊                                     | 4669/9380 [1:23:42<1:21:17,  1.04s/it]"
     ]
    },
    {
     "name": "stdout",
     "output_type": "stream",
     "text": [
      "Adjusting learning rate of group 0 to 1.8139e-06.\n"
     ]
    },
    {
     "name": "stderr",
     "output_type": "stream",
     "text": [
      "loss: 1758.587, tv: 529.733, ptv: 1216.110:  50%|█████████████████████████████████████                                     | 4701/9380 [1:24:16<1:20:46,  1.04s/it]"
     ]
    },
    {
     "name": "stdout",
     "output_type": "stream",
     "text": [
      "Adjusting learning rate of group 0 to 1.7556e-06.\n"
     ]
    },
    {
     "name": "stderr",
     "output_type": "stream",
     "text": [
      "loss: 1762.844, tv: 525.998, ptv: 1222.306:  50%|█████████████████████████████████████▎                                    | 4733/9380 [1:24:49<1:20:16,  1.04s/it]"
     ]
    },
    {
     "name": "stdout",
     "output_type": "stream",
     "text": [
      "Adjusting learning rate of group 0 to 1.6982e-06.\n"
     ]
    },
    {
     "name": "stderr",
     "output_type": "stream",
     "text": [
      "loss: 1727.219, tv: 525.373, ptv: 1204.027:  51%|█████████████████████████████████████▌                                    | 4765/9380 [1:25:22<1:19:08,  1.03s/it]"
     ]
    },
    {
     "name": "stdout",
     "output_type": "stream",
     "text": [
      "Adjusting learning rate of group 0 to 1.6418e-06.\n"
     ]
    },
    {
     "name": "stderr",
     "output_type": "stream",
     "text": [
      "loss: 1726.106, tv: 526.324, ptv: 1223.667:  51%|█████████████████████████████████████▊                                    | 4797/9380 [1:25:55<1:18:57,  1.03s/it]"
     ]
    },
    {
     "name": "stdout",
     "output_type": "stream",
     "text": [
      "Adjusting learning rate of group 0 to 1.5863e-06.\n"
     ]
    },
    {
     "name": "stderr",
     "output_type": "stream",
     "text": [
      "loss: 1718.478, tv: 524.107, ptv: 1216.612:  51%|██████████████████████████████████████                                    | 4829/9380 [1:26:28<1:18:33,  1.04s/it]"
     ]
    },
    {
     "name": "stdout",
     "output_type": "stream",
     "text": [
      "Adjusting learning rate of group 0 to 1.5317e-06.\n"
     ]
    },
    {
     "name": "stderr",
     "output_type": "stream",
     "text": [
      "loss: 1674.543, tv: 527.563, ptv: 1215.857:  52%|██████████████████████████████████████▎                                   | 4861/9380 [1:27:01<1:18:17,  1.04s/it]"
     ]
    },
    {
     "name": "stdout",
     "output_type": "stream",
     "text": [
      "Adjusting learning rate of group 0 to 1.4780e-06.\n"
     ]
    },
    {
     "name": "stderr",
     "output_type": "stream",
     "text": [
      "loss: 1777.535, tv: 526.934, ptv: 1216.559:  52%|██████████████████████████████████████▌                                   | 4893/9380 [1:27:34<1:17:38,  1.04s/it]"
     ]
    },
    {
     "name": "stdout",
     "output_type": "stream",
     "text": [
      "Adjusting learning rate of group 0 to 1.4252e-06.\n"
     ]
    },
    {
     "name": "stderr",
     "output_type": "stream",
     "text": [
      "loss: 1727.817, tv: 533.425, ptv: 1203.112:  53%|██████████████████████████████████████▊                                   | 4925/9380 [1:28:08<1:17:12,  1.04s/it]"
     ]
    },
    {
     "name": "stdout",
     "output_type": "stream",
     "text": [
      "Adjusting learning rate of group 0 to 1.3734e-06.\n"
     ]
    },
    {
     "name": "stderr",
     "output_type": "stream",
     "text": [
      "loss: 1739.687, tv: 528.712, ptv: 1213.690:  53%|███████████████████████████████████████                                   | 4957/9380 [1:28:41<1:16:37,  1.04s/it]"
     ]
    },
    {
     "name": "stdout",
     "output_type": "stream",
     "text": [
      "Adjusting learning rate of group 0 to 1.3225e-06.\n"
     ]
    },
    {
     "name": "stderr",
     "output_type": "stream",
     "text": [
      "loss: 1718.691, tv: 527.140, ptv: 1211.339:  53%|███████████████████████████████████████▎                                  | 4989/9380 [1:29:14<1:15:59,  1.04s/it]"
     ]
    },
    {
     "name": "stdout",
     "output_type": "stream",
     "text": [
      "Adjusting learning rate of group 0 to 1.2726e-06.\n"
     ]
    },
    {
     "name": "stderr",
     "output_type": "stream",
     "text": [
      "loss: 1770.772, tv: 524.287, ptv: 1218.979:  54%|███████████████████████████████████████▌                                  | 5021/9380 [1:29:48<1:15:23,  1.04s/it]"
     ]
    },
    {
     "name": "stdout",
     "output_type": "stream",
     "text": [
      "Adjusting learning rate of group 0 to 1.2236e-06.\n"
     ]
    },
    {
     "name": "stderr",
     "output_type": "stream",
     "text": [
      "loss: 1796.760, tv: 528.588, ptv: 1227.347:  54%|███████████████████████████████████████▊                                  | 5053/9380 [1:30:21<1:15:02,  1.04s/it]"
     ]
    },
    {
     "name": "stdout",
     "output_type": "stream",
     "text": [
      "Adjusting learning rate of group 0 to 1.1755e-06.\n"
     ]
    },
    {
     "name": "stderr",
     "output_type": "stream",
     "text": [
      "loss: 1739.861, tv: 534.353, ptv: 1224.853:  54%|████████████████████████████████████████                                  | 5085/9380 [1:30:54<1:14:20,  1.04s/it]"
     ]
    },
    {
     "name": "stdout",
     "output_type": "stream",
     "text": [
      "Adjusting learning rate of group 0 to 1.1284e-06.\n"
     ]
    },
    {
     "name": "stderr",
     "output_type": "stream",
     "text": [
      "loss: 1790.655, tv: 533.289, ptv: 1223.465:  55%|████████████████████████████████████████▎                                 | 5117/9380 [1:31:28<1:13:52,  1.04s/it]"
     ]
    },
    {
     "name": "stdout",
     "output_type": "stream",
     "text": [
      "Adjusting learning rate of group 0 to 1.0822e-06.\n"
     ]
    },
    {
     "name": "stderr",
     "output_type": "stream",
     "text": [
      "loss: 1782.887, tv: 524.774, ptv: 1217.927:  55%|████████████████████████████████████████▌                                 | 5149/9380 [1:32:01<1:13:31,  1.04s/it]"
     ]
    },
    {
     "name": "stdout",
     "output_type": "stream",
     "text": [
      "Adjusting learning rate of group 0 to 1.0370e-06.\n"
     ]
    },
    {
     "name": "stderr",
     "output_type": "stream",
     "text": [
      "loss: 1719.566, tv: 525.582, ptv: 1223.274:  55%|████████████████████████████████████████▊                                 | 5181/9380 [1:32:34<1:12:43,  1.04s/it]"
     ]
    },
    {
     "name": "stdout",
     "output_type": "stream",
     "text": [
      "Adjusting learning rate of group 0 to 9.9266e-07.\n"
     ]
    },
    {
     "name": "stderr",
     "output_type": "stream",
     "text": [
      "loss: 1686.083, tv: 533.470, ptv: 1217.947:  56%|█████████████████████████████████████████▏                                | 5213/9380 [1:33:07<1:12:27,  1.04s/it]"
     ]
    },
    {
     "name": "stdout",
     "output_type": "stream",
     "text": [
      "Adjusting learning rate of group 0 to 9.4931e-07.\n"
     ]
    },
    {
     "name": "stderr",
     "output_type": "stream",
     "text": [
      "loss: 1796.255, tv: 529.249, ptv: 1220.801:  56%|█████████████████████████████████████████▍                                | 5245/9380 [1:33:41<1:11:57,  1.04s/it]"
     ]
    },
    {
     "name": "stdout",
     "output_type": "stream",
     "text": [
      "Adjusting learning rate of group 0 to 9.0691e-07.\n"
     ]
    },
    {
     "name": "stderr",
     "output_type": "stream",
     "text": [
      "loss: 1732.428, tv: 532.813, ptv: 1204.813:  56%|█████████████████████████████████████████▋                                | 5277/9380 [1:34:14<1:11:10,  1.04s/it]"
     ]
    },
    {
     "name": "stdout",
     "output_type": "stream",
     "text": [
      "Adjusting learning rate of group 0 to 8.6546e-07.\n"
     ]
    },
    {
     "name": "stderr",
     "output_type": "stream",
     "text": [
      "loss: 1836.255, tv: 533.337, ptv: 1219.502:  57%|█████████████████████████████████████████▉                                | 5309/9380 [1:34:48<1:10:43,  1.04s/it]"
     ]
    },
    {
     "name": "stdout",
     "output_type": "stream",
     "text": [
      "Adjusting learning rate of group 0 to 8.2496e-07.\n"
     ]
    },
    {
     "name": "stderr",
     "output_type": "stream",
     "text": [
      "loss: 1789.599, tv: 527.676, ptv: 1228.042:  57%|██████████████████████████████████████████▏                               | 5341/9380 [1:35:21<1:10:20,  1.05s/it]"
     ]
    },
    {
     "name": "stdout",
     "output_type": "stream",
     "text": [
      "Adjusting learning rate of group 0 to 7.8542e-07.\n"
     ]
    },
    {
     "name": "stderr",
     "output_type": "stream",
     "text": [
      "loss: 1780.916, tv: 536.224, ptv: 1218.649:  57%|██████████████████████████████████████████▍                               | 5373/9380 [1:35:54<1:09:38,  1.04s/it]"
     ]
    },
    {
     "name": "stdout",
     "output_type": "stream",
     "text": [
      "Adjusting learning rate of group 0 to 7.4684e-07.\n"
     ]
    },
    {
     "name": "stderr",
     "output_type": "stream",
     "text": [
      "loss: 1735.050, tv: 529.392, ptv: 1219.848:  58%|██████████████████████████████████████████▋                               | 5405/9380 [1:36:28<1:08:56,  1.04s/it]"
     ]
    },
    {
     "name": "stdout",
     "output_type": "stream",
     "text": [
      "Adjusting learning rate of group 0 to 7.0921e-07.\n"
     ]
    },
    {
     "name": "stderr",
     "output_type": "stream",
     "text": [
      "loss: 1789.919, tv: 530.638, ptv: 1216.765:  58%|██████████████████████████████████████████▉                               | 5437/9380 [1:37:01<1:08:30,  1.04s/it]"
     ]
    },
    {
     "name": "stdout",
     "output_type": "stream",
     "text": [
      "Adjusting learning rate of group 0 to 6.7254e-07.\n"
     ]
    },
    {
     "name": "stderr",
     "output_type": "stream",
     "text": [
      "loss: 1771.604, tv: 524.641, ptv: 1221.655:  58%|███████████████████████████████████████████▏                              | 5469/9380 [1:37:34<1:07:55,  1.04s/it]"
     ]
    },
    {
     "name": "stdout",
     "output_type": "stream",
     "text": [
      "Adjusting learning rate of group 0 to 6.3683e-07.\n"
     ]
    },
    {
     "name": "stderr",
     "output_type": "stream",
     "text": [
      "loss: 1749.943, tv: 529.072, ptv: 1213.263:  59%|███████████████████████████████████████████▍                              | 5501/9380 [1:38:08<1:07:28,  1.04s/it]"
     ]
    },
    {
     "name": "stdout",
     "output_type": "stream",
     "text": [
      "Adjusting learning rate of group 0 to 6.0208e-07.\n"
     ]
    },
    {
     "name": "stderr",
     "output_type": "stream",
     "text": [
      "loss: 1759.053, tv: 528.387, ptv: 1226.076:  59%|███████████████████████████████████████████▋                              | 5533/9380 [1:38:41<1:06:50,  1.04s/it]"
     ]
    },
    {
     "name": "stdout",
     "output_type": "stream",
     "text": [
      "Adjusting learning rate of group 0 to 5.6830e-07.\n"
     ]
    },
    {
     "name": "stderr",
     "output_type": "stream",
     "text": [
      "loss: 1832.754, tv: 520.480, ptv: 1215.400:  59%|███████████████████████████████████████████▉                              | 5565/9380 [1:39:15<1:06:21,  1.04s/it]"
     ]
    },
    {
     "name": "stdout",
     "output_type": "stream",
     "text": [
      "Adjusting learning rate of group 0 to 5.3548e-07.\n"
     ]
    },
    {
     "name": "stderr",
     "output_type": "stream",
     "text": [
      "loss: 1726.108, tv: 519.225, ptv: 1215.290:  60%|████████████████████████████████████████████▏                             | 5597/9380 [1:39:48<1:05:44,  1.04s/it]"
     ]
    },
    {
     "name": "stdout",
     "output_type": "stream",
     "text": [
      "Adjusting learning rate of group 0 to 5.0362e-07.\n"
     ]
    },
    {
     "name": "stderr",
     "output_type": "stream",
     "text": [
      "loss: 1791.003, tv: 525.273, ptv: 1221.135:  60%|████████████████████████████████████████████▍                             | 5629/9380 [1:40:22<1:05:09,  1.04s/it]"
     ]
    },
    {
     "name": "stdout",
     "output_type": "stream",
     "text": [
      "Adjusting learning rate of group 0 to 4.7274e-07.\n"
     ]
    },
    {
     "name": "stderr",
     "output_type": "stream",
     "text": [
      "loss: 1753.161, tv: 519.129, ptv: 1215.573:  60%|████████████████████████████████████████████▋                             | 5661/9380 [1:40:55<1:04:35,  1.04s/it]"
     ]
    },
    {
     "name": "stdout",
     "output_type": "stream",
     "text": [
      "Adjusting learning rate of group 0 to 4.4282e-07.\n"
     ]
    },
    {
     "name": "stderr",
     "output_type": "stream",
     "text": [
      "loss: 1754.471, tv: 530.560, ptv: 1222.842:  61%|████████████████████████████████████████████▉                             | 5693/9380 [1:41:28<1:04:14,  1.05s/it]"
     ]
    },
    {
     "name": "stdout",
     "output_type": "stream",
     "text": [
      "Adjusting learning rate of group 0 to 4.1387e-07.\n"
     ]
    },
    {
     "name": "stderr",
     "output_type": "stream",
     "text": [
      "loss: 1735.286, tv: 534.595, ptv: 1218.329:  61%|█████████████████████████████████████████████▏                            | 5725/9380 [1:42:02<1:03:26,  1.04s/it]"
     ]
    },
    {
     "name": "stdout",
     "output_type": "stream",
     "text": [
      "Adjusting learning rate of group 0 to 3.8589e-07.\n"
     ]
    },
    {
     "name": "stderr",
     "output_type": "stream",
     "text": [
      "loss: 1810.565, tv: 520.349, ptv: 1219.327:  61%|█████████████████████████████████████████████▍                            | 5757/9380 [1:42:35<1:03:06,  1.05s/it]"
     ]
    },
    {
     "name": "stdout",
     "output_type": "stream",
     "text": [
      "Adjusting learning rate of group 0 to 3.5889e-07.\n"
     ]
    },
    {
     "name": "stderr",
     "output_type": "stream",
     "text": [
      "loss: 1775.235, tv: 525.463, ptv: 1211.963:  62%|█████████████████████████████████████████████▋                            | 5789/9380 [1:43:09<1:02:31,  1.04s/it]"
     ]
    },
    {
     "name": "stdout",
     "output_type": "stream",
     "text": [
      "Adjusting learning rate of group 0 to 3.3285e-07.\n"
     ]
    },
    {
     "name": "stderr",
     "output_type": "stream",
     "text": [
      "loss: 1762.837, tv: 522.587, ptv: 1215.835:  62%|█████████████████████████████████████████████▉                            | 5821/9380 [1:43:42<1:01:52,  1.04s/it]"
     ]
    },
    {
     "name": "stdout",
     "output_type": "stream",
     "text": [
      "Adjusting learning rate of group 0 to 3.0779e-07.\n"
     ]
    },
    {
     "name": "stderr",
     "output_type": "stream",
     "text": [
      "loss: 1706.323, tv: 524.498, ptv: 1222.187:  62%|██████████████████████████████████████████████▏                           | 5853/9380 [1:44:16<1:01:23,  1.04s/it]"
     ]
    },
    {
     "name": "stdout",
     "output_type": "stream",
     "text": [
      "Adjusting learning rate of group 0 to 2.8371e-07.\n"
     ]
    },
    {
     "name": "stderr",
     "output_type": "stream",
     "text": [
      "loss: 1734.296, tv: 530.629, ptv: 1221.733:  63%|██████████████████████████████████████████████▍                           | 5885/9380 [1:44:49<1:00:43,  1.04s/it]"
     ]
    },
    {
     "name": "stdout",
     "output_type": "stream",
     "text": [
      "Adjusting learning rate of group 0 to 2.6060e-07.\n"
     ]
    },
    {
     "name": "stderr",
     "output_type": "stream",
     "text": [
      "loss: 1752.225, tv: 529.043, ptv: 1214.337:  63%|██████████████████████████████████████████████▋                           | 5917/9380 [1:45:22<1:00:03,  1.04s/it]"
     ]
    },
    {
     "name": "stdout",
     "output_type": "stream",
     "text": [
      "Adjusting learning rate of group 0 to 2.3846e-07.\n"
     ]
    },
    {
     "name": "stderr",
     "output_type": "stream",
     "text": [
      "loss: 1692.709, tv: 525.966, ptv: 1218.545:  63%|████████████████████████████████████████████████▏                           | 5949/9380 [1:45:56<59:24,  1.04s/it]"
     ]
    },
    {
     "name": "stdout",
     "output_type": "stream",
     "text": [
      "Adjusting learning rate of group 0 to 2.1731e-07.\n"
     ]
    },
    {
     "name": "stderr",
     "output_type": "stream",
     "text": [
      "loss: 1726.474, tv: 527.595, ptv: 1221.872:  64%|████████████████████████████████████████████████▍                           | 5981/9380 [1:47:34<58:09,  1.03s/it]"
     ]
    },
    {
     "name": "stdout",
     "output_type": "stream",
     "text": [
      "Adjusting learning rate of group 0 to 1.9713e-07.\n"
     ]
    },
    {
     "name": "stderr",
     "output_type": "stream",
     "text": [
      "loss: 1856.098, tv: 526.698, ptv: 1225.625:  64%|████████████████████████████████████████████████▋                           | 6013/9380 [1:48:06<57:53,  1.03s/it]"
     ]
    },
    {
     "name": "stdout",
     "output_type": "stream",
     "text": [
      "Adjusting learning rate of group 0 to 1.7793e-07.\n"
     ]
    },
    {
     "name": "stderr",
     "output_type": "stream",
     "text": [
      "loss: 1791.316, tv: 524.697, ptv: 1214.569:  64%|████████████████████████████████████████████████▉                           | 6045/9380 [1:48:40<57:28,  1.03s/it]"
     ]
    },
    {
     "name": "stdout",
     "output_type": "stream",
     "text": [
      "Adjusting learning rate of group 0 to 1.5972e-07.\n"
     ]
    },
    {
     "name": "stderr",
     "output_type": "stream",
     "text": [
      "loss: 1801.310, tv: 522.694, ptv: 1233.980:  65%|█████████████████████████████████████████████████▏                          | 6077/9380 [1:49:13<56:49,  1.03s/it]"
     ]
    },
    {
     "name": "stdout",
     "output_type": "stream",
     "text": [
      "Adjusting learning rate of group 0 to 1.4248e-07.\n"
     ]
    },
    {
     "name": "stderr",
     "output_type": "stream",
     "text": [
      "loss: 1723.832, tv: 530.011, ptv: 1219.991:  65%|█████████████████████████████████████████████████▍                          | 6109/9380 [1:49:46<56:15,  1.03s/it]"
     ]
    },
    {
     "name": "stdout",
     "output_type": "stream",
     "text": [
      "Adjusting learning rate of group 0 to 1.2622e-07.\n"
     ]
    },
    {
     "name": "stderr",
     "output_type": "stream",
     "text": [
      "loss: 1746.346, tv: 532.864, ptv: 1213.413:  65%|█████████████████████████████████████████████████▊                          | 6141/9380 [1:50:19<55:43,  1.03s/it]"
     ]
    },
    {
     "name": "stdout",
     "output_type": "stream",
     "text": [
      "Adjusting learning rate of group 0 to 1.1095e-07.\n"
     ]
    },
    {
     "name": "stderr",
     "output_type": "stream",
     "text": [
      "loss: 1753.542, tv: 529.213, ptv: 1222.289:  66%|██████████████████████████████████████████████████                          | 6173/9380 [1:50:52<55:39,  1.04s/it]"
     ]
    },
    {
     "name": "stdout",
     "output_type": "stream",
     "text": [
      "Adjusting learning rate of group 0 to 9.6660e-08.\n"
     ]
    },
    {
     "name": "stderr",
     "output_type": "stream",
     "text": [
      "loss: 1716.685, tv: 527.053, ptv: 1215.665:  66%|██████████████████████████████████████████████████▎                         | 6205/9380 [1:51:25<55:13,  1.04s/it]"
     ]
    },
    {
     "name": "stdout",
     "output_type": "stream",
     "text": [
      "Adjusting learning rate of group 0 to 8.3352e-08.\n"
     ]
    },
    {
     "name": "stderr",
     "output_type": "stream",
     "text": [
      "loss: 1815.605, tv: 524.153, ptv: 1210.723:  66%|██████████████████████████████████████████████████▌                         | 6237/9380 [1:51:59<54:19,  1.04s/it]"
     ]
    },
    {
     "name": "stdout",
     "output_type": "stream",
     "text": [
      "Adjusting learning rate of group 0 to 7.1027e-08.\n"
     ]
    },
    {
     "name": "stderr",
     "output_type": "stream",
     "text": [
      "loss: 1782.088, tv: 522.392, ptv: 1211.129:  67%|██████████████████████████████████████████████████▊                         | 6269/9380 [1:52:32<53:54,  1.04s/it]"
     ]
    },
    {
     "name": "stdout",
     "output_type": "stream",
     "text": [
      "Adjusting learning rate of group 0 to 5.9687e-08.\n"
     ]
    },
    {
     "name": "stderr",
     "output_type": "stream",
     "text": [
      "loss: 1749.015, tv: 522.826, ptv: 1218.344:  67%|███████████████████████████████████████████████████                         | 6301/9380 [1:53:05<53:06,  1.03s/it]"
     ]
    },
    {
     "name": "stdout",
     "output_type": "stream",
     "text": [
      "Adjusting learning rate of group 0 to 4.9332e-08.\n"
     ]
    },
    {
     "name": "stderr",
     "output_type": "stream",
     "text": [
      "loss: 1749.708, tv: 530.459, ptv: 1221.191:  68%|███████████████████████████████████████████████████▎                        | 6333/9380 [1:53:38<52:51,  1.04s/it]"
     ]
    },
    {
     "name": "stdout",
     "output_type": "stream",
     "text": [
      "Adjusting learning rate of group 0 to 3.9961e-08.\n"
     ]
    },
    {
     "name": "stderr",
     "output_type": "stream",
     "text": [
      "loss: 1765.946, tv: 529.966, ptv: 1214.833:  68%|███████████████████████████████████████████████████▌                        | 6365/9380 [1:54:12<52:17,  1.04s/it]"
     ]
    },
    {
     "name": "stdout",
     "output_type": "stream",
     "text": [
      "Adjusting learning rate of group 0 to 3.1576e-08.\n"
     ]
    },
    {
     "name": "stderr",
     "output_type": "stream",
     "text": [
      "loss: 1669.167, tv: 521.557, ptv: 1214.534:  68%|███████████████████████████████████████████████████▊                        | 6397/9380 [1:54:45<51:29,  1.04s/it]"
     ]
    },
    {
     "name": "stdout",
     "output_type": "stream",
     "text": [
      "Adjusting learning rate of group 0 to 2.4177e-08.\n"
     ]
    },
    {
     "name": "stderr",
     "output_type": "stream",
     "text": [
      "loss: 1707.434, tv: 528.197, ptv: 1223.084:  69%|████████████████████████████████████████████████████                        | 6429/9380 [1:55:18<51:17,  1.04s/it]"
     ]
    },
    {
     "name": "stdout",
     "output_type": "stream",
     "text": [
      "Adjusting learning rate of group 0 to 1.7763e-08.\n"
     ]
    },
    {
     "name": "stderr",
     "output_type": "stream",
     "text": [
      "loss: 1753.084, tv: 528.679, ptv: 1225.077:  69%|████████████████████████████████████████████████████▎                       | 6461/9380 [1:55:52<50:42,  1.04s/it]"
     ]
    },
    {
     "name": "stdout",
     "output_type": "stream",
     "text": [
      "Adjusting learning rate of group 0 to 1.2336e-08.\n"
     ]
    },
    {
     "name": "stderr",
     "output_type": "stream",
     "text": [
      "loss: 1802.553, tv: 538.205, ptv: 1219.087:  69%|████████████████████████████████████████████████████▌                       | 6493/9380 [1:56:25<50:21,  1.05s/it]"
     ]
    },
    {
     "name": "stdout",
     "output_type": "stream",
     "text": [
      "Adjusting learning rate of group 0 to 7.8953e-09.\n"
     ]
    },
    {
     "name": "stderr",
     "output_type": "stream",
     "text": [
      "loss: 1751.850, tv: 533.731, ptv: 1223.414:  70%|████████████████████████████████████████████████████▊                       | 6525/9380 [1:56:58<49:40,  1.04s/it]"
     ]
    },
    {
     "name": "stdout",
     "output_type": "stream",
     "text": [
      "Adjusting learning rate of group 0 to 4.4412e-09.\n"
     ]
    },
    {
     "name": "stderr",
     "output_type": "stream",
     "text": [
      "loss: 1791.206, tv: 530.306, ptv: 1217.866:  70%|█████████████████████████████████████████████████████▏                      | 6557/9380 [1:57:32<48:49,  1.04s/it]"
     ]
    },
    {
     "name": "stdout",
     "output_type": "stream",
     "text": [
      "Adjusting learning rate of group 0 to 1.9739e-09.\n"
     ]
    },
    {
     "name": "stderr",
     "output_type": "stream",
     "text": [
      "loss: 1788.085, tv: 527.562, ptv: 1213.430:  70%|█████████████████████████████████████████████████████▍                      | 6589/9380 [1:58:05<48:15,  1.04s/it]"
     ]
    },
    {
     "name": "stdout",
     "output_type": "stream",
     "text": [
      "Adjusting learning rate of group 0 to 4.9348e-10.\n"
     ]
    },
    {
     "name": "stderr",
     "output_type": "stream",
     "text": [
      "loss: 1816.498, tv: 522.689, ptv: 1211.749:  71%|█████████████████████████████████████████████████████▋                      | 6621/9380 [1:58:38<47:40,  1.04s/it]"
     ]
    },
    {
     "name": "stdout",
     "output_type": "stream",
     "text": [
      "Adjusting learning rate of group 0 to 0.0000e+00.\n"
     ]
    },
    {
     "name": "stderr",
     "output_type": "stream",
     "text": [
      "loss: 1792.195, tv: 531.003, ptv: 1220.813:  71%|█████████████████████████████████████████████████████▉                      | 6653/9380 [1:59:11<47:15,  1.04s/it]"
     ]
    },
    {
     "name": "stdout",
     "output_type": "stream",
     "text": [
      "Adjusting learning rate of group 0 to 4.9348e-10.\n"
     ]
    },
    {
     "name": "stderr",
     "output_type": "stream",
     "text": [
      "loss: 1729.343, tv: 527.783, ptv: 1219.938:  71%|██████████████████████████████████████████████████████▏                     | 6685/9380 [1:59:44<46:46,  1.04s/it]"
     ]
    },
    {
     "name": "stdout",
     "output_type": "stream",
     "text": [
      "Adjusting learning rate of group 0 to 1.9739e-09.\n"
     ]
    },
    {
     "name": "stderr",
     "output_type": "stream",
     "text": [
      "loss: 1721.299, tv: 520.836, ptv: 1217.707:  72%|██████████████████████████████████████████████████████▍                     | 6717/9380 [2:00:18<46:10,  1.04s/it]"
     ]
    },
    {
     "name": "stdout",
     "output_type": "stream",
     "text": [
      "Adjusting learning rate of group 0 to 4.4412e-09.\n"
     ]
    },
    {
     "name": "stderr",
     "output_type": "stream",
     "text": [
      "loss: 1775.269, tv: 526.649, ptv: 1223.181:  72%|██████████████████████████████████████████████████████▋                     | 6749/9380 [2:00:51<45:40,  1.04s/it]"
     ]
    },
    {
     "name": "stdout",
     "output_type": "stream",
     "text": [
      "Adjusting learning rate of group 0 to 7.8953e-09.\n"
     ]
    },
    {
     "name": "stderr",
     "output_type": "stream",
     "text": [
      "loss: 1735.228, tv: 520.116, ptv: 1214.199:  72%|██████████████████████████████████████████████████████▉                     | 6781/9380 [2:01:24<45:06,  1.04s/it]"
     ]
    },
    {
     "name": "stdout",
     "output_type": "stream",
     "text": [
      "Adjusting learning rate of group 0 to 1.2336e-08.\n"
     ]
    },
    {
     "name": "stderr",
     "output_type": "stream",
     "text": [
      "loss: 1827.219, tv: 528.490, ptv: 1217.506:  73%|███████████████████████████████████████████████████████▏                    | 6813/9380 [2:01:58<44:34,  1.04s/it]"
     ]
    },
    {
     "name": "stdout",
     "output_type": "stream",
     "text": [
      "Adjusting learning rate of group 0 to 1.7763e-08.\n"
     ]
    },
    {
     "name": "stderr",
     "output_type": "stream",
     "text": [
      "loss: 1745.149, tv: 526.948, ptv: 1216.524:  73%|███████████████████████████████████████████████████████▍                    | 6845/9380 [2:02:28<39:55,  1.06it/s]"
     ]
    },
    {
     "name": "stdout",
     "output_type": "stream",
     "text": [
      "Adjusting learning rate of group 0 to 2.4177e-08.\n"
     ]
    },
    {
     "name": "stderr",
     "output_type": "stream",
     "text": [
      "loss: 1708.578, tv: 529.989, ptv: 1212.191:  73%|███████████████████████████████████████████████████████▋                    | 6877/9380 [2:02:59<39:26,  1.06it/s]"
     ]
    },
    {
     "name": "stdout",
     "output_type": "stream",
     "text": [
      "Adjusting learning rate of group 0 to 3.1576e-08.\n"
     ]
    },
    {
     "name": "stderr",
     "output_type": "stream",
     "text": [
      "loss: 1733.541, tv: 523.915, ptv: 1202.977:  74%|███████████████████████████████████████████████████████▉                    | 6909/9380 [2:03:29<38:59,  1.06it/s]"
     ]
    },
    {
     "name": "stdout",
     "output_type": "stream",
     "text": [
      "Adjusting learning rate of group 0 to 3.9961e-08.\n"
     ]
    },
    {
     "name": "stderr",
     "output_type": "stream",
     "text": [
      "loss: 1770.734, tv: 526.951, ptv: 1209.148:  74%|████████████████████████████████████████████████████████▏                   | 6941/9380 [2:03:59<38:25,  1.06it/s]"
     ]
    },
    {
     "name": "stdout",
     "output_type": "stream",
     "text": [
      "Adjusting learning rate of group 0 to 4.9332e-08.\n"
     ]
    },
    {
     "name": "stderr",
     "output_type": "stream",
     "text": [
      "loss: 1767.092, tv: 532.047, ptv: 1216.405:  74%|████████████████████████████████████████████████████████▍                   | 6973/9380 [2:04:29<38:03,  1.05it/s]"
     ]
    },
    {
     "name": "stdout",
     "output_type": "stream",
     "text": [
      "Adjusting learning rate of group 0 to 5.9687e-08.\n"
     ]
    },
    {
     "name": "stderr",
     "output_type": "stream",
     "text": [
      "loss: 1722.030, tv: 526.302, ptv: 1223.810:  75%|████████████████████████████████████████████████████████▊                   | 7005/9380 [2:04:59<37:28,  1.06it/s]"
     ]
    },
    {
     "name": "stdout",
     "output_type": "stream",
     "text": [
      "Adjusting learning rate of group 0 to 7.1027e-08.\n"
     ]
    },
    {
     "name": "stderr",
     "output_type": "stream",
     "text": [
      "loss: 1797.174, tv: 519.345, ptv: 1220.138:  75%|█████████████████████████████████████████████████████████                   | 7037/9380 [2:05:30<37:10,  1.05it/s]"
     ]
    },
    {
     "name": "stdout",
     "output_type": "stream",
     "text": [
      "Adjusting learning rate of group 0 to 8.3352e-08.\n"
     ]
    },
    {
     "name": "stderr",
     "output_type": "stream",
     "text": [
      "loss: 1785.432, tv: 528.273, ptv: 1221.016:  75%|█████████████████████████████████████████████████████████▎                  | 7069/9380 [2:06:00<36:25,  1.06it/s]"
     ]
    },
    {
     "name": "stdout",
     "output_type": "stream",
     "text": [
      "Adjusting learning rate of group 0 to 9.6660e-08.\n"
     ]
    },
    {
     "name": "stderr",
     "output_type": "stream",
     "text": [
      "loss: 1747.774, tv: 522.777, ptv: 1219.263:  76%|█████████████████████████████████████████████████████████▌                  | 7101/9380 [2:06:30<36:06,  1.05it/s]"
     ]
    },
    {
     "name": "stdout",
     "output_type": "stream",
     "text": [
      "Adjusting learning rate of group 0 to 1.1095e-07.\n"
     ]
    },
    {
     "name": "stderr",
     "output_type": "stream",
     "text": [
      "loss: 1769.580, tv: 527.269, ptv: 1230.844:  76%|█████████████████████████████████████████████████████████▊                  | 7133/9380 [2:07:01<35:33,  1.05it/s]"
     ]
    },
    {
     "name": "stdout",
     "output_type": "stream",
     "text": [
      "Adjusting learning rate of group 0 to 1.2622e-07.\n"
     ]
    },
    {
     "name": "stderr",
     "output_type": "stream",
     "text": [
      "loss: 1864.383, tv: 526.984, ptv: 1221.918:  76%|██████████████████████████████████████████████████████████                  | 7165/9380 [2:07:32<37:22,  1.01s/it]"
     ]
    },
    {
     "name": "stdout",
     "output_type": "stream",
     "text": [
      "Adjusting learning rate of group 0 to 1.4248e-07.\n"
     ]
    },
    {
     "name": "stderr",
     "output_type": "stream",
     "text": [
      "loss: 1749.345, tv: 526.097, ptv: 1212.554:  77%|██████████████████████████████████████████████████████████▎                 | 7197/9380 [2:08:05<38:09,  1.05s/it]"
     ]
    },
    {
     "name": "stdout",
     "output_type": "stream",
     "text": [
      "Adjusting learning rate of group 0 to 1.5972e-07.\n"
     ]
    },
    {
     "name": "stderr",
     "output_type": "stream",
     "text": [
      "loss: 1680.930, tv: 527.604, ptv: 1214.225:  77%|██████████████████████████████████████████████████████████▌                 | 7229/9380 [2:08:39<37:24,  1.04s/it]"
     ]
    },
    {
     "name": "stdout",
     "output_type": "stream",
     "text": [
      "Adjusting learning rate of group 0 to 1.7793e-07.\n"
     ]
    },
    {
     "name": "stderr",
     "output_type": "stream",
     "text": [
      "loss: 1777.358, tv: 531.809, ptv: 1218.610:  77%|██████████████████████████████████████████████████████████▊                 | 7261/9380 [2:09:12<36:45,  1.04s/it]"
     ]
    },
    {
     "name": "stdout",
     "output_type": "stream",
     "text": [
      "Adjusting learning rate of group 0 to 1.9713e-07.\n"
     ]
    },
    {
     "name": "stderr",
     "output_type": "stream",
     "text": [
      "loss: 1736.396, tv: 518.141, ptv: 1213.568:  78%|███████████████████████████████████████████████████████████                 | 7293/9380 [2:09:45<36:14,  1.04s/it]"
     ]
    },
    {
     "name": "stdout",
     "output_type": "stream",
     "text": [
      "Adjusting learning rate of group 0 to 2.1731e-07.\n"
     ]
    },
    {
     "name": "stderr",
     "output_type": "stream",
     "text": [
      "loss: 1695.185, tv: 529.887, ptv: 1220.997:  78%|███████████████████████████████████████████████████████████▎                | 7325/9380 [2:10:19<35:37,  1.04s/it]"
     ]
    },
    {
     "name": "stdout",
     "output_type": "stream",
     "text": [
      "Adjusting learning rate of group 0 to 2.3846e-07.\n"
     ]
    },
    {
     "name": "stderr",
     "output_type": "stream",
     "text": [
      "loss: 1739.106, tv: 523.528, ptv: 1210.887:  78%|███████████████████████████████████████████████████████████▌                | 7357/9380 [2:10:52<35:02,  1.04s/it]"
     ]
    },
    {
     "name": "stdout",
     "output_type": "stream",
     "text": [
      "Adjusting learning rate of group 0 to 2.6060e-07.\n"
     ]
    },
    {
     "name": "stderr",
     "output_type": "stream",
     "text": [
      "loss: 1794.752, tv: 523.010, ptv: 1233.940:  79%|███████████████████████████████████████████████████████████▊                | 7389/9380 [2:11:25<34:34,  1.04s/it]"
     ]
    },
    {
     "name": "stdout",
     "output_type": "stream",
     "text": [
      "Adjusting learning rate of group 0 to 2.8371e-07.\n"
     ]
    },
    {
     "name": "stderr",
     "output_type": "stream",
     "text": [
      "loss: 1720.248, tv: 523.976, ptv: 1222.049:  79%|████████████████████████████████████████████████████████████▏               | 7421/9380 [2:11:59<33:55,  1.04s/it]"
     ]
    },
    {
     "name": "stdout",
     "output_type": "stream",
     "text": [
      "Adjusting learning rate of group 0 to 3.0779e-07.\n"
     ]
    },
    {
     "name": "stderr",
     "output_type": "stream",
     "text": [
      "loss: 1735.930, tv: 519.395, ptv: 1205.912:  79%|████████████████████████████████████████████████████████████▍               | 7453/9380 [2:12:32<33:30,  1.04s/it]"
     ]
    },
    {
     "name": "stdout",
     "output_type": "stream",
     "text": [
      "Adjusting learning rate of group 0 to 3.3285e-07.\n"
     ]
    },
    {
     "name": "stderr",
     "output_type": "stream",
     "text": [
      "loss: 1660.281, tv: 528.129, ptv: 1215.691:  80%|████████████████████████████████████████████████████████████▋               | 7485/9380 [2:13:05<32:52,  1.04s/it]"
     ]
    },
    {
     "name": "stdout",
     "output_type": "stream",
     "text": [
      "Adjusting learning rate of group 0 to 3.5889e-07.\n"
     ]
    },
    {
     "name": "stderr",
     "output_type": "stream",
     "text": [
      "loss: 1770.568, tv: 531.283, ptv: 1224.419:  80%|████████████████████████████████████████████████████████████▉               | 7517/9380 [2:13:39<32:22,  1.04s/it]"
     ]
    },
    {
     "name": "stdout",
     "output_type": "stream",
     "text": [
      "Adjusting learning rate of group 0 to 3.8589e-07.\n"
     ]
    },
    {
     "name": "stderr",
     "output_type": "stream",
     "text": [
      "loss: 1733.140, tv: 530.435, ptv: 1223.285:  80%|█████████████████████████████████████████████████████████████▏              | 7549/9380 [2:14:12<31:53,  1.04s/it]"
     ]
    },
    {
     "name": "stdout",
     "output_type": "stream",
     "text": [
      "Adjusting learning rate of group 0 to 4.1387e-07.\n"
     ]
    },
    {
     "name": "stderr",
     "output_type": "stream",
     "text": [
      "loss: 1711.833, tv: 528.526, ptv: 1212.331:  81%|█████████████████████████████████████████████████████████████▍              | 7581/9380 [2:14:46<31:09,  1.04s/it]"
     ]
    },
    {
     "name": "stdout",
     "output_type": "stream",
     "text": [
      "Adjusting learning rate of group 0 to 4.4282e-07.\n"
     ]
    },
    {
     "name": "stderr",
     "output_type": "stream",
     "text": [
      "loss: 1758.464, tv: 529.016, ptv: 1212.681:  81%|█████████████████████████████████████████████████████████████▋              | 7613/9380 [2:15:19<31:24,  1.07s/it]"
     ]
    },
    {
     "name": "stdout",
     "output_type": "stream",
     "text": [
      "Adjusting learning rate of group 0 to 4.7274e-07.\n"
     ]
    },
    {
     "name": "stderr",
     "output_type": "stream",
     "text": [
      "loss: 1695.555, tv: 530.151, ptv: 1218.768:  82%|█████████████████████████████████████████████████████████████▉              | 7645/9380 [2:15:52<30:10,  1.04s/it]"
     ]
    },
    {
     "name": "stdout",
     "output_type": "stream",
     "text": [
      "Adjusting learning rate of group 0 to 5.0362e-07.\n"
     ]
    },
    {
     "name": "stderr",
     "output_type": "stream",
     "text": [
      "loss: 1723.896, tv: 530.256, ptv: 1225.939:  82%|██████████████████████████████████████████████████████████████▏             | 7677/9380 [2:16:26<29:45,  1.05s/it]"
     ]
    },
    {
     "name": "stdout",
     "output_type": "stream",
     "text": [
      "Adjusting learning rate of group 0 to 5.3548e-07.\n"
     ]
    },
    {
     "name": "stderr",
     "output_type": "stream",
     "text": [
      "loss: 1736.661, tv: 533.349, ptv: 1224.932:  82%|██████████████████████████████████████████████████████████████▍             | 7709/9380 [2:16:59<29:02,  1.04s/it]"
     ]
    },
    {
     "name": "stdout",
     "output_type": "stream",
     "text": [
      "Adjusting learning rate of group 0 to 5.6830e-07.\n"
     ]
    },
    {
     "name": "stderr",
     "output_type": "stream",
     "text": [
      "loss: 1743.176, tv: 525.691, ptv: 1218.409:  83%|██████████████████████████████████████████████████████████████▋             | 7741/9380 [2:17:33<28:30,  1.04s/it]"
     ]
    },
    {
     "name": "stdout",
     "output_type": "stream",
     "text": [
      "Adjusting learning rate of group 0 to 6.0208e-07.\n"
     ]
    },
    {
     "name": "stderr",
     "output_type": "stream",
     "text": [
      "loss: 1831.284, tv: 529.193, ptv: 1213.554:  83%|██████████████████████████████████████████████████████████████▉             | 7773/9380 [2:19:15<59:17,  2.21s/it]"
     ]
    },
    {
     "name": "stdout",
     "output_type": "stream",
     "text": [
      "Adjusting learning rate of group 0 to 6.3683e-07.\n"
     ]
    },
    {
     "name": "stderr",
     "output_type": "stream",
     "text": [
      "loss: 1774.361, tv: 529.578, ptv: 1219.101:  83%|███████████████████████████████████████████████████████████████▏            | 7805/9380 [2:19:48<26:57,  1.03s/it]"
     ]
    },
    {
     "name": "stdout",
     "output_type": "stream",
     "text": [
      "Adjusting learning rate of group 0 to 6.7254e-07.\n"
     ]
    },
    {
     "name": "stderr",
     "output_type": "stream",
     "text": [
      "loss: 1749.222, tv: 524.576, ptv: 1204.030:  84%|███████████████████████████████████████████████████████████████▍            | 7837/9380 [2:20:21<26:43,  1.04s/it]"
     ]
    },
    {
     "name": "stdout",
     "output_type": "stream",
     "text": [
      "Adjusting learning rate of group 0 to 7.0921e-07.\n"
     ]
    },
    {
     "name": "stderr",
     "output_type": "stream",
     "text": [
      "loss: 1839.944, tv: 529.514, ptv: 1218.735:  84%|███████████████████████████████████████████████████████████████▊            | 7869/9380 [2:20:54<26:09,  1.04s/it]"
     ]
    },
    {
     "name": "stdout",
     "output_type": "stream",
     "text": [
      "Adjusting learning rate of group 0 to 7.4684e-07.\n"
     ]
    },
    {
     "name": "stderr",
     "output_type": "stream",
     "text": [
      "loss: 1750.485, tv: 528.645, ptv: 1222.371:  84%|████████████████████████████████████████████████████████████████            | 7901/9380 [2:21:28<25:40,  1.04s/it]"
     ]
    },
    {
     "name": "stdout",
     "output_type": "stream",
     "text": [
      "Adjusting learning rate of group 0 to 7.8542e-07.\n"
     ]
    },
    {
     "name": "stderr",
     "output_type": "stream",
     "text": [
      "loss: 1733.869, tv: 521.253, ptv: 1216.344:  85%|████████████████████████████████████████████████████████████████▎           | 7933/9380 [2:22:01<25:06,  1.04s/it]"
     ]
    },
    {
     "name": "stdout",
     "output_type": "stream",
     "text": [
      "Adjusting learning rate of group 0 to 8.2496e-07.\n"
     ]
    },
    {
     "name": "stderr",
     "output_type": "stream",
     "text": [
      "loss: 1769.622, tv: 529.076, ptv: 1217.694:  85%|████████████████████████████████████████████████████████████████▌           | 7965/9380 [2:22:34<24:34,  1.04s/it]"
     ]
    },
    {
     "name": "stdout",
     "output_type": "stream",
     "text": [
      "Adjusting learning rate of group 0 to 8.6546e-07.\n"
     ]
    },
    {
     "name": "stderr",
     "output_type": "stream",
     "text": [
      "loss: 1798.979, tv: 527.522, ptv: 1223.947:  85%|████████████████████████████████████████████████████████████████▊           | 7997/9380 [2:23:07<23:54,  1.04s/it]"
     ]
    },
    {
     "name": "stdout",
     "output_type": "stream",
     "text": [
      "Adjusting learning rate of group 0 to 9.0691e-07.\n"
     ]
    },
    {
     "name": "stderr",
     "output_type": "stream",
     "text": [
      "loss: 1713.343, tv: 524.724, ptv: 1226.038:  86%|█████████████████████████████████████████████████████████████████           | 8029/9380 [2:23:41<23:29,  1.04s/it]"
     ]
    },
    {
     "name": "stdout",
     "output_type": "stream",
     "text": [
      "Adjusting learning rate of group 0 to 9.4931e-07.\n"
     ]
    },
    {
     "name": "stderr",
     "output_type": "stream",
     "text": [
      "loss: 1730.920, tv: 526.525, ptv: 1210.218:  86%|█████████████████████████████████████████████████████████████████▎          | 8061/9380 [2:24:14<22:53,  1.04s/it]"
     ]
    },
    {
     "name": "stdout",
     "output_type": "stream",
     "text": [
      "Adjusting learning rate of group 0 to 9.9266e-07.\n"
     ]
    },
    {
     "name": "stderr",
     "output_type": "stream",
     "text": [
      "loss: 1720.105, tv: 525.750, ptv: 1216.664:  86%|█████████████████████████████████████████████████████████████████▌          | 8093/9380 [2:24:47<22:13,  1.04s/it]"
     ]
    },
    {
     "name": "stdout",
     "output_type": "stream",
     "text": [
      "Adjusting learning rate of group 0 to 1.0370e-06.\n"
     ]
    },
    {
     "name": "stderr",
     "output_type": "stream",
     "text": [
      "loss: 1704.866, tv: 525.992, ptv: 1208.496:  87%|█████████████████████████████████████████████████████████████████▊          | 8125/9380 [2:25:21<21:46,  1.04s/it]"
     ]
    },
    {
     "name": "stdout",
     "output_type": "stream",
     "text": [
      "Adjusting learning rate of group 0 to 1.0822e-06.\n"
     ]
    },
    {
     "name": "stderr",
     "output_type": "stream",
     "text": [
      "loss: 1789.296, tv: 522.457, ptv: 1221.412:  87%|██████████████████████████████████████████████████████████████████          | 8157/9380 [2:25:54<21:09,  1.04s/it]"
     ]
    },
    {
     "name": "stdout",
     "output_type": "stream",
     "text": [
      "Adjusting learning rate of group 0 to 1.1284e-06.\n"
     ]
    },
    {
     "name": "stderr",
     "output_type": "stream",
     "text": [
      "loss: 1698.565, tv: 531.775, ptv: 1211.934:  87%|██████████████████████████████████████████████████████████████████▎         | 8189/9380 [2:26:27<20:38,  1.04s/it]"
     ]
    },
    {
     "name": "stdout",
     "output_type": "stream",
     "text": [
      "Adjusting learning rate of group 0 to 1.1755e-06.\n"
     ]
    },
    {
     "name": "stderr",
     "output_type": "stream",
     "text": [
      "loss: 1789.106, tv: 529.202, ptv: 1218.706:  88%|██████████████████████████████████████████████████████████████████▌         | 8221/9380 [2:27:00<20:01,  1.04s/it]"
     ]
    },
    {
     "name": "stdout",
     "output_type": "stream",
     "text": [
      "Adjusting learning rate of group 0 to 1.2236e-06.\n"
     ]
    },
    {
     "name": "stderr",
     "output_type": "stream",
     "text": [
      "loss: 1734.578, tv: 530.123, ptv: 1200.707:  88%|██████████████████████████████████████████████████████████████████▊         | 8253/9380 [2:27:34<19:37,  1.04s/it]"
     ]
    },
    {
     "name": "stdout",
     "output_type": "stream",
     "text": [
      "Adjusting learning rate of group 0 to 1.2726e-06.\n"
     ]
    },
    {
     "name": "stderr",
     "output_type": "stream",
     "text": [
      "loss: 1744.277, tv: 527.754, ptv: 1215.262:  88%|███████████████████████████████████████████████████████████████████▏        | 8285/9380 [2:28:07<19:07,  1.05s/it]"
     ]
    },
    {
     "name": "stdout",
     "output_type": "stream",
     "text": [
      "Adjusting learning rate of group 0 to 1.3225e-06.\n"
     ]
    },
    {
     "name": "stderr",
     "output_type": "stream",
     "text": [
      "loss: 1737.770, tv: 533.645, ptv: 1224.957:  89%|███████████████████████████████████████████████████████████████████▍        | 8317/9380 [2:28:41<18:32,  1.05s/it]"
     ]
    },
    {
     "name": "stdout",
     "output_type": "stream",
     "text": [
      "Adjusting learning rate of group 0 to 1.3734e-06.\n"
     ]
    },
    {
     "name": "stderr",
     "output_type": "stream",
     "text": [
      "loss: 1701.689, tv: 526.889, ptv: 1222.378:  89%|███████████████████████████████████████████████████████████████████▋        | 8349/9380 [2:29:14<17:56,  1.04s/it]"
     ]
    },
    {
     "name": "stdout",
     "output_type": "stream",
     "text": [
      "Adjusting learning rate of group 0 to 1.4252e-06.\n"
     ]
    },
    {
     "name": "stderr",
     "output_type": "stream",
     "text": [
      "loss: 1707.660, tv: 522.535, ptv: 1215.000:  89%|███████████████████████████████████████████████████████████████████▉        | 8381/9380 [2:29:48<17:23,  1.04s/it]"
     ]
    },
    {
     "name": "stdout",
     "output_type": "stream",
     "text": [
      "Adjusting learning rate of group 0 to 1.4780e-06.\n"
     ]
    },
    {
     "name": "stderr",
     "output_type": "stream",
     "text": [
      "loss: 1787.928, tv: 527.614, ptv: 1228.867:  90%|████████████████████████████████████████████████████████████████████▏       | 8413/9380 [2:30:21<16:46,  1.04s/it]"
     ]
    },
    {
     "name": "stdout",
     "output_type": "stream",
     "text": [
      "Adjusting learning rate of group 0 to 1.5317e-06.\n"
     ]
    },
    {
     "name": "stderr",
     "output_type": "stream",
     "text": [
      "loss: 1795.255, tv: 523.042, ptv: 1221.871:  90%|████████████████████████████████████████████████████████████████████▍       | 8445/9380 [2:30:54<16:13,  1.04s/it]"
     ]
    },
    {
     "name": "stdout",
     "output_type": "stream",
     "text": [
      "Adjusting learning rate of group 0 to 1.5863e-06.\n"
     ]
    },
    {
     "name": "stderr",
     "output_type": "stream",
     "text": [
      "loss: 1825.160, tv: 530.449, ptv: 1226.287:  90%|████████████████████████████████████████████████████████████████████▋       | 8477/9380 [2:31:27<15:37,  1.04s/it]"
     ]
    },
    {
     "name": "stdout",
     "output_type": "stream",
     "text": [
      "Adjusting learning rate of group 0 to 1.6418e-06.\n"
     ]
    },
    {
     "name": "stderr",
     "output_type": "stream",
     "text": [
      "loss: 1750.741, tv: 530.597, ptv: 1214.372:  91%|████████████████████████████████████████████████████████████████████▉       | 8509/9380 [2:32:01<15:06,  1.04s/it]"
     ]
    },
    {
     "name": "stdout",
     "output_type": "stream",
     "text": [
      "Adjusting learning rate of group 0 to 1.6982e-06.\n"
     ]
    },
    {
     "name": "stderr",
     "output_type": "stream",
     "text": [
      "loss: 1751.575, tv: 528.643, ptv: 1218.433:  91%|█████████████████████████████████████████████████████████████████████▏      | 8541/9380 [2:32:34<14:33,  1.04s/it]"
     ]
    },
    {
     "name": "stdout",
     "output_type": "stream",
     "text": [
      "Adjusting learning rate of group 0 to 1.7556e-06.\n"
     ]
    },
    {
     "name": "stderr",
     "output_type": "stream",
     "text": [
      "loss: 1832.046, tv: 533.929, ptv: 1214.894:  91%|█████████████████████████████████████████████████████████████████████▍      | 8573/9380 [2:33:07<13:58,  1.04s/it]"
     ]
    },
    {
     "name": "stdout",
     "output_type": "stream",
     "text": [
      "Adjusting learning rate of group 0 to 1.8139e-06.\n"
     ]
    },
    {
     "name": "stderr",
     "output_type": "stream",
     "text": [
      "loss: 1696.866, tv: 527.996, ptv: 1212.855:  92%|█████████████████████████████████████████████████████████████████████▋      | 8605/9380 [2:33:41<13:26,  1.04s/it]"
     ]
    },
    {
     "name": "stdout",
     "output_type": "stream",
     "text": [
      "Adjusting learning rate of group 0 to 1.8731e-06.\n"
     ]
    },
    {
     "name": "stderr",
     "output_type": "stream",
     "text": [
      "loss: 1753.630, tv: 530.057, ptv: 1214.333:  92%|█████████████████████████████████████████████████████████████████████▉      | 8637/9380 [2:34:14<12:57,  1.05s/it]"
     ]
    },
    {
     "name": "stdout",
     "output_type": "stream",
     "text": [
      "Adjusting learning rate of group 0 to 1.9332e-06.\n"
     ]
    },
    {
     "name": "stderr",
     "output_type": "stream",
     "text": [
      "loss: 1774.129, tv: 530.846, ptv: 1217.347:  92%|██████████████████████████████████████████████████████████████████████▏     | 8669/9380 [2:34:47<12:21,  1.04s/it]"
     ]
    },
    {
     "name": "stdout",
     "output_type": "stream",
     "text": [
      "Adjusting learning rate of group 0 to 1.9942e-06.\n"
     ]
    },
    {
     "name": "stderr",
     "output_type": "stream",
     "text": [
      "loss: 1786.491, tv: 527.937, ptv: 1221.349:  93%|██████████████████████████████████████████████████████████████████████▍     | 8701/9380 [2:35:20<11:42,  1.04s/it]"
     ]
    },
    {
     "name": "stdout",
     "output_type": "stream",
     "text": [
      "Adjusting learning rate of group 0 to 2.0561e-06.\n"
     ]
    },
    {
     "name": "stderr",
     "output_type": "stream",
     "text": [
      "loss: 1789.950, tv: 529.649, ptv: 1227.044:  93%|██████████████████████████████████████████████████████████████████████▊     | 8733/9380 [2:35:54<11:12,  1.04s/it]"
     ]
    },
    {
     "name": "stdout",
     "output_type": "stream",
     "text": [
      "Adjusting learning rate of group 0 to 2.1190e-06.\n"
     ]
    },
    {
     "name": "stderr",
     "output_type": "stream",
     "text": [
      "loss: 1775.064, tv: 524.744, ptv: 1225.094:  93%|███████████████████████████████████████████████████████████████████████     | 8765/9380 [2:36:27<10:38,  1.04s/it]"
     ]
    },
    {
     "name": "stdout",
     "output_type": "stream",
     "text": [
      "Adjusting learning rate of group 0 to 2.1827e-06.\n"
     ]
    },
    {
     "name": "stderr",
     "output_type": "stream",
     "text": [
      "loss: 1710.338, tv: 524.709, ptv: 1223.088:  94%|███████████████████████████████████████████████████████████████████████▎    | 8797/9380 [2:37:00<10:05,  1.04s/it]"
     ]
    },
    {
     "name": "stdout",
     "output_type": "stream",
     "text": [
      "Adjusting learning rate of group 0 to 2.2474e-06.\n"
     ]
    },
    {
     "name": "stderr",
     "output_type": "stream",
     "text": [
      "loss: 1694.217, tv: 524.288, ptv: 1217.364:  94%|███████████████████████████████████████████████████████████████████████▌    | 8829/9380 [2:37:33<09:34,  1.04s/it]"
     ]
    },
    {
     "name": "stdout",
     "output_type": "stream",
     "text": [
      "Adjusting learning rate of group 0 to 2.3129e-06.\n"
     ]
    },
    {
     "name": "stderr",
     "output_type": "stream",
     "text": [
      "loss: 1776.298, tv: 527.849, ptv: 1213.714:  94%|███████████████████████████████████████████████████████████████████████▊    | 8861/9380 [2:38:07<08:59,  1.04s/it]"
     ]
    },
    {
     "name": "stdout",
     "output_type": "stream",
     "text": [
      "Adjusting learning rate of group 0 to 2.3793e-06.\n"
     ]
    },
    {
     "name": "stderr",
     "output_type": "stream",
     "text": [
      "loss: 1849.516, tv: 530.968, ptv: 1230.762:  95%|████████████████████████████████████████████████████████████████████████    | 8893/9380 [2:38:40<08:28,  1.04s/it]"
     ]
    },
    {
     "name": "stdout",
     "output_type": "stream",
     "text": [
      "Adjusting learning rate of group 0 to 2.4467e-06.\n"
     ]
    },
    {
     "name": "stderr",
     "output_type": "stream",
     "text": [
      "loss: 1803.039, tv: 532.340, ptv: 1224.349:  95%|████████████████████████████████████████████████████████████████████████▎   | 8925/9380 [2:39:14<07:52,  1.04s/it]"
     ]
    },
    {
     "name": "stdout",
     "output_type": "stream",
     "text": [
      "Adjusting learning rate of group 0 to 2.5149e-06.\n"
     ]
    },
    {
     "name": "stderr",
     "output_type": "stream",
     "text": [
      "loss: 1764.828, tv: 525.195, ptv: 1216.082:  95%|████████████████████████████████████████████████████████████████████████▌   | 8957/9380 [2:39:47<07:21,  1.04s/it]"
     ]
    },
    {
     "name": "stdout",
     "output_type": "stream",
     "text": [
      "Adjusting learning rate of group 0 to 2.5840e-06.\n"
     ]
    },
    {
     "name": "stderr",
     "output_type": "stream",
     "text": [
      "loss: 1783.605, tv: 521.026, ptv: 1213.213:  96%|████████████████████████████████████████████████████████████████████████▊   | 8989/9380 [2:40:21<06:49,  1.05s/it]"
     ]
    },
    {
     "name": "stdout",
     "output_type": "stream",
     "text": [
      "Adjusting learning rate of group 0 to 2.6540e-06.\n"
     ]
    },
    {
     "name": "stderr",
     "output_type": "stream",
     "text": [
      "loss: 1727.760, tv: 525.000, ptv: 1205.133:  96%|█████████████████████████████████████████████████████████████████████████   | 9021/9380 [2:40:54<06:14,  1.04s/it]"
     ]
    },
    {
     "name": "stdout",
     "output_type": "stream",
     "text": [
      "Adjusting learning rate of group 0 to 2.7248e-06.\n"
     ]
    },
    {
     "name": "stderr",
     "output_type": "stream",
     "text": [
      "loss: 1717.878, tv: 534.919, ptv: 1211.240:  97%|█████████████████████████████████████████████████████████████████████████▎  | 9053/9380 [2:41:27<05:41,  1.04s/it]"
     ]
    },
    {
     "name": "stdout",
     "output_type": "stream",
     "text": [
      "Adjusting learning rate of group 0 to 2.7966e-06.\n"
     ]
    },
    {
     "name": "stderr",
     "output_type": "stream",
     "text": [
      "loss: 1793.533, tv: 535.401, ptv: 1224.498:  97%|█████████████████████████████████████████████████████████████████████████▌  | 9085/9380 [2:42:00<05:06,  1.04s/it]"
     ]
    },
    {
     "name": "stdout",
     "output_type": "stream",
     "text": [
      "Adjusting learning rate of group 0 to 2.8692e-06.\n"
     ]
    },
    {
     "name": "stderr",
     "output_type": "stream",
     "text": [
      "loss: 1760.082, tv: 526.021, ptv: 1209.266:  97%|█████████████████████████████████████████████████████████████████████████▊  | 9117/9380 [2:42:34<04:34,  1.05s/it]"
     ]
    },
    {
     "name": "stdout",
     "output_type": "stream",
     "text": [
      "Adjusting learning rate of group 0 to 2.9427e-06.\n"
     ]
    },
    {
     "name": "stderr",
     "output_type": "stream",
     "text": [
      "loss: 1785.889, tv: 531.951, ptv: 1221.339:  98%|██████████████████████████████████████████████████████████████████████████▏ | 9149/9380 [2:43:07<04:01,  1.05s/it]"
     ]
    },
    {
     "name": "stdout",
     "output_type": "stream",
     "text": [
      "Adjusting learning rate of group 0 to 3.0171e-06.\n"
     ]
    },
    {
     "name": "stderr",
     "output_type": "stream",
     "text": [
      "loss: 1786.091, tv: 533.252, ptv: 1216.708:  98%|██████████████████████████████████████████████████████████████████████████▍ | 9181/9380 [2:43:41<03:27,  1.04s/it]"
     ]
    },
    {
     "name": "stdout",
     "output_type": "stream",
     "text": [
      "Adjusting learning rate of group 0 to 3.0923e-06.\n"
     ]
    },
    {
     "name": "stderr",
     "output_type": "stream",
     "text": [
      "loss: 1712.455, tv: 528.810, ptv: 1212.750:  98%|██████████████████████████████████████████████████████████████████████████▋ | 9213/9380 [2:44:14<02:54,  1.04s/it]"
     ]
    },
    {
     "name": "stdout",
     "output_type": "stream",
     "text": [
      "Adjusting learning rate of group 0 to 3.1684e-06.\n"
     ]
    },
    {
     "name": "stderr",
     "output_type": "stream",
     "text": [
      "loss: 1850.356, tv: 528.015, ptv: 1219.760:  99%|██████████████████████████████████████████████████████████████████████████▉ | 9245/9380 [2:44:47<02:20,  1.04s/it]"
     ]
    },
    {
     "name": "stdout",
     "output_type": "stream",
     "text": [
      "Adjusting learning rate of group 0 to 3.2454e-06.\n"
     ]
    },
    {
     "name": "stderr",
     "output_type": "stream",
     "text": [
      "loss: 1719.097, tv: 527.924, ptv: 1213.429:  99%|███████████████████████████████████████████████████████████████████████████▏| 9277/9380 [2:45:21<01:47,  1.04s/it]"
     ]
    },
    {
     "name": "stdout",
     "output_type": "stream",
     "text": [
      "Adjusting learning rate of group 0 to 3.3232e-06.\n"
     ]
    },
    {
     "name": "stderr",
     "output_type": "stream",
     "text": [
      "loss: 1813.675, tv: 523.106, ptv: 1210.832:  99%|███████████████████████████████████████████████████████████████████████████▍| 9309/9380 [2:45:54<01:13,  1.04s/it]"
     ]
    },
    {
     "name": "stdout",
     "output_type": "stream",
     "text": [
      "Adjusting learning rate of group 0 to 3.4019e-06.\n"
     ]
    },
    {
     "name": "stderr",
     "output_type": "stream",
     "text": [
      "loss: 1738.659, tv: 529.286, ptv: 1219.927: 100%|███████████████████████████████████████████████████████████████████████████▋| 9341/9380 [2:46:27<00:40,  1.04s/it]"
     ]
    },
    {
     "name": "stdout",
     "output_type": "stream",
     "text": [
      "Adjusting learning rate of group 0 to 3.4814e-06.\n"
     ]
    },
    {
     "name": "stderr",
     "output_type": "stream",
     "text": [
      "loss: 1721.987, tv: 532.886, ptv: 1217.957: 100%|███████████████████████████████████████████████████████████████████████████▉| 9373/9380 [2:47:01<00:07,  1.04s/it]"
     ]
    },
    {
     "name": "stdout",
     "output_type": "stream",
     "text": [
      "Adjusting learning rate of group 0 to 3.5618e-06.\n"
     ]
    },
    {
     "name": "stderr",
     "output_type": "stream",
     "text": [
      "loss: 1789.946, tv: 529.360, ptv: 1219.525: 100%|████████████████████████████████████████████████████████████████████████████| 9380/9380 [2:47:07<00:00,  1.07s/it]\n"
     ]
    },
    {
     "name": "stdout",
     "output_type": "stream",
     "text": [
      "In epoch 1, average traning loss is 540.1311507675996.\n"
     ]
    },
    {
     "name": "stderr",
     "output_type": "stream",
     "text": [
      "loss: 1798.610, tv: 529.651, ptv: 1205.916:   0%|▏                                                                             | 26/9380 [00:27<2:42:29,  1.04s/it]"
     ]
    },
    {
     "name": "stdout",
     "output_type": "stream",
     "text": [
      "Adjusting learning rate of group 0 to 3.6431e-06.\n"
     ]
    },
    {
     "name": "stderr",
     "output_type": "stream",
     "text": [
      "loss: 1768.008, tv: 528.099, ptv: 1207.446:   1%|▍                                                                             | 58/9380 [01:00<2:40:50,  1.04s/it]"
     ]
    },
    {
     "name": "stdout",
     "output_type": "stream",
     "text": [
      "Adjusting learning rate of group 0 to 3.7251e-06.\n"
     ]
    },
    {
     "name": "stderr",
     "output_type": "stream",
     "text": [
      "loss: 1738.318, tv: 528.703, ptv: 1208.040:   1%|▋                                                                             | 90/9380 [01:33<2:40:57,  1.04s/it]"
     ]
    },
    {
     "name": "stdout",
     "output_type": "stream",
     "text": [
      "Adjusting learning rate of group 0 to 3.8081e-06.\n"
     ]
    },
    {
     "name": "stderr",
     "output_type": "stream",
     "text": [
      "loss: 1728.246, tv: 540.008, ptv: 1225.042:   1%|█                                                                            | 122/9380 [02:07<2:40:21,  1.04s/it]"
     ]
    },
    {
     "name": "stdout",
     "output_type": "stream",
     "text": [
      "Adjusting learning rate of group 0 to 3.8918e-06.\n"
     ]
    },
    {
     "name": "stderr",
     "output_type": "stream",
     "text": [
      "loss: 1717.116, tv: 526.510, ptv: 1221.260:   2%|█▎                                                                           | 154/9380 [02:40<2:39:32,  1.04s/it]"
     ]
    },
    {
     "name": "stdout",
     "output_type": "stream",
     "text": [
      "Adjusting learning rate of group 0 to 3.9764e-06.\n"
     ]
    },
    {
     "name": "stderr",
     "output_type": "stream",
     "text": [
      "loss: 1765.828, tv: 528.206, ptv: 1210.626:   2%|█▌                                                                           | 186/9380 [03:13<2:39:29,  1.04s/it]"
     ]
    },
    {
     "name": "stdout",
     "output_type": "stream",
     "text": [
      "Adjusting learning rate of group 0 to 4.0618e-06.\n"
     ]
    },
    {
     "name": "stderr",
     "output_type": "stream",
     "text": [
      "loss: 1781.524, tv: 537.191, ptv: 1219.358:   2%|█▊                                                                           | 218/9380 [03:46<2:38:22,  1.04s/it]"
     ]
    },
    {
     "name": "stdout",
     "output_type": "stream",
     "text": [
      "Adjusting learning rate of group 0 to 4.1480e-06.\n"
     ]
    },
    {
     "name": "stderr",
     "output_type": "stream",
     "text": [
      "loss: 1781.108, tv: 538.029, ptv: 1221.542:   3%|██                                                                           | 250/9380 [04:19<2:37:59,  1.04s/it]"
     ]
    },
    {
     "name": "stdout",
     "output_type": "stream",
     "text": [
      "Adjusting learning rate of group 0 to 4.2351e-06.\n"
     ]
    },
    {
     "name": "stderr",
     "output_type": "stream",
     "text": [
      "loss: 1721.647, tv: 527.060, ptv: 1210.186:   3%|██▎                                                                          | 282/9380 [06:05<2:36:06,  1.03s/it]"
     ]
    },
    {
     "name": "stdout",
     "output_type": "stream",
     "text": [
      "Adjusting learning rate of group 0 to 4.3230e-06.\n"
     ]
    },
    {
     "name": "stderr",
     "output_type": "stream",
     "text": [
      "loss: 1806.582, tv: 529.415, ptv: 1215.537:   3%|██▌                                                                          | 314/9380 [06:38<2:35:17,  1.03s/it]"
     ]
    },
    {
     "name": "stdout",
     "output_type": "stream",
     "text": [
      "Adjusting learning rate of group 0 to 4.4117e-06.\n"
     ]
    },
    {
     "name": "stderr",
     "output_type": "stream",
     "text": [
      "loss: 1825.837, tv: 524.316, ptv: 1214.449:   4%|██▊                                                                          | 346/9380 [07:11<2:35:39,  1.03s/it]"
     ]
    },
    {
     "name": "stdout",
     "output_type": "stream",
     "text": [
      "Adjusting learning rate of group 0 to 4.5012e-06.\n"
     ]
    },
    {
     "name": "stderr",
     "output_type": "stream",
     "text": [
      "loss: 1720.228, tv: 538.783, ptv: 1212.495:   4%|███                                                                          | 378/9380 [07:44<2:36:42,  1.04s/it]"
     ]
    },
    {
     "name": "stdout",
     "output_type": "stream",
     "text": [
      "Adjusting learning rate of group 0 to 4.5915e-06.\n"
     ]
    },
    {
     "name": "stderr",
     "output_type": "stream",
     "text": [
      "loss: 1747.483, tv: 536.404, ptv: 1220.882:   4%|███▎                                                                         | 410/9380 [08:17<2:34:20,  1.03s/it]"
     ]
    },
    {
     "name": "stdout",
     "output_type": "stream",
     "text": [
      "Adjusting learning rate of group 0 to 4.6826e-06.\n"
     ]
    },
    {
     "name": "stderr",
     "output_type": "stream",
     "text": [
      "loss: 1761.106, tv: 529.057, ptv: 1222.917:   5%|███▋                                                                         | 442/9380 [08:50<2:34:29,  1.04s/it]"
     ]
    },
    {
     "name": "stdout",
     "output_type": "stream",
     "text": [
      "Adjusting learning rate of group 0 to 4.7746e-06.\n"
     ]
    },
    {
     "name": "stderr",
     "output_type": "stream",
     "text": [
      "loss: 1709.097, tv: 527.996, ptv: 1216.817:   5%|███▉                                                                         | 474/9380 [09:23<2:33:49,  1.04s/it]"
     ]
    },
    {
     "name": "stdout",
     "output_type": "stream",
     "text": [
      "Adjusting learning rate of group 0 to 4.8673e-06.\n"
     ]
    },
    {
     "name": "stderr",
     "output_type": "stream",
     "text": [
      "loss: 1721.219, tv: 527.373, ptv: 1207.172:   5%|████▏                                                                        | 506/9380 [09:57<2:33:25,  1.04s/it]"
     ]
    },
    {
     "name": "stdout",
     "output_type": "stream",
     "text": [
      "Adjusting learning rate of group 0 to 4.9608e-06.\n"
     ]
    },
    {
     "name": "stderr",
     "output_type": "stream",
     "text": [
      "loss: 1790.476, tv: 539.295, ptv: 1222.219:   6%|████▍                                                                        | 538/9380 [10:30<2:33:03,  1.04s/it]"
     ]
    },
    {
     "name": "stdout",
     "output_type": "stream",
     "text": [
      "Adjusting learning rate of group 0 to 5.0551e-06.\n"
     ]
    },
    {
     "name": "stderr",
     "output_type": "stream",
     "text": [
      "loss: 1804.694, tv: 527.678, ptv: 1218.099:   6%|████▋                                                                        | 570/9380 [11:03<2:32:27,  1.04s/it]"
     ]
    },
    {
     "name": "stdout",
     "output_type": "stream",
     "text": [
      "Adjusting learning rate of group 0 to 5.1502e-06.\n"
     ]
    },
    {
     "name": "stderr",
     "output_type": "stream",
     "text": [
      "loss: 1787.674, tv: 527.485, ptv: 1211.935:   6%|████▉                                                                        | 602/9380 [11:36<2:31:59,  1.04s/it]"
     ]
    },
    {
     "name": "stdout",
     "output_type": "stream",
     "text": [
      "Adjusting learning rate of group 0 to 5.2461e-06.\n"
     ]
    },
    {
     "name": "stderr",
     "output_type": "stream",
     "text": [
      "loss: 1685.979, tv: 533.467, ptv: 1215.837:   7%|█████▏                                                                       | 634/9380 [12:09<2:30:12,  1.03s/it]"
     ]
    },
    {
     "name": "stdout",
     "output_type": "stream",
     "text": [
      "Adjusting learning rate of group 0 to 5.3428e-06.\n"
     ]
    },
    {
     "name": "stderr",
     "output_type": "stream",
     "text": [
      "loss: 1799.720, tv: 543.793, ptv: 1210.105:   7%|█████▍                                                                       | 666/9380 [12:42<2:30:31,  1.04s/it]"
     ]
    },
    {
     "name": "stdout",
     "output_type": "stream",
     "text": [
      "Adjusting learning rate of group 0 to 5.4402e-06.\n"
     ]
    },
    {
     "name": "stderr",
     "output_type": "stream",
     "text": [
      "loss: 1791.096, tv: 530.137, ptv: 1228.269:   7%|█████▋                                                                       | 698/9380 [13:16<2:29:41,  1.03s/it]"
     ]
    },
    {
     "name": "stdout",
     "output_type": "stream",
     "text": [
      "Adjusting learning rate of group 0 to 5.5384e-06.\n"
     ]
    },
    {
     "name": "stderr",
     "output_type": "stream",
     "text": [
      "loss: 1765.607, tv: 528.404, ptv: 1220.148:   8%|█████▉                                                                       | 730/9380 [13:49<2:29:18,  1.04s/it]"
     ]
    },
    {
     "name": "stdout",
     "output_type": "stream",
     "text": [
      "Adjusting learning rate of group 0 to 5.6374e-06.\n"
     ]
    },
    {
     "name": "stderr",
     "output_type": "stream",
     "text": [
      "loss: 1726.247, tv: 526.121, ptv: 1214.676:   8%|██████▎                                                                      | 762/9380 [14:22<2:29:08,  1.04s/it]"
     ]
    },
    {
     "name": "stdout",
     "output_type": "stream",
     "text": [
      "Adjusting learning rate of group 0 to 5.7372e-06.\n"
     ]
    },
    {
     "name": "stderr",
     "output_type": "stream",
     "text": [
      "loss: 1900.932, tv: 527.229, ptv: 1219.156:   8%|██████▌                                                                      | 794/9380 [14:55<2:29:49,  1.05s/it]"
     ]
    },
    {
     "name": "stdout",
     "output_type": "stream",
     "text": [
      "Adjusting learning rate of group 0 to 5.8377e-06.\n"
     ]
    },
    {
     "name": "stderr",
     "output_type": "stream",
     "text": [
      "loss: 1772.004, tv: 535.438, ptv: 1218.959:   9%|██████▊                                                                      | 826/9380 [15:28<2:28:24,  1.04s/it]"
     ]
    },
    {
     "name": "stdout",
     "output_type": "stream",
     "text": [
      "Adjusting learning rate of group 0 to 5.9389e-06.\n"
     ]
    },
    {
     "name": "stderr",
     "output_type": "stream",
     "text": [
      "loss: 1798.371, tv: 533.372, ptv: 1208.269:   9%|███████                                                                      | 858/9380 [16:02<2:28:22,  1.04s/it]"
     ]
    },
    {
     "name": "stdout",
     "output_type": "stream",
     "text": [
      "Adjusting learning rate of group 0 to 6.0410e-06.\n"
     ]
    },
    {
     "name": "stderr",
     "output_type": "stream",
     "text": [
      "loss: 1756.124, tv: 534.852, ptv: 1218.374:   9%|███████▎                                                                     | 890/9380 [16:35<2:27:06,  1.04s/it]"
     ]
    },
    {
     "name": "stdout",
     "output_type": "stream",
     "text": [
      "Adjusting learning rate of group 0 to 6.1437e-06.\n"
     ]
    },
    {
     "name": "stderr",
     "output_type": "stream",
     "text": [
      "loss: 1776.120, tv: 531.009, ptv: 1219.227:  10%|███████▌                                                                     | 922/9380 [17:09<2:26:06,  1.04s/it]"
     ]
    },
    {
     "name": "stdout",
     "output_type": "stream",
     "text": [
      "Adjusting learning rate of group 0 to 6.2472e-06.\n"
     ]
    },
    {
     "name": "stderr",
     "output_type": "stream",
     "text": [
      "loss: 1680.681, tv: 527.736, ptv: 1209.991:  10%|███████▊                                                                     | 954/9380 [17:42<2:25:22,  1.04s/it]"
     ]
    },
    {
     "name": "stdout",
     "output_type": "stream",
     "text": [
      "Adjusting learning rate of group 0 to 6.3515e-06.\n"
     ]
    },
    {
     "name": "stderr",
     "output_type": "stream",
     "text": [
      "loss: 1761.353, tv: 530.318, ptv: 1223.380:  11%|████████                                                                     | 986/9380 [18:15<2:24:46,  1.03s/it]"
     ]
    },
    {
     "name": "stdout",
     "output_type": "stream",
     "text": [
      "Adjusting learning rate of group 0 to 6.4565e-06.\n"
     ]
    },
    {
     "name": "stderr",
     "output_type": "stream",
     "text": [
      "loss: 1761.486, tv: 530.992, ptv: 1214.865:  11%|████████▏                                                                   | 1018/9380 [18:48<2:23:40,  1.03s/it]"
     ]
    },
    {
     "name": "stdout",
     "output_type": "stream",
     "text": [
      "Adjusting learning rate of group 0 to 6.5622e-06.\n"
     ]
    },
    {
     "name": "stderr",
     "output_type": "stream",
     "text": [
      "loss: 1777.896, tv: 536.411, ptv: 1212.798:  11%|████████▌                                                                   | 1050/9380 [19:21<2:23:31,  1.03s/it]"
     ]
    },
    {
     "name": "stdout",
     "output_type": "stream",
     "text": [
      "Adjusting learning rate of group 0 to 6.6686e-06.\n"
     ]
    },
    {
     "name": "stderr",
     "output_type": "stream",
     "text": [
      "loss: 1723.676, tv: 531.872, ptv: 1211.600:  12%|████████▊                                                                   | 1082/9380 [19:54<2:23:22,  1.04s/it]"
     ]
    },
    {
     "name": "stdout",
     "output_type": "stream",
     "text": [
      "Adjusting learning rate of group 0 to 6.7758e-06.\n"
     ]
    },
    {
     "name": "stderr",
     "output_type": "stream",
     "text": [
      "loss: 1769.532, tv: 537.508, ptv: 1218.442:  12%|█████████                                                                   | 1114/9380 [20:28<2:23:14,  1.04s/it]"
     ]
    },
    {
     "name": "stdout",
     "output_type": "stream",
     "text": [
      "Adjusting learning rate of group 0 to 6.8837e-06.\n"
     ]
    },
    {
     "name": "stderr",
     "output_type": "stream",
     "text": [
      "loss: 1843.185, tv: 542.413, ptv: 1212.323:  12%|█████████▎                                                                  | 1146/9380 [21:01<2:22:51,  1.04s/it]"
     ]
    },
    {
     "name": "stdout",
     "output_type": "stream",
     "text": [
      "Adjusting learning rate of group 0 to 6.9923e-06.\n"
     ]
    },
    {
     "name": "stderr",
     "output_type": "stream",
     "text": [
      "loss: 1754.123, tv: 545.988, ptv: 1220.921:  13%|█████████▌                                                                  | 1178/9380 [21:34<2:21:54,  1.04s/it]"
     ]
    },
    {
     "name": "stdout",
     "output_type": "stream",
     "text": [
      "Adjusting learning rate of group 0 to 7.1016e-06.\n"
     ]
    },
    {
     "name": "stderr",
     "output_type": "stream",
     "text": [
      "loss: 1765.885, tv: 529.932, ptv: 1216.162:  13%|█████████▊                                                                  | 1210/9380 [22:07<2:20:56,  1.04s/it]"
     ]
    },
    {
     "name": "stdout",
     "output_type": "stream",
     "text": [
      "Adjusting learning rate of group 0 to 7.2116e-06.\n"
     ]
    },
    {
     "name": "stderr",
     "output_type": "stream",
     "text": [
      "loss: 1768.495, tv: 530.791, ptv: 1215.663:  13%|██████████                                                                  | 1242/9380 [22:41<2:21:05,  1.04s/it]"
     ]
    },
    {
     "name": "stdout",
     "output_type": "stream",
     "text": [
      "Adjusting learning rate of group 0 to 7.3223e-06.\n"
     ]
    },
    {
     "name": "stderr",
     "output_type": "stream",
     "text": [
      "loss: 1736.509, tv: 528.018, ptv: 1216.933:  14%|██████████▎                                                                 | 1274/9380 [23:14<2:20:39,  1.04s/it]"
     ]
    },
    {
     "name": "stdout",
     "output_type": "stream",
     "text": [
      "Adjusting learning rate of group 0 to 7.4338e-06.\n"
     ]
    },
    {
     "name": "stderr",
     "output_type": "stream",
     "text": [
      "loss: 1781.653, tv: 534.893, ptv: 1219.510:  14%|██████████▌                                                                 | 1306/9380 [23:47<2:19:40,  1.04s/it]"
     ]
    },
    {
     "name": "stdout",
     "output_type": "stream",
     "text": [
      "Adjusting learning rate of group 0 to 7.5459e-06.\n"
     ]
    },
    {
     "name": "stderr",
     "output_type": "stream",
     "text": [
      "loss: 1775.192, tv: 530.786, ptv: 1216.644:  14%|██████████▊                                                                 | 1338/9380 [24:21<2:19:15,  1.04s/it]"
     ]
    },
    {
     "name": "stdout",
     "output_type": "stream",
     "text": [
      "Adjusting learning rate of group 0 to 7.6587e-06.\n"
     ]
    },
    {
     "name": "stderr",
     "output_type": "stream",
     "text": [
      "loss: 1766.618, tv: 533.272, ptv: 1208.127:  15%|███████████                                                                 | 1370/9380 [24:54<2:19:11,  1.04s/it]"
     ]
    },
    {
     "name": "stdout",
     "output_type": "stream",
     "text": [
      "Adjusting learning rate of group 0 to 7.7722e-06.\n"
     ]
    },
    {
     "name": "stderr",
     "output_type": "stream",
     "text": [
      "loss: 1718.941, tv: 533.541, ptv: 1216.568:  15%|███████████▎                                                                | 1402/9380 [25:27<2:18:05,  1.04s/it]"
     ]
    },
    {
     "name": "stdout",
     "output_type": "stream",
     "text": [
      "Adjusting learning rate of group 0 to 7.8863e-06.\n"
     ]
    },
    {
     "name": "stderr",
     "output_type": "stream",
     "text": [
      "loss: 1765.076, tv: 531.962, ptv: 1212.935:  15%|███████████▌                                                                | 1434/9380 [26:01<2:18:04,  1.04s/it]"
     ]
    },
    {
     "name": "stdout",
     "output_type": "stream",
     "text": [
      "Adjusting learning rate of group 0 to 8.0012e-06.\n"
     ]
    },
    {
     "name": "stderr",
     "output_type": "stream",
     "text": [
      "loss: 1746.453, tv: 540.001, ptv: 1214.469:  16%|███████████▉                                                                | 1466/9380 [26:34<2:17:11,  1.04s/it]"
     ]
    },
    {
     "name": "stdout",
     "output_type": "stream",
     "text": [
      "Adjusting learning rate of group 0 to 8.1167e-06.\n"
     ]
    },
    {
     "name": "stderr",
     "output_type": "stream",
     "text": [
      "loss: 1696.485, tv: 543.329, ptv: 1217.357:  16%|████████████▏                                                               | 1498/9380 [27:07<2:16:28,  1.04s/it]"
     ]
    },
    {
     "name": "stdout",
     "output_type": "stream",
     "text": [
      "Adjusting learning rate of group 0 to 8.2329e-06.\n"
     ]
    },
    {
     "name": "stderr",
     "output_type": "stream",
     "text": [
      "loss: 1751.036, tv: 536.575, ptv: 1210.905:  16%|████████████▍                                                               | 1530/9380 [27:40<2:15:52,  1.04s/it]"
     ]
    },
    {
     "name": "stdout",
     "output_type": "stream",
     "text": [
      "Adjusting learning rate of group 0 to 8.3497e-06.\n"
     ]
    },
    {
     "name": "stderr",
     "output_type": "stream",
     "text": [
      "loss: 1806.775, tv: 544.172, ptv: 1231.720:  17%|████████████▋                                                               | 1562/9380 [28:14<2:15:01,  1.04s/it]"
     ]
    },
    {
     "name": "stdout",
     "output_type": "stream",
     "text": [
      "Adjusting learning rate of group 0 to 8.4672e-06.\n"
     ]
    },
    {
     "name": "stderr",
     "output_type": "stream",
     "text": [
      "loss: 1754.858, tv: 555.243, ptv: 1225.610:  17%|████████████▉                                                               | 1594/9380 [28:47<2:14:31,  1.04s/it]"
     ]
    },
    {
     "name": "stdout",
     "output_type": "stream",
     "text": [
      "Adjusting learning rate of group 0 to 8.5854e-06.\n"
     ]
    },
    {
     "name": "stderr",
     "output_type": "stream",
     "text": [
      "loss: 1817.071, tv: 549.003, ptv: 1224.447:  17%|█████████████▏                                                              | 1626/9380 [29:20<2:14:07,  1.04s/it]"
     ]
    },
    {
     "name": "stdout",
     "output_type": "stream",
     "text": [
      "Adjusting learning rate of group 0 to 8.7042e-06.\n"
     ]
    },
    {
     "name": "stderr",
     "output_type": "stream",
     "text": [
      "loss: 1694.696, tv: 535.056, ptv: 1220.843:  18%|█████████████▍                                                              | 1658/9380 [29:54<2:14:34,  1.05s/it]"
     ]
    },
    {
     "name": "stdout",
     "output_type": "stream",
     "text": [
      "Adjusting learning rate of group 0 to 8.8236e-06.\n"
     ]
    },
    {
     "name": "stderr",
     "output_type": "stream",
     "text": [
      "loss: 1744.400, tv: 536.190, ptv: 1218.536:  18%|█████████████▋                                                              | 1690/9380 [30:27<2:13:10,  1.04s/it]"
     ]
    },
    {
     "name": "stdout",
     "output_type": "stream",
     "text": [
      "Adjusting learning rate of group 0 to 8.9437e-06.\n"
     ]
    },
    {
     "name": "stderr",
     "output_type": "stream",
     "text": [
      "loss: 1757.319, tv: 532.605, ptv: 1214.579:  18%|█████████████▉                                                              | 1722/9380 [31:00<2:12:50,  1.04s/it]"
     ]
    },
    {
     "name": "stdout",
     "output_type": "stream",
     "text": [
      "Adjusting learning rate of group 0 to 9.0644e-06.\n"
     ]
    },
    {
     "name": "stderr",
     "output_type": "stream",
     "text": [
      "loss: 1730.413, tv: 531.928, ptv: 1223.499:  19%|██████████████▏                                                             | 1754/9380 [31:34<2:12:08,  1.04s/it]"
     ]
    },
    {
     "name": "stdout",
     "output_type": "stream",
     "text": [
      "Adjusting learning rate of group 0 to 9.1857e-06.\n"
     ]
    },
    {
     "name": "stderr",
     "output_type": "stream",
     "text": [
      "loss: 1957.168, tv: 539.740, ptv: 1225.553:  19%|██████████████▍                                                             | 1786/9380 [32:07<2:11:26,  1.04s/it]"
     ]
    },
    {
     "name": "stdout",
     "output_type": "stream",
     "text": [
      "Adjusting learning rate of group 0 to 9.3077e-06.\n"
     ]
    },
    {
     "name": "stderr",
     "output_type": "stream",
     "text": [
      "loss: 1791.211, tv: 546.306, ptv: 1214.104:  19%|██████████████▋                                                             | 1818/9380 [32:40<2:11:09,  1.04s/it]"
     ]
    },
    {
     "name": "stdout",
     "output_type": "stream",
     "text": [
      "Adjusting learning rate of group 0 to 9.4303e-06.\n"
     ]
    },
    {
     "name": "stderr",
     "output_type": "stream",
     "text": [
      "loss: 1711.814, tv: 547.109, ptv: 1225.034:  20%|██████████████▉                                                             | 1850/9380 [33:13<2:10:27,  1.04s/it]"
     ]
    },
    {
     "name": "stdout",
     "output_type": "stream",
     "text": [
      "Adjusting learning rate of group 0 to 9.5535e-06.\n"
     ]
    },
    {
     "name": "stderr",
     "output_type": "stream",
     "text": [
      "loss: 1775.524, tv: 540.115, ptv: 1220.940:  20%|███████████████▏                                                            | 1882/9380 [33:47<2:09:43,  1.04s/it]"
     ]
    },
    {
     "name": "stdout",
     "output_type": "stream",
     "text": [
      "Adjusting learning rate of group 0 to 9.6773e-06.\n"
     ]
    },
    {
     "name": "stderr",
     "output_type": "stream",
     "text": [
      "loss: 1784.376, tv: 534.573, ptv: 1206.808:  20%|███████████████▌                                                            | 1914/9380 [34:20<2:09:23,  1.04s/it]"
     ]
    },
    {
     "name": "stdout",
     "output_type": "stream",
     "text": [
      "Adjusting learning rate of group 0 to 9.8017e-06.\n"
     ]
    },
    {
     "name": "stderr",
     "output_type": "stream",
     "text": [
      "loss: 1955.570, tv: 541.621, ptv: 1219.461:  21%|███████████████▊                                                            | 1946/9380 [34:53<2:08:47,  1.04s/it]"
     ]
    },
    {
     "name": "stdout",
     "output_type": "stream",
     "text": [
      "Adjusting learning rate of group 0 to 9.9268e-06.\n"
     ]
    },
    {
     "name": "stderr",
     "output_type": "stream",
     "text": [
      "loss: 1714.273, tv: 542.116, ptv: 1214.060:  21%|████████████████                                                            | 1978/9380 [35:27<2:08:17,  1.04s/it]"
     ]
    },
    {
     "name": "stdout",
     "output_type": "stream",
     "text": [
      "Adjusting learning rate of group 0 to 1.0052e-05.\n"
     ]
    },
    {
     "name": "stderr",
     "output_type": "stream",
     "text": [
      "loss: 1771.869, tv: 539.434, ptv: 1225.279:  21%|████████████████▎                                                           | 2010/9380 [36:00<2:07:53,  1.04s/it]"
     ]
    },
    {
     "name": "stdout",
     "output_type": "stream",
     "text": [
      "Adjusting learning rate of group 0 to 1.0179e-05.\n"
     ]
    },
    {
     "name": "stderr",
     "output_type": "stream",
     "text": [
      "loss: 1723.873, tv: 544.005, ptv: 1218.020:  22%|████████████████▌                                                           | 2042/9380 [36:33<2:07:00,  1.04s/it]"
     ]
    },
    {
     "name": "stdout",
     "output_type": "stream",
     "text": [
      "Adjusting learning rate of group 0 to 1.0305e-05.\n"
     ]
    },
    {
     "name": "stderr",
     "output_type": "stream",
     "text": [
      "loss: 1721.673, tv: 535.661, ptv: 1225.167:  22%|████████████████▊                                                           | 2074/9380 [37:06<2:06:11,  1.04s/it]"
     ]
    },
    {
     "name": "stdout",
     "output_type": "stream",
     "text": [
      "Adjusting learning rate of group 0 to 1.0433e-05.\n"
     ]
    },
    {
     "name": "stderr",
     "output_type": "stream",
     "text": [
      "loss: 1849.010, tv: 556.074, ptv: 1219.318:  22%|█████████████████                                                           | 2106/9380 [37:39<2:05:37,  1.04s/it]"
     ]
    },
    {
     "name": "stdout",
     "output_type": "stream",
     "text": [
      "Adjusting learning rate of group 0 to 1.0561e-05.\n"
     ]
    },
    {
     "name": "stderr",
     "output_type": "stream",
     "text": [
      "loss: 1769.092, tv: 559.476, ptv: 1225.230:  23%|█████████████████▎                                                          | 2138/9380 [38:13<2:05:20,  1.04s/it]"
     ]
    },
    {
     "name": "stdout",
     "output_type": "stream",
     "text": [
      "Adjusting learning rate of group 0 to 1.0689e-05.\n"
     ]
    },
    {
     "name": "stderr",
     "output_type": "stream",
     "text": [
      "loss: 1751.991, tv: 546.829, ptv: 1216.769:  23%|█████████████████▌                                                          | 2170/9380 [38:46<2:04:26,  1.04s/it]"
     ]
    },
    {
     "name": "stdout",
     "output_type": "stream",
     "text": [
      "Adjusting learning rate of group 0 to 1.0818e-05.\n"
     ]
    },
    {
     "name": "stderr",
     "output_type": "stream",
     "text": [
      "loss: 1869.912, tv: 539.216, ptv: 1223.292:  23%|█████████████████▊                                                          | 2202/9380 [39:19<2:04:03,  1.04s/it]"
     ]
    },
    {
     "name": "stdout",
     "output_type": "stream",
     "text": [
      "Adjusting learning rate of group 0 to 1.0948e-05.\n"
     ]
    },
    {
     "name": "stderr",
     "output_type": "stream",
     "text": [
      "loss: 1812.292, tv: 539.096, ptv: 1221.013:  24%|██████████████████                                                          | 2234/9380 [39:52<2:03:41,  1.04s/it]"
     ]
    },
    {
     "name": "stdout",
     "output_type": "stream",
     "text": [
      "Adjusting learning rate of group 0 to 1.1078e-05.\n"
     ]
    },
    {
     "name": "stderr",
     "output_type": "stream",
     "text": [
      "loss: 1787.414, tv: 553.184, ptv: 1217.593:  24%|██████████████████▎                                                         | 2266/9380 [40:26<2:03:30,  1.04s/it]"
     ]
    },
    {
     "name": "stdout",
     "output_type": "stream",
     "text": [
      "Adjusting learning rate of group 0 to 1.1209e-05.\n"
     ]
    },
    {
     "name": "stderr",
     "output_type": "stream",
     "text": [
      "loss: 1750.792, tv: 546.925, ptv: 1220.577:  24%|██████████████████▌                                                         | 2298/9380 [42:16<2:26:48,  1.24s/it]"
     ]
    },
    {
     "name": "stdout",
     "output_type": "stream",
     "text": [
      "Adjusting learning rate of group 0 to 1.1340e-05.\n"
     ]
    },
    {
     "name": "stderr",
     "output_type": "stream",
     "text": [
      "loss: 1707.887, tv: 540.901, ptv: 1212.486:  25%|██████████████████▉                                                         | 2330/9380 [42:49<2:01:16,  1.03s/it]"
     ]
    },
    {
     "name": "stdout",
     "output_type": "stream",
     "text": [
      "Adjusting learning rate of group 0 to 1.1472e-05.\n"
     ]
    },
    {
     "name": "stderr",
     "output_type": "stream",
     "text": [
      "loss: 1771.776, tv: 538.168, ptv: 1224.295:  25%|███████████████████▏                                                        | 2362/9380 [43:22<2:00:29,  1.03s/it]"
     ]
    },
    {
     "name": "stdout",
     "output_type": "stream",
     "text": [
      "Adjusting learning rate of group 0 to 1.1604e-05.\n"
     ]
    },
    {
     "name": "stderr",
     "output_type": "stream",
     "text": [
      "loss: 1730.403, tv: 534.558, ptv: 1224.862:  26%|███████████████████▍                                                        | 2394/9380 [43:55<2:00:38,  1.04s/it]"
     ]
    },
    {
     "name": "stdout",
     "output_type": "stream",
     "text": [
      "Adjusting learning rate of group 0 to 1.1737e-05.\n"
     ]
    },
    {
     "name": "stderr",
     "output_type": "stream",
     "text": [
      "loss: 1740.322, tv: 592.919, ptv: 1213.043:  26%|███████████████████▋                                                        | 2426/9380 [44:28<2:00:08,  1.04s/it]"
     ]
    },
    {
     "name": "stdout",
     "output_type": "stream",
     "text": [
      "Adjusting learning rate of group 0 to 1.1871e-05.\n"
     ]
    },
    {
     "name": "stderr",
     "output_type": "stream",
     "text": [
      "loss: 1803.863, tv: 568.907, ptv: 1222.306:  26%|███████████████████▉                                                        | 2458/9380 [45:01<1:59:55,  1.04s/it]"
     ]
    },
    {
     "name": "stdout",
     "output_type": "stream",
     "text": [
      "Adjusting learning rate of group 0 to 1.2005e-05.\n"
     ]
    },
    {
     "name": "stderr",
     "output_type": "stream",
     "text": [
      "loss: 1733.753, tv: 545.512, ptv: 1220.203:  27%|████████████████████▏                                                       | 2490/9380 [45:35<1:59:02,  1.04s/it]"
     ]
    },
    {
     "name": "stdout",
     "output_type": "stream",
     "text": [
      "Adjusting learning rate of group 0 to 1.2139e-05.\n"
     ]
    },
    {
     "name": "stderr",
     "output_type": "stream",
     "text": [
      "loss: 1715.924, tv: 554.702, ptv: 1231.474:  27%|████████████████████▍                                                       | 2522/9380 [46:08<1:58:35,  1.04s/it]"
     ]
    },
    {
     "name": "stdout",
     "output_type": "stream",
     "text": [
      "Adjusting learning rate of group 0 to 1.2274e-05.\n"
     ]
    },
    {
     "name": "stderr",
     "output_type": "stream",
     "text": [
      "loss: 1752.733, tv: 559.925, ptv: 1219.228:  27%|████████████████████▋                                                       | 2554/9380 [46:41<1:57:43,  1.03s/it]"
     ]
    },
    {
     "name": "stdout",
     "output_type": "stream",
     "text": [
      "Adjusting learning rate of group 0 to 1.2409e-05.\n"
     ]
    },
    {
     "name": "stderr",
     "output_type": "stream",
     "text": [
      "loss: 1777.982, tv: 535.059, ptv: 1206.751:  28%|████████████████████▉                                                       | 2586/9380 [47:14<1:57:23,  1.04s/it]"
     ]
    },
    {
     "name": "stdout",
     "output_type": "stream",
     "text": [
      "Adjusting learning rate of group 0 to 1.2545e-05.\n"
     ]
    },
    {
     "name": "stderr",
     "output_type": "stream",
     "text": [
      "loss: 1754.265, tv: 553.143, ptv: 1228.002:  28%|█████████████████████▏                                                      | 2618/9380 [47:48<1:58:18,  1.05s/it]"
     ]
    },
    {
     "name": "stdout",
     "output_type": "stream",
     "text": [
      "Adjusting learning rate of group 0 to 1.2682e-05.\n"
     ]
    },
    {
     "name": "stderr",
     "output_type": "stream",
     "text": [
      "loss: 1764.500, tv: 540.453, ptv: 1217.982:  28%|█████████████████████▍                                                      | 2650/9380 [48:21<1:56:37,  1.04s/it]"
     ]
    },
    {
     "name": "stdout",
     "output_type": "stream",
     "text": [
      "Adjusting learning rate of group 0 to 1.2819e-05.\n"
     ]
    },
    {
     "name": "stderr",
     "output_type": "stream",
     "text": [
      "loss: 1753.994, tv: 538.222, ptv: 1223.290:  29%|█████████████████████▋                                                      | 2682/9380 [48:54<1:55:55,  1.04s/it]"
     ]
    },
    {
     "name": "stdout",
     "output_type": "stream",
     "text": [
      "Adjusting learning rate of group 0 to 1.2956e-05.\n"
     ]
    },
    {
     "name": "stderr",
     "output_type": "stream",
     "text": [
      "loss: 1716.605, tv: 538.990, ptv: 1225.494:  29%|█████████████████████▉                                                      | 2714/9380 [49:27<1:55:16,  1.04s/it]"
     ]
    },
    {
     "name": "stdout",
     "output_type": "stream",
     "text": [
      "Adjusting learning rate of group 0 to 1.3094e-05.\n"
     ]
    },
    {
     "name": "stderr",
     "output_type": "stream",
     "text": [
      "loss: 1758.697, tv: 557.662, ptv: 1218.355:  29%|██████████████████████▏                                                     | 2746/9380 [50:01<1:54:41,  1.04s/it]"
     ]
    },
    {
     "name": "stdout",
     "output_type": "stream",
     "text": [
      "Adjusting learning rate of group 0 to 1.3232e-05.\n"
     ]
    },
    {
     "name": "stderr",
     "output_type": "stream",
     "text": [
      "loss: 1744.775, tv: 540.686, ptv: 1220.243:  30%|██████████████████████▌                                                     | 2778/9380 [50:34<1:54:13,  1.04s/it]"
     ]
    },
    {
     "name": "stdout",
     "output_type": "stream",
     "text": [
      "Adjusting learning rate of group 0 to 1.3371e-05.\n"
     ]
    },
    {
     "name": "stderr",
     "output_type": "stream",
     "text": [
      "loss: 1761.535, tv: 549.136, ptv: 1221.099:  30%|██████████████████████▊                                                     | 2810/9380 [51:07<1:54:16,  1.04s/it]"
     ]
    },
    {
     "name": "stdout",
     "output_type": "stream",
     "text": [
      "Adjusting learning rate of group 0 to 1.3511e-05.\n"
     ]
    },
    {
     "name": "stderr",
     "output_type": "stream",
     "text": [
      "loss: 1771.851, tv: 533.386, ptv: 1221.456:  30%|███████████████████████                                                     | 2842/9380 [51:41<1:53:54,  1.05s/it]"
     ]
    },
    {
     "name": "stdout",
     "output_type": "stream",
     "text": [
      "Adjusting learning rate of group 0 to 1.3650e-05.\n"
     ]
    },
    {
     "name": "stderr",
     "output_type": "stream",
     "text": [
      "loss: 1792.856, tv: 539.379, ptv: 1226.566:  31%|███████████████████████▎                                                    | 2874/9380 [52:14<1:52:52,  1.04s/it]"
     ]
    },
    {
     "name": "stdout",
     "output_type": "stream",
     "text": [
      "Adjusting learning rate of group 0 to 1.3790e-05.\n"
     ]
    },
    {
     "name": "stderr",
     "output_type": "stream",
     "text": [
      "loss: 1813.257, tv: 542.574, ptv: 1225.189:  31%|███████████████████████▌                                                    | 2906/9380 [52:47<1:52:22,  1.04s/it]"
     ]
    },
    {
     "name": "stdout",
     "output_type": "stream",
     "text": [
      "Adjusting learning rate of group 0 to 1.3931e-05.\n"
     ]
    },
    {
     "name": "stderr",
     "output_type": "stream",
     "text": [
      "loss: 1707.532, tv: 527.145, ptv: 1224.571:  31%|███████████████████████▊                                                    | 2938/9380 [53:21<1:51:30,  1.04s/it]"
     ]
    },
    {
     "name": "stdout",
     "output_type": "stream",
     "text": [
      "Adjusting learning rate of group 0 to 1.4072e-05.\n"
     ]
    },
    {
     "name": "stderr",
     "output_type": "stream",
     "text": [
      "loss: 1758.942, tv: 539.275, ptv: 1228.381:  32%|████████████████████████                                                    | 2970/9380 [53:54<1:51:15,  1.04s/it]"
     ]
    },
    {
     "name": "stdout",
     "output_type": "stream",
     "text": [
      "Adjusting learning rate of group 0 to 1.4214e-05.\n"
     ]
    },
    {
     "name": "stderr",
     "output_type": "stream",
     "text": [
      "loss: 1730.458, tv: 549.985, ptv: 1197.245:  32%|████████████████████████▎                                                   | 3002/9380 [54:27<1:50:20,  1.04s/it]"
     ]
    },
    {
     "name": "stdout",
     "output_type": "stream",
     "text": [
      "Adjusting learning rate of group 0 to 1.4356e-05.\n"
     ]
    },
    {
     "name": "stderr",
     "output_type": "stream",
     "text": [
      "loss: 1711.882, tv: 548.154, ptv: 1227.293:  32%|████████████████████████▌                                                   | 3034/9380 [55:00<1:49:46,  1.04s/it]"
     ]
    },
    {
     "name": "stdout",
     "output_type": "stream",
     "text": [
      "Adjusting learning rate of group 0 to 1.4498e-05.\n"
     ]
    },
    {
     "name": "stderr",
     "output_type": "stream",
     "text": [
      "loss: 1853.803, tv: 548.527, ptv: 1235.921:  33%|████████████████████████▊                                                   | 3066/9380 [55:34<1:49:24,  1.04s/it]"
     ]
    },
    {
     "name": "stdout",
     "output_type": "stream",
     "text": [
      "Adjusting learning rate of group 0 to 1.4641e-05.\n"
     ]
    },
    {
     "name": "stderr",
     "output_type": "stream",
     "text": [
      "loss: 1819.773, tv: 542.754, ptv: 1223.590:  33%|█████████████████████████                                                   | 3098/9380 [56:07<1:49:48,  1.05s/it]"
     ]
    },
    {
     "name": "stdout",
     "output_type": "stream",
     "text": [
      "Adjusting learning rate of group 0 to 1.4784e-05.\n"
     ]
    },
    {
     "name": "stderr",
     "output_type": "stream",
     "text": [
      "loss: 1776.300, tv: 554.984, ptv: 1210.657:  33%|█████████████████████████▎                                                  | 3130/9380 [56:40<1:48:36,  1.04s/it]"
     ]
    },
    {
     "name": "stdout",
     "output_type": "stream",
     "text": [
      "Adjusting learning rate of group 0 to 1.4927e-05.\n"
     ]
    },
    {
     "name": "stderr",
     "output_type": "stream",
     "text": [
      "loss: 1766.818, tv: 553.487, ptv: 1217.663:  34%|█████████████████████████▌                                                  | 3162/9380 [57:14<1:47:55,  1.04s/it]"
     ]
    },
    {
     "name": "stdout",
     "output_type": "stream",
     "text": [
      "Adjusting learning rate of group 0 to 1.5071e-05.\n"
     ]
    },
    {
     "name": "stderr",
     "output_type": "stream",
     "text": [
      "loss: 1742.103, tv: 550.539, ptv: 1228.218:  34%|█████████████████████████▉                                                  | 3194/9380 [57:47<1:46:51,  1.04s/it]"
     ]
    },
    {
     "name": "stdout",
     "output_type": "stream",
     "text": [
      "Adjusting learning rate of group 0 to 1.5216e-05.\n"
     ]
    },
    {
     "name": "stderr",
     "output_type": "stream",
     "text": [
      "loss: 1759.163, tv: 557.445, ptv: 1223.889:  34%|██████████████████████████▏                                                 | 3226/9380 [58:20<1:46:45,  1.04s/it]"
     ]
    },
    {
     "name": "stdout",
     "output_type": "stream",
     "text": [
      "Adjusting learning rate of group 0 to 1.5360e-05.\n"
     ]
    },
    {
     "name": "stderr",
     "output_type": "stream",
     "text": [
      "loss: 1868.929, tv: 561.213, ptv: 1219.588:  35%|██████████████████████████▍                                                 | 3258/9380 [58:54<1:46:34,  1.04s/it]"
     ]
    },
    {
     "name": "stdout",
     "output_type": "stream",
     "text": [
      "Adjusting learning rate of group 0 to 1.5506e-05.\n"
     ]
    },
    {
     "name": "stderr",
     "output_type": "stream",
     "text": [
      "loss: 1753.066, tv: 547.224, ptv: 1225.495:  35%|██████████████████████████▋                                                 | 3290/9380 [59:27<1:45:40,  1.04s/it]"
     ]
    },
    {
     "name": "stdout",
     "output_type": "stream",
     "text": [
      "Adjusting learning rate of group 0 to 1.5651e-05.\n"
     ]
    },
    {
     "name": "stderr",
     "output_type": "stream",
     "text": [
      "loss: 1851.767, tv: 550.610, ptv: 1228.143:  35%|██████████████████████████▏                                               | 3322/9380 [1:00:00<1:45:04,  1.04s/it]"
     ]
    },
    {
     "name": "stdout",
     "output_type": "stream",
     "text": [
      "Adjusting learning rate of group 0 to 1.5797e-05.\n"
     ]
    },
    {
     "name": "stderr",
     "output_type": "stream",
     "text": [
      "loss: 1847.953, tv: 560.405, ptv: 1217.130:  36%|██████████████████████████▍                                               | 3354/9380 [1:00:34<1:44:14,  1.04s/it]"
     ]
    },
    {
     "name": "stdout",
     "output_type": "stream",
     "text": [
      "Adjusting learning rate of group 0 to 1.5943e-05.\n"
     ]
    },
    {
     "name": "stderr",
     "output_type": "stream",
     "text": [
      "loss: 1810.120, tv: 558.974, ptv: 1232.782:  36%|██████████████████████████▋                                               | 3386/9380 [1:01:07<1:43:28,  1.04s/it]"
     ]
    },
    {
     "name": "stdout",
     "output_type": "stream",
     "text": [
      "Adjusting learning rate of group 0 to 1.6090e-05.\n"
     ]
    },
    {
     "name": "stderr",
     "output_type": "stream",
     "text": [
      "loss: 1810.125, tv: 560.857, ptv: 1223.647:  36%|██████████████████████████▉                                               | 3418/9380 [1:01:40<1:42:56,  1.04s/it]"
     ]
    },
    {
     "name": "stdout",
     "output_type": "stream",
     "text": [
      "Adjusting learning rate of group 0 to 1.6237e-05.\n"
     ]
    },
    {
     "name": "stderr",
     "output_type": "stream",
     "text": [
      "loss: 1739.345, tv: 558.175, ptv: 1228.702:  37%|███████████████████████████▏                                              | 3450/9380 [1:02:13<1:42:26,  1.04s/it]"
     ]
    },
    {
     "name": "stdout",
     "output_type": "stream",
     "text": [
      "Adjusting learning rate of group 0 to 1.6384e-05.\n"
     ]
    },
    {
     "name": "stderr",
     "output_type": "stream",
     "text": [
      "loss: 1716.993, tv: 540.509, ptv: 1215.716:  37%|███████████████████████████▍                                              | 3482/9380 [1:02:46<1:41:38,  1.03s/it]"
     ]
    },
    {
     "name": "stdout",
     "output_type": "stream",
     "text": [
      "Adjusting learning rate of group 0 to 1.6532e-05.\n"
     ]
    },
    {
     "name": "stderr",
     "output_type": "stream",
     "text": [
      "loss: 1906.683, tv: 547.305, ptv: 1221.429:  37%|███████████████████████████▋                                              | 3514/9380 [1:03:19<1:41:12,  1.04s/it]"
     ]
    },
    {
     "name": "stdout",
     "output_type": "stream",
     "text": [
      "Adjusting learning rate of group 0 to 1.6680e-05.\n"
     ]
    },
    {
     "name": "stderr",
     "output_type": "stream",
     "text": [
      "loss: 1795.505, tv: 540.890, ptv: 1220.391:  38%|███████████████████████████▉                                              | 3546/9380 [1:03:53<1:40:50,  1.04s/it]"
     ]
    },
    {
     "name": "stdout",
     "output_type": "stream",
     "text": [
      "Adjusting learning rate of group 0 to 1.6828e-05.\n"
     ]
    },
    {
     "name": "stderr",
     "output_type": "stream",
     "text": [
      "loss: 1939.925, tv: 547.980, ptv: 1218.322:  38%|████████████████████████████▏                                             | 3578/9380 [1:04:26<1:40:12,  1.04s/it]"
     ]
    },
    {
     "name": "stdout",
     "output_type": "stream",
     "text": [
      "Adjusting learning rate of group 0 to 1.6976e-05.\n"
     ]
    },
    {
     "name": "stderr",
     "output_type": "stream",
     "text": [
      "loss: 1710.772, tv: 550.944, ptv: 1217.789:  38%|████████████████████████████▍                                             | 3610/9380 [1:04:59<1:39:41,  1.04s/it]"
     ]
    },
    {
     "name": "stdout",
     "output_type": "stream",
     "text": [
      "Adjusting learning rate of group 0 to 1.7125e-05.\n"
     ]
    },
    {
     "name": "stderr",
     "output_type": "stream",
     "text": [
      "loss: 1781.107, tv: 553.604, ptv: 1224.772:  39%|████████████████████████████▋                                             | 3642/9380 [1:05:33<1:39:20,  1.04s/it]"
     ]
    },
    {
     "name": "stdout",
     "output_type": "stream",
     "text": [
      "Adjusting learning rate of group 0 to 1.7275e-05.\n"
     ]
    },
    {
     "name": "stderr",
     "output_type": "stream",
     "text": [
      "loss: 1850.183, tv: 552.549, ptv: 1219.635:  39%|████████████████████████████▉                                             | 3674/9380 [1:06:06<1:38:58,  1.04s/it]"
     ]
    },
    {
     "name": "stdout",
     "output_type": "stream",
     "text": [
      "Adjusting learning rate of group 0 to 1.7424e-05.\n"
     ]
    },
    {
     "name": "stderr",
     "output_type": "stream",
     "text": [
      "loss: 1747.642, tv: 535.807, ptv: 1225.121:  40%|█████████████████████████████▏                                            | 3706/9380 [1:06:39<1:37:56,  1.04s/it]"
     ]
    },
    {
     "name": "stdout",
     "output_type": "stream",
     "text": [
      "Adjusting learning rate of group 0 to 1.7574e-05.\n"
     ]
    },
    {
     "name": "stderr",
     "output_type": "stream",
     "text": [
      "loss: 1740.237, tv: 547.827, ptv: 1225.198:  40%|█████████████████████████████▍                                            | 3738/9380 [1:07:12<1:37:55,  1.04s/it]"
     ]
    },
    {
     "name": "stdout",
     "output_type": "stream",
     "text": [
      "Adjusting learning rate of group 0 to 1.7724e-05.\n"
     ]
    },
    {
     "name": "stderr",
     "output_type": "stream",
     "text": [
      "loss: 1832.999, tv: 541.753, ptv: 1218.303:  40%|█████████████████████████████▋                                            | 3770/9380 [1:07:46<1:37:06,  1.04s/it]"
     ]
    },
    {
     "name": "stdout",
     "output_type": "stream",
     "text": [
      "Adjusting learning rate of group 0 to 1.7875e-05.\n"
     ]
    },
    {
     "name": "stderr",
     "output_type": "stream",
     "text": [
      "loss: 1735.704, tv: 542.454, ptv: 1230.768:  41%|█████████████████████████████▉                                            | 3802/9380 [1:08:19<1:36:32,  1.04s/it]"
     ]
    },
    {
     "name": "stdout",
     "output_type": "stream",
     "text": [
      "Adjusting learning rate of group 0 to 1.8025e-05.\n"
     ]
    },
    {
     "name": "stderr",
     "output_type": "stream",
     "text": [
      "loss: 1724.102, tv: 536.240, ptv: 1222.550:  41%|██████████████████████████████▏                                           | 3834/9380 [1:08:52<1:36:11,  1.04s/it]"
     ]
    },
    {
     "name": "stdout",
     "output_type": "stream",
     "text": [
      "Adjusting learning rate of group 0 to 1.8176e-05.\n"
     ]
    },
    {
     "name": "stderr",
     "output_type": "stream",
     "text": [
      "loss: 1811.636, tv: 550.184, ptv: 1215.002:  41%|██████████████████████████████▍                                           | 3866/9380 [1:09:26<1:35:37,  1.04s/it]"
     ]
    },
    {
     "name": "stdout",
     "output_type": "stream",
     "text": [
      "Adjusting learning rate of group 0 to 1.8327e-05.\n"
     ]
    },
    {
     "name": "stderr",
     "output_type": "stream",
     "text": [
      "loss: 1842.669, tv: 544.082, ptv: 1238.262:  42%|██████████████████████████████▊                                           | 3898/9380 [1:09:59<1:34:58,  1.04s/it]"
     ]
    },
    {
     "name": "stdout",
     "output_type": "stream",
     "text": [
      "Adjusting learning rate of group 0 to 1.8479e-05.\n"
     ]
    },
    {
     "name": "stderr",
     "output_type": "stream",
     "text": [
      "loss: 1749.236, tv: 536.889, ptv: 1219.278:  42%|███████████████████████████████                                           | 3930/9380 [1:10:32<1:34:33,  1.04s/it]"
     ]
    },
    {
     "name": "stdout",
     "output_type": "stream",
     "text": [
      "Adjusting learning rate of group 0 to 1.8631e-05.\n"
     ]
    },
    {
     "name": "stderr",
     "output_type": "stream",
     "text": [
      "loss: 1813.442, tv: 540.244, ptv: 1230.081:  42%|███████████████████████████████▎                                          | 3962/9380 [1:11:06<1:34:19,  1.04s/it]"
     ]
    },
    {
     "name": "stdout",
     "output_type": "stream",
     "text": [
      "Adjusting learning rate of group 0 to 1.8783e-05.\n"
     ]
    },
    {
     "name": "stderr",
     "output_type": "stream",
     "text": [
      "loss: 1738.608, tv: 549.760, ptv: 1230.950:  43%|███████████████████████████████▌                                          | 3994/9380 [1:11:39<1:33:27,  1.04s/it]"
     ]
    },
    {
     "name": "stdout",
     "output_type": "stream",
     "text": [
      "Adjusting learning rate of group 0 to 1.8935e-05.\n"
     ]
    },
    {
     "name": "stderr",
     "output_type": "stream",
     "text": [
      "loss: 1797.505, tv: 553.905, ptv: 1224.164:  43%|███████████████████████████████▊                                          | 4026/9380 [1:12:12<1:33:07,  1.04s/it]"
     ]
    },
    {
     "name": "stdout",
     "output_type": "stream",
     "text": [
      "Adjusting learning rate of group 0 to 1.9088e-05.\n"
     ]
    },
    {
     "name": "stderr",
     "output_type": "stream",
     "text": [
      "loss: 1778.772, tv: 560.563, ptv: 1233.539:  43%|████████████████████████████████                                          | 4058/9380 [1:12:45<1:32:30,  1.04s/it]"
     ]
    },
    {
     "name": "stdout",
     "output_type": "stream",
     "text": [
      "Adjusting learning rate of group 0 to 1.9240e-05.\n"
     ]
    },
    {
     "name": "stderr",
     "output_type": "stream",
     "text": [
      "loss: 1800.686, tv: 560.986, ptv: 1219.744:  44%|████████████████████████████████▎                                         | 4090/9380 [1:13:19<1:31:49,  1.04s/it]"
     ]
    },
    {
     "name": "stdout",
     "output_type": "stream",
     "text": [
      "Adjusting learning rate of group 0 to 1.9393e-05.\n"
     ]
    },
    {
     "name": "stderr",
     "output_type": "stream",
     "text": [
      "loss: 1779.408, tv: 558.449, ptv: 1229.293:  44%|████████████████████████████████▌                                         | 4122/9380 [1:13:52<1:31:32,  1.04s/it]"
     ]
    },
    {
     "name": "stdout",
     "output_type": "stream",
     "text": [
      "Adjusting learning rate of group 0 to 1.9546e-05.\n"
     ]
    },
    {
     "name": "stderr",
     "output_type": "stream",
     "text": [
      "loss: 1760.201, tv: 548.058, ptv: 1226.026:  44%|████████████████████████████████▊                                         | 4154/9380 [1:14:26<1:30:47,  1.04s/it]"
     ]
    },
    {
     "name": "stdout",
     "output_type": "stream",
     "text": [
      "Adjusting learning rate of group 0 to 1.9700e-05.\n"
     ]
    },
    {
     "name": "stderr",
     "output_type": "stream",
     "text": [
      "loss: 1870.034, tv: 534.759, ptv: 1221.691:  45%|█████████████████████████████████                                         | 4186/9380 [1:14:59<1:29:51,  1.04s/it]"
     ]
    },
    {
     "name": "stdout",
     "output_type": "stream",
     "text": [
      "Adjusting learning rate of group 0 to 1.9853e-05.\n"
     ]
    },
    {
     "name": "stderr",
     "output_type": "stream",
     "text": [
      "loss: 1837.157, tv: 542.174, ptv: 1208.406:  45%|█████████████████████████████████▎                                        | 4218/9380 [1:15:32<1:29:25,  1.04s/it]"
     ]
    },
    {
     "name": "stdout",
     "output_type": "stream",
     "text": [
      "Adjusting learning rate of group 0 to 2.0007e-05.\n"
     ]
    },
    {
     "name": "stderr",
     "output_type": "stream",
     "text": [
      "loss: 1775.910, tv: 565.687, ptv: 1222.367:  45%|█████████████████████████████████▌                                        | 4250/9380 [1:16:06<1:29:06,  1.04s/it]"
     ]
    },
    {
     "name": "stdout",
     "output_type": "stream",
     "text": [
      "Adjusting learning rate of group 0 to 2.0161e-05.\n"
     ]
    },
    {
     "name": "stderr",
     "output_type": "stream",
     "text": [
      "loss: 1765.228, tv: 559.508, ptv: 1208.161:  46%|█████████████████████████████████▊                                        | 4282/9380 [1:16:39<1:28:11,  1.04s/it]"
     ]
    },
    {
     "name": "stdout",
     "output_type": "stream",
     "text": [
      "Adjusting learning rate of group 0 to 2.0315e-05.\n"
     ]
    },
    {
     "name": "stderr",
     "output_type": "stream",
     "text": [
      "loss: 1737.645, tv: 538.485, ptv: 1224.161:  46%|██████████████████████████████████                                        | 4314/9380 [1:17:12<1:28:04,  1.04s/it]"
     ]
    },
    {
     "name": "stdout",
     "output_type": "stream",
     "text": [
      "Adjusting learning rate of group 0 to 2.0470e-05.\n"
     ]
    },
    {
     "name": "stderr",
     "output_type": "stream",
     "text": [
      "loss: 1835.734, tv: 549.854, ptv: 1219.504:  46%|██████████████████████████████████▎                                       | 4346/9380 [1:17:46<1:27:15,  1.04s/it]"
     ]
    },
    {
     "name": "stdout",
     "output_type": "stream",
     "text": [
      "Adjusting learning rate of group 0 to 2.0624e-05.\n"
     ]
    },
    {
     "name": "stderr",
     "output_type": "stream",
     "text": [
      "loss: 1787.682, tv: 538.429, ptv: 1213.848:  47%|██████████████████████████████████▌                                       | 4378/9380 [1:18:19<1:26:42,  1.04s/it]"
     ]
    },
    {
     "name": "stdout",
     "output_type": "stream",
     "text": [
      "Adjusting learning rate of group 0 to 2.0779e-05.\n"
     ]
    },
    {
     "name": "stderr",
     "output_type": "stream",
     "text": [
      "loss: 1727.448, tv: 545.032, ptv: 1219.968:  47%|██████████████████████████████████▊                                       | 4410/9380 [1:20:16<1:25:03,  1.03s/it]"
     ]
    },
    {
     "name": "stdout",
     "output_type": "stream",
     "text": [
      "Adjusting learning rate of group 0 to 2.0934e-05.\n"
     ]
    },
    {
     "name": "stderr",
     "output_type": "stream",
     "text": [
      "loss: 1860.497, tv: 555.383, ptv: 1228.951:  47%|███████████████████████████████████                                       | 4442/9380 [1:20:49<1:24:51,  1.03s/it]"
     ]
    },
    {
     "name": "stdout",
     "output_type": "stream",
     "text": [
      "Adjusting learning rate of group 0 to 2.1089e-05.\n"
     ]
    },
    {
     "name": "stderr",
     "output_type": "stream",
     "text": [
      "loss: 1820.600, tv: 557.622, ptv: 1239.459:  48%|███████████████████████████████████▎                                      | 4474/9380 [1:21:22<1:24:39,  1.04s/it]"
     ]
    },
    {
     "name": "stdout",
     "output_type": "stream",
     "text": [
      "Adjusting learning rate of group 0 to 2.1244e-05.\n"
     ]
    },
    {
     "name": "stderr",
     "output_type": "stream",
     "text": [
      "loss: 1767.737, tv: 551.197, ptv: 1230.401:  48%|███████████████████████████████████▌                                      | 4506/9380 [1:21:55<1:23:56,  1.03s/it]"
     ]
    },
    {
     "name": "stdout",
     "output_type": "stream",
     "text": [
      "Adjusting learning rate of group 0 to 2.1400e-05.\n"
     ]
    },
    {
     "name": "stderr",
     "output_type": "stream",
     "text": [
      "loss: 1831.866, tv: 563.672, ptv: 1215.540:  48%|███████████████████████████████████▊                                      | 4538/9380 [1:22:28<1:20:20,  1.00it/s]"
     ]
    },
    {
     "name": "stdout",
     "output_type": "stream",
     "text": [
      "Adjusting learning rate of group 0 to 2.1555e-05.\n"
     ]
    },
    {
     "name": "stderr",
     "output_type": "stream",
     "text": [
      "loss: 1961.705, tv: 560.647, ptv: 1211.245:  49%|████████████████████████████████████                                      | 4570/9380 [1:23:00<1:20:12,  1.00s/it]"
     ]
    },
    {
     "name": "stdout",
     "output_type": "stream",
     "text": [
      "Adjusting learning rate of group 0 to 2.1711e-05.\n"
     ]
    },
    {
     "name": "stderr",
     "output_type": "stream",
     "text": [
      "loss: 1781.930, tv: 535.189, ptv: 1223.479:  49%|████████████████████████████████████▎                                     | 4602/9380 [1:23:32<1:19:57,  1.00s/it]"
     ]
    },
    {
     "name": "stdout",
     "output_type": "stream",
     "text": [
      "Adjusting learning rate of group 0 to 2.1867e-05.\n"
     ]
    },
    {
     "name": "stderr",
     "output_type": "stream",
     "text": [
      "loss: 1842.382, tv: 548.860, ptv: 1218.199:  49%|████████████████████████████████████▌                                     | 4634/9380 [1:24:04<1:19:33,  1.01s/it]"
     ]
    },
    {
     "name": "stdout",
     "output_type": "stream",
     "text": [
      "Adjusting learning rate of group 0 to 2.2023e-05.\n"
     ]
    },
    {
     "name": "stderr",
     "output_type": "stream",
     "text": [
      "loss: 1790.532, tv: 546.018, ptv: 1230.698:  50%|████████████████████████████████████▊                                     | 4666/9380 [1:24:36<1:16:21,  1.03it/s]"
     ]
    },
    {
     "name": "stdout",
     "output_type": "stream",
     "text": [
      "Adjusting learning rate of group 0 to 2.2179e-05.\n"
     ]
    },
    {
     "name": "stderr",
     "output_type": "stream",
     "text": [
      "loss: 1736.945, tv: 533.401, ptv: 1220.700:  50%|█████████████████████████████████████                                     | 4698/9380 [1:25:07<1:15:21,  1.04it/s]"
     ]
    },
    {
     "name": "stdout",
     "output_type": "stream",
     "text": [
      "Adjusting learning rate of group 0 to 2.2335e-05.\n"
     ]
    },
    {
     "name": "stderr",
     "output_type": "stream",
     "text": [
      "loss: 1746.296, tv: 537.575, ptv: 1235.205:  50%|█████████████████████████████████████▎                                    | 4730/9380 [1:25:38<1:14:43,  1.04it/s]"
     ]
    },
    {
     "name": "stdout",
     "output_type": "stream",
     "text": [
      "Adjusting learning rate of group 0 to 2.2491e-05.\n"
     ]
    },
    {
     "name": "stderr",
     "output_type": "stream",
     "text": [
      "loss: 1774.057, tv: 552.978, ptv: 1225.954:  51%|█████████████████████████████████████▌                                    | 4762/9380 [1:26:09<1:14:16,  1.04it/s]"
     ]
    },
    {
     "name": "stdout",
     "output_type": "stream",
     "text": [
      "Adjusting learning rate of group 0 to 2.2647e-05.\n"
     ]
    },
    {
     "name": "stderr",
     "output_type": "stream",
     "text": [
      "loss: 1841.846, tv: 535.881, ptv: 1209.173:  51%|█████████████████████████████████████▊                                    | 4794/9380 [1:26:40<1:13:24,  1.04it/s]"
     ]
    },
    {
     "name": "stdout",
     "output_type": "stream",
     "text": [
      "Adjusting learning rate of group 0 to 2.2804e-05.\n"
     ]
    },
    {
     "name": "stderr",
     "output_type": "stream",
     "text": [
      "loss: 1775.095, tv: 547.489, ptv: 1222.919:  51%|██████████████████████████████████████                                    | 4826/9380 [1:27:11<1:12:47,  1.04it/s]"
     ]
    },
    {
     "name": "stdout",
     "output_type": "stream",
     "text": [
      "Adjusting learning rate of group 0 to 2.2960e-05.\n"
     ]
    },
    {
     "name": "stderr",
     "output_type": "stream",
     "text": [
      "loss: 1733.013, tv: 537.257, ptv: 1233.305:  52%|██████████████████████████████████████▎                                   | 4858/9380 [1:27:43<1:17:08,  1.02s/it]"
     ]
    },
    {
     "name": "stdout",
     "output_type": "stream",
     "text": [
      "Adjusting learning rate of group 0 to 2.3117e-05.\n"
     ]
    },
    {
     "name": "stderr",
     "output_type": "stream",
     "text": [
      "loss: 1953.610, tv: 536.908, ptv: 1235.953:  52%|██████████████████████████████████████▌                                   | 4890/9380 [1:28:16<1:16:49,  1.03s/it]"
     ]
    },
    {
     "name": "stdout",
     "output_type": "stream",
     "text": [
      "Adjusting learning rate of group 0 to 2.3273e-05.\n"
     ]
    },
    {
     "name": "stderr",
     "output_type": "stream",
     "text": [
      "loss: 1738.541, tv: 535.248, ptv: 1222.211:  52%|██████████████████████████████████████▊                                   | 4922/9380 [1:28:49<1:16:52,  1.03s/it]"
     ]
    },
    {
     "name": "stdout",
     "output_type": "stream",
     "text": [
      "Adjusting learning rate of group 0 to 2.3430e-05.\n"
     ]
    },
    {
     "name": "stderr",
     "output_type": "stream",
     "text": [
      "loss: 1827.187, tv: 544.933, ptv: 1226.666:  53%|███████████████████████████████████████                                   | 4954/9380 [1:29:22<1:16:28,  1.04s/it]"
     ]
    },
    {
     "name": "stdout",
     "output_type": "stream",
     "text": [
      "Adjusting learning rate of group 0 to 2.3587e-05.\n"
     ]
    },
    {
     "name": "stderr",
     "output_type": "stream",
     "text": [
      "loss: 1757.868, tv: 552.751, ptv: 1223.543:  53%|███████████████████████████████████████▎                                  | 4986/9380 [1:29:56<1:16:39,  1.05s/it]"
     ]
    },
    {
     "name": "stdout",
     "output_type": "stream",
     "text": [
      "Adjusting learning rate of group 0 to 2.3744e-05.\n"
     ]
    },
    {
     "name": "stderr",
     "output_type": "stream",
     "text": [
      "loss: 1761.587, tv: 537.639, ptv: 1225.647:  53%|███████████████████████████████████████▌                                  | 5018/9380 [1:30:29<1:16:02,  1.05s/it]"
     ]
    },
    {
     "name": "stdout",
     "output_type": "stream",
     "text": [
      "Adjusting learning rate of group 0 to 2.3901e-05.\n"
     ]
    },
    {
     "name": "stderr",
     "output_type": "stream",
     "text": [
      "loss: 1834.246, tv: 543.159, ptv: 1223.791:  54%|███████████████████████████████████████▊                                  | 5050/9380 [1:31:02<1:15:26,  1.05s/it]"
     ]
    },
    {
     "name": "stdout",
     "output_type": "stream",
     "text": [
      "Adjusting learning rate of group 0 to 2.4058e-05.\n"
     ]
    },
    {
     "name": "stderr",
     "output_type": "stream",
     "text": [
      "loss: 1761.089, tv: 532.467, ptv: 1220.283:  54%|████████████████████████████████████████                                  | 5082/9380 [1:31:36<1:14:50,  1.04s/it]"
     ]
    },
    {
     "name": "stdout",
     "output_type": "stream",
     "text": [
      "Adjusting learning rate of group 0 to 2.4215e-05.\n"
     ]
    },
    {
     "name": "stderr",
     "output_type": "stream",
     "text": [
      "loss: 1894.936, tv: 532.374, ptv: 1230.863:  55%|████████████████████████████████████████▎                                 | 5114/9380 [1:32:09<1:14:14,  1.04s/it]"
     ]
    },
    {
     "name": "stdout",
     "output_type": "stream",
     "text": [
      "Adjusting learning rate of group 0 to 2.4372e-05.\n"
     ]
    },
    {
     "name": "stderr",
     "output_type": "stream",
     "text": [
      "loss: 1754.793, tv: 531.724, ptv: 1228.688:  55%|████████████████████████████████████████▌                                 | 5146/9380 [1:32:43<1:13:13,  1.04s/it]"
     ]
    },
    {
     "name": "stdout",
     "output_type": "stream",
     "text": [
      "Adjusting learning rate of group 0 to 2.4529e-05.\n"
     ]
    },
    {
     "name": "stderr",
     "output_type": "stream",
     "text": [
      "loss: 1702.542, tv: 535.369, ptv: 1223.478:  55%|████████████████████████████████████████▊                                 | 5178/9380 [1:33:16<1:12:56,  1.04s/it]"
     ]
    },
    {
     "name": "stdout",
     "output_type": "stream",
     "text": [
      "Adjusting learning rate of group 0 to 2.4686e-05.\n"
     ]
    },
    {
     "name": "stderr",
     "output_type": "stream",
     "text": [
      "loss: 1762.011, tv: 529.434, ptv: 1215.945:  56%|█████████████████████████████████████████                                 | 5210/9380 [1:33:49<1:12:22,  1.04s/it]"
     ]
    },
    {
     "name": "stdout",
     "output_type": "stream",
     "text": [
      "Adjusting learning rate of group 0 to 2.4843e-05.\n"
     ]
    },
    {
     "name": "stderr",
     "output_type": "stream",
     "text": [
      "loss: 1744.536, tv: 540.593, ptv: 1232.978:  56%|█████████████████████████████████████████▎                                | 5242/9380 [1:34:23<1:11:40,  1.04s/it]"
     ]
    },
    {
     "name": "stdout",
     "output_type": "stream",
     "text": [
      "Adjusting learning rate of group 0 to 2.5000e-05.\n"
     ]
    },
    {
     "name": "stderr",
     "output_type": "stream",
     "text": [
      "loss: 1834.567, tv: 539.975, ptv: 1236.800:  56%|█████████████████████████████████████████▌                                | 5274/9380 [1:34:56<1:11:30,  1.04s/it]"
     ]
    },
    {
     "name": "stdout",
     "output_type": "stream",
     "text": [
      "Adjusting learning rate of group 0 to 2.5157e-05.\n"
     ]
    },
    {
     "name": "stderr",
     "output_type": "stream",
     "text": [
      "loss: 1754.438, tv: 534.971, ptv: 1226.178:  57%|█████████████████████████████████████████▊                                | 5306/9380 [1:35:30<1:10:45,  1.04s/it]"
     ]
    },
    {
     "name": "stdout",
     "output_type": "stream",
     "text": [
      "Adjusting learning rate of group 0 to 2.5314e-05.\n"
     ]
    },
    {
     "name": "stderr",
     "output_type": "stream",
     "text": [
      "loss: 1721.262, tv: 541.868, ptv: 1225.945:  57%|██████████████████████████████████████████                                | 5338/9380 [1:36:03<1:10:07,  1.04s/it]"
     ]
    },
    {
     "name": "stdout",
     "output_type": "stream",
     "text": [
      "Adjusting learning rate of group 0 to 2.5471e-05.\n"
     ]
    },
    {
     "name": "stderr",
     "output_type": "stream",
     "text": [
      "loss: 1740.456, tv: 550.277, ptv: 1226.760:  57%|██████████████████████████████████████████▎                               | 5370/9380 [1:36:36<1:09:48,  1.04s/it]"
     ]
    },
    {
     "name": "stdout",
     "output_type": "stream",
     "text": [
      "Adjusting learning rate of group 0 to 2.5628e-05.\n"
     ]
    },
    {
     "name": "stderr",
     "output_type": "stream",
     "text": [
      "loss: 1805.891, tv: 535.485, ptv: 1218.899:  58%|██████████████████████████████████████████▌                               | 5402/9380 [1:37:10<1:09:14,  1.04s/it]"
     ]
    },
    {
     "name": "stdout",
     "output_type": "stream",
     "text": [
      "Adjusting learning rate of group 0 to 2.5785e-05.\n"
     ]
    },
    {
     "name": "stderr",
     "output_type": "stream",
     "text": [
      "loss: 1727.398, tv: 560.592, ptv: 1240.982:  58%|██████████████████████████████████████████▊                               | 5434/9380 [1:37:43<1:08:45,  1.05s/it]"
     ]
    },
    {
     "name": "stdout",
     "output_type": "stream",
     "text": [
      "Adjusting learning rate of group 0 to 2.5942e-05.\n"
     ]
    },
    {
     "name": "stderr",
     "output_type": "stream",
     "text": [
      "loss: 1736.550, tv: 543.529, ptv: 1222.977:  58%|███████████████████████████████████████████                               | 5466/9380 [1:38:17<1:07:52,  1.04s/it]"
     ]
    },
    {
     "name": "stdout",
     "output_type": "stream",
     "text": [
      "Adjusting learning rate of group 0 to 2.6099e-05.\n"
     ]
    },
    {
     "name": "stderr",
     "output_type": "stream",
     "text": [
      "loss: 1839.710, tv: 538.747, ptv: 1230.729:  59%|███████████████████████████████████████████▎                              | 5498/9380 [1:38:50<1:07:32,  1.04s/it]"
     ]
    },
    {
     "name": "stdout",
     "output_type": "stream",
     "text": [
      "Adjusting learning rate of group 0 to 2.6256e-05.\n"
     ]
    },
    {
     "name": "stderr",
     "output_type": "stream",
     "text": [
      "loss: 1727.972, tv: 542.579, ptv: 1241.109:  59%|███████████████████████████████████████████▋                              | 5530/9380 [1:39:23<1:06:50,  1.04s/it]"
     ]
    },
    {
     "name": "stdout",
     "output_type": "stream",
     "text": [
      "Adjusting learning rate of group 0 to 2.6413e-05.\n"
     ]
    },
    {
     "name": "stderr",
     "output_type": "stream",
     "text": [
      "loss: 1752.865, tv: 538.179, ptv: 1221.573:  59%|███████████████████████████████████████████▊                              | 5550/9380 [1:39:44<1:09:27,  1.09s/it]"
     ]
    }
   ],
   "source": [
    "use_sparsity_loss = True\n",
    "use_mask_task = False\n",
    "use_active_weights = True\n",
    "lr_step = 32\n",
    "minibatch_size = 32\n",
    "\n",
    "step_count = 0\n",
    "optim.zero_grad()\n",
    "pert_task = 0\n",
    "for e in range(20):\n",
    "    model.train()\n",
    "    losses = {'control': [], 'pert': []}\n",
    "    for (bcontrol, bpert, bpert_index) in (pbar := tqdm(iter(dl))):\n",
    "        bcontrol, bpert, bpert_index = bcontrol.squeeze(), bpert.squeeze(), bpert_index.reshape(-1, 1)# , # bpert_expr.squeeze()\n",
    "        curr_batch_size = bcontrol.shape[0]\n",
    "        for i in range(curr_batch_size // minibatch_size):\n",
    "            control = bcontrol[(i * minibatch_size):((i + 1) * minibatch_size)]\n",
    "            if control.shape[0] == 0:\n",
    "                continue\n",
    "            pert = bpert[(i * minibatch_size):((i + 1) * minibatch_size)]\n",
    "            pert_index = bpert_index[(i * minibatch_size):((i + 1) * minibatch_size)]\n",
    "            pert_index = pert_index.squeeze()\n",
    "            # print(pert_index)\n",
    "            active_weights = 100 * (control > 0).float().to(device) + 1 if use_active_weights else 1\n",
    "            pert_active_weights = 100 * (pert > 0).float().to(device) + 1 if use_active_weights else 1\n",
    "            control = control.float().to(device)\n",
    "            pert = pert.float().to(device)\n",
    "            step_count += 1\n",
    "\n",
    "            pert_expr = pert[torch.arange(pert.size(0)), pert_index, None]\n",
    "            control_results, pert_results = model(\n",
    "                control, pert_expr=pert_expr, pert_index=pert_index, mask=use_mask_task, recon_and_pert=True\n",
    "            )\n",
    "            \n",
    "            control_recon, pert_recon = control_results[0], pert_results[0]\n",
    "            control_loss = torch.sum(active_weights * torch.abs(control_recon - control)) / minibatch_size\n",
    "            pert_loss = torch.sum(pert_active_weights * torch.abs(pert_recon - pert)) / minibatch_size\n",
    "            \n",
    "            mean_pert, mean_pert_recon = pert.mean(axis=0), pert_recon.mean(axis=0)\n",
    "            mean_pert_loss = 10 * torch.sum(torch.abs(mean_pert - mean_pert_recon)) \n",
    "            \n",
    "            std_pert, std_pert_recon = pert.std(axis=0), pert_recon.std(axis=0)\n",
    "            std_pert_loss = 10 * torch.sum(torch.abs(std_pert - std_pert_recon)) \n",
    "            \n",
    "            if use_sparsity_loss and len(control_results) == 3:\n",
    "                control_sparsity, pert_sparsity = control_results[1], pert_results[1]\n",
    "                control_loss += torch.sum(active_weights * torch.abs(control_sparsity - (control > 0).float())) / minibatch_size\n",
    "                pert_loss += torch.sum(pert_active_weights * torch.abs(pert_sparsity - (pert > 0).float())) / minibatch_size\n",
    "\n",
    "            loss = (pert_loss + control_loss + mean_pert_loss + std_pert_loss)\n",
    "            loss.backward()\n",
    "            optim.step()\n",
    "            optim.zero_grad()\n",
    "            losses['control'].append(control_loss.item())\n",
    "            losses['pert'].append(pert_loss.item())\n",
    "            if step_count % lr_step == 0:\n",
    "                lr_scheduler.step()\n",
    "            pbar.set_description(\n",
    "                f\"loss: {loss:.3f}, tv: {np.array(losses['control'])[-lr_step:].mean():.3f}, ptv: {np.array(losses['pert'])[-lr_step:].mean():.3f}\"\n",
    "            )\n",
    "    \n",
    "    avg_loss = sum(losses['control']) / len(losses['control'])\n",
    "    torch.save(model, f\"{save_dir}{e}\")\n",
    "    # writer.add_scalar('mae_loss', avg_loss, global_step=e)\n",
    "    print(f'In epoch {e}, average traning loss is {avg_loss}.')"
   ]
  },
  {
   "cell_type": "code",
   "execution_count": null,
   "metadata": {},
   "outputs": [],
   "source": [
    "control_sparsity, control"
   ]
  },
  {
   "cell_type": "code",
   "execution_count": 60,
   "metadata": {},
   "outputs": [
    {
     "name": "stderr",
     "output_type": "stream",
     "text": [
      "  0%|                                                                                                                                     | 0/9380 [00:00<?, ?it/s]\n"
     ]
    },
    {
     "ename": "ValueError",
     "evalue": "not enough values to unpack (expected 4, got 3)",
     "output_type": "error",
     "traceback": [
      "\u001b[0;31m---------------------------------------------------------------------------\u001b[0m",
      "\u001b[0;31mValueError\u001b[0m                                Traceback (most recent call last)",
      "Cell \u001b[0;32mIn[60], line 12\u001b[0m\n\u001b[1;32m     10\u001b[0m model\u001b[38;5;241m.\u001b[39mtrain()\n\u001b[1;32m     11\u001b[0m losses \u001b[38;5;241m=\u001b[39m {\u001b[38;5;124m'\u001b[39m\u001b[38;5;124mcontrol\u001b[39m\u001b[38;5;124m'\u001b[39m: [], \u001b[38;5;124m'\u001b[39m\u001b[38;5;124mpert\u001b[39m\u001b[38;5;124m'\u001b[39m: []}\n\u001b[0;32m---> 12\u001b[0m \u001b[38;5;28;01mfor\u001b[39;00m (bcontrol, bpert, bpert_index, _) \u001b[38;5;129;01min\u001b[39;00m (pbar \u001b[38;5;241m:=\u001b[39m tqdm(\u001b[38;5;28miter\u001b[39m(dl))):\n\u001b[1;32m     13\u001b[0m     bcontrol, bpert, bpert_index \u001b[38;5;241m=\u001b[39m bcontrol\u001b[38;5;241m.\u001b[39msqueeze(), bpert\u001b[38;5;241m.\u001b[39msqueeze(), bpert_index\u001b[38;5;241m.\u001b[39mreshape(\u001b[38;5;241m-\u001b[39m\u001b[38;5;241m1\u001b[39m, \u001b[38;5;241m1\u001b[39m)\u001b[38;5;66;03m# , # bpert_expr.squeeze()\u001b[39;00m\n\u001b[1;32m     14\u001b[0m     \u001b[38;5;28;01mfor\u001b[39;00m i \u001b[38;5;129;01min\u001b[39;00m \u001b[38;5;28mrange\u001b[39m(curr_batch_size \u001b[38;5;241m/\u001b[39m\u001b[38;5;241m/\u001b[39m minibatch_size):\n",
      "\u001b[0;31mValueError\u001b[0m: not enough values to unpack (expected 4, got 3)"
     ]
    }
   ],
   "source": [
    "use_sparsity_loss = False\n",
    "use_mask_task = False\n",
    "use_active_weights = True\n",
    "lr_step = 32\n",
    "\n",
    "step_count = 0\n",
    "optim.zero_grad()\n",
    "pert_task = 0\n",
    "for e in range(2):\n",
    "    model.train()\n",
    "    losses = {'control': [], 'pert': []}\n",
    "    for (bcontrol, bpert, bpert_index, _) in (pbar := tqdm(iter(dl))):\n",
    "        bcontrol, bpert, bpert_index = bcontrol.squeeze(), bpert.squeeze(), bpert_index.reshape(-1, 1)# , # bpert_expr.squeeze()\n",
    "        for i in range(curr_batch_size // minibatch_size):\n",
    "            control = bcontrol[(i * minibatch_size):((i + 1) * minibatch_size)]\n",
    "            if control.shape[0] == 0:\n",
    "                continue\n",
    "            pert = bpert[(i * minibatch_size):((i + 1) * minibatch_size)]\n",
    "            pert_index = bpert_index[(i * minibatch_size):((i + 1) * minibatch_size)]\n",
    "            pert_index = pert_index.squeeze()\n",
    "            # print(pert_index)\n",
    "            active_weights = 1000 * (control > 0).float().to(device) + 1 if use_active_weights else 1\n",
    "            pert_active_weights = 1000 * (pert > 0).float().to(device) + 1 if use_active_weights else 1\n",
    "            control = control.float().to(device)\n",
    "            pert = pert.float().to(device)\n",
    "            step_count += 1\n",
    "\n",
    "            pert_expr = pert[torch.arange(pert.size(0)), pert_index, None]\n",
    "            control_results, pert_results = model(\n",
    "                control, pert_expr=pert_expr, pert_index=pert_index, mask=use_mask_task, recon_and_pert=True\n",
    "            )\n",
    "            \n",
    "            control_recon, pert_recon = control_results[0], pert_results[0]\n",
    "            control_loss = torch.sum(active_weights * torch.abs(control_recon - control)) / minibatch_size\n",
    "            pert_loss = torch.sum(pert_active_weights * torch.abs(pert_recon - pert)) / minibatch_size\n",
    "            \n",
    "            if use_sparsity_loss and len(control_results) == 3:\n",
    "                control_sparsity, pert_sparsity = control_results[1], pert_results[1]\n",
    "                control_loss += torch.sum(active_weights * torch.abs(control_sparsity - (control > 0).float())) / minibatch_size\n",
    "                pert_loss += torch.sum(pert_active_weights * torch.abs(pert_sparsity - (pert > 0).float())) / minibatch_size\n",
    "\n",
    "            loss = (pert_loss + control_loss)\n",
    "            loss.backward()\n",
    "            optim.step()\n",
    "            optim.zero_grad()\n",
    "            losses['control'].append(control_loss.item())\n",
    "            losses['pert'].append(pert_loss.item())\n",
    "            if step_count % lr_step == 0:\n",
    "                lr_scheduler.step()\n",
    "            pbar.set_description(\n",
    "                f\"tv: {np.array(losses['control'])[-lr_step:].mean():.3f}, ptv: {np.array(losses['pert'])[-lr_step:].mean():.3f}\"\n",
    "            )\n",
    "    \n",
    "    avg_loss = sum(losses['control']) / len(losses['control'])\n",
    "    torch.save(model, f\"{save_dir}{e}\")\n",
    "    # writer.add_scalar('mae_loss', avg_loss, global_step=e)\n",
    "    print(f'In epoch {e}, average traning loss is {avg_loss}.')"
   ]
  },
  {
   "cell_type": "code",
   "execution_count": 45,
   "metadata": {},
   "outputs": [
    {
     "name": "stdout",
     "output_type": "stream",
     "text": [
      "0\n",
      "1\n",
      "2\n",
      "3\n",
      "4\n",
      "5\n",
      "6\n",
      "Saving USP18 predictions\n"
     ]
    }
   ],
   "source": [
    "cell_type_names = adata.obs[cell_col]\n",
    "pert_type_names = adata.obs[pert_col]\n",
    "# Save the predicted perturbation\n",
    "for cell_type, pert_type in zip(holdout_cells, holdout_perts):\n",
    "    control_eval =  torch.tensor(X[cell_type_names == cell_type]).float()# .to(device)\n",
    "    true_pert= torch.tensor(X[(pert_type_names == pert_type) & (cell_type_names == cell_type)]).float()# .to(device)\n",
    "    curr_batch_size = min(control_eval.shape[0], true_pert.shape[0])\n",
    "    pred_perts = []\n",
    "    for i in range(curr_batch_size // minibatch_size + 1):\n",
    "        print(i)\n",
    "        control = control_eval[(i * minibatch_size):min(curr_batch_size, ((i + 1) * minibatch_size))].to(device)\n",
    "        pert = true_pert[(i * minibatch_size):min(curr_batch_size, ((i + 1) * minibatch_size))].to(device)\n",
    "        pert_expr = pert[torch.arange(pert.shape[0]), pert_type, None]\n",
    "        pred_pert, _, = model(\n",
    "            control, pert_expr=pert_expr, pert_index=pert_type, mask=False\n",
    "        )\n",
    "        pred_pert = control.cpu()\n",
    "        control.cpu().numpy()\n",
    "        \n",
    "        pert.cpu().numpy()\n",
    "        pred_perts.append(pred_pert.cpu().detach().numpy())\n",
    "        torch.cuda.empty_cache()\n",
    "    pred_pert = np.vstack(pred_perts)\n",
    "    print(f\"Saving {gene_unmap[pert_type]} predictions\")\n",
    "    np.savez(\n",
    "        f\"Satija_IFNB_HVG/llm/pred_{gene_unmap[pert_type]}_{cell_type}.npz\", \n",
    "        pred_pert=pred_pert, \n",
    "        true_pert=true_pert, \n",
    "        control=control_eval,\n",
    "    )"
   ]
  },
  {
   "cell_type": "code",
   "execution_count": 46,
   "metadata": {},
   "outputs": [
    {
     "data": {
      "text/plain": [
       "torch.return_types.sort(\n",
       "values=tensor([0.0000, 0.0000, 0.0000,  ..., 0.0125, 0.0138, 0.0194], device='cuda:0'),\n",
       "indices=tensor([   1,    2,    4,  ..., 2026, 1550, 1612], device='cuda:0'))"
      ]
     },
     "execution_count": 46,
     "metadata": {},
     "output_type": "execute_result"
    }
   ],
   "source": [
    "pert.std(axis=0).sort()"
   ]
  },
  {
   "cell_type": "code",
   "execution_count": null,
   "metadata": {},
   "outputs": [],
   "source": []
  }
 ],
 "metadata": {
  "kernelspec": {
   "display_name": "dsbm",
   "language": "python",
   "name": "dsbm"
  },
  "language_info": {
   "codemirror_mode": {
    "name": "ipython",
    "version": 3
   },
   "file_extension": ".py",
   "mimetype": "text/x-python",
   "name": "python",
   "nbconvert_exporter": "python",
   "pygments_lexer": "ipython3",
   "version": "3.10.13"
  }
 },
 "nbformat": 4,
 "nbformat_minor": 4
}
