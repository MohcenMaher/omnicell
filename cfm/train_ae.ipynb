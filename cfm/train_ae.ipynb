{
 "cells": [
  {
   "cell_type": "code",
   "execution_count": 1,
   "metadata": {},
   "outputs": [],
   "source": [
    "import math\n",
    "from tqdm import tqdm\n",
    "import scvi\n",
    "import torch\n",
    "import numpy as np\n",
    "import pytorch_lightning as pl\n",
    "import os\n",
    "\n",
    "import scanpy as sc\n",
    "\n",
    "from pytorch_lightning.callbacks import TQDMProgressBar\n",
    "from torchcfm.conditional_flow_matching import *\n",
    "import scanpy as sc\n",
    "from datamodules import  SCFMDataset, cfm_collate, StratifiedBatchSampler, ot_collate\n",
    "from torch.utils.data import RandomSampler\n",
    "from sc_etl_utils import *\n",
    "from arch import *\n",
    "import json\n",
    "\n",
    "import scvi\n",
    "import torch\n",
    "import numpy as np\n",
    "import pytorch_lightning as pl\n",
    "import os\n",
    "\n",
    "import scanpy as sc\n",
    "\n",
    "from torchcfm.conditional_flow_matching import *\n",
    "import scanpy as sc\n",
    "import hashlib\n",
    "from llm import MAE"
   ]
  },
  {
   "cell_type": "code",
   "execution_count": 2,
   "metadata": {},
   "outputs": [],
   "source": [
    "# load some data\n",
    "adata = sc.read_h5ad('/om/group/abugoot/Projects/Omnicell_datasets/satija_IFNB_raw/Seurat_IFNB.h5ad')"
   ]
  },
  {
   "cell_type": "code",
   "execution_count": 3,
   "metadata": {},
   "outputs": [],
   "source": [
    "gene_map = {k: i for i, k in enumerate(adata.var['gene'])}\n",
    "gene_map = gene_map | {'NT': max(gene_map.values()) + 1}\n",
    "gene_unmap = {gene_map[k]: k for k in gene_map}\n",
    "perts = adata.obs.gene.unique().map(gene_map)\n",
    "adata.obs['pert_type'] = adata.obs.gene.map(gene_map)\n",
    "pert_ids = np.array(adata.obs['pert_type'])\n",
    "pert_mat = np.arange(pert_ids.max() + 1)[:, None]"
   ]
  },
  {
   "cell_type": "code",
   "execution_count": 4,
   "metadata": {},
   "outputs": [],
   "source": [
    "cell_col = 'cell_type'\n",
    "pert_col = 'pert_type'\n",
    "control_pert, holdout_cells, holdout_perts = gene_map['NT'], ['HT29'], [gene_map['USP18']]"
   ]
  },
  {
   "cell_type": "code",
   "execution_count": 5,
   "metadata": {
    "scrolled": true
   },
   "outputs": [
    {
     "name": "stdout",
     "output_type": "stream",
     "text": [
      "Controls: 14582, Perturbations: 313080,  Eval: 880\n"
     ]
    }
   ],
   "source": [
    "from sc_etl_utils import *\n",
    "control_idx, pert_idx, eval_idx, eval_cell_idx, eval_pert_idx = get_train_eval_idxs(\n",
    "    adata, control_pert, holdout_cells, holdout_perts, cell_col=cell_col, pert_col=pert_col\n",
    ")\n",
    "\n",
    "_, _, cell_types = get_identity_features(\n",
    "    adata, cell_col=cell_col, pert_col=pert_col, cell_type_features=False\n",
    ")\n",
    "\n",
    "adata.obsm[\"standard\"] = adata.X\n",
    "X = adata.obsm[\"standard\"]\n",
    "X = X.toarray()\n",
    "X = X / X.sum(axis=1)[:, None]\n",
    "X = np.log(X * 10_000. + 1)\n",
    "\n",
    "control_train, pert_train, pert_ids_train, control_cell_types, pert_cell_types, control_eval, pert_eval, pert_ids_eval = get_train_eval(\n",
    "    X, pert_ids, cell_types, control_idx, pert_idx, eval_idx, eval_cell_idx, eval_pert_idx\n",
    ")\n"
   ]
  },
  {
   "cell_type": "code",
   "execution_count": 6,
   "metadata": {},
   "outputs": [],
   "source": [
    "train = np.vstack([control_train, pert_train])\n",
    "\n",
    "import numpy as np\n",
    "import torch\n",
    "from torch.utils.data import Dataset, DataLoader\n",
    "\n",
    "# Create a custom Dataset class\n",
    "class NumpyDataset(Dataset):\n",
    "    def __init__(self, data):\n",
    "        self.data = data\n",
    "\n",
    "    def __getitem__(self, index):\n",
    "        return torch.from_numpy(self.data[index]).float()\n",
    "\n",
    "    def __len__(self):\n",
    "        return len(self.data)\n",
    "\n",
    "# Create an instance of the dataset\n",
    "dataset = NumpyDataset(train)"
   ]
  },
  {
   "cell_type": "code",
   "execution_count": 7,
   "metadata": {},
   "outputs": [],
   "source": [
    "import torch\n",
    "from torch import nn\n",
    "import torch.nn.functional as F\n",
    "import numpy as np\n",
    "\n",
    "\n",
    "class GeneEmbedding(torch.nn.Module):\n",
    "    def __init__(self, input_dim, emb_dim=128):\n",
    "        super().__init__()\n",
    "        self.pos = torch.nn.Parameter(torch.zeros(1, input_dim, emb_dim))\n",
    "        nn.init.normal_(self.pos)\n",
    "        \n",
    "        \n",
    "class PertEmbedder(torch.nn.Module):\n",
    "    def __init__(self, gene_embedding):\n",
    "        super().__init__()\n",
    "        _, input_dim, emb_dim = gene_embedding.pos.shape\n",
    "        self.gene_embedding = gene_embedding\n",
    "        self.pert_token = torch.nn.Parameter(torch.zeros(emb_dim))\n",
    "        nn.init.normal_(self.pert_token)\n",
    "        \n",
    "    def forward(self, pert_index, pert_expression):\n",
    "        pert_pos = self.gene_embedding.pos[:, pert_index][0]\n",
    "\n",
    "        pert_embed_and_expr = torch.cat(\n",
    "            (\n",
    "                pert_pos + self.pert_token, \n",
    "                pert_expression.unsqueeze(-1)\n",
    "            ), dim=-1\n",
    "        )\n",
    "        return pert_embed_and_expr.unsqueeze(1)\n",
    "    \n",
    "class CellEncoder(torch.nn.Module):\n",
    "    def __init__(self, input_dim, latent_dim, hidden_dim, dropout_rate=0.1):\n",
    "        super().__init__()\n",
    "        self.input_dim = input_dim  \n",
    "        self.latent_dim = latent_dim  # Dimension of the latent space\n",
    "        self.dropout_rate = dropout_rate \n",
    "        \n",
    "\n",
    "        # Encoder network definitions\n",
    "        self.encoder_fc1 = nn.Linear(input_dim, hidden_dim, bias=False) \n",
    "        self.encoder_bn1 = nn.BatchNorm1d(hidden_dim)  \n",
    "        self.encoder_fc2 = nn.Linear(hidden_dim, hidden_dim, bias=False) \n",
    "        self.encoder_bn2 = nn.BatchNorm1d(hidden_dim) \n",
    "        self.encoder_fc3 = nn.Linear(hidden_dim, hidden_dim, bias=False) \n",
    "        self.encoder_bn3 = nn.BatchNorm1d(hidden_dim) \n",
    "        \n",
    "        self.mix2 = nn.Linear(input_dim, hidden_dim, bias=False) \n",
    "        self.mix3 = nn.Linear(input_dim, hidden_dim, bias=False) \n",
    "        self.fc_mu = nn.Linear(hidden_dim, latent_dim, bias=True) \n",
    "        self.fc_logvar = nn.Linear(hidden_dim, latent_dim, bias=True) \n",
    "\n",
    "    # Encoder function\n",
    "    def forward(self, x):\n",
    "        h = F.leaky_relu(self.encoder_bn1(self.encoder_fc1(x)))  \n",
    "        h = F.dropout(h, p=self.dropout_rate, training=self.training)  \n",
    "        h = F.leaky_relu(self.encoder_bn2(self.encoder_fc2(h + self.mix2(x))))  \n",
    "        h = F.dropout(h, p=self.dropout_rate, training=self.training)  \n",
    "        h = F.leaky_relu(self.encoder_bn3(self.encoder_fc3(h + self.mix3(x))))  \n",
    "        return self.fc_mu(h)# , self.fc_logvar(h)  \n",
    "\n",
    "\n",
    "class ExprPred(torch.nn.Module):\n",
    "    def __init__(self,\n",
    "                 gene_embedding,\n",
    "                 ff_dim=128,\n",
    "                 ) -> None:\n",
    "        super().__init__()\n",
    "        \n",
    "        _, _, emb_dim = gene_embedding.pos.shape\n",
    "        self.gene_embedding = gene_embedding\n",
    "\n",
    "        self.pred_expr = torch.nn.Sequential(\n",
    "            torch.nn.Linear(emb_dim + emb_dim, ff_dim),\n",
    "            torch.nn.SELU(),\n",
    "            torch.nn.Linear(ff_dim, ff_dim),\n",
    "            torch.nn.SELU(),\n",
    "            torch.nn.Linear(ff_dim, ff_dim),\n",
    "            torch.nn.SELU(),\n",
    "            torch.nn.Linear(ff_dim, ff_dim),\n",
    "            torch.nn.SELU(),\n",
    "            torch.nn.Linear(ff_dim, ff_dim),\n",
    "            torch.nn.SELU(),\n",
    "            torch.nn.Linear(ff_dim, ff_dim),\n",
    "            torch.nn.SELU(),\n",
    "            torch.nn.Linear(ff_dim, 1),\n",
    "            torch.nn.ELU()\n",
    "        ) \n",
    "        \n",
    "        self.pred_bin = torch.nn.Sequential(\n",
    "            torch.nn.Linear(emb_dim + emb_dim, ff_dim),\n",
    "            torch.nn.SELU(),\n",
    "            torch.nn.Linear(ff_dim, ff_dim),\n",
    "            torch.nn.SELU(),\n",
    "            torch.nn.Linear(ff_dim, ff_dim),\n",
    "            torch.nn.SELU(),\n",
    "            torch.nn.Linear(ff_dim, ff_dim),\n",
    "            torch.nn.SELU(),\n",
    "            torch.nn.Linear(ff_dim, ff_dim),\n",
    "            torch.nn.SELU(),\n",
    "            torch.nn.Linear(ff_dim, ff_dim),\n",
    "            torch.nn.SELU(),\n",
    "            torch.nn.Linear(ff_dim, 1),\n",
    "            torch.nn.Sigmoid()\n",
    "        ) \n",
    "\n",
    "    def forward(self, cell_embedding, pred_idx):\n",
    "        embed_and_cell_embed = torch.cat(\n",
    "            (\n",
    "            torch.tile(cell_embedding.unsqueeze(1), (1, idx.shape[0], 1)),\n",
    "            torch.tile(self.gene_embedding.pos[:, pred_idx], (cell_embedding.shape[0], 1, 1))\n",
    "            ), dim=-1\n",
    "        )\n",
    "        pred_expr = self.pred_expr(embed_and_cell_embed) + 1\n",
    "        pred_bin = self.pred_bin(embed_and_cell_embed)\n",
    "        \n",
    "        return pred_expr.squeeze(), pred_bin.squeeze()\n",
    "\n",
    "class CMLP(pl.LightningModule):\n",
    "    def __init__(self, feat_dim, cond_dim, out_dim=None, w1=128, w2=128, n_combo_layer=4, n_cond_layer=3, time_varying=False):\n",
    "        super().__init__()\n",
    "        self.time_varying = time_varying\n",
    "        if out_dim is None:\n",
    "            out_dim = feat_dim\n",
    "        self.combo_net = torch.nn.Sequential(\n",
    "            torch.nn.Linear(feat_dim + (1 if time_varying else 0) + cond_dim, w1), torch.nn.SELU(),\n",
    "            *([torch.nn.Linear(w1, w1), torch.nn.SELU()] * n_combo_layer),\n",
    "            torch.nn.Linear(w1, out_dim)\n",
    "        )\n",
    "        self.cond = None\n",
    "        \n",
    "    def forward(self, x, cond=None):\n",
    "        if cond is None:\n",
    "            cond = self.cond\n",
    "        # cond = self.cond_net(cond)\n",
    "        return self.combo_net(torch.cat([x, cond], dim=-1))\n",
    "\n",
    "    \n",
    "class BernoulliSampleLayer(nn.Module):\n",
    "    def __init__(self):\n",
    "        super(BernoulliSampleLayer, self).__init__()\n",
    "\n",
    "    def forward(self, probs):\n",
    "        sample = torch.bernoulli(probs)\n",
    "        return sample + probs - probs.detach()    \n",
    "\n",
    "    \n",
    "class MAE(torch.nn.Module):\n",
    "    def __init__(self,\n",
    "                 input_dim,\n",
    "                 ff_dim=128,\n",
    "                 emb_dim=128,\n",
    "                 encoder_layer=6,\n",
    "                 ) -> None:\n",
    "        super().__init__()\n",
    "        \n",
    "        self.gene_embedding = GeneEmbedding(input_dim=input_dim, emb_dim=emb_dim)\n",
    "        self.pert_embedding = PertEmbedder(self.gene_embedding)\n",
    "        self.encoder = CellEncoder(\n",
    "            input_dim, emb_dim, hidden_dim=ff_dim\n",
    "        )\n",
    "        self.recon = ExprPred(self.gene_embedding)\n",
    "        self.sparse_sampler = BernoulliSampleLayer()\n",
    "        \n",
    "        self.flow = CMLP(feat_dim=emb_dim, cond_dim=emb_dim, time_varying=True, w1=ff_dim)\n",
    "        self.cfm_sampler = ExactOptimalTransportConditionalFlowMatcher(sigma=0.1)\n",
    "\n",
    "    def forward(self, expr):\n",
    "        cell_embedding = self.encoder(expr)\n",
    "        # cell_embedding = features.mean(axis=1)\n",
    "        return cell_embedding #, pred_expr.squeeze(), pred_bin.squeeze()\n",
    "    \n",
    "    def sparsify(self, pred_expr, pred_bin):\n",
    "        sparsity = self.sparse_sampler(pred_bin)\n",
    "        pred_expr *= sparsity\n",
    "        return pred_expr\n",
    "    \n",
    "    def ae_loss(self, batch_emb, batch, gene_ids, lambd=0.5, return_recon=False):\n",
    "        batch_bin = (batch > 0).float()\n",
    "        batch_recon, batch_bin_recon = self.recon(batch_emb, gene_ids)\n",
    "        recon_loss = torch.mean(batch_bin * (batch_recon - batch[:, gene_ids])**2) # / minibatch_size\n",
    "        bin_loss = F.binary_cross_entropy(batch_bin_recon, batch_bin[:, gene_ids])\n",
    "        loss = lambd * recon_loss + (1 - lambd) * bin_loss\n",
    "        if return_recon:\n",
    "            return loss, batch_recon, batch_bin_recon\n",
    "        return loss\n",
    "    \n",
    "    def flow_loss(self, source_emb, target_emb, cond):\n",
    "        t, xt, ut = self.cfm_sampler.sample_location_and_conditional_flow(\n",
    "            source_emb, target_emb\n",
    "        )\n",
    "\n",
    "        inp = torch.cat([xt, t[:, None]], dim=-1)\n",
    "        vt = model.flow(inp, cond)\n",
    "        return torch.nn.functional.mse_loss(vt, ut) \n"
   ]
  },
  {
   "cell_type": "code",
   "execution_count": 8,
   "metadata": {},
   "outputs": [],
   "source": [
    "model = MAE(\n",
    "    X.shape[1], \n",
    "    emb_dim=1024, \n",
    "    encoder_layer=4,\n",
    "    ff_dim=1024\n",
    ")\n",
    "model = torch.load(f\"ae/v9\")\n",
    "device = 'cuda'\n",
    "# device = 'cpu'\n",
    "model = model.to(device)"
   ]
  },
  {
   "cell_type": "code",
   "execution_count": 9,
   "metadata": {},
   "outputs": [
    {
     "name": "stdout",
     "output_type": "stream",
     "text": [
      "Adjusting learning rate of group 0 to 4.0000e-05.\n"
     ]
    }
   ],
   "source": [
    "base_learning_rate = 2e-4\n",
    "weight_decay=0.0\n",
    "total_epoch = 10_000\n",
    "warmup_epoch = 5\n",
    "save_dir = \"ae/v\"\n",
    "optim = torch.optim.Adam(model.parameters(), lr=base_learning_rate)\n",
    "lr_func = lambda epoch: min((epoch + 1) / (warmup_epoch + 1e-5), 0.5 * (math.cos(epoch / total_epoch * math.pi) + 1))\n",
    "lr_scheduler = torch.optim.lr_scheduler.LambdaLR(optim, lr_lambda=lr_func, verbose=True)"
   ]
  },
  {
   "cell_type": "code",
   "execution_count": 39,
   "metadata": {},
   "outputs": [
    {
     "data": {
      "text/plain": [
       "518"
      ]
     },
     "execution_count": 39,
     "metadata": {},
     "output_type": "execute_result"
    }
   ],
   "source": [
    "del batch_emb\n",
    "del batch_recon\n",
    "del batch_bin_recon\n",
    "del batch\n",
    "del loss\n",
    "del batch_recon_sparse\n",
    "del recon_loss\n",
    "del idx \n",
    "optim.zero_grad()\n",
    "import gc\n",
    "torch.cuda.empty_cache()\n",
    "gc.collect()"
   ]
  },
  {
   "cell_type": "code",
   "execution_count": 26,
   "metadata": {},
   "outputs": [
    {
     "name": "stderr",
     "output_type": "stream",
     "text": [
      "loss: 0.148:   0%|▌                                                                                                                                                                                       | 32/10240 [00:11<1:00:31,  2.81it/s]"
     ]
    },
    {
     "name": "stdout",
     "output_type": "stream",
     "text": [
      "Adjusting learning rate of group 0 to 1.9997e-05.\n"
     ]
    },
    {
     "name": "stderr",
     "output_type": "stream",
     "text": [
      "loss: 0.148:   0%|▋                                                                                                                                                                                       | 37/10240 [00:13<1:02:11,  2.73it/s]\n"
     ]
    },
    {
     "ename": "KeyboardInterrupt",
     "evalue": "",
     "output_type": "error",
     "traceback": [
      "\u001b[0;31m---------------------------------------------------------------------------\u001b[0m",
      "\u001b[0;31mKeyboardInterrupt\u001b[0m                         Traceback (most recent call last)",
      "Cell \u001b[0;32mIn[26], line 30\u001b[0m\n\u001b[1;32m     28\u001b[0m     batch_recon_sparse \u001b[38;5;241m=\u001b[39m model\u001b[38;5;241m.\u001b[39msparsify(batch_recon, batch_bin_recon)\n\u001b[1;32m     29\u001b[0m     recon_loss \u001b[38;5;241m=\u001b[39m torch\u001b[38;5;241m.\u001b[39mmean((batch_recon_sparse \u001b[38;5;241m-\u001b[39m batch)\u001b[38;5;241m*\u001b[39m\u001b[38;5;241m*\u001b[39m\u001b[38;5;241m2\u001b[39m)\n\u001b[0;32m---> 30\u001b[0m losses[\u001b[38;5;124m'\u001b[39m\u001b[38;5;124mloss\u001b[39m\u001b[38;5;124m'\u001b[39m]\u001b[38;5;241m.\u001b[39mappend(\u001b[43mrecon_loss\u001b[49m\u001b[38;5;241;43m.\u001b[39;49m\u001b[43mitem\u001b[49m\u001b[43m(\u001b[49m\u001b[43m)\u001b[49m)\n\u001b[1;32m     31\u001b[0m \u001b[38;5;28;01mif\u001b[39;00m step_count \u001b[38;5;241m%\u001b[39m lr_step \u001b[38;5;241m==\u001b[39m \u001b[38;5;241m0\u001b[39m:\n\u001b[1;32m     32\u001b[0m     lr_scheduler\u001b[38;5;241m.\u001b[39mstep()\n",
      "\u001b[0;31mKeyboardInterrupt\u001b[0m: "
     ]
    }
   ],
   "source": [
    "use_sparsity_loss = False\n",
    "use_mask_task = True\n",
    "use_active_weights = False\n",
    "lr_step = 32\n",
    "minibatch_size = 32\n",
    "\n",
    "step_count = 0\n",
    "optim.zero_grad()\n",
    "pert_task = 0\n",
    "idx = torch.arange(train.shape[1]).to(device)\n",
    "\n",
    "# Create a DataLoader\n",
    "dataloader = DataLoader(dataset, batch_size=minibatch_size, shuffle=True)\n",
    "\n",
    "for e in range(10):\n",
    "    model.train()\n",
    "    losses = {'loss': [], 'control': [], 'pert': [], 'flow': []}\n",
    "    for batch in (pbar := tqdm(iter(dataloader))):\n",
    "        step_count += 1\n",
    "        batch = batch.to(device)\n",
    "        idx = torch.arange(batch.shape[1]).to(device)\n",
    "        batch_emb = model(batch)\n",
    "        loss, batch_recon, batch_bin_recon = model.ae_loss(batch_emb, batch, idx, return_recon=True)\n",
    "        loss.backward()\n",
    "        optim.step()\n",
    "        optim.zero_grad()\n",
    "        with torch.no_grad():\n",
    "            batch_recon_sparse = model.sparsify(batch_recon, batch_bin_recon)\n",
    "            recon_loss = torch.mean((batch_recon_sparse - batch)**2)\n",
    "        losses['loss'].append(recon_loss.item())\n",
    "        if step_count % lr_step == 0:\n",
    "            lr_scheduler.step()\n",
    "        pbar.set_description(\n",
    "            f\"loss: {np.array(losses['loss'])[-lr_step:].mean():.3f}\"\n",
    "        )\n",
    "    \n",
    "    avg_loss = sum(losses['loss']) / len(losses['loss'])\n",
    "    torch.save(model, f\"{save_dir}{e}\")\n",
    "    # writer.add_scalar('mae_loss', avg_loss, global_step=e)\n",
    "    print(f'In epoch {e}, average traning loss is {avg_loss}.')"
   ]
  },
  {
   "cell_type": "code",
   "execution_count": 10,
   "metadata": {},
   "outputs": [
    {
     "name": "stdout",
     "output_type": "stream",
     "text": [
      "Strata probs [0.         0.0001086  0.00030344 0.00039606 0.00040565 0.00041523\n",
      " 0.00042162 0.00043439 0.00045356 0.00045995 0.00049189 0.00052063\n",
      " 0.00054938 0.00056535 0.00061007 0.00062284 0.00062604 0.00062604\n",
      " 0.00063562 0.00068673 0.00075061 0.00076977 0.00077297 0.00077935\n",
      " 0.00079852 0.0008081  0.00084323 0.0008624  0.00087837 0.00088156\n",
      " 0.00088795 0.00088795 0.00089753 0.00089753 0.0009167  0.00092628\n",
      " 0.00093906 0.00094864 0.00099016 0.00099016 0.00100294 0.00104127\n",
      " 0.00104446 0.00105085 0.00109237 0.00110834 0.00110834 0.00111154\n",
      " 0.00111473 0.00111473 0.0011307  0.0011339  0.00113709 0.00116584\n",
      " 0.00117222 0.00117222 0.00121375 0.00121694 0.00122333 0.00122652\n",
      " 0.00124569 0.00124888 0.00124888 0.00126485 0.00128082 0.00129999\n",
      " 0.00130318 0.00130318 0.00131596 0.00131596 0.00132554 0.00133193\n",
      " 0.00133512 0.0013447  0.00135109 0.00137026 0.00137984 0.00137984\n",
      " 0.00139262 0.0014022  0.00140539 0.00140539 0.00141178 0.00141497\n",
      " 0.00141817 0.00143733 0.00146288 0.00146608 0.00146927 0.00147566\n",
      " 0.00148205 0.00148844 0.00149483 0.00152357 0.00152677 0.00152677\n",
      " 0.00153635 0.00153954 0.00153954 0.00154274 0.00154274 0.00154912\n",
      " 0.00155232 0.0015619  0.0015651  0.00157468 0.00158426 0.00158745\n",
      " 0.00160023 0.00160662 0.00161301 0.00162578 0.00162578 0.00162898\n",
      " 0.00164175 0.00164495 0.0016705  0.00167689 0.00167689 0.00168328\n",
      " 0.00168647 0.00169605 0.00169925 0.00173119 0.00173438 0.00173758\n",
      " 0.00175993 0.00176632 0.0017791  0.00180465 0.00180784 0.00181104\n",
      " 0.00181423 0.00181743 0.00183979 0.00183979 0.00184937 0.00185576\n",
      " 0.00185895 0.00186214 0.00187492 0.00188131 0.00188131 0.00190047\n",
      " 0.00190686 0.00192283 0.00193561 0.00193561 0.00197074 0.00198032\n",
      " 0.00198352 0.00198671 0.00199629 0.00200907 0.00201227 0.00202504\n",
      " 0.0020474  0.00205698 0.00206656 0.00208253 0.00209212 0.00209851\n",
      " 0.00213045 0.00214322 0.002156   0.00217836 0.00217836 0.00217836\n",
      " 0.00219752 0.0022103  0.0022103  0.00221349 0.00221349 0.00221988\n",
      " 0.00223266 0.00223585 0.00223904 0.00227418 0.00228057 0.00228376\n",
      " 0.00228696 0.00228696 0.00230293 0.00230931 0.00231251 0.00235084\n",
      " 0.00235084 0.00235403 0.00237639 0.00241791 0.00242749 0.00242749\n",
      " 0.00243069 0.00244027 0.00245305 0.00248179 0.00249138 0.00249776\n",
      " 0.00250415 0.00251373 0.00254248 0.00254248 0.00254248 0.00255526\n",
      " 0.00257762 0.0025872  0.00262553 0.0026383  0.0026415  0.00267344\n",
      " 0.00267344 0.00268941 0.0026958  0.00271177 0.00271496 0.00273093\n",
      " 0.00273093 0.00273413 0.00275648 0.00277565 0.00278842 0.00280759\n",
      " 0.00287466 0.00288744 0.00292896 0.00294493 0.00298007 0.0030184\n",
      " 0.00303437 0.00306631 0.0030695  0.00308867 0.00309186 0.00310144\n",
      " 0.00311422 0.00311422 0.00313019 0.00313658 0.00313658 0.00314297\n",
      " 0.00314297 0.00314297 0.00314616 0.0031781  0.0031813  0.00318768\n",
      " 0.00319088 0.00320046 0.00321643 0.00323879 0.00324198 0.00324518\n",
      " 0.0032867  0.00332183 0.00332503 0.00332822 0.00333461 0.00333781\n",
      " 0.00333781 0.0033921  0.00340488 0.00345918 0.00346876 0.0035007\n",
      " 0.00352626 0.00353903 0.00354542 0.00356778 0.00357097 0.00357417\n",
      " 0.00359652 0.00360291 0.00363166 0.00363166 0.00364444 0.00365082\n",
      " 0.00366679 0.00367957 0.00372109 0.00372109 0.00373387 0.00373706\n",
      " 0.00374984 0.00376262 0.0037722  0.00379456 0.00381692 0.00384247\n",
      " 0.00384247 0.00389038 0.00392871 0.0039319  0.00394148 0.00394787\n",
      " 0.00397023 0.00402453 0.00402772 0.00403411 0.00407883 0.00408202\n",
      " 0.00409161 0.00409161 0.00411077 0.00411716 0.00414271 0.00420659\n",
      " 0.00421617 0.00421937 0.00423534 0.00424173 0.0042545  0.00428964\n",
      " 0.00431519 0.00432477 0.00436949 0.00437268 0.00438227 0.00439504\n",
      " 0.00442379 0.00445254 0.00459627 0.00462182 0.00469848 0.00470167\n",
      " 0.00470806 0.00473042 0.0047432  0.00485499 0.00487415 0.00489971\n",
      " 0.00506899 0.00510413 0.00512329 0.00512329 0.00523828 0.00535326\n",
      " 0.00539479 0.00540437 0.00542353 0.00543631 0.00545867 0.00553533\n",
      " 0.00553852 0.0055513  0.00558004 0.00570461 0.00572697 0.00575891\n",
      " 0.00579405 0.00590584 0.00609109 0.006468   0.00648716 0.00654465\n",
      " 0.00657021 0.00693752 0.00694391 0.00706529 0.00720263 0.00798199\n",
      " 0.00804267 0.00858247 0.00904561 0.009266   0.00959499 0.01232912]\n"
     ]
    }
   ],
   "source": [
    "batch_size = 512\n",
    "dset = SCFMDataset(\n",
    "    control_train, pert_train, \n",
    "    pert_ids_train, pert_mat, \n",
    "    control_cell_types, pert_cell_types,\n",
    "    batch_size=batch_size, size=X.shape[0]\n",
    ")\n",
    "ns = np.array([[t.shape[0] for t in ts] for ts in dset.target])\n",
    "dl = torch.utils.data.DataLoader(\n",
    "    dset, collate_fn=ot_collate, \n",
    "    batch_sampler=StratifiedBatchSampler(\n",
    "        ns=ns, batch_size=512\n",
    "    )\n",
    ")"
   ]
  },
  {
   "cell_type": "code",
   "execution_count": 95,
   "metadata": {},
   "outputs": [
    {
     "ename": "NameError",
     "evalue": "name 'pert_emb' is not defined",
     "output_type": "error",
     "traceback": [
      "\u001b[0;31m---------------------------------------------------------------------------\u001b[0m",
      "\u001b[0;31mNameError\u001b[0m                                 Traceback (most recent call last)",
      "Cell \u001b[0;32mIn[95], line 1\u001b[0m\n\u001b[0;32m----> 1\u001b[0m \u001b[38;5;28;01mdel\u001b[39;00m pert_emb\n\u001b[1;32m      2\u001b[0m \u001b[38;5;28;01mdel\u001b[39;00m pert_recon\n\u001b[1;32m      3\u001b[0m \u001b[38;5;28;01mdel\u001b[39;00m pert_bin_recon\n",
      "\u001b[0;31mNameError\u001b[0m: name 'pert_emb' is not defined"
     ]
    }
   ],
   "source": [
    "del ctrl \n",
    "del pert\n",
    "del idx\n",
    "del pert_index\n",
    "del ctrl_emb\n",
    "del ctrl_recon\n",
    "del ctrl_bin_recon\n",
    "del cond\n",
    "del pert_emb\n",
    "del pert_recon\n",
    "del pert_bin_recon"
   ]
  },
  {
   "cell_type": "code",
   "execution_count": 96,
   "metadata": {},
   "outputs": [
    {
     "data": {
      "text/plain": [
       "2146"
      ]
     },
     "execution_count": 96,
     "metadata": {},
     "output_type": "execute_result"
    }
   ],
   "source": [
    "optim.zero_grad()\n",
    "import gc\n",
    "torch.cuda.empty_cache()\n",
    "gc.collect()"
   ]
  },
  {
   "cell_type": "code",
   "execution_count": 25,
   "metadata": {},
   "outputs": [],
   "source": [
    "model = torch.load(f\"ae/v10\")\n",
    "model = model.to(device)"
   ]
  },
  {
   "cell_type": "code",
   "execution_count": 20,
   "metadata": {},
   "outputs": [],
   "source": [
    "model.flow = CMLP(feat_dim=1024, cond_dim=1024, time_varying=True, w1=2048)\n",
    "model = model.to(device)"
   ]
  },
  {
   "cell_type": "code",
   "execution_count": 23,
   "metadata": {},
   "outputs": [
    {
     "name": "stdout",
     "output_type": "stream",
     "text": [
      "Adjusting learning rate of group 0 to 4.0000e-06.\n"
     ]
    }
   ],
   "source": [
    "base_learning_rate = 2e-5\n",
    "weight_decay=0.0\n",
    "total_epoch = 10_000\n",
    "warmup_epoch = 5\n",
    "save_dir = \"ae/v\"\n",
    "optim = torch.optim.Adam(model.parameters(), lr=base_learning_rate)\n",
    "lr_func = lambda epoch: min((epoch + 1) / (warmup_epoch + 1e-5), 0.5 * (math.cos(epoch / total_epoch * math.pi) + 1))\n",
    "lr_scheduler = torch.optim.lr_scheduler.LambdaLR(optim, lr_lambda=lr_func, verbose=True)"
   ]
  },
  {
   "cell_type": "code",
   "execution_count": 27,
   "metadata": {
    "scrolled": true
   },
   "outputs": [
    {
     "name": "stderr",
     "output_type": "stream",
     "text": [
      "loss: 0.262, tv: 0.160, ptv: 0.158, flow: 0.364:   0%|▍                                                                                                                                                      | 2/611 [00:24<2:04:11, 12.24s/it]"
     ]
    },
    {
     "name": "stdout",
     "output_type": "stream",
     "text": [
      "Adjusting learning rate of group 0 to 1.9997e-05.\n"
     ]
    },
    {
     "name": "stderr",
     "output_type": "stream",
     "text": [
      "loss: 0.265, tv: 0.159, ptv: 0.157, flow: 0.343:   1%|▉                                                                                                                                                      | 4/611 [00:49<2:03:59, 12.26s/it]"
     ]
    },
    {
     "name": "stdout",
     "output_type": "stream",
     "text": [
      "Adjusting learning rate of group 0 to 1.9997e-05.\n"
     ]
    },
    {
     "name": "stderr",
     "output_type": "stream",
     "text": [
      "loss: 0.246, tv: 0.164, ptv: 0.166, flow: 0.364:   1%|█▍                                                                                                                                                     | 6/611 [01:13<2:03:43, 12.27s/it]"
     ]
    },
    {
     "name": "stdout",
     "output_type": "stream",
     "text": [
      "Adjusting learning rate of group 0 to 1.9997e-05.\n"
     ]
    },
    {
     "name": "stderr",
     "output_type": "stream",
     "text": [
      "loss: 0.266, tv: 0.161, ptv: 0.157, flow: 0.349:   1%|█▉                                                                                                                                                     | 8/611 [01:38<2:03:22, 12.28s/it]"
     ]
    },
    {
     "name": "stdout",
     "output_type": "stream",
     "text": [
      "Adjusting learning rate of group 0 to 1.9997e-05.\n"
     ]
    },
    {
     "name": "stderr",
     "output_type": "stream",
     "text": [
      "loss: 0.260, tv: 0.160, ptv: 0.158, flow: 0.367:   2%|██▍                                                                                                                                                   | 10/611 [02:02<2:03:00, 12.28s/it]"
     ]
    },
    {
     "name": "stdout",
     "output_type": "stream",
     "text": [
      "Adjusting learning rate of group 0 to 1.9997e-05.\n"
     ]
    },
    {
     "name": "stderr",
     "output_type": "stream",
     "text": [
      "loss: 0.259, tv: 0.159, ptv: 0.155, flow: 0.382:   2%|██▉                                                                                                                                                   | 12/611 [02:27<2:02:38, 12.28s/it]"
     ]
    },
    {
     "name": "stdout",
     "output_type": "stream",
     "text": [
      "Adjusting learning rate of group 0 to 1.9997e-05.\n"
     ]
    },
    {
     "name": "stderr",
     "output_type": "stream",
     "text": [
      "loss: 0.262, tv: 0.166, ptv: 0.165, flow: 0.365:   2%|███▍                                                                                                                                                  | 14/611 [02:51<2:02:22, 12.30s/it]"
     ]
    },
    {
     "name": "stdout",
     "output_type": "stream",
     "text": [
      "Adjusting learning rate of group 0 to 1.9997e-05.\n"
     ]
    },
    {
     "name": "stderr",
     "output_type": "stream",
     "text": [
      "loss: 0.257, tv: 0.165, ptv: 0.168, flow: 0.353:   3%|███▉                                                                                                                                                  | 16/611 [03:16<2:01:54, 12.29s/it]"
     ]
    },
    {
     "name": "stdout",
     "output_type": "stream",
     "text": [
      "Adjusting learning rate of group 0 to 1.9997e-05.\n"
     ]
    },
    {
     "name": "stderr",
     "output_type": "stream",
     "text": [
      "loss: 0.263, tv: 0.159, ptv: 0.159, flow: 0.378:   3%|████▍                                                                                                                                                 | 18/611 [03:41<2:01:26, 12.29s/it]"
     ]
    },
    {
     "name": "stdout",
     "output_type": "stream",
     "text": [
      "Adjusting learning rate of group 0 to 1.9997e-05.\n"
     ]
    },
    {
     "name": "stderr",
     "output_type": "stream",
     "text": [
      "loss: 0.260, tv: 0.159, ptv: 0.159, flow: 0.364:   3%|████▉                                                                                                                                                 | 20/611 [04:05<2:01:03, 12.29s/it]"
     ]
    },
    {
     "name": "stdout",
     "output_type": "stream",
     "text": [
      "Adjusting learning rate of group 0 to 1.9997e-05.\n"
     ]
    },
    {
     "name": "stderr",
     "output_type": "stream",
     "text": [
      "loss: 0.266, tv: 0.161, ptv: 0.158, flow: 0.356:   4%|█████▍                                                                                                                                                | 22/611 [04:30<2:00:38, 12.29s/it]"
     ]
    },
    {
     "name": "stdout",
     "output_type": "stream",
     "text": [
      "Adjusting learning rate of group 0 to 1.9996e-05.\n"
     ]
    },
    {
     "name": "stderr",
     "output_type": "stream",
     "text": [
      "loss: 0.262, tv: 0.160, ptv: 0.159, flow: 0.372:   4%|█████▉                                                                                                                                                | 24/611 [04:54<1:39:38, 10.18s/it]"
     ]
    },
    {
     "name": "stdout",
     "output_type": "stream",
     "text": [
      "Adjusting learning rate of group 0 to 1.9996e-05.\n"
     ]
    },
    {
     "name": "stderr",
     "output_type": "stream",
     "text": [
      "loss: 0.232, tv: 0.179, ptv: 0.177, flow: 0.336:   4%|██████▍                                                                                                                                               | 26/611 [05:19<1:45:33, 10.83s/it]"
     ]
    },
    {
     "name": "stdout",
     "output_type": "stream",
     "text": [
      "Adjusting learning rate of group 0 to 1.9996e-05.\n"
     ]
    },
    {
     "name": "stderr",
     "output_type": "stream",
     "text": [
      "loss: 0.250, tv: 0.168, ptv: 0.167, flow: 0.366:   5%|██████▊                                                                                                                                               | 28/611 [05:44<1:52:25, 11.57s/it]"
     ]
    },
    {
     "name": "stdout",
     "output_type": "stream",
     "text": [
      "Adjusting learning rate of group 0 to 1.9996e-05.\n"
     ]
    },
    {
     "name": "stderr",
     "output_type": "stream",
     "text": [
      "loss: 0.261, tv: 0.163, ptv: 0.159, flow: 0.368:   5%|███████▎                                                                                                                                              | 30/611 [06:08<1:55:33, 11.93s/it]"
     ]
    },
    {
     "name": "stdout",
     "output_type": "stream",
     "text": [
      "Adjusting learning rate of group 0 to 1.9996e-05.\n"
     ]
    },
    {
     "name": "stderr",
     "output_type": "stream",
     "text": [
      "loss: 0.250, tv: 0.166, ptv: 0.167, flow: 0.360:   5%|███████▊                                                                                                                                              | 32/611 [06:33<1:56:52, 12.11s/it]"
     ]
    },
    {
     "name": "stdout",
     "output_type": "stream",
     "text": [
      "Adjusting learning rate of group 0 to 1.9996e-05.\n"
     ]
    },
    {
     "name": "stderr",
     "output_type": "stream",
     "text": [
      "loss: 0.263, tv: 0.162, ptv: 0.159, flow: 0.385:   6%|████████▎                                                                                                                                             | 34/611 [06:57<1:57:16, 12.19s/it]"
     ]
    },
    {
     "name": "stdout",
     "output_type": "stream",
     "text": [
      "Adjusting learning rate of group 0 to 1.9996e-05.\n"
     ]
    },
    {
     "name": "stderr",
     "output_type": "stream",
     "text": [
      "loss: 0.253, tv: 0.167, ptv: 0.166, flow: 0.342:   6%|████████▊                                                                                                                                             | 36/611 [07:22<1:57:14, 12.23s/it]"
     ]
    },
    {
     "name": "stdout",
     "output_type": "stream",
     "text": [
      "Adjusting learning rate of group 0 to 1.9996e-05.\n"
     ]
    },
    {
     "name": "stderr",
     "output_type": "stream",
     "text": [
      "loss: 0.263, tv: 0.161, ptv: 0.160, flow: 0.372:   6%|█████████▎                                                                                                                                            | 38/611 [07:46<1:57:06, 12.26s/it]"
     ]
    },
    {
     "name": "stdout",
     "output_type": "stream",
     "text": [
      "Adjusting learning rate of group 0 to 1.9996e-05.\n"
     ]
    },
    {
     "name": "stderr",
     "output_type": "stream",
     "text": [
      "loss: 0.244, tv: 0.165, ptv: 0.163, flow: 0.359:   7%|█████████▊                                                                                                                                            | 40/611 [08:11<1:56:49, 12.28s/it]"
     ]
    },
    {
     "name": "stdout",
     "output_type": "stream",
     "text": [
      "Adjusting learning rate of group 0 to 1.9996e-05.\n"
     ]
    },
    {
     "name": "stderr",
     "output_type": "stream",
     "text": [
      "loss: 0.253, tv: 0.167, ptv: 0.167, flow: 0.368:   7%|██████████▎                                                                                                                                           | 42/611 [08:36<1:56:27, 12.28s/it]"
     ]
    },
    {
     "name": "stdout",
     "output_type": "stream",
     "text": [
      "Adjusting learning rate of group 0 to 1.9996e-05.\n"
     ]
    },
    {
     "name": "stderr",
     "output_type": "stream",
     "text": [
      "loss: 0.260, tv: 0.160, ptv: 0.157, flow: 0.364:   7%|██████████▊                                                                                                                                           | 44/611 [09:00<1:56:06, 12.29s/it]"
     ]
    },
    {
     "name": "stdout",
     "output_type": "stream",
     "text": [
      "Adjusting learning rate of group 0 to 1.9995e-05.\n"
     ]
    },
    {
     "name": "stderr",
     "output_type": "stream",
     "text": [
      "loss: 0.236, tv: 0.170, ptv: 0.168, flow: 0.347:   8%|███████████▎                                                                                                                                          | 46/611 [09:25<1:55:40, 12.28s/it]"
     ]
    },
    {
     "name": "stdout",
     "output_type": "stream",
     "text": [
      "Adjusting learning rate of group 0 to 1.9995e-05.\n"
     ]
    },
    {
     "name": "stderr",
     "output_type": "stream",
     "text": [
      "loss: 0.235, tv: 0.169, ptv: 0.170, flow: 0.345:   8%|███████████▊                                                                                                                                          | 48/611 [09:49<1:55:17, 12.29s/it]"
     ]
    },
    {
     "name": "stdout",
     "output_type": "stream",
     "text": [
      "Adjusting learning rate of group 0 to 1.9995e-05.\n"
     ]
    },
    {
     "name": "stderr",
     "output_type": "stream",
     "text": [
      "loss: 0.255, tv: 0.166, ptv: 0.163, flow: 0.353:   8%|████████████▌                                                                                                                                         | 51/611 [10:14<1:50:02, 11.79s/it]"
     ]
    },
    {
     "name": "stdout",
     "output_type": "stream",
     "text": [
      "Adjusting learning rate of group 0 to 1.9995e-05.\n"
     ]
    },
    {
     "name": "stderr",
     "output_type": "stream",
     "text": [
      "loss: 0.261, tv: 0.164, ptv: 0.165, flow: 0.343:   9%|█████████████                                                                                                                                         | 53/611 [10:39<1:52:04, 12.05s/it]"
     ]
    },
    {
     "name": "stdout",
     "output_type": "stream",
     "text": [
      "Adjusting learning rate of group 0 to 1.9995e-05.\n"
     ]
    },
    {
     "name": "stderr",
     "output_type": "stream",
     "text": [
      "loss: 0.258, tv: 0.164, ptv: 0.160, flow: 0.338:   9%|█████████████▌                                                                                                                                        | 55/611 [11:04<1:52:47, 12.17s/it]"
     ]
    },
    {
     "name": "stdout",
     "output_type": "stream",
     "text": [
      "Adjusting learning rate of group 0 to 1.9995e-05.\n"
     ]
    },
    {
     "name": "stderr",
     "output_type": "stream",
     "text": [
      "loss: 0.245, tv: 0.164, ptv: 0.163, flow: 0.357:   9%|█████████████▉                                                                                                                                        | 57/611 [11:28<1:52:54, 12.23s/it]"
     ]
    },
    {
     "name": "stdout",
     "output_type": "stream",
     "text": [
      "Adjusting learning rate of group 0 to 1.9995e-05.\n"
     ]
    },
    {
     "name": "stderr",
     "output_type": "stream",
     "text": [
      "loss: 0.254, tv: 0.166, ptv: 0.166, flow: 0.339:  10%|██████████████▍                                                                                                                                       | 59/611 [11:52<1:33:31, 10.17s/it]"
     ]
    },
    {
     "name": "stdout",
     "output_type": "stream",
     "text": [
      "Adjusting learning rate of group 0 to 1.9995e-05.\n"
     ]
    },
    {
     "name": "stderr",
     "output_type": "stream",
     "text": [
      "loss: 0.243, tv: 0.168, ptv: 0.165, flow: 0.348:  10%|███████████████▏                                                                                                                                      | 62/611 [12:17<1:33:51, 10.26s/it]"
     ]
    },
    {
     "name": "stdout",
     "output_type": "stream",
     "text": [
      "Adjusting learning rate of group 0 to 1.9995e-05.\n"
     ]
    },
    {
     "name": "stderr",
     "output_type": "stream",
     "text": [
      "loss: 0.254, tv: 0.167, ptv: 0.166, flow: 0.334:  10%|███████████████▋                                                                                                                                      | 64/611 [12:42<1:42:54, 11.29s/it]"
     ]
    },
    {
     "name": "stdout",
     "output_type": "stream",
     "text": [
      "Adjusting learning rate of group 0 to 1.9995e-05.\n"
     ]
    },
    {
     "name": "stderr",
     "output_type": "stream",
     "text": [
      "loss: 0.248, tv: 0.162, ptv: 0.159, flow: 0.333:  11%|████████████████▏                                                                                                                                     | 66/611 [13:06<1:47:08, 11.80s/it]"
     ]
    },
    {
     "name": "stdout",
     "output_type": "stream",
     "text": [
      "Adjusting learning rate of group 0 to 1.9994e-05.\n"
     ]
    },
    {
     "name": "stderr",
     "output_type": "stream",
     "text": [
      "loss: 0.249, tv: 0.158, ptv: 0.157, flow: 0.363:  11%|████████████████▋                                                                                                                                     | 68/611 [13:31<1:49:00, 12.05s/it]"
     ]
    },
    {
     "name": "stdout",
     "output_type": "stream",
     "text": [
      "Adjusting learning rate of group 0 to 1.9994e-05.\n"
     ]
    },
    {
     "name": "stderr",
     "output_type": "stream",
     "text": [
      "loss: 0.239, tv: 0.170, ptv: 0.167, flow: 0.346:  11%|█████████████████▏                                                                                                                                    | 70/611 [13:55<1:49:42, 12.17s/it]"
     ]
    },
    {
     "name": "stdout",
     "output_type": "stream",
     "text": [
      "Adjusting learning rate of group 0 to 1.9994e-05.\n"
     ]
    },
    {
     "name": "stderr",
     "output_type": "stream",
     "text": [
      "loss: 0.252, tv: 0.169, ptv: 0.169, flow: 0.350:  12%|█████████████████▋                                                                                                                                    | 72/611 [14:20<1:39:24, 11.07s/it]"
     ]
    },
    {
     "name": "stdout",
     "output_type": "stream",
     "text": [
      "Adjusting learning rate of group 0 to 1.9994e-05.\n"
     ]
    },
    {
     "name": "stderr",
     "output_type": "stream",
     "text": [
      "loss: 0.241, tv: 0.165, ptv: 0.165, flow: 0.365:  12%|██████████████████▏                                                                                                                                   | 74/611 [14:44<1:44:33, 11.68s/it]"
     ]
    },
    {
     "name": "stdout",
     "output_type": "stream",
     "text": [
      "Adjusting learning rate of group 0 to 1.9994e-05.\n"
     ]
    },
    {
     "name": "stderr",
     "output_type": "stream",
     "text": [
      "loss: 0.258, tv: 0.162, ptv: 0.160, flow: 0.368:  12%|██████████████████▋                                                                                                                                   | 76/611 [15:09<1:46:59, 12.00s/it]"
     ]
    },
    {
     "name": "stdout",
     "output_type": "stream",
     "text": [
      "Adjusting learning rate of group 0 to 1.9994e-05.\n"
     ]
    },
    {
     "name": "stderr",
     "output_type": "stream",
     "text": [
      "loss: 0.265, tv: 0.159, ptv: 0.156, flow: 0.365:  13%|███████████████████▏                                                                                                                                  | 78/611 [15:33<1:47:53, 12.15s/it]"
     ]
    },
    {
     "name": "stdout",
     "output_type": "stream",
     "text": [
      "Adjusting learning rate of group 0 to 1.9994e-05.\n"
     ]
    },
    {
     "name": "stderr",
     "output_type": "stream",
     "text": [
      "loss: 0.242, tv: 0.169, ptv: 0.166, flow: 0.346:  13%|███████████████████▋                                                                                                                                  | 80/611 [15:58<1:48:06, 12.22s/it]"
     ]
    },
    {
     "name": "stdout",
     "output_type": "stream",
     "text": [
      "Adjusting learning rate of group 0 to 1.9994e-05.\n"
     ]
    },
    {
     "name": "stderr",
     "output_type": "stream",
     "text": [
      "loss: 0.248, tv: 0.166, ptv: 0.165, flow: 0.359:  13%|████████████████████▏                                                                                                                                 | 82/611 [16:23<1:48:02, 12.25s/it]"
     ]
    },
    {
     "name": "stdout",
     "output_type": "stream",
     "text": [
      "Adjusting learning rate of group 0 to 1.9994e-05.\n"
     ]
    },
    {
     "name": "stderr",
     "output_type": "stream",
     "text": [
      "loss: 0.255, tv: 0.163, ptv: 0.165, flow: 0.364:  14%|████████████████████▌                                                                                                                                 | 84/611 [16:47<1:47:40, 12.26s/it]"
     ]
    },
    {
     "name": "stdout",
     "output_type": "stream",
     "text": [
      "Adjusting learning rate of group 0 to 1.9993e-05.\n"
     ]
    },
    {
     "name": "stderr",
     "output_type": "stream",
     "text": [
      "loss: 0.264, tv: 0.159, ptv: 0.156, flow: 0.367:  14%|█████████████████████                                                                                                                                 | 86/611 [17:11<1:37:18, 11.12s/it]"
     ]
    },
    {
     "name": "stdout",
     "output_type": "stream",
     "text": [
      "Adjusting learning rate of group 0 to 1.9993e-05.\n"
     ]
    },
    {
     "name": "stderr",
     "output_type": "stream",
     "text": [
      "loss: 0.254, tv: 0.167, ptv: 0.165, flow: 0.373:  14%|█████████████████████▌                                                                                                                                | 88/611 [17:36<1:42:06, 11.71s/it]"
     ]
    },
    {
     "name": "stdout",
     "output_type": "stream",
     "text": [
      "Adjusting learning rate of group 0 to 1.9993e-05.\n"
     ]
    },
    {
     "name": "stderr",
     "output_type": "stream",
     "text": [
      "loss: 0.247, tv: 0.171, ptv: 0.168, flow: 0.362:  15%|██████████████████████                                                                                                                                | 90/611 [18:01<1:44:15, 12.01s/it]"
     ]
    },
    {
     "name": "stdout",
     "output_type": "stream",
     "text": [
      "Adjusting learning rate of group 0 to 1.9993e-05.\n"
     ]
    },
    {
     "name": "stderr",
     "output_type": "stream",
     "text": [
      "loss: 0.252, tv: 0.170, ptv: 0.167, flow: 0.345:  15%|██████████████████████▌                                                                                                                               | 92/611 [18:25<1:41:13, 11.70s/it]"
     ]
    },
    {
     "name": "stdout",
     "output_type": "stream",
     "text": [
      "Adjusting learning rate of group 0 to 1.9993e-05.\n"
     ]
    },
    {
     "name": "stderr",
     "output_type": "stream",
     "text": [
      "loss: 0.257, tv: 0.166, ptv: 0.166, flow: 0.359:  15%|███████████████████████                                                                                                                               | 94/611 [18:50<1:43:23, 12.00s/it]"
     ]
    },
    {
     "name": "stdout",
     "output_type": "stream",
     "text": [
      "Adjusting learning rate of group 0 to 1.9993e-05.\n"
     ]
    },
    {
     "name": "stderr",
     "output_type": "stream",
     "text": [
      "loss: 0.248, tv: 0.161, ptv: 0.160, flow: 0.361:  16%|███████████████████████▌                                                                                                                              | 96/611 [19:14<1:44:17, 12.15s/it]"
     ]
    },
    {
     "name": "stdout",
     "output_type": "stream",
     "text": [
      "Adjusting learning rate of group 0 to 1.9993e-05.\n"
     ]
    },
    {
     "name": "stderr",
     "output_type": "stream",
     "text": [
      "loss: 0.260, tv: 0.165, ptv: 0.166, flow: 0.333:  16%|████████████████████████                                                                                                                              | 98/611 [19:39<1:44:30, 12.22s/it]"
     ]
    },
    {
     "name": "stdout",
     "output_type": "stream",
     "text": [
      "Adjusting learning rate of group 0 to 1.9993e-05.\n"
     ]
    },
    {
     "name": "stderr",
     "output_type": "stream",
     "text": [
      "loss: 0.262, tv: 0.162, ptv: 0.157, flow: 0.349:  16%|████████████████████████▍                                                                                                                            | 100/611 [20:03<1:44:22, 12.26s/it]"
     ]
    },
    {
     "name": "stdout",
     "output_type": "stream",
     "text": [
      "Adjusting learning rate of group 0 to 1.9993e-05.\n"
     ]
    },
    {
     "name": "stderr",
     "output_type": "stream",
     "text": [
      "loss: 0.242, tv: 0.172, ptv: 0.169, flow: 0.342:  17%|████████████████████████▊                                                                                                                            | 102/611 [20:28<1:44:07, 12.27s/it]"
     ]
    },
    {
     "name": "stdout",
     "output_type": "stream",
     "text": [
      "Adjusting learning rate of group 0 to 1.9992e-05.\n"
     ]
    },
    {
     "name": "stderr",
     "output_type": "stream",
     "text": [
      "loss: 0.261, tv: 0.158, ptv: 0.155, flow: 0.376:  17%|█████████████████████████▎                                                                                                                           | 104/611 [20:53<1:43:48, 12.29s/it]"
     ]
    },
    {
     "name": "stdout",
     "output_type": "stream",
     "text": [
      "Adjusting learning rate of group 0 to 1.9992e-05.\n"
     ]
    },
    {
     "name": "stderr",
     "output_type": "stream",
     "text": [
      "loss: 0.240, tv: 0.169, ptv: 0.166, flow: 0.343:  18%|██████████████████████████                                                                                                                           | 107/611 [21:17<1:30:55, 10.82s/it]"
     ]
    },
    {
     "name": "stdout",
     "output_type": "stream",
     "text": [
      "Adjusting learning rate of group 0 to 1.9992e-05.\n"
     ]
    },
    {
     "name": "stderr",
     "output_type": "stream",
     "text": [
      "loss: 0.254, tv: 0.159, ptv: 0.156, flow: 0.362:  18%|██████████████████████████▌                                                                                                                          | 109/611 [21:42<1:36:49, 11.57s/it]"
     ]
    },
    {
     "name": "stdout",
     "output_type": "stream",
     "text": [
      "Adjusting learning rate of group 0 to 1.9992e-05.\n"
     ]
    },
    {
     "name": "stderr",
     "output_type": "stream",
     "text": [
      "loss: 0.253, tv: 0.162, ptv: 0.160, flow: 0.363:  18%|███████████████████████████                                                                                                                          | 111/611 [22:07<1:39:32, 11.94s/it]"
     ]
    },
    {
     "name": "stdout",
     "output_type": "stream",
     "text": [
      "Adjusting learning rate of group 0 to 1.9992e-05.\n"
     ]
    },
    {
     "name": "stderr",
     "output_type": "stream",
     "text": [
      "loss: 0.260, tv: 0.159, ptv: 0.157, flow: 0.365:  18%|███████████████████████████▌                                                                                                                         | 113/611 [22:31<1:40:35, 12.12s/it]"
     ]
    },
    {
     "name": "stdout",
     "output_type": "stream",
     "text": [
      "Adjusting learning rate of group 0 to 1.9992e-05.\n"
     ]
    },
    {
     "name": "stderr",
     "output_type": "stream",
     "text": [
      "loss: 0.268, tv: 0.162, ptv: 0.157, flow: 0.368:  19%|████████████████████████████                                                                                                                         | 115/611 [22:56<1:41:01, 12.22s/it]"
     ]
    },
    {
     "name": "stdout",
     "output_type": "stream",
     "text": [
      "Adjusting learning rate of group 0 to 1.9992e-05.\n"
     ]
    },
    {
     "name": "stderr",
     "output_type": "stream",
     "text": [
      "loss: 0.252, tv: 0.167, ptv: 0.168, flow: 0.360:  19%|████████████████████████████▌                                                                                                                        | 117/611 [23:20<1:40:58, 12.26s/it]"
     ]
    },
    {
     "name": "stdout",
     "output_type": "stream",
     "text": [
      "Adjusting learning rate of group 0 to 1.9992e-05.\n"
     ]
    },
    {
     "name": "stderr",
     "output_type": "stream",
     "text": [
      "loss: 0.254, tv: 0.166, ptv: 0.166, flow: 0.351:  19%|█████████████████████████████                                                                                                                        | 119/611 [23:45<1:40:40, 12.28s/it]"
     ]
    },
    {
     "name": "stdout",
     "output_type": "stream",
     "text": [
      "Adjusting learning rate of group 0 to 1.9991e-05.\n"
     ]
    },
    {
     "name": "stderr",
     "output_type": "stream",
     "text": [
      "loss: 0.250, tv: 0.166, ptv: 0.165, flow: 0.332:  20%|█████████████████████████████▌                                                                                                                       | 121/611 [24:09<1:40:20, 12.29s/it]"
     ]
    },
    {
     "name": "stdout",
     "output_type": "stream",
     "text": [
      "Adjusting learning rate of group 0 to 1.9991e-05.\n"
     ]
    },
    {
     "name": "stderr",
     "output_type": "stream",
     "text": [
      "loss: 0.248, tv: 0.169, ptv: 0.170, flow: 0.330:  20%|██████████████████████████████▏                                                                                                                      | 124/611 [24:34<1:27:28, 10.78s/it]"
     ]
    },
    {
     "name": "stdout",
     "output_type": "stream",
     "text": [
      "Adjusting learning rate of group 0 to 1.9991e-05.\n"
     ]
    },
    {
     "name": "stderr",
     "output_type": "stream",
     "text": [
      "loss: 0.234, tv: 0.164, ptv: 0.162, flow: 0.346:  21%|██████████████████████████████▋                                                                                                                      | 126/611 [24:59<1:33:22, 11.55s/it]"
     ]
    },
    {
     "name": "stdout",
     "output_type": "stream",
     "text": [
      "Adjusting learning rate of group 0 to 1.9991e-05.\n"
     ]
    },
    {
     "name": "stderr",
     "output_type": "stream",
     "text": [
      "loss: 0.245, tv: 0.170, ptv: 0.169, flow: 0.332:  21%|███████████████████████████████▏                                                                                                                     | 128/611 [25:24<1:36:01, 11.93s/it]"
     ]
    },
    {
     "name": "stdout",
     "output_type": "stream",
     "text": [
      "Adjusting learning rate of group 0 to 1.9991e-05.\n"
     ]
    },
    {
     "name": "stderr",
     "output_type": "stream",
     "text": [
      "loss: 0.253, tv: 0.166, ptv: 0.166, flow: 0.318:  21%|███████████████████████████████▋                                                                                                                     | 130/611 [25:48<1:35:56, 11.97s/it]"
     ]
    },
    {
     "name": "stdout",
     "output_type": "stream",
     "text": [
      "Adjusting learning rate of group 0 to 1.9991e-05.\n"
     ]
    },
    {
     "name": "stderr",
     "output_type": "stream",
     "text": [
      "loss: 0.241, tv: 0.163, ptv: 0.160, flow: 0.366:  22%|████████████████████████████████▏                                                                                                                    | 132/611 [26:13<1:36:51, 12.13s/it]"
     ]
    },
    {
     "name": "stdout",
     "output_type": "stream",
     "text": [
      "Adjusting learning rate of group 0 to 1.9991e-05.\n"
     ]
    },
    {
     "name": "stderr",
     "output_type": "stream",
     "text": [
      "loss: 0.265, tv: 0.156, ptv: 0.151, flow: 0.360:  22%|████████████████████████████████▋                                                                                                                    | 134/611 [26:37<1:37:05, 12.21s/it]"
     ]
    },
    {
     "name": "stdout",
     "output_type": "stream",
     "text": [
      "Adjusting learning rate of group 0 to 1.9990e-05.\n"
     ]
    },
    {
     "name": "stderr",
     "output_type": "stream",
     "text": [
      "loss: 0.246, tv: 0.167, ptv: 0.163, flow: 0.341:  22%|█████████████████████████████████▏                                                                                                                   | 136/611 [27:02<1:37:00, 12.25s/it]"
     ]
    },
    {
     "name": "stdout",
     "output_type": "stream",
     "text": [
      "Adjusting learning rate of group 0 to 1.9990e-05.\n"
     ]
    },
    {
     "name": "stderr",
     "output_type": "stream",
     "text": [
      "loss: 0.250, tv: 0.170, ptv: 0.169, flow: 0.332:  23%|█████████████████████████████████▋                                                                                                                   | 138/611 [27:27<1:36:43, 12.27s/it]"
     ]
    },
    {
     "name": "stdout",
     "output_type": "stream",
     "text": [
      "Adjusting learning rate of group 0 to 1.9990e-05.\n"
     ]
    },
    {
     "name": "stderr",
     "output_type": "stream",
     "text": [
      "loss: 0.256, tv: 0.166, ptv: 0.164, flow: 0.347:  23%|██████████████████████████████████▏                                                                                                                  | 140/611 [27:51<1:36:23, 12.28s/it]"
     ]
    },
    {
     "name": "stdout",
     "output_type": "stream",
     "text": [
      "Adjusting learning rate of group 0 to 1.9990e-05.\n"
     ]
    },
    {
     "name": "stderr",
     "output_type": "stream",
     "text": [
      "loss: 0.243, tv: 0.162, ptv: 0.161, flow: 0.365:  23%|██████████████████████████████████▋                                                                                                                  | 142/611 [28:16<1:36:03, 12.29s/it]"
     ]
    },
    {
     "name": "stdout",
     "output_type": "stream",
     "text": [
      "Adjusting learning rate of group 0 to 1.9990e-05.\n"
     ]
    },
    {
     "name": "stderr",
     "output_type": "stream",
     "text": [
      "loss: 0.261, tv: 0.163, ptv: 0.160, flow: 0.350:  24%|███████████████████████████████████                                                                                                                  | 144/611 [28:40<1:31:50, 11.80s/it]"
     ]
    },
    {
     "name": "stdout",
     "output_type": "stream",
     "text": [
      "Adjusting learning rate of group 0 to 1.9990e-05.\n"
     ]
    },
    {
     "name": "stderr",
     "output_type": "stream",
     "text": [
      "loss: 0.255, tv: 0.164, ptv: 0.166, flow: 0.367:  24%|███████████████████████████████████▌                                                                                                                 | 146/611 [29:05<1:33:22, 12.05s/it]"
     ]
    },
    {
     "name": "stdout",
     "output_type": "stream",
     "text": [
      "Adjusting learning rate of group 0 to 1.9990e-05.\n"
     ]
    },
    {
     "name": "stderr",
     "output_type": "stream",
     "text": [
      "loss: 0.242, tv: 0.172, ptv: 0.172, flow: 0.357:  24%|████████████████████████████████████                                                                                                                 | 148/611 [29:29<1:33:55, 12.17s/it]"
     ]
    },
    {
     "name": "stdout",
     "output_type": "stream",
     "text": [
      "Adjusting learning rate of group 0 to 1.9989e-05.\n"
     ]
    },
    {
     "name": "stderr",
     "output_type": "stream",
     "text": [
      "loss: 0.243, tv: 0.171, ptv: 0.170, flow: 0.344:  25%|████████████████████████████████████▌                                                                                                                | 150/611 [29:54<1:33:58, 12.23s/it]"
     ]
    },
    {
     "name": "stdout",
     "output_type": "stream",
     "text": [
      "Adjusting learning rate of group 0 to 1.9989e-05.\n"
     ]
    },
    {
     "name": "stderr",
     "output_type": "stream",
     "text": [
      "loss: 0.248, tv: 0.172, ptv: 0.172, flow: 0.352:  25%|█████████████████████████████████████                                                                                                                | 152/611 [30:18<1:32:11, 12.05s/it]"
     ]
    },
    {
     "name": "stdout",
     "output_type": "stream",
     "text": [
      "Adjusting learning rate of group 0 to 1.9989e-05.\n"
     ]
    },
    {
     "name": "stderr",
     "output_type": "stream",
     "text": [
      "loss: 0.255, tv: 0.166, ptv: 0.169, flow: 0.376:  25%|█████████████████████████████████████▌                                                                                                               | 154/611 [30:43<1:32:42, 12.17s/it]"
     ]
    },
    {
     "name": "stdout",
     "output_type": "stream",
     "text": [
      "Adjusting learning rate of group 0 to 1.9989e-05.\n"
     ]
    },
    {
     "name": "stderr",
     "output_type": "stream",
     "text": [
      "loss: 0.264, tv: 0.163, ptv: 0.164, flow: 0.360:  26%|██████████████████████████████████████                                                                                                               | 156/611 [31:08<1:32:46, 12.23s/it]"
     ]
    },
    {
     "name": "stdout",
     "output_type": "stream",
     "text": [
      "Adjusting learning rate of group 0 to 1.9989e-05.\n"
     ]
    },
    {
     "name": "stderr",
     "output_type": "stream",
     "text": [
      "loss: 0.248, tv: 0.164, ptv: 0.160, flow: 0.347:  26%|██████████████████████████████████████▌                                                                                                              | 158/611 [31:32<1:18:34, 10.41s/it]"
     ]
    },
    {
     "name": "stdout",
     "output_type": "stream",
     "text": [
      "Adjusting learning rate of group 0 to 1.9989e-05.\n"
     ]
    },
    {
     "name": "stderr",
     "output_type": "stream",
     "text": [
      "loss: 0.251, tv: 0.167, ptv: 0.166, flow: 0.345:  26%|███████████████████████████████████████                                                                                                              | 160/611 [31:56<1:25:25, 11.36s/it]"
     ]
    },
    {
     "name": "stdout",
     "output_type": "stream",
     "text": [
      "Adjusting learning rate of group 0 to 1.9989e-05.\n"
     ]
    },
    {
     "name": "stderr",
     "output_type": "stream",
     "text": [
      "loss: 0.250, tv: 0.167, ptv: 0.161, flow: 0.366:  27%|███████████████████████████████████████▌                                                                                                             | 162/611 [32:21<1:28:34, 11.84s/it]"
     ]
    },
    {
     "name": "stdout",
     "output_type": "stream",
     "text": [
      "Adjusting learning rate of group 0 to 1.9988e-05.\n"
     ]
    },
    {
     "name": "stderr",
     "output_type": "stream",
     "text": [
      "loss: 0.262, tv: 0.166, ptv: 0.166, flow: 0.331:  27%|███████████████████████████████████████▉                                                                                                             | 164/611 [32:45<1:29:55, 12.07s/it]"
     ]
    },
    {
     "name": "stdout",
     "output_type": "stream",
     "text": [
      "Adjusting learning rate of group 0 to 1.9988e-05.\n"
     ]
    },
    {
     "name": "stderr",
     "output_type": "stream",
     "text": [
      "loss: 0.258, tv: 0.167, ptv: 0.166, flow: 0.352:  27%|████████████████████████████████████████▍                                                                                                            | 166/611 [33:10<1:30:21, 12.18s/it]"
     ]
    },
    {
     "name": "stdout",
     "output_type": "stream",
     "text": [
      "Adjusting learning rate of group 0 to 1.9988e-05.\n"
     ]
    },
    {
     "name": "stderr",
     "output_type": "stream",
     "text": [
      "loss: 0.246, tv: 0.167, ptv: 0.166, flow: 0.356:  28%|█████████████████████████████████████████▏                                                                                                           | 169/611 [33:35<1:25:13, 11.57s/it]"
     ]
    },
    {
     "name": "stdout",
     "output_type": "stream",
     "text": [
      "Adjusting learning rate of group 0 to 1.9988e-05.\n"
     ]
    },
    {
     "name": "stderr",
     "output_type": "stream",
     "text": [
      "loss: 0.259, tv: 0.161, ptv: 0.158, flow: 0.332:  28%|█████████████████████████████████████████▋                                                                                                           | 171/611 [34:00<1:27:37, 11.95s/it]"
     ]
    },
    {
     "name": "stdout",
     "output_type": "stream",
     "text": [
      "Adjusting learning rate of group 0 to 1.9988e-05.\n"
     ]
    },
    {
     "name": "stderr",
     "output_type": "stream",
     "text": [
      "loss: 0.247, tv: 0.165, ptv: 0.163, flow: 0.362:  28%|██████████████████████████████████████████▏                                                                                                          | 173/611 [34:25<1:28:29, 12.12s/it]"
     ]
    },
    {
     "name": "stdout",
     "output_type": "stream",
     "text": [
      "Adjusting learning rate of group 0 to 1.9988e-05.\n"
     ]
    },
    {
     "name": "stderr",
     "output_type": "stream",
     "text": [
      "loss: 0.253, tv: 0.166, ptv: 0.163, flow: 0.355:  29%|██████████████████████████████████████████▋                                                                                                          | 175/611 [34:49<1:28:41, 12.20s/it]"
     ]
    },
    {
     "name": "stdout",
     "output_type": "stream",
     "text": [
      "Adjusting learning rate of group 0 to 1.9988e-05.\n"
     ]
    },
    {
     "name": "stderr",
     "output_type": "stream",
     "text": [
      "loss: 0.253, tv: 0.164, ptv: 0.163, flow: 0.352:  29%|███████████████████████████████████████████▏                                                                                                         | 177/611 [35:13<1:17:58, 10.78s/it]"
     ]
    },
    {
     "name": "stdout",
     "output_type": "stream",
     "text": [
      "Adjusting learning rate of group 0 to 1.9987e-05.\n"
     ]
    },
    {
     "name": "stderr",
     "output_type": "stream",
     "text": [
      "loss: 0.245, tv: 0.165, ptv: 0.165, flow: 0.339:  29%|███████████████████████████████████████████▋                                                                                                         | 179/611 [35:38<1:22:03, 11.40s/it]"
     ]
    },
    {
     "name": "stdout",
     "output_type": "stream",
     "text": [
      "Adjusting learning rate of group 0 to 1.9987e-05.\n"
     ]
    },
    {
     "name": "stderr",
     "output_type": "stream",
     "text": [
      "loss: 0.246, tv: 0.166, ptv: 0.165, flow: 0.332:  30%|████████████████████████████████████████████▏                                                                                                        | 181/611 [36:02<1:19:57, 11.16s/it]"
     ]
    },
    {
     "name": "stdout",
     "output_type": "stream",
     "text": [
      "Adjusting learning rate of group 0 to 1.9987e-05.\n"
     ]
    },
    {
     "name": "stderr",
     "output_type": "stream",
     "text": [
      "loss: 0.276, tv: 0.156, ptv: 0.149, flow: 0.379:  30%|████████████████████████████████████████████▋                                                                                                        | 183/611 [36:27<1:23:42, 11.73s/it]"
     ]
    },
    {
     "name": "stdout",
     "output_type": "stream",
     "text": [
      "Adjusting learning rate of group 0 to 1.9987e-05.\n"
     ]
    },
    {
     "name": "stderr",
     "output_type": "stream",
     "text": [
      "loss: 0.249, tv: 0.163, ptv: 0.162, flow: 0.368:  30%|█████████████████████████████████████████████                                                                                                        | 185/611 [36:51<1:25:18, 12.01s/it]"
     ]
    },
    {
     "name": "stdout",
     "output_type": "stream",
     "text": [
      "Adjusting learning rate of group 0 to 1.9987e-05.\n"
     ]
    },
    {
     "name": "stderr",
     "output_type": "stream",
     "text": [
      "loss: 0.263, tv: 0.164, ptv: 0.164, flow: 0.336:  31%|█████████████████████████████████████████████▌                                                                                                       | 187/611 [37:16<1:25:53, 12.16s/it]"
     ]
    },
    {
     "name": "stdout",
     "output_type": "stream",
     "text": [
      "Adjusting learning rate of group 0 to 1.9987e-05.\n"
     ]
    },
    {
     "name": "stderr",
     "output_type": "stream",
     "text": [
      "loss: 0.262, tv: 0.165, ptv: 0.160, flow: 0.363:  31%|██████████████████████████████████████████████                                                                                                       | 189/611 [37:40<1:26:00, 12.23s/it]"
     ]
    },
    {
     "name": "stdout",
     "output_type": "stream",
     "text": [
      "Adjusting learning rate of group 0 to 1.9986e-05.\n"
     ]
    },
    {
     "name": "stderr",
     "output_type": "stream",
     "text": [
      "loss: 0.245, tv: 0.165, ptv: 0.165, flow: 0.361:  31%|██████████████████████████████████████████████▊                                                                                                      | 192/611 [38:06<1:19:04, 11.32s/it]"
     ]
    },
    {
     "name": "stdout",
     "output_type": "stream",
     "text": [
      "Adjusting learning rate of group 0 to 1.9986e-05.\n"
     ]
    },
    {
     "name": "stderr",
     "output_type": "stream",
     "text": [
      "loss: 0.256, tv: 0.166, ptv: 0.168, flow: 0.351:  32%|███████████████████████████████████████████████▎                                                                                                     | 194/611 [38:30<1:22:06, 11.81s/it]"
     ]
    },
    {
     "name": "stdout",
     "output_type": "stream",
     "text": [
      "Adjusting learning rate of group 0 to 1.9986e-05.\n"
     ]
    },
    {
     "name": "stderr",
     "output_type": "stream",
     "text": [
      "loss: 0.263, tv: 0.161, ptv: 0.158, flow: 0.352:  32%|███████████████████████████████████████████████▊                                                                                                     | 196/611 [38:55<1:23:23, 12.06s/it]"
     ]
    },
    {
     "name": "stdout",
     "output_type": "stream",
     "text": [
      "Adjusting learning rate of group 0 to 1.9986e-05.\n"
     ]
    },
    {
     "name": "stderr",
     "output_type": "stream",
     "text": [
      "loss: 0.236, tv: 0.178, ptv: 0.176, flow: 0.344:  32%|████████████████████████████████████████████████▎                                                                                                    | 198/611 [39:19<1:23:49, 12.18s/it]"
     ]
    },
    {
     "name": "stdout",
     "output_type": "stream",
     "text": [
      "Adjusting learning rate of group 0 to 1.9986e-05.\n"
     ]
    },
    {
     "name": "stderr",
     "output_type": "stream",
     "text": [
      "loss: 0.252, tv: 0.169, ptv: 0.167, flow: 0.371:  33%|████████████████████████████████████████████████▊                                                                                                    | 200/611 [39:44<1:15:51, 11.07s/it]"
     ]
    },
    {
     "name": "stdout",
     "output_type": "stream",
     "text": [
      "Adjusting learning rate of group 0 to 1.9986e-05.\n"
     ]
    },
    {
     "name": "stderr",
     "output_type": "stream",
     "text": [
      "loss: 0.252, tv: 0.167, ptv: 0.166, flow: 0.340:  33%|█████████████████████████████████████████████████▎                                                                                                   | 202/611 [40:08<1:08:34, 10.06s/it]"
     ]
    },
    {
     "name": "stdout",
     "output_type": "stream",
     "text": [
      "Adjusting learning rate of group 0 to 1.9985e-05.\n"
     ]
    },
    {
     "name": "stderr",
     "output_type": "stream",
     "text": [
      "loss: 0.248, tv: 0.170, ptv: 0.166, flow: 0.338:  34%|█████████████████████████████████████████████████▉                                                                                                   | 205/611 [40:32<1:14:52, 11.07s/it]"
     ]
    },
    {
     "name": "stdout",
     "output_type": "stream",
     "text": [
      "Adjusting learning rate of group 0 to 1.9985e-05.\n"
     ]
    },
    {
     "name": "stderr",
     "output_type": "stream",
     "text": [
      "loss: 0.253, tv: 0.167, ptv: 0.167, flow: 0.339:  34%|██████████████████████████████████████████████████▍                                                                                                  | 207/611 [40:57<1:18:55, 11.72s/it]"
     ]
    },
    {
     "name": "stdout",
     "output_type": "stream",
     "text": [
      "Adjusting learning rate of group 0 to 1.9985e-05.\n"
     ]
    },
    {
     "name": "stderr",
     "output_type": "stream",
     "text": [
      "loss: 0.251, tv: 0.165, ptv: 0.162, flow: 0.338:  34%|██████████████████████████████████████████████████▉                                                                                                  | 209/611 [41:22<1:20:27, 12.01s/it]"
     ]
    },
    {
     "name": "stdout",
     "output_type": "stream",
     "text": [
      "Adjusting learning rate of group 0 to 1.9985e-05.\n"
     ]
    },
    {
     "name": "stderr",
     "output_type": "stream",
     "text": [
      "loss: 0.265, tv: 0.160, ptv: 0.159, flow: 0.351:  35%|███████████████████████████████████████████████████▍                                                                                                 | 211/611 [41:46<1:21:00, 12.15s/it]"
     ]
    },
    {
     "name": "stdout",
     "output_type": "stream",
     "text": [
      "Adjusting learning rate of group 0 to 1.9985e-05.\n"
     ]
    },
    {
     "name": "stderr",
     "output_type": "stream",
     "text": [
      "loss: 0.258, tv: 0.164, ptv: 0.166, flow: 0.328:  35%|███████████████████████████████████████████████████▉                                                                                                 | 213/611 [42:11<1:21:05, 12.23s/it]"
     ]
    },
    {
     "name": "stdout",
     "output_type": "stream",
     "text": [
      "Adjusting learning rate of group 0 to 1.9985e-05.\n"
     ]
    },
    {
     "name": "stderr",
     "output_type": "stream",
     "text": [
      "loss: 0.256, tv: 0.159, ptv: 0.156, flow: 0.379:  35%|████████████████████████████████████████████████████▍                                                                                                | 215/611 [42:35<1:20:53, 12.26s/it]"
     ]
    },
    {
     "name": "stdout",
     "output_type": "stream",
     "text": [
      "Adjusting learning rate of group 0 to 1.9984e-05.\n"
     ]
    },
    {
     "name": "stderr",
     "output_type": "stream",
     "text": [
      "loss: 0.251, tv: 0.167, ptv: 0.166, flow: 0.362:  36%|████████████████████████████████████████████████████▉                                                                                                | 217/611 [43:00<1:20:34, 12.27s/it]"
     ]
    },
    {
     "name": "stdout",
     "output_type": "stream",
     "text": [
      "Adjusting learning rate of group 0 to 1.9984e-05.\n"
     ]
    },
    {
     "name": "stderr",
     "output_type": "stream",
     "text": [
      "loss: 0.250, tv: 0.168, ptv: 0.167, flow: 0.342:  36%|█████████████████████████████████████████████████████▍                                                                                               | 219/611 [43:25<1:17:15, 11.83s/it]"
     ]
    },
    {
     "name": "stdout",
     "output_type": "stream",
     "text": [
      "Adjusting learning rate of group 0 to 1.9984e-05.\n"
     ]
    },
    {
     "name": "stderr",
     "output_type": "stream",
     "text": [
      "loss: 0.256, tv: 0.164, ptv: 0.162, flow: 0.345:  36%|█████████████████████████████████████████████████████▉                                                                                               | 221/611 [43:50<1:18:26, 12.07s/it]"
     ]
    },
    {
     "name": "stdout",
     "output_type": "stream",
     "text": [
      "Adjusting learning rate of group 0 to 1.9984e-05.\n"
     ]
    },
    {
     "name": "stderr",
     "output_type": "stream",
     "text": [
      "loss: 0.252, tv: 0.166, ptv: 0.165, flow: 0.354:  36%|██████████████████████████████████████████████████████▍                                                                                              | 223/611 [44:14<1:18:45, 12.18s/it]"
     ]
    },
    {
     "name": "stdout",
     "output_type": "stream",
     "text": [
      "Adjusting learning rate of group 0 to 1.9984e-05.\n"
     ]
    },
    {
     "name": "stderr",
     "output_type": "stream",
     "text": [
      "loss: 0.252, tv: 0.166, ptv: 0.166, flow: 0.334:  37%|██████████████████████████████████████████████████████▊                                                                                              | 225/611 [44:39<1:13:26, 11.42s/it]"
     ]
    },
    {
     "name": "stdout",
     "output_type": "stream",
     "text": [
      "Adjusting learning rate of group 0 to 1.9983e-05.\n"
     ]
    },
    {
     "name": "stderr",
     "output_type": "stream",
     "text": [
      "loss: 0.251, tv: 0.165, ptv: 0.163, flow: 0.343:  37%|███████████████████████████████████████████████████████▎                                                                                             | 227/611 [45:03<1:15:56, 11.87s/it]"
     ]
    },
    {
     "name": "stdout",
     "output_type": "stream",
     "text": [
      "Adjusting learning rate of group 0 to 1.9983e-05.\n"
     ]
    },
    {
     "name": "stderr",
     "output_type": "stream",
     "text": [
      "loss: 0.241, tv: 0.168, ptv: 0.169, flow: 0.340:  38%|████████████████████████████████████████████████████████                                                                                             | 230/611 [45:28<1:04:45, 10.20s/it]"
     ]
    },
    {
     "name": "stdout",
     "output_type": "stream",
     "text": [
      "Adjusting learning rate of group 0 to 1.9983e-05.\n"
     ]
    },
    {
     "name": "stderr",
     "output_type": "stream",
     "text": [
      "loss: 0.249, tv: 0.164, ptv: 0.162, flow: 0.366:  38%|████████████████████████████████████████████████████████▌                                                                                            | 232/611 [45:53<1:11:09, 11.27s/it]"
     ]
    },
    {
     "name": "stdout",
     "output_type": "stream",
     "text": [
      "Adjusting learning rate of group 0 to 1.9983e-05.\n"
     ]
    },
    {
     "name": "stderr",
     "output_type": "stream",
     "text": [
      "loss: 0.260, tv: 0.162, ptv: 0.157, flow: 0.371:  38%|█████████████████████████████████████████████████████████                                                                                            | 234/611 [46:17<1:14:05, 11.79s/it]"
     ]
    },
    {
     "name": "stdout",
     "output_type": "stream",
     "text": [
      "Adjusting learning rate of group 0 to 1.9983e-05.\n"
     ]
    },
    {
     "name": "stderr",
     "output_type": "stream",
     "text": [
      "loss: 0.255, tv: 0.165, ptv: 0.166, flow: 0.350:  39%|█████████████████████████████████████████████████████████▌                                                                                           | 236/611 [46:42<1:15:18, 12.05s/it]"
     ]
    },
    {
     "name": "stdout",
     "output_type": "stream",
     "text": [
      "Adjusting learning rate of group 0 to 1.9983e-05.\n"
     ]
    },
    {
     "name": "stderr",
     "output_type": "stream",
     "text": [
      "loss: 0.239, tv: 0.162, ptv: 0.161, flow: 0.359:  39%|██████████████████████████████████████████████████████████                                                                                           | 238/611 [47:06<1:14:16, 11.95s/it]"
     ]
    },
    {
     "name": "stdout",
     "output_type": "stream",
     "text": [
      "Adjusting learning rate of group 0 to 1.9982e-05.\n"
     ]
    },
    {
     "name": "stderr",
     "output_type": "stream",
     "text": [
      "loss: 0.249, tv: 0.164, ptv: 0.162, flow: 0.357:  39%|██████████████████████████████████████████████████████████▌                                                                                          | 240/611 [47:31<1:14:57, 12.12s/it]"
     ]
    },
    {
     "name": "stdout",
     "output_type": "stream",
     "text": [
      "Adjusting learning rate of group 0 to 1.9982e-05.\n"
     ]
    },
    {
     "name": "stderr",
     "output_type": "stream",
     "text": [
      "loss: 0.265, tv: 0.163, ptv: 0.158, flow: 0.356:  40%|███████████████████████████████████████████████████████████                                                                                          | 242/611 [47:55<1:15:05, 12.21s/it]"
     ]
    },
    {
     "name": "stdout",
     "output_type": "stream",
     "text": [
      "Adjusting learning rate of group 0 to 1.9982e-05.\n"
     ]
    },
    {
     "name": "stderr",
     "output_type": "stream",
     "text": [
      "loss: 0.260, tv: 0.162, ptv: 0.157, flow: 0.356:  40%|███████████████████████████████████████████████████████████▌                                                                                         | 244/611 [48:20<1:11:00, 11.61s/it]"
     ]
    },
    {
     "name": "stdout",
     "output_type": "stream",
     "text": [
      "Adjusting learning rate of group 0 to 1.9982e-05.\n"
     ]
    },
    {
     "name": "stderr",
     "output_type": "stream",
     "text": [
      "loss: 0.255, tv: 0.164, ptv: 0.163, flow: 0.332:  40%|███████████████████████████████████████████████████████████▉                                                                                         | 246/611 [48:44<1:12:43, 11.96s/it]"
     ]
    },
    {
     "name": "stdout",
     "output_type": "stream",
     "text": [
      "Adjusting learning rate of group 0 to 1.9982e-05.\n"
     ]
    },
    {
     "name": "stderr",
     "output_type": "stream",
     "text": [
      "loss: 0.272, tv: 0.156, ptv: 0.155, flow: 0.366:  41%|████████████████████████████████████████████████████████████▍                                                                                        | 248/611 [49:09<1:13:21, 12.12s/it]"
     ]
    },
    {
     "name": "stdout",
     "output_type": "stream",
     "text": [
      "Adjusting learning rate of group 0 to 1.9981e-05.\n"
     ]
    },
    {
     "name": "stderr",
     "output_type": "stream",
     "text": [
      "loss: 0.251, tv: 0.165, ptv: 0.160, flow: 0.332:  41%|████████████████████████████████████████████████████████████▉                                                                                        | 250/611 [49:34<1:13:29, 12.21s/it]"
     ]
    },
    {
     "name": "stdout",
     "output_type": "stream",
     "text": [
      "Adjusting learning rate of group 0 to 1.9981e-05.\n"
     ]
    },
    {
     "name": "stderr",
     "output_type": "stream",
     "text": [
      "loss: 0.255, tv: 0.161, ptv: 0.158, flow: 0.348:  41%|█████████████████████████████████████████████████████████████▋                                                                                       | 253/611 [49:58<1:05:24, 10.96s/it]"
     ]
    },
    {
     "name": "stdout",
     "output_type": "stream",
     "text": [
      "Adjusting learning rate of group 0 to 1.9981e-05.\n"
     ]
    },
    {
     "name": "stderr",
     "output_type": "stream",
     "text": [
      "loss: 0.244, tv: 0.165, ptv: 0.163, flow: 0.358:  42%|██████████████████████████████████████████████████████████████▏                                                                                      | 255/611 [50:22<1:09:04, 11.64s/it]"
     ]
    },
    {
     "name": "stdout",
     "output_type": "stream",
     "text": [
      "Adjusting learning rate of group 0 to 1.9981e-05.\n"
     ]
    },
    {
     "name": "stderr",
     "output_type": "stream",
     "text": [
      "loss: 0.271, tv: 0.160, ptv: 0.157, flow: 0.358:  42%|██████████████████████████████████████████████████████████████▋                                                                                      | 257/611 [50:47<1:10:38, 11.97s/it]"
     ]
    },
    {
     "name": "stdout",
     "output_type": "stream",
     "text": [
      "Adjusting learning rate of group 0 to 1.9981e-05.\n"
     ]
    },
    {
     "name": "stderr",
     "output_type": "stream",
     "text": [
      "loss: 0.256, tv: 0.169, ptv: 0.165, flow: 0.354:  42%|███████████████████████████████████████████████████████████████▏                                                                                     | 259/611 [51:11<1:11:11, 12.13s/it]"
     ]
    },
    {
     "name": "stdout",
     "output_type": "stream",
     "text": [
      "Adjusting learning rate of group 0 to 1.9980e-05.\n"
     ]
    },
    {
     "name": "stderr",
     "output_type": "stream",
     "text": [
      "loss: 0.248, tv: 0.166, ptv: 0.164, flow: 0.347:  43%|███████████████████████████████████████████████████████████████▋                                                                                     | 261/611 [51:36<1:11:17, 12.22s/it]"
     ]
    },
    {
     "name": "stdout",
     "output_type": "stream",
     "text": [
      "Adjusting learning rate of group 0 to 1.9980e-05.\n"
     ]
    },
    {
     "name": "stderr",
     "output_type": "stream",
     "text": [
      "loss: 0.257, tv: 0.166, ptv: 0.165, flow: 0.348:  43%|████████████████████████████████████████████████████████████████▏                                                                                    | 263/611 [52:01<1:11:06, 12.26s/it]"
     ]
    },
    {
     "name": "stdout",
     "output_type": "stream",
     "text": [
      "Adjusting learning rate of group 0 to 1.9980e-05.\n"
     ]
    },
    {
     "name": "stderr",
     "output_type": "stream",
     "text": [
      "loss: 0.268, tv: 0.158, ptv: 0.152, flow: 0.380:  43%|████████████████████████████████████████████████████████████████▌                                                                                    | 265/611 [52:25<1:10:47, 12.28s/it]"
     ]
    },
    {
     "name": "stdout",
     "output_type": "stream",
     "text": [
      "Adjusting learning rate of group 0 to 1.9980e-05.\n"
     ]
    },
    {
     "name": "stderr",
     "output_type": "stream",
     "text": [
      "loss: 0.264, tv: 0.163, ptv: 0.161, flow: 0.367:  44%|█████████████████████████████████████████████████████████████████                                                                                    | 267/611 [52:51<1:09:07, 12.06s/it]"
     ]
    },
    {
     "name": "stdout",
     "output_type": "stream",
     "text": [
      "Adjusting learning rate of group 0 to 1.9980e-05.\n"
     ]
    },
    {
     "name": "stderr",
     "output_type": "stream",
     "text": [
      "loss: 0.257, tv: 0.168, ptv: 0.168, flow: 0.327:  44%|█████████████████████████████████████████████████████████████████▌                                                                                   | 269/611 [53:15<1:09:26, 12.18s/it]"
     ]
    },
    {
     "name": "stdout",
     "output_type": "stream",
     "text": [
      "Adjusting learning rate of group 0 to 1.9979e-05.\n"
     ]
    },
    {
     "name": "stderr",
     "output_type": "stream",
     "text": [
      "loss: 0.247, tv: 0.167, ptv: 0.165, flow: 0.348:  44%|██████████████████████████████████████████████████████████████████                                                                                   | 271/611 [53:40<1:09:21, 12.24s/it]"
     ]
    },
    {
     "name": "stdout",
     "output_type": "stream",
     "text": [
      "Adjusting learning rate of group 0 to 1.9979e-05.\n"
     ]
    },
    {
     "name": "stderr",
     "output_type": "stream",
     "text": [
      "loss: 0.250, tv: 0.165, ptv: 0.162, flow: 0.363:  45%|██████████████████████████████████████████████████████████████████▌                                                                                  | 273/611 [54:04<1:09:06, 12.27s/it]"
     ]
    },
    {
     "name": "stdout",
     "output_type": "stream",
     "text": [
      "Adjusting learning rate of group 0 to 1.9979e-05.\n"
     ]
    },
    {
     "name": "stderr",
     "output_type": "stream",
     "text": [
      "loss: 0.258, tv: 0.167, ptv: 0.166, flow: 0.353:  45%|███████████████████████████████████████████████████████████████████                                                                                  | 275/611 [54:29<1:08:47, 12.28s/it]"
     ]
    },
    {
     "name": "stdout",
     "output_type": "stream",
     "text": [
      "Adjusting learning rate of group 0 to 1.9979e-05.\n"
     ]
    },
    {
     "name": "stderr",
     "output_type": "stream",
     "text": [
      "loss: 0.240, tv: 0.172, ptv: 0.169, flow: 0.345:  45%|███████████████████████████████████████████████████████████████████▌                                                                                 | 277/611 [54:53<1:03:53, 11.48s/it]"
     ]
    },
    {
     "name": "stdout",
     "output_type": "stream",
     "text": [
      "Adjusting learning rate of group 0 to 1.9979e-05.\n"
     ]
    },
    {
     "name": "stderr",
     "output_type": "stream",
     "text": [
      "loss: 0.254, tv: 0.160, ptv: 0.157, flow: 0.352:  46%|████████████████████████████████████████████████████████████████████                                                                                 | 279/611 [55:18<1:05:48, 11.89s/it]"
     ]
    },
    {
     "name": "stdout",
     "output_type": "stream",
     "text": [
      "Adjusting learning rate of group 0 to 1.9978e-05.\n"
     ]
    },
    {
     "name": "stderr",
     "output_type": "stream",
     "text": [
      "loss: 0.253, tv: 0.168, ptv: 0.169, flow: 0.354:  46%|████████████████████████████████████████████████████████████████████▌                                                                                | 281/611 [55:42<1:06:32, 12.10s/it]"
     ]
    },
    {
     "name": "stdout",
     "output_type": "stream",
     "text": [
      "Adjusting learning rate of group 0 to 1.9978e-05.\n"
     ]
    },
    {
     "name": "stderr",
     "output_type": "stream",
     "text": [
      "loss: 0.252, tv: 0.168, ptv: 0.166, flow: 0.365:  46%|█████████████████████████████████████████████████████████████████████                                                                                | 283/611 [56:07<1:06:42, 12.20s/it]"
     ]
    },
    {
     "name": "stdout",
     "output_type": "stream",
     "text": [
      "Adjusting learning rate of group 0 to 1.9978e-05.\n"
     ]
    },
    {
     "name": "stderr",
     "output_type": "stream",
     "text": [
      "loss: 0.241, tv: 0.172, ptv: 0.172, flow: 0.351:  47%|█████████████████████████████████████████████████████████████████████▌                                                                               | 285/611 [56:32<1:06:33, 12.25s/it]"
     ]
    },
    {
     "name": "stdout",
     "output_type": "stream",
     "text": [
      "Adjusting learning rate of group 0 to 1.9978e-05.\n"
     ]
    },
    {
     "name": "stderr",
     "output_type": "stream",
     "text": [
      "loss: 0.260, tv: 0.162, ptv: 0.162, flow: 0.355:  47%|█████████████████████████████████████████████████████████████████████▉                                                                               | 287/611 [56:56<1:06:16, 12.27s/it]"
     ]
    },
    {
     "name": "stdout",
     "output_type": "stream",
     "text": [
      "Adjusting learning rate of group 0 to 1.9978e-05.\n"
     ]
    },
    {
     "name": "stderr",
     "output_type": "stream",
     "text": [
      "loss: 0.259, tv: 0.162, ptv: 0.162, flow: 0.363:  47%|██████████████████████████████████████████████████████████████████████▍                                                                              | 289/611 [57:21<1:05:55, 12.28s/it]"
     ]
    },
    {
     "name": "stdout",
     "output_type": "stream",
     "text": [
      "Adjusting learning rate of group 0 to 1.9977e-05.\n"
     ]
    },
    {
     "name": "stderr",
     "output_type": "stream",
     "text": [
      "loss: 0.255, tv: 0.165, ptv: 0.167, flow: 0.360:  48%|██████████████████████████████████████████████████████████████████████▉                                                                              | 291/611 [57:45<1:05:32, 12.29s/it]"
     ]
    },
    {
     "name": "stdout",
     "output_type": "stream",
     "text": [
      "Adjusting learning rate of group 0 to 1.9977e-05.\n"
     ]
    },
    {
     "name": "stderr",
     "output_type": "stream",
     "text": [
      "loss: 0.258, tv: 0.161, ptv: 0.158, flow: 0.368:  48%|████████████████████████████████████████████████████████████████████████▋                                                                              | 294/611 [58:10<54:20, 10.28s/it]"
     ]
    },
    {
     "name": "stdout",
     "output_type": "stream",
     "text": [
      "Adjusting learning rate of group 0 to 1.9977e-05.\n"
     ]
    },
    {
     "name": "stderr",
     "output_type": "stream",
     "text": [
      "loss: 0.261, tv: 0.161, ptv: 0.158, flow: 0.373:  48%|█████████████████████████████████████████████████████████████████████████▏                                                                             | 296/611 [58:35<59:22, 11.31s/it]"
     ]
    },
    {
     "name": "stdout",
     "output_type": "stream",
     "text": [
      "Adjusting learning rate of group 0 to 1.9977e-05.\n"
     ]
    },
    {
     "name": "stderr",
     "output_type": "stream",
     "text": [
      "loss: 0.257, tv: 0.165, ptv: 0.163, flow: 0.338:  49%|████████████████████████████████████████████████████████████████████████▋                                                                            | 298/611 [58:59<1:01:38, 11.82s/it]"
     ]
    },
    {
     "name": "stdout",
     "output_type": "stream",
     "text": [
      "Adjusting learning rate of group 0 to 1.9977e-05.\n"
     ]
    },
    {
     "name": "stderr",
     "output_type": "stream",
     "text": [
      "loss: 0.256, tv: 0.163, ptv: 0.162, flow: 0.364:  49%|██████████████████████████████████████████████████████████████████████████▍                                                                            | 301/611 [59:24<48:55,  9.47s/it]"
     ]
    },
    {
     "name": "stdout",
     "output_type": "stream",
     "text": [
      "Adjusting learning rate of group 0 to 1.9976e-05.\n"
     ]
    },
    {
     "name": "stderr",
     "output_type": "stream",
     "text": [
      "loss: 0.256, tv: 0.167, ptv: 0.166, flow: 0.348:  50%|██████████████████████████████████████████████████████████████████████████▉                                                                            | 303/611 [59:48<55:59, 10.91s/it]"
     ]
    },
    {
     "name": "stdout",
     "output_type": "stream",
     "text": [
      "Adjusting learning rate of group 0 to 1.9976e-05.\n"
     ]
    },
    {
     "name": "stderr",
     "output_type": "stream",
     "text": [
      "loss: 0.252, tv: 0.168, ptv: 0.168, flow: 0.345:  50%|██████████████████████████████████████████████████████████████████████████▍                                                                          | 305/611 [1:00:13<59:13, 11.61s/it]"
     ]
    },
    {
     "name": "stdout",
     "output_type": "stream",
     "text": [
      "Adjusting learning rate of group 0 to 1.9976e-05.\n"
     ]
    },
    {
     "name": "stderr",
     "output_type": "stream",
     "text": [
      "loss: 0.237, tv: 0.176, ptv: 0.174, flow: 0.343:  50%|██████████████████████████████████████████████████████████████████████████▊                                                                          | 307/611 [1:00:37<58:15, 11.50s/it]"
     ]
    },
    {
     "name": "stdout",
     "output_type": "stream",
     "text": [
      "Adjusting learning rate of group 0 to 1.9976e-05.\n"
     ]
    },
    {
     "name": "stderr",
     "output_type": "stream",
     "text": [
      "loss: 0.259, tv: 0.160, ptv: 0.158, flow: 0.362:  51%|██████████████████████████████████████████████████████████████████████████▎                                                                        | 309/611 [1:01:02<1:00:02, 11.93s/it]"
     ]
    },
    {
     "name": "stdout",
     "output_type": "stream",
     "text": [
      "Adjusting learning rate of group 0 to 1.9975e-05.\n"
     ]
    },
    {
     "name": "stderr",
     "output_type": "stream",
     "text": [
      "loss: 0.250, tv: 0.159, ptv: 0.158, flow: 0.361:  51%|██████████████████████████████████████████████████████████████████████████▊                                                                        | 311/611 [1:01:27<1:00:32, 12.11s/it]"
     ]
    },
    {
     "name": "stdout",
     "output_type": "stream",
     "text": [
      "Adjusting learning rate of group 0 to 1.9975e-05.\n"
     ]
    },
    {
     "name": "stderr",
     "output_type": "stream",
     "text": [
      "loss: 0.256, tv: 0.160, ptv: 0.157, flow: 0.347:  51%|███████████████████████████████████████████████████████████████████████████▎                                                                       | 313/611 [1:01:51<1:00:37, 12.21s/it]"
     ]
    },
    {
     "name": "stdout",
     "output_type": "stream",
     "text": [
      "Adjusting learning rate of group 0 to 1.9975e-05.\n"
     ]
    },
    {
     "name": "stderr",
     "output_type": "stream",
     "text": [
      "loss: 0.251, tv: 0.165, ptv: 0.165, flow: 0.352:  52%|███████████████████████████████████████████████████████████████████████████▊                                                                       | 315/611 [1:02:15<1:00:26, 12.25s/it]"
     ]
    },
    {
     "name": "stdout",
     "output_type": "stream",
     "text": [
      "Adjusting learning rate of group 0 to 1.9975e-05.\n"
     ]
    },
    {
     "name": "stderr",
     "output_type": "stream",
     "text": [
      "loss: 0.253, tv: 0.165, ptv: 0.164, flow: 0.342:  52%|█████████████████████████████████████████████████████████████████████████████▎                                                                       | 317/611 [1:02:40<55:22, 11.30s/it]"
     ]
    },
    {
     "name": "stdout",
     "output_type": "stream",
     "text": [
      "Adjusting learning rate of group 0 to 1.9975e-05.\n"
     ]
    },
    {
     "name": "stderr",
     "output_type": "stream",
     "text": [
      "loss: 0.255, tv: 0.163, ptv: 0.165, flow: 0.371:  52%|█████████████████████████████████████████████████████████████████████████████▊                                                                       | 319/611 [1:03:05<57:29, 11.81s/it]"
     ]
    },
    {
     "name": "stdout",
     "output_type": "stream",
     "text": [
      "Adjusting learning rate of group 0 to 1.9974e-05.\n"
     ]
    },
    {
     "name": "stderr",
     "output_type": "stream",
     "text": [
      "loss: 0.246, tv: 0.163, ptv: 0.162, flow: 0.360:  53%|██████████████████████████████████████████████████████████████████████████████▎                                                                      | 321/611 [1:03:29<58:17, 12.06s/it]"
     ]
    },
    {
     "name": "stdout",
     "output_type": "stream",
     "text": [
      "Adjusting learning rate of group 0 to 1.9974e-05.\n"
     ]
    },
    {
     "name": "stderr",
     "output_type": "stream",
     "text": [
      "loss: 0.246, tv: 0.165, ptv: 0.164, flow: 0.364:  53%|██████████████████████████████████████████████████████████████████████████████▊                                                                      | 323/611 [1:03:54<58:28, 12.18s/it]"
     ]
    },
    {
     "name": "stdout",
     "output_type": "stream",
     "text": [
      "Adjusting learning rate of group 0 to 1.9974e-05.\n"
     ]
    },
    {
     "name": "stderr",
     "output_type": "stream",
     "text": [
      "loss: 0.264, tv: 0.163, ptv: 0.160, flow: 0.354:  53%|███████████████████████████████████████████████████████████████████████████████▎                                                                     | 325/611 [1:04:18<58:19, 12.24s/it]"
     ]
    },
    {
     "name": "stdout",
     "output_type": "stream",
     "text": [
      "Adjusting learning rate of group 0 to 1.9974e-05.\n"
     ]
    },
    {
     "name": "stderr",
     "output_type": "stream",
     "text": [
      "loss: 0.255, tv: 0.159, ptv: 0.155, flow: 0.355:  54%|███████████████████████████████████████████████████████████████████████████████▋                                                                     | 327/611 [1:04:43<58:03, 12.27s/it]"
     ]
    },
    {
     "name": "stdout",
     "output_type": "stream",
     "text": [
      "Adjusting learning rate of group 0 to 1.9973e-05.\n"
     ]
    },
    {
     "name": "stderr",
     "output_type": "stream",
     "text": [
      "loss: 0.242, tv: 0.168, ptv: 0.168, flow: 0.347:  54%|████████████████████████████████████████████████████████████████████████████████▍                                                                    | 330/611 [1:05:08<53:15, 11.37s/it]"
     ]
    },
    {
     "name": "stdout",
     "output_type": "stream",
     "text": [
      "Adjusting learning rate of group 0 to 1.9973e-05.\n"
     ]
    },
    {
     "name": "stderr",
     "output_type": "stream",
     "text": [
      "loss: 0.253, tv: 0.164, ptv: 0.161, flow: 0.353:  54%|████████████████████████████████████████████████████████████████████████████████▉                                                                    | 332/611 [1:05:33<51:16, 11.03s/it]"
     ]
    },
    {
     "name": "stdout",
     "output_type": "stream",
     "text": [
      "Adjusting learning rate of group 0 to 1.9973e-05.\n"
     ]
    },
    {
     "name": "stderr",
     "output_type": "stream",
     "text": [
      "loss: 0.251, tv: 0.167, ptv: 0.166, flow: 0.358:  55%|█████████████████████████████████████████████████████████████████████████████████▍                                                                   | 334/611 [1:05:57<53:53, 11.67s/it]"
     ]
    },
    {
     "name": "stdout",
     "output_type": "stream",
     "text": [
      "Adjusting learning rate of group 0 to 1.9973e-05.\n"
     ]
    },
    {
     "name": "stderr",
     "output_type": "stream",
     "text": [
      "loss: 0.255, tv: 0.168, ptv: 0.167, flow: 0.348:  55%|█████████████████████████████████████████████████████████████████████████████████▉                                                                   | 336/611 [1:06:22<54:58, 11.99s/it]"
     ]
    },
    {
     "name": "stdout",
     "output_type": "stream",
     "text": [
      "Adjusting learning rate of group 0 to 1.9973e-05.\n"
     ]
    },
    {
     "name": "stderr",
     "output_type": "stream",
     "text": [
      "loss: 0.257, tv: 0.165, ptv: 0.162, flow: 0.353:  55%|██████████████████████████████████████████████████████████████████████████████████▍                                                                  | 338/611 [1:06:46<53:14, 11.70s/it]"
     ]
    },
    {
     "name": "stdout",
     "output_type": "stream",
     "text": [
      "Adjusting learning rate of group 0 to 1.9972e-05.\n"
     ]
    },
    {
     "name": "stderr",
     "output_type": "stream",
     "text": [
      "loss: 0.262, tv: 0.162, ptv: 0.160, flow: 0.344:  56%|██████████████████████████████████████████████████████████████████████████████████▉                                                                  | 340/611 [1:07:11<54:13, 12.01s/it]"
     ]
    },
    {
     "name": "stdout",
     "output_type": "stream",
     "text": [
      "Adjusting learning rate of group 0 to 1.9972e-05.\n"
     ]
    },
    {
     "name": "stderr",
     "output_type": "stream",
     "text": [
      "loss: 0.251, tv: 0.163, ptv: 0.163, flow: 0.345:  56%|███████████████████████████████████████████████████████████████████████████████████▍                                                                 | 342/611 [1:07:35<54:29, 12.15s/it]"
     ]
    },
    {
     "name": "stdout",
     "output_type": "stream",
     "text": [
      "Adjusting learning rate of group 0 to 1.9972e-05.\n"
     ]
    },
    {
     "name": "stderr",
     "output_type": "stream",
     "text": [
      "loss: 0.270, tv: 0.158, ptv: 0.154, flow: 0.378:  56%|███████████████████████████████████████████████████████████████████████████████████▉                                                                 | 344/611 [1:08:00<54:24, 12.23s/it]"
     ]
    },
    {
     "name": "stdout",
     "output_type": "stream",
     "text": [
      "Adjusting learning rate of group 0 to 1.9972e-05.\n"
     ]
    },
    {
     "name": "stderr",
     "output_type": "stream",
     "text": [
      "loss: 0.260, tv: 0.161, ptv: 0.158, flow: 0.367:  57%|████████████████████████████████████████████████████████████████████████████████████▌                                                                | 347/611 [1:08:25<43:45,  9.94s/it]"
     ]
    },
    {
     "name": "stdout",
     "output_type": "stream",
     "text": [
      "Adjusting learning rate of group 0 to 1.9971e-05.\n"
     ]
    },
    {
     "name": "stderr",
     "output_type": "stream",
     "text": [
      "loss: 0.244, tv: 0.171, ptv: 0.172, flow: 0.326:  57%|█████████████████████████████████████████████████████████████████████████████████████                                                                | 349/611 [1:08:49<47:42, 10.92s/it]"
     ]
    },
    {
     "name": "stdout",
     "output_type": "stream",
     "text": [
      "Adjusting learning rate of group 0 to 1.9971e-05.\n"
     ]
    },
    {
     "name": "stderr",
     "output_type": "stream",
     "text": [
      "loss: 0.252, tv: 0.167, ptv: 0.165, flow: 0.342:  57%|█████████████████████████████████████████████████████████████████████████████████████▌                                                               | 351/611 [1:09:14<50:21, 11.62s/it]"
     ]
    },
    {
     "name": "stdout",
     "output_type": "stream",
     "text": [
      "Adjusting learning rate of group 0 to 1.9971e-05.\n"
     ]
    },
    {
     "name": "stderr",
     "output_type": "stream",
     "text": [
      "loss: 0.244, tv: 0.172, ptv: 0.171, flow: 0.329:  58%|██████████████████████████████████████████████████████████████████████████████████████                                                               | 353/611 [1:09:38<47:26, 11.03s/it]"
     ]
    },
    {
     "name": "stdout",
     "output_type": "stream",
     "text": [
      "Adjusting learning rate of group 0 to 1.9971e-05.\n"
     ]
    },
    {
     "name": "stderr",
     "output_type": "stream",
     "text": [
      "loss: 0.258, tv: 0.166, ptv: 0.165, flow: 0.359:  58%|██████████████████████████████████████████████████████████████████████████████████████▌                                                              | 355/611 [1:10:03<49:49, 11.68s/it]"
     ]
    },
    {
     "name": "stdout",
     "output_type": "stream",
     "text": [
      "Adjusting learning rate of group 0 to 1.9970e-05.\n"
     ]
    },
    {
     "name": "stderr",
     "output_type": "stream",
     "text": [
      "loss: 0.258, tv: 0.163, ptv: 0.160, flow: 0.347:  59%|███████████████████████████████████████████████████████████████████████████████████████▎                                                             | 358/611 [1:10:27<40:15,  9.55s/it]"
     ]
    },
    {
     "name": "stdout",
     "output_type": "stream",
     "text": [
      "Adjusting learning rate of group 0 to 1.9970e-05.\n"
     ]
    },
    {
     "name": "stderr",
     "output_type": "stream",
     "text": [
      "loss: 0.234, tv: 0.173, ptv: 0.173, flow: 0.346:  59%|███████████████████████████████████████████████████████████████████████████████████████▊                                                             | 360/611 [1:10:52<42:53, 10.25s/it]"
     ]
    },
    {
     "name": "stdout",
     "output_type": "stream",
     "text": [
      "Adjusting learning rate of group 0 to 1.9970e-05.\n"
     ]
    },
    {
     "name": "stderr",
     "output_type": "stream",
     "text": [
      "loss: 0.245, tv: 0.171, ptv: 0.169, flow: 0.333:  59%|████████████████████████████████████████████████████████████████████████████████████████▎                                                            | 362/611 [1:11:16<44:58, 10.84s/it]"
     ]
    },
    {
     "name": "stdout",
     "output_type": "stream",
     "text": [
      "Adjusting learning rate of group 0 to 1.9970e-05.\n"
     ]
    },
    {
     "name": "stderr",
     "output_type": "stream",
     "text": [
      "loss: 0.259, tv: 0.166, ptv: 0.165, flow: 0.355:  60%|████████████████████████████████████████████████████████████████████████████████████████▊                                                            | 364/611 [1:11:41<47:40, 11.58s/it]"
     ]
    },
    {
     "name": "stdout",
     "output_type": "stream",
     "text": [
      "Adjusting learning rate of group 0 to 1.9969e-05.\n"
     ]
    },
    {
     "name": "stderr",
     "output_type": "stream",
     "text": [
      "loss: 0.270, tv: 0.157, ptv: 0.152, flow: 0.377:  60%|█████████████████████████████████████████████████████████████████████████████████████████▎                                                           | 366/611 [1:12:05<48:47, 11.95s/it]"
     ]
    },
    {
     "name": "stdout",
     "output_type": "stream",
     "text": [
      "Adjusting learning rate of group 0 to 1.9969e-05.\n"
     ]
    },
    {
     "name": "stderr",
     "output_type": "stream",
     "text": [
      "loss: 0.250, tv: 0.164, ptv: 0.162, flow: 0.342:  60%|█████████████████████████████████████████████████████████████████████████████████████████▋                                                           | 368/611 [1:12:30<49:06, 12.13s/it]"
     ]
    },
    {
     "name": "stdout",
     "output_type": "stream",
     "text": [
      "Adjusting learning rate of group 0 to 1.9969e-05.\n"
     ]
    },
    {
     "name": "stderr",
     "output_type": "stream",
     "text": [
      "loss: 0.246, tv: 0.165, ptv: 0.162, flow: 0.361:  61%|██████████████████████████████████████████████████████████████████████████████████████████▏                                                          | 370/611 [1:12:55<49:04, 12.22s/it]"
     ]
    },
    {
     "name": "stdout",
     "output_type": "stream",
     "text": [
      "Adjusting learning rate of group 0 to 1.9969e-05.\n"
     ]
    },
    {
     "name": "stderr",
     "output_type": "stream",
     "text": [
      "loss: 0.243, tv: 0.168, ptv: 0.169, flow: 0.331:  61%|██████████████████████████████████████████████████████████████████████████████████████████▋                                                          | 372/611 [1:13:19<48:51, 12.27s/it]"
     ]
    },
    {
     "name": "stdout",
     "output_type": "stream",
     "text": [
      "Adjusting learning rate of group 0 to 1.9968e-05.\n"
     ]
    },
    {
     "name": "stderr",
     "output_type": "stream",
     "text": [
      "loss: 0.263, tv: 0.162, ptv: 0.160, flow: 0.359:  61%|███████████████████████████████████████████████████████████████████████████████████████████▏                                                         | 374/611 [1:13:44<48:33, 12.29s/it]"
     ]
    },
    {
     "name": "stdout",
     "output_type": "stream",
     "text": [
      "Adjusting learning rate of group 0 to 1.9968e-05.\n"
     ]
    },
    {
     "name": "stderr",
     "output_type": "stream",
     "text": [
      "loss: 0.266, tv: 0.160, ptv: 0.157, flow: 0.355:  62%|███████████████████████████████████████████████████████████████████████████████████████████▋                                                         | 376/611 [1:14:09<48:10, 12.30s/it]"
     ]
    },
    {
     "name": "stdout",
     "output_type": "stream",
     "text": [
      "Adjusting learning rate of group 0 to 1.9968e-05.\n"
     ]
    },
    {
     "name": "stderr",
     "output_type": "stream",
     "text": [
      "loss: 0.268, tv: 0.158, ptv: 0.153, flow: 0.370:  62%|████████████████████████████████████████████████████████████████████████████████████████████▏                                                        | 378/611 [1:14:33<47:47, 12.31s/it]"
     ]
    },
    {
     "name": "stdout",
     "output_type": "stream",
     "text": [
      "Adjusting learning rate of group 0 to 1.9968e-05.\n"
     ]
    },
    {
     "name": "stderr",
     "output_type": "stream",
     "text": [
      "loss: 0.249, tv: 0.170, ptv: 0.168, flow: 0.356:  62%|████████████████████████████████████████████████████████████████████████████████████████████▉                                                        | 381/611 [1:14:58<44:04, 11.50s/it]"
     ]
    },
    {
     "name": "stdout",
     "output_type": "stream",
     "text": [
      "Adjusting learning rate of group 0 to 1.9967e-05.\n"
     ]
    },
    {
     "name": "stderr",
     "output_type": "stream",
     "text": [
      "loss: 0.245, tv: 0.170, ptv: 0.168, flow: 0.308:  63%|█████████████████████████████████████████████████████████████████████████████████████████████▍                                                       | 383/611 [1:15:23<42:33, 11.20s/it]"
     ]
    },
    {
     "name": "stdout",
     "output_type": "stream",
     "text": [
      "Adjusting learning rate of group 0 to 1.9967e-05.\n"
     ]
    },
    {
     "name": "stderr",
     "output_type": "stream",
     "text": [
      "loss: 0.264, tv: 0.162, ptv: 0.158, flow: 0.342:  63%|█████████████████████████████████████████████████████████████████████████████████████████████▉                                                       | 385/611 [1:15:47<44:18, 11.77s/it]"
     ]
    },
    {
     "name": "stdout",
     "output_type": "stream",
     "text": [
      "Adjusting learning rate of group 0 to 1.9967e-05.\n"
     ]
    },
    {
     "name": "stderr",
     "output_type": "stream",
     "text": [
      "loss: 0.247, tv: 0.166, ptv: 0.164, flow: 0.359:  63%|██████████████████████████████████████████████████████████████████████████████████████████████▎                                                      | 387/611 [1:16:12<44:57, 12.04s/it]"
     ]
    },
    {
     "name": "stdout",
     "output_type": "stream",
     "text": [
      "Adjusting learning rate of group 0 to 1.9967e-05.\n"
     ]
    },
    {
     "name": "stderr",
     "output_type": "stream",
     "text": [
      "loss: 0.248, tv: 0.166, ptv: 0.166, flow: 0.307:  64%|██████████████████████████████████████████████████████████████████████████████████████████████▊                                                      | 389/611 [1:16:36<42:02, 11.36s/it]"
     ]
    },
    {
     "name": "stdout",
     "output_type": "stream",
     "text": [
      "Adjusting learning rate of group 0 to 1.9966e-05.\n"
     ]
    },
    {
     "name": "stderr",
     "output_type": "stream",
     "text": [
      "loss: 0.261, tv: 0.161, ptv: 0.161, flow: 0.364:  64%|███████████████████████████████████████████████████████████████████████████████████████████████▎                                                     | 391/611 [1:17:01<42:53, 11.70s/it]"
     ]
    },
    {
     "name": "stdout",
     "output_type": "stream",
     "text": [
      "Adjusting learning rate of group 0 to 1.9966e-05.\n"
     ]
    },
    {
     "name": "stderr",
     "output_type": "stream",
     "text": [
      "loss: 0.253, tv: 0.168, ptv: 0.167, flow: 0.351:  64%|███████████████████████████████████████████████████████████████████████████████████████████████▊                                                     | 393/611 [1:17:26<43:37, 12.01s/it]"
     ]
    },
    {
     "name": "stdout",
     "output_type": "stream",
     "text": [
      "Adjusting learning rate of group 0 to 1.9966e-05.\n"
     ]
    },
    {
     "name": "stderr",
     "output_type": "stream",
     "text": [
      "loss: 0.259, tv: 0.168, ptv: 0.166, flow: 0.336:  65%|████████████████████████████████████████████████████████████████████████████████████████████████▎                                                    | 395/611 [1:17:50<43:10, 11.99s/it]"
     ]
    },
    {
     "name": "stdout",
     "output_type": "stream",
     "text": [
      "Adjusting learning rate of group 0 to 1.9966e-05.\n"
     ]
    },
    {
     "name": "stderr",
     "output_type": "stream",
     "text": [
      "loss: 0.246, tv: 0.167, ptv: 0.163, flow: 0.359:  65%|████████████████████████████████████████████████████████████████████████████████████████████████▊                                                    | 397/611 [1:18:15<43:19, 12.15s/it]"
     ]
    },
    {
     "name": "stdout",
     "output_type": "stream",
     "text": [
      "Adjusting learning rate of group 0 to 1.9965e-05.\n"
     ]
    },
    {
     "name": "stderr",
     "output_type": "stream",
     "text": [
      "loss: 0.250, tv: 0.164, ptv: 0.162, flow: 0.349:  65%|█████████████████████████████████████████████████████████████████████████████████████████████████▌                                                   | 400/611 [1:18:40<41:20, 11.76s/it]"
     ]
    },
    {
     "name": "stdout",
     "output_type": "stream",
     "text": [
      "Adjusting learning rate of group 0 to 1.9965e-05.\n"
     ]
    },
    {
     "name": "stderr",
     "output_type": "stream",
     "text": [
      "loss: 0.263, tv: 0.162, ptv: 0.158, flow: 0.349:  66%|██████████████████████████████████████████████████████████████████████████████████████████████████                                                   | 402/611 [1:19:05<41:54, 12.03s/it]"
     ]
    },
    {
     "name": "stdout",
     "output_type": "stream",
     "text": [
      "Adjusting learning rate of group 0 to 1.9965e-05.\n"
     ]
    },
    {
     "name": "stderr",
     "output_type": "stream",
     "text": [
      "loss: 0.259, tv: 0.166, ptv: 0.164, flow: 0.327:  66%|██████████████████████████████████████████████████████████████████████████████████████████████████▌                                                  | 404/611 [1:19:29<41:59, 12.17s/it]"
     ]
    },
    {
     "name": "stdout",
     "output_type": "stream",
     "text": [
      "Adjusting learning rate of group 0 to 1.9965e-05.\n"
     ]
    },
    {
     "name": "stderr",
     "output_type": "stream",
     "text": [
      "loss: 0.240, tv: 0.175, ptv: 0.173, flow: 0.328:  66%|███████████████████████████████████████████████████████████████████████████████████████████████████                                                  | 406/611 [1:19:54<41:47, 12.23s/it]"
     ]
    },
    {
     "name": "stdout",
     "output_type": "stream",
     "text": [
      "Adjusting learning rate of group 0 to 1.9964e-05.\n"
     ]
    },
    {
     "name": "stderr",
     "output_type": "stream",
     "text": [
      "loss: 0.257, tv: 0.166, ptv: 0.165, flow: 0.347:  67%|███████████████████████████████████████████████████████████████████████████████████████████████████▍                                                 | 408/611 [1:20:18<41:29, 12.26s/it]"
     ]
    },
    {
     "name": "stdout",
     "output_type": "stream",
     "text": [
      "Adjusting learning rate of group 0 to 1.9964e-05.\n"
     ]
    },
    {
     "name": "stderr",
     "output_type": "stream",
     "text": [
      "loss: 0.266, tv: 0.161, ptv: 0.155, flow: 0.368:  67%|███████████████████████████████████████████████████████████████████████████████████████████████████▉                                                 | 410/611 [1:20:43<41:08, 12.28s/it]"
     ]
    },
    {
     "name": "stdout",
     "output_type": "stream",
     "text": [
      "Adjusting learning rate of group 0 to 1.9964e-05.\n"
     ]
    },
    {
     "name": "stderr",
     "output_type": "stream",
     "text": [
      "loss: 0.250, tv: 0.163, ptv: 0.162, flow: 0.338:  67%|████████████████████████████████████████████████████████████████████████████████████████████████████▍                                                | 412/611 [1:21:08<40:47, 12.30s/it]"
     ]
    },
    {
     "name": "stdout",
     "output_type": "stream",
     "text": [
      "Adjusting learning rate of group 0 to 1.9964e-05.\n"
     ]
    },
    {
     "name": "stderr",
     "output_type": "stream",
     "text": [
      "loss: 0.246, tv: 0.167, ptv: 0.165, flow: 0.350:  68%|████████████████████████████████████████████████████████████████████████████████████████████████████▉                                                | 414/611 [1:21:32<40:22, 12.30s/it]"
     ]
    },
    {
     "name": "stdout",
     "output_type": "stream",
     "text": [
      "Adjusting learning rate of group 0 to 1.9963e-05.\n"
     ]
    },
    {
     "name": "stderr",
     "output_type": "stream",
     "text": [
      "loss: 0.253, tv: 0.166, ptv: 0.164, flow: 0.339:  68%|█████████████████████████████████████████████████████████████████████████████████████████████████████▍                                               | 416/611 [1:21:57<39:57, 12.30s/it]"
     ]
    },
    {
     "name": "stdout",
     "output_type": "stream",
     "text": [
      "Adjusting learning rate of group 0 to 1.9963e-05.\n"
     ]
    },
    {
     "name": "stderr",
     "output_type": "stream",
     "text": [
      "loss: 0.237, tv: 0.177, ptv: 0.175, flow: 0.331:  68%|█████████████████████████████████████████████████████████████████████████████████████████████████████▉                                               | 418/611 [1:22:21<37:27, 11.64s/it]"
     ]
    },
    {
     "name": "stdout",
     "output_type": "stream",
     "text": [
      "Adjusting learning rate of group 0 to 1.9963e-05.\n"
     ]
    },
    {
     "name": "stderr",
     "output_type": "stream",
     "text": [
      "loss: 0.258, tv: 0.163, ptv: 0.164, flow: 0.326:  69%|██████████████████████████████████████████████████████████████████████████████████████████████████████▍                                              | 420/611 [1:22:46<38:07, 11.98s/it]"
     ]
    },
    {
     "name": "stdout",
     "output_type": "stream",
     "text": [
      "Adjusting learning rate of group 0 to 1.9962e-05.\n"
     ]
    },
    {
     "name": "stderr",
     "output_type": "stream",
     "text": [
      "loss: 0.261, tv: 0.163, ptv: 0.162, flow: 0.341:  69%|██████████████████████████████████████████████████████████████████████████████████████████████████████▉                                              | 422/611 [1:23:10<38:13, 12.14s/it]"
     ]
    },
    {
     "name": "stdout",
     "output_type": "stream",
     "text": [
      "Adjusting learning rate of group 0 to 1.9962e-05.\n"
     ]
    },
    {
     "name": "stderr",
     "output_type": "stream",
     "text": [
      "loss: 0.254, tv: 0.167, ptv: 0.169, flow: 0.329:  69%|███████████████████████████████████████████████████████████████████████████████████████████████████████▍                                             | 424/611 [1:23:35<38:05, 12.22s/it]"
     ]
    },
    {
     "name": "stdout",
     "output_type": "stream",
     "text": [
      "Adjusting learning rate of group 0 to 1.9962e-05.\n"
     ]
    },
    {
     "name": "stderr",
     "output_type": "stream",
     "text": [
      "loss: 0.246, tv: 0.171, ptv: 0.170, flow: 0.340:  70%|███████████████████████████████████████████████████████████████████████████████████████████████████████▉                                             | 426/611 [1:23:59<32:04, 10.40s/it]"
     ]
    },
    {
     "name": "stdout",
     "output_type": "stream",
     "text": [
      "Adjusting learning rate of group 0 to 1.9962e-05.\n"
     ]
    },
    {
     "name": "stderr",
     "output_type": "stream",
     "text": [
      "loss: 0.246, tv: 0.164, ptv: 0.162, flow: 0.329:  70%|████████████████████████████████████████████████████████████████████████████████████████████████████████▎                                            | 428/611 [1:24:24<34:40, 11.37s/it]"
     ]
    },
    {
     "name": "stdout",
     "output_type": "stream",
     "text": [
      "Adjusting learning rate of group 0 to 1.9961e-05.\n"
     ]
    },
    {
     "name": "stderr",
     "output_type": "stream",
     "text": [
      "loss: 0.266, tv: 0.157, ptv: 0.157, flow: 0.377:  70%|████████████████████████████████████████████████████████████████████████████████████████████████████████▊                                            | 430/611 [1:24:48<35:43, 11.84s/it]"
     ]
    },
    {
     "name": "stdout",
     "output_type": "stream",
     "text": [
      "Adjusting learning rate of group 0 to 1.9961e-05.\n"
     ]
    },
    {
     "name": "stderr",
     "output_type": "stream",
     "text": [
      "loss: 0.263, tv: 0.164, ptv: 0.163, flow: 0.332:  71%|█████████████████████████████████████████████████████████████████████████████████████████████████████████▎                                           | 432/611 [1:25:13<36:00, 12.07s/it]"
     ]
    },
    {
     "name": "stdout",
     "output_type": "stream",
     "text": [
      "Adjusting learning rate of group 0 to 1.9961e-05.\n"
     ]
    },
    {
     "name": "stderr",
     "output_type": "stream",
     "text": [
      "loss: 0.247, tv: 0.169, ptv: 0.168, flow: 0.345:  71%|██████████████████████████████████████████████████████████████████████████████████████████████████████████                                           | 435/611 [1:25:38<32:29, 11.08s/it]"
     ]
    },
    {
     "name": "stdout",
     "output_type": "stream",
     "text": [
      "Adjusting learning rate of group 0 to 1.9961e-05.\n"
     ]
    },
    {
     "name": "stderr",
     "output_type": "stream",
     "text": [
      "loss: 0.257, tv: 0.167, ptv: 0.163, flow: 0.336:  72%|██████████████████████████████████████████████████████████████████████████████████████████████████████████▌                                          | 437/611 [1:26:02<31:56, 11.01s/it]"
     ]
    },
    {
     "name": "stdout",
     "output_type": "stream",
     "text": [
      "Adjusting learning rate of group 0 to 1.9960e-05.\n"
     ]
    },
    {
     "name": "stderr",
     "output_type": "stream",
     "text": [
      "loss: 0.258, tv: 0.163, ptv: 0.160, flow: 0.347:  72%|███████████████████████████████████████████████████████████████████████████████████████████████████████████                                          | 439/611 [1:26:27<33:26, 11.67s/it]"
     ]
    },
    {
     "name": "stdout",
     "output_type": "stream",
     "text": [
      "Adjusting learning rate of group 0 to 1.9960e-05.\n"
     ]
    },
    {
     "name": "stderr",
     "output_type": "stream",
     "text": [
      "loss: 0.248, tv: 0.160, ptv: 0.158, flow: 0.361:  72%|███████████████████████████████████████████████████████████████████████████████████████████████████████████▌                                         | 441/611 [1:26:51<33:58, 11.99s/it]"
     ]
    },
    {
     "name": "stdout",
     "output_type": "stream",
     "text": [
      "Adjusting learning rate of group 0 to 1.9960e-05.\n"
     ]
    },
    {
     "name": "stderr",
     "output_type": "stream",
     "text": [
      "loss: 0.250, tv: 0.164, ptv: 0.162, flow: 0.346:  73%|████████████████████████████████████████████████████████████████████████████████████████████████████████████                                         | 443/611 [1:27:16<30:07, 10.76s/it]"
     ]
    },
    {
     "name": "stdout",
     "output_type": "stream",
     "text": [
      "Adjusting learning rate of group 0 to 1.9959e-05.\n"
     ]
    },
    {
     "name": "stderr",
     "output_type": "stream",
     "text": [
      "loss: 0.256, tv: 0.167, ptv: 0.165, flow: 0.329:  73%|████████████████████████████████████████████████████████████████████████████████████████████████████████████▌                                        | 445/611 [1:27:40<31:56, 11.55s/it]"
     ]
    },
    {
     "name": "stdout",
     "output_type": "stream",
     "text": [
      "Adjusting learning rate of group 0 to 1.9959e-05.\n"
     ]
    },
    {
     "name": "stderr",
     "output_type": "stream",
     "text": [
      "loss: 0.256, tv: 0.165, ptv: 0.166, flow: 0.347:  73%|█████████████████████████████████████████████████████████████████████████████████████████████████████████████                                        | 447/611 [1:28:05<32:36, 11.93s/it]"
     ]
    },
    {
     "name": "stdout",
     "output_type": "stream",
     "text": [
      "Adjusting learning rate of group 0 to 1.9959e-05.\n"
     ]
    },
    {
     "name": "stderr",
     "output_type": "stream",
     "text": [
      "loss: 0.262, tv: 0.165, ptv: 0.164, flow: 0.344:  74%|█████████████████████████████████████████████████████████████████████████████████████████████████████████████▋                                       | 450/611 [1:28:30<28:56, 10.79s/it]"
     ]
    },
    {
     "name": "stdout",
     "output_type": "stream",
     "text": [
      "Adjusting learning rate of group 0 to 1.9959e-05.\n"
     ]
    },
    {
     "name": "stderr",
     "output_type": "stream",
     "text": [
      "loss: 0.252, tv: 0.165, ptv: 0.163, flow: 0.339:  74%|██████████████████████████████████████████████████████████████████████████████████████████████████████████████▏                                      | 452/611 [1:28:55<30:38, 11.57s/it]"
     ]
    },
    {
     "name": "stdout",
     "output_type": "stream",
     "text": [
      "Adjusting learning rate of group 0 to 1.9958e-05.\n"
     ]
    },
    {
     "name": "stderr",
     "output_type": "stream",
     "text": [
      "loss: 0.270, tv: 0.158, ptv: 0.151, flow: 0.374:  74%|██████████████████████████████████████████████████████████████████████████████████████████████████████████████▋                                      | 454/611 [1:29:19<31:14, 11.94s/it]"
     ]
    },
    {
     "name": "stdout",
     "output_type": "stream",
     "text": [
      "Adjusting learning rate of group 0 to 1.9958e-05.\n"
     ]
    },
    {
     "name": "stderr",
     "output_type": "stream",
     "text": [
      "loss: 0.249, tv: 0.167, ptv: 0.166, flow: 0.356:  75%|███████████████████████████████████████████████████████████████████████████████████████████████████████████████▏                                     | 456/611 [1:29:44<31:19, 12.12s/it]"
     ]
    },
    {
     "name": "stdout",
     "output_type": "stream",
     "text": [
      "Adjusting learning rate of group 0 to 1.9958e-05.\n"
     ]
    },
    {
     "name": "stderr",
     "output_type": "stream",
     "text": [
      "loss: 0.244, tv: 0.171, ptv: 0.170, flow: 0.337:  75%|███████████████████████████████████████████████████████████████████████████████████████████████████████████████▋                                     | 458/611 [1:30:08<31:08, 12.21s/it]"
     ]
    },
    {
     "name": "stdout",
     "output_type": "stream",
     "text": [
      "Adjusting learning rate of group 0 to 1.9957e-05.\n"
     ]
    },
    {
     "name": "stderr",
     "output_type": "stream",
     "text": [
      "loss: 0.260, tv: 0.162, ptv: 0.161, flow: 0.344:  75%|████████████████████████████████████████████████████████████████████████████████████████████████████████████████▍                                    | 461/611 [1:30:33<23:57,  9.58s/it]"
     ]
    },
    {
     "name": "stdout",
     "output_type": "stream",
     "text": [
      "Adjusting learning rate of group 0 to 1.9957e-05.\n"
     ]
    },
    {
     "name": "stderr",
     "output_type": "stream",
     "text": [
      "loss: 0.262, tv: 0.161, ptv: 0.157, flow: 0.348:  76%|████████████████████████████████████████████████████████████████████████████████████████████████████████████████▉                                    | 463/611 [1:30:58<27:03, 10.97s/it]"
     ]
    },
    {
     "name": "stdout",
     "output_type": "stream",
     "text": [
      "Adjusting learning rate of group 0 to 1.9957e-05.\n"
     ]
    },
    {
     "name": "stderr",
     "output_type": "stream",
     "text": [
      "loss: 0.250, tv: 0.165, ptv: 0.163, flow: 0.347:  76%|█████████████████████████████████████████████████████████████████████████████████████████████████████████████████▍                                   | 465/611 [1:31:22<28:21, 11.65s/it]"
     ]
    },
    {
     "name": "stdout",
     "output_type": "stream",
     "text": [
      "Adjusting learning rate of group 0 to 1.9957e-05.\n"
     ]
    },
    {
     "name": "stderr",
     "output_type": "stream",
     "text": [
      "loss: 0.251, tv: 0.163, ptv: 0.161, flow: 0.354:  76%|█████████████████████████████████████████████████████████████████████████████████████████████████████████████████▉                                   | 467/611 [1:31:47<24:19, 10.13s/it]"
     ]
    },
    {
     "name": "stdout",
     "output_type": "stream",
     "text": [
      "Adjusting learning rate of group 0 to 1.9956e-05.\n"
     ]
    },
    {
     "name": "stderr",
     "output_type": "stream",
     "text": [
      "loss: 0.253, tv: 0.165, ptv: 0.166, flow: 0.335:  77%|██████████████████████████████████████████████████████████████████████████████████████████████████████████████████▎                                  | 469/611 [1:32:11<26:36, 11.24s/it]"
     ]
    },
    {
     "name": "stdout",
     "output_type": "stream",
     "text": [
      "Adjusting learning rate of group 0 to 1.9956e-05.\n"
     ]
    },
    {
     "name": "stderr",
     "output_type": "stream",
     "text": [
      "loss: 0.252, tv: 0.167, ptv: 0.167, flow: 0.361:  77%|██████████████████████████████████████████████████████████████████████████████████████████████████████████████████▊                                  | 471/611 [1:32:35<25:58, 11.13s/it]"
     ]
    },
    {
     "name": "stdout",
     "output_type": "stream",
     "text": [
      "Adjusting learning rate of group 0 to 1.9956e-05.\n"
     ]
    },
    {
     "name": "stderr",
     "output_type": "stream",
     "text": [
      "loss: 0.259, tv: 0.166, ptv: 0.163, flow: 0.336:  77%|███████████████████████████████████████████████████████████████████████████████████████████████████████████████████▎                                 | 473/611 [1:33:00<26:59, 11.73s/it]"
     ]
    },
    {
     "name": "stdout",
     "output_type": "stream",
     "text": [
      "Adjusting learning rate of group 0 to 1.9955e-05.\n"
     ]
    },
    {
     "name": "stderr",
     "output_type": "stream",
     "text": [
      "loss: 0.249, tv: 0.169, ptv: 0.166, flow: 0.337:  78%|███████████████████████████████████████████████████████████████████████████████████████████████████████████████████▊                                 | 475/611 [1:33:25<27:15, 12.02s/it]"
     ]
    },
    {
     "name": "stdout",
     "output_type": "stream",
     "text": [
      "Adjusting learning rate of group 0 to 1.9955e-05.\n"
     ]
    },
    {
     "name": "stderr",
     "output_type": "stream",
     "text": [
      "loss: 0.254, tv: 0.164, ptv: 0.165, flow: 0.368:  78%|████████████████████████████████████████████████████████████████████████████████████████████████████████████████████▎                                | 477/611 [1:33:49<27:10, 12.17s/it]"
     ]
    },
    {
     "name": "stdout",
     "output_type": "stream",
     "text": [
      "Adjusting learning rate of group 0 to 1.9955e-05.\n"
     ]
    },
    {
     "name": "stderr",
     "output_type": "stream",
     "text": [
      "loss: 0.257, tv: 0.162, ptv: 0.157, flow: 0.373:  78%|████████████████████████████████████████████████████████████████████████████████████████████████████████████████████▊                                | 479/611 [1:34:14<26:55, 12.24s/it]"
     ]
    },
    {
     "name": "stdout",
     "output_type": "stream",
     "text": [
      "Adjusting learning rate of group 0 to 1.9954e-05.\n"
     ]
    },
    {
     "name": "stderr",
     "output_type": "stream",
     "text": [
      "loss: 0.248, tv: 0.167, ptv: 0.165, flow: 0.360:  79%|█████████████████████████████████████████████████████████████████████████████████████████████████████████████████████▎                               | 481/611 [1:34:38<26:35, 12.27s/it]"
     ]
    },
    {
     "name": "stdout",
     "output_type": "stream",
     "text": [
      "Adjusting learning rate of group 0 to 1.9954e-05.\n"
     ]
    },
    {
     "name": "stderr",
     "output_type": "stream",
     "text": [
      "loss: 0.252, tv: 0.163, ptv: 0.160, flow: 0.349:  79%|██████████████████████████████████████████████████████████████████████████████████████████████████████████████████████                               | 484/611 [1:35:04<23:49, 11.25s/it]"
     ]
    },
    {
     "name": "stdout",
     "output_type": "stream",
     "text": [
      "Adjusting learning rate of group 0 to 1.9954e-05.\n"
     ]
    },
    {
     "name": "stderr",
     "output_type": "stream",
     "text": [
      "loss: 0.242, tv: 0.171, ptv: 0.172, flow: 0.351:  80%|██████████████████████████████████████████████████████████████████████████████████████████████████████████████████████▌                              | 486/611 [1:35:28<24:33, 11.79s/it]"
     ]
    },
    {
     "name": "stdout",
     "output_type": "stream",
     "text": [
      "Adjusting learning rate of group 0 to 1.9954e-05.\n"
     ]
    },
    {
     "name": "stderr",
     "output_type": "stream",
     "text": [
      "loss: 0.236, tv: 0.171, ptv: 0.168, flow: 0.345:  80%|███████████████████████████████████████████████████████████████████████████████████████████████████████████████████████                              | 488/611 [1:35:53<24:42, 12.05s/it]"
     ]
    },
    {
     "name": "stdout",
     "output_type": "stream",
     "text": [
      "Adjusting learning rate of group 0 to 1.9953e-05.\n"
     ]
    },
    {
     "name": "stderr",
     "output_type": "stream",
     "text": [
      "loss: 0.256, tv: 0.166, ptv: 0.166, flow: 0.372:  80%|███████████████████████████████████████████████████████████████████████████████████████████████████████████████████████▍                             | 490/611 [1:36:18<24:33, 12.18s/it]"
     ]
    },
    {
     "name": "stdout",
     "output_type": "stream",
     "text": [
      "Adjusting learning rate of group 0 to 1.9953e-05.\n"
     ]
    },
    {
     "name": "stderr",
     "output_type": "stream",
     "text": [
      "loss: 0.254, tv: 0.167, ptv: 0.167, flow: 0.379:  81%|███████████████████████████████████████████████████████████████████████████████████████████████████████████████████████▉                             | 492/611 [1:36:42<24:16, 12.24s/it]"
     ]
    },
    {
     "name": "stdout",
     "output_type": "stream",
     "text": [
      "Adjusting learning rate of group 0 to 1.9953e-05.\n"
     ]
    },
    {
     "name": "stderr",
     "output_type": "stream",
     "text": [
      "loss: 0.255, tv: 0.159, ptv: 0.157, flow: 0.372:  81%|████████████████████████████████████████████████████████████████████████████████████████████████████████████████████████▍                            | 494/611 [1:37:07<23:56, 12.28s/it]"
     ]
    },
    {
     "name": "stdout",
     "output_type": "stream",
     "text": [
      "Adjusting learning rate of group 0 to 1.9952e-05.\n"
     ]
    },
    {
     "name": "stderr",
     "output_type": "stream",
     "text": [
      "loss: 0.245, tv: 0.171, ptv: 0.169, flow: 0.353:  81%|████████████████████████████████████████████████████████████████████████████████████████████████████████████████████████▉                            | 496/611 [1:37:31<23:33, 12.29s/it]"
     ]
    },
    {
     "name": "stdout",
     "output_type": "stream",
     "text": [
      "Adjusting learning rate of group 0 to 1.9952e-05.\n"
     ]
    },
    {
     "name": "stderr",
     "output_type": "stream",
     "text": [
      "loss: 0.241, tv: 0.162, ptv: 0.160, flow: 0.361:  82%|█████████████████████████████████████████████████████████████████████████████████████████████████████████████████████████▍                           | 498/611 [1:37:56<23:09, 12.29s/it]"
     ]
    },
    {
     "name": "stdout",
     "output_type": "stream",
     "text": [
      "Adjusting learning rate of group 0 to 1.9952e-05.\n"
     ]
    },
    {
     "name": "stderr",
     "output_type": "stream",
     "text": [
      "loss: 0.234, tv: 0.172, ptv: 0.172, flow: 0.344:  82%|█████████████████████████████████████████████████████████████████████████████████████████████████████████████████████████▉                           | 500/611 [1:38:21<22:44, 12.29s/it]"
     ]
    },
    {
     "name": "stdout",
     "output_type": "stream",
     "text": [
      "Adjusting learning rate of group 0 to 1.9951e-05.\n"
     ]
    },
    {
     "name": "stderr",
     "output_type": "stream",
     "text": [
      "loss: 0.257, tv: 0.163, ptv: 0.162, flow: 0.344:  82%|██████████████████████████████████████████████████████████████████████████████████████████████████████████████████████████▍                          | 502/611 [1:38:45<22:20, 12.30s/it]"
     ]
    },
    {
     "name": "stdout",
     "output_type": "stream",
     "text": [
      "Adjusting learning rate of group 0 to 1.9951e-05.\n"
     ]
    },
    {
     "name": "stderr",
     "output_type": "stream",
     "text": [
      "loss: 0.251, tv: 0.167, ptv: 0.164, flow: 0.321:  82%|██████████████████████████████████████████████████████████████████████████████████████████████████████████████████████████▉                          | 504/611 [1:39:10<21:55, 12.30s/it]"
     ]
    },
    {
     "name": "stdout",
     "output_type": "stream",
     "text": [
      "Adjusting learning rate of group 0 to 1.9951e-05.\n"
     ]
    },
    {
     "name": "stderr",
     "output_type": "stream",
     "text": [
      "loss: 0.251, tv: 0.164, ptv: 0.164, flow: 0.345:  83%|███████████████████████████████████████████████████████████████████████████████████████████████████████████████████████████▍                         | 506/611 [1:39:34<21:31, 12.30s/it]"
     ]
    },
    {
     "name": "stdout",
     "output_type": "stream",
     "text": [
      "Adjusting learning rate of group 0 to 1.9950e-05.\n"
     ]
    },
    {
     "name": "stderr",
     "output_type": "stream",
     "text": [
      "loss: 0.264, tv: 0.165, ptv: 0.163, flow: 0.337:  83%|███████████████████████████████████████████████████████████████████████████████████████████████████████████████████████████▉                         | 508/611 [1:39:59<21:06, 12.30s/it]"
     ]
    },
    {
     "name": "stdout",
     "output_type": "stream",
     "text": [
      "Adjusting learning rate of group 0 to 1.9950e-05.\n"
     ]
    },
    {
     "name": "stderr",
     "output_type": "stream",
     "text": [
      "loss: 0.261, tv: 0.166, ptv: 0.165, flow: 0.336:  83%|████████████████████████████████████████████████████████████████████████████████████████████████████████████████████████████▎                        | 510/611 [1:40:24<20:42, 12.30s/it]"
     ]
    },
    {
     "name": "stdout",
     "output_type": "stream",
     "text": [
      "Adjusting learning rate of group 0 to 1.9950e-05.\n"
     ]
    },
    {
     "name": "stderr",
     "output_type": "stream",
     "text": [
      "loss: 0.253, tv: 0.166, ptv: 0.165, flow: 0.361:  84%|████████████████████████████████████████████████████████████████████████████████████████████████████████████████████████████▊                        | 512/611 [1:40:48<20:18, 12.31s/it]"
     ]
    },
    {
     "name": "stdout",
     "output_type": "stream",
     "text": [
      "Adjusting learning rate of group 0 to 1.9950e-05.\n"
     ]
    },
    {
     "name": "stderr",
     "output_type": "stream",
     "text": [
      "loss: 0.242, tv: 0.171, ptv: 0.170, flow: 0.325:  84%|█████████████████████████████████████████████████████████████████████████████████████████████████████████████████████████████▎                       | 514/611 [1:41:13<19:53, 12.30s/it]"
     ]
    },
    {
     "name": "stdout",
     "output_type": "stream",
     "text": [
      "Adjusting learning rate of group 0 to 1.9949e-05.\n"
     ]
    },
    {
     "name": "stderr",
     "output_type": "stream",
     "text": [
      "loss: 0.259, tv: 0.158, ptv: 0.153, flow: 0.368:  84%|█████████████████████████████████████████████████████████████████████████████████████████████████████████████████████████████▊                       | 516/611 [1:41:37<19:28, 12.30s/it]"
     ]
    },
    {
     "name": "stdout",
     "output_type": "stream",
     "text": [
      "Adjusting learning rate of group 0 to 1.9949e-05.\n"
     ]
    },
    {
     "name": "stderr",
     "output_type": "stream",
     "text": [
      "loss: 0.254, tv: 0.168, ptv: 0.166, flow: 0.356:  85%|██████████████████████████████████████████████████████████████████████████████████████████████████████████████████████████████▎                      | 518/611 [1:42:02<19:03, 12.30s/it]"
     ]
    },
    {
     "name": "stdout",
     "output_type": "stream",
     "text": [
      "Adjusting learning rate of group 0 to 1.9949e-05.\n"
     ]
    },
    {
     "name": "stderr",
     "output_type": "stream",
     "text": [
      "loss: 0.257, tv: 0.159, ptv: 0.157, flow: 0.376:  85%|██████████████████████████████████████████████████████████████████████████████████████████████████████████████████████████████▊                      | 520/611 [1:42:27<17:56, 11.83s/it]"
     ]
    },
    {
     "name": "stdout",
     "output_type": "stream",
     "text": [
      "Adjusting learning rate of group 0 to 1.9948e-05.\n"
     ]
    },
    {
     "name": "stderr",
     "output_type": "stream",
     "text": [
      "loss: 0.234, tv: 0.177, ptv: 0.175, flow: 0.332:  85%|███████████████████████████████████████████████████████████████████████████████████████████████████████████████████████████████▎                     | 522/611 [1:42:51<17:55, 12.09s/it]"
     ]
    },
    {
     "name": "stdout",
     "output_type": "stream",
     "text": [
      "Adjusting learning rate of group 0 to 1.9948e-05.\n"
     ]
    },
    {
     "name": "stderr",
     "output_type": "stream",
     "text": [
      "loss: 0.247, tv: 0.166, ptv: 0.162, flow: 0.341:  86%|███████████████████████████████████████████████████████████████████████████████████████████████████████████████████████████████▊                     | 524/611 [1:43:16<17:41, 12.20s/it]"
     ]
    },
    {
     "name": "stdout",
     "output_type": "stream",
     "text": [
      "Adjusting learning rate of group 0 to 1.9948e-05.\n"
     ]
    },
    {
     "name": "stderr",
     "output_type": "stream",
     "text": [
      "loss: 0.257, tv: 0.166, ptv: 0.164, flow: 0.356:  86%|████████████████████████████████████████████████████████████████████████████████████████████████████████████████████████████████▎                    | 526/611 [1:43:40<17:21, 12.25s/it]"
     ]
    },
    {
     "name": "stdout",
     "output_type": "stream",
     "text": [
      "Adjusting learning rate of group 0 to 1.9947e-05.\n"
     ]
    },
    {
     "name": "stderr",
     "output_type": "stream",
     "text": [
      "loss: 0.244, tv: 0.170, ptv: 0.168, flow: 0.330:  86%|████████████████████████████████████████████████████████████████████████████████████████████████████████████████████████████████▊                    | 528/611 [1:44:05<16:58, 12.28s/it]"
     ]
    },
    {
     "name": "stdout",
     "output_type": "stream",
     "text": [
      "Adjusting learning rate of group 0 to 1.9947e-05.\n"
     ]
    },
    {
     "name": "stderr",
     "output_type": "stream",
     "text": [
      "loss: 0.240, tv: 0.167, ptv: 0.167, flow: 0.350:  87%|█████████████████████████████████████████████████████████████████████████████████████████████████████████████████████████████████▏                   | 530/611 [1:44:29<15:39, 11.60s/it]"
     ]
    },
    {
     "name": "stdout",
     "output_type": "stream",
     "text": [
      "Adjusting learning rate of group 0 to 1.9947e-05.\n"
     ]
    },
    {
     "name": "stderr",
     "output_type": "stream",
     "text": [
      "loss: 0.249, tv: 0.169, ptv: 0.167, flow: 0.360:  87%|█████████████████████████████████████████████████████████████████████████████████████████████████████████████████████████████████▋                   | 532/611 [1:44:54<15:45, 11.96s/it]"
     ]
    },
    {
     "name": "stdout",
     "output_type": "stream",
     "text": [
      "Adjusting learning rate of group 0 to 1.9946e-05.\n"
     ]
    },
    {
     "name": "stderr",
     "output_type": "stream",
     "text": [
      "loss: 0.257, tv: 0.164, ptv: 0.160, flow: 0.339:  87%|██████████████████████████████████████████████████████████████████████████████████████████████████████████████████████████████████▏                  | 534/611 [1:45:19<15:34, 12.14s/it]"
     ]
    },
    {
     "name": "stdout",
     "output_type": "stream",
     "text": [
      "Adjusting learning rate of group 0 to 1.9946e-05.\n"
     ]
    },
    {
     "name": "stderr",
     "output_type": "stream",
     "text": [
      "loss: 0.258, tv: 0.165, ptv: 0.164, flow: 0.353:  88%|██████████████████████████████████████████████████████████████████████████████████████████████████████████████████████████████████▋                  | 536/611 [1:45:43<15:16, 12.22s/it]"
     ]
    },
    {
     "name": "stdout",
     "output_type": "stream",
     "text": [
      "Adjusting learning rate of group 0 to 1.9946e-05.\n"
     ]
    },
    {
     "name": "stderr",
     "output_type": "stream",
     "text": [
      "loss: 0.240, tv: 0.172, ptv: 0.173, flow: 0.343:  88%|███████████████████████████████████████████████████████████████████████████████████████████████████████████████████████████████████▏                 | 538/611 [1:46:08<13:47, 11.33s/it]"
     ]
    },
    {
     "name": "stdout",
     "output_type": "stream",
     "text": [
      "Adjusting learning rate of group 0 to 1.9945e-05.\n"
     ]
    },
    {
     "name": "stderr",
     "output_type": "stream",
     "text": [
      "loss: 0.250, tv: 0.169, ptv: 0.169, flow: 0.333:  88%|███████████████████████████████████████████████████████████████████████████████████████████████████████████████████████████████████▋                 | 540/611 [1:46:32<13:59, 11.82s/it]"
     ]
    },
    {
     "name": "stdout",
     "output_type": "stream",
     "text": [
      "Adjusting learning rate of group 0 to 1.9945e-05.\n"
     ]
    },
    {
     "name": "stderr",
     "output_type": "stream",
     "text": [
      "loss: 0.247, tv: 0.163, ptv: 0.160, flow: 0.361:  89%|████████████████████████████████████████████████████████████████████████████████████████████████████████████████████████████████████▏                | 542/611 [1:46:57<13:53, 12.07s/it]"
     ]
    },
    {
     "name": "stdout",
     "output_type": "stream",
     "text": [
      "Adjusting learning rate of group 0 to 1.9945e-05.\n"
     ]
    },
    {
     "name": "stderr",
     "output_type": "stream",
     "text": [
      "loss: 0.271, tv: 0.160, ptv: 0.155, flow: 0.361:  89%|████████████████████████████████████████████████████████████████████████████████████████████████████████████████████████████████████▋                | 544/611 [1:47:21<13:36, 12.19s/it]"
     ]
    },
    {
     "name": "stdout",
     "output_type": "stream",
     "text": [
      "Adjusting learning rate of group 0 to 1.9944e-05.\n"
     ]
    },
    {
     "name": "stderr",
     "output_type": "stream",
     "text": [
      "loss: 0.260, tv: 0.167, ptv: 0.163, flow: 0.369:  89%|█████████████████████████████████████████████████████████████████████████████████████████████████████████████████████████████████████▏               | 546/611 [1:47:46<13:16, 12.25s/it]"
     ]
    },
    {
     "name": "stdout",
     "output_type": "stream",
     "text": [
      "Adjusting learning rate of group 0 to 1.9944e-05.\n"
     ]
    },
    {
     "name": "stderr",
     "output_type": "stream",
     "text": [
      "loss: 0.253, tv: 0.165, ptv: 0.164, flow: 0.369:  90%|█████████████████████████████████████████████████████████████████████████████████████████████████████████████████████████████████████▋               | 548/611 [1:48:11<12:52, 12.27s/it]"
     ]
    },
    {
     "name": "stdout",
     "output_type": "stream",
     "text": [
      "Adjusting learning rate of group 0 to 1.9944e-05.\n"
     ]
    },
    {
     "name": "stderr",
     "output_type": "stream",
     "text": [
      "loss: 0.254, tv: 0.158, ptv: 0.154, flow: 0.361:  90%|██████████████████████████████████████████████████████████████████████████████████████████████████████████████████████████████████████               | 550/611 [1:48:35<12:29, 12.28s/it]"
     ]
    },
    {
     "name": "stdout",
     "output_type": "stream",
     "text": [
      "Adjusting learning rate of group 0 to 1.9943e-05.\n"
     ]
    },
    {
     "name": "stderr",
     "output_type": "stream",
     "text": [
      "loss: 0.252, tv: 0.167, ptv: 0.167, flow: 0.349:  90%|██████████████████████████████████████████████████████████████████████████████████████████████████████████████████████████████████████▌              | 552/611 [1:49:00<12:06, 12.31s/it]"
     ]
    },
    {
     "name": "stdout",
     "output_type": "stream",
     "text": [
      "Adjusting learning rate of group 0 to 1.9943e-05.\n"
     ]
    },
    {
     "name": "stderr",
     "output_type": "stream",
     "text": [
      "loss: 0.255, tv: 0.164, ptv: 0.162, flow: 0.345:  91%|███████████████████████████████████████████████████████████████████████████████████████████████████████████████████████████████████████              | 554/611 [1:49:24<11:27, 12.07s/it]"
     ]
    },
    {
     "name": "stdout",
     "output_type": "stream",
     "text": [
      "Adjusting learning rate of group 0 to 1.9943e-05.\n"
     ]
    },
    {
     "name": "stderr",
     "output_type": "stream",
     "text": [
      "loss: 0.244, tv: 0.163, ptv: 0.163, flow: 0.356:  91%|███████████████████████████████████████████████████████████████████████████████████████████████████████████████████████████████████████▊             | 557/611 [1:49:49<09:49, 10.92s/it]"
     ]
    },
    {
     "name": "stdout",
     "output_type": "stream",
     "text": [
      "Adjusting learning rate of group 0 to 1.9942e-05.\n"
     ]
    },
    {
     "name": "stderr",
     "output_type": "stream",
     "text": [
      "loss: 0.236, tv: 0.170, ptv: 0.169, flow: 0.346:  91%|████████████████████████████████████████████████████████████████████████████████████████████████████████████████████████████████████████▎            | 559/611 [1:50:14<10:04, 11.63s/it]"
     ]
    },
    {
     "name": "stdout",
     "output_type": "stream",
     "text": [
      "Adjusting learning rate of group 0 to 1.9942e-05.\n"
     ]
    },
    {
     "name": "stderr",
     "output_type": "stream",
     "text": [
      "loss: 0.245, tv: 0.163, ptv: 0.162, flow: 0.361:  92%|████████████████████████████████████████████████████████████████████████████████████████████████████████████████████████████████████████▊            | 561/611 [1:50:39<09:58, 11.97s/it]"
     ]
    },
    {
     "name": "stdout",
     "output_type": "stream",
     "text": [
      "Adjusting learning rate of group 0 to 1.9942e-05.\n"
     ]
    },
    {
     "name": "stderr",
     "output_type": "stream",
     "text": [
      "loss: 0.249, tv: 0.164, ptv: 0.161, flow: 0.340:  92%|█████████████████████████████████████████████████████████████████████████████████████████████████████████████████████████████████████████▎           | 563/611 [1:51:03<09:42, 12.14s/it]"
     ]
    },
    {
     "name": "stdout",
     "output_type": "stream",
     "text": [
      "Adjusting learning rate of group 0 to 1.9941e-05.\n"
     ]
    },
    {
     "name": "stderr",
     "output_type": "stream",
     "text": [
      "loss: 0.257, tv: 0.160, ptv: 0.156, flow: 0.370:  92%|█████████████████████████████████████████████████████████████████████████████████████████████████████████████████████████████████████████▊           | 565/611 [1:51:28<09:22, 12.22s/it]"
     ]
    },
    {
     "name": "stdout",
     "output_type": "stream",
     "text": [
      "Adjusting learning rate of group 0 to 1.9941e-05.\n"
     ]
    },
    {
     "name": "stderr",
     "output_type": "stream",
     "text": [
      "loss: 0.250, tv: 0.166, ptv: 0.166, flow: 0.345:  93%|██████████████████████████████████████████████████████████████████████████████████████████████████████████████████████████████████████████▎          | 567/611 [1:51:52<08:28, 11.56s/it]"
     ]
    },
    {
     "name": "stdout",
     "output_type": "stream",
     "text": [
      "Adjusting learning rate of group 0 to 1.9941e-05.\n"
     ]
    },
    {
     "name": "stderr",
     "output_type": "stream",
     "text": [
      "loss: 0.241, tv: 0.161, ptv: 0.161, flow: 0.359:  93%|██████████████████████████████████████████████████████████████████████████████████████████████████████████████████████████████████████████▊          | 569/611 [1:52:17<08:21, 11.94s/it]"
     ]
    },
    {
     "name": "stdout",
     "output_type": "stream",
     "text": [
      "Adjusting learning rate of group 0 to 1.9940e-05.\n"
     ]
    },
    {
     "name": "stderr",
     "output_type": "stream",
     "text": [
      "loss: 0.274, tv: 0.154, ptv: 0.153, flow: 0.390:  93%|███████████████████████████████████████████████████████████████████████████████████████████████████████████████████████████████████████████▏         | 571/611 [1:52:41<08:04, 12.12s/it]"
     ]
    },
    {
     "name": "stdout",
     "output_type": "stream",
     "text": [
      "Adjusting learning rate of group 0 to 1.9940e-05.\n"
     ]
    },
    {
     "name": "stderr",
     "output_type": "stream",
     "text": [
      "loss: 0.253, tv: 0.164, ptv: 0.163, flow: 0.334:  94%|███████████████████████████████████████████████████████████████████████████████████████████████████████████████████████████████████████████▋         | 573/611 [1:53:06<07:44, 12.22s/it]"
     ]
    },
    {
     "name": "stdout",
     "output_type": "stream",
     "text": [
      "Adjusting learning rate of group 0 to 1.9940e-05.\n"
     ]
    },
    {
     "name": "stderr",
     "output_type": "stream",
     "text": [
      "loss: 0.256, tv: 0.167, ptv: 0.167, flow: 0.349:  94%|████████████████████████████████████████████████████████████████████████████████████████████████████████████████████████████████████████████▏        | 575/611 [1:53:31<07:21, 12.26s/it]"
     ]
    },
    {
     "name": "stdout",
     "output_type": "stream",
     "text": [
      "Adjusting learning rate of group 0 to 1.9939e-05.\n"
     ]
    },
    {
     "name": "stderr",
     "output_type": "stream",
     "text": [
      "loss: 0.255, tv: 0.168, ptv: 0.165, flow: 0.344:  94%|████████████████████████████████████████████████████████████████████████████████████████████████████████████████████████████████████████████▋        | 577/611 [1:53:55<06:57, 12.28s/it]"
     ]
    },
    {
     "name": "stdout",
     "output_type": "stream",
     "text": [
      "Adjusting learning rate of group 0 to 1.9939e-05.\n"
     ]
    },
    {
     "name": "stderr",
     "output_type": "stream",
     "text": [
      "loss: 0.255, tv: 0.164, ptv: 0.162, flow: 0.344:  95%|█████████████████████████████████████████████████████████████████████████████████████████████████████████████████████████████████████████████▏       | 579/611 [1:54:20<06:33, 12.30s/it]"
     ]
    },
    {
     "name": "stdout",
     "output_type": "stream",
     "text": [
      "Adjusting learning rate of group 0 to 1.9939e-05.\n"
     ]
    },
    {
     "name": "stderr",
     "output_type": "stream",
     "text": [
      "loss: 0.258, tv: 0.166, ptv: 0.164, flow: 0.326:  95%|█████████████████████████████████████████████████████████████████████████████████████████████████████████████████████████████████████████████▋       | 581/611 [1:54:44<05:49, 11.65s/it]"
     ]
    },
    {
     "name": "stdout",
     "output_type": "stream",
     "text": [
      "Adjusting learning rate of group 0 to 1.9938e-05.\n"
     ]
    },
    {
     "name": "stderr",
     "output_type": "stream",
     "text": [
      "loss: 0.258, tv: 0.165, ptv: 0.166, flow: 0.342:  95%|██████████████████████████████████████████████████████████████████████████████████████████████████████████████████████████████████████████████▏      | 583/611 [1:55:09<05:35, 11.99s/it]"
     ]
    },
    {
     "name": "stdout",
     "output_type": "stream",
     "text": [
      "Adjusting learning rate of group 0 to 1.9938e-05.\n"
     ]
    },
    {
     "name": "stderr",
     "output_type": "stream",
     "text": [
      "loss: 0.266, tv: 0.162, ptv: 0.159, flow: 0.347:  96%|██████████████████████████████████████████████████████████████████████████████████████████████████████████████████████████████████████████████▋      | 585/611 [1:55:33<05:15, 12.15s/it]"
     ]
    },
    {
     "name": "stdout",
     "output_type": "stream",
     "text": [
      "Adjusting learning rate of group 0 to 1.9938e-05.\n"
     ]
    },
    {
     "name": "stderr",
     "output_type": "stream",
     "text": [
      "loss: 0.266, tv: 0.159, ptv: 0.154, flow: 0.371:  96%|███████████████████████████████████████████████████████████████████████████████████████████████████████████████████████████████████████████████▏     | 587/611 [1:55:58<04:53, 12.23s/it]"
     ]
    },
    {
     "name": "stdout",
     "output_type": "stream",
     "text": [
      "Adjusting learning rate of group 0 to 1.9937e-05.\n"
     ]
    },
    {
     "name": "stderr",
     "output_type": "stream",
     "text": [
      "loss: 0.261, tv: 0.165, ptv: 0.165, flow: 0.342:  96%|███████████████████████████████████████████████████████████████████████████████████████████████████████████████████████████████████████████████▋     | 589/611 [1:56:23<04:29, 12.27s/it]"
     ]
    },
    {
     "name": "stdout",
     "output_type": "stream",
     "text": [
      "Adjusting learning rate of group 0 to 1.9937e-05.\n"
     ]
    },
    {
     "name": "stderr",
     "output_type": "stream",
     "text": [
      "loss: 0.267, tv: 0.158, ptv: 0.155, flow: 0.369:  97%|████████████████████████████████████████████████████████████████████████████████████████████████████████████████████████████████████████████████     | 591/611 [1:56:47<04:05, 12.29s/it]"
     ]
    },
    {
     "name": "stdout",
     "output_type": "stream",
     "text": [
      "Adjusting learning rate of group 0 to 1.9936e-05.\n"
     ]
    },
    {
     "name": "stderr",
     "output_type": "stream",
     "text": [
      "loss: 0.270, tv: 0.152, ptv: 0.150, flow: 0.357:  97%|████████████████████████████████████████████████████████████████████████████████████████████████████████████████████████████████████████████████▌    | 593/611 [1:57:12<03:41, 12.31s/it]"
     ]
    },
    {
     "name": "stdout",
     "output_type": "stream",
     "text": [
      "Adjusting learning rate of group 0 to 1.9936e-05.\n"
     ]
    },
    {
     "name": "stderr",
     "output_type": "stream",
     "text": [
      "loss: 0.254, tv: 0.166, ptv: 0.165, flow: 0.351:  97%|█████████████████████████████████████████████████████████████████████████████████████████████████████████████████████████████████████████████████    | 595/611 [1:57:36<03:16, 12.31s/it]"
     ]
    },
    {
     "name": "stdout",
     "output_type": "stream",
     "text": [
      "Adjusting learning rate of group 0 to 1.9936e-05.\n"
     ]
    },
    {
     "name": "stderr",
     "output_type": "stream",
     "text": [
      "loss: 0.249, tv: 0.167, ptv: 0.166, flow: 0.336:  98%|█████████████████████████████████████████████████████████████████████████████████████████████████████████████████████████████████████████████████▌   | 597/611 [1:58:01<02:43, 11.65s/it]"
     ]
    },
    {
     "name": "stdout",
     "output_type": "stream",
     "text": [
      "Adjusting learning rate of group 0 to 1.9935e-05.\n"
     ]
    },
    {
     "name": "stderr",
     "output_type": "stream",
     "text": [
      "loss: 0.257, tv: 0.166, ptv: 0.163, flow: 0.369:  98%|██████████████████████████████████████████████████████████████████████████████████████████████████████████████████████████████████████████████████   | 599/611 [1:58:26<02:23, 11.98s/it]"
     ]
    },
    {
     "name": "stdout",
     "output_type": "stream",
     "text": [
      "Adjusting learning rate of group 0 to 1.9935e-05.\n"
     ]
    },
    {
     "name": "stderr",
     "output_type": "stream",
     "text": [
      "loss: 0.264, tv: 0.161, ptv: 0.159, flow: 0.346:  99%|██████████████████████████████████████████████████████████████████████████████████████████████████████████████████████████████████████████████████▊  | 602/611 [1:58:50<01:30, 10.10s/it]"
     ]
    },
    {
     "name": "stdout",
     "output_type": "stream",
     "text": [
      "Adjusting learning rate of group 0 to 1.9935e-05.\n"
     ]
    },
    {
     "name": "stderr",
     "output_type": "stream",
     "text": [
      "loss: 0.264, tv: 0.160, ptv: 0.158, flow: 0.363:  99%|███████████████████████████████████████████████████████████████████████████████████████████████████████████████████████████████████████████████████▎ | 604/611 [1:59:15<01:18, 11.22s/it]"
     ]
    },
    {
     "name": "stdout",
     "output_type": "stream",
     "text": [
      "Adjusting learning rate of group 0 to 1.9934e-05.\n"
     ]
    },
    {
     "name": "stderr",
     "output_type": "stream",
     "text": [
      "loss: 0.262, tv: 0.161, ptv: 0.159, flow: 0.376:  99%|███████████████████████████████████████████████████████████████████████████████████████████████████████████████████████████████████████████████████▊ | 606/611 [1:59:40<00:58, 11.77s/it]"
     ]
    },
    {
     "name": "stdout",
     "output_type": "stream",
     "text": [
      "Adjusting learning rate of group 0 to 1.9934e-05.\n"
     ]
    },
    {
     "name": "stderr",
     "output_type": "stream",
     "text": [
      "loss: 0.259, tv: 0.162, ptv: 0.162, flow: 0.350: 100%|████████████████████████████████████████████████████████████████████████████████████████████████████████████████████████████████████████████████████▎| 608/611 [2:00:04<00:36, 12.04s/it]"
     ]
    },
    {
     "name": "stdout",
     "output_type": "stream",
     "text": [
      "Adjusting learning rate of group 0 to 1.9934e-05.\n"
     ]
    },
    {
     "name": "stderr",
     "output_type": "stream",
     "text": [
      "loss: 0.243, tv: 0.162, ptv: 0.160, flow: 0.329: 100%|████████████████████████████████████████████████████████████████████████████████████████████████████████████████████████████████████████████████████▊| 610/611 [2:00:29<00:12, 12.17s/it]"
     ]
    },
    {
     "name": "stdout",
     "output_type": "stream",
     "text": [
      "Adjusting learning rate of group 0 to 1.9933e-05.\n"
     ]
    },
    {
     "name": "stderr",
     "output_type": "stream",
     "text": [
      "loss: 0.255, tv: 0.165, ptv: 0.163, flow: 0.336: : 612it [2:00:54, 12.25s/it]                                                                                                                                                                  "
     ]
    },
    {
     "name": "stdout",
     "output_type": "stream",
     "text": [
      "Adjusting learning rate of group 0 to 1.9933e-05.\n"
     ]
    },
    {
     "name": "stderr",
     "output_type": "stream",
     "text": [
      "loss: 0.250, tv: 0.168, ptv: 0.167, flow: 0.339: : 614it [2:01:18, 12.28s/it]"
     ]
    },
    {
     "name": "stdout",
     "output_type": "stream",
     "text": [
      "Adjusting learning rate of group 0 to 1.9933e-05.\n"
     ]
    },
    {
     "name": "stderr",
     "output_type": "stream",
     "text": [
      "loss: 0.249, tv: 0.162, ptv: 0.159, flow: 0.355: : 616it [2:01:43, 12.29s/it]"
     ]
    },
    {
     "name": "stdout",
     "output_type": "stream",
     "text": [
      "Adjusting learning rate of group 0 to 1.9932e-05.\n"
     ]
    },
    {
     "name": "stderr",
     "output_type": "stream",
     "text": [
      "loss: 0.256, tv: 0.166, ptv: 0.164, flow: 0.361: : 618it [2:02:07, 11.59s/it]"
     ]
    },
    {
     "name": "stdout",
     "output_type": "stream",
     "text": [
      "Adjusting learning rate of group 0 to 1.9932e-05.\n"
     ]
    },
    {
     "name": "stderr",
     "output_type": "stream",
     "text": [
      "loss: 0.257, tv: 0.166, ptv: 0.165, flow: 0.376: : 620it [2:02:32, 11.74s/it]"
     ]
    },
    {
     "name": "stdout",
     "output_type": "stream",
     "text": [
      "Adjusting learning rate of group 0 to 1.9931e-05.\n"
     ]
    },
    {
     "name": "stderr",
     "output_type": "stream",
     "text": [
      "loss: 0.252, tv: 0.165, ptv: 0.163, flow: 0.346: : 622it [2:02:56, 12.03s/it]"
     ]
    },
    {
     "name": "stdout",
     "output_type": "stream",
     "text": [
      "Adjusting learning rate of group 0 to 1.9931e-05.\n"
     ]
    },
    {
     "name": "stderr",
     "output_type": "stream",
     "text": [
      "loss: 0.245, tv: 0.163, ptv: 0.164, flow: 0.361: : 624it [2:03:21, 12.17s/it]"
     ]
    },
    {
     "name": "stdout",
     "output_type": "stream",
     "text": [
      "Adjusting learning rate of group 0 to 1.9931e-05.\n"
     ]
    },
    {
     "name": "stderr",
     "output_type": "stream",
     "text": [
      "loss: 0.249, tv: 0.167, ptv: 0.166, flow: 0.360: : 626it [2:03:46, 12.23s/it]"
     ]
    },
    {
     "name": "stdout",
     "output_type": "stream",
     "text": [
      "Adjusting learning rate of group 0 to 1.9930e-05.\n"
     ]
    },
    {
     "name": "stderr",
     "output_type": "stream",
     "text": [
      "loss: 0.246, tv: 0.167, ptv: 0.164, flow: 0.365: : 628it [2:04:10, 12.27s/it]"
     ]
    },
    {
     "name": "stdout",
     "output_type": "stream",
     "text": [
      "Adjusting learning rate of group 0 to 1.9930e-05.\n"
     ]
    },
    {
     "name": "stderr",
     "output_type": "stream",
     "text": [
      "loss: 0.243, tv: 0.167, ptv: 0.166, flow: 0.370: : 630it [2:04:35, 12.28s/it]"
     ]
    },
    {
     "name": "stdout",
     "output_type": "stream",
     "text": [
      "Adjusting learning rate of group 0 to 1.9930e-05.\n"
     ]
    },
    {
     "name": "stderr",
     "output_type": "stream",
     "text": [
      "loss: 0.263, tv: 0.162, ptv: 0.159, flow: 0.377: : 632it [2:04:59, 12.13s/it]"
     ]
    },
    {
     "name": "stdout",
     "output_type": "stream",
     "text": [
      "Adjusting learning rate of group 0 to 1.9929e-05.\n"
     ]
    },
    {
     "name": "stderr",
     "output_type": "stream",
     "text": [
      "loss: 0.260, tv: 0.161, ptv: 0.159, flow: 0.369: : 634it [2:05:24, 12.21s/it]"
     ]
    },
    {
     "name": "stdout",
     "output_type": "stream",
     "text": [
      "Adjusting learning rate of group 0 to 1.9929e-05.\n"
     ]
    },
    {
     "name": "stderr",
     "output_type": "stream",
     "text": [
      "loss: 0.261, tv: 0.161, ptv: 0.159, flow: 0.352: : 636it [2:05:49, 12.26s/it]"
     ]
    },
    {
     "name": "stdout",
     "output_type": "stream",
     "text": [
      "Adjusting learning rate of group 0 to 1.9928e-05.\n"
     ]
    },
    {
     "name": "stderr",
     "output_type": "stream",
     "text": [
      "loss: 0.259, tv: 0.165, ptv: 0.164, flow: 0.352: : 638it [2:06:13, 12.32s/it]"
     ]
    },
    {
     "name": "stdout",
     "output_type": "stream",
     "text": [
      "Adjusting learning rate of group 0 to 1.9928e-05.\n"
     ]
    },
    {
     "name": "stderr",
     "output_type": "stream",
     "text": [
      "loss: 0.254, tv: 0.165, ptv: 0.161, flow: 0.343: : 640it [2:06:38, 12.31s/it]"
     ]
    },
    {
     "name": "stdout",
     "output_type": "stream",
     "text": [
      "Adjusting learning rate of group 0 to 1.9928e-05.\n"
     ]
    },
    {
     "name": "stderr",
     "output_type": "stream",
     "text": [
      "loss: 0.252, tv: 0.163, ptv: 0.162, flow: 0.384: : 642it [2:07:03, 12.32s/it]"
     ]
    },
    {
     "name": "stdout",
     "output_type": "stream",
     "text": [
      "Adjusting learning rate of group 0 to 1.9927e-05.\n"
     ]
    },
    {
     "name": "stderr",
     "output_type": "stream",
     "text": [
      "loss: 0.238, tv: 0.164, ptv: 0.159, flow: 0.358: : 644it [2:07:27, 12.15s/it]"
     ]
    },
    {
     "name": "stdout",
     "output_type": "stream",
     "text": [
      "Adjusting learning rate of group 0 to 1.9927e-05.\n"
     ]
    },
    {
     "name": "stderr",
     "output_type": "stream",
     "text": [
      "loss: 0.247, tv: 0.170, ptv: 0.170, flow: 0.338: : 647it [2:07:52, 11.94s/it]"
     ]
    },
    {
     "name": "stdout",
     "output_type": "stream",
     "text": [
      "Adjusting learning rate of group 0 to 1.9927e-05.\n"
     ]
    },
    {
     "name": "stderr",
     "output_type": "stream",
     "text": [
      "loss: 0.244, tv: 0.168, ptv: 0.165, flow: 0.340: : 649it [2:08:16, 12.13s/it]"
     ]
    },
    {
     "name": "stdout",
     "output_type": "stream",
     "text": [
      "Adjusting learning rate of group 0 to 1.9926e-05.\n"
     ]
    },
    {
     "name": "stderr",
     "output_type": "stream",
     "text": [
      "loss: 0.256, tv: 0.158, ptv: 0.155, flow: 0.355: : 651it [2:08:41, 12.22s/it]"
     ]
    },
    {
     "name": "stdout",
     "output_type": "stream",
     "text": [
      "Adjusting learning rate of group 0 to 1.9926e-05.\n"
     ]
    },
    {
     "name": "stderr",
     "output_type": "stream",
     "text": [
      "loss: 0.271, tv: 0.159, ptv: 0.157, flow: 0.368: : 653it [2:09:06, 12.28s/it]"
     ]
    },
    {
     "name": "stdout",
     "output_type": "stream",
     "text": [
      "Adjusting learning rate of group 0 to 1.9925e-05.\n"
     ]
    },
    {
     "name": "stderr",
     "output_type": "stream",
     "text": [
      "loss: 0.253, tv: 0.164, ptv: 0.164, flow: 0.373: : 655it [2:09:31, 11.64s/it]"
     ]
    },
    {
     "name": "stdout",
     "output_type": "stream",
     "text": [
      "Adjusting learning rate of group 0 to 1.9925e-05.\n"
     ]
    },
    {
     "name": "stderr",
     "output_type": "stream",
     "text": [
      "loss: 0.248, tv: 0.162, ptv: 0.163, flow: 0.338: : 657it [2:09:55, 11.99s/it]"
     ]
    },
    {
     "name": "stdout",
     "output_type": "stream",
     "text": [
      "Adjusting learning rate of group 0 to 1.9925e-05.\n"
     ]
    },
    {
     "name": "stderr",
     "output_type": "stream",
     "text": [
      "loss: 0.258, tv: 0.162, ptv: 0.160, flow: 0.372: : 659it [2:10:20, 12.15s/it]"
     ]
    },
    {
     "name": "stdout",
     "output_type": "stream",
     "text": [
      "Adjusting learning rate of group 0 to 1.9924e-05.\n"
     ]
    },
    {
     "name": "stderr",
     "output_type": "stream",
     "text": [
      "loss: 0.239, tv: 0.169, ptv: 0.168, flow: 0.336: : 661it [2:10:45, 12.24s/it]"
     ]
    },
    {
     "name": "stdout",
     "output_type": "stream",
     "text": [
      "Adjusting learning rate of group 0 to 1.9924e-05.\n"
     ]
    },
    {
     "name": "stderr",
     "output_type": "stream",
     "text": [
      "loss: 0.261, tv: 0.159, ptv: 0.158, flow: 0.352: : 663it [2:11:09, 12.28s/it]"
     ]
    },
    {
     "name": "stdout",
     "output_type": "stream",
     "text": [
      "Adjusting learning rate of group 0 to 1.9923e-05.\n"
     ]
    },
    {
     "name": "stderr",
     "output_type": "stream",
     "text": [
      "loss: 0.241, tv: 0.173, ptv: 0.172, flow: 0.338: : 665it [2:11:34, 12.30s/it]"
     ]
    },
    {
     "name": "stdout",
     "output_type": "stream",
     "text": [
      "Adjusting learning rate of group 0 to 1.9923e-05.\n"
     ]
    },
    {
     "name": "stderr",
     "output_type": "stream",
     "text": [
      "loss: 0.259, tv: 0.165, ptv: 0.166, flow: 0.329: : 667it [2:11:59, 12.31s/it]"
     ]
    },
    {
     "name": "stdout",
     "output_type": "stream",
     "text": [
      "Adjusting learning rate of group 0 to 1.9923e-05.\n"
     ]
    },
    {
     "name": "stderr",
     "output_type": "stream",
     "text": [
      "loss: 0.254, tv: 0.167, ptv: 0.167, flow: 0.357: : 669it [2:12:23, 12.16s/it]"
     ]
    },
    {
     "name": "stdout",
     "output_type": "stream",
     "text": [
      "Adjusting learning rate of group 0 to 1.9922e-05.\n"
     ]
    },
    {
     "name": "stderr",
     "output_type": "stream",
     "text": [
      "loss: 0.261, tv: 0.160, ptv: 0.159, flow: 0.362: : 671it [2:12:48, 12.23s/it]"
     ]
    },
    {
     "name": "stdout",
     "output_type": "stream",
     "text": [
      "Adjusting learning rate of group 0 to 1.9922e-05.\n"
     ]
    },
    {
     "name": "stderr",
     "output_type": "stream",
     "text": [
      "loss: 0.244, tv: 0.173, ptv: 0.171, flow: 0.339: : 673it [2:13:12, 12.27s/it]"
     ]
    },
    {
     "name": "stdout",
     "output_type": "stream",
     "text": [
      "Adjusting learning rate of group 0 to 1.9922e-05.\n"
     ]
    },
    {
     "name": "stderr",
     "output_type": "stream",
     "text": [
      "loss: 0.257, tv: 0.165, ptv: 0.163, flow: 0.374: : 675it [2:13:37, 12.30s/it]"
     ]
    },
    {
     "name": "stdout",
     "output_type": "stream",
     "text": [
      "Adjusting learning rate of group 0 to 1.9921e-05.\n"
     ]
    },
    {
     "name": "stderr",
     "output_type": "stream",
     "text": [
      "loss: 0.262, tv: 0.161, ptv: 0.158, flow: 0.361: : 677it [2:14:02, 12.30s/it]"
     ]
    },
    {
     "name": "stdout",
     "output_type": "stream",
     "text": [
      "Adjusting learning rate of group 0 to 1.9921e-05.\n"
     ]
    },
    {
     "name": "stderr",
     "output_type": "stream",
     "text": [
      "loss: 0.254, tv: 0.168, ptv: 0.168, flow: 0.360: : 679it [2:14:26, 12.30s/it]"
     ]
    },
    {
     "name": "stdout",
     "output_type": "stream",
     "text": [
      "Adjusting learning rate of group 0 to 1.9920e-05.\n"
     ]
    },
    {
     "name": "stderr",
     "output_type": "stream",
     "text": [
      "loss: 0.253, tv: 0.165, ptv: 0.161, flow: 0.366: : 681it [2:14:51, 12.31s/it]"
     ]
    },
    {
     "name": "stdout",
     "output_type": "stream",
     "text": [
      "Adjusting learning rate of group 0 to 1.9920e-05.\n"
     ]
    },
    {
     "name": "stderr",
     "output_type": "stream",
     "text": [
      "loss: 0.257, tv: 0.160, ptv: 0.155, flow: 0.355: : 683it [2:15:16, 12.31s/it]"
     ]
    },
    {
     "name": "stdout",
     "output_type": "stream",
     "text": [
      "Adjusting learning rate of group 0 to 1.9920e-05.\n"
     ]
    },
    {
     "name": "stderr",
     "output_type": "stream",
     "text": [
      "loss: 0.248, tv: 0.170, ptv: 0.170, flow: 0.357: : 685it [2:15:40, 12.09s/it]"
     ]
    },
    {
     "name": "stdout",
     "output_type": "stream",
     "text": [
      "Adjusting learning rate of group 0 to 1.9919e-05.\n"
     ]
    },
    {
     "name": "stderr",
     "output_type": "stream",
     "text": [
      "loss: 0.255, tv: 0.166, ptv: 0.164, flow: 0.365: : 687it [2:16:05, 12.20s/it]"
     ]
    },
    {
     "name": "stdout",
     "output_type": "stream",
     "text": [
      "Adjusting learning rate of group 0 to 1.9919e-05.\n"
     ]
    },
    {
     "name": "stderr",
     "output_type": "stream",
     "text": [
      "loss: 0.250, tv: 0.158, ptv: 0.154, flow: 0.356: : 689it [2:16:29, 12.25s/it]"
     ]
    },
    {
     "name": "stdout",
     "output_type": "stream",
     "text": [
      "Adjusting learning rate of group 0 to 1.9918e-05.\n"
     ]
    },
    {
     "name": "stderr",
     "output_type": "stream",
     "text": [
      "loss: 0.252, tv: 0.165, ptv: 0.164, flow: 0.374: : 691it [2:16:54, 12.29s/it]"
     ]
    },
    {
     "name": "stdout",
     "output_type": "stream",
     "text": [
      "Adjusting learning rate of group 0 to 1.9918e-05.\n"
     ]
    },
    {
     "name": "stderr",
     "output_type": "stream",
     "text": [
      "loss: 0.260, tv: 0.163, ptv: 0.162, flow: 0.373: : 693it [2:17:19, 12.30s/it]"
     ]
    },
    {
     "name": "stdout",
     "output_type": "stream",
     "text": [
      "Adjusting learning rate of group 0 to 1.9918e-05.\n"
     ]
    },
    {
     "name": "stderr",
     "output_type": "stream",
     "text": [
      "loss: 0.263, tv: 0.159, ptv: 0.156, flow: 0.357: : 695it [2:17:43, 12.31s/it]"
     ]
    },
    {
     "name": "stdout",
     "output_type": "stream",
     "text": [
      "Adjusting learning rate of group 0 to 1.9917e-05.\n"
     ]
    },
    {
     "name": "stderr",
     "output_type": "stream",
     "text": [
      "loss: 0.243, tv: 0.166, ptv: 0.164, flow: 0.341: : 697it [2:18:08, 12.31s/it]"
     ]
    },
    {
     "name": "stdout",
     "output_type": "stream",
     "text": [
      "Adjusting learning rate of group 0 to 1.9917e-05.\n"
     ]
    },
    {
     "name": "stderr",
     "output_type": "stream",
     "text": [
      "loss: 0.244, tv: 0.173, ptv: 0.172, flow: 0.347: : 699it [2:18:32, 11.17s/it]"
     ]
    },
    {
     "name": "stdout",
     "output_type": "stream",
     "text": [
      "Adjusting learning rate of group 0 to 1.9916e-05.\n"
     ]
    },
    {
     "name": "stderr",
     "output_type": "stream",
     "text": [
      "loss: 0.251, tv: 0.170, ptv: 0.169, flow: 0.351: : 701it [2:18:57, 11.75s/it]"
     ]
    },
    {
     "name": "stdout",
     "output_type": "stream",
     "text": [
      "Adjusting learning rate of group 0 to 1.9916e-05.\n"
     ]
    },
    {
     "name": "stderr",
     "output_type": "stream",
     "text": [
      "loss: 0.255, tv: 0.167, ptv: 0.165, flow: 0.344: : 703it [2:19:21, 12.03s/it]"
     ]
    },
    {
     "name": "stdout",
     "output_type": "stream",
     "text": [
      "Adjusting learning rate of group 0 to 1.9916e-05.\n"
     ]
    },
    {
     "name": "stderr",
     "output_type": "stream",
     "text": [
      "loss: 0.243, tv: 0.173, ptv: 0.170, flow: 0.334: : 706it [2:19:47, 11.13s/it]"
     ]
    },
    {
     "name": "stdout",
     "output_type": "stream",
     "text": [
      "Adjusting learning rate of group 0 to 1.9915e-05.\n"
     ]
    },
    {
     "name": "stderr",
     "output_type": "stream",
     "text": [
      "loss: 0.258, tv: 0.158, ptv: 0.154, flow: 0.369: : 708it [2:20:11, 11.73s/it]"
     ]
    },
    {
     "name": "stdout",
     "output_type": "stream",
     "text": [
      "Adjusting learning rate of group 0 to 1.9915e-05.\n"
     ]
    },
    {
     "name": "stderr",
     "output_type": "stream",
     "text": [
      "loss: 0.250, tv: 0.165, ptv: 0.161, flow: 0.342: : 710it [2:20:36, 12.02s/it]"
     ]
    },
    {
     "name": "stdout",
     "output_type": "stream",
     "text": [
      "Adjusting learning rate of group 0 to 1.9914e-05.\n"
     ]
    },
    {
     "name": "stderr",
     "output_type": "stream",
     "text": [
      "loss: 0.249, tv: 0.164, ptv: 0.162, flow: 0.341: : 712it [2:21:00, 12.17s/it]"
     ]
    },
    {
     "name": "stdout",
     "output_type": "stream",
     "text": [
      "Adjusting learning rate of group 0 to 1.9914e-05.\n"
     ]
    },
    {
     "name": "stderr",
     "output_type": "stream",
     "text": [
      "loss: 0.247, tv: 0.167, ptv: 0.162, flow: 0.362: : 714it [2:21:25, 12.24s/it]"
     ]
    },
    {
     "name": "stdout",
     "output_type": "stream",
     "text": [
      "Adjusting learning rate of group 0 to 1.9913e-05.\n"
     ]
    },
    {
     "name": "stderr",
     "output_type": "stream",
     "text": [
      "loss: 0.245, tv: 0.167, ptv: 0.166, flow: 0.346: : 716it [2:21:49, 11.30s/it]"
     ]
    },
    {
     "name": "stdout",
     "output_type": "stream",
     "text": [
      "Adjusting learning rate of group 0 to 1.9913e-05.\n"
     ]
    },
    {
     "name": "stderr",
     "output_type": "stream",
     "text": [
      "loss: 0.244, tv: 0.165, ptv: 0.162, flow: 0.368: : 718it [2:22:14, 11.81s/it]"
     ]
    },
    {
     "name": "stdout",
     "output_type": "stream",
     "text": [
      "Adjusting learning rate of group 0 to 1.9913e-05.\n"
     ]
    },
    {
     "name": "stderr",
     "output_type": "stream",
     "text": [
      "loss: 0.259, tv: 0.164, ptv: 0.162, flow: 0.348: : 720it [2:22:38, 12.06s/it]"
     ]
    },
    {
     "name": "stdout",
     "output_type": "stream",
     "text": [
      "Adjusting learning rate of group 0 to 1.9912e-05.\n"
     ]
    },
    {
     "name": "stderr",
     "output_type": "stream",
     "text": [
      "loss: 0.251, tv: 0.162, ptv: 0.160, flow: 0.366: : 722it [2:23:03, 11.72s/it]"
     ]
    },
    {
     "name": "stdout",
     "output_type": "stream",
     "text": [
      "Adjusting learning rate of group 0 to 1.9912e-05.\n"
     ]
    },
    {
     "name": "stderr",
     "output_type": "stream",
     "text": [
      "loss: 0.246, tv: 0.165, ptv: 0.164, flow: 0.345: : 724it [2:23:28, 12.02s/it]"
     ]
    },
    {
     "name": "stdout",
     "output_type": "stream",
     "text": [
      "Adjusting learning rate of group 0 to 1.9911e-05.\n"
     ]
    },
    {
     "name": "stderr",
     "output_type": "stream",
     "text": [
      "loss: 0.254, tv: 0.169, ptv: 0.168, flow: 0.328: : 727it [2:23:52, 10.20s/it]"
     ]
    },
    {
     "name": "stdout",
     "output_type": "stream",
     "text": [
      "Adjusting learning rate of group 0 to 1.9911e-05.\n"
     ]
    },
    {
     "name": "stderr",
     "output_type": "stream",
     "text": [
      "loss: 0.251, tv: 0.167, ptv: 0.164, flow: 0.336: : 729it [2:24:17, 10.57s/it]"
     ]
    },
    {
     "name": "stdout",
     "output_type": "stream",
     "text": [
      "Adjusting learning rate of group 0 to 1.9911e-05.\n"
     ]
    },
    {
     "name": "stderr",
     "output_type": "stream",
     "text": [
      "loss: 0.248, tv: 0.163, ptv: 0.163, flow: 0.338: : 731it [2:24:41, 11.46s/it]"
     ]
    },
    {
     "name": "stdout",
     "output_type": "stream",
     "text": [
      "Adjusting learning rate of group 0 to 1.9910e-05.\n"
     ]
    },
    {
     "name": "stderr",
     "output_type": "stream",
     "text": [
      "loss: 0.253, tv: 0.165, ptv: 0.165, flow: 0.365: : 733it [2:25:06, 11.89s/it]"
     ]
    },
    {
     "name": "stdout",
     "output_type": "stream",
     "text": [
      "Adjusting learning rate of group 0 to 1.9910e-05.\n"
     ]
    },
    {
     "name": "stderr",
     "output_type": "stream",
     "text": [
      "loss: 0.260, tv: 0.166, ptv: 0.164, flow: 0.334: : 735it [2:25:31, 12.10s/it]"
     ]
    },
    {
     "name": "stdout",
     "output_type": "stream",
     "text": [
      "Adjusting learning rate of group 0 to 1.9909e-05.\n"
     ]
    },
    {
     "name": "stderr",
     "output_type": "stream",
     "text": [
      "loss: 0.250, tv: 0.169, ptv: 0.168, flow: 0.353: : 737it [2:25:55, 12.21s/it]"
     ]
    },
    {
     "name": "stdout",
     "output_type": "stream",
     "text": [
      "Adjusting learning rate of group 0 to 1.9909e-05.\n"
     ]
    },
    {
     "name": "stderr",
     "output_type": "stream",
     "text": [
      "loss: 0.250, tv: 0.164, ptv: 0.162, flow: 0.367: : 739it [2:26:20, 12.25s/it]"
     ]
    },
    {
     "name": "stdout",
     "output_type": "stream",
     "text": [
      "Adjusting learning rate of group 0 to 1.9908e-05.\n"
     ]
    },
    {
     "name": "stderr",
     "output_type": "stream",
     "text": [
      "loss: 0.265, tv: 0.161, ptv: 0.157, flow: 0.373: : 741it [2:26:45, 12.28s/it]"
     ]
    },
    {
     "name": "stdout",
     "output_type": "stream",
     "text": [
      "Adjusting learning rate of group 0 to 1.9908e-05.\n"
     ]
    },
    {
     "name": "stderr",
     "output_type": "stream",
     "text": [
      "loss: 0.260, tv: 0.166, ptv: 0.161, flow: 0.335: : 743it [2:27:09, 12.30s/it]"
     ]
    },
    {
     "name": "stdout",
     "output_type": "stream",
     "text": [
      "Adjusting learning rate of group 0 to 1.9908e-05.\n"
     ]
    },
    {
     "name": "stderr",
     "output_type": "stream",
     "text": [
      "loss: 0.252, tv: 0.163, ptv: 0.158, flow: 0.361: : 745it [2:27:34, 12.31s/it]"
     ]
    },
    {
     "name": "stdout",
     "output_type": "stream",
     "text": [
      "Adjusting learning rate of group 0 to 1.9907e-05.\n"
     ]
    },
    {
     "name": "stderr",
     "output_type": "stream",
     "text": [
      "loss: 0.262, tv: 0.158, ptv: 0.156, flow: 0.346: : 747it [2:27:58, 11.82s/it]"
     ]
    },
    {
     "name": "stdout",
     "output_type": "stream",
     "text": [
      "Adjusting learning rate of group 0 to 1.9907e-05.\n"
     ]
    },
    {
     "name": "stderr",
     "output_type": "stream",
     "text": [
      "loss: 0.248, tv: 0.162, ptv: 0.161, flow: 0.338: : 749it [2:28:23, 12.06s/it]"
     ]
    },
    {
     "name": "stdout",
     "output_type": "stream",
     "text": [
      "Adjusting learning rate of group 0 to 1.9906e-05.\n"
     ]
    },
    {
     "name": "stderr",
     "output_type": "stream",
     "text": [
      "loss: 0.242, tv: 0.170, ptv: 0.169, flow: 0.338: : 751it [2:28:47, 12.19s/it]"
     ]
    },
    {
     "name": "stdout",
     "output_type": "stream",
     "text": [
      "Adjusting learning rate of group 0 to 1.9906e-05.\n"
     ]
    },
    {
     "name": "stderr",
     "output_type": "stream",
     "text": [
      "loss: 0.249, tv: 0.169, ptv: 0.167, flow: 0.356: : 753it [2:29:12, 12.26s/it]"
     ]
    },
    {
     "name": "stdout",
     "output_type": "stream",
     "text": [
      "Adjusting learning rate of group 0 to 1.9905e-05.\n"
     ]
    },
    {
     "name": "stderr",
     "output_type": "stream",
     "text": [
      "loss: 0.247, tv: 0.162, ptv: 0.158, flow: 0.374: : 755it [2:29:37, 12.28s/it]"
     ]
    },
    {
     "name": "stdout",
     "output_type": "stream",
     "text": [
      "Adjusting learning rate of group 0 to 1.9905e-05.\n"
     ]
    },
    {
     "name": "stderr",
     "output_type": "stream",
     "text": [
      "loss: 0.264, tv: 0.158, ptv: 0.156, flow: 0.354: : 757it [2:30:01, 12.30s/it]"
     ]
    },
    {
     "name": "stdout",
     "output_type": "stream",
     "text": [
      "Adjusting learning rate of group 0 to 1.9905e-05.\n"
     ]
    },
    {
     "name": "stderr",
     "output_type": "stream",
     "text": [
      "loss: 0.260, tv: 0.164, ptv: 0.167, flow: 0.364: : 759it [2:30:26, 12.31s/it]"
     ]
    },
    {
     "name": "stdout",
     "output_type": "stream",
     "text": [
      "Adjusting learning rate of group 0 to 1.9904e-05.\n"
     ]
    },
    {
     "name": "stderr",
     "output_type": "stream",
     "text": [
      "loss: 0.270, tv: 0.160, ptv: 0.160, flow: 0.368: : 761it [2:30:51, 12.31s/it]"
     ]
    },
    {
     "name": "stdout",
     "output_type": "stream",
     "text": [
      "Adjusting learning rate of group 0 to 1.9904e-05.\n"
     ]
    },
    {
     "name": "stderr",
     "output_type": "stream",
     "text": [
      "loss: 0.252, tv: 0.168, ptv: 0.166, flow: 0.343: : 763it [2:31:15, 12.32s/it]"
     ]
    },
    {
     "name": "stdout",
     "output_type": "stream",
     "text": [
      "Adjusting learning rate of group 0 to 1.9903e-05.\n"
     ]
    },
    {
     "name": "stderr",
     "output_type": "stream",
     "text": [
      "loss: 0.243, tv: 0.172, ptv: 0.170, flow: 0.344: : 765it [2:31:40, 12.00s/it]"
     ]
    },
    {
     "name": "stdout",
     "output_type": "stream",
     "text": [
      "Adjusting learning rate of group 0 to 1.9903e-05.\n"
     ]
    },
    {
     "name": "stderr",
     "output_type": "stream",
     "text": [
      "loss: 0.256, tv: 0.168, ptv: 0.166, flow: 0.374: : 767it [2:32:04, 12.16s/it]"
     ]
    },
    {
     "name": "stdout",
     "output_type": "stream",
     "text": [
      "Adjusting learning rate of group 0 to 1.9902e-05.\n"
     ]
    },
    {
     "name": "stderr",
     "output_type": "stream",
     "text": [
      "loss: 0.261, tv: 0.161, ptv: 0.159, flow: 0.380: : 769it [2:32:29, 12.23s/it]"
     ]
    },
    {
     "name": "stdout",
     "output_type": "stream",
     "text": [
      "Adjusting learning rate of group 0 to 1.9902e-05.\n"
     ]
    },
    {
     "name": "stderr",
     "output_type": "stream",
     "text": [
      "loss: 0.261, tv: 0.165, ptv: 0.165, flow: 0.339: : 771it [2:32:54, 12.27s/it]"
     ]
    },
    {
     "name": "stdout",
     "output_type": "stream",
     "text": [
      "Adjusting learning rate of group 0 to 1.9902e-05.\n"
     ]
    },
    {
     "name": "stderr",
     "output_type": "stream",
     "text": [
      "loss: 0.249, tv: 0.165, ptv: 0.162, flow: 0.366: : 773it [2:33:18, 12.30s/it]"
     ]
    },
    {
     "name": "stdout",
     "output_type": "stream",
     "text": [
      "Adjusting learning rate of group 0 to 1.9901e-05.\n"
     ]
    },
    {
     "name": "stderr",
     "output_type": "stream",
     "text": [
      "loss: 0.256, tv: 0.168, ptv: 0.168, flow: 0.340: : 776it [2:33:44, 11.66s/it]"
     ]
    },
    {
     "name": "stdout",
     "output_type": "stream",
     "text": [
      "Adjusting learning rate of group 0 to 1.9901e-05.\n"
     ]
    },
    {
     "name": "stderr",
     "output_type": "stream",
     "text": [
      "loss: 0.252, tv: 0.162, ptv: 0.159, flow: 0.365: : 778it [2:34:08, 11.99s/it]"
     ]
    },
    {
     "name": "stdout",
     "output_type": "stream",
     "text": [
      "Adjusting learning rate of group 0 to 1.9900e-05.\n"
     ]
    },
    {
     "name": "stderr",
     "output_type": "stream",
     "text": [
      "loss: 0.262, tv: 0.163, ptv: 0.160, flow: 0.349: : 780it [2:34:32, 11.01s/it]"
     ]
    },
    {
     "name": "stdout",
     "output_type": "stream",
     "text": [
      "Adjusting learning rate of group 0 to 1.9900e-05.\n"
     ]
    },
    {
     "name": "stderr",
     "output_type": "stream",
     "text": [
      "loss: 0.258, tv: 0.164, ptv: 0.163, flow: 0.321: : 782it [2:34:57, 10.70s/it]"
     ]
    },
    {
     "name": "stdout",
     "output_type": "stream",
     "text": [
      "Adjusting learning rate of group 0 to 1.9899e-05.\n"
     ]
    },
    {
     "name": "stderr",
     "output_type": "stream",
     "text": [
      "loss: 0.249, tv: 0.164, ptv: 0.165, flow: 0.370: : 784it [2:35:22, 11.57s/it]"
     ]
    },
    {
     "name": "stdout",
     "output_type": "stream",
     "text": [
      "Adjusting learning rate of group 0 to 1.9899e-05.\n"
     ]
    },
    {
     "name": "stderr",
     "output_type": "stream",
     "text": [
      "loss: 0.257, tv: 0.167, ptv: 0.164, flow: 0.342: : 786it [2:35:46, 11.95s/it]"
     ]
    },
    {
     "name": "stdout",
     "output_type": "stream",
     "text": [
      "Adjusting learning rate of group 0 to 1.9898e-05.\n"
     ]
    },
    {
     "name": "stderr",
     "output_type": "stream",
     "text": [
      "loss: 0.268, tv: 0.160, ptv: 0.156, flow: 0.372: : 788it [2:36:11, 12.13s/it]"
     ]
    },
    {
     "name": "stdout",
     "output_type": "stream",
     "text": [
      "Adjusting learning rate of group 0 to 1.9898e-05.\n"
     ]
    },
    {
     "name": "stderr",
     "output_type": "stream",
     "text": [
      "loss: 0.256, tv: 0.166, ptv: 0.167, flow: 0.343: : 790it [2:36:35, 12.23s/it]"
     ]
    },
    {
     "name": "stdout",
     "output_type": "stream",
     "text": [
      "Adjusting learning rate of group 0 to 1.9898e-05.\n"
     ]
    },
    {
     "name": "stderr",
     "output_type": "stream",
     "text": [
      "loss: 0.266, tv: 0.161, ptv: 0.156, flow: 0.359: : 792it [2:37:00, 12.28s/it]"
     ]
    },
    {
     "name": "stdout",
     "output_type": "stream",
     "text": [
      "Adjusting learning rate of group 0 to 1.9897e-05.\n"
     ]
    },
    {
     "name": "stderr",
     "output_type": "stream",
     "text": [
      "loss: 0.276, tv: 0.154, ptv: 0.151, flow: 0.386: : 794it [2:37:25, 12.30s/it]"
     ]
    },
    {
     "name": "stdout",
     "output_type": "stream",
     "text": [
      "Adjusting learning rate of group 0 to 1.9897e-05.\n"
     ]
    },
    {
     "name": "stderr",
     "output_type": "stream",
     "text": [
      "loss: 0.251, tv: 0.163, ptv: 0.164, flow: 0.352: : 797it [2:37:50, 11.37s/it]"
     ]
    },
    {
     "name": "stdout",
     "output_type": "stream",
     "text": [
      "Adjusting learning rate of group 0 to 1.9896e-05.\n"
     ]
    },
    {
     "name": "stderr",
     "output_type": "stream",
     "text": [
      "loss: 0.255, tv: 0.165, ptv: 0.165, flow: 0.318: : 799it [2:38:14, 11.39s/it]"
     ]
    },
    {
     "name": "stdout",
     "output_type": "stream",
     "text": [
      "Adjusting learning rate of group 0 to 1.9896e-05.\n"
     ]
    },
    {
     "name": "stderr",
     "output_type": "stream",
     "text": [
      "loss: 0.266, tv: 0.154, ptv: 0.152, flow: 0.357: : 801it [2:38:39, 11.85s/it]"
     ]
    },
    {
     "name": "stdout",
     "output_type": "stream",
     "text": [
      "Adjusting learning rate of group 0 to 1.9895e-05.\n"
     ]
    },
    {
     "name": "stderr",
     "output_type": "stream",
     "text": [
      "loss: 0.256, tv: 0.167, ptv: 0.165, flow: 0.366: : 803it [2:39:04, 12.09s/it]"
     ]
    },
    {
     "name": "stdout",
     "output_type": "stream",
     "text": [
      "Adjusting learning rate of group 0 to 1.9895e-05.\n"
     ]
    },
    {
     "name": "stderr",
     "output_type": "stream",
     "text": [
      "loss: 0.260, tv: 0.161, ptv: 0.158, flow: 0.357: : 805it [2:39:28, 10.11s/it]"
     ]
    },
    {
     "name": "stdout",
     "output_type": "stream",
     "text": [
      "Adjusting learning rate of group 0 to 1.9894e-05.\n"
     ]
    },
    {
     "name": "stderr",
     "output_type": "stream",
     "text": [
      "loss: 0.252, tv: 0.163, ptv: 0.160, flow: 0.348: : 807it [2:39:52, 11.23s/it]"
     ]
    },
    {
     "name": "stdout",
     "output_type": "stream",
     "text": [
      "Adjusting learning rate of group 0 to 1.9894e-05.\n"
     ]
    },
    {
     "name": "stderr",
     "output_type": "stream",
     "text": [
      "loss: 0.245, tv: 0.172, ptv: 0.170, flow: 0.357: : 809it [2:40:17, 11.78s/it]"
     ]
    },
    {
     "name": "stdout",
     "output_type": "stream",
     "text": [
      "Adjusting learning rate of group 0 to 1.9893e-05.\n"
     ]
    },
    {
     "name": "stderr",
     "output_type": "stream",
     "text": [
      "loss: 0.250, tv: 0.170, ptv: 0.168, flow: 0.351: : 811it [2:40:42, 12.04s/it]"
     ]
    },
    {
     "name": "stdout",
     "output_type": "stream",
     "text": [
      "Adjusting learning rate of group 0 to 1.9893e-05.\n"
     ]
    },
    {
     "name": "stderr",
     "output_type": "stream",
     "text": [
      "loss: 0.244, tv: 0.166, ptv: 0.164, flow: 0.353: : 813it [2:41:06, 12.19s/it]"
     ]
    },
    {
     "name": "stdout",
     "output_type": "stream",
     "text": [
      "Adjusting learning rate of group 0 to 1.9893e-05.\n"
     ]
    },
    {
     "name": "stderr",
     "output_type": "stream",
     "text": [
      "loss: 0.251, tv: 0.158, ptv: 0.156, flow: 0.367: : 815it [2:41:31, 12.25s/it]"
     ]
    },
    {
     "name": "stdout",
     "output_type": "stream",
     "text": [
      "Adjusting learning rate of group 0 to 1.9892e-05.\n"
     ]
    },
    {
     "name": "stderr",
     "output_type": "stream",
     "text": [
      "loss: 0.250, tv: 0.167, ptv: 0.165, flow: 0.336: : 817it [2:41:55, 12.28s/it]"
     ]
    },
    {
     "name": "stdout",
     "output_type": "stream",
     "text": [
      "Adjusting learning rate of group 0 to 1.9892e-05.\n"
     ]
    },
    {
     "name": "stderr",
     "output_type": "stream",
     "text": [
      "loss: 0.267, tv: 0.158, ptv: 0.152, flow: 0.369: : 819it [2:42:20, 12.29s/it]"
     ]
    },
    {
     "name": "stdout",
     "output_type": "stream",
     "text": [
      "Adjusting learning rate of group 0 to 1.9891e-05.\n"
     ]
    },
    {
     "name": "stderr",
     "output_type": "stream",
     "text": [
      "loss: 0.246, tv: 0.171, ptv: 0.167, flow: 0.325: : 822it [2:42:45, 11.98s/it]"
     ]
    },
    {
     "name": "stdout",
     "output_type": "stream",
     "text": [
      "Adjusting learning rate of group 0 to 1.9891e-05.\n"
     ]
    },
    {
     "name": "stderr",
     "output_type": "stream",
     "text": [
      "loss: 0.244, tv: 0.164, ptv: 0.165, flow: 0.363: : 824it [2:43:09, 12.18s/it]"
     ]
    },
    {
     "name": "stdout",
     "output_type": "stream",
     "text": [
      "Adjusting learning rate of group 0 to 1.9890e-05.\n"
     ]
    },
    {
     "name": "stderr",
     "output_type": "stream",
     "text": [
      "loss: 0.258, tv: 0.168, ptv: 0.165, flow: 0.354: : 826it [2:43:34, 12.25s/it]"
     ]
    },
    {
     "name": "stdout",
     "output_type": "stream",
     "text": [
      "Adjusting learning rate of group 0 to 1.9890e-05.\n"
     ]
    },
    {
     "name": "stderr",
     "output_type": "stream",
     "text": [
      "loss: 0.244, tv: 0.172, ptv: 0.172, flow: 0.332: : 828it [2:43:59, 12.28s/it]"
     ]
    },
    {
     "name": "stdout",
     "output_type": "stream",
     "text": [
      "Adjusting learning rate of group 0 to 1.9889e-05.\n"
     ]
    },
    {
     "name": "stderr",
     "output_type": "stream",
     "text": [
      "loss: 0.259, tv: 0.164, ptv: 0.158, flow: 0.347: : 830it [2:44:24, 11.47s/it]"
     ]
    },
    {
     "name": "stdout",
     "output_type": "stream",
     "text": [
      "Adjusting learning rate of group 0 to 1.9889e-05.\n"
     ]
    },
    {
     "name": "stderr",
     "output_type": "stream",
     "text": [
      "loss: 0.260, tv: 0.166, ptv: 0.164, flow: 0.336: : 832it [2:44:48, 11.90s/it]"
     ]
    },
    {
     "name": "stdout",
     "output_type": "stream",
     "text": [
      "Adjusting learning rate of group 0 to 1.9888e-05.\n"
     ]
    },
    {
     "name": "stderr",
     "output_type": "stream",
     "text": [
      "loss: 0.264, tv: 0.160, ptv: 0.158, flow: 0.386: : 834it [2:45:13, 12.12s/it]"
     ]
    },
    {
     "name": "stdout",
     "output_type": "stream",
     "text": [
      "Adjusting learning rate of group 0 to 1.9888e-05.\n"
     ]
    },
    {
     "name": "stderr",
     "output_type": "stream",
     "text": [
      "loss: 0.257, tv: 0.164, ptv: 0.161, flow: 0.368: : 836it [2:45:38, 12.21s/it]"
     ]
    },
    {
     "name": "stdout",
     "output_type": "stream",
     "text": [
      "Adjusting learning rate of group 0 to 1.9887e-05.\n"
     ]
    },
    {
     "name": "stderr",
     "output_type": "stream",
     "text": [
      "loss: 0.252, tv: 0.165, ptv: 0.164, flow: 0.349: : 838it [2:46:02, 12.26s/it]"
     ]
    },
    {
     "name": "stdout",
     "output_type": "stream",
     "text": [
      "Adjusting learning rate of group 0 to 1.9887e-05.\n"
     ]
    },
    {
     "name": "stderr",
     "output_type": "stream",
     "text": [
      "loss: 0.255, tv: 0.168, ptv: 0.167, flow: 0.349: : 840it [2:46:27, 12.29s/it]"
     ]
    },
    {
     "name": "stdout",
     "output_type": "stream",
     "text": [
      "Adjusting learning rate of group 0 to 1.9887e-05.\n"
     ]
    },
    {
     "name": "stderr",
     "output_type": "stream",
     "text": [
      "loss: 0.257, tv: 0.165, ptv: 0.161, flow: 0.322: : 842it [2:46:52, 12.31s/it]"
     ]
    },
    {
     "name": "stdout",
     "output_type": "stream",
     "text": [
      "Adjusting learning rate of group 0 to 1.9886e-05.\n"
     ]
    },
    {
     "name": "stderr",
     "output_type": "stream",
     "text": [
      "loss: 0.260, tv: 0.162, ptv: 0.161, flow: 0.339: : 844it [2:47:16, 12.31s/it]"
     ]
    },
    {
     "name": "stdout",
     "output_type": "stream",
     "text": [
      "Adjusting learning rate of group 0 to 1.9886e-05.\n"
     ]
    },
    {
     "name": "stderr",
     "output_type": "stream",
     "text": [
      "loss: 0.258, tv: 0.162, ptv: 0.162, flow: 0.349: : 846it [2:47:41, 11.66s/it]"
     ]
    },
    {
     "name": "stdout",
     "output_type": "stream",
     "text": [
      "Adjusting learning rate of group 0 to 1.9885e-05.\n"
     ]
    },
    {
     "name": "stderr",
     "output_type": "stream",
     "text": [
      "loss: 0.236, tv: 0.173, ptv: 0.173, flow: 0.320: : 849it [2:48:06, 10.34s/it]"
     ]
    },
    {
     "name": "stdout",
     "output_type": "stream",
     "text": [
      "Adjusting learning rate of group 0 to 1.9885e-05.\n"
     ]
    },
    {
     "name": "stderr",
     "output_type": "stream",
     "text": [
      "loss: 0.263, tv: 0.157, ptv: 0.154, flow: 0.377: : 851it [2:48:30, 11.34s/it]"
     ]
    },
    {
     "name": "stdout",
     "output_type": "stream",
     "text": [
      "Adjusting learning rate of group 0 to 1.9884e-05.\n"
     ]
    },
    {
     "name": "stderr",
     "output_type": "stream",
     "text": [
      "loss: 0.262, tv: 0.162, ptv: 0.159, flow: 0.363: : 853it [2:48:55, 11.85s/it]"
     ]
    },
    {
     "name": "stdout",
     "output_type": "stream",
     "text": [
      "Adjusting learning rate of group 0 to 1.9884e-05.\n"
     ]
    },
    {
     "name": "stderr",
     "output_type": "stream",
     "text": [
      "loss: 0.260, tv: 0.164, ptv: 0.162, flow: 0.324: : 855it [2:49:19, 12.09s/it]"
     ]
    },
    {
     "name": "stdout",
     "output_type": "stream",
     "text": [
      "Adjusting learning rate of group 0 to 1.9883e-05.\n"
     ]
    },
    {
     "name": "stderr",
     "output_type": "stream",
     "text": [
      "loss: 0.248, tv: 0.164, ptv: 0.161, flow: 0.340: : 857it [2:49:44, 12.21s/it]"
     ]
    },
    {
     "name": "stdout",
     "output_type": "stream",
     "text": [
      "Adjusting learning rate of group 0 to 1.9883e-05.\n"
     ]
    },
    {
     "name": "stderr",
     "output_type": "stream",
     "text": [
      "loss: 0.250, tv: 0.164, ptv: 0.161, flow: 0.368: : 859it [2:50:09, 12.26s/it]"
     ]
    },
    {
     "name": "stdout",
     "output_type": "stream",
     "text": [
      "Adjusting learning rate of group 0 to 1.9882e-05.\n"
     ]
    },
    {
     "name": "stderr",
     "output_type": "stream",
     "text": [
      "loss: 0.244, tv: 0.172, ptv: 0.173, flow: 0.329: : 861it [2:50:33, 12.29s/it]"
     ]
    },
    {
     "name": "stdout",
     "output_type": "stream",
     "text": [
      "Adjusting learning rate of group 0 to 1.9882e-05.\n"
     ]
    },
    {
     "name": "stderr",
     "output_type": "stream",
     "text": [
      "loss: 0.248, tv: 0.170, ptv: 0.170, flow: 0.328: : 863it [2:50:58, 11.60s/it]"
     ]
    },
    {
     "name": "stdout",
     "output_type": "stream",
     "text": [
      "Adjusting learning rate of group 0 to 1.9881e-05.\n"
     ]
    },
    {
     "name": "stderr",
     "output_type": "stream",
     "text": [
      "loss: 0.256, tv: 0.165, ptv: 0.165, flow: 0.332: : 865it [2:51:22, 11.97s/it]"
     ]
    },
    {
     "name": "stdout",
     "output_type": "stream",
     "text": [
      "Adjusting learning rate of group 0 to 1.9881e-05.\n"
     ]
    },
    {
     "name": "stderr",
     "output_type": "stream",
     "text": [
      "loss: 0.262, tv: 0.163, ptv: 0.162, flow: 0.346: : 867it [2:51:47, 12.15s/it]"
     ]
    },
    {
     "name": "stdout",
     "output_type": "stream",
     "text": [
      "Adjusting learning rate of group 0 to 1.9880e-05.\n"
     ]
    },
    {
     "name": "stderr",
     "output_type": "stream",
     "text": [
      "loss: 0.254, tv: 0.162, ptv: 0.163, flow: 0.353: : 869it [2:52:12, 12.23s/it]"
     ]
    },
    {
     "name": "stdout",
     "output_type": "stream",
     "text": [
      "Adjusting learning rate of group 0 to 1.9880e-05.\n"
     ]
    },
    {
     "name": "stderr",
     "output_type": "stream",
     "text": [
      "loss: 0.261, tv: 0.161, ptv: 0.159, flow: 0.351: : 871it [2:52:36, 12.27s/it]"
     ]
    },
    {
     "name": "stdout",
     "output_type": "stream",
     "text": [
      "Adjusting learning rate of group 0 to 1.9879e-05.\n"
     ]
    },
    {
     "name": "stderr",
     "output_type": "stream",
     "text": [
      "loss: 0.262, tv: 0.162, ptv: 0.160, flow: 0.363: : 873it [2:53:01, 12.30s/it]"
     ]
    },
    {
     "name": "stdout",
     "output_type": "stream",
     "text": [
      "Adjusting learning rate of group 0 to 1.9879e-05.\n"
     ]
    },
    {
     "name": "stderr",
     "output_type": "stream",
     "text": [
      "loss: 0.253, tv: 0.169, ptv: 0.167, flow: 0.353: : 875it [2:53:25, 12.31s/it]"
     ]
    },
    {
     "name": "stdout",
     "output_type": "stream",
     "text": [
      "Adjusting learning rate of group 0 to 1.9878e-05.\n"
     ]
    },
    {
     "name": "stderr",
     "output_type": "stream",
     "text": [
      "loss: 0.250, tv: 0.164, ptv: 0.163, flow: 0.345: : 877it [2:53:50, 11.02s/it]"
     ]
    },
    {
     "name": "stdout",
     "output_type": "stream",
     "text": [
      "Adjusting learning rate of group 0 to 1.9878e-05.\n"
     ]
    },
    {
     "name": "stderr",
     "output_type": "stream",
     "text": [
      "loss: 0.256, tv: 0.169, ptv: 0.166, flow: 0.327: : 879it [2:54:14, 11.68s/it]"
     ]
    },
    {
     "name": "stdout",
     "output_type": "stream",
     "text": [
      "Adjusting learning rate of group 0 to 1.9877e-05.\n"
     ]
    },
    {
     "name": "stderr",
     "output_type": "stream",
     "text": [
      "loss: 0.258, tv: 0.163, ptv: 0.159, flow: 0.360: : 881it [2:54:39, 12.01s/it]"
     ]
    },
    {
     "name": "stdout",
     "output_type": "stream",
     "text": [
      "Adjusting learning rate of group 0 to 1.9877e-05.\n"
     ]
    },
    {
     "name": "stderr",
     "output_type": "stream",
     "text": [
      "loss: 0.252, tv: 0.165, ptv: 0.165, flow: 0.336: : 883it [2:55:04, 12.18s/it]"
     ]
    },
    {
     "name": "stdout",
     "output_type": "stream",
     "text": [
      "Adjusting learning rate of group 0 to 1.9876e-05.\n"
     ]
    },
    {
     "name": "stderr",
     "output_type": "stream",
     "text": [
      "loss: 0.263, tv: 0.159, ptv: 0.160, flow: 0.352: : 885it [2:55:28, 12.26s/it]"
     ]
    },
    {
     "name": "stdout",
     "output_type": "stream",
     "text": [
      "Adjusting learning rate of group 0 to 1.9876e-05.\n"
     ]
    },
    {
     "name": "stderr",
     "output_type": "stream",
     "text": [
      "loss: 0.243, tv: 0.173, ptv: 0.171, flow: 0.354: : 887it [2:55:53, 12.28s/it]"
     ]
    },
    {
     "name": "stdout",
     "output_type": "stream",
     "text": [
      "Adjusting learning rate of group 0 to 1.9875e-05.\n"
     ]
    },
    {
     "name": "stderr",
     "output_type": "stream",
     "text": [
      "loss: 0.234, tv: 0.170, ptv: 0.169, flow: 0.346: : 889it [2:56:18, 12.30s/it]"
     ]
    },
    {
     "name": "stdout",
     "output_type": "stream",
     "text": [
      "Adjusting learning rate of group 0 to 1.9875e-05.\n"
     ]
    },
    {
     "name": "stderr",
     "output_type": "stream",
     "text": [
      "loss: 0.245, tv: 0.171, ptv: 0.169, flow: 0.331: : 892it [2:56:43,  9.53s/it]"
     ]
    },
    {
     "name": "stdout",
     "output_type": "stream",
     "text": [
      "Adjusting learning rate of group 0 to 1.9874e-05.\n"
     ]
    },
    {
     "name": "stderr",
     "output_type": "stream",
     "text": [
      "loss: 0.254, tv: 0.166, ptv: 0.165, flow: 0.336: : 894it [2:57:07, 10.26s/it]"
     ]
    },
    {
     "name": "stdout",
     "output_type": "stream",
     "text": [
      "Adjusting learning rate of group 0 to 1.9874e-05.\n"
     ]
    },
    {
     "name": "stderr",
     "output_type": "stream",
     "text": [
      "loss: 0.254, tv: 0.167, ptv: 0.164, flow: 0.358: : 896it [2:57:32, 11.31s/it]"
     ]
    },
    {
     "name": "stdout",
     "output_type": "stream",
     "text": [
      "Adjusting learning rate of group 0 to 1.9873e-05.\n"
     ]
    },
    {
     "name": "stderr",
     "output_type": "stream",
     "text": [
      "loss: 0.245, tv: 0.167, ptv: 0.165, flow: 0.350: : 898it [2:57:56, 11.82s/it]"
     ]
    },
    {
     "name": "stdout",
     "output_type": "stream",
     "text": [
      "Adjusting learning rate of group 0 to 1.9873e-05.\n"
     ]
    },
    {
     "name": "stderr",
     "output_type": "stream",
     "text": [
      "loss: 0.236, tv: 0.163, ptv: 0.164, flow: 0.352: : 900it [2:58:21, 12.07s/it]"
     ]
    },
    {
     "name": "stdout",
     "output_type": "stream",
     "text": [
      "Adjusting learning rate of group 0 to 1.9872e-05.\n"
     ]
    },
    {
     "name": "stderr",
     "output_type": "stream",
     "text": [
      "loss: 0.246, tv: 0.171, ptv: 0.169, flow: 0.338: : 902it [2:58:46, 12.19s/it]"
     ]
    },
    {
     "name": "stdout",
     "output_type": "stream",
     "text": [
      "Adjusting learning rate of group 0 to 1.9872e-05.\n"
     ]
    },
    {
     "name": "stderr",
     "output_type": "stream",
     "text": [
      "loss: 0.254, tv: 0.169, ptv: 0.165, flow: 0.328: : 904it [2:59:10, 12.26s/it]"
     ]
    },
    {
     "name": "stdout",
     "output_type": "stream",
     "text": [
      "Adjusting learning rate of group 0 to 1.9871e-05.\n"
     ]
    },
    {
     "name": "stderr",
     "output_type": "stream",
     "text": [
      "loss: 0.249, tv: 0.168, ptv: 0.168, flow: 0.320: : 907it [2:59:35, 11.80s/it]"
     ]
    },
    {
     "name": "stdout",
     "output_type": "stream",
     "text": [
      "Adjusting learning rate of group 0 to 1.9871e-05.\n"
     ]
    },
    {
     "name": "stderr",
     "output_type": "stream",
     "text": [
      "loss: 0.243, tv: 0.168, ptv: 0.165, flow: 0.326: : 910it [2:59:59,  9.89s/it]"
     ]
    },
    {
     "name": "stdout",
     "output_type": "stream",
     "text": [
      "Adjusting learning rate of group 0 to 1.9870e-05.\n"
     ]
    },
    {
     "name": "stderr",
     "output_type": "stream",
     "text": [
      "loss: 0.251, tv: 0.163, ptv: 0.164, flow: 0.353: : 912it [3:00:24, 11.13s/it]"
     ]
    },
    {
     "name": "stdout",
     "output_type": "stream",
     "text": [
      "Adjusting learning rate of group 0 to 1.9870e-05.\n"
     ]
    },
    {
     "name": "stderr",
     "output_type": "stream",
     "text": [
      "loss: 0.242, tv: 0.165, ptv: 0.166, flow: 0.360: : 914it [3:00:48, 11.74s/it]"
     ]
    },
    {
     "name": "stdout",
     "output_type": "stream",
     "text": [
      "Adjusting learning rate of group 0 to 1.9869e-05.\n"
     ]
    },
    {
     "name": "stderr",
     "output_type": "stream",
     "text": [
      "loss: 0.241, tv: 0.167, ptv: 0.165, flow: 0.358: : 916it [3:01:13, 12.03s/it]"
     ]
    },
    {
     "name": "stdout",
     "output_type": "stream",
     "text": [
      "Adjusting learning rate of group 0 to 1.9869e-05.\n"
     ]
    },
    {
     "name": "stderr",
     "output_type": "stream",
     "text": [
      "loss: 0.255, tv: 0.162, ptv: 0.159, flow: 0.359: : 918it [3:01:38, 12.17s/it]"
     ]
    },
    {
     "name": "stdout",
     "output_type": "stream",
     "text": [
      "Adjusting learning rate of group 0 to 1.9868e-05.\n"
     ]
    },
    {
     "name": "stderr",
     "output_type": "stream",
     "text": [
      "loss: 0.263, tv: 0.162, ptv: 0.157, flow: 0.344: : 920it [3:02:02, 12.24s/it]"
     ]
    },
    {
     "name": "stdout",
     "output_type": "stream",
     "text": [
      "Adjusting learning rate of group 0 to 1.9868e-05.\n"
     ]
    },
    {
     "name": "stderr",
     "output_type": "stream",
     "text": [
      "loss: 0.254, tv: 0.166, ptv: 0.166, flow: 0.318: : 922it [3:02:27, 11.12s/it]"
     ]
    },
    {
     "name": "stdout",
     "output_type": "stream",
     "text": [
      "Adjusting learning rate of group 0 to 1.9867e-05.\n"
     ]
    },
    {
     "name": "stderr",
     "output_type": "stream",
     "text": [
      "loss: 0.266, tv: 0.165, ptv: 0.164, flow: 0.355: : 924it [3:02:52, 11.75s/it]"
     ]
    },
    {
     "name": "stdout",
     "output_type": "stream",
     "text": [
      "Adjusting learning rate of group 0 to 1.9867e-05.\n"
     ]
    },
    {
     "name": "stderr",
     "output_type": "stream",
     "text": [
      "loss: 0.263, tv: 0.165, ptv: 0.164, flow: 0.346: : 926it [3:03:17, 12.04s/it]"
     ]
    },
    {
     "name": "stdout",
     "output_type": "stream",
     "text": [
      "Adjusting learning rate of group 0 to 1.9866e-05.\n"
     ]
    },
    {
     "name": "stderr",
     "output_type": "stream",
     "text": [
      "loss: 0.255, tv: 0.164, ptv: 0.167, flow: 0.339: : 928it [3:03:41, 12.18s/it]"
     ]
    },
    {
     "name": "stdout",
     "output_type": "stream",
     "text": [
      "Adjusting learning rate of group 0 to 1.9866e-05.\n"
     ]
    },
    {
     "name": "stderr",
     "output_type": "stream",
     "text": [
      "loss: 0.247, tv: 0.163, ptv: 0.164, flow: 0.339: : 930it [3:04:06, 12.25s/it]"
     ]
    },
    {
     "name": "stdout",
     "output_type": "stream",
     "text": [
      "Adjusting learning rate of group 0 to 1.9865e-05.\n"
     ]
    },
    {
     "name": "stderr",
     "output_type": "stream",
     "text": [
      "loss: 0.252, tv: 0.171, ptv: 0.169, flow: 0.328: : 933it [3:04:31,  9.97s/it]"
     ]
    },
    {
     "name": "stdout",
     "output_type": "stream",
     "text": [
      "Adjusting learning rate of group 0 to 1.9865e-05.\n"
     ]
    },
    {
     "name": "stderr",
     "output_type": "stream",
     "text": [
      "loss: 0.266, tv: 0.161, ptv: 0.158, flow: 0.378: : 935it [3:04:55, 11.18s/it]"
     ]
    },
    {
     "name": "stdout",
     "output_type": "stream",
     "text": [
      "Adjusting learning rate of group 0 to 1.9864e-05.\n"
     ]
    },
    {
     "name": "stderr",
     "output_type": "stream",
     "text": [
      "loss: 0.247, tv: 0.166, ptv: 0.168, flow: 0.353: : 937it [3:05:20, 11.75s/it]"
     ]
    },
    {
     "name": "stdout",
     "output_type": "stream",
     "text": [
      "Adjusting learning rate of group 0 to 1.9864e-05.\n"
     ]
    },
    {
     "name": "stderr",
     "output_type": "stream",
     "text": [
      "loss: 0.247, tv: 0.170, ptv: 0.169, flow: 0.344: : 939it [3:05:45, 11.88s/it]"
     ]
    },
    {
     "name": "stdout",
     "output_type": "stream",
     "text": [
      "Adjusting learning rate of group 0 to 1.9863e-05.\n"
     ]
    },
    {
     "name": "stderr",
     "output_type": "stream",
     "text": [
      "loss: 0.256, tv: 0.160, ptv: 0.156, flow: 0.358: : 941it [3:06:09, 12.10s/it]"
     ]
    },
    {
     "name": "stdout",
     "output_type": "stream",
     "text": [
      "Adjusting learning rate of group 0 to 1.9863e-05.\n"
     ]
    },
    {
     "name": "stderr",
     "output_type": "stream",
     "text": [
      "loss: 0.267, tv: 0.160, ptv: 0.160, flow: 0.357: : 943it [3:06:34, 12.21s/it]"
     ]
    },
    {
     "name": "stdout",
     "output_type": "stream",
     "text": [
      "Adjusting learning rate of group 0 to 1.9862e-05.\n"
     ]
    },
    {
     "name": "stderr",
     "output_type": "stream",
     "text": [
      "loss: 0.253, tv: 0.168, ptv: 0.165, flow: 0.347: : 945it [3:06:59, 12.27s/it]"
     ]
    },
    {
     "name": "stdout",
     "output_type": "stream",
     "text": [
      "Adjusting learning rate of group 0 to 1.9862e-05.\n"
     ]
    },
    {
     "name": "stderr",
     "output_type": "stream",
     "text": [
      "loss: 0.250, tv: 0.158, ptv: 0.158, flow: 0.361: : 947it [3:07:23, 12.07s/it]"
     ]
    },
    {
     "name": "stdout",
     "output_type": "stream",
     "text": [
      "Adjusting learning rate of group 0 to 1.9861e-05.\n"
     ]
    },
    {
     "name": "stderr",
     "output_type": "stream",
     "text": [
      "loss: 0.248, tv: 0.166, ptv: 0.160, flow: 0.346: : 949it [3:07:48, 12.19s/it]"
     ]
    },
    {
     "name": "stdout",
     "output_type": "stream",
     "text": [
      "Adjusting learning rate of group 0 to 1.9861e-05.\n"
     ]
    },
    {
     "name": "stderr",
     "output_type": "stream",
     "text": [
      "loss: 0.250, tv: 0.165, ptv: 0.163, flow: 0.350: : 951it [3:08:12, 12.26s/it]"
     ]
    },
    {
     "name": "stdout",
     "output_type": "stream",
     "text": [
      "Adjusting learning rate of group 0 to 1.9860e-05.\n"
     ]
    },
    {
     "name": "stderr",
     "output_type": "stream",
     "text": [
      "loss: 0.251, tv: 0.163, ptv: 0.162, flow: 0.349: : 953it [3:08:37, 12.29s/it]"
     ]
    },
    {
     "name": "stdout",
     "output_type": "stream",
     "text": [
      "Adjusting learning rate of group 0 to 1.9860e-05.\n"
     ]
    },
    {
     "name": "stderr",
     "output_type": "stream",
     "text": [
      "loss: 0.251, tv: 0.160, ptv: 0.156, flow: 0.362: : 955it [3:09:02, 12.31s/it]"
     ]
    },
    {
     "name": "stdout",
     "output_type": "stream",
     "text": [
      "Adjusting learning rate of group 0 to 1.9859e-05.\n"
     ]
    },
    {
     "name": "stderr",
     "output_type": "stream",
     "text": [
      "loss: 0.264, tv: 0.161, ptv: 0.159, flow: 0.362: : 957it [3:09:26, 12.32s/it]"
     ]
    },
    {
     "name": "stdout",
     "output_type": "stream",
     "text": [
      "Adjusting learning rate of group 0 to 1.9859e-05.\n"
     ]
    },
    {
     "name": "stderr",
     "output_type": "stream",
     "text": [
      "loss: 0.267, tv: 0.161, ptv: 0.158, flow: 0.345: : 959it [3:09:51, 12.32s/it]"
     ]
    },
    {
     "name": "stdout",
     "output_type": "stream",
     "text": [
      "Adjusting learning rate of group 0 to 1.9858e-05.\n"
     ]
    },
    {
     "name": "stderr",
     "output_type": "stream",
     "text": [
      "loss: 0.245, tv: 0.166, ptv: 0.163, flow: 0.362: : 961it [3:10:16, 12.32s/it]"
     ]
    },
    {
     "name": "stdout",
     "output_type": "stream",
     "text": [
      "Adjusting learning rate of group 0 to 1.9858e-05.\n"
     ]
    },
    {
     "name": "stderr",
     "output_type": "stream",
     "text": [
      "loss: 0.262, tv: 0.160, ptv: 0.156, flow: 0.362: : 963it [3:10:40, 12.32s/it]"
     ]
    },
    {
     "name": "stdout",
     "output_type": "stream",
     "text": [
      "Adjusting learning rate of group 0 to 1.9857e-05.\n"
     ]
    },
    {
     "name": "stderr",
     "output_type": "stream",
     "text": [
      "loss: 0.251, tv: 0.165, ptv: 0.163, flow: 0.376: : 965it [3:11:05, 12.33s/it]"
     ]
    },
    {
     "name": "stdout",
     "output_type": "stream",
     "text": [
      "Adjusting learning rate of group 0 to 1.9856e-05.\n"
     ]
    },
    {
     "name": "stderr",
     "output_type": "stream",
     "text": [
      "loss: 0.267, tv: 0.161, ptv: 0.158, flow: 0.367: : 967it [3:11:30, 12.32s/it]"
     ]
    },
    {
     "name": "stdout",
     "output_type": "stream",
     "text": [
      "Adjusting learning rate of group 0 to 1.9856e-05.\n"
     ]
    },
    {
     "name": "stderr",
     "output_type": "stream",
     "text": [
      "loss: 0.269, tv: 0.156, ptv: 0.153, flow: 0.362: : 969it [3:11:54, 12.32s/it]"
     ]
    },
    {
     "name": "stdout",
     "output_type": "stream",
     "text": [
      "Adjusting learning rate of group 0 to 1.9855e-05.\n"
     ]
    },
    {
     "name": "stderr",
     "output_type": "stream",
     "text": [
      "loss: 0.252, tv: 0.165, ptv: 0.162, flow: 0.348: : 971it [3:12:19, 12.32s/it]"
     ]
    },
    {
     "name": "stdout",
     "output_type": "stream",
     "text": [
      "Adjusting learning rate of group 0 to 1.9855e-05.\n"
     ]
    },
    {
     "name": "stderr",
     "output_type": "stream",
     "text": [
      "loss: 0.257, tv: 0.164, ptv: 0.164, flow: 0.350: : 973it [3:12:44, 12.31s/it]"
     ]
    },
    {
     "name": "stdout",
     "output_type": "stream",
     "text": [
      "Adjusting learning rate of group 0 to 1.9854e-05.\n"
     ]
    },
    {
     "name": "stderr",
     "output_type": "stream",
     "text": [
      "loss: 0.254, tv: 0.168, ptv: 0.167, flow: 0.371: : 975it [3:13:08, 12.32s/it]"
     ]
    },
    {
     "name": "stdout",
     "output_type": "stream",
     "text": [
      "Adjusting learning rate of group 0 to 1.9854e-05.\n"
     ]
    },
    {
     "name": "stderr",
     "output_type": "stream",
     "text": [
      "loss: 0.259, tv: 0.165, ptv: 0.163, flow: 0.345: : 977it [3:13:33, 12.32s/it]"
     ]
    },
    {
     "name": "stdout",
     "output_type": "stream",
     "text": [
      "Adjusting learning rate of group 0 to 1.9853e-05.\n"
     ]
    },
    {
     "name": "stderr",
     "output_type": "stream",
     "text": [
      "loss: 0.263, tv: 0.161, ptv: 0.161, flow: 0.371: : 979it [3:13:57, 12.32s/it]"
     ]
    },
    {
     "name": "stdout",
     "output_type": "stream",
     "text": [
      "Adjusting learning rate of group 0 to 1.9853e-05.\n"
     ]
    },
    {
     "name": "stderr",
     "output_type": "stream",
     "text": [
      "loss: 0.258, tv: 0.161, ptv: 0.161, flow: 0.365: : 981it [3:14:22, 11.02s/it]"
     ]
    },
    {
     "name": "stdout",
     "output_type": "stream",
     "text": [
      "Adjusting learning rate of group 0 to 1.9852e-05.\n"
     ]
    },
    {
     "name": "stderr",
     "output_type": "stream",
     "text": [
      "loss: 0.251, tv: 0.160, ptv: 0.157, flow: 0.360: : 983it [3:14:46, 11.68s/it]"
     ]
    },
    {
     "name": "stdout",
     "output_type": "stream",
     "text": [
      "Adjusting learning rate of group 0 to 1.9852e-05.\n"
     ]
    },
    {
     "name": "stderr",
     "output_type": "stream",
     "text": [
      "loss: 0.261, tv: 0.161, ptv: 0.161, flow: 0.378: : 985it [3:15:11, 12.01s/it]"
     ]
    },
    {
     "name": "stdout",
     "output_type": "stream",
     "text": [
      "Adjusting learning rate of group 0 to 1.9851e-05.\n"
     ]
    },
    {
     "name": "stderr",
     "output_type": "stream",
     "text": [
      "loss: 0.266, tv: 0.155, ptv: 0.154, flow: 0.367: : 987it [3:15:36, 12.17s/it]"
     ]
    },
    {
     "name": "stdout",
     "output_type": "stream",
     "text": [
      "Adjusting learning rate of group 0 to 1.9851e-05.\n"
     ]
    },
    {
     "name": "stderr",
     "output_type": "stream",
     "text": [
      "loss: 0.263, tv: 0.163, ptv: 0.163, flow: 0.343: : 989it [3:16:00, 12.24s/it]"
     ]
    },
    {
     "name": "stdout",
     "output_type": "stream",
     "text": [
      "Adjusting learning rate of group 0 to 1.9850e-05.\n"
     ]
    },
    {
     "name": "stderr",
     "output_type": "stream",
     "text": [
      "loss: 0.261, tv: 0.159, ptv: 0.160, flow: 0.345: : 991it [3:16:25, 12.28s/it]"
     ]
    },
    {
     "name": "stdout",
     "output_type": "stream",
     "text": [
      "Adjusting learning rate of group 0 to 1.9849e-05.\n"
     ]
    },
    {
     "name": "stderr",
     "output_type": "stream",
     "text": [
      "loss: 0.256, tv: 0.163, ptv: 0.163, flow: 0.363: : 993it [3:16:50, 12.30s/it]"
     ]
    },
    {
     "name": "stdout",
     "output_type": "stream",
     "text": [
      "Adjusting learning rate of group 0 to 1.9849e-05.\n"
     ]
    },
    {
     "name": "stderr",
     "output_type": "stream",
     "text": [
      "loss: 0.250, tv: 0.161, ptv: 0.162, flow: 0.350: : 995it [3:17:14, 12.31s/it]"
     ]
    },
    {
     "name": "stdout",
     "output_type": "stream",
     "text": [
      "Adjusting learning rate of group 0 to 1.9848e-05.\n"
     ]
    },
    {
     "name": "stderr",
     "output_type": "stream",
     "text": [
      "loss: 0.267, tv: 0.156, ptv: 0.153, flow: 0.360: : 997it [3:17:39, 12.31s/it]"
     ]
    },
    {
     "name": "stdout",
     "output_type": "stream",
     "text": [
      "Adjusting learning rate of group 0 to 1.9848e-05.\n"
     ]
    },
    {
     "name": "stderr",
     "output_type": "stream",
     "text": [
      "loss: 0.252, tv: 0.165, ptv: 0.163, flow: 0.350: : 999it [3:18:03, 12.32s/it]"
     ]
    },
    {
     "name": "stdout",
     "output_type": "stream",
     "text": [
      "Adjusting learning rate of group 0 to 1.9847e-05.\n"
     ]
    },
    {
     "name": "stderr",
     "output_type": "stream",
     "text": [
      "loss: 0.256, tv: 0.165, ptv: 0.162, flow: 0.366: : 1001it [3:18:28, 12.31s/it]"
     ]
    },
    {
     "name": "stdout",
     "output_type": "stream",
     "text": [
      "Adjusting learning rate of group 0 to 1.9847e-05.\n"
     ]
    },
    {
     "name": "stderr",
     "output_type": "stream",
     "text": [
      "loss: 0.248, tv: 0.171, ptv: 0.165, flow: 0.354: : 1003it [3:18:53, 12.31s/it]"
     ]
    },
    {
     "name": "stdout",
     "output_type": "stream",
     "text": [
      "Adjusting learning rate of group 0 to 1.9846e-05.\n"
     ]
    },
    {
     "name": "stderr",
     "output_type": "stream",
     "text": [
      "loss: 0.251, tv: 0.163, ptv: 0.162, flow: 0.366: : 1005it [3:19:17, 12.32s/it]"
     ]
    },
    {
     "name": "stdout",
     "output_type": "stream",
     "text": [
      "Adjusting learning rate of group 0 to 1.9846e-05.\n"
     ]
    },
    {
     "name": "stderr",
     "output_type": "stream",
     "text": [
      "loss: 0.252, tv: 0.167, ptv: 0.166, flow: 0.352: : 1007it [3:19:42, 12.32s/it]"
     ]
    },
    {
     "name": "stdout",
     "output_type": "stream",
     "text": [
      "Adjusting learning rate of group 0 to 1.9845e-05.\n"
     ]
    },
    {
     "name": "stderr",
     "output_type": "stream",
     "text": [
      "loss: 0.250, tv: 0.165, ptv: 0.163, flow: 0.336: : 1009it [3:20:07, 12.32s/it]"
     ]
    },
    {
     "name": "stdout",
     "output_type": "stream",
     "text": [
      "Adjusting learning rate of group 0 to 1.9845e-05.\n"
     ]
    },
    {
     "name": "stderr",
     "output_type": "stream",
     "text": [
      "loss: 0.260, tv: 0.160, ptv: 0.157, flow: 0.370: : 1011it [3:20:31, 12.09s/it]"
     ]
    },
    {
     "name": "stdout",
     "output_type": "stream",
     "text": [
      "Adjusting learning rate of group 0 to 1.9844e-05.\n"
     ]
    },
    {
     "name": "stderr",
     "output_type": "stream",
     "text": [
      "loss: 0.253, tv: 0.166, ptv: 0.165, flow: 0.360: : 1013it [3:20:56, 12.21s/it]"
     ]
    },
    {
     "name": "stdout",
     "output_type": "stream",
     "text": [
      "Adjusting learning rate of group 0 to 1.9843e-05.\n"
     ]
    },
    {
     "name": "stderr",
     "output_type": "stream",
     "text": [
      "loss: 0.260, tv: 0.164, ptv: 0.158, flow: 0.355: : 1015it [3:21:20, 12.26s/it]"
     ]
    },
    {
     "name": "stdout",
     "output_type": "stream",
     "text": [
      "Adjusting learning rate of group 0 to 1.9843e-05.\n"
     ]
    },
    {
     "name": "stderr",
     "output_type": "stream",
     "text": [
      "loss: 0.239, tv: 0.174, ptv: 0.171, flow: 0.338: : 1017it [3:21:45, 12.28s/it]"
     ]
    },
    {
     "name": "stdout",
     "output_type": "stream",
     "text": [
      "Adjusting learning rate of group 0 to 1.9842e-05.\n"
     ]
    },
    {
     "name": "stderr",
     "output_type": "stream",
     "text": [
      "loss: 0.255, tv: 0.160, ptv: 0.156, flow: 0.363: : 1019it [3:22:10, 12.30s/it]"
     ]
    },
    {
     "name": "stdout",
     "output_type": "stream",
     "text": [
      "Adjusting learning rate of group 0 to 1.9842e-05.\n"
     ]
    },
    {
     "name": "stderr",
     "output_type": "stream",
     "text": [
      "loss: 0.249, tv: 0.166, ptv: 0.162, flow: 0.368: : 1021it [3:22:34, 12.31s/it]"
     ]
    },
    {
     "name": "stdout",
     "output_type": "stream",
     "text": [
      "Adjusting learning rate of group 0 to 1.9841e-05.\n"
     ]
    },
    {
     "name": "stderr",
     "output_type": "stream",
     "text": [
      "loss: 0.255, tv: 0.166, ptv: 0.166, flow: 0.351: : 1023it [3:22:59, 12.15s/it]"
     ]
    },
    {
     "name": "stdout",
     "output_type": "stream",
     "text": [
      "Adjusting learning rate of group 0 to 1.9841e-05.\n"
     ]
    },
    {
     "name": "stderr",
     "output_type": "stream",
     "text": [
      "loss: 0.244, tv: 0.171, ptv: 0.169, flow: 0.317: : 1026it [3:23:24, 11.41s/it]"
     ]
    },
    {
     "name": "stdout",
     "output_type": "stream",
     "text": [
      "Adjusting learning rate of group 0 to 1.9840e-05.\n"
     ]
    },
    {
     "name": "stderr",
     "output_type": "stream",
     "text": [
      "loss: 0.254, tv: 0.159, ptv: 0.157, flow: 0.368: : 1028it [3:23:49, 11.87s/it]"
     ]
    },
    {
     "name": "stdout",
     "output_type": "stream",
     "text": [
      "Adjusting learning rate of group 0 to 1.9840e-05.\n"
     ]
    },
    {
     "name": "stderr",
     "output_type": "stream",
     "text": [
      "loss: 0.260, tv: 0.168, ptv: 0.165, flow: 0.357: : 1030it [3:24:13, 12.10s/it]"
     ]
    },
    {
     "name": "stdout",
     "output_type": "stream",
     "text": [
      "Adjusting learning rate of group 0 to 1.9839e-05.\n"
     ]
    },
    {
     "name": "stderr",
     "output_type": "stream",
     "text": [
      "loss: 0.259, tv: 0.163, ptv: 0.158, flow: 0.354: : 1032it [3:24:38, 12.21s/it]"
     ]
    },
    {
     "name": "stdout",
     "output_type": "stream",
     "text": [
      "Adjusting learning rate of group 0 to 1.9838e-05.\n"
     ]
    },
    {
     "name": "stderr",
     "output_type": "stream",
     "text": [
      "loss: 0.256, tv: 0.158, ptv: 0.156, flow: 0.360: : 1034it [3:25:03, 12.27s/it]"
     ]
    },
    {
     "name": "stdout",
     "output_type": "stream",
     "text": [
      "Adjusting learning rate of group 0 to 1.9838e-05.\n"
     ]
    },
    {
     "name": "stderr",
     "output_type": "stream",
     "text": [
      "loss: 0.255, tv: 0.157, ptv: 0.155, flow: 0.370: : 1036it [3:25:27, 12.30s/it]"
     ]
    },
    {
     "name": "stdout",
     "output_type": "stream",
     "text": [
      "Adjusting learning rate of group 0 to 1.9837e-05.\n"
     ]
    },
    {
     "name": "stderr",
     "output_type": "stream",
     "text": [
      "loss: 0.259, tv: 0.165, ptv: 0.166, flow: 0.358: : 1038it [3:25:52, 12.31s/it]"
     ]
    },
    {
     "name": "stdout",
     "output_type": "stream",
     "text": [
      "Adjusting learning rate of group 0 to 1.9837e-05.\n"
     ]
    },
    {
     "name": "stderr",
     "output_type": "stream",
     "text": [
      "loss: 0.254, tv: 0.160, ptv: 0.157, flow: 0.369: : 1040it [3:26:17, 12.32s/it]"
     ]
    },
    {
     "name": "stdout",
     "output_type": "stream",
     "text": [
      "Adjusting learning rate of group 0 to 1.9836e-05.\n"
     ]
    },
    {
     "name": "stderr",
     "output_type": "stream",
     "text": [
      "loss: 0.252, tv: 0.165, ptv: 0.164, flow: 0.356: : 1042it [3:26:41, 12.32s/it]"
     ]
    },
    {
     "name": "stdout",
     "output_type": "stream",
     "text": [
      "Adjusting learning rate of group 0 to 1.9836e-05.\n"
     ]
    },
    {
     "name": "stderr",
     "output_type": "stream",
     "text": [
      "loss: 0.250, tv: 0.169, ptv: 0.166, flow: 0.347: : 1044it [3:27:06, 12.33s/it]"
     ]
    },
    {
     "name": "stdout",
     "output_type": "stream",
     "text": [
      "Adjusting learning rate of group 0 to 1.9835e-05.\n"
     ]
    },
    {
     "name": "stderr",
     "output_type": "stream",
     "text": [
      "loss: 0.252, tv: 0.164, ptv: 0.163, flow: 0.348: : 1046it [3:27:30, 12.33s/it]"
     ]
    },
    {
     "name": "stdout",
     "output_type": "stream",
     "text": [
      "Adjusting learning rate of group 0 to 1.9834e-05.\n"
     ]
    },
    {
     "name": "stderr",
     "output_type": "stream",
     "text": [
      "loss: 0.257, tv: 0.166, ptv: 0.165, flow: 0.327: : 1048it [3:27:55, 11.67s/it]"
     ]
    },
    {
     "name": "stdout",
     "output_type": "stream",
     "text": [
      "Adjusting learning rate of group 0 to 1.9834e-05.\n"
     ]
    },
    {
     "name": "stderr",
     "output_type": "stream",
     "text": [
      "loss: 0.251, tv: 0.168, ptv: 0.165, flow: 0.370: : 1050it [3:28:20, 12.01s/it]"
     ]
    },
    {
     "name": "stdout",
     "output_type": "stream",
     "text": [
      "Adjusting learning rate of group 0 to 1.9833e-05.\n"
     ]
    },
    {
     "name": "stderr",
     "output_type": "stream",
     "text": [
      "loss: 0.236, tv: 0.169, ptv: 0.165, flow: 0.354: : 1053it [3:28:44,  9.94s/it]"
     ]
    },
    {
     "name": "stdout",
     "output_type": "stream",
     "text": [
      "Adjusting learning rate of group 0 to 1.9833e-05.\n"
     ]
    },
    {
     "name": "stderr",
     "output_type": "stream",
     "text": [
      "loss: 0.262, tv: 0.162, ptv: 0.160, flow: 0.353: : 1055it [3:29:09, 10.47s/it]"
     ]
    },
    {
     "name": "stdout",
     "output_type": "stream",
     "text": [
      "Adjusting learning rate of group 0 to 1.9832e-05.\n"
     ]
    },
    {
     "name": "stderr",
     "output_type": "stream",
     "text": [
      "loss: 0.263, tv: 0.162, ptv: 0.157, flow: 0.344: : 1057it [3:29:34, 11.42s/it]"
     ]
    },
    {
     "name": "stdout",
     "output_type": "stream",
     "text": [
      "Adjusting learning rate of group 0 to 1.9832e-05.\n"
     ]
    },
    {
     "name": "stderr",
     "output_type": "stream",
     "text": [
      "loss: 0.246, tv: 0.170, ptv: 0.168, flow: 0.350: : 1059it [3:29:59, 11.66s/it]"
     ]
    },
    {
     "name": "stdout",
     "output_type": "stream",
     "text": [
      "Adjusting learning rate of group 0 to 1.9831e-05.\n"
     ]
    },
    {
     "name": "stderr",
     "output_type": "stream",
     "text": [
      "loss: 0.256, tv: 0.163, ptv: 0.162, flow: 0.364: : 1061it [3:30:23, 12.00s/it]"
     ]
    },
    {
     "name": "stdout",
     "output_type": "stream",
     "text": [
      "Adjusting learning rate of group 0 to 1.9830e-05.\n"
     ]
    },
    {
     "name": "stderr",
     "output_type": "stream",
     "text": [
      "loss: 0.253, tv: 0.165, ptv: 0.163, flow: 0.356: : 1063it [3:30:47, 12.17s/it]"
     ]
    },
    {
     "name": "stdout",
     "output_type": "stream",
     "text": [
      "Adjusting learning rate of group 0 to 1.9830e-05.\n"
     ]
    },
    {
     "name": "stderr",
     "output_type": "stream",
     "text": [
      "loss: 0.255, tv: 0.162, ptv: 0.159, flow: 0.372: : 1065it [3:31:12, 11.11s/it]"
     ]
    },
    {
     "name": "stdout",
     "output_type": "stream",
     "text": [
      "Adjusting learning rate of group 0 to 1.9829e-05.\n"
     ]
    },
    {
     "name": "stderr",
     "output_type": "stream",
     "text": [
      "loss: 0.243, tv: 0.171, ptv: 0.168, flow: 0.355: : 1067it [3:31:37, 11.73s/it]"
     ]
    },
    {
     "name": "stdout",
     "output_type": "stream",
     "text": [
      "Adjusting learning rate of group 0 to 1.9829e-05.\n"
     ]
    },
    {
     "name": "stderr",
     "output_type": "stream",
     "text": [
      "loss: 0.252, tv: 0.168, ptv: 0.168, flow: 0.348: : 1069it [3:32:01, 12.04s/it]"
     ]
    },
    {
     "name": "stdout",
     "output_type": "stream",
     "text": [
      "Adjusting learning rate of group 0 to 1.9828e-05.\n"
     ]
    },
    {
     "name": "stderr",
     "output_type": "stream",
     "text": [
      "loss: 0.256, tv: 0.165, ptv: 0.166, flow: 0.343: : 1071it [3:32:26, 12.18s/it]"
     ]
    },
    {
     "name": "stdout",
     "output_type": "stream",
     "text": [
      "Adjusting learning rate of group 0 to 1.9828e-05.\n"
     ]
    },
    {
     "name": "stderr",
     "output_type": "stream",
     "text": [
      "loss: 0.253, tv: 0.159, ptv: 0.160, flow: 0.365: : 1073it [3:32:51, 12.26s/it]"
     ]
    },
    {
     "name": "stdout",
     "output_type": "stream",
     "text": [
      "Adjusting learning rate of group 0 to 1.9827e-05.\n"
     ]
    },
    {
     "name": "stderr",
     "output_type": "stream",
     "text": [
      "loss: 0.249, tv: 0.165, ptv: 0.160, flow: 0.372: : 1075it [3:33:15, 12.30s/it]"
     ]
    },
    {
     "name": "stdout",
     "output_type": "stream",
     "text": [
      "Adjusting learning rate of group 0 to 1.9826e-05.\n"
     ]
    },
    {
     "name": "stderr",
     "output_type": "stream",
     "text": [
      "loss: 0.239, tv: 0.169, ptv: 0.167, flow: 0.352: : 1078it [3:33:40, 11.16s/it]"
     ]
    },
    {
     "name": "stdout",
     "output_type": "stream",
     "text": [
      "Adjusting learning rate of group 0 to 1.9826e-05.\n"
     ]
    },
    {
     "name": "stderr",
     "output_type": "stream",
     "text": [
      "loss: 0.267, tv: 0.160, ptv: 0.157, flow: 0.350: : 1080it [3:34:04, 11.75s/it]"
     ]
    },
    {
     "name": "stdout",
     "output_type": "stream",
     "text": [
      "Adjusting learning rate of group 0 to 1.9825e-05.\n"
     ]
    },
    {
     "name": "stderr",
     "output_type": "stream",
     "text": [
      "loss: 0.255, tv: 0.167, ptv: 0.167, flow: 0.348: : 1082it [3:34:29,  9.26s/it]"
     ]
    },
    {
     "name": "stdout",
     "output_type": "stream",
     "text": [
      "Adjusting learning rate of group 0 to 1.9825e-05.\n"
     ]
    },
    {
     "name": "stderr",
     "output_type": "stream",
     "text": [
      "loss: 0.255, tv: 0.167, ptv: 0.166, flow: 0.326: : 1084it [3:34:54, 10.81s/it]"
     ]
    },
    {
     "name": "stdout",
     "output_type": "stream",
     "text": [
      "Adjusting learning rate of group 0 to 1.9824e-05.\n"
     ]
    },
    {
     "name": "stderr",
     "output_type": "stream",
     "text": [
      "loss: 0.257, tv: 0.162, ptv: 0.160, flow: 0.355: : 1086it [3:35:19, 11.59s/it]"
     ]
    },
    {
     "name": "stdout",
     "output_type": "stream",
     "text": [
      "Adjusting learning rate of group 0 to 1.9823e-05.\n"
     ]
    },
    {
     "name": "stderr",
     "output_type": "stream",
     "text": [
      "loss: 0.264, tv: 0.161, ptv: 0.159, flow: 0.371: : 1088it [3:35:43, 11.96s/it]"
     ]
    },
    {
     "name": "stdout",
     "output_type": "stream",
     "text": [
      "Adjusting learning rate of group 0 to 1.9823e-05.\n"
     ]
    },
    {
     "name": "stderr",
     "output_type": "stream",
     "text": [
      "loss: 0.246, tv: 0.170, ptv: 0.170, flow: 0.352: : 1090it [3:36:08, 12.14s/it]"
     ]
    },
    {
     "name": "stdout",
     "output_type": "stream",
     "text": [
      "Adjusting learning rate of group 0 to 1.9822e-05.\n"
     ]
    },
    {
     "name": "stderr",
     "output_type": "stream",
     "text": [
      "loss: 0.256, tv: 0.162, ptv: 0.162, flow: 0.343: : 1092it [3:36:32, 12.24s/it]"
     ]
    },
    {
     "name": "stdout",
     "output_type": "stream",
     "text": [
      "Adjusting learning rate of group 0 to 1.9822e-05.\n"
     ]
    },
    {
     "name": "stderr",
     "output_type": "stream",
     "text": [
      "loss: 0.262, tv: 0.163, ptv: 0.161, flow: 0.344: : 1094it [3:36:57, 12.28s/it]"
     ]
    },
    {
     "name": "stdout",
     "output_type": "stream",
     "text": [
      "Adjusting learning rate of group 0 to 1.9821e-05.\n"
     ]
    },
    {
     "name": "stderr",
     "output_type": "stream",
     "text": [
      "loss: 0.255, tv: 0.166, ptv: 0.164, flow: 0.365: : 1097it [3:37:22,  9.31s/it]"
     ]
    },
    {
     "name": "stdout",
     "output_type": "stream",
     "text": [
      "Adjusting learning rate of group 0 to 1.9821e-05.\n"
     ]
    },
    {
     "name": "stderr",
     "output_type": "stream",
     "text": [
      "loss: 0.267, tv: 0.160, ptv: 0.157, flow: 0.365: : 1099it [3:37:47, 10.85s/it]"
     ]
    },
    {
     "name": "stdout",
     "output_type": "stream",
     "text": [
      "Adjusting learning rate of group 0 to 1.9820e-05.\n"
     ]
    },
    {
     "name": "stderr",
     "output_type": "stream",
     "text": [
      "loss: 0.254, tv: 0.166, ptv: 0.165, flow: 0.350: : 1101it [3:38:11, 11.61s/it]"
     ]
    },
    {
     "name": "stdout",
     "output_type": "stream",
     "text": [
      "Adjusting learning rate of group 0 to 1.9819e-05.\n"
     ]
    },
    {
     "name": "stderr",
     "output_type": "stream",
     "text": [
      "loss: 0.248, tv: 0.162, ptv: 0.160, flow: 0.360: : 1103it [3:38:36, 11.97s/it]"
     ]
    },
    {
     "name": "stdout",
     "output_type": "stream",
     "text": [
      "Adjusting learning rate of group 0 to 1.9819e-05.\n"
     ]
    },
    {
     "name": "stderr",
     "output_type": "stream",
     "text": [
      "loss: 0.246, tv: 0.161, ptv: 0.159, flow: 0.363: : 1105it [3:39:01, 12.16s/it]"
     ]
    },
    {
     "name": "stdout",
     "output_type": "stream",
     "text": [
      "Adjusting learning rate of group 0 to 1.9818e-05.\n"
     ]
    },
    {
     "name": "stderr",
     "output_type": "stream",
     "text": [
      "loss: 0.243, tv: 0.163, ptv: 0.162, flow: 0.364: : 1107it [3:39:25, 12.24s/it]"
     ]
    },
    {
     "name": "stdout",
     "output_type": "stream",
     "text": [
      "Adjusting learning rate of group 0 to 1.9818e-05.\n"
     ]
    },
    {
     "name": "stderr",
     "output_type": "stream",
     "text": [
      "loss: 0.257, tv: 0.165, ptv: 0.165, flow: 0.371: : 1109it [3:39:50, 12.28s/it]"
     ]
    },
    {
     "name": "stdout",
     "output_type": "stream",
     "text": [
      "Adjusting learning rate of group 0 to 1.9817e-05.\n"
     ]
    },
    {
     "name": "stderr",
     "output_type": "stream",
     "text": [
      "loss: 0.258, tv: 0.163, ptv: 0.159, flow: 0.348: : 1111it [3:40:15, 12.31s/it]"
     ]
    },
    {
     "name": "stdout",
     "output_type": "stream",
     "text": [
      "Adjusting learning rate of group 0 to 1.9816e-05.\n"
     ]
    },
    {
     "name": "stderr",
     "output_type": "stream",
     "text": [
      "loss: 0.259, tv: 0.160, ptv: 0.158, flow: 0.358: : 1113it [3:40:39, 12.31s/it]"
     ]
    },
    {
     "name": "stdout",
     "output_type": "stream",
     "text": [
      "Adjusting learning rate of group 0 to 1.9816e-05.\n"
     ]
    },
    {
     "name": "stderr",
     "output_type": "stream",
     "text": [
      "loss: 0.250, tv: 0.159, ptv: 0.157, flow: 0.361: : 1115it [3:41:04, 11.84s/it]"
     ]
    },
    {
     "name": "stdout",
     "output_type": "stream",
     "text": [
      "Adjusting learning rate of group 0 to 1.9815e-05.\n"
     ]
    },
    {
     "name": "stderr",
     "output_type": "stream",
     "text": [
      "loss: 0.252, tv: 0.166, ptv: 0.165, flow: 0.368: : 1117it [3:41:28, 12.09s/it]"
     ]
    },
    {
     "name": "stdout",
     "output_type": "stream",
     "text": [
      "Adjusting learning rate of group 0 to 1.9815e-05.\n"
     ]
    },
    {
     "name": "stderr",
     "output_type": "stream",
     "text": [
      "loss: 0.253, tv: 0.162, ptv: 0.158, flow: 0.372: : 1119it [3:41:53, 12.21s/it]"
     ]
    },
    {
     "name": "stdout",
     "output_type": "stream",
     "text": [
      "Adjusting learning rate of group 0 to 1.9814e-05.\n"
     ]
    },
    {
     "name": "stderr",
     "output_type": "stream",
     "text": [
      "loss: 0.251, tv: 0.165, ptv: 0.164, flow: 0.316: : 1121it [3:42:18, 11.81s/it]"
     ]
    },
    {
     "name": "stdout",
     "output_type": "stream",
     "text": [
      "Adjusting learning rate of group 0 to 1.9813e-05.\n"
     ]
    },
    {
     "name": "stderr",
     "output_type": "stream",
     "text": [
      "loss: 0.247, tv: 0.169, ptv: 0.169, flow: 0.313: : 1124it [3:42:43, 11.53s/it]"
     ]
    },
    {
     "name": "stdout",
     "output_type": "stream",
     "text": [
      "Adjusting learning rate of group 0 to 1.9813e-05.\n"
     ]
    },
    {
     "name": "stderr",
     "output_type": "stream",
     "text": [
      "loss: 0.262, tv: 0.164, ptv: 0.164, flow: 0.360: : 1126it [3:43:07, 11.00s/it]"
     ]
    },
    {
     "name": "stdout",
     "output_type": "stream",
     "text": [
      "Adjusting learning rate of group 0 to 1.9812e-05.\n"
     ]
    },
    {
     "name": "stderr",
     "output_type": "stream",
     "text": [
      "loss: 0.277, tv: 0.155, ptv: 0.152, flow: 0.378: : 1128it [3:43:32, 11.51s/it]"
     ]
    },
    {
     "name": "stdout",
     "output_type": "stream",
     "text": [
      "Adjusting learning rate of group 0 to 1.9812e-05.\n"
     ]
    },
    {
     "name": "stderr",
     "output_type": "stream",
     "text": [
      "loss: 0.241, tv: 0.166, ptv: 0.167, flow: 0.334: : 1130it [3:43:57, 11.93s/it]"
     ]
    },
    {
     "name": "stdout",
     "output_type": "stream",
     "text": [
      "Adjusting learning rate of group 0 to 1.9811e-05.\n"
     ]
    },
    {
     "name": "stderr",
     "output_type": "stream",
     "text": [
      "loss: 0.240, tv: 0.170, ptv: 0.166, flow: 0.356: : 1132it [3:44:21, 12.13s/it]"
     ]
    },
    {
     "name": "stdout",
     "output_type": "stream",
     "text": [
      "Adjusting learning rate of group 0 to 1.9810e-05.\n"
     ]
    },
    {
     "name": "stderr",
     "output_type": "stream",
     "text": [
      "loss: 0.244, tv: 0.165, ptv: 0.162, flow: 0.357: : 1134it [3:44:46, 12.22s/it]"
     ]
    },
    {
     "name": "stdout",
     "output_type": "stream",
     "text": [
      "Adjusting learning rate of group 0 to 1.9810e-05.\n"
     ]
    },
    {
     "name": "stderr",
     "output_type": "stream",
     "text": [
      "loss: 0.255, tv: 0.167, ptv: 0.167, flow: 0.354: : 1136it [3:45:10, 12.28s/it]"
     ]
    },
    {
     "name": "stdout",
     "output_type": "stream",
     "text": [
      "Adjusting learning rate of group 0 to 1.9809e-05.\n"
     ]
    },
    {
     "name": "stderr",
     "output_type": "stream",
     "text": [
      "loss: 0.259, tv: 0.165, ptv: 0.166, flow: 0.334: : 1138it [3:45:35, 12.30s/it]"
     ]
    },
    {
     "name": "stdout",
     "output_type": "stream",
     "text": [
      "Adjusting learning rate of group 0 to 1.9808e-05.\n"
     ]
    },
    {
     "name": "stderr",
     "output_type": "stream",
     "text": [
      "loss: 0.251, tv: 0.167, ptv: 0.167, flow: 0.329: : 1140it [3:46:00, 12.31s/it]"
     ]
    },
    {
     "name": "stdout",
     "output_type": "stream",
     "text": [
      "Adjusting learning rate of group 0 to 1.9808e-05.\n"
     ]
    },
    {
     "name": "stderr",
     "output_type": "stream",
     "text": [
      "loss: 0.248, tv: 0.168, ptv: 0.168, flow: 0.326: : 1142it [3:46:24, 12.31s/it]"
     ]
    },
    {
     "name": "stdout",
     "output_type": "stream",
     "text": [
      "Adjusting learning rate of group 0 to 1.9807e-05.\n"
     ]
    },
    {
     "name": "stderr",
     "output_type": "stream",
     "text": [
      "loss: 0.252, tv: 0.164, ptv: 0.163, flow: 0.331: : 1144it [3:46:49, 12.32s/it]"
     ]
    },
    {
     "name": "stdout",
     "output_type": "stream",
     "text": [
      "Adjusting learning rate of group 0 to 1.9807e-05.\n"
     ]
    },
    {
     "name": "stderr",
     "output_type": "stream",
     "text": [
      "loss: 0.263, tv: 0.165, ptv: 0.165, flow: 0.337: : 1146it [3:47:13, 10.86s/it]"
     ]
    },
    {
     "name": "stdout",
     "output_type": "stream",
     "text": [
      "Adjusting learning rate of group 0 to 1.9806e-05.\n"
     ]
    },
    {
     "name": "stderr",
     "output_type": "stream",
     "text": [
      "loss: 0.269, tv: 0.161, ptv: 0.158, flow: 0.374: : 1148it [3:47:38, 11.61s/it]"
     ]
    },
    {
     "name": "stdout",
     "output_type": "stream",
     "text": [
      "Adjusting learning rate of group 0 to 1.9805e-05.\n"
     ]
    },
    {
     "name": "stderr",
     "output_type": "stream",
     "text": [
      "loss: 0.264, tv: 0.160, ptv: 0.156, flow: 0.373: : 1151it [3:48:02, 11.85s/it]"
     ]
    },
    {
     "name": "stdout",
     "output_type": "stream",
     "text": [
      "Adjusting learning rate of group 0 to 1.9805e-05.\n"
     ]
    },
    {
     "name": "stderr",
     "output_type": "stream",
     "text": [
      "loss: 0.245, tv: 0.166, ptv: 0.163, flow: 0.364: : 1153it [3:48:27, 12.09s/it]"
     ]
    },
    {
     "name": "stdout",
     "output_type": "stream",
     "text": [
      "Adjusting learning rate of group 0 to 1.9804e-05.\n"
     ]
    },
    {
     "name": "stderr",
     "output_type": "stream",
     "text": [
      "loss: 0.237, tv: 0.164, ptv: 0.162, flow: 0.357: : 1155it [3:48:52, 12.22s/it]"
     ]
    },
    {
     "name": "stdout",
     "output_type": "stream",
     "text": [
      "Adjusting learning rate of group 0 to 1.9804e-05.\n"
     ]
    },
    {
     "name": "stderr",
     "output_type": "stream",
     "text": [
      "loss: 0.251, tv: 0.162, ptv: 0.162, flow: 0.344: : 1157it [3:49:16, 12.27s/it]"
     ]
    },
    {
     "name": "stdout",
     "output_type": "stream",
     "text": [
      "Adjusting learning rate of group 0 to 1.9803e-05.\n"
     ]
    },
    {
     "name": "stderr",
     "output_type": "stream",
     "text": [
      "loss: 0.250, tv: 0.165, ptv: 0.162, flow: 0.350: : 1159it [3:49:41, 12.30s/it]"
     ]
    },
    {
     "name": "stdout",
     "output_type": "stream",
     "text": [
      "Adjusting learning rate of group 0 to 1.9802e-05.\n"
     ]
    },
    {
     "name": "stderr",
     "output_type": "stream",
     "text": [
      "loss: 0.262, tv: 0.156, ptv: 0.155, flow: 0.361: : 1161it [3:50:06, 12.31s/it]"
     ]
    },
    {
     "name": "stdout",
     "output_type": "stream",
     "text": [
      "Adjusting learning rate of group 0 to 1.9802e-05.\n"
     ]
    },
    {
     "name": "stderr",
     "output_type": "stream",
     "text": [
      "loss: 0.242, tv: 0.172, ptv: 0.173, flow: 0.349: : 1163it [3:50:31, 11.16s/it]"
     ]
    },
    {
     "name": "stdout",
     "output_type": "stream",
     "text": [
      "Adjusting learning rate of group 0 to 1.9801e-05.\n"
     ]
    },
    {
     "name": "stderr",
     "output_type": "stream",
     "text": [
      "loss: 0.256, tv: 0.164, ptv: 0.164, flow: 0.368: : 1165it [3:50:55, 10.58s/it]"
     ]
    },
    {
     "name": "stdout",
     "output_type": "stream",
     "text": [
      "Adjusting learning rate of group 0 to 1.9800e-05.\n"
     ]
    },
    {
     "name": "stderr",
     "output_type": "stream",
     "text": [
      "loss: 0.245, tv: 0.169, ptv: 0.169, flow: 0.348: : 1167it [3:51:20, 11.47s/it]"
     ]
    },
    {
     "name": "stdout",
     "output_type": "stream",
     "text": [
      "Adjusting learning rate of group 0 to 1.9800e-05.\n"
     ]
    },
    {
     "name": "stderr",
     "output_type": "stream",
     "text": [
      "loss: 0.275, tv: 0.158, ptv: 0.154, flow: 0.396: : 1169it [3:51:45, 11.90s/it]"
     ]
    },
    {
     "name": "stdout",
     "output_type": "stream",
     "text": [
      "Adjusting learning rate of group 0 to 1.9799e-05.\n"
     ]
    },
    {
     "name": "stderr",
     "output_type": "stream",
     "text": [
      "loss: 0.248, tv: 0.166, ptv: 0.164, flow: 0.349: : 1171it [3:52:09, 12.12s/it]"
     ]
    },
    {
     "name": "stdout",
     "output_type": "stream",
     "text": [
      "Adjusting learning rate of group 0 to 1.9799e-05.\n"
     ]
    },
    {
     "name": "stderr",
     "output_type": "stream",
     "text": [
      "loss: 0.251, tv: 0.168, ptv: 0.168, flow: 0.337: : 1173it [3:52:34, 12.22s/it]"
     ]
    },
    {
     "name": "stdout",
     "output_type": "stream",
     "text": [
      "Adjusting learning rate of group 0 to 1.9798e-05.\n"
     ]
    },
    {
     "name": "stderr",
     "output_type": "stream",
     "text": [
      "loss: 0.246, tv: 0.166, ptv: 0.162, flow: 0.360: : 1175it [3:52:58, 11.81s/it]"
     ]
    },
    {
     "name": "stdout",
     "output_type": "stream",
     "text": [
      "Adjusting learning rate of group 0 to 1.9797e-05.\n"
     ]
    },
    {
     "name": "stderr",
     "output_type": "stream",
     "text": [
      "loss: 0.248, tv: 0.165, ptv: 0.163, flow: 0.357: : 1177it [3:53:23, 12.08s/it]"
     ]
    },
    {
     "name": "stdout",
     "output_type": "stream",
     "text": [
      "Adjusting learning rate of group 0 to 1.9797e-05.\n"
     ]
    },
    {
     "name": "stderr",
     "output_type": "stream",
     "text": [
      "loss: 0.247, tv: 0.165, ptv: 0.163, flow: 0.366: : 1179it [3:53:48, 12.20s/it]"
     ]
    },
    {
     "name": "stdout",
     "output_type": "stream",
     "text": [
      "Adjusting learning rate of group 0 to 1.9796e-05.\n"
     ]
    },
    {
     "name": "stderr",
     "output_type": "stream",
     "text": [
      "loss: 0.258, tv: 0.165, ptv: 0.163, flow: 0.322: : 1181it [3:54:12, 12.26s/it]"
     ]
    },
    {
     "name": "stdout",
     "output_type": "stream",
     "text": [
      "Adjusting learning rate of group 0 to 1.9795e-05.\n"
     ]
    },
    {
     "name": "stderr",
     "output_type": "stream",
     "text": [
      "loss: 0.252, tv: 0.167, ptv: 0.168, flow: 0.370: : 1183it [3:54:37, 12.29s/it]"
     ]
    },
    {
     "name": "stdout",
     "output_type": "stream",
     "text": [
      "Adjusting learning rate of group 0 to 1.9795e-05.\n"
     ]
    },
    {
     "name": "stderr",
     "output_type": "stream",
     "text": [
      "loss: 0.247, tv: 0.164, ptv: 0.163, flow: 0.353: : 1186it [3:55:02, 11.25s/it]"
     ]
    },
    {
     "name": "stdout",
     "output_type": "stream",
     "text": [
      "Adjusting learning rate of group 0 to 1.9794e-05.\n"
     ]
    },
    {
     "name": "stderr",
     "output_type": "stream",
     "text": [
      "loss: 0.271, tv: 0.160, ptv: 0.157, flow: 0.357: : 1188it [3:55:27, 11.80s/it]"
     ]
    },
    {
     "name": "stdout",
     "output_type": "stream",
     "text": [
      "Adjusting learning rate of group 0 to 1.9794e-05.\n"
     ]
    },
    {
     "name": "stderr",
     "output_type": "stream",
     "text": [
      "loss: 0.264, tv: 0.159, ptv: 0.157, flow: 0.376: : 1190it [3:55:51, 11.84s/it]"
     ]
    },
    {
     "name": "stdout",
     "output_type": "stream",
     "text": [
      "Adjusting learning rate of group 0 to 1.9793e-05.\n"
     ]
    },
    {
     "name": "stderr",
     "output_type": "stream",
     "text": [
      "loss: 0.253, tv: 0.168, ptv: 0.165, flow: 0.344: : 1192it [3:56:16, 10.94s/it]"
     ]
    },
    {
     "name": "stdout",
     "output_type": "stream",
     "text": [
      "Adjusting learning rate of group 0 to 1.9792e-05.\n"
     ]
    },
    {
     "name": "stderr",
     "output_type": "stream",
     "text": [
      "loss: 0.254, tv: 0.167, ptv: 0.167, flow: 0.367: : 1195it [3:56:41, 10.91s/it]"
     ]
    },
    {
     "name": "stdout",
     "output_type": "stream",
     "text": [
      "Adjusting learning rate of group 0 to 1.9792e-05.\n"
     ]
    },
    {
     "name": "stderr",
     "output_type": "stream",
     "text": [
      "loss: 0.252, tv: 0.163, ptv: 0.160, flow: 0.359: : 1197it [3:57:05,  9.79s/it]"
     ]
    },
    {
     "name": "stdout",
     "output_type": "stream",
     "text": [
      "Adjusting learning rate of group 0 to 1.9791e-05.\n"
     ]
    },
    {
     "name": "stderr",
     "output_type": "stream",
     "text": [
      "loss: 0.251, tv: 0.160, ptv: 0.160, flow: 0.368: : 1199it [3:57:30, 11.08s/it]"
     ]
    },
    {
     "name": "stdout",
     "output_type": "stream",
     "text": [
      "Adjusting learning rate of group 0 to 1.9790e-05.\n"
     ]
    },
    {
     "name": "stderr",
     "output_type": "stream",
     "text": [
      "loss: 0.239, tv: 0.173, ptv: 0.173, flow: 0.342: : 1202it [3:57:54, 10.76s/it]"
     ]
    },
    {
     "name": "stdout",
     "output_type": "stream",
     "text": [
      "Adjusting learning rate of group 0 to 1.9790e-05.\n"
     ]
    },
    {
     "name": "stderr",
     "output_type": "stream",
     "text": [
      "loss: 0.270, tv: 0.158, ptv: 0.156, flow: 0.352: : 1204it [3:58:19, 11.56s/it]"
     ]
    },
    {
     "name": "stdout",
     "output_type": "stream",
     "text": [
      "Adjusting learning rate of group 0 to 1.9789e-05.\n"
     ]
    },
    {
     "name": "stderr",
     "output_type": "stream",
     "text": [
      "loss: 0.259, tv: 0.160, ptv: 0.160, flow: 0.385: : 1206it [3:58:44, 11.96s/it]"
     ]
    },
    {
     "name": "stdout",
     "output_type": "stream",
     "text": [
      "Adjusting learning rate of group 0 to 1.9788e-05.\n"
     ]
    },
    {
     "name": "stderr",
     "output_type": "stream",
     "text": [
      "loss: 0.245, tv: 0.172, ptv: 0.169, flow: 0.358: : 1208it [3:59:08, 12.15s/it]"
     ]
    },
    {
     "name": "stdout",
     "output_type": "stream",
     "text": [
      "Adjusting learning rate of group 0 to 1.9788e-05.\n"
     ]
    },
    {
     "name": "stderr",
     "output_type": "stream",
     "text": [
      "loss: 0.260, tv: 0.167, ptv: 0.165, flow: 0.339: : 1210it [3:59:33, 12.24s/it]"
     ]
    },
    {
     "name": "stdout",
     "output_type": "stream",
     "text": [
      "Adjusting learning rate of group 0 to 1.9787e-05.\n"
     ]
    },
    {
     "name": "stderr",
     "output_type": "stream",
     "text": [
      "loss: 0.272, tv: 0.161, ptv: 0.156, flow: 0.365: : 1212it [3:59:58, 12.29s/it]"
     ]
    },
    {
     "name": "stdout",
     "output_type": "stream",
     "text": [
      "Adjusting learning rate of group 0 to 1.9786e-05.\n"
     ]
    },
    {
     "name": "stderr",
     "output_type": "stream",
     "text": [
      "loss: 0.255, tv: 0.160, ptv: 0.159, flow: 0.375: : 1214it [4:00:22, 12.31s/it]"
     ]
    },
    {
     "name": "stdout",
     "output_type": "stream",
     "text": [
      "Adjusting learning rate of group 0 to 1.9786e-05.\n"
     ]
    },
    {
     "name": "stderr",
     "output_type": "stream",
     "text": [
      "loss: 0.237, tv: 0.169, ptv: 0.168, flow: 0.344: : 1216it [4:00:47, 12.32s/it]"
     ]
    },
    {
     "name": "stdout",
     "output_type": "stream",
     "text": [
      "Adjusting learning rate of group 0 to 1.9785e-05.\n"
     ]
    },
    {
     "name": "stderr",
     "output_type": "stream",
     "text": [
      "loss: 0.247, tv: 0.164, ptv: 0.164, flow: 0.371: : 1218it [4:01:12, 12.32s/it]"
     ]
    },
    {
     "name": "stdout",
     "output_type": "stream",
     "text": [
      "Adjusting learning rate of group 0 to 1.9785e-05.\n"
     ]
    },
    {
     "name": "stderr",
     "output_type": "stream",
     "text": [
      "loss: 0.241, tv: 0.168, ptv: 0.166, flow: 0.331: : 1220it [4:01:36, 12.32s/it]"
     ]
    },
    {
     "name": "stdout",
     "output_type": "stream",
     "text": [
      "Adjusting learning rate of group 0 to 1.9784e-05.\n"
     ]
    },
    {
     "name": "stderr",
     "output_type": "stream",
     "text": [
      "loss: 0.253, tv: 0.167, ptv: 0.169, flow: 0.347: : 1222it [4:02:01, 12.33s/it]"
     ]
    },
    {
     "name": "stdout",
     "output_type": "stream",
     "text": [
      "Adjusting learning rate of group 0 to 1.9783e-05.\n"
     ]
    },
    {
     "name": "stderr",
     "output_type": "stream",
     "text": [
      "loss: 0.274, tv: 0.154, ptv: 0.148, flow: 0.363: : 1224it [4:02:26, 12.33s/it]"
     ]
    },
    {
     "name": "stdout",
     "output_type": "stream",
     "text": [
      "Adjusting learning rate of group 0 to 1.9783e-05.\n"
     ]
    },
    {
     "name": "stderr",
     "output_type": "stream",
     "text": [
      "loss: 0.257, tv: 0.160, ptv: 0.157, flow: 0.355: : 1226it [4:02:51, 10.93s/it]"
     ]
    },
    {
     "name": "stdout",
     "output_type": "stream",
     "text": [
      "Adjusting learning rate of group 0 to 1.9782e-05.\n"
     ]
    },
    {
     "name": "stderr",
     "output_type": "stream",
     "text": [
      "loss: 0.253, tv: 0.164, ptv: 0.162, flow: 0.367: : 1228it [4:03:16, 11.71s/it]"
     ]
    },
    {
     "name": "stdout",
     "output_type": "stream",
     "text": [
      "Adjusting learning rate of group 0 to 1.9781e-05.\n"
     ]
    },
    {
     "name": "stderr",
     "output_type": "stream",
     "text": [
      "loss: 0.248, tv: 0.168, ptv: 0.167, flow: 0.356: : 1230it [4:03:40, 11.81s/it]"
     ]
    },
    {
     "name": "stdout",
     "output_type": "stream",
     "text": [
      "Adjusting learning rate of group 0 to 1.9781e-05.\n"
     ]
    },
    {
     "name": "stderr",
     "output_type": "stream",
     "text": [
      "loss: 0.256, tv: 0.159, ptv: 0.156, flow: 0.359: : 1232it [4:04:05, 12.08s/it]"
     ]
    },
    {
     "name": "stdout",
     "output_type": "stream",
     "text": [
      "Adjusting learning rate of group 0 to 1.9780e-05.\n"
     ]
    },
    {
     "name": "stderr",
     "output_type": "stream",
     "text": [
      "loss: 0.255, tv: 0.163, ptv: 0.163, flow: 0.343: : 1234it [4:04:30, 12.20s/it]"
     ]
    },
    {
     "name": "stdout",
     "output_type": "stream",
     "text": [
      "Adjusting learning rate of group 0 to 1.9779e-05.\n"
     ]
    },
    {
     "name": "stderr",
     "output_type": "stream",
     "text": [
      "loss: 0.256, tv: 0.163, ptv: 0.161, flow: 0.356: : 1237it [4:04:55, 10.50s/it]"
     ]
    },
    {
     "name": "stdout",
     "output_type": "stream",
     "text": [
      "Adjusting learning rate of group 0 to 1.9779e-05.\n"
     ]
    },
    {
     "name": "stderr",
     "output_type": "stream",
     "text": [
      "loss: 0.238, tv: 0.167, ptv: 0.167, flow: 0.327: : 1239it [4:05:19, 11.43s/it]"
     ]
    },
    {
     "name": "stdout",
     "output_type": "stream",
     "text": [
      "Adjusting learning rate of group 0 to 1.9778e-05.\n"
     ]
    },
    {
     "name": "stderr",
     "output_type": "stream",
     "text": [
      "loss: 0.245, tv: 0.173, ptv: 0.170, flow: 0.358: : 1241it [4:05:43, 11.23s/it]"
     ]
    },
    {
     "name": "stdout",
     "output_type": "stream",
     "text": [
      "Adjusting learning rate of group 0 to 1.9777e-05.\n"
     ]
    },
    {
     "name": "stderr",
     "output_type": "stream",
     "text": [
      "loss: 0.249, tv: 0.168, ptv: 0.165, flow: 0.343: : 1243it [4:06:08, 10.81s/it]"
     ]
    },
    {
     "name": "stdout",
     "output_type": "stream",
     "text": [
      "Adjusting learning rate of group 0 to 1.9777e-05.\n"
     ]
    },
    {
     "name": "stderr",
     "output_type": "stream",
     "text": [
      "loss: 0.239, tv: 0.165, ptv: 0.163, flow: 0.359: : 1246it [4:06:33,  9.95s/it]"
     ]
    },
    {
     "name": "stdout",
     "output_type": "stream",
     "text": [
      "Adjusting learning rate of group 0 to 1.9776e-05.\n"
     ]
    },
    {
     "name": "stderr",
     "output_type": "stream",
     "text": [
      "loss: 0.239, tv: 0.173, ptv: 0.169, flow: 0.353: : 1248it [4:06:57, 11.17s/it]"
     ]
    },
    {
     "name": "stdout",
     "output_type": "stream",
     "text": [
      "Adjusting learning rate of group 0 to 1.9775e-05.\n"
     ]
    },
    {
     "name": "stderr",
     "output_type": "stream",
     "text": [
      "loss: 0.259, tv: 0.166, ptv: 0.163, flow: 0.320: : 1250it [4:07:22, 10.44s/it]"
     ]
    },
    {
     "name": "stdout",
     "output_type": "stream",
     "text": [
      "Adjusting learning rate of group 0 to 1.9775e-05.\n"
     ]
    },
    {
     "name": "stderr",
     "output_type": "stream",
     "text": [
      "loss: 0.246, tv: 0.164, ptv: 0.161, flow: 0.351: : 1252it [4:07:46, 11.41s/it]"
     ]
    },
    {
     "name": "stdout",
     "output_type": "stream",
     "text": [
      "Adjusting learning rate of group 0 to 1.9774e-05.\n"
     ]
    },
    {
     "name": "stderr",
     "output_type": "stream",
     "text": [
      "loss: 0.248, tv: 0.165, ptv: 0.162, flow: 0.345: : 1254it [4:08:11, 11.88s/it]"
     ]
    },
    {
     "name": "stdout",
     "output_type": "stream",
     "text": [
      "Adjusting learning rate of group 0 to 1.9773e-05.\n"
     ]
    },
    {
     "name": "stderr",
     "output_type": "stream",
     "text": [
      "loss: 0.264, tv: 0.161, ptv: 0.159, flow: 0.353: : 1256it [4:08:36, 12.11s/it]"
     ]
    },
    {
     "name": "stdout",
     "output_type": "stream",
     "text": [
      "Adjusting learning rate of group 0 to 1.9773e-05.\n"
     ]
    },
    {
     "name": "stderr",
     "output_type": "stream",
     "text": [
      "loss: 0.248, tv: 0.171, ptv: 0.169, flow: 0.327: : 1258it [4:09:00, 12.23s/it]"
     ]
    },
    {
     "name": "stdout",
     "output_type": "stream",
     "text": [
      "Adjusting learning rate of group 0 to 1.9772e-05.\n"
     ]
    },
    {
     "name": "stderr",
     "output_type": "stream",
     "text": [
      "loss: 0.257, tv: 0.165, ptv: 0.163, flow: 0.364: : 1261it [4:09:25,  9.51s/it]"
     ]
    },
    {
     "name": "stdout",
     "output_type": "stream",
     "text": [
      "Adjusting learning rate of group 0 to 1.9771e-05.\n"
     ]
    },
    {
     "name": "stderr",
     "output_type": "stream",
     "text": [
      "loss: 0.239, tv: 0.173, ptv: 0.173, flow: 0.344: : 1263it [4:09:50, 10.80s/it]"
     ]
    },
    {
     "name": "stdout",
     "output_type": "stream",
     "text": [
      "Adjusting learning rate of group 0 to 1.9771e-05.\n"
     ]
    },
    {
     "name": "stderr",
     "output_type": "stream",
     "text": [
      "loss: 0.252, tv: 0.167, ptv: 0.166, flow: 0.342: : 1265it [4:10:15, 11.58s/it]"
     ]
    },
    {
     "name": "stdout",
     "output_type": "stream",
     "text": [
      "Adjusting learning rate of group 0 to 1.9770e-05.\n"
     ]
    },
    {
     "name": "stderr",
     "output_type": "stream",
     "text": [
      "loss: 0.246, tv: 0.170, ptv: 0.169, flow: 0.323: : 1267it [4:10:39, 11.96s/it]"
     ]
    },
    {
     "name": "stdout",
     "output_type": "stream",
     "text": [
      "Adjusting learning rate of group 0 to 1.9769e-05.\n"
     ]
    },
    {
     "name": "stderr",
     "output_type": "stream",
     "text": [
      "loss: 0.239, tv: 0.172, ptv: 0.170, flow: 0.342: : 1269it [4:11:04, 12.16s/it]"
     ]
    },
    {
     "name": "stdout",
     "output_type": "stream",
     "text": [
      "Adjusting learning rate of group 0 to 1.9769e-05.\n"
     ]
    },
    {
     "name": "stderr",
     "output_type": "stream",
     "text": [
      "loss: 0.249, tv: 0.168, ptv: 0.168, flow: 0.359: : 1271it [4:11:29, 12.02s/it]"
     ]
    },
    {
     "name": "stdout",
     "output_type": "stream",
     "text": [
      "Adjusting learning rate of group 0 to 1.9768e-05.\n"
     ]
    },
    {
     "name": "stderr",
     "output_type": "stream",
     "text": [
      "loss: 0.251, tv: 0.169, ptv: 0.165, flow: 0.336: : 1273it [4:11:53, 12.18s/it]"
     ]
    },
    {
     "name": "stdout",
     "output_type": "stream",
     "text": [
      "Adjusting learning rate of group 0 to 1.9767e-05.\n"
     ]
    },
    {
     "name": "stderr",
     "output_type": "stream",
     "text": [
      "loss: 0.243, tv: 0.165, ptv: 0.160, flow: 0.367: : 1275it [4:12:18, 12.25s/it]"
     ]
    },
    {
     "name": "stdout",
     "output_type": "stream",
     "text": [
      "Adjusting learning rate of group 0 to 1.9767e-05.\n"
     ]
    },
    {
     "name": "stderr",
     "output_type": "stream",
     "text": [
      "loss: 0.253, tv: 0.166, ptv: 0.163, flow: 0.325: : 1278it [4:12:43, 10.99s/it]"
     ]
    },
    {
     "name": "stdout",
     "output_type": "stream",
     "text": [
      "Adjusting learning rate of group 0 to 1.9766e-05.\n"
     ]
    },
    {
     "name": "stderr",
     "output_type": "stream",
     "text": [
      "loss: 0.246, tv: 0.163, ptv: 0.163, flow: 0.337: : 1280it [4:13:08, 11.68s/it]"
     ]
    },
    {
     "name": "stdout",
     "output_type": "stream",
     "text": [
      "Adjusting learning rate of group 0 to 1.9765e-05.\n"
     ]
    },
    {
     "name": "stderr",
     "output_type": "stream",
     "text": [
      "loss: 0.242, tv: 0.172, ptv: 0.171, flow: 0.345: : 1282it [4:13:32, 11.31s/it]"
     ]
    },
    {
     "name": "stdout",
     "output_type": "stream",
     "text": [
      "Adjusting learning rate of group 0 to 1.9765e-05.\n"
     ]
    },
    {
     "name": "stderr",
     "output_type": "stream",
     "text": [
      "loss: 0.252, tv: 0.162, ptv: 0.160, flow: 0.369: : 1284it [4:13:56, 11.34s/it]"
     ]
    },
    {
     "name": "stdout",
     "output_type": "stream",
     "text": [
      "Adjusting learning rate of group 0 to 1.9764e-05.\n"
     ]
    },
    {
     "name": "stderr",
     "output_type": "stream",
     "text": [
      "loss: 0.266, tv: 0.161, ptv: 0.160, flow: 0.361: : 1286it [4:14:21, 11.84s/it]"
     ]
    },
    {
     "name": "stdout",
     "output_type": "stream",
     "text": [
      "Adjusting learning rate of group 0 to 1.9763e-05.\n"
     ]
    },
    {
     "name": "stderr",
     "output_type": "stream",
     "text": [
      "loss: 0.254, tv: 0.167, ptv: 0.167, flow: 0.354: : 1288it [4:14:46, 12.09s/it]"
     ]
    },
    {
     "name": "stdout",
     "output_type": "stream",
     "text": [
      "Adjusting learning rate of group 0 to 1.9763e-05.\n"
     ]
    },
    {
     "name": "stderr",
     "output_type": "stream",
     "text": [
      "loss: 0.252, tv: 0.165, ptv: 0.166, flow: 0.329: : 1290it [4:15:10, 10.81s/it]"
     ]
    },
    {
     "name": "stdout",
     "output_type": "stream",
     "text": [
      "Adjusting learning rate of group 0 to 1.9762e-05.\n"
     ]
    },
    {
     "name": "stderr",
     "output_type": "stream",
     "text": [
      "loss: 0.244, tv: 0.171, ptv: 0.170, flow: 0.328: : 1292it [4:15:35, 11.58s/it]"
     ]
    },
    {
     "name": "stdout",
     "output_type": "stream",
     "text": [
      "Adjusting learning rate of group 0 to 1.9761e-05.\n"
     ]
    },
    {
     "name": "stderr",
     "output_type": "stream",
     "text": [
      "loss: 0.245, tv: 0.165, ptv: 0.163, flow: 0.361: : 1294it [4:15:59, 11.97s/it]"
     ]
    },
    {
     "name": "stdout",
     "output_type": "stream",
     "text": [
      "Adjusting learning rate of group 0 to 1.9761e-05.\n"
     ]
    },
    {
     "name": "stderr",
     "output_type": "stream",
     "text": [
      "loss: 0.248, tv: 0.166, ptv: 0.164, flow: 0.344: : 1296it [4:16:24, 12.16s/it]"
     ]
    },
    {
     "name": "stdout",
     "output_type": "stream",
     "text": [
      "Adjusting learning rate of group 0 to 1.9760e-05.\n"
     ]
    },
    {
     "name": "stderr",
     "output_type": "stream",
     "text": [
      "loss: 0.247, tv: 0.171, ptv: 0.167, flow: 0.332: : 1299it [4:16:49, 10.88s/it]"
     ]
    },
    {
     "name": "stdout",
     "output_type": "stream",
     "text": [
      "Adjusting learning rate of group 0 to 1.9759e-05.\n"
     ]
    },
    {
     "name": "stderr",
     "output_type": "stream",
     "text": [
      "loss: 0.237, tv: 0.175, ptv: 0.174, flow: 0.328: : 1301it [4:17:14, 11.51s/it]"
     ]
    },
    {
     "name": "stdout",
     "output_type": "stream",
     "text": [
      "Adjusting learning rate of group 0 to 1.9758e-05.\n"
     ]
    },
    {
     "name": "stderr",
     "output_type": "stream",
     "text": [
      "loss: 0.230, tv: 0.173, ptv: 0.174, flow: 0.325: : 1303it [4:17:39, 11.93s/it]"
     ]
    },
    {
     "name": "stdout",
     "output_type": "stream",
     "text": [
      "Adjusting learning rate of group 0 to 1.9758e-05.\n"
     ]
    },
    {
     "name": "stderr",
     "output_type": "stream",
     "text": [
      "loss: 0.242, tv: 0.168, ptv: 0.167, flow: 0.324: : 1305it [4:18:03, 12.13s/it]"
     ]
    },
    {
     "name": "stdout",
     "output_type": "stream",
     "text": [
      "Adjusting learning rate of group 0 to 1.9757e-05.\n"
     ]
    },
    {
     "name": "stderr",
     "output_type": "stream",
     "text": [
      "loss: 0.261, tv: 0.163, ptv: 0.159, flow: 0.342: : 1307it [4:18:28, 11.08s/it]"
     ]
    },
    {
     "name": "stdout",
     "output_type": "stream",
     "text": [
      "Adjusting learning rate of group 0 to 1.9756e-05.\n"
     ]
    },
    {
     "name": "stderr",
     "output_type": "stream",
     "text": [
      "loss: 0.261, tv: 0.157, ptv: 0.156, flow: 0.371: : 1309it [4:18:53, 11.72s/it]"
     ]
    },
    {
     "name": "stdout",
     "output_type": "stream",
     "text": [
      "Adjusting learning rate of group 0 to 1.9756e-05.\n"
     ]
    },
    {
     "name": "stderr",
     "output_type": "stream",
     "text": [
      "loss: 0.237, tv: 0.163, ptv: 0.160, flow: 0.355: : 1311it [4:19:17, 12.04s/it]"
     ]
    },
    {
     "name": "stdout",
     "output_type": "stream",
     "text": [
      "Adjusting learning rate of group 0 to 1.9755e-05.\n"
     ]
    },
    {
     "name": "stderr",
     "output_type": "stream",
     "text": [
      "loss: 0.262, tv: 0.159, ptv: 0.154, flow: 0.382: : 1313it [4:19:42, 11.26s/it]"
     ]
    },
    {
     "name": "stdout",
     "output_type": "stream",
     "text": [
      "Adjusting learning rate of group 0 to 1.9754e-05.\n"
     ]
    },
    {
     "name": "stderr",
     "output_type": "stream",
     "text": [
      "loss: 0.257, tv: 0.164, ptv: 0.165, flow: 0.325: : 1315it [4:20:06, 11.80s/it]"
     ]
    },
    {
     "name": "stdout",
     "output_type": "stream",
     "text": [
      "Adjusting learning rate of group 0 to 1.9754e-05.\n"
     ]
    },
    {
     "name": "stderr",
     "output_type": "stream",
     "text": [
      "loss: 0.259, tv: 0.162, ptv: 0.158, flow: 0.338: : 1317it [4:20:31, 12.08s/it]"
     ]
    },
    {
     "name": "stdout",
     "output_type": "stream",
     "text": [
      "Adjusting learning rate of group 0 to 1.9753e-05.\n"
     ]
    },
    {
     "name": "stderr",
     "output_type": "stream",
     "text": [
      "loss: 0.244, tv: 0.166, ptv: 0.165, flow: 0.354: : 1319it [4:20:56, 12.21s/it]"
     ]
    },
    {
     "name": "stdout",
     "output_type": "stream",
     "text": [
      "Adjusting learning rate of group 0 to 1.9752e-05.\n"
     ]
    },
    {
     "name": "stderr",
     "output_type": "stream",
     "text": [
      "loss: 0.242, tv: 0.171, ptv: 0.171, flow: 0.350: : 1321it [4:21:20, 12.28s/it]"
     ]
    },
    {
     "name": "stdout",
     "output_type": "stream",
     "text": [
      "Adjusting learning rate of group 0 to 1.9752e-05.\n"
     ]
    },
    {
     "name": "stderr",
     "output_type": "stream",
     "text": [
      "loss: 0.257, tv: 0.166, ptv: 0.166, flow: 0.332: : 1323it [4:21:45, 12.07s/it]"
     ]
    },
    {
     "name": "stdout",
     "output_type": "stream",
     "text": [
      "Adjusting learning rate of group 0 to 1.9751e-05.\n"
     ]
    },
    {
     "name": "stderr",
     "output_type": "stream",
     "text": [
      "loss: 0.262, tv: 0.165, ptv: 0.166, flow: 0.330: : 1325it [4:22:10, 12.20s/it]"
     ]
    },
    {
     "name": "stdout",
     "output_type": "stream",
     "text": [
      "Adjusting learning rate of group 0 to 1.9750e-05.\n"
     ]
    },
    {
     "name": "stderr",
     "output_type": "stream",
     "text": [
      "loss: 0.249, tv: 0.166, ptv: 0.162, flow: 0.370: : 1327it [4:22:34, 12.27s/it]"
     ]
    },
    {
     "name": "stdout",
     "output_type": "stream",
     "text": [
      "Adjusting learning rate of group 0 to 1.9749e-05.\n"
     ]
    },
    {
     "name": "stderr",
     "output_type": "stream",
     "text": [
      "loss: 0.251, tv: 0.168, ptv: 0.166, flow: 0.368: : 1329it [4:22:59, 12.31s/it]"
     ]
    },
    {
     "name": "stdout",
     "output_type": "stream",
     "text": [
      "Adjusting learning rate of group 0 to 1.9749e-05.\n"
     ]
    },
    {
     "name": "stderr",
     "output_type": "stream",
     "text": [
      "loss: 0.256, tv: 0.168, ptv: 0.165, flow: 0.323: : 1331it [4:23:24, 12.32s/it]"
     ]
    },
    {
     "name": "stdout",
     "output_type": "stream",
     "text": [
      "Adjusting learning rate of group 0 to 1.9748e-05.\n"
     ]
    },
    {
     "name": "stderr",
     "output_type": "stream",
     "text": [
      "loss: 0.251, tv: 0.170, ptv: 0.166, flow: 0.339: : 1333it [4:23:48, 12.32s/it]"
     ]
    },
    {
     "name": "stdout",
     "output_type": "stream",
     "text": [
      "Adjusting learning rate of group 0 to 1.9747e-05.\n"
     ]
    },
    {
     "name": "stderr",
     "output_type": "stream",
     "text": [
      "loss: 0.261, tv: 0.165, ptv: 0.165, flow: 0.331: : 1335it [4:24:13, 12.33s/it]"
     ]
    },
    {
     "name": "stdout",
     "output_type": "stream",
     "text": [
      "Adjusting learning rate of group 0 to 1.9747e-05.\n"
     ]
    },
    {
     "name": "stderr",
     "output_type": "stream",
     "text": [
      "loss: 0.274, tv: 0.160, ptv: 0.156, flow: 0.359: : 1337it [4:24:38, 12.33s/it]"
     ]
    },
    {
     "name": "stdout",
     "output_type": "stream",
     "text": [
      "Adjusting learning rate of group 0 to 1.9746e-05.\n"
     ]
    },
    {
     "name": "stderr",
     "output_type": "stream",
     "text": [
      "loss: 0.272, tv: 0.157, ptv: 0.153, flow: 0.377: : 1339it [4:25:02, 12.34s/it]"
     ]
    },
    {
     "name": "stdout",
     "output_type": "stream",
     "text": [
      "Adjusting learning rate of group 0 to 1.9745e-05.\n"
     ]
    },
    {
     "name": "stderr",
     "output_type": "stream",
     "text": [
      "loss: 0.248, tv: 0.165, ptv: 0.162, flow: 0.344: : 1342it [4:25:27, 10.08s/it]"
     ]
    },
    {
     "name": "stdout",
     "output_type": "stream",
     "text": [
      "Adjusting learning rate of group 0 to 1.9745e-05.\n"
     ]
    },
    {
     "name": "stderr",
     "output_type": "stream",
     "text": [
      "loss: 0.261, tv: 0.166, ptv: 0.166, flow: 0.329: : 1344it [4:25:52, 11.23s/it]"
     ]
    },
    {
     "name": "stdout",
     "output_type": "stream",
     "text": [
      "Adjusting learning rate of group 0 to 1.9744e-05.\n"
     ]
    },
    {
     "name": "stderr",
     "output_type": "stream",
     "text": [
      "loss: 0.254, tv: 0.168, ptv: 0.168, flow: 0.326: : 1346it [4:26:16, 11.32s/it]"
     ]
    },
    {
     "name": "stdout",
     "output_type": "stream",
     "text": [
      "Adjusting learning rate of group 0 to 1.9743e-05.\n"
     ]
    },
    {
     "name": "stderr",
     "output_type": "stream",
     "text": [
      "loss: 0.247, tv: 0.170, ptv: 0.170, flow: 0.334: : 1348it [4:26:41, 11.83s/it]"
     ]
    },
    {
     "name": "stdout",
     "output_type": "stream",
     "text": [
      "Adjusting learning rate of group 0 to 1.9742e-05.\n"
     ]
    },
    {
     "name": "stderr",
     "output_type": "stream",
     "text": [
      "loss: 0.249, tv: 0.164, ptv: 0.162, flow: 0.343: : 1350it [4:27:06, 12.10s/it]"
     ]
    },
    {
     "name": "stdout",
     "output_type": "stream",
     "text": [
      "Adjusting learning rate of group 0 to 1.9742e-05.\n"
     ]
    },
    {
     "name": "stderr",
     "output_type": "stream",
     "text": [
      "loss: 0.264, tv: 0.162, ptv: 0.158, flow: 0.364: : 1352it [4:27:30, 12.22s/it]"
     ]
    },
    {
     "name": "stdout",
     "output_type": "stream",
     "text": [
      "Adjusting learning rate of group 0 to 1.9741e-05.\n"
     ]
    },
    {
     "name": "stderr",
     "output_type": "stream",
     "text": [
      "loss: 0.261, tv: 0.160, ptv: 0.159, flow: 0.359: : 1354it [4:27:55, 12.27s/it]"
     ]
    },
    {
     "name": "stdout",
     "output_type": "stream",
     "text": [
      "Adjusting learning rate of group 0 to 1.9740e-05.\n"
     ]
    },
    {
     "name": "stderr",
     "output_type": "stream",
     "text": [
      "loss: 0.253, tv: 0.161, ptv: 0.159, flow: 0.353: : 1356it [4:28:20, 12.30s/it]"
     ]
    },
    {
     "name": "stdout",
     "output_type": "stream",
     "text": [
      "Adjusting learning rate of group 0 to 1.9740e-05.\n"
     ]
    },
    {
     "name": "stderr",
     "output_type": "stream",
     "text": [
      "loss: 0.256, tv: 0.165, ptv: 0.163, flow: 0.351: : 1358it [4:28:44, 12.31s/it]"
     ]
    },
    {
     "name": "stdout",
     "output_type": "stream",
     "text": [
      "Adjusting learning rate of group 0 to 1.9739e-05.\n"
     ]
    },
    {
     "name": "stderr",
     "output_type": "stream",
     "text": [
      "loss: 0.243, tv: 0.165, ptv: 0.164, flow: 0.357: : 1360it [4:29:09, 11.70s/it]"
     ]
    },
    {
     "name": "stdout",
     "output_type": "stream",
     "text": [
      "Adjusting learning rate of group 0 to 1.9738e-05.\n"
     ]
    },
    {
     "name": "stderr",
     "output_type": "stream",
     "text": [
      "loss: 0.238, tv: 0.172, ptv: 0.173, flow: 0.338: : 1362it [4:29:34, 12.02s/it]"
     ]
    },
    {
     "name": "stdout",
     "output_type": "stream",
     "text": [
      "Adjusting learning rate of group 0 to 1.9737e-05.\n"
     ]
    },
    {
     "name": "stderr",
     "output_type": "stream",
     "text": [
      "loss: 0.251, tv: 0.170, ptv: 0.166, flow: 0.313: : 1364it [4:29:58, 12.19s/it]"
     ]
    },
    {
     "name": "stdout",
     "output_type": "stream",
     "text": [
      "Adjusting learning rate of group 0 to 1.9737e-05.\n"
     ]
    },
    {
     "name": "stderr",
     "output_type": "stream",
     "text": [
      "loss: 0.255, tv: 0.165, ptv: 0.165, flow: 0.339: : 1366it [4:30:23, 12.26s/it]"
     ]
    },
    {
     "name": "stdout",
     "output_type": "stream",
     "text": [
      "Adjusting learning rate of group 0 to 1.9736e-05.\n"
     ]
    },
    {
     "name": "stderr",
     "output_type": "stream",
     "text": [
      "loss: 0.252, tv: 0.164, ptv: 0.164, flow: 0.360: : 1369it [4:30:48, 12.16s/it]"
     ]
    },
    {
     "name": "stdout",
     "output_type": "stream",
     "text": [
      "Adjusting learning rate of group 0 to 1.9735e-05.\n"
     ]
    },
    {
     "name": "stderr",
     "output_type": "stream",
     "text": [
      "loss: 0.266, tv: 0.159, ptv: 0.157, flow: 0.356: : 1371it [4:31:12, 12.25s/it]"
     ]
    },
    {
     "name": "stdout",
     "output_type": "stream",
     "text": [
      "Adjusting learning rate of group 0 to 1.9735e-05.\n"
     ]
    },
    {
     "name": "stderr",
     "output_type": "stream",
     "text": [
      "loss: 0.246, tv: 0.164, ptv: 0.162, flow: 0.364: : 1373it [4:31:37, 12.30s/it]"
     ]
    },
    {
     "name": "stdout",
     "output_type": "stream",
     "text": [
      "Adjusting learning rate of group 0 to 1.9734e-05.\n"
     ]
    },
    {
     "name": "stderr",
     "output_type": "stream",
     "text": [
      "loss: 0.252, tv: 0.158, ptv: 0.158, flow: 0.357: : 1375it [4:32:02, 12.32s/it]"
     ]
    },
    {
     "name": "stdout",
     "output_type": "stream",
     "text": [
      "Adjusting learning rate of group 0 to 1.9733e-05.\n"
     ]
    },
    {
     "name": "stderr",
     "output_type": "stream",
     "text": [
      "loss: 0.248, tv: 0.164, ptv: 0.163, flow: 0.340: : 1377it [4:32:26, 12.33s/it]"
     ]
    },
    {
     "name": "stdout",
     "output_type": "stream",
     "text": [
      "Adjusting learning rate of group 0 to 1.9732e-05.\n"
     ]
    },
    {
     "name": "stderr",
     "output_type": "stream",
     "text": [
      "loss: 0.248, tv: 0.166, ptv: 0.169, flow: 0.335: : 1379it [4:32:52, 11.65s/it]"
     ]
    },
    {
     "name": "stdout",
     "output_type": "stream",
     "text": [
      "Adjusting learning rate of group 0 to 1.9732e-05.\n"
     ]
    },
    {
     "name": "stderr",
     "output_type": "stream",
     "text": [
      "loss: 0.248, tv: 0.165, ptv: 0.163, flow: 0.337: : 1381it [4:33:16, 12.00s/it]"
     ]
    },
    {
     "name": "stdout",
     "output_type": "stream",
     "text": [
      "Adjusting learning rate of group 0 to 1.9731e-05.\n"
     ]
    },
    {
     "name": "stderr",
     "output_type": "stream",
     "text": [
      "loss: 0.250, tv: 0.168, ptv: 0.166, flow: 0.347: : 1383it [4:33:41, 11.53s/it]"
     ]
    },
    {
     "name": "stdout",
     "output_type": "stream",
     "text": [
      "Adjusting learning rate of group 0 to 1.9730e-05.\n"
     ]
    },
    {
     "name": "stderr",
     "output_type": "stream",
     "text": [
      "loss: 0.237, tv: 0.166, ptv: 0.163, flow: 0.338: : 1385it [4:34:05, 11.94s/it]"
     ]
    },
    {
     "name": "stdout",
     "output_type": "stream",
     "text": [
      "Adjusting learning rate of group 0 to 1.9730e-05.\n"
     ]
    },
    {
     "name": "stderr",
     "output_type": "stream",
     "text": [
      "loss: 0.243, tv: 0.164, ptv: 0.163, flow: 0.347: : 1388it [4:34:31, 10.67s/it]"
     ]
    },
    {
     "name": "stdout",
     "output_type": "stream",
     "text": [
      "Adjusting learning rate of group 0 to 1.9729e-05.\n"
     ]
    },
    {
     "name": "stderr",
     "output_type": "stream",
     "text": [
      "loss: 0.264, tv: 0.162, ptv: 0.156, flow: 0.375: : 1390it [4:34:55, 11.53s/it]"
     ]
    },
    {
     "name": "stdout",
     "output_type": "stream",
     "text": [
      "Adjusting learning rate of group 0 to 1.9728e-05.\n"
     ]
    },
    {
     "name": "stderr",
     "output_type": "stream",
     "text": [
      "loss: 0.250, tv: 0.167, ptv: 0.166, flow: 0.351: : 1392it [4:35:20, 11.94s/it]"
     ]
    },
    {
     "name": "stdout",
     "output_type": "stream",
     "text": [
      "Adjusting learning rate of group 0 to 1.9727e-05.\n"
     ]
    },
    {
     "name": "stderr",
     "output_type": "stream",
     "text": [
      "loss: 0.260, tv: 0.166, ptv: 0.161, flow: 0.360: : 1394it [4:35:44, 11.82s/it]"
     ]
    },
    {
     "name": "stdout",
     "output_type": "stream",
     "text": [
      "Adjusting learning rate of group 0 to 1.9727e-05.\n"
     ]
    },
    {
     "name": "stderr",
     "output_type": "stream",
     "text": [
      "loss: 0.268, tv: 0.161, ptv: 0.155, flow: 0.357: : 1396it [4:36:09, 12.10s/it]"
     ]
    },
    {
     "name": "stdout",
     "output_type": "stream",
     "text": [
      "Adjusting learning rate of group 0 to 1.9726e-05.\n"
     ]
    },
    {
     "name": "stderr",
     "output_type": "stream",
     "text": [
      "loss: 0.248, tv: 0.166, ptv: 0.163, flow: 0.353: : 1398it [4:36:34, 11.54s/it]"
     ]
    },
    {
     "name": "stdout",
     "output_type": "stream",
     "text": [
      "Adjusting learning rate of group 0 to 1.9725e-05.\n"
     ]
    },
    {
     "name": "stderr",
     "output_type": "stream",
     "text": [
      "loss: 0.261, tv: 0.162, ptv: 0.160, flow: 0.374: : 1400it [4:36:58, 11.95s/it]"
     ]
    },
    {
     "name": "stdout",
     "output_type": "stream",
     "text": [
      "Adjusting learning rate of group 0 to 1.9724e-05.\n"
     ]
    },
    {
     "name": "stderr",
     "output_type": "stream",
     "text": [
      "loss: 0.240, tv: 0.172, ptv: 0.171, flow: 0.343: : 1402it [4:37:23, 12.14s/it]"
     ]
    },
    {
     "name": "stdout",
     "output_type": "stream",
     "text": [
      "Adjusting learning rate of group 0 to 1.9724e-05.\n"
     ]
    },
    {
     "name": "stderr",
     "output_type": "stream",
     "text": [
      "loss: 0.245, tv: 0.163, ptv: 0.163, flow: 0.364: : 1404it [4:37:48, 12.24s/it]"
     ]
    },
    {
     "name": "stdout",
     "output_type": "stream",
     "text": [
      "Adjusting learning rate of group 0 to 1.9723e-05.\n"
     ]
    },
    {
     "name": "stderr",
     "output_type": "stream",
     "text": [
      "loss: 0.249, tv: 0.165, ptv: 0.165, flow: 0.328: : 1406it [4:38:12, 12.29s/it]"
     ]
    },
    {
     "name": "stdout",
     "output_type": "stream",
     "text": [
      "Adjusting learning rate of group 0 to 1.9722e-05.\n"
     ]
    },
    {
     "name": "stderr",
     "output_type": "stream",
     "text": [
      "loss: 0.255, tv: 0.170, ptv: 0.168, flow: 0.335: : 1408it [4:38:37, 12.31s/it]"
     ]
    },
    {
     "name": "stdout",
     "output_type": "stream",
     "text": [
      "Adjusting learning rate of group 0 to 1.9721e-05.\n"
     ]
    },
    {
     "name": "stderr",
     "output_type": "stream",
     "text": [
      "loss: 0.253, tv: 0.167, ptv: 0.167, flow: 0.349: : 1410it [4:39:02, 11.62s/it]"
     ]
    },
    {
     "name": "stdout",
     "output_type": "stream",
     "text": [
      "Adjusting learning rate of group 0 to 1.9721e-05.\n"
     ]
    },
    {
     "name": "stderr",
     "output_type": "stream",
     "text": [
      "loss: 0.253, tv: 0.167, ptv: 0.164, flow: 0.358: : 1412it [4:39:26, 11.98s/it]"
     ]
    },
    {
     "name": "stdout",
     "output_type": "stream",
     "text": [
      "Adjusting learning rate of group 0 to 1.9720e-05.\n"
     ]
    },
    {
     "name": "stderr",
     "output_type": "stream",
     "text": [
      "loss: 0.246, tv: 0.169, ptv: 0.170, flow: 0.318: : 1414it [4:39:51, 10.76s/it]"
     ]
    },
    {
     "name": "stdout",
     "output_type": "stream",
     "text": [
      "Adjusting learning rate of group 0 to 1.9719e-05.\n"
     ]
    },
    {
     "name": "stderr",
     "output_type": "stream",
     "text": [
      "loss: 0.262, tv: 0.162, ptv: 0.157, flow: 0.364: : 1416it [4:40:15, 11.56s/it]"
     ]
    },
    {
     "name": "stdout",
     "output_type": "stream",
     "text": [
      "Adjusting learning rate of group 0 to 1.9719e-05.\n"
     ]
    },
    {
     "name": "stderr",
     "output_type": "stream",
     "text": [
      "loss: 0.235, tv: 0.171, ptv: 0.168, flow: 0.345: : 1418it [4:40:40, 11.96s/it]"
     ]
    },
    {
     "name": "stdout",
     "output_type": "stream",
     "text": [
      "Adjusting learning rate of group 0 to 1.9718e-05.\n"
     ]
    },
    {
     "name": "stderr",
     "output_type": "stream",
     "text": [
      "loss: 0.248, tv: 0.165, ptv: 0.164, flow: 0.345: : 1420it [4:41:05, 12.16s/it]"
     ]
    },
    {
     "name": "stdout",
     "output_type": "stream",
     "text": [
      "Adjusting learning rate of group 0 to 1.9717e-05.\n"
     ]
    },
    {
     "name": "stderr",
     "output_type": "stream",
     "text": [
      "loss: 0.243, tv: 0.165, ptv: 0.163, flow: 0.340: : 1423it [4:41:29,  9.71s/it]"
     ]
    },
    {
     "name": "stdout",
     "output_type": "stream",
     "text": [
      "Adjusting learning rate of group 0 to 1.9716e-05.\n"
     ]
    },
    {
     "name": "stderr",
     "output_type": "stream",
     "text": [
      "loss: 0.260, tv: 0.166, ptv: 0.166, flow: 0.359: : 1425it [4:41:54, 11.05s/it]"
     ]
    },
    {
     "name": "stdout",
     "output_type": "stream",
     "text": [
      "Adjusting learning rate of group 0 to 1.9716e-05.\n"
     ]
    },
    {
     "name": "stderr",
     "output_type": "stream",
     "text": [
      "loss: 0.254, tv: 0.167, ptv: 0.168, flow: 0.342: : 1427it [4:42:19, 11.70s/it]"
     ]
    },
    {
     "name": "stdout",
     "output_type": "stream",
     "text": [
      "Adjusting learning rate of group 0 to 1.9715e-05.\n"
     ]
    },
    {
     "name": "stderr",
     "output_type": "stream",
     "text": [
      "loss: 0.241, tv: 0.165, ptv: 0.162, flow: 0.367: : 1429it [4:42:43, 12.02s/it]"
     ]
    },
    {
     "name": "stdout",
     "output_type": "stream",
     "text": [
      "Adjusting learning rate of group 0 to 1.9714e-05.\n"
     ]
    },
    {
     "name": "stderr",
     "output_type": "stream",
     "text": [
      "loss: 0.248, tv: 0.167, ptv: 0.166, flow: 0.318: : 1431it [4:43:08, 12.20s/it]"
     ]
    },
    {
     "name": "stdout",
     "output_type": "stream",
     "text": [
      "Adjusting learning rate of group 0 to 1.9713e-05.\n"
     ]
    },
    {
     "name": "stderr",
     "output_type": "stream",
     "text": [
      "loss: 0.257, tv: 0.158, ptv: 0.157, flow: 0.352: : 1433it [4:43:33, 12.27s/it]"
     ]
    },
    {
     "name": "stdout",
     "output_type": "stream",
     "text": [
      "Adjusting learning rate of group 0 to 1.9713e-05.\n"
     ]
    },
    {
     "name": "stderr",
     "output_type": "stream",
     "text": [
      "loss: 0.252, tv: 0.166, ptv: 0.164, flow: 0.369: : 1435it [4:43:57, 11.98s/it]"
     ]
    },
    {
     "name": "stdout",
     "output_type": "stream",
     "text": [
      "Adjusting learning rate of group 0 to 1.9712e-05.\n"
     ]
    },
    {
     "name": "stderr",
     "output_type": "stream",
     "text": [
      "loss: 0.255, tv: 0.168, ptv: 0.167, flow: 0.361: : 1437it [4:44:22, 12.16s/it]"
     ]
    },
    {
     "name": "stdout",
     "output_type": "stream",
     "text": [
      "Adjusting learning rate of group 0 to 1.9711e-05.\n"
     ]
    },
    {
     "name": "stderr",
     "output_type": "stream",
     "text": [
      "loss: 0.260, tv: 0.167, ptv: 0.166, flow: 0.339: : 1439it [4:44:47, 12.26s/it]"
     ]
    },
    {
     "name": "stdout",
     "output_type": "stream",
     "text": [
      "Adjusting learning rate of group 0 to 1.9710e-05.\n"
     ]
    },
    {
     "name": "stderr",
     "output_type": "stream",
     "text": [
      "loss: 0.254, tv: 0.166, ptv: 0.165, flow: 0.347: : 1441it [4:45:11, 12.30s/it]"
     ]
    },
    {
     "name": "stdout",
     "output_type": "stream",
     "text": [
      "Adjusting learning rate of group 0 to 1.9710e-05.\n"
     ]
    },
    {
     "name": "stderr",
     "output_type": "stream",
     "text": [
      "loss: 0.238, tv: 0.163, ptv: 0.160, flow: 0.347: : 1443it [4:45:36, 12.32s/it]"
     ]
    },
    {
     "name": "stdout",
     "output_type": "stream",
     "text": [
      "Adjusting learning rate of group 0 to 1.9709e-05.\n"
     ]
    },
    {
     "name": "stderr",
     "output_type": "stream",
     "text": [
      "loss: 0.258, tv: 0.163, ptv: 0.163, flow: 0.355: : 1445it [4:46:01, 12.33s/it]"
     ]
    },
    {
     "name": "stdout",
     "output_type": "stream",
     "text": [
      "Adjusting learning rate of group 0 to 1.9708e-05.\n"
     ]
    },
    {
     "name": "stderr",
     "output_type": "stream",
     "text": [
      "loss: 0.249, tv: 0.163, ptv: 0.162, flow: 0.345: : 1447it [4:46:25, 12.33s/it]"
     ]
    },
    {
     "name": "stdout",
     "output_type": "stream",
     "text": [
      "Adjusting learning rate of group 0 to 1.9707e-05.\n"
     ]
    },
    {
     "name": "stderr",
     "output_type": "stream",
     "text": [
      "loss: 0.256, tv: 0.159, ptv: 0.158, flow: 0.355: : 1449it [4:46:50, 12.33s/it]"
     ]
    },
    {
     "name": "stdout",
     "output_type": "stream",
     "text": [
      "Adjusting learning rate of group 0 to 1.9707e-05.\n"
     ]
    },
    {
     "name": "stderr",
     "output_type": "stream",
     "text": [
      "loss: 0.241, tv: 0.163, ptv: 0.160, flow: 0.356: : 1452it [4:47:15, 10.91s/it]"
     ]
    },
    {
     "name": "stdout",
     "output_type": "stream",
     "text": [
      "Adjusting learning rate of group 0 to 1.9706e-05.\n"
     ]
    },
    {
     "name": "stderr",
     "output_type": "stream",
     "text": [
      "loss: 0.263, tv: 0.160, ptv: 0.159, flow: 0.348: : 1455it [4:47:40,  9.57s/it]"
     ]
    },
    {
     "name": "stdout",
     "output_type": "stream",
     "text": [
      "Adjusting learning rate of group 0 to 1.9705e-05.\n"
     ]
    },
    {
     "name": "stderr",
     "output_type": "stream",
     "text": [
      "loss: 0.240, tv: 0.163, ptv: 0.162, flow: 0.369: : 1458it [4:48:04,  8.15s/it]"
     ]
    },
    {
     "name": "stdout",
     "output_type": "stream",
     "text": [
      "Adjusting learning rate of group 0 to 1.9704e-05.\n"
     ]
    },
    {
     "name": "stderr",
     "output_type": "stream",
     "text": [
      "loss: 0.263, tv: 0.166, ptv: 0.166, flow: 0.335: : 1460it [4:48:29, 10.29s/it]"
     ]
    },
    {
     "name": "stdout",
     "output_type": "stream",
     "text": [
      "Adjusting learning rate of group 0 to 1.9704e-05.\n"
     ]
    },
    {
     "name": "stderr",
     "output_type": "stream",
     "text": [
      "loss: 0.252, tv: 0.167, ptv: 0.165, flow: 0.367: : 1462it [4:48:54,  9.33s/it]"
     ]
    },
    {
     "name": "stdout",
     "output_type": "stream",
     "text": [
      "Adjusting learning rate of group 0 to 1.9703e-05.\n"
     ]
    },
    {
     "name": "stderr",
     "output_type": "stream",
     "text": [
      "loss: 0.260, tv: 0.165, ptv: 0.164, flow: 0.355: : 1464it [4:49:18, 10.87s/it]"
     ]
    },
    {
     "name": "stdout",
     "output_type": "stream",
     "text": [
      "Adjusting learning rate of group 0 to 1.9702e-05.\n"
     ]
    },
    {
     "name": "stderr",
     "output_type": "stream",
     "text": [
      "loss: 0.249, tv: 0.168, ptv: 0.166, flow: 0.342: : 1467it [4:49:43, 10.85s/it]"
     ]
    },
    {
     "name": "stdout",
     "output_type": "stream",
     "text": [
      "Adjusting learning rate of group 0 to 1.9701e-05.\n"
     ]
    },
    {
     "name": "stderr",
     "output_type": "stream",
     "text": [
      "loss: 0.246, tv: 0.170, ptv: 0.168, flow: 0.330: : 1469it [4:50:08, 11.61s/it]"
     ]
    },
    {
     "name": "stdout",
     "output_type": "stream",
     "text": [
      "Adjusting learning rate of group 0 to 1.9701e-05.\n"
     ]
    },
    {
     "name": "stderr",
     "output_type": "stream",
     "text": [
      "loss: 0.248, tv: 0.162, ptv: 0.163, flow: 0.367: : 1471it [4:50:33, 11.98s/it]"
     ]
    },
    {
     "name": "stdout",
     "output_type": "stream",
     "text": [
      "Adjusting learning rate of group 0 to 1.9700e-05.\n"
     ]
    },
    {
     "name": "stderr",
     "output_type": "stream",
     "text": [
      "loss: 0.248, tv: 0.161, ptv: 0.156, flow: 0.361: : 1473it [4:50:57, 12.01s/it]"
     ]
    },
    {
     "name": "stdout",
     "output_type": "stream",
     "text": [
      "Adjusting learning rate of group 0 to 1.9699e-05.\n"
     ]
    },
    {
     "name": "stderr",
     "output_type": "stream",
     "text": [
      "loss: 0.239, tv: 0.172, ptv: 0.169, flow: 0.344: : 1475it [4:51:22, 10.55s/it]"
     ]
    },
    {
     "name": "stdout",
     "output_type": "stream",
     "text": [
      "Adjusting learning rate of group 0 to 1.9698e-05.\n"
     ]
    },
    {
     "name": "stderr",
     "output_type": "stream",
     "text": [
      "loss: 0.250, tv: 0.166, ptv: 0.165, flow: 0.328: : 1477it [4:51:46, 11.46s/it]"
     ]
    },
    {
     "name": "stdout",
     "output_type": "stream",
     "text": [
      "Adjusting learning rate of group 0 to 1.9697e-05.\n"
     ]
    },
    {
     "name": "stderr",
     "output_type": "stream",
     "text": [
      "loss: 0.246, tv: 0.166, ptv: 0.165, flow: 0.354: : 1479it [4:52:11, 11.75s/it]"
     ]
    },
    {
     "name": "stdout",
     "output_type": "stream",
     "text": [
      "Adjusting learning rate of group 0 to 1.9697e-05.\n"
     ]
    },
    {
     "name": "stderr",
     "output_type": "stream",
     "text": [
      "loss: 0.245, tv: 0.164, ptv: 0.164, flow: 0.343: : 1481it [4:52:36, 12.06s/it]"
     ]
    },
    {
     "name": "stdout",
     "output_type": "stream",
     "text": [
      "Adjusting learning rate of group 0 to 1.9696e-05.\n"
     ]
    },
    {
     "name": "stderr",
     "output_type": "stream",
     "text": [
      "loss: 0.246, tv: 0.164, ptv: 0.163, flow: 0.350: : 1483it [4:53:00, 12.22s/it]"
     ]
    },
    {
     "name": "stdout",
     "output_type": "stream",
     "text": [
      "Adjusting learning rate of group 0 to 1.9695e-05.\n"
     ]
    },
    {
     "name": "stderr",
     "output_type": "stream",
     "text": [
      "loss: 0.267, tv: 0.157, ptv: 0.153, flow: 0.381: : 1485it [4:53:25, 12.28s/it]"
     ]
    },
    {
     "name": "stdout",
     "output_type": "stream",
     "text": [
      "Adjusting learning rate of group 0 to 1.9694e-05.\n"
     ]
    },
    {
     "name": "stderr",
     "output_type": "stream",
     "text": [
      "loss: 0.240, tv: 0.164, ptv: 0.162, flow: 0.353: : 1488it [4:53:50,  9.65s/it]"
     ]
    },
    {
     "name": "stdout",
     "output_type": "stream",
     "text": [
      "Adjusting learning rate of group 0 to 1.9694e-05.\n"
     ]
    },
    {
     "name": "stderr",
     "output_type": "stream",
     "text": [
      "loss: 0.259, tv: 0.164, ptv: 0.164, flow: 0.380: : 1490it [4:54:14, 11.02s/it]"
     ]
    },
    {
     "name": "stdout",
     "output_type": "stream",
     "text": [
      "Adjusting learning rate of group 0 to 1.9693e-05.\n"
     ]
    },
    {
     "name": "stderr",
     "output_type": "stream",
     "text": [
      "loss: 0.244, tv: 0.164, ptv: 0.163, flow: 0.352: : 1492it [4:54:39, 11.69s/it]"
     ]
    },
    {
     "name": "stdout",
     "output_type": "stream",
     "text": [
      "Adjusting learning rate of group 0 to 1.9692e-05.\n"
     ]
    },
    {
     "name": "stderr",
     "output_type": "stream",
     "text": [
      "loss: 0.247, tv: 0.170, ptv: 0.169, flow: 0.321: : 1494it [4:55:04, 12.07s/it]"
     ]
    },
    {
     "name": "stdout",
     "output_type": "stream",
     "text": [
      "Adjusting learning rate of group 0 to 1.9691e-05.\n"
     ]
    },
    {
     "name": "stderr",
     "output_type": "stream",
     "text": [
      "loss: 0.248, tv: 0.165, ptv: 0.163, flow: 0.337: : 1496it [4:55:28, 11.22s/it]"
     ]
    },
    {
     "name": "stdout",
     "output_type": "stream",
     "text": [
      "Adjusting learning rate of group 0 to 1.9691e-05.\n"
     ]
    },
    {
     "name": "stderr",
     "output_type": "stream",
     "text": [
      "loss: 0.242, tv: 0.166, ptv: 0.166, flow: 0.358: : 1498it [4:55:53, 11.80s/it]"
     ]
    },
    {
     "name": "stdout",
     "output_type": "stream",
     "text": [
      "Adjusting learning rate of group 0 to 1.9690e-05.\n"
     ]
    },
    {
     "name": "stderr",
     "output_type": "stream",
     "text": [
      "loss: 0.246, tv: 0.164, ptv: 0.162, flow: 0.361: : 1500it [4:56:18, 12.07s/it]"
     ]
    },
    {
     "name": "stdout",
     "output_type": "stream",
     "text": [
      "Adjusting learning rate of group 0 to 1.9689e-05.\n"
     ]
    },
    {
     "name": "stderr",
     "output_type": "stream",
     "text": [
      "loss: 0.245, tv: 0.173, ptv: 0.171, flow: 0.364: : 1502it [4:56:42, 12.21s/it]"
     ]
    },
    {
     "name": "stdout",
     "output_type": "stream",
     "text": [
      "Adjusting learning rate of group 0 to 1.9688e-05.\n"
     ]
    },
    {
     "name": "stderr",
     "output_type": "stream",
     "text": [
      "loss: 0.265, tv: 0.159, ptv: 0.162, flow: 0.350: : 1504it [4:57:07, 12.29s/it]"
     ]
    },
    {
     "name": "stdout",
     "output_type": "stream",
     "text": [
      "Adjusting learning rate of group 0 to 1.9687e-05.\n"
     ]
    },
    {
     "name": "stderr",
     "output_type": "stream",
     "text": [
      "loss: 0.246, tv: 0.172, ptv: 0.168, flow: 0.354: : 1506it [4:57:32, 12.32s/it]"
     ]
    },
    {
     "name": "stdout",
     "output_type": "stream",
     "text": [
      "Adjusting learning rate of group 0 to 1.9687e-05.\n"
     ]
    },
    {
     "name": "stderr",
     "output_type": "stream",
     "text": [
      "loss: 0.259, tv: 0.162, ptv: 0.160, flow: 0.342: : 1509it [4:57:56, 11.87s/it]"
     ]
    },
    {
     "name": "stdout",
     "output_type": "stream",
     "text": [
      "Adjusting learning rate of group 0 to 1.9686e-05.\n"
     ]
    },
    {
     "name": "stderr",
     "output_type": "stream",
     "text": [
      "loss: 0.259, tv: 0.161, ptv: 0.158, flow: 0.363: : 1511it [4:58:21, 12.10s/it]"
     ]
    },
    {
     "name": "stdout",
     "output_type": "stream",
     "text": [
      "Adjusting learning rate of group 0 to 1.9685e-05.\n"
     ]
    },
    {
     "name": "stderr",
     "output_type": "stream",
     "text": [
      "loss: 0.256, tv: 0.168, ptv: 0.167, flow: 0.333: : 1513it [4:58:46, 12.22s/it]"
     ]
    },
    {
     "name": "stdout",
     "output_type": "stream",
     "text": [
      "Adjusting learning rate of group 0 to 1.9684e-05.\n"
     ]
    },
    {
     "name": "stderr",
     "output_type": "stream",
     "text": [
      "loss: 0.251, tv: 0.164, ptv: 0.163, flow: 0.347: : 1515it [4:59:11, 12.36s/it]"
     ]
    },
    {
     "name": "stdout",
     "output_type": "stream",
     "text": [
      "Adjusting learning rate of group 0 to 1.9683e-05.\n"
     ]
    },
    {
     "name": "stderr",
     "output_type": "stream",
     "text": [
      "loss: 0.253, tv: 0.165, ptv: 0.166, flow: 0.341: : 1517it [4:59:35, 12.34s/it]"
     ]
    },
    {
     "name": "stdout",
     "output_type": "stream",
     "text": [
      "Adjusting learning rate of group 0 to 1.9683e-05.\n"
     ]
    },
    {
     "name": "stderr",
     "output_type": "stream",
     "text": [
      "loss: 0.255, tv: 0.163, ptv: 0.161, flow: 0.337: : 1519it [5:00:00, 12.34s/it]"
     ]
    },
    {
     "name": "stdout",
     "output_type": "stream",
     "text": [
      "Adjusting learning rate of group 0 to 1.9682e-05.\n"
     ]
    },
    {
     "name": "stderr",
     "output_type": "stream",
     "text": [
      "loss: 0.247, tv: 0.163, ptv: 0.160, flow: 0.359: : 1521it [5:00:25, 12.34s/it]"
     ]
    },
    {
     "name": "stdout",
     "output_type": "stream",
     "text": [
      "Adjusting learning rate of group 0 to 1.9681e-05.\n"
     ]
    },
    {
     "name": "stderr",
     "output_type": "stream",
     "text": [
      "loss: 0.249, tv: 0.167, ptv: 0.165, flow: 0.360: : 1523it [5:00:49, 12.36s/it]"
     ]
    },
    {
     "name": "stdout",
     "output_type": "stream",
     "text": [
      "Adjusting learning rate of group 0 to 1.9680e-05.\n"
     ]
    },
    {
     "name": "stderr",
     "output_type": "stream",
     "text": [
      "loss: 0.270, tv: 0.156, ptv: 0.153, flow: 0.373: : 1525it [5:01:14, 12.34s/it]"
     ]
    },
    {
     "name": "stdout",
     "output_type": "stream",
     "text": [
      "Adjusting learning rate of group 0 to 1.9680e-05.\n"
     ]
    },
    {
     "name": "stderr",
     "output_type": "stream",
     "text": [
      "loss: 0.243, tv: 0.165, ptv: 0.164, flow: 0.338: : 1527it [5:01:39, 11.68s/it]"
     ]
    },
    {
     "name": "stdout",
     "output_type": "stream",
     "text": [
      "Adjusting learning rate of group 0 to 1.9679e-05.\n"
     ]
    },
    {
     "name": "stderr",
     "output_type": "stream",
     "text": [
      "loss: 0.240, tv: 0.173, ptv: 0.170, flow: 0.332: : 1529it [5:02:03, 11.79s/it]"
     ]
    },
    {
     "name": "stdout",
     "output_type": "stream",
     "text": [
      "Adjusting learning rate of group 0 to 1.9678e-05.\n"
     ]
    },
    {
     "name": "stderr",
     "output_type": "stream",
     "text": [
      "loss: 0.244, tv: 0.172, ptv: 0.171, flow: 0.329: : 1531it [5:02:28, 10.43s/it]"
     ]
    },
    {
     "name": "stdout",
     "output_type": "stream",
     "text": [
      "Adjusting learning rate of group 0 to 1.9677e-05.\n"
     ]
    },
    {
     "name": "stderr",
     "output_type": "stream",
     "text": [
      "loss: 0.253, tv: 0.165, ptv: 0.165, flow: 0.344: : 1533it [5:02:53, 11.40s/it]"
     ]
    },
    {
     "name": "stdout",
     "output_type": "stream",
     "text": [
      "Adjusting learning rate of group 0 to 1.9676e-05.\n"
     ]
    },
    {
     "name": "stderr",
     "output_type": "stream",
     "text": [
      "loss: 0.259, tv: 0.168, ptv: 0.167, flow: 0.334: : 1535it [5:03:17, 11.88s/it]"
     ]
    },
    {
     "name": "stdout",
     "output_type": "stream",
     "text": [
      "Adjusting learning rate of group 0 to 1.9676e-05.\n"
     ]
    },
    {
     "name": "stderr",
     "output_type": "stream",
     "text": [
      "loss: 0.250, tv: 0.164, ptv: 0.164, flow: 0.346: : 1538it [5:03:42, 10.09s/it]"
     ]
    },
    {
     "name": "stdout",
     "output_type": "stream",
     "text": [
      "Adjusting learning rate of group 0 to 1.9675e-05.\n"
     ]
    },
    {
     "name": "stderr",
     "output_type": "stream",
     "text": [
      "loss: 0.272, tv: 0.159, ptv: 0.158, flow: 0.370: : 1540it [5:04:07, 11.23s/it]"
     ]
    },
    {
     "name": "stdout",
     "output_type": "stream",
     "text": [
      "Adjusting learning rate of group 0 to 1.9674e-05.\n"
     ]
    },
    {
     "name": "stderr",
     "output_type": "stream",
     "text": [
      "loss: 0.246, tv: 0.164, ptv: 0.162, flow: 0.340: : 1542it [5:04:32, 11.09s/it]"
     ]
    },
    {
     "name": "stdout",
     "output_type": "stream",
     "text": [
      "Adjusting learning rate of group 0 to 1.9673e-05.\n"
     ]
    },
    {
     "name": "stderr",
     "output_type": "stream",
     "text": [
      "loss: 0.254, tv: 0.166, ptv: 0.167, flow: 0.357: : 1544it [5:04:56, 11.02s/it]"
     ]
    },
    {
     "name": "stdout",
     "output_type": "stream",
     "text": [
      "Adjusting learning rate of group 0 to 1.9672e-05.\n"
     ]
    },
    {
     "name": "stderr",
     "output_type": "stream",
     "text": [
      "loss: 0.254, tv: 0.168, ptv: 0.166, flow: 0.328: : 1546it [5:05:21, 11.73s/it]"
     ]
    },
    {
     "name": "stdout",
     "output_type": "stream",
     "text": [
      "Adjusting learning rate of group 0 to 1.9672e-05.\n"
     ]
    },
    {
     "name": "stderr",
     "output_type": "stream",
     "text": [
      "loss: 0.255, tv: 0.166, ptv: 0.166, flow: 0.339: : 1548it [5:05:46, 11.89s/it]"
     ]
    },
    {
     "name": "stdout",
     "output_type": "stream",
     "text": [
      "Adjusting learning rate of group 0 to 1.9671e-05.\n"
     ]
    },
    {
     "name": "stderr",
     "output_type": "stream",
     "text": [
      "loss: 0.252, tv: 0.160, ptv: 0.157, flow: 0.364: : 1550it [5:06:10, 12.12s/it]"
     ]
    },
    {
     "name": "stdout",
     "output_type": "stream",
     "text": [
      "Adjusting learning rate of group 0 to 1.9670e-05.\n"
     ]
    },
    {
     "name": "stderr",
     "output_type": "stream",
     "text": [
      "loss: 0.246, tv: 0.162, ptv: 0.163, flow: 0.357: : 1552it [5:06:35, 12.22s/it]"
     ]
    },
    {
     "name": "stdout",
     "output_type": "stream",
     "text": [
      "Adjusting learning rate of group 0 to 1.9669e-05.\n"
     ]
    },
    {
     "name": "stderr",
     "output_type": "stream",
     "text": [
      "loss: 0.247, tv: 0.165, ptv: 0.165, flow: 0.346: : 1554it [5:07:00, 12.30s/it]"
     ]
    },
    {
     "name": "stdout",
     "output_type": "stream",
     "text": [
      "Adjusting learning rate of group 0 to 1.9668e-05.\n"
     ]
    },
    {
     "name": "stderr",
     "output_type": "stream",
     "text": [
      "loss: 0.247, tv: 0.165, ptv: 0.163, flow: 0.364: : 1556it [5:07:24, 12.32s/it]"
     ]
    },
    {
     "name": "stdout",
     "output_type": "stream",
     "text": [
      "Adjusting learning rate of group 0 to 1.9668e-05.\n"
     ]
    },
    {
     "name": "stderr",
     "output_type": "stream",
     "text": [
      "loss: 0.256, tv: 0.166, ptv: 0.164, flow: 0.338: : 1558it [5:07:49, 12.33s/it]"
     ]
    },
    {
     "name": "stdout",
     "output_type": "stream",
     "text": [
      "Adjusting learning rate of group 0 to 1.9667e-05.\n"
     ]
    },
    {
     "name": "stderr",
     "output_type": "stream",
     "text": [
      "loss: 0.250, tv: 0.166, ptv: 0.164, flow: 0.351: : 1560it [5:08:14, 12.33s/it]"
     ]
    },
    {
     "name": "stdout",
     "output_type": "stream",
     "text": [
      "Adjusting learning rate of group 0 to 1.9666e-05.\n"
     ]
    },
    {
     "name": "stderr",
     "output_type": "stream",
     "text": [
      "loss: 0.258, tv: 0.162, ptv: 0.162, flow: 0.370: : 1562it [5:08:38, 12.33s/it]"
     ]
    },
    {
     "name": "stdout",
     "output_type": "stream",
     "text": [
      "Adjusting learning rate of group 0 to 1.9665e-05.\n"
     ]
    },
    {
     "name": "stderr",
     "output_type": "stream",
     "text": [
      "loss: 0.256, tv: 0.160, ptv: 0.156, flow: 0.372: : 1564it [5:09:03, 12.35s/it]"
     ]
    },
    {
     "name": "stdout",
     "output_type": "stream",
     "text": [
      "Adjusting learning rate of group 0 to 1.9664e-05.\n"
     ]
    },
    {
     "name": "stderr",
     "output_type": "stream",
     "text": [
      "loss: 0.267, tv: 0.163, ptv: 0.163, flow: 0.346: : 1566it [5:09:28, 12.35s/it]"
     ]
    },
    {
     "name": "stdout",
     "output_type": "stream",
     "text": [
      "Adjusting learning rate of group 0 to 1.9664e-05.\n"
     ]
    },
    {
     "name": "stderr",
     "output_type": "stream",
     "text": [
      "loss: 0.235, tv: 0.164, ptv: 0.163, flow: 0.335: : 1569it [5:09:53, 10.48s/it]"
     ]
    },
    {
     "name": "stdout",
     "output_type": "stream",
     "text": [
      "Adjusting learning rate of group 0 to 1.9663e-05.\n"
     ]
    },
    {
     "name": "stderr",
     "output_type": "stream",
     "text": [
      "loss: 0.234, tv: 0.170, ptv: 0.167, flow: 0.336: : 1571it [5:10:18, 11.43s/it]"
     ]
    },
    {
     "name": "stdout",
     "output_type": "stream",
     "text": [
      "Adjusting learning rate of group 0 to 1.9662e-05.\n"
     ]
    },
    {
     "name": "stderr",
     "output_type": "stream",
     "text": [
      "loss: 0.254, tv: 0.162, ptv: 0.159, flow: 0.370: : 1573it [5:10:42, 11.89s/it]"
     ]
    },
    {
     "name": "stdout",
     "output_type": "stream",
     "text": [
      "Adjusting learning rate of group 0 to 1.9661e-05.\n"
     ]
    },
    {
     "name": "stderr",
     "output_type": "stream",
     "text": [
      "loss: 0.249, tv: 0.170, ptv: 0.166, flow: 0.351: : 1575it [5:11:07, 12.13s/it]"
     ]
    },
    {
     "name": "stdout",
     "output_type": "stream",
     "text": [
      "Adjusting learning rate of group 0 to 1.9660e-05.\n"
     ]
    },
    {
     "name": "stderr",
     "output_type": "stream",
     "text": [
      "loss: 0.255, tv: 0.165, ptv: 0.163, flow: 0.331: : 1577it [5:11:32, 12.24s/it]"
     ]
    },
    {
     "name": "stdout",
     "output_type": "stream",
     "text": [
      "Adjusting learning rate of group 0 to 1.9660e-05.\n"
     ]
    },
    {
     "name": "stderr",
     "output_type": "stream",
     "text": [
      "loss: 0.247, tv: 0.168, ptv: 0.165, flow: 0.354: : 1579it [5:11:56, 12.29s/it]"
     ]
    },
    {
     "name": "stdout",
     "output_type": "stream",
     "text": [
      "Adjusting learning rate of group 0 to 1.9659e-05.\n"
     ]
    },
    {
     "name": "stderr",
     "output_type": "stream",
     "text": [
      "loss: 0.258, tv: 0.165, ptv: 0.165, flow: 0.332: : 1581it [5:12:21, 12.32s/it]"
     ]
    },
    {
     "name": "stdout",
     "output_type": "stream",
     "text": [
      "Adjusting learning rate of group 0 to 1.9658e-05.\n"
     ]
    },
    {
     "name": "stderr",
     "output_type": "stream",
     "text": [
      "loss: 0.265, tv: 0.159, ptv: 0.156, flow: 0.353: : 1583it [5:12:46, 12.33s/it]"
     ]
    },
    {
     "name": "stdout",
     "output_type": "stream",
     "text": [
      "Adjusting learning rate of group 0 to 1.9657e-05.\n"
     ]
    },
    {
     "name": "stderr",
     "output_type": "stream",
     "text": [
      "loss: 0.269, tv: 0.159, ptv: 0.155, flow: 0.350: : 1585it [5:13:10, 12.35s/it]"
     ]
    },
    {
     "name": "stdout",
     "output_type": "stream",
     "text": [
      "Adjusting learning rate of group 0 to 1.9656e-05.\n"
     ]
    },
    {
     "name": "stderr",
     "output_type": "stream",
     "text": [
      "loss: 0.248, tv: 0.163, ptv: 0.160, flow: 0.359: : 1587it [5:13:35, 12.35s/it]"
     ]
    },
    {
     "name": "stdout",
     "output_type": "stream",
     "text": [
      "Adjusting learning rate of group 0 to 1.9655e-05.\n"
     ]
    },
    {
     "name": "stderr",
     "output_type": "stream",
     "text": [
      "loss: 0.254, tv: 0.162, ptv: 0.158, flow: 0.368: : 1589it [5:14:00, 12.02s/it]"
     ]
    },
    {
     "name": "stdout",
     "output_type": "stream",
     "text": [
      "Adjusting learning rate of group 0 to 1.9655e-05.\n"
     ]
    },
    {
     "name": "stderr",
     "output_type": "stream",
     "text": [
      "loss: 0.250, tv: 0.167, ptv: 0.168, flow: 0.370: : 1591it [5:14:24, 12.19s/it]"
     ]
    },
    {
     "name": "stdout",
     "output_type": "stream",
     "text": [
      "Adjusting learning rate of group 0 to 1.9654e-05.\n"
     ]
    },
    {
     "name": "stderr",
     "output_type": "stream",
     "text": [
      "loss: 0.245, tv: 0.164, ptv: 0.164, flow: 0.348: : 1593it [5:14:49, 12.27s/it]"
     ]
    },
    {
     "name": "stdout",
     "output_type": "stream",
     "text": [
      "Adjusting learning rate of group 0 to 1.9653e-05.\n"
     ]
    },
    {
     "name": "stderr",
     "output_type": "stream",
     "text": [
      "loss: 0.246, tv: 0.165, ptv: 0.165, flow: 0.343: : 1595it [5:15:14, 12.32s/it]"
     ]
    },
    {
     "name": "stdout",
     "output_type": "stream",
     "text": [
      "Adjusting learning rate of group 0 to 1.9652e-05.\n"
     ]
    },
    {
     "name": "stderr",
     "output_type": "stream",
     "text": [
      "loss: 0.243, tv: 0.166, ptv: 0.163, flow: 0.346: : 1597it [5:15:39, 12.33s/it]"
     ]
    },
    {
     "name": "stdout",
     "output_type": "stream",
     "text": [
      "Adjusting learning rate of group 0 to 1.9651e-05.\n"
     ]
    },
    {
     "name": "stderr",
     "output_type": "stream",
     "text": [
      "loss: 0.238, tv: 0.171, ptv: 0.170, flow: 0.345: : 1599it [5:16:03, 12.34s/it]"
     ]
    },
    {
     "name": "stdout",
     "output_type": "stream",
     "text": [
      "Adjusting learning rate of group 0 to 1.9651e-05.\n"
     ]
    },
    {
     "name": "stderr",
     "output_type": "stream",
     "text": [
      "loss: 0.244, tv: 0.170, ptv: 0.167, flow: 0.353: : 1601it [5:16:28, 12.34s/it]"
     ]
    },
    {
     "name": "stdout",
     "output_type": "stream",
     "text": [
      "Adjusting learning rate of group 0 to 1.9650e-05.\n"
     ]
    },
    {
     "name": "stderr",
     "output_type": "stream",
     "text": [
      "loss: 0.239, tv: 0.174, ptv: 0.173, flow: 0.353: : 1603it [5:16:53, 12.18s/it]"
     ]
    },
    {
     "name": "stdout",
     "output_type": "stream",
     "text": [
      "Adjusting learning rate of group 0 to 1.9649e-05.\n"
     ]
    },
    {
     "name": "stderr",
     "output_type": "stream",
     "text": [
      "loss: 0.255, tv: 0.166, ptv: 0.166, flow: 0.355: : 1605it [5:17:17, 12.27s/it]"
     ]
    },
    {
     "name": "stdout",
     "output_type": "stream",
     "text": [
      "Adjusting learning rate of group 0 to 1.9648e-05.\n"
     ]
    },
    {
     "name": "stderr",
     "output_type": "stream",
     "text": [
      "loss: 0.267, tv: 0.161, ptv: 0.157, flow: 0.356: : 1607it [5:17:42, 12.31s/it]"
     ]
    },
    {
     "name": "stdout",
     "output_type": "stream",
     "text": [
      "Adjusting learning rate of group 0 to 1.9647e-05.\n"
     ]
    },
    {
     "name": "stderr",
     "output_type": "stream",
     "text": [
      "loss: 0.259, tv: 0.167, ptv: 0.165, flow: 0.330: : 1610it [5:18:06, 11.35s/it]"
     ]
    },
    {
     "name": "stdout",
     "output_type": "stream",
     "text": [
      "Adjusting learning rate of group 0 to 1.9646e-05.\n"
     ]
    },
    {
     "name": "stderr",
     "output_type": "stream",
     "text": [
      "loss: 0.251, tv: 0.170, ptv: 0.168, flow: 0.346: : 1612it [5:18:31, 11.85s/it]"
     ]
    },
    {
     "name": "stdout",
     "output_type": "stream",
     "text": [
      "Adjusting learning rate of group 0 to 1.9646e-05.\n"
     ]
    },
    {
     "name": "stderr",
     "output_type": "stream",
     "text": [
      "loss: 0.254, tv: 0.166, ptv: 0.164, flow: 0.357: : 1614it [5:18:56, 12.12s/it]"
     ]
    },
    {
     "name": "stdout",
     "output_type": "stream",
     "text": [
      "Adjusting learning rate of group 0 to 1.9645e-05.\n"
     ]
    },
    {
     "name": "stderr",
     "output_type": "stream",
     "text": [
      "loss: 0.257, tv: 0.168, ptv: 0.166, flow: 0.342: : 1616it [5:19:21, 11.26s/it]"
     ]
    },
    {
     "name": "stdout",
     "output_type": "stream",
     "text": [
      "Adjusting learning rate of group 0 to 1.9644e-05.\n"
     ]
    },
    {
     "name": "stderr",
     "output_type": "stream",
     "text": [
      "loss: 0.244, tv: 0.167, ptv: 0.164, flow: 0.359: : 1618it [5:19:46, 11.81s/it]"
     ]
    },
    {
     "name": "stdout",
     "output_type": "stream",
     "text": [
      "Adjusting learning rate of group 0 to 1.9643e-05.\n"
     ]
    },
    {
     "name": "stderr",
     "output_type": "stream",
     "text": [
      "loss: 0.261, tv: 0.159, ptv: 0.157, flow: 0.366: : 1620it [5:20:10, 12.08s/it]"
     ]
    },
    {
     "name": "stdout",
     "output_type": "stream",
     "text": [
      "Adjusting learning rate of group 0 to 1.9642e-05.\n"
     ]
    },
    {
     "name": "stderr",
     "output_type": "stream",
     "text": [
      "loss: 0.253, tv: 0.157, ptv: 0.160, flow: 0.366: : 1622it [5:20:35, 12.21s/it]"
     ]
    },
    {
     "name": "stdout",
     "output_type": "stream",
     "text": [
      "Adjusting learning rate of group 0 to 1.9641e-05.\n"
     ]
    },
    {
     "name": "stderr",
     "output_type": "stream",
     "text": [
      "loss: 0.245, tv: 0.166, ptv: 0.165, flow: 0.359: : 1624it [5:21:00, 12.28s/it]"
     ]
    },
    {
     "name": "stdout",
     "output_type": "stream",
     "text": [
      "Adjusting learning rate of group 0 to 1.9641e-05.\n"
     ]
    },
    {
     "name": "stderr",
     "output_type": "stream",
     "text": [
      "loss: 0.246, tv: 0.163, ptv: 0.164, flow: 0.371: : 1626it [5:21:24, 12.31s/it]"
     ]
    },
    {
     "name": "stdout",
     "output_type": "stream",
     "text": [
      "Adjusting learning rate of group 0 to 1.9640e-05.\n"
     ]
    },
    {
     "name": "stderr",
     "output_type": "stream",
     "text": [
      "loss: 0.248, tv: 0.165, ptv: 0.161, flow: 0.356: : 1628it [5:21:49, 12.33s/it]"
     ]
    },
    {
     "name": "stdout",
     "output_type": "stream",
     "text": [
      "Adjusting learning rate of group 0 to 1.9639e-05.\n"
     ]
    },
    {
     "name": "stderr",
     "output_type": "stream",
     "text": [
      "loss: 0.253, tv: 0.165, ptv: 0.161, flow: 0.356: : 1630it [5:22:14, 12.34s/it]"
     ]
    },
    {
     "name": "stdout",
     "output_type": "stream",
     "text": [
      "Adjusting learning rate of group 0 to 1.9638e-05.\n"
     ]
    },
    {
     "name": "stderr",
     "output_type": "stream",
     "text": [
      "loss: 0.261, tv: 0.161, ptv: 0.158, flow: 0.358: : 1632it [5:22:38, 11.88s/it]"
     ]
    },
    {
     "name": "stdout",
     "output_type": "stream",
     "text": [
      "Adjusting learning rate of group 0 to 1.9637e-05.\n"
     ]
    },
    {
     "name": "stderr",
     "output_type": "stream",
     "text": [
      "loss: 0.260, tv: 0.160, ptv: 0.156, flow: 0.364: : 1634it [5:23:03, 12.14s/it]"
     ]
    },
    {
     "name": "stdout",
     "output_type": "stream",
     "text": [
      "Adjusting learning rate of group 0 to 1.9636e-05.\n"
     ]
    },
    {
     "name": "stderr",
     "output_type": "stream",
     "text": [
      "loss: 0.264, tv: 0.159, ptv: 0.159, flow: 0.374: : 1636it [5:23:28, 12.25s/it]"
     ]
    },
    {
     "name": "stdout",
     "output_type": "stream",
     "text": [
      "Adjusting learning rate of group 0 to 1.9636e-05.\n"
     ]
    },
    {
     "name": "stderr",
     "output_type": "stream",
     "text": [
      "loss: 0.253, tv: 0.166, ptv: 0.167, flow: 0.370: : 1638it [5:23:52, 12.30s/it]"
     ]
    },
    {
     "name": "stdout",
     "output_type": "stream",
     "text": [
      "Adjusting learning rate of group 0 to 1.9635e-05.\n"
     ]
    },
    {
     "name": "stderr",
     "output_type": "stream",
     "text": [
      "loss: 0.260, tv: 0.162, ptv: 0.160, flow: 0.361: : 1641it [5:24:17, 10.46s/it]"
     ]
    },
    {
     "name": "stdout",
     "output_type": "stream",
     "text": [
      "Adjusting learning rate of group 0 to 1.9634e-05.\n"
     ]
    },
    {
     "name": "stderr",
     "output_type": "stream",
     "text": [
      "loss: 0.244, tv: 0.163, ptv: 0.164, flow: 0.358: : 1643it [5:24:41, 11.41s/it]"
     ]
    },
    {
     "name": "stdout",
     "output_type": "stream",
     "text": [
      "Adjusting learning rate of group 0 to 1.9633e-05.\n"
     ]
    },
    {
     "name": "stderr",
     "output_type": "stream",
     "text": [
      "loss: 0.256, tv: 0.162, ptv: 0.160, flow: 0.336: : 1645it [5:25:06, 10.42s/it]"
     ]
    },
    {
     "name": "stdout",
     "output_type": "stream",
     "text": [
      "Adjusting learning rate of group 0 to 1.9632e-05.\n"
     ]
    },
    {
     "name": "stderr",
     "output_type": "stream",
     "text": [
      "loss: 0.258, tv: 0.167, ptv: 0.166, flow: 0.352: : 1647it [5:25:31, 11.40s/it]"
     ]
    },
    {
     "name": "stdout",
     "output_type": "stream",
     "text": [
      "Adjusting learning rate of group 0 to 1.9631e-05.\n"
     ]
    },
    {
     "name": "stderr",
     "output_type": "stream",
     "text": [
      "loss: 0.247, tv: 0.168, ptv: 0.165, flow: 0.330: : 1649it [5:25:56, 11.88s/it]"
     ]
    },
    {
     "name": "stdout",
     "output_type": "stream",
     "text": [
      "Adjusting learning rate of group 0 to 1.9630e-05.\n"
     ]
    },
    {
     "name": "stderr",
     "output_type": "stream",
     "text": [
      "loss: 0.238, tv: 0.172, ptv: 0.168, flow: 0.333: : 1651it [5:26:20, 11.19s/it]"
     ]
    },
    {
     "name": "stdout",
     "output_type": "stream",
     "text": [
      "Adjusting learning rate of group 0 to 1.9630e-05.\n"
     ]
    },
    {
     "name": "stderr",
     "output_type": "stream",
     "text": [
      "loss: 0.245, tv: 0.166, ptv: 0.166, flow: 0.360: : 1654it [5:26:45, 10.64s/it]"
     ]
    },
    {
     "name": "stdout",
     "output_type": "stream",
     "text": [
      "Adjusting learning rate of group 0 to 1.9629e-05.\n"
     ]
    },
    {
     "name": "stderr",
     "output_type": "stream",
     "text": [
      "loss: 0.269, tv: 0.161, ptv: 0.160, flow: 0.348: : 1656it [5:27:10, 11.52s/it]"
     ]
    },
    {
     "name": "stdout",
     "output_type": "stream",
     "text": [
      "Adjusting learning rate of group 0 to 1.9628e-05.\n"
     ]
    },
    {
     "name": "stderr",
     "output_type": "stream",
     "text": [
      "loss: 0.260, tv: 0.160, ptv: 0.159, flow: 0.353: : 1658it [5:27:35, 11.94s/it]"
     ]
    },
    {
     "name": "stdout",
     "output_type": "stream",
     "text": [
      "Adjusting learning rate of group 0 to 1.9627e-05.\n"
     ]
    },
    {
     "name": "stderr",
     "output_type": "stream",
     "text": [
      "loss: 0.245, tv: 0.165, ptv: 0.165, flow: 0.344: : 1660it [5:27:59, 12.14s/it]"
     ]
    },
    {
     "name": "stdout",
     "output_type": "stream",
     "text": [
      "Adjusting learning rate of group 0 to 1.9626e-05.\n"
     ]
    },
    {
     "name": "stderr",
     "output_type": "stream",
     "text": [
      "loss: 0.244, tv: 0.165, ptv: 0.163, flow: 0.345: : 1662it [5:28:24, 12.09s/it]"
     ]
    },
    {
     "name": "stdout",
     "output_type": "stream",
     "text": [
      "Adjusting learning rate of group 0 to 1.9625e-05.\n"
     ]
    },
    {
     "name": "stderr",
     "output_type": "stream",
     "text": [
      "loss: 0.255, tv: 0.166, ptv: 0.163, flow: 0.366: : 1664it [5:28:49, 12.22s/it]"
     ]
    },
    {
     "name": "stdout",
     "output_type": "stream",
     "text": [
      "Adjusting learning rate of group 0 to 1.9625e-05.\n"
     ]
    },
    {
     "name": "stderr",
     "output_type": "stream",
     "text": [
      "loss: 0.252, tv: 0.170, ptv: 0.167, flow: 0.353: : 1666it [5:29:13, 12.30s/it]"
     ]
    },
    {
     "name": "stdout",
     "output_type": "stream",
     "text": [
      "Adjusting learning rate of group 0 to 1.9624e-05.\n"
     ]
    },
    {
     "name": "stderr",
     "output_type": "stream",
     "text": [
      "loss: 0.244, tv: 0.171, ptv: 0.171, flow: 0.355: : 1668it [5:29:38, 12.32s/it]"
     ]
    },
    {
     "name": "stdout",
     "output_type": "stream",
     "text": [
      "Adjusting learning rate of group 0 to 1.9623e-05.\n"
     ]
    },
    {
     "name": "stderr",
     "output_type": "stream",
     "text": [
      "loss: 0.243, tv: 0.173, ptv: 0.171, flow: 0.343: : 1670it [5:30:03, 12.34s/it]"
     ]
    },
    {
     "name": "stdout",
     "output_type": "stream",
     "text": [
      "Adjusting learning rate of group 0 to 1.9622e-05.\n"
     ]
    },
    {
     "name": "stderr",
     "output_type": "stream",
     "text": [
      "loss: 0.243, tv: 0.170, ptv: 0.168, flow: 0.347: : 1672it [5:30:27, 11.65s/it]"
     ]
    },
    {
     "name": "stdout",
     "output_type": "stream",
     "text": [
      "Adjusting learning rate of group 0 to 1.9621e-05.\n"
     ]
    },
    {
     "name": "stderr",
     "output_type": "stream",
     "text": [
      "loss: 0.255, tv: 0.157, ptv: 0.154, flow: 0.364: : 1674it [5:30:52, 12.00s/it]"
     ]
    },
    {
     "name": "stdout",
     "output_type": "stream",
     "text": [
      "Adjusting learning rate of group 0 to 1.9620e-05.\n"
     ]
    },
    {
     "name": "stderr",
     "output_type": "stream",
     "text": [
      "loss: 0.243, tv: 0.170, ptv: 0.168, flow: 0.354: : 1676it [5:31:17, 11.96s/it]"
     ]
    },
    {
     "name": "stdout",
     "output_type": "stream",
     "text": [
      "Adjusting learning rate of group 0 to 1.9619e-05.\n"
     ]
    },
    {
     "name": "stderr",
     "output_type": "stream",
     "text": [
      "loss: 0.255, tv: 0.166, ptv: 0.166, flow: 0.336: : 1678it [5:31:41, 12.16s/it]"
     ]
    },
    {
     "name": "stdout",
     "output_type": "stream",
     "text": [
      "Adjusting learning rate of group 0 to 1.9619e-05.\n"
     ]
    },
    {
     "name": "stderr",
     "output_type": "stream",
     "text": [
      "loss: 0.254, tv: 0.168, ptv: 0.166, flow: 0.337: : 1680it [5:32:06, 12.26s/it]"
     ]
    },
    {
     "name": "stdout",
     "output_type": "stream",
     "text": [
      "Adjusting learning rate of group 0 to 1.9618e-05.\n"
     ]
    },
    {
     "name": "stderr",
     "output_type": "stream",
     "text": [
      "loss: 0.239, tv: 0.168, ptv: 0.164, flow: 0.351: : 1683it [5:32:31, 10.45s/it]"
     ]
    },
    {
     "name": "stdout",
     "output_type": "stream",
     "text": [
      "Adjusting learning rate of group 0 to 1.9617e-05.\n"
     ]
    },
    {
     "name": "stderr",
     "output_type": "stream",
     "text": [
      "loss: 0.255, tv: 0.164, ptv: 0.164, flow: 0.330: : 1685it [5:32:56, 11.43s/it]"
     ]
    },
    {
     "name": "stdout",
     "output_type": "stream",
     "text": [
      "Adjusting learning rate of group 0 to 1.9616e-05.\n"
     ]
    },
    {
     "name": "stderr",
     "output_type": "stream",
     "text": [
      "loss: 0.244, tv: 0.167, ptv: 0.166, flow: 0.359: : 1687it [5:33:21, 11.90s/it]"
     ]
    },
    {
     "name": "stdout",
     "output_type": "stream",
     "text": [
      "Adjusting learning rate of group 0 to 1.9615e-05.\n"
     ]
    },
    {
     "name": "stderr",
     "output_type": "stream",
     "text": [
      "loss: 0.258, tv: 0.165, ptv: 0.164, flow: 0.355: : 1689it [5:33:45, 11.20s/it]"
     ]
    },
    {
     "name": "stdout",
     "output_type": "stream",
     "text": [
      "Adjusting learning rate of group 0 to 1.9614e-05.\n"
     ]
    },
    {
     "name": "stderr",
     "output_type": "stream",
     "text": [
      "loss: 0.263, tv: 0.164, ptv: 0.161, flow: 0.359: : 1691it [5:34:10, 11.78s/it]"
     ]
    },
    {
     "name": "stdout",
     "output_type": "stream",
     "text": [
      "Adjusting learning rate of group 0 to 1.9613e-05.\n"
     ]
    },
    {
     "name": "stderr",
     "output_type": "stream",
     "text": [
      "loss: 0.261, tv: 0.164, ptv: 0.161, flow: 0.348: : 1693it [5:34:35, 12.07s/it]"
     ]
    },
    {
     "name": "stdout",
     "output_type": "stream",
     "text": [
      "Adjusting learning rate of group 0 to 1.9613e-05.\n"
     ]
    },
    {
     "name": "stderr",
     "output_type": "stream",
     "text": [
      "loss: 0.275, tv: 0.155, ptv: 0.153, flow: 0.392: : 1695it [5:34:59, 12.24s/it]"
     ]
    },
    {
     "name": "stdout",
     "output_type": "stream",
     "text": [
      "Adjusting learning rate of group 0 to 1.9612e-05.\n"
     ]
    },
    {
     "name": "stderr",
     "output_type": "stream",
     "text": [
      "loss: 0.260, tv: 0.162, ptv: 0.162, flow: 0.342: : 1697it [5:35:24, 12.30s/it]"
     ]
    },
    {
     "name": "stdout",
     "output_type": "stream",
     "text": [
      "Adjusting learning rate of group 0 to 1.9611e-05.\n"
     ]
    },
    {
     "name": "stderr",
     "output_type": "stream",
     "text": [
      "loss: 0.243, tv: 0.168, ptv: 0.166, flow: 0.352: : 1699it [5:35:49, 12.32s/it]"
     ]
    },
    {
     "name": "stdout",
     "output_type": "stream",
     "text": [
      "Adjusting learning rate of group 0 to 1.9610e-05.\n"
     ]
    },
    {
     "name": "stderr",
     "output_type": "stream",
     "text": [
      "loss: 0.241, tv: 0.168, ptv: 0.164, flow: 0.354: : 1701it [5:36:13, 12.34s/it]"
     ]
    },
    {
     "name": "stdout",
     "output_type": "stream",
     "text": [
      "Adjusting learning rate of group 0 to 1.9609e-05.\n"
     ]
    },
    {
     "name": "stderr",
     "output_type": "stream",
     "text": [
      "loss: 0.256, tv: 0.163, ptv: 0.161, flow: 0.345: : 1703it [5:36:38, 12.35s/it]"
     ]
    },
    {
     "name": "stdout",
     "output_type": "stream",
     "text": [
      "Adjusting learning rate of group 0 to 1.9608e-05.\n"
     ]
    },
    {
     "name": "stderr",
     "output_type": "stream",
     "text": [
      "loss: 0.252, tv: 0.165, ptv: 0.164, flow: 0.341: : 1705it [5:37:03, 12.36s/it]"
     ]
    },
    {
     "name": "stdout",
     "output_type": "stream",
     "text": [
      "Adjusting learning rate of group 0 to 1.9607e-05.\n"
     ]
    },
    {
     "name": "stderr",
     "output_type": "stream",
     "text": [
      "loss: 0.255, tv: 0.166, ptv: 0.167, flow: 0.373: : 1707it [5:37:28, 12.35s/it]"
     ]
    },
    {
     "name": "stdout",
     "output_type": "stream",
     "text": [
      "Adjusting learning rate of group 0 to 1.9606e-05.\n"
     ]
    },
    {
     "name": "stderr",
     "output_type": "stream",
     "text": [
      "loss: 0.253, tv: 0.168, ptv: 0.169, flow: 0.344: : 1709it [5:37:52, 12.35s/it]"
     ]
    },
    {
     "name": "stdout",
     "output_type": "stream",
     "text": [
      "Adjusting learning rate of group 0 to 1.9606e-05.\n"
     ]
    },
    {
     "name": "stderr",
     "output_type": "stream",
     "text": [
      "loss: 0.251, tv: 0.163, ptv: 0.159, flow: 0.364: : 1711it [5:38:16, 11.52s/it]"
     ]
    },
    {
     "name": "stdout",
     "output_type": "stream",
     "text": [
      "Adjusting learning rate of group 0 to 1.9605e-05.\n"
     ]
    },
    {
     "name": "stderr",
     "output_type": "stream",
     "text": [
      "loss: 0.265, tv: 0.161, ptv: 0.159, flow: 0.379: : 1713it [5:38:41, 11.61s/it]"
     ]
    },
    {
     "name": "stdout",
     "output_type": "stream",
     "text": [
      "Adjusting learning rate of group 0 to 1.9604e-05.\n"
     ]
    },
    {
     "name": "stderr",
     "output_type": "stream",
     "text": [
      "loss: 0.244, tv: 0.172, ptv: 0.170, flow: 0.332: : 1715it [5:39:06, 11.77s/it]"
     ]
    },
    {
     "name": "stdout",
     "output_type": "stream",
     "text": [
      "Adjusting learning rate of group 0 to 1.9603e-05.\n"
     ]
    },
    {
     "name": "stderr",
     "output_type": "stream",
     "text": [
      "loss: 0.257, tv: 0.162, ptv: 0.159, flow: 0.339: : 1717it [5:39:30, 12.06s/it]"
     ]
    },
    {
     "name": "stdout",
     "output_type": "stream",
     "text": [
      "Adjusting learning rate of group 0 to 1.9602e-05.\n"
     ]
    },
    {
     "name": "stderr",
     "output_type": "stream",
     "text": [
      "loss: 0.240, tv: 0.165, ptv: 0.163, flow: 0.331: : 1719it [5:39:55, 12.21s/it]"
     ]
    },
    {
     "name": "stdout",
     "output_type": "stream",
     "text": [
      "Adjusting learning rate of group 0 to 1.9601e-05.\n"
     ]
    },
    {
     "name": "stderr",
     "output_type": "stream",
     "text": [
      "loss: 0.248, tv: 0.168, ptv: 0.168, flow: 0.340: : 1722it [5:40:20, 12.03s/it]"
     ]
    },
    {
     "name": "stdout",
     "output_type": "stream",
     "text": [
      "Adjusting learning rate of group 0 to 1.9600e-05.\n"
     ]
    },
    {
     "name": "stderr",
     "output_type": "stream",
     "text": [
      "loss: 0.244, tv: 0.165, ptv: 0.163, flow: 0.365: : 1724it [5:40:45, 12.19s/it]"
     ]
    },
    {
     "name": "stdout",
     "output_type": "stream",
     "text": [
      "Adjusting learning rate of group 0 to 1.9599e-05.\n"
     ]
    },
    {
     "name": "stderr",
     "output_type": "stream",
     "text": [
      "loss: 0.251, tv: 0.165, ptv: 0.163, flow: 0.347: : 1726it [5:41:10, 12.05s/it]"
     ]
    },
    {
     "name": "stdout",
     "output_type": "stream",
     "text": [
      "Adjusting learning rate of group 0 to 1.9599e-05.\n"
     ]
    },
    {
     "name": "stderr",
     "output_type": "stream",
     "text": [
      "loss: 0.242, tv: 0.167, ptv: 0.165, flow: 0.339: : 1728it [5:41:35, 11.88s/it]"
     ]
    },
    {
     "name": "stdout",
     "output_type": "stream",
     "text": [
      "Adjusting learning rate of group 0 to 1.9598e-05.\n"
     ]
    },
    {
     "name": "stderr",
     "output_type": "stream",
     "text": [
      "loss: 0.243, tv: 0.167, ptv: 0.164, flow: 0.363: : 1730it [5:41:59, 12.13s/it]"
     ]
    },
    {
     "name": "stdout",
     "output_type": "stream",
     "text": [
      "Adjusting learning rate of group 0 to 1.9597e-05.\n"
     ]
    },
    {
     "name": "stderr",
     "output_type": "stream",
     "text": [
      "loss: 0.251, tv: 0.166, ptv: 0.163, flow: 0.365: : 1732it [5:42:24, 12.24s/it]"
     ]
    },
    {
     "name": "stdout",
     "output_type": "stream",
     "text": [
      "Adjusting learning rate of group 0 to 1.9596e-05.\n"
     ]
    },
    {
     "name": "stderr",
     "output_type": "stream",
     "text": [
      "loss: 0.239, tv: 0.162, ptv: 0.160, flow: 0.346: : 1734it [5:42:49, 12.29s/it]"
     ]
    },
    {
     "name": "stdout",
     "output_type": "stream",
     "text": [
      "Adjusting learning rate of group 0 to 1.9595e-05.\n"
     ]
    },
    {
     "name": "stderr",
     "output_type": "stream",
     "text": [
      "loss: 0.254, tv: 0.167, ptv: 0.164, flow: 0.324: : 1736it [5:43:14, 11.47s/it]"
     ]
    },
    {
     "name": "stdout",
     "output_type": "stream",
     "text": [
      "Adjusting learning rate of group 0 to 1.9594e-05.\n"
     ]
    },
    {
     "name": "stderr",
     "output_type": "stream",
     "text": [
      "loss: 0.243, tv: 0.166, ptv: 0.166, flow: 0.340: : 1739it [5:43:38,  9.68s/it]"
     ]
    },
    {
     "name": "stdout",
     "output_type": "stream",
     "text": [
      "Adjusting learning rate of group 0 to 1.9593e-05.\n"
     ]
    },
    {
     "name": "stderr",
     "output_type": "stream",
     "text": [
      "loss: 0.255, tv: 0.165, ptv: 0.166, flow: 0.316: : 1741it [5:44:03,  8.94s/it]"
     ]
    },
    {
     "name": "stdout",
     "output_type": "stream",
     "text": [
      "Adjusting learning rate of group 0 to 1.9592e-05.\n"
     ]
    },
    {
     "name": "stderr",
     "output_type": "stream",
     "text": [
      "loss: 0.247, tv: 0.169, ptv: 0.167, flow: 0.338: : 1743it [5:44:27, 10.69s/it]"
     ]
    },
    {
     "name": "stdout",
     "output_type": "stream",
     "text": [
      "Adjusting learning rate of group 0 to 1.9591e-05.\n"
     ]
    },
    {
     "name": "stderr",
     "output_type": "stream",
     "text": [
      "loss: 0.247, tv: 0.169, ptv: 0.168, flow: 0.329: : 1746it [5:44:52,  9.31s/it]"
     ]
    },
    {
     "name": "stdout",
     "output_type": "stream",
     "text": [
      "Adjusting learning rate of group 0 to 1.9591e-05.\n"
     ]
    },
    {
     "name": "stderr",
     "output_type": "stream",
     "text": [
      "loss: 0.262, tv: 0.162, ptv: 0.162, flow: 0.341: : 1748it [5:45:17, 10.90s/it]"
     ]
    },
    {
     "name": "stdout",
     "output_type": "stream",
     "text": [
      "Adjusting learning rate of group 0 to 1.9590e-05.\n"
     ]
    },
    {
     "name": "stderr",
     "output_type": "stream",
     "text": [
      "loss: 0.251, tv: 0.162, ptv: 0.161, flow: 0.366: : 1750it [5:45:42, 11.64s/it]"
     ]
    },
    {
     "name": "stdout",
     "output_type": "stream",
     "text": [
      "Adjusting learning rate of group 0 to 1.9589e-05.\n"
     ]
    },
    {
     "name": "stderr",
     "output_type": "stream",
     "text": [
      "loss: 0.238, tv: 0.163, ptv: 0.164, flow: 0.353: : 1752it [5:46:06, 12.01s/it]"
     ]
    },
    {
     "name": "stdout",
     "output_type": "stream",
     "text": [
      "Adjusting learning rate of group 0 to 1.9588e-05.\n"
     ]
    },
    {
     "name": "stderr",
     "output_type": "stream",
     "text": [
      "loss: 0.258, tv: 0.164, ptv: 0.162, flow: 0.375: : 1754it [5:46:31, 10.54s/it]"
     ]
    },
    {
     "name": "stdout",
     "output_type": "stream",
     "text": [
      "Adjusting learning rate of group 0 to 1.9587e-05.\n"
     ]
    },
    {
     "name": "stderr",
     "output_type": "stream",
     "text": [
      "loss: 0.266, tv: 0.159, ptv: 0.156, flow: 0.365: : 1756it [5:46:55, 11.46s/it]"
     ]
    },
    {
     "name": "stdout",
     "output_type": "stream",
     "text": [
      "Adjusting learning rate of group 0 to 1.9586e-05.\n"
     ]
    },
    {
     "name": "stderr",
     "output_type": "stream",
     "text": [
      "loss: 0.251, tv: 0.167, ptv: 0.167, flow: 0.369: : 1759it [5:47:20, 11.89s/it]"
     ]
    },
    {
     "name": "stdout",
     "output_type": "stream",
     "text": [
      "Adjusting learning rate of group 0 to 1.9585e-05.\n"
     ]
    },
    {
     "name": "stderr",
     "output_type": "stream",
     "text": [
      "loss: 0.252, tv: 0.169, ptv: 0.165, flow: 0.340: : 1761it [5:47:45, 12.12s/it]"
     ]
    },
    {
     "name": "stdout",
     "output_type": "stream",
     "text": [
      "Adjusting learning rate of group 0 to 1.9584e-05.\n"
     ]
    },
    {
     "name": "stderr",
     "output_type": "stream",
     "text": [
      "loss: 0.247, tv: 0.166, ptv: 0.160, flow: 0.331: : 1763it [5:48:10, 12.25s/it]"
     ]
    },
    {
     "name": "stdout",
     "output_type": "stream",
     "text": [
      "Adjusting learning rate of group 0 to 1.9583e-05.\n"
     ]
    },
    {
     "name": "stderr",
     "output_type": "stream",
     "text": [
      "loss: 0.261, tv: 0.159, ptv: 0.158, flow: 0.339: : 1765it [5:48:34, 12.30s/it]"
     ]
    },
    {
     "name": "stdout",
     "output_type": "stream",
     "text": [
      "Adjusting learning rate of group 0 to 1.9583e-05.\n"
     ]
    },
    {
     "name": "stderr",
     "output_type": "stream",
     "text": [
      "loss: 0.239, tv: 0.174, ptv: 0.173, flow: 0.331: : 1767it [5:49:00, 11.19s/it]"
     ]
    },
    {
     "name": "stdout",
     "output_type": "stream",
     "text": [
      "Adjusting learning rate of group 0 to 1.9582e-05.\n"
     ]
    },
    {
     "name": "stderr",
     "output_type": "stream",
     "text": [
      "loss: 0.241, tv: 0.164, ptv: 0.164, flow: 0.354: : 1769it [5:49:24, 11.31s/it]"
     ]
    },
    {
     "name": "stdout",
     "output_type": "stream",
     "text": [
      "Adjusting learning rate of group 0 to 1.9581e-05.\n"
     ]
    },
    {
     "name": "stderr",
     "output_type": "stream",
     "text": [
      "loss: 0.243, tv: 0.166, ptv: 0.164, flow: 0.351: : 1771it [5:49:49, 11.84s/it]"
     ]
    },
    {
     "name": "stdout",
     "output_type": "stream",
     "text": [
      "Adjusting learning rate of group 0 to 1.9580e-05.\n"
     ]
    },
    {
     "name": "stderr",
     "output_type": "stream",
     "text": [
      "loss: 0.247, tv: 0.167, ptv: 0.167, flow: 0.338: : 1773it [5:50:14, 11.94s/it]"
     ]
    },
    {
     "name": "stdout",
     "output_type": "stream",
     "text": [
      "Adjusting learning rate of group 0 to 1.9579e-05.\n"
     ]
    },
    {
     "name": "stderr",
     "output_type": "stream",
     "text": [
      "loss: 0.264, tv: 0.161, ptv: 0.158, flow: 0.362: : 1775it [5:50:38, 12.15s/it]"
     ]
    },
    {
     "name": "stdout",
     "output_type": "stream",
     "text": [
      "Adjusting learning rate of group 0 to 1.9578e-05.\n"
     ]
    },
    {
     "name": "stderr",
     "output_type": "stream",
     "text": [
      "loss: 0.258, tv: 0.165, ptv: 0.164, flow: 0.354: : 1777it [5:51:03, 12.26s/it]"
     ]
    },
    {
     "name": "stdout",
     "output_type": "stream",
     "text": [
      "Adjusting learning rate of group 0 to 1.9577e-05.\n"
     ]
    },
    {
     "name": "stderr",
     "output_type": "stream",
     "text": [
      "loss: 0.259, tv: 0.165, ptv: 0.164, flow: 0.345: : 1779it [5:51:28, 12.31s/it]"
     ]
    },
    {
     "name": "stdout",
     "output_type": "stream",
     "text": [
      "Adjusting learning rate of group 0 to 1.9576e-05.\n"
     ]
    },
    {
     "name": "stderr",
     "output_type": "stream",
     "text": [
      "loss: 0.244, tv: 0.169, ptv: 0.165, flow: 0.356: : 1781it [5:51:52, 12.33s/it]"
     ]
    },
    {
     "name": "stdout",
     "output_type": "stream",
     "text": [
      "Adjusting learning rate of group 0 to 1.9575e-05.\n"
     ]
    },
    {
     "name": "stderr",
     "output_type": "stream",
     "text": [
      "loss: 0.232, tv: 0.175, ptv: 0.175, flow: 0.338: : 1783it [5:52:17, 12.34s/it]"
     ]
    },
    {
     "name": "stdout",
     "output_type": "stream",
     "text": [
      "Adjusting learning rate of group 0 to 1.9574e-05.\n"
     ]
    },
    {
     "name": "stderr",
     "output_type": "stream",
     "text": [
      "loss: 0.250, tv: 0.170, ptv: 0.169, flow: 0.331: : 1785it [5:52:42, 12.35s/it]"
     ]
    },
    {
     "name": "stdout",
     "output_type": "stream",
     "text": [
      "Adjusting learning rate of group 0 to 1.9573e-05.\n"
     ]
    },
    {
     "name": "stderr",
     "output_type": "stream",
     "text": [
      "loss: 0.251, tv: 0.168, ptv: 0.166, flow: 0.343: : 1788it [5:53:07, 10.89s/it]"
     ]
    },
    {
     "name": "stdout",
     "output_type": "stream",
     "text": [
      "Adjusting learning rate of group 0 to 1.9573e-05.\n"
     ]
    },
    {
     "name": "stderr",
     "output_type": "stream",
     "text": [
      "loss: 0.252, tv: 0.163, ptv: 0.160, flow: 0.352: : 1790it [5:53:31, 10.24s/it]"
     ]
    },
    {
     "name": "stdout",
     "output_type": "stream",
     "text": [
      "Adjusting learning rate of group 0 to 1.9572e-05.\n"
     ]
    },
    {
     "name": "stderr",
     "output_type": "stream",
     "text": [
      "loss: 0.251, tv: 0.167, ptv: 0.165, flow: 0.350: : 1793it [5:53:55,  9.86s/it]"
     ]
    },
    {
     "name": "stdout",
     "output_type": "stream",
     "text": [
      "Adjusting learning rate of group 0 to 1.9571e-05.\n"
     ]
    },
    {
     "name": "stderr",
     "output_type": "stream",
     "text": [
      "loss: 0.245, tv: 0.164, ptv: 0.163, flow: 0.360: : 1795it [5:54:20, 11.13s/it]"
     ]
    },
    {
     "name": "stdout",
     "output_type": "stream",
     "text": [
      "Adjusting learning rate of group 0 to 1.9570e-05.\n"
     ]
    },
    {
     "name": "stderr",
     "output_type": "stream",
     "text": [
      "loss: 0.266, tv: 0.161, ptv: 0.161, flow: 0.369: : 1797it [5:54:45, 11.75s/it]"
     ]
    },
    {
     "name": "stdout",
     "output_type": "stream",
     "text": [
      "Adjusting learning rate of group 0 to 1.9569e-05.\n"
     ]
    },
    {
     "name": "stderr",
     "output_type": "stream",
     "text": [
      "loss: 0.246, tv: 0.171, ptv: 0.173, flow: 0.335: : 1799it [5:55:10, 11.91s/it]"
     ]
    },
    {
     "name": "stdout",
     "output_type": "stream",
     "text": [
      "Adjusting learning rate of group 0 to 1.9568e-05.\n"
     ]
    },
    {
     "name": "stderr",
     "output_type": "stream",
     "text": [
      "loss: 0.248, tv: 0.167, ptv: 0.165, flow: 0.357: : 1801it [5:55:35, 12.13s/it]"
     ]
    },
    {
     "name": "stdout",
     "output_type": "stream",
     "text": [
      "Adjusting learning rate of group 0 to 1.9567e-05.\n"
     ]
    },
    {
     "name": "stderr",
     "output_type": "stream",
     "text": [
      "loss: 0.254, tv: 0.168, ptv: 0.165, flow: 0.363: : 1803it [5:56:00, 12.24s/it]"
     ]
    },
    {
     "name": "stdout",
     "output_type": "stream",
     "text": [
      "Adjusting learning rate of group 0 to 1.9566e-05.\n"
     ]
    },
    {
     "name": "stderr",
     "output_type": "stream",
     "text": [
      "loss: 0.257, tv: 0.161, ptv: 0.156, flow: 0.368: : 1805it [5:56:24, 12.30s/it]"
     ]
    },
    {
     "name": "stdout",
     "output_type": "stream",
     "text": [
      "Adjusting learning rate of group 0 to 1.9565e-05.\n"
     ]
    },
    {
     "name": "stderr",
     "output_type": "stream",
     "text": [
      "loss: 0.237, tv: 0.170, ptv: 0.168, flow: 0.354: : 1807it [5:56:49, 12.34s/it]"
     ]
    },
    {
     "name": "stdout",
     "output_type": "stream",
     "text": [
      "Adjusting learning rate of group 0 to 1.9564e-05.\n"
     ]
    },
    {
     "name": "stderr",
     "output_type": "stream",
     "text": [
      "loss: 0.253, tv: 0.165, ptv: 0.164, flow: 0.364: : 1809it [5:57:13, 10.95s/it]"
     ]
    },
    {
     "name": "stdout",
     "output_type": "stream",
     "text": [
      "Adjusting learning rate of group 0 to 1.9563e-05.\n"
     ]
    },
    {
     "name": "stderr",
     "output_type": "stream",
     "text": [
      "loss: 0.233, tv: 0.173, ptv: 0.171, flow: 0.338: : 1811it [5:57:38, 11.66s/it]"
     ]
    },
    {
     "name": "stdout",
     "output_type": "stream",
     "text": [
      "Adjusting learning rate of group 0 to 1.9563e-05.\n"
     ]
    },
    {
     "name": "stderr",
     "output_type": "stream",
     "text": [
      "loss: 0.238, tv: 0.176, ptv: 0.175, flow: 0.330: : 1813it [5:58:03, 11.78s/it]"
     ]
    },
    {
     "name": "stdout",
     "output_type": "stream",
     "text": [
      "Adjusting learning rate of group 0 to 1.9562e-05.\n"
     ]
    },
    {
     "name": "stderr",
     "output_type": "stream",
     "text": [
      "loss: 0.251, tv: 0.168, ptv: 0.166, flow: 0.326: : 1815it [5:58:27, 11.84s/it]"
     ]
    },
    {
     "name": "stdout",
     "output_type": "stream",
     "text": [
      "Adjusting learning rate of group 0 to 1.9561e-05.\n"
     ]
    },
    {
     "name": "stderr",
     "output_type": "stream",
     "text": [
      "loss: 0.246, tv: 0.166, ptv: 0.164, flow: 0.362: : 1817it [5:58:52, 11.16s/it]"
     ]
    },
    {
     "name": "stdout",
     "output_type": "stream",
     "text": [
      "Adjusting learning rate of group 0 to 1.9560e-05.\n"
     ]
    },
    {
     "name": "stderr",
     "output_type": "stream",
     "text": [
      "loss: 0.252, tv: 0.165, ptv: 0.164, flow: 0.349: : 1819it [5:59:17, 11.77s/it]"
     ]
    },
    {
     "name": "stdout",
     "output_type": "stream",
     "text": [
      "Adjusting learning rate of group 0 to 1.9559e-05.\n"
     ]
    },
    {
     "name": "stderr",
     "output_type": "stream",
     "text": [
      "loss: 0.245, tv: 0.164, ptv: 0.162, flow: 0.358: : 1821it [5:59:41, 12.07s/it]"
     ]
    },
    {
     "name": "stdout",
     "output_type": "stream",
     "text": [
      "Adjusting learning rate of group 0 to 1.9558e-05.\n"
     ]
    },
    {
     "name": "stderr",
     "output_type": "stream",
     "text": [
      "loss: 0.244, tv: 0.165, ptv: 0.163, flow: 0.361: : 1823it [6:00:06, 12.21s/it]"
     ]
    },
    {
     "name": "stdout",
     "output_type": "stream",
     "text": [
      "Adjusting learning rate of group 0 to 1.9557e-05.\n"
     ]
    },
    {
     "name": "stderr",
     "output_type": "stream",
     "text": [
      "loss: 0.253, tv: 0.167, ptv: 0.163, flow: 0.361: : 1826it [6:00:31, 10.20s/it]"
     ]
    },
    {
     "name": "stdout",
     "output_type": "stream",
     "text": [
      "Adjusting learning rate of group 0 to 1.9556e-05.\n"
     ]
    },
    {
     "name": "stderr",
     "output_type": "stream",
     "text": [
      "loss: 0.248, tv: 0.163, ptv: 0.161, flow: 0.359: : 1828it [6:00:56, 11.31s/it]"
     ]
    },
    {
     "name": "stdout",
     "output_type": "stream",
     "text": [
      "Adjusting learning rate of group 0 to 1.9555e-05.\n"
     ]
    },
    {
     "name": "stderr",
     "output_type": "stream",
     "text": [
      "loss: 0.239, tv: 0.165, ptv: 0.163, flow: 0.354: : 1830it [6:01:20, 11.83s/it]"
     ]
    },
    {
     "name": "stdout",
     "output_type": "stream",
     "text": [
      "Adjusting learning rate of group 0 to 1.9554e-05.\n"
     ]
    },
    {
     "name": "stderr",
     "output_type": "stream",
     "text": [
      "loss: 0.251, tv: 0.169, ptv: 0.167, flow: 0.363: : 1832it [6:01:45, 12.09s/it]"
     ]
    },
    {
     "name": "stdout",
     "output_type": "stream",
     "text": [
      "Adjusting learning rate of group 0 to 1.9553e-05.\n"
     ]
    },
    {
     "name": "stderr",
     "output_type": "stream",
     "text": [
      "loss: 0.254, tv: 0.166, ptv: 0.166, flow: 0.336: : 1834it [6:02:09, 10.93s/it]"
     ]
    },
    {
     "name": "stdout",
     "output_type": "stream",
     "text": [
      "Adjusting learning rate of group 0 to 1.9552e-05.\n"
     ]
    },
    {
     "name": "stderr",
     "output_type": "stream",
     "text": [
      "loss: 0.263, tv: 0.160, ptv: 0.159, flow: 0.370: : 1836it [6:02:34, 11.65s/it]"
     ]
    },
    {
     "name": "stdout",
     "output_type": "stream",
     "text": [
      "Adjusting learning rate of group 0 to 1.9551e-05.\n"
     ]
    },
    {
     "name": "stderr",
     "output_type": "stream",
     "text": [
      "loss: 0.258, tv: 0.167, ptv: 0.166, flow: 0.356: : 1838it [6:02:59, 12.02s/it]"
     ]
    },
    {
     "name": "stdout",
     "output_type": "stream",
     "text": [
      "Adjusting learning rate of group 0 to 1.9551e-05.\n"
     ]
    },
    {
     "name": "stderr",
     "output_type": "stream",
     "text": [
      "loss: 0.257, tv: 0.169, ptv: 0.168, flow: 0.332: : 1840it [6:03:24, 12.19s/it]"
     ]
    },
    {
     "name": "stdout",
     "output_type": "stream",
     "text": [
      "Adjusting learning rate of group 0 to 1.9550e-05.\n"
     ]
    },
    {
     "name": "stderr",
     "output_type": "stream",
     "text": [
      "loss: 0.245, tv: 0.165, ptv: 0.165, flow: 0.362: : 1842it [6:03:48, 12.27s/it]"
     ]
    },
    {
     "name": "stdout",
     "output_type": "stream",
     "text": [
      "Adjusting learning rate of group 0 to 1.9549e-05.\n"
     ]
    },
    {
     "name": "stderr",
     "output_type": "stream",
     "text": [
      "loss: 0.257, tv: 0.159, ptv: 0.159, flow: 0.374: : 1844it [6:04:13, 12.33s/it]"
     ]
    },
    {
     "name": "stdout",
     "output_type": "stream",
     "text": [
      "Adjusting learning rate of group 0 to 1.9548e-05.\n"
     ]
    },
    {
     "name": "stderr",
     "output_type": "stream",
     "text": [
      "loss: 0.250, tv: 0.163, ptv: 0.161, flow: 0.368: : 1846it [6:04:38, 12.34s/it]"
     ]
    },
    {
     "name": "stdout",
     "output_type": "stream",
     "text": [
      "Adjusting learning rate of group 0 to 1.9547e-05.\n"
     ]
    },
    {
     "name": "stderr",
     "output_type": "stream",
     "text": [
      "loss: 0.238, tv: 0.171, ptv: 0.168, flow: 0.349: : 1848it [6:05:02, 12.36s/it]"
     ]
    },
    {
     "name": "stdout",
     "output_type": "stream",
     "text": [
      "Adjusting learning rate of group 0 to 1.9546e-05.\n"
     ]
    },
    {
     "name": "stderr",
     "output_type": "stream",
     "text": [
      "loss: 0.243, tv: 0.173, ptv: 0.172, flow: 0.334: : 1850it [6:05:27, 12.14s/it]"
     ]
    },
    {
     "name": "stdout",
     "output_type": "stream",
     "text": [
      "Adjusting learning rate of group 0 to 1.9545e-05.\n"
     ]
    },
    {
     "name": "stderr",
     "output_type": "stream",
     "text": [
      "loss: 0.259, tv: 0.160, ptv: 0.160, flow: 0.375: : 1852it [6:05:52, 12.25s/it]"
     ]
    },
    {
     "name": "stdout",
     "output_type": "stream",
     "text": [
      "Adjusting learning rate of group 0 to 1.9544e-05.\n"
     ]
    },
    {
     "name": "stderr",
     "output_type": "stream",
     "text": [
      "loss: 0.264, tv: 0.161, ptv: 0.160, flow: 0.384: : 1854it [6:06:17, 12.30s/it]"
     ]
    },
    {
     "name": "stdout",
     "output_type": "stream",
     "text": [
      "Adjusting learning rate of group 0 to 1.9543e-05.\n"
     ]
    },
    {
     "name": "stderr",
     "output_type": "stream",
     "text": [
      "loss: 0.258, tv: 0.168, ptv: 0.165, flow: 0.361: : 1856it [6:06:41, 12.32s/it]"
     ]
    },
    {
     "name": "stdout",
     "output_type": "stream",
     "text": [
      "Adjusting learning rate of group 0 to 1.9542e-05.\n"
     ]
    },
    {
     "name": "stderr",
     "output_type": "stream",
     "text": [
      "loss: 0.244, tv: 0.172, ptv: 0.172, flow: 0.351: : 1859it [6:07:07, 11.41s/it]"
     ]
    },
    {
     "name": "stdout",
     "output_type": "stream",
     "text": [
      "Adjusting learning rate of group 0 to 1.9541e-05.\n"
     ]
    },
    {
     "name": "stderr",
     "output_type": "stream",
     "text": [
      "loss: 0.249, tv: 0.166, ptv: 0.166, flow: 0.341: : 1861it [6:07:31, 11.89s/it]"
     ]
    },
    {
     "name": "stdout",
     "output_type": "stream",
     "text": [
      "Adjusting learning rate of group 0 to 1.9540e-05.\n"
     ]
    },
    {
     "name": "stderr",
     "output_type": "stream",
     "text": [
      "loss: 0.255, tv: 0.157, ptv: 0.156, flow: 0.362: : 1863it [6:07:56, 12.12s/it]"
     ]
    },
    {
     "name": "stdout",
     "output_type": "stream",
     "text": [
      "Adjusting learning rate of group 0 to 1.9539e-05.\n"
     ]
    },
    {
     "name": "stderr",
     "output_type": "stream",
     "text": [
      "loss: 0.254, tv: 0.166, ptv: 0.163, flow: 0.371: : 1865it [6:08:20, 12.08s/it]"
     ]
    },
    {
     "name": "stdout",
     "output_type": "stream",
     "text": [
      "Adjusting learning rate of group 0 to 1.9538e-05.\n"
     ]
    },
    {
     "name": "stderr",
     "output_type": "stream",
     "text": [
      "loss: 0.263, tv: 0.166, ptv: 0.162, flow: 0.352: : 1867it [6:08:45, 11.72s/it]"
     ]
    },
    {
     "name": "stdout",
     "output_type": "stream",
     "text": [
      "Adjusting learning rate of group 0 to 1.9537e-05.\n"
     ]
    },
    {
     "name": "stderr",
     "output_type": "stream",
     "text": [
      "loss: 0.272, tv: 0.157, ptv: 0.151, flow: 0.374: : 1869it [6:09:10, 12.05s/it]"
     ]
    },
    {
     "name": "stdout",
     "output_type": "stream",
     "text": [
      "Adjusting learning rate of group 0 to 1.9536e-05.\n"
     ]
    },
    {
     "name": "stderr",
     "output_type": "stream",
     "text": [
      "loss: 0.235, tv: 0.167, ptv: 0.165, flow: 0.347: : 1871it [6:09:34, 12.21s/it]"
     ]
    },
    {
     "name": "stdout",
     "output_type": "stream",
     "text": [
      "Adjusting learning rate of group 0 to 1.9535e-05.\n"
     ]
    },
    {
     "name": "stderr",
     "output_type": "stream",
     "text": [
      "loss: 0.250, tv: 0.171, ptv: 0.168, flow: 0.338: : 1873it [6:09:59, 11.47s/it]"
     ]
    },
    {
     "name": "stdout",
     "output_type": "stream",
     "text": [
      "Adjusting learning rate of group 0 to 1.9535e-05.\n"
     ]
    },
    {
     "name": "stderr",
     "output_type": "stream",
     "text": [
      "loss: 0.244, tv: 0.167, ptv: 0.165, flow: 0.359: : 1875it [6:10:24, 11.91s/it]"
     ]
    },
    {
     "name": "stdout",
     "output_type": "stream",
     "text": [
      "Adjusting learning rate of group 0 to 1.9534e-05.\n"
     ]
    },
    {
     "name": "stderr",
     "output_type": "stream",
     "text": [
      "loss: 0.242, tv: 0.172, ptv: 0.172, flow: 0.353: : 1877it [6:10:48, 12.13s/it]"
     ]
    },
    {
     "name": "stdout",
     "output_type": "stream",
     "text": [
      "Adjusting learning rate of group 0 to 1.9533e-05.\n"
     ]
    },
    {
     "name": "stderr",
     "output_type": "stream",
     "text": [
      "loss: 0.249, tv: 0.168, ptv: 0.167, flow: 0.352: : 1880it [6:11:14, 10.88s/it]"
     ]
    },
    {
     "name": "stdout",
     "output_type": "stream",
     "text": [
      "Adjusting learning rate of group 0 to 1.9532e-05.\n"
     ]
    },
    {
     "name": "stderr",
     "output_type": "stream",
     "text": [
      "loss: 0.256, tv: 0.167, ptv: 0.163, flow: 0.360: : 1882it [6:11:38, 11.63s/it]"
     ]
    },
    {
     "name": "stdout",
     "output_type": "stream",
     "text": [
      "Adjusting learning rate of group 0 to 1.9531e-05.\n"
     ]
    },
    {
     "name": "stderr",
     "output_type": "stream",
     "text": [
      "loss: 0.241, tv: 0.165, ptv: 0.163, flow: 0.324: : 1884it [6:12:03, 11.01s/it]"
     ]
    },
    {
     "name": "stdout",
     "output_type": "stream",
     "text": [
      "Adjusting learning rate of group 0 to 1.9530e-05.\n"
     ]
    },
    {
     "name": "stderr",
     "output_type": "stream",
     "text": [
      "loss: 0.253, tv: 0.170, ptv: 0.167, flow: 0.340: : 1886it [6:12:27, 11.70s/it]"
     ]
    },
    {
     "name": "stdout",
     "output_type": "stream",
     "text": [
      "Adjusting learning rate of group 0 to 1.9529e-05.\n"
     ]
    },
    {
     "name": "stderr",
     "output_type": "stream",
     "text": [
      "loss: 0.252, tv: 0.168, ptv: 0.167, flow: 0.352: : 1888it [6:12:52, 11.87s/it]"
     ]
    },
    {
     "name": "stdout",
     "output_type": "stream",
     "text": [
      "Adjusting learning rate of group 0 to 1.9528e-05.\n"
     ]
    },
    {
     "name": "stderr",
     "output_type": "stream",
     "text": [
      "loss: 0.260, tv: 0.161, ptv: 0.161, flow: 0.365: : 1890it [6:13:17, 12.11s/it]"
     ]
    },
    {
     "name": "stdout",
     "output_type": "stream",
     "text": [
      "Adjusting learning rate of group 0 to 1.9527e-05.\n"
     ]
    },
    {
     "name": "stderr",
     "output_type": "stream",
     "text": [
      "loss: 0.273, tv: 0.155, ptv: 0.152, flow: 0.379: : 1892it [6:13:41, 12.00s/it]"
     ]
    },
    {
     "name": "stdout",
     "output_type": "stream",
     "text": [
      "Adjusting learning rate of group 0 to 1.9526e-05.\n"
     ]
    },
    {
     "name": "stderr",
     "output_type": "stream",
     "text": [
      "loss: 0.260, tv: 0.163, ptv: 0.160, flow: 0.348: : 1894it [6:14:06, 12.18s/it]"
     ]
    },
    {
     "name": "stdout",
     "output_type": "stream",
     "text": [
      "Adjusting learning rate of group 0 to 1.9525e-05.\n"
     ]
    },
    {
     "name": "stderr",
     "output_type": "stream",
     "text": [
      "loss: 0.256, tv: 0.167, ptv: 0.165, flow: 0.360: : 1896it [6:14:31, 12.27s/it]"
     ]
    },
    {
     "name": "stdout",
     "output_type": "stream",
     "text": [
      "Adjusting learning rate of group 0 to 1.9524e-05.\n"
     ]
    },
    {
     "name": "stderr",
     "output_type": "stream",
     "text": [
      "loss: 0.273, tv: 0.156, ptv: 0.155, flow: 0.383: : 1898it [6:14:55, 12.33s/it]"
     ]
    },
    {
     "name": "stdout",
     "output_type": "stream",
     "text": [
      "Adjusting learning rate of group 0 to 1.9523e-05.\n"
     ]
    },
    {
     "name": "stderr",
     "output_type": "stream",
     "text": [
      "loss: 0.252, tv: 0.159, ptv: 0.157, flow: 0.355: : 1900it [6:15:20, 12.33s/it]"
     ]
    },
    {
     "name": "stdout",
     "output_type": "stream",
     "text": [
      "Adjusting learning rate of group 0 to 1.9522e-05.\n"
     ]
    },
    {
     "name": "stderr",
     "output_type": "stream",
     "text": [
      "loss: 0.264, tv: 0.160, ptv: 0.155, flow: 0.351: : 1902it [6:15:45, 12.34s/it]"
     ]
    },
    {
     "name": "stdout",
     "output_type": "stream",
     "text": [
      "Adjusting learning rate of group 0 to 1.9521e-05.\n"
     ]
    },
    {
     "name": "stderr",
     "output_type": "stream",
     "text": [
      "loss: 0.252, tv: 0.169, ptv: 0.169, flow: 0.335: : 1904it [6:16:10, 12.35s/it]"
     ]
    },
    {
     "name": "stdout",
     "output_type": "stream",
     "text": [
      "Adjusting learning rate of group 0 to 1.9520e-05.\n"
     ]
    },
    {
     "name": "stderr",
     "output_type": "stream",
     "text": [
      "loss: 0.246, tv: 0.173, ptv: 0.169, flow: 0.332: : 1906it [6:16:34, 12.35s/it]"
     ]
    },
    {
     "name": "stdout",
     "output_type": "stream",
     "text": [
      "Adjusting learning rate of group 0 to 1.9519e-05.\n"
     ]
    },
    {
     "name": "stderr",
     "output_type": "stream",
     "text": [
      "loss: 0.249, tv: 0.168, ptv: 0.166, flow: 0.362: : 1908it [6:16:59, 11.69s/it]"
     ]
    },
    {
     "name": "stdout",
     "output_type": "stream",
     "text": [
      "Adjusting learning rate of group 0 to 1.9518e-05.\n"
     ]
    },
    {
     "name": "stderr",
     "output_type": "stream",
     "text": [
      "loss: 0.263, tv: 0.161, ptv: 0.159, flow: 0.381: : 1910it [6:17:23, 12.03s/it]"
     ]
    },
    {
     "name": "stdout",
     "output_type": "stream",
     "text": [
      "Adjusting learning rate of group 0 to 1.9517e-05.\n"
     ]
    },
    {
     "name": "stderr",
     "output_type": "stream",
     "text": [
      "loss: 0.243, tv: 0.173, ptv: 0.171, flow: 0.335: : 1913it [6:17:49, 11.71s/it]"
     ]
    },
    {
     "name": "stdout",
     "output_type": "stream",
     "text": [
      "Adjusting learning rate of group 0 to 1.9516e-05.\n"
     ]
    },
    {
     "name": "stderr",
     "output_type": "stream",
     "text": [
      "loss: 0.256, tv: 0.167, ptv: 0.166, flow: 0.349: : 1915it [6:18:14, 12.04s/it]"
     ]
    },
    {
     "name": "stdout",
     "output_type": "stream",
     "text": [
      "Adjusting learning rate of group 0 to 1.9515e-05.\n"
     ]
    },
    {
     "name": "stderr",
     "output_type": "stream",
     "text": [
      "loss: 0.259, tv: 0.159, ptv: 0.159, flow: 0.358: : 1917it [6:18:38, 12.20s/it]"
     ]
    },
    {
     "name": "stdout",
     "output_type": "stream",
     "text": [
      "Adjusting learning rate of group 0 to 1.9514e-05.\n"
     ]
    },
    {
     "name": "stderr",
     "output_type": "stream",
     "text": [
      "loss: 0.250, tv: 0.168, ptv: 0.167, flow: 0.338: : 1919it [6:19:03, 12.28s/it]"
     ]
    },
    {
     "name": "stdout",
     "output_type": "stream",
     "text": [
      "Adjusting learning rate of group 0 to 1.9513e-05.\n"
     ]
    },
    {
     "name": "stderr",
     "output_type": "stream",
     "text": [
      "loss: 0.243, tv: 0.171, ptv: 0.169, flow: 0.341: : 1921it [6:19:27, 11.67s/it]"
     ]
    },
    {
     "name": "stdout",
     "output_type": "stream",
     "text": [
      "Adjusting learning rate of group 0 to 1.9513e-05.\n"
     ]
    },
    {
     "name": "stderr",
     "output_type": "stream",
     "text": [
      "loss: 0.249, tv: 0.165, ptv: 0.167, flow: 0.360: : 1924it [6:19:52, 10.15s/it]"
     ]
    },
    {
     "name": "stdout",
     "output_type": "stream",
     "text": [
      "Adjusting learning rate of group 0 to 1.9512e-05.\n"
     ]
    },
    {
     "name": "stderr",
     "output_type": "stream",
     "text": [
      "loss: 0.236, tv: 0.163, ptv: 0.161, flow: 0.348: : 1926it [6:20:17, 11.28s/it]"
     ]
    },
    {
     "name": "stdout",
     "output_type": "stream",
     "text": [
      "Adjusting learning rate of group 0 to 1.9511e-05.\n"
     ]
    },
    {
     "name": "stderr",
     "output_type": "stream",
     "text": [
      "loss: 0.244, tv: 0.170, ptv: 0.171, flow: 0.355: : 1928it [6:20:42, 11.83s/it]"
     ]
    },
    {
     "name": "stdout",
     "output_type": "stream",
     "text": [
      "Adjusting learning rate of group 0 to 1.9510e-05.\n"
     ]
    },
    {
     "name": "stderr",
     "output_type": "stream",
     "text": [
      "loss: 0.249, tv: 0.166, ptv: 0.165, flow: 0.346: : 1930it [6:21:06, 12.10s/it]"
     ]
    },
    {
     "name": "stdout",
     "output_type": "stream",
     "text": [
      "Adjusting learning rate of group 0 to 1.9509e-05.\n"
     ]
    },
    {
     "name": "stderr",
     "output_type": "stream",
     "text": [
      "loss: 0.243, tv: 0.171, ptv: 0.171, flow: 0.350: : 1932it [6:21:31, 12.23s/it]"
     ]
    },
    {
     "name": "stdout",
     "output_type": "stream",
     "text": [
      "Adjusting learning rate of group 0 to 1.9508e-05.\n"
     ]
    },
    {
     "name": "stderr",
     "output_type": "stream",
     "text": [
      "loss: 0.255, tv: 0.168, ptv: 0.165, flow: 0.367: : 1934it [6:21:56, 12.29s/it]"
     ]
    },
    {
     "name": "stdout",
     "output_type": "stream",
     "text": [
      "Adjusting learning rate of group 0 to 1.9507e-05.\n"
     ]
    },
    {
     "name": "stderr",
     "output_type": "stream",
     "text": [
      "loss: 0.261, tv: 0.165, ptv: 0.164, flow: 0.367: : 1936it [6:22:20, 10.93s/it]"
     ]
    },
    {
     "name": "stdout",
     "output_type": "stream",
     "text": [
      "Adjusting learning rate of group 0 to 1.9506e-05.\n"
     ]
    },
    {
     "name": "stderr",
     "output_type": "stream",
     "text": [
      "loss: 0.258, tv: 0.166, ptv: 0.164, flow: 0.351: : 1938it [6:22:45, 11.65s/it]"
     ]
    },
    {
     "name": "stdout",
     "output_type": "stream",
     "text": [
      "Adjusting learning rate of group 0 to 1.9505e-05.\n"
     ]
    },
    {
     "name": "stderr",
     "output_type": "stream",
     "text": [
      "loss: 0.251, tv: 0.166, ptv: 0.161, flow: 0.353: : 1940it [6:23:10, 12.02s/it]"
     ]
    },
    {
     "name": "stdout",
     "output_type": "stream",
     "text": [
      "Adjusting learning rate of group 0 to 1.9504e-05.\n"
     ]
    },
    {
     "name": "stderr",
     "output_type": "stream",
     "text": [
      "loss: 0.245, tv: 0.167, ptv: 0.167, flow: 0.355: : 1942it [6:23:34, 12.19s/it]"
     ]
    },
    {
     "name": "stdout",
     "output_type": "stream",
     "text": [
      "Adjusting learning rate of group 0 to 1.9503e-05.\n"
     ]
    },
    {
     "name": "stderr",
     "output_type": "stream",
     "text": [
      "loss: 0.234, tv: 0.165, ptv: 0.165, flow: 0.340: : 1944it [6:23:59, 12.27s/it]"
     ]
    },
    {
     "name": "stdout",
     "output_type": "stream",
     "text": [
      "Adjusting learning rate of group 0 to 1.9502e-05.\n"
     ]
    },
    {
     "name": "stderr",
     "output_type": "stream",
     "text": [
      "loss: 0.267, tv: 0.159, ptv: 0.157, flow: 0.373: : 1946it [6:24:24, 12.16s/it]"
     ]
    },
    {
     "name": "stdout",
     "output_type": "stream",
     "text": [
      "Adjusting learning rate of group 0 to 1.9501e-05.\n"
     ]
    },
    {
     "name": "stderr",
     "output_type": "stream",
     "text": [
      "loss: 0.251, tv: 0.169, ptv: 0.166, flow: 0.337: : 1948it [6:24:49, 12.26s/it]"
     ]
    },
    {
     "name": "stdout",
     "output_type": "stream",
     "text": [
      "Adjusting learning rate of group 0 to 1.9500e-05.\n"
     ]
    },
    {
     "name": "stderr",
     "output_type": "stream",
     "text": [
      "loss: 0.244, tv: 0.170, ptv: 0.171, flow: 0.326: : 1950it [6:25:13, 12.31s/it]"
     ]
    },
    {
     "name": "stdout",
     "output_type": "stream",
     "text": [
      "Adjusting learning rate of group 0 to 1.9499e-05.\n"
     ]
    },
    {
     "name": "stderr",
     "output_type": "stream",
     "text": [
      "loss: 0.243, tv: 0.170, ptv: 0.166, flow: 0.336: : 1952it [6:25:38, 11.94s/it]"
     ]
    },
    {
     "name": "stdout",
     "output_type": "stream",
     "text": [
      "Adjusting learning rate of group 0 to 1.9498e-05.\n"
     ]
    },
    {
     "name": "stderr",
     "output_type": "stream",
     "text": [
      "loss: 0.253, tv: 0.167, ptv: 0.165, flow: 0.367: : 1954it [6:26:03, 12.14s/it]"
     ]
    },
    {
     "name": "stdout",
     "output_type": "stream",
     "text": [
      "Adjusting learning rate of group 0 to 1.9497e-05.\n"
     ]
    },
    {
     "name": "stderr",
     "output_type": "stream",
     "text": [
      "loss: 0.255, tv: 0.167, ptv: 0.165, flow: 0.365: : 1956it [6:26:27, 12.25s/it]"
     ]
    },
    {
     "name": "stdout",
     "output_type": "stream",
     "text": [
      "Adjusting learning rate of group 0 to 1.9496e-05.\n"
     ]
    },
    {
     "name": "stderr",
     "output_type": "stream",
     "text": [
      "loss: 0.246, tv: 0.170, ptv: 0.170, flow: 0.347: : 1958it [6:26:52, 11.85s/it]"
     ]
    },
    {
     "name": "stdout",
     "output_type": "stream",
     "text": [
      "Adjusting learning rate of group 0 to 1.9495e-05.\n"
     ]
    },
    {
     "name": "stderr",
     "output_type": "stream",
     "text": [
      "loss: 0.257, tv: 0.162, ptv: 0.161, flow: 0.360: : 1960it [6:27:17, 12.11s/it]"
     ]
    },
    {
     "name": "stdout",
     "output_type": "stream",
     "text": [
      "Adjusting learning rate of group 0 to 1.9494e-05.\n"
     ]
    },
    {
     "name": "stderr",
     "output_type": "stream",
     "text": [
      "loss: 0.257, tv: 0.160, ptv: 0.160, flow: 0.335: : 1962it [6:27:41, 12.23s/it]"
     ]
    },
    {
     "name": "stdout",
     "output_type": "stream",
     "text": [
      "Adjusting learning rate of group 0 to 1.9493e-05.\n"
     ]
    },
    {
     "name": "stderr",
     "output_type": "stream",
     "text": [
      "loss: 0.260, tv: 0.165, ptv: 0.161, flow: 0.372: : 1964it [6:28:06, 12.08s/it]"
     ]
    },
    {
     "name": "stdout",
     "output_type": "stream",
     "text": [
      "Adjusting learning rate of group 0 to 1.9492e-05.\n"
     ]
    },
    {
     "name": "stderr",
     "output_type": "stream",
     "text": [
      "loss: 0.260, tv: 0.159, ptv: 0.157, flow: 0.367: : 1966it [6:28:31, 12.22s/it]"
     ]
    },
    {
     "name": "stdout",
     "output_type": "stream",
     "text": [
      "Adjusting learning rate of group 0 to 1.9491e-05.\n"
     ]
    },
    {
     "name": "stderr",
     "output_type": "stream",
     "text": [
      "loss: 0.255, tv: 0.168, ptv: 0.166, flow: 0.320: : 1968it [6:28:55, 12.07s/it]"
     ]
    },
    {
     "name": "stdout",
     "output_type": "stream",
     "text": [
      "Adjusting learning rate of group 0 to 1.9490e-05.\n"
     ]
    },
    {
     "name": "stderr",
     "output_type": "stream",
     "text": [
      "loss: 0.245, tv: 0.172, ptv: 0.169, flow: 0.345: : 1970it [6:29:20, 12.22s/it]"
     ]
    },
    {
     "name": "stdout",
     "output_type": "stream",
     "text": [
      "Adjusting learning rate of group 0 to 1.9489e-05.\n"
     ]
    },
    {
     "name": "stderr",
     "output_type": "stream",
     "text": [
      "loss: 0.250, tv: 0.171, ptv: 0.169, flow: 0.332: : 1972it [6:29:45, 12.29s/it]"
     ]
    },
    {
     "name": "stdout",
     "output_type": "stream",
     "text": [
      "Adjusting learning rate of group 0 to 1.9488e-05.\n"
     ]
    },
    {
     "name": "stderr",
     "output_type": "stream",
     "text": [
      "loss: 0.257, tv: 0.160, ptv: 0.157, flow: 0.374: : 1974it [6:30:10, 12.32s/it]"
     ]
    },
    {
     "name": "stdout",
     "output_type": "stream",
     "text": [
      "Adjusting learning rate of group 0 to 1.9487e-05.\n"
     ]
    },
    {
     "name": "stderr",
     "output_type": "stream",
     "text": [
      "loss: 0.250, tv: 0.164, ptv: 0.163, flow: 0.347: : 1976it [6:30:34, 12.34s/it]"
     ]
    },
    {
     "name": "stdout",
     "output_type": "stream",
     "text": [
      "Adjusting learning rate of group 0 to 1.9486e-05.\n"
     ]
    },
    {
     "name": "stderr",
     "output_type": "stream",
     "text": [
      "loss: 0.247, tv: 0.172, ptv: 0.169, flow: 0.337: : 1979it [6:30:59, 11.55s/it]"
     ]
    },
    {
     "name": "stdout",
     "output_type": "stream",
     "text": [
      "Adjusting learning rate of group 0 to 1.9485e-05.\n"
     ]
    },
    {
     "name": "stderr",
     "output_type": "stream",
     "text": [
      "loss: 0.246, tv: 0.170, ptv: 0.168, flow: 0.321: : 1981it [6:31:24, 11.63s/it]"
     ]
    },
    {
     "name": "stdout",
     "output_type": "stream",
     "text": [
      "Adjusting learning rate of group 0 to 1.9484e-05.\n"
     ]
    },
    {
     "name": "stderr",
     "output_type": "stream",
     "text": [
      "loss: 0.253, tv: 0.160, ptv: 0.156, flow: 0.357: : 1983it [6:31:49, 12.00s/it]"
     ]
    },
    {
     "name": "stdout",
     "output_type": "stream",
     "text": [
      "Adjusting learning rate of group 0 to 1.9483e-05.\n"
     ]
    },
    {
     "name": "stderr",
     "output_type": "stream",
     "text": [
      "loss: 0.264, tv: 0.163, ptv: 0.159, flow: 0.339: : 1985it [6:32:13, 12.19s/it]"
     ]
    },
    {
     "name": "stdout",
     "output_type": "stream",
     "text": [
      "Adjusting learning rate of group 0 to 1.9482e-05.\n"
     ]
    },
    {
     "name": "stderr",
     "output_type": "stream",
     "text": [
      "loss: 0.257, tv: 0.168, ptv: 0.163, flow: 0.374: : 1987it [6:32:38, 10.97s/it]"
     ]
    },
    {
     "name": "stdout",
     "output_type": "stream",
     "text": [
      "Adjusting learning rate of group 0 to 1.9481e-05.\n"
     ]
    },
    {
     "name": "stderr",
     "output_type": "stream",
     "text": [
      "loss: 0.255, tv: 0.160, ptv: 0.158, flow: 0.371: : 1989it [6:33:03, 11.68s/it]"
     ]
    },
    {
     "name": "stdout",
     "output_type": "stream",
     "text": [
      "Adjusting learning rate of group 0 to 1.9480e-05.\n"
     ]
    },
    {
     "name": "stderr",
     "output_type": "stream",
     "text": [
      "loss: 0.246, tv: 0.165, ptv: 0.164, flow: 0.341: : 1991it [6:33:27, 12.03s/it]"
     ]
    },
    {
     "name": "stdout",
     "output_type": "stream",
     "text": [
      "Adjusting learning rate of group 0 to 1.9479e-05.\n"
     ]
    },
    {
     "name": "stderr",
     "output_type": "stream",
     "text": [
      "loss: 0.242, tv: 0.168, ptv: 0.165, flow: 0.333: : 1994it [6:33:53, 11.37s/it]"
     ]
    },
    {
     "name": "stdout",
     "output_type": "stream",
     "text": [
      "Adjusting learning rate of group 0 to 1.9478e-05.\n"
     ]
    },
    {
     "name": "stderr",
     "output_type": "stream",
     "text": [
      "loss: 0.239, tv: 0.162, ptv: 0.161, flow: 0.351: : 1996it [6:34:17, 11.87s/it]"
     ]
    },
    {
     "name": "stdout",
     "output_type": "stream",
     "text": [
      "Adjusting learning rate of group 0 to 1.9477e-05.\n"
     ]
    },
    {
     "name": "stderr",
     "output_type": "stream",
     "text": [
      "loss: 0.255, tv: 0.168, ptv: 0.168, flow: 0.351: : 1998it [6:34:42, 12.12s/it]"
     ]
    },
    {
     "name": "stdout",
     "output_type": "stream",
     "text": [
      "Adjusting learning rate of group 0 to 1.9476e-05.\n"
     ]
    },
    {
     "name": "stderr",
     "output_type": "stream",
     "text": [
      "loss: 0.243, tv: 0.168, ptv: 0.166, flow: 0.341: : 2000it [6:35:06, 10.98s/it]"
     ]
    },
    {
     "name": "stdout",
     "output_type": "stream",
     "text": [
      "Adjusting learning rate of group 0 to 1.9475e-05.\n"
     ]
    },
    {
     "name": "stderr",
     "output_type": "stream",
     "text": [
      "loss: 0.256, tv: 0.158, ptv: 0.157, flow: 0.340: : 2002it [6:35:31, 11.68s/it]"
     ]
    },
    {
     "name": "stdout",
     "output_type": "stream",
     "text": [
      "Adjusting learning rate of group 0 to 1.9474e-05.\n"
     ]
    },
    {
     "name": "stderr",
     "output_type": "stream",
     "text": [
      "loss: 0.252, tv: 0.167, ptv: 0.164, flow: 0.348: : 2004it [6:35:56, 11.33s/it]"
     ]
    },
    {
     "name": "stdout",
     "output_type": "stream",
     "text": [
      "Adjusting learning rate of group 0 to 1.9473e-05.\n"
     ]
    },
    {
     "name": "stderr",
     "output_type": "stream",
     "text": [
      "loss: 0.258, tv: 0.165, ptv: 0.165, flow: 0.344: : 2006it [6:36:20, 11.85s/it]"
     ]
    },
    {
     "name": "stdout",
     "output_type": "stream",
     "text": [
      "Adjusting learning rate of group 0 to 1.9472e-05.\n"
     ]
    },
    {
     "name": "stderr",
     "output_type": "stream",
     "text": [
      "loss: 0.269, tv: 0.160, ptv: 0.159, flow: 0.339: : 2008it [6:36:45, 12.11s/it]"
     ]
    },
    {
     "name": "stdout",
     "output_type": "stream",
     "text": [
      "Adjusting learning rate of group 0 to 1.9471e-05.\n"
     ]
    },
    {
     "name": "stderr",
     "output_type": "stream",
     "text": [
      "loss: 0.262, tv: 0.159, ptv: 0.157, flow: 0.343: : 2010it [6:37:10, 12.25s/it]"
     ]
    },
    {
     "name": "stdout",
     "output_type": "stream",
     "text": [
      "Adjusting learning rate of group 0 to 1.9470e-05.\n"
     ]
    },
    {
     "name": "stderr",
     "output_type": "stream",
     "text": [
      "loss: 0.250, tv: 0.166, ptv: 0.164, flow: 0.353: : 2012it [6:37:35, 12.30s/it]"
     ]
    },
    {
     "name": "stdout",
     "output_type": "stream",
     "text": [
      "Adjusting learning rate of group 0 to 1.9469e-05.\n"
     ]
    },
    {
     "name": "stderr",
     "output_type": "stream",
     "text": [
      "loss: 0.256, tv: 0.169, ptv: 0.167, flow: 0.326: : 2014it [6:37:59, 12.33s/it]"
     ]
    },
    {
     "name": "stdout",
     "output_type": "stream",
     "text": [
      "Adjusting learning rate of group 0 to 1.9468e-05.\n"
     ]
    },
    {
     "name": "stderr",
     "output_type": "stream",
     "text": [
      "loss: 0.267, tv: 0.160, ptv: 0.159, flow: 0.349: : 2016it [6:38:24, 12.35s/it]"
     ]
    },
    {
     "name": "stdout",
     "output_type": "stream",
     "text": [
      "Adjusting learning rate of group 0 to 1.9467e-05.\n"
     ]
    },
    {
     "name": "stderr",
     "output_type": "stream",
     "text": [
      "loss: 0.269, tv: 0.159, ptv: 0.158, flow: 0.358: : 2018it [6:38:49, 12.35s/it]"
     ]
    },
    {
     "name": "stdout",
     "output_type": "stream",
     "text": [
      "Adjusting learning rate of group 0 to 1.9466e-05.\n"
     ]
    },
    {
     "name": "stderr",
     "output_type": "stream",
     "text": [
      "loss: 0.262, tv: 0.161, ptv: 0.158, flow: 0.344: : 2020it [6:39:13, 12.36s/it]"
     ]
    },
    {
     "name": "stdout",
     "output_type": "stream",
     "text": [
      "Adjusting learning rate of group 0 to 1.9465e-05.\n"
     ]
    },
    {
     "name": "stderr",
     "output_type": "stream",
     "text": [
      "loss: 0.258, tv: 0.166, ptv: 0.167, flow: 0.331: : 2022it [6:39:38, 12.36s/it]"
     ]
    },
    {
     "name": "stdout",
     "output_type": "stream",
     "text": [
      "Adjusting learning rate of group 0 to 1.9464e-05.\n"
     ]
    },
    {
     "name": "stderr",
     "output_type": "stream",
     "text": [
      "loss: 0.260, tv: 0.164, ptv: 0.164, flow: 0.318: : 2024it [6:40:03, 12.36s/it]"
     ]
    },
    {
     "name": "stdout",
     "output_type": "stream",
     "text": [
      "Adjusting learning rate of group 0 to 1.9463e-05.\n"
     ]
    },
    {
     "name": "stderr",
     "output_type": "stream",
     "text": [
      "loss: 0.256, tv: 0.163, ptv: 0.160, flow: 0.355: : 2027it [6:40:28, 11.67s/it]"
     ]
    },
    {
     "name": "stdout",
     "output_type": "stream",
     "text": [
      "Adjusting learning rate of group 0 to 1.9462e-05.\n"
     ]
    },
    {
     "name": "stderr",
     "output_type": "stream",
     "text": [
      "loss: 0.245, tv: 0.172, ptv: 0.171, flow: 0.365: : 2029it [6:40:53, 12.04s/it]"
     ]
    },
    {
     "name": "stdout",
     "output_type": "stream",
     "text": [
      "Adjusting learning rate of group 0 to 1.9461e-05.\n"
     ]
    },
    {
     "name": "stderr",
     "output_type": "stream",
     "text": [
      "loss: 0.242, tv: 0.164, ptv: 0.160, flow: 0.368: : 2031it [6:41:18, 12.20s/it]"
     ]
    },
    {
     "name": "stdout",
     "output_type": "stream",
     "text": [
      "Adjusting learning rate of group 0 to 1.9460e-05.\n"
     ]
    },
    {
     "name": "stderr",
     "output_type": "stream",
     "text": [
      "loss: 0.263, tv: 0.160, ptv: 0.160, flow: 0.371: : 2033it [6:41:43, 12.28s/it]"
     ]
    },
    {
     "name": "stdout",
     "output_type": "stream",
     "text": [
      "Adjusting learning rate of group 0 to 1.9459e-05.\n"
     ]
    },
    {
     "name": "stderr",
     "output_type": "stream",
     "text": [
      "loss: 0.261, tv: 0.167, ptv: 0.165, flow: 0.330: : 2035it [6:42:07, 12.31s/it]"
     ]
    },
    {
     "name": "stdout",
     "output_type": "stream",
     "text": [
      "Adjusting learning rate of group 0 to 1.9458e-05.\n"
     ]
    },
    {
     "name": "stderr",
     "output_type": "stream",
     "text": [
      "loss: 0.261, tv: 0.168, ptv: 0.165, flow: 0.334: : 2037it [6:42:32, 12.34s/it]"
     ]
    },
    {
     "name": "stdout",
     "output_type": "stream",
     "text": [
      "Adjusting learning rate of group 0 to 1.9457e-05.\n"
     ]
    },
    {
     "name": "stderr",
     "output_type": "stream",
     "text": [
      "loss: 0.262, tv: 0.161, ptv: 0.158, flow: 0.368: : 2039it [6:42:57, 12.37s/it]"
     ]
    },
    {
     "name": "stdout",
     "output_type": "stream",
     "text": [
      "Adjusting learning rate of group 0 to 1.9456e-05.\n"
     ]
    },
    {
     "name": "stderr",
     "output_type": "stream",
     "text": [
      "loss: 0.239, tv: 0.162, ptv: 0.159, flow: 0.348: : 2041it [6:43:21, 12.36s/it]"
     ]
    },
    {
     "name": "stdout",
     "output_type": "stream",
     "text": [
      "Adjusting learning rate of group 0 to 1.9455e-05.\n"
     ]
    },
    {
     "name": "stderr",
     "output_type": "stream",
     "text": [
      "loss: 0.257, tv: 0.168, ptv: 0.166, flow: 0.356: : 2043it [6:43:46, 12.36s/it]"
     ]
    },
    {
     "name": "stdout",
     "output_type": "stream",
     "text": [
      "Adjusting learning rate of group 0 to 1.9454e-05.\n"
     ]
    },
    {
     "name": "stderr",
     "output_type": "stream",
     "text": [
      "loss: 0.256, tv: 0.167, ptv: 0.166, flow: 0.345: : 2045it [6:44:11, 12.36s/it]"
     ]
    },
    {
     "name": "stdout",
     "output_type": "stream",
     "text": [
      "Adjusting learning rate of group 0 to 1.9453e-05.\n"
     ]
    },
    {
     "name": "stderr",
     "output_type": "stream",
     "text": [
      "loss: 0.241, tv: 0.169, ptv: 0.169, flow: 0.345: : 2047it [6:44:35, 10.84s/it]"
     ]
    },
    {
     "name": "stdout",
     "output_type": "stream",
     "text": [
      "Adjusting learning rate of group 0 to 1.9452e-05.\n"
     ]
    },
    {
     "name": "stderr",
     "output_type": "stream",
     "text": [
      "loss: 0.260, tv: 0.163, ptv: 0.163, flow: 0.333: : 2049it [6:45:00, 11.46s/it]"
     ]
    },
    {
     "name": "stdout",
     "output_type": "stream",
     "text": [
      "Adjusting learning rate of group 0 to 1.9451e-05.\n"
     ]
    },
    {
     "name": "stderr",
     "output_type": "stream",
     "text": [
      "loss: 0.238, tv: 0.170, ptv: 0.168, flow: 0.351: : 2052it [6:45:24, 11.27s/it]"
     ]
    },
    {
     "name": "stdout",
     "output_type": "stream",
     "text": [
      "Adjusting learning rate of group 0 to 1.9450e-05.\n"
     ]
    },
    {
     "name": "stderr",
     "output_type": "stream",
     "text": [
      "loss: 0.254, tv: 0.167, ptv: 0.167, flow: 0.343: : 2054it [6:45:49, 11.82s/it]"
     ]
    },
    {
     "name": "stdout",
     "output_type": "stream",
     "text": [
      "Adjusting learning rate of group 0 to 1.9449e-05.\n"
     ]
    },
    {
     "name": "stderr",
     "output_type": "stream",
     "text": [
      "loss: 0.246, tv: 0.164, ptv: 0.162, flow: 0.345: : 2056it [6:46:14, 12.09s/it]"
     ]
    },
    {
     "name": "stdout",
     "output_type": "stream",
     "text": [
      "Adjusting learning rate of group 0 to 1.9448e-05.\n"
     ]
    },
    {
     "name": "stderr",
     "output_type": "stream",
     "text": [
      "loss: 0.258, tv: 0.167, ptv: 0.164, flow: 0.346: : 2058it [6:46:38, 12.23s/it]"
     ]
    },
    {
     "name": "stdout",
     "output_type": "stream",
     "text": [
      "Adjusting learning rate of group 0 to 1.9447e-05.\n"
     ]
    },
    {
     "name": "stderr",
     "output_type": "stream",
     "text": [
      "loss: 0.248, tv: 0.164, ptv: 0.162, flow: 0.368: : 2060it [6:47:03, 12.30s/it]"
     ]
    },
    {
     "name": "stdout",
     "output_type": "stream",
     "text": [
      "Adjusting learning rate of group 0 to 1.9445e-05.\n"
     ]
    },
    {
     "name": "stderr",
     "output_type": "stream",
     "text": [
      "loss: 0.248, tv: 0.165, ptv: 0.166, flow: 0.367: : 2062it [6:47:29, 11.86s/it]"
     ]
    },
    {
     "name": "stdout",
     "output_type": "stream",
     "text": [
      "Adjusting learning rate of group 0 to 1.9444e-05.\n"
     ]
    },
    {
     "name": "stderr",
     "output_type": "stream",
     "text": [
      "loss: 0.258, tv: 0.166, ptv: 0.167, flow: 0.363: : 2064it [6:47:53, 12.12s/it]"
     ]
    },
    {
     "name": "stdout",
     "output_type": "stream",
     "text": [
      "Adjusting learning rate of group 0 to 1.9443e-05.\n"
     ]
    },
    {
     "name": "stderr",
     "output_type": "stream",
     "text": [
      "loss: 0.257, tv: 0.167, ptv: 0.165, flow: 0.358: : 2066it [6:48:18, 12.24s/it]"
     ]
    },
    {
     "name": "stdout",
     "output_type": "stream",
     "text": [
      "Adjusting learning rate of group 0 to 1.9442e-05.\n"
     ]
    },
    {
     "name": "stderr",
     "output_type": "stream",
     "text": [
      "loss: 0.242, tv: 0.166, ptv: 0.164, flow: 0.354: : 2068it [6:48:43, 12.30s/it]"
     ]
    },
    {
     "name": "stdout",
     "output_type": "stream",
     "text": [
      "Adjusting learning rate of group 0 to 1.9441e-05.\n"
     ]
    },
    {
     "name": "stderr",
     "output_type": "stream",
     "text": [
      "loss: 0.260, tv: 0.161, ptv: 0.158, flow: 0.346: : 2070it [6:49:07, 12.00s/it]"
     ]
    },
    {
     "name": "stdout",
     "output_type": "stream",
     "text": [
      "Adjusting learning rate of group 0 to 1.9440e-05.\n"
     ]
    },
    {
     "name": "stderr",
     "output_type": "stream",
     "text": [
      "loss: 0.263, tv: 0.157, ptv: 0.153, flow: 0.367: : 2072it [6:49:32, 12.18s/it]"
     ]
    },
    {
     "name": "stdout",
     "output_type": "stream",
     "text": [
      "Adjusting learning rate of group 0 to 1.9439e-05.\n"
     ]
    },
    {
     "name": "stderr",
     "output_type": "stream",
     "text": [
      "loss: 0.245, tv: 0.170, ptv: 0.169, flow: 0.348: : 2074it [6:49:56, 11.32s/it]"
     ]
    },
    {
     "name": "stdout",
     "output_type": "stream",
     "text": [
      "Adjusting learning rate of group 0 to 1.9438e-05.\n"
     ]
    },
    {
     "name": "stderr",
     "output_type": "stream",
     "text": [
      "loss: 0.240, tv: 0.171, ptv: 0.166, flow: 0.350: : 2076it [6:50:21, 10.92s/it]"
     ]
    },
    {
     "name": "stdout",
     "output_type": "stream",
     "text": [
      "Adjusting learning rate of group 0 to 1.9437e-05.\n"
     ]
    },
    {
     "name": "stderr",
     "output_type": "stream",
     "text": [
      "loss: 0.237, tv: 0.168, ptv: 0.165, flow: 0.348: : 2079it [6:50:45, 10.94s/it]"
     ]
    },
    {
     "name": "stdout",
     "output_type": "stream",
     "text": [
      "Adjusting learning rate of group 0 to 1.9436e-05.\n"
     ]
    },
    {
     "name": "stderr",
     "output_type": "stream",
     "text": [
      "loss: 0.259, tv: 0.166, ptv: 0.164, flow: 0.356: : 2081it [6:51:10, 11.72s/it]"
     ]
    },
    {
     "name": "stdout",
     "output_type": "stream",
     "text": [
      "Adjusting learning rate of group 0 to 1.9435e-05.\n"
     ]
    },
    {
     "name": "stderr",
     "output_type": "stream",
     "text": [
      "loss: 0.242, tv: 0.173, ptv: 0.170, flow: 0.351: : 2083it [6:51:36, 10.89s/it]"
     ]
    },
    {
     "name": "stdout",
     "output_type": "stream",
     "text": [
      "Adjusting learning rate of group 0 to 1.9434e-05.\n"
     ]
    },
    {
     "name": "stderr",
     "output_type": "stream",
     "text": [
      "loss: 0.245, tv: 0.168, ptv: 0.166, flow: 0.346: : 2085it [6:52:00, 11.63s/it]"
     ]
    },
    {
     "name": "stdout",
     "output_type": "stream",
     "text": [
      "Adjusting learning rate of group 0 to 1.9433e-05.\n"
     ]
    },
    {
     "name": "stderr",
     "output_type": "stream",
     "text": [
      "loss: 0.261, tv: 0.162, ptv: 0.161, flow: 0.339: : 2087it [6:52:25, 12.00s/it]"
     ]
    },
    {
     "name": "stdout",
     "output_type": "stream",
     "text": [
      "Adjusting learning rate of group 0 to 1.9432e-05.\n"
     ]
    },
    {
     "name": "stderr",
     "output_type": "stream",
     "text": [
      "loss: 0.250, tv: 0.163, ptv: 0.163, flow: 0.347: : 2089it [6:52:50, 12.18s/it]"
     ]
    },
    {
     "name": "stdout",
     "output_type": "stream",
     "text": [
      "Adjusting learning rate of group 0 to 1.9431e-05.\n"
     ]
    },
    {
     "name": "stderr",
     "output_type": "stream",
     "text": [
      "loss: 0.263, tv: 0.166, ptv: 0.163, flow: 0.365: : 2091it [6:53:15, 12.32s/it]"
     ]
    },
    {
     "name": "stdout",
     "output_type": "stream",
     "text": [
      "Adjusting learning rate of group 0 to 1.9430e-05.\n"
     ]
    },
    {
     "name": "stderr",
     "output_type": "stream",
     "text": [
      "loss: 0.268, tv: 0.156, ptv: 0.155, flow: 0.375: : 2093it [6:53:39, 12.34s/it]"
     ]
    },
    {
     "name": "stdout",
     "output_type": "stream",
     "text": [
      "Adjusting learning rate of group 0 to 1.9429e-05.\n"
     ]
    },
    {
     "name": "stderr",
     "output_type": "stream",
     "text": [
      "loss: 0.260, tv: 0.164, ptv: 0.162, flow: 0.326: : 2095it [6:54:04, 12.35s/it]"
     ]
    },
    {
     "name": "stdout",
     "output_type": "stream",
     "text": [
      "Adjusting learning rate of group 0 to 1.9428e-05.\n"
     ]
    },
    {
     "name": "stderr",
     "output_type": "stream",
     "text": [
      "loss: 0.250, tv: 0.170, ptv: 0.169, flow: 0.344: : 2097it [6:54:29, 12.36s/it]"
     ]
    },
    {
     "name": "stdout",
     "output_type": "stream",
     "text": [
      "Adjusting learning rate of group 0 to 1.9427e-05.\n"
     ]
    },
    {
     "name": "stderr",
     "output_type": "stream",
     "text": [
      "loss: 0.257, tv: 0.165, ptv: 0.165, flow: 0.356: : 2099it [6:54:53, 11.67s/it]"
     ]
    },
    {
     "name": "stdout",
     "output_type": "stream",
     "text": [
      "Adjusting learning rate of group 0 to 1.9426e-05.\n"
     ]
    },
    {
     "name": "stderr",
     "output_type": "stream",
     "text": [
      "loss: 0.257, tv: 0.164, ptv: 0.164, flow: 0.339: : 2101it [6:55:18, 12.02s/it]"
     ]
    },
    {
     "name": "stdout",
     "output_type": "stream",
     "text": [
      "Adjusting learning rate of group 0 to 1.9425e-05.\n"
     ]
    },
    {
     "name": "stderr",
     "output_type": "stream",
     "text": [
      "loss: 0.259, tv: 0.162, ptv: 0.159, flow: 0.354: : 2103it [6:55:43, 12.20s/it]"
     ]
    },
    {
     "name": "stdout",
     "output_type": "stream",
     "text": [
      "Adjusting learning rate of group 0 to 1.9424e-05.\n"
     ]
    },
    {
     "name": "stderr",
     "output_type": "stream",
     "text": [
      "loss: 0.263, tv: 0.161, ptv: 0.158, flow: 0.369: : 2105it [6:56:08, 12.28s/it]"
     ]
    },
    {
     "name": "stdout",
     "output_type": "stream",
     "text": [
      "Adjusting learning rate of group 0 to 1.9423e-05.\n"
     ]
    },
    {
     "name": "stderr",
     "output_type": "stream",
     "text": [
      "loss: 0.247, tv: 0.165, ptv: 0.163, flow: 0.370: : 2107it [6:56:32, 12.33s/it]"
     ]
    },
    {
     "name": "stdout",
     "output_type": "stream",
     "text": [
      "Adjusting learning rate of group 0 to 1.9422e-05.\n"
     ]
    },
    {
     "name": "stderr",
     "output_type": "stream",
     "text": [
      "loss: 0.257, tv: 0.164, ptv: 0.162, flow: 0.347: : 2109it [6:56:57, 12.36s/it]"
     ]
    },
    {
     "name": "stdout",
     "output_type": "stream",
     "text": [
      "Adjusting learning rate of group 0 to 1.9420e-05.\n"
     ]
    },
    {
     "name": "stderr",
     "output_type": "stream",
     "text": [
      "loss: 0.261, tv: 0.162, ptv: 0.158, flow: 0.371: : 2111it [6:57:22, 11.19s/it]"
     ]
    },
    {
     "name": "stdout",
     "output_type": "stream",
     "text": [
      "Adjusting learning rate of group 0 to 1.9419e-05.\n"
     ]
    },
    {
     "name": "stderr",
     "output_type": "stream",
     "text": [
      "loss: 0.251, tv: 0.163, ptv: 0.162, flow: 0.347: : 2113it [6:57:46, 11.79s/it]"
     ]
    },
    {
     "name": "stdout",
     "output_type": "stream",
     "text": [
      "Adjusting learning rate of group 0 to 1.9418e-05.\n"
     ]
    },
    {
     "name": "stderr",
     "output_type": "stream",
     "text": [
      "loss: 0.244, tv: 0.172, ptv: 0.170, flow: 0.367: : 2115it [6:58:11, 12.08s/it]"
     ]
    },
    {
     "name": "stdout",
     "output_type": "stream",
     "text": [
      "Adjusting learning rate of group 0 to 1.9417e-05.\n"
     ]
    },
    {
     "name": "stderr",
     "output_type": "stream",
     "text": [
      "loss: 0.251, tv: 0.168, ptv: 0.167, flow: 0.320: : 2117it [6:58:36, 12.22s/it]"
     ]
    },
    {
     "name": "stdout",
     "output_type": "stream",
     "text": [
      "Adjusting learning rate of group 0 to 1.9416e-05.\n"
     ]
    },
    {
     "name": "stderr",
     "output_type": "stream",
     "text": [
      "loss: 0.255, tv: 0.164, ptv: 0.165, flow: 0.337: : 2119it [6:59:01, 12.32s/it]"
     ]
    },
    {
     "name": "stdout",
     "output_type": "stream",
     "text": [
      "Adjusting learning rate of group 0 to 1.9415e-05.\n"
     ]
    },
    {
     "name": "stderr",
     "output_type": "stream",
     "text": [
      "loss: 0.242, tv: 0.164, ptv: 0.161, flow: 0.366: : 2121it [6:59:25, 12.34s/it]"
     ]
    },
    {
     "name": "stdout",
     "output_type": "stream",
     "text": [
      "Adjusting learning rate of group 0 to 1.9414e-05.\n"
     ]
    },
    {
     "name": "stderr",
     "output_type": "stream",
     "text": [
      "loss: 0.254, tv: 0.167, ptv: 0.164, flow: 0.346: : 2123it [6:59:50, 12.35s/it]"
     ]
    },
    {
     "name": "stdout",
     "output_type": "stream",
     "text": [
      "Adjusting learning rate of group 0 to 1.9413e-05.\n"
     ]
    },
    {
     "name": "stderr",
     "output_type": "stream",
     "text": [
      "loss: 0.269, tv: 0.159, ptv: 0.157, flow: 0.349: : 2125it [7:00:15, 12.35s/it]"
     ]
    },
    {
     "name": "stdout",
     "output_type": "stream",
     "text": [
      "Adjusting learning rate of group 0 to 1.9412e-05.\n"
     ]
    },
    {
     "name": "stderr",
     "output_type": "stream",
     "text": [
      "loss: 0.253, tv: 0.165, ptv: 0.165, flow: 0.340: : 2127it [7:00:39, 12.35s/it]"
     ]
    },
    {
     "name": "stdout",
     "output_type": "stream",
     "text": [
      "Adjusting learning rate of group 0 to 1.9411e-05.\n"
     ]
    },
    {
     "name": "stderr",
     "output_type": "stream",
     "text": [
      "loss: 0.258, tv: 0.165, ptv: 0.165, flow: 0.333: : 2129it [7:01:04, 12.37s/it]"
     ]
    },
    {
     "name": "stdout",
     "output_type": "stream",
     "text": [
      "Adjusting learning rate of group 0 to 1.9410e-05.\n"
     ]
    },
    {
     "name": "stderr",
     "output_type": "stream",
     "text": [
      "loss: 0.257, tv: 0.169, ptv: 0.168, flow: 0.382: : 2131it [7:01:29, 12.36s/it]"
     ]
    },
    {
     "name": "stdout",
     "output_type": "stream",
     "text": [
      "Adjusting learning rate of group 0 to 1.9409e-05.\n"
     ]
    },
    {
     "name": "stderr",
     "output_type": "stream",
     "text": [
      "loss: 0.245, tv: 0.166, ptv: 0.164, flow: 0.362: : 2134it [7:01:54, 11.42s/it]"
     ]
    },
    {
     "name": "stdout",
     "output_type": "stream",
     "text": [
      "Adjusting learning rate of group 0 to 1.9408e-05.\n"
     ]
    },
    {
     "name": "stderr",
     "output_type": "stream",
     "text": [
      "loss: 0.242, tv: 0.172, ptv: 0.170, flow: 0.342: : 2136it [7:02:19, 11.20s/it]"
     ]
    },
    {
     "name": "stdout",
     "output_type": "stream",
     "text": [
      "Adjusting learning rate of group 0 to 1.9407e-05.\n"
     ]
    },
    {
     "name": "stderr",
     "output_type": "stream",
     "text": [
      "loss: 0.241, tv: 0.173, ptv: 0.173, flow: 0.327: : 2138it [7:02:43, 11.57s/it]"
     ]
    },
    {
     "name": "stdout",
     "output_type": "stream",
     "text": [
      "Adjusting learning rate of group 0 to 1.9406e-05.\n"
     ]
    },
    {
     "name": "stderr",
     "output_type": "stream",
     "text": [
      "loss: 0.245, tv: 0.164, ptv: 0.163, flow: 0.352: : 2140it [7:03:08, 11.98s/it]"
     ]
    },
    {
     "name": "stdout",
     "output_type": "stream",
     "text": [
      "Adjusting learning rate of group 0 to 1.9405e-05.\n"
     ]
    },
    {
     "name": "stderr",
     "output_type": "stream",
     "text": [
      "loss: 0.232, tv: 0.171, ptv: 0.167, flow: 0.341: : 2142it [7:03:33, 11.96s/it]"
     ]
    },
    {
     "name": "stdout",
     "output_type": "stream",
     "text": [
      "Adjusting learning rate of group 0 to 1.9403e-05.\n"
     ]
    },
    {
     "name": "stderr",
     "output_type": "stream",
     "text": [
      "loss: 0.253, tv: 0.165, ptv: 0.163, flow: 0.341: : 2144it [7:03:57, 12.16s/it]"
     ]
    },
    {
     "name": "stdout",
     "output_type": "stream",
     "text": [
      "Adjusting learning rate of group 0 to 1.9402e-05.\n"
     ]
    },
    {
     "name": "stderr",
     "output_type": "stream",
     "text": [
      "loss: 0.253, tv: 0.161, ptv: 0.157, flow: 0.362: : 2146it [7:04:22, 11.45s/it]"
     ]
    },
    {
     "name": "stdout",
     "output_type": "stream",
     "text": [
      "Adjusting learning rate of group 0 to 1.9401e-05.\n"
     ]
    },
    {
     "name": "stderr",
     "output_type": "stream",
     "text": [
      "loss: 0.259, tv: 0.166, ptv: 0.163, flow: 0.357: : 2149it [7:04:48, 11.07s/it]"
     ]
    },
    {
     "name": "stdout",
     "output_type": "stream",
     "text": [
      "Adjusting learning rate of group 0 to 1.9400e-05.\n"
     ]
    },
    {
     "name": "stderr",
     "output_type": "stream",
     "text": [
      "loss: 0.242, tv: 0.174, ptv: 0.173, flow: 0.360: : 2151it [7:05:12, 11.81s/it]"
     ]
    },
    {
     "name": "stdout",
     "output_type": "stream",
     "text": [
      "Adjusting learning rate of group 0 to 1.9399e-05.\n"
     ]
    },
    {
     "name": "stderr",
     "output_type": "stream",
     "text": [
      "loss: 0.260, tv: 0.162, ptv: 0.159, flow: 0.372: : 2153it [7:05:37, 12.08s/it]"
     ]
    },
    {
     "name": "stdout",
     "output_type": "stream",
     "text": [
      "Adjusting learning rate of group 0 to 1.9398e-05.\n"
     ]
    },
    {
     "name": "stderr",
     "output_type": "stream",
     "text": [
      "loss: 0.257, tv: 0.162, ptv: 0.161, flow: 0.364: : 2155it [7:06:02, 12.23s/it]"
     ]
    },
    {
     "name": "stdout",
     "output_type": "stream",
     "text": [
      "Adjusting learning rate of group 0 to 1.9397e-05.\n"
     ]
    },
    {
     "name": "stderr",
     "output_type": "stream",
     "text": [
      "loss: 0.240, tv: 0.165, ptv: 0.166, flow: 0.328: : 2157it [7:06:27, 12.29s/it]"
     ]
    },
    {
     "name": "stdout",
     "output_type": "stream",
     "text": [
      "Adjusting learning rate of group 0 to 1.9396e-05.\n"
     ]
    },
    {
     "name": "stderr",
     "output_type": "stream",
     "text": [
      "loss: 0.233, tv: 0.170, ptv: 0.167, flow: 0.336: : 2159it [7:06:51, 12.33s/it]"
     ]
    },
    {
     "name": "stdout",
     "output_type": "stream",
     "text": [
      "Adjusting learning rate of group 0 to 1.9395e-05.\n"
     ]
    },
    {
     "name": "stderr",
     "output_type": "stream",
     "text": [
      "loss: 0.255, tv: 0.167, ptv: 0.165, flow: 0.370: : 2161it [7:07:16, 12.35s/it]"
     ]
    },
    {
     "name": "stdout",
     "output_type": "stream",
     "text": [
      "Adjusting learning rate of group 0 to 1.9394e-05.\n"
     ]
    },
    {
     "name": "stderr",
     "output_type": "stream",
     "text": [
      "loss: 0.263, tv: 0.160, ptv: 0.159, flow: 0.341: : 2163it [7:07:41, 12.35s/it]"
     ]
    },
    {
     "name": "stdout",
     "output_type": "stream",
     "text": [
      "Adjusting learning rate of group 0 to 1.9393e-05.\n"
     ]
    },
    {
     "name": "stderr",
     "output_type": "stream",
     "text": [
      "loss: 0.258, tv: 0.165, ptv: 0.163, flow: 0.378: : 2165it [7:08:05, 12.35s/it]"
     ]
    },
    {
     "name": "stdout",
     "output_type": "stream",
     "text": [
      "Adjusting learning rate of group 0 to 1.9392e-05.\n"
     ]
    },
    {
     "name": "stderr",
     "output_type": "stream",
     "text": [
      "loss: 0.266, tv: 0.156, ptv: 0.152, flow: 0.369: : 2167it [7:08:30, 12.35s/it]"
     ]
    },
    {
     "name": "stdout",
     "output_type": "stream",
     "text": [
      "Adjusting learning rate of group 0 to 1.9391e-05.\n"
     ]
    },
    {
     "name": "stderr",
     "output_type": "stream",
     "text": [
      "loss: 0.242, tv: 0.169, ptv: 0.171, flow: 0.336: : 2169it [7:08:54, 11.86s/it]\n"
     ]
    },
    {
     "ename": "KeyboardInterrupt",
     "evalue": "",
     "output_type": "error",
     "traceback": [
      "\u001b[0;31m---------------------------------------------------------------------------\u001b[0m",
      "\u001b[0;31mKeyboardInterrupt\u001b[0m                         Traceback (most recent call last)",
      "Cell \u001b[0;32mIn[27], line 38\u001b[0m\n\u001b[1;32m     35\u001b[0m pert_loss, pert_recon, pert_bin_recon \u001b[38;5;241m=\u001b[39m model\u001b[38;5;241m.\u001b[39mae_loss(pert_emb, pert, idx, return_recon\u001b[38;5;241m=\u001b[39m\u001b[38;5;28;01mTrue\u001b[39;00m)\n\u001b[1;32m     37\u001b[0m cond \u001b[38;5;241m=\u001b[39m model\u001b[38;5;241m.\u001b[39mgene_embedding\u001b[38;5;241m.\u001b[39mpos[:, pert_index][\u001b[38;5;241m0\u001b[39m]\n\u001b[0;32m---> 38\u001b[0m flow_loss \u001b[38;5;241m=\u001b[39m \u001b[43mmodel\u001b[49m\u001b[38;5;241;43m.\u001b[39;49m\u001b[43mflow_loss\u001b[49m\u001b[43m(\u001b[49m\u001b[43mctrl_emb\u001b[49m\u001b[43m,\u001b[49m\u001b[43m \u001b[49m\u001b[43mpert_emb\u001b[49m\u001b[43m,\u001b[49m\u001b[43m \u001b[49m\u001b[43mcond\u001b[49m\u001b[43m)\u001b[49m\n\u001b[1;32m     40\u001b[0m loss \u001b[38;5;241m=\u001b[39m ctrl_loss \u001b[38;5;241m+\u001b[39m pert_loss \u001b[38;5;241m+\u001b[39m flow_loss \u001b[38;5;241m/\u001b[39m \u001b[38;5;241m5\u001b[39m\n\u001b[1;32m     41\u001b[0m loss\u001b[38;5;241m.\u001b[39mbackward()\n",
      "Cell \u001b[0;32mIn[7], line 189\u001b[0m, in \u001b[0;36mMAE.flow_loss\u001b[0;34m(self, source_emb, target_emb, cond)\u001b[0m\n\u001b[1;32m    186\u001b[0m         \u001b[38;5;28;01mreturn\u001b[39;00m loss, batch_recon, batch_bin_recon\n\u001b[1;32m    187\u001b[0m     \u001b[38;5;28;01mreturn\u001b[39;00m loss\n\u001b[0;32m--> 189\u001b[0m \u001b[38;5;28;01mdef\u001b[39;00m \u001b[38;5;21mflow_loss\u001b[39m(\u001b[38;5;28mself\u001b[39m, source_emb, target_emb, cond):\n\u001b[1;32m    190\u001b[0m     t, xt, ut \u001b[38;5;241m=\u001b[39m \u001b[38;5;28mself\u001b[39m\u001b[38;5;241m.\u001b[39mcfm_sampler\u001b[38;5;241m.\u001b[39msample_location_and_conditional_flow(\n\u001b[1;32m    191\u001b[0m         source_emb, target_emb\n\u001b[1;32m    192\u001b[0m     )\n\u001b[1;32m    194\u001b[0m     inp \u001b[38;5;241m=\u001b[39m torch\u001b[38;5;241m.\u001b[39mcat([xt, t[:, \u001b[38;5;28;01mNone\u001b[39;00m]], dim\u001b[38;5;241m=\u001b[39m\u001b[38;5;241m-\u001b[39m\u001b[38;5;241m1\u001b[39m)\n",
      "\u001b[0;31mKeyboardInterrupt\u001b[0m: "
     ]
    }
   ],
   "source": [
    "use_sparsity_loss = False\n",
    "use_mask_task = True\n",
    "use_active_weights = False\n",
    "lr_step = 32\n",
    "minibatch_size = 32\n",
    "\n",
    "step_count = 0\n",
    "optim.zero_grad()\n",
    "pert_task = 0\n",
    "for e in range(20):\n",
    "    model.train()\n",
    "    losses = {'loss': [], 'control': [], 'pert': [], 'flow': []}\n",
    "    for (bcontrol, bpert, bpert_index) in (pbar := tqdm(iter(dl))):\n",
    "        bcontrol, bpert, bpert_index = bcontrol.squeeze(), bpert.squeeze(), bpert_index.reshape(-1, 1)# , # bpert_expr.squeeze()\n",
    "        curr_batch_size = bcontrol.shape[0]\n",
    "        for i in range(curr_batch_size // minibatch_size):\n",
    "            ctrl = bcontrol[(i * minibatch_size):((i + 1) * minibatch_size)]\n",
    "            if ctrl.shape[0] == 0:\n",
    "                continue\n",
    "            pert = bpert[(i * minibatch_size):((i + 1) * minibatch_size)]\n",
    "            pert_index = bpert_index[(i * minibatch_size):((i + 1) * minibatch_size)]\n",
    "            pert_index = pert_index.squeeze()\n",
    "            \n",
    "            ctrl = ctrl.float().to(device)\n",
    "            pert = pert.float().to(device)\n",
    "            \n",
    "            idx = torch.arange(ctrl.shape[1]).to(device)\n",
    "            \n",
    "            step_count += 1\n",
    "            \n",
    "            ctrl_emb = model(ctrl)\n",
    "            ctrl_loss, ctrl_recon, ctrl_bin_recon = model.ae_loss(ctrl_emb, ctrl, idx, return_recon=True)\n",
    "            \n",
    "            pert_emb = model(pert)\n",
    "            pert_loss, pert_recon, pert_bin_recon = model.ae_loss(pert_emb, pert, idx, return_recon=True)\n",
    "            \n",
    "            cond = model.gene_embedding.pos[:, pert_index][0]\n",
    "            flow_loss = model.flow_loss(ctrl_emb, pert_emb, cond)\n",
    "            \n",
    "            loss = ctrl_loss + pert_loss + flow_loss / 5\n",
    "            loss.backward()\n",
    "            optim.step()\n",
    "            optim.zero_grad()\n",
    "            with torch.no_grad():\n",
    "                ctrl_recon_sparse = model.sparsify(ctrl_recon, ctrl_bin_recon)\n",
    "                ctrl_recon_loss = torch.mean((ctrl_recon_sparse - ctrl)**2)\n",
    "                pert_recon_sparse = model.sparsify(pert_recon, pert_bin_recon)\n",
    "                pert_recon_loss = torch.mean((pert_recon_sparse - pert)**2)\n",
    "            losses['loss'].append(loss.item())\n",
    "            losses['control'].append(ctrl_recon_loss.item())\n",
    "            losses['pert'].append(pert_recon_loss.item())\n",
    "            losses['flow'].append(flow_loss.item())\n",
    "            if step_count % lr_step == 0:\n",
    "                lr_scheduler.step()\n",
    "            pbar.set_description(\n",
    "                f\"loss: {np.array(losses['loss'])[-lr_step:].mean():.3f}, tv: {np.array(losses['control'])[-lr_step:].mean():.3f}, ptv: {np.array(losses['pert'])[-lr_step:].mean():.3f}, flow: {np.array(losses['flow'])[-lr_step:].mean():.3f}\"\n",
    "            )\n",
    "    \n",
    "    avg_loss = sum(losses['control']) / len(losses['control'])\n",
    "    torch.save(model, f\"{save_dir}{e}\")\n",
    "    # writer.add_scalar('mae_loss', avg_loss, global_step=e)\n",
    "    print(f'In epoch {e}, average traning loss is {avg_loss}.')"
   ]
  },
  {
   "cell_type": "code",
   "execution_count": 54,
   "metadata": {},
   "outputs": [
    {
     "name": "stderr",
     "output_type": "stream",
     "text": [
      "loss: 0.330, tv: 0.152, ptv: 0.152, flow: 0.330:   3%|███▉                                                                                                                                                    | 16/611 [00:15<09:23,  1.06it/s]"
     ]
    },
    {
     "name": "stdout",
     "output_type": "stream",
     "text": [
      "Adjusting learning rate of group 0 to 1.7921e-04.\n"
     ]
    },
    {
     "name": "stderr",
     "output_type": "stream",
     "text": [
      "loss: 0.325, tv: 0.152, ptv: 0.152, flow: 0.325:   5%|███████▉                                                                                                                                                | 32/611 [00:30<09:05,  1.06it/s]"
     ]
    },
    {
     "name": "stdout",
     "output_type": "stream",
     "text": [
      "Adjusting learning rate of group 0 to 1.7919e-04.\n"
     ]
    },
    {
     "name": "stderr",
     "output_type": "stream",
     "text": [
      "loss: 0.329, tv: 0.152, ptv: 0.152, flow: 0.329:   8%|████████████▏                                                                                                                                           | 49/611 [00:46<08:45,  1.07it/s]"
     ]
    },
    {
     "name": "stdout",
     "output_type": "stream",
     "text": [
      "Adjusting learning rate of group 0 to 1.7917e-04.\n"
     ]
    },
    {
     "name": "stderr",
     "output_type": "stream",
     "text": [
      "loss: 0.332, tv: 0.152, ptv: 0.152, flow: 0.332:  11%|████████████████▍                                                                                                                                       | 66/611 [01:02<08:35,  1.06it/s]"
     ]
    },
    {
     "name": "stdout",
     "output_type": "stream",
     "text": [
      "Adjusting learning rate of group 0 to 1.7915e-04.\n"
     ]
    },
    {
     "name": "stderr",
     "output_type": "stream",
     "text": [
      "loss: 0.321, tv: 0.152, ptv: 0.152, flow: 0.321:  14%|████████████████████▋                                                                                                                                   | 83/611 [01:17<07:50,  1.12it/s]"
     ]
    },
    {
     "name": "stdout",
     "output_type": "stream",
     "text": [
      "Adjusting learning rate of group 0 to 1.7913e-04.\n"
     ]
    },
    {
     "name": "stderr",
     "output_type": "stream",
     "text": [
      "loss: 0.323, tv: 0.152, ptv: 0.152, flow: 0.323:  16%|████████████████████████▋                                                                                                                              | 100/611 [01:33<07:32,  1.13it/s]"
     ]
    },
    {
     "name": "stdout",
     "output_type": "stream",
     "text": [
      "Adjusting learning rate of group 0 to 1.7911e-04.\n"
     ]
    },
    {
     "name": "stderr",
     "output_type": "stream",
     "text": [
      "loss: 0.330, tv: 0.152, ptv: 0.152, flow: 0.330:  19%|█████████████████████████████▍                                                                                                                         | 119/611 [01:49<07:15,  1.13it/s]"
     ]
    },
    {
     "name": "stdout",
     "output_type": "stream",
     "text": [
      "Adjusting learning rate of group 0 to 1.7909e-04.\n"
     ]
    },
    {
     "name": "stderr",
     "output_type": "stream",
     "text": [
      "loss: 0.321, tv: 0.152, ptv: 0.152, flow: 0.321:  22%|█████████████████████████████████▎                                                                                                                     | 135/611 [02:04<07:32,  1.05it/s]"
     ]
    },
    {
     "name": "stdout",
     "output_type": "stream",
     "text": [
      "Adjusting learning rate of group 0 to 1.7907e-04.\n"
     ]
    },
    {
     "name": "stderr",
     "output_type": "stream",
     "text": [
      "loss: 0.321, tv: 0.152, ptv: 0.152, flow: 0.321:  25%|█████████████████████████████████████▊                                                                                                                 | 153/611 [02:20<06:47,  1.12it/s]"
     ]
    },
    {
     "name": "stdout",
     "output_type": "stream",
     "text": [
      "Adjusting learning rate of group 0 to 1.7905e-04.\n"
     ]
    },
    {
     "name": "stderr",
     "output_type": "stream",
     "text": [
      "loss: 0.325, tv: 0.152, ptv: 0.152, flow: 0.325:  28%|█████████████████████████████████████████▊                                                                                                             | 169/611 [02:35<06:58,  1.06it/s]"
     ]
    },
    {
     "name": "stdout",
     "output_type": "stream",
     "text": [
      "Adjusting learning rate of group 0 to 1.7903e-04.\n"
     ]
    },
    {
     "name": "stderr",
     "output_type": "stream",
     "text": [
      "loss: 0.328, tv: 0.152, ptv: 0.152, flow: 0.328:  31%|██████████████████████████████████████████████▏                                                                                                        | 187/611 [02:52<06:34,  1.08it/s]"
     ]
    },
    {
     "name": "stdout",
     "output_type": "stream",
     "text": [
      "Adjusting learning rate of group 0 to 1.7902e-04.\n"
     ]
    },
    {
     "name": "stderr",
     "output_type": "stream",
     "text": [
      "loss: 0.324, tv: 0.152, ptv: 0.152, flow: 0.324:  33%|██████████████████████████████████████████████████▍                                                                                                    | 204/611 [03:08<06:22,  1.06it/s]"
     ]
    },
    {
     "name": "stdout",
     "output_type": "stream",
     "text": [
      "Adjusting learning rate of group 0 to 1.7900e-04.\n"
     ]
    },
    {
     "name": "stderr",
     "output_type": "stream",
     "text": [
      "loss: 0.325, tv: 0.152, ptv: 0.152, flow: 0.325:  36%|██████████████████████████████████████████████████████▎                                                                                                | 220/611 [03:23<06:14,  1.04it/s]"
     ]
    },
    {
     "name": "stdout",
     "output_type": "stream",
     "text": [
      "Adjusting learning rate of group 0 to 1.7898e-04.\n"
     ]
    },
    {
     "name": "stderr",
     "output_type": "stream",
     "text": [
      "loss: 0.317, tv: 0.152, ptv: 0.152, flow: 0.317:  39%|██████████████████████████████████████████████████████████▊                                                                                            | 238/611 [03:39<05:29,  1.13it/s]"
     ]
    },
    {
     "name": "stdout",
     "output_type": "stream",
     "text": [
      "Adjusting learning rate of group 0 to 1.7896e-04.\n"
     ]
    },
    {
     "name": "stderr",
     "output_type": "stream",
     "text": [
      "loss: 0.315, tv: 0.152, ptv: 0.152, flow: 0.315:  42%|███████████████████████████████████████████████████████████████                                                                                        | 255/611 [03:54<05:35,  1.06it/s]"
     ]
    },
    {
     "name": "stdout",
     "output_type": "stream",
     "text": [
      "Adjusting learning rate of group 0 to 1.7894e-04.\n"
     ]
    },
    {
     "name": "stderr",
     "output_type": "stream",
     "text": [
      "loss: 0.320, tv: 0.152, ptv: 0.152, flow: 0.320:  45%|███████████████████████████████████████████████████████████████████▏                                                                                   | 272/611 [04:10<05:20,  1.06it/s]"
     ]
    },
    {
     "name": "stdout",
     "output_type": "stream",
     "text": [
      "Adjusting learning rate of group 0 to 1.7892e-04.\n"
     ]
    },
    {
     "name": "stderr",
     "output_type": "stream",
     "text": [
      "loss: 0.327, tv: 0.152, ptv: 0.152, flow: 0.327:  47%|███████████████████████████████████████████████████████████████████████▏                                                                               | 288/611 [04:25<05:05,  1.06it/s]"
     ]
    },
    {
     "name": "stdout",
     "output_type": "stream",
     "text": [
      "Adjusting learning rate of group 0 to 1.7890e-04.\n"
     ]
    },
    {
     "name": "stderr",
     "output_type": "stream",
     "text": [
      "loss: 0.322, tv: 0.152, ptv: 0.152, flow: 0.322:  50%|███████████████████████████████████████████████████████████████████████████▍                                                                           | 305/611 [04:40<04:30,  1.13it/s]"
     ]
    },
    {
     "name": "stdout",
     "output_type": "stream",
     "text": [
      "Adjusting learning rate of group 0 to 1.7888e-04.\n"
     ]
    },
    {
     "name": "stderr",
     "output_type": "stream",
     "text": [
      "loss: 0.324, tv: 0.152, ptv: 0.152, flow: 0.324:  53%|███████████████████████████████████████████████████████████████████████████████▌                                                                       | 322/611 [04:56<04:37,  1.04it/s]"
     ]
    },
    {
     "name": "stdout",
     "output_type": "stream",
     "text": [
      "Adjusting learning rate of group 0 to 1.7886e-04.\n"
     ]
    },
    {
     "name": "stderr",
     "output_type": "stream",
     "text": [
      "loss: 0.321, tv: 0.152, ptv: 0.152, flow: 0.321:  55%|███████████████████████████████████████████████████████████████████████████████████▊                                                                   | 339/611 [05:12<04:07,  1.10it/s]"
     ]
    },
    {
     "name": "stdout",
     "output_type": "stream",
     "text": [
      "Adjusting learning rate of group 0 to 1.7884e-04.\n"
     ]
    },
    {
     "name": "stderr",
     "output_type": "stream",
     "text": [
      "loss: 0.315, tv: 0.152, ptv: 0.152, flow: 0.315:  58%|███████████████████████████████████████████████████████████████████████████████████████▉                                                               | 356/611 [05:27<03:58,  1.07it/s]"
     ]
    },
    {
     "name": "stdout",
     "output_type": "stream",
     "text": [
      "Adjusting learning rate of group 0 to 1.7882e-04.\n"
     ]
    },
    {
     "name": "stderr",
     "output_type": "stream",
     "text": [
      "loss: 0.322, tv: 0.152, ptv: 0.152, flow: 0.322:  61%|████████████████████████████████████████████████████████████████████████████████████████████▋                                                          | 375/611 [05:44<03:19,  1.18it/s]"
     ]
    },
    {
     "name": "stdout",
     "output_type": "stream",
     "text": [
      "Adjusting learning rate of group 0 to 1.7880e-04.\n"
     ]
    },
    {
     "name": "stderr",
     "output_type": "stream",
     "text": [
      "loss: 0.324, tv: 0.152, ptv: 0.152, flow: 0.324:  64%|████████████████████████████████████████████████████████████████████████████████████████████████▋                                                      | 391/611 [05:59<03:23,  1.08it/s]"
     ]
    },
    {
     "name": "stdout",
     "output_type": "stream",
     "text": [
      "Adjusting learning rate of group 0 to 1.7878e-04.\n"
     ]
    },
    {
     "name": "stderr",
     "output_type": "stream",
     "text": [
      "loss: 0.326, tv: 0.152, ptv: 0.152, flow: 0.326:  67%|█████████████████████████████████████████████████████████████████████████████████████████████████████▎                                                 | 410/611 [06:16<03:07,  1.07it/s]"
     ]
    },
    {
     "name": "stdout",
     "output_type": "stream",
     "text": [
      "Adjusting learning rate of group 0 to 1.7876e-04.\n"
     ]
    },
    {
     "name": "stderr",
     "output_type": "stream",
     "text": [
      "loss: 0.314, tv: 0.152, ptv: 0.152, flow: 0.314:  70%|█████████████████████████████████████████████████████████████████████████████████████████████████████████▎                                             | 426/611 [06:31<02:55,  1.06it/s]"
     ]
    },
    {
     "name": "stdout",
     "output_type": "stream",
     "text": [
      "Adjusting learning rate of group 0 to 1.7875e-04.\n"
     ]
    },
    {
     "name": "stderr",
     "output_type": "stream",
     "text": [
      "loss: 0.318, tv: 0.152, ptv: 0.152, flow: 0.318:  73%|█████████████████████████████████████████████████████████████████████████████████████████████████████████████▍                                         | 443/611 [06:47<02:39,  1.05it/s]"
     ]
    },
    {
     "name": "stdout",
     "output_type": "stream",
     "text": [
      "Adjusting learning rate of group 0 to 1.7873e-04.\n"
     ]
    },
    {
     "name": "stderr",
     "output_type": "stream",
     "text": [
      "loss: 0.313, tv: 0.152, ptv: 0.152, flow: 0.313:  75%|█████████████████████████████████████████████████████████████████████████████████████████████████████████████████▋                                     | 460/611 [07:02<02:05,  1.20it/s]"
     ]
    },
    {
     "name": "stdout",
     "output_type": "stream",
     "text": [
      "Adjusting learning rate of group 0 to 1.7871e-04.\n"
     ]
    },
    {
     "name": "stderr",
     "output_type": "stream",
     "text": [
      "loss: 0.324, tv: 0.152, ptv: 0.152, flow: 0.324:  78%|█████████████████████████████████████████████████████████████████████████████████████████████████████████████████████▋                                 | 476/611 [07:17<02:07,  1.06it/s]"
     ]
    },
    {
     "name": "stdout",
     "output_type": "stream",
     "text": [
      "Adjusting learning rate of group 0 to 1.7869e-04.\n"
     ]
    },
    {
     "name": "stderr",
     "output_type": "stream",
     "text": [
      "loss: 0.321, tv: 0.152, ptv: 0.152, flow: 0.321:  81%|█████████████████████████████████████████████████████████████████████████████████████████████████████████████████████████▌                             | 492/611 [07:32<01:52,  1.06it/s]"
     ]
    },
    {
     "name": "stdout",
     "output_type": "stream",
     "text": [
      "Adjusting learning rate of group 0 to 1.7867e-04.\n"
     ]
    },
    {
     "name": "stderr",
     "output_type": "stream",
     "text": [
      "loss: 0.319, tv: 0.152, ptv: 0.152, flow: 0.319:  83%|██████████████████████████████████████████████████████████████████████████████████████████████████████████████████████████████                         | 510/611 [07:49<01:27,  1.15it/s]"
     ]
    },
    {
     "name": "stdout",
     "output_type": "stream",
     "text": [
      "Adjusting learning rate of group 0 to 1.7865e-04.\n"
     ]
    },
    {
     "name": "stderr",
     "output_type": "stream",
     "text": [
      "loss: 0.316, tv: 0.152, ptv: 0.152, flow: 0.316:  86%|██████████████████████████████████████████████████████████████████████████████████████████████████████████████████████████████████▏                    | 527/611 [08:04<01:18,  1.06it/s]"
     ]
    },
    {
     "name": "stdout",
     "output_type": "stream",
     "text": [
      "Adjusting learning rate of group 0 to 1.7863e-04.\n"
     ]
    },
    {
     "name": "stderr",
     "output_type": "stream",
     "text": [
      "loss: 0.322, tv: 0.152, ptv: 0.152, flow: 0.322:  89%|██████████████████████████████████████████████████████████████████████████████████████████████████████████████████████████████████████▋                | 545/611 [08:20<00:53,  1.24it/s]"
     ]
    },
    {
     "name": "stdout",
     "output_type": "stream",
     "text": [
      "Adjusting learning rate of group 0 to 1.7861e-04.\n"
     ]
    },
    {
     "name": "stderr",
     "output_type": "stream",
     "text": [
      "loss: 0.320, tv: 0.152, ptv: 0.152, flow: 0.320:  92%|███████████████████████████████████████████████████████████████████████████████████████████████████████████████████████████████████████████▏           | 563/611 [08:36<00:44,  1.07it/s]"
     ]
    },
    {
     "name": "stdout",
     "output_type": "stream",
     "text": [
      "Adjusting learning rate of group 0 to 1.7859e-04.\n"
     ]
    },
    {
     "name": "stderr",
     "output_type": "stream",
     "text": [
      "loss: 0.321, tv: 0.152, ptv: 0.152, flow: 0.321:  95%|███████████████████████████████████████████████████████████████████████████████████████████████████████████████████████████████████████████████▊       | 582/611 [08:52<00:25,  1.12it/s]"
     ]
    },
    {
     "name": "stdout",
     "output_type": "stream",
     "text": [
      "Adjusting learning rate of group 0 to 1.7857e-04.\n"
     ]
    },
    {
     "name": "stderr",
     "output_type": "stream",
     "text": [
      "loss: 0.317, tv: 0.152, ptv: 0.152, flow: 0.317:  98%|████████████████████████████████████████████████████████████████████████████████████████████████████████████████████████████████████████████████████   | 599/611 [09:07<00:11,  1.07it/s]"
     ]
    },
    {
     "name": "stdout",
     "output_type": "stream",
     "text": [
      "Adjusting learning rate of group 0 to 1.7855e-04.\n"
     ]
    },
    {
     "name": "stderr",
     "output_type": "stream",
     "text": [
      "loss: 0.321, tv: 0.152, ptv: 0.152, flow: 0.321: : 615it [09:22,  1.07it/s]                                                                                                                                                                    "
     ]
    },
    {
     "name": "stdout",
     "output_type": "stream",
     "text": [
      "Adjusting learning rate of group 0 to 1.7853e-04.\n"
     ]
    },
    {
     "name": "stderr",
     "output_type": "stream",
     "text": [
      "loss: 0.322, tv: 0.152, ptv: 0.152, flow: 0.322: : 632it [09:38,  1.06it/s]"
     ]
    },
    {
     "name": "stdout",
     "output_type": "stream",
     "text": [
      "Adjusting learning rate of group 0 to 1.7851e-04.\n"
     ]
    },
    {
     "name": "stderr",
     "output_type": "stream",
     "text": [
      "loss: 0.322, tv: 0.152, ptv: 0.152, flow: 0.322: : 649it [09:53,  1.07it/s]"
     ]
    },
    {
     "name": "stdout",
     "output_type": "stream",
     "text": [
      "Adjusting learning rate of group 0 to 1.7849e-04.\n"
     ]
    },
    {
     "name": "stderr",
     "output_type": "stream",
     "text": [
      "loss: 0.327, tv: 0.152, ptv: 0.152, flow: 0.327: : 666it [10:09,  1.10it/s]"
     ]
    },
    {
     "name": "stdout",
     "output_type": "stream",
     "text": [
      "Adjusting learning rate of group 0 to 1.7847e-04.\n"
     ]
    },
    {
     "name": "stderr",
     "output_type": "stream",
     "text": [
      "loss: 0.332, tv: 0.152, ptv: 0.152, flow: 0.332: : 682it [10:24,  1.06it/s]"
     ]
    },
    {
     "name": "stdout",
     "output_type": "stream",
     "text": [
      "Adjusting learning rate of group 0 to 1.7845e-04.\n"
     ]
    },
    {
     "name": "stderr",
     "output_type": "stream",
     "text": [
      "loss: 0.324, tv: 0.152, ptv: 0.152, flow: 0.324: : 699it [10:40,  1.06it/s]"
     ]
    },
    {
     "name": "stdout",
     "output_type": "stream",
     "text": [
      "Adjusting learning rate of group 0 to 1.7843e-04.\n"
     ]
    },
    {
     "name": "stderr",
     "output_type": "stream",
     "text": [
      "loss: 0.326, tv: 0.152, ptv: 0.152, flow: 0.326: : 717it [10:56,  1.11it/s]"
     ]
    },
    {
     "name": "stdout",
     "output_type": "stream",
     "text": [
      "Adjusting learning rate of group 0 to 1.7841e-04.\n"
     ]
    },
    {
     "name": "stderr",
     "output_type": "stream",
     "text": [
      "loss: 0.325, tv: 0.152, ptv: 0.152, flow: 0.325: : 733it [11:11,  1.07it/s]"
     ]
    },
    {
     "name": "stdout",
     "output_type": "stream",
     "text": [
      "Adjusting learning rate of group 0 to 1.7840e-04.\n"
     ]
    },
    {
     "name": "stderr",
     "output_type": "stream",
     "text": [
      "loss: 0.327, tv: 0.152, ptv: 0.152, flow: 0.327: : 751it [11:27,  1.10it/s]"
     ]
    },
    {
     "name": "stdout",
     "output_type": "stream",
     "text": [
      "Adjusting learning rate of group 0 to 1.7838e-04.\n"
     ]
    },
    {
     "name": "stderr",
     "output_type": "stream",
     "text": [
      "loss: 0.325, tv: 0.152, ptv: 0.152, flow: 0.325: : 768it [11:43,  1.11it/s]"
     ]
    },
    {
     "name": "stdout",
     "output_type": "stream",
     "text": [
      "Adjusting learning rate of group 0 to 1.7836e-04.\n"
     ]
    },
    {
     "name": "stderr",
     "output_type": "stream",
     "text": [
      "loss: 0.324, tv: 0.152, ptv: 0.152, flow: 0.324: : 785it [11:59,  1.07it/s]"
     ]
    },
    {
     "name": "stdout",
     "output_type": "stream",
     "text": [
      "Adjusting learning rate of group 0 to 1.7834e-04.\n"
     ]
    },
    {
     "name": "stderr",
     "output_type": "stream",
     "text": [
      "loss: 0.306, tv: 0.152, ptv: 0.152, flow: 0.306: : 802it [12:14,  1.07it/s]"
     ]
    },
    {
     "name": "stdout",
     "output_type": "stream",
     "text": [
      "Adjusting learning rate of group 0 to 1.7832e-04.\n"
     ]
    },
    {
     "name": "stderr",
     "output_type": "stream",
     "text": [
      "loss: 0.325, tv: 0.152, ptv: 0.152, flow: 0.325: : 819it [12:30,  1.07it/s]"
     ]
    },
    {
     "name": "stdout",
     "output_type": "stream",
     "text": [
      "Adjusting learning rate of group 0 to 1.7830e-04.\n"
     ]
    },
    {
     "name": "stderr",
     "output_type": "stream",
     "text": [
      "loss: 0.320, tv: 0.152, ptv: 0.152, flow: 0.320: : 836it [12:45,  1.05it/s]"
     ]
    },
    {
     "name": "stdout",
     "output_type": "stream",
     "text": [
      "Adjusting learning rate of group 0 to 1.7828e-04.\n"
     ]
    },
    {
     "name": "stderr",
     "output_type": "stream",
     "text": [
      "loss: 0.315, tv: 0.152, ptv: 0.152, flow: 0.315: : 853it [13:00,  1.08it/s]"
     ]
    },
    {
     "name": "stdout",
     "output_type": "stream",
     "text": [
      "Adjusting learning rate of group 0 to 1.7826e-04.\n"
     ]
    },
    {
     "name": "stderr",
     "output_type": "stream",
     "text": [
      "loss: 0.329, tv: 0.152, ptv: 0.152, flow: 0.329: : 871it [13:16,  1.16it/s]"
     ]
    },
    {
     "name": "stdout",
     "output_type": "stream",
     "text": [
      "Adjusting learning rate of group 0 to 1.7824e-04.\n"
     ]
    },
    {
     "name": "stderr",
     "output_type": "stream",
     "text": [
      "loss: 0.316, tv: 0.152, ptv: 0.152, flow: 0.316: : 889it [13:32,  1.06it/s]"
     ]
    },
    {
     "name": "stdout",
     "output_type": "stream",
     "text": [
      "Adjusting learning rate of group 0 to 1.7822e-04.\n"
     ]
    },
    {
     "name": "stderr",
     "output_type": "stream",
     "text": [
      "loss: 0.319, tv: 0.152, ptv: 0.152, flow: 0.319: : 906it [13:48,  1.04it/s]"
     ]
    },
    {
     "name": "stdout",
     "output_type": "stream",
     "text": [
      "Adjusting learning rate of group 0 to 1.7820e-04.\n"
     ]
    },
    {
     "name": "stderr",
     "output_type": "stream",
     "text": [
      "loss: 0.332, tv: 0.152, ptv: 0.152, flow: 0.332: : 923it [14:03,  1.15it/s]"
     ]
    },
    {
     "name": "stdout",
     "output_type": "stream",
     "text": [
      "Adjusting learning rate of group 0 to 1.7818e-04.\n"
     ]
    },
    {
     "name": "stderr",
     "output_type": "stream",
     "text": [
      "loss: 0.321, tv: 0.152, ptv: 0.152, flow: 0.321: : 939it [14:18,  1.06it/s]"
     ]
    },
    {
     "name": "stdout",
     "output_type": "stream",
     "text": [
      "Adjusting learning rate of group 0 to 1.7816e-04.\n"
     ]
    },
    {
     "name": "stderr",
     "output_type": "stream",
     "text": [
      "loss: 0.321, tv: 0.152, ptv: 0.152, flow: 0.321: : 955it [14:33,  1.06it/s]"
     ]
    },
    {
     "name": "stdout",
     "output_type": "stream",
     "text": [
      "Adjusting learning rate of group 0 to 1.7814e-04.\n"
     ]
    },
    {
     "name": "stderr",
     "output_type": "stream",
     "text": [
      "loss: 0.308, tv: 0.152, ptv: 0.152, flow: 0.308: : 973it [14:50,  1.07it/s]"
     ]
    },
    {
     "name": "stdout",
     "output_type": "stream",
     "text": [
      "Adjusting learning rate of group 0 to 1.7812e-04.\n"
     ]
    },
    {
     "name": "stderr",
     "output_type": "stream",
     "text": [
      "loss: 0.314, tv: 0.152, ptv: 0.152, flow: 0.314: : 991it [15:06,  1.06it/s]"
     ]
    },
    {
     "name": "stdout",
     "output_type": "stream",
     "text": [
      "Adjusting learning rate of group 0 to 1.7810e-04.\n"
     ]
    },
    {
     "name": "stderr",
     "output_type": "stream",
     "text": [
      "loss: 0.321, tv: 0.152, ptv: 0.152, flow: 0.321: : 1007it [15:21,  1.06it/s]"
     ]
    },
    {
     "name": "stdout",
     "output_type": "stream",
     "text": [
      "Adjusting learning rate of group 0 to 1.7808e-04.\n"
     ]
    },
    {
     "name": "stderr",
     "output_type": "stream",
     "text": [
      "loss: 0.320, tv: 0.152, ptv: 0.152, flow: 0.320: : 1024it [15:37,  1.08it/s]"
     ]
    },
    {
     "name": "stdout",
     "output_type": "stream",
     "text": [
      "Adjusting learning rate of group 0 to 1.7806e-04.\n"
     ]
    },
    {
     "name": "stderr",
     "output_type": "stream",
     "text": [
      "loss: 0.325, tv: 0.152, ptv: 0.152, flow: 0.325: : 1042it [15:53,  1.13it/s]"
     ]
    },
    {
     "name": "stdout",
     "output_type": "stream",
     "text": [
      "Adjusting learning rate of group 0 to 1.7804e-04.\n"
     ]
    },
    {
     "name": "stderr",
     "output_type": "stream",
     "text": [
      "loss: 0.326, tv: 0.152, ptv: 0.152, flow: 0.326: : 1060it [16:09,  1.06it/s]"
     ]
    },
    {
     "name": "stdout",
     "output_type": "stream",
     "text": [
      "Adjusting learning rate of group 0 to 1.7802e-04.\n"
     ]
    },
    {
     "name": "stderr",
     "output_type": "stream",
     "text": [
      "loss: 0.317, tv: 0.152, ptv: 0.152, flow: 0.317: : 1077it [16:25,  1.17it/s]"
     ]
    },
    {
     "name": "stdout",
     "output_type": "stream",
     "text": [
      "Adjusting learning rate of group 0 to 1.7800e-04.\n"
     ]
    },
    {
     "name": "stderr",
     "output_type": "stream",
     "text": [
      "loss: 0.321, tv: 0.152, ptv: 0.152, flow: 0.321: : 1094it [16:40,  1.07it/s]"
     ]
    },
    {
     "name": "stdout",
     "output_type": "stream",
     "text": [
      "Adjusting learning rate of group 0 to 1.7798e-04.\n"
     ]
    },
    {
     "name": "stderr",
     "output_type": "stream",
     "text": [
      "loss: 0.315, tv: 0.152, ptv: 0.152, flow: 0.315: : 1112it [16:56,  1.05it/s]"
     ]
    },
    {
     "name": "stdout",
     "output_type": "stream",
     "text": [
      "Adjusting learning rate of group 0 to 1.7796e-04.\n"
     ]
    },
    {
     "name": "stderr",
     "output_type": "stream",
     "text": [
      "loss: 0.320, tv: 0.152, ptv: 0.152, flow: 0.320: : 1129it [17:12,  1.08it/s]"
     ]
    },
    {
     "name": "stdout",
     "output_type": "stream",
     "text": [
      "Adjusting learning rate of group 0 to 1.7794e-04.\n"
     ]
    },
    {
     "name": "stderr",
     "output_type": "stream",
     "text": [
      "loss: 0.322, tv: 0.152, ptv: 0.152, flow: 0.322: : 1145it [17:27,  1.06it/s]"
     ]
    },
    {
     "name": "stdout",
     "output_type": "stream",
     "text": [
      "Adjusting learning rate of group 0 to 1.7793e-04.\n"
     ]
    },
    {
     "name": "stderr",
     "output_type": "stream",
     "text": [
      "loss: 0.320, tv: 0.152, ptv: 0.152, flow: 0.320: : 1163it [17:42,  1.14it/s]"
     ]
    },
    {
     "name": "stdout",
     "output_type": "stream",
     "text": [
      "Adjusting learning rate of group 0 to 1.7791e-04.\n"
     ]
    },
    {
     "name": "stderr",
     "output_type": "stream",
     "text": [
      "loss: 0.314, tv: 0.152, ptv: 0.152, flow: 0.314: : 1180it [17:58,  1.06it/s]"
     ]
    },
    {
     "name": "stdout",
     "output_type": "stream",
     "text": [
      "Adjusting learning rate of group 0 to 1.7789e-04.\n"
     ]
    },
    {
     "name": "stderr",
     "output_type": "stream",
     "text": [
      "loss: 0.327, tv: 0.152, ptv: 0.152, flow: 0.327: : 1197it [18:14,  1.21it/s]"
     ]
    },
    {
     "name": "stdout",
     "output_type": "stream",
     "text": [
      "Adjusting learning rate of group 0 to 1.7787e-04.\n"
     ]
    },
    {
     "name": "stderr",
     "output_type": "stream",
     "text": [
      "loss: 0.322, tv: 0.152, ptv: 0.152, flow: 0.322: : 1215it [18:30,  1.08it/s]"
     ]
    },
    {
     "name": "stdout",
     "output_type": "stream",
     "text": [
      "Adjusting learning rate of group 0 to 1.7785e-04.\n"
     ]
    },
    {
     "name": "stderr",
     "output_type": "stream",
     "text": [
      "loss: 0.324, tv: 0.152, ptv: 0.152, flow: 0.324: : 1231it [18:45,  1.05it/s]"
     ]
    },
    {
     "name": "stdout",
     "output_type": "stream",
     "text": [
      "Adjusting learning rate of group 0 to 1.7783e-04.\n"
     ]
    },
    {
     "name": "stderr",
     "output_type": "stream",
     "text": [
      "loss: 0.317, tv: 0.152, ptv: 0.152, flow: 0.317: : 1249it [19:00,  1.30it/s]"
     ]
    },
    {
     "name": "stdout",
     "output_type": "stream",
     "text": [
      "Adjusting learning rate of group 0 to 1.7781e-04.\n"
     ]
    },
    {
     "name": "stderr",
     "output_type": "stream",
     "text": [
      "loss: 0.322, tv: 0.152, ptv: 0.152, flow: 0.322: : 1267it [19:16,  1.27it/s]"
     ]
    },
    {
     "name": "stdout",
     "output_type": "stream",
     "text": [
      "Adjusting learning rate of group 0 to 1.7779e-04.\n"
     ]
    },
    {
     "name": "stderr",
     "output_type": "stream",
     "text": [
      "loss: 0.320, tv: 0.152, ptv: 0.152, flow: 0.320: : 1286it [19:33,  1.11it/s]"
     ]
    },
    {
     "name": "stdout",
     "output_type": "stream",
     "text": [
      "Adjusting learning rate of group 0 to 1.7777e-04.\n"
     ]
    },
    {
     "name": "stderr",
     "output_type": "stream",
     "text": [
      "loss: 0.313, tv: 0.152, ptv: 0.152, flow: 0.313: : 1303it [19:48,  1.08it/s]"
     ]
    },
    {
     "name": "stdout",
     "output_type": "stream",
     "text": [
      "Adjusting learning rate of group 0 to 1.7775e-04.\n"
     ]
    },
    {
     "name": "stderr",
     "output_type": "stream",
     "text": [
      "loss: 0.310, tv: 0.152, ptv: 0.152, flow: 0.310: : 1320it [20:04,  1.15it/s]"
     ]
    },
    {
     "name": "stdout",
     "output_type": "stream",
     "text": [
      "Adjusting learning rate of group 0 to 1.7773e-04.\n"
     ]
    },
    {
     "name": "stderr",
     "output_type": "stream",
     "text": [
      "loss: 0.321, tv: 0.152, ptv: 0.152, flow: 0.321: : 1338it [20:20,  1.14it/s]"
     ]
    },
    {
     "name": "stdout",
     "output_type": "stream",
     "text": [
      "Adjusting learning rate of group 0 to 1.7771e-04.\n"
     ]
    },
    {
     "name": "stderr",
     "output_type": "stream",
     "text": [
      "loss: 0.324, tv: 0.152, ptv: 0.152, flow: 0.324: : 1354it [20:35,  1.06it/s]"
     ]
    },
    {
     "name": "stdout",
     "output_type": "stream",
     "text": [
      "Adjusting learning rate of group 0 to 1.7769e-04.\n"
     ]
    },
    {
     "name": "stderr",
     "output_type": "stream",
     "text": [
      "loss: 0.322, tv: 0.152, ptv: 0.152, flow: 0.322: : 1372it [20:50,  1.07it/s]"
     ]
    },
    {
     "name": "stdout",
     "output_type": "stream",
     "text": [
      "Adjusting learning rate of group 0 to 1.7767e-04.\n"
     ]
    },
    {
     "name": "stderr",
     "output_type": "stream",
     "text": [
      "loss: 0.329, tv: 0.152, ptv: 0.152, flow: 0.329: : 1388it [21:06,  1.06it/s]"
     ]
    },
    {
     "name": "stdout",
     "output_type": "stream",
     "text": [
      "Adjusting learning rate of group 0 to 1.7765e-04.\n"
     ]
    },
    {
     "name": "stderr",
     "output_type": "stream",
     "text": [
      "loss: 0.313, tv: 0.152, ptv: 0.152, flow: 0.313: : 1404it [21:21,  1.05it/s]"
     ]
    },
    {
     "name": "stdout",
     "output_type": "stream",
     "text": [
      "Adjusting learning rate of group 0 to 1.7763e-04.\n"
     ]
    },
    {
     "name": "stderr",
     "output_type": "stream",
     "text": [
      "loss: 0.319, tv: 0.152, ptv: 0.152, flow: 0.319: : 1422it [21:37,  1.07it/s]"
     ]
    },
    {
     "name": "stdout",
     "output_type": "stream",
     "text": [
      "Adjusting learning rate of group 0 to 1.7761e-04.\n"
     ]
    },
    {
     "name": "stderr",
     "output_type": "stream",
     "text": [
      "loss: 0.323, tv: 0.152, ptv: 0.152, flow: 0.323: : 1438it [21:52,  1.05it/s]"
     ]
    },
    {
     "name": "stdout",
     "output_type": "stream",
     "text": [
      "Adjusting learning rate of group 0 to 1.7759e-04.\n"
     ]
    },
    {
     "name": "stderr",
     "output_type": "stream",
     "text": [
      "loss: 0.324, tv: 0.152, ptv: 0.152, flow: 0.324: : 1456it [22:09,  1.10it/s]"
     ]
    },
    {
     "name": "stdout",
     "output_type": "stream",
     "text": [
      "Adjusting learning rate of group 0 to 1.7757e-04.\n"
     ]
    },
    {
     "name": "stderr",
     "output_type": "stream",
     "text": [
      "loss: 0.324, tv: 0.152, ptv: 0.152, flow: 0.324: : 1473it [22:24,  1.06it/s]"
     ]
    },
    {
     "name": "stdout",
     "output_type": "stream",
     "text": [
      "Adjusting learning rate of group 0 to 1.7755e-04.\n"
     ]
    },
    {
     "name": "stderr",
     "output_type": "stream",
     "text": [
      "loss: 0.330, tv: 0.152, ptv: 0.152, flow: 0.330: : 1492it [22:41,  1.22it/s]"
     ]
    },
    {
     "name": "stdout",
     "output_type": "stream",
     "text": [
      "Adjusting learning rate of group 0 to 1.7753e-04.\n"
     ]
    },
    {
     "name": "stderr",
     "output_type": "stream",
     "text": [
      "loss: 0.309, tv: 0.152, ptv: 0.152, flow: 0.309: : 1510it [22:57,  1.08it/s]"
     ]
    },
    {
     "name": "stdout",
     "output_type": "stream",
     "text": [
      "Adjusting learning rate of group 0 to 1.7751e-04.\n"
     ]
    },
    {
     "name": "stderr",
     "output_type": "stream",
     "text": [
      "loss: 0.321, tv: 0.152, ptv: 0.152, flow: 0.321: : 1527it [23:13,  1.08it/s]"
     ]
    },
    {
     "name": "stdout",
     "output_type": "stream",
     "text": [
      "Adjusting learning rate of group 0 to 1.7749e-04.\n"
     ]
    },
    {
     "name": "stderr",
     "output_type": "stream",
     "text": [
      "loss: 0.321, tv: 0.152, ptv: 0.152, flow: 0.321: : 1544it [23:29,  1.06it/s]"
     ]
    },
    {
     "name": "stdout",
     "output_type": "stream",
     "text": [
      "Adjusting learning rate of group 0 to 1.7747e-04.\n"
     ]
    },
    {
     "name": "stderr",
     "output_type": "stream",
     "text": [
      "loss: 0.323, tv: 0.152, ptv: 0.152, flow: 0.323: : 1560it [23:44,  1.05it/s]"
     ]
    },
    {
     "name": "stdout",
     "output_type": "stream",
     "text": [
      "Adjusting learning rate of group 0 to 1.7745e-04.\n"
     ]
    },
    {
     "name": "stderr",
     "output_type": "stream",
     "text": [
      "loss: 0.319, tv: 0.152, ptv: 0.152, flow: 0.319: : 1577it [23:59,  1.10it/s]"
     ]
    },
    {
     "name": "stdout",
     "output_type": "stream",
     "text": [
      "Adjusting learning rate of group 0 to 1.7743e-04.\n"
     ]
    },
    {
     "name": "stderr",
     "output_type": "stream",
     "text": [
      "loss: 0.315, tv: 0.152, ptv: 0.152, flow: 0.315: : 1596it [24:16,  1.10it/s]"
     ]
    },
    {
     "name": "stdout",
     "output_type": "stream",
     "text": [
      "Adjusting learning rate of group 0 to 1.7741e-04.\n"
     ]
    },
    {
     "name": "stderr",
     "output_type": "stream",
     "text": [
      "loss: 0.325, tv: 0.152, ptv: 0.152, flow: 0.325: : 1613it [24:31,  1.06it/s]"
     ]
    },
    {
     "name": "stdout",
     "output_type": "stream",
     "text": [
      "Adjusting learning rate of group 0 to 1.7739e-04.\n"
     ]
    },
    {
     "name": "stderr",
     "output_type": "stream",
     "text": [
      "loss: 0.318, tv: 0.152, ptv: 0.152, flow: 0.318: : 1631it [24:48,  1.07it/s]"
     ]
    },
    {
     "name": "stdout",
     "output_type": "stream",
     "text": [
      "Adjusting learning rate of group 0 to 1.7737e-04.\n"
     ]
    },
    {
     "name": "stderr",
     "output_type": "stream",
     "text": [
      "loss: 0.327, tv: 0.152, ptv: 0.152, flow: 0.327: : 1648it [25:03,  1.07it/s]"
     ]
    },
    {
     "name": "stdout",
     "output_type": "stream",
     "text": [
      "Adjusting learning rate of group 0 to 1.7735e-04.\n"
     ]
    },
    {
     "name": "stderr",
     "output_type": "stream",
     "text": [
      "loss: 0.320, tv: 0.152, ptv: 0.152, flow: 0.320: : 1665it [25:19,  1.06it/s]"
     ]
    },
    {
     "name": "stdout",
     "output_type": "stream",
     "text": [
      "Adjusting learning rate of group 0 to 1.7733e-04.\n"
     ]
    },
    {
     "name": "stderr",
     "output_type": "stream",
     "text": [
      "loss: 0.323, tv: 0.152, ptv: 0.152, flow: 0.323: : 1681it [25:34,  1.05it/s]"
     ]
    },
    {
     "name": "stdout",
     "output_type": "stream",
     "text": [
      "Adjusting learning rate of group 0 to 1.7731e-04.\n"
     ]
    },
    {
     "name": "stderr",
     "output_type": "stream",
     "text": [
      "loss: 0.319, tv: 0.152, ptv: 0.152, flow: 0.319: : 1698it [25:49,  1.12it/s]"
     ]
    },
    {
     "name": "stdout",
     "output_type": "stream",
     "text": [
      "Adjusting learning rate of group 0 to 1.7729e-04.\n"
     ]
    },
    {
     "name": "stderr",
     "output_type": "stream",
     "text": [
      "loss: 0.322, tv: 0.152, ptv: 0.152, flow: 0.322: : 1715it [26:05,  1.09it/s]"
     ]
    },
    {
     "name": "stdout",
     "output_type": "stream",
     "text": [
      "Adjusting learning rate of group 0 to 1.7727e-04.\n"
     ]
    },
    {
     "name": "stderr",
     "output_type": "stream",
     "text": [
      "loss: 0.322, tv: 0.152, ptv: 0.152, flow: 0.322: : 1732it [26:21,  1.09it/s]"
     ]
    },
    {
     "name": "stdout",
     "output_type": "stream",
     "text": [
      "Adjusting learning rate of group 0 to 1.7725e-04.\n"
     ]
    },
    {
     "name": "stderr",
     "output_type": "stream",
     "text": [
      "loss: 0.324, tv: 0.152, ptv: 0.152, flow: 0.324: : 1748it [26:36,  1.06it/s]"
     ]
    },
    {
     "name": "stdout",
     "output_type": "stream",
     "text": [
      "Adjusting learning rate of group 0 to 1.7723e-04.\n"
     ]
    },
    {
     "name": "stderr",
     "output_type": "stream",
     "text": [
      "loss: 0.325, tv: 0.152, ptv: 0.152, flow: 0.325: : 1768it [26:53,  1.07it/s]"
     ]
    },
    {
     "name": "stdout",
     "output_type": "stream",
     "text": [
      "Adjusting learning rate of group 0 to 1.7721e-04.\n"
     ]
    },
    {
     "name": "stderr",
     "output_type": "stream",
     "text": [
      "loss: 0.316, tv: 0.152, ptv: 0.152, flow: 0.316: : 1785it [27:09,  1.08it/s]"
     ]
    },
    {
     "name": "stdout",
     "output_type": "stream",
     "text": [
      "Adjusting learning rate of group 0 to 1.7719e-04.\n"
     ]
    },
    {
     "name": "stderr",
     "output_type": "stream",
     "text": [
      "loss: 0.320, tv: 0.152, ptv: 0.152, flow: 0.320: : 1801it [27:24,  1.05it/s]"
     ]
    },
    {
     "name": "stdout",
     "output_type": "stream",
     "text": [
      "Adjusting learning rate of group 0 to 1.7717e-04.\n"
     ]
    },
    {
     "name": "stderr",
     "output_type": "stream",
     "text": [
      "loss: 0.321, tv: 0.152, ptv: 0.152, flow: 0.321: : 1819it [27:39,  1.28it/s]"
     ]
    },
    {
     "name": "stdout",
     "output_type": "stream",
     "text": [
      "Adjusting learning rate of group 0 to 1.7715e-04.\n"
     ]
    },
    {
     "name": "stderr",
     "output_type": "stream",
     "text": [
      "loss: 0.322, tv: 0.152, ptv: 0.152, flow: 0.322: : 1836it [27:55,  1.06it/s]"
     ]
    },
    {
     "name": "stdout",
     "output_type": "stream",
     "text": [
      "Adjusting learning rate of group 0 to 1.7713e-04.\n"
     ]
    },
    {
     "name": "stderr",
     "output_type": "stream",
     "text": [
      "loss: 0.322, tv: 0.152, ptv: 0.152, flow: 0.322: : 1852it [28:10,  1.05it/s]"
     ]
    },
    {
     "name": "stdout",
     "output_type": "stream",
     "text": [
      "Adjusting learning rate of group 0 to 1.7711e-04.\n"
     ]
    },
    {
     "name": "stderr",
     "output_type": "stream",
     "text": [
      "loss: 0.327, tv: 0.152, ptv: 0.152, flow: 0.327: : 1869it [28:25,  1.24it/s]"
     ]
    },
    {
     "name": "stdout",
     "output_type": "stream",
     "text": [
      "Adjusting learning rate of group 0 to 1.7709e-04.\n"
     ]
    },
    {
     "name": "stderr",
     "output_type": "stream",
     "text": [
      "loss: 0.324, tv: 0.152, ptv: 0.152, flow: 0.324: : 1889it [28:42,  1.28it/s]"
     ]
    },
    {
     "name": "stdout",
     "output_type": "stream",
     "text": [
      "Adjusting learning rate of group 0 to 1.7707e-04.\n"
     ]
    },
    {
     "name": "stderr",
     "output_type": "stream",
     "text": [
      "loss: 0.323, tv: 0.152, ptv: 0.152, flow: 0.323: : 1905it [28:57,  1.06it/s]"
     ]
    },
    {
     "name": "stdout",
     "output_type": "stream",
     "text": [
      "Adjusting learning rate of group 0 to 1.7705e-04.\n"
     ]
    },
    {
     "name": "stderr",
     "output_type": "stream",
     "text": [
      "loss: 0.323, tv: 0.152, ptv: 0.152, flow: 0.323: : 1923it [29:13,  1.16it/s]"
     ]
    },
    {
     "name": "stdout",
     "output_type": "stream",
     "text": [
      "Adjusting learning rate of group 0 to 1.7703e-04.\n"
     ]
    },
    {
     "name": "stderr",
     "output_type": "stream",
     "text": [
      "loss: 0.329, tv: 0.152, ptv: 0.152, flow: 0.329: : 1939it [29:28,  1.05it/s]"
     ]
    },
    {
     "name": "stdout",
     "output_type": "stream",
     "text": [
      "Adjusting learning rate of group 0 to 1.7701e-04.\n"
     ]
    },
    {
     "name": "stderr",
     "output_type": "stream",
     "text": [
      "loss: 0.322, tv: 0.152, ptv: 0.152, flow: 0.322: : 1957it [29:45,  1.09it/s]"
     ]
    },
    {
     "name": "stdout",
     "output_type": "stream",
     "text": [
      "Adjusting learning rate of group 0 to 1.7699e-04.\n"
     ]
    },
    {
     "name": "stderr",
     "output_type": "stream",
     "text": [
      "loss: 0.321, tv: 0.152, ptv: 0.152, flow: 0.321: : 1975it [30:01,  1.09it/s]"
     ]
    },
    {
     "name": "stdout",
     "output_type": "stream",
     "text": [
      "Adjusting learning rate of group 0 to 1.7697e-04.\n"
     ]
    },
    {
     "name": "stderr",
     "output_type": "stream",
     "text": [
      "loss: 0.323, tv: 0.152, ptv: 0.152, flow: 0.323: : 1994it [30:17,  1.31it/s]"
     ]
    },
    {
     "name": "stdout",
     "output_type": "stream",
     "text": [
      "Adjusting learning rate of group 0 to 1.7695e-04.\n"
     ]
    },
    {
     "name": "stderr",
     "output_type": "stream",
     "text": [
      "loss: 0.320, tv: 0.152, ptv: 0.152, flow: 0.320: : 2011it [30:33,  1.06it/s]"
     ]
    },
    {
     "name": "stdout",
     "output_type": "stream",
     "text": [
      "Adjusting learning rate of group 0 to 1.7693e-04.\n"
     ]
    },
    {
     "name": "stderr",
     "output_type": "stream",
     "text": [
      "loss: 0.331, tv: 0.152, ptv: 0.152, flow: 0.331: : 2027it [30:48,  1.05it/s]"
     ]
    },
    {
     "name": "stdout",
     "output_type": "stream",
     "text": [
      "Adjusting learning rate of group 0 to 1.7691e-04.\n"
     ]
    },
    {
     "name": "stderr",
     "output_type": "stream",
     "text": [
      "loss: 0.335, tv: 0.152, ptv: 0.152, flow: 0.335: : 2044it [31:04,  1.06it/s]"
     ]
    },
    {
     "name": "stdout",
     "output_type": "stream",
     "text": [
      "Adjusting learning rate of group 0 to 1.7689e-04.\n"
     ]
    },
    {
     "name": "stderr",
     "output_type": "stream",
     "text": [
      "loss: 0.321, tv: 0.152, ptv: 0.152, flow: 0.321: : 2060it [31:19,  1.06it/s]"
     ]
    },
    {
     "name": "stdout",
     "output_type": "stream",
     "text": [
      "Adjusting learning rate of group 0 to 1.7687e-04.\n"
     ]
    },
    {
     "name": "stderr",
     "output_type": "stream",
     "text": [
      "loss: 0.327, tv: 0.152, ptv: 0.152, flow: 0.327: : 2077it [31:35,  1.05it/s]"
     ]
    },
    {
     "name": "stdout",
     "output_type": "stream",
     "text": [
      "Adjusting learning rate of group 0 to 1.7685e-04.\n"
     ]
    },
    {
     "name": "stderr",
     "output_type": "stream",
     "text": [
      "loss: 0.317, tv: 0.152, ptv: 0.152, flow: 0.317: : 2094it [31:51,  1.06it/s]"
     ]
    },
    {
     "name": "stdout",
     "output_type": "stream",
     "text": [
      "Adjusting learning rate of group 0 to 1.7683e-04.\n"
     ]
    },
    {
     "name": "stderr",
     "output_type": "stream",
     "text": [
      "loss: 0.313, tv: 0.152, ptv: 0.152, flow: 0.313: : 2110it [32:06,  1.06it/s]"
     ]
    },
    {
     "name": "stdout",
     "output_type": "stream",
     "text": [
      "Adjusting learning rate of group 0 to 1.7681e-04.\n"
     ]
    },
    {
     "name": "stderr",
     "output_type": "stream",
     "text": [
      "loss: 0.322, tv: 0.152, ptv: 0.152, flow: 0.322: : 2127it [32:21,  1.09it/s]"
     ]
    },
    {
     "name": "stdout",
     "output_type": "stream",
     "text": [
      "Adjusting learning rate of group 0 to 1.7679e-04.\n"
     ]
    },
    {
     "name": "stderr",
     "output_type": "stream",
     "text": [
      "loss: 0.316, tv: 0.152, ptv: 0.152, flow: 0.316: : 2136it [32:31,  1.09it/s]\n"
     ]
    },
    {
     "ename": "KeyboardInterrupt",
     "evalue": "",
     "output_type": "error",
     "traceback": [
      "\u001b[0;31m---------------------------------------------------------------------------\u001b[0m",
      "\u001b[0;31mKeyboardInterrupt\u001b[0m                         Traceback (most recent call last)",
      "Cell \u001b[0;32mIn[54], line 13\u001b[0m\n\u001b[1;32m     11\u001b[0m model\u001b[38;5;241m.\u001b[39mtrain()\n\u001b[1;32m     12\u001b[0m losses \u001b[38;5;241m=\u001b[39m {\u001b[38;5;124m'\u001b[39m\u001b[38;5;124mloss\u001b[39m\u001b[38;5;124m'\u001b[39m: [], \u001b[38;5;124m'\u001b[39m\u001b[38;5;124mcontrol\u001b[39m\u001b[38;5;124m'\u001b[39m: [], \u001b[38;5;124m'\u001b[39m\u001b[38;5;124mpert\u001b[39m\u001b[38;5;124m'\u001b[39m: [], \u001b[38;5;124m'\u001b[39m\u001b[38;5;124mflow\u001b[39m\u001b[38;5;124m'\u001b[39m: []}\n\u001b[0;32m---> 13\u001b[0m \u001b[38;5;28;01mfor\u001b[39;00m (bcontrol, bpert, bpert_index) \u001b[38;5;129;01min\u001b[39;00m (pbar \u001b[38;5;241m:=\u001b[39m tqdm(\u001b[38;5;28miter\u001b[39m(dl))):\n\u001b[1;32m     14\u001b[0m     bcontrol, bpert, bpert_index \u001b[38;5;241m=\u001b[39m bcontrol\u001b[38;5;241m.\u001b[39msqueeze(), bpert\u001b[38;5;241m.\u001b[39msqueeze(), bpert_index\u001b[38;5;241m.\u001b[39mreshape(\u001b[38;5;241m-\u001b[39m\u001b[38;5;241m1\u001b[39m, \u001b[38;5;241m1\u001b[39m)\u001b[38;5;66;03m# , # bpert_expr.squeeze()\u001b[39;00m\n\u001b[1;32m     15\u001b[0m     curr_batch_size \u001b[38;5;241m=\u001b[39m bcontrol\u001b[38;5;241m.\u001b[39mshape[\u001b[38;5;241m0\u001b[39m]\n",
      "File \u001b[0;32m/om2/user/njwfish/anaconda/envs/dsbm/lib/python3.10/site-packages/tqdm/std.py:1182\u001b[0m, in \u001b[0;36mtqdm.__iter__\u001b[0;34m(self)\u001b[0m\n\u001b[1;32m   1179\u001b[0m time \u001b[38;5;241m=\u001b[39m \u001b[38;5;28mself\u001b[39m\u001b[38;5;241m.\u001b[39m_time\n\u001b[1;32m   1181\u001b[0m \u001b[38;5;28;01mtry\u001b[39;00m:\n\u001b[0;32m-> 1182\u001b[0m     \u001b[38;5;28;01mfor\u001b[39;00m obj \u001b[38;5;129;01min\u001b[39;00m iterable:\n\u001b[1;32m   1183\u001b[0m         \u001b[38;5;28;01myield\u001b[39;00m obj\n\u001b[1;32m   1184\u001b[0m         \u001b[38;5;66;03m# Update and possibly print the progressbar.\u001b[39;00m\n\u001b[1;32m   1185\u001b[0m         \u001b[38;5;66;03m# Note: does not call self.update(1) for speed optimisation.\u001b[39;00m\n",
      "File \u001b[0;32m/om2/user/njwfish/anaconda/envs/dsbm/lib/python3.10/site-packages/torch/utils/data/dataloader.py:630\u001b[0m, in \u001b[0;36m_BaseDataLoaderIter.__next__\u001b[0;34m(self)\u001b[0m\n\u001b[1;32m    627\u001b[0m \u001b[38;5;28;01mif\u001b[39;00m \u001b[38;5;28mself\u001b[39m\u001b[38;5;241m.\u001b[39m_sampler_iter \u001b[38;5;129;01mis\u001b[39;00m \u001b[38;5;28;01mNone\u001b[39;00m:\n\u001b[1;32m    628\u001b[0m     \u001b[38;5;66;03m# TODO(https://github.com/pytorch/pytorch/issues/76750)\u001b[39;00m\n\u001b[1;32m    629\u001b[0m     \u001b[38;5;28mself\u001b[39m\u001b[38;5;241m.\u001b[39m_reset()  \u001b[38;5;66;03m# type: ignore[call-arg]\u001b[39;00m\n\u001b[0;32m--> 630\u001b[0m data \u001b[38;5;241m=\u001b[39m \u001b[38;5;28;43mself\u001b[39;49m\u001b[38;5;241;43m.\u001b[39;49m\u001b[43m_next_data\u001b[49m\u001b[43m(\u001b[49m\u001b[43m)\u001b[49m\n\u001b[1;32m    631\u001b[0m \u001b[38;5;28mself\u001b[39m\u001b[38;5;241m.\u001b[39m_num_yielded \u001b[38;5;241m+\u001b[39m\u001b[38;5;241m=\u001b[39m \u001b[38;5;241m1\u001b[39m\n\u001b[1;32m    632\u001b[0m \u001b[38;5;28;01mif\u001b[39;00m \u001b[38;5;28mself\u001b[39m\u001b[38;5;241m.\u001b[39m_dataset_kind \u001b[38;5;241m==\u001b[39m _DatasetKind\u001b[38;5;241m.\u001b[39mIterable \u001b[38;5;129;01mand\u001b[39;00m \\\n\u001b[1;32m    633\u001b[0m         \u001b[38;5;28mself\u001b[39m\u001b[38;5;241m.\u001b[39m_IterableDataset_len_called \u001b[38;5;129;01mis\u001b[39;00m \u001b[38;5;129;01mnot\u001b[39;00m \u001b[38;5;28;01mNone\u001b[39;00m \u001b[38;5;129;01mand\u001b[39;00m \\\n\u001b[1;32m    634\u001b[0m         \u001b[38;5;28mself\u001b[39m\u001b[38;5;241m.\u001b[39m_num_yielded \u001b[38;5;241m>\u001b[39m \u001b[38;5;28mself\u001b[39m\u001b[38;5;241m.\u001b[39m_IterableDataset_len_called:\n",
      "File \u001b[0;32m/om2/user/njwfish/anaconda/envs/dsbm/lib/python3.10/site-packages/torch/utils/data/dataloader.py:674\u001b[0m, in \u001b[0;36m_SingleProcessDataLoaderIter._next_data\u001b[0;34m(self)\u001b[0m\n\u001b[1;32m    672\u001b[0m \u001b[38;5;28;01mdef\u001b[39;00m \u001b[38;5;21m_next_data\u001b[39m(\u001b[38;5;28mself\u001b[39m):\n\u001b[1;32m    673\u001b[0m     index \u001b[38;5;241m=\u001b[39m \u001b[38;5;28mself\u001b[39m\u001b[38;5;241m.\u001b[39m_next_index()  \u001b[38;5;66;03m# may raise StopIteration\u001b[39;00m\n\u001b[0;32m--> 674\u001b[0m     data \u001b[38;5;241m=\u001b[39m \u001b[38;5;28;43mself\u001b[39;49m\u001b[38;5;241;43m.\u001b[39;49m\u001b[43m_dataset_fetcher\u001b[49m\u001b[38;5;241;43m.\u001b[39;49m\u001b[43mfetch\u001b[49m\u001b[43m(\u001b[49m\u001b[43mindex\u001b[49m\u001b[43m)\u001b[49m  \u001b[38;5;66;03m# may raise StopIteration\u001b[39;00m\n\u001b[1;32m    675\u001b[0m     \u001b[38;5;28;01mif\u001b[39;00m \u001b[38;5;28mself\u001b[39m\u001b[38;5;241m.\u001b[39m_pin_memory:\n\u001b[1;32m    676\u001b[0m         data \u001b[38;5;241m=\u001b[39m _utils\u001b[38;5;241m.\u001b[39mpin_memory\u001b[38;5;241m.\u001b[39mpin_memory(data, \u001b[38;5;28mself\u001b[39m\u001b[38;5;241m.\u001b[39m_pin_memory_device)\n",
      "File \u001b[0;32m/om2/user/njwfish/anaconda/envs/dsbm/lib/python3.10/site-packages/torch/utils/data/_utils/fetch.py:54\u001b[0m, in \u001b[0;36m_MapDatasetFetcher.fetch\u001b[0;34m(self, possibly_batched_index)\u001b[0m\n\u001b[1;32m     52\u001b[0m \u001b[38;5;28;01melse\u001b[39;00m:\n\u001b[1;32m     53\u001b[0m     data \u001b[38;5;241m=\u001b[39m \u001b[38;5;28mself\u001b[39m\u001b[38;5;241m.\u001b[39mdataset[possibly_batched_index]\n\u001b[0;32m---> 54\u001b[0m \u001b[38;5;28;01mreturn\u001b[39;00m \u001b[38;5;28;43mself\u001b[39;49m\u001b[38;5;241;43m.\u001b[39;49m\u001b[43mcollate_fn\u001b[49m\u001b[43m(\u001b[49m\u001b[43mdata\u001b[49m\u001b[43m)\u001b[49m\n",
      "File \u001b[0;32m/orcd/archive/abugoot/001/Projects/njwfish/sandbox/cfm/datamodules.py:208\u001b[0m, in \u001b[0;36mot_collate\u001b[0;34m(batch, return_noise, ot_sampler)\u001b[0m\n\u001b[1;32m    205\u001b[0m batch \u001b[38;5;241m=\u001b[39m [torch\u001b[38;5;241m.\u001b[39mtensor(np\u001b[38;5;241m.\u001b[39marray(x)) \u001b[38;5;28;01mfor\u001b[39;00m x \u001b[38;5;129;01min\u001b[39;00m batch]\n\u001b[1;32m    206\u001b[0m control, target \u001b[38;5;241m=\u001b[39m batch[:\u001b[38;5;241m2\u001b[39m]\n\u001b[0;32m--> 208\u001b[0m x0, x1 \u001b[38;5;241m=\u001b[39m \u001b[43mot_sampler\u001b[49m\u001b[38;5;241;43m.\u001b[39;49m\u001b[43msample_plan\u001b[49m\u001b[43m(\u001b[49m\u001b[43mcontrol\u001b[49m\u001b[43m,\u001b[49m\u001b[43m \u001b[49m\u001b[43mtarget\u001b[49m\u001b[43m)\u001b[49m\n\u001b[1;32m    210\u001b[0m \u001b[38;5;28;01mreturn\u001b[39;00m x0, x1, \u001b[38;5;241m*\u001b[39mbatch[\u001b[38;5;241m2\u001b[39m:]\n",
      "File \u001b[0;32m/om2/user/njwfish/anaconda/envs/dsbm/lib/python3.10/site-packages/torchcfm/optimal_transport.py:140\u001b[0m, in \u001b[0;36mOTPlanSampler.sample_plan\u001b[0;34m(self, x0, x1, replace)\u001b[0m\n\u001b[1;32m    120\u001b[0m \u001b[38;5;28;01mdef\u001b[39;00m \u001b[38;5;21msample_plan\u001b[39m(\u001b[38;5;28mself\u001b[39m, x0, x1, replace\u001b[38;5;241m=\u001b[39m\u001b[38;5;28;01mTrue\u001b[39;00m):\n\u001b[1;32m    121\u001b[0m \u001b[38;5;250m    \u001b[39m\u001b[38;5;124mr\u001b[39m\u001b[38;5;124;03m\"\"\"Compute the OT plan $\\pi$ (wrt squared Euclidean cost) between a source and a target\u001b[39;00m\n\u001b[1;32m    122\u001b[0m \u001b[38;5;124;03m    minibatch and draw source and target samples from pi $(x,z) \\sim \\pi$\u001b[39;00m\n\u001b[1;32m    123\u001b[0m \n\u001b[0;32m   (...)\u001b[0m\n\u001b[1;32m    138\u001b[0m \u001b[38;5;124;03m        represents the source minibatch drawn from $\\pi$\u001b[39;00m\n\u001b[1;32m    139\u001b[0m \u001b[38;5;124;03m    \"\"\"\u001b[39;00m\n\u001b[0;32m--> 140\u001b[0m     pi \u001b[38;5;241m=\u001b[39m \u001b[38;5;28;43mself\u001b[39;49m\u001b[38;5;241;43m.\u001b[39;49m\u001b[43mget_map\u001b[49m\u001b[43m(\u001b[49m\u001b[43mx0\u001b[49m\u001b[43m,\u001b[49m\u001b[43m \u001b[49m\u001b[43mx1\u001b[49m\u001b[43m)\u001b[49m\n\u001b[1;32m    141\u001b[0m     i, j \u001b[38;5;241m=\u001b[39m \u001b[38;5;28mself\u001b[39m\u001b[38;5;241m.\u001b[39msample_map(pi, x0\u001b[38;5;241m.\u001b[39mshape[\u001b[38;5;241m0\u001b[39m], replace\u001b[38;5;241m=\u001b[39mreplace)\n\u001b[1;32m    142\u001b[0m     \u001b[38;5;28;01mreturn\u001b[39;00m x0[i], x1[j]\n",
      "File \u001b[0;32m/om2/user/njwfish/anaconda/envs/dsbm/lib/python3.10/site-packages/torchcfm/optimal_transport.py:81\u001b[0m, in \u001b[0;36mOTPlanSampler.get_map\u001b[0;34m(self, x0, x1)\u001b[0m\n\u001b[1;32m     79\u001b[0m     x1 \u001b[38;5;241m=\u001b[39m x1\u001b[38;5;241m.\u001b[39mreshape(x1\u001b[38;5;241m.\u001b[39mshape[\u001b[38;5;241m0\u001b[39m], \u001b[38;5;241m-\u001b[39m\u001b[38;5;241m1\u001b[39m)\n\u001b[1;32m     80\u001b[0m x1 \u001b[38;5;241m=\u001b[39m x1\u001b[38;5;241m.\u001b[39mreshape(x1\u001b[38;5;241m.\u001b[39mshape[\u001b[38;5;241m0\u001b[39m], \u001b[38;5;241m-\u001b[39m\u001b[38;5;241m1\u001b[39m)\n\u001b[0;32m---> 81\u001b[0m M \u001b[38;5;241m=\u001b[39m \u001b[43mtorch\u001b[49m\u001b[38;5;241;43m.\u001b[39;49m\u001b[43mcdist\u001b[49m\u001b[43m(\u001b[49m\u001b[43mx0\u001b[49m\u001b[43m,\u001b[49m\u001b[43m \u001b[49m\u001b[43mx1\u001b[49m\u001b[43m)\u001b[49m \u001b[38;5;241m*\u001b[39m\u001b[38;5;241m*\u001b[39m \u001b[38;5;241m2\u001b[39m\n\u001b[1;32m     82\u001b[0m \u001b[38;5;28;01mif\u001b[39;00m \u001b[38;5;28mself\u001b[39m\u001b[38;5;241m.\u001b[39mnormalize_cost:\n\u001b[1;32m     83\u001b[0m     M \u001b[38;5;241m=\u001b[39m M \u001b[38;5;241m/\u001b[39m M\u001b[38;5;241m.\u001b[39mmax()  \u001b[38;5;66;03m# should not be normalized when using minibatches\u001b[39;00m\n",
      "File \u001b[0;32m/om2/user/njwfish/anaconda/envs/dsbm/lib/python3.10/site-packages/torch/functional.py:1315\u001b[0m, in \u001b[0;36mcdist\u001b[0;34m(x1, x2, p, compute_mode)\u001b[0m\n\u001b[1;32m   1312\u001b[0m     \u001b[38;5;28;01mreturn\u001b[39;00m handle_torch_function(\n\u001b[1;32m   1313\u001b[0m         cdist, (x1, x2), x1, x2, p\u001b[38;5;241m=\u001b[39mp, compute_mode\u001b[38;5;241m=\u001b[39mcompute_mode)\n\u001b[1;32m   1314\u001b[0m \u001b[38;5;28;01mif\u001b[39;00m compute_mode \u001b[38;5;241m==\u001b[39m \u001b[38;5;124m'\u001b[39m\u001b[38;5;124muse_mm_for_euclid_dist_if_necessary\u001b[39m\u001b[38;5;124m'\u001b[39m:\n\u001b[0;32m-> 1315\u001b[0m     \u001b[38;5;28;01mreturn\u001b[39;00m \u001b[43m_VF\u001b[49m\u001b[38;5;241;43m.\u001b[39;49m\u001b[43mcdist\u001b[49m\u001b[43m(\u001b[49m\u001b[43mx1\u001b[49m\u001b[43m,\u001b[49m\u001b[43m \u001b[49m\u001b[43mx2\u001b[49m\u001b[43m,\u001b[49m\u001b[43m \u001b[49m\u001b[43mp\u001b[49m\u001b[43m,\u001b[49m\u001b[43m \u001b[49m\u001b[38;5;28;43;01mNone\u001b[39;49;00m\u001b[43m)\u001b[49m  \u001b[38;5;66;03m# type: ignore[attr-defined]\u001b[39;00m\n\u001b[1;32m   1316\u001b[0m \u001b[38;5;28;01melif\u001b[39;00m compute_mode \u001b[38;5;241m==\u001b[39m \u001b[38;5;124m'\u001b[39m\u001b[38;5;124muse_mm_for_euclid_dist\u001b[39m\u001b[38;5;124m'\u001b[39m:\n\u001b[1;32m   1317\u001b[0m     \u001b[38;5;28;01mreturn\u001b[39;00m _VF\u001b[38;5;241m.\u001b[39mcdist(x1, x2, p, \u001b[38;5;241m1\u001b[39m)  \u001b[38;5;66;03m# type: ignore[attr-defined]\u001b[39;00m\n",
      "\u001b[0;31mKeyboardInterrupt\u001b[0m: "
     ]
    }
   ],
   "source": [
    "use_sparsity_loss = False\n",
    "use_mask_task = True\n",
    "use_active_weights = False\n",
    "lr_step = 32\n",
    "minibatch_size = 256\n",
    "\n",
    "step_count = 0\n",
    "flow_optim.zero_grad()\n",
    "pert_task = 0\n",
    "for e in range(20):\n",
    "    model.train()\n",
    "    losses = {'loss': [], 'control': [], 'pert': [], 'flow': []}\n",
    "    for (bcontrol, bpert, bpert_index) in (pbar := tqdm(iter(dl))):\n",
    "        bcontrol, bpert, bpert_index = bcontrol.squeeze(), bpert.squeeze(), bpert_index.reshape(-1, 1)# , # bpert_expr.squeeze()\n",
    "        curr_batch_size = bcontrol.shape[0]\n",
    "        for i in range(curr_batch_size // minibatch_size):\n",
    "            ctrl = bcontrol[(i * minibatch_size):((i + 1) * minibatch_size)]\n",
    "            if ctrl.shape[0] == 0:\n",
    "                continue\n",
    "            pert = bpert[(i * minibatch_size):((i + 1) * minibatch_size)]\n",
    "            pert_index = bpert_index[(i * minibatch_size):((i + 1) * minibatch_size)]\n",
    "            pert_index = pert_index.squeeze()\n",
    "            \n",
    "            ctrl = ctrl.float().to(device)\n",
    "            pert = pert.float().to(device)\n",
    "            \n",
    "            idx = torch.arange(ctrl.shape[1]).to(device)\n",
    "            \n",
    "            step_count += 1\n",
    "            \n",
    "            ctrl_emb = model(ctrl)\n",
    "            pert_emb = model(pert)\n",
    "            \n",
    "            cond = model.gene_embedding.pos[:, pert_index][0]\n",
    "            flow_loss = model.flow_loss(ctrl_emb, pert_emb, cond)\n",
    "            \n",
    "            loss = flow_loss \n",
    "            loss.backward()\n",
    "            flow_optim.step()\n",
    "            flow_optim.zero_grad()\n",
    "            # with torch.no_grad():\n",
    "            #     ctrl_recon_sparse = model.sparsify(ctrl_recon, ctrl_bin_recon)\n",
    "            #     ctrl_recon_loss = torch.mean((ctrl_recon_sparse - ctrl)**2)\n",
    "            #     pert_recon_sparse = model.sparsify(pert_recon, pert_bin_recon)\n",
    "            #     pert_recon_loss = torch.mean((pert_recon_sparse - pert)**2)\n",
    "            losses['loss'].append(loss.item())\n",
    "            losses['control'].append(ctrl_recon_loss.item())\n",
    "            losses['pert'].append(pert_recon_loss.item())\n",
    "            losses['flow'].append(flow_loss.item())\n",
    "            if step_count % lr_step == 0:\n",
    "                lr_scheduler.step()\n",
    "            pbar.set_description(\n",
    "                f\"loss: {np.array(losses['loss'])[-lr_step:].mean():.3f}, tv: {np.array(losses['control'])[-lr_step:].mean():.3f}, ptv: {np.array(losses['pert'])[-lr_step:].mean():.3f}, flow: {np.array(losses['flow'])[-lr_step:].mean():.3f}\"\n",
    "            )\n",
    "    \n",
    "    avg_loss = sum(losses['control']) / len(losses['control'])\n",
    "    torch.save(model, f\"{save_dir}{e}\")\n",
    "    # writer.add_scalar('mae_loss', avg_loss, global_step=e)\n",
    "    print(f'In epoch {e}, average traning loss is {avg_loss}.')"
   ]
  },
  {
   "cell_type": "raw",
   "metadata": {},
   "source": [
    "import gc\n",
    "torch.cuda.empty_cache()\n",
    "gc.collect()"
   ]
  },
  {
   "cell_type": "code",
   "execution_count": 19,
   "metadata": {},
   "outputs": [],
   "source": [
    "import math\n",
    "import torch\n",
    "import numpy as np\n",
    "from torchdyn.core import NeuralODE\n",
    "from datamodules import torch_wrapper\n",
    "\n",
    "def compute_conditional_flow(\n",
    "    model, control, pert_ids, pert_mat, batch_size=100, num_steps=400, n_batches=1e8, true_bin=None\n",
    "):\n",
    "    node = NeuralODE(\n",
    "        torch_wrapper(model.flow).to(device), solver=\"dopri5\", sensitivity=\"adjoint\"\n",
    "    )\n",
    "    n_samples = min(control.shape[0], pert_ids.shape[0])\n",
    "    n_batches = min(math.ceil(n_samples / batch_size), n_batches)\n",
    "    preds = np.zeros((min(n_batches * batch_size, n_samples), control.shape[1]))\n",
    "    with torch.no_grad():\n",
    "        for i in range(n_batches):\n",
    "            control_batch = control[batch_size*i:min(batch_size*(i+1), n_samples)]\n",
    "            pert_batch = pert_mat[pert_ids][batch_size*i:min(batch_size*(i+1), n_samples)]# [:control_batch.shape[0]]\n",
    "            model.flow.cond = pert_batch.to(device)\n",
    "            inp = control_batch.float()\n",
    "            inp = inp.to(device)\n",
    "            \n",
    "            idx = torch.arange(control_eval.shape[1]).to(device)\n",
    "            cell_embedding = model(inp)\n",
    "            \n",
    "            outp = node.trajectory(\n",
    "                cell_embedding,\n",
    "                t_span=torch.linspace(0, 1, num_steps)\n",
    "            )\n",
    "            outp = outp[-1, :, :]\n",
    "            outp, outb = model.recon(cell_embedding, idx)\n",
    "            if true_bin:\n",
    "                outb = true_bin.to(device)\n",
    "            outp = model.sparsify(outp, outb)\n",
    "            outp = outp.cpu()\n",
    "            preds[batch_size*i:batch_size*(i+1), :] = outp.squeeze()\n",
    "            \n",
    "    return preds"
   ]
  },
  {
   "cell_type": "code",
   "execution_count": 17,
   "metadata": {},
   "outputs": [],
   "source": [
    "for cell_type, pert_type in zip(holdout_cells, holdout_perts):\n",
    "    break\n",
    "\n",
    "cell_type_names = adata.obs[cell_col]\n",
    "pert_type_names = adata.obs[pert_col]\n",
    "control_eval =  torch.tensor(X[(cell_type_names == cell_type) & (pert_type_names == gene_map['NT'])]).float()\n",
    "true_pert = torch.tensor(X[(pert_type_names == pert_type) & (cell_type_names == cell_type)]).float()"
   ]
  },
  {
   "cell_type": "code",
   "execution_count": 20,
   "metadata": {},
   "outputs": [],
   "source": [
    "pred = compute_conditional_flow(\n",
    "    model,\n",
    "    control_eval, \n",
    "    torch.tensor(np.repeat(pert_type, control_eval.shape[0])), \n",
    "    model.gene_embedding.pos[0]\n",
    ")  "
   ]
  },
  {
   "cell_type": "code",
   "execution_count": 21,
   "metadata": {},
   "outputs": [
    {
     "data": {
      "text/plain": [
       "tensor([0.0490, 0.0000, 0.0000,  ..., 0.0000, 0.0484, 0.0105])"
      ]
     },
     "execution_count": 21,
     "metadata": {},
     "output_type": "execute_result"
    }
   ],
   "source": [
    "true_pert.mean(axis=0)"
   ]
  },
  {
   "cell_type": "code",
   "execution_count": 22,
   "metadata": {},
   "outputs": [
    {
     "data": {
      "text/plain": [
       "array([0.16726097, 0.00103138, 0.00203618, ..., 0.        , 0.04829858,\n",
       "       0.10163789])"
      ]
     },
     "execution_count": 22,
     "metadata": {},
     "output_type": "execute_result"
    }
   ],
   "source": [
    "pred.mean(axis=0)"
   ]
  },
  {
   "cell_type": "code",
   "execution_count": 23,
   "metadata": {},
   "outputs": [],
   "source": [
    "from os import listdir\n",
    "from scipy.sparse import issparse\n",
    "import anndata\n",
    "import scanpy as sc\n",
    "import numpy as np\n",
    "import pandas as pd\n",
    "\n",
    "from scipy.stats import pearsonr\n",
    "\n",
    "import logging\n",
    "\n",
    "logger = logging.getLogger(__name__)\n",
    "\n",
    "def r2_mse_filename(pert, cell):\n",
    "    return f'r2_and_mse_{pert}_{cell}.json'\n",
    "\n",
    "def c_r_filename(pert, cell):\n",
    "    return f'c_r_results_{pert}_{cell}.json'\n",
    "\n",
    "def DEGs_overlap_filename(pert, cell):   \n",
    "    return f'DEGs_overlaps_{pert}_{cell}.json'\n",
    "\n",
    "\n",
    "def get_DEG_with_direction(gene, score):\n",
    "    if score > 0:\n",
    "        return(f'{gene}+')\n",
    "    else:\n",
    "        return(f'{gene}-')\n",
    "        \n",
    "def to_dense(X):\n",
    "    if issparse(X):\n",
    "        return X.toarray()\n",
    "    else:\n",
    "        return np.asarray(X)\n",
    "\n",
    "def get_DEGs(control_adata, target_adata):\n",
    "    temp_concat = anndata.concat([control_adata, target_adata], label = 'batch')\n",
    "    sc.tl.rank_genes_groups(\n",
    "        temp_concat, 'batch', method='wilcoxon', \n",
    "        groups = ['1'], ref = '0', rankby_abs = True, tie_correct=True\n",
    "    )\n",
    "\n",
    "    rankings = temp_concat.uns['rank_genes_groups']\n",
    "    result_df = pd.DataFrame({'scores': rankings['scores']['1'],\n",
    "                     'pvals_adj': rankings['pvals_adj']['1'],\n",
    "                     'lfc': rankings['logfoldchanges']['1']},\n",
    "                    index = rankings['names']['1'])\n",
    "    return result_df\n",
    "\n",
    "def get_eval(ctrl_adata, true_adata, pred_adata, DEGs, DEG_vals, pval_threshold, lfc_threshold):\n",
    "        \n",
    "    results_dict =  {}\n",
    "    \n",
    "    logger.debug(f\"Computing R, R2, and MSE metrics\")\n",
    "\n",
    "    ctrl_mean = to_dense(ctrl_adata.X).mean(axis = 0)\n",
    "\n",
    "    true_mean = to_dense(true_adata.X).mean(axis = 0)\n",
    "    true_var = to_dense(true_adata.X).var(axis = 0)\n",
    "    \n",
    "    pred_mean = to_dense(pred_adata.X).mean(axis = 0)\n",
    "    pred_var = to_dense(pred_adata.X).var(axis = 0)\n",
    "    \n",
    "    true_corr_mtx = np.corrcoef(to_dense(true_adata.X), rowvar=False).flatten()\n",
    "    true_cov_mtx = np.cov(to_dense(true_adata.X), rowvar=False).flatten()\n",
    "        \n",
    "    pred_corr_mtx = np.corrcoef(to_dense(pred_adata.X), rowvar=False).flatten()\n",
    "    pred_cov_mtx = np.cov(to_dense(pred_adata.X), rowvar=False).flatten()\n",
    "\n",
    "    true_sub_diff = true_mean - ctrl_mean\n",
    "    pred_sub_diff = pred_mean - ctrl_mean\n",
    "\n",
    "    true_diff = true_mean/ctrl_mean\n",
    "    pred_diff = pred_mean/ctrl_mean\n",
    "\n",
    "    true_diff_mask = (np.isnan(true_diff) | np.isinf(true_diff))\n",
    "    pred_diff_mask = (np.isnan(pred_diff) | np.isinf(pred_diff))\n",
    "    \n",
    "    common_mask = true_diff_mask | pred_diff_mask\n",
    "    true_fold_diff = np.ma.array(true_diff, mask=common_mask).compressed()\n",
    "    pred_fold_diff = np.ma.array(pred_diff, mask=common_mask).compressed()\n",
    "\n",
    "    results_dict['all_genes_mean_sub_diff_R'] = pearsonr(true_sub_diff, pred_sub_diff)[0]\n",
    "    results_dict['all_genes_mean_sub_diff_R2'] = pearsonr(true_sub_diff, pred_sub_diff)[0]**2\n",
    "    results_dict['all_genes_mean_sub_diff_MSE'] = (np.square(true_sub_diff - pred_sub_diff)).mean(axis=0)\n",
    "\n",
    "    results_dict['all_genes_mean_fold_diff_R'] = pearsonr(true_fold_diff, pred_fold_diff)[0]\n",
    "    results_dict['all_genes_mean_fold_diff_R2'] = pearsonr(true_fold_diff, pred_fold_diff)[0]**2\n",
    "    results_dict['all_genes_mean_fold_diff_MSE'] = (np.square(true_fold_diff - pred_fold_diff)).mean(axis=0)\n",
    "    \n",
    "    results_dict['all_genes_mean_R'] = pearsonr(true_mean, pred_mean)[0]\n",
    "    results_dict['all_genes_mean_R2'] = pearsonr(true_mean, pred_mean)[0]**2\n",
    "    results_dict['all_genes_mean_MSE'] = (np.square(true_mean - pred_mean)).mean(axis=0)\n",
    "\n",
    "    results_dict['all_genes_var_R'] = pearsonr(true_var, pred_var)[0]\n",
    "    results_dict['all_genes_var_R2'] = pearsonr(true_var, pred_var)[0]**2\n",
    "    results_dict['all_genes_var_MSE'] = (np.square(true_var - pred_var)).mean(axis=0)\n",
    "   \n",
    "    corr_nas = np.logical_or(np.isnan(true_corr_mtx), np.isnan(pred_corr_mtx))\n",
    "    cov_nas = np.logical_or(np.isnan(true_cov_mtx), np.isnan(pred_cov_mtx))\n",
    "\n",
    "    results_dict['all_genes_corr_mtx_R'] = pearsonr(true_corr_mtx[~corr_nas], pred_corr_mtx[~corr_nas])[0]\n",
    "    results_dict['all_genes_corr_mtx_R2'] = pearsonr(true_corr_mtx[~corr_nas], pred_corr_mtx[~corr_nas])[0]**2\n",
    "    results_dict['all_genes_corr_mtx_MSE'] = (np.square(true_corr_mtx[~corr_nas] - pred_corr_mtx[~corr_nas])).mean(axis=0)\n",
    "\n",
    "    results_dict['all_genes_cov_mtx_R'] = pearsonr(true_cov_mtx[~cov_nas], pred_cov_mtx[~cov_nas])[0]\n",
    "    results_dict['all_genes_cov_mtx_R2'] = pearsonr(true_cov_mtx[~cov_nas], pred_cov_mtx[~cov_nas])[0]**2\n",
    "    results_dict['all_genes_cov_mtx_MSE'] = (np.square(true_cov_mtx[~cov_nas] - pred_cov_mtx[~cov_nas])).mean(axis=0)\n",
    "\n",
    "    if lfc_threshold:   \n",
    "        significant_DEGs = DEGs[(DEGs['pvals_adj'] < pval_threshold) & (abs(DEGs) > lfc_threshold)]\n",
    "    else:\n",
    "        significant_DEGs = DEGs[DEGs['pvals_adj'] < pval_threshold]\n",
    "    num_DEGs = len(significant_DEGs)\n",
    "    DEG_vals.insert(0, num_DEGs)\n",
    "\n",
    "\n",
    "    logger.debug(f\"Significant DEGs {significant_DEGs}\")\n",
    "    \n",
    "    for val in DEG_vals:\n",
    "\n",
    "        logger.debug(f\"Computing R, R2, and MSE metrics for top {val} DEGs\")\n",
    "\n",
    "        #If val == 1 we can't\n",
    "        if ((val > num_DEGs) or (val == 0) or (val == 1)):\n",
    "            results_dict[f'Top_{val}_DEGs_sub_diff_mean_R'] = None\n",
    "            results_dict[f'Top_{val}_DEGs_sub_diff_mean_R2'] = None\n",
    "            results_dict[f'Top_{val}_DEGs_sub_diff_mean_MSE'] = None\n",
    "            \n",
    "            results_dict[f'Top_{val}_DEGs_fold_diff_mean_R'] = None\n",
    "            results_dict[f'Top_{val}_DEGs_fold_diff_mean_R2'] = None\n",
    "            results_dict[f'Top_{val}_DEGs_fold_diff_mean_MSE'] = None\n",
    "            \n",
    "            results_dict[f'Top_{val}_DEGs_mean_R'] = None\n",
    "            results_dict[f'Top_{val}_DEGs_mean_R2'] = None\n",
    "            results_dict[f'Top_{val}_DEGs_mean_MSE'] = None\n",
    "\n",
    "            results_dict[f'Top_{val}_DEGs_var_R'] = None\n",
    "            results_dict[f'Top_{val}_DEGs_var_R2'] = None\n",
    "            results_dict[f'Top_{val}_DEGs_var_MSE'] = None\n",
    "            \n",
    "            results_dict[f'Top_{val}_DEGs_corr_mtx_R'] = None\n",
    "            results_dict[f'Top_{val}_DEGs_corr_mtx_R2'] = None\n",
    "            results_dict[f'Top_{val}_DEGs_corr_mtx_MSE'] = None\n",
    "            \n",
    "            results_dict[f'Top_{val}_DEGs_cov_mtx_R'] = None\n",
    "            results_dict[f'Top_{val}_DEGs_cov_mtx_R2'] = None\n",
    "            results_dict[f'Top_{val}_DEGs_cov_mtx_MSE'] = None\n",
    "        \n",
    "        else:\n",
    "            top_DEGs = significant_DEGs.iloc[0:val].index\n",
    "\n",
    "            logger.debug(f\"Top DEGs: {top_DEGs}\")\n",
    "\n",
    "\n",
    "            #Reshape --> If there is a single gene, the shape is (1,) and we need to reshape it to (1,1)\n",
    "\n",
    "            ctrl_mean = to_dense(ctrl_adata[:,top_DEGs].X).mean(axis = 0)\n",
    "            \n",
    "            true_mean = to_dense(true_adata[:,top_DEGs].X).mean(axis = 0)\n",
    "\n",
    "            logger.debug(f\"Shape ctrl_adata with top DEGs: {ctrl_adata[:,top_DEGs].X.shape}, shape true_adata with top DEGs: {true_adata[:,top_DEGs].X.shape}\")\n",
    "\n",
    "\n",
    "            true_var = to_dense(true_adata[:,top_DEGs].X).var(axis = 0)\n",
    "            true_corr_mtx = np.corrcoef(to_dense(true_adata[:,top_DEGs].X), rowvar=False).flatten()\n",
    "            true_cov_mtx = np.cov(to_dense(true_adata[:,top_DEGs].X), rowvar=False).flatten()\n",
    "\n",
    "            pred_mean = to_dense(pred_adata[:,top_DEGs].X).mean(axis = 0)\n",
    "            logger.debug(f\"Shape of true_mean shape: {true_mean.shape}, ctrl_mean shape: {ctrl_mean.shape}, pred_mean shape: {pred_mean.shape}\")\n",
    "\n",
    "            pred_var = to_dense(pred_adata[:,top_DEGs].X).var(axis = 0)\n",
    "            pred_corr_mtx = np.corrcoef(to_dense(pred_adata[:,top_DEGs].X), rowvar=False).flatten()\n",
    "            pred_cov_mtx = np.cov(to_dense(pred_adata[:,top_DEGs].X), rowvar=False).flatten()\n",
    "\n",
    "            logger.debug(f\"Shape of true_var shape: {true_var.shape}, pred_var shape: {pred_var.shape}\")\n",
    "\n",
    "            true_sub_diff = true_mean - ctrl_mean\n",
    "            pred_sub_diff = pred_mean - ctrl_mean\n",
    "        \n",
    "            true_diff = true_mean/ctrl_mean\n",
    "            pred_diff = pred_mean/ctrl_mean\n",
    "        \n",
    "            true_diff_mask = (np.isnan(true_diff) | np.isinf(true_diff))\n",
    "            pred_diff_mask = (np.isnan(pred_diff) | np.isinf(pred_diff))\n",
    "            \n",
    "            common_mask = true_diff_mask | pred_diff_mask\n",
    "            true_fold_diff = np.ma.array(true_diff, mask=common_mask).compressed()\n",
    "            pred_fold_diff = np.ma.array(pred_diff, mask=common_mask).compressed()\n",
    "\n",
    "            results_dict[f'Top_{val}_DEGs_sub_diff_R'] = pearsonr(true_sub_diff, pred_sub_diff)[0]\n",
    "            results_dict[f'Top_{val}_DEGs_sub_diff_R2'] = pearsonr(true_sub_diff, pred_sub_diff)[0]**2\n",
    "            results_dict[f'Top_{val}_DEGs_sub_diff_MSE'] = (np.square(true_sub_diff - pred_sub_diff)).mean(axis=0)\n",
    "        \n",
    "            results_dict[f'Top_{val}_DEGs_fold_diff_R'] = pearsonr(true_fold_diff, pred_fold_diff)[0]\n",
    "            results_dict[f'Top_{val}_DEGs_fold_diff_R2'] = pearsonr(true_fold_diff, pred_fold_diff)[0]**2\n",
    "            results_dict[f'Top_{val}_DEGs_fold_diff_MSE'] = (np.square(true_fold_diff - pred_fold_diff)).mean(axis=0)\n",
    "    \n",
    "            results_dict[f'Top_{val}_DEGs_mean_R'] = pearsonr(true_mean, pred_mean)[0]\n",
    "            results_dict[f'Top_{val}_DEGs_mean_R2'] = pearsonr(true_mean, pred_mean)[0]**2\n",
    "            results_dict[f'Top_{val}_DEGs_mean_MSE'] = (np.square(true_mean - pred_mean)).mean(axis=0)\n",
    "\n",
    "            results_dict[f'Top_{val}_DEGs_var_R'] = pearsonr(true_var, pred_var)[0]\n",
    "            results_dict[f'Top_{val}_DEGs_var_R2'] = pearsonr(true_var, pred_var)[0]**2\n",
    "            results_dict[f'Top_{val}_DEGs_var_MSE'] = (np.square(true_var - pred_var)).mean(axis=0)\n",
    "            \n",
    "            corr_nas = np.logical_or(np.isnan(true_corr_mtx), np.isnan(pred_corr_mtx))\n",
    "            cov_nas = np.logical_or(np.isnan(true_cov_mtx), np.isnan(pred_cov_mtx))\n",
    "\n",
    "            results_dict[f'Top_{val}_DEGs_corr_mtx_R'] = pearsonr(true_corr_mtx[~corr_nas], pred_corr_mtx[~corr_nas])[0]\n",
    "            results_dict[f'Top_{val}_DEGs_corr_mtx_R2'] = pearsonr(true_corr_mtx[~corr_nas], pred_corr_mtx[~corr_nas])[0]**2\n",
    "            results_dict[f'Top_{val}_DEGs_corr_mtx_MSE'] = (np.square(true_corr_mtx[~corr_nas] - pred_corr_mtx[~corr_nas])).mean(axis=0)\n",
    "\n",
    "            results_dict[f'Top_{val}_DEGs_cov_mtx_R'] = pearsonr(true_cov_mtx[~cov_nas], pred_cov_mtx[~cov_nas])[0]\n",
    "            results_dict[f'Top_{val}_DEGs_cov_mtx_R2'] = pearsonr(true_cov_mtx[~cov_nas], pred_cov_mtx[~cov_nas])[0]**2\n",
    "            results_dict[f'Top_{val}_DEGs_cov_mtx_MSE'] = (np.square(true_cov_mtx[~cov_nas] - pred_cov_mtx[~cov_nas])).mean(axis=0)\n",
    "\n",
    "    return results_dict\n",
    "\n",
    "def get_DEG_Coverage_Recall(true_DEGs, pred_DEGs, p_cutoff):\n",
    "    sig_true_DEGs = true_DEGs[true_DEGs['pvals_adj'] < p_cutoff]\n",
    "    true_DEGs_with_direction = [get_DEG_with_direction(gene,score) for gene, score in zip(sig_true_DEGs.index, sig_true_DEGs['scores'])]\n",
    "    sig_pred_DEGs = pred_DEGs[pred_DEGs['pvals_adj'] < p_cutoff]\n",
    "    pred_DEGs_with_direction = [get_DEG_with_direction(gene,score) for gene, score in zip(sig_pred_DEGs.index, sig_pred_DEGs['scores'])]\n",
    "    num_true_DEGs = len(true_DEGs_with_direction)\n",
    "    num_pred_DEGs = len(pred_DEGs_with_direction)\n",
    "    num_overlapping_DEGs = len(set(true_DEGs_with_direction).intersection(set(pred_DEGs_with_direction)))\n",
    "    if num_true_DEGs > 0: \n",
    "        COVERAGE = num_overlapping_DEGs/num_true_DEGs\n",
    "    else:\n",
    "        COVERAGE = None\n",
    "    if num_pred_DEGs > 0:\n",
    "        RECALL = num_overlapping_DEGs/num_pred_DEGs\n",
    "    else:\n",
    "        RECALL = None\n",
    "    return COVERAGE, RECALL\n",
    "\n",
    "def get_DEGs_overlaps(true_DEGs, pred_DEGs, DEG_vals, pval_threshold, lfc_threshold):\n",
    "    if lfc_threshold:\n",
    "        significant_true_DEGs = true_DEGs[(true_DEGs['pvals_adj'] < pval_threshold) & (abs(true_DEGs['lfc']) > lfc_threshold)]\n",
    "        significant_pred_DEGs = pred_DEGs[(pred_DEGs['pvals_adj'] < pval_threshold) & (abs(pred_DEGs['lfc']) > lfc_threshold)]\n",
    "    else:\n",
    "        significant_true_DEGs = true_DEGs[true_DEGs['pvals_adj'] < pval_threshold]\n",
    "        significant_pred_DEGs = pred_DEGs[pred_DEGs['pvals_adj'] < pval_threshold]\n",
    "\n",
    "    true_DEGs_for_comparison = [get_DEG_with_direction(gene,score) for gene, score in zip(significant_true_DEGs.index, significant_true_DEGs['scores'])]   \n",
    "    pred_DEGs_for_comparison = [get_DEG_with_direction(gene,score) for gene, score in zip(significant_pred_DEGs.index, significant_pred_DEGs['scores'])]\n",
    "    \n",
    "    logger.debug(f\"Computing DEG overlaps, # of significant DEGs in true data: {len(true_DEGs_for_comparison)}, # of significant DEGs in pred data: {len(pred_DEGs_for_comparison)}\")\n",
    "    num_DEGs = len(significant_true_DEGs)\n",
    "    DEG_vals.insert(0, num_DEGs)\n",
    "    \n",
    "    results = {}\n",
    "    for val in DEG_vals:\n",
    "        if val > num_DEGs:\n",
    "            results[f'Overlap_in_top_{val}_DEGs'] = None\n",
    "        else:\n",
    "            results[f'Overlap_in_top_{val}_DEGs'] = len(set(true_DEGs_for_comparison[0:val]).intersection(set(pred_DEGs_for_comparison[0:val])))\n",
    "\n",
    "    intersection = len(set(true_DEGs_for_comparison).intersection(set(pred_DEGs_for_comparison)))\n",
    "    union = len(set(true_DEGs_for_comparison).union(set(pred_DEGs_for_comparison)))\n",
    "    if union > 0:\n",
    "        results['Jaccard'] = intersection/union\n",
    "    else:\n",
    "        results['Jaccard'] = None\n",
    "    \n",
    "    return results"
   ]
  },
  {
   "cell_type": "code",
   "execution_count": 24,
   "metadata": {},
   "outputs": [],
   "source": [
    "import copy\n",
    "adata_ = copy.deepcopy(adata)\n",
    "adata_.X = X"
   ]
  },
  {
   "cell_type": "code",
   "execution_count": 25,
   "metadata": {},
   "outputs": [],
   "source": [
    "adata_ctrl = adata_[(cell_type_names == cell_type) & (pert_type_names == gene_map['NT'])].copy()\n",
    "adata_pert = adata_[(pert_type_names == pert_type) & (cell_type_names == cell_type)].copy()\n",
    "adata_pert_pred = adata_ctrl.copy()\n",
    "adata_pert_pred.X = pred"
   ]
  },
  {
   "cell_type": "code",
   "execution_count": 28,
   "metadata": {},
   "outputs": [
    {
     "name": "stderr",
     "output_type": "stream",
     "text": [
      "/om2/user/njwfish/anaconda/envs/dsbm/lib/python3.10/site-packages/scanpy/tools/_rank_genes_groups.py:322: RuntimeWarning: invalid value encountered in divide\n",
      "  scores[group_index, :] = (\n",
      "/om2/user/njwfish/anaconda/envs/dsbm/lib/python3.10/site-packages/anndata/_core/anndata.py:1818: UserWarning: Observation names are not unique. To make them unique, call `.obs_names_make_unique`.\n",
      "  utils.warn_names_duplicates(\"obs\")\n",
      "/om2/user/njwfish/anaconda/envs/dsbm/lib/python3.10/site-packages/scanpy/tools/_rank_genes_groups.py:322: RuntimeWarning: invalid value encountered in divide\n",
      "  scores[group_index, :] = (\n"
     ]
    }
   ],
   "source": [
    "degs = get_DEGs(adata_ctrl, adata_pert)\n",
    "degs_pred = get_DEGs(adata_ctrl, adata_pert_pred)\n",
    "\n",
    "pdefault=0.05\n",
    "\n",
    "significant_degs = degs[degs['pvals_adj'] < pdefault]\n",
    "significant_degs_pred = degs_pred[degs_pred['pvals_adj'] < pdefault]"
   ]
  },
  {
   "cell_type": "code",
   "execution_count": 31,
   "metadata": {},
   "outputs": [
    {
     "name": "stderr",
     "output_type": "stream",
     "text": [
      "/om2/user/njwfish/anaconda/envs/dsbm/lib/python3.10/site-packages/numpy/lib/function_base.py:2897: RuntimeWarning: invalid value encountered in divide\n",
      "  c /= stddev[:, None]\n",
      "/om2/user/njwfish/anaconda/envs/dsbm/lib/python3.10/site-packages/numpy/lib/function_base.py:2898: RuntimeWarning: invalid value encountered in divide\n",
      "  c /= stddev[None, :]\n",
      "/tmp/ipykernel_854526/2125490035.py:73: RuntimeWarning: divide by zero encountered in divide\n",
      "  true_diff = true_mean/ctrl_mean\n",
      "/tmp/ipykernel_854526/2125490035.py:73: RuntimeWarning: invalid value encountered in divide\n",
      "  true_diff = true_mean/ctrl_mean\n",
      "/tmp/ipykernel_854526/2125490035.py:74: RuntimeWarning: divide by zero encountered in divide\n",
      "  pred_diff = pred_mean/ctrl_mean\n",
      "/tmp/ipykernel_854526/2125490035.py:74: RuntimeWarning: invalid value encountered in divide\n",
      "  pred_diff = pred_mean/ctrl_mean\n"
     ]
    },
    {
     "name": "stdout",
     "output_type": "stream",
     "text": [
      "{'all_genes_mean_sub_diff_R': 0.05029209858854033, 'all_genes_mean_sub_diff_R2': 0.0025292951804394602, 'all_genes_mean_sub_diff_MSE': 0.36348496993582685, 'all_genes_mean_fold_diff_R': 0.16582671303629845, 'all_genes_mean_fold_diff_R2': 0.027498498756422875, 'all_genes_mean_fold_diff_MSE': 322.7634392561425, 'all_genes_mean_R': 0.6568438458438476, 'all_genes_mean_R2': 0.4314438378229362, 'all_genes_mean_MSE': 0.36348496993582685, 'all_genes_var_R': 0.6011030204631375, 'all_genes_var_R2': 0.36132484120990704, 'all_genes_var_MSE': 1.0966558748824586, 'all_genes_corr_mtx_R': 0.4622095705945211, 'all_genes_corr_mtx_R2': 0.21363768714917158, 'all_genes_corr_mtx_MSE': 0.0017465257027203752, 'all_genes_cov_mtx_R': 0.40612418943794526, 'all_genes_cov_mtx_R2': 0.16493685724662804, 'all_genes_cov_mtx_MSE': 0.0019094857114673165, 'Top_169_DEGs_sub_diff_R': 0.40730274960602525, 'Top_169_DEGs_sub_diff_R2': 0.1658955298366285, 'Top_169_DEGs_sub_diff_MSE': 1.0310371538274536, 'Top_169_DEGs_fold_diff_R': 0.7538742602197761, 'Top_169_DEGs_fold_diff_R2': 0.5683264002219147, 'Top_169_DEGs_fold_diff_MSE': 12.097732913614017, 'Top_169_DEGs_mean_R': 0.7031757888660759, 'Top_169_DEGs_mean_R2': 0.49445619004742813, 'Top_169_DEGs_mean_MSE': 1.0310371538274536, 'Top_169_DEGs_var_R': 0.6211348683741796, 'Top_169_DEGs_var_R2': 0.3858085247102095, 'Top_169_DEGs_var_MSE': 1.2561526828139595, 'Top_169_DEGs_corr_mtx_R': 0.7676730901435784, 'Top_169_DEGs_corr_mtx_R2': 0.5893219733305907, 'Top_169_DEGs_corr_mtx_MSE': 0.005108637105045374, 'Top_169_DEGs_cov_mtx_R': 0.6732105497283914, 'Top_169_DEGs_cov_mtx_R2': 0.45321244426560303, 'Top_169_DEGs_cov_mtx_MSE': 0.04855077667640257, 'Top_10_DEGs_sub_diff_R': 0.6992484218430987, 'Top_10_DEGs_sub_diff_R2': 0.48894835545006404, 'Top_10_DEGs_sub_diff_MSE': 1.7842125404212852, 'Top_10_DEGs_fold_diff_R': 0.5510739302335275, 'Top_10_DEGs_fold_diff_R2': 0.3036824765830267, 'Top_10_DEGs_fold_diff_MSE': 2.892582472245268, 'Top_10_DEGs_mean_R': 0.5621189852371262, 'Top_10_DEGs_mean_R2': 0.31597775356401653, 'Top_10_DEGs_mean_MSE': 1.7842125404212852, 'Top_10_DEGs_var_R': 0.39314307068247545, 'Top_10_DEGs_var_R2': 0.15456147402564588, 'Top_10_DEGs_var_MSE': 1.9805984683285014, 'Top_10_DEGs_corr_mtx_R': 0.9547929465115184, 'Top_10_DEGs_corr_mtx_R2': 0.9116295707081472, 'Top_10_DEGs_corr_mtx_MSE': 0.05437489492860716, 'Top_10_DEGs_cov_mtx_R': 0.8518846125356789, 'Top_10_DEGs_cov_mtx_R2': 0.7257073930750638, 'Top_10_DEGs_cov_mtx_MSE': 0.9121631049656201, 'Top_25_DEGs_sub_diff_R': 0.4279594968722425, 'Top_25_DEGs_sub_diff_R2': 0.18314933096314293, 'Top_25_DEGs_sub_diff_MSE': 1.300547739995496, 'Top_25_DEGs_fold_diff_R': 0.28667686750302196, 'Top_25_DEGs_fold_diff_R2': 0.08218362636134521, 'Top_25_DEGs_fold_diff_MSE': 14.940552040666562, 'Top_25_DEGs_mean_R': 0.7112899959182735, 'Top_25_DEGs_mean_R2': 0.5059334582934175, 'Top_25_DEGs_mean_MSE': 1.300547739995496, 'Top_25_DEGs_var_R': 0.5041903664039727, 'Top_25_DEGs_var_R2': 0.2542079255745723, 'Top_25_DEGs_var_MSE': 1.527315941983739, 'Top_25_DEGs_corr_mtx_R': 0.8614906052249464, 'Top_25_DEGs_corr_mtx_R2': 0.7421660628908444, 'Top_25_DEGs_corr_mtx_MSE': 0.029559770559943202, 'Top_25_DEGs_cov_mtx_R': 0.7603978746360156, 'Top_25_DEGs_cov_mtx_R2': 0.5782049277509697, 'Top_25_DEGs_cov_mtx_MSE': 0.34541530940612625, 'Top_50_DEGs_sub_diff_R': 0.5368730575605022, 'Top_50_DEGs_sub_diff_R2': 0.2882326799343623, 'Top_50_DEGs_sub_diff_MSE': 1.3830806482317168, 'Top_50_DEGs_fold_diff_R': 0.3561535657507714, 'Top_50_DEGs_fold_diff_R2': 0.12684536239698904, 'Top_50_DEGs_fold_diff_MSE': 8.229639248068736, 'Top_50_DEGs_mean_R': 0.7069391442860974, 'Top_50_DEGs_mean_R2': 0.4997629537239596, 'Top_50_DEGs_mean_MSE': 1.3830806482317168, 'Top_50_DEGs_var_R': 0.4905748860505822, 'Top_50_DEGs_var_R2': 0.2406637188235417, 'Top_50_DEGs_var_MSE': 1.6540388641832673, 'Top_50_DEGs_corr_mtx_R': 0.8415247338457175, 'Top_50_DEGs_corr_mtx_R2': 0.7081638776741056, 'Top_50_DEGs_corr_mtx_MSE': 0.01630374413979254, 'Top_50_DEGs_cov_mtx_R': 0.7376999949620783, 'Top_50_DEGs_cov_mtx_R2': 0.5442012825670504, 'Top_50_DEGs_cov_mtx_MSE': 0.1816886076373835, 'Top_100_DEGs_sub_diff_R': 0.5290948850941745, 'Top_100_DEGs_sub_diff_R2': 0.27994139743281765, 'Top_100_DEGs_sub_diff_MSE': 1.263020884476764, 'Top_100_DEGs_fold_diff_R': 0.8750708591847943, 'Top_100_DEGs_fold_diff_R2': 0.7657490085944142, 'Top_100_DEGs_fold_diff_MSE': 5.372624971792082, 'Top_100_DEGs_mean_R': 0.6971145535124207, 'Top_100_DEGs_mean_R2': 0.48596870071882164, 'Top_100_DEGs_mean_MSE': 1.263020884476764, 'Top_100_DEGs_var_R': 0.5392337471845308, 'Top_100_DEGs_var_R2': 0.2907730341026704, 'Top_100_DEGs_var_MSE': 1.463386481688099, 'Top_100_DEGs_corr_mtx_R': 0.8003350344463183, 'Top_100_DEGs_corr_mtx_R2': 0.6405361673621894, 'Top_100_DEGs_corr_mtx_MSE': 0.00823954929660351, 'Top_100_DEGs_cov_mtx_R': 0.7116565160197577, 'Top_100_DEGs_cov_mtx_R2': 0.5064549967933796, 'Top_100_DEGs_cov_mtx_MSE': 0.08816801465633574}\n"
     ]
    }
   ],
   "source": [
    "res = get_eval(adata_ctrl, adata_pert, adata_pert_pred, degs, [10, 25, 50, 100], pdefault, None)\n",
    "print(res)"
   ]
  },
  {
   "cell_type": "code",
   "execution_count": 30,
   "metadata": {},
   "outputs": [
    {
     "data": {
      "text/plain": [
       "(0, 2, 6, 18, 159)"
      ]
     },
     "execution_count": 30,
     "metadata": {},
     "output_type": "execute_result"
    }
   ],
   "source": [
    "len(significant_degs.index[:10].intersection(significant_degs_pred.index[:10])), \\\n",
    "len(significant_degs.index[:25].intersection(significant_degs_pred.index[:25])), \\\n",
    "len(significant_degs.index[:50].intersection(significant_degs_pred.index[:50])), \\\n",
    "len(significant_degs.index[:100].intersection(significant_degs_pred.index[:100])), \\\n",
    "len(significant_degs.index.intersection(significant_degs_pred.index))"
   ]
  },
  {
   "cell_type": "code",
   "execution_count": null,
   "metadata": {},
   "outputs": [],
   "source": []
  }
 ],
 "metadata": {
  "kernelspec": {
   "display_name": "dsbm",
   "language": "python",
   "name": "dsbm"
  },
  "language_info": {
   "codemirror_mode": {
    "name": "ipython",
    "version": 3
   },
   "file_extension": ".py",
   "mimetype": "text/x-python",
   "name": "python",
   "nbconvert_exporter": "python",
   "pygments_lexer": "ipython3",
   "version": "3.10.13"
  }
 },
 "nbformat": 4,
 "nbformat_minor": 4
}
