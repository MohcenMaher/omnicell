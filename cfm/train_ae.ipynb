{
 "cells": [
  {
   "cell_type": "code",
   "execution_count": 1,
   "metadata": {},
   "outputs": [],
   "source": [
    "import math\n",
    "from tqdm import tqdm\n",
    "import scvi\n",
    "import torch\n",
    "import numpy as np\n",
    "import pytorch_lightning as pl\n",
    "import os\n",
    "\n",
    "import scanpy as sc\n",
    "\n",
    "from pytorch_lightning.callbacks import TQDMProgressBar\n",
    "from torchcfm.conditional_flow_matching import *\n",
    "import scanpy as sc\n",
    "from datamodules import  SCFMDataset, cfm_collate, StratifiedBatchSampler, ot_collate\n",
    "from torch.utils.data import RandomSampler\n",
    "from sc_etl_utils import *\n",
    "from arch import *\n",
    "import json\n",
    "\n",
    "import scvi\n",
    "import torch\n",
    "import numpy as np\n",
    "import pytorch_lightning as pl\n",
    "import os\n",
    "\n",
    "import scanpy as sc\n",
    "\n",
    "from torchcfm.conditional_flow_matching import *\n",
    "import scanpy as sc\n",
    "import hashlib\n",
    "from llm import MAE"
   ]
  },
  {
   "cell_type": "code",
   "execution_count": 2,
   "metadata": {},
   "outputs": [],
   "source": [
    "# load some data\n",
    "adata = sc.read_h5ad('/orcd/archive/abugoot/001/Projects/dlesman/datasets/satija_IFNB_HVG_and_perturbed_genes_raw.h5ad')"
   ]
  },
  {
   "cell_type": "code",
   "execution_count": 3,
   "metadata": {},
   "outputs": [],
   "source": [
    "gene_map = {k: i for i, k in enumerate(adata.var.index)}\n",
    "gene_map = gene_map | {'NT': max(gene_map.values()) + 1}\n",
    "gene_unmap = {gene_map[k]: k for k in gene_map}\n",
    "perts = adata.obs.gene.unique().map(gene_map)\n",
    "adata.obs['pert_type'] = adata.obs.gene.map(gene_map)\n",
    "pert_ids = np.array(adata.obs['pert_type'])\n",
    "pert_mat = np.arange(pert_ids.max() + 1)[:, None]"
   ]
  },
  {
   "cell_type": "code",
   "execution_count": 4,
   "metadata": {},
   "outputs": [],
   "source": [
    "cell_col = 'cell_type'\n",
    "pert_col = 'pert_type'\n",
    "control_pert, holdout_cells, holdout_perts = gene_map['NT'], ['HT29'], [gene_map['USP18']]"
   ]
  },
  {
   "cell_type": "code",
   "execution_count": 5,
   "metadata": {
    "scrolled": true
   },
   "outputs": [
    {
     "name": "stdout",
     "output_type": "stream",
     "text": [
      "Controls: 14582, Perturbations: 313080,  Eval: 880\n"
     ]
    }
   ],
   "source": [
    "from sc_etl_utils import *\n",
    "control_idx, pert_idx, eval_idx, eval_cell_idx, eval_pert_idx = get_train_eval_idxs(\n",
    "    adata, control_pert, holdout_cells, holdout_perts, cell_col=cell_col, pert_col=pert_col\n",
    ")\n",
    "\n",
    "_, _, cell_types = get_identity_features(\n",
    "    adata, cell_col=cell_col, pert_col=pert_col, cell_type_features=False\n",
    ")\n",
    "\n",
    "adata.obsm[\"standard\"] = adata.X\n",
    "X = adata.obsm[\"standard\"]\n",
    "X = X.toarray()\n",
    "X = X / X.sum(axis=1)[:, None]\n",
    "X = np.log(X * 10_000. + 1)\n",
    "\n",
    "control_train, pert_train, pert_ids_train, control_cell_types, pert_cell_types, control_eval, pert_eval, pert_ids_eval = get_train_eval(\n",
    "    X, pert_ids, cell_types, control_idx, pert_idx, eval_idx, eval_cell_idx, eval_pert_idx\n",
    ")\n"
   ]
  },
  {
   "cell_type": "code",
   "execution_count": 6,
   "metadata": {},
   "outputs": [],
   "source": [
    "train = np.vstack([control_train, pert_train])\n",
    "\n",
    "import numpy as np\n",
    "import torch\n",
    "from torch.utils.data import Dataset, DataLoader\n",
    "\n",
    "# Create a custom Dataset class\n",
    "class NumpyDataset(Dataset):\n",
    "    def __init__(self, data):\n",
    "        self.data = data\n",
    "\n",
    "    def __getitem__(self, index):\n",
    "        return torch.from_numpy(self.data[index]).float()\n",
    "\n",
    "    def __len__(self):\n",
    "        return len(self.data)\n",
    "\n",
    "# Create an instance of the dataset\n",
    "dataset = NumpyDataset(train)"
   ]
  },
  {
   "cell_type": "code",
   "execution_count": 7,
   "metadata": {},
   "outputs": [
    {
     "name": "stdout",
     "output_type": "stream",
     "text": [
      "Strata probs [0.         0.0001086  0.00030344 0.00039606 0.00040565 0.00041523\n",
      " 0.00042162 0.00043439 0.00045356 0.00045995 0.00049189 0.00052063\n",
      " 0.00054938 0.00056535 0.00061007 0.00062284 0.00062604 0.00062604\n",
      " 0.00063562 0.00068673 0.00075061 0.00076977 0.00077297 0.00077935\n",
      " 0.00079852 0.0008081  0.00084323 0.0008624  0.00087837 0.00088156\n",
      " 0.00088795 0.00088795 0.00089753 0.00089753 0.0009167  0.00092628\n",
      " 0.00093906 0.00094864 0.00099016 0.00099016 0.00100294 0.00104127\n",
      " 0.00104446 0.00105085 0.00109237 0.00110834 0.00110834 0.00111154\n",
      " 0.00111473 0.00111473 0.0011307  0.0011339  0.00113709 0.00116584\n",
      " 0.00117222 0.00117222 0.00121375 0.00121694 0.00122333 0.00122652\n",
      " 0.00124569 0.00124888 0.00124888 0.00126485 0.00128082 0.00129999\n",
      " 0.00130318 0.00130318 0.00131596 0.00131596 0.00132554 0.00133193\n",
      " 0.00133512 0.0013447  0.00135109 0.00137026 0.00137984 0.00137984\n",
      " 0.00139262 0.0014022  0.00140539 0.00140539 0.00141178 0.00141497\n",
      " 0.00141817 0.00143733 0.00146288 0.00146608 0.00146927 0.00147566\n",
      " 0.00148205 0.00148844 0.00149483 0.00152357 0.00152677 0.00152677\n",
      " 0.00153635 0.00153954 0.00153954 0.00154274 0.00154274 0.00154912\n",
      " 0.00155232 0.0015619  0.0015651  0.00157468 0.00158426 0.00158745\n",
      " 0.00160023 0.00160662 0.00161301 0.00162578 0.00162578 0.00162898\n",
      " 0.00164175 0.00164495 0.0016705  0.00167689 0.00167689 0.00168328\n",
      " 0.00168647 0.00169605 0.00169925 0.00173119 0.00173438 0.00173758\n",
      " 0.00175993 0.00176632 0.0017791  0.00180465 0.00180784 0.00181104\n",
      " 0.00181423 0.00181743 0.00183979 0.00183979 0.00184937 0.00185576\n",
      " 0.00185895 0.00186214 0.00187492 0.00188131 0.00188131 0.00190047\n",
      " 0.00190686 0.00192283 0.00193561 0.00193561 0.00197074 0.00198032\n",
      " 0.00198352 0.00198671 0.00199629 0.00200907 0.00201227 0.00202504\n",
      " 0.0020474  0.00205698 0.00206656 0.00208253 0.00209212 0.00209851\n",
      " 0.00213045 0.00214322 0.002156   0.00217836 0.00217836 0.00217836\n",
      " 0.00219752 0.0022103  0.0022103  0.00221349 0.00221349 0.00221988\n",
      " 0.00223266 0.00223585 0.00223904 0.00227418 0.00228057 0.00228376\n",
      " 0.00228696 0.00228696 0.00230293 0.00230931 0.00231251 0.00235084\n",
      " 0.00235084 0.00235403 0.00237639 0.00241791 0.00242749 0.00242749\n",
      " 0.00243069 0.00244027 0.00245305 0.00248179 0.00249138 0.00249776\n",
      " 0.00250415 0.00251373 0.00254248 0.00254248 0.00254248 0.00255526\n",
      " 0.00257762 0.0025872  0.00262553 0.0026383  0.0026415  0.00267344\n",
      " 0.00267344 0.00268941 0.0026958  0.00271177 0.00271496 0.00273093\n",
      " 0.00273093 0.00273413 0.00275648 0.00277565 0.00278842 0.00280759\n",
      " 0.00287466 0.00288744 0.00292896 0.00294493 0.00298007 0.0030184\n",
      " 0.00303437 0.00306631 0.0030695  0.00308867 0.00309186 0.00310144\n",
      " 0.00311422 0.00311422 0.00313019 0.00313658 0.00313658 0.00314297\n",
      " 0.00314297 0.00314297 0.00314616 0.0031781  0.0031813  0.00318768\n",
      " 0.00319088 0.00320046 0.00321643 0.00323879 0.00324198 0.00324518\n",
      " 0.0032867  0.00332183 0.00332503 0.00332822 0.00333461 0.00333781\n",
      " 0.00333781 0.0033921  0.00340488 0.00345918 0.00346876 0.0035007\n",
      " 0.00352626 0.00353903 0.00354542 0.00356778 0.00357097 0.00357417\n",
      " 0.00359652 0.00360291 0.00363166 0.00363166 0.00364444 0.00365082\n",
      " 0.00366679 0.00367957 0.00372109 0.00372109 0.00373387 0.00373706\n",
      " 0.00374984 0.00376262 0.0037722  0.00379456 0.00381692 0.00384247\n",
      " 0.00384247 0.00389038 0.00392871 0.0039319  0.00394148 0.00394787\n",
      " 0.00397023 0.00402453 0.00402772 0.00403411 0.00407883 0.00408202\n",
      " 0.00409161 0.00409161 0.00411077 0.00411716 0.00414271 0.00420659\n",
      " 0.00421617 0.00421937 0.00423534 0.00424173 0.0042545  0.00428964\n",
      " 0.00431519 0.00432477 0.00436949 0.00437268 0.00438227 0.00439504\n",
      " 0.00442379 0.00445254 0.00459627 0.00462182 0.00469848 0.00470167\n",
      " 0.00470806 0.00473042 0.0047432  0.00485499 0.00487415 0.00489971\n",
      " 0.00506899 0.00510413 0.00512329 0.00512329 0.00523828 0.00535326\n",
      " 0.00539479 0.00540437 0.00542353 0.00543631 0.00545867 0.00553533\n",
      " 0.00553852 0.0055513  0.00558004 0.00570461 0.00572697 0.00575891\n",
      " 0.00579405 0.00590584 0.00609109 0.006468   0.00648716 0.00654465\n",
      " 0.00657021 0.00693752 0.00694391 0.00706529 0.00720263 0.00798199\n",
      " 0.00804267 0.00858247 0.00904561 0.009266   0.00959499 0.01232912]\n"
     ]
    }
   ],
   "source": [
    "batch_size = 512\n",
    "dset = SCFMDataset(\n",
    "    control_train, pert_train, \n",
    "    pert_ids_train, pert_mat, \n",
    "    control_cell_types, pert_cell_types,\n",
    "    batch_size=batch_size, size=X.shape[0]\n",
    ")\n",
    "ns = np.array([[t.shape[0] for t in ts] for ts in dset.target])\n",
    "dl = torch.utils.data.DataLoader(\n",
    "    dset, collate_fn=ot_collate, \n",
    "    batch_sampler=StratifiedBatchSampler(\n",
    "        ns=ns, batch_size=512\n",
    "    )\n",
    ")"
   ]
  },
  {
   "cell_type": "code",
   "execution_count": 8,
   "metadata": {},
   "outputs": [],
   "source": [
    "import torch\n",
    "from torch import nn\n",
    "import torch.nn.functional as F\n",
    "import numpy as np\n",
    "\n",
    "\n",
    "class GeneEmbedding(torch.nn.Module):\n",
    "    def __init__(self, input_dim, emb_dim=128):\n",
    "        super().__init__()\n",
    "        self.pos = torch.nn.Parameter(torch.zeros(1, input_dim, emb_dim))\n",
    "        nn.init.normal_(self.pos)\n",
    "        \n",
    "        \n",
    "class PertEmbedder(torch.nn.Module):\n",
    "    def __init__(self, gene_embedding):\n",
    "        super().__init__()\n",
    "        _, input_dim, emb_dim = gene_embedding.pos.shape\n",
    "        self.gene_embedding = gene_embedding\n",
    "        self.pert_token = torch.nn.Parameter(torch.zeros(emb_dim))\n",
    "        nn.init.normal_(self.pert_token)\n",
    "        \n",
    "    def forward(self, pert_index, pert_expression):\n",
    "        pert_pos = self.gene_embedding.pos[:, pert_index][0]\n",
    "\n",
    "        pert_embed_and_expr = torch.cat(\n",
    "            (\n",
    "                pert_pos + self.pert_token, \n",
    "                pert_expression.unsqueeze(-1)\n",
    "            ), dim=-1\n",
    "        )\n",
    "        return pert_embed_and_expr.unsqueeze(1)\n",
    "    \n",
    "class CellEncoder(torch.nn.Module):\n",
    "    def __init__(self, input_dim, latent_dim, hidden_dim, dropout_rate=0.1):\n",
    "        super().__init__()\n",
    "        self.input_dim = input_dim  \n",
    "        self.latent_dim = latent_dim  # Dimension of the latent space\n",
    "        self.dropout_rate = dropout_rate  \n",
    "        \n",
    "\n",
    "        # Encoder network definitions\n",
    "        self.encoder_fc1 = nn.Linear(input_dim, hidden_dim, bias=False) \n",
    "        self.encoder_bn1 = nn.BatchNorm1d(hidden_dim)  \n",
    "        self.encoder_fc2 = nn.Linear(hidden_dim, hidden_dim, bias=False) \n",
    "        self.encoder_bn2 = nn.BatchNorm1d(hidden_dim) \n",
    "        self.fc_mu = nn.Linear(hidden_dim, latent_dim, bias=True) \n",
    "        self.fc_logvar = nn.Linear(hidden_dim, latent_dim, bias=True) \n",
    "\n",
    "    # Encoder function\n",
    "    def forward(self, x):\n",
    "        h = F.leaky_relu(self.encoder_bn1(self.encoder_fc1(x)))  \n",
    "        h = F.dropout(h, p=self.dropout_rate, training=self.training)  \n",
    "        h = F.leaky_relu(self.encoder_bn2(self.encoder_fc2(h)))  \n",
    "        return nn.ELU()(self.fc_mu(h))# , self.fc_logvar(h)  \n",
    "\n",
    "\n",
    "class ExprPred(torch.nn.Module):\n",
    "    def __init__(self,\n",
    "                 gene_embedding,\n",
    "                 ff_dim=128,\n",
    "                 ) -> None:\n",
    "        super().__init__()\n",
    "        \n",
    "        _, _, emb_dim = gene_embedding.pos.shape\n",
    "        self.gene_embedding = gene_embedding\n",
    "\n",
    "        self.pred_expr = torch.nn.Sequential(\n",
    "            torch.nn.Linear(emb_dim + emb_dim, ff_dim),\n",
    "            torch.nn.SELU(),\n",
    "            torch.nn.Linear(ff_dim, ff_dim),\n",
    "            torch.nn.SELU(),\n",
    "            torch.nn.Linear(ff_dim, ff_dim),\n",
    "            torch.nn.SELU(),\n",
    "            torch.nn.Linear(ff_dim, ff_dim),\n",
    "            torch.nn.SELU(),\n",
    "            torch.nn.Linear(ff_dim, ff_dim),\n",
    "            torch.nn.SELU(),\n",
    "            torch.nn.Linear(ff_dim, 1),\n",
    "            torch.nn.ELU()\n",
    "        ) \n",
    "        \n",
    "        self.pred_bin = torch.nn.Sequential(\n",
    "            torch.nn.Linear(emb_dim + emb_dim, ff_dim),\n",
    "            torch.nn.SELU(),\n",
    "            torch.nn.Linear(ff_dim, ff_dim),\n",
    "            torch.nn.SELU(),\n",
    "            torch.nn.Linear(ff_dim, ff_dim),\n",
    "            torch.nn.SELU(),\n",
    "            torch.nn.Linear(ff_dim, ff_dim),\n",
    "            torch.nn.SELU(),\n",
    "            torch.nn.Linear(ff_dim, ff_dim),\n",
    "            torch.nn.SELU(),\n",
    "            torch.nn.Linear(ff_dim, 1),\n",
    "            torch.nn.Sigmoid()\n",
    "        ) \n",
    "\n",
    "    def forward(self, cell_embedding, pred_idx):\n",
    "        embed_and_cell_embed = torch.cat(\n",
    "            (\n",
    "            torch.tile(cell_embedding.unsqueeze(1), (1, idx.shape[0], 1)),\n",
    "            torch.tile(self.gene_embedding.pos[:, pred_idx], (cell_embedding.shape[0], 1, 1))\n",
    "            ), dim=-1\n",
    "        )\n",
    "        pred_expr = self.pred_expr(embed_and_cell_embed) + 1\n",
    "        pred_bin = self.pred_bin(embed_and_cell_embed)\n",
    "        \n",
    "        return pred_expr.squeeze(), pred_bin.squeeze()\n",
    "\n",
    "class CMLP(pl.LightningModule):\n",
    "    def __init__(self, feat_dim, cond_dim, out_dim=None, w1=128, w2=128, n_combo_layer=4, n_cond_layer=3, time_varying=False):\n",
    "        super().__init__()\n",
    "        self.time_varying = time_varying\n",
    "        if out_dim is None:\n",
    "            out_dim = feat_dim\n",
    "        self.combo_net = torch.nn.Sequential(\n",
    "            torch.nn.Linear(feat_dim + (1 if time_varying else 0) + cond_dim, w1), torch.nn.SELU(),\n",
    "            *([torch.nn.Linear(w1, w1), torch.nn.SELU()] * n_combo_layer),\n",
    "            torch.nn.Linear(w1, out_dim)\n",
    "        )\n",
    "        self.cond = None\n",
    "        \n",
    "    def forward(self, x, cond=None):\n",
    "        if cond is None:\n",
    "            cond = self.cond\n",
    "        # cond = self.cond_net(cond)\n",
    "        return self.combo_net(torch.cat([x, cond], dim=-1))\n",
    "\n",
    "    \n",
    "class BernoulliSampleLayer(nn.Module):\n",
    "    def __init__(self):\n",
    "        super(BernoulliSampleLayer, self).__init__()\n",
    "\n",
    "    def forward(self, probs):\n",
    "        sample = torch.bernoulli(probs)\n",
    "        return sample + probs - probs.detach()    \n",
    "\n",
    "    \n",
    "class MAE(torch.nn.Module):\n",
    "    def __init__(self,\n",
    "                 input_dim,\n",
    "                 ff_dim=128,\n",
    "                 emb_dim=128,\n",
    "                 encoder_layer=6,\n",
    "                 ) -> None:\n",
    "        super().__init__()\n",
    "        \n",
    "        self.gene_embedding = GeneEmbedding(input_dim=input_dim, emb_dim=emb_dim)\n",
    "        self.pert_embedding = PertEmbedder(self.gene_embedding)\n",
    "        self.encoder = CellEncoder(\n",
    "            input_dim, emb_dim, hidden_dim=ff_dim\n",
    "        )\n",
    "        self.recon = ExprPred(self.gene_embedding)\n",
    "        self.sparse_sampler = BernoulliSampleLayer()\n",
    "        \n",
    "        self.flow = CMLP(feat_dim=emb_dim, cond_dim=emb_dim, time_varying=True, w1=ff_dim)\n",
    "        self.cfm_sampler = ExactOptimalTransportConditionalFlowMatcher(sigma=0.1)\n",
    "\n",
    "    def forward(self, expr):\n",
    "        cell_embedding = self.encoder(expr)\n",
    "        # cell_embedding = features.mean(axis=1)\n",
    "        return cell_embedding #, pred_expr.squeeze(), pred_bin.squeeze()\n",
    "    \n",
    "    def sparsify(self, pred_expr, pred_bin):\n",
    "        sparsity = self.sparse_sampler(pred_bin)\n",
    "        pred_expr *= sparsity\n",
    "        return pred_expr\n",
    "    \n",
    "    def ae_loss(self, batch_emb, batch, gene_ids, lambd=0.5, return_recon=False):\n",
    "        batch_bin = (batch > 0).float()\n",
    "        batch_recon, batch_bin_recon = self.recon(batch_emb, gene_ids)\n",
    "        recon_loss = torch.mean(batch_bin * (batch_recon - batch[:, gene_ids])**2) # / minibatch_size\n",
    "        bin_loss = F.binary_cross_entropy(batch_bin_recon, batch_bin[:, gene_ids])\n",
    "        loss = lambd * recon_loss + (1 - lambd) * bin_loss\n",
    "        if return_recon:\n",
    "            return loss, batch_recon, batch_bin_recon\n",
    "        return loss\n",
    "    \n",
    "    def flow_loss(self, source_emb, target_emb, cond):\n",
    "        t, xt, ut = self.cfm_sampler.sample_location_and_conditional_flow(\n",
    "            source_emb, target_emb\n",
    "        )\n",
    "\n",
    "        inp = torch.cat([xt, t[:, None]], dim=-1)\n",
    "        vt = model.flow(inp, cond)\n",
    "        return torch.nn.functional.mse_loss(vt, ut) \n"
   ]
  },
  {
   "cell_type": "code",
   "execution_count": 9,
   "metadata": {},
   "outputs": [],
   "source": [
    "model = MAE(\n",
    "    X.shape[1], \n",
    "    emb_dim=256, \n",
    "    encoder_layer=4,\n",
    "    ff_dim=256\n",
    ")\n",
    "# model = torch.load(f\"llm/v9\")\n",
    "device = 'cuda'\n",
    "# device = 'cpu'\n",
    "model = model.to(device)"
   ]
  },
  {
   "cell_type": "code",
   "execution_count": 10,
   "metadata": {},
   "outputs": [
    {
     "name": "stdout",
     "output_type": "stream",
     "text": [
      "Adjusting learning rate of group 0 to 4.0000e-05.\n"
     ]
    }
   ],
   "source": [
    "base_learning_rate = 2e-4\n",
    "weight_decay=0.0\n",
    "total_epoch = 1000\n",
    "warmup_epoch = 5\n",
    "save_dir = \"ae/v\"\n",
    "optim = torch.optim.Adam(model.parameters(), lr=base_learning_rate)\n",
    "lr_func = lambda epoch: min((epoch + 1) / (warmup_epoch + 1e-5), 0.5 * (math.cos(epoch / total_epoch * math.pi) + 1))\n",
    "lr_scheduler = torch.optim.lr_scheduler.LambdaLR(optim, lr_lambda=lr_func, verbose=True)"
   ]
  },
  {
   "cell_type": "raw",
   "metadata": {},
   "source": [
    "del batch\n",
    "del loss\n",
    "del idx \n",
    "optim.zero_grad()\n",
    "import gc\n",
    "torch.cuda.empty_cache()\n",
    "gc.collect()"
   ]
  },
  {
   "cell_type": "code",
   "execution_count": 11,
   "metadata": {},
   "outputs": [
    {
     "name": "stderr",
     "output_type": "stream",
     "text": [
      "loss: 1.671:   1%|██▌                                                                                                                                                                                    | 35/2560 [00:02<02:44, 15.31it/s]"
     ]
    },
    {
     "name": "stdout",
     "output_type": "stream",
     "text": [
      "Adjusting learning rate of group 0 to 8.0000e-05.\n"
     ]
    },
    {
     "name": "stderr",
     "output_type": "stream",
     "text": [
      "loss: 2.296:   3%|████▊                                                                                                                                                                                  | 67/2560 [00:04<02:42, 15.33it/s]"
     ]
    },
    {
     "name": "stdout",
     "output_type": "stream",
     "text": [
      "Adjusting learning rate of group 0 to 1.2000e-04.\n"
     ]
    },
    {
     "name": "stderr",
     "output_type": "stream",
     "text": [
      "loss: 2.204:   4%|███████                                                                                                                                                                                | 99/2560 [00:06<02:40, 15.32it/s]"
     ]
    },
    {
     "name": "stdout",
     "output_type": "stream",
     "text": [
      "Adjusting learning rate of group 0 to 1.6000e-04.\n"
     ]
    },
    {
     "name": "stderr",
     "output_type": "stream",
     "text": [
      "loss: 2.178:   5%|█████████▎                                                                                                                                                                            | 131/2560 [00:08<02:38, 15.28it/s]"
     ]
    },
    {
     "name": "stdout",
     "output_type": "stream",
     "text": [
      "Adjusting learning rate of group 0 to 1.9999e-04.\n"
     ]
    },
    {
     "name": "stderr",
     "output_type": "stream",
     "text": [
      "loss: 2.104:   6%|███████████▌                                                                                                                                                                          | 163/2560 [00:10<02:37, 15.26it/s]"
     ]
    },
    {
     "name": "stdout",
     "output_type": "stream",
     "text": [
      "Adjusting learning rate of group 0 to 1.9999e-04.\n"
     ]
    },
    {
     "name": "stderr",
     "output_type": "stream",
     "text": [
      "loss: 2.034:   8%|█████████████▊                                                                                                                                                                        | 195/2560 [00:13<02:35, 15.20it/s]"
     ]
    },
    {
     "name": "stdout",
     "output_type": "stream",
     "text": [
      "Adjusting learning rate of group 0 to 1.9998e-04.\n"
     ]
    },
    {
     "name": "stderr",
     "output_type": "stream",
     "text": [
      "loss: 1.965:   9%|████████████████▏                                                                                                                                                                     | 227/2560 [00:15<02:33, 15.22it/s]"
     ]
    },
    {
     "name": "stdout",
     "output_type": "stream",
     "text": [
      "Adjusting learning rate of group 0 to 1.9998e-04.\n"
     ]
    },
    {
     "name": "stderr",
     "output_type": "stream",
     "text": [
      "loss: 1.892:  10%|██████████████████▍                                                                                                                                                                   | 259/2560 [00:17<02:31, 15.20it/s]"
     ]
    },
    {
     "name": "stdout",
     "output_type": "stream",
     "text": [
      "Adjusting learning rate of group 0 to 1.9997e-04.\n"
     ]
    },
    {
     "name": "stderr",
     "output_type": "stream",
     "text": [
      "loss: 1.828:  11%|████████████████████▋                                                                                                                                                                 | 291/2560 [00:19<02:29, 15.18it/s]"
     ]
    },
    {
     "name": "stdout",
     "output_type": "stream",
     "text": [
      "Adjusting learning rate of group 0 to 1.9996e-04.\n"
     ]
    },
    {
     "name": "stderr",
     "output_type": "stream",
     "text": [
      "loss: 1.783:  13%|██████████████████████▉                                                                                                                                                               | 323/2560 [00:21<02:27, 15.16it/s]"
     ]
    },
    {
     "name": "stdout",
     "output_type": "stream",
     "text": [
      "Adjusting learning rate of group 0 to 1.9995e-04.\n"
     ]
    },
    {
     "name": "stderr",
     "output_type": "stream",
     "text": [
      "loss: 1.710:  14%|█████████████████████████▏                                                                                                                                                            | 355/2560 [00:23<02:25, 15.12it/s]"
     ]
    },
    {
     "name": "stdout",
     "output_type": "stream",
     "text": [
      "Adjusting learning rate of group 0 to 1.9994e-04.\n"
     ]
    },
    {
     "name": "stderr",
     "output_type": "stream",
     "text": [
      "loss: 1.633:  15%|███████████████████████████▌                                                                                                                                                          | 387/2560 [00:25<02:23, 15.11it/s]"
     ]
    },
    {
     "name": "stdout",
     "output_type": "stream",
     "text": [
      "Adjusting learning rate of group 0 to 1.9993e-04.\n"
     ]
    },
    {
     "name": "stderr",
     "output_type": "stream",
     "text": [
      "loss: 1.522:  16%|█████████████████████████████▊                                                                                                                                                        | 419/2560 [00:27<02:21, 15.10it/s]"
     ]
    },
    {
     "name": "stdout",
     "output_type": "stream",
     "text": [
      "Adjusting learning rate of group 0 to 1.9992e-04.\n"
     ]
    },
    {
     "name": "stderr",
     "output_type": "stream",
     "text": [
      "loss: 1.414:  18%|████████████████████████████████                                                                                                                                                      | 451/2560 [00:29<02:19, 15.11it/s]"
     ]
    },
    {
     "name": "stdout",
     "output_type": "stream",
     "text": [
      "Adjusting learning rate of group 0 to 1.9990e-04.\n"
     ]
    },
    {
     "name": "stderr",
     "output_type": "stream",
     "text": [
      "loss: 1.311:  19%|██████████████████████████████████▎                                                                                                                                                   | 483/2560 [00:32<02:17, 15.07it/s]"
     ]
    },
    {
     "name": "stdout",
     "output_type": "stream",
     "text": [
      "Adjusting learning rate of group 0 to 1.9989e-04.\n"
     ]
    },
    {
     "name": "stderr",
     "output_type": "stream",
     "text": [
      "loss: 1.243:  20%|████████████████████████████████████▌                                                                                                                                                 | 515/2560 [00:34<02:15, 15.04it/s]"
     ]
    },
    {
     "name": "stdout",
     "output_type": "stream",
     "text": [
      "Adjusting learning rate of group 0 to 1.9987e-04.\n"
     ]
    },
    {
     "name": "stderr",
     "output_type": "stream",
     "text": [
      "loss: 1.201:  21%|██████████████████████████████████████▉                                                                                                                                               | 547/2560 [00:36<02:13, 15.05it/s]"
     ]
    },
    {
     "name": "stdout",
     "output_type": "stream",
     "text": [
      "Adjusting learning rate of group 0 to 1.9986e-04.\n"
     ]
    },
    {
     "name": "stderr",
     "output_type": "stream",
     "text": [
      "loss: 1.156:  23%|█████████████████████████████████████████▏                                                                                                                                            | 579/2560 [00:38<02:11, 15.05it/s]"
     ]
    },
    {
     "name": "stdout",
     "output_type": "stream",
     "text": [
      "Adjusting learning rate of group 0 to 1.9984e-04.\n"
     ]
    },
    {
     "name": "stderr",
     "output_type": "stream",
     "text": [
      "loss: 1.150:  24%|███████████████████████████████████████████▍                                                                                                                                          | 611/2560 [00:40<02:09, 15.03it/s]"
     ]
    },
    {
     "name": "stdout",
     "output_type": "stream",
     "text": [
      "Adjusting learning rate of group 0 to 1.9982e-04.\n"
     ]
    },
    {
     "name": "stderr",
     "output_type": "stream",
     "text": [
      "loss: 1.116:  25%|█████████████████████████████████████████████▋                                                                                                                                        | 643/2560 [00:42<02:07, 15.02it/s]"
     ]
    },
    {
     "name": "stdout",
     "output_type": "stream",
     "text": [
      "Adjusting learning rate of group 0 to 1.9980e-04.\n"
     ]
    },
    {
     "name": "stderr",
     "output_type": "stream",
     "text": [
      "loss: 1.115:  26%|███████████████████████████████████████████████▊                                                                                                                                      | 673/2560 [00:44<02:05, 15.02it/s]"
     ]
    },
    {
     "name": "stdout",
     "output_type": "stream",
     "text": [
      "Adjusting learning rate of group 0 to 1.9978e-04.\n"
     ]
    },
    {
     "name": "stderr",
     "output_type": "stream",
     "text": [
      "loss: 1.109:  28%|██████████████████████████████████████████████████▎                                                                                                                                   | 707/2560 [00:46<02:03, 15.00it/s]"
     ]
    },
    {
     "name": "stdout",
     "output_type": "stream",
     "text": [
      "Adjusting learning rate of group 0 to 1.9976e-04.\n"
     ]
    },
    {
     "name": "stderr",
     "output_type": "stream",
     "text": [
      "loss: 1.100:  29%|████████████████████████████████████████████████████▌                                                                                                                                 | 739/2560 [00:49<02:01, 14.99it/s]"
     ]
    },
    {
     "name": "stdout",
     "output_type": "stream",
     "text": [
      "Adjusting learning rate of group 0 to 1.9974e-04.\n"
     ]
    },
    {
     "name": "stderr",
     "output_type": "stream",
     "text": [
      "loss: 1.093:  30%|██████████████████████████████████████████████████████▋                                                                                                                               | 769/2560 [00:51<01:59, 14.98it/s]"
     ]
    },
    {
     "name": "stdout",
     "output_type": "stream",
     "text": [
      "Adjusting learning rate of group 0 to 1.9972e-04.\n"
     ]
    },
    {
     "name": "stderr",
     "output_type": "stream",
     "text": [
      "loss: 1.085:  31%|████████████████████████████████████████████████████████▉                                                                                                                             | 801/2560 [00:53<01:57, 14.95it/s]"
     ]
    },
    {
     "name": "stdout",
     "output_type": "stream",
     "text": [
      "Adjusting learning rate of group 0 to 1.9969e-04.\n"
     ]
    },
    {
     "name": "stderr",
     "output_type": "stream",
     "text": [
      "loss: 1.077:  33%|███████████████████████████████████████████████████████████▏                                                                                                                          | 833/2560 [00:55<01:55, 14.90it/s]"
     ]
    },
    {
     "name": "stdout",
     "output_type": "stream",
     "text": [
      "Adjusting learning rate of group 0 to 1.9967e-04.\n"
     ]
    },
    {
     "name": "stderr",
     "output_type": "stream",
     "text": [
      "loss: 1.078:  34%|█████████████████████████████████████████████████████████████▍                                                                                                                        | 865/2560 [00:57<01:53, 14.92it/s]"
     ]
    },
    {
     "name": "stdout",
     "output_type": "stream",
     "text": [
      "Adjusting learning rate of group 0 to 1.9964e-04.\n"
     ]
    },
    {
     "name": "stderr",
     "output_type": "stream",
     "text": [
      "loss: 1.080:  35%|███████████████████████████████████████████████████████████████▊                                                                                                                      | 897/2560 [00:59<01:51, 14.90it/s]"
     ]
    },
    {
     "name": "stdout",
     "output_type": "stream",
     "text": [
      "Adjusting learning rate of group 0 to 1.9961e-04.\n"
     ]
    },
    {
     "name": "stderr",
     "output_type": "stream",
     "text": [
      "loss: 1.075:  36%|██████████████████████████████████████████████████████████████████                                                                                                                    | 929/2560 [01:01<01:49, 14.89it/s]"
     ]
    },
    {
     "name": "stdout",
     "output_type": "stream",
     "text": [
      "Adjusting learning rate of group 0 to 1.9959e-04.\n"
     ]
    },
    {
     "name": "stderr",
     "output_type": "stream",
     "text": [
      "loss: 1.064:  38%|████████████████████████████████████████████████████████████████████▎                                                                                                                 | 961/2560 [01:04<01:47, 14.89it/s]"
     ]
    },
    {
     "name": "stdout",
     "output_type": "stream",
     "text": [
      "Adjusting learning rate of group 0 to 1.9956e-04.\n"
     ]
    },
    {
     "name": "stderr",
     "output_type": "stream",
     "text": [
      "loss: 1.058:  39%|██████████████████████████████████████████████████████████████████████▌                                                                                                               | 993/2560 [01:06<01:45, 14.88it/s]"
     ]
    },
    {
     "name": "stdout",
     "output_type": "stream",
     "text": [
      "Adjusting learning rate of group 0 to 1.9953e-04.\n"
     ]
    },
    {
     "name": "stderr",
     "output_type": "stream",
     "text": [
      "loss: 1.054:  40%|████████████████████████████████████████████████████████████████████████▍                                                                                                            | 1025/2560 [01:08<01:43, 14.89it/s]"
     ]
    },
    {
     "name": "stdout",
     "output_type": "stream",
     "text": [
      "Adjusting learning rate of group 0 to 1.9950e-04.\n"
     ]
    },
    {
     "name": "stderr",
     "output_type": "stream",
     "text": [
      "loss: 1.070:  41%|██████████████████████████████████████████████████████████████████████████▋                                                                                                          | 1057/2560 [01:10<01:41, 14.86it/s]"
     ]
    },
    {
     "name": "stdout",
     "output_type": "stream",
     "text": [
      "Adjusting learning rate of group 0 to 1.9946e-04.\n"
     ]
    },
    {
     "name": "stderr",
     "output_type": "stream",
     "text": [
      "loss: 1.056:  43%|████████████████████████████████████████████████████████████████████████████▉                                                                                                        | 1089/2560 [01:12<01:38, 14.87it/s]"
     ]
    },
    {
     "name": "stdout",
     "output_type": "stream",
     "text": [
      "Adjusting learning rate of group 0 to 1.9943e-04.\n"
     ]
    },
    {
     "name": "stderr",
     "output_type": "stream",
     "text": [
      "loss: 1.049:  44%|███████████████████████████████████████████████████████████████████████████████▎                                                                                                     | 1121/2560 [01:14<01:36, 14.88it/s]"
     ]
    },
    {
     "name": "stdout",
     "output_type": "stream",
     "text": [
      "Adjusting learning rate of group 0 to 1.9940e-04.\n"
     ]
    },
    {
     "name": "stderr",
     "output_type": "stream",
     "text": [
      "loss: 1.057:  45%|█████████████████████████████████████████████████████████████████████████████████▌                                                                                                   | 1153/2560 [01:16<01:34, 14.85it/s]"
     ]
    },
    {
     "name": "stdout",
     "output_type": "stream",
     "text": [
      "Adjusting learning rate of group 0 to 1.9936e-04.\n"
     ]
    },
    {
     "name": "stderr",
     "output_type": "stream",
     "text": [
      "loss: 1.055:  46%|███████████████████████████████████████████████████████████████████████████████████▊                                                                                                 | 1185/2560 [01:19<01:32, 14.87it/s]"
     ]
    },
    {
     "name": "stdout",
     "output_type": "stream",
     "text": [
      "Adjusting learning rate of group 0 to 1.9933e-04.\n"
     ]
    },
    {
     "name": "stderr",
     "output_type": "stream",
     "text": [
      "loss: 1.055:  48%|██████████████████████████████████████████████████████████████████████████████████████                                                                                               | 1217/2560 [01:21<01:30, 14.86it/s]"
     ]
    },
    {
     "name": "stdout",
     "output_type": "stream",
     "text": [
      "Adjusting learning rate of group 0 to 1.9929e-04.\n"
     ]
    },
    {
     "name": "stderr",
     "output_type": "stream",
     "text": [
      "loss: 1.047:  49%|████████████████████████████████████████████████████████████████████████████████████████▎                                                                                            | 1249/2560 [01:23<01:28, 14.86it/s]"
     ]
    },
    {
     "name": "stdout",
     "output_type": "stream",
     "text": [
      "Adjusting learning rate of group 0 to 1.9925e-04.\n"
     ]
    },
    {
     "name": "stderr",
     "output_type": "stream",
     "text": [
      "loss: 1.055:  50%|██████████████████████████████████████████████████████████████████████████████████████████▌                                                                                          | 1281/2560 [01:25<01:26, 14.86it/s]"
     ]
    },
    {
     "name": "stdout",
     "output_type": "stream",
     "text": [
      "Adjusting learning rate of group 0 to 1.9921e-04.\n"
     ]
    },
    {
     "name": "stderr",
     "output_type": "stream",
     "text": [
      "loss: 1.056:  51%|████████████████████████████████████████████████████████████████████████████████████████████▊                                                                                        | 1313/2560 [01:27<01:23, 14.86it/s]"
     ]
    },
    {
     "name": "stdout",
     "output_type": "stream",
     "text": [
      "Adjusting learning rate of group 0 to 1.9917e-04.\n"
     ]
    },
    {
     "name": "stderr",
     "output_type": "stream",
     "text": [
      "loss: 1.063:  53%|███████████████████████████████████████████████████████████████████████████████████████████████                                                                                      | 1345/2560 [01:29<01:21, 14.85it/s]"
     ]
    },
    {
     "name": "stdout",
     "output_type": "stream",
     "text": [
      "Adjusting learning rate of group 0 to 1.9913e-04.\n"
     ]
    },
    {
     "name": "stderr",
     "output_type": "stream",
     "text": [
      "loss: 1.053:  54%|█████████████████████████████████████████████████████████████████████████████████████████████████▎                                                                                   | 1377/2560 [01:32<01:19, 14.84it/s]"
     ]
    },
    {
     "name": "stdout",
     "output_type": "stream",
     "text": [
      "Adjusting learning rate of group 0 to 1.9909e-04.\n"
     ]
    },
    {
     "name": "stderr",
     "output_type": "stream",
     "text": [
      "loss: 1.050:  55%|███████████████████████████████████████████████████████████████████████████████████████████████████▌                                                                                 | 1409/2560 [01:34<01:17, 14.85it/s]"
     ]
    },
    {
     "name": "stdout",
     "output_type": "stream",
     "text": [
      "Adjusting learning rate of group 0 to 1.9905e-04.\n"
     ]
    },
    {
     "name": "stderr",
     "output_type": "stream",
     "text": [
      "loss: 1.048:  56%|█████████████████████████████████████████████████████████████████████████████████████████████████████▉                                                                               | 1441/2560 [01:36<01:15, 14.85it/s]"
     ]
    },
    {
     "name": "stdout",
     "output_type": "stream",
     "text": [
      "Adjusting learning rate of group 0 to 1.9900e-04.\n"
     ]
    },
    {
     "name": "stderr",
     "output_type": "stream",
     "text": [
      "loss: 1.050:  58%|████████████████████████████████████████████████████████████████████████████████████████████████████████▏                                                                            | 1473/2560 [01:38<01:13, 14.83it/s]"
     ]
    },
    {
     "name": "stdout",
     "output_type": "stream",
     "text": [
      "Adjusting learning rate of group 0 to 1.9896e-04.\n"
     ]
    },
    {
     "name": "stderr",
     "output_type": "stream",
     "text": [
      "loss: 1.039:  59%|██████████████████████████████████████████████████████████████████████████████████████████████████████████▍                                                                          | 1505/2560 [01:40<01:11, 14.83it/s]"
     ]
    },
    {
     "name": "stdout",
     "output_type": "stream",
     "text": [
      "Adjusting learning rate of group 0 to 1.9891e-04.\n"
     ]
    },
    {
     "name": "stderr",
     "output_type": "stream",
     "text": [
      "loss: 1.049:  60%|████████████████████████████████████████████████████████████████████████████████████████████████████████████▋                                                                        | 1537/2560 [01:42<01:08, 14.85it/s]"
     ]
    },
    {
     "name": "stdout",
     "output_type": "stream",
     "text": [
      "Adjusting learning rate of group 0 to 1.9887e-04.\n"
     ]
    },
    {
     "name": "stderr",
     "output_type": "stream",
     "text": [
      "loss: 1.036:  61%|██████████████████████████████████████████████████████████████████████████████████████████████████████████████▉                                                                      | 1569/2560 [01:44<01:06, 14.82it/s]"
     ]
    },
    {
     "name": "stdout",
     "output_type": "stream",
     "text": [
      "Adjusting learning rate of group 0 to 1.9882e-04.\n"
     ]
    },
    {
     "name": "stderr",
     "output_type": "stream",
     "text": [
      "loss: 1.043:  63%|█████████████████████████████████████████████████████████████████████████████████████████████████████████████████▏                                                                   | 1601/2560 [01:47<01:04, 14.81it/s]"
     ]
    },
    {
     "name": "stdout",
     "output_type": "stream",
     "text": [
      "Adjusting learning rate of group 0 to 1.9877e-04.\n"
     ]
    },
    {
     "name": "stderr",
     "output_type": "stream",
     "text": [
      "loss: 1.040:  64%|███████████████████████████████████████████████████████████████████████████████████████████████████████████████████▍                                                                 | 1633/2560 [01:49<01:02, 14.79it/s]"
     ]
    },
    {
     "name": "stdout",
     "output_type": "stream",
     "text": [
      "Adjusting learning rate of group 0 to 1.9872e-04.\n"
     ]
    },
    {
     "name": "stderr",
     "output_type": "stream",
     "text": [
      "loss: 1.039:  65%|█████████████████████████████████████████████████████████████████████████████████████████████████████████████████████▋                                                               | 1665/2560 [01:51<01:00, 14.81it/s]"
     ]
    },
    {
     "name": "stdout",
     "output_type": "stream",
     "text": [
      "Adjusting learning rate of group 0 to 1.9867e-04.\n"
     ]
    },
    {
     "name": "stderr",
     "output_type": "stream",
     "text": [
      "loss: 1.037:  66%|███████████████████████████████████████████████████████████████████████████████████████████████████████████████████████▉                                                             | 1697/2560 [01:53<00:58, 14.82it/s]"
     ]
    },
    {
     "name": "stdout",
     "output_type": "stream",
     "text": [
      "Adjusting learning rate of group 0 to 1.9862e-04.\n"
     ]
    },
    {
     "name": "stderr",
     "output_type": "stream",
     "text": [
      "loss: 1.036:  68%|██████████████████████████████████████████████████████████████████████████████████████████████████████████████████████████▏                                                          | 1729/2560 [01:55<00:56, 14.80it/s]"
     ]
    },
    {
     "name": "stdout",
     "output_type": "stream",
     "text": [
      "Adjusting learning rate of group 0 to 1.9856e-04.\n"
     ]
    },
    {
     "name": "stderr",
     "output_type": "stream",
     "text": [
      "loss: 1.033:  69%|████████████████████████████████████████████████████████████████████████████████████████████████████████████████████████████▌                                                        | 1761/2560 [01:57<00:53, 14.81it/s]"
     ]
    },
    {
     "name": "stdout",
     "output_type": "stream",
     "text": [
      "Adjusting learning rate of group 0 to 1.9851e-04.\n"
     ]
    },
    {
     "name": "stderr",
     "output_type": "stream",
     "text": [
      "loss: 1.041:  70%|██████████████████████████████████████████████████████████████████████████████████████████████████████████████████████████████▊                                                      | 1793/2560 [02:00<00:51, 14.78it/s]"
     ]
    },
    {
     "name": "stdout",
     "output_type": "stream",
     "text": [
      "Adjusting learning rate of group 0 to 1.9846e-04.\n"
     ]
    },
    {
     "name": "stderr",
     "output_type": "stream",
     "text": [
      "loss: 1.036:  71%|█████████████████████████████████████████████████████████████████████████████████████████████████████████████████████████████████                                                    | 1825/2560 [02:02<00:49, 14.80it/s]"
     ]
    },
    {
     "name": "stdout",
     "output_type": "stream",
     "text": [
      "Adjusting learning rate of group 0 to 1.9840e-04.\n"
     ]
    },
    {
     "name": "stderr",
     "output_type": "stream",
     "text": [
      "loss: 1.038:  73%|███████████████████████████████████████████████████████████████████████████████████████████████████████████████████████████████████▎                                                 | 1857/2560 [02:04<00:47, 14.81it/s]"
     ]
    },
    {
     "name": "stdout",
     "output_type": "stream",
     "text": [
      "Adjusting learning rate of group 0 to 1.9834e-04.\n"
     ]
    },
    {
     "name": "stderr",
     "output_type": "stream",
     "text": [
      "loss: 1.036:  74%|█████████████████████████████████████████████████████████████████████████████████████████████████████████████████████████████████████▌                                               | 1889/2560 [02:06<00:45, 14.81it/s]"
     ]
    },
    {
     "name": "stdout",
     "output_type": "stream",
     "text": [
      "Adjusting learning rate of group 0 to 1.9829e-04.\n"
     ]
    },
    {
     "name": "stderr",
     "output_type": "stream",
     "text": [
      "loss: 1.033:  75%|███████████████████████████████████████████████████████████████████████████████████████████████████████████████████████████████████████▊                                             | 1921/2560 [02:08<00:43, 14.79it/s]"
     ]
    },
    {
     "name": "stdout",
     "output_type": "stream",
     "text": [
      "Adjusting learning rate of group 0 to 1.9823e-04.\n"
     ]
    },
    {
     "name": "stderr",
     "output_type": "stream",
     "text": [
      "loss: 1.029:  76%|██████████████████████████████████████████████████████████████████████████████████████████████████████████████████████████████████████████                                           | 1953/2560 [02:10<00:40, 14.81it/s]"
     ]
    },
    {
     "name": "stdout",
     "output_type": "stream",
     "text": [
      "Adjusting learning rate of group 0 to 1.9817e-04.\n"
     ]
    },
    {
     "name": "stderr",
     "output_type": "stream",
     "text": [
      "loss: 1.025:  78%|████████████████████████████████████████████████████████████████████████████████████████████████████████████████████████████████████████████▎                                        | 1985/2560 [02:13<00:38, 14.82it/s]"
     ]
    },
    {
     "name": "stdout",
     "output_type": "stream",
     "text": [
      "Adjusting learning rate of group 0 to 1.9811e-04.\n"
     ]
    },
    {
     "name": "stderr",
     "output_type": "stream",
     "text": [
      "loss: 1.027:  79%|██████████████████████████████████████████████████████████████████████████████████████████████████████████████████████████████████████████████▌                                      | 2017/2560 [02:15<00:36, 14.82it/s]"
     ]
    },
    {
     "name": "stdout",
     "output_type": "stream",
     "text": [
      "Adjusting learning rate of group 0 to 1.9805e-04.\n"
     ]
    },
    {
     "name": "stderr",
     "output_type": "stream",
     "text": [
      "loss: 1.030:  80%|████████████████████████████████████████████████████████████████████████████████████████████████████████████████████████████████████████████████▊                                    | 2049/2560 [02:17<00:34, 14.80it/s]"
     ]
    },
    {
     "name": "stdout",
     "output_type": "stream",
     "text": [
      "Adjusting learning rate of group 0 to 1.9799e-04.\n"
     ]
    },
    {
     "name": "stderr",
     "output_type": "stream",
     "text": [
      "loss: 1.027:  81%|███████████████████████████████████████████████████████████████████████████████████████████████████████████████████████████████████████████████████▏                                 | 2081/2560 [02:19<00:32, 14.82it/s]"
     ]
    },
    {
     "name": "stdout",
     "output_type": "stream",
     "text": [
      "Adjusting learning rate of group 0 to 1.9792e-04.\n"
     ]
    },
    {
     "name": "stderr",
     "output_type": "stream",
     "text": [
      "loss: 1.022:  83%|█████████████████████████████████████████████████████████████████████████████████████████████████████████████████████████████████████████████████████▍                               | 2113/2560 [02:21<00:30, 14.79it/s]"
     ]
    },
    {
     "name": "stdout",
     "output_type": "stream",
     "text": [
      "Adjusting learning rate of group 0 to 1.9786e-04.\n"
     ]
    },
    {
     "name": "stderr",
     "output_type": "stream",
     "text": [
      "loss: 1.032:  84%|███████████████████████████████████████████████████████████████████████████████████████████████████████████████████████████████████████████████████████▋                             | 2145/2560 [02:23<00:28, 14.79it/s]"
     ]
    },
    {
     "name": "stdout",
     "output_type": "stream",
     "text": [
      "Adjusting learning rate of group 0 to 1.9779e-04.\n"
     ]
    },
    {
     "name": "stderr",
     "output_type": "stream",
     "text": [
      "loss: 1.022:  85%|█████████████████████████████████████████████████████████████████████████████████████████████████████████████████████████████████████████████████████████▉                           | 2177/2560 [02:26<00:25, 14.80it/s]"
     ]
    },
    {
     "name": "stdout",
     "output_type": "stream",
     "text": [
      "Adjusting learning rate of group 0 to 1.9773e-04.\n"
     ]
    },
    {
     "name": "stderr",
     "output_type": "stream",
     "text": [
      "loss: 1.033:  86%|████████████████████████████████████████████████████████████████████████████████████████████████████████████████████████████████████████████████████████████▏                        | 2209/2560 [02:28<00:23, 14.80it/s]"
     ]
    },
    {
     "name": "stdout",
     "output_type": "stream",
     "text": [
      "Adjusting learning rate of group 0 to 1.9766e-04.\n"
     ]
    },
    {
     "name": "stderr",
     "output_type": "stream",
     "text": [
      "loss: 1.020:  88%|██████████████████████████████████████████████████████████████████████████████████████████████████████████████████████████████████████████████████████████████▍                      | 2241/2560 [02:30<00:21, 14.80it/s]"
     ]
    },
    {
     "name": "stdout",
     "output_type": "stream",
     "text": [
      "Adjusting learning rate of group 0 to 1.9759e-04.\n"
     ]
    },
    {
     "name": "stderr",
     "output_type": "stream",
     "text": [
      "loss: 1.025:  89%|████████████████████████████████████████████████████████████████████████████████████████████████████████████████████████████████████████████████████████████████▋                    | 2273/2560 [02:32<00:19, 14.78it/s]"
     ]
    },
    {
     "name": "stdout",
     "output_type": "stream",
     "text": [
      "Adjusting learning rate of group 0 to 1.9752e-04.\n"
     ]
    },
    {
     "name": "stderr",
     "output_type": "stream",
     "text": [
      "loss: 1.017:  90%|██████████████████████████████████████████████████████████████████████████████████████████████████████████████████████████████████████████████████████████████████▉                  | 2305/2560 [02:34<00:17, 14.81it/s]"
     ]
    },
    {
     "name": "stdout",
     "output_type": "stream",
     "text": [
      "Adjusting learning rate of group 0 to 1.9745e-04.\n"
     ]
    },
    {
     "name": "stderr",
     "output_type": "stream",
     "text": [
      "loss: 1.023:  91%|█████████████████████████████████████████████████████████████████████████████████████████████████████████████████████████████████████████████████████████████████████▏               | 2337/2560 [02:36<00:15, 14.79it/s]"
     ]
    },
    {
     "name": "stdout",
     "output_type": "stream",
     "text": [
      "Adjusting learning rate of group 0 to 1.9738e-04.\n"
     ]
    },
    {
     "name": "stderr",
     "output_type": "stream",
     "text": [
      "loss: 1.014:  93%|███████████████████████████████████████████████████████████████████████████████████████████████████████████████████████████████████████████████████████████████████████▍             | 2369/2560 [02:39<00:12, 14.79it/s]"
     ]
    },
    {
     "name": "stdout",
     "output_type": "stream",
     "text": [
      "Adjusting learning rate of group 0 to 1.9731e-04.\n"
     ]
    },
    {
     "name": "stderr",
     "output_type": "stream",
     "text": [
      "loss: 1.012:  94%|█████████████████████████████████████████████████████████████████████████████████████████████████████████████████████████████████████████████████████████████████████████▊           | 2401/2560 [02:41<00:10, 14.77it/s]"
     ]
    },
    {
     "name": "stdout",
     "output_type": "stream",
     "text": [
      "Adjusting learning rate of group 0 to 1.9724e-04.\n"
     ]
    },
    {
     "name": "stderr",
     "output_type": "stream",
     "text": [
      "loss: 1.022:  95%|████████████████████████████████████████████████████████████████████████████████████████████████████████████████████████████████████████████████████████████████████████████         | 2433/2560 [02:43<00:08, 14.79it/s]"
     ]
    },
    {
     "name": "stdout",
     "output_type": "stream",
     "text": [
      "Adjusting learning rate of group 0 to 1.9716e-04.\n"
     ]
    },
    {
     "name": "stderr",
     "output_type": "stream",
     "text": [
      "loss: 1.022:  96%|██████████████████████████████████████████████████████████████████████████████████████████████████████████████████████████████████████████████████████████████████████████████▎      | 2465/2560 [02:45<00:06, 14.78it/s]"
     ]
    },
    {
     "name": "stdout",
     "output_type": "stream",
     "text": [
      "Adjusting learning rate of group 0 to 1.9709e-04.\n"
     ]
    },
    {
     "name": "stderr",
     "output_type": "stream",
     "text": [
      "loss: 1.014:  98%|████████████████████████████████████████████████████████████████████████████████████████████████████████████████████████████████████████████████████████████████████████████████▌    | 2497/2560 [02:47<00:04, 14.80it/s]"
     ]
    },
    {
     "name": "stdout",
     "output_type": "stream",
     "text": [
      "Adjusting learning rate of group 0 to 1.9701e-04.\n"
     ]
    },
    {
     "name": "stderr",
     "output_type": "stream",
     "text": [
      "loss: 1.009:  99%|██████████████████████████████████████████████████████████████████████████████████████████████████████████████████████████████████████████████████████████████████████████████████▊  | 2529/2560 [02:49<00:02, 14.78it/s]"
     ]
    },
    {
     "name": "stdout",
     "output_type": "stream",
     "text": [
      "Adjusting learning rate of group 0 to 1.9694e-04.\n"
     ]
    },
    {
     "name": "stderr",
     "output_type": "stream",
     "text": [
      "loss: 1.025: 100%|█████████████████████████████████████████████████████████████████████████████████████████████████████████████████████████████████████████████████████████████████████████████████████| 2560/2560 [02:51<00:00, 14.89it/s]\n"
     ]
    },
    {
     "name": "stdout",
     "output_type": "stream",
     "text": [
      "Adjusting learning rate of group 0 to 1.9686e-04.\n",
      "In epoch 0, average traning loss is 1.2022667035693302.\n"
     ]
    },
    {
     "name": "stderr",
     "output_type": "stream",
     "text": [
      "loss: 1.014:   1%|██▍                                                                                                                                                                                    | 34/2560 [00:02<02:50, 14.79it/s]"
     ]
    },
    {
     "name": "stdout",
     "output_type": "stream",
     "text": [
      "Adjusting learning rate of group 0 to 1.9678e-04.\n"
     ]
    },
    {
     "name": "stderr",
     "output_type": "stream",
     "text": [
      "loss: 1.007:   3%|████▋                                                                                                                                                                                  | 66/2560 [00:04<02:48, 14.81it/s]"
     ]
    },
    {
     "name": "stdout",
     "output_type": "stream",
     "text": [
      "Adjusting learning rate of group 0 to 1.9670e-04.\n"
     ]
    },
    {
     "name": "stderr",
     "output_type": "stream",
     "text": [
      "loss: 1.014:   4%|███████                                                                                                                                                                                | 98/2560 [00:06<02:46, 14.81it/s]"
     ]
    },
    {
     "name": "stdout",
     "output_type": "stream",
     "text": [
      "Adjusting learning rate of group 0 to 1.9662e-04.\n"
     ]
    },
    {
     "name": "stderr",
     "output_type": "stream",
     "text": [
      "loss: 1.013:   5%|█████████▏                                                                                                                                                                            | 130/2560 [00:08<02:44, 14.82it/s]"
     ]
    },
    {
     "name": "stdout",
     "output_type": "stream",
     "text": [
      "Adjusting learning rate of group 0 to 1.9654e-04.\n"
     ]
    },
    {
     "name": "stderr",
     "output_type": "stream",
     "text": [
      "loss: 1.014:   6%|███████████▌                                                                                                                                                                          | 162/2560 [00:10<02:42, 14.80it/s]"
     ]
    },
    {
     "name": "stdout",
     "output_type": "stream",
     "text": [
      "Adjusting learning rate of group 0 to 1.9646e-04.\n"
     ]
    },
    {
     "name": "stderr",
     "output_type": "stream",
     "text": [
      "loss: 1.011:   8%|█████████████▊                                                                                                                                                                        | 194/2560 [00:13<02:39, 14.79it/s]"
     ]
    },
    {
     "name": "stdout",
     "output_type": "stream",
     "text": [
      "Adjusting learning rate of group 0 to 1.9637e-04.\n"
     ]
    },
    {
     "name": "stderr",
     "output_type": "stream",
     "text": [
      "loss: 1.007:   9%|████████████████                                                                                                                                                                      | 226/2560 [00:15<02:37, 14.81it/s]"
     ]
    },
    {
     "name": "stdout",
     "output_type": "stream",
     "text": [
      "Adjusting learning rate of group 0 to 1.9629e-04.\n"
     ]
    },
    {
     "name": "stderr",
     "output_type": "stream",
     "text": [
      "loss: 1.008:  10%|██████████████████▎                                                                                                                                                                   | 258/2560 [00:17<02:35, 14.80it/s]"
     ]
    },
    {
     "name": "stdout",
     "output_type": "stream",
     "text": [
      "Adjusting learning rate of group 0 to 1.9620e-04.\n"
     ]
    },
    {
     "name": "stderr",
     "output_type": "stream",
     "text": [
      "loss: 1.012:  11%|████████████████████▌                                                                                                                                                                 | 290/2560 [00:19<02:33, 14.82it/s]"
     ]
    },
    {
     "name": "stdout",
     "output_type": "stream",
     "text": [
      "Adjusting learning rate of group 0 to 1.9612e-04.\n"
     ]
    },
    {
     "name": "stderr",
     "output_type": "stream",
     "text": [
      "loss: 1.001:  13%|██████████████████████▉                                                                                                                                                               | 322/2560 [00:21<02:31, 14.81it/s]"
     ]
    },
    {
     "name": "stdout",
     "output_type": "stream",
     "text": [
      "Adjusting learning rate of group 0 to 1.9603e-04.\n"
     ]
    },
    {
     "name": "stderr",
     "output_type": "stream",
     "text": [
      "loss: 1.003:  14%|█████████████████████████▏                                                                                                                                                            | 354/2560 [00:23<02:29, 14.79it/s]"
     ]
    },
    {
     "name": "stdout",
     "output_type": "stream",
     "text": [
      "Adjusting learning rate of group 0 to 1.9594e-04.\n"
     ]
    },
    {
     "name": "stderr",
     "output_type": "stream",
     "text": [
      "loss: 1.004:  15%|███████████████████████████▍                                                                                                                                                          | 386/2560 [00:26<02:27, 14.79it/s]"
     ]
    },
    {
     "name": "stdout",
     "output_type": "stream",
     "text": [
      "Adjusting learning rate of group 0 to 1.9585e-04.\n"
     ]
    },
    {
     "name": "stderr",
     "output_type": "stream",
     "text": [
      "loss: 1.006:  16%|█████████████████████████████▋                                                                                                                                                        | 418/2560 [00:28<02:24, 14.79it/s]"
     ]
    },
    {
     "name": "stdout",
     "output_type": "stream",
     "text": [
      "Adjusting learning rate of group 0 to 1.9576e-04.\n"
     ]
    },
    {
     "name": "stderr",
     "output_type": "stream",
     "text": [
      "loss: 1.001:  18%|███████████████████████████████▉                                                                                                                                                      | 450/2560 [00:30<02:22, 14.81it/s]"
     ]
    },
    {
     "name": "stdout",
     "output_type": "stream",
     "text": [
      "Adjusting learning rate of group 0 to 1.9567e-04.\n"
     ]
    },
    {
     "name": "stderr",
     "output_type": "stream",
     "text": [
      "loss: 1.000:  19%|██████████████████████████████████▎                                                                                                                                                   | 482/2560 [00:32<02:20, 14.81it/s]"
     ]
    },
    {
     "name": "stdout",
     "output_type": "stream",
     "text": [
      "Adjusting learning rate of group 0 to 1.9558e-04.\n"
     ]
    },
    {
     "name": "stderr",
     "output_type": "stream",
     "text": [
      "loss: 1.000:  20%|████████████████████████████████████▌                                                                                                                                                 | 514/2560 [00:34<02:18, 14.79it/s]"
     ]
    },
    {
     "name": "stdout",
     "output_type": "stream",
     "text": [
      "Adjusting learning rate of group 0 to 1.9549e-04.\n"
     ]
    },
    {
     "name": "stderr",
     "output_type": "stream",
     "text": [
      "loss: 1.007:  21%|██████████████████████████████████████▊                                                                                                                                               | 546/2560 [00:36<02:16, 14.78it/s]"
     ]
    },
    {
     "name": "stdout",
     "output_type": "stream",
     "text": [
      "Adjusting learning rate of group 0 to 1.9539e-04.\n"
     ]
    },
    {
     "name": "stderr",
     "output_type": "stream",
     "text": [
      "loss: 1.007:  23%|█████████████████████████████████████████                                                                                                                                             | 578/2560 [00:39<02:14, 14.77it/s]"
     ]
    },
    {
     "name": "stdout",
     "output_type": "stream",
     "text": [
      "Adjusting learning rate of group 0 to 1.9530e-04.\n"
     ]
    },
    {
     "name": "stderr",
     "output_type": "stream",
     "text": [
      "loss: 0.999:  24%|███████████████████████████████████████████▎                                                                                                                                          | 610/2560 [00:41<02:11, 14.81it/s]"
     ]
    },
    {
     "name": "stdout",
     "output_type": "stream",
     "text": [
      "Adjusting learning rate of group 0 to 1.9520e-04.\n"
     ]
    },
    {
     "name": "stderr",
     "output_type": "stream",
     "text": [
      "loss: 1.003:  25%|█████████████████████████████████████████████▋                                                                                                                                        | 642/2560 [00:43<02:09, 14.79it/s]"
     ]
    },
    {
     "name": "stdout",
     "output_type": "stream",
     "text": [
      "Adjusting learning rate of group 0 to 1.9511e-04.\n"
     ]
    },
    {
     "name": "stderr",
     "output_type": "stream",
     "text": [
      "loss: 1.005:  26%|███████████████████████████████████████████████▉                                                                                                                                      | 674/2560 [00:45<02:07, 14.76it/s]"
     ]
    },
    {
     "name": "stdout",
     "output_type": "stream",
     "text": [
      "Adjusting learning rate of group 0 to 1.9501e-04.\n"
     ]
    },
    {
     "name": "stderr",
     "output_type": "stream",
     "text": [
      "loss: 0.992:  28%|██████████████████████████████████████████████████▏                                                                                                                                   | 706/2560 [00:47<02:05, 14.80it/s]"
     ]
    },
    {
     "name": "stdout",
     "output_type": "stream",
     "text": [
      "Adjusting learning rate of group 0 to 1.9491e-04.\n"
     ]
    },
    {
     "name": "stderr",
     "output_type": "stream",
     "text": [
      "loss: 1.001:  29%|████████████████████████████████████████████████████▍                                                                                                                                 | 738/2560 [00:49<02:03, 14.78it/s]"
     ]
    },
    {
     "name": "stdout",
     "output_type": "stream",
     "text": [
      "Adjusting learning rate of group 0 to 1.9481e-04.\n"
     ]
    },
    {
     "name": "stderr",
     "output_type": "stream",
     "text": [
      "loss: 1.000:  30%|██████████████████████████████████████████████████████▋                                                                                                                               | 770/2560 [00:52<02:01, 14.78it/s]"
     ]
    },
    {
     "name": "stdout",
     "output_type": "stream",
     "text": [
      "Adjusting learning rate of group 0 to 1.9471e-04.\n"
     ]
    },
    {
     "name": "stderr",
     "output_type": "stream",
     "text": [
      "loss: 0.997:  31%|█████████████████████████████████████████████████████████                                                                                                                             | 802/2560 [00:54<01:58, 14.80it/s]"
     ]
    },
    {
     "name": "stdout",
     "output_type": "stream",
     "text": [
      "Adjusting learning rate of group 0 to 1.9461e-04.\n"
     ]
    },
    {
     "name": "stderr",
     "output_type": "stream",
     "text": [
      "loss: 0.990:  33%|███████████████████████████████████████████████████████████▎                                                                                                                          | 834/2560 [00:56<01:56, 14.79it/s]"
     ]
    },
    {
     "name": "stdout",
     "output_type": "stream",
     "text": [
      "Adjusting learning rate of group 0 to 1.9451e-04.\n"
     ]
    },
    {
     "name": "stderr",
     "output_type": "stream",
     "text": [
      "loss: 0.999:  34%|█████████████████████████████████████████████████████████████▌                                                                                                                        | 866/2560 [00:58<01:54, 14.80it/s]"
     ]
    },
    {
     "name": "stdout",
     "output_type": "stream",
     "text": [
      "Adjusting learning rate of group 0 to 1.9440e-04.\n"
     ]
    },
    {
     "name": "stderr",
     "output_type": "stream",
     "text": [
      "loss: 1.002:  35%|███████████████████████████████████████████████████████████████▊                                                                                                                      | 898/2560 [01:00<01:52, 14.78it/s]"
     ]
    },
    {
     "name": "stdout",
     "output_type": "stream",
     "text": [
      "Adjusting learning rate of group 0 to 1.9430e-04.\n"
     ]
    },
    {
     "name": "stderr",
     "output_type": "stream",
     "text": [
      "loss: 1.006:  36%|██████████████████████████████████████████████████████████████████                                                                                                                    | 930/2560 [01:02<01:50, 14.78it/s]"
     ]
    },
    {
     "name": "stdout",
     "output_type": "stream",
     "text": [
      "Adjusting learning rate of group 0 to 1.9419e-04.\n"
     ]
    },
    {
     "name": "stderr",
     "output_type": "stream",
     "text": [
      "loss: 0.994:  38%|████████████████████████████████████████████████████████████████████▍                                                                                                                 | 962/2560 [01:05<01:47, 14.80it/s]"
     ]
    },
    {
     "name": "stdout",
     "output_type": "stream",
     "text": [
      "Adjusting learning rate of group 0 to 1.9409e-04.\n"
     ]
    },
    {
     "name": "stderr",
     "output_type": "stream",
     "text": [
      "loss: 0.993:  39%|██████████████████████████████████████████████████████████████████████▋                                                                                                               | 994/2560 [01:07<01:46, 14.77it/s]"
     ]
    },
    {
     "name": "stdout",
     "output_type": "stream",
     "text": [
      "Adjusting learning rate of group 0 to 1.9398e-04.\n"
     ]
    },
    {
     "name": "stderr",
     "output_type": "stream",
     "text": [
      "loss: 0.985:  40%|████████████████████████████████████████████████████████████████████████▌                                                                                                            | 1026/2560 [01:09<01:43, 14.76it/s]"
     ]
    },
    {
     "name": "stdout",
     "output_type": "stream",
     "text": [
      "Adjusting learning rate of group 0 to 1.9387e-04.\n"
     ]
    },
    {
     "name": "stderr",
     "output_type": "stream",
     "text": [
      "loss: 0.992:  41%|██████████████████████████████████████████████████████████████████████████▊                                                                                                          | 1058/2560 [01:11<01:41, 14.80it/s]"
     ]
    },
    {
     "name": "stdout",
     "output_type": "stream",
     "text": [
      "Adjusting learning rate of group 0 to 1.9376e-04.\n"
     ]
    },
    {
     "name": "stderr",
     "output_type": "stream",
     "text": [
      "loss: 0.982:  43%|█████████████████████████████████████████████████████████████████████████████                                                                                                        | 1090/2560 [01:13<01:39, 14.78it/s]"
     ]
    },
    {
     "name": "stdout",
     "output_type": "stream",
     "text": [
      "Adjusting learning rate of group 0 to 1.9365e-04.\n"
     ]
    },
    {
     "name": "stderr",
     "output_type": "stream",
     "text": [
      "loss: 0.988:  44%|███████████████████████████████████████████████████████████████████████████████▎                                                                                                     | 1122/2560 [01:15<01:37, 14.80it/s]"
     ]
    },
    {
     "name": "stdout",
     "output_type": "stream",
     "text": [
      "Adjusting learning rate of group 0 to 1.9354e-04.\n"
     ]
    },
    {
     "name": "stderr",
     "output_type": "stream",
     "text": [
      "loss: 0.992:  45%|█████████████████████████████████████████████████████████████████████████████████▌                                                                                                   | 1154/2560 [01:18<01:35, 14.80it/s]"
     ]
    },
    {
     "name": "stdout",
     "output_type": "stream",
     "text": [
      "Adjusting learning rate of group 0 to 1.9343e-04.\n"
     ]
    },
    {
     "name": "stderr",
     "output_type": "stream",
     "text": [
      "loss: 0.990:  46%|███████████████████████████████████████████████████████████████████████████████████▊                                                                                                 | 1186/2560 [01:20<01:33, 14.76it/s]"
     ]
    },
    {
     "name": "stdout",
     "output_type": "stream",
     "text": [
      "Adjusting learning rate of group 0 to 1.9332e-04.\n"
     ]
    },
    {
     "name": "stderr",
     "output_type": "stream",
     "text": [
      "loss: 0.993:  48%|██████████████████████████████████████████████████████████████████████████████████████                                                                                               | 1218/2560 [01:22<01:30, 14.77it/s]"
     ]
    },
    {
     "name": "stdout",
     "output_type": "stream",
     "text": [
      "Adjusting learning rate of group 0 to 1.9321e-04.\n"
     ]
    },
    {
     "name": "stderr",
     "output_type": "stream",
     "text": [
      "loss: 0.993:  49%|████████████████████████████████████████████████████████████████████████████████████████▍                                                                                            | 1250/2560 [01:24<01:28, 14.77it/s]"
     ]
    },
    {
     "name": "stdout",
     "output_type": "stream",
     "text": [
      "Adjusting learning rate of group 0 to 1.9309e-04.\n"
     ]
    },
    {
     "name": "stderr",
     "output_type": "stream",
     "text": [
      "loss: 0.982:  50%|██████████████████████████████████████████████████████████████████████████████████████████▋                                                                                          | 1282/2560 [01:26<01:26, 14.78it/s]"
     ]
    },
    {
     "name": "stdout",
     "output_type": "stream",
     "text": [
      "Adjusting learning rate of group 0 to 1.9298e-04.\n"
     ]
    },
    {
     "name": "stderr",
     "output_type": "stream",
     "text": [
      "loss: 0.989:  51%|████████████████████████████████████████████████████████████████████████████████████████████▉                                                                                        | 1314/2560 [01:28<01:24, 14.77it/s]"
     ]
    },
    {
     "name": "stdout",
     "output_type": "stream",
     "text": [
      "Adjusting learning rate of group 0 to 1.9286e-04.\n"
     ]
    },
    {
     "name": "stderr",
     "output_type": "stream",
     "text": [
      "loss: 0.979:  53%|███████████████████████████████████████████████████████████████████████████████████████████████▏                                                                                     | 1346/2560 [01:30<01:22, 14.77it/s]"
     ]
    },
    {
     "name": "stdout",
     "output_type": "stream",
     "text": [
      "Adjusting learning rate of group 0 to 1.9274e-04.\n"
     ]
    },
    {
     "name": "stderr",
     "output_type": "stream",
     "text": [
      "loss: 0.990:  54%|█████████████████████████████████████████████████████████████████████████████████████████████████▍                                                                                   | 1378/2560 [01:33<01:19, 14.80it/s]"
     ]
    },
    {
     "name": "stdout",
     "output_type": "stream",
     "text": [
      "Adjusting learning rate of group 0 to 1.9263e-04.\n"
     ]
    },
    {
     "name": "stderr",
     "output_type": "stream",
     "text": [
      "loss: 0.980:  55%|███████████████████████████████████████████████████████████████████████████████████████████████████▋                                                                                 | 1410/2560 [01:35<01:17, 14.77it/s]"
     ]
    },
    {
     "name": "stdout",
     "output_type": "stream",
     "text": [
      "Adjusting learning rate of group 0 to 1.9251e-04.\n"
     ]
    },
    {
     "name": "stderr",
     "output_type": "stream",
     "text": [
      "loss: 0.994:  56%|█████████████████████████████████████████████████████████████████████████████████████████████████████▉                                                                               | 1442/2560 [01:37<01:15, 14.79it/s]"
     ]
    },
    {
     "name": "stdout",
     "output_type": "stream",
     "text": [
      "Adjusting learning rate of group 0 to 1.9239e-04.\n"
     ]
    },
    {
     "name": "stderr",
     "output_type": "stream",
     "text": [
      "loss: 0.976:  58%|████████████████████████████████████████████████████████████████████████████████████████████████████████▏                                                                            | 1474/2560 [01:39<01:13, 14.77it/s]"
     ]
    },
    {
     "name": "stdout",
     "output_type": "stream",
     "text": [
      "Adjusting learning rate of group 0 to 1.9227e-04.\n"
     ]
    },
    {
     "name": "stderr",
     "output_type": "stream",
     "text": [
      "loss: 0.985:  59%|██████████████████████████████████████████████████████████████████████████████████████████████████████████▍                                                                          | 1506/2560 [01:41<01:11, 14.79it/s]"
     ]
    },
    {
     "name": "stdout",
     "output_type": "stream",
     "text": [
      "Adjusting learning rate of group 0 to 1.9215e-04.\n"
     ]
    },
    {
     "name": "stderr",
     "output_type": "stream",
     "text": [
      "loss: 0.972:  60%|████████████████████████████████████████████████████████████████████████████████████████████████████████████▋                                                                        | 1538/2560 [01:43<01:09, 14.79it/s]"
     ]
    },
    {
     "name": "stdout",
     "output_type": "stream",
     "text": [
      "Adjusting learning rate of group 0 to 1.9202e-04.\n"
     ]
    },
    {
     "name": "stderr",
     "output_type": "stream",
     "text": [
      "loss: 0.971:  61%|███████████████████████████████████████████████████████████████████████████████████████████████████████████████                                                                      | 1570/2560 [01:46<01:06, 14.79it/s]"
     ]
    },
    {
     "name": "stdout",
     "output_type": "stream",
     "text": [
      "Adjusting learning rate of group 0 to 1.9190e-04.\n"
     ]
    },
    {
     "name": "stderr",
     "output_type": "stream",
     "text": [
      "loss: 0.983:  63%|█████████████████████████████████████████████████████████████████████████████████████████████████████████████████▎                                                                   | 1602/2560 [01:48<01:04, 14.77it/s]"
     ]
    },
    {
     "name": "stdout",
     "output_type": "stream",
     "text": [
      "Adjusting learning rate of group 0 to 1.9178e-04.\n"
     ]
    },
    {
     "name": "stderr",
     "output_type": "stream",
     "text": [
      "loss: 0.993:  64%|███████████████████████████████████████████████████████████████████████████████████████████████████████████████████▌                                                                 | 1634/2560 [01:50<01:02, 14.78it/s]"
     ]
    },
    {
     "name": "stdout",
     "output_type": "stream",
     "text": [
      "Adjusting learning rate of group 0 to 1.9165e-04.\n"
     ]
    },
    {
     "name": "stderr",
     "output_type": "stream",
     "text": [
      "loss: 0.984:  65%|█████████████████████████████████████████████████████████████████████████████████████████████████████████████████████▊                                                               | 1666/2560 [01:52<01:00, 14.77it/s]"
     ]
    },
    {
     "name": "stdout",
     "output_type": "stream",
     "text": [
      "Adjusting learning rate of group 0 to 1.9152e-04.\n"
     ]
    },
    {
     "name": "stderr",
     "output_type": "stream",
     "text": [
      "loss: 0.981:  66%|████████████████████████████████████████████████████████████████████████████████████████████████████████████████████████                                                             | 1698/2560 [01:54<00:58, 14.78it/s]"
     ]
    },
    {
     "name": "stdout",
     "output_type": "stream",
     "text": [
      "Adjusting learning rate of group 0 to 1.9140e-04.\n"
     ]
    },
    {
     "name": "stderr",
     "output_type": "stream",
     "text": [
      "loss: 0.976:  68%|██████████████████████████████████████████████████████████████████████████████████████████████████████████████████████████▎                                                          | 1730/2560 [01:56<00:56, 14.80it/s]"
     ]
    },
    {
     "name": "stdout",
     "output_type": "stream",
     "text": [
      "Adjusting learning rate of group 0 to 1.9127e-04.\n"
     ]
    },
    {
     "name": "stderr",
     "output_type": "stream",
     "text": [
      "loss: 0.983:  69%|████████████████████████████████████████████████████████████████████████████████████████████████████████████████████████████▌                                                        | 1762/2560 [01:59<00:53, 14.80it/s]"
     ]
    },
    {
     "name": "stdout",
     "output_type": "stream",
     "text": [
      "Adjusting learning rate of group 0 to 1.9114e-04.\n"
     ]
    },
    {
     "name": "stderr",
     "output_type": "stream",
     "text": [
      "loss: 0.974:  70%|██████████████████████████████████████████████████████████████████████████████████████████████████████████████████████████████▊                                                      | 1794/2560 [02:01<00:51, 14.78it/s]"
     ]
    },
    {
     "name": "stdout",
     "output_type": "stream",
     "text": [
      "Adjusting learning rate of group 0 to 1.9101e-04.\n"
     ]
    },
    {
     "name": "stderr",
     "output_type": "stream",
     "text": [
      "loss: 0.980:  71%|█████████████████████████████████████████████████████████████████████████████████████████████████████████████████████████████████                                                    | 1826/2560 [02:03<00:49, 14.78it/s]"
     ]
    },
    {
     "name": "stdout",
     "output_type": "stream",
     "text": [
      "Adjusting learning rate of group 0 to 1.9088e-04.\n"
     ]
    },
    {
     "name": "stderr",
     "output_type": "stream",
     "text": [
      "loss: 0.986:  73%|███████████████████████████████████████████████████████████████████████████████████████████████████████████████████████████████████▎                                                 | 1858/2560 [02:05<00:47, 14.76it/s]"
     ]
    },
    {
     "name": "stdout",
     "output_type": "stream",
     "text": [
      "Adjusting learning rate of group 0 to 1.9075e-04.\n"
     ]
    },
    {
     "name": "stderr",
     "output_type": "stream",
     "text": [
      "loss: 0.979:  74%|█████████████████████████████████████████████████████████████████████████████████████████████████████████████████████████████████████▋                                               | 1890/2560 [02:07<00:45, 14.77it/s]"
     ]
    },
    {
     "name": "stdout",
     "output_type": "stream",
     "text": [
      "Adjusting learning rate of group 0 to 1.9062e-04.\n"
     ]
    },
    {
     "name": "stderr",
     "output_type": "stream",
     "text": [
      "loss: 0.976:  75%|███████████████████████████████████████████████████████████████████████████████████████████████████████████████████████████████████████▉                                             | 1922/2560 [02:09<00:43, 14.77it/s]"
     ]
    },
    {
     "name": "stdout",
     "output_type": "stream",
     "text": [
      "Adjusting learning rate of group 0 to 1.9048e-04.\n"
     ]
    },
    {
     "name": "stderr",
     "output_type": "stream",
     "text": [
      "loss: 0.982:  76%|██████████████████████████████████████████████████████████████████████████████████████████████████████████████████████████████████████████▏                                          | 1954/2560 [02:12<00:40, 14.79it/s]"
     ]
    },
    {
     "name": "stdout",
     "output_type": "stream",
     "text": [
      "Adjusting learning rate of group 0 to 1.9035e-04.\n"
     ]
    },
    {
     "name": "stderr",
     "output_type": "stream",
     "text": [
      "loss: 0.977:  78%|████████████████████████████████████████████████████████████████████████████████████████████████████████████████████████████████████████████▍                                        | 1986/2560 [02:14<00:38, 14.78it/s]"
     ]
    },
    {
     "name": "stdout",
     "output_type": "stream",
     "text": [
      "Adjusting learning rate of group 0 to 1.9021e-04.\n"
     ]
    },
    {
     "name": "stderr",
     "output_type": "stream",
     "text": [
      "loss: 0.967:  79%|██████████████████████████████████████████████████████████████████████████████████████████████████████████████████████████████████████████████▋                                      | 2018/2560 [02:16<00:36, 14.78it/s]"
     ]
    },
    {
     "name": "stdout",
     "output_type": "stream",
     "text": [
      "Adjusting learning rate of group 0 to 1.9008e-04.\n"
     ]
    },
    {
     "name": "stderr",
     "output_type": "stream",
     "text": [
      "loss: 0.971:  80%|████████████████████████████████████████████████████████████████████████████████████████████████████████████████████████████████████████████████▉                                    | 2050/2560 [02:18<00:34, 14.78it/s]"
     ]
    },
    {
     "name": "stdout",
     "output_type": "stream",
     "text": [
      "Adjusting learning rate of group 0 to 1.8994e-04.\n"
     ]
    },
    {
     "name": "stderr",
     "output_type": "stream",
     "text": [
      "loss: 0.978:  81%|███████████████████████████████████████████████████████████████████████████████████████████████████████████████████████████████████████████████████▏                                 | 2082/2560 [02:20<00:32, 14.80it/s]"
     ]
    },
    {
     "name": "stdout",
     "output_type": "stream",
     "text": [
      "Adjusting learning rate of group 0 to 1.8980e-04.\n"
     ]
    },
    {
     "name": "stderr",
     "output_type": "stream",
     "text": [
      "loss: 0.981:  83%|█████████████████████████████████████████████████████████████████████████████████████████████████████████████████████████████████████████████████████▍                               | 2114/2560 [02:22<00:30, 14.78it/s]"
     ]
    },
    {
     "name": "stdout",
     "output_type": "stream",
     "text": [
      "Adjusting learning rate of group 0 to 1.8966e-04.\n"
     ]
    },
    {
     "name": "stderr",
     "output_type": "stream",
     "text": [
      "loss: 0.972:  84%|███████████████████████████████████████████████████████████████████████████████████████████████████████████████████████████████████████████████████████▋                             | 2146/2560 [02:25<00:28, 14.78it/s]"
     ]
    },
    {
     "name": "stdout",
     "output_type": "stream",
     "text": [
      "Adjusting learning rate of group 0 to 1.8952e-04.\n"
     ]
    },
    {
     "name": "stderr",
     "output_type": "stream",
     "text": [
      "loss: 0.977:  85%|█████████████████████████████████████████████████████████████████████████████████████████████████████████████████████████████████████████████████████████▉                           | 2178/2560 [02:27<00:25, 14.77it/s]"
     ]
    },
    {
     "name": "stdout",
     "output_type": "stream",
     "text": [
      "Adjusting learning rate of group 0 to 1.8938e-04.\n"
     ]
    },
    {
     "name": "stderr",
     "output_type": "stream",
     "text": [
      "loss: 0.973:  86%|████████████████████████████████████████████████████████████████████████████████████████████████████████████████████████████████████████████████████████████▎                        | 2210/2560 [02:29<00:23, 14.76it/s]"
     ]
    },
    {
     "name": "stdout",
     "output_type": "stream",
     "text": [
      "Adjusting learning rate of group 0 to 1.8924e-04.\n"
     ]
    },
    {
     "name": "stderr",
     "output_type": "stream",
     "text": [
      "loss: 0.974:  88%|██████████████████████████████████████████████████████████████████████████████████████████████████████████████████████████████████████████████████████████████▌                      | 2242/2560 [02:31<00:21, 14.76it/s]"
     ]
    },
    {
     "name": "stdout",
     "output_type": "stream",
     "text": [
      "Adjusting learning rate of group 0 to 1.8910e-04.\n"
     ]
    },
    {
     "name": "stderr",
     "output_type": "stream",
     "text": [
      "loss: 0.965:  89%|████████████████████████████████████████████████████████████████████████████████████████████████████████████████████████████████████████████████████████████████▊                    | 2274/2560 [02:33<00:19, 14.77it/s]"
     ]
    },
    {
     "name": "stdout",
     "output_type": "stream",
     "text": [
      "Adjusting learning rate of group 0 to 1.8896e-04.\n"
     ]
    },
    {
     "name": "stderr",
     "output_type": "stream",
     "text": [
      "loss: 0.957:  90%|███████████████████████████████████████████████████████████████████████████████████████████████████████████████████████████████████████████████████████████████████                  | 2306/2560 [02:35<00:17, 14.80it/s]"
     ]
    },
    {
     "name": "stdout",
     "output_type": "stream",
     "text": [
      "Adjusting learning rate of group 0 to 1.8881e-04.\n"
     ]
    },
    {
     "name": "stderr",
     "output_type": "stream",
     "text": [
      "loss: 0.966:  91%|█████████████████████████████████████████████████████████████████████████████████████████████████████████████████████████████████████████████████████████████████████▎               | 2338/2560 [02:38<00:15, 14.77it/s]"
     ]
    },
    {
     "name": "stdout",
     "output_type": "stream",
     "text": [
      "Adjusting learning rate of group 0 to 1.8867e-04.\n"
     ]
    },
    {
     "name": "stderr",
     "output_type": "stream",
     "text": [
      "loss: 0.965:  93%|███████████████████████████████████████████████████████████████████████████████████████████████████████████████████████████████████████████████████████████████████████▌             | 2370/2560 [02:40<00:12, 14.78it/s]"
     ]
    },
    {
     "name": "stdout",
     "output_type": "stream",
     "text": [
      "Adjusting learning rate of group 0 to 1.8852e-04.\n"
     ]
    },
    {
     "name": "stderr",
     "output_type": "stream",
     "text": [
      "loss: 0.964:  94%|█████████████████████████████████████████████████████████████████████████████████████████████████████████████████████████████████████████████████████████████████████████▊           | 2402/2560 [02:42<00:10, 14.77it/s]"
     ]
    },
    {
     "name": "stdout",
     "output_type": "stream",
     "text": [
      "Adjusting learning rate of group 0 to 1.8838e-04.\n"
     ]
    },
    {
     "name": "stderr",
     "output_type": "stream",
     "text": [
      "loss: 0.966:  95%|████████████████████████████████████████████████████████████████████████████████████████████████████████████████████████████████████████████████████████████████████████████         | 2434/2560 [02:44<00:08, 14.80it/s]"
     ]
    },
    {
     "name": "stdout",
     "output_type": "stream",
     "text": [
      "Adjusting learning rate of group 0 to 1.8823e-04.\n"
     ]
    },
    {
     "name": "stderr",
     "output_type": "stream",
     "text": [
      "loss: 0.963:  96%|██████████████████████████████████████████████████████████████████████████████████████████████████████████████████████████████████████████████████████████████████████████████▎      | 2466/2560 [02:46<00:06, 14.77it/s]"
     ]
    },
    {
     "name": "stdout",
     "output_type": "stream",
     "text": [
      "Adjusting learning rate of group 0 to 1.8808e-04.\n"
     ]
    },
    {
     "name": "stderr",
     "output_type": "stream",
     "text": [
      "loss: 0.967:  98%|████████████████████████████████████████████████████████████████████████████████████████████████████████████████████████████████████████████████████████████████████████████████▌    | 2498/2560 [02:48<00:04, 14.78it/s]"
     ]
    },
    {
     "name": "stdout",
     "output_type": "stream",
     "text": [
      "Adjusting learning rate of group 0 to 1.8793e-04.\n"
     ]
    },
    {
     "name": "stderr",
     "output_type": "stream",
     "text": [
      "loss: 0.974:  99%|██████████████████████████████████████████████████████████████████████████████████████████████████████████████████████████████████████████████████████████████████████████████████▉  | 2530/2560 [02:51<00:02, 14.76it/s]"
     ]
    },
    {
     "name": "stdout",
     "output_type": "stream",
     "text": [
      "Adjusting learning rate of group 0 to 1.8778e-04.\n"
     ]
    },
    {
     "name": "stderr",
     "output_type": "stream",
     "text": [
      "loss: 0.965: 100%|█████████████████████████████████████████████████████████████████████████████████████████████████████████████████████████████████████████████████████████████████████████████████████| 2560/2560 [02:53<00:00, 14.78it/s]\n"
     ]
    },
    {
     "name": "stdout",
     "output_type": "stream",
     "text": [
      "Adjusting learning rate of group 0 to 1.8763e-04.\n",
      "In epoch 1, average traning loss is 0.9880959489615634.\n"
     ]
    },
    {
     "name": "stderr",
     "output_type": "stream",
     "text": [
      "loss: 0.966:   1%|██▍                                                                                                                                                                                    | 34/2560 [00:02<02:50, 14.81it/s]"
     ]
    },
    {
     "name": "stdout",
     "output_type": "stream",
     "text": [
      "Adjusting learning rate of group 0 to 1.8748e-04.\n"
     ]
    },
    {
     "name": "stderr",
     "output_type": "stream",
     "text": [
      "loss: 0.971:   3%|████▋                                                                                                                                                                                  | 66/2560 [00:04<02:48, 14.79it/s]"
     ]
    },
    {
     "name": "stdout",
     "output_type": "stream",
     "text": [
      "Adjusting learning rate of group 0 to 1.8733e-04.\n"
     ]
    },
    {
     "name": "stderr",
     "output_type": "stream",
     "text": [
      "loss: 0.960:   4%|███████                                                                                                                                                                                | 98/2560 [00:06<02:46, 14.80it/s]"
     ]
    },
    {
     "name": "stdout",
     "output_type": "stream",
     "text": [
      "Adjusting learning rate of group 0 to 1.8717e-04.\n"
     ]
    },
    {
     "name": "stderr",
     "output_type": "stream",
     "text": [
      "loss: 0.969:   5%|█████████▏                                                                                                                                                                            | 130/2560 [00:08<02:44, 14.81it/s]"
     ]
    },
    {
     "name": "stdout",
     "output_type": "stream",
     "text": [
      "Adjusting learning rate of group 0 to 1.8702e-04.\n"
     ]
    },
    {
     "name": "stderr",
     "output_type": "stream",
     "text": [
      "loss: 0.958:   6%|███████████▌                                                                                                                                                                          | 162/2560 [00:10<02:42, 14.80it/s]"
     ]
    },
    {
     "name": "stdout",
     "output_type": "stream",
     "text": [
      "Adjusting learning rate of group 0 to 1.8686e-04.\n"
     ]
    },
    {
     "name": "stderr",
     "output_type": "stream",
     "text": [
      "loss: 0.964:   8%|█████████████▊                                                                                                                                                                        | 194/2560 [00:13<02:40, 14.79it/s]"
     ]
    },
    {
     "name": "stdout",
     "output_type": "stream",
     "text": [
      "Adjusting learning rate of group 0 to 1.8671e-04.\n"
     ]
    },
    {
     "name": "stderr",
     "output_type": "stream",
     "text": [
      "loss: 0.965:   9%|████████████████                                                                                                                                                                      | 226/2560 [00:15<02:37, 14.79it/s]"
     ]
    },
    {
     "name": "stdout",
     "output_type": "stream",
     "text": [
      "Adjusting learning rate of group 0 to 1.8655e-04.\n"
     ]
    },
    {
     "name": "stderr",
     "output_type": "stream",
     "text": [
      "loss: 0.959:  10%|██████████████████▎                                                                                                                                                                   | 258/2560 [00:17<02:35, 14.80it/s]"
     ]
    },
    {
     "name": "stdout",
     "output_type": "stream",
     "text": [
      "Adjusting learning rate of group 0 to 1.8639e-04.\n"
     ]
    },
    {
     "name": "stderr",
     "output_type": "stream",
     "text": [
      "loss: 0.969:  11%|████████████████████▌                                                                                                                                                                 | 290/2560 [00:19<02:33, 14.80it/s]"
     ]
    },
    {
     "name": "stdout",
     "output_type": "stream",
     "text": [
      "Adjusting learning rate of group 0 to 1.8623e-04.\n"
     ]
    },
    {
     "name": "stderr",
     "output_type": "stream",
     "text": [
      "loss: 0.958:  13%|██████████████████████▉                                                                                                                                                               | 322/2560 [00:21<02:31, 14.81it/s]"
     ]
    },
    {
     "name": "stdout",
     "output_type": "stream",
     "text": [
      "Adjusting learning rate of group 0 to 1.8607e-04.\n"
     ]
    },
    {
     "name": "stderr",
     "output_type": "stream",
     "text": [
      "loss: 0.954:  14%|█████████████████████████▏                                                                                                                                                            | 354/2560 [00:23<02:29, 14.80it/s]"
     ]
    },
    {
     "name": "stdout",
     "output_type": "stream",
     "text": [
      "Adjusting learning rate of group 0 to 1.8591e-04.\n"
     ]
    },
    {
     "name": "stderr",
     "output_type": "stream",
     "text": [
      "loss: 0.963:  15%|███████████████████████████▍                                                                                                                                                          | 386/2560 [00:26<02:26, 14.81it/s]"
     ]
    },
    {
     "name": "stdout",
     "output_type": "stream",
     "text": [
      "Adjusting learning rate of group 0 to 1.8575e-04.\n"
     ]
    },
    {
     "name": "stderr",
     "output_type": "stream",
     "text": [
      "loss: 0.965:  16%|█████████████████████████████▋                                                                                                                                                        | 418/2560 [00:28<02:24, 14.79it/s]"
     ]
    },
    {
     "name": "stdout",
     "output_type": "stream",
     "text": [
      "Adjusting learning rate of group 0 to 1.8559e-04.\n"
     ]
    },
    {
     "name": "stderr",
     "output_type": "stream",
     "text": [
      "loss: 0.961:  18%|███████████████████████████████▉                                                                                                                                                      | 450/2560 [00:30<02:22, 14.79it/s]"
     ]
    },
    {
     "name": "stdout",
     "output_type": "stream",
     "text": [
      "Adjusting learning rate of group 0 to 1.8543e-04.\n"
     ]
    },
    {
     "name": "stderr",
     "output_type": "stream",
     "text": [
      "loss: 0.962:  19%|██████████████████████████████████▎                                                                                                                                                   | 482/2560 [00:32<02:20, 14.80it/s]"
     ]
    },
    {
     "name": "stdout",
     "output_type": "stream",
     "text": [
      "Adjusting learning rate of group 0 to 1.8526e-04.\n"
     ]
    },
    {
     "name": "stderr",
     "output_type": "stream",
     "text": [
      "loss: 0.967:  20%|████████████████████████████████████▌                                                                                                                                                 | 514/2560 [00:34<02:18, 14.81it/s]"
     ]
    },
    {
     "name": "stdout",
     "output_type": "stream",
     "text": [
      "Adjusting learning rate of group 0 to 1.8510e-04.\n"
     ]
    },
    {
     "name": "stderr",
     "output_type": "stream",
     "text": [
      "loss: 0.963:  21%|██████████████████████████████████████▊                                                                                                                                               | 546/2560 [00:36<02:16, 14.79it/s]"
     ]
    },
    {
     "name": "stdout",
     "output_type": "stream",
     "text": [
      "Adjusting learning rate of group 0 to 1.8493e-04.\n"
     ]
    },
    {
     "name": "stderr",
     "output_type": "stream",
     "text": [
      "loss: 0.957:  23%|█████████████████████████████████████████                                                                                                                                             | 578/2560 [00:39<02:14, 14.77it/s]"
     ]
    },
    {
     "name": "stdout",
     "output_type": "stream",
     "text": [
      "Adjusting learning rate of group 0 to 1.8477e-04.\n"
     ]
    },
    {
     "name": "stderr",
     "output_type": "stream",
     "text": [
      "loss: 0.955:  24%|███████████████████████████████████████████▎                                                                                                                                          | 610/2560 [00:41<02:11, 14.77it/s]"
     ]
    },
    {
     "name": "stdout",
     "output_type": "stream",
     "text": [
      "Adjusting learning rate of group 0 to 1.8460e-04.\n"
     ]
    },
    {
     "name": "stderr",
     "output_type": "stream",
     "text": [
      "loss: 0.954:  25%|█████████████████████████████████████████████▋                                                                                                                                        | 642/2560 [00:43<02:09, 14.80it/s]"
     ]
    },
    {
     "name": "stdout",
     "output_type": "stream",
     "text": [
      "Adjusting learning rate of group 0 to 1.8443e-04.\n"
     ]
    },
    {
     "name": "stderr",
     "output_type": "stream",
     "text": [
      "loss: 0.957:  26%|███████████████████████████████████████████████▉                                                                                                                                      | 674/2560 [00:45<02:07, 14.80it/s]"
     ]
    },
    {
     "name": "stdout",
     "output_type": "stream",
     "text": [
      "Adjusting learning rate of group 0 to 1.8426e-04.\n"
     ]
    },
    {
     "name": "stderr",
     "output_type": "stream",
     "text": [
      "loss: 0.956:  28%|██████████████████████████████████████████████████▏                                                                                                                                   | 706/2560 [00:47<02:05, 14.81it/s]"
     ]
    },
    {
     "name": "stdout",
     "output_type": "stream",
     "text": [
      "Adjusting learning rate of group 0 to 1.8409e-04.\n"
     ]
    },
    {
     "name": "stderr",
     "output_type": "stream",
     "text": [
      "loss: 0.949:  29%|████████████████████████████████████████████████████▍                                                                                                                                 | 738/2560 [00:49<02:03, 14.81it/s]"
     ]
    },
    {
     "name": "stdout",
     "output_type": "stream",
     "text": [
      "Adjusting learning rate of group 0 to 1.8392e-04.\n"
     ]
    },
    {
     "name": "stderr",
     "output_type": "stream",
     "text": [
      "loss: 0.961:  30%|██████████████████████████████████████████████████████▋                                                                                                                               | 770/2560 [00:52<02:00, 14.80it/s]"
     ]
    },
    {
     "name": "stdout",
     "output_type": "stream",
     "text": [
      "Adjusting learning rate of group 0 to 1.8375e-04.\n"
     ]
    },
    {
     "name": "stderr",
     "output_type": "stream",
     "text": [
      "loss: 0.966:  31%|█████████████████████████████████████████████████████████                                                                                                                             | 802/2560 [00:54<01:58, 14.78it/s]"
     ]
    },
    {
     "name": "stdout",
     "output_type": "stream",
     "text": [
      "Adjusting learning rate of group 0 to 1.8358e-04.\n"
     ]
    },
    {
     "name": "stderr",
     "output_type": "stream",
     "text": [
      "loss: 0.959:  33%|███████████████████████████████████████████████████████████▎                                                                                                                          | 834/2560 [00:56<01:56, 14.77it/s]"
     ]
    },
    {
     "name": "stdout",
     "output_type": "stream",
     "text": [
      "Adjusting learning rate of group 0 to 1.8341e-04.\n"
     ]
    },
    {
     "name": "stderr",
     "output_type": "stream",
     "text": [
      "loss: 0.954:  34%|█████████████████████████████████████████████████████████████▌                                                                                                                        | 866/2560 [00:58<01:54, 14.78it/s]"
     ]
    },
    {
     "name": "stdout",
     "output_type": "stream",
     "text": [
      "Adjusting learning rate of group 0 to 1.8323e-04.\n"
     ]
    },
    {
     "name": "stderr",
     "output_type": "stream",
     "text": [
      "loss: 0.950:  35%|███████████████████████████████████████████████████████████████▊                                                                                                                      | 898/2560 [01:00<01:52, 14.76it/s]"
     ]
    },
    {
     "name": "stdout",
     "output_type": "stream",
     "text": [
      "Adjusting learning rate of group 0 to 1.8306e-04.\n"
     ]
    },
    {
     "name": "stderr",
     "output_type": "stream",
     "text": [
      "loss: 0.952:  36%|██████████████████████████████████████████████████████████████████                                                                                                                    | 930/2560 [01:02<01:50, 14.79it/s]"
     ]
    },
    {
     "name": "stdout",
     "output_type": "stream",
     "text": [
      "Adjusting learning rate of group 0 to 1.8288e-04.\n"
     ]
    },
    {
     "name": "stderr",
     "output_type": "stream",
     "text": [
      "loss: 0.960:  38%|████████████████████████████████████████████████████████████████████▍                                                                                                                 | 962/2560 [01:05<01:47, 14.82it/s]"
     ]
    },
    {
     "name": "stdout",
     "output_type": "stream",
     "text": [
      "Adjusting learning rate of group 0 to 1.8271e-04.\n"
     ]
    },
    {
     "name": "stderr",
     "output_type": "stream",
     "text": [
      "loss: 0.957:  39%|██████████████████████████████████████████████████████████████████████▋                                                                                                               | 994/2560 [01:07<01:45, 14.79it/s]"
     ]
    },
    {
     "name": "stdout",
     "output_type": "stream",
     "text": [
      "Adjusting learning rate of group 0 to 1.8253e-04.\n"
     ]
    },
    {
     "name": "stderr",
     "output_type": "stream",
     "text": [
      "loss: 0.960:  40%|████████████████████████████████████████████████████████████████████████▌                                                                                                            | 1026/2560 [01:09<01:43, 14.76it/s]"
     ]
    },
    {
     "name": "stdout",
     "output_type": "stream",
     "text": [
      "Adjusting learning rate of group 0 to 1.8235e-04.\n"
     ]
    },
    {
     "name": "stderr",
     "output_type": "stream",
     "text": [
      "loss: 0.957:  41%|██████████████████████████████████████████████████████████████████████████▊                                                                                                          | 1058/2560 [01:11<01:41, 14.81it/s]"
     ]
    },
    {
     "name": "stdout",
     "output_type": "stream",
     "text": [
      "Adjusting learning rate of group 0 to 1.8217e-04.\n"
     ]
    },
    {
     "name": "stderr",
     "output_type": "stream",
     "text": [
      "loss: 0.952:  43%|█████████████████████████████████████████████████████████████████████████████                                                                                                        | 1090/2560 [01:13<01:39, 14.80it/s]"
     ]
    },
    {
     "name": "stdout",
     "output_type": "stream",
     "text": [
      "Adjusting learning rate of group 0 to 1.8200e-04.\n"
     ]
    },
    {
     "name": "stderr",
     "output_type": "stream",
     "text": [
      "loss: 0.951:  44%|███████████████████████████████████████████████████████████████████████████████▎                                                                                                     | 1122/2560 [01:15<01:37, 14.71it/s]"
     ]
    },
    {
     "name": "stdout",
     "output_type": "stream",
     "text": [
      "Adjusting learning rate of group 0 to 1.8181e-04.\n"
     ]
    },
    {
     "name": "stderr",
     "output_type": "stream",
     "text": [
      "loss: 0.956:  45%|█████████████████████████████████████████████████████████████████████████████████▌                                                                                                   | 1154/2560 [01:18<01:35, 14.78it/s]"
     ]
    },
    {
     "name": "stdout",
     "output_type": "stream",
     "text": [
      "Adjusting learning rate of group 0 to 1.8163e-04.\n"
     ]
    },
    {
     "name": "stderr",
     "output_type": "stream",
     "text": [
      "loss: 0.953:  46%|███████████████████████████████████████████████████████████████████████████████████▊                                                                                                 | 1186/2560 [01:20<01:32, 14.81it/s]"
     ]
    },
    {
     "name": "stdout",
     "output_type": "stream",
     "text": [
      "Adjusting learning rate of group 0 to 1.8145e-04.\n"
     ]
    },
    {
     "name": "stderr",
     "output_type": "stream",
     "text": [
      "loss: 0.945:  48%|██████████████████████████████████████████████████████████████████████████████████████                                                                                               | 1218/2560 [01:22<01:30, 14.80it/s]"
     ]
    },
    {
     "name": "stdout",
     "output_type": "stream",
     "text": [
      "Adjusting learning rate of group 0 to 1.8127e-04.\n"
     ]
    },
    {
     "name": "stderr",
     "output_type": "stream",
     "text": [
      "loss: 0.952:  49%|████████████████████████████████████████████████████████████████████████████████████████▍                                                                                            | 1250/2560 [01:24<01:28, 14.79it/s]"
     ]
    },
    {
     "name": "stdout",
     "output_type": "stream",
     "text": [
      "Adjusting learning rate of group 0 to 1.8109e-04.\n"
     ]
    },
    {
     "name": "stderr",
     "output_type": "stream",
     "text": [
      "loss: 0.948:  50%|██████████████████████████████████████████████████████████████████████████████████████████▋                                                                                          | 1282/2560 [01:26<01:26, 14.78it/s]"
     ]
    },
    {
     "name": "stdout",
     "output_type": "stream",
     "text": [
      "Adjusting learning rate of group 0 to 1.8090e-04.\n"
     ]
    },
    {
     "name": "stderr",
     "output_type": "stream",
     "text": [
      "loss: 0.953:  51%|████████████████████████████████████████████████████████████████████████████████████████████▉                                                                                        | 1314/2560 [01:28<01:24, 14.80it/s]"
     ]
    },
    {
     "name": "stdout",
     "output_type": "stream",
     "text": [
      "Adjusting learning rate of group 0 to 1.8072e-04.\n"
     ]
    },
    {
     "name": "stderr",
     "output_type": "stream",
     "text": [
      "loss: 0.951:  53%|███████████████████████████████████████████████████████████████████████████████████████████████▏                                                                                     | 1346/2560 [01:30<01:22, 14.78it/s]"
     ]
    },
    {
     "name": "stdout",
     "output_type": "stream",
     "text": [
      "Adjusting learning rate of group 0 to 1.8053e-04.\n"
     ]
    },
    {
     "name": "stderr",
     "output_type": "stream",
     "text": [
      "loss: 0.950:  54%|█████████████████████████████████████████████████████████████████████████████████████████████████▎                                                                                   | 1377/2560 [01:33<01:20, 14.78it/s]"
     ]
    },
    {
     "name": "stdout",
     "output_type": "stream",
     "text": [
      "Adjusting learning rate of group 0 to 1.8034e-04.\n"
     ]
    },
    {
     "name": "stderr",
     "output_type": "stream",
     "text": [
      "\n"
     ]
    },
    {
     "ename": "KeyboardInterrupt",
     "evalue": "",
     "output_type": "error",
     "traceback": [
      "\u001b[0;31m---------------------------------------------------------------------------\u001b[0m",
      "\u001b[0;31mKeyboardInterrupt\u001b[0m                         Traceback (most recent call last)",
      "Cell \u001b[0;32mIn[11], line 30\u001b[0m\n\u001b[1;32m     28\u001b[0m     batch_recon \u001b[38;5;241m=\u001b[39m model\u001b[38;5;241m.\u001b[39msparsify(batch_recon, batch_bin_recon)\n\u001b[1;32m     29\u001b[0m     recon_loss \u001b[38;5;241m=\u001b[39m torch\u001b[38;5;241m.\u001b[39mmean((batch_recon \u001b[38;5;241m-\u001b[39m batch)\u001b[38;5;241m*\u001b[39m\u001b[38;5;241m*\u001b[39m\u001b[38;5;241m2\u001b[39m)\n\u001b[0;32m---> 30\u001b[0m losses[\u001b[38;5;124m'\u001b[39m\u001b[38;5;124mloss\u001b[39m\u001b[38;5;124m'\u001b[39m]\u001b[38;5;241m.\u001b[39mappend(\u001b[43mrecon_loss\u001b[49m\u001b[38;5;241;43m.\u001b[39;49m\u001b[43mitem\u001b[49m\u001b[43m(\u001b[49m\u001b[43m)\u001b[49m)\n\u001b[1;32m     31\u001b[0m \u001b[38;5;28;01mif\u001b[39;00m step_count \u001b[38;5;241m%\u001b[39m lr_step \u001b[38;5;241m==\u001b[39m \u001b[38;5;241m0\u001b[39m:\n\u001b[1;32m     32\u001b[0m     lr_scheduler\u001b[38;5;241m.\u001b[39mstep()\n",
      "\u001b[0;31mKeyboardInterrupt\u001b[0m: "
     ]
    }
   ],
   "source": [
    "use_sparsity_loss = False\n",
    "use_mask_task = True\n",
    "use_active_weights = False\n",
    "lr_step = 32\n",
    "minibatch_size = 128\n",
    "\n",
    "step_count = 0\n",
    "optim.zero_grad()\n",
    "pert_task = 0\n",
    "idx = torch.arange(train.shape[1]).to(device)\n",
    "\n",
    "# Create a DataLoader\n",
    "dataloader = DataLoader(dataset, batch_size=minibatch_size, shuffle=True)\n",
    "\n",
    "for e in range(100):\n",
    "    model.train()\n",
    "    losses = {'loss': [], 'control': [], 'pert': [], 'flow': []}\n",
    "    for batch in (pbar := tqdm(iter(dataloader))):\n",
    "        step_count += 1\n",
    "        batch = batch.to(device)\n",
    "        idx = torch.arange(batch.shape[1]).to(device)\n",
    "        batch_emb = model(batch)\n",
    "        loss, batch_recon, batch_bin_recon = model.ae_loss(batch_emb, batch, idx, return_recon=True)\n",
    "        loss.backward()\n",
    "        optim.step()\n",
    "        optim.zero_grad()\n",
    "        with torch.no_grad():\n",
    "            batch_recon = model.sparsify(batch_recon, batch_bin_recon)\n",
    "            recon_loss = torch.mean((batch_recon - batch)**2)\n",
    "        losses['loss'].append(recon_loss.item())\n",
    "        if step_count % lr_step == 0:\n",
    "            lr_scheduler.step()\n",
    "        pbar.set_description(\n",
    "            f\"loss: {np.array(losses['loss'])[-lr_step:].mean():.3f}\"\n",
    "        )\n",
    "    \n",
    "    avg_loss = sum(losses['loss']) / len(losses['loss'])\n",
    "    torch.save(model, f\"{save_dir}{e}\")\n",
    "    # writer.add_scalar('mae_loss', avg_loss, global_step=e)\n",
    "    print(f'In epoch {e}, average traning loss is {avg_loss}.')"
   ]
  },
  {
   "cell_type": "code",
   "execution_count": null,
   "metadata": {
    "scrolled": true
   },
   "outputs": [],
   "source": [
    "del pert_index\n",
    "del ctrl \n",
    "del pert\n",
    "del idx\n",
    "del ctrl_emb\n",
    "del ctrl_recon\n",
    "del ctrl_bin_recon\n",
    "del pert_emb\n",
    "del pert_recon\n",
    "del pert_bin_recon"
   ]
  },
  {
   "cell_type": "code",
   "execution_count": 12,
   "metadata": {},
   "outputs": [
    {
     "data": {
      "text/plain": [
       "498"
      ]
     },
     "execution_count": 12,
     "metadata": {},
     "output_type": "execute_result"
    }
   ],
   "source": [
    "optim.zero_grad()\n",
    "import gc\n",
    "torch.cuda.empty_cache()\n",
    "gc.collect()"
   ]
  },
  {
   "cell_type": "code",
   "execution_count": 13,
   "metadata": {
    "scrolled": true
   },
   "outputs": [
    {
     "name": "stderr",
     "output_type": "stream",
     "text": [
      "loss: 0.414, tv: 0.166, ptv: 0.170, flow: 0.078:   3%|███▉                                                                                                                                                | 16/611 [00:07<04:17,  2.31it/s]"
     ]
    },
    {
     "name": "stdout",
     "output_type": "stream",
     "text": [
      "Adjusting learning rate of group 0 to 1.8016e-04.\n"
     ]
    },
    {
     "name": "stderr",
     "output_type": "stream",
     "text": [
      "loss: 0.332, tv: 0.154, ptv: 0.159, flow: 0.019:   5%|███████▉                                                                                                                                            | 33/611 [00:14<04:06,  2.35it/s]"
     ]
    },
    {
     "name": "stdout",
     "output_type": "stream",
     "text": [
      "Adjusting learning rate of group 0 to 1.7997e-04.\n"
     ]
    },
    {
     "name": "stderr",
     "output_type": "stream",
     "text": [
      "loss: 0.336, tv: 0.159, ptv: 0.164, flow: 0.013:   8%|███████████▊                                                                                                                                        | 49/611 [00:21<04:05,  2.29it/s]"
     ]
    },
    {
     "name": "stdout",
     "output_type": "stream",
     "text": [
      "Adjusting learning rate of group 0 to 1.7978e-04.\n"
     ]
    },
    {
     "name": "stderr",
     "output_type": "stream",
     "text": [
      "loss: 0.299, tv: 0.143, ptv: 0.145, flow: 0.010:  11%|███████████████▋                                                                                                                                    | 65/611 [00:28<04:00,  2.27it/s]"
     ]
    },
    {
     "name": "stdout",
     "output_type": "stream",
     "text": [
      "Adjusting learning rate of group 0 to 1.7959e-04.\n"
     ]
    },
    {
     "name": "stderr",
     "output_type": "stream",
     "text": [
      "loss: 0.283, tv: 0.137, ptv: 0.138, flow: 0.008:  13%|███████████████████▌                                                                                                                                | 81/611 [00:35<03:52,  2.28it/s]"
     ]
    },
    {
     "name": "stdout",
     "output_type": "stream",
     "text": [
      "Adjusting learning rate of group 0 to 1.7940e-04.\n"
     ]
    },
    {
     "name": "stderr",
     "output_type": "stream",
     "text": [
      "loss: 0.311, tv: 0.150, ptv: 0.153, flow: 0.008:  16%|███████████████████████▍                                                                                                                            | 97/611 [00:42<03:45,  2.28it/s]"
     ]
    },
    {
     "name": "stdout",
     "output_type": "stream",
     "text": [
      "Adjusting learning rate of group 0 to 1.7921e-04.\n"
     ]
    },
    {
     "name": "stderr",
     "output_type": "stream",
     "text": [
      "loss: 0.290, tv: 0.140, ptv: 0.143, flow: 0.007:  19%|███████████████████████████▍                                                                                                                       | 114/611 [00:49<03:35,  2.31it/s]"
     ]
    },
    {
     "name": "stdout",
     "output_type": "stream",
     "text": [
      "Adjusting learning rate of group 0 to 1.7902e-04.\n"
     ]
    },
    {
     "name": "stderr",
     "output_type": "stream",
     "text": [
      "loss: 0.292, tv: 0.142, ptv: 0.144, flow: 0.006:  19%|████████████████████████████▏                                                                                                                      | 117/611 [00:50<03:34,  2.30it/s]\n"
     ]
    },
    {
     "ename": "KeyboardInterrupt",
     "evalue": "",
     "output_type": "error",
     "traceback": [
      "\u001b[0;31m---------------------------------------------------------------------------\u001b[0m",
      "\u001b[0;31mKeyboardInterrupt\u001b[0m                         Traceback (most recent call last)",
      "Cell \u001b[0;32mIn[13], line 38\u001b[0m\n\u001b[1;32m     35\u001b[0m pert_loss, pert_recon, pert_bin_recon \u001b[38;5;241m=\u001b[39m model\u001b[38;5;241m.\u001b[39mae_loss(pert_emb, pert, idx, return_recon\u001b[38;5;241m=\u001b[39m\u001b[38;5;28;01mTrue\u001b[39;00m)\n\u001b[1;32m     37\u001b[0m cond \u001b[38;5;241m=\u001b[39m model\u001b[38;5;241m.\u001b[39mgene_embedding\u001b[38;5;241m.\u001b[39mpos[:, pert_index][\u001b[38;5;241m0\u001b[39m]\n\u001b[0;32m---> 38\u001b[0m flow_loss \u001b[38;5;241m=\u001b[39m \u001b[43mmodel\u001b[49m\u001b[38;5;241;43m.\u001b[39;49m\u001b[43mflow_loss\u001b[49m\u001b[43m(\u001b[49m\u001b[43mctrl_emb\u001b[49m\u001b[43m,\u001b[49m\u001b[43m \u001b[49m\u001b[43mpert_emb\u001b[49m\u001b[43m,\u001b[49m\u001b[43m \u001b[49m\u001b[43mcond\u001b[49m\u001b[43m)\u001b[49m\n\u001b[1;32m     40\u001b[0m loss \u001b[38;5;241m=\u001b[39m ctrl_loss \u001b[38;5;241m+\u001b[39m pert_loss \u001b[38;5;241m+\u001b[39m flow_loss\n\u001b[1;32m     41\u001b[0m loss\u001b[38;5;241m.\u001b[39mbackward()\n",
      "Cell \u001b[0;32mIn[8], line 178\u001b[0m, in \u001b[0;36mMAE.flow_loss\u001b[0;34m(self, source_emb, target_emb, cond)\u001b[0m\n\u001b[1;32m    175\u001b[0m         \u001b[38;5;28;01mreturn\u001b[39;00m loss, batch_recon, batch_bin_recon\n\u001b[1;32m    176\u001b[0m     \u001b[38;5;28;01mreturn\u001b[39;00m loss\n\u001b[0;32m--> 178\u001b[0m \u001b[38;5;28;01mdef\u001b[39;00m \u001b[38;5;21mflow_loss\u001b[39m(\u001b[38;5;28mself\u001b[39m, source_emb, target_emb, cond):\n\u001b[1;32m    179\u001b[0m     t, xt, ut \u001b[38;5;241m=\u001b[39m \u001b[38;5;28mself\u001b[39m\u001b[38;5;241m.\u001b[39mcfm_sampler\u001b[38;5;241m.\u001b[39msample_location_and_conditional_flow(\n\u001b[1;32m    180\u001b[0m         source_emb, target_emb\n\u001b[1;32m    181\u001b[0m     )\n\u001b[1;32m    183\u001b[0m     inp \u001b[38;5;241m=\u001b[39m torch\u001b[38;5;241m.\u001b[39mcat([xt, t[:, \u001b[38;5;28;01mNone\u001b[39;00m]], dim\u001b[38;5;241m=\u001b[39m\u001b[38;5;241m-\u001b[39m\u001b[38;5;241m1\u001b[39m)\n",
      "\u001b[0;31mKeyboardInterrupt\u001b[0m: "
     ]
    }
   ],
   "source": [
    "use_sparsity_loss = False\n",
    "use_mask_task = True\n",
    "use_active_weights = False\n",
    "lr_step = 32\n",
    "minibatch_size = 172\n",
    "\n",
    "step_count = 0\n",
    "optim.zero_grad()\n",
    "pert_task = 0\n",
    "for e in range(20):\n",
    "    model.train()\n",
    "    losses = {'loss': [], 'control': [], 'pert': [], 'flow': []}\n",
    "    for (bcontrol, bpert, bpert_index) in (pbar := tqdm(iter(dl))):\n",
    "        bcontrol, bpert, bpert_index = bcontrol.squeeze(), bpert.squeeze(), bpert_index.reshape(-1, 1)# , # bpert_expr.squeeze()\n",
    "        curr_batch_size = bcontrol.shape[0]\n",
    "        for i in range(curr_batch_size // minibatch_size):\n",
    "            ctrl = bcontrol[(i * minibatch_size):((i + 1) * minibatch_size)]\n",
    "            if ctrl.shape[0] == 0:\n",
    "                continue\n",
    "            pert = bpert[(i * minibatch_size):((i + 1) * minibatch_size)]\n",
    "            pert_index = bpert_index[(i * minibatch_size):((i + 1) * minibatch_size)]\n",
    "            pert_index = pert_index.squeeze()\n",
    "            \n",
    "            ctrl = ctrl.float().to(device)\n",
    "            pert = pert.float().to(device)\n",
    "            \n",
    "            idx = torch.arange(ctrl.shape[1]).to(device)\n",
    "            \n",
    "            step_count += 1\n",
    "            \n",
    "            ctrl_emb = model(ctrl)\n",
    "            ctrl_loss, ctrl_recon, ctrl_bin_recon = model.ae_loss(ctrl_emb, ctrl, idx, return_recon=True)\n",
    "            \n",
    "            pert_emb = model(pert)\n",
    "            pert_loss, pert_recon, pert_bin_recon = model.ae_loss(pert_emb, pert, idx, return_recon=True)\n",
    "            \n",
    "            cond = model.gene_embedding.pos[:, pert_index][0]\n",
    "            flow_loss = model.flow_loss(ctrl_emb, pert_emb, cond)\n",
    "            \n",
    "            loss = ctrl_loss + pert_loss + flow_loss\n",
    "            loss.backward()\n",
    "            optim.step()\n",
    "            optim.zero_grad()\n",
    "            losses['loss'].append(loss.item())\n",
    "            losses['control'].append(ctrl_loss.item())\n",
    "            losses['pert'].append(pert_loss.item())\n",
    "            losses['flow'].append(flow_loss.item())\n",
    "            if step_count % lr_step == 0:\n",
    "                lr_scheduler.step()\n",
    "            pbar.set_description(\n",
    "                f\"loss: {np.array(losses['loss'])[-lr_step:].mean():.3f}, tv: {np.array(losses['control'])[-lr_step:].mean():.3f}, ptv: {np.array(losses['pert'])[-lr_step:].mean():.3f}, flow: {np.array(losses['flow'])[-lr_step:].mean():.3f}\"\n",
    "            )\n",
    "    \n",
    "    avg_loss = sum(losses['control']) / len(losses['control'])\n",
    "    torch.save(model, f\"{save_dir}{e}\")\n",
    "    # writer.add_scalar('mae_loss', avg_loss, global_step=e)\n",
    "    print(f'In epoch {e}, average traning loss is {avg_loss}.')"
   ]
  },
  {
   "cell_type": "raw",
   "metadata": {},
   "source": [
    "import gc\n",
    "torch.cuda.empty_cache()\n",
    "gc.collect()"
   ]
  },
  {
   "cell_type": "code",
   "execution_count": 19,
   "metadata": {},
   "outputs": [],
   "source": [
    "import math\n",
    "import torch\n",
    "import numpy as np\n",
    "from torchdyn.core import NeuralODE\n",
    "from datamodules import torch_wrapper\n",
    "\n",
    "def compute_conditional_flow(\n",
    "    model, control, pert_ids, pert_mat, batch_size=100, num_steps=400, n_batches=1e8, true_bin=None\n",
    "):\n",
    "    node = NeuralODE(\n",
    "        torch_wrapper(model.flow).to(device), solver=\"dopri5\", sensitivity=\"adjoint\"\n",
    "    )\n",
    "    n_samples = min(control.shape[0], pert_ids.shape[0])\n",
    "    n_batches = min(math.ceil(n_samples / batch_size), n_batches)\n",
    "    preds = np.zeros((min(n_batches * batch_size, n_samples), control.shape[1]))\n",
    "    with torch.no_grad():\n",
    "        for i in range(n_batches):\n",
    "            control_batch = control[batch_size*i:min(batch_size*(i+1), n_samples)]\n",
    "            pert_batch = pert_mat[pert_ids][batch_size*i:min(batch_size*(i+1), n_samples)]# [:control_batch.shape[0]]\n",
    "            model.flow.cond = pert_batch.to(device)\n",
    "            inp = control_batch.float()\n",
    "            inp = inp.to(device)\n",
    "            \n",
    "            idx = torch.arange(control_eval.shape[1]).to(device)\n",
    "            cell_embedding = model(inp)\n",
    "            \n",
    "            outp = node.trajectory(\n",
    "                cell_embedding,\n",
    "                t_span=torch.linspace(0, 1, num_steps)\n",
    "            )\n",
    "            outp = outp[-1, :, :]\n",
    "            outp, outb = model.recon(cell_embedding, idx)\n",
    "            if true_bin:\n",
    "                outb = true_bin.to(device)\n",
    "            outp = model.sparsify(outp, outb)\n",
    "            outp = outp.cpu()\n",
    "            preds[batch_size*i:batch_size*(i+1), :] = outp.squeeze()\n",
    "            \n",
    "    return preds"
   ]
  },
  {
   "cell_type": "code",
   "execution_count": 17,
   "metadata": {},
   "outputs": [],
   "source": [
    "for cell_type, pert_type in zip(holdout_cells, holdout_perts):\n",
    "    break\n",
    "\n",
    "cell_type_names = adata.obs[cell_col]\n",
    "pert_type_names = adata.obs[pert_col]\n",
    "control_eval =  torch.tensor(X[(cell_type_names == cell_type) & (pert_type_names == gene_map['NT'])]).float()\n",
    "true_pert = torch.tensor(X[(pert_type_names == pert_type) & (cell_type_names == cell_type)]).float()"
   ]
  },
  {
   "cell_type": "code",
   "execution_count": 20,
   "metadata": {},
   "outputs": [],
   "source": [
    "pred = compute_conditional_flow(\n",
    "    model,\n",
    "    control_eval, \n",
    "    torch.tensor(np.repeat(pert_type, control_eval.shape[0])), \n",
    "    model.gene_embedding.pos[0]\n",
    ")  "
   ]
  },
  {
   "cell_type": "code",
   "execution_count": 21,
   "metadata": {},
   "outputs": [
    {
     "data": {
      "text/plain": [
       "tensor([0.0490, 0.0000, 0.0000,  ..., 0.0000, 0.0484, 0.0105])"
      ]
     },
     "execution_count": 21,
     "metadata": {},
     "output_type": "execute_result"
    }
   ],
   "source": [
    "true_pert.mean(axis=0)"
   ]
  },
  {
   "cell_type": "code",
   "execution_count": 22,
   "metadata": {},
   "outputs": [
    {
     "data": {
      "text/plain": [
       "array([0.16726097, 0.00103138, 0.00203618, ..., 0.        , 0.04829858,\n",
       "       0.10163789])"
      ]
     },
     "execution_count": 22,
     "metadata": {},
     "output_type": "execute_result"
    }
   ],
   "source": [
    "pred.mean(axis=0)"
   ]
  },
  {
   "cell_type": "code",
   "execution_count": 23,
   "metadata": {},
   "outputs": [],
   "source": [
    "from os import listdir\n",
    "from scipy.sparse import issparse\n",
    "import anndata\n",
    "import scanpy as sc\n",
    "import numpy as np\n",
    "import pandas as pd\n",
    "\n",
    "from scipy.stats import pearsonr\n",
    "\n",
    "import logging\n",
    "\n",
    "logger = logging.getLogger(__name__)\n",
    "\n",
    "def r2_mse_filename(pert, cell):\n",
    "    return f'r2_and_mse_{pert}_{cell}.json'\n",
    "\n",
    "def c_r_filename(pert, cell):\n",
    "    return f'c_r_results_{pert}_{cell}.json'\n",
    "\n",
    "def DEGs_overlap_filename(pert, cell):   \n",
    "    return f'DEGs_overlaps_{pert}_{cell}.json'\n",
    "\n",
    "\n",
    "def get_DEG_with_direction(gene, score):\n",
    "    if score > 0:\n",
    "        return(f'{gene}+')\n",
    "    else:\n",
    "        return(f'{gene}-')\n",
    "        \n",
    "def to_dense(X):\n",
    "    if issparse(X):\n",
    "        return X.toarray()\n",
    "    else:\n",
    "        return np.asarray(X)\n",
    "\n",
    "def get_DEGs(control_adata, target_adata):\n",
    "    temp_concat = anndata.concat([control_adata, target_adata], label = 'batch')\n",
    "    sc.tl.rank_genes_groups(\n",
    "        temp_concat, 'batch', method='wilcoxon', \n",
    "        groups = ['1'], ref = '0', rankby_abs = True, tie_correct=True\n",
    "    )\n",
    "\n",
    "    rankings = temp_concat.uns['rank_genes_groups']\n",
    "    result_df = pd.DataFrame({'scores': rankings['scores']['1'],\n",
    "                     'pvals_adj': rankings['pvals_adj']['1'],\n",
    "                     'lfc': rankings['logfoldchanges']['1']},\n",
    "                    index = rankings['names']['1'])\n",
    "    return result_df\n",
    "\n",
    "def get_eval(ctrl_adata, true_adata, pred_adata, DEGs, DEG_vals, pval_threshold, lfc_threshold):\n",
    "        \n",
    "    results_dict =  {}\n",
    "    \n",
    "    logger.debug(f\"Computing R, R2, and MSE metrics\")\n",
    "\n",
    "    ctrl_mean = to_dense(ctrl_adata.X).mean(axis = 0)\n",
    "\n",
    "    true_mean = to_dense(true_adata.X).mean(axis = 0)\n",
    "    true_var = to_dense(true_adata.X).var(axis = 0)\n",
    "    \n",
    "    pred_mean = to_dense(pred_adata.X).mean(axis = 0)\n",
    "    pred_var = to_dense(pred_adata.X).var(axis = 0)\n",
    "    \n",
    "    true_corr_mtx = np.corrcoef(to_dense(true_adata.X), rowvar=False).flatten()\n",
    "    true_cov_mtx = np.cov(to_dense(true_adata.X), rowvar=False).flatten()\n",
    "        \n",
    "    pred_corr_mtx = np.corrcoef(to_dense(pred_adata.X), rowvar=False).flatten()\n",
    "    pred_cov_mtx = np.cov(to_dense(pred_adata.X), rowvar=False).flatten()\n",
    "\n",
    "    true_sub_diff = true_mean - ctrl_mean\n",
    "    pred_sub_diff = pred_mean - ctrl_mean\n",
    "\n",
    "    true_diff = true_mean/ctrl_mean\n",
    "    pred_diff = pred_mean/ctrl_mean\n",
    "\n",
    "    true_diff_mask = (np.isnan(true_diff) | np.isinf(true_diff))\n",
    "    pred_diff_mask = (np.isnan(pred_diff) | np.isinf(pred_diff))\n",
    "    \n",
    "    common_mask = true_diff_mask | pred_diff_mask\n",
    "    true_fold_diff = np.ma.array(true_diff, mask=common_mask).compressed()\n",
    "    pred_fold_diff = np.ma.array(pred_diff, mask=common_mask).compressed()\n",
    "\n",
    "    results_dict['all_genes_mean_sub_diff_R'] = pearsonr(true_sub_diff, pred_sub_diff)[0]\n",
    "    results_dict['all_genes_mean_sub_diff_R2'] = pearsonr(true_sub_diff, pred_sub_diff)[0]**2\n",
    "    results_dict['all_genes_mean_sub_diff_MSE'] = (np.square(true_sub_diff - pred_sub_diff)).mean(axis=0)\n",
    "\n",
    "    results_dict['all_genes_mean_fold_diff_R'] = pearsonr(true_fold_diff, pred_fold_diff)[0]\n",
    "    results_dict['all_genes_mean_fold_diff_R2'] = pearsonr(true_fold_diff, pred_fold_diff)[0]**2\n",
    "    results_dict['all_genes_mean_fold_diff_MSE'] = (np.square(true_fold_diff - pred_fold_diff)).mean(axis=0)\n",
    "    \n",
    "    results_dict['all_genes_mean_R'] = pearsonr(true_mean, pred_mean)[0]\n",
    "    results_dict['all_genes_mean_R2'] = pearsonr(true_mean, pred_mean)[0]**2\n",
    "    results_dict['all_genes_mean_MSE'] = (np.square(true_mean - pred_mean)).mean(axis=0)\n",
    "\n",
    "    results_dict['all_genes_var_R'] = pearsonr(true_var, pred_var)[0]\n",
    "    results_dict['all_genes_var_R2'] = pearsonr(true_var, pred_var)[0]**2\n",
    "    results_dict['all_genes_var_MSE'] = (np.square(true_var - pred_var)).mean(axis=0)\n",
    "   \n",
    "    corr_nas = np.logical_or(np.isnan(true_corr_mtx), np.isnan(pred_corr_mtx))\n",
    "    cov_nas = np.logical_or(np.isnan(true_cov_mtx), np.isnan(pred_cov_mtx))\n",
    "\n",
    "    results_dict['all_genes_corr_mtx_R'] = pearsonr(true_corr_mtx[~corr_nas], pred_corr_mtx[~corr_nas])[0]\n",
    "    results_dict['all_genes_corr_mtx_R2'] = pearsonr(true_corr_mtx[~corr_nas], pred_corr_mtx[~corr_nas])[0]**2\n",
    "    results_dict['all_genes_corr_mtx_MSE'] = (np.square(true_corr_mtx[~corr_nas] - pred_corr_mtx[~corr_nas])).mean(axis=0)\n",
    "\n",
    "    results_dict['all_genes_cov_mtx_R'] = pearsonr(true_cov_mtx[~cov_nas], pred_cov_mtx[~cov_nas])[0]\n",
    "    results_dict['all_genes_cov_mtx_R2'] = pearsonr(true_cov_mtx[~cov_nas], pred_cov_mtx[~cov_nas])[0]**2\n",
    "    results_dict['all_genes_cov_mtx_MSE'] = (np.square(true_cov_mtx[~cov_nas] - pred_cov_mtx[~cov_nas])).mean(axis=0)\n",
    "\n",
    "    if lfc_threshold:   \n",
    "        significant_DEGs = DEGs[(DEGs['pvals_adj'] < pval_threshold) & (abs(DEGs) > lfc_threshold)]\n",
    "    else:\n",
    "        significant_DEGs = DEGs[DEGs['pvals_adj'] < pval_threshold]\n",
    "    num_DEGs = len(significant_DEGs)\n",
    "    DEG_vals.insert(0, num_DEGs)\n",
    "\n",
    "\n",
    "    logger.debug(f\"Significant DEGs {significant_DEGs}\")\n",
    "    \n",
    "    for val in DEG_vals:\n",
    "\n",
    "        logger.debug(f\"Computing R, R2, and MSE metrics for top {val} DEGs\")\n",
    "\n",
    "        #If val == 1 we can't\n",
    "        if ((val > num_DEGs) or (val == 0) or (val == 1)):\n",
    "            results_dict[f'Top_{val}_DEGs_sub_diff_mean_R'] = None\n",
    "            results_dict[f'Top_{val}_DEGs_sub_diff_mean_R2'] = None\n",
    "            results_dict[f'Top_{val}_DEGs_sub_diff_mean_MSE'] = None\n",
    "            \n",
    "            results_dict[f'Top_{val}_DEGs_fold_diff_mean_R'] = None\n",
    "            results_dict[f'Top_{val}_DEGs_fold_diff_mean_R2'] = None\n",
    "            results_dict[f'Top_{val}_DEGs_fold_diff_mean_MSE'] = None\n",
    "            \n",
    "            results_dict[f'Top_{val}_DEGs_mean_R'] = None\n",
    "            results_dict[f'Top_{val}_DEGs_mean_R2'] = None\n",
    "            results_dict[f'Top_{val}_DEGs_mean_MSE'] = None\n",
    "\n",
    "            results_dict[f'Top_{val}_DEGs_var_R'] = None\n",
    "            results_dict[f'Top_{val}_DEGs_var_R2'] = None\n",
    "            results_dict[f'Top_{val}_DEGs_var_MSE'] = None\n",
    "            \n",
    "            results_dict[f'Top_{val}_DEGs_corr_mtx_R'] = None\n",
    "            results_dict[f'Top_{val}_DEGs_corr_mtx_R2'] = None\n",
    "            results_dict[f'Top_{val}_DEGs_corr_mtx_MSE'] = None\n",
    "            \n",
    "            results_dict[f'Top_{val}_DEGs_cov_mtx_R'] = None\n",
    "            results_dict[f'Top_{val}_DEGs_cov_mtx_R2'] = None\n",
    "            results_dict[f'Top_{val}_DEGs_cov_mtx_MSE'] = None\n",
    "        \n",
    "        else:\n",
    "            top_DEGs = significant_DEGs.iloc[0:val].index\n",
    "\n",
    "            logger.debug(f\"Top DEGs: {top_DEGs}\")\n",
    "\n",
    "\n",
    "            #Reshape --> If there is a single gene, the shape is (1,) and we need to reshape it to (1,1)\n",
    "\n",
    "            ctrl_mean = to_dense(ctrl_adata[:,top_DEGs].X).mean(axis = 0)\n",
    "            \n",
    "            true_mean = to_dense(true_adata[:,top_DEGs].X).mean(axis = 0)\n",
    "\n",
    "            logger.debug(f\"Shape ctrl_adata with top DEGs: {ctrl_adata[:,top_DEGs].X.shape}, shape true_adata with top DEGs: {true_adata[:,top_DEGs].X.shape}\")\n",
    "\n",
    "\n",
    "            true_var = to_dense(true_adata[:,top_DEGs].X).var(axis = 0)\n",
    "            true_corr_mtx = np.corrcoef(to_dense(true_adata[:,top_DEGs].X), rowvar=False).flatten()\n",
    "            true_cov_mtx = np.cov(to_dense(true_adata[:,top_DEGs].X), rowvar=False).flatten()\n",
    "\n",
    "            pred_mean = to_dense(pred_adata[:,top_DEGs].X).mean(axis = 0)\n",
    "            logger.debug(f\"Shape of true_mean shape: {true_mean.shape}, ctrl_mean shape: {ctrl_mean.shape}, pred_mean shape: {pred_mean.shape}\")\n",
    "\n",
    "            pred_var = to_dense(pred_adata[:,top_DEGs].X).var(axis = 0)\n",
    "            pred_corr_mtx = np.corrcoef(to_dense(pred_adata[:,top_DEGs].X), rowvar=False).flatten()\n",
    "            pred_cov_mtx = np.cov(to_dense(pred_adata[:,top_DEGs].X), rowvar=False).flatten()\n",
    "\n",
    "            logger.debug(f\"Shape of true_var shape: {true_var.shape}, pred_var shape: {pred_var.shape}\")\n",
    "\n",
    "            true_sub_diff = true_mean - ctrl_mean\n",
    "            pred_sub_diff = pred_mean - ctrl_mean\n",
    "        \n",
    "            true_diff = true_mean/ctrl_mean\n",
    "            pred_diff = pred_mean/ctrl_mean\n",
    "        \n",
    "            true_diff_mask = (np.isnan(true_diff) | np.isinf(true_diff))\n",
    "            pred_diff_mask = (np.isnan(pred_diff) | np.isinf(pred_diff))\n",
    "            \n",
    "            common_mask = true_diff_mask | pred_diff_mask\n",
    "            true_fold_diff = np.ma.array(true_diff, mask=common_mask).compressed()\n",
    "            pred_fold_diff = np.ma.array(pred_diff, mask=common_mask).compressed()\n",
    "\n",
    "            results_dict[f'Top_{val}_DEGs_sub_diff_R'] = pearsonr(true_sub_diff, pred_sub_diff)[0]\n",
    "            results_dict[f'Top_{val}_DEGs_sub_diff_R2'] = pearsonr(true_sub_diff, pred_sub_diff)[0]**2\n",
    "            results_dict[f'Top_{val}_DEGs_sub_diff_MSE'] = (np.square(true_sub_diff - pred_sub_diff)).mean(axis=0)\n",
    "        \n",
    "            results_dict[f'Top_{val}_DEGs_fold_diff_R'] = pearsonr(true_fold_diff, pred_fold_diff)[0]\n",
    "            results_dict[f'Top_{val}_DEGs_fold_diff_R2'] = pearsonr(true_fold_diff, pred_fold_diff)[0]**2\n",
    "            results_dict[f'Top_{val}_DEGs_fold_diff_MSE'] = (np.square(true_fold_diff - pred_fold_diff)).mean(axis=0)\n",
    "    \n",
    "            results_dict[f'Top_{val}_DEGs_mean_R'] = pearsonr(true_mean, pred_mean)[0]\n",
    "            results_dict[f'Top_{val}_DEGs_mean_R2'] = pearsonr(true_mean, pred_mean)[0]**2\n",
    "            results_dict[f'Top_{val}_DEGs_mean_MSE'] = (np.square(true_mean - pred_mean)).mean(axis=0)\n",
    "\n",
    "            results_dict[f'Top_{val}_DEGs_var_R'] = pearsonr(true_var, pred_var)[0]\n",
    "            results_dict[f'Top_{val}_DEGs_var_R2'] = pearsonr(true_var, pred_var)[0]**2\n",
    "            results_dict[f'Top_{val}_DEGs_var_MSE'] = (np.square(true_var - pred_var)).mean(axis=0)\n",
    "            \n",
    "            corr_nas = np.logical_or(np.isnan(true_corr_mtx), np.isnan(pred_corr_mtx))\n",
    "            cov_nas = np.logical_or(np.isnan(true_cov_mtx), np.isnan(pred_cov_mtx))\n",
    "\n",
    "            results_dict[f'Top_{val}_DEGs_corr_mtx_R'] = pearsonr(true_corr_mtx[~corr_nas], pred_corr_mtx[~corr_nas])[0]\n",
    "            results_dict[f'Top_{val}_DEGs_corr_mtx_R2'] = pearsonr(true_corr_mtx[~corr_nas], pred_corr_mtx[~corr_nas])[0]**2\n",
    "            results_dict[f'Top_{val}_DEGs_corr_mtx_MSE'] = (np.square(true_corr_mtx[~corr_nas] - pred_corr_mtx[~corr_nas])).mean(axis=0)\n",
    "\n",
    "            results_dict[f'Top_{val}_DEGs_cov_mtx_R'] = pearsonr(true_cov_mtx[~cov_nas], pred_cov_mtx[~cov_nas])[0]\n",
    "            results_dict[f'Top_{val}_DEGs_cov_mtx_R2'] = pearsonr(true_cov_mtx[~cov_nas], pred_cov_mtx[~cov_nas])[0]**2\n",
    "            results_dict[f'Top_{val}_DEGs_cov_mtx_MSE'] = (np.square(true_cov_mtx[~cov_nas] - pred_cov_mtx[~cov_nas])).mean(axis=0)\n",
    "\n",
    "    return results_dict\n",
    "\n",
    "def get_DEG_Coverage_Recall(true_DEGs, pred_DEGs, p_cutoff):\n",
    "    sig_true_DEGs = true_DEGs[true_DEGs['pvals_adj'] < p_cutoff]\n",
    "    true_DEGs_with_direction = [get_DEG_with_direction(gene,score) for gene, score in zip(sig_true_DEGs.index, sig_true_DEGs['scores'])]\n",
    "    sig_pred_DEGs = pred_DEGs[pred_DEGs['pvals_adj'] < p_cutoff]\n",
    "    pred_DEGs_with_direction = [get_DEG_with_direction(gene,score) for gene, score in zip(sig_pred_DEGs.index, sig_pred_DEGs['scores'])]\n",
    "    num_true_DEGs = len(true_DEGs_with_direction)\n",
    "    num_pred_DEGs = len(pred_DEGs_with_direction)\n",
    "    num_overlapping_DEGs = len(set(true_DEGs_with_direction).intersection(set(pred_DEGs_with_direction)))\n",
    "    if num_true_DEGs > 0: \n",
    "        COVERAGE = num_overlapping_DEGs/num_true_DEGs\n",
    "    else:\n",
    "        COVERAGE = None\n",
    "    if num_pred_DEGs > 0:\n",
    "        RECALL = num_overlapping_DEGs/num_pred_DEGs\n",
    "    else:\n",
    "        RECALL = None\n",
    "    return COVERAGE, RECALL\n",
    "\n",
    "def get_DEGs_overlaps(true_DEGs, pred_DEGs, DEG_vals, pval_threshold, lfc_threshold):\n",
    "    if lfc_threshold:\n",
    "        significant_true_DEGs = true_DEGs[(true_DEGs['pvals_adj'] < pval_threshold) & (abs(true_DEGs['lfc']) > lfc_threshold)]\n",
    "        significant_pred_DEGs = pred_DEGs[(pred_DEGs['pvals_adj'] < pval_threshold) & (abs(pred_DEGs['lfc']) > lfc_threshold)]\n",
    "    else:\n",
    "        significant_true_DEGs = true_DEGs[true_DEGs['pvals_adj'] < pval_threshold]\n",
    "        significant_pred_DEGs = pred_DEGs[pred_DEGs['pvals_adj'] < pval_threshold]\n",
    "\n",
    "    true_DEGs_for_comparison = [get_DEG_with_direction(gene,score) for gene, score in zip(significant_true_DEGs.index, significant_true_DEGs['scores'])]   \n",
    "    pred_DEGs_for_comparison = [get_DEG_with_direction(gene,score) for gene, score in zip(significant_pred_DEGs.index, significant_pred_DEGs['scores'])]\n",
    "    \n",
    "    logger.debug(f\"Computing DEG overlaps, # of significant DEGs in true data: {len(true_DEGs_for_comparison)}, # of significant DEGs in pred data: {len(pred_DEGs_for_comparison)}\")\n",
    "    num_DEGs = len(significant_true_DEGs)\n",
    "    DEG_vals.insert(0, num_DEGs)\n",
    "    \n",
    "    results = {}\n",
    "    for val in DEG_vals:\n",
    "        if val > num_DEGs:\n",
    "            results[f'Overlap_in_top_{val}_DEGs'] = None\n",
    "        else:\n",
    "            results[f'Overlap_in_top_{val}_DEGs'] = len(set(true_DEGs_for_comparison[0:val]).intersection(set(pred_DEGs_for_comparison[0:val])))\n",
    "\n",
    "    intersection = len(set(true_DEGs_for_comparison).intersection(set(pred_DEGs_for_comparison)))\n",
    "    union = len(set(true_DEGs_for_comparison).union(set(pred_DEGs_for_comparison)))\n",
    "    if union > 0:\n",
    "        results['Jaccard'] = intersection/union\n",
    "    else:\n",
    "        results['Jaccard'] = None\n",
    "    \n",
    "    return results"
   ]
  },
  {
   "cell_type": "code",
   "execution_count": 24,
   "metadata": {},
   "outputs": [],
   "source": [
    "import copy\n",
    "adata_ = copy.deepcopy(adata)\n",
    "adata_.X = X"
   ]
  },
  {
   "cell_type": "code",
   "execution_count": 25,
   "metadata": {},
   "outputs": [],
   "source": [
    "adata_ctrl = adata_[(cell_type_names == cell_type) & (pert_type_names == gene_map['NT'])].copy()\n",
    "adata_pert = adata_[(pert_type_names == pert_type) & (cell_type_names == cell_type)].copy()\n",
    "adata_pert_pred = adata_ctrl.copy()\n",
    "adata_pert_pred.X = pred"
   ]
  },
  {
   "cell_type": "code",
   "execution_count": 28,
   "metadata": {},
   "outputs": [
    {
     "name": "stderr",
     "output_type": "stream",
     "text": [
      "/om2/user/njwfish/anaconda/envs/dsbm/lib/python3.10/site-packages/scanpy/tools/_rank_genes_groups.py:322: RuntimeWarning: invalid value encountered in divide\n",
      "  scores[group_index, :] = (\n",
      "/om2/user/njwfish/anaconda/envs/dsbm/lib/python3.10/site-packages/anndata/_core/anndata.py:1818: UserWarning: Observation names are not unique. To make them unique, call `.obs_names_make_unique`.\n",
      "  utils.warn_names_duplicates(\"obs\")\n",
      "/om2/user/njwfish/anaconda/envs/dsbm/lib/python3.10/site-packages/scanpy/tools/_rank_genes_groups.py:322: RuntimeWarning: invalid value encountered in divide\n",
      "  scores[group_index, :] = (\n"
     ]
    }
   ],
   "source": [
    "degs = get_DEGs(adata_ctrl, adata_pert)\n",
    "degs_pred = get_DEGs(adata_ctrl, adata_pert_pred)\n",
    "\n",
    "pdefault=0.05\n",
    "\n",
    "significant_degs = degs[degs['pvals_adj'] < pdefault]\n",
    "significant_degs_pred = degs_pred[degs_pred['pvals_adj'] < pdefault]"
   ]
  },
  {
   "cell_type": "code",
   "execution_count": 31,
   "metadata": {},
   "outputs": [
    {
     "name": "stderr",
     "output_type": "stream",
     "text": [
      "/om2/user/njwfish/anaconda/envs/dsbm/lib/python3.10/site-packages/numpy/lib/function_base.py:2897: RuntimeWarning: invalid value encountered in divide\n",
      "  c /= stddev[:, None]\n",
      "/om2/user/njwfish/anaconda/envs/dsbm/lib/python3.10/site-packages/numpy/lib/function_base.py:2898: RuntimeWarning: invalid value encountered in divide\n",
      "  c /= stddev[None, :]\n",
      "/tmp/ipykernel_854526/2125490035.py:73: RuntimeWarning: divide by zero encountered in divide\n",
      "  true_diff = true_mean/ctrl_mean\n",
      "/tmp/ipykernel_854526/2125490035.py:73: RuntimeWarning: invalid value encountered in divide\n",
      "  true_diff = true_mean/ctrl_mean\n",
      "/tmp/ipykernel_854526/2125490035.py:74: RuntimeWarning: divide by zero encountered in divide\n",
      "  pred_diff = pred_mean/ctrl_mean\n",
      "/tmp/ipykernel_854526/2125490035.py:74: RuntimeWarning: invalid value encountered in divide\n",
      "  pred_diff = pred_mean/ctrl_mean\n"
     ]
    },
    {
     "name": "stdout",
     "output_type": "stream",
     "text": [
      "{'all_genes_mean_sub_diff_R': 0.05029209858854033, 'all_genes_mean_sub_diff_R2': 0.0025292951804394602, 'all_genes_mean_sub_diff_MSE': 0.36348496993582685, 'all_genes_mean_fold_diff_R': 0.16582671303629845, 'all_genes_mean_fold_diff_R2': 0.027498498756422875, 'all_genes_mean_fold_diff_MSE': 322.7634392561425, 'all_genes_mean_R': 0.6568438458438476, 'all_genes_mean_R2': 0.4314438378229362, 'all_genes_mean_MSE': 0.36348496993582685, 'all_genes_var_R': 0.6011030204631375, 'all_genes_var_R2': 0.36132484120990704, 'all_genes_var_MSE': 1.0966558748824586, 'all_genes_corr_mtx_R': 0.4622095705945211, 'all_genes_corr_mtx_R2': 0.21363768714917158, 'all_genes_corr_mtx_MSE': 0.0017465257027203752, 'all_genes_cov_mtx_R': 0.40612418943794526, 'all_genes_cov_mtx_R2': 0.16493685724662804, 'all_genes_cov_mtx_MSE': 0.0019094857114673165, 'Top_169_DEGs_sub_diff_R': 0.40730274960602525, 'Top_169_DEGs_sub_diff_R2': 0.1658955298366285, 'Top_169_DEGs_sub_diff_MSE': 1.0310371538274536, 'Top_169_DEGs_fold_diff_R': 0.7538742602197761, 'Top_169_DEGs_fold_diff_R2': 0.5683264002219147, 'Top_169_DEGs_fold_diff_MSE': 12.097732913614017, 'Top_169_DEGs_mean_R': 0.7031757888660759, 'Top_169_DEGs_mean_R2': 0.49445619004742813, 'Top_169_DEGs_mean_MSE': 1.0310371538274536, 'Top_169_DEGs_var_R': 0.6211348683741796, 'Top_169_DEGs_var_R2': 0.3858085247102095, 'Top_169_DEGs_var_MSE': 1.2561526828139595, 'Top_169_DEGs_corr_mtx_R': 0.7676730901435784, 'Top_169_DEGs_corr_mtx_R2': 0.5893219733305907, 'Top_169_DEGs_corr_mtx_MSE': 0.005108637105045374, 'Top_169_DEGs_cov_mtx_R': 0.6732105497283914, 'Top_169_DEGs_cov_mtx_R2': 0.45321244426560303, 'Top_169_DEGs_cov_mtx_MSE': 0.04855077667640257, 'Top_10_DEGs_sub_diff_R': 0.6992484218430987, 'Top_10_DEGs_sub_diff_R2': 0.48894835545006404, 'Top_10_DEGs_sub_diff_MSE': 1.7842125404212852, 'Top_10_DEGs_fold_diff_R': 0.5510739302335275, 'Top_10_DEGs_fold_diff_R2': 0.3036824765830267, 'Top_10_DEGs_fold_diff_MSE': 2.892582472245268, 'Top_10_DEGs_mean_R': 0.5621189852371262, 'Top_10_DEGs_mean_R2': 0.31597775356401653, 'Top_10_DEGs_mean_MSE': 1.7842125404212852, 'Top_10_DEGs_var_R': 0.39314307068247545, 'Top_10_DEGs_var_R2': 0.15456147402564588, 'Top_10_DEGs_var_MSE': 1.9805984683285014, 'Top_10_DEGs_corr_mtx_R': 0.9547929465115184, 'Top_10_DEGs_corr_mtx_R2': 0.9116295707081472, 'Top_10_DEGs_corr_mtx_MSE': 0.05437489492860716, 'Top_10_DEGs_cov_mtx_R': 0.8518846125356789, 'Top_10_DEGs_cov_mtx_R2': 0.7257073930750638, 'Top_10_DEGs_cov_mtx_MSE': 0.9121631049656201, 'Top_25_DEGs_sub_diff_R': 0.4279594968722425, 'Top_25_DEGs_sub_diff_R2': 0.18314933096314293, 'Top_25_DEGs_sub_diff_MSE': 1.300547739995496, 'Top_25_DEGs_fold_diff_R': 0.28667686750302196, 'Top_25_DEGs_fold_diff_R2': 0.08218362636134521, 'Top_25_DEGs_fold_diff_MSE': 14.940552040666562, 'Top_25_DEGs_mean_R': 0.7112899959182735, 'Top_25_DEGs_mean_R2': 0.5059334582934175, 'Top_25_DEGs_mean_MSE': 1.300547739995496, 'Top_25_DEGs_var_R': 0.5041903664039727, 'Top_25_DEGs_var_R2': 0.2542079255745723, 'Top_25_DEGs_var_MSE': 1.527315941983739, 'Top_25_DEGs_corr_mtx_R': 0.8614906052249464, 'Top_25_DEGs_corr_mtx_R2': 0.7421660628908444, 'Top_25_DEGs_corr_mtx_MSE': 0.029559770559943202, 'Top_25_DEGs_cov_mtx_R': 0.7603978746360156, 'Top_25_DEGs_cov_mtx_R2': 0.5782049277509697, 'Top_25_DEGs_cov_mtx_MSE': 0.34541530940612625, 'Top_50_DEGs_sub_diff_R': 0.5368730575605022, 'Top_50_DEGs_sub_diff_R2': 0.2882326799343623, 'Top_50_DEGs_sub_diff_MSE': 1.3830806482317168, 'Top_50_DEGs_fold_diff_R': 0.3561535657507714, 'Top_50_DEGs_fold_diff_R2': 0.12684536239698904, 'Top_50_DEGs_fold_diff_MSE': 8.229639248068736, 'Top_50_DEGs_mean_R': 0.7069391442860974, 'Top_50_DEGs_mean_R2': 0.4997629537239596, 'Top_50_DEGs_mean_MSE': 1.3830806482317168, 'Top_50_DEGs_var_R': 0.4905748860505822, 'Top_50_DEGs_var_R2': 0.2406637188235417, 'Top_50_DEGs_var_MSE': 1.6540388641832673, 'Top_50_DEGs_corr_mtx_R': 0.8415247338457175, 'Top_50_DEGs_corr_mtx_R2': 0.7081638776741056, 'Top_50_DEGs_corr_mtx_MSE': 0.01630374413979254, 'Top_50_DEGs_cov_mtx_R': 0.7376999949620783, 'Top_50_DEGs_cov_mtx_R2': 0.5442012825670504, 'Top_50_DEGs_cov_mtx_MSE': 0.1816886076373835, 'Top_100_DEGs_sub_diff_R': 0.5290948850941745, 'Top_100_DEGs_sub_diff_R2': 0.27994139743281765, 'Top_100_DEGs_sub_diff_MSE': 1.263020884476764, 'Top_100_DEGs_fold_diff_R': 0.8750708591847943, 'Top_100_DEGs_fold_diff_R2': 0.7657490085944142, 'Top_100_DEGs_fold_diff_MSE': 5.372624971792082, 'Top_100_DEGs_mean_R': 0.6971145535124207, 'Top_100_DEGs_mean_R2': 0.48596870071882164, 'Top_100_DEGs_mean_MSE': 1.263020884476764, 'Top_100_DEGs_var_R': 0.5392337471845308, 'Top_100_DEGs_var_R2': 0.2907730341026704, 'Top_100_DEGs_var_MSE': 1.463386481688099, 'Top_100_DEGs_corr_mtx_R': 0.8003350344463183, 'Top_100_DEGs_corr_mtx_R2': 0.6405361673621894, 'Top_100_DEGs_corr_mtx_MSE': 0.00823954929660351, 'Top_100_DEGs_cov_mtx_R': 0.7116565160197577, 'Top_100_DEGs_cov_mtx_R2': 0.5064549967933796, 'Top_100_DEGs_cov_mtx_MSE': 0.08816801465633574}\n"
     ]
    }
   ],
   "source": [
    "res = get_eval(adata_ctrl, adata_pert, adata_pert_pred, degs, [10, 25, 50, 100], pdefault, None)\n",
    "print(res)"
   ]
  },
  {
   "cell_type": "code",
   "execution_count": 30,
   "metadata": {},
   "outputs": [
    {
     "data": {
      "text/plain": [
       "(0, 2, 6, 18, 159)"
      ]
     },
     "execution_count": 30,
     "metadata": {},
     "output_type": "execute_result"
    }
   ],
   "source": [
    "len(significant_degs.index[:10].intersection(significant_degs_pred.index[:10])), \\\n",
    "len(significant_degs.index[:25].intersection(significant_degs_pred.index[:25])), \\\n",
    "len(significant_degs.index[:50].intersection(significant_degs_pred.index[:50])), \\\n",
    "len(significant_degs.index[:100].intersection(significant_degs_pred.index[:100])), \\\n",
    "len(significant_degs.index.intersection(significant_degs_pred.index))"
   ]
  },
  {
   "cell_type": "code",
   "execution_count": null,
   "metadata": {},
   "outputs": [],
   "source": []
  }
 ],
 "metadata": {
  "kernelspec": {
   "display_name": "dsbm",
   "language": "python",
   "name": "dsbm"
  },
  "language_info": {
   "codemirror_mode": {
    "name": "ipython",
    "version": 3
   },
   "file_extension": ".py",
   "mimetype": "text/x-python",
   "name": "python",
   "nbconvert_exporter": "python",
   "pygments_lexer": "ipython3",
   "version": "3.10.13"
  }
 },
 "nbformat": 4,
 "nbformat_minor": 4
}
